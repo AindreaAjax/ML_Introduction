{
 "cells": [
  {
   "cell_type": "markdown",
   "metadata": {},
   "source": [
    "**Table of contents**<a id='toc0_'></a>    \n",
    "- [A step by step approach towards understanding Python Decorators (with a very basic example)](#toc1_)    \n",
    "- [Real world examples of Python Decorators](#toc2_)    \n",
    "  - [Example 1: Logging](#toc2_1_)    \n",
    "  - [Example 2: Function timing](#toc2_2_)    \n",
    "  - [Example 3: Caching](#toc2_3_)    \n",
    "\n",
    "<!-- vscode-jupyter-toc-config\n",
    "\tnumbering=false\n",
    "\tanchor=true\n",
    "\tflat=false\n",
    "\tminLevel=2\n",
    "\tmaxLevel=5\n",
    "\t/vscode-jupyter-toc-config -->\n",
    "<!-- THIS CELL WILL BE REPLACED ON TOC UPDATE. DO NOT WRITE YOUR TEXT IN THIS CELL -->"
   ]
  },
  {
   "cell_type": "markdown",
   "metadata": {},
   "source": [
    "# Python Decorators"
   ]
  },
  {
   "cell_type": "markdown",
   "metadata": {},
   "source": [
    "A decorator is a function that takes another function as an argument and modifies the behavior of the passed function without explicitly changing the source code. Decorators have many different use cases but are typically used when minor changes need to be made to many different functions."
   ]
  },
  {
   "cell_type": "markdown",
   "metadata": {},
   "source": [
    "Before we delve into decorators any further, let's first understand two interesting facts about python functions.\n",
    "- Using Functions as First-Class Citizens: In Python, functions can be assigned to variables, passed as arguments to other functions, and returned from functions. This property makes decorators possible.\n",
    "\n",
    "- Nested Functions: Python allows functions to be defined within other functions and a decorator is often implemented as a nested function. We will see its benefit shortly."
   ]
  },
  {
   "cell_type": "markdown",
   "metadata": {},
   "source": [
    "## <a id='toc1_'></a>[A step by step approach towards understanding Python Decorators (with a very basic example)](#toc0_)"
   ]
  },
  {
   "cell_type": "code",
   "execution_count": 1,
   "metadata": {},
   "outputs": [],
   "source": [
    "# let's say we have an adder function that adds two numbers\n",
    "def adder(a, b):\n",
    "    result = a + b\n",
    "    print(f\"Result: {result}\")\n",
    "    return result"
   ]
  },
  {
   "cell_type": "code",
   "execution_count": 2,
   "metadata": {},
   "outputs": [
    {
     "name": "stdout",
     "output_type": "stream",
     "text": [
      "Result: 8\n"
     ]
    }
   ],
   "source": [
    "x = adder(5, 3)"
   ]
  },
  {
   "cell_type": "code",
   "execution_count": 3,
   "metadata": {},
   "outputs": [
    {
     "name": "stdout",
     "output_type": "stream",
     "text": [
      "8\n"
     ]
    }
   ],
   "source": [
    "print(x)"
   ]
  },
  {
   "cell_type": "markdown",
   "metadata": {},
   "source": [
    "Now, let's say we want to print a welcome message when the function starts to execute and a closing message  when the work is done. Our first instinct would be to use a modified adder function where we use some print satements."
   ]
  },
  {
   "cell_type": "code",
   "execution_count": 4,
   "metadata": {},
   "outputs": [],
   "source": [
    "def adder_v2(a, b):\n",
    "    print(\"Welcome. The function will now start your calculations.\")\n",
    "    result = a + b\n",
    "    print(f\"Result: {result}\")\n",
    "    print(\"Success! The function ran without any Errors.\")\n",
    "    return result"
   ]
  },
  {
   "cell_type": "code",
   "execution_count": 5,
   "metadata": {},
   "outputs": [
    {
     "name": "stdout",
     "output_type": "stream",
     "text": [
      "Welcome. The function will now start your calculations.\n",
      "Result: 8\n",
      "Success! The function ran without any Errors.\n"
     ]
    }
   ],
   "source": [
    "x = adder_v2(5, 3)"
   ]
  },
  {
   "cell_type": "code",
   "execution_count": 6,
   "metadata": {},
   "outputs": [
    {
     "name": "stdout",
     "output_type": "stream",
     "text": [
      "8\n"
     ]
    }
   ],
   "source": [
    "print(x)"
   ]
  },
  {
   "cell_type": "markdown",
   "metadata": {},
   "source": [
    "But there are some problems with this approach.\n",
    "1. This becomes very inefficient when we want to add this functionality (of printing welcome messages) to 100s of such other functions. It's not feasible to modify all of them one by one (it's time inefficient and also space inefficient since we have to repeat the same code over and over again). \n",
    "2. Even if it's somehow possible (and feasible) to modify all those functions one by one, there remains another problem at hand. It is very likely that the functions we want to modify were written by other people who had very specific tasks in mind when they wrote them. So if we go and change the code of some 100s of functions, it is very likely that we will break the existing code."
   ]
  },
  {
   "cell_type": "markdown",
   "metadata": {},
   "source": [
    "So let's think about some solution. One comes to mind. Since we don't want to repeat the same code again and again, can't we define a function to print our message and then just call that function inside the existing functions? Let's try that."
   ]
  },
  {
   "cell_type": "code",
   "execution_count": 7,
   "metadata": {},
   "outputs": [],
   "source": [
    "def print_msg():\n",
    "    print(\"Welcome. The function will now start your calculations.\")\n",
    "    print(\"Success! The function ran without any Errors.\")"
   ]
  },
  {
   "cell_type": "code",
   "execution_count": 8,
   "metadata": {},
   "outputs": [],
   "source": [
    "# now let's modify the source code\n",
    "def adder_v3(a, b):\n",
    "    print_msg()\n",
    "    result = a + b\n",
    "    print(f\"Result: {result}\")\n",
    "    return result"
   ]
  },
  {
   "cell_type": "code",
   "execution_count": 9,
   "metadata": {},
   "outputs": [
    {
     "name": "stdout",
     "output_type": "stream",
     "text": [
      "Welcome. The function will now start your calculations.\n",
      "Success! The function ran without any Errors.\n",
      "Result: 8\n"
     ]
    }
   ],
   "source": [
    "x = adder_v3(5, 3)"
   ]
  },
  {
   "cell_type": "code",
   "execution_count": 10,
   "metadata": {},
   "outputs": [
    {
     "data": {
      "text/plain": [
       "8"
      ]
     },
     "execution_count": 10,
     "metadata": {},
     "output_type": "execute_result"
    }
   ],
   "source": [
    "x"
   ]
  },
  {
   "cell_type": "markdown",
   "metadata": {},
   "source": [
    "As you might've guessed this executes without any error but it's not exactly how we would want it to work. The result is printed at the end and not in between the messages. Even if we ignore that for now, there are still more problems. We would have to call the message printer function inside each of the existing functions if we wanted to modify all those 100s of functions, and this is not very efficient. Also, in this particular case the printer function doesn't take any argument but it will always not be the case and we would've needed to pass the arguments to the modifier function if there were any. So, we are back to square one."
   ]
  },
  {
   "cell_type": "markdown",
   "metadata": {},
   "source": [
    "But don't despair. We are in the right path. We just need to be a bit more creative. So what if instead of calling the printer function inside the existing functions we just pass the existing function we want to modify as an argument to the existing function and then call it inside the existing function? Let's see how that works out."
   ]
  },
  {
   "cell_type": "code",
   "execution_count": 11,
   "metadata": {},
   "outputs": [],
   "source": [
    "# since functions are first class citizens (more simply they are objects like every other thing in python is),\n",
    "# we can take them as an argument to other functions, we can return them from inside of a function and also\n",
    "# we can assign them to variables (that variable can then be used to access the mother function)\n",
    "def func_modifier(func):\n",
    "    print(\"Welcome. The function will now start your calculations.\")\n",
    "    result = func()\n",
    "    print(f\"Result: {result}\")\n",
    "    print(\"Success! The function ran without any Errors.\")\n",
    "    return result"
   ]
  },
  {
   "cell_type": "code",
   "execution_count": 12,
   "metadata": {},
   "outputs": [
    {
     "name": "stdout",
     "output_type": "stream",
     "text": [
      "Welcome. The function will now start your calculations.\n",
      "adder() missing 2 required positional arguments: 'a' and 'b'\n"
     ]
    }
   ],
   "source": [
    "# now let's see if we've been clever enough\n",
    "try:\n",
    "    func_modifier(adder)\n",
    "except Exception as err_msg:\n",
    "    print(err_msg)"
   ]
  },
  {
   "cell_type": "markdown",
   "metadata": {},
   "source": [
    "It seems like we've gotten to the 2nd line of the \"func_modifier()\" function but then it thows an error. This is because the adder function is expecting 2 arguments but we are not passing any arguments to it. So we need to pass the arguments to the adder function as well. So how can we do that?"
   ]
  },
  {
   "cell_type": "markdown",
   "metadata": {},
   "source": [
    "One approach would be to pass the arguments for the adder function along with the func itself when we are calling the \"func_modifier()\" function i.e, \"func_modifier(adder, a, b)...\" (something like that) and then use those \"a\" and \"b\" to call the adder function from inside the modifier function. \n",
    "\n",
    "But here's the problem with this approach. How do we know that the functions we will be modifying all have the same number of arguments? What if some functions have 2 arguments, some have 3, some have 4 and so on? We can't possibly know that. \n",
    "\n",
    "<i> `Enter *args and **kwargs to the rescue.` *args and **kwargs can be used to take in any number of positional and keyword arguments.</i> Let's try it out."
   ]
  },
  {
   "cell_type": "code",
   "execution_count": 13,
   "metadata": {},
   "outputs": [],
   "source": [
    "def func_modifier(func, *args, **kwargs):\n",
    "    print(\"Welcome. The function will now start your calculations.\")\n",
    "    result = func(*args, **kwargs)\n",
    "    print(\"Success! The function ran without any Errors.\")\n",
    "    return result"
   ]
  },
  {
   "cell_type": "code",
   "execution_count": 14,
   "metadata": {},
   "outputs": [
    {
     "name": "stdout",
     "output_type": "stream",
     "text": [
      "Welcome. The function will now start your calculations.\n",
      "Result: 8\n",
      "Success! The function ran without any Errors.\n"
     ]
    },
    {
     "data": {
      "text/plain": [
       "8"
      ]
     },
     "execution_count": 14,
     "metadata": {},
     "output_type": "execute_result"
    }
   ],
   "source": [
    "func_modifier(adder, 5, 3)"
   ]
  },
  {
   "cell_type": "markdown",
   "metadata": {},
   "source": [
    "This is almost exactly what we want but actually we're not quite there yet. Actually we would want to assign an instance of this modified adder function to a variable so that we can use it later on in our code without having to instantiate the function over and over again. Currently we can't do that. This is because the modified adder function is not returning an instance of the function rather it just returns an integer value."
   ]
  },
  {
   "cell_type": "code",
   "execution_count": 15,
   "metadata": {},
   "outputs": [
    {
     "name": "stdout",
     "output_type": "stream",
     "text": [
      "Welcome. The function will now start your calculations.\n",
      "Result: 8\n",
      "Success! The function ran without any Errors.\n"
     ]
    }
   ],
   "source": [
    "x = func_modifier(adder, 5, 3)"
   ]
  },
  {
   "cell_type": "code",
   "execution_count": 16,
   "metadata": {},
   "outputs": [
    {
     "data": {
      "text/plain": [
       "int"
      ]
     },
     "execution_count": 16,
     "metadata": {},
     "output_type": "execute_result"
    }
   ],
   "source": [
    "type(x)"
   ]
  },
  {
   "cell_type": "markdown",
   "metadata": {},
   "source": [
    "So let's modify our code so that it returns a function instead of an integer."
   ]
  },
  {
   "cell_type": "code",
   "execution_count": 17,
   "metadata": {},
   "outputs": [],
   "source": [
    "def func_modifier_v2(func, *args, **kwargs):\n",
    "    print(\"Welcome. The function will now start your calculations.\")\n",
    "    rv = func  # we just want to return the function instead of calling it directly\n",
    "    print(\"Success! The function ran without any Errors.\")\n",
    "    return rv"
   ]
  },
  {
   "cell_type": "code",
   "execution_count": 18,
   "metadata": {},
   "outputs": [
    {
     "name": "stdout",
     "output_type": "stream",
     "text": [
      "Welcome. The function will now start your calculations.\n",
      "Success! The function ran without any Errors.\n"
     ]
    }
   ],
   "source": [
    "x = func_modifier_v2(adder, 5, 3)"
   ]
  },
  {
   "cell_type": "markdown",
   "metadata": {},
   "source": [
    "One problem. The print statements are printed prematurely. We don't want them to be printed until the adder function is called. Let's hold it off for a bit and continue, to see if there's any other problem with this code."
   ]
  },
  {
   "cell_type": "code",
   "execution_count": 19,
   "metadata": {},
   "outputs": [
    {
     "data": {
      "text/plain": [
       "<function __main__.adder(a, b)>"
      ]
     },
     "execution_count": 19,
     "metadata": {},
     "output_type": "execute_result"
    }
   ],
   "source": [
    "x"
   ]
  },
  {
   "cell_type": "code",
   "execution_count": 20,
   "metadata": {},
   "outputs": [
    {
     "name": "stdout",
     "output_type": "stream",
     "text": [
      "adder() missing 2 required positional arguments: 'a' and 'b'\n"
     ]
    }
   ],
   "source": [
    "try:\n",
    "    x()\n",
    "except Exception as err_msg:\n",
    "    print(err_msg)"
   ]
  },
  {
   "cell_type": "markdown",
   "metadata": {},
   "source": [
    "Hmm... That's not what we expected. We've already defined, *x = func_modifier_v2(adder, 5, 3)* with the numbers we want to add. So, why it's throwing this error? We thought we fixed it back when we defined with *args and **kwargs i.e, <i>func_modifier(func, *args, **kwargs)</i>. So what's wrong? \n",
    "\n",
    "Well, if you look closely, you can see that in our new version, the func_modifier_v2(), in line 3 when we use *rv = func* we don't call it. This is for a reason though. We want to have a function returned and not a number. That's why we wrote it like that. So how we do solve this?"
   ]
  },
  {
   "cell_type": "markdown",
   "metadata": {},
   "source": [
    "What we can do is, we can call the function instance stored in the variable \"x\" with arguments \"a\" and \"b\"."
   ]
  },
  {
   "cell_type": "markdown",
   "metadata": {},
   "source": [
    "**Note:** If the code worked then it would've been problematic too. Why? Because we would've had to repeat the *func_modifier(func, a, b)* statement whenever we wanted to use the adder function."
   ]
  },
  {
   "cell_type": "code",
   "execution_count": 21,
   "metadata": {},
   "outputs": [
    {
     "name": "stdout",
     "output_type": "stream",
     "text": [
      "Result: 8\n"
     ]
    },
    {
     "data": {
      "text/plain": [
       "8"
      ]
     },
     "execution_count": 21,
     "metadata": {},
     "output_type": "execute_result"
    }
   ],
   "source": [
    "x(3, 5)"
   ]
  },
  {
   "cell_type": "markdown",
   "metadata": {},
   "source": [
    "But this doesn't print our welcome and end messages, which was the main point of creating this modifier function in the first place."
   ]
  },
  {
   "cell_type": "markdown",
   "metadata": {},
   "source": [
    "So let's get our priorities straight. In addition to what we've achieved till the \"func_modifier(func, *args, **kwargs)\" function,\n",
    "1. We want to print our messages when the function starts to execute and when it's done executing and not before or after that.\n",
    "2. We want to return a function instance and not a value."
   ]
  },
  {
   "cell_type": "markdown",
   "metadata": {},
   "source": [
    "How do we do this? Look no more. *`Nested functions to the rescue`*."
   ]
  },
  {
   "cell_type": "code",
   "execution_count": 22,
   "metadata": {},
   "outputs": [],
   "source": [
    "def func_modifier_v3(func, *args, **kwargs):\n",
    "    def wrapper():\n",
    "        print(\"Welcome. The function will now start your calculations.\")\n",
    "        rv = func(*args, **kwargs)\n",
    "        print(\"Success! The function ran without any Errors.\")\n",
    "        return rv\n",
    "\n",
    "    return wrapper"
   ]
  },
  {
   "cell_type": "code",
   "execution_count": 23,
   "metadata": {},
   "outputs": [],
   "source": [
    "x = func_modifier_v3(adder, 3, 5)"
   ]
  },
  {
   "cell_type": "code",
   "execution_count": 24,
   "metadata": {},
   "outputs": [
    {
     "data": {
      "text/plain": [
       "<function __main__.func_modifier_v3.<locals>.wrapper()>"
      ]
     },
     "execution_count": 24,
     "metadata": {},
     "output_type": "execute_result"
    }
   ],
   "source": [
    "x"
   ]
  },
  {
   "cell_type": "code",
   "execution_count": 25,
   "metadata": {},
   "outputs": [
    {
     "name": "stdout",
     "output_type": "stream",
     "text": [
      "Welcome. The function will now start your calculations.\n",
      "Result: 8\n",
      "Success! The function ran without any Errors.\n"
     ]
    },
    {
     "data": {
      "text/plain": [
       "8"
      ]
     },
     "execution_count": 25,
     "metadata": {},
     "output_type": "execute_result"
    }
   ],
   "source": [
    "x()"
   ]
  },
  {
   "cell_type": "markdown",
   "metadata": {},
   "source": [
    "We're almost there. Think about this a bit more critically. Our purpose of returning a function was to ensure that we can use that function instance later on in our code after assigning it to a variable **once**. But we can't do that with the current code. \n",
    "\n",
    "Why? Because we need to supply the \"a\" and \"b\" arguments for the adder when we instantiated \"x\". So it's stuck with the initial values of \"a\" and \"b\". If we wanted to use different sets of values we would need to call the \"func_modifier_v3()\" function again with the new arguments. This completely defeats the puropose of returning a function instance. So what do we do?\n",
    "\n",
    "We can rewrite our modifier function so that it doesn't directly receive the arguments for the adder function (or whatever function it is called with). Rather, the function it returns i.e, the wrapper() function should receive those *args and **kwargs instead."
   ]
  },
  {
   "cell_type": "code",
   "execution_count": 26,
   "metadata": {},
   "outputs": [],
   "source": [
    "def func_modifier_v4(func):\n",
    "    def wrapper(*args, **kwargs):\n",
    "        print(\"Welcome. The function will now start your calculations.\")\n",
    "        rv = func(*args, **kwargs)\n",
    "        print(\"Success! The function ran without any Errors.\")\n",
    "        return rv\n",
    "\n",
    "    return wrapper"
   ]
  },
  {
   "cell_type": "code",
   "execution_count": 27,
   "metadata": {},
   "outputs": [],
   "source": [
    "x = func_modifier_v4(adder)"
   ]
  },
  {
   "cell_type": "code",
   "execution_count": 28,
   "metadata": {},
   "outputs": [
    {
     "data": {
      "text/plain": [
       "<function __main__.func_modifier_v4.<locals>.wrapper(*args, **kwargs)>"
      ]
     },
     "execution_count": 28,
     "metadata": {},
     "output_type": "execute_result"
    }
   ],
   "source": [
    "x"
   ]
  },
  {
   "cell_type": "code",
   "execution_count": 29,
   "metadata": {},
   "outputs": [
    {
     "name": "stdout",
     "output_type": "stream",
     "text": [
      "Welcome. The function will now start your calculations.\n",
      "Result: 8\n",
      "Success! The function ran without any Errors.\n"
     ]
    },
    {
     "data": {
      "text/plain": [
       "8"
      ]
     },
     "execution_count": 29,
     "metadata": {},
     "output_type": "execute_result"
    }
   ],
   "source": [
    "x(5, 3)"
   ]
  },
  {
   "cell_type": "code",
   "execution_count": 30,
   "metadata": {},
   "outputs": [
    {
     "name": "stdout",
     "output_type": "stream",
     "text": [
      "Welcome. The function will now start your calculations.\n",
      "Result: 13\n",
      "Success! The function ran without any Errors.\n"
     ]
    },
    {
     "data": {
      "text/plain": [
       "13"
      ]
     },
     "execution_count": 30,
     "metadata": {},
     "output_type": "execute_result"
    }
   ],
   "source": [
    "x(4, 9)"
   ]
  },
  {
   "cell_type": "markdown",
   "metadata": {},
   "source": [
    "*One last thing. You've probably seen examples of applying decorators with the @ Symbol.* `The common way of applying decorators is using the @ symbol followed by the decorator function name and then defining the source function immediately after that.` This is essentially the same as using, *`func = decorator_func(func)`*."
   ]
  },
  {
   "cell_type": "code",
   "execution_count": 31,
   "metadata": {},
   "outputs": [],
   "source": [
    "adder = func_modifier_v4(adder)"
   ]
  },
  {
   "cell_type": "code",
   "execution_count": 32,
   "metadata": {},
   "outputs": [
    {
     "data": {
      "text/plain": [
       "<function __main__.func_modifier_v4.<locals>.wrapper(*args, **kwargs)>"
      ]
     },
     "execution_count": 32,
     "metadata": {},
     "output_type": "execute_result"
    }
   ],
   "source": [
    "adder"
   ]
  },
  {
   "cell_type": "code",
   "execution_count": 33,
   "metadata": {},
   "outputs": [
    {
     "name": "stdout",
     "output_type": "stream",
     "text": [
      "Welcome. The function will now start your calculations.\n",
      "Result: 10\n",
      "Success! The function ran without any Errors.\n"
     ]
    },
    {
     "data": {
      "text/plain": [
       "10"
      ]
     },
     "execution_count": 33,
     "metadata": {},
     "output_type": "execute_result"
    }
   ],
   "source": [
    "adder(5, 5)"
   ]
  },
  {
   "cell_type": "code",
   "execution_count": 34,
   "metadata": {},
   "outputs": [],
   "source": [
    "# the common way of using decorators\n",
    "@func_modifier_v4\n",
    "def adder_v3(a, b):\n",
    "    print_msg()\n",
    "    result = a + b\n",
    "    print(f\"Result: {result}\")\n",
    "    return result"
   ]
  },
  {
   "cell_type": "code",
   "execution_count": 35,
   "metadata": {},
   "outputs": [
    {
     "name": "stdout",
     "output_type": "stream",
     "text": [
      "Welcome. The function will now start your calculations.\n",
      "Result: 10\n",
      "Success! The function ran without any Errors.\n"
     ]
    },
    {
     "data": {
      "text/plain": [
       "10"
      ]
     },
     "execution_count": 35,
     "metadata": {},
     "output_type": "execute_result"
    }
   ],
   "source": [
    "adder(5, 5)"
   ]
  },
  {
   "cell_type": "markdown",
   "metadata": {},
   "source": [
    "#### <a id='toc1_1_1_'></a>[This in essence, is your Python Decorator!!!](#toc0_)"
   ]
  },
  {
   "cell_type": "markdown",
   "metadata": {},
   "source": [
    "> A bit more details about the advantages of using the outer function around the wrapper function instead of just a standalone decorator function - "
   ]
  },
  {
   "cell_type": "markdown",
   "metadata": {},
   "source": [
    "1. Cleaner and More Readable Code\n",
    "\n",
    "2. Flexibility with Arguments: In the outer function approach, the decorator (outer function) can accept arguments that can be used to customize the behavior of the decorator (i.e, the wrapper). This allows you to configure the decorator differently for different use cases.\n",
    "\n",
    "3. Support for Function Signature: The outer function approach maintains the original function's signature. In the standalone wrapper approach, you lose the original function's signature, making it less flexible for functions with varying arguments.\n",
    "\n",
    "4. Decorator Chaining: With the outer function approach, you can easily chain multiple decorators together by applying them sequentially. This is more challenging with the standalone wrapper approach."
   ]
  },
  {
   "cell_type": "markdown",
   "metadata": {},
   "source": [
    "## <a id='toc2_'></a>[Real world examples of Python Decorators](#toc0_)"
   ]
  },
  {
   "cell_type": "markdown",
   "metadata": {},
   "source": [
    "Decorators are used in various scenarios, including:\n",
    "\n",
    "- Logging: Record function calls, arguments, and return values for debugging.\n",
    "\n",
    "- Authentication: Verify user credentials before allowing access to certain functions or routes in web applications.\n",
    "\n",
    "- Caching: Store and reuse the results of expensive function calls to improve performance.\n",
    "\n",
    "- Timing: Measure the execution time of functions for performance optimization etc."
   ]
  },
  {
   "cell_type": "markdown",
   "metadata": {},
   "source": [
    "### <a id='toc2_1_'></a>[Example 1: Logging](#toc0_)"
   ]
  },
  {
   "cell_type": "code",
   "execution_count": 2,
   "metadata": {},
   "outputs": [],
   "source": [
    "def log_function_call(func):\n",
    "    def wrapper(*args, **kwargs):\n",
    "        print(\n",
    "            f\"The function named '{func.__name__}' was called with args = {args} and kwargs={kwargs}.\"\n",
    "        )\n",
    "        rv = func(*args, **kwargs)\n",
    "        print(f\"Output from called function '{func.__name__}':\\n{rv}\")\n",
    "        return rv\n",
    "\n",
    "    return wrapper"
   ]
  },
  {
   "cell_type": "code",
   "execution_count": 3,
   "metadata": {},
   "outputs": [],
   "source": [
    "@log_function_call\n",
    "def add_two(a):\n",
    "    return a + 2"
   ]
  },
  {
   "cell_type": "code",
   "execution_count": 4,
   "metadata": {},
   "outputs": [
    {
     "name": "stdout",
     "output_type": "stream",
     "text": [
      "The function named 'add_two' was called with args = (10,) and kwargs={}.\n",
      "Output from called function 'add_two':\n",
      "12\n"
     ]
    },
    {
     "data": {
      "text/plain": [
       "12"
      ]
     },
     "execution_count": 4,
     "metadata": {},
     "output_type": "execute_result"
    }
   ],
   "source": [
    "add_two(10)"
   ]
  },
  {
   "cell_type": "markdown",
   "metadata": {},
   "source": [
    "### <a id='toc2_2_'></a>[Example 2: Function timing](#toc0_)"
   ]
  },
  {
   "cell_type": "code",
   "execution_count": 12,
   "metadata": {},
   "outputs": [],
   "source": [
    "import time"
   ]
  },
  {
   "cell_type": "code",
   "execution_count": 21,
   "metadata": {},
   "outputs": [],
   "source": [
    "def time_function_execution(func):\n",
    "    def wrapper(*args, **kwargs):\n",
    "        start = time.perf_counter()\n",
    "        # time.perf_counter is more suitable for timing function execution than time.time\n",
    "        rv = func(*args, **kwargs)\n",
    "        end = time.perf_counter()\n",
    "        execution_time = end - start\n",
    "        print(\n",
    "            f\"The function named, '{func.__name__}' took {execution_time} seconds for execution\"\n",
    "        )\n",
    "        return rv  # comment out to suppress the output from printing when called without assignment\n",
    "\n",
    "    return wrapper"
   ]
  },
  {
   "cell_type": "code",
   "execution_count": 22,
   "metadata": {},
   "outputs": [],
   "source": [
    "@time_function_execution\n",
    "def add_two_to_all_in_range(a):\n",
    "    lst = []\n",
    "    for i in range(a):\n",
    "        lst.append(i + 2)\n",
    "    return lst"
   ]
  },
  {
   "cell_type": "code",
   "execution_count": 23,
   "metadata": {},
   "outputs": [
    {
     "name": "stdout",
     "output_type": "stream",
     "text": [
      "The function named, 'add_two_to_all_in_range' took 0.12004521099993326 seconds for execution\n"
     ]
    }
   ],
   "source": [
    "x = add_two_to_all_in_range(10**6)"
   ]
  },
  {
   "cell_type": "markdown",
   "metadata": {},
   "source": [
    "### <a id='toc2_3_'></a>[Example 3: Caching](#toc0_)"
   ]
  },
  {
   "cell_type": "code",
   "execution_count": 36,
   "metadata": {},
   "outputs": [],
   "source": [
    "def cacher(func):\n",
    "    cache_dict = {}\n",
    "\n",
    "    def wrapper(*args):\n",
    "        # first check if the value is cached\n",
    "        if args in cache_dict:\n",
    "            print(\"Cache hit!\")\n",
    "            result = cache_dict[args]\n",
    "        else:\n",
    "            result = func(*args)\n",
    "            cache_dict[args] = result  # dict keys are tuples of the form (a, )\n",
    "\n",
    "        return result\n",
    "\n",
    "    return wrapper"
   ]
  },
  {
   "cell_type": "code",
   "execution_count": 42,
   "metadata": {},
   "outputs": [],
   "source": [
    "@cacher\n",
    "def factorial(a):\n",
    "    if a <= 1:\n",
    "        return 1\n",
    "    else:\n",
    "        result = a * factorial(a - 1)\n",
    "    return result"
   ]
  },
  {
   "cell_type": "code",
   "execution_count": 43,
   "metadata": {},
   "outputs": [
    {
     "data": {
      "text/plain": [
       "3628800"
      ]
     },
     "execution_count": 43,
     "metadata": {},
     "output_type": "execute_result"
    }
   ],
   "source": [
    "factorial(10)"
   ]
  },
  {
   "cell_type": "code",
   "execution_count": 44,
   "metadata": {},
   "outputs": [
    {
     "name": "stdout",
     "output_type": "stream",
     "text": [
      "Cache hit!\n"
     ]
    },
    {
     "data": {
      "text/plain": [
       "120"
      ]
     },
     "execution_count": 44,
     "metadata": {},
     "output_type": "execute_result"
    }
   ],
   "source": [
    "factorial(5)"
   ]
  },
  {
   "cell_type": "code",
   "execution_count": null,
   "metadata": {},
   "outputs": [],
   "source": []
  }
 ],
 "metadata": {
  "kernelspec": {
   "display_name": "ml_intro",
   "language": "python",
   "name": "python3"
  },
  "language_info": {
   "codemirror_mode": {
    "name": "ipython",
    "version": 3
   },
   "file_extension": ".py",
   "mimetype": "text/x-python",
   "name": "python",
   "nbconvert_exporter": "python",
   "pygments_lexer": "ipython3",
   "version": "3.11.4"
  },
  "orig_nbformat": 4
 },
 "nbformat": 4,
 "nbformat_minor": 2
}
