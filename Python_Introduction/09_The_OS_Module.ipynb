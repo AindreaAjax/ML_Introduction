{
 "cells": [
  {
   "cell_type": "markdown",
   "id": "36c1e06f",
   "metadata": {},
   "source": [
    "**Table of contents**<a id='toc0_'></a>    \n",
    "- [The OS Module](#toc1_)    \n",
    "    - [Useful functions in the OS module](#toc1_1_1_)    \n",
    "\n",
    "<!-- vscode-jupyter-toc-config\n",
    "\tnumbering=false\n",
    "\tanchor=true\n",
    "\tflat=false\n",
    "\tminLevel=2\n",
    "\tmaxLevel=4\n",
    "\t/vscode-jupyter-toc-config -->\n",
    "<!-- THIS CELL WILL BE REPLACED ON TOC UPDATE. DO NOT WRITE YOUR TEXT IN THIS CELL -->"
   ]
  },
  {
   "cell_type": "markdown",
   "metadata": {},
   "source": [
    "## <a id='toc1_'></a>[The OS Module](#toc0_)"
   ]
  },
  {
   "attachments": {},
   "cell_type": "markdown",
   "id": "d69d9aca-d575-4f36-8386-879fda0043a7",
   "metadata": {},
   "source": [
    "The OS module allows us to interact with the underlying operating system in several different ways such as -\n",
    "\n",
    "- Navigate the file system\n",
    "- Get file information\n",
    "- Look up and change the environment variables\n",
    "- Move files around\n",
    "\n",
    "and many more."
   ]
  },
  {
   "cell_type": "code",
   "execution_count": 1,
   "id": "20cc3fef",
   "metadata": {},
   "outputs": [],
   "source": [
    "# To begin we import the os module. This is a built in module and no third party modules are needed to be installed.\n",
    "import os"
   ]
  },
  {
   "cell_type": "markdown",
   "metadata": {},
   "source": [
    "#### <a id='toc1_1_1_'></a>[Useful functions in the OS module](#toc0_)"
   ]
  },
  {
   "attachments": {},
   "cell_type": "markdown",
   "id": "04ac84ad-3f52-433d-b346-64e5c458a226",
   "metadata": {},
   "source": [
    "- Get current working directory"
   ]
  },
  {
   "cell_type": "code",
   "execution_count": 2,
   "id": "ecbdc65a-6106-4076-bf6d-c876196567c3",
   "metadata": {},
   "outputs": [
    {
     "data": {
      "text/plain": [
       "'/home/maidul/Work/Work Data/ML_Intro/Python_Basics'"
      ]
     },
     "execution_count": 2,
     "metadata": {},
     "output_type": "execute_result"
    }
   ],
   "source": [
    "os.getcwd()"
   ]
  },
  {
   "attachments": {},
   "cell_type": "markdown",
   "id": "a472d2e3-1966-4682-ac99-f3beb9bb750f",
   "metadata": {},
   "source": [
    "- Changing the working directory"
   ]
  },
  {
   "cell_type": "code",
   "execution_count": 3,
   "id": "36f59c5f-8d9e-4261-a03c-6558fb2595e3",
   "metadata": {},
   "outputs": [],
   "source": [
    "os.chdir(\"../\")  # go one folder up"
   ]
  },
  {
   "cell_type": "code",
   "execution_count": 4,
   "id": "0c4ecf94-9fff-4f09-b7fb-37821969ff32",
   "metadata": {},
   "outputs": [
    {
     "data": {
      "text/plain": [
       "'/home/maidul/Work/Work Data/ML_Intro/Python_Basics'"
      ]
     },
     "execution_count": 4,
     "metadata": {},
     "output_type": "execute_result"
    }
   ],
   "source": [
    "os.chdir(\"/home/maidul/Work/Work Data/ML_Intro/Python_Basics/\")\n",
    "os.getcwd()"
   ]
  },
  {
   "attachments": {},
   "cell_type": "markdown",
   "id": "165597ea-e956-44ba-83f9-0d961040db02",
   "metadata": {},
   "source": [
    "- Listing the files and folders in a directory"
   ]
  },
  {
   "cell_type": "code",
   "execution_count": 5,
   "id": "e4a1bba2-9a12-49bb-ba33-f4eff1a52d99",
   "metadata": {},
   "outputs": [
    {
     "data": {
      "text/plain": [
       "['exFile.txt',\n",
       " 'exCSV.csv',\n",
       " '03. Controlling the Flow of a Program.ipynb',\n",
       " '.ipynb_checkpoints',\n",
       " 'Projects',\n",
       " '05. Classes (OOP).ipynb',\n",
       " '09. The OS Module.ipynb',\n",
       " '02. Data Types.ipynb',\n",
       " '06. Exception Handling.ipynb',\n",
       " '.virtual_documents',\n",
       " '10. The Sys Module.py',\n",
       " 'factorial_calc.py',\n",
       " '04. Modules and Functions.ipynb',\n",
       " '__pycache__',\n",
       " '01. Basic Concepts.ipynb',\n",
       " '08. Debugging.ipynb',\n",
       " '07. File Handling.ipynb']"
      ]
     },
     "execution_count": 5,
     "metadata": {},
     "output_type": "execute_result"
    }
   ],
   "source": [
    "os.listdir()  # you can pass a path, but by default it is in the current directory"
   ]
  },
  {
   "attachments": {},
   "cell_type": "markdown",
   "id": "3ec46edd-5dd2-414d-b2a9-bbc53cc90b82",
   "metadata": {},
   "source": [
    "- Creating files"
   ]
  },
  {
   "cell_type": "code",
   "execution_count": 6,
   "id": "8ebf2ed6-8453-4794-bf66-545ad94ce6d9",
   "metadata": {},
   "outputs": [],
   "source": [
    "with open(\"test.txt\", \"w\") as test_file:\n",
    "    test_file.write(\n",
    "        \"This is a test file, created for demonstrating file creation process using the os module.\"\n",
    "    )"
   ]
  },
  {
   "attachments": {},
   "cell_type": "markdown",
   "id": "dc65dec0-d7ce-47dd-86ec-1335b4162702",
   "metadata": {},
   "source": [
    "- Creating directories"
   ]
  },
  {
   "cell_type": "code",
   "execution_count": 7,
   "id": "9f96a1c0-2063-4393-93ce-55c6d92cd93c",
   "metadata": {},
   "outputs": [],
   "source": [
    "os.mkdir(\"./exDir01\")  # Used for making one directory"
   ]
  },
  {
   "attachments": {},
   "cell_type": "markdown",
   "id": "fe11aecc-cfad-4e92-aaf4-7d7e566aecd5",
   "metadata": {},
   "source": [
    "- While making leaf directory if any intermediate-level directory is missing, os.makedirs() method will create them all."
   ]
  },
  {
   "cell_type": "code",
   "execution_count": 8,
   "id": "973c0d2c-e7a8-429e-a75b-ab9714b3486f",
   "metadata": {},
   "outputs": [],
   "source": [
    "os.makedirs(\"./exDir02/exDir03\")"
   ]
  },
  {
   "cell_type": "code",
   "execution_count": 9,
   "id": "0486f7e0-d051-4c7c-815e-4ecfc40f21b6",
   "metadata": {},
   "outputs": [
    {
     "data": {
      "text/plain": [
       "['exFile.txt',\n",
       " 'exCSV.csv',\n",
       " '03. Controlling the Flow of a Program.ipynb',\n",
       " '.ipynb_checkpoints',\n",
       " 'Projects',\n",
       " '05. Classes (OOP).ipynb',\n",
       " '09. The OS Module.ipynb',\n",
       " 'exDir02',\n",
       " '02. Data Types.ipynb',\n",
       " '06. Exception Handling.ipynb',\n",
       " '.virtual_documents',\n",
       " '10. The Sys Module.py',\n",
       " 'factorial_calc.py',\n",
       " '04. Modules and Functions.ipynb',\n",
       " '__pycache__',\n",
       " 'exDir01',\n",
       " '01. Basic Concepts.ipynb',\n",
       " '08. Debugging.ipynb',\n",
       " 'test.txt',\n",
       " '07. File Handling.ipynb']"
      ]
     },
     "execution_count": 9,
     "metadata": {},
     "output_type": "execute_result"
    }
   ],
   "source": [
    "os.listdir()"
   ]
  },
  {
   "attachments": {},
   "cell_type": "markdown",
   "id": "da237902-9367-4bfc-a37a-07595b676937",
   "metadata": {},
   "source": [
    "- Renaming a file or folder"
   ]
  },
  {
   "cell_type": "code",
   "execution_count": 10,
   "id": "a2796a7d-8ece-4fdd-8245-90658c28b303",
   "metadata": {},
   "outputs": [],
   "source": [
    "os.rename(\"test.txt\", \"demo.txt\")  # This renames the text.txt file to demo.txt"
   ]
  },
  {
   "attachments": {},
   "cell_type": "markdown",
   "id": "f68566ca-a464-4278-80a3-8214bc92608d",
   "metadata": {},
   "source": [
    "- Informations about a file"
   ]
  },
  {
   "cell_type": "code",
   "execution_count": 11,
   "id": "17dfc3a1-b25e-4857-a4e0-6ea9e5c84e06",
   "metadata": {},
   "outputs": [
    {
     "data": {
      "text/plain": [
       "os.stat_result(st_mode=33204, st_ino=13632885, st_dev=2053, st_nlink=1, st_uid=1000, st_gid=1000, st_size=288, st_atime=0, st_mtime=1659130720, st_ctime=1664818807)"
      ]
     },
     "execution_count": 11,
     "metadata": {},
     "output_type": "execute_result"
    }
   ],
   "source": [
    "# Useful stat results: st_size (bytes), st_mtime (time stamp)\n",
    "\n",
    "os.chdir(\"/home/maidul/Work/Work Data/ML_Intro/Python_Basics/\")\n",
    "os.stat(\"factorial_calc.py\")"
   ]
  },
  {
   "attachments": {},
   "cell_type": "markdown",
   "id": "6d597c6b-132e-4a24-9b16-1c2d749dcd76",
   "metadata": {},
   "source": [
    "- Remove files"
   ]
  },
  {
   "cell_type": "code",
   "execution_count": 12,
   "id": "f06506a7-fd71-409d-8857-d5a23d0a9132",
   "metadata": {},
   "outputs": [],
   "source": [
    "os.remove(\"demo.txt\")"
   ]
  },
  {
   "attachments": {},
   "cell_type": "markdown",
   "id": "407f817d-59c2-46c7-9a85-6cb3fb248d5c",
   "metadata": {},
   "source": [
    "- Remove directories"
   ]
  },
  {
   "cell_type": "code",
   "execution_count": 13,
   "id": "39ee572a-3429-42da-a23b-0dd16291bdf5",
   "metadata": {},
   "outputs": [],
   "source": [
    "os.rmdir(\"./exDir01\")  # Recommended use case\n",
    "os.removedirs(\"./exDir02/exDir03\")  # to remove empty directories recursively"
   ]
  },
  {
   "attachments": {},
   "cell_type": "markdown",
   "id": "76442638-abd0-45f8-ab9f-6ebda9650970",
   "metadata": {},
   "source": [
    "- To see entire directory tree and files within"
   ]
  },
  {
   "cell_type": "code",
   "execution_count": 14,
   "id": "5c80f9e4-f59f-4d67-80ca-941f579b6f04",
   "metadata": {},
   "outputs": [
    {
     "name": "stdout",
     "output_type": "stream",
     "text": [
      "Current Path: ./\n",
      "Directories: ['.ipynb_checkpoints', 'Projects', '.virtual_documents', '__pycache__']\n",
      "Files: ['exFile.txt', 'exCSV.csv', '03. Controlling the Flow of a Program.ipynb', '05. Classes (OOP).ipynb', '09. The OS Module.ipynb', '02. Data Types.ipynb', '06. Exception Handling.ipynb', '10. The Sys Module.py', 'factorial_calc.py', '04. Modules and Functions.ipynb', '01. Basic Concepts.ipynb', '08. Debugging.ipynb', '07. File Handling.ipynb'] \n",
      "\n",
      "Current Path: ./.ipynb_checkpoints\n",
      "Directories: []\n",
      "Files: ['02. Data Types-checkpoint.ipynb', '09. The OS Module-checkpoint.ipynb', '05. Classes (OOP)-checkpoint.ipynb', 'exCSV-checkpoint.csv', '08. The Sys _ OS Modules-checkpoint.ipynb', '10. The Sys Module-checkpoint.py', '06. Python Scope-checkpoint.ipynb', '07. File Handling-checkpoint.ipynb', '03. Controlling the Flow of a Program-checkpoint.ipynb', '07. Python Modules-checkpoint.ipynb', '08. Debugging-checkpoint.ipynb', '06. Exception Handling-checkpoint.ipynb', 'test-checkpoint.txt', '04. Modules and Functions-checkpoint.ipynb', '01. Basic Concepts-checkpoint.ipynb', 'factorial_calc-checkpoint.py'] \n",
      "\n",
      "Current Path: ./Projects\n",
      "Directories: ['.ipynb_checkpoints', '__pycache__']\n",
      "Files: ['hangman_game.ipynb', 'hangman_visual.py', 'hangman_game.py', 'hangman_words.txt'] \n",
      "\n",
      "Current Path: ./Projects/.ipynb_checkpoints\n",
      "Directories: []\n",
      "Files: ['hangman_words-checkpoint.txt', 'hangman_game-checkpoint.py', 'hangman_visual-checkpoint.py', 'hangman_game-checkpoint.ipynb'] \n",
      "\n",
      "Current Path: ./Projects/__pycache__\n",
      "Directories: []\n",
      "Files: ['hangman_visual.cpython-38.pyc', 'untitled.cpython-38.pyc', 'hangman_visual.cpython-310.pyc'] \n",
      "\n",
      "Current Path: ./.virtual_documents\n",
      "Directories: []\n",
      "Files: [] \n",
      "\n",
      "Current Path: ./__pycache__\n",
      "Directories: []\n",
      "Files: ['factorial_calc.cpython-310.pyc'] \n",
      "\n"
     ]
    }
   ],
   "source": [
    "# os.walk is a generator that yields a tuple of 3 values in the sequence of dirpath, dirnames, filenames\n",
    "# as it walks the directory tree.\n",
    "\n",
    "for dirpath, dirnames, filenames in os.walk(\"./\"):\n",
    "    print(\"Current Path:\", dirpath)\n",
    "    print(\"Directories:\", dirnames)\n",
    "    print(\"Files:\", filenames, \"\\n\")"
   ]
  },
  {
   "attachments": {},
   "cell_type": "markdown",
   "id": "6a2e6299-b326-4a21-a4a6-3dab143d12c0",
   "metadata": {},
   "source": [
    "- Accessing home directory location by grabbing home environment variable"
   ]
  },
  {
   "cell_type": "code",
   "execution_count": 15,
   "id": "be451ce0-13a3-4198-abc5-2e2f749bbae9",
   "metadata": {},
   "outputs": [
    {
     "data": {
      "text/plain": [
       "'/home/maidul'"
      ]
     },
     "execution_count": 15,
     "metadata": {},
     "output_type": "execute_result"
    }
   ],
   "source": [
    "os.environ.get(\"HOME\")  # Returns a path"
   ]
  },
  {
   "attachments": {},
   "cell_type": "markdown",
   "id": "36f7d7d3-16a1-4704-b033-6408fece41b5",
   "metadata": {},
   "source": [
    "- Joining two paths "
   ]
  },
  {
   "cell_type": "code",
   "execution_count": 16,
   "id": "87cbd67d-fb80-43c8-a5a3-e99af9c05d65",
   "metadata": {},
   "outputs": [],
   "source": [
    "file_path = os.path.join(os.environ.get(\"HOME\"), \"test.txt\")\n",
    "# the benefit of os.path.join, is it takes the guess work out of inserting a slash"
   ]
  },
  {
   "attachments": {},
   "cell_type": "markdown",
   "id": "04a555be-69e9-45f7-b177-1e839edcd66e",
   "metadata": {},
   "source": [
    "- Grab the folder name on the cwd"
   ]
  },
  {
   "cell_type": "code",
   "execution_count": 17,
   "id": "b04ca2d0-77c1-4075-8433-c9426004ba91",
   "metadata": {},
   "outputs": [
    {
     "name": "stdout",
     "output_type": "stream",
     "text": [
      "Python_Basics\n"
     ]
    }
   ],
   "source": [
    "print(os.path.basename(os.getcwd()))"
   ]
  },
  {
   "attachments": {},
   "cell_type": "markdown",
   "id": "1989edac-acb9-4a26-8dab-d9551437f809",
   "metadata": {},
   "source": [
    "- Grab the directory name of any path"
   ]
  },
  {
   "cell_type": "code",
   "execution_count": 18,
   "id": "e60ebd90-f9e0-4f80-b01d-076ef79c36c8",
   "metadata": {},
   "outputs": [
    {
     "data": {
      "text/plain": [
       "'/home/maidul/Work/Work Data/ML_Intro'"
      ]
     },
     "execution_count": 18,
     "metadata": {},
     "output_type": "execute_result"
    }
   ],
   "source": [
    "os.path.dirname(os.getcwd())"
   ]
  },
  {
   "attachments": {},
   "cell_type": "markdown",
   "id": "041065d0-a4e2-4329-bc2e-75e987221319",
   "metadata": {},
   "source": [
    "- Get both the directory and filename as a tuple from a path "
   ]
  },
  {
   "cell_type": "code",
   "execution_count": 19,
   "id": "94507878-67a0-4529-b8d4-1b2738951c9c",
   "metadata": {},
   "outputs": [
    {
     "data": {
      "text/plain": [
       "('Python_Basics', '03. Controlling the Flow of a Program-checkpoint.ipynb')"
      ]
     },
     "execution_count": 19,
     "metadata": {},
     "output_type": "execute_result"
    }
   ],
   "source": [
    "os.path.split(\"Python_Basics/03_Controlling_the_Flow_of_a_Program-checkpoint.ipynb\")"
   ]
  },
  {
   "attachments": {},
   "cell_type": "markdown",
   "id": "ebcb9c9b-eacd-426b-b12c-cff42617cd73",
   "metadata": {},
   "source": [
    "- Check whether a path exists or not"
   ]
  },
  {
   "cell_type": "code",
   "execution_count": 20,
   "id": "c8e450cd-1ae1-4a9f-8ba5-d72476da6fff",
   "metadata": {},
   "outputs": [
    {
     "data": {
      "text/plain": [
       "False"
      ]
     },
     "execution_count": 20,
     "metadata": {},
     "output_type": "execute_result"
    }
   ],
   "source": [
    "os.path.exists(\"Python_Basics/03_Controlling_the_Flow_of_a_Program-checkpoint.ipynb\")"
   ]
  },
  {
   "attachments": {},
   "cell_type": "markdown",
   "id": "e3bca27e-d4a0-4b4d-a3b6-88bf609c39a5",
   "metadata": {},
   "source": [
    "- Check whether a path is a directory or not"
   ]
  },
  {
   "cell_type": "code",
   "execution_count": 21,
   "id": "f7571b1d-3e64-4246-9967-8437afefd631",
   "metadata": {},
   "outputs": [
    {
     "data": {
      "text/plain": [
       "False"
      ]
     },
     "execution_count": 21,
     "metadata": {},
     "output_type": "execute_result"
    }
   ],
   "source": [
    "os.path.isdir(\"Python_Basics/03_Controlling_the_Flow_of_a_Program-checkpoint.ipynb\")"
   ]
  },
  {
   "attachments": {},
   "cell_type": "markdown",
   "id": "497407da-ae7d-4d6c-a7ae-b498f7ea8cc6",
   "metadata": {},
   "source": [
    "- Check whether a path is a file or not"
   ]
  },
  {
   "cell_type": "code",
   "execution_count": 22,
   "id": "8660384d-8c3d-4818-88f9-b13f0c6ccd87",
   "metadata": {},
   "outputs": [
    {
     "data": {
      "text/plain": [
       "'/home/maidul/Work/Work Data/ML_Intro/Python_Basics'"
      ]
     },
     "execution_count": 22,
     "metadata": {},
     "output_type": "execute_result"
    }
   ],
   "source": [
    "os.getcwd()"
   ]
  },
  {
   "cell_type": "code",
   "execution_count": 23,
   "id": "45e48d71-2af5-4cfd-9465-04f31e52c93a",
   "metadata": {},
   "outputs": [
    {
     "data": {
      "text/plain": [
       "True"
      ]
     },
     "execution_count": 23,
     "metadata": {},
     "output_type": "execute_result"
    }
   ],
   "source": [
    "os.path.isfile(\"Python_Basics/03_Controlling_the_Flow_of_a_Program.ipynb\")"
   ]
  },
  {
   "attachments": {},
   "cell_type": "markdown",
   "id": "4fa94b09-afed-4d09-9494-8fab75007ccc",
   "metadata": {},
   "source": [
    "- Splits file route of the path and the extension"
   ]
  },
  {
   "cell_type": "code",
   "execution_count": 25,
   "id": "288e5ca9-c6fe-4970-8716-dd2cf3565fa2",
   "metadata": {},
   "outputs": [
    {
     "data": {
      "text/plain": [
       "('/home/maidul-hasan/Work/ML/AAIC/01. Python/09. The OS Module', '.ipynb')"
      ]
     },
     "execution_count": 25,
     "metadata": {},
     "output_type": "execute_result"
    }
   ],
   "source": [
    "os.path.splitext(\"/home/maidul-hasan/Work/ML/AAIC/01. Python/09. The OS Module.ipynb\")"
   ]
  },
  {
   "cell_type": "code",
   "execution_count": null,
   "id": "692eaac5-92a8-4945-8b15-1489f3e01be3",
   "metadata": {},
   "outputs": [],
   "source": []
  }
 ],
 "metadata": {
  "kernelspec": {
   "display_name": "Python 3 (ipykernel)",
   "language": "python",
   "name": "python3"
  },
  "language_info": {
   "codemirror_mode": {
    "name": "ipython",
    "version": 3
   },
   "file_extension": ".py",
   "mimetype": "text/x-python",
   "name": "python",
   "nbconvert_exporter": "python",
   "pygments_lexer": "ipython3",
   "version": "3.8.15"
  }
 },
 "nbformat": 4,
 "nbformat_minor": 5
}
