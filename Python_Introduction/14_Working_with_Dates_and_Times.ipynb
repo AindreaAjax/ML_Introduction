{
 "cells": [
  {
   "cell_type": "markdown",
   "metadata": {},
   "source": [
    "**Table of contents**<a id='toc0_'></a>    \n",
    "- [Python DateTime Module](#toc1_)    \n",
    "  - [The `date` objects](#toc1_1_)    \n",
    "  - [The `time` objects](#toc1_2_)    \n",
    "  - [The `datetime` objects](#toc1_3_)    \n",
    "  - [The `timedelta` objects](#toc1_4_)    \n",
    "  - [The `tzinfo` objects](#toc1_5_)    \n",
    "  - [The `timezone` objects](#toc1_6_)    \n",
    "    - [*Handling Daylight Saving Time (DST)*](#toc1_6_1_)    \n",
    "  - [An example of how all these might be used in practice](#toc1_7_)    \n",
    "\n",
    "<!-- vscode-jupyter-toc-config\n",
    "\tnumbering=false\n",
    "\tanchor=true\n",
    "\tflat=false\n",
    "\tminLevel=2\n",
    "\tmaxLevel=5\n",
    "\t/vscode-jupyter-toc-config -->\n",
    "<!-- THIS CELL WILL BE REPLACED ON TOC UPDATE. DO NOT WRITE YOUR TEXT IN THIS CELL -->"
   ]
  },
  {
   "cell_type": "markdown",
   "metadata": {},
   "source": [
    "<u>Resources</u>\n",
    "- Official documentation (https://docs.python.org/3/library/datetime.html)\n",
    "- Python \"datetime\" module by GeeksForGeeks (https://www.geeksforgeeks.org/python-datetime-module/)\n"
   ]
  },
  {
   "cell_type": "code",
   "execution_count": 1,
   "metadata": {},
   "outputs": [],
   "source": [
    "import datetime as pydt"
   ]
  },
  {
   "cell_type": "markdown",
   "metadata": {},
   "source": [
    "## <a id='toc1_'></a>[Python DateTime Module](#toc0_)"
   ]
  },
  {
   "cell_type": "markdown",
   "metadata": {},
   "source": [
    "### <a id='toc1_1_'></a>[The `date` objects](#toc0_)"
   ]
  },
  {
   "cell_type": "markdown",
   "metadata": {},
   "source": [
    "> The `datetime.date(year, month, day)` can be used to create an idealized naive date, assuming the current Gregorian calendar always was, and always will be, in effect. All the arguments should be \"int\" type.\n",
    ">> **Attributes:** year, month, and day.\n",
    ">\n",
    ">> Documentation: https://docs.python.org/3/library/datetime.html#date-objects"
   ]
  },
  {
   "cell_type": "code",
   "execution_count": 2,
   "metadata": {},
   "outputs": [],
   "source": [
    "bd_victory_day = pydt.date(1971, 12, 16)"
   ]
  },
  {
   "cell_type": "code",
   "execution_count": 3,
   "metadata": {},
   "outputs": [
    {
     "name": "stdout",
     "output_type": "stream",
     "text": [
      "Year: 1971\n",
      "Month: 12\n",
      "Day: 16\n"
     ]
    }
   ],
   "source": [
    "print(f\"Year: {bd_victory_day.year}\")\n",
    "print(f\"Month: {bd_victory_day.month}\")\n",
    "print(f\"Day: {bd_victory_day.day}\")"
   ]
  },
  {
   "cell_type": "markdown",
   "metadata": {},
   "source": [
    "<u>Some of the useful class and instance methods:</u>\n",
    "\n",
    "- `date.today()` returns the current local date.\n",
    "\n",
    "- `date.weekday()` returns the day of the week as an integer, where Monday is 0 and Sunday is 6.\n",
    "\n",
    "- `date.isocalendar()` returns a named tuple with 3 components: year, week, and weekday.\n",
    "\n",
    "- `date.isoformat()` returns a string representing the date in ISO 8601 format, 'YYYY-MM-DD'. This maybe specially useful in certain scenarios. For example, to print results, to put dates into filenames, or to write dates out to CSV or Excel files. One major advantage of ISO formatted dates is that they are sorted correctly in chronological order, e.g, when sorted with the `sorted()` function.\n",
    "\n",
    "- `date.strftime(format)` returns a string representing the date, controlled by an explicit format string. For details see [here](https://docs.python.org/3/library/datetime.html#strftime-strptime-behavior).\n",
    "\n",
    "- `date.fromisoformat(date_string)` returns a date corresponding to a date_string given in any valid ISO 8601 format, except ordinal dates (e.g. YYYY-DDD).\n",
    "\n",
    "- `date.fromtimestamp(timestamp)` returns the local date corresponding to the POSIX timestamp, such as is returned by *time.time()*. The timestamp is the number of seconds from 1st January 1970 at UTC to a particular date.\n",
    "\n",
    "- `date.replace(year=self.year, month=self.month, day=self.day)` returns a date with the same value, except the parameters for which a new value was specified."
   ]
  },
  {
   "cell_type": "code",
   "execution_count": 4,
   "metadata": {},
   "outputs": [
    {
     "name": "stdout",
     "output_type": "stream",
     "text": [
      "December (1971) - 350\n"
     ]
    }
   ],
   "source": [
    "# for example here we use the .strftime method to print\n",
    "# the bd_victory_day date as MONTH (YYYY) - day_of_the_year\n",
    "print(bd_victory_day.strftime(\"%B (%Y) - %j\"))"
   ]
  },
  {
   "cell_type": "markdown",
   "metadata": {},
   "source": [
    "<u>Supported mathematical operations:</u>\n",
    "\n",
    "Operation | Result\n",
    "----------|------------\n",
    "*date2 = date1 + timedelta* | date2 is moved forward in time if `timedelta.days > 0`, or backward if `timedelta.days < 0`. Afterward, *date2 - date1 == timedelta.days*.\n",
    "*date2 = date1 - timedelta* | Computes date2 such that, *date2 + timedelta == date1*.\n",
    "*timedelta = date1 - date2* | Result is a `timedelta` object. Afterward, *date2 + timedelta == date1*.\n",
    "*date1 < date2* | Compare two dates. True if and only if *date1.toordinal() < date2.toordinal()*.\n",
    "\n",
    "**Note:** Usually, *timedelta.seconds* and *timedelta.microseconds* are ignored."
   ]
  },
  {
   "cell_type": "markdown",
   "metadata": {},
   "source": [
    "### <a id='toc1_2_'></a>[The `time` objects](#toc0_)"
   ]
  },
  {
   "cell_type": "markdown",
   "metadata": {},
   "source": [
    "> The `datetime.time(hour=0, minute=0, second=0, microsecond=0, tzinfo=None, *, fold=0)\n",
    "` can be used to create an idealized time, independent of any particular day, assuming that every day has exactly 24*60*60 seconds. There is no notion of “leap seconds” here. All the arguments are optional. *tzinfo* can be None otherwise all the attributes must be integer in a valid range (see documentation for exact info on the range).\n",
    ">> **Attributes:** hour, minute, second, microsecond, and tzinfo.\n",
    ">\n",
    ">> Documentation: https://docs.python.org/3/library/datetime.html#time-objects"
   ]
  },
  {
   "cell_type": "code",
   "execution_count": 5,
   "metadata": {},
   "outputs": [],
   "source": [
    "midnight = pydt.time()\n",
    "midday = pydt.time(12, 0, 0)"
   ]
  },
  {
   "cell_type": "code",
   "execution_count": 6,
   "metadata": {},
   "outputs": [
    {
     "data": {
      "text/plain": [
       "(datetime.time(0, 0), datetime.time(12, 0))"
      ]
     },
     "execution_count": 6,
     "metadata": {},
     "output_type": "execute_result"
    }
   ],
   "source": [
    "midnight, midday"
   ]
  },
  {
   "cell_type": "code",
   "execution_count": 7,
   "metadata": {},
   "outputs": [
    {
     "name": "stdout",
     "output_type": "stream",
     "text": [
      "Hour: 0\n",
      "Minute: 0\n",
      "Second: 0\n"
     ]
    }
   ],
   "source": [
    "print(f\"Hour: {midnight.hour}\")\n",
    "print(f\"Minute: {midnight.minute}\")\n",
    "print(f\"Second: {midnight.second}\")"
   ]
  },
  {
   "cell_type": "markdown",
   "metadata": {},
   "source": [
    "<u>Some of the useful class and instance methods:</u>\n",
    "\n",
    "- `time.isoformat()` returns a string representing the time in ISO 8601 format. See details [here](https://docs.python.org/3/library/datetime.html#datetime.time.isoformat).\n",
    "\n",
    "- `time.strftime(format)` returns a string representing the time, controlled by an explicit format string. For details see [here](https://docs.python.org/3/library/datetime.html#strftime-strptime-behavior).\n",
    "\n",
    "- `date.fromisoformat(time_string)` returns a time corresponding to a time_string given in the ISO 8601 format e.g, 'HH:MM:SS.mmmmmm'.\n",
    "\n",
    "- `time.replace(hour=self.hour, minute=self.minute, second=self.second, microsecond=self.microsecond, tzinfo=self.tzinfo, *, fold=0)` returns a time with the same value, except for those parameters for which new values are defined by whichever keyword arguments are specified."
   ]
  },
  {
   "cell_type": "markdown",
   "metadata": {},
   "source": [
    "### <a id='toc1_3_'></a>[The `datetime` objects](#toc0_)"
   ]
  },
  {
   "cell_type": "markdown",
   "metadata": {},
   "source": [
    "> A combination of a date and a time. Like a date object, datetime assumes the current Gregorian calendar extended in both directions; like a time object, datetime assumes there are exactly 3600*24 seconds in every day. The `datetime.datetime(year, month, day, hour=0, minute=0, second=0, microsecond=0, tzinfo=None, *, fold=0)` function is used to create a datetime object. The year, month and day arguments are required. tzinfo may be None, or an instance of a tzinfo subclass. The remaining arguments must be integers in a valid range (see documentation for specifics).\n",
    ">> **Attributes:** year, month, day, hour, minute, second, microsecond, and tzinfo.\n",
    ">\n",
    ">> Documentation: https://docs.python.org/3/library/datetime.html#datetime-objects"
   ]
  },
  {
   "cell_type": "code",
   "execution_count": 8,
   "metadata": {},
   "outputs": [],
   "source": [
    "# the datetime module was imported as pydt so, datetime.datetime becomes pydt.datetime\n",
    "random_datetime = pydt.datetime(\n",
    "    year=2014,\n",
    "    month=2,\n",
    "    day=18,\n",
    "    hour=13,\n",
    "    minute=20,\n",
    "    second=45,\n",
    "    tzinfo=pydt.timezone(pydt.timedelta(hours=6)),\n",
    ")"
   ]
  },
  {
   "cell_type": "code",
   "execution_count": 9,
   "metadata": {},
   "outputs": [
    {
     "data": {
      "text/plain": [
       "datetime.datetime(2014, 2, 18, 13, 20, 45, tzinfo=datetime.timezone(datetime.timedelta(seconds=21600)))"
      ]
     },
     "execution_count": 9,
     "metadata": {},
     "output_type": "execute_result"
    }
   ],
   "source": [
    "random_datetime"
   ]
  },
  {
   "cell_type": "code",
   "execution_count": 10,
   "metadata": {},
   "outputs": [
    {
     "data": {
      "text/plain": [
       "datetime.timezone(datetime.timedelta(seconds=21600))"
      ]
     },
     "execution_count": 10,
     "metadata": {},
     "output_type": "execute_result"
    }
   ],
   "source": [
    "random_datetime.tzinfo"
   ]
  },
  {
   "cell_type": "markdown",
   "metadata": {},
   "source": [
    "<u>Useful class and instance methods:</u>\n",
    "\n",
    "- `datetime.today()` returns the current local datetime with *tzinfo=None*.\n",
    "\n",
    "- `datetime.now(tz=None)` returns the current local date and time with the specified timezone info.\n",
    "\n",
    "- `datetime.utcnow()` returns the current UTC date and time with *tzinfo=None*.\n",
    "\n",
    "- `datetime.fromtimestamp(timestamp, tz=None)` returns the local date and time corresponding to the POSIX timestamp.\n",
    "\n",
    "- `datetime.utcfromtimestamp(timestamp)` returns the UTC datetime corresponding to the POSIX timestamp.\n",
    "\n",
    "- `datetime.fromisoformat(date_string)` returns a datetime corresponding to a date_string in any valid ISO 8601 format (with certain exceptions).\n",
    "\n",
    "- `datetime.fromisocalendar(year, week, day)` returns a datetime corresponding to the ISO calendar date specified by year, week and day. The non-date components of the datetime are populated with their normal default values.\n",
    "\n",
    "- `datetime.strptime(date_string, format)` returns a datetime corresponding to date_string, parsed according to format. \n",
    "\n",
    "- `datetime.strftime(format)` returns a string representing the date and time, controlled by an explicit format string. For details see [here](https://docs.python.org/3/library/datetime.html#strftime-strptime-behavior).\n",
    "\n",
    "- `datetime.replace(year=self.year, month=self.month, day=self.day, hour=self.hour, minute=self.minute, second=self.second, microsecond=self.microsecond, tzinfo=self.tzinfo, *, fold=0)` returns a datetime with the same attributes, except for those attributes given new values by whichever keyword arguments are specified. Note that tzinfo=None can be specified to create a naive datetime from an aware datetime with no conversion of date and time data. But, for a timezone aware datetime, changing the `tzinfo` will not adjust the date and time data to be the same UTC time as before, instead the datetime will remain the same with changed timezone info giving you a wrong datetime.\n",
    "\n",
    "- `datetime.astimezone(tz=None)` returns a datetime object with new tzinfo attribute tz, adjusting the date and time data so the result is the same UTC time as the original, but in tz’s local time.\n",
    "\n",
    "- `datetime.combine(date, time, tzinfo=self.tzinfo, *, fold=0)` returns a new datetime object whose date components are equal to the given date object’s, and whose time components and tzinfo attributes are equal to the given time object’s.\n",
    "\n",
    "- `datetime.utcoffset()` returns None if tzinfo is None, else returns *self.tzinfo.utcoffset(self)*.\n",
    "\n",
    "- `datetime.dst()` returns None if tzinfo is None, else returns *self.tzinfo.dst(self)*.\n",
    "\n",
    "- `datetime.tzname()` returns None if tzinfo is None, else returns *self.tzinfo.tzname(self)*.\n",
    "\n",
    "- `datetime.timestamp()` returns POSIX timestamp as float.\n",
    "\n",
    "- `datetime.isocalendar()` returns a named tuple with 3 components: year, week, and weekday.\n",
    "\n",
    "- `datetime.isoformat(sep='T', timespec='auto')` returns a string representing the date and time in ISO 8601 format."
   ]
  },
  {
   "cell_type": "code",
   "execution_count": 11,
   "metadata": {},
   "outputs": [
    {
     "name": "stdout",
     "output_type": "stream",
     "text": [
      "Current local datetime (system time at current timezone): 2023-10-12 17:30:56.186797\n",
      "Current UTC datetime: 2023-10-12 11:30:56.186890\n",
      "Current local datetime for a particular timezone (UTC +3): 2023-10-12 14:30:56.186971+03:00\n"
     ]
    }
   ],
   "source": [
    "print(\n",
    "    f\"Current local datetime (system time at current timezone): {pydt.datetime.today()}\"\n",
    ")\n",
    "print(f\"Current UTC datetime: {pydt.datetime.utcnow()}\")\n",
    "print(\n",
    "    f\"Current local datetime for a particular timezone (UTC +3): {pydt.datetime.now(tz=pydt.timezone(pydt.timedelta(hours=3)))}\"\n",
    ")"
   ]
  },
  {
   "cell_type": "code",
   "execution_count": 12,
   "metadata": {},
   "outputs": [
    {
     "data": {
      "text/plain": [
       "datetime.timedelta(seconds=21600)"
      ]
     },
     "execution_count": 12,
     "metadata": {},
     "output_type": "execute_result"
    }
   ],
   "source": [
    "random_datetime.utcoffset()"
   ]
  },
  {
   "cell_type": "code",
   "execution_count": 13,
   "metadata": {},
   "outputs": [
    {
     "data": {
      "text/plain": [
       "'UTC+06:00'"
      ]
     },
     "execution_count": 13,
     "metadata": {},
     "output_type": "execute_result"
    }
   ],
   "source": [
    "random_datetime.tzname()"
   ]
  },
  {
   "cell_type": "code",
   "execution_count": 14,
   "metadata": {},
   "outputs": [
    {
     "data": {
      "text/plain": [
       "datetime.datetime(2014, 2, 18, 13, 20, 45, tzinfo=datetime.timezone(datetime.timedelta(seconds=21600)))"
      ]
     },
     "execution_count": 14,
     "metadata": {},
     "output_type": "execute_result"
    }
   ],
   "source": [
    "random_datetime"
   ]
  },
  {
   "cell_type": "code",
   "execution_count": 15,
   "metadata": {},
   "outputs": [
    {
     "data": {
      "text/plain": [
       "datetime.datetime(2014, 2, 18, 13, 20, 45, tzinfo=datetime.timezone(datetime.timedelta(days=-1, seconds=75600)))"
      ]
     },
     "execution_count": 15,
     "metadata": {},
     "output_type": "execute_result"
    }
   ],
   "source": [
    "# .replace just changes the timezone but doesnt' adjust the time\n",
    "random_datetime.replace(tzinfo=pydt.timezone(pydt.timedelta(hours=-3)))"
   ]
  },
  {
   "cell_type": "code",
   "execution_count": 16,
   "metadata": {},
   "outputs": [
    {
     "data": {
      "text/plain": [
       "datetime.datetime(2014, 2, 18, 4, 20, 45, tzinfo=datetime.timezone(datetime.timedelta(days=-1, seconds=75600)))"
      ]
     },
     "execution_count": 16,
     "metadata": {},
     "output_type": "execute_result"
    }
   ],
   "source": [
    "# look closely at the hour. The .astimezone() method returns the same utc time but in local tz\n",
    "random_datetime.astimezone(tz=pydt.timezone(pydt.timedelta(hours=-3)))"
   ]
  },
  {
   "cell_type": "markdown",
   "metadata": {},
   "source": [
    "### <a id='toc1_4_'></a>[The `timedelta` objects](#toc0_)"
   ]
  },
  {
   "cell_type": "markdown",
   "metadata": {},
   "source": [
    "> A timedelta object expreses a duration i.e, the difference between two date, time, or datetime instances to microsecond resolution. The `datetime.timedelta(days=0, seconds=0, microseconds=0, milliseconds=0, minutes=0, hours=0, weeks=0)` function can be used to create a timedelta object. Arguments may be integers or floats, and may be positive or negative. All the arguments are optional. Any arguments besides *days, seconds and microseconds* are “merged” and normalized into those three resulting attributes. Note that normalization of negative values may be surprising at first. To see exactly how the arguments are handled see the documentation.\n",
    ">> **Attributes:** days, seconds, microseconds.\n",
    ">\n",
    ">> Documentation: https://docs.python.org/3/library/datetime.html#timedelta-objects\n",
    ">\n",
    ">> Supported operations: A whole lot of mathematical operations are supported such as, integer/float multiplication, time addition/subtraction/division etc. See the documentation for more details."
   ]
  },
  {
   "cell_type": "code",
   "execution_count": 17,
   "metadata": {},
   "outputs": [],
   "source": [
    "timedelta_neg_ms = pydt.timedelta(microseconds=-1)"
   ]
  },
  {
   "cell_type": "code",
   "execution_count": 18,
   "metadata": {},
   "outputs": [
    {
     "data": {
      "text/plain": [
       "datetime.timedelta(days=-1, seconds=86399, microseconds=999999)"
      ]
     },
     "execution_count": 18,
     "metadata": {},
     "output_type": "execute_result"
    }
   ],
   "source": [
    "timedelta_neg_ms"
   ]
  },
  {
   "cell_type": "markdown",
   "metadata": {},
   "source": [
    "<u>Useful class and instance methods:</u>\n",
    "\n",
    "- `timedelta.total_seconds()` returns the total number of seconds contained in the duration. Equivalent to $td / timedelta(seconds=1)$. \n",
    "\n",
    "- For interval units other than seconds (i.e, to get total days/weeks/microseconds etc.), use the division form directly e.g. $td / timedelta(microseconds=1)$."
   ]
  },
  {
   "cell_type": "markdown",
   "metadata": {},
   "source": [
    "### <a id='toc1_5_'></a>[The `tzinfo` objects](#toc0_)"
   ]
  },
  {
   "cell_type": "markdown",
   "metadata": {},
   "source": [
    "> The `tzinfo` class is an **abstract base class** for time zone information objects, meaning that *this class should not be instantiated directly*. These are used by the datetime and time classes to provide a customizable notion of time adjustment (for example, to account for time zone and/or daylight saving time).\n",
    ">> Documentation: https://docs.python.org/3/library/datetime.html#tzinfo-objects "
   ]
  },
  {
   "cell_type": "markdown",
   "metadata": {},
   "source": [
    "### <a id='toc1_6_'></a>[The `timezone` objects](#toc0_)"
   ]
  },
  {
   "cell_type": "markdown",
   "metadata": {},
   "source": [
    "> The `timezone` class is a subclass of tzinfo, each instance of which represents a timezone defined by a fixed offset from UTC. Objects of this class cannot be used to represent timezone information in the locations where different offsets are used in different days of the year or where historical changes have been made to civil time.\n",
    ">\n",
    ">> The `datetime.timezone(offset, name=None)` function is used to create an instance of the *timezone* class. The **offset** argument must be specified as a `timedelta object` representing the difference between the local time and UTC. It must be strictly between *-timedelta(hours=24) and timedelta(hours=24)*, otherwise ValueError is raised. The **name** argument is optional. If specified it must be a **string** that will be used as the value returned by the `datetime.tzname()` method.\n",
    ">\n",
    ">> **Attributes:** utc (The UTC timezone, *timezone(timedelta(0))*).\n",
    "> \n",
    ">> Documentation: https://docs.python.org/3/library/datetime.html#timezone-objects "
   ]
  },
  {
   "cell_type": "code",
   "execution_count": 19,
   "metadata": {},
   "outputs": [],
   "source": [
    "dhaka_timezone = pydt.timezone(pydt.timedelta(hours=6), \"Dhaka\")"
   ]
  },
  {
   "cell_type": "code",
   "execution_count": 20,
   "metadata": {},
   "outputs": [
    {
     "data": {
      "text/plain": [
       "datetime.timezone(datetime.timedelta(seconds=21600), 'Dhaka')"
      ]
     },
     "execution_count": 20,
     "metadata": {},
     "output_type": "execute_result"
    }
   ],
   "source": [
    "dhaka_timezone"
   ]
  },
  {
   "cell_type": "markdown",
   "metadata": {},
   "source": [
    "#### <a id='toc1_6_1_'></a>[*Handling Daylight Saving Time (DST)*](#toc0_)"
   ]
  },
  {
   "cell_type": "markdown",
   "metadata": {},
   "source": [
    "- **Bellow is a visual example of how timezone information needs to be changed when daylight saving time transitions occur in order to stay consistent with the UTC time.** The following example discusses how the timezone info changes when the clock is moved forward in the summer."
   ]
  },
  {
   "cell_type": "markdown",
   "metadata": {},
   "source": [
    "<img src=\"./dst_start_example.png\">"
   ]
  },
  {
   "cell_type": "markdown",
   "metadata": {},
   "source": [
    "On March 12, 2017, in Washington, DC, the clock jumped straight from 1:59 am to 3 am. The clock \"springs forward\". It never officially struck 2 am anywhere on the East Coast of the United States that day. To make our clock in Washington, DC comparable to clocks in other places just like before, we need to represent it with a UTC offset. Only now the UTC offset is going to change. On this date, at 1 AM in Washington, DC, we were in Eastern Standard Time. It was 6 AM UTC, a five-hour difference. At 3 AM in Washington, DC, we were in Eastern Daylight Time. It was 7 AM UTC, a four-hour difference. "
   ]
  },
  {
   "cell_type": "markdown",
   "metadata": {},
   "source": [
    "> The `zoneinfo` module provides a concrete time zone implementation to support the **IANA time zone database**. By default, zoneinfo uses the system’s time zone data if available; if no system time zone data is available, the library will fall back to using the first-party tzdata package. It is intended to be attached to `tzinfo`, either via the `constructor i.e, datetime.datetime()`, the `datetime.replace` method or `datetime.astimezone` method. Datetimes constructed in this way are compatible with datetime arithmetic and **handle daylight saving time transitions with no further intervention**.\n",
    ">\n",
    ">> Documentation: https://docs.python.org/3/library/zoneinfo.html#module-zoneinfo"
   ]
  },
  {
   "cell_type": "code",
   "execution_count": 21,
   "metadata": {},
   "outputs": [],
   "source": [
    "from zoneinfo import ZoneInfo"
   ]
  },
  {
   "cell_type": "markdown",
   "metadata": {},
   "source": [
    "The time zone is `America/Los_Angeles` and it has the following daylight saving time transition dates:\n",
    "\n",
    "-> Pacific Standard Time (PST): Pacific Standard Time is the standard time that is followed during the winter season. Usually, it is observed from early November of every year to mid-March the following year. Meanwhile, PST is 8 hours behind Universal Time during winter.\n",
    "\n",
    "-> Pacific Daylight Time (PDT): Pacific Daylight Time is the time zone followed during the summer months. It is observed in Canada, United States, and Mexico. This time zone begins from Mid March but usually ends in Early November in the same year. Remember that the standard time is 7 hours behind the GMT and is kept one hour ahead of the PST. Doing so saves energy during the day."
   ]
  },
  {
   "cell_type": "code",
   "execution_count": 22,
   "metadata": {},
   "outputs": [],
   "source": [
    "rdn_dt = pydt.datetime(\n",
    "    year=2020, month=10, day=31, hour=12, tzinfo=ZoneInfo(\"America/Los_Angeles\")\n",
    ")"
   ]
  },
  {
   "cell_type": "code",
   "execution_count": 23,
   "metadata": {},
   "outputs": [
    {
     "data": {
      "text/plain": [
       "'2020-10-31T12:00:00-07:00'"
      ]
     },
     "execution_count": 23,
     "metadata": {},
     "output_type": "execute_result"
    }
   ],
   "source": [
    "rdn_dt.isoformat()"
   ]
  },
  {
   "cell_type": "code",
   "execution_count": 24,
   "metadata": {},
   "outputs": [
    {
     "data": {
      "text/plain": [
       "'PDT'"
      ]
     },
     "execution_count": 24,
     "metadata": {},
     "output_type": "execute_result"
    }
   ],
   "source": [
    "rdn_dt.tzname()"
   ]
  },
  {
   "cell_type": "code",
   "execution_count": 25,
   "metadata": {},
   "outputs": [
    {
     "data": {
      "text/plain": [
       "datetime.timedelta(seconds=3600)"
      ]
     },
     "execution_count": 25,
     "metadata": {},
     "output_type": "execute_result"
    }
   ],
   "source": [
    "rdn_dt.dst()"
   ]
  },
  {
   "cell_type": "markdown",
   "metadata": {},
   "source": [
    "But, when we add a day to this date, the time goes back to PST. We don't need to change the timezone info or anything. This is because the `zoneinfo` module handles daylight saving time transitions automatically."
   ]
  },
  {
   "cell_type": "code",
   "execution_count": 26,
   "metadata": {},
   "outputs": [],
   "source": [
    "rdn_dt_add = rdn_dt + pydt.timedelta(days=1)"
   ]
  },
  {
   "cell_type": "code",
   "execution_count": 27,
   "metadata": {},
   "outputs": [
    {
     "data": {
      "text/plain": [
       "'2020-11-01T12:00:00-08:00'"
      ]
     },
     "execution_count": 27,
     "metadata": {},
     "output_type": "execute_result"
    }
   ],
   "source": [
    "rdn_dt_add.isoformat()"
   ]
  },
  {
   "cell_type": "code",
   "execution_count": 28,
   "metadata": {},
   "outputs": [
    {
     "data": {
      "text/plain": [
       "'PST'"
      ]
     },
     "execution_count": 28,
     "metadata": {},
     "output_type": "execute_result"
    }
   ],
   "source": [
    "rdn_dt_add.tzname()"
   ]
  },
  {
   "cell_type": "code",
   "execution_count": 29,
   "metadata": {},
   "outputs": [
    {
     "data": {
      "text/plain": [
       "datetime.timedelta(0)"
      ]
     },
     "execution_count": 29,
     "metadata": {},
     "output_type": "execute_result"
    }
   ],
   "source": [
    "rdn_dt_add.dst()"
   ]
  },
  {
   "cell_type": "markdown",
   "metadata": {},
   "source": [
    "> Another package that can be used to handle timezones and daylight saving time is `dateutil.tz`. To create a particular timezone (to be passed to the `tzinfo` argument) we simply call the `.gettz(Country/City)` method. For example, `tz = dateutil.tz.gettz('America/Los_Angeles')`. This package will handle daylight saving time transitions automatically."
   ]
  },
  {
   "cell_type": "code",
   "execution_count": 30,
   "metadata": {},
   "outputs": [],
   "source": [
    "from dateutil import tz"
   ]
  },
  {
   "cell_type": "code",
   "execution_count": 31,
   "metadata": {},
   "outputs": [],
   "source": [
    "start = pydt.datetime(year=2020, month=10, day=31, hour=12, tzinfo=tz.gettz(\"America/Los_Angeles\"))"
   ]
  },
  {
   "cell_type": "code",
   "execution_count": 32,
   "metadata": {},
   "outputs": [
    {
     "data": {
      "text/plain": [
       "datetime.datetime(2020, 10, 31, 12, 0, tzinfo=tzfile('/usr/share/zoneinfo/America/Los_Angeles'))"
      ]
     },
     "execution_count": 32,
     "metadata": {},
     "output_type": "execute_result"
    }
   ],
   "source": [
    "start"
   ]
  },
  {
   "cell_type": "code",
   "execution_count": 33,
   "metadata": {},
   "outputs": [
    {
     "data": {
      "text/plain": [
       "'2020-10-31T12:00:00-07:00'"
      ]
     },
     "execution_count": 33,
     "metadata": {},
     "output_type": "execute_result"
    }
   ],
   "source": [
    "start.isoformat()"
   ]
  },
  {
   "cell_type": "code",
   "execution_count": 34,
   "metadata": {},
   "outputs": [],
   "source": [
    "end = start + pydt.timedelta(days=1)"
   ]
  },
  {
   "cell_type": "code",
   "execution_count": 35,
   "metadata": {},
   "outputs": [
    {
     "data": {
      "text/plain": [
       "'2020-11-01T12:00:00-08:00'"
      ]
     },
     "execution_count": 35,
     "metadata": {},
     "output_type": "execute_result"
    }
   ],
   "source": [
    "end.isoformat()"
   ]
  },
  {
   "cell_type": "markdown",
   "metadata": {},
   "source": [
    "**`Note:`** When we compare times in local time zones, everything gets converted into clock time. So if you want to get absolute time differences, always move to UTC!"
   ]
  },
  {
   "cell_type": "code",
   "execution_count": 36,
   "metadata": {},
   "outputs": [
    {
     "data": {
      "text/plain": [
       "24.0"
      ]
     },
     "execution_count": 36,
     "metadata": {},
     "output_type": "execute_result"
    }
   ],
   "source": [
    "# time elapsed (in local time)\n",
    "(end - start).total_seconds() / 3600"
   ]
  },
  {
   "cell_type": "code",
   "execution_count": 37,
   "metadata": {},
   "outputs": [
    {
     "data": {
      "text/plain": [
       "25.0"
      ]
     },
     "execution_count": 37,
     "metadata": {},
     "output_type": "execute_result"
    }
   ],
   "source": [
    "# time elapsed (in terms of UTC absolute time)\n",
    "(\n",
    "    end.astimezone(pydt.timezone.utc) - start.astimezone(pydt.timezone.utc)\n",
    ").total_seconds() / 3600"
   ]
  },
  {
   "cell_type": "markdown",
   "metadata": {},
   "source": [
    "- **In the fall, when the clocks are reset back to standard time, an interesting wrinkle occurs. Let's look back at our example in Washington, DC.** On November 5th, 2017, at 2 AM the clocks jumped back an hour. That means there were two 1 AMs! We've represented this by \"folding\" over our timeline to show the repeat."
   ]
  },
  {
   "cell_type": "markdown",
   "metadata": {},
   "source": [
    "<img src=\"./dst_end_example.png\">"
   ]
  },
  {
   "cell_type": "markdown",
   "metadata": {},
   "source": [
    "The first 1 AM maps to 5 AM UTC. This is the minus 4 hour UTC offset for Eastern Daylight Time we discussed previously. At 1:59:59 local time, we're at 5:59:59 UTC. The next moment, as soon as daylight saving is reset to the standard time, our local clock jumps back, but since time has not actually gone backward, the clock continues to tick in UTC. We switch to a UTC offset of minus 5 hours (colored in blue), and the second 1 AM corresponds to 6 AM UTC."
   ]
  },
  {
   "cell_type": "markdown",
   "metadata": {},
   "source": [
    "This type of time is called an **ambiguous time** since you can't exactly tell which 1 AM you're talking about."
   ]
  },
  {
   "cell_type": "markdown",
   "metadata": {},
   "source": [
    "If we only want to tell apart the first 1AM and the second 1AM we can use the `fold` attribute of a `datetime` object. When creating a datetime object we can define this fold argument. The fold argument is an integer that can be either 0 (default) or 1."
   ]
  },
  {
   "cell_type": "code",
   "execution_count": 38,
   "metadata": {},
   "outputs": [],
   "source": [
    "one_am_tz_0 = pydt.datetime(year=2017, month=11, day=5, hour=1, tzinfo=tz.gettz(\"US/Eastern\"))"
   ]
  },
  {
   "cell_type": "code",
   "execution_count": 39,
   "metadata": {},
   "outputs": [],
   "source": [
    "# same as, oen_am_tz_1 = tz.enfold(one_am_tz_0)\n",
    "one_am_tz_1 = pydt.datetime(year=2017, month=11, day=5, hour=1, tzinfo=tz.gettz(\"US/Eastern\"), fold=1)"
   ]
  },
  {
   "cell_type": "code",
   "execution_count": 40,
   "metadata": {},
   "outputs": [
    {
     "data": {
      "text/plain": [
       "(True, True)"
      ]
     },
     "execution_count": 40,
     "metadata": {},
     "output_type": "execute_result"
    }
   ],
   "source": [
    "tz.datetime_ambiguous(one_am_tz_0), tz.datetime_ambiguous(one_am_tz_1)"
   ]
  },
  {
   "cell_type": "code",
   "execution_count": 41,
   "metadata": {},
   "outputs": [],
   "source": [
    "one_am_zone_0 = pydt.datetime(\n",
    "    year=2017, month=11, day=5, hour=1, tzinfo=ZoneInfo(\"US/Eastern\")\n",
    ")"
   ]
  },
  {
   "cell_type": "code",
   "execution_count": 42,
   "metadata": {},
   "outputs": [],
   "source": [
    "one_am_zone_1 = pydt.datetime(\n",
    "    year=2017, month=11, day=5, hour=1, tzinfo=ZoneInfo(\"US/Eastern\"), fold=1\n",
    ")"
   ]
  },
  {
   "cell_type": "code",
   "execution_count": 43,
   "metadata": {},
   "outputs": [
    {
     "data": {
      "text/plain": [
       "(0, 1, 0, 1)"
      ]
     },
     "execution_count": 43,
     "metadata": {},
     "output_type": "execute_result"
    }
   ],
   "source": [
    "one_am_tz_0.fold, one_am_tz_1.fold, one_am_zone_0.fold, one_am_zone_1.fold"
   ]
  },
  {
   "cell_type": "markdown",
   "metadata": {},
   "source": [
    "**BUT** any calculation using these datetime objects will be wrong. Fold is just a placeholder, Python doesn't take it into account when doing datetime arithmetic. So we need to convert these datetime objects to UTC first, which is unambiguous, before we can do any calculations. When we really want to make sure that everything is accounted for, putting everything into UTC is the way to do it."
   ]
  },
  {
   "cell_type": "code",
   "execution_count": 44,
   "metadata": {},
   "outputs": [
    {
     "data": {
      "text/plain": [
       "(datetime.timedelta(0), datetime.timedelta(0))"
      ]
     },
     "execution_count": 44,
     "metadata": {},
     "output_type": "execute_result"
    }
   ],
   "source": [
    "(one_am_tz_1 - one_am_tz_0), (one_am_zone_1 - one_am_zone_0)"
   ]
  },
  {
   "cell_type": "code",
   "execution_count": 45,
   "metadata": {},
   "outputs": [
    {
     "data": {
      "text/plain": [
       "(datetime.timedelta(seconds=3600), datetime.timedelta(seconds=3600))"
      ]
     },
     "execution_count": 45,
     "metadata": {},
     "output_type": "execute_result"
    }
   ],
   "source": [
    "(\n",
    "    one_am_tz_1.astimezone(pydt.timezone.utc)\n",
    "    - one_am_tz_0.astimezone(pydt.timezone.utc)\n",
    "), (\n",
    "    one_am_zone_1.astimezone(pydt.timezone.utc)\n",
    "    - one_am_zone_0.astimezone(pydt.timezone.utc)\n",
    ")"
   ]
  },
  {
   "cell_type": "markdown",
   "metadata": {},
   "source": [
    "*In general, whenever we really want to be sure of the duration between events that might cross a daylight saving boundary, we need to do our math in UTC.*"
   ]
  },
  {
   "cell_type": "markdown",
   "metadata": {},
   "source": [
    "- **Daylight Saving rules are complicated:** they're different in different places, they change over time, and they usually start on a Sunday (and so they move around the calendar). For example, let's look at the UTC offset for March 29, at midnight in the UK, for the years 2000 to 2010."
   ]
  },
  {
   "cell_type": "code",
   "execution_count": 46,
   "metadata": {},
   "outputs": [
    {
     "name": "stdout",
     "output_type": "stream",
     "text": [
      "2000-03-29T00:00:00+01:00\n",
      "2001-03-29T00:00:00+01:00\n",
      "2002-03-29T00:00:00+00:00\n",
      "2003-03-29T00:00:00+00:00\n",
      "2004-03-29T00:00:00+01:00\n",
      "2005-03-29T00:00:00+01:00\n",
      "2006-03-29T00:00:00+01:00\n",
      "2007-03-29T00:00:00+01:00\n",
      "2008-03-29T00:00:00+00:00\n",
      "2009-03-29T00:00:00+00:00\n",
      "2010-03-29T00:00:00+01:00\n"
     ]
    }
   ],
   "source": [
    "# Create starting date\n",
    "dt = pydt.datetime(2000, 3, 29, tzinfo=tz.gettz(\"Europe/London\"))\n",
    "\n",
    "# Loop over the dates, replacing the year, and print the ISO timestamp\n",
    "for y in range(2000, 2011):\n",
    "    print(dt.replace(year=y).isoformat())"
   ]
  },
  {
   "cell_type": "markdown",
   "metadata": {},
   "source": [
    "Python often tries to be helpful by glossing over daylight saving time difference, and oftentimes that's what you want. However, when you do care about it, use `dateutil.tz.gettz()` or, `zoneinfo.ZoneInfo()` to set the timezone information correctly and then `switch into UTC for the most accurate comparisons between events`. "
   ]
  },
  {
   "cell_type": "markdown",
   "metadata": {},
   "source": [
    "### <a id='toc1_7_'></a>[An example of how all these might be used in practice](#toc0_)"
   ]
  },
  {
   "cell_type": "code",
   "execution_count": 47,
   "metadata": {},
   "outputs": [],
   "source": [
    "import datetime\n",
    "from datetime import timezone, timedelta"
   ]
  },
  {
   "cell_type": "code",
   "execution_count": 48,
   "metadata": {},
   "outputs": [],
   "source": [
    "timezone_info = tz.gettz(\"America/New_York\")"
   ]
  },
  {
   "cell_type": "code",
   "execution_count": 49,
   "metadata": {},
   "outputs": [],
   "source": [
    "onebike_datetimes = [{'start': datetime.datetime(2017, 10, 1, 15, 23, 25, tzinfo=timezone_info),\n",
    "  'end': datetime.datetime(2017, 10, 1, 15, 26, 26, fold=1, tzinfo=timezone_info)},\n",
    " {'start': datetime.datetime(2017, 10, 1, 15, 42, 57, tzinfo=timezone_info),\n",
    "  'end': datetime.datetime(2017, 10, 1, 17, 49, 59, fold=1, tzinfo=timezone_info)},\n",
    "  {'start': datetime.datetime(2017, 11, 5, 1, 56, 50, tzinfo=timezone_info),\n",
    "  'end': datetime.datetime(2017, 11, 5, 1, 1, 4, fold=1, tzinfo=timezone_info)},\n",
    "  {'start': datetime.datetime(2017, 12, 30, 13, 51, 3, tzinfo=timezone_info),\n",
    "  'end': datetime.datetime(2017, 12, 30, 13, 54, 33, fold=1, tzinfo=timezone_info)},\n",
    " {'start': datetime.datetime(2017, 12, 30, 15, 9, 3, tzinfo=timezone_info),\n",
    "  'end': datetime.datetime(2017, 12, 30, 15, 19, 13, fold=1, tzinfo=timezone_info)}\n",
    "]"
   ]
  },
  {
   "cell_type": "code",
   "execution_count": 50,
   "metadata": {},
   "outputs": [],
   "source": [
    "# ---------------------------------------------------------\n",
    "## Initialize a list for all the trip durations\n",
    "# ---------------------------------------------------------\n",
    "onebike_durations = []\n",
    "\n",
    "for trip in onebike_datetimes:\n",
    "  # Create a timedelta object corresponding to the length of the trip\n",
    "  trip_duration = trip[\"end\"] - trip[\"start\"]\n",
    "  \n",
    "  # Get the total elapsed seconds in trip_duration\n",
    "  trip_length_seconds = trip_duration.total_seconds()\n",
    "  \n",
    "  # Append the results to our list\n",
    "  onebike_durations.append(trip_length_seconds)"
   ]
  },
  {
   "cell_type": "code",
   "execution_count": 51,
   "metadata": {},
   "outputs": [
    {
     "name": "stdout",
     "output_type": "stream",
     "text": [
      "The shortest trip was -3346.0 seconds\n",
      "The longest trip was 7622.0 seconds\n"
     ]
    }
   ],
   "source": [
    "# Calculate shortest and longest trips\n",
    "shortest_trip = min(onebike_durations)\n",
    "longest_trip = max(onebike_durations)\n",
    "\n",
    "# Print out the results\n",
    "print(\"The shortest trip was \" + str(shortest_trip) + \" seconds\")\n",
    "print(\"The longest trip was \" + str(longest_trip) + \" seconds\")"
   ]
  },
  {
   "cell_type": "code",
   "execution_count": 52,
   "metadata": {},
   "outputs": [
    {
     "data": {
      "text/plain": [
       "[181.0, 7622.0, -3346.0, 210.0, 610.0]"
      ]
     },
     "execution_count": 52,
     "metadata": {},
     "output_type": "execute_result"
    }
   ],
   "source": [
    "onebike_durations"
   ]
  },
  {
   "cell_type": "markdown",
   "metadata": {},
   "source": [
    "So it seems there's some problems in our data."
   ]
  },
  {
   "cell_type": "code",
   "execution_count": 53,
   "metadata": {},
   "outputs": [
    {
     "name": "stdout",
     "output_type": "stream",
     "text": [
      "Ambiguous start at 2017-11-05 01:56:50-04:00\n",
      "Ambiguous end at 2017-11-05 01:01:04-05:00\n"
     ]
    }
   ],
   "source": [
    "# ----------------------------------------------\n",
    "## Finding ambiguous datetimes\n",
    "# -----------------------------------------------\n",
    "# Loop over trips\n",
    "for trip in onebike_datetimes:\n",
    "  # Rides with ambiguous start\n",
    "  if tz.datetime_ambiguous(trip[\"start\"]):\n",
    "    print(\"Ambiguous start at \" + str(trip['start']))\n",
    "  # Rides with ambiguous end\n",
    "  if tz.datetime_ambiguous(trip[\"end\"]):\n",
    "    print(\"Ambiguous end at \" + str(trip['end']))"
   ]
  },
  {
   "cell_type": "code",
   "execution_count": 54,
   "metadata": {},
   "outputs": [
    {
     "name": "stdout",
     "output_type": "stream",
     "text": [
      "Shortest trip: 181.0\n"
     ]
    }
   ],
   "source": [
    "# ---------------------------------------------------------\n",
    "## Let's fix our trip durations\n",
    "# ---------------------------------------------------------\n",
    "\n",
    "trip_durations = []\n",
    "for trip in onebike_datetimes:\n",
    "  # Convert to UTC\n",
    "  start = trip['start'].astimezone(timezone.utc)\n",
    "  end = trip['end'].astimezone(timezone.utc)\n",
    "\n",
    "  # Subtract the difference\n",
    "  trip_length_seconds = (end-start).total_seconds()\n",
    "  trip_durations.append(trip_length_seconds)\n",
    "\n",
    "# Take the shortest trip duration\n",
    "print(\"Shortest trip: \" + str(min(trip_durations)))"
   ]
  },
  {
   "cell_type": "code",
   "execution_count": 55,
   "metadata": {},
   "outputs": [
    {
     "data": {
      "text/plain": [
       "[181.0, 7622.0, 254.0, 210.0, 610.0]"
      ]
     },
     "execution_count": 55,
     "metadata": {},
     "output_type": "execute_result"
    }
   ],
   "source": [
    "trip_durations"
   ]
  },
  {
   "cell_type": "code",
   "execution_count": null,
   "metadata": {},
   "outputs": [],
   "source": []
  }
 ],
 "metadata": {
  "kernelspec": {
   "display_name": "ml_intro",
   "language": "python",
   "name": "python3"
  },
  "language_info": {
   "codemirror_mode": {
    "name": "ipython",
    "version": 3
   },
   "file_extension": ".py",
   "mimetype": "text/x-python",
   "name": "python",
   "nbconvert_exporter": "python",
   "pygments_lexer": "ipython3",
   "version": "3.11.6"
  },
  "orig_nbformat": 4
 },
 "nbformat": 4,
 "nbformat_minor": 2
}
