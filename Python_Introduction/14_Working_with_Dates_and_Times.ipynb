{
 "cells": [
  {
   "cell_type": "markdown",
   "metadata": {},
   "source": [
    "<u>Resources</u>\n",
    "- Official documentation (https://docs.python.org/3/library/datetime.html)\n",
    "- Python \"datetime\" module by GeeksForGeeks (https://www.geeksforgeeks.org/python-datetime-module/)\n"
   ]
  },
  {
   "cell_type": "code",
   "execution_count": 1,
   "metadata": {},
   "outputs": [],
   "source": [
    "import datetime as pydt"
   ]
  },
  {
   "cell_type": "markdown",
   "metadata": {},
   "source": [
    "### The `date` objects"
   ]
  },
  {
   "cell_type": "markdown",
   "metadata": {},
   "source": [
    "> The `datetime.date(year, month, day)` can be used to create an idealized naive date, assuming the current Gregorian calendar always was, and always will be, in effect. All the arguments should be \"int\" type.\n",
    ">> **Attributes:** year, month, and day.\n",
    ">\n",
    ">> Documentation: https://docs.python.org/3/library/datetime.html#date-objects"
   ]
  },
  {
   "cell_type": "code",
   "execution_count": 3,
   "metadata": {},
   "outputs": [],
   "source": [
    "bd_victory_day = pydt.date(1971, 12, 16)"
   ]
  },
  {
   "cell_type": "code",
   "execution_count": 5,
   "metadata": {},
   "outputs": [
    {
     "name": "stdout",
     "output_type": "stream",
     "text": [
      "Year: 1971\n",
      "Month: 12\n",
      "Day: 16\n"
     ]
    }
   ],
   "source": [
    "print(f\"Year: {bd_victory_day.year}\")\n",
    "print(f\"Month: {bd_victory_day.month}\")\n",
    "print(f\"Day: {bd_victory_day.day}\")"
   ]
  },
  {
   "cell_type": "markdown",
   "metadata": {},
   "source": [
    "<u>Some of the useful class and instance methods:</u>\n",
    "\n",
    "- `date.today()` returns the current local date.\n",
    "\n",
    "- `date.weekday()` returns the day of the week as an integer, where Monday is 0 and Sunday is 6.\n",
    "\n",
    "- `date.isocalendar()` returns a named tuple with 3 components: year, week, and weekday.\n",
    "\n",
    "- `date.isoformat()` returns a string representing the date in ISO 8601 format, 'YYYY-MM-DD'. This maybe specially useful in certain scenarios. For example, to print results, to put dates into filenames, or to write dates out to CSV or Excel files. One major advantage of ISO formatted dates is that they are sorted correctly in chronological order, e.g, when sorted with the `sorted()` function.\n",
    "\n",
    "- `date.strftime(format)` returns a string representing the date, controlled by an explicit format string. For details see [here](https://docs.python.org/3/library/datetime.html#strftime-strptime-behavior).\n",
    "\n",
    "- `date.fromisoformat(date_string)` returns a date corresponding to a date_string given in any valid ISO 8601 format, except ordinal dates (e.g. YYYY-DDD).\n",
    "\n",
    "- `date.fromtimestamp(timestamp)` returns the local date corresponding to the POSIX timestamp, such as is returned by *time.time()*. The timestamp is the number of seconds from 1st January 1970 at UTC to a particular date.\n",
    "\n",
    "- `date.replace(year=self.year, month=self.month, day=self.day)` returns a date with the same value, except the parameters for which a new value was specified."
   ]
  },
  {
   "cell_type": "code",
   "execution_count": 13,
   "metadata": {},
   "outputs": [
    {
     "name": "stdout",
     "output_type": "stream",
     "text": [
      "December (1971) - 350\n"
     ]
    }
   ],
   "source": [
    "# for example here we use the .strftime method to print \n",
    "# the bd_victory_day date as MONTH (YYYY) - day_of_the_year\n",
    "print(bd_victory_day.strftime(\"%B (%Y) - %j\"))"
   ]
  },
  {
   "cell_type": "markdown",
   "metadata": {},
   "source": [
    "<u>Supported mathematical operations:</u>\n",
    "\n",
    "Operation | Result\n",
    "----------|------------\n",
    "*date2 = date1 + timedelta* | date2 is moved forward in time if `timedelta.days > 0`, or backward if `timedelta.days < 0`. Afterward, *date2 - date1 == timedelta.days*.\n",
    "*date2 = date1 - timedelta* | Computes date2 such that, *date2 + timedelta == date1*.\n",
    "*timedelta = date1 - date2* | Result is a `timedelta` object. Afterward, *date2 + timedelta == date1*.\n",
    "*date1 < date2* | Compare two dates. True if and only if *date1.toordinal() < date2.toordinal()*.\n",
    "\n",
    "**Note:** Usually, *timedelta.seconds* and *timedelta.microseconds* are ignored."
   ]
  },
  {
   "cell_type": "markdown",
   "metadata": {},
   "source": [
    "### The `time` objects"
   ]
  },
  {
   "cell_type": "markdown",
   "metadata": {},
   "source": [
    "> The `datetime.time(hour=0, minute=0, second=0, microsecond=0, tzinfo=None, *, fold=0)\n",
    "` can be used to create an idealized time, independent of any particular day, assuming that every day has exactly 24*60*60 seconds. There is no notion of “leap seconds” here. All the arguments are optional. *tzinfo* can be None otherwise all the attributes must be integer in a valid range (see documentation for exact info on the range).\n",
    ">> **Attributes:** hour, minute, second, microsecond, and tzinfo.\n",
    ">\n",
    ">> Documentation: https://docs.python.org/3/library/datetime.html#time-objects"
   ]
  },
  {
   "cell_type": "code",
   "execution_count": 9,
   "metadata": {},
   "outputs": [],
   "source": [
    "midnight = pydt.time()\n",
    "midday = pydt.time(12, 0, 0)"
   ]
  },
  {
   "cell_type": "code",
   "execution_count": 10,
   "metadata": {},
   "outputs": [
    {
     "data": {
      "text/plain": [
       "(datetime.time(0, 0), datetime.time(12, 0))"
      ]
     },
     "execution_count": 10,
     "metadata": {},
     "output_type": "execute_result"
    }
   ],
   "source": [
    "midnight, midday"
   ]
  },
  {
   "cell_type": "code",
   "execution_count": 12,
   "metadata": {},
   "outputs": [
    {
     "name": "stdout",
     "output_type": "stream",
     "text": [
      "Hour: 0\n",
      "Minute: 0\n",
      "Second: 0\n"
     ]
    }
   ],
   "source": [
    "print(f\"Hour: {midnight.hour}\")\n",
    "print(f\"Minute: {midnight.minute}\")\n",
    "print(f\"Second: {midnight.second}\")"
   ]
  },
  {
   "cell_type": "markdown",
   "metadata": {},
   "source": [
    "<u>Some of the useful class and instance methods:</u>\n",
    "\n",
    "- `time.isoformat()` returns a string representing the time in ISO 8601 format. See details [here](https://docs.python.org/3/library/datetime.html#datetime.time.isoformat).\n",
    "\n",
    "- `time.strftime(format)` returns a string representing the time, controlled by an explicit format string. For details see [here](https://docs.python.org/3/library/datetime.html#strftime-strptime-behavior).\n",
    "\n",
    "- `date.fromisoformat(time_string)` returns a time corresponding to a time_string given in the ISO 8601 format e.g, 'HH:MM:SS.mmmmmm'.\n",
    "\n",
    "- `time.replace(hour=self.hour, minute=self.minute, second=self.second, microsecond=self.microsecond, tzinfo=self.tzinfo, *, fold=0)` returns a time with the same value, except for those parameters for which new values are defined by whichever keyword arguments are specified."
   ]
  },
  {
   "cell_type": "markdown",
   "metadata": {},
   "source": [
    "### The `datetime` objects"
   ]
  },
  {
   "cell_type": "markdown",
   "metadata": {},
   "source": [
    "> A combination of a date and a time. \n",
    ">> Attributes: year, month, day, hour, minute, second, microsecond, and tzinfo.\n",
    ">\n",
    ">> Documentation: https://docs.python.org/3/library/datetime.html#datetime-objects"
   ]
  },
  {
   "cell_type": "code",
   "execution_count": null,
   "metadata": {},
   "outputs": [],
   "source": [
    "# the file, \"ML_Intro/datasets/capital-onebike.csv\" contains\n",
    "# data from Capital Bikeshare, the oldest municipal shared bike program in the United States. \n",
    "# Throughout the Washington, DC area, you will find these special bike docks, where riders can \n",
    "# pay to take a bike, ride it, and return to this or any other station in the network. We will be \n",
    "# following one bike, ID number \"W20529\", on all the trips it took in October, November, and \n",
    "# December of 2017. Each trip consisted of a date and time when a bike was undocked from a station, \n",
    "# then some time passed, and the date and time when W20529 was docked again. "
   ]
  },
  {
   "cell_type": "code",
   "execution_count": null,
   "metadata": {},
   "outputs": [],
   "source": []
  },
  {
   "cell_type": "markdown",
   "metadata": {},
   "source": [
    "### The `timedelta` objects"
   ]
  },
  {
   "cell_type": "markdown",
   "metadata": {},
   "source": [
    "> A duration expressing the difference between two date, time, or datetime instances to microsecond resolution.\n",
    ">> Documentation: https://docs.python.org/3/library/datetime.html#timedelta-objects"
   ]
  },
  {
   "cell_type": "code",
   "execution_count": null,
   "metadata": {},
   "outputs": [],
   "source": []
  },
  {
   "cell_type": "code",
   "execution_count": null,
   "metadata": {},
   "outputs": [],
   "source": []
  },
  {
   "cell_type": "markdown",
   "metadata": {},
   "source": [
    "### The `tzinfo` objects"
   ]
  },
  {
   "cell_type": "markdown",
   "metadata": {},
   "source": [
    "> An abstract base class for time zone information objects. These are used by the datetime and time classes to provide a customizable notion of time adjustment (for example, to account for time zone and/or daylight saving time).\n",
    ">> Documentation: https://docs.python.org/3/library/datetime.html#tzinfo-objects "
   ]
  },
  {
   "cell_type": "code",
   "execution_count": null,
   "metadata": {},
   "outputs": [],
   "source": []
  },
  {
   "cell_type": "code",
   "execution_count": null,
   "metadata": {},
   "outputs": [],
   "source": []
  },
  {
   "cell_type": "markdown",
   "metadata": {},
   "source": [
    "### The Timezone class and `timezone` objects"
   ]
  },
  {
   "cell_type": "markdown",
   "metadata": {},
   "source": [
    "> A class that implements the tzinfo abstract base class as a fixed offset from the UTC.\n",
    ">> Documentation: https://docs.python.org/3/library/datetime.html#timezone-objects "
   ]
  },
  {
   "cell_type": "code",
   "execution_count": null,
   "metadata": {},
   "outputs": [],
   "source": []
  },
  {
   "cell_type": "code",
   "execution_count": null,
   "metadata": {},
   "outputs": [],
   "source": []
  }
 ],
 "metadata": {
  "kernelspec": {
   "display_name": "ml_intro",
   "language": "python",
   "name": "python3"
  },
  "language_info": {
   "codemirror_mode": {
    "name": "ipython",
    "version": 3
   },
   "file_extension": ".py",
   "mimetype": "text/x-python",
   "name": "python",
   "nbconvert_exporter": "python",
   "pygments_lexer": "ipython3",
   "version": "3.11.6"
  },
  "orig_nbformat": 4
 },
 "nbformat": 4,
 "nbformat_minor": 2
}
