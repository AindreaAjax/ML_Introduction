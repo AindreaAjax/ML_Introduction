{
 "cells": [
  {
   "cell_type": "markdown",
   "metadata": {},
   "source": [
    "**Table of contents**<a id='toc0_'></a>    \n",
    "- [Python DateTime Module](#toc1_)    \n",
    "  - [The `date` objects](#toc1_1_)    \n",
    "  - [The `time` objects](#toc1_2_)    \n",
    "  - [The `datetime` objects](#toc1_3_)    \n",
    "  - [The `timedelta` objects](#toc1_4_)    \n",
    "  - [The `tzinfo` objects](#toc1_5_)    \n",
    "  - [The `timezone` objects](#toc1_6_)    \n",
    "\n",
    "<!-- vscode-jupyter-toc-config\n",
    "\tnumbering=false\n",
    "\tanchor=true\n",
    "\tflat=false\n",
    "\tminLevel=2\n",
    "\tmaxLevel=5\n",
    "\t/vscode-jupyter-toc-config -->\n",
    "<!-- THIS CELL WILL BE REPLACED ON TOC UPDATE. DO NOT WRITE YOUR TEXT IN THIS CELL -->"
   ]
  },
  {
   "cell_type": "markdown",
   "metadata": {},
   "source": [
    "<u>Resources</u>\n",
    "- Official documentation (https://docs.python.org/3/library/datetime.html)\n",
    "- Python \"datetime\" module by GeeksForGeeks (https://www.geeksforgeeks.org/python-datetime-module/)\n"
   ]
  },
  {
   "cell_type": "code",
   "execution_count": 1,
   "metadata": {},
   "outputs": [],
   "source": [
    "import datetime as pydt"
   ]
  },
  {
   "cell_type": "markdown",
   "metadata": {},
   "source": [
    "## <a id='toc1_'></a>[Python DateTime Module](#toc0_)"
   ]
  },
  {
   "cell_type": "markdown",
   "metadata": {},
   "source": [
    "### <a id='toc1_1_'></a>[The `date` objects](#toc0_)"
   ]
  },
  {
   "cell_type": "markdown",
   "metadata": {},
   "source": [
    "> The `datetime.date(year, month, day)` can be used to create an idealized naive date, assuming the current Gregorian calendar always was, and always will be, in effect. All the arguments should be \"int\" type.\n",
    ">> **Attributes:** year, month, and day.\n",
    ">\n",
    ">> Documentation: https://docs.python.org/3/library/datetime.html#date-objects"
   ]
  },
  {
   "cell_type": "code",
   "execution_count": 2,
   "metadata": {},
   "outputs": [],
   "source": [
    "bd_victory_day = pydt.date(1971, 12, 16)"
   ]
  },
  {
   "cell_type": "code",
   "execution_count": 3,
   "metadata": {},
   "outputs": [
    {
     "name": "stdout",
     "output_type": "stream",
     "text": [
      "Year: 1971\n",
      "Month: 12\n",
      "Day: 16\n"
     ]
    }
   ],
   "source": [
    "print(f\"Year: {bd_victory_day.year}\")\n",
    "print(f\"Month: {bd_victory_day.month}\")\n",
    "print(f\"Day: {bd_victory_day.day}\")"
   ]
  },
  {
   "cell_type": "markdown",
   "metadata": {},
   "source": [
    "<u>Some of the useful class and instance methods:</u>\n",
    "\n",
    "- `date.today()` returns the current local date.\n",
    "\n",
    "- `date.weekday()` returns the day of the week as an integer, where Monday is 0 and Sunday is 6.\n",
    "\n",
    "- `date.isocalendar()` returns a named tuple with 3 components: year, week, and weekday.\n",
    "\n",
    "- `date.isoformat()` returns a string representing the date in ISO 8601 format, 'YYYY-MM-DD'. This maybe specially useful in certain scenarios. For example, to print results, to put dates into filenames, or to write dates out to CSV or Excel files. One major advantage of ISO formatted dates is that they are sorted correctly in chronological order, e.g, when sorted with the `sorted()` function.\n",
    "\n",
    "- `date.strftime(format)` returns a string representing the date, controlled by an explicit format string. For details see [here](https://docs.python.org/3/library/datetime.html#strftime-strptime-behavior).\n",
    "\n",
    "- `date.fromisoformat(date_string)` returns a date corresponding to a date_string given in any valid ISO 8601 format, except ordinal dates (e.g. YYYY-DDD).\n",
    "\n",
    "- `date.fromtimestamp(timestamp)` returns the local date corresponding to the POSIX timestamp, such as is returned by *time.time()*. The timestamp is the number of seconds from 1st January 1970 at UTC to a particular date.\n",
    "\n",
    "- `date.replace(year=self.year, month=self.month, day=self.day)` returns a date with the same value, except the parameters for which a new value was specified."
   ]
  },
  {
   "cell_type": "code",
   "execution_count": 4,
   "metadata": {},
   "outputs": [
    {
     "name": "stdout",
     "output_type": "stream",
     "text": [
      "December (1971) - 350\n"
     ]
    }
   ],
   "source": [
    "# for example here we use the .strftime method to print \n",
    "# the bd_victory_day date as MONTH (YYYY) - day_of_the_year\n",
    "print(bd_victory_day.strftime(\"%B (%Y) - %j\"))"
   ]
  },
  {
   "cell_type": "markdown",
   "metadata": {},
   "source": [
    "<u>Supported mathematical operations:</u>\n",
    "\n",
    "Operation | Result\n",
    "----------|------------\n",
    "*date2 = date1 + timedelta* | date2 is moved forward in time if `timedelta.days > 0`, or backward if `timedelta.days < 0`. Afterward, *date2 - date1 == timedelta.days*.\n",
    "*date2 = date1 - timedelta* | Computes date2 such that, *date2 + timedelta == date1*.\n",
    "*timedelta = date1 - date2* | Result is a `timedelta` object. Afterward, *date2 + timedelta == date1*.\n",
    "*date1 < date2* | Compare two dates. True if and only if *date1.toordinal() < date2.toordinal()*.\n",
    "\n",
    "**Note:** Usually, *timedelta.seconds* and *timedelta.microseconds* are ignored."
   ]
  },
  {
   "cell_type": "markdown",
   "metadata": {},
   "source": [
    "### <a id='toc1_2_'></a>[The `time` objects](#toc0_)"
   ]
  },
  {
   "cell_type": "markdown",
   "metadata": {},
   "source": [
    "> The `datetime.time(hour=0, minute=0, second=0, microsecond=0, tzinfo=None, *, fold=0)\n",
    "` can be used to create an idealized time, independent of any particular day, assuming that every day has exactly 24*60*60 seconds. There is no notion of “leap seconds” here. All the arguments are optional. *tzinfo* can be None otherwise all the attributes must be integer in a valid range (see documentation for exact info on the range).\n",
    ">> **Attributes:** hour, minute, second, microsecond, and tzinfo.\n",
    ">\n",
    ">> Documentation: https://docs.python.org/3/library/datetime.html#time-objects"
   ]
  },
  {
   "cell_type": "code",
   "execution_count": 5,
   "metadata": {},
   "outputs": [],
   "source": [
    "midnight = pydt.time()\n",
    "midday = pydt.time(12, 0, 0)"
   ]
  },
  {
   "cell_type": "code",
   "execution_count": 6,
   "metadata": {},
   "outputs": [
    {
     "data": {
      "text/plain": [
       "(datetime.time(0, 0), datetime.time(12, 0))"
      ]
     },
     "execution_count": 6,
     "metadata": {},
     "output_type": "execute_result"
    }
   ],
   "source": [
    "midnight, midday"
   ]
  },
  {
   "cell_type": "code",
   "execution_count": 7,
   "metadata": {},
   "outputs": [
    {
     "name": "stdout",
     "output_type": "stream",
     "text": [
      "Hour: 0\n",
      "Minute: 0\n",
      "Second: 0\n"
     ]
    }
   ],
   "source": [
    "print(f\"Hour: {midnight.hour}\")\n",
    "print(f\"Minute: {midnight.minute}\")\n",
    "print(f\"Second: {midnight.second}\")"
   ]
  },
  {
   "cell_type": "markdown",
   "metadata": {},
   "source": [
    "<u>Some of the useful class and instance methods:</u>\n",
    "\n",
    "- `time.isoformat()` returns a string representing the time in ISO 8601 format. See details [here](https://docs.python.org/3/library/datetime.html#datetime.time.isoformat).\n",
    "\n",
    "- `time.strftime(format)` returns a string representing the time, controlled by an explicit format string. For details see [here](https://docs.python.org/3/library/datetime.html#strftime-strptime-behavior).\n",
    "\n",
    "- `date.fromisoformat(time_string)` returns a time corresponding to a time_string given in the ISO 8601 format e.g, 'HH:MM:SS.mmmmmm'.\n",
    "\n",
    "- `time.replace(hour=self.hour, minute=self.minute, second=self.second, microsecond=self.microsecond, tzinfo=self.tzinfo, *, fold=0)` returns a time with the same value, except for those parameters for which new values are defined by whichever keyword arguments are specified."
   ]
  },
  {
   "cell_type": "markdown",
   "metadata": {},
   "source": [
    "### <a id='toc1_3_'></a>[The `datetime` objects](#toc0_)"
   ]
  },
  {
   "cell_type": "markdown",
   "metadata": {},
   "source": [
    "> A combination of a date and a time. Like a date object, datetime assumes the current Gregorian calendar extended in both directions; like a time object, datetime assumes there are exactly 3600*24 seconds in every day. The `datetime.datetime(year, month, day, hour=0, minute=0, second=0, microsecond=0, tzinfo=None, *, fold=0)` function is used to create a datetime object. The year, month and day arguments are required. tzinfo may be None, or an instance of a tzinfo subclass. The remaining arguments must be integers in a valid range (see documentation for specifics).\n",
    ">> **Attributes:** year, month, day, hour, minute, second, microsecond, and tzinfo.\n",
    ">\n",
    ">> Documentation: https://docs.python.org/3/library/datetime.html#datetime-objects"
   ]
  },
  {
   "cell_type": "code",
   "execution_count": 8,
   "metadata": {},
   "outputs": [],
   "source": [
    "# the datetime module was imported as pydt so, datetime.datetime becomes pydt.datetime\n",
    "random_datetime = pydt.datetime(year=2014, month=2, day=18, hour=13, minute=20, second=45, tzinfo=pydt.timezone(pydt.timedelta(hours=6)))"
   ]
  },
  {
   "cell_type": "code",
   "execution_count": 9,
   "metadata": {},
   "outputs": [
    {
     "data": {
      "text/plain": [
       "datetime.datetime(2014, 2, 18, 13, 20, 45, tzinfo=datetime.timezone(datetime.timedelta(seconds=21600)))"
      ]
     },
     "execution_count": 9,
     "metadata": {},
     "output_type": "execute_result"
    }
   ],
   "source": [
    "random_datetime"
   ]
  },
  {
   "cell_type": "code",
   "execution_count": 10,
   "metadata": {},
   "outputs": [
    {
     "data": {
      "text/plain": [
       "datetime.timezone(datetime.timedelta(seconds=21600))"
      ]
     },
     "execution_count": 10,
     "metadata": {},
     "output_type": "execute_result"
    }
   ],
   "source": [
    "random_datetime.tzinfo"
   ]
  },
  {
   "cell_type": "markdown",
   "metadata": {},
   "source": [
    "<u>Useful class and instance methods:</u>\n",
    "\n",
    "- `datetime.today()` returns the current local datetime with *tzinfo=None*.\n",
    "\n",
    "- `datetime.now(tz=None)` returns the current local date and time with the specified timezone info.\n",
    "\n",
    "- `datetime.utcnow()` returns the current UTC date and time with *tzinfo=None*.\n",
    "\n",
    "- `datetime.fromtimestamp(timestamp, tz=None)` returns the local date and time corresponding to the POSIX timestamp.\n",
    "\n",
    "- `datetime.utcfromtimestamp(timestamp)` returns the UTC datetime corresponding to the POSIX timestamp.\n",
    "\n",
    "- `datetime.fromisoformat(date_string)` returns a datetime corresponding to a date_string in any valid ISO 8601 format (with certain exceptions).\n",
    "\n",
    "- `datetime.fromisocalendar(year, week, day)` returns a datetime corresponding to the ISO calendar date specified by year, week and day. The non-date components of the datetime are populated with their normal default values.\n",
    "\n",
    "- `datetime.strptime(date_string, format)` returns a datetime corresponding to date_string, parsed according to format. \n",
    "\n",
    "- `datetime.strftime(format)` returns a string representing the date and time, controlled by an explicit format string. For details see [here](https://docs.python.org/3/library/datetime.html#strftime-strptime-behavior).\n",
    "\n",
    "- `datetime.astimezone(tz=None)` returns a datetime object with new tzinfo attribute tz, adjusting the date and time data so the result is the same UTC time as self, but in tz’s local time.\n",
    "\n",
    "- `datetime.replace(year=self.year, month=self.month, day=self.day, hour=self.hour, minute=self.minute, second=self.second, microsecond=self.microsecond, tzinfo=self.tzinfo, *, fold=0)` returns a datetime with the same attributes, except for those attributes given new values by whichever keyword arguments are specified. Note that tzinfo=None can be specified to create a naive datetime from an aware datetime with no conversion of date and time data.\n",
    "\n",
    "- `datetime.combine(date, time, tzinfo=self.tzinfo, *, fold=0)` returns a new datetime object whose date components are equal to the given date object’s, and whose time components and tzinfo attributes are equal to the given time object’s.\n",
    "\n",
    "- `datetime.utcoffset()` returns None if tzinfo is None, else returns *self.tzinfo.utcoffset(self)*.\n",
    "\n",
    "- `datetime.dst()` returns None if tzinfo is None, else returns *self.tzinfo.dst(self)*.\n",
    "\n",
    "- `datetime.tzname()` returns None if tzinfo is None, else returns *self.tzinfo.tzname(self)*.\n",
    "\n",
    "- `datetime.timestamp()` returns POSIX timestamp as float.\n",
    "\n",
    "- `datetime.isocalendar()` returns a named tuple with 3 components: year, week, and weekday.\n",
    "\n",
    "- `datetime.isoformat(sep='T', timespec='auto')` returns a string representing the date and time in ISO 8601 format."
   ]
  },
  {
   "cell_type": "code",
   "execution_count": 11,
   "metadata": {},
   "outputs": [
    {
     "name": "stdout",
     "output_type": "stream",
     "text": [
      "Current local datetime (system time at current timezone): 2023-10-11 21:39:31.312074\n",
      "Current UTC datetime: 2023-10-11 15:39:31.314887\n",
      "Current local datetime for a particular timezone (UTC +3): 2023-10-11 18:39:31.315012+03:00\n"
     ]
    }
   ],
   "source": [
    "print(f\"Current local datetime (system time at current timezone): {pydt.datetime.today()}\")\n",
    "print(f\"Current UTC datetime: {pydt.datetime.utcnow()}\")\n",
    "print(f\"Current local datetime for a particular timezone (UTC +3): {pydt.datetime.now(tz=pydt.timezone(pydt.timedelta(hours=3)))}\")"
   ]
  },
  {
   "cell_type": "code",
   "execution_count": 12,
   "metadata": {},
   "outputs": [
    {
     "data": {
      "text/plain": [
       "datetime.timedelta(seconds=21600)"
      ]
     },
     "execution_count": 12,
     "metadata": {},
     "output_type": "execute_result"
    }
   ],
   "source": [
    "random_datetime.utcoffset()"
   ]
  },
  {
   "cell_type": "code",
   "execution_count": 13,
   "metadata": {},
   "outputs": [
    {
     "data": {
      "text/plain": [
       "'UTC+06:00'"
      ]
     },
     "execution_count": 13,
     "metadata": {},
     "output_type": "execute_result"
    }
   ],
   "source": [
    "random_datetime.tzname()"
   ]
  },
  {
   "cell_type": "markdown",
   "metadata": {},
   "source": [
    "### <a id='toc1_4_'></a>[The `timedelta` objects](#toc0_)"
   ]
  },
  {
   "cell_type": "markdown",
   "metadata": {},
   "source": [
    "> A timedelta object expreses a duration i.e, the difference between two date, time, or datetime instances to microsecond resolution. The `datetime.timedelta(days=0, seconds=0, microseconds=0, milliseconds=0, minutes=0, hours=0, weeks=0)` function can be used to create a timedelta object. Arguments may be integers or floats, and may be positive or negative. All the arguments are optional. Any arguments besides *days, seconds and microseconds* are “merged” and normalized into those three resulting attributes. Note that normalization of negative values may be surprising at first. To see exactly how the arguments are handled see the documentation.\n",
    ">> **Attributes:** days, seconds, microseconds.\n",
    ">\n",
    ">> Documentation: https://docs.python.org/3/library/datetime.html#timedelta-objects\n",
    ">\n",
    ">> Supported operations: A whole lot of mathematical operations are supported such as, integer/float multiplication, time addition/subtraction/division etc. See the documentation for more details."
   ]
  },
  {
   "cell_type": "code",
   "execution_count": 14,
   "metadata": {},
   "outputs": [],
   "source": [
    "timedelta_neg_ms = pydt.timedelta(microseconds=-1)"
   ]
  },
  {
   "cell_type": "code",
   "execution_count": 15,
   "metadata": {},
   "outputs": [
    {
     "data": {
      "text/plain": [
       "datetime.timedelta(days=-1, seconds=86399, microseconds=999999)"
      ]
     },
     "execution_count": 15,
     "metadata": {},
     "output_type": "execute_result"
    }
   ],
   "source": [
    "timedelta_neg_ms"
   ]
  },
  {
   "cell_type": "markdown",
   "metadata": {},
   "source": [
    "<u>Useful class and instance methods:</u>\n",
    "\n",
    "- `timedelta.total_seconds()` returns the total number of seconds contained in the duration. Equivalent to $td / timedelta(seconds=1)$. \n",
    "\n",
    "- For interval units other than seconds (i.e, to get total days/weeks/microseconds etc.), use the division form directly e.g. $td / timedelta(microseconds=1)$."
   ]
  },
  {
   "cell_type": "markdown",
   "metadata": {},
   "source": [
    "### <a id='toc1_5_'></a>[The `tzinfo` objects](#toc0_)"
   ]
  },
  {
   "cell_type": "markdown",
   "metadata": {},
   "source": [
    "> The `tzinfo` class is an **abstract base class** for time zone information objects, meaning that *this class should not be instantiated directly*. These are used by the datetime and time classes to provide a customizable notion of time adjustment (for example, to account for time zone and/or daylight saving time).\n",
    ">> Documentation: https://docs.python.org/3/library/datetime.html#tzinfo-objects "
   ]
  },
  {
   "cell_type": "markdown",
   "metadata": {},
   "source": [
    "### <a id='toc1_6_'></a>[The `timezone` objects](#toc0_)"
   ]
  },
  {
   "cell_type": "markdown",
   "metadata": {},
   "source": [
    "> The `timezone` class is a subclass of tzinfo, each instance of which represents a timezone defined by a fixed offset from UTC. Objects of this class cannot be used to represent timezone information in the locations where different offsets are used in different days of the year or where historical changes have been made to civil time.\n",
    ">\n",
    ">> The `datetime.timezone(offset, name=None)` function is used to create an instance of the *timezone* class. The **offset** argument must be specified as a `timedelta object` representing the difference between the local time and UTC. It must be strictly between *-timedelta(hours=24) and timedelta(hours=24)*, otherwise ValueError is raised. The **name** argument is optional. If specified it must be a **string** that will be used as the value returned by the `datetime.tzname()` method.\n",
    ">\n",
    ">> **Attributes:** utc (The UTC timezone, *timezone(timedelta(0))*).\n",
    "> \n",
    ">> Documentation: https://docs.python.org/3/library/datetime.html#timezone-objects "
   ]
  },
  {
   "cell_type": "code",
   "execution_count": 16,
   "metadata": {},
   "outputs": [],
   "source": [
    "dhaka_timezone = pydt.timezone(pydt.timedelta(hours=6), \"Dhaka\")"
   ]
  },
  {
   "cell_type": "code",
   "execution_count": 17,
   "metadata": {},
   "outputs": [
    {
     "data": {
      "text/plain": [
       "datetime.timezone(datetime.timedelta(seconds=21600), 'Dhaka')"
      ]
     },
     "execution_count": 17,
     "metadata": {},
     "output_type": "execute_result"
    }
   ],
   "source": [
    "dhaka_timezone"
   ]
  },
  {
   "cell_type": "markdown",
   "metadata": {},
   "source": [
    "> The `zoneinfo` module provides a concrete time zone implementation to support the **IANA time zone database**. By default, zoneinfo uses the system’s time zone data if available; if no system time zone data is available, the library will fall back to using the first-party tzdata package. It is intended to be attached to `tzinfo`, either via the `constructor i.e, datetime.datetime()`, the `datetime.replace` method or `datetime.astimezone` method. Datetimes constructed in this way are compatible with datetime arithmetic and **handle daylight saving time transitions with no further intervention**.\n",
    ">\n",
    ">> Documentation: https://docs.python.org/3/library/zoneinfo.html#module-zoneinfo"
   ]
  },
  {
   "cell_type": "code",
   "execution_count": 18,
   "metadata": {},
   "outputs": [],
   "source": [
    "from zoneinfo import ZoneInfo"
   ]
  },
  {
   "cell_type": "markdown",
   "metadata": {},
   "source": [
    "The time zone is `America/Los_Angeles` and it has the following daylight saving time transition dates:\n",
    "\n",
    "-> Pacific Standard Time (PST): Pacific Standard Time is the standard time that is followed during the winter season. Usually, it is observed from early November of every year to mid-March the following year. Meanwhile, PST is 8 hours behind Universal Time during winter.\n",
    "\n",
    "-> Pacific Daylight Time (PDT): Pacific Daylight Time is the time zone followed during the summer months. It is observed in Canada, United States, and Mexico. This time zone begins from Mid March but usually ends in Early November in the same year. Remember that the standard time is 7 hours behind the GMT and is kept one hour ahead of the PST. Doing so saves energy during the day."
   ]
  },
  {
   "cell_type": "code",
   "execution_count": 19,
   "metadata": {},
   "outputs": [],
   "source": [
    "rdn_dt = pydt.datetime(year=2020, month=10, day=31, hour=12, tzinfo=ZoneInfo(\"America/Los_Angeles\"))"
   ]
  },
  {
   "cell_type": "code",
   "execution_count": 20,
   "metadata": {},
   "outputs": [
    {
     "data": {
      "text/plain": [
       "'2020-10-31T12:00:00-07:00'"
      ]
     },
     "execution_count": 20,
     "metadata": {},
     "output_type": "execute_result"
    }
   ],
   "source": [
    "rdn_dt.isoformat()"
   ]
  },
  {
   "cell_type": "code",
   "execution_count": 21,
   "metadata": {},
   "outputs": [
    {
     "data": {
      "text/plain": [
       "'PDT'"
      ]
     },
     "execution_count": 21,
     "metadata": {},
     "output_type": "execute_result"
    }
   ],
   "source": [
    "rdn_dt.tzname()"
   ]
  },
  {
   "cell_type": "code",
   "execution_count": 22,
   "metadata": {},
   "outputs": [
    {
     "data": {
      "text/plain": [
       "datetime.timedelta(seconds=3600)"
      ]
     },
     "execution_count": 22,
     "metadata": {},
     "output_type": "execute_result"
    }
   ],
   "source": [
    "rdn_dt.dst()"
   ]
  },
  {
   "cell_type": "markdown",
   "metadata": {},
   "source": [
    "But, when we add a day to this date, the time goes back to PST. We don't need to change the timezone info or anything. This is because the `zoneinfo` module handles daylight saving time transitions automatically."
   ]
  },
  {
   "cell_type": "code",
   "execution_count": 23,
   "metadata": {},
   "outputs": [],
   "source": [
    "rdn_dt_add = rdn_dt + pydt.timedelta(days=1)"
   ]
  },
  {
   "cell_type": "code",
   "execution_count": 24,
   "metadata": {},
   "outputs": [
    {
     "data": {
      "text/plain": [
       "'2020-11-01T12:00:00-08:00'"
      ]
     },
     "execution_count": 24,
     "metadata": {},
     "output_type": "execute_result"
    }
   ],
   "source": [
    "rdn_dt_add.isoformat()"
   ]
  },
  {
   "cell_type": "code",
   "execution_count": 25,
   "metadata": {},
   "outputs": [
    {
     "data": {
      "text/plain": [
       "'PST'"
      ]
     },
     "execution_count": 25,
     "metadata": {},
     "output_type": "execute_result"
    }
   ],
   "source": [
    "rdn_dt_add.tzname()"
   ]
  },
  {
   "cell_type": "code",
   "execution_count": 26,
   "metadata": {},
   "outputs": [
    {
     "data": {
      "text/plain": [
       "datetime.timedelta(0)"
      ]
     },
     "execution_count": 26,
     "metadata": {},
     "output_type": "execute_result"
    }
   ],
   "source": [
    "rdn_dt_add.dst()"
   ]
  },
  {
   "cell_type": "code",
   "execution_count": null,
   "metadata": {},
   "outputs": [],
   "source": []
  }
 ],
 "metadata": {
  "kernelspec": {
   "display_name": "ml_intro",
   "language": "python",
   "name": "python3"
  },
  "language_info": {
   "codemirror_mode": {
    "name": "ipython",
    "version": 3
   },
   "file_extension": ".py",
   "mimetype": "text/x-python",
   "name": "python",
   "nbconvert_exporter": "python",
   "pygments_lexer": "ipython3",
   "version": "3.11.6"
  },
  "orig_nbformat": 4
 },
 "nbformat": 4,
 "nbformat_minor": 2
}
