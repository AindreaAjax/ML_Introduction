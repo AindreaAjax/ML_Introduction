{
 "cells": [
  {
   "cell_type": "markdown",
   "id": "5ed02b62",
   "metadata": {},
   "source": [
    "**Table of contents**<a id='toc0_'></a>    \n",
    "- [Module Creation](#toc1_1_)    \n",
    "  - [Using a Module](#toc1_2_)    \n",
    "    - [Example: Importing factorial_calc module and calculating factorial of X using the factorial(X) function from the module](#toc1_2_1_)    \n",
    "  - [Python Module Search Path](#toc1_3_)    \n",
    "    - [For further reference see -](#toc1_3_1_)    \n",
    "  - [Some useful Built-in Functions](#toc1_4_)    \n",
    "  - [User-defined Functions](#toc1_5_)    \n",
    "    - [Advantages](#toc1_5_1_)    \n",
    "    - [Function Arguments](#toc1_5_2_)    \n",
    "    - [Docstrings](#toc1_5_3_)    \n",
    "    - [Example - BMI Calculator](#toc1_5_4_)    \n",
    "  - [Lambda Functions](#toc1_6_)    \n",
    "- [Recursive Functions](#toc2_)    \n",
    "    - [Advantages of Recursion](#toc2_1_1_)    \n",
    "    - [Disadvantages of Recursion](#toc2_1_2_)    \n",
    "  - [Example - Factorial Calculator](#toc2_2_)    \n",
    "  - [Example - nth Fibonacci number](#toc2_3_)    \n",
    "\n",
    "<!-- vscode-jupyter-toc-config\n",
    "\tnumbering=false\n",
    "\tanchor=true\n",
    "\tflat=false\n",
    "\tminLevel=2\n",
    "\tmaxLevel=4\n",
    "\t/vscode-jupyter-toc-config -->\n",
    "<!-- THIS CELL WILL BE REPLACED ON TOC UPDATE. DO NOT WRITE YOUR TEXT IN THIS CELL -->"
   ]
  },
  {
   "cell_type": "markdown",
   "id": "ee85360f",
   "metadata": {},
   "source": [
    "# Modules"
   ]
  },
  {
   "cell_type": "markdown",
   "id": "ee31bc5f",
   "metadata": {},
   "source": [
    "- A function is a block of code that is used to perform a single action. \n",
    "\n",
    "- A module is a Python file containing a set of functions and also may contain variables of all types (arrays, dictionaries, objects, etc.) that you want to use in your application.\n",
    "\n",
    "### <a id='toc1_1_'></a>[Module Creation](#toc0_)\n",
    "\n",
    "To create a module, create a python file with a .py extension.\n",
    "\n",
    "    -The Idea of Modules: \n",
    "As a program gets older and lots of new things are added to it and the code is getting bulkier day by day it becomes difficult to maintain the code effeciently. So we would usually like to split it into several files for easier maintenance wtihout losing any functionality. We may also want to use a handy function, that we’ve written previously, in several programs without copying its definition into each program. This is exactly what modules helps us to achieve as definitions from a module can be imported to other modules or files very easily.\n",
    "\n",
    "### <a id='toc1_2_'></a>[Using a Module](#toc0_)\n",
    "\n",
    "Modules created with a .py extension can be used with an import statement. Also there are a ton of built in modules and packages which can also be imported with import statements.\n",
    "\n",
    "In Python we can use several forms of import statements to import a module or particular contents (a content can be anything. i.e. a variable, a function, a class etc.) of a module to other files. Some mostly used formats are - \n",
    "\n",
    "1. **`import module_name`**  # This imports all the contents of a module. In such import cases contents of a module are to be accessed by, `module_name.content_name`.\n",
    "\n",
    "2. **`import module_name as alias`**\n",
    "\n",
    "3. **`from module_name import content01, content02, .....`**  # definitions are separately accessible by their own names.\n",
    "\n",
    "4. **`from module_name import *`**  # import all of the definitions of a module. Note that in general the practice of importing * from a module or package is frowned upon, since it often causes poorly readable code. However, it is okay to use it to save typing in interactive sessions.\n",
    "\n",
    "**Note:** When importing a local module don't use the .py extension in the module name."
   ]
  },
  {
   "cell_type": "markdown",
   "id": "f32c0863",
   "metadata": {},
   "source": [
    "#### <a id='toc1_2_1_'></a>[Example: Importing factorial_calc module and calculating factorial of X using the factorial(X) function from the module](#toc0_)"
   ]
  },
  {
   "cell_type": "code",
   "execution_count": 1,
   "id": "31b2eba7-9ead-4202-8c82-08117453a7c1",
   "metadata": {},
   "outputs": [
    {
     "name": "stdout",
     "output_type": "stream",
     "text": [
      "2432902008176640000\n"
     ]
    }
   ],
   "source": [
    "import factorial_calc\n",
    "\n",
    "fact_20 = factorial_calc.factorial(20)\n",
    "print(fact_20)"
   ]
  },
  {
   "attachments": {},
   "cell_type": "markdown",
   "id": "d7daf875-bbbe-4142-980d-426a9deb6599",
   "metadata": {},
   "source": [
    "- Now let us analyze the factorial_calc module code: "
   ]
  },
  {
   "cell_type": "code",
   "execution_count": 2,
   "id": "f6c70fec-7ada-4a78-b425-697a1f709642",
   "metadata": {},
   "outputs": [
    {
     "name": "stdout",
     "output_type": "stream",
     "text": [
      "The main module.\n"
     ]
    }
   ],
   "source": [
    "# The content of the factorial_calc module is as follows --\n",
    "\n",
    "# Factorial Calculator\n",
    "\n",
    "fact_res_one = [0, 1]\n",
    "\n",
    "\n",
    "def factorial(x):\n",
    "    \"\"\"This is a recursive function\n",
    "    to find the factorial of an integer\"\"\"\n",
    "\n",
    "    if x in fact_res_one:\n",
    "        return 1\n",
    "    else:\n",
    "        return x * factorial(x - 1)\n",
    "\n",
    "\n",
    "if __name__ == \"__main__\":\n",
    "    print(\"The main module.\")"
   ]
  },
  {
   "attachments": {},
   "cell_type": "markdown",
   "id": "322b8c51-d0d1-47b9-b9ea-0067d96fad83",
   "metadata": {},
   "source": [
    "    (?) So what's the purpose of that last line i.e, if __name__ == \"__main__\": print(\"The main module.\")"
   ]
  },
  {
   "attachments": {},
   "cell_type": "markdown",
   "id": "23d22ef6-dd8c-4a92-b032-2e7acfb0bb15",
   "metadata": {},
   "source": [
    "If we were to use standard output statements in a module file like this,"
   ]
  },
  {
   "attachments": {},
   "cell_type": "markdown",
   "id": "720bb608-2cb4-4027-80a1-308c6e158031",
   "metadata": {},
   "source": [
    "> ...    print(factorial(10)) ..."
   ]
  },
  {
   "attachments": {},
   "cell_type": "markdown",
   "id": "0d556a4f-a3aa-45d8-9b16-3dfcc712249d",
   "metadata": {},
   "source": [
    "It would print an output when we import that module in a new file/interactive session. Which may confuse the user and seem out of place. So, to avoid these type of mix-up use a conditional wrap around your output statements. For example:"
   ]
  },
  {
   "attachments": {},
   "cell_type": "markdown",
   "id": "3e102af4-bfc9-437e-b7fa-8ff4ff5ac728",
   "metadata": {},
   "source": [
    "> if \\__name__ == \"\\__main__\": print(factorial(10))"
   ]
  },
  {
   "attachments": {},
   "cell_type": "markdown",
   "id": "edd37393-6b08-4a4d-bb8e-05a54e69a316",
   "metadata": {},
   "source": [
    "Which will only be executed if the file is run as a standalone program but not as an import."
   ]
  },
  {
   "attachments": {},
   "cell_type": "markdown",
   "id": "79fbe890-0baf-4d9a-a10d-239d4d95ae73",
   "metadata": {
    "tags": []
   },
   "source": [
    "- A handy little trick: The builtin dir() method\n",
    "\n",
    "We can use the dir() function to find out all the names defined inside a module. This may be helpful when we want to import only some of the variables and methods from a module."
   ]
  },
  {
   "cell_type": "code",
   "execution_count": 3,
   "id": "58ac7fac",
   "metadata": {},
   "outputs": [
    {
     "data": {
      "text/plain": [
       "['__builtins__',\n",
       " '__cached__',\n",
       " '__doc__',\n",
       " '__file__',\n",
       " '__loader__',\n",
       " '__name__',\n",
       " '__package__',\n",
       " '__spec__',\n",
       " 'fact_res_one',\n",
       " 'factorial']"
      ]
     },
     "execution_count": 3,
     "metadata": {},
     "output_type": "execute_result"
    }
   ],
   "source": [
    "dir(factorial_calc)"
   ]
  },
  {
   "cell_type": "markdown",
   "id": "0e93ba50",
   "metadata": {},
   "source": [
    "### <a id='toc1_3_'></a>[Python Module Search Path](#toc0_)\n",
    "\n",
    "While importing a module, Python looks at several places. Interpreter first looks for a built-in module. If built-in module is not found, Python looks into a list of directories defined in `sys.path`. The search is in this order -\n",
    "\n",
    "1. The current directory.\n",
    "2. PYTHONPATH (an environment variable with a list of directories).\n",
    "3. The installation-dependent default directory."
   ]
  },
  {
   "cell_type": "code",
   "execution_count": 28,
   "id": "2ea01baf-a826-40df-b94d-1fa82d4e650a",
   "metadata": {},
   "outputs": [
    {
     "data": {
      "text/plain": [
       "['/home/maidul/Work/ML_Intro/Python_Basics',\n",
       " '/home/maidul/.conda/envs/ml_basic/lib/python310.zip',\n",
       " '/home/maidul/.conda/envs/ml_basic/lib/python3.10',\n",
       " '/home/maidul/.conda/envs/ml_basic/lib/python3.10/lib-dynload',\n",
       " '',\n",
       " '/home/maidul/.local/lib/python3.10/site-packages',\n",
       " '/home/maidul/.themesaver',\n",
       " '/home/maidul/.conda/envs/ml_basic/lib/python3.10/site-packages']"
      ]
     },
     "execution_count": 28,
     "metadata": {},
     "output_type": "execute_result"
    }
   ],
   "source": [
    "import sys\n",
    "\n",
    "sys.path"
   ]
  },
  {
   "cell_type": "markdown",
   "id": "ec84de2b",
   "metadata": {},
   "source": [
    "To use some other file path, add your preffered directory path(s) to `sys.path` using `sys.path.append('/path/to/directory')`."
   ]
  },
  {
   "cell_type": "markdown",
   "id": "42cd1f17",
   "metadata": {},
   "source": [
    "#### <a id='toc1_3_1_'></a>[For further reference see -](#toc0_)\n",
    "1. https://docs.python.org/3/tutorial/modules.html\n",
    "2. https://www.programiz.com/python-programming/modules\n",
    "3. https://realpython.com/python-modules-packages/\n",
    "4. https://www.tutorialspoint.com/python/python_modules.htm"
   ]
  },
  {
   "cell_type": "markdown",
   "id": "52d1d26f",
   "metadata": {},
   "source": [
    "# Functions"
   ]
  },
  {
   "cell_type": "markdown",
   "id": "70e6535b",
   "metadata": {},
   "source": [
    "A function is a block of code which only runs when it is called. You can pass data to a function as parameters when calling it. Generally you would want your function to return something.\n",
    "\n",
    "In Python there are many built-in functions that you can use. You can define your own functions as well."
   ]
  },
  {
   "cell_type": "markdown",
   "id": "caf5f17b",
   "metadata": {},
   "source": [
    "### <a id='toc1_4_'></a>[Some useful Built-in Functions](#toc0_)"
   ]
  },
  {
   "attachments": {},
   "cell_type": "markdown",
   "id": "eb033a8d-e5fa-4c39-b58d-0603430efbe3",
   "metadata": {},
   "source": [
    "- **type(obj)**  : returns the data type of an object.\n",
    "\n",
    "- **isinstance(obj, classinfo)**  : evaluates if an object is an instance of a certain class.\n",
    "\n",
    "- **len(obj)**  : returns the length of an object.\n",
    "\n",
    "- **sorted(iter)**  : returns a sorted list of the items of an iterable.\n",
    "\n",
    "- **range(start, end, step)** : returns an iterator object containing all the integers from start to end value (excluding end value) with a spacing of given steps. It is like linspace function of MATLAB.\n",
    "\n",
    "- **enumerate(iter, start=0)** : adds a counter to an iterable and returns it in a form of enumerate object. This enumerate object can then be used directly in \"for loops\" or be converted into a list of tuples using list() method.\n",
    "\n",
    "- **help(func)**  : returns the documentation of that function.\n",
    "\n",
    "- **abs(num)**  : find the absolute value.\n",
    "\n",
    "- **dir(obj)**  : tries to return a list of valid attributes of the object.\n",
    "\n",
    "- **divmod(num1, num2)**  : returns a tuple consisting of their quotient and remainder.\n",
    "\n",
    "- **filter(func, iter)** : returns only those elements of an iterable for which a function returns true.\n",
    "\n",
    "- **map(func, iter)**  : calls a function on the elements of an iterable and returns the result as a map object without changing the original data.\n",
    "\n",
    "- **zip(\\*iter)**  : Zips together the same indexed members of any number of iterables and returns them as a zip object. If the iterables have different length then the zipper stops at the length of the shortest iterable.\n",
    "\n",
    "- **Copy** :\n",
    "    - xyz.copy(): The copied elements changes for change in an inner level of the main copy.\n",
    "    - copy.deepcopy(xyz) - Copied elements doesn't change no matter what."
   ]
  },
  {
   "cell_type": "code",
   "execution_count": 29,
   "id": "4942d547",
   "metadata": {},
   "outputs": [
    {
     "data": {
      "text/plain": [
       "True"
      ]
     },
     "execution_count": 29,
     "metadata": {},
     "output_type": "execute_result"
    }
   ],
   "source": [
    "# Simple filtering with in\n",
    "\"be\" in \"to be or not to be\""
   ]
  },
  {
   "cell_type": "markdown",
   "id": "96401be6",
   "metadata": {},
   "source": [
    "### <a id='toc1_5_'></a>[User-defined Functions](#toc0_)"
   ]
  },
  {
   "cell_type": "markdown",
   "id": "9c0ee284",
   "metadata": {},
   "source": [
    "Functions that we define ourselves to do a specific task are referred to as user-defined functions. If we use functions written by others in the form of a library, then it is termed as library functions."
   ]
  },
  {
   "cell_type": "markdown",
   "id": "cf8a8709",
   "metadata": {},
   "source": [
    "#### <a id='toc1_5_1_'></a>[Advantages](#toc0_)"
   ]
  },
  {
   "cell_type": "markdown",
   "id": "896c5dbe",
   "metadata": {},
   "source": [
    "- User-defined functions help us to decompose a large program into small segments, which makes program easy to understand, maintain and debug.\n",
    "\n",
    "- If repeated code occurs in a program, Function can be used to include those codes and execute when needed by calling that function.\n",
    "\n",
    "- Programmers working on large project can divide the workload by making different functions."
   ]
  },
  {
   "cell_type": "markdown",
   "id": "4776544d",
   "metadata": {},
   "source": [
    "#### <a id='toc1_5_2_'></a>[Function Arguments](#toc0_)\n",
    "\n",
    "- argument types : positional arguments, keyword arguments\n",
    "\n",
    "- default arguments : if any defined parameter is left unfilled then the default value kicks in.\n",
    "\n",
    "- **args** and **kwargs**  are used as parameters so that a function can take any number of positional and keyword arguments."
   ]
  },
  {
   "cell_type": "code",
   "execution_count": 30,
   "id": "dc3196cc",
   "metadata": {},
   "outputs": [
    {
     "name": "stdout",
     "output_type": "stream",
     "text": [
      "23\n"
     ]
    }
   ],
   "source": [
    "def super_sum(*args, **kwargs):\n",
    "    # args creates a tuple of the inputs inside the function.\n",
    "\n",
    "    # kwargs creates a dictionary for the keyword-value pair inputs inside the function.\n",
    "\n",
    "    return sum(args) + sum(kwargs.values())\n",
    "\n",
    "\n",
    "print(super_sum(1, 5, 7, num1=2, num2=8))"
   ]
  },
  {
   "cell_type": "markdown",
   "id": "7419ddbd",
   "metadata": {},
   "source": [
    "#### <a id='toc1_5_3_'></a>[Docstrings](#toc0_)"
   ]
  },
  {
   "cell_type": "markdown",
   "id": "1fad18c0",
   "metadata": {},
   "source": [
    "Docstrings are written as a first statement in a function within triple quotes. It is used to explain what a function does and how to use it. It is optional but recommended to write docstrings for every function you write.\n",
    "\n",
    "There are several styles of docstrings. Such as, Google style, Numpy style, reStructuredText style, Epytext style, etc. For more information see - https://www.python.org/dev/peps/pep-0257/"
   ]
  },
  {
   "cell_type": "markdown",
   "id": "f1b257fd",
   "metadata": {},
   "source": [
    "Example of a google style docstring:"
   ]
  },
  {
   "cell_type": "code",
   "execution_count": 1,
   "id": "22b1cef1",
   "metadata": {},
   "outputs": [],
   "source": [
    "def count_letter(content, letter):\n",
    "  \"\"\"Count the number of times `letter` appears in `content`.\n",
    "\n",
    "  Args:\n",
    "    content (str): The string to search.\n",
    "    letter (str): The letter to search for.\n",
    "\n",
    "  Returns:\n",
    "    int\n",
    "\n",
    "  Raises:\n",
    "    ValueError: If `letter` is not a one-character string.\n",
    "\n",
    "  Notes:\n",
    "    Write your notes here if any.\n",
    "  \"\"\"\n",
    "  if (not isinstance(letter, str)) or len(letter) != 1:\n",
    "    raise ValueError('`letter` must be a single character string.')\n",
    "  return len([char for char in content if char == letter])"
   ]
  },
  {
   "cell_type": "markdown",
   "id": "741b39f1",
   "metadata": {},
   "source": [
    "To access the docstring of a function use the `__doc__` attribute of the function. The docstring returned by this will contain all the spaces and newline characters that were used for styling. To get a cleaner looking docstring you can use the `inspect.getdoc()` function from the `inspect` module to get the docstring of a function."
   ]
  },
  {
   "cell_type": "code",
   "execution_count": 5,
   "id": "5baf1058",
   "metadata": {},
   "outputs": [
    {
     "name": "stdout",
     "output_type": "stream",
     "text": [
      "Count the number of times `letter` appears in `content`.\n",
      "\n",
      "  Args:\n",
      "    content (str): The string to search.\n",
      "    letter (str): The letter to search for.\n",
      "\n",
      "  Returns:\n",
      "    int\n",
      "\n",
      "  Raises:\n",
      "    ValueError: If `letter` is not a one-character string.\n",
      "\n",
      "  Notes:\n",
      "    Write your notes here if any.\n",
      "  \n"
     ]
    }
   ],
   "source": [
    "print(count_letter.__doc__)"
   ]
  },
  {
   "cell_type": "code",
   "execution_count": 3,
   "id": "be939259",
   "metadata": {},
   "outputs": [],
   "source": [
    "import inspect"
   ]
  },
  {
   "cell_type": "code",
   "execution_count": 6,
   "id": "f7d95ed5",
   "metadata": {},
   "outputs": [
    {
     "name": "stdout",
     "output_type": "stream",
     "text": [
      "Count the number of times `letter` appears in `content`.\n",
      "\n",
      "Args:\n",
      "  content (str): The string to search.\n",
      "  letter (str): The letter to search for.\n",
      "\n",
      "Returns:\n",
      "  int\n",
      "\n",
      "Raises:\n",
      "  ValueError: If `letter` is not a one-character string.\n",
      "\n",
      "Notes:\n",
      "  Write your notes here if any.\n"
     ]
    }
   ],
   "source": [
    "print(inspect.getdoc(count_letter))"
   ]
  },
  {
   "cell_type": "markdown",
   "id": "890d7a82",
   "metadata": {},
   "source": [
    "#### <a id='toc1_5_4_'></a>[Example - BMI Calculator](#toc0_)"
   ]
  },
  {
   "cell_type": "code",
   "execution_count": 31,
   "id": "dc8df078",
   "metadata": {},
   "outputs": [
    {
     "name": "stdout",
     "output_type": "stream",
     "text": [
      "\n",
      "    Info:\n",
      "    :param name: your name (string)\n",
      "    :param height_m: your height in meters (int/float)\n",
      "    :param mass_kg: your weight in kg (int/float)\n",
      "    :return: (name, bmi)\n",
      "    \n",
      "Hi maidul your BMI is - 24.62\n",
      "('maidul', '24.623')\n"
     ]
    }
   ],
   "source": [
    "# Order of the params should be: params, *args, default params, **kwargs\n",
    "\n",
    "\n",
    "def bmi_calculator(name, height_m, mass_kg):\n",
    "    # docstring\n",
    "    \"\"\"\n",
    "    Info:\n",
    "    :param name: your name (string)\n",
    "    :param height_m: your height in meters (int/float)\n",
    "    :param mass_kg: your weight in kg (int/float)\n",
    "    :return: (name, bmi)\n",
    "    \"\"\"\n",
    "    bmi = mass_kg / height_m**2\n",
    "    print(f\"Hi {name} your BMI is - {round(bmi, 2)}\")\n",
    "    return (name, \"%.3f\" % bmi)\n",
    "\n",
    "\n",
    "print(bmi_calculator.__doc__)  # to see the docstring\n",
    "\n",
    "returned_result = bmi_calculator(\"maidul\", 1.8415, 83.5)\n",
    "print(returned_result)"
   ]
  },
  {
   "cell_type": "markdown",
   "id": "12f50c23",
   "metadata": {},
   "source": [
    "### <a id='toc1_6_'></a>[Lambda Functions](#toc0_)"
   ]
  },
  {
   "attachments": {},
   "cell_type": "markdown",
   "id": "937a6830-a248-4cd3-8bdb-1f51c4c4f8cb",
   "metadata": {},
   "source": [
    "A lambda function is a small anonymous function. A lambda function can take any number of arguments, but can only have one expression."
   ]
  },
  {
   "attachments": {},
   "cell_type": "markdown",
   "id": "515e4e1a-e388-4389-bd54-0f4645aab33a",
   "metadata": {},
   "source": [
    "**Syntax:** "
   ]
  },
  {
   "attachments": {},
   "cell_type": "markdown",
   "id": "1fa1ae0a-45fc-4498-97ce-cfb0326636fe",
   "metadata": {},
   "source": [
    "`lambda arguments : expression`\n",
    "    \n",
    "The expression is executed and the result is returned."
   ]
  },
  {
   "cell_type": "code",
   "execution_count": 32,
   "id": "220c6e34-68ba-460f-8159-0c263b732970",
   "metadata": {},
   "outputs": [
    {
     "name": "stdout",
     "output_type": "stream",
     "text": [
      "17\n"
     ]
    }
   ],
   "source": [
    "random_func_x = lambda a, b, c: (a * b) + c\n",
    "\n",
    "print(random_func_x(5, 3, 2))"
   ]
  },
  {
   "attachments": {},
   "cell_type": "markdown",
   "id": "45bbd83e-2441-4f2e-a426-8f547160ae2c",
   "metadata": {},
   "source": [
    "The real power of lambda is better shown when you use them as an anonymous function inside another function.\n",
    "\n",
    "Say you have a function definition that takes one argument, and that argument will be multiplied with an unknown number. We can use lambda function to solve this problem with ease -"
   ]
  },
  {
   "cell_type": "code",
   "execution_count": 33,
   "id": "607431a1-c505-46c2-a403-88b26573c585",
   "metadata": {},
   "outputs": [],
   "source": [
    "def n_multiplied(n):\n",
    "    return lambda x: n * x"
   ]
  },
  {
   "cell_type": "code",
   "execution_count": 34,
   "id": "b7d80abb-9f9f-4c20-a564-67745118d34b",
   "metadata": {},
   "outputs": [
    {
     "name": "stdout",
     "output_type": "stream",
     "text": [
      "356\n"
     ]
    }
   ],
   "source": [
    "import random\n",
    "\n",
    "# now if the fixed number is 2 and the unknown number is a random number,\n",
    "doubler = n_multiplied(2)  # return lambda x : 2 * x to doubler\n",
    "\n",
    "print(doubler(random.randint(3, 300)))"
   ]
  },
  {
   "cell_type": "markdown",
   "id": "26b5caa2",
   "metadata": {},
   "source": [
    "Use lambda functions when an anonymous function is required for a short period of time."
   ]
  },
  {
   "cell_type": "markdown",
   "id": "1bd81e7d",
   "metadata": {},
   "source": [
    "## <a id='toc2_'></a>[Recursive Functions](#toc0_)"
   ]
  },
  {
   "attachments": {},
   "cell_type": "markdown",
   "id": "c905fb28-5b74-4417-8460-22c50e9a2ae5",
   "metadata": {},
   "source": [
    "Recursion is the process of defining something in terms of itself. A physical world example would be, to place two parallel mirrors facing each other. Any object in between them would be reflected recursively."
   ]
  },
  {
   "cell_type": "markdown",
   "id": "b25f4935",
   "metadata": {},
   "source": [
    "In Python, we know that a function can call other functions. It is even possible for the function to call itself. These types of construct are termed as recursive functions."
   ]
  },
  {
   "cell_type": "markdown",
   "id": "63e34313",
   "metadata": {},
   "source": [
    "#### <a id='toc2_1_1_'></a>[Advantages of Recursion](#toc0_)\n",
    "- Recursive functions make the code look clean and elegant.\n",
    "- A complex task can be broken down into simpler sub-problems using recursion.\n",
    "- Sequence generation is easier with recursion than using some nested iteration.\n",
    "\n",
    "#### <a id='toc2_1_2_'></a>[Disadvantages of Recursion](#toc0_)\n",
    "- Sometimes the logic behind recursion is hard to follow through.\n",
    "- Recursive calls are expensive (inefficient) as they take up a lot of memory and time.\n",
    "- Recursive functions are hard to debug."
   ]
  },
  {
   "cell_type": "markdown",
   "id": "967f22f5",
   "metadata": {},
   "source": [
    "### <a id='toc2_2_'></a>[Example - Factorial Calculator](#toc0_)"
   ]
  },
  {
   "cell_type": "code",
   "execution_count": 35,
   "id": "3e5f7efb-0261-4c92-a76c-4905add9332d",
   "metadata": {},
   "outputs": [],
   "source": [
    "def factorial(x):\n",
    "    \"\"\"This is a recursive function\n",
    "    to find the factorial of an integer\"\"\"\n",
    "\n",
    "    # Base case\n",
    "    if 0 <= x <= 1:\n",
    "        return 1\n",
    "    # Recursive case\n",
    "    else:\n",
    "        return x * factorial(x - 1)"
   ]
  },
  {
   "cell_type": "code",
   "execution_count": 36,
   "id": "cdf4a0ed-7c60-4da2-9ac8-75452482499e",
   "metadata": {},
   "outputs": [
    {
     "name": "stdout",
     "output_type": "stream",
     "text": [
      "Please enter an integer to know its factorial value:  11\n",
      "The factorial of 11 is 39916800\n"
     ]
    }
   ],
   "source": [
    "num = int(input(\"Please enter an integer to know its factorial value: \"))\n",
    "print(\"The factorial of\", num, \"is\", factorial(num))"
   ]
  },
  {
   "cell_type": "markdown",
   "id": "cffea432",
   "metadata": {},
   "source": [
    "The trick with recursive functions is that there must be a “base” case where the recursion must end with a recursive case that iterates towards the base case. In the case of factorial, we know that the factorial of zero is one, and the factorial of a number greater than zero will depend on the factorial of the previous number until it reaches zero."
   ]
  },
  {
   "cell_type": "markdown",
   "id": "1a646405",
   "metadata": {},
   "source": [
    "### <a id='toc2_3_'></a>[Example - nth Fibonacci number](#toc0_)"
   ]
  },
  {
   "cell_type": "code",
   "execution_count": 37,
   "id": "d46f02be-c583-4379-950e-39c091fc2c6b",
   "metadata": {},
   "outputs": [],
   "source": [
    "def fibonacci(n):\n",
    "    \"\"\"This is a recursive function\n",
    "    to find the nth member of the fibonacci series. Note that indexing starts from 0.\"\"\"\n",
    "\n",
    "    # Base case\n",
    "    if n <= 1:\n",
    "        return n\n",
    "    # Recursive case\n",
    "    else:\n",
    "        return fibonacci(n - 1) + fibonacci(n - 2)"
   ]
  },
  {
   "cell_type": "code",
   "execution_count": 38,
   "id": "2ab6000b-a95c-4ce3-9b45-ecdd4c7adac7",
   "metadata": {},
   "outputs": [
    {
     "name": "stdout",
     "output_type": "stream",
     "text": [
      "Please enter a value of 'n' to know the nth fibonacci number: 11\n",
      "The 11th fibonacci number is, 89\n"
     ]
    }
   ],
   "source": [
    "n = int(input(\"Please enter a value of 'n' to know the nth fibonacci number:\"))\n",
    "print(\"The {}th fibonacci number is, {}\".format(n, fibonacci(n)))"
   ]
  },
  {
   "cell_type": "code",
   "execution_count": null,
   "id": "91e9c7af-b5e0-4ddb-a8c6-63efe064dbd7",
   "metadata": {},
   "outputs": [],
   "source": []
  }
 ],
 "metadata": {
  "kernelspec": {
   "display_name": "Python 3 (ipykernel)",
   "language": "python",
   "name": "python3"
  },
  "language_info": {
   "codemirror_mode": {
    "name": "ipython",
    "version": 3
   },
   "file_extension": ".py",
   "mimetype": "text/x-python",
   "name": "python",
   "nbconvert_exporter": "python",
   "pygments_lexer": "ipython3",
   "version": "3.11.6"
  },
  "vscode": {
   "interpreter": {
    "hash": "916dbcbb3f70747c44a77c7bcd40155683ae19c65e1c03b4aa3499c5328201f1"
   }
  }
 },
 "nbformat": 4,
 "nbformat_minor": 5
}
