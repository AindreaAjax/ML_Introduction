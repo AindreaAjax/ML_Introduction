{
 "cells": [
  {
   "cell_type": "markdown",
   "metadata": {},
   "source": [
    "**Table of contents**<a id='toc0_'></a>    \n",
    "- [**Bar Charts (Horizontal and Vertical Bar charts)**](#toc1_)    \n",
    "\n",
    "<!-- vscode-jupyter-toc-config\n",
    "\tnumbering=false\n",
    "\tanchor=true\n",
    "\tflat=false\n",
    "\tminLevel=2\n",
    "\tmaxLevel=4\n",
    "\t/vscode-jupyter-toc-config -->\n",
    "<!-- THIS CELL WILL BE REPLACED ON TOC UPDATE. DO NOT WRITE YOUR TEXT IN THIS CELL -->"
   ]
  },
  {
   "cell_type": "code",
   "execution_count": 18,
   "metadata": {},
   "outputs": [],
   "source": [
    "# importing the libraries\n",
    "import numpy as np\n",
    "import pandas as pd\n",
    "import matplotlib.pyplot as plt\n",
    "import seaborn as sns"
   ]
  },
  {
   "cell_type": "code",
   "execution_count": 19,
   "metadata": {},
   "outputs": [],
   "source": [
    "# Setting the default seaborn theme\n",
    "sns.set_theme(style=\"darkgrid\")"
   ]
  },
  {
   "cell_type": "markdown",
   "metadata": {},
   "source": [
    "# Visualizing Categories (comaparing different categories either to each other or to itself over a certain period of time)"
   ]
  },
  {
   "attachments": {},
   "cell_type": "markdown",
   "metadata": {},
   "source": [
    "- <i>**Questions:**\n",
    "1. What’s the best? What’s the worst? Compared to what?\n",
    "2. Who’s ranked the highest? The lowest?\n",
    "3. How does performance compare to the target or goal? For example, did total sales exceed the forecast?\n",
    "\n",
    "- **Insight:** use comparisons to illustrate the similarities and differences among categories. This includes the minimum value, maximum value, rank, performance, sum, totals, counts, and quantities.\n",
    "\n",
    "- **Data:** aggregated categorical data, such as the number of books sold by author. Time series data can also be shown as a categorical variable. For example, each year can be a category.\n",
    "\n",
    "- **Chart options:** vertical bar, column bar, horizontal bar, and bullet charts.</i>\n"
   ]
  },
  {
   "cell_type": "markdown",
   "metadata": {},
   "source": [
    "## <a id='toc1_'></a>[**Bar Charts (Horizontal and Vertical Bar charts)**](#toc0_)"
   ]
  },
  {
   "attachments": {},
   "cell_type": "markdown",
   "metadata": {},
   "source": [
    "A bar chart (also called bar graph) is a chart that represents data using bars of different heights. "
   ]
  },
  {
   "attachments": {},
   "cell_type": "markdown",
   "metadata": {},
   "source": [
    "`->` When to use Bar Charts\n",
    "\n",
    "- To compare values of different categories (time independent)\n",
    "- To compare value changes over a period of time for a single category.\n",
    "- Bar charts work best for showing the situation at a point in time (for example, the number of products sold on a website). Their main purpose is *`to draw attention to total numbers rather than the trend (trends are more suitable for a line chart).`*"
   ]
  },
  {
   "attachments": {},
   "cell_type": "markdown",
   "metadata": {},
   "source": [
    "`->` When to avoid Bar Charts\n",
    "\n",
    "- Use bar charts for **comparison** if the number of categories is quite small — up to five, but **not more than seven categories**.\n",
    "- If there are too many data points consider whether line chart is a viable option"
   ]
  },
  {
   "attachments": {},
   "cell_type": "markdown",
   "metadata": {},
   "source": [
    "`->` Best practices for bar charts\n",
    "\n",
    "- If one of your data dimensions is **time** — including years, quarters, months, weeks, days, or hours — you should always set the time dimension **on the horizontal axis**. In charts, time should always run from left to right, never from top to bottom.\n",
    "- For bar charts, the **numerical axis must start at zero**. Our eyes are very sensitive to the height of columns, and we can draw inaccurate conclusions when those bars are truncated.\n",
    "- Avoid using pattern lines or fills. Use a border only for highlights.\n",
    "- Only use bar charts to show trends if there are a reasonably-low number of data points (less than 20) and if every data point has a clearly-visible value."
   ]
  },
  {
   "attachments": {},
   "cell_type": "markdown",
   "metadata": {},
   "source": [
    "> `To draw` bar charts in seaborn, we will use the `seaborn.catplot(data, x, y, kind='bar'|'count')` function. The detailed documentation can be found at, https://seaborn.pydata.org/generated/seaborn.catplot.html#seaborn.catplot."
   ]
  },
  {
   "cell_type": "markdown",
   "metadata": {},
   "source": [
    "<u> Function Parameters: </u>\n",
    "\n",
    "- `data:` DataFrame (dataset for plotting).\n",
    "- `x, y, hue:` names of variables in data.\n",
    "- `row, col:` Categorical variables in data that will determine the faceting of the grid (used for creating matrix of bar plots).\n",
    "- `col_wrap (int):` “Wrap” the column variable at this width, so that the column facets span multiple rows. Ignored if row facet is defined.\n",
    "- `height:` Height (in inches) of each facet.\n",
    "- `aspect:` Aspect ratio of each facet, so that aspect * height gives the width of each facet in inches.\n",
    "- `kind:` The kind of plot to draw, corresponds to the name of a categorical axes-level plotting function. Options are: “strip”, “swarm”, “box”, “violin”, “boxen”, “point”, “bar”, or “count”.\n",
    "\n",
    "    **For bar plots we will be using kind = \"bar\" | \"count\"**\n",
    "    - `kind=\"bar\"` operates on a full dataset and applies a function to obtain the estimate (taking the mean by default).\n",
    "    - A special case for the bar plot is when you want to show the number of observations in each category rather than computing a statistic for a second variable. This is done with `kind=\"count\"`. **Note:** to use kind=\"count\", either x or y must be none.\n",
    "- `estimator:` Statistical function to estimate within each categorical bin (string or callable).\n",
    "- `orient (“v” | “h”):` Orientation of the plot (vertical or horizontal). This is usually inferred based on the type of the input variables, but it can be used to resolve ambiguity when both x and y are numeric or when plotting wide-form data.\n",
    "- `palette:` Colors to use for the different levels of the hue variable.  \n",
    "- `share{x,y}:` If true, the facets will share y axis across columns and/or x axis across rows.\n",
    "\n",
    "**Returns:** Returns a FacetGrid object with the plot on it for further tweaking."
   ]
  },
  {
   "cell_type": "markdown",
   "metadata": {},
   "source": [
    "> **`Note:`** We can also use the, `seaborn.barplot(data=None, *, x=None, y=None, hue=None, estimator='mean', errorbar=('ci', 95), orient=None, palette=None, ax=None, **kwargs)` function to draw barplots in seaborn. One advantage of this method is that it returns the matplotlib Axes containing the plot instead of a FacetGrid. As a result it's easier to modify the plot using matplotlib OO API. Also, this function can receive a pre-existing axes for plotting. See the documentation @https://seaborn.pydata.org/generated/seaborn.barplot.html"
   ]
  },
  {
   "attachments": {},
   "cell_type": "markdown",
   "metadata": {},
   "source": [
    "- #### *Vertical bar chart*"
   ]
  },
  {
   "attachments": {},
   "cell_type": "markdown",
   "metadata": {},
   "source": [
    "`->` Bars are arranged vertically on the x-axis. Each bar represents a category or sub-category. The bar height measures the quantity (count) or sum. In other words, *`categories (or the time periods) are in the x axis and the numerical quantities are in the y axis`*.\n",
    "\n",
    "- Keep bars the same color and shade when they measure the same variable.\n",
    "- Use a zero baseline for the y-axis and show negative values below the baseline.\n",
    "- Keep the width of the bar about twice the width of the space between the bars.\n"
   ]
  },
  {
   "cell_type": "code",
   "execution_count": 20,
   "metadata": {},
   "outputs": [],
   "source": [
    "# loading a built-in dataset\n",
    "df = sns.load_dataset(\"titanic\")"
   ]
  },
  {
   "cell_type": "code",
   "execution_count": 21,
   "metadata": {},
   "outputs": [
    {
     "data": {
      "text/html": [
       "<div>\n",
       "<style scoped>\n",
       "    .dataframe tbody tr th:only-of-type {\n",
       "        vertical-align: middle;\n",
       "    }\n",
       "\n",
       "    .dataframe tbody tr th {\n",
       "        vertical-align: top;\n",
       "    }\n",
       "\n",
       "    .dataframe thead th {\n",
       "        text-align: right;\n",
       "    }\n",
       "</style>\n",
       "<table border=\"1\" class=\"dataframe\">\n",
       "  <thead>\n",
       "    <tr style=\"text-align: right;\">\n",
       "      <th></th>\n",
       "      <th>survived</th>\n",
       "      <th>pclass</th>\n",
       "      <th>sex</th>\n",
       "      <th>age</th>\n",
       "      <th>sibsp</th>\n",
       "      <th>parch</th>\n",
       "      <th>fare</th>\n",
       "      <th>embarked</th>\n",
       "      <th>class</th>\n",
       "      <th>who</th>\n",
       "      <th>adult_male</th>\n",
       "      <th>deck</th>\n",
       "      <th>embark_town</th>\n",
       "      <th>alive</th>\n",
       "      <th>alone</th>\n",
       "    </tr>\n",
       "  </thead>\n",
       "  <tbody>\n",
       "    <tr>\n",
       "      <th>0</th>\n",
       "      <td>0</td>\n",
       "      <td>3</td>\n",
       "      <td>male</td>\n",
       "      <td>22.0</td>\n",
       "      <td>1</td>\n",
       "      <td>0</td>\n",
       "      <td>7.2500</td>\n",
       "      <td>S</td>\n",
       "      <td>Third</td>\n",
       "      <td>man</td>\n",
       "      <td>True</td>\n",
       "      <td>NaN</td>\n",
       "      <td>Southampton</td>\n",
       "      <td>no</td>\n",
       "      <td>False</td>\n",
       "    </tr>\n",
       "    <tr>\n",
       "      <th>1</th>\n",
       "      <td>1</td>\n",
       "      <td>1</td>\n",
       "      <td>female</td>\n",
       "      <td>38.0</td>\n",
       "      <td>1</td>\n",
       "      <td>0</td>\n",
       "      <td>71.2833</td>\n",
       "      <td>C</td>\n",
       "      <td>First</td>\n",
       "      <td>woman</td>\n",
       "      <td>False</td>\n",
       "      <td>C</td>\n",
       "      <td>Cherbourg</td>\n",
       "      <td>yes</td>\n",
       "      <td>False</td>\n",
       "    </tr>\n",
       "    <tr>\n",
       "      <th>2</th>\n",
       "      <td>1</td>\n",
       "      <td>3</td>\n",
       "      <td>female</td>\n",
       "      <td>26.0</td>\n",
       "      <td>0</td>\n",
       "      <td>0</td>\n",
       "      <td>7.9250</td>\n",
       "      <td>S</td>\n",
       "      <td>Third</td>\n",
       "      <td>woman</td>\n",
       "      <td>False</td>\n",
       "      <td>NaN</td>\n",
       "      <td>Southampton</td>\n",
       "      <td>yes</td>\n",
       "      <td>True</td>\n",
       "    </tr>\n",
       "    <tr>\n",
       "      <th>3</th>\n",
       "      <td>1</td>\n",
       "      <td>1</td>\n",
       "      <td>female</td>\n",
       "      <td>35.0</td>\n",
       "      <td>1</td>\n",
       "      <td>0</td>\n",
       "      <td>53.1000</td>\n",
       "      <td>S</td>\n",
       "      <td>First</td>\n",
       "      <td>woman</td>\n",
       "      <td>False</td>\n",
       "      <td>C</td>\n",
       "      <td>Southampton</td>\n",
       "      <td>yes</td>\n",
       "      <td>False</td>\n",
       "    </tr>\n",
       "    <tr>\n",
       "      <th>4</th>\n",
       "      <td>0</td>\n",
       "      <td>3</td>\n",
       "      <td>male</td>\n",
       "      <td>35.0</td>\n",
       "      <td>0</td>\n",
       "      <td>0</td>\n",
       "      <td>8.0500</td>\n",
       "      <td>S</td>\n",
       "      <td>Third</td>\n",
       "      <td>man</td>\n",
       "      <td>True</td>\n",
       "      <td>NaN</td>\n",
       "      <td>Southampton</td>\n",
       "      <td>no</td>\n",
       "      <td>True</td>\n",
       "    </tr>\n",
       "  </tbody>\n",
       "</table>\n",
       "</div>"
      ],
      "text/plain": [
       "   survived  pclass     sex   age  sibsp  parch     fare embarked  class  \\\n",
       "0         0       3    male  22.0      1      0   7.2500        S  Third   \n",
       "1         1       1  female  38.0      1      0  71.2833        C  First   \n",
       "2         1       3  female  26.0      0      0   7.9250        S  Third   \n",
       "3         1       1  female  35.0      1      0  53.1000        S  First   \n",
       "4         0       3    male  35.0      0      0   8.0500        S  Third   \n",
       "\n",
       "     who  adult_male deck  embark_town alive  alone  \n",
       "0    man        True  NaN  Southampton    no  False  \n",
       "1  woman       False    C    Cherbourg   yes  False  \n",
       "2  woman       False  NaN  Southampton   yes   True  \n",
       "3  woman       False    C  Southampton   yes  False  \n",
       "4    man        True  NaN  Southampton    no   True  "
      ]
     },
     "execution_count": 21,
     "metadata": {},
     "output_type": "execute_result"
    }
   ],
   "source": [
    "df.head()"
   ]
  },
  {
   "cell_type": "code",
   "execution_count": 22,
   "metadata": {},
   "outputs": [
    {
     "name": "stderr",
     "output_type": "stream",
     "text": [
      "/home/maidul/miniconda3/envs/ml_intro/lib/python3.11/site-packages/seaborn/axisgrid.py:118: UserWarning: The figure layout has changed to tight\n",
      "  self._figure.tight_layout(*args, **kwargs)\n"
     ]
    },
    {
     "data": {
      "text/plain": [
       "<seaborn.axisgrid.FacetGrid at 0x7ffb80dfa3d0>"
      ]
     },
     "execution_count": 22,
     "metadata": {},
     "output_type": "execute_result"
    },
    {
     "data": {
      "image/png": "[encoded data removed]",
      "text/plain": [
       "<Figure size 585.472x500 with 1 Axes>"
      ]
     },
     "metadata": {},
     "output_type": "display_data"
    }
   ],
   "source": [
    "# to see how many passengers survived and how many didn't grouped based on their sexes,\n",
    "count_plot = sns.catplot(\n",
    "    df, x=\"sex\", hue=\"alive\", kind=\"count\", palette=\"Blues\", legend=False\n",
    ")\n",
    "count_plot.add_legend(title=\"Survived\")"
   ]
  },
  {
   "cell_type": "code",
   "execution_count": 23,
   "metadata": {},
   "outputs": [
    {
     "name": "stderr",
     "output_type": "stream",
     "text": [
      "/home/maidul/miniconda3/envs/ml_intro/lib/python3.11/site-packages/seaborn/axisgrid.py:118: UserWarning: The figure layout has changed to tight\n",
      "  self._figure.tight_layout(*args, **kwargs)\n"
     ]
    },
    {
     "data": {
      "text/plain": [
       "<seaborn.axisgrid.FacetGrid at 0x7ffb8179be90>"
      ]
     },
     "execution_count": 23,
     "metadata": {},
     "output_type": "execute_result"
    },
    {
     "data": {
      "image/png": "[encoded data removed]",
      "text/plain": [
       "<Figure size 611.5x500 with 1 Axes>"
      ]
     },
     "metadata": {},
     "output_type": "display_data"
    }
   ],
   "source": [
    "# to see how many passengers survived from each passenger class grouped based on their sexes,\n",
    "sns.catplot(\n",
    "    df,\n",
    "    x=\"sex\",\n",
    "    y=\"survived\",\n",
    "    hue=\"class\",\n",
    "    kind=\"bar\",\n",
    "    estimator=\"sum\",\n",
    "    palette=\"Accent\",\n",
    "    errorbar=\"ci\",\n",
    ")"
   ]
  },
  {
   "attachments": {},
   "cell_type": "markdown",
   "metadata": {},
   "source": [
    "- #### *Horizontal bar chart*"
   ]
  },
  {
   "attachments": {},
   "cell_type": "markdown",
   "metadata": {},
   "source": [
    "`->` Bars are arranged horizontally, rather than vertically. **categories (or the time periods) are in the y axis and the numerical quantities are in the x axis**.\n",
    "- *Best used for ranking, such as first place, second place, third place.*\n",
    "- Arrange bars in descending order, from largest to smallest."
   ]
  },
  {
   "cell_type": "code",
   "execution_count": 24,
   "metadata": {},
   "outputs": [
    {
     "name": "stderr",
     "output_type": "stream",
     "text": [
      "/home/maidul/miniconda3/envs/ml_intro/lib/python3.11/site-packages/seaborn/axisgrid.py:118: UserWarning: The figure layout has changed to tight\n",
      "  self._figure.tight_layout(*args, **kwargs)\n"
     ]
    },
    {
     "data": {
      "text/plain": [
       "<seaborn.axisgrid.FacetGrid at 0x7ffb80d495d0>"
      ]
     },
     "execution_count": 24,
     "metadata": {},
     "output_type": "execute_result"
    },
    {
     "data": {
      "image/png": "[encoded data removed]",
      "text/plain": [
       "<Figure size 611.5x500 with 1 Axes>"
      ]
     },
     "metadata": {},
     "output_type": "display_data"
    }
   ],
   "source": [
    "# to see mean fare in individual decks for each of the passenger class,\n",
    "sns.catplot(\n",
    "    df,\n",
    "    x=\"fare\",\n",
    "    y=\"deck\",\n",
    "    hue=\"class\",\n",
    "    kind=\"bar\",\n",
    "    palette=\"CMRmap\",\n",
    "    errorbar=None,\n",
    "    orient=\"h\",\n",
    ")"
   ]
  },
  {
   "cell_type": "code",
   "execution_count": null,
   "metadata": {},
   "outputs": [],
   "source": []
  }
 ],
 "metadata": {
  "kernelspec": {
   "display_name": "ml_intro",
   "language": "python",
   "name": "python3"
  },
  "language_info": {
   "codemirror_mode": {
    "name": "ipython",
    "version": 3
   },
   "file_extension": ".py",
   "mimetype": "text/x-python",
   "name": "python",
   "nbconvert_exporter": "python",
   "pygments_lexer": "ipython3",
   "version": "3.11.4"
  },
  "orig_nbformat": 4
 },
 "nbformat": 4,
 "nbformat_minor": 2
}
