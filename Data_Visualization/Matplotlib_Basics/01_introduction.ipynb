{
 "cells": [
  {
   "cell_type": "markdown",
   "metadata": {},
   "source": [
    "**Table of contents**<a id='toc0_'></a>    \n",
    "- [`Note`](#toc1_1_)    \n",
    "- [Import statements](#toc1_2_)    \n",
    "- [Anatomy of a Matplotlib figure (Docs)  ](#toc2_)    \n",
    "  - [Figure](#toc2_1_)    \n",
    "  - [Axes](#toc2_2_)    \n",
    "  - [Axis](#toc2_3_)    \n",
    "  - [Artist](#toc2_4_)    \n",
    "- [Matplotlib APIs (Docs)  ](#toc3_)    \n",
    "  - [Third party library interfaces](#toc3_1_)    \n",
    "- [Basic plotting](#toc4_)    \n",
    "  - [Creating Figure and Axes to plot](#toc4_1_)    \n",
    "  - [Types of inputs to the plotting functions](#toc4_2_)    \n",
    "  - [A basic line plot (Docs)  ](#toc4_3_)    \n",
    "- [Plot Customization: General Functions](#toc5_)    \n",
    "  - [*Set multiple properties of an Axes at once with the `ax.set()` method* (Docs)   ](#toc5_1_)    \n",
    "  - [*Set multiple properties of an Artist at once or list allowed values (to be set) with the `plt.setp(artists, *args, **kwargs)` method* (Docs)   ](#toc5_2_)    \n",
    "\n",
    "<!-- vscode-jupyter-toc-config\n",
    "\tnumbering=false\n",
    "\tanchor=true\n",
    "\tflat=false\n",
    "\tminLevel=2\n",
    "\tmaxLevel=5\n",
    "\t/vscode-jupyter-toc-config -->\n",
    "<!-- THIS CELL WILL BE REPLACED ON TOC UPDATE. DO NOT WRITE YOUR TEXT IN THIS CELL -->"
   ]
  },
  {
   "cell_type": "markdown",
   "metadata": {},
   "source": [
    "### <a id='toc1_1_'></a>[`Note`](#toc0_)\n",
    "We will be using Seaborn to plot different kinds of plots. But it is important to know how to customize those plots using the Matplotlib OO API since Seaborn is based on Matplotlib. Thus we will primarily focus on plot customization and not how to plot different types of plots using matplotlib. "
   ]
  },
  {
   "cell_type": "markdown",
   "metadata": {},
   "source": [
    "### <a id='toc1_2_'></a>[Import statements](#toc0_)"
   ]
  },
  {
   "cell_type": "code",
   "execution_count": 1,
   "metadata": {},
   "outputs": [],
   "source": [
    "import matplotlib as mpl\n",
    "import matplotlib.pyplot as plt\n",
    "import numpy as np"
   ]
  },
  {
   "cell_type": "markdown",
   "metadata": {},
   "source": [
    "## <a id='toc2_'></a>Anatomy of a Matplotlib figure ([Docs](https://matplotlib.org/stable/tutorials/introductory/quick_start.html))   [&#8593;](#toc0_)"
   ]
  },
  {
   "cell_type": "markdown",
   "metadata": {},
   "source": [
    "<img src=\"./mpl_fig_axes_axis.png\" width=400 height=400> <img src=\"./anatomy_of_a_matplotlib_figure.webp\" width=500 height=400>"
   ]
  },
  {
   "cell_type": "markdown",
   "metadata": {},
   "source": [
    "### <a id='toc2_1_'></a>[Figure](#toc0_)"
   ]
  },
  {
   "cell_type": "markdown",
   "metadata": {},
   "source": [
    "Matplotlib graphs your data on Figures (e.g., windows, Jupyter widgets, etc.). The Figure keeps track of all the child Axes, a group of 'special' Artists (titles, figure legends, colorbars, etc), and even nested subfigures."
   ]
  },
  {
   "cell_type": "markdown",
   "metadata": {},
   "source": [
    "### <a id='toc2_2_'></a>[Axes](#toc0_)"
   ]
  },
  {
   "cell_type": "markdown",
   "metadata": {},
   "source": [
    "A figure can contain multiple Axes. An Axes contains a region for plotting data (an area where points can be specified in terms of x-y coordinates or, theta-r in a polar plot, x-y-z in a 3D plot, etc.), and usually includes two (or three in the case of 3D) Axis objects."
   ]
  },
  {
   "cell_type": "markdown",
   "metadata": {},
   "source": [
    "Each Axes also has, \n",
    "- **A title:** set via `ax.set_title()`\n",
    "- **An x-label:** set via `ax.set_xlabel()`\n",
    "- **A y-label:** set via `ax.set_ylabel()`"
   ]
  },
  {
   "cell_type": "markdown",
   "metadata": {},
   "source": [
    "### <a id='toc2_3_'></a>[Axis](#toc0_)"
   ]
  },
  {
   "cell_type": "markdown",
   "metadata": {},
   "source": [
    "These objects set the scale and limits and generate ticks (the marks on the Axis) and ticklabels (strings labeling the ticks). The location of the ticks is determined by a Locator object and the ticklabel strings are formatted by a Formatter. The combination of the correct Locator and Formatter gives very fine control over the tick locations and labels."
   ]
  },
  {
   "cell_type": "markdown",
   "metadata": {},
   "source": [
    "### <a id='toc2_4_'></a>[Artist](#toc0_)"
   ]
  },
  {
   "cell_type": "markdown",
   "metadata": {},
   "source": [
    "Basically, everything visible on the Figure is an Artist (even Figure, Axes, and Axis objects). This includes Text objects, Line2D objects, collections objects, Patch objects, etc. When the Figure is rendered, all of the Artists are drawn to the canvas. Most Artists are tied to an Axes; such an Artist cannot be shared by multiple Axes, or moved from one to another."
   ]
  },
  {
   "cell_type": "markdown",
   "metadata": {},
   "source": [
    "## <a id='toc3_'></a>Matplotlib APIs ([Docs](https://matplotlib.org/stable/users/explain/api_interfaces.html#why-be-explicit))   [&#8593;](#toc0_)"
   ]
  },
  {
   "cell_type": "markdown",
   "metadata": {},
   "source": [
    "Matplotlib has two major application interfaces, or styles of using the library:\n",
    "\n",
    "- An explicit \"Axes\" interface that uses methods on a Figure or Axes object to create other Artists, and build a visualization step by step. This has also been called an \"object-oriented\" interface. We call this an \"explicit\" interface because each object is explicitly referenced, and used to make the next object. Keeping references to the objects is very flexible, and allows us to customize the objects after they are created, but before they are displayed.\n",
    "\n",
    "- An implicit \"pyplot\" interface that keeps track of the last Figure and Axes created, and adds Artists to the object it thinks the user wants. This can be convenient, particularly when doing interactive work or simple scripts. A reference to the current Figure can be retrieved using `plt.gcf` and to the current Axes by `plt.gca`."
   ]
  },
  {
   "cell_type": "markdown",
   "metadata": {},
   "source": [
    "Why be explicit? https://matplotlib.org/stable/users/explain/api_interfaces.html#why-be-explicit"
   ]
  },
  {
   "cell_type": "markdown",
   "metadata": {},
   "source": [
    "### <a id='toc3_1_'></a>[Third party library interfaces](#toc0_)"
   ]
  },
  {
   "cell_type": "markdown",
   "metadata": {},
   "source": [
    "Some third party libraries have chosen to implement plotting for their data objects, e.g. data.plot(), is seen in pandas, xarray, and other third-party libraries. This is done so that, the library can hide all the nitty-gritty from the user, and can make a visualization appropriate to the data type, often with good labels, choices of colormaps, and other convenient features.\n",
    "\n",
    "However, in some cases we may not like the title the library provides. Thankfully, usually they pass us back the Axes from the plot() method, and understanding the explicit Axes interface, we could call: ax.set_title('My preferred title') to customize the title.\n",
    "\n",
    "Many libraries also allow their plot methods to accept an optional ax argument. This allows us to place the visualization in an Axes that we have placed and perhaps customized."
   ]
  },
  {
   "cell_type": "markdown",
   "metadata": {},
   "source": [
    "## <a id='toc4_'></a>[Basic plotting](#toc0_)"
   ]
  },
  {
   "cell_type": "markdown",
   "metadata": {},
   "source": [
    "### <a id='toc4_1_'></a>[Creating Figure and Axes to plot](#toc0_)"
   ]
  },
  {
   "cell_type": "markdown",
   "metadata": {},
   "source": [
    "The simplest way of creating a Figure with an Axes is using *pyplot.subplots*. We can then use *Axes.plot* to draw some data on the Axes."
   ]
  },
  {
   "cell_type": "markdown",
   "metadata": {},
   "source": [
    "> To create an empty figure (without any axes) we can use `plt.figure(num=None, figsize=None, dpi=None, facecolor=None, edgecolor=None, frameon=True, layout {'constrained', 'compressed', 'tight', None}=None)` function"
   ]
  },
  {
   "cell_type": "markdown",
   "metadata": {},
   "source": [
    "> OR to create a figure with a number of Axes we can use the `plt.subplots(nrows=1, ncols=1, sharex=False, sharey=False, width_ratios=None, height_ratios=None, gridspec_kw=None, **fig_kw)` function"
   ]
  },
  {
   "cell_type": "markdown",
   "metadata": {},
   "source": [
    "<u>Function Parameters</u>\n",
    "- nrows, ncols: number of rows/columns on the subplot grid\n",
    "- sharex, sharey: Controls sharing of properties among x (sharex) or y (sharey) axes:\n",
    "    - True or 'all': x- or y-axis will be shared among all subplots (a good choice for ensuring that the axes scales of all the subplots are similar which is useful for comparing data in two different subplots).\n",
    "    - False or 'none': each subplot x- or y-axis will be independent.\n",
    "    - 'row': each subplot in a row will share the y-axis.\n",
    "    - 'col': each subplot in a column will share the x-axis.\n",
    "- width_ratios, height_ratios: *Array like of length ncols or nrows*. Defines the relative widths of the columns or heights of the rows. Each column gets a relative width of *width_ratios[i] / sum(width_ratios)* and each row gets a relative height of *height_ratios[i] / sum(height_ratios)*. If not given, all columns/rows will have the same width/height.\n",
    "- `**fig_kw:` all additional keyword arguments are passed to the *pyplot.figure* call. Some of the important figure keywords are --\n",
    "    - num: a unique identifier for the figure (int or str)\n",
    "    - figsize: (width, height) in inches\n",
    "    - dpi: resolution of the figure in dots-per-inches\n",
    "    - facecolor: background color\n",
    "    - edgecolor: border color\n",
    "    - frameon: whether to draw the figure frame\n",
    "    - layout: the layout mechanism for positioning of plot elements to avoid overlapping Axes decorations (labels, ticks, etc). Note that layout managers can measurably slow down figure display.\n",
    "\n",
    "<u>Returns</u> \n",
    "(Figure, Axes or an Array of Axes)"
   ]
  },
  {
   "cell_type": "markdown",
   "metadata": {},
   "source": [
    "**`Note:`** It is also possible to add a single axes one at a time to a figure. To do that we can use the, `plt.subplot()` function or the `plt.subplot2grid()` function. A brief explanation of these functions are given [here](https://matplotlib.org/stable/tutorials/intermediate/arranging_axes.html#adding-single-axes-at-a-time)."
   ]
  },
  {
   "cell_type": "code",
   "execution_count": 2,
   "metadata": {},
   "outputs": [
    {
     "data": {
      "image/png": "[encoded data removed]",
      "text/plain": [
       "<Figure size 400x400 with 1 Axes>"
      ]
     },
     "metadata": {},
     "output_type": "display_data"
    }
   ],
   "source": [
    "# let's create a figure and an axes on that figure where we will then draw a simple line plot\n",
    "fig, ax = plt.subplots(figsize=(4, 4), facecolor=\"w\", num=\"fig_line_plot\")"
   ]
  },
  {
   "cell_type": "markdown",
   "metadata": {},
   "source": [
    "### <a id='toc4_2_'></a>[Types of inputs to the plotting functions](#toc0_)"
   ]
  },
  {
   "cell_type": "markdown",
   "metadata": {},
   "source": [
    "*Plotting functions expect `numpy.array or numpy.ma.masked_array` as input, or objects that can be passed to `numpy.asarray`. Classes that are similar to arrays ('array-like') such as pandas data objects and numpy.matrix may not work as intended. Common convention is to convert these to numpy.array objects prior to plotting.*"
   ]
  },
  {
   "cell_type": "markdown",
   "metadata": {},
   "source": [
    "### <a id='toc4_3_'></a>A basic line plot ([Docs](https://matplotlib.org/stable/api/_as_gen/matplotlib.axes.Axes.plot.html#matplotlib-axes-axes-plot))   [&#8593;](#toc0_)"
   ]
  },
  {
   "cell_type": "code",
   "execution_count": 3,
   "metadata": {},
   "outputs": [],
   "source": [
    "x = np.linspace(0, 2, 50)"
   ]
  },
  {
   "cell_type": "code",
   "execution_count": 4,
   "metadata": {},
   "outputs": [
    {
     "data": {
      "image/png": "[encoded data removed]",
      "text/plain": [
       "<Figure size 400x400 with 1 Axes>"
      ]
     },
     "metadata": {},
     "output_type": "display_data"
    }
   ],
   "source": [
    "# we draw our plots on the Axes, \"ax\" defined previousely as a child of figure \"fig\" labeled as \"fig_line_plot\"\n",
    "# to show the figure with the plt.show() we first set the current Axes to \"ax\" with the plt.sca() method \n",
    "# which also sets the current Figure to the parent of \"ax\" i.e, \"fig\".\n",
    "\n",
    "plt.sca(ax)\n",
    "\n",
    "ax.plot(x, x)\n",
    "ax.plot(x, x**2)\n",
    "ax.plot(x, x**3)\n",
    "\n",
    "plt.show()"
   ]
  },
  {
   "cell_type": "markdown",
   "metadata": {},
   "source": [
    "## <a id='toc5_'></a>[Plot Customization: General Functions](#toc0_)"
   ]
  },
  {
   "cell_type": "markdown",
   "metadata": {},
   "source": [
    "### <a id='toc5_1_'></a>*Set multiple properties of an Axes at once with the `ax.set()` method* ([Docs](https://matplotlib.org/stable/api/_as_gen/matplotlib.axes.Axes.set.html))    [&#8593;](#toc0_)"
   ]
  },
  {
   "cell_type": "code",
   "execution_count": 5,
   "metadata": {},
   "outputs": [
    {
     "name": "stdout",
     "output_type": "stream",
     "text": [
      "Help on method set in module matplotlib.artist:\n",
      "\n",
      "set(*, adjustable=<UNSET>, agg_filter=<UNSET>, alpha=<UNSET>, anchor=<UNSET>, animated=<UNSET>, aspect=<UNSET>, autoscale_on=<UNSET>, autoscalex_on=<UNSET>, autoscaley_on=<UNSET>, axes_locator=<UNSET>, axisbelow=<UNSET>, box_aspect=<UNSET>, clip_box=<UNSET>, clip_on=<UNSET>, clip_path=<UNSET>, facecolor=<UNSET>, frame_on=<UNSET>, gid=<UNSET>, in_layout=<UNSET>, label=<UNSET>, mouseover=<UNSET>, navigate=<UNSET>, path_effects=<UNSET>, picker=<UNSET>, position=<UNSET>, prop_cycle=<UNSET>, rasterization_zorder=<UNSET>, rasterized=<UNSET>, sketch_params=<UNSET>, snap=<UNSET>, subplotspec=<UNSET>, title=<UNSET>, transform=<UNSET>, url=<UNSET>, visible=<UNSET>, xbound=<UNSET>, xlabel=<UNSET>, xlim=<UNSET>, xmargin=<UNSET>, xscale=<UNSET>, xticklabels=<UNSET>, xticks=<UNSET>, ybound=<UNSET>, ylabel=<UNSET>, ylim=<UNSET>, ymargin=<UNSET>, yscale=<UNSET>, yticklabels=<UNSET>, yticks=<UNSET>, zorder=<UNSET>) method of matplotlib.axes._axes.Axes instance\n",
      "    Set multiple properties at once.\n",
      "    \n",
      "    Supported properties are\n",
      "    \n",
      "    Properties:\n",
      "        adjustable: {'box', 'datalim'}\n",
      "        agg_filter: a filter function, which takes a (m, n, 3) float array and a dpi value, and returns a (m, n, 3) array and two offsets from the bottom left corner of the image\n",
      "        alpha: scalar or None\n",
      "        anchor: (float, float) or {'C', 'SW', 'S', 'SE', 'E', 'NE', ...}\n",
      "        animated: bool\n",
      "        aspect: {'auto', 'equal'} or float\n",
      "        autoscale_on: bool\n",
      "        autoscalex_on: unknown\n",
      "        autoscaley_on: unknown\n",
      "        axes_locator: Callable[[Axes, Renderer], Bbox]\n",
      "        axisbelow: bool or 'line'\n",
      "        box_aspect: float or None\n",
      "        clip_box: `.Bbox`\n",
      "        clip_on: bool\n",
      "        clip_path: Patch or (Path, Transform) or None\n",
      "        facecolor or fc: color\n",
      "        figure: `.Figure`\n",
      "        frame_on: bool\n",
      "        gid: str\n",
      "        in_layout: bool\n",
      "        label: object\n",
      "        mouseover: bool\n",
      "        navigate: bool\n",
      "        navigate_mode: unknown\n",
      "        path_effects: `.AbstractPathEffect`\n",
      "        picker: None or bool or float or callable\n",
      "        position: [left, bottom, width, height] or `~matplotlib.transforms.Bbox`\n",
      "        prop_cycle: unknown\n",
      "        rasterization_zorder: float or None\n",
      "        rasterized: bool\n",
      "        sketch_params: (scale: float, length: float, randomness: float)\n",
      "        snap: bool or None\n",
      "        subplotspec: unknown\n",
      "        title: str\n",
      "        transform: `.Transform`\n",
      "        url: str\n",
      "        visible: bool\n",
      "        xbound: unknown\n",
      "        xlabel: str\n",
      "        xlim: (bottom: float, top: float)\n",
      "        xmargin: float greater than -0.5\n",
      "        xscale: unknown\n",
      "        xticklabels: unknown\n",
      "        xticks: unknown\n",
      "        ybound: unknown\n",
      "        ylabel: str\n",
      "        ylim: (bottom: float, top: float)\n",
      "        ymargin: float greater than -0.5\n",
      "        yscale: unknown\n",
      "        yticklabels: unknown\n",
      "        yticks: unknown\n",
      "        zorder: float\n",
      "\n"
     ]
    }
   ],
   "source": [
    "help(ax.set)"
   ]
  },
  {
   "cell_type": "markdown",
   "metadata": {},
   "source": [
    "### <a id='toc5_2_'></a>*Set multiple properties of an Artist at once or list allowed values (to be set) with the `plt.setp(artists, *args, **kwargs)` method* ([Docs](https://matplotlib.org/stable/api/_as_gen/matplotlib.pyplot.setp.html))    [&#8593;](#toc0_)"
   ]
  },
  {
   "cell_type": "code",
   "execution_count": 6,
   "metadata": {},
   "outputs": [
    {
     "name": "stdout",
     "output_type": "stream",
     "text": [
      "Help on function setp in module matplotlib.pyplot:\n",
      "\n",
      "setp(obj, *args, **kwargs)\n",
      "    Set one or more properties on an `.Artist`, or list allowed values.\n",
      "    \n",
      "    Parameters\n",
      "    ----------\n",
      "    obj : `~matplotlib.artist.Artist` or list of `.Artist`\n",
      "        The artist(s) whose properties are being set or queried.  When setting\n",
      "        properties, all artists are affected; when querying the allowed values,\n",
      "        only the first instance in the sequence is queried.\n",
      "    \n",
      "        For example, two lines can be made thicker and red with a single call:\n",
      "    \n",
      "        >>> x = arange(0, 1, 0.01)\n",
      "        >>> lines = plot(x, sin(2*pi*x), x, sin(4*pi*x))\n",
      "        >>> setp(lines, linewidth=2, color='r')\n",
      "    \n",
      "    file : file-like, default: `sys.stdout`\n",
      "        Where `setp` writes its output when asked to list allowed values.\n",
      "    \n",
      "        >>> with open('output.log') as file:\n",
      "        ...     setp(line, file=file)\n",
      "    \n",
      "        The default, ``None``, means `sys.stdout`.\n",
      "    \n",
      "    *args, **kwargs\n",
      "        The properties to set.  The following combinations are supported:\n",
      "    \n",
      "        - Set the linestyle of a line to be dashed:\n",
      "    \n",
      "          >>> line, = plot([1, 2, 3])\n",
      "          >>> setp(line, linestyle='--')\n",
      "    \n",
      "        - Set multiple properties at once:\n",
      "    \n",
      "          >>> setp(line, linewidth=2, color='r')\n",
      "    \n",
      "        - List allowed values for a line's linestyle:\n",
      "    \n",
      "          >>> setp(line, 'linestyle')\n",
      "          linestyle: {'-', '--', '-.', ':', '', (offset, on-off-seq), ...}\n",
      "    \n",
      "        - List all properties that can be set, and their allowed values:\n",
      "    \n",
      "          >>> setp(line)\n",
      "          agg_filter: a filter function, ...\n",
      "          [long output listing omitted]\n",
      "    \n",
      "        `setp` also supports MATLAB style string/value pairs.  For example, the\n",
      "        following are equivalent:\n",
      "    \n",
      "        >>> setp(lines, 'linewidth', 2, 'color', 'r')  # MATLAB style\n",
      "        >>> setp(lines, linewidth=2, color='r')        # Python style\n",
      "    \n",
      "    See Also\n",
      "    --------\n",
      "    getp\n",
      "\n"
     ]
    }
   ],
   "source": [
    "help(plt.setp)"
   ]
  },
  {
   "cell_type": "code",
   "execution_count": null,
   "metadata": {},
   "outputs": [],
   "source": []
  }
 ],
 "metadata": {
  "kernelspec": {
   "display_name": "ml",
   "language": "python",
   "name": "python3"
  },
  "language_info": {
   "codemirror_mode": {
    "name": "ipython",
    "version": 3
   },
   "file_extension": ".py",
   "mimetype": "text/x-python",
   "name": "python",
   "nbconvert_exporter": "python",
   "pygments_lexer": "ipython3",
   "version": "3.11.4"
  },
  "orig_nbformat": 4
 },
 "nbformat": 4,
 "nbformat_minor": 2
}
