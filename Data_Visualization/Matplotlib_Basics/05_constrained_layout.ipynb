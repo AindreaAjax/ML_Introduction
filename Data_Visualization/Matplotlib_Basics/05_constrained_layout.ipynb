{
 "cells": [
  {
   "cell_type": "markdown",
   "metadata": {},
   "source": [
    "**Table of contents**<a id='toc0_'></a>    \n",
    "- [Import statements](#toc1_1_)    \n",
    "- [Plot customization: Constrained layout guide (Docs)](#toc2_)    \n",
    "    - [*Padding and spacing*](#toc2_1_1_)    \n",
    "    - [*Manually turning off constrained_layout()*](#toc2_1_2_)    \n",
    "    - [*Limitations*](#toc2_1_3_)    \n",
    "\n",
    "<!-- vscode-jupyter-toc-config\n",
    "\tnumbering=false\n",
    "\tanchor=true\n",
    "\tflat=false\n",
    "\tminLevel=2\n",
    "\tmaxLevel=5\n",
    "\t/vscode-jupyter-toc-config -->\n",
    "<!-- THIS CELL WILL BE REPLACED ON TOC UPDATE. DO NOT WRITE YOUR TEXT IN THIS CELL -->"
   ]
  },
  {
   "cell_type": "markdown",
   "metadata": {},
   "source": [
    "### <a id='toc1_1_'></a>[Import statements](#toc0_)"
   ]
  },
  {
   "cell_type": "code",
   "execution_count": 1,
   "metadata": {},
   "outputs": [],
   "source": [
    "import matplotlib as mpl\n",
    "import matplotlib.pyplot as plt\n",
    "import numpy as np"
   ]
  },
  {
   "cell_type": "markdown",
   "metadata": {},
   "source": [
    "## <a id='toc2_'></a>Plot customization: Constrained layout guide ([Docs](https://matplotlib.org/stable/tutorials/intermediate/constrainedlayout_guide.html)) [&#8593;](#toc0_)"
   ]
  },
  {
   "cell_type": "markdown",
   "metadata": {},
   "source": [
    "Constrained layout automatically adjusts subplots and decorations like legends and colorbars so that they fit in the figure window while still preserving, as best they can, the logical layout requested by the user.\n",
    "\n",
    "constrained_layout() is similar to tight_layout(), but uses a constraint solver to determine the size of axes that allows them to fit.\n",
    "\n",
    "constrained_layout typically needs to be activated before any axes are added to a figure. Two ways of doing so are,\n",
    "\n",
    "1. using the respective argument to subplots() or figure(), e.g.: `plt.subplots(layout=\"constrained\")`\n",
    "2. activate it via rcParams, like: `plt.rcParams['figure.constrained_layout.use'] = True`"
   ]
  },
  {
   "cell_type": "markdown",
   "metadata": {},
   "source": [
    "#### <a id='toc2_1_1_'></a>[*Padding and spacing*](#toc0_)"
   ]
  },
  {
   "cell_type": "markdown",
   "metadata": {},
   "source": [
    "Horizontal padding between axes is controlled by the `w_pad` and `wspace` parameters, and vertical padding by `h_pad` and `hspace` parameters. \n",
    "- w/h_pad are the minimum space around the axes in units of inches\n",
    "- wspace/hspace also controls the spacing between subplots. These are specified as a fraction of the size of the subplot group as a whole (i.e, if there are more than two columns/rows, the wspace/hspace is shared between them, e.g. for three columns of subplots the wspace is divided in two). If these values are smaller than w_pad or h_pad, then the fixed pads are used instead."
   ]
  },
  {
   "cell_type": "markdown",
   "metadata": {},
   "source": [
    "There are two ways in which these parameter values can be set.\n",
    "1. with, `fig.get_layout_engine().set(w_pad, h_pad, wspace, hspace)`\n",
    "2. another way is to set them via rcParams like, `mpl.rc(\"figure.constrained_layout\", use, w_pad, h_pad, wspace, hspace)`"
   ]
  },
  {
   "cell_type": "markdown",
   "metadata": {},
   "source": [
    "#### <a id='toc2_1_2_'></a>[*Manually turning off constrained_layout()*](#toc0_)"
   ]
  },
  {
   "cell_type": "markdown",
   "metadata": {},
   "source": [
    "constrained_layout() usually adjusts the axes positions on each draw of the figure. If you want to get the spacing provided by constrained_layout but not have it update, then do the initial draw and then call `fig.set_layout_engine(None)`. This is potentially useful for animations where the tick labels may change length."
   ]
  },
  {
   "cell_type": "markdown",
   "metadata": {},
   "source": [
    "#### <a id='toc2_1_3_'></a>[*Limitations*](#toc0_)"
   ]
  },
  {
   "cell_type": "markdown",
   "metadata": {},
   "source": [
    "1. constrained-layout does not handle legends being created via Figure.legend() yet.\n",
    "2. In order for a legend or other artist to not steal space from the subplot layout, we can use `Artist.set_in_layout(False)`. But this can cause the legend to end up cropped (the effect is not evident when the fig is saved).\n",
    "3. constrained_layout only considers ticklabels, axis labels, titles, and legends. Thus, other artists may be clipped and also may overlap.\n",
    "4. It assumes that the extra space needed for ticklabels, axis labels, and titles is independent of original location of axes. This is often true, but there are rare cases where it is not."
   ]
  },
  {
   "cell_type": "code",
   "execution_count": null,
   "metadata": {},
   "outputs": [],
   "source": []
  }
 ],
 "metadata": {
  "kernelspec": {
   "display_name": "ml_intro",
   "language": "python",
   "name": "python3"
  },
  "language_info": {
   "codemirror_mode": {
    "name": "ipython",
    "version": 3
   },
   "file_extension": ".py",
   "mimetype": "text/x-python",
   "name": "python",
   "nbconvert_exporter": "python",
   "pygments_lexer": "ipython3",
   "version": "3.11.4"
  },
  "orig_nbformat": 4
 },
 "nbformat": 4,
 "nbformat_minor": 2
}
