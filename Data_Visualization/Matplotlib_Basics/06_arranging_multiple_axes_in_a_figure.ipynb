{
 "cells": [
  {
   "cell_type": "markdown",
   "metadata": {},
   "source": [
    "### Import statements"
   ]
  },
  {
   "cell_type": "code",
   "execution_count": 2,
   "metadata": {},
   "outputs": [],
   "source": [
    "import matplotlib as mpl\n",
    "import matplotlib.pyplot as plt\n",
    "import numpy as np"
   ]
  },
  {
   "cell_type": "markdown",
   "metadata": {},
   "source": [
    "## Plot customization: Arranging Multiple Axes in a Figure ([Docs](https://matplotlib.org/stable/tutorials/intermediate/arranging_axes.html)) "
   ]
  },
  {
   "cell_type": "markdown",
   "metadata": {},
   "source": [
    "It is often the case that more than one Axes are required in a figure and usually they are organized into a regular grid.\n",
    "\n",
    "Matplotlib uses Axes to refer to the drawing area that contains data, x- and y-axis, ticks, labels, title, etc. Another term that is often used is \"subplot\", which refers to an Axes that is in a grid with other Axes objects."
   ]
  },
  {
   "cell_type": "markdown",
   "metadata": {},
   "source": [
    "The functions most commonly used for creating a grid of Axes objects are the `fig.subplots()` and `fig.subplot_mosaic()` functions. \n",
    "\n",
    "- The subplots creates and places all Axes on the figure at once, and returns an object array with handles for the Axes in the grid. See [Figure.subplots](https://matplotlib.org/stable/api/figure_api.html#matplotlib.figure.Figure.subplots) for more detailed function documentation.\n",
    "\n",
    "- The subplot_mosaic function is a simple way to create figures and a grid of Axes, with the added flexibility that Axes can also span rows or columns. The Axes are returned in a labelled dictionary instead of an array. See [Figure.subplot_mosaic](https://matplotlib.org/stable/api/figure_api.html#matplotlib.figure.Figure.subplot_mosaic) for more detailed function documentation."
   ]
  },
  {
   "cell_type": "markdown",
   "metadata": {},
   "source": [
    "For creating complex grid layouts we should use the `subplot_mosaic()` function."
   ]
  },
  {
   "cell_type": "markdown",
   "metadata": {},
   "source": [
    "> The `subplot_mosaic(mosaic, *, sharex=False, sharey=False, width_ratios=None, height_ratios=None, empty_sentinel='.', subplot_kw=None, per_subplot_kw=None, gridspec_kw=None)` function"
   ]
  },
  {
   "cell_type": "markdown",
   "metadata": {},
   "source": [
    "The function builds a layout of Axes based on ASCII art or nested lists."
   ]
  },
  {
   "cell_type": "markdown",
   "metadata": {},
   "source": [
    "<u> Function Parameters</u>\n",
    "\n",
    "- mosaic: A visual layout of how you want your Axes to be arranged labeled as strings.\n",
    "    - the layout can be a list of strings or a list of list of strings. think of it like a 2D matrix. For example -- \n",
    "        \n",
    "            x = [['A panel', 'A panel', 'edge'],\n",
    "                ['C panel', '.',       'edge']] \n",
    "            \n",
    "        produces 4 Axes:\n",
    "        \n",
    "        - 'A panel' which is 1 row high and spans the first two columns\n",
    "\n",
    "        - 'edge' which is 2 rows high and is on the right edge\n",
    "\n",
    "        - 'C panel' which is 1 row and 1 column wide in the bottom left\n",
    "\n",
    "        - a blank space which is 1 row and 1 column wide in the bottom center\n",
    "\n",
    "    Also, any of the entries in the layout can be a list of lists of the same form to create nested layouts.\n",
    "\n",
    "    - if input is a str, then it can either be a multi-line string of the form --\n",
    "\n",
    "            '''\n",
    "            AAE\n",
    "            C.E\n",
    "            '''\n",
    "\n",
    "    where each character is a column and each line is a row. Or it can be a single-line string where rows are separated by semi-colons (;) --\n",
    "\n",
    "            'AB;CC'\n",
    "\n",
    "    **Note:** The string notation allows only single character Axes labels and does not support nesting but is very terse.\n",
    "\n",
    "- sharex, shareybool (default: False): If True, the x-axis (sharex) or y-axis (sharey) will be shared among all subplots. \n",
    "\n",
    "- width_ratios (optional): array-like of length ncols. Defines the relative widths of the columns. Each column gets a relative width of width_ratios[i] / sum(width_ratios). If not given, all columns will have the same width. In the case of nested layouts, this argument applies only to the outer layout.\n",
    "\n",
    "- height_ratios (optional): array-like of length nrows. Defines the relative heights of the rows. Each row gets a relative height of height_ratios[i] / sum(height_ratios). If not given, all rows will have the same height. In the case of nested layouts, this argument applies only to the outer layout.\n",
    "\n",
    "**Returns:** dict[label, Axes]. A dictionary mapping the labels to the Axes objects. The order of the axes is left-to-right and top-to-bottom of their position in the total layout."
   ]
  },
  {
   "cell_type": "code",
   "execution_count": 8,
   "metadata": {},
   "outputs": [],
   "source": [
    "# a function to put text on an Axes\n",
    "def annotate_axes(axes, text):\n",
    "    return axes.text(x=0.5, y=0.5, s=text, horizontalalignment='center', verticalalignment='center')"
   ]
  },
  {
   "cell_type": "code",
   "execution_count": 9,
   "metadata": {},
   "outputs": [
    {
     "data": {
      "image/png": "[encoded data removed]",
      "text/plain": [
       "<Figure size 500x700 with 4 Axes>"
      ]
     },
     "metadata": {},
     "output_type": "display_data"
    }
   ],
   "source": [
    "inner_layout = [[\"top_right_top\"],\n",
    "                [\"top_right_bottom\"]]\n",
    "outer_layout = [[\"top_left\", inner_layout],\n",
    "                [\"bottom\", \"bottom\"]]\n",
    "\n",
    "axd = plt.figure(figsize=(5, 7)).subplot_mosaic(mosaic=outer_layout, height_ratios=[3, 2], sharex=True, sharey=True)\n",
    "\n",
    "for ax_names, axes in axd.items():\n",
    "    annotate_axes(axes, ax_names)"
   ]
  },
  {
   "cell_type": "code",
   "execution_count": 10,
   "metadata": {},
   "outputs": [
    {
     "data": {
      "text/plain": [
       "{'top_left': <Axes: label='top_left'>,\n",
       " 'top_right_top': <Axes: label='top_right_top'>,\n",
       " 'top_right_bottom': <Axes: label='top_right_bottom'>,\n",
       " 'bottom': <Axes: label='bottom'>}"
      ]
     },
     "execution_count": 10,
     "metadata": {},
     "output_type": "execute_result"
    }
   ],
   "source": [
    "axd"
   ]
  },
  {
   "cell_type": "markdown",
   "metadata": {},
   "source": [
    "## Sub-figure ([Docs](https://matplotlib.org/stable/api/figure_api.html#matplotlib.figure.SubFigure))"
   ]
  },
  {
   "cell_type": "markdown",
   "metadata": {},
   "source": [
    "Sometimes it is natural to have more than one distinct group of Axes grids, in which case Matplotlib has the concept of SubFigure:\n",
    "\n",
    "SubFigure: A virtual figure within a figure.\n",
    "\n"
   ]
  },
  {
   "cell_type": "code",
   "execution_count": null,
   "metadata": {},
   "outputs": [],
   "source": []
  },
  {
   "cell_type": "code",
   "execution_count": null,
   "metadata": {},
   "outputs": [],
   "source": []
  }
 ],
 "metadata": {
  "kernelspec": {
   "display_name": "ml_intro",
   "language": "python",
   "name": "python3"
  },
  "language_info": {
   "codemirror_mode": {
    "name": "ipython",
    "version": 3
   },
   "file_extension": ".py",
   "mimetype": "text/x-python",
   "name": "python",
   "nbconvert_exporter": "python",
   "pygments_lexer": "ipython3",
   "version": "3.11.4"
  },
  "orig_nbformat": 4
 },
 "nbformat": 4,
 "nbformat_minor": 2
}
