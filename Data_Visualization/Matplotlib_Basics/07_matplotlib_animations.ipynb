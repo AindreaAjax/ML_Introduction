{
 "cells": [
  {
   "cell_type": "markdown",
   "metadata": {},
   "source": [
    "### Import statements"
   ]
  },
  {
   "cell_type": "code",
   "execution_count": 1,
   "metadata": {},
   "outputs": [],
   "source": [
    "import matplotlib as mpl\n",
    "import matplotlib.pyplot as plt\n",
    "import numpy as np"
   ]
  },
  {
   "cell_type": "markdown",
   "metadata": {},
   "source": [
    "## Animated Plots ([Docs](https://matplotlib.org/stable/tutorials/introductory/animation_tutorial.html))"
   ]
  },
  {
   "cell_type": "markdown",
   "metadata": {},
   "source": [
    "### Animation Classes"
   ]
  },
  {
   "cell_type": "markdown",
   "metadata": {},
   "source": [
    "Matplotlib provides 2 different classes to create animated plots.\n",
    "\n",
    "1. FuncAnimation: Generate data for first frame and then modify this data for each frame to create an animated plot.\n",
    "\n",
    "2. ArtistAnimation: Generate a list (iterable) of artists that will be drawn in each frame in the animation.\n",
    "\n",
    "FuncAnimation is more efficient in terms of speed and memory as it draws an artist once and then modifies it. On the other hand ArtistAnimation is flexible as it allows any iterable of artists to be animated in a sequence."
   ]
  },
  {
   "cell_type": "markdown",
   "metadata": {},
   "source": [
    "### FuncAnimation ([Docs](https://matplotlib.org/stable/api/_as_gen/matplotlib.animation.FuncAnimation.html#matplotlib.animation.FuncAnimation))"
   ]
  },
  {
   "cell_type": "markdown",
   "metadata": {},
   "source": [
    "> ``matplotlib.animation.FuncAnimation(fig, func, frames=None, init_func=None, fargs=None, save_count=None, *, cache_frame_data=True, **kwargs)`` is a TimedAnimation subclass that makes an animation by repeatedly calling a function *func*."
   ]
  },
  {
   "cell_type": "markdown",
   "metadata": {},
   "source": [
    "<u> Function Parameters</u>\n",
    "\n",
    "- fig: The figure object onto which the animation is drawn.\n",
    "- func: The function to call at each frame. The function definition follows a definite pattern e.g. `def func(frame, **func_args)` where frame is the next value in *frames*. It is often more convenient to provide the arguments to the *func* function using `functools.partial()`. In this way it is also possible to pass keyword arguments. To pass a function with both positional and keyword arguments, set all arguments as keyword arguments, just leaving the frame argument unset e.g:\n",
    "\n",
    "        def func(frame, art, *, y=None):\n",
    "            ...\n",
    "        ani = FuncAnimation(fig, partial(func, art=ln, y='foo'))\n",
    "\n",
    "- frames: Source of data to pass to *func* in each iteration (frame) of the animation. The length of the animation is deduced from this parameter. It is an optional argument and can be any of, iterable, int, generator function, or None.\n",
    "    - If an iterable, then simply use the values provided.\n",
    "    - If an integer, then equivalent to passing *range(frames)*\n",
    "    - If a generator function, then must have the signature, *def gen_function() -> obj*\n",
    "    - If None, then equivalent to passing *itertools.count*\n",
    "    In all of these cases, the values in frames is simply passed through to the user-supplied func and thus can be of any type.\n",
    "- interval: time in milliseconds between drawing of two frames."
   ]
  },
  {
   "cell_type": "markdown",
   "metadata": {},
   "source": [
    "**`Note:`** You must store the created Animation in a variable that lives as long as the animation should run. Otherwise, the Animation object will be garbage-collected and the animation stops."
   ]
  },
  {
   "cell_type": "markdown",
   "metadata": {},
   "source": [
    "Animating using FuncAnimation would usually follow the following structure:\n",
    "\n",
    "1. Plot the initial figure, including all the required artists. Save all the artists in variables so that they can be updated later on during the animation.\n",
    "2. Create an animation function that updates the data in each artist to generate the new frame at each function call. The update function should use the `set_*()` functions for different artists to modify the data. **Tip:** use the plt.setp() to inspect which attributes can be changed.\n",
    "3. Create a FuncAnimation object with the Figure and the animation function, along with the keyword arguments that determine the animation properties.\n",
    "4. Use animation.Animation.save or pyplot.show to save or show the animation."
   ]
  },
  {
   "cell_type": "markdown",
   "metadata": {},
   "source": [
    "### ArtistAnimation ([Docs](https://matplotlib.org/stable/api/_as_gen/matplotlib.animation.ArtistAnimation.html#matplotlib.animation.ArtistAnimation))"
   ]
  },
  {
   "cell_type": "markdown",
   "metadata": {},
   "source": [
    "ArtistAnimation can be used to generate animations if there is data stored on various different artists. This list of artists is then converted frame by frame into an animation. For example, when we use Axes.barh to plot a bar-chart, it creates a number of artists for each of the bar and error bars. To update the plot, one would need to update each of the bars from the container individually and redraw them. Instead, `animation.ArtistAnimation` can be used to plot each frame individually and then stitched together to form an animation."
   ]
  },
  {
   "cell_type": "markdown",
   "metadata": {},
   "source": [
    "> `matplotlib.animation.ArtistAnimation(fig, artists, *args, **kwargs)` is a TimedAnimation subclass that creates an animation by using a fixed set of Artist objects.\n",
    "\n",
    "<u>Function Parameters</u>\n",
    "\n",
    "- fig: The figure object used to get needed events, such as draw or resize.\n",
    "- artists (list): Each list entry is a collection of Artist objects that are made visible on the corresponding frame. Other artists are made invisible.\n",
    "- interval (int, default: 200): Delay between frames in milliseconds.\n",
    "- repeat_delay (int, default: 0): The delay in milliseconds between consecutive animation runs, if repeat is True.\n",
    "- repeat (default: True): Whether the animation repeats when the sequence of frames is completed."
   ]
  },
  {
   "cell_type": "markdown",
   "metadata": {},
   "source": [
    "**`Note:`** Before creating an instance, all plotting should have taken place and the relevant artists saved. You must store the created Animation in a variable that lives as long as the animation should run. Otherwise, the Animation object will be garbage-collected and the animation stops."
   ]
  },
  {
   "cell_type": "markdown",
   "metadata": {},
   "source": [
    "> Let's say we want to animate the motion of three projectiles thrown from h1, h2 and h3 height at an angle of theta1, theta2 and theta3 respectively"
   ]
  },
  {
   "cell_type": "code",
   "execution_count": 2,
   "metadata": {},
   "outputs": [],
   "source": [
    "import matplotlib.animation as animation\n",
    "from functools import partial"
   ]
  },
  {
   "cell_type": "code",
   "execution_count": 3,
   "metadata": {},
   "outputs": [],
   "source": [
    "mpl.rcParams[\"text.usetex\"] = True"
   ]
  },
  {
   "cell_type": "code",
   "execution_count": 4,
   "metadata": {},
   "outputs": [],
   "source": [
    "import math"
   ]
  },
  {
   "cell_type": "code",
   "execution_count": 8,
   "metadata": {},
   "outputs": [],
   "source": [
    "mpl.rcParams[\"backend\"] = \"TkAgg\"\n",
    "\n",
    "# first let's create the figure and axes to draw on\n",
    "fig, ax = plt.subplots(layout=\"constrained\")\n",
    "\n",
    "# let's add axes titles, axis titles and other artists that will not be updated\n",
    "ax.set_title(\"Visualizing the motion of projectiles\")\n",
    "ax.set_xlabel(\"Distance travelled in the horizontal direction\")\n",
    "ax.set_ylabel(\"Distance travelled in the vertical direction\")\n",
    "\n",
    "ax.set_ylim(bottom=0)\n",
    "ax.set_xlim(left=0)\n",
    "\n",
    "fig.suptitle(r\"$\\underline{Projectile\\ motion\\ animation}$\")\n",
    "\n",
    "# the data\n",
    "g = 9.81\n",
    "h = [0, 2, 2.8]\n",
    "theta = [45, 30, 60]\n",
    "v0 = [50, 45, 55]\n",
    "t_upto = [\n",
    "    math.ceil(2 * v0[i] * math.sin(math.pi * theta[i] / 180) / g)\n",
    "    for i in range(len(theta))\n",
    "]\n",
    "\n",
    "# define how many frames do you want in your animation\n",
    "no_of_frames = 100\n",
    "\n",
    "\n",
    "# formulas\n",
    "def find_x_and_y(h, alpha, u, total_flight_time, g=9.81, no_of_frames=no_of_frames):\n",
    "    time_range = np.linspace(0, total_flight_time, no_of_frames)\n",
    "    x = [u * math.cos(math.pi * alpha / 180) * t for t in time_range]\n",
    "    y = [\n",
    "        h + u * math.sin(math.pi * alpha / 180) * t - 0.5 * g * (t**2)\n",
    "        for t in time_range\n",
    "    ]\n",
    "    return x, y\n",
    "\n",
    "\n",
    "# now let's create the artists whose value will change in each frame\n",
    "x0, y0 = find_x_and_y(h[0], theta[0], v0[0], t_upto[0], g)\n",
    "# x1, y1 = find_x_and_y(h[1], theta[1], v0[1], t_upto[1], g)\n",
    "# x2, y2 = find_x_and_y(h[2], theta[2], v0[2], t_upto[2], g)\n",
    "\n",
    "artists = []\n",
    "\n",
    "\n",
    "for i in range(no_of_frames):\n",
    "    line0 = ax.plot(x0[i], y0[i], marker=\"*\")\n",
    "    # line1 = ax.plot(x1[i], y1[i], marker=\">\")\n",
    "    # line2 = ax.plot(x2[i], y2[i], marker=\"^\")\n",
    "    artists.append(line0)\n",
    "\n",
    "ani = animation.ArtistAnimation(fig, artists=artists)\n",
    "\n",
    "plt.show()"
   ]
  },
  {
   "cell_type": "code",
   "execution_count": null,
   "metadata": {},
   "outputs": [],
   "source": []
  }
 ],
 "metadata": {
  "kernelspec": {
   "display_name": "ml_intro",
   "language": "python",
   "name": "python3"
  },
  "language_info": {
   "codemirror_mode": {
    "name": "ipython",
    "version": 3
   },
   "file_extension": ".py",
   "mimetype": "text/x-python",
   "name": "python",
   "nbconvert_exporter": "python",
   "pygments_lexer": "ipython3",
   "version": "3.11.4"
  },
  "orig_nbformat": 4
 },
 "nbformat": 4,
 "nbformat_minor": 2
}
