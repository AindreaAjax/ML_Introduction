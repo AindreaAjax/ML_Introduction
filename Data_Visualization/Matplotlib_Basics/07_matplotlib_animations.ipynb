{
 "cells": [
  {
   "cell_type": "markdown",
   "metadata": {},
   "source": [
    "### Import statements"
   ]
  },
  {
   "cell_type": "code",
   "execution_count": 1,
   "metadata": {},
   "outputs": [],
   "source": [
    "import matplotlib as mpl\n",
    "import matplotlib.pyplot as plt\n",
    "import numpy as np"
   ]
  },
  {
   "cell_type": "markdown",
   "metadata": {},
   "source": [
    "## Animated Plots ([Docs](https://matplotlib.org/stable/tutorials/introductory/animation_tutorial.html))"
   ]
  },
  {
   "cell_type": "markdown",
   "metadata": {},
   "source": [
    "### Animation Classes"
   ]
  },
  {
   "cell_type": "markdown",
   "metadata": {},
   "source": [
    "Matplotlib provides 2 different classes to create animated plots.\n",
    "\n",
    "1. FuncAnimation: Generate data for first frame and then modify this data for each frame to create an animated plot.\n",
    "\n",
    "2. ArtistAnimation: Generate a list (iterable) of artists that will be drawn in each frame in the animation.\n",
    "\n",
    "FuncAnimation is more efficient in terms of speed and memory as it draws an artist once and then modifies it. On the other hand ArtistAnimation is flexible as it allows any iterable of artists to be animated in a sequence."
   ]
  },
  {
   "cell_type": "markdown",
   "metadata": {},
   "source": [
    "### FuncAnimation ([Docs](https://matplotlib.org/stable/api/_as_gen/matplotlib.animation.FuncAnimation.html#matplotlib.animation.FuncAnimation))"
   ]
  },
  {
   "cell_type": "markdown",
   "metadata": {},
   "source": [
    "> ``matplotlib.animation.FuncAnimation(fig, func, frames=None, init_func=None, fargs=None, save_count=None, *, cache_frame_data=True, **kwargs)`` is a TimedAnimation subclass that makes an animation by repeatedly calling a function *func*."
   ]
  },
  {
   "cell_type": "markdown",
   "metadata": {},
   "source": [
    "<u> Function Parameters</u>\n",
    "\n",
    "- fig: The figure object onto which the animation is drawn.\n",
    "- func: The function to call at each frame. The function definition follows a definite pattern e.g. `def func(frame, **func_args)` where frame is the next value in *frames*. It is often more convenient to provide the arguments to the *func* function using `functools.partial()`. In this way it is also possible to pass keyword arguments. To pass a function with both positional and keyword arguments, set all arguments as keyword arguments, just leaving the frame argument unset e.g:\n",
    "\n",
    "        def func(frame, art, *, y=None):\n",
    "            ...\n",
    "        ani = FuncAnimation(fig, partial(func, art=ln, y='foo'))\n",
    "\n",
    "- frames: Source of data to pass to *func* in each iteration (frame) of the animation. The length of the animation is deduced from this parameter. It is an optional argument and can be any of, iterable, int, generator function, or None.\n",
    "    - If an iterable, then simply use the values provided.\n",
    "    - If an integer, then equivalent to passing *range(frames)*\n",
    "    - If a generator function, then must have the signature, *def gen_function() -> obj*\n",
    "    - If None, then equivalent to passing *itertools.count*\n",
    "    In all of these cases, the values in frames is simply passed through to the user-supplied func and thus can be of any type.\n",
    "- interval: time in milliseconds between drawing of two frames."
   ]
  },
  {
   "cell_type": "markdown",
   "metadata": {},
   "source": [
    "**`Note:`** You must store the created Animation in a variable that lives as long as the animation should run. Otherwise, the Animation object will be garbage-collected and the animation stops."
   ]
  },
  {
   "cell_type": "markdown",
   "metadata": {},
   "source": [
    "Animating using FuncAnimation would usually follow the following structure:\n",
    "\n",
    "1. Plot the initial figure, including all the required artists. Save all the artists in variables so that they can be updated later on during the animation.\n",
    "2. Create an animation function that updates the data in each artist to generate the new frame at each function call. The update function should use the `set_*()` functions for different artists to modify the data. **Tip:** use the plt.setp() to inspect which attributes can be changed.\n",
    "3. Create a FuncAnimation object with the Figure and the animation function, along with the keyword arguments that determine the animation properties.\n",
    "4. Use animation.Animation.save or pyplot.show to save or show the animation."
   ]
  },
  {
   "cell_type": "code",
   "execution_count": null,
   "metadata": {},
   "outputs": [],
   "source": []
  },
  {
   "cell_type": "markdown",
   "metadata": {},
   "source": [
    "### ArtistAnimation ([Docs](https://matplotlib.org/stable/api/_as_gen/matplotlib.animation.ArtistAnimation.html#matplotlib.animation.ArtistAnimation))"
   ]
  },
  {
   "cell_type": "markdown",
   "metadata": {},
   "source": [
    "ArtistAnimation can be used to generate animations if there is data stored on various different artists. This list of artists is then converted frame by frame into an animation. For example, when we use Axes.barh to plot a bar-chart, it creates a number of artists for each of the bar and error bars. To update the plot, one would need to update each of the bars from the container individually and redraw them. Instead, `animation.ArtistAnimation` can be used to plot each frame individually and then stitched together to form an animation."
   ]
  },
  {
   "cell_type": "markdown",
   "metadata": {},
   "source": [
    "> `matplotlib.animation.ArtistAnimation(fig, artists, *args, **kwargs)` is a TimedAnimation subclass that creates an animation by using a fixed set of Artist objects.\n",
    "\n",
    "<u>Function Parameters</u>\n",
    "\n",
    "- fig: The figure object used to get needed events, such as draw or resize.\n",
    "- artists (list): Each list entry is a collection of Artist objects that are made visible on the corresponding frame. Other artists are made invisible.\n",
    "- interval (int, default: 200): Delay between frames in milliseconds.\n",
    "- repeat_delay (int, default: 0): The delay in milliseconds between consecutive animation runs, if repeat is True.\n",
    "- repeat (default: True): Whether the animation repeats when the sequence of frames is completed."
   ]
  },
  {
   "cell_type": "markdown",
   "metadata": {},
   "source": [
    "**`Note:`** Before creating an instance, all plotting should have taken place and the relevant artists saved. You must store the created Animation in a variable that lives as long as the animation should run. Otherwise, the Animation object will be garbage-collected and the animation stops."
   ]
  },
  {
   "cell_type": "code",
   "execution_count": null,
   "metadata": {},
   "outputs": [],
   "source": []
  }
 ],
 "metadata": {
  "kernelspec": {
   "display_name": "ml_intro",
   "language": "python",
   "name": "python3"
  },
  "language_info": {
   "codemirror_mode": {
    "name": "ipython",
    "version": 3
   },
   "file_extension": ".py",
   "mimetype": "text/x-python",
   "name": "python",
   "nbconvert_exporter": "python",
   "pygments_lexer": "ipython3",
   "version": "3.11.4"
  },
  "orig_nbformat": 4
 },
 "nbformat": 4,
 "nbformat_minor": 2
}
