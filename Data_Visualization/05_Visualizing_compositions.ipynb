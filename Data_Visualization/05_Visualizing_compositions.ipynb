{
 "cells": [
  {
   "cell_type": "markdown",
   "metadata": {},
   "source": [
    "**Table of contents**<a id='toc0_'></a>    \n",
    "- [Charts for showing compositions that are independent of time](#toc1_)    \n",
    "  - [**Pie Charts**](#toc1_1_)    \n",
    "  - [**Stacked and 100% Stacked Bar Charts**](#toc1_2_)    \n",
    "- [Charts for showing compositions that are changing over time](#toc2_)    \n",
    "  - [**Stacked Bar Charts**](#toc2_1_)    \n",
    "  - [**Stacked Area Charts**](#toc2_2_)    \n",
    "\n",
    "<!-- vscode-jupyter-toc-config\n",
    "\tnumbering=false\n",
    "\tanchor=true\n",
    "\tflat=false\n",
    "\tminLevel=2\n",
    "\tmaxLevel=4\n",
    "\t/vscode-jupyter-toc-config -->\n",
    "<!-- THIS CELL WILL BE REPLACED ON TOC UPDATE. DO NOT WRITE YOUR TEXT IN THIS CELL -->"
   ]
  },
  {
   "cell_type": "code",
   "execution_count": 1,
   "metadata": {},
   "outputs": [],
   "source": [
    "# importing the libraries\n",
    "import numpy as np\n",
    "import pandas as pd\n",
    "import matplotlib.pyplot as plt\n",
    "import seaborn as sns\n",
    "import matplotlib.patches as mpatches"
   ]
  },
  {
   "cell_type": "code",
   "execution_count": 2,
   "metadata": {},
   "outputs": [],
   "source": [
    "# Setting the default seaborn theme\n",
    "sns.set_theme(style=\"darkgrid\")"
   ]
  },
  {
   "cell_type": "markdown",
   "metadata": {},
   "source": [
    "# Visualizing Compositions or, Proportions"
   ]
  },
  {
   "attachments": {},
   "cell_type": "markdown",
   "metadata": {},
   "source": [
    "<i> Displaying individual **parts of a whole** enables **comparisons among subcategories** by evaluating relative proportions, for example, market share by companies for a particular product or service. \n",
    "\n",
    "**Note:** `The data can be time dependent or independent.` </i>"
   ]
  },
  {
   "attachments": {},
   "cell_type": "markdown",
   "metadata": {},
   "source": [
    "- <i> **Questions:**\n",
    "1. What are the parts that make up the whole?\n",
    "2. What part is the largest or smallest?\n",
    "3. What parts are similar or dissimilar?\n",
    "\n",
    "- **Insight:** use to show summaries, similarities, anomalies, percentage related to the whole (by category, subcategory, and over time).\n",
    "\n",
    "- **Data:** single categorical variable with subcategories, two or more variables.\n",
    "\n",
    "- **Chart options:** \n",
    "    - *For static i.e, time independent data:* pie char, stacked bar, stacked 100% bar, tree map, and doughnut chart. \n",
    "    - *For time dependent data (i.e, composition is changing over time):* stacked bar chart, 100% stacked bar charts (when there are few periods) and, stacked area chart, 100% stacked area chart (when there are many periods).\n",
    "    </i>"
   ]
  },
  {
   "cell_type": "markdown",
   "metadata": {},
   "source": [
    "## <a id='toc1_'></a>[Charts for showing compositions that are independent of time](#toc0_)"
   ]
  },
  {
   "cell_type": "markdown",
   "metadata": {},
   "source": [
    "### <a id='toc1_1_'></a>[**Pie Charts**](#toc0_)"
   ]
  },
  {
   "attachments": {},
   "cell_type": "markdown",
   "metadata": {},
   "source": [
    "Pie charts show proportions within a whole (Slices add up to 100% or 1). **The slices are subcategories of a single category**."
   ]
  },
  {
   "attachments": {},
   "cell_type": "markdown",
   "metadata": {},
   "source": [
    "`->` When to use Pie Charts\n",
    "\n",
    "- **Usually, a Pie chart is never the answer.**\n",
    "- A pie chart typically represents numbers in percentages and is used to visualize a part to whole relationship or a composition. Pie charts are **not meant to compare individual sections to each other or to represent exact values** (you should use a bar chart for that)."
   ]
  },
  {
   "attachments": {},
   "cell_type": "markdown",
   "metadata": {},
   "source": [
    "`->` When to avoid Pie Charts\n",
    "\n",
    "- Avoid using pie charts if all the slices are similar in size.\n",
    "- When possible, avoid pie charts and doughnut charts. The human mind thinks linearly but, when it comes to angles and areas, most of us can’t judge them well."
   ]
  },
  {
   "attachments": {},
   "cell_type": "markdown",
   "metadata": {},
   "source": [
    "`->` Best practices for Pie charts\n",
    "\n",
    "- Limit pie charts to six slices or less.\n",
    "- Label directly on the pie slices, rather than using a legend.\n",
    "- Make sure that the total sum of all segments equals 100 percent.\n",
    "- Don’t use 3D or blow apart effects — they reduce comprehension and show incorrect proportions."
   ]
  },
  {
   "attachments": {},
   "cell_type": "markdown",
   "metadata": {},
   "source": [
    "> Seaborn doesn't have any default function to draw pie charts. But we can use `matplotlib.pyplot.pie(x, labels, colors, autopct, pctdistance=0.6, labeldistance=1.1)` to draw pie charts. Seaborn color palettes can be passed to the colors argument. \n",
    ">\n",
    ">> The detailed documentation can be found at, https://matplotlib.org/stable/api/_as_gen/matplotlib.pyplot.pie.html."
   ]
  },
  {
   "cell_type": "markdown",
   "metadata": {},
   "source": [
    "<u> Function Parameters: </u>\n",
    "\n",
    "- `x (1D array-like):` The wedge sizes.\n",
    "- `labels (list):` A sequence of strings providing the labels for each wedge\n",
    "- `colors:` A sequence of colors through which the pie chart will cycle. Accepts Seaborn color palettes.\n",
    "- `autopct:` If not None, autopct is a string or function used to label the wedges with their numeric value.\n",
    "- `pctdistance:` The relative distance along the radius at which the the text generated by autopct is drawn. To draw the text outside the pie, set pctdistance > 1.\n",
    "- `labeldistance:` The relative distance along the radius at which the labels are drawn. To draw the labels inside the pie, set labeldistance < 1."
   ]
  },
  {
   "cell_type": "code",
   "execution_count": 3,
   "metadata": {},
   "outputs": [
    {
     "data": {
      "text/html": [
       "<div>\n",
       "<style scoped>\n",
       "    .dataframe tbody tr th:only-of-type {\n",
       "        vertical-align: middle;\n",
       "    }\n",
       "\n",
       "    .dataframe tbody tr th {\n",
       "        vertical-align: top;\n",
       "    }\n",
       "\n",
       "    .dataframe thead th {\n",
       "        text-align: right;\n",
       "    }\n",
       "</style>\n",
       "<table border=\"1\" class=\"dataframe\">\n",
       "  <thead>\n",
       "    <tr style=\"text-align: right;\">\n",
       "      <th></th>\n",
       "      <th>total_bill</th>\n",
       "      <th>tip</th>\n",
       "      <th>sex</th>\n",
       "      <th>smoker</th>\n",
       "      <th>day</th>\n",
       "      <th>time</th>\n",
       "      <th>size</th>\n",
       "    </tr>\n",
       "  </thead>\n",
       "  <tbody>\n",
       "    <tr>\n",
       "      <th>0</th>\n",
       "      <td>16.99</td>\n",
       "      <td>1.01</td>\n",
       "      <td>Female</td>\n",
       "      <td>No</td>\n",
       "      <td>Sun</td>\n",
       "      <td>Dinner</td>\n",
       "      <td>2</td>\n",
       "    </tr>\n",
       "    <tr>\n",
       "      <th>1</th>\n",
       "      <td>10.34</td>\n",
       "      <td>1.66</td>\n",
       "      <td>Male</td>\n",
       "      <td>No</td>\n",
       "      <td>Sun</td>\n",
       "      <td>Dinner</td>\n",
       "      <td>3</td>\n",
       "    </tr>\n",
       "    <tr>\n",
       "      <th>2</th>\n",
       "      <td>21.01</td>\n",
       "      <td>3.50</td>\n",
       "      <td>Male</td>\n",
       "      <td>No</td>\n",
       "      <td>Sun</td>\n",
       "      <td>Dinner</td>\n",
       "      <td>3</td>\n",
       "    </tr>\n",
       "    <tr>\n",
       "      <th>3</th>\n",
       "      <td>23.68</td>\n",
       "      <td>3.31</td>\n",
       "      <td>Male</td>\n",
       "      <td>No</td>\n",
       "      <td>Sun</td>\n",
       "      <td>Dinner</td>\n",
       "      <td>2</td>\n",
       "    </tr>\n",
       "    <tr>\n",
       "      <th>4</th>\n",
       "      <td>24.59</td>\n",
       "      <td>3.61</td>\n",
       "      <td>Female</td>\n",
       "      <td>No</td>\n",
       "      <td>Sun</td>\n",
       "      <td>Dinner</td>\n",
       "      <td>4</td>\n",
       "    </tr>\n",
       "  </tbody>\n",
       "</table>\n",
       "</div>"
      ],
      "text/plain": [
       "   total_bill   tip     sex smoker  day    time  size\n",
       "0       16.99  1.01  Female     No  Sun  Dinner     2\n",
       "1       10.34  1.66    Male     No  Sun  Dinner     3\n",
       "2       21.01  3.50    Male     No  Sun  Dinner     3\n",
       "3       23.68  3.31    Male     No  Sun  Dinner     2\n",
       "4       24.59  3.61  Female     No  Sun  Dinner     4"
      ]
     },
     "execution_count": 3,
     "metadata": {},
     "output_type": "execute_result"
    }
   ],
   "source": [
    "# loading example dataset\n",
    "df_tips = sns.load_dataset(\"tips\")\n",
    "df_tips.head()"
   ]
  },
  {
   "cell_type": "markdown",
   "metadata": {},
   "source": [
    "Note: We assume total bill includes the tip."
   ]
  },
  {
   "cell_type": "code",
   "execution_count": 4,
   "metadata": {},
   "outputs": [
    {
     "data": {
      "text/plain": [
       "smoker\n",
       "Yes    38.247355\n",
       "No     61.752645\n",
       "Name: tip, dtype: float64"
      ]
     },
     "execution_count": 4,
     "metadata": {},
     "output_type": "execute_result"
    }
   ],
   "source": [
    "# to see what percentage of the total tips were given by smokers and how much by non-smokers,\n",
    "x = (df_tips.groupby(\"smoker\").tip.agg(\"sum\") / df_tips.tip.agg(\"sum\")) * 100\n",
    "x"
   ]
  },
  {
   "cell_type": "code",
   "execution_count": 5,
   "metadata": {},
   "outputs": [],
   "source": [
    "color_palette = sns.color_palette(\"pastel\")"
   ]
  },
  {
   "cell_type": "code",
   "execution_count": 6,
   "metadata": {},
   "outputs": [
    {
     "data": {
      "image/png": "[encoded data removed]",
      "text/plain": [
       "<Figure size 640x480 with 1 Axes>"
      ]
     },
     "metadata": {},
     "output_type": "display_data"
    }
   ],
   "source": [
    "plt.pie(\n",
    "    x,\n",
    "    labels=\"Smoker: \" + x.index.astype(str),\n",
    "    colors=color_palette,\n",
    "    autopct=\"%.2f%%\",\n",
    "    labeldistance=0.4,\n",
    ")\n",
    "plt.suptitle(\"Percentage of total tips given by smokers and non-smokers\")\n",
    "plt.show()"
   ]
  },
  {
   "cell_type": "markdown",
   "metadata": {},
   "source": [
    "##### **`Caution`**"
   ]
  },
  {
   "cell_type": "markdown",
   "metadata": {},
   "source": [
    "Be mindful of the data you are representing and also be very careful in understanding the implication of your graph. For example, this pie chart is misleading at best and manipulative at worst. We don't know what percentage of the dataset are smokers. If they are significantly below 50% then it's only natural that the total percentage of tip would also be less. Even then, we should also probably look at the percentage of tip compared to the total bill instead of just plain percentage of total tip."
   ]
  },
  {
   "cell_type": "code",
   "execution_count": 7,
   "metadata": {},
   "outputs": [],
   "source": [
    "percentage_of_customers_who_are_smokers = round(\n",
    "    (df_tips.smoker.value_counts()[1] / df_tips.smoker.value_counts().sum()) * 100, 2\n",
    ")"
   ]
  },
  {
   "cell_type": "code",
   "execution_count": 8,
   "metadata": {},
   "outputs": [
    {
     "data": {
      "text/plain": [
       "38.11"
      ]
     },
     "execution_count": 8,
     "metadata": {},
     "output_type": "execute_result"
    }
   ],
   "source": [
    "percentage_of_customers_who_are_smokers"
   ]
  },
  {
   "cell_type": "markdown",
   "metadata": {},
   "source": [
    "This is essentially the same as the percentage of tip contribution (compared to the total) presented in the above pie chart."
   ]
  },
  {
   "cell_type": "code",
   "execution_count": 9,
   "metadata": {},
   "outputs": [
    {
     "data": {
      "text/plain": [
       "smoker\n",
       "Yes    16.319140\n",
       "No     15.932318\n",
       "Name: tip_percent, dtype: float64"
      ]
     },
     "execution_count": 9,
     "metadata": {},
     "output_type": "execute_result"
    }
   ],
   "source": [
    "df_tips.assign(tip_percent=round((df_tips.tip / df_tips.total_bill) * 100, 2)).groupby(\n",
    "    \"smoker\"\n",
    ").tip_percent.agg(\"mean\")"
   ]
  },
  {
   "cell_type": "markdown",
   "metadata": {},
   "source": [
    "See! percentage of tip compared to the total bill is practically equal for both groups (smokers and non-smokers). So, the previous pie chart that was presented is very misleading."
   ]
  },
  {
   "cell_type": "markdown",
   "metadata": {},
   "source": [
    "### <a id='toc1_2_'></a>[**Stacked and 100% Stacked Bar Charts**](#toc0_)"
   ]
  },
  {
   "attachments": {},
   "cell_type": "markdown",
   "metadata": {},
   "source": [
    "Stacked bar charts can be used to show both proportions and quantities **within** a whole category. The usual stacked bar chart shows absolute differences and the 100% stacked bar chart is used to show relative differences."
   ]
  },
  {
   "attachments": {},
   "cell_type": "markdown",
   "metadata": {},
   "source": [
    "`->` When to use and When to avoid Stacked and 100% Stacked Bar Charts\n",
    "- Application of stacked bar charts are suitable only when there are only a few variables, composition parts, and **the emphasis is on composition, not comparison**. Stacked bars are **not good for comparison** or relationship analysis. The reason is due to the fact that, the only common baseline is the bottom line (for vertical bars) or, along the left axis (for horizontal bars) of the chart, so **you can only reliably compare values in the first series and for the sum of all series.**\n",
    "\n",
    "- Use stacked bars that add up to 100% to show the **relative differences** between quantities **within each group**. Again, the emphasis is on composition, and not comparison."
   ]
  },
  {
   "attachments": {},
   "cell_type": "markdown",
   "metadata": {},
   "source": [
    "`->` Best practices for Stacked Bar charts\n",
    "\n",
    "- Limit the number of subcategories to four or less."
   ]
  },
  {
   "attachments": {},
   "cell_type": "markdown",
   "metadata": {},
   "source": [
    "> `To draw` stacked bar charts in seaborn, we can use the `seaborn.barplot(data, x, y)` function. \n",
    "> \n",
    ">>The detailed documentation can be found at, https://seaborn.pydata.org/generated/seaborn.barplot.html."
   ]
  },
  {
   "cell_type": "markdown",
   "metadata": {},
   "source": [
    "<u> Important Parameters: </u>\n",
    "\n",
    "- `data:` DataFrame. Long-form (tidy) dataset for plotting.\n",
    "- `x, y, hue:` names of variables in data.\n",
    "- `estimator:` Statistical function to estimate within each categorical bin.\n",
    "- `orient (“v” | “h”):` Orientation of the plot (vertical or horizontal). This is usually inferred based on the type of the input variables, but it can be used to resolve ambiguity when both x and y are numeric or when plotting wide-form data.\n",
    "- `color:` Colors to use for plotting the elements. See, https://matplotlib.org/stable/gallery/color/named_colors.html. \n",
    "- `bottom:` the height at which to start plotting the bar graph."
   ]
  },
  {
   "attachments": {},
   "cell_type": "markdown",
   "metadata": {},
   "source": [
    "**`Note:`**\n",
    "- Plotting stacked bar charts in Seaborn or Matplotlib is complex. Use Pandas to plot stacked bar charts instead (see, [Plotting in Pandas Notebook](../Pandas/05_Plotting.ipynb)).\n",
    "- Use `color` in `sns.barplot()` instead of `palette`."
   ]
  },
  {
   "cell_type": "markdown",
   "metadata": {},
   "source": [
    "##### *Example of Stacked Bar Plot Using Seaborn*"
   ]
  },
  {
   "cell_type": "code",
   "execution_count": 10,
   "metadata": {},
   "outputs": [
    {
     "data": {
      "image/png": "[encoded data removed]",
      "text/plain": [
       "<Figure size 500x500 with 1 Axes>"
      ]
     },
     "metadata": {},
     "output_type": "display_data"
    }
   ],
   "source": [
    "# initializing the axes to plot on\n",
    "fig, ax = plt.subplots(nrows=1, ncols=1, figsize=(5, 5))\n",
    "\n",
    "# we assume that the total bill includes the tip\n",
    "df_tips = df_tips.assign(total_bill_without_tip=df_tips.total_bill - df_tips.tip)\n",
    "\n",
    "total_bill_without_tip_bar = sns.barplot(\n",
    "    df_tips,\n",
    "    x=\"smoker\",\n",
    "    y=\"total_bill_without_tip\",\n",
    "    estimator=\"median\",\n",
    "    ax=ax,\n",
    "    errorbar=None,\n",
    "    color=\"darkblue\",\n",
    "    label=\"Median total bill excluding tip\",\n",
    ")  # same as grouping the df_tips by smoker and applying .agg(\"median\") to the total_bill_without_tip column\n",
    "\n",
    "# we would like to plot the median tip amount on top of the median total_bill_without_tip bar\n",
    "height_to_start_plotting_tip = df_tips.groupby(\"smoker\").total_bill_without_tip.agg(\n",
    "    \"median\"\n",
    ")\n",
    "tip_bar = sns.barplot(\n",
    "    df_tips,\n",
    "    x=\"smoker\",\n",
    "    y=\"tip\",\n",
    "    estimator=\"mean\",\n",
    "    ax=ax,\n",
    "    errorbar=None,\n",
    "    color=\"lightblue\",\n",
    "    bottom=height_to_start_plotting_tip,\n",
    "    label=\"Median tip\",\n",
    ")\n",
    "\n",
    "# correcting ylabel\n",
    "plt.ylabel(\"Median total bill including the tip\")\n",
    "\n",
    "# adding legend\n",
    "fig.legend()\n",
    "\n",
    "plt.show()"
   ]
  },
  {
   "cell_type": "markdown",
   "metadata": {},
   "source": [
    "**`Analysis:`** In the pie chart section we've talked about why the choice of statistical representative matters. If we were to use \"sum\" for example in the above code it would have mis-represented the data. We chose \"median\" as the representator since it is fairly independent of any outliers in the data and also captures the central tendency of the data very well. We could've also used \"mean\" which is also a metric used to measure the central tendency of the data but keep in mind that, \"mean\" is heavily influenced by the outliers in the data."
   ]
  },
  {
   "cell_type": "markdown",
   "metadata": {},
   "source": [
    "##### *Example of 100% Stacked Bar Plot Using Matplotlib*"
   ]
  },
  {
   "cell_type": "markdown",
   "metadata": {},
   "source": [
    "Drawing 100% Stacked Bar Plot is similar to plotting normal stacked bar plots. You just have to *represent the data in a way where each category's value is scaled to make up 100% of the total for each group or category.*"
   ]
  },
  {
   "cell_type": "markdown",
   "metadata": {},
   "source": [
    "> `To draw` stacked bar charts we can also use the matplotlib function, `matplotlib.pyplot.bar(x, height_y, width=0.8, bottom=None, **kwargs)` function. \n",
    "> \n",
    ">> The detailed documentation can be found at, https://matplotlib.org/stable/api/_as_gen/matplotlib.pyplot.bar.html."
   ]
  },
  {
   "cell_type": "code",
   "execution_count": 11,
   "metadata": {},
   "outputs": [],
   "source": [
    "# df for plotting\n",
    "df_tips_grouped_by_smoker_col = (\n",
    "    df_tips.groupby(\"smoker\")\n",
    "    .agg({\"total_bill_without_tip\": \"sum\", \"tip\": \"sum\", \"total_bill\": \"sum\"})\n",
    "    .reset_index()\n",
    ")"
   ]
  },
  {
   "cell_type": "code",
   "execution_count": 12,
   "metadata": {},
   "outputs": [
    {
     "data": {
      "text/html": [
       "<div>\n",
       "<style scoped>\n",
       "    .dataframe tbody tr th:only-of-type {\n",
       "        vertical-align: middle;\n",
       "    }\n",
       "\n",
       "    .dataframe tbody tr th {\n",
       "        vertical-align: top;\n",
       "    }\n",
       "\n",
       "    .dataframe thead th {\n",
       "        text-align: right;\n",
       "    }\n",
       "</style>\n",
       "<table border=\"1\" class=\"dataframe\">\n",
       "  <thead>\n",
       "    <tr style=\"text-align: right;\">\n",
       "      <th></th>\n",
       "      <th>smoker</th>\n",
       "      <th>total_bill_without_tip</th>\n",
       "      <th>tip</th>\n",
       "      <th>total_bill</th>\n",
       "    </tr>\n",
       "  </thead>\n",
       "  <tbody>\n",
       "    <tr>\n",
       "      <th>0</th>\n",
       "      <td>Yes</td>\n",
       "      <td>1650.53</td>\n",
       "      <td>279.81</td>\n",
       "      <td>1930.34</td>\n",
       "    </tr>\n",
       "    <tr>\n",
       "      <th>1</th>\n",
       "      <td>No</td>\n",
       "      <td>2445.66</td>\n",
       "      <td>451.77</td>\n",
       "      <td>2897.43</td>\n",
       "    </tr>\n",
       "  </tbody>\n",
       "</table>\n",
       "</div>"
      ],
      "text/plain": [
       "  smoker  total_bill_without_tip     tip  total_bill\n",
       "0    Yes                 1650.53  279.81     1930.34\n",
       "1     No                 2445.66  451.77     2897.43"
      ]
     },
     "execution_count": 12,
     "metadata": {},
     "output_type": "execute_result"
    }
   ],
   "source": [
    "df_tips_grouped_by_smoker_col"
   ]
  },
  {
   "cell_type": "code",
   "execution_count": 13,
   "metadata": {},
   "outputs": [],
   "source": [
    "df_tips_grouped_by_smoker_col = df_tips_grouped_by_smoker_col.assign(\n",
    "    percent_of_tip=lambda df_: round((df_.tip / df_.total_bill) * 100, 2),\n",
    "    percent_of_total_bill_excluding_tip=lambda df_: 100 - df_.percent_of_tip,\n",
    ")"
   ]
  },
  {
   "cell_type": "code",
   "execution_count": 14,
   "metadata": {},
   "outputs": [
    {
     "data": {
      "text/html": [
       "<div>\n",
       "<style scoped>\n",
       "    .dataframe tbody tr th:only-of-type {\n",
       "        vertical-align: middle;\n",
       "    }\n",
       "\n",
       "    .dataframe tbody tr th {\n",
       "        vertical-align: top;\n",
       "    }\n",
       "\n",
       "    .dataframe thead th {\n",
       "        text-align: right;\n",
       "    }\n",
       "</style>\n",
       "<table border=\"1\" class=\"dataframe\">\n",
       "  <thead>\n",
       "    <tr style=\"text-align: right;\">\n",
       "      <th></th>\n",
       "      <th>smoker</th>\n",
       "      <th>total_bill_without_tip</th>\n",
       "      <th>tip</th>\n",
       "      <th>total_bill</th>\n",
       "      <th>percent_of_tip</th>\n",
       "      <th>percent_of_total_bill_excluding_tip</th>\n",
       "    </tr>\n",
       "  </thead>\n",
       "  <tbody>\n",
       "    <tr>\n",
       "      <th>0</th>\n",
       "      <td>Yes</td>\n",
       "      <td>1650.53</td>\n",
       "      <td>279.81</td>\n",
       "      <td>1930.34</td>\n",
       "      <td>14.50</td>\n",
       "      <td>85.50</td>\n",
       "    </tr>\n",
       "    <tr>\n",
       "      <th>1</th>\n",
       "      <td>No</td>\n",
       "      <td>2445.66</td>\n",
       "      <td>451.77</td>\n",
       "      <td>2897.43</td>\n",
       "      <td>15.59</td>\n",
       "      <td>84.41</td>\n",
       "    </tr>\n",
       "  </tbody>\n",
       "</table>\n",
       "</div>"
      ],
      "text/plain": [
       "  smoker  total_bill_without_tip     tip  total_bill  percent_of_tip  \\\n",
       "0    Yes                 1650.53  279.81     1930.34           14.50   \n",
       "1     No                 2445.66  451.77     2897.43           15.59   \n",
       "\n",
       "   percent_of_total_bill_excluding_tip  \n",
       "0                                85.50  \n",
       "1                                84.41  "
      ]
     },
     "execution_count": 14,
     "metadata": {},
     "output_type": "execute_result"
    }
   ],
   "source": [
    "df_tips_grouped_by_smoker_col"
   ]
  },
  {
   "cell_type": "code",
   "execution_count": 15,
   "metadata": {},
   "outputs": [
    {
     "data": {
      "image/png": "[encoded data removed]",
      "text/plain": [
       "<Figure size 500x500 with 1 Axes>"
      ]
     },
     "metadata": {},
     "output_type": "display_data"
    }
   ],
   "source": [
    "# initializing the axes to plot on\n",
    "fig, ax = plt.subplots(nrows=1, ncols=1, figsize=(5, 5))\n",
    "\n",
    "# set the y lim from 0 to 100\n",
    "ax.set_ylim(0, 100)\n",
    "\n",
    "total_bill_without_tip_bar = ax.bar(\n",
    "    x=df_tips_grouped_by_smoker_col.smoker,\n",
    "    height=df_tips_grouped_by_smoker_col.percent_of_total_bill_excluding_tip,\n",
    "    color=\"blue\",\n",
    "    label=\"Percentage of bill excluding tip\",\n",
    ")\n",
    "\n",
    "tip_bar = ax.bar(\n",
    "    x=df_tips_grouped_by_smoker_col.smoker,\n",
    "    height=df_tips_grouped_by_smoker_col.percent_of_tip,\n",
    "    bottom=df_tips_grouped_by_smoker_col.percent_of_total_bill_excluding_tip,\n",
    "    color=\"yellow\",\n",
    "    label=\"Percentage of tip\",\n",
    ")\n",
    "\n",
    "\n",
    "# adding axis labels\n",
    "ax.set(xlabel=\"Smoker\", ylabel=\"Percentage\")\n",
    "\n",
    "# adding legend\n",
    "fig.legend()\n",
    "\n",
    "plt.show()"
   ]
  },
  {
   "cell_type": "markdown",
   "metadata": {},
   "source": [
    "**`Analysis:`** In the previous section when drawing \"Stacked bar charts\" we used the median as a statistical representative because of an imbalanced dataset. When dealing with imbalanced data, using sums in stacked bar charts can exaggerate the differences between categories due to the varying number of data points. However, when using 100% stacked bar charts, the data is scaled to 100%, which mitigates the impact of the imbalanced dataset *to some extent*.\n",
    "\n",
    "In 100% stacked bar charts, you're focusing on the relative proportions within each category, and the fact that the data is scaled to 100% helps in making fairer comparisons between categories, even if one category is underrepresented in the original dataset (*If your goal is to compare across categories use normal bar plots or some other kind of plots that suits the data. Stacked bar charts are not ideal for comparison across different categories. It's supposed to show the composition of the subcategories of a particular category*). \n",
    "\n",
    "Therefore, for 100% stacked bar charts, using sums or medians may not make a significant difference in terms of how the data is visually represented.\n",
    "\n",
    "Ultimately, the choice between using sums or medians in a 100% stacked bar chart should align with your communication goals and what you want to emphasize to your audience."
   ]
  },
  {
   "cell_type": "markdown",
   "metadata": {},
   "source": [
    "> For this particular plot, the plot may look better if plotted horizontaly i.e, in a horizontal 100% stacked bar chart. To do that we can use the, `matplotlib.pyplot.barh(y, width, height=0.8, left=None, **kwargs)` function."
   ]
  },
  {
   "cell_type": "code",
   "execution_count": 16,
   "metadata": {},
   "outputs": [
    {
     "data": {
      "image/png": "[encoded data removed]",
      "text/plain": [
       "<Figure size 400x200 with 1 Axes>"
      ]
     },
     "metadata": {},
     "output_type": "display_data"
    }
   ],
   "source": [
    "# initializing the axes to plot on\n",
    "fig, ax = plt.subplots(nrows=1, ncols=1, figsize=(4, 2))\n",
    "\n",
    "# set the x lim from 0 to 100\n",
    "ax.set_xlim(0, 100)\n",
    "\n",
    "total_bill_without_tip_bar = ax.barh(\n",
    "    y=df_tips_grouped_by_smoker_col.smoker,\n",
    "    width=df_tips_grouped_by_smoker_col.percent_of_total_bill_excluding_tip,\n",
    "    color=\"blue\",\n",
    "    label=\"Percentage of bill excluding tip\",\n",
    "    height=0.5,\n",
    ")\n",
    "\n",
    "tip_bar = ax.barh(\n",
    "    y=df_tips_grouped_by_smoker_col.smoker,\n",
    "    width=df_tips_grouped_by_smoker_col.percent_of_tip,\n",
    "    left=df_tips_grouped_by_smoker_col.percent_of_total_bill_excluding_tip,\n",
    "    color=\"yellow\",\n",
    "    label=\"Percentage of tip\",\n",
    "    height=0.5,\n",
    ")\n",
    "\n",
    "\n",
    "# adding axis labels\n",
    "ax.set(ylabel=\"Smoker\", xlabel=\"Percentage\")\n",
    "\n",
    "# adding legend\n",
    "fig.legend()\n",
    "\n",
    "plt.show()"
   ]
  },
  {
   "cell_type": "markdown",
   "metadata": {},
   "source": [
    "## <a id='toc2_'></a>[Charts for showing compositions that are changing over time](#toc0_)"
   ]
  },
  {
   "cell_type": "markdown",
   "metadata": {},
   "source": [
    "### <a id='toc2_1_'></a>[**Stacked Bar Charts**](#toc0_)"
   ]
  },
  {
   "cell_type": "markdown",
   "metadata": {},
   "source": [
    "*We can use stacked bar charts and 100% stacked bar charts to show how compositions of a particular category (i.e, its subcategories) are changing over time. The stacked bar chart is suitable only if there are a few periods over which the data changes. As the number of periods increases area charts are more suitable.*"
   ]
  },
  {
   "cell_type": "markdown",
   "metadata": {},
   "source": [
    "### <a id='toc2_2_'></a>[**Stacked Area Charts**](#toc0_)"
   ]
  },
  {
   "cell_type": "markdown",
   "metadata": {},
   "source": [
    "An area chart is similar to a line graph. In both area charts and line graphs, data points are connected by a line to show the value of a quantity at different times. They are both good for showing trends. They emphasize a trend over time. They aren’t so focused on showing exact values. \n",
    "\n",
    "*Line graphs are used to capture the trend i.e, the change in one or more quantities over time and also to compare the trend of different categories. But the area charts are used to compare the trend of different subcategories composing a particular category.*\n",
    "\n",
    "In area charts, unlike line charts, the area between the x-axis and the line is filled in with color. Thus, area charts give a sense of the overall volume.\n"
   ]
  },
  {
   "cell_type": "markdown",
   "metadata": {},
   "source": [
    "`->` When to use Area Charts\n",
    "\n",
    "- Use area charts for showing trends over time for highlighting patterns, such as seasonality or cyclic trends in data.\n",
    "- For comparing multiple sub-categories that represent the composition of a whole, displaying how different categories contribute to the total.\n",
    "\n",
    "`->` When to avoid Area Charts\n",
    "\n",
    "- If you need to emphasize exact values or precise data points, area charts may not be the best choice, as they focus more on trends and proportions.\n",
    "- Area charts are most suitable for continuous data with a clear order or sequence. They may not work well with sparse or discrete data.\n",
    "- If you need to compare values across different categories but their magnitudes vary significantly, a stacked area chart may not provide a clear comparison. Consider using a line chart instead.\n",
    "\n",
    "`->` Best practices for Area charts\n",
    "- Keep it simple. Avoid overcrowding your area chart with too many categories or data points. Aim for clarity and simplicity. Stacked area charts or stream graphs can be effective but may become confusing with too many categories. Use them when the data warrants it.\n",
    "- Choose a color palette that makes it easy to distinguish between different areas. Be mindful of colorblindness accessibility.\n",
    "- Provide context. This is applicable to for all data visualization tasks. It's very easy to mislead people with data (especially with visualized data) if the correct context is not provided. Include a title, captions, or annotations to provide context and explain any significant trends or events.\n",
    "- Dont stack together more than three to five categories."
   ]
  },
  {
   "cell_type": "markdown",
   "metadata": {},
   "source": [
    "> To draw a stacked area chart we can use the, `matplotlib.pyplot.stackplot(x, *args, labels=(), colors=None, baseline='zero', data=None, **kwargs)` function."
   ]
  },
  {
   "cell_type": "markdown",
   "metadata": {},
   "source": [
    "<u>Function Parameters</u>\n",
    "\n",
    "- `x:` (N,) array-like\n",
    "- `y:` (M, N) array-like. The data is assumed to be unstacked. Each of the following calls is legal:\n",
    "    - stackplot(x, y)           # where y has shape (M, N)\n",
    "    - stackplot(x, y1, y2, y3)  # where y1, y2, y3, y4 have length N\n",
    "\n",
    "- `labels (list of str, optional):` A sequence of labels to assign to each data series. If unspecified, then no labels will be applied to artists.\n",
    "- `colors (list of color, optional):` A sequence of colors to be cycled through and used to color the stacked areas. The sequence need not be exactly the same length as the number of provided y, in which case the colors will repeat from the beginning. If not specified, the colors from the Axes property cycle will be used.\n"
   ]
  },
  {
   "cell_type": "code",
   "execution_count": 17,
   "metadata": {},
   "outputs": [],
   "source": [
    "employees = pd.DataFrame(\n",
    "    {\n",
    "        \"Year\": [2004, 2005, 2006, 2007, 2008, 2009, 2010, 2011, 2012],\n",
    "        \"Dep_Accounting\": [15, 18, 22, 20, 25, 12, 10, 10, 15],\n",
    "        \"Dep_Finance\": [14, 14, 17, 20, 20, 14, 12, 10, 13],\n",
    "        \"Dep_HR\": [3, 5, 5, 7, 7, 4, 4, 3, 3],\n",
    "        \"Dep_PR\": [3, 3, 5, 5, 8, 4, 3, 3, 4],\n",
    "    }\n",
    ")"
   ]
  },
  {
   "cell_type": "code",
   "execution_count": 18,
   "metadata": {},
   "outputs": [],
   "source": [
    "employees[\"Total_number_of_employees\"] = employees.iloc[:, 1:].sum(axis=1)"
   ]
  },
  {
   "cell_type": "code",
   "execution_count": 19,
   "metadata": {},
   "outputs": [
    {
     "data": {
      "text/html": [
       "<div>\n",
       "<style scoped>\n",
       "    .dataframe tbody tr th:only-of-type {\n",
       "        vertical-align: middle;\n",
       "    }\n",
       "\n",
       "    .dataframe tbody tr th {\n",
       "        vertical-align: top;\n",
       "    }\n",
       "\n",
       "    .dataframe thead th {\n",
       "        text-align: right;\n",
       "    }\n",
       "</style>\n",
       "<table border=\"1\" class=\"dataframe\">\n",
       "  <thead>\n",
       "    <tr style=\"text-align: right;\">\n",
       "      <th></th>\n",
       "      <th>Year</th>\n",
       "      <th>Dep_Accounting</th>\n",
       "      <th>Dep_Finance</th>\n",
       "      <th>Dep_HR</th>\n",
       "      <th>Dep_PR</th>\n",
       "      <th>Total_number_of_employees</th>\n",
       "    </tr>\n",
       "  </thead>\n",
       "  <tbody>\n",
       "    <tr>\n",
       "      <th>0</th>\n",
       "      <td>2004</td>\n",
       "      <td>15</td>\n",
       "      <td>14</td>\n",
       "      <td>3</td>\n",
       "      <td>3</td>\n",
       "      <td>35</td>\n",
       "    </tr>\n",
       "    <tr>\n",
       "      <th>1</th>\n",
       "      <td>2005</td>\n",
       "      <td>18</td>\n",
       "      <td>14</td>\n",
       "      <td>5</td>\n",
       "      <td>3</td>\n",
       "      <td>40</td>\n",
       "    </tr>\n",
       "    <tr>\n",
       "      <th>2</th>\n",
       "      <td>2006</td>\n",
       "      <td>22</td>\n",
       "      <td>17</td>\n",
       "      <td>5</td>\n",
       "      <td>5</td>\n",
       "      <td>49</td>\n",
       "    </tr>\n",
       "    <tr>\n",
       "      <th>3</th>\n",
       "      <td>2007</td>\n",
       "      <td>20</td>\n",
       "      <td>20</td>\n",
       "      <td>7</td>\n",
       "      <td>5</td>\n",
       "      <td>52</td>\n",
       "    </tr>\n",
       "    <tr>\n",
       "      <th>4</th>\n",
       "      <td>2008</td>\n",
       "      <td>25</td>\n",
       "      <td>20</td>\n",
       "      <td>7</td>\n",
       "      <td>8</td>\n",
       "      <td>60</td>\n",
       "    </tr>\n",
       "    <tr>\n",
       "      <th>5</th>\n",
       "      <td>2009</td>\n",
       "      <td>12</td>\n",
       "      <td>14</td>\n",
       "      <td>4</td>\n",
       "      <td>4</td>\n",
       "      <td>34</td>\n",
       "    </tr>\n",
       "    <tr>\n",
       "      <th>6</th>\n",
       "      <td>2010</td>\n",
       "      <td>10</td>\n",
       "      <td>12</td>\n",
       "      <td>4</td>\n",
       "      <td>3</td>\n",
       "      <td>29</td>\n",
       "    </tr>\n",
       "    <tr>\n",
       "      <th>7</th>\n",
       "      <td>2011</td>\n",
       "      <td>10</td>\n",
       "      <td>10</td>\n",
       "      <td>3</td>\n",
       "      <td>3</td>\n",
       "      <td>26</td>\n",
       "    </tr>\n",
       "    <tr>\n",
       "      <th>8</th>\n",
       "      <td>2012</td>\n",
       "      <td>15</td>\n",
       "      <td>13</td>\n",
       "      <td>3</td>\n",
       "      <td>4</td>\n",
       "      <td>35</td>\n",
       "    </tr>\n",
       "  </tbody>\n",
       "</table>\n",
       "</div>"
      ],
      "text/plain": [
       "   Year  Dep_Accounting  Dep_Finance  Dep_HR  Dep_PR  \\\n",
       "0  2004              15           14       3       3   \n",
       "1  2005              18           14       5       3   \n",
       "2  2006              22           17       5       5   \n",
       "3  2007              20           20       7       5   \n",
       "4  2008              25           20       7       8   \n",
       "5  2009              12           14       4       4   \n",
       "6  2010              10           12       4       3   \n",
       "7  2011              10           10       3       3   \n",
       "8  2012              15           13       3       4   \n",
       "\n",
       "   Total_number_of_employees  \n",
       "0                         35  \n",
       "1                         40  \n",
       "2                         49  \n",
       "3                         52  \n",
       "4                         60  \n",
       "5                         34  \n",
       "6                         29  \n",
       "7                         26  \n",
       "8                         35  "
      ]
     },
     "execution_count": 19,
     "metadata": {},
     "output_type": "execute_result"
    }
   ],
   "source": [
    "employees"
   ]
  },
  {
   "cell_type": "markdown",
   "metadata": {},
   "source": [
    "##### Example of Stacked Area Chart"
   ]
  },
  {
   "cell_type": "code",
   "execution_count": 20,
   "metadata": {},
   "outputs": [
    {
     "data": {
      "image/png": "[encoded data removed]",
      "text/plain": [
       "<Figure size 600x400 with 1 Axes>"
      ]
     },
     "metadata": {},
     "output_type": "display_data"
    }
   ],
   "source": [
    "fig, ax = plt.subplots(1, 1, figsize=(6, 4))\n",
    "\n",
    "columns = employees.iloc[:, 1:-1].columns\n",
    "\n",
    "ax.stackplot(\n",
    "    employees.Year, [employees[col_name] for col_name in columns], labels=columns\n",
    ")\n",
    "\n",
    "fig.legend()\n",
    "\n",
    "plt.show()"
   ]
  },
  {
   "cell_type": "markdown",
   "metadata": {},
   "source": [
    "##### Example of 100% Stacked Area Chart"
   ]
  },
  {
   "cell_type": "code",
   "execution_count": 21,
   "metadata": {},
   "outputs": [],
   "source": [
    "columns = employees.iloc[:, 1:-1].columns\n",
    "\n",
    "y = [\n",
    "    round((employees[col_name] / employees.Total_number_of_employees) * 100, 2)\n",
    "    for col_name in columns\n",
    "]"
   ]
  },
  {
   "cell_type": "code",
   "execution_count": 23,
   "metadata": {},
   "outputs": [
    {
     "data": {
      "image/png": "[encoded data removed]",
      "text/plain": [
       "<Figure size 600x400 with 1 Axes>"
      ]
     },
     "metadata": {},
     "output_type": "display_data"
    }
   ],
   "source": [
    "fig, ax = plt.subplots(1, 1, figsize=(6, 4))\n",
    "\n",
    "ax.set(xlim=(2004, 2012), ylim=(0, 100))\n",
    "\n",
    "ax.stackplot(employees.Year, y, labels=columns)\n",
    "\n",
    "fig.legend()\n",
    "\n",
    "plt.show()"
   ]
  },
  {
   "cell_type": "markdown",
   "metadata": {},
   "source": [
    "**Note:** Be sure to add axis labels, Plot title and other context so that it's easy to understand what you're trying to represent."
   ]
  },
  {
   "cell_type": "code",
   "execution_count": null,
   "metadata": {},
   "outputs": [],
   "source": []
  }
 ],
 "metadata": {
  "kernelspec": {
   "display_name": "ml_intro",
   "language": "python",
   "name": "python3"
  },
  "language_info": {
   "codemirror_mode": {
    "name": "ipython",
    "version": 3
   },
   "file_extension": ".py",
   "mimetype": "text/x-python",
   "name": "python",
   "nbconvert_exporter": "python",
   "pygments_lexer": "ipython3",
   "version": "3.11.4"
  },
  "orig_nbformat": 4
 },
 "nbformat": 4,
 "nbformat_minor": 2
}
