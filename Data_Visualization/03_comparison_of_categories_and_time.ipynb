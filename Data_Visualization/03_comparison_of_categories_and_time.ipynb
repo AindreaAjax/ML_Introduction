{
 "cells": [
  {
   "cell_type": "code",
   "execution_count": null,
   "metadata": {},
   "outputs": [],
   "source": [
    "# importing the libraries\n",
    "import numpy as np\n",
    "import pandas as pd\n",
    "import matplotlib.pyplot as plt\n",
    "import seaborn as sns"
   ]
  },
  {
   "cell_type": "code",
   "execution_count": null,
   "metadata": {},
   "outputs": [],
   "source": [
    "# Setting the default seaborn theme\n",
    "sns.set_theme(style='darkgrid')"
   ]
  },
  {
   "attachments": {},
   "cell_type": "markdown",
   "metadata": {},
   "source": [
    "# Visualizing Categories (comaparing different categories either to each other or over time)"
   ]
  },
  {
   "attachments": {},
   "cell_type": "markdown",
   "metadata": {},
   "source": [
    "- **Questions:**\n",
    "1. What’s the best? What’s the worst? Compared to what?\n",
    "2. Who’s ranked the highest? The lowest?\n",
    "3. How does performance compare to the target or goal? For exam-\n",
    "ple, did total sales exceed the forecast?\n",
    "\n",
    "- **Insight:** use comparisons to illustrate the similarities and differences among categories. This includes the minimum value, maximum value, rank, performance, sum, totals, counts, and quantities.\n",
    "\n",
    "- **Data:** aggregated categorical data, such as the number of books sold by author. Time series data can be shown as a categorical variable. For example, each year can be a category.\n",
    "\n",
    "- **Chart options:** vertical bar, column bar, horizontal bar, and bullet charts.\n"
   ]
  },
  {
   "attachments": {},
   "cell_type": "markdown",
   "metadata": {},
   "source": [
    "## **Bar Charts (Horizontal, Vertical, Column bar and Bullet charts)**"
   ]
  },
  {
   "attachments": {},
   "cell_type": "markdown",
   "metadata": {},
   "source": [
    "A bar chart (also called bar graph) is a chart that represents data using bars of different heights. "
   ]
  },
  {
   "attachments": {},
   "cell_type": "markdown",
   "metadata": {},
   "source": [
    "- `When to use Bar Charts`\n",
    "\n",
    "With bar charts, you could **compare values for different categories or compare value changes over a period of time for a single category**. Bar charts work best for showing the situation at a point in time (for example, the number of products sold on a website). Their main purpose is **to draw attention to total numbers rather than the trend (trends are more suitable for a line chart).**"
   ]
  },
  {
   "attachments": {},
   "cell_type": "markdown",
   "metadata": {},
   "source": [
    "- `Best practices for bar charts`\n",
    "\n",
    "    - Use bar charts for **comparison** if the number of categories is quite small — up to five, but **not more than seven categories**.\n",
    "    - If one of your data dimensions is **time** — including years, quarters, months, weeks, days, or hours — you should always set the time dimension **on the horizontal axis**.\n",
    "    - In charts, time should always run from left to right, never from top to bottom.\n",
    "    - For bar charts, the **numerical axis must start at zero**. Our eyes are very sensitive to the height of columns, and we can draw inaccurate conclusions when those bars are truncated.\n",
    "    - Avoid using pattern lines or fills. Use a border only for highlights.\n",
    "    - Only use bar charts to show trends if there are a reasonably-low number of data points (less than 20) and if every data point has a clearly-visible value."
   ]
  },
  {
   "attachments": {},
   "cell_type": "markdown",
   "metadata": {},
   "source": [
    "### **Vertical bar chart**"
   ]
  },
  {
   "cell_type": "code",
   "execution_count": null,
   "metadata": {},
   "outputs": [],
   "source": []
  },
  {
   "cell_type": "code",
   "execution_count": null,
   "metadata": {},
   "outputs": [],
   "source": []
  },
  {
   "cell_type": "code",
   "execution_count": null,
   "metadata": {},
   "outputs": [],
   "source": []
  }
 ],
 "metadata": {
  "language_info": {
   "name": "python"
  },
  "orig_nbformat": 4
 },
 "nbformat": 4,
 "nbformat_minor": 2
}
