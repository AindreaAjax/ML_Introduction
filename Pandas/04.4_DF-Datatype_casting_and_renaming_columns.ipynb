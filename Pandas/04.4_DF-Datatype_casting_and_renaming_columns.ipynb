{
 "cells": [
  {
   "cell_type": "markdown",
   "metadata": {},
   "source": [
    "**Table of contents**<a id='toc0_'></a>    \n",
    "- [Import Statements](#toc1_1_)    \n",
    "- [Importing the data](#toc1_2_)    \n",
    "- [Casting Datatypes and Renaming the columns](#toc2_)    \n",
    "  - [*Renaming the columns with proper full form*](#toc2_1_)    \n",
    "    - [The `.rename()` method](#toc2_1_1_)    \n",
    "  - [*Casting DataTypes*](#toc2_2_)    \n",
    "\n",
    "<!-- vscode-jupyter-toc-config\n",
    "\tnumbering=false\n",
    "\tanchor=true\n",
    "\tflat=false\n",
    "\tminLevel=2\n",
    "\tmaxLevel=5\n",
    "\t/vscode-jupyter-toc-config -->\n",
    "<!-- THIS CELL WILL BE REPLACED ON TOC UPDATE. DO NOT WRITE YOUR TEXT IN THIS CELL -->"
   ]
  },
  {
   "cell_type": "markdown",
   "metadata": {},
   "source": [
    "**Read the official documentation on pandas DataFrames @ https://pandas.pydata.org/pandas-docs/stable/reference/frame.html**"
   ]
  },
  {
   "cell_type": "markdown",
   "metadata": {},
   "source": [
    "**`Note:`** The notion of **chaining functions/methods** in pandas is similar to python."
   ]
  },
  {
   "cell_type": "markdown",
   "metadata": {},
   "source": [
    "DataFrames are **column oriented** unlike most common databases. And, **each column** in the dataframe is a **pandas series object**. So, any operation that can be performed on a pandas series object can be applied to a column too."
   ]
  },
  {
   "cell_type": "markdown",
   "metadata": {},
   "source": [
    "There are **two axes** for a dataframe commonly referred to as axis 0 and 1, or the **\"index\"** (or 'rows') axis and the **\"columns\"** axis respectively. Note that, when an **operation** is applied **along axis 0**, it is applied **down through all the rows for all the columns**. Likewise, operations **along axis 1** is applied **across the values in all the columns for all of the rows**."
   ]
  },
  {
   "cell_type": "markdown",
   "metadata": {},
   "source": [
    "### <a id='toc1_1_'></a>[Import Statements](#toc0_)"
   ]
  },
  {
   "cell_type": "code",
   "execution_count": 1,
   "metadata": {},
   "outputs": [],
   "source": [
    "# import statements\n",
    "import numpy as np\n",
    "import pandas as pd"
   ]
  },
  {
   "cell_type": "code",
   "execution_count": 2,
   "metadata": {},
   "outputs": [],
   "source": [
    "# view options\n",
    "pd.set_option(\"display.max_columns\", 14)\n",
    "pd.set_option(\"display.max_rows\", 8)"
   ]
  },
  {
   "cell_type": "markdown",
   "metadata": {},
   "source": [
    "### <a id='toc1_2_'></a>[Importing the data](#toc0_)"
   ]
  },
  {
   "cell_type": "markdown",
   "metadata": {},
   "source": [
    "- We will be exploring a dataset from a Siena College Poll in 2018. This data has rankings of United States Presidents in various attributes. These attributes are:"
   ]
  },
  {
   "cell_type": "code",
   "execution_count": 3,
   "metadata": {},
   "outputs": [],
   "source": [
    "siena_2018_cols = \"\"\"\n",
    "• Bg = Background\n",
    "• Im = Imagination\n",
    "• Int = Integrity\n",
    "• IQ = Intelligence\n",
    "• L = Luck\n",
    "• WR = Willing to take risks\n",
    "• AC = Ability to compromise\n",
    "• EAb = Executive ability\n",
    "• LA = Leadership ability\n",
    "• CAb = Communication ability\n",
    "• OA = Overall ability\n",
    "• PL = Party leadership\n",
    "• RC = Relations with Congress\n",
    "• CAp = Court appointments\n",
    "• HE = Handling of economy\n",
    "• EAp = Executive appointments\n",
    "• DA = Domestic accomplishments\n",
    "• FPA = Foreign policy accomplishments\n",
    "• AM = Avoid crucial mistakes\n",
    "• EV = Experts’ view\n",
    "• O = Overall\n",
    "\"\"\""
   ]
  },
  {
   "cell_type": "code",
   "execution_count": 4,
   "metadata": {},
   "outputs": [],
   "source": [
    "# reading from github url\n",
    "\n",
    "# it is a good practice to define your index column when reading the data file.\n",
    "# it is generally frowned upon if you don't have an index column\n",
    "\n",
    "url = \"https://github.com/mattharrison/datasets/raw/master/data/siena2018-pres.csv\"\n",
    "siena_2018 = pd.read_csv(url, index_col=0)"
   ]
  },
  {
   "cell_type": "code",
   "execution_count": 5,
   "metadata": {},
   "outputs": [
    {
     "data": {
      "text/html": [
       "<div>\n",
       "<style scoped>\n",
       "    .dataframe tbody tr th:only-of-type {\n",
       "        vertical-align: middle;\n",
       "    }\n",
       "\n",
       "    .dataframe tbody tr th {\n",
       "        vertical-align: top;\n",
       "    }\n",
       "\n",
       "    .dataframe thead th {\n",
       "        text-align: right;\n",
       "    }\n",
       "</style>\n",
       "<table border=\"1\" class=\"dataframe\">\n",
       "  <thead>\n",
       "    <tr style=\"text-align: right;\">\n",
       "      <th></th>\n",
       "      <th>Seq.</th>\n",
       "      <th>President</th>\n",
       "      <th>Party</th>\n",
       "      <th>Bg</th>\n",
       "      <th>Im</th>\n",
       "      <th>Int</th>\n",
       "      <th>IQ</th>\n",
       "      <th>...</th>\n",
       "      <th>HE</th>\n",
       "      <th>EAp</th>\n",
       "      <th>DA</th>\n",
       "      <th>FPA</th>\n",
       "      <th>AM</th>\n",
       "      <th>EV</th>\n",
       "      <th>O</th>\n",
       "    </tr>\n",
       "  </thead>\n",
       "  <tbody>\n",
       "    <tr>\n",
       "      <th>1</th>\n",
       "      <td>1</td>\n",
       "      <td>George Washington</td>\n",
       "      <td>Independent</td>\n",
       "      <td>7</td>\n",
       "      <td>7</td>\n",
       "      <td>1</td>\n",
       "      <td>10</td>\n",
       "      <td>...</td>\n",
       "      <td>1</td>\n",
       "      <td>1</td>\n",
       "      <td>2</td>\n",
       "      <td>2</td>\n",
       "      <td>1</td>\n",
       "      <td>2</td>\n",
       "      <td>1</td>\n",
       "    </tr>\n",
       "    <tr>\n",
       "      <th>2</th>\n",
       "      <td>2</td>\n",
       "      <td>John Adams</td>\n",
       "      <td>Federalist</td>\n",
       "      <td>3</td>\n",
       "      <td>13</td>\n",
       "      <td>4</td>\n",
       "      <td>4</td>\n",
       "      <td>...</td>\n",
       "      <td>13</td>\n",
       "      <td>15</td>\n",
       "      <td>19</td>\n",
       "      <td>13</td>\n",
       "      <td>16</td>\n",
       "      <td>10</td>\n",
       "      <td>14</td>\n",
       "    </tr>\n",
       "    <tr>\n",
       "      <th>3</th>\n",
       "      <td>3</td>\n",
       "      <td>Thomas Jefferson</td>\n",
       "      <td>Democratic-Republican</td>\n",
       "      <td>2</td>\n",
       "      <td>2</td>\n",
       "      <td>14</td>\n",
       "      <td>1</td>\n",
       "      <td>...</td>\n",
       "      <td>20</td>\n",
       "      <td>4</td>\n",
       "      <td>6</td>\n",
       "      <td>9</td>\n",
       "      <td>7</td>\n",
       "      <td>5</td>\n",
       "      <td>5</td>\n",
       "    </tr>\n",
       "  </tbody>\n",
       "</table>\n",
       "<p>3 rows × 24 columns</p>\n",
       "</div>"
      ],
      "text/plain": [
       "  Seq.          President                  Party  Bg  Im  Int  IQ  ...  HE  \\\n",
       "1    1  George Washington            Independent   7   7    1  10  ...   1   \n",
       "2    2         John Adams             Federalist   3  13    4   4  ...  13   \n",
       "3    3   Thomas Jefferson  Democratic-Republican   2   2   14   1  ...  20   \n",
       "\n",
       "   EAp  DA  FPA  AM  EV   O  \n",
       "1    1   2    2   1   2   1  \n",
       "2   15  19   13  16  10  14  \n",
       "3    4   6    9   7   5   5  \n",
       "\n",
       "[3 rows x 24 columns]"
      ]
     },
     "execution_count": 5,
     "metadata": {},
     "output_type": "execute_result"
    }
   ],
   "source": [
    "siena_2018.head(3)"
   ]
  },
  {
   "cell_type": "code",
   "execution_count": 6,
   "metadata": {},
   "outputs": [
    {
     "name": "stdout",
     "output_type": "stream",
     "text": [
      "<class 'pandas.core.frame.DataFrame'>\n",
      "Index: 44 entries, 1 to 44\n",
      "Data columns (total 24 columns):\n",
      " #   Column     Non-Null Count  Dtype \n",
      "---  ------     --------------  ----- \n",
      " 0   Seq.       44 non-null     object\n",
      " 1   President  44 non-null     object\n",
      " 2   Party      44 non-null     object\n",
      " 3   Bg         44 non-null     int64 \n",
      " 4   Im         44 non-null     int64 \n",
      " 5   Int        44 non-null     int64 \n",
      " 6   IQ         44 non-null     int64 \n",
      " 7   L          44 non-null     int64 \n",
      " 8   WR         44 non-null     int64 \n",
      " 9   AC         44 non-null     int64 \n",
      " 10  EAb        44 non-null     int64 \n",
      " 11  LA         44 non-null     int64 \n",
      " 12  CAb        44 non-null     int64 \n",
      " 13  OA         44 non-null     int64 \n",
      " 14  PL         44 non-null     int64 \n",
      " 15  RC         44 non-null     int64 \n",
      " 16  CAp        44 non-null     int64 \n",
      " 17  HE         44 non-null     int64 \n",
      " 18  EAp        44 non-null     int64 \n",
      " 19  DA         44 non-null     int64 \n",
      " 20  FPA        44 non-null     int64 \n",
      " 21  AM         44 non-null     int64 \n",
      " 22  EV         44 non-null     int64 \n",
      " 23  O          44 non-null     int64 \n",
      "dtypes: int64(21), object(3)\n",
      "memory usage: 8.6+ KB\n"
     ]
    }
   ],
   "source": [
    "# this will print all the column names, number of non null values in each column and the datatype of that column\n",
    "siena_2018.info()"
   ]
  },
  {
   "cell_type": "markdown",
   "metadata": {},
   "source": [
    "---------------------"
   ]
  },
  {
   "cell_type": "markdown",
   "metadata": {},
   "source": [
    "## <a id='toc2_'></a>[Casting Datatypes and Renaming the columns](#toc0_)"
   ]
  },
  {
   "cell_type": "markdown",
   "metadata": {},
   "source": [
    "-----------------------"
   ]
  },
  {
   "cell_type": "markdown",
   "metadata": {},
   "source": [
    "**Note: This (i.e, casting datatypes and renaming columns) should be the first step whenever we load in a dataset. Also, we should write these commands as functions, allowing us to reuse the code in other notebooks if necessary.**"
   ]
  },
  {
   "cell_type": "markdown",
   "metadata": {},
   "source": [
    "### <a id='toc2_1_'></a>[*Renaming the columns with proper full form*](#toc0_)"
   ]
  },
  {
   "cell_type": "markdown",
   "metadata": {},
   "source": [
    "- Getting the full form of each column from the \"siena_2018_cols\" string"
   ]
  },
  {
   "cell_type": "code",
   "execution_count": 7,
   "metadata": {},
   "outputs": [],
   "source": [
    "# we want to write a code to generate a python dictionary from the above multiline string named \"siena_2018_cols\", which is\n",
    "# formatted as short form = long form. This dictionary will be used to rename the columns of the dataframe \"siena_2018\"\n",
    "\n",
    "# first we create a list of the form, [[short, full], .....]\n",
    "cols_list = [\n",
    "    col.strip().split(\"=\") for col in siena_2018_cols.strip().split(sep=\"•\")[1:]\n",
    "]\n",
    "\n",
    "# we will replace the spaces in the full form with underscores (_)\n",
    "siena_2018_cols_dict = {\n",
    "    col_prev.strip(): col_full.strip().replace(\" \", \"_\")\n",
    "    for col_prev, col_full in cols_list\n",
    "}"
   ]
  },
  {
   "cell_type": "markdown",
   "metadata": {},
   "source": [
    "**Note:** When such unpacking pattern is used with the for loop in a nested list, it will start to unpack from the most inner layer and not the outer one."
   ]
  },
  {
   "cell_type": "markdown",
   "metadata": {},
   "source": [
    "#### <a id='toc2_1_1_'></a>[The `.rename()` method](#toc0_)"
   ]
  },
  {
   "cell_type": "code",
   "execution_count": 8,
   "metadata": {},
   "outputs": [],
   "source": [
    "# inplace = True is frowned upon\n",
    "siena_2018 = siena_2018.rename(columns={\"Seq.\": \"Seq\"}).rename(\n",
    "    columns=siena_2018_cols_dict\n",
    ")"
   ]
  },
  {
   "cell_type": "code",
   "execution_count": 9,
   "metadata": {},
   "outputs": [
    {
     "data": {
      "text/html": [
       "<div>\n",
       "<style scoped>\n",
       "    .dataframe tbody tr th:only-of-type {\n",
       "        vertical-align: middle;\n",
       "    }\n",
       "\n",
       "    .dataframe tbody tr th {\n",
       "        vertical-align: top;\n",
       "    }\n",
       "\n",
       "    .dataframe thead th {\n",
       "        text-align: right;\n",
       "    }\n",
       "</style>\n",
       "<table border=\"1\" class=\"dataframe\">\n",
       "  <thead>\n",
       "    <tr style=\"text-align: right;\">\n",
       "      <th></th>\n",
       "      <th>Seq</th>\n",
       "      <th>President</th>\n",
       "      <th>Party</th>\n",
       "      <th>Background</th>\n",
       "      <th>Imagination</th>\n",
       "      <th>Integrity</th>\n",
       "      <th>Intelligence</th>\n",
       "      <th>...</th>\n",
       "      <th>Handling_of_economy</th>\n",
       "      <th>Executive_appointments</th>\n",
       "      <th>Domestic_accomplishments</th>\n",
       "      <th>Foreign_policy_accomplishments</th>\n",
       "      <th>Avoid_crucial_mistakes</th>\n",
       "      <th>Experts’_view</th>\n",
       "      <th>Overall</th>\n",
       "    </tr>\n",
       "  </thead>\n",
       "  <tbody>\n",
       "    <tr>\n",
       "      <th>1</th>\n",
       "      <td>1</td>\n",
       "      <td>George Washington</td>\n",
       "      <td>Independent</td>\n",
       "      <td>7</td>\n",
       "      <td>7</td>\n",
       "      <td>1</td>\n",
       "      <td>10</td>\n",
       "      <td>...</td>\n",
       "      <td>1</td>\n",
       "      <td>1</td>\n",
       "      <td>2</td>\n",
       "      <td>2</td>\n",
       "      <td>1</td>\n",
       "      <td>2</td>\n",
       "      <td>1</td>\n",
       "    </tr>\n",
       "    <tr>\n",
       "      <th>2</th>\n",
       "      <td>2</td>\n",
       "      <td>John Adams</td>\n",
       "      <td>Federalist</td>\n",
       "      <td>3</td>\n",
       "      <td>13</td>\n",
       "      <td>4</td>\n",
       "      <td>4</td>\n",
       "      <td>...</td>\n",
       "      <td>13</td>\n",
       "      <td>15</td>\n",
       "      <td>19</td>\n",
       "      <td>13</td>\n",
       "      <td>16</td>\n",
       "      <td>10</td>\n",
       "      <td>14</td>\n",
       "    </tr>\n",
       "    <tr>\n",
       "      <th>3</th>\n",
       "      <td>3</td>\n",
       "      <td>Thomas Jefferson</td>\n",
       "      <td>Democratic-Republican</td>\n",
       "      <td>2</td>\n",
       "      <td>2</td>\n",
       "      <td>14</td>\n",
       "      <td>1</td>\n",
       "      <td>...</td>\n",
       "      <td>20</td>\n",
       "      <td>4</td>\n",
       "      <td>6</td>\n",
       "      <td>9</td>\n",
       "      <td>7</td>\n",
       "      <td>5</td>\n",
       "      <td>5</td>\n",
       "    </tr>\n",
       "    <tr>\n",
       "      <th>4</th>\n",
       "      <td>4</td>\n",
       "      <td>James Madison</td>\n",
       "      <td>Democratic-Republican</td>\n",
       "      <td>4</td>\n",
       "      <td>6</td>\n",
       "      <td>7</td>\n",
       "      <td>3</td>\n",
       "      <td>...</td>\n",
       "      <td>14</td>\n",
       "      <td>7</td>\n",
       "      <td>11</td>\n",
       "      <td>19</td>\n",
       "      <td>11</td>\n",
       "      <td>8</td>\n",
       "      <td>7</td>\n",
       "    </tr>\n",
       "    <tr>\n",
       "      <th>...</th>\n",
       "      <td>...</td>\n",
       "      <td>...</td>\n",
       "      <td>...</td>\n",
       "      <td>...</td>\n",
       "      <td>...</td>\n",
       "      <td>...</td>\n",
       "      <td>...</td>\n",
       "      <td>...</td>\n",
       "      <td>...</td>\n",
       "      <td>...</td>\n",
       "      <td>...</td>\n",
       "      <td>...</td>\n",
       "      <td>...</td>\n",
       "      <td>...</td>\n",
       "      <td>...</td>\n",
       "    </tr>\n",
       "    <tr>\n",
       "      <th>41</th>\n",
       "      <td>42</td>\n",
       "      <td>Bill Clinton</td>\n",
       "      <td>Democratic</td>\n",
       "      <td>21</td>\n",
       "      <td>12</td>\n",
       "      <td>39</td>\n",
       "      <td>8</td>\n",
       "      <td>...</td>\n",
       "      <td>5</td>\n",
       "      <td>12</td>\n",
       "      <td>9</td>\n",
       "      <td>18</td>\n",
       "      <td>30</td>\n",
       "      <td>14</td>\n",
       "      <td>15</td>\n",
       "    </tr>\n",
       "    <tr>\n",
       "      <th>42</th>\n",
       "      <td>43</td>\n",
       "      <td>George W. Bush</td>\n",
       "      <td>Republican</td>\n",
       "      <td>17</td>\n",
       "      <td>29</td>\n",
       "      <td>33</td>\n",
       "      <td>41</td>\n",
       "      <td>...</td>\n",
       "      <td>36</td>\n",
       "      <td>29</td>\n",
       "      <td>30</td>\n",
       "      <td>38</td>\n",
       "      <td>36</td>\n",
       "      <td>34</td>\n",
       "      <td>33</td>\n",
       "    </tr>\n",
       "    <tr>\n",
       "      <th>43</th>\n",
       "      <td>44</td>\n",
       "      <td>Barack Obama</td>\n",
       "      <td>Democratic</td>\n",
       "      <td>24</td>\n",
       "      <td>11</td>\n",
       "      <td>13</td>\n",
       "      <td>9</td>\n",
       "      <td>...</td>\n",
       "      <td>10</td>\n",
       "      <td>13</td>\n",
       "      <td>13</td>\n",
       "      <td>20</td>\n",
       "      <td>10</td>\n",
       "      <td>11</td>\n",
       "      <td>17</td>\n",
       "    </tr>\n",
       "    <tr>\n",
       "      <th>44</th>\n",
       "      <td>45</td>\n",
       "      <td>Donald Trump</td>\n",
       "      <td>Republican</td>\n",
       "      <td>43</td>\n",
       "      <td>40</td>\n",
       "      <td>44</td>\n",
       "      <td>44</td>\n",
       "      <td>...</td>\n",
       "      <td>39</td>\n",
       "      <td>44</td>\n",
       "      <td>40</td>\n",
       "      <td>42</td>\n",
       "      <td>41</td>\n",
       "      <td>42</td>\n",
       "      <td>42</td>\n",
       "    </tr>\n",
       "  </tbody>\n",
       "</table>\n",
       "<p>44 rows × 24 columns</p>\n",
       "</div>"
      ],
      "text/plain": [
       "   Seq          President                  Party  Background  Imagination  \\\n",
       "1    1  George Washington            Independent           7            7   \n",
       "2    2         John Adams             Federalist           3           13   \n",
       "3    3   Thomas Jefferson  Democratic-Republican           2            2   \n",
       "4    4      James Madison  Democratic-Republican           4            6   \n",
       "..  ..                ...                    ...         ...          ...   \n",
       "41  42       Bill Clinton             Democratic          21           12   \n",
       "42  43     George W. Bush             Republican          17           29   \n",
       "43  44       Barack Obama             Democratic          24           11   \n",
       "44  45       Donald Trump             Republican          43           40   \n",
       "\n",
       "    Integrity  Intelligence  ...  Handling_of_economy  Executive_appointments  \\\n",
       "1           1            10  ...                    1                       1   \n",
       "2           4             4  ...                   13                      15   \n",
       "3          14             1  ...                   20                       4   \n",
       "4           7             3  ...                   14                       7   \n",
       "..        ...           ...  ...                  ...                     ...   \n",
       "41         39             8  ...                    5                      12   \n",
       "42         33            41  ...                   36                      29   \n",
       "43         13             9  ...                   10                      13   \n",
       "44         44            44  ...                   39                      44   \n",
       "\n",
       "    Domestic_accomplishments  Foreign_policy_accomplishments  \\\n",
       "1                          2                               2   \n",
       "2                         19                              13   \n",
       "3                          6                               9   \n",
       "4                         11                              19   \n",
       "..                       ...                             ...   \n",
       "41                         9                              18   \n",
       "42                        30                              38   \n",
       "43                        13                              20   \n",
       "44                        40                              42   \n",
       "\n",
       "    Avoid_crucial_mistakes  Experts’_view  Overall  \n",
       "1                        1              2        1  \n",
       "2                       16             10       14  \n",
       "3                        7              5        5  \n",
       "4                       11              8        7  \n",
       "..                     ...            ...      ...  \n",
       "41                      30             14       15  \n",
       "42                      36             34       33  \n",
       "43                      10             11       17  \n",
       "44                      41             42       42  \n",
       "\n",
       "[44 rows x 24 columns]"
      ]
     },
     "execution_count": 9,
     "metadata": {},
     "output_type": "execute_result"
    }
   ],
   "source": [
    "siena_2018"
   ]
  },
  {
   "cell_type": "markdown",
   "metadata": {},
   "source": [
    "### <a id='toc2_2_'></a>[*Casting DataTypes*](#toc0_)"
   ]
  },
  {
   "cell_type": "markdown",
   "metadata": {},
   "source": [
    "The first thing we should do when we load in a dataset is checking the datatypes of each column and converting each of them to datatypes that is more suitable for them. This will save space and will increase the overall speed of all the operations."
   ]
  },
  {
   "cell_type": "code",
   "execution_count": 10,
   "metadata": {},
   "outputs": [
    {
     "data": {
      "text/plain": [
       "{'Seq': dtype('O'),\n",
       " 'President': dtype('O'),\n",
       " 'Party': dtype('O'),\n",
       " 'Background': dtype('int64'),\n",
       " 'Imagination': dtype('int64'),\n",
       " 'Integrity': dtype('int64'),\n",
       " 'Intelligence': dtype('int64'),\n",
       " 'Luck': dtype('int64'),\n",
       " 'Willing_to_take_risks': dtype('int64'),\n",
       " 'Ability_to_compromise': dtype('int64'),\n",
       " 'Executive_ability': dtype('int64'),\n",
       " 'Leadership_ability': dtype('int64'),\n",
       " 'Communication_ability': dtype('int64'),\n",
       " 'Overall_ability': dtype('int64'),\n",
       " 'Party_leadership': dtype('int64'),\n",
       " 'Relations_with_Congress': dtype('int64'),\n",
       " 'Court_appointments': dtype('int64'),\n",
       " 'Handling_of_economy': dtype('int64'),\n",
       " 'Executive_appointments': dtype('int64'),\n",
       " 'Domestic_accomplishments': dtype('int64'),\n",
       " 'Foreign_policy_accomplishments': dtype('int64'),\n",
       " 'Avoid_crucial_mistakes': dtype('int64'),\n",
       " 'Experts’_view': dtype('int64'),\n",
       " 'Overall': dtype('int64')}"
      ]
     },
     "execution_count": 10,
     "metadata": {},
     "output_type": "execute_result"
    }
   ],
   "source": [
    "siena_2018.dtypes.to_dict()  # we could've also used the .info() method"
   ]
  },
  {
   "cell_type": "markdown",
   "metadata": {},
   "source": [
    "> **First, let's explore the columns with \"Object\" datatype**"
   ]
  },
  {
   "cell_type": "markdown",
   "metadata": {},
   "source": [
    "- The \"Seq\" column (Sequences of the presidency)"
   ]
  },
  {
   "cell_type": "code",
   "execution_count": 11,
   "metadata": {},
   "outputs": [
    {
     "data": {
      "text/plain": [
       "array(['1', '2', '3', '4', '5', '6', '7', '8', '9', '10', '11', '12',\n",
       "       '13', '14', '15', '16', '17', '18', '19', '20', '21', '22/24',\n",
       "       '23', '25', '26', '27', '28', '29', '30', '31', '32', '33', '34',\n",
       "       '35', '36', '37', '38', '39', '40', '41', '42', '43', '44', '45'],\n",
       "      dtype=object)"
      ]
     },
     "execution_count": 11,
     "metadata": {},
     "output_type": "execute_result"
    }
   ],
   "source": [
    "siena_2018.Seq.values"
   ]
  },
  {
   "cell_type": "markdown",
   "metadata": {},
   "source": [
    "Upon inspection we can see that, there's a value of '22/24'. So this column can either remain as \"Object\" type or, can be converted to \"string\" type. "
   ]
  },
  {
   "cell_type": "markdown",
   "metadata": {},
   "source": [
    "- The \"President\" column lists the name of the president. So, this can either be converted to \"string\" type or can remain as is. "
   ]
  },
  {
   "cell_type": "markdown",
   "metadata": {},
   "source": [
    "- The \"Party\" column provides the name of the party, the president was elected with."
   ]
  },
  {
   "cell_type": "code",
   "execution_count": 12,
   "metadata": {},
   "outputs": [
    {
     "data": {
      "text/plain": [
       "Party\n",
       "Republican               19\n",
       "Democratic               15\n",
       "Democratic-Republican     4\n",
       "Whig                      3\n",
       "Independent               2\n",
       "Federalist                1\n",
       "Name: count, dtype: int64"
      ]
     },
     "execution_count": 12,
     "metadata": {},
     "output_type": "execute_result"
    }
   ],
   "source": [
    "siena_2018.Party.value_counts()"
   ]
  },
  {
   "cell_type": "markdown",
   "metadata": {},
   "source": [
    "This column has only 6 unique values. So, this can be converted to \"categorical\" type."
   ]
  },
  {
   "cell_type": "code",
   "execution_count": 13,
   "metadata": {},
   "outputs": [],
   "source": [
    "siena_2018 = siena_2018.astype({\"Party\": \"category\"})"
   ]
  },
  {
   "cell_type": "markdown",
   "metadata": {},
   "source": [
    "> **Now, let's explore the columns with \"int64\" as datatype**"
   ]
  },
  {
   "cell_type": "markdown",
   "metadata": {},
   "source": [
    "**Note:** One of the interesting and important pandas methods is the `.select_dtypes()` method. This will select all the columns with the specified datatype and return those columns as a new DataFrame."
   ]
  },
  {
   "cell_type": "code",
   "execution_count": 14,
   "metadata": {},
   "outputs": [
    {
     "data": {
      "text/html": [
       "<div>\n",
       "<style scoped>\n",
       "    .dataframe tbody tr th:only-of-type {\n",
       "        vertical-align: middle;\n",
       "    }\n",
       "\n",
       "    .dataframe tbody tr th {\n",
       "        vertical-align: top;\n",
       "    }\n",
       "\n",
       "    .dataframe thead th {\n",
       "        text-align: right;\n",
       "    }\n",
       "</style>\n",
       "<table border=\"1\" class=\"dataframe\">\n",
       "  <thead>\n",
       "    <tr style=\"text-align: right;\">\n",
       "      <th></th>\n",
       "      <th>Background</th>\n",
       "      <th>Imagination</th>\n",
       "      <th>Integrity</th>\n",
       "      <th>Intelligence</th>\n",
       "      <th>Luck</th>\n",
       "      <th>Willing_to_take_risks</th>\n",
       "      <th>Ability_to_compromise</th>\n",
       "      <th>...</th>\n",
       "      <th>Handling_of_economy</th>\n",
       "      <th>Executive_appointments</th>\n",
       "      <th>Domestic_accomplishments</th>\n",
       "      <th>Foreign_policy_accomplishments</th>\n",
       "      <th>Avoid_crucial_mistakes</th>\n",
       "      <th>Experts’_view</th>\n",
       "      <th>Overall</th>\n",
       "    </tr>\n",
       "  </thead>\n",
       "  <tbody>\n",
       "    <tr>\n",
       "      <th>1</th>\n",
       "      <td>7</td>\n",
       "      <td>7</td>\n",
       "      <td>1</td>\n",
       "      <td>10</td>\n",
       "      <td>1</td>\n",
       "      <td>6</td>\n",
       "      <td>2</td>\n",
       "      <td>...</td>\n",
       "      <td>1</td>\n",
       "      <td>1</td>\n",
       "      <td>2</td>\n",
       "      <td>2</td>\n",
       "      <td>1</td>\n",
       "      <td>2</td>\n",
       "      <td>1</td>\n",
       "    </tr>\n",
       "    <tr>\n",
       "      <th>2</th>\n",
       "      <td>3</td>\n",
       "      <td>13</td>\n",
       "      <td>4</td>\n",
       "      <td>4</td>\n",
       "      <td>24</td>\n",
       "      <td>14</td>\n",
       "      <td>31</td>\n",
       "      <td>...</td>\n",
       "      <td>13</td>\n",
       "      <td>15</td>\n",
       "      <td>19</td>\n",
       "      <td>13</td>\n",
       "      <td>16</td>\n",
       "      <td>10</td>\n",
       "      <td>14</td>\n",
       "    </tr>\n",
       "    <tr>\n",
       "      <th>3</th>\n",
       "      <td>2</td>\n",
       "      <td>2</td>\n",
       "      <td>14</td>\n",
       "      <td>1</td>\n",
       "      <td>8</td>\n",
       "      <td>5</td>\n",
       "      <td>14</td>\n",
       "      <td>...</td>\n",
       "      <td>20</td>\n",
       "      <td>4</td>\n",
       "      <td>6</td>\n",
       "      <td>9</td>\n",
       "      <td>7</td>\n",
       "      <td>5</td>\n",
       "      <td>5</td>\n",
       "    </tr>\n",
       "    <tr>\n",
       "      <th>4</th>\n",
       "      <td>4</td>\n",
       "      <td>6</td>\n",
       "      <td>7</td>\n",
       "      <td>3</td>\n",
       "      <td>16</td>\n",
       "      <td>15</td>\n",
       "      <td>6</td>\n",
       "      <td>...</td>\n",
       "      <td>14</td>\n",
       "      <td>7</td>\n",
       "      <td>11</td>\n",
       "      <td>19</td>\n",
       "      <td>11</td>\n",
       "      <td>8</td>\n",
       "      <td>7</td>\n",
       "    </tr>\n",
       "    <tr>\n",
       "      <th>...</th>\n",
       "      <td>...</td>\n",
       "      <td>...</td>\n",
       "      <td>...</td>\n",
       "      <td>...</td>\n",
       "      <td>...</td>\n",
       "      <td>...</td>\n",
       "      <td>...</td>\n",
       "      <td>...</td>\n",
       "      <td>...</td>\n",
       "      <td>...</td>\n",
       "      <td>...</td>\n",
       "      <td>...</td>\n",
       "      <td>...</td>\n",
       "      <td>...</td>\n",
       "      <td>...</td>\n",
       "    </tr>\n",
       "    <tr>\n",
       "      <th>41</th>\n",
       "      <td>21</td>\n",
       "      <td>12</td>\n",
       "      <td>39</td>\n",
       "      <td>8</td>\n",
       "      <td>11</td>\n",
       "      <td>17</td>\n",
       "      <td>3</td>\n",
       "      <td>...</td>\n",
       "      <td>5</td>\n",
       "      <td>12</td>\n",
       "      <td>9</td>\n",
       "      <td>18</td>\n",
       "      <td>30</td>\n",
       "      <td>14</td>\n",
       "      <td>15</td>\n",
       "    </tr>\n",
       "    <tr>\n",
       "      <th>42</th>\n",
       "      <td>17</td>\n",
       "      <td>29</td>\n",
       "      <td>33</td>\n",
       "      <td>41</td>\n",
       "      <td>21</td>\n",
       "      <td>20</td>\n",
       "      <td>28</td>\n",
       "      <td>...</td>\n",
       "      <td>36</td>\n",
       "      <td>29</td>\n",
       "      <td>30</td>\n",
       "      <td>38</td>\n",
       "      <td>36</td>\n",
       "      <td>34</td>\n",
       "      <td>33</td>\n",
       "    </tr>\n",
       "    <tr>\n",
       "      <th>43</th>\n",
       "      <td>24</td>\n",
       "      <td>11</td>\n",
       "      <td>13</td>\n",
       "      <td>9</td>\n",
       "      <td>15</td>\n",
       "      <td>23</td>\n",
       "      <td>16</td>\n",
       "      <td>...</td>\n",
       "      <td>10</td>\n",
       "      <td>13</td>\n",
       "      <td>13</td>\n",
       "      <td>20</td>\n",
       "      <td>10</td>\n",
       "      <td>11</td>\n",
       "      <td>17</td>\n",
       "    </tr>\n",
       "    <tr>\n",
       "      <th>44</th>\n",
       "      <td>43</td>\n",
       "      <td>40</td>\n",
       "      <td>44</td>\n",
       "      <td>44</td>\n",
       "      <td>10</td>\n",
       "      <td>25</td>\n",
       "      <td>42</td>\n",
       "      <td>...</td>\n",
       "      <td>39</td>\n",
       "      <td>44</td>\n",
       "      <td>40</td>\n",
       "      <td>42</td>\n",
       "      <td>41</td>\n",
       "      <td>42</td>\n",
       "      <td>42</td>\n",
       "    </tr>\n",
       "  </tbody>\n",
       "</table>\n",
       "<p>44 rows × 21 columns</p>\n",
       "</div>"
      ],
      "text/plain": [
       "    Background  Imagination  Integrity  Intelligence  Luck  \\\n",
       "1            7            7          1            10     1   \n",
       "2            3           13          4             4    24   \n",
       "3            2            2         14             1     8   \n",
       "4            4            6          7             3    16   \n",
       "..         ...          ...        ...           ...   ...   \n",
       "41          21           12         39             8    11   \n",
       "42          17           29         33            41    21   \n",
       "43          24           11         13             9    15   \n",
       "44          43           40         44            44    10   \n",
       "\n",
       "    Willing_to_take_risks  Ability_to_compromise  ...  Handling_of_economy  \\\n",
       "1                       6                      2  ...                    1   \n",
       "2                      14                     31  ...                   13   \n",
       "3                       5                     14  ...                   20   \n",
       "4                      15                      6  ...                   14   \n",
       "..                    ...                    ...  ...                  ...   \n",
       "41                     17                      3  ...                    5   \n",
       "42                     20                     28  ...                   36   \n",
       "43                     23                     16  ...                   10   \n",
       "44                     25                     42  ...                   39   \n",
       "\n",
       "    Executive_appointments  Domestic_accomplishments  \\\n",
       "1                        1                         2   \n",
       "2                       15                        19   \n",
       "3                        4                         6   \n",
       "4                        7                        11   \n",
       "..                     ...                       ...   \n",
       "41                      12                         9   \n",
       "42                      29                        30   \n",
       "43                      13                        13   \n",
       "44                      44                        40   \n",
       "\n",
       "    Foreign_policy_accomplishments  Avoid_crucial_mistakes  Experts’_view  \\\n",
       "1                                2                       1              2   \n",
       "2                               13                      16             10   \n",
       "3                                9                       7              5   \n",
       "4                               19                      11              8   \n",
       "..                             ...                     ...            ...   \n",
       "41                              18                      30             14   \n",
       "42                              38                      36             34   \n",
       "43                              20                      10             11   \n",
       "44                              42                      41             42   \n",
       "\n",
       "    Overall  \n",
       "1         1  \n",
       "2        14  \n",
       "3         5  \n",
       "4         7  \n",
       "..      ...  \n",
       "41       15  \n",
       "42       33  \n",
       "43       17  \n",
       "44       42  \n",
       "\n",
       "[44 rows x 21 columns]"
      ]
     },
     "execution_count": 14,
     "metadata": {},
     "output_type": "execute_result"
    }
   ],
   "source": [
    "siena_2018.select_dtypes(\"int64\")"
   ]
  },
  {
   "cell_type": "markdown",
   "metadata": {},
   "source": [
    "- Let's see the max and min values of the number type columns"
   ]
  },
  {
   "cell_type": "code",
   "execution_count": 15,
   "metadata": {},
   "outputs": [],
   "source": [
    "_ = siena_2018.select_dtypes(\"int64\").agg([\"max\", \"min\"])"
   ]
  },
  {
   "cell_type": "code",
   "execution_count": 16,
   "metadata": {},
   "outputs": [
    {
     "data": {
      "text/html": [
       "<div>\n",
       "<style scoped>\n",
       "    .dataframe tbody tr th:only-of-type {\n",
       "        vertical-align: middle;\n",
       "    }\n",
       "\n",
       "    .dataframe tbody tr th {\n",
       "        vertical-align: top;\n",
       "    }\n",
       "\n",
       "    .dataframe thead th {\n",
       "        text-align: right;\n",
       "    }\n",
       "</style>\n",
       "<table border=\"1\" class=\"dataframe\">\n",
       "  <thead>\n",
       "    <tr style=\"text-align: right;\">\n",
       "      <th></th>\n",
       "      <th>Background</th>\n",
       "      <th>Imagination</th>\n",
       "      <th>Integrity</th>\n",
       "      <th>Intelligence</th>\n",
       "      <th>Luck</th>\n",
       "      <th>Willing_to_take_risks</th>\n",
       "      <th>Ability_to_compromise</th>\n",
       "      <th>...</th>\n",
       "      <th>Handling_of_economy</th>\n",
       "      <th>Executive_appointments</th>\n",
       "      <th>Domestic_accomplishments</th>\n",
       "      <th>Foreign_policy_accomplishments</th>\n",
       "      <th>Avoid_crucial_mistakes</th>\n",
       "      <th>Experts’_view</th>\n",
       "      <th>Overall</th>\n",
       "    </tr>\n",
       "  </thead>\n",
       "  <tbody>\n",
       "    <tr>\n",
       "      <th>max</th>\n",
       "      <td>43</td>\n",
       "      <td>43</td>\n",
       "      <td>44</td>\n",
       "      <td>44</td>\n",
       "      <td>44</td>\n",
       "      <td>41</td>\n",
       "      <td>43</td>\n",
       "      <td>...</td>\n",
       "      <td>44</td>\n",
       "      <td>44</td>\n",
       "      <td>44</td>\n",
       "      <td>44</td>\n",
       "      <td>44</td>\n",
       "      <td>44</td>\n",
       "      <td>44</td>\n",
       "    </tr>\n",
       "    <tr>\n",
       "      <th>min</th>\n",
       "      <td>1</td>\n",
       "      <td>1</td>\n",
       "      <td>1</td>\n",
       "      <td>1</td>\n",
       "      <td>1</td>\n",
       "      <td>1</td>\n",
       "      <td>1</td>\n",
       "      <td>...</td>\n",
       "      <td>1</td>\n",
       "      <td>1</td>\n",
       "      <td>1</td>\n",
       "      <td>1</td>\n",
       "      <td>1</td>\n",
       "      <td>1</td>\n",
       "      <td>1</td>\n",
       "    </tr>\n",
       "  </tbody>\n",
       "</table>\n",
       "<p>2 rows × 21 columns</p>\n",
       "</div>"
      ],
      "text/plain": [
       "     Background  Imagination  Integrity  Intelligence  Luck  \\\n",
       "max          43           43         44            44    44   \n",
       "min           1            1          1             1     1   \n",
       "\n",
       "     Willing_to_take_risks  Ability_to_compromise  ...  Handling_of_economy  \\\n",
       "max                     41                     43  ...                   44   \n",
       "min                      1                      1  ...                    1   \n",
       "\n",
       "     Executive_appointments  Domestic_accomplishments  \\\n",
       "max                      44                        44   \n",
       "min                       1                         1   \n",
       "\n",
       "     Foreign_policy_accomplishments  Avoid_crucial_mistakes  Experts’_view  \\\n",
       "max                              44                      44             44   \n",
       "min                               1                       1              1   \n",
       "\n",
       "     Overall  \n",
       "max       44  \n",
       "min        1  \n",
       "\n",
       "[2 rows x 21 columns]"
      ]
     },
     "execution_count": 16,
     "metadata": {},
     "output_type": "execute_result"
    }
   ],
   "source": [
    "_"
   ]
  },
  {
   "cell_type": "code",
   "execution_count": 17,
   "metadata": {},
   "outputs": [
    {
     "data": {
      "text/plain": [
       "44"
      ]
     },
     "execution_count": 17,
     "metadata": {},
     "output_type": "execute_result"
    }
   ],
   "source": [
    "_.loc[\"max\"].max()"
   ]
  },
  {
   "cell_type": "code",
   "execution_count": 18,
   "metadata": {},
   "outputs": [
    {
     "data": {
      "text/plain": [
       "1"
      ]
     },
     "execution_count": 18,
     "metadata": {},
     "output_type": "execute_result"
    }
   ],
   "source": [
    "_.loc[\"min\"].min()"
   ]
  },
  {
   "cell_type": "markdown",
   "metadata": {},
   "source": [
    "As we can see, none of the columns has values greater than 44 and lesser than 1. So, these columns can easily be converted to \"uint8\" type and still accomodate the values as is."
   ]
  },
  {
   "cell_type": "code",
   "execution_count": 19,
   "metadata": {},
   "outputs": [],
   "source": [
    "siena_2018 = siena_2018.astype(\n",
    "    {col_name: \"uint8\" for col_name in siena_2018.select_dtypes(\"int64\").columns}\n",
    ")"
   ]
  },
  {
   "cell_type": "markdown",
   "metadata": {},
   "source": [
    "After casting datatypes to more appropriate types, the memory footprint of the dataframe reduces drastically."
   ]
  },
  {
   "cell_type": "code",
   "execution_count": 20,
   "metadata": {},
   "outputs": [
    {
     "name": "stdout",
     "output_type": "stream",
     "text": [
      "<class 'pandas.core.frame.DataFrame'>\n",
      "Index: 44 entries, 1 to 44\n",
      "Data columns (total 24 columns):\n",
      " #   Column                          Non-Null Count  Dtype   \n",
      "---  ------                          --------------  -----   \n",
      " 0   Seq                             44 non-null     object  \n",
      " 1   President                       44 non-null     object  \n",
      " 2   Party                           44 non-null     category\n",
      " 3   Background                      44 non-null     uint8   \n",
      " 4   Imagination                     44 non-null     uint8   \n",
      " 5   Integrity                       44 non-null     uint8   \n",
      " 6   Intelligence                    44 non-null     uint8   \n",
      " 7   Luck                            44 non-null     uint8   \n",
      " 8   Willing_to_take_risks           44 non-null     uint8   \n",
      " 9   Ability_to_compromise           44 non-null     uint8   \n",
      " 10  Executive_ability               44 non-null     uint8   \n",
      " 11  Leadership_ability              44 non-null     uint8   \n",
      " 12  Communication_ability           44 non-null     uint8   \n",
      " 13  Overall_ability                 44 non-null     uint8   \n",
      " 14  Party_leadership                44 non-null     uint8   \n",
      " 15  Relations_with_Congress         44 non-null     uint8   \n",
      " 16  Court_appointments              44 non-null     uint8   \n",
      " 17  Handling_of_economy             44 non-null     uint8   \n",
      " 18  Executive_appointments          44 non-null     uint8   \n",
      " 19  Domestic_accomplishments        44 non-null     uint8   \n",
      " 20  Foreign_policy_accomplishments  44 non-null     uint8   \n",
      " 21  Avoid_crucial_mistakes          44 non-null     uint8   \n",
      " 22  Experts’_view                   44 non-null     uint8   \n",
      " 23  Overall                         44 non-null     uint8   \n",
      "dtypes: category(1), object(2), uint8(21)\n",
      "memory usage: 2.2+ KB\n"
     ]
    }
   ],
   "source": [
    "siena_2018.info()"
   ]
  },
  {
   "cell_type": "code",
   "execution_count": null,
   "metadata": {},
   "outputs": [],
   "source": []
  }
 ],
 "metadata": {
  "kernelspec": {
   "display_name": "ml_intro",
   "language": "python",
   "name": "python3"
  },
  "language_info": {
   "codemirror_mode": {
    "name": "ipython",
    "version": 3
   },
   "file_extension": ".py",
   "mimetype": "text/x-python",
   "name": "python",
   "nbconvert_exporter": "python",
   "pygments_lexer": "ipython3",
   "version": "3.11.4"
  },
  "orig_nbformat": 4
 },
 "nbformat": 4,
 "nbformat_minor": 2
}
