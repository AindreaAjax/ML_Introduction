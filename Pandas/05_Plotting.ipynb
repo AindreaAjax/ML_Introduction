{
 "cells": [
  {
   "cell_type": "code",
   "execution_count": 1,
   "metadata": {},
   "outputs": [],
   "source": [
    "# import statements\n",
    "import numpy as np\n",
    "import pandas as pd\n",
    "import matplotlib as mpl\n",
    "import matplotlib.pyplot as plt\n",
    "import seaborn as sns"
   ]
  },
  {
   "cell_type": "markdown",
   "metadata": {},
   "source": [
    "## Plotting in Pandas: The `df.plot()` method ([Docs](https://pandas.pydata.org/docs/reference/api/pandas.DataFrame.plot.html#pandas.DataFrame.plot))"
   ]
  },
  {
   "cell_type": "markdown",
   "metadata": {},
   "source": [
    "**Note:** The .plot() method can also be called on a Series object."
   ]
  },
  {
   "cell_type": "markdown",
   "metadata": {},
   "source": [
    "<u>Function Parameters</u>\n",
    "\n",
    " - ``data :`` Series or DataFrame. The object for which the method is called.\n",
    " - ``x :`` label or position, default None. Only used if data is a DataFrame.\n",
    " - ``y :`` label, position or list of label, positions, default None. Allows plotting of one column versus another. Only used if data is a DataFrame.\n",
    " - ``kind :`` str. The kind of plot to produce:\n",
    "    <i>\n",
    "    - 'line' : line plot (default)\n",
    "    - 'bar' : vertical bar plot\n",
    "    - 'barh' : horizontal bar plot\n",
    "    - 'hist' : histogram\n",
    "    - 'box' : boxplot\n",
    "    - 'kde' : Kernel Density Estimation plot\n",
    "    - 'density' : same as 'kde'\n",
    "    - 'area' : area plot\n",
    "    - 'pie' : pie plot\n",
    "    - 'scatter' : scatter plot (DataFrame only)\n",
    "    - 'hexbin' : hexbin plot (DataFrame only)\n",
    "    </i>\n",
    "    \n",
    " - `` ax :`` An axes of the current figure that will be used for plotting.\n",
    " - ``subplots :`` Whether to group columns into subplots:\n",
    "     - *False* : No subplots will be used\n",
    "     - *True* : Make separate subplots for each column.\n",
    "     - sequence of iterables of column labels: Create a subplot for each group of columns. For example *[('a', 'c'), ('b', 'd')]* will create 2 subplots: one with columns 'a' and 'c', and one with columns 'b' and 'd'. Remaining columns that aren't specified will be plotted in additional subplots (one per column).\n",
    " - ``figsize :`` a tuple of (width, height) in inches\n",
    " - ``title :`` str or list. Title to use for the plot. If a string is passed, print the string at the top of the figure. If a list is passed and *subplots* is True, print each item in the list above the corresponding subplot.\n",
    " - ``stacked :`` bool, default False in line and bar plots, and True in area plot. If True, create stacked plot.\n",
    " - ``use_index :`` Use index as ticks for x axis.\n",
    " - Some of the other arguments that can be passed to the function are, ``sharex, sharey, layout, grid, legend, style, logx, logy, loglog, xticks, yticks, rot, fontsize, xlim, ylim, xlabel, ylabel, colormap, colorbar, xerr, yerr`` etc.\n",
    " - ``**kwargs :`` Options to pass to matplotlib plotting method."
   ]
  },
  {
   "cell_type": "markdown",
   "metadata": {},
   "source": [
    "### `->` Note"
   ]
  },
  {
   "cell_type": "markdown",
   "metadata": {},
   "source": [
    "`df.plot()` is suitable for quick and simple plots, especially when working with small to medium-sized datasets and when you want a straightforward, integrated solution. On the other hand, `seaborn` provides more flexibility, advanced plotting options, and aesthetics for more complex and customized visualizations. If you want a quick and dirty simply plot you may use `df.plot()` but if you require more options use `seaborn` instead."
   ]
  },
  {
   "cell_type": "code",
   "execution_count": null,
   "metadata": {},
   "outputs": [],
   "source": []
  }
 ],
 "metadata": {
  "kernelspec": {
   "display_name": "Python 3",
   "language": "python",
   "name": "python3"
  },
  "language_info": {
   "codemirror_mode": {
    "name": "ipython",
    "version": 3
   },
   "file_extension": ".py",
   "mimetype": "text/x-python",
   "name": "python",
   "nbconvert_exporter": "python",
   "pygments_lexer": "ipython3",
   "version": "3.11.4"
  },
  "orig_nbformat": 4,
  "vscode": {
   "interpreter": {
    "hash": "916dbcbb3f70747c44a77c7bcd40155683ae19c65e1c03b4aa3499c5328201f1"
   }
  }
 },
 "nbformat": 4,
 "nbformat_minor": 2
}
