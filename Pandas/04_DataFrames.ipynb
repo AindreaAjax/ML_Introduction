{
 "cells": [
  {
   "cell_type": "markdown",
   "id": "b82accdc-ce07-4595-b049-02fd0ae2ecb8",
   "metadata": {},
   "source": [
    "# Deep dive into Pandas DataFrames "
   ]
  },
  {
   "cell_type": "markdown",
   "id": "0f7aee04-6950-4f40-82b5-79a201238dcb",
   "metadata": {},
   "source": [
    "**Read the official documentation on pandas DataFrames @ https://pandas.pydata.org/pandas-docs/stable/reference/frame.html**"
   ]
  },
  {
   "cell_type": "markdown",
   "id": "4afdaeaf-3c10-459d-8a85-5e50c9f7b3dd",
   "metadata": {},
   "source": [
    "**`Note:`** The notion of **chaining functions/methods** in pandas is similar to python."
   ]
  },
  {
   "cell_type": "markdown",
   "id": "8014d978-4bc3-407d-a185-54853e5ce60e",
   "metadata": {},
   "source": [
    "DataFrames are **column oriented** unlike most common databases. And, **each column** in the dataframe is a **pandas series object**. So, any operation that can be performed on a pandas series object it can be applied to a column too."
   ]
  },
  {
   "cell_type": "markdown",
   "id": "5134bc09-afe0-4f57-af13-7537b4c0652a",
   "metadata": {},
   "source": [
    "There are **two axes** for a dataframe commonly referred to as axis 0 and 1, or the **\"index\"** (or 'rows') axis and the **\"columns\"** axis respectively. Note that, when an **operation** is applied **along axis 0**, it is applied **down the column**. Likewise, operations **along axis 1** operate **across the values in the row**."
   ]
  },
  {
   "cell_type": "markdown",
   "id": "24ca51e2-cb7e-4663-b94d-c4ceb6840f46",
   "metadata": {
    "tags": []
   },
   "source": [
    "--------------------\n",
    "## Import Statements\n",
    "--------------------------"
   ]
  },
  {
   "cell_type": "code",
   "execution_count": 1,
   "id": "0b98e008-5cd4-4103-a41d-aa577f7b0d9e",
   "metadata": {},
   "outputs": [],
   "source": [
    "# import statements\n",
    "import numpy as np\n",
    "import pandas as pd"
   ]
  },
  {
   "cell_type": "code",
   "execution_count": 2,
   "id": "62204132-8954-4462-b1b7-fbc807c3b906",
   "metadata": {},
   "outputs": [],
   "source": [
    "# view options\n",
    "pd.set_option(\"display.max_columns\", 40)\n",
    "pd.set_option(\"display.max_rows\", 10)"
   ]
  },
  {
   "cell_type": "markdown",
   "id": "857d3177-ade7-4dc9-beef-fb0674bf2e30",
   "metadata": {
    "tags": []
   },
   "source": [
    "---------------------------\n",
    "### Importing the data\n",
    "------------------------"
   ]
  },
  {
   "cell_type": "markdown",
   "id": "44fae79f-4a1f-491d-a430-325008019c70",
   "metadata": {},
   "source": [
    "We will be exploring a dataset from a Siena College Poll in 2018. This data has rankings of United States Presidents in various attributes. These attributes are:"
   ]
  },
  {
   "cell_type": "markdown",
   "id": "dd66ec2b-3214-4920-8bcb-1b582f44a796",
   "metadata": {},
   "source": [
    "• Bg = Background\n",
    "• Im = Imagination\n",
    "• Int = Integrity\n",
    "• IQ = Intelligence\n",
    "• L = Luck\n",
    "• WR = Willing to take risks\n",
    "• AC = Ability to compromise\n",
    "• EAb = Executive ability\n",
    "• LA = Leadership ability\n",
    "• CAb = Communication ability\n",
    "• OA = Overall ability\n",
    "• PL = Party leadership\n",
    "• RC = Relations with Congress\n",
    "• CAp = Court appointments\n",
    "• HE = Handling of economy\n",
    "• EAp = Executive appointments\n",
    "• DA = Domestic accomplishments\n",
    "• FPA = Foreign policy accomplishments\n",
    "• AM = Avoid crucial mistakes\n",
    "• EV = Experts’ view\n",
    "• O = Overall"
   ]
  },
  {
   "cell_type": "code",
   "execution_count": 3,
   "id": "138c973f-bff5-422c-a649-d7ebb9cc42f4",
   "metadata": {},
   "outputs": [],
   "source": [
    "# reading from github url\n",
    "\n",
    "# it is a good practice to define your index column when reading the data file.\n",
    "# it is generally frowned upon if you don't have an index column\n",
    "\n",
    "url = \"https://github.com/mattharrison/datasets/raw/master/data/siena2018-pres.csv\"\n",
    "siena_2018 = pd.read_csv(url, index_col=0)"
   ]
  },
  {
   "cell_type": "code",
   "execution_count": 42,
   "id": "9b998d7a-50ef-4ab5-aeb5-0083cb2ec663",
   "metadata": {},
   "outputs": [
    {
     "data": {
      "text/html": [
       "<div>\n",
       "<style scoped>\n",
       "    .dataframe tbody tr th:only-of-type {\n",
       "        vertical-align: middle;\n",
       "    }\n",
       "\n",
       "    .dataframe tbody tr th {\n",
       "        vertical-align: top;\n",
       "    }\n",
       "\n",
       "    .dataframe thead th {\n",
       "        text-align: right;\n",
       "    }\n",
       "</style>\n",
       "<table border=\"1\" class=\"dataframe\">\n",
       "  <thead>\n",
       "    <tr style=\"text-align: right;\">\n",
       "      <th></th>\n",
       "      <th>Seq.</th>\n",
       "      <th>President</th>\n",
       "      <th>Party</th>\n",
       "      <th>Bg</th>\n",
       "      <th>Im</th>\n",
       "      <th>Int</th>\n",
       "      <th>IQ</th>\n",
       "      <th>L</th>\n",
       "      <th>WR</th>\n",
       "      <th>AC</th>\n",
       "      <th>EAb</th>\n",
       "      <th>LA</th>\n",
       "      <th>CAb</th>\n",
       "      <th>OA</th>\n",
       "      <th>PL</th>\n",
       "      <th>RC</th>\n",
       "      <th>CAp</th>\n",
       "      <th>HE</th>\n",
       "      <th>EAp</th>\n",
       "      <th>DA</th>\n",
       "      <th>FPA</th>\n",
       "      <th>AM</th>\n",
       "      <th>EV</th>\n",
       "      <th>O</th>\n",
       "    </tr>\n",
       "  </thead>\n",
       "  <tbody>\n",
       "    <tr>\n",
       "      <th>1</th>\n",
       "      <td>1</td>\n",
       "      <td>George Washington</td>\n",
       "      <td>Independent</td>\n",
       "      <td>7</td>\n",
       "      <td>7</td>\n",
       "      <td>1</td>\n",
       "      <td>10</td>\n",
       "      <td>1</td>\n",
       "      <td>6</td>\n",
       "      <td>2</td>\n",
       "      <td>2</td>\n",
       "      <td>1</td>\n",
       "      <td>11</td>\n",
       "      <td>2</td>\n",
       "      <td>18</td>\n",
       "      <td>1</td>\n",
       "      <td>1</td>\n",
       "      <td>1</td>\n",
       "      <td>1</td>\n",
       "      <td>2</td>\n",
       "      <td>2</td>\n",
       "      <td>1</td>\n",
       "      <td>2</td>\n",
       "      <td>1</td>\n",
       "    </tr>\n",
       "    <tr>\n",
       "      <th>2</th>\n",
       "      <td>2</td>\n",
       "      <td>John Adams</td>\n",
       "      <td>Federalist</td>\n",
       "      <td>3</td>\n",
       "      <td>13</td>\n",
       "      <td>4</td>\n",
       "      <td>4</td>\n",
       "      <td>24</td>\n",
       "      <td>14</td>\n",
       "      <td>31</td>\n",
       "      <td>21</td>\n",
       "      <td>21</td>\n",
       "      <td>13</td>\n",
       "      <td>8</td>\n",
       "      <td>28</td>\n",
       "      <td>17</td>\n",
       "      <td>4</td>\n",
       "      <td>13</td>\n",
       "      <td>15</td>\n",
       "      <td>19</td>\n",
       "      <td>13</td>\n",
       "      <td>16</td>\n",
       "      <td>10</td>\n",
       "      <td>14</td>\n",
       "    </tr>\n",
       "    <tr>\n",
       "      <th>3</th>\n",
       "      <td>3</td>\n",
       "      <td>Thomas Jefferson</td>\n",
       "      <td>Democratic-Republican</td>\n",
       "      <td>2</td>\n",
       "      <td>2</td>\n",
       "      <td>14</td>\n",
       "      <td>1</td>\n",
       "      <td>8</td>\n",
       "      <td>5</td>\n",
       "      <td>14</td>\n",
       "      <td>6</td>\n",
       "      <td>6</td>\n",
       "      <td>4</td>\n",
       "      <td>4</td>\n",
       "      <td>5</td>\n",
       "      <td>5</td>\n",
       "      <td>7</td>\n",
       "      <td>20</td>\n",
       "      <td>4</td>\n",
       "      <td>6</td>\n",
       "      <td>9</td>\n",
       "      <td>7</td>\n",
       "      <td>5</td>\n",
       "      <td>5</td>\n",
       "    </tr>\n",
       "  </tbody>\n",
       "</table>\n",
       "</div>"
      ],
      "text/plain": [
       "  Seq.          President                  Party  Bg  Im  Int  IQ   L  WR  AC  \\\n",
       "1    1  George Washington            Independent   7   7    1  10   1   6   2   \n",
       "2    2         John Adams             Federalist   3  13    4   4  24  14  31   \n",
       "3    3   Thomas Jefferson  Democratic-Republican   2   2   14   1   8   5  14   \n",
       "\n",
       "   EAb  LA  CAb  OA  PL  RC  CAp  HE  EAp  DA  FPA  AM  EV   O  \n",
       "1    2   1   11   2  18   1    1   1    1   2    2   1   2   1  \n",
       "2   21  21   13   8  28  17    4  13   15  19   13  16  10  14  \n",
       "3    6   6    4   4   5   5    7  20    4   6    9   7   5   5  "
      ]
     },
     "execution_count": 42,
     "metadata": {},
     "output_type": "execute_result"
    }
   ],
   "source": [
    "siena_2018.head(3)"
   ]
  },
  {
   "cell_type": "markdown",
   "id": "f41e5cb8-7758-40ec-961b-25cd23955059",
   "metadata": {
    "jp-MarkdownHeadingCollapsed": true,
    "tags": []
   },
   "source": [
    "---------------------\n",
    "## Casting Datatypes\n",
    "-----------------------"
   ]
  },
  {
   "cell_type": "markdown",
   "id": "1c5384a8-8ad8-48b5-a6b1-2491442fa7f1",
   "metadata": {},
   "source": [
    "**Note:** The first thing we should do when we load in a dataset is to check the datatypes of each column and cast each of them to more suitable datatypes. This is to save space and speed up the process."
   ]
  },
  {
   "cell_type": "code",
   "execution_count": 13,
   "id": "42e97f87-dbd1-4187-b849-f3e7eca91371",
   "metadata": {},
   "outputs": [
    {
     "data": {
      "text/plain": [
       "Seq.         object\n",
       "President    object\n",
       "Party        object\n",
       "Bg            int64\n",
       "Im            int64\n",
       "              ...  \n",
       "DA            int64\n",
       "FPA           int64\n",
       "AM            int64\n",
       "EV            int64\n",
       "O             int64\n",
       "Length: 24, dtype: object"
      ]
     },
     "execution_count": 13,
     "metadata": {},
     "output_type": "execute_result"
    }
   ],
   "source": [
    "siena_2018.dtypes"
   ]
  },
  {
   "cell_type": "markdown",
   "id": "44c59639-eb3e-4011-a4c5-d2ae4528a82c",
   "metadata": {
    "jp-MarkdownHeadingCollapsed": true,
    "tags": []
   },
   "source": [
    "---------------\n",
    "## Mathematical operations on DataFrames\n",
    "----------------"
   ]
  },
  {
   "cell_type": "markdown",
   "id": "f5e9eaf7-b568-4909-bd46-d1bc80eda344",
   "metadata": {},
   "source": [
    "**Similar to series objects, Math operations for DataFrames are Index Aligned.**"
   ]
  },
  {
   "cell_type": "markdown",
   "id": "71552173-0fcc-4a28-b8d4-fe36ac54a342",
   "metadata": {},
   "source": [
    "Aligning will take each index entry from a particular column in the left df and match it up with every entry with the same index of the same column in the right df. This is repeated for all the overlapping columns. If any of the df has duplicate index this will cause the addition operation to behave unexpectedly i.e, it will work by process of permutating the matching indexex."
   ]
  },
  {
   "cell_type": "code",
   "execution_count": 5,
   "id": "13d98883-1e2e-4a8f-9d2e-ae2874af4e53",
   "metadata": {},
   "outputs": [],
   "source": [
    "# s1: 3 rows and 4 columns\n",
    "# s2: 2 rows and 5 columns\n",
    "s1 = pd.DataFrame(\n",
    "    np.linspace(2, 13, 12).reshape(3, 4),\n",
    "    columns=[\"a1\", \"b1\", \"c1\", \"d1\"],\n",
    "    index=[1, 2, 3],\n",
    ")\n",
    "s2 = pd.DataFrame(\n",
    "    np.linspace(2, 11, 10).reshape(2, 5),\n",
    "    columns=[\"a1\", \"b1\", \"c1\", \"d1\", \"e1\"],\n",
    "    index=[2, 2],\n",
    ")"
   ]
  },
  {
   "cell_type": "code",
   "execution_count": 6,
   "id": "bc7a2cf7-ad5e-4c7f-9961-f2f1cc99f0ad",
   "metadata": {},
   "outputs": [
    {
     "data": {
      "text/html": [
       "<div>\n",
       "<style scoped>\n",
       "    .dataframe tbody tr th:only-of-type {\n",
       "        vertical-align: middle;\n",
       "    }\n",
       "\n",
       "    .dataframe tbody tr th {\n",
       "        vertical-align: top;\n",
       "    }\n",
       "\n",
       "    .dataframe thead th {\n",
       "        text-align: right;\n",
       "    }\n",
       "</style>\n",
       "<table border=\"1\" class=\"dataframe\">\n",
       "  <thead>\n",
       "    <tr style=\"text-align: right;\">\n",
       "      <th></th>\n",
       "      <th>a1</th>\n",
       "      <th>b1</th>\n",
       "      <th>c1</th>\n",
       "      <th>d1</th>\n",
       "      <th>e1</th>\n",
       "    </tr>\n",
       "  </thead>\n",
       "  <tbody>\n",
       "    <tr>\n",
       "      <th>1</th>\n",
       "      <td>NaN</td>\n",
       "      <td>NaN</td>\n",
       "      <td>NaN</td>\n",
       "      <td>NaN</td>\n",
       "      <td>NaN</td>\n",
       "    </tr>\n",
       "    <tr>\n",
       "      <th>2</th>\n",
       "      <td>8.0</td>\n",
       "      <td>10.0</td>\n",
       "      <td>12.0</td>\n",
       "      <td>14.0</td>\n",
       "      <td>NaN</td>\n",
       "    </tr>\n",
       "    <tr>\n",
       "      <th>2</th>\n",
       "      <td>13.0</td>\n",
       "      <td>15.0</td>\n",
       "      <td>17.0</td>\n",
       "      <td>19.0</td>\n",
       "      <td>NaN</td>\n",
       "    </tr>\n",
       "    <tr>\n",
       "      <th>3</th>\n",
       "      <td>NaN</td>\n",
       "      <td>NaN</td>\n",
       "      <td>NaN</td>\n",
       "      <td>NaN</td>\n",
       "      <td>NaN</td>\n",
       "    </tr>\n",
       "  </tbody>\n",
       "</table>\n",
       "</div>"
      ],
      "text/plain": [
       "     a1    b1    c1    d1  e1\n",
       "1   NaN   NaN   NaN   NaN NaN\n",
       "2   8.0  10.0  12.0  14.0 NaN\n",
       "2  13.0  15.0  17.0  19.0 NaN\n",
       "3   NaN   NaN   NaN   NaN NaN"
      ]
     },
     "execution_count": 6,
     "metadata": {},
     "output_type": "execute_result"
    }
   ],
   "source": [
    "s1 + s2"
   ]
  },
  {
   "cell_type": "markdown",
   "id": "4dd44b6b-8145-4f7b-839e-837a07805a52",
   "metadata": {},
   "source": [
    "As we can see, only the **overlapping rows** (2nd row) **and columns** (a1 through d1) get added together. The other values are missing. We can use the **.add method instead of \"+\" and define a fill value** if we wanted, similar to what we've done in case of series objects."
   ]
  },
  {
   "cell_type": "code",
   "execution_count": 7,
   "id": "3694872b-6cad-49dc-9301-c87fba4d09bb",
   "metadata": {},
   "outputs": [
    {
     "data": {
      "text/html": [
       "<div>\n",
       "<style scoped>\n",
       "    .dataframe tbody tr th:only-of-type {\n",
       "        vertical-align: middle;\n",
       "    }\n",
       "\n",
       "    .dataframe tbody tr th {\n",
       "        vertical-align: top;\n",
       "    }\n",
       "\n",
       "    .dataframe thead th {\n",
       "        text-align: right;\n",
       "    }\n",
       "</style>\n",
       "<table border=\"1\" class=\"dataframe\">\n",
       "  <thead>\n",
       "    <tr style=\"text-align: right;\">\n",
       "      <th></th>\n",
       "      <th>a1</th>\n",
       "      <th>b1</th>\n",
       "      <th>c1</th>\n",
       "      <th>d1</th>\n",
       "      <th>e1</th>\n",
       "    </tr>\n",
       "  </thead>\n",
       "  <tbody>\n",
       "    <tr>\n",
       "      <th>1</th>\n",
       "      <td>2.0</td>\n",
       "      <td>3.0</td>\n",
       "      <td>4.0</td>\n",
       "      <td>5.0</td>\n",
       "      <td>NaN</td>\n",
       "    </tr>\n",
       "    <tr>\n",
       "      <th>2</th>\n",
       "      <td>8.0</td>\n",
       "      <td>10.0</td>\n",
       "      <td>12.0</td>\n",
       "      <td>14.0</td>\n",
       "      <td>6.0</td>\n",
       "    </tr>\n",
       "    <tr>\n",
       "      <th>2</th>\n",
       "      <td>13.0</td>\n",
       "      <td>15.0</td>\n",
       "      <td>17.0</td>\n",
       "      <td>19.0</td>\n",
       "      <td>11.0</td>\n",
       "    </tr>\n",
       "    <tr>\n",
       "      <th>3</th>\n",
       "      <td>10.0</td>\n",
       "      <td>11.0</td>\n",
       "      <td>12.0</td>\n",
       "      <td>13.0</td>\n",
       "      <td>NaN</td>\n",
       "    </tr>\n",
       "  </tbody>\n",
       "</table>\n",
       "</div>"
      ],
      "text/plain": [
       "     a1    b1    c1    d1    e1\n",
       "1   2.0   3.0   4.0   5.0   NaN\n",
       "2   8.0  10.0  12.0  14.0   6.0\n",
       "2  13.0  15.0  17.0  19.0  11.0\n",
       "3  10.0  11.0  12.0  13.0   NaN"
      ]
     },
     "execution_count": 7,
     "metadata": {},
     "output_type": "execute_result"
    }
   ],
   "source": [
    "s1.add(s2, fill_value=0)"
   ]
  },
  {
   "cell_type": "markdown",
   "id": "65b1d777-78b1-48e7-b4b4-abdf09c690af",
   "metadata": {
    "tags": []
   },
   "source": [
    "## Looping over a DataFrame (using the `for` loop)"
   ]
  },
  {
   "cell_type": "markdown",
   "id": "eae6b10b-f916-4d06-b1d6-d1e3a0b850e4",
   "metadata": {},
   "source": [
    "It is generally not a good practice and is usually frowned upon if you use for loop with your pandas dataframe. This is because, pandas built-in methods are much faster than for loop due to vectorization and you are not taking advantage of it. However some times it might be useful to use for loop in datafrmes such as, when plotting visuals."
   ]
  },
  {
   "cell_type": "markdown",
   "id": "8f3310b8-bb3b-4942-9aaf-0f6633808b0e",
   "metadata": {},
   "source": [
    "Some iterator methods that are useful while looping over a dataframe are, **.items(), .iterrows(), .itertuples()**."
   ]
  },
  {
   "cell_type": "markdown",
   "id": "0ad5a31d-dcf8-45b0-8c4b-890126218670",
   "metadata": {},
   "source": [
    "- The `.items()` method: returns a tuple of **(column name, column content as Series)**"
   ]
  },
  {
   "cell_type": "markdown",
   "id": "d0357364-dc52-4848-b7be-7c10571e8021",
   "metadata": {},
   "source": [
    "The indexes of the returned series will be the indexes of the dataframe."
   ]
  },
  {
   "cell_type": "code",
   "execution_count": 22,
   "id": "d47c32f3-92d0-45d3-a2dd-1885b1c1e20d",
   "metadata": {},
   "outputs": [
    {
     "name": "stdout",
     "output_type": "stream",
     "text": [
      "Column Name: Seq.\n",
      "Data contents of the column: \n",
      "1      1\n",
      "2      2\n",
      "3      3\n",
      "4      4\n",
      "5      5\n",
      "      ..\n",
      "40    41\n",
      "41    42\n",
      "42    43\n",
      "43    44\n",
      "44    45\n",
      "Name: Seq., Length: 44, dtype: object\n"
     ]
    }
   ],
   "source": [
    "for col_label, col_content in siena_2018.items():\n",
    "    print(f\"Column Name: {col_label}\")\n",
    "    print(f\"Data contents of the column: \\n{col_content}\")\n",
    "    break"
   ]
  },
  {
   "cell_type": "markdown",
   "id": "15d32414-b446-43e6-93bb-81fa3d1a0efe",
   "metadata": {},
   "source": [
    "- The `.iterrows()` method: returns a tuple of **(index, row content as Series)**"
   ]
  },
  {
   "cell_type": "markdown",
   "id": "af4baf40-d388-482a-a3c6-e48e90393cfd",
   "metadata": {},
   "source": [
    "The indexes of the returned series will be the associated column names."
   ]
  },
  {
   "cell_type": "code",
   "execution_count": 28,
   "id": "838b94c1-ddb1-41cc-aef8-54400693ef25",
   "metadata": {},
   "outputs": [
    {
     "name": "stdout",
     "output_type": "stream",
     "text": [
      "Row index: 1\n",
      "\n",
      "Data contents of the row: \n",
      "\n",
      "Seq.                         1\n",
      "President    George Washington\n",
      "Party              Independent\n",
      "Bg                           7\n",
      "Im                           7\n",
      "                   ...        \n",
      "DA                           2\n",
      "FPA                          2\n",
      "AM                           1\n",
      "EV                           2\n",
      "O                            1\n",
      "Name: 1, Length: 24, dtype: object\n"
     ]
    }
   ],
   "source": [
    "for idx, row_content in siena_2018.iterrows():\n",
    "    print(f\"Row index: {idx}\\n\")\n",
    "    print(f\"Data contents of the row: \\n\\n{row_content}\")\n",
    "    break"
   ]
  },
  {
   "cell_type": "markdown",
   "id": "fac6ea5c-65e9-4d0b-b889-c6f0e205dff3",
   "metadata": {},
   "source": [
    "- The `.itertuples()` method: returns the **rows as namedtuples**"
   ]
  },
  {
   "cell_type": "code",
   "execution_count": 30,
   "id": "a5f74169-0619-46d5-9d07-36eca16082ce",
   "metadata": {},
   "outputs": [
    {
     "name": "stdout",
     "output_type": "stream",
     "text": [
      "Pandas(Index=1, _1='1', President='George Washington', Party='Independent', Bg=7, Im=7, Int=1, IQ=10, L=1, WR=6, AC=2, EAb=2, LA=1, CAb=11, OA=2, PL=18, RC=1, CAp=1, HE=1, EAp=1, DA=2, FPA=2, AM=1, EV=2, O=1)\n"
     ]
    }
   ],
   "source": [
    "for row in siena_2018.itertuples():\n",
    "    print(row)\n",
    "    break"
   ]
  },
  {
   "cell_type": "markdown",
   "id": "3bca8c36-36fc-47f3-b6f6-1dfe01010b83",
   "metadata": {},
   "source": [
    "## Aggregations"
   ]
  },
  {
   "cell_type": "markdown",
   "id": "a26ff940-2110-4e73-9c02-6f66c830aa5b",
   "metadata": {},
   "source": [
    "Aggregations that are applicable to a Series object are also applicable to a DataFrame. The only difference is that the aggregations can be applied across 2 axis (i.e, index and columns)."
   ]
  },
  {
   "cell_type": "code",
   "execution_count": 35,
   "id": "1df5a1e6-1922-4930-b7dc-c5631eddae7d",
   "metadata": {},
   "outputs": [],
   "source": [
    "# let's slice out a portion from the siena_2018 df that has numerical values\n",
    "# it's good practice to use .copy() with a sliced portion of a df so that operations applied\n",
    "# on the sliced df doesn't affect the original df\n",
    "scores = siena_2018.loc[:, \"Bg\":\"O\"].copy()"
   ]
  },
  {
   "cell_type": "markdown",
   "id": "41bc2541-b28e-49a7-87bb-027b0ebffe45",
   "metadata": {
    "tags": []
   },
   "source": [
    "#### Multiple aggregations on a dataframe using the `.agg` method"
   ]
  },
  {
   "cell_type": "markdown",
   "id": "30c78c7d-a965-4a98-b12c-1e3f4a744967",
   "metadata": {},
   "source": [
    "- **Aggregate over axis 1 (apply function to each row i.e, aggregate over the columns)**"
   ]
  },
  {
   "cell_type": "code",
   "execution_count": 45,
   "id": "9509857d-fb88-4e50-9fc6-56d1e9008888",
   "metadata": {},
   "outputs": [
    {
     "data": {
      "text/html": [
       "<div>\n",
       "<style scoped>\n",
       "    .dataframe tbody tr th:only-of-type {\n",
       "        vertical-align: middle;\n",
       "    }\n",
       "\n",
       "    .dataframe tbody tr th {\n",
       "        vertical-align: top;\n",
       "    }\n",
       "\n",
       "    .dataframe thead th {\n",
       "        text-align: right;\n",
       "    }\n",
       "</style>\n",
       "<table border=\"1\" class=\"dataframe\">\n",
       "  <thead>\n",
       "    <tr style=\"text-align: right;\">\n",
       "      <th></th>\n",
       "      <th>sum</th>\n",
       "      <th>mean</th>\n",
       "    </tr>\n",
       "  </thead>\n",
       "  <tbody>\n",
       "    <tr>\n",
       "      <th>42</th>\n",
       "      <td>635.0</td>\n",
       "      <td>30.238095</td>\n",
       "    </tr>\n",
       "    <tr>\n",
       "      <th>43</th>\n",
       "      <td>331.0</td>\n",
       "      <td>15.761905</td>\n",
       "    </tr>\n",
       "    <tr>\n",
       "      <th>44</th>\n",
       "      <td>833.0</td>\n",
       "      <td>39.666667</td>\n",
       "    </tr>\n",
       "  </tbody>\n",
       "</table>\n",
       "</div>"
      ],
      "text/plain": [
       "      sum       mean\n",
       "42  635.0  30.238095\n",
       "43  331.0  15.761905\n",
       "44  833.0  39.666667"
      ]
     },
     "execution_count": 45,
     "metadata": {},
     "output_type": "execute_result"
    }
   ],
   "source": [
    "scores.agg([\"sum\", \"mean\"], axis=1).tail(3)"
   ]
  },
  {
   "cell_type": "markdown",
   "id": "f7f36593-6b5e-43f9-b9cb-5b723aae2c13",
   "metadata": {},
   "source": [
    "- **Aggregate over axis 0 (apply function to each column i.e, aggregate over the rows)**"
   ]
  },
  {
   "cell_type": "code",
   "execution_count": 43,
   "id": "49590ea5-435b-4dca-8937-3100650130b6",
   "metadata": {},
   "outputs": [
    {
     "data": {
      "text/html": [
       "<div>\n",
       "<style scoped>\n",
       "    .dataframe tbody tr th:only-of-type {\n",
       "        vertical-align: middle;\n",
       "    }\n",
       "\n",
       "    .dataframe tbody tr th {\n",
       "        vertical-align: top;\n",
       "    }\n",
       "\n",
       "    .dataframe thead th {\n",
       "        text-align: right;\n",
       "    }\n",
       "</style>\n",
       "<table border=\"1\" class=\"dataframe\">\n",
       "  <thead>\n",
       "    <tr style=\"text-align: right;\">\n",
       "      <th></th>\n",
       "      <th>Bg</th>\n",
       "      <th>Im</th>\n",
       "      <th>Int</th>\n",
       "      <th>IQ</th>\n",
       "      <th>L</th>\n",
       "      <th>WR</th>\n",
       "      <th>AC</th>\n",
       "      <th>EAb</th>\n",
       "      <th>LA</th>\n",
       "      <th>CAb</th>\n",
       "      <th>OA</th>\n",
       "      <th>PL</th>\n",
       "      <th>RC</th>\n",
       "      <th>CAp</th>\n",
       "      <th>HE</th>\n",
       "      <th>EAp</th>\n",
       "      <th>DA</th>\n",
       "      <th>FPA</th>\n",
       "      <th>AM</th>\n",
       "      <th>EV</th>\n",
       "      <th>O</th>\n",
       "    </tr>\n",
       "  </thead>\n",
       "  <tbody>\n",
       "    <tr>\n",
       "      <th>sum</th>\n",
       "      <td>968.0</td>\n",
       "      <td>957.00</td>\n",
       "      <td>990.0</td>\n",
       "      <td>990.0</td>\n",
       "      <td>990.0</td>\n",
       "      <td>953.000000</td>\n",
       "      <td>968.0</td>\n",
       "      <td>978.000000</td>\n",
       "      <td>990.0</td>\n",
       "      <td>990.0</td>\n",
       "      <td>990.0</td>\n",
       "      <td>990.0</td>\n",
       "      <td>979.00</td>\n",
       "      <td>990.0</td>\n",
       "      <td>990.0</td>\n",
       "      <td>990.0</td>\n",
       "      <td>990.0</td>\n",
       "      <td>990.0</td>\n",
       "      <td>990.0</td>\n",
       "      <td>990.0</td>\n",
       "      <td>990.0</td>\n",
       "    </tr>\n",
       "    <tr>\n",
       "      <th>mean</th>\n",
       "      <td>22.0</td>\n",
       "      <td>21.75</td>\n",
       "      <td>22.5</td>\n",
       "      <td>22.5</td>\n",
       "      <td>22.5</td>\n",
       "      <td>21.659091</td>\n",
       "      <td>22.0</td>\n",
       "      <td>22.227273</td>\n",
       "      <td>22.5</td>\n",
       "      <td>22.5</td>\n",
       "      <td>22.5</td>\n",
       "      <td>22.5</td>\n",
       "      <td>22.25</td>\n",
       "      <td>22.5</td>\n",
       "      <td>22.5</td>\n",
       "      <td>22.5</td>\n",
       "      <td>22.5</td>\n",
       "      <td>22.5</td>\n",
       "      <td>22.5</td>\n",
       "      <td>22.5</td>\n",
       "      <td>22.5</td>\n",
       "    </tr>\n",
       "  </tbody>\n",
       "</table>\n",
       "</div>"
      ],
      "text/plain": [
       "         Bg      Im    Int     IQ      L          WR     AC         EAb  \\\n",
       "sum   968.0  957.00  990.0  990.0  990.0  953.000000  968.0  978.000000   \n",
       "mean   22.0   21.75   22.5   22.5   22.5   21.659091   22.0   22.227273   \n",
       "\n",
       "         LA    CAb     OA     PL      RC    CAp     HE    EAp     DA    FPA  \\\n",
       "sum   990.0  990.0  990.0  990.0  979.00  990.0  990.0  990.0  990.0  990.0   \n",
       "mean   22.5   22.5   22.5   22.5   22.25   22.5   22.5   22.5   22.5   22.5   \n",
       "\n",
       "         AM     EV      O  \n",
       "sum   990.0  990.0  990.0  \n",
       "mean   22.5   22.5   22.5  "
      ]
     },
     "execution_count": 43,
     "metadata": {},
     "output_type": "execute_result"
    }
   ],
   "source": [
    "scores.agg([\"sum\", \"mean\"], axis=0).head(3)"
   ]
  },
  {
   "cell_type": "markdown",
   "id": "43540d82-d1e8-4e3f-9d07-7a93b0dbd825",
   "metadata": {},
   "source": [
    "- Different aggregations per column"
   ]
  },
  {
   "cell_type": "code",
   "execution_count": 44,
   "id": "19c535f8-7890-450a-955e-7820dd324446",
   "metadata": {},
   "outputs": [
    {
     "data": {
      "text/html": [
       "<div>\n",
       "<style scoped>\n",
       "    .dataframe tbody tr th:only-of-type {\n",
       "        vertical-align: middle;\n",
       "    }\n",
       "\n",
       "    .dataframe tbody tr th {\n",
       "        vertical-align: top;\n",
       "    }\n",
       "\n",
       "    .dataframe thead th {\n",
       "        text-align: right;\n",
       "    }\n",
       "</style>\n",
       "<table border=\"1\" class=\"dataframe\">\n",
       "  <thead>\n",
       "    <tr style=\"text-align: right;\">\n",
       "      <th></th>\n",
       "      <th>Int</th>\n",
       "      <th>IQ</th>\n",
       "    </tr>\n",
       "  </thead>\n",
       "  <tbody>\n",
       "    <tr>\n",
       "      <th>max</th>\n",
       "      <td>44.0</td>\n",
       "      <td>NaN</td>\n",
       "    </tr>\n",
       "    <tr>\n",
       "      <th>mean</th>\n",
       "      <td>22.5</td>\n",
       "      <td>22.5</td>\n",
       "    </tr>\n",
       "    <tr>\n",
       "      <th>min</th>\n",
       "      <td>NaN</td>\n",
       "      <td>1.0</td>\n",
       "    </tr>\n",
       "  </tbody>\n",
       "</table>\n",
       "</div>"
      ],
      "text/plain": [
       "       Int    IQ\n",
       "max   44.0   NaN\n",
       "mean  22.5  22.5\n",
       "min    NaN   1.0"
      ]
     },
     "execution_count": 44,
     "metadata": {},
     "output_type": "execute_result"
    }
   ],
   "source": [
    "scores.agg({\"Int\": [\"max\", \"mean\"], \"IQ\": [\"min\", \"mean\"]})"
   ]
  },
  {
   "cell_type": "markdown",
   "id": "a2af2ec7-6b61-4fb3-bdb2-4312b6e817c9",
   "metadata": {},
   "source": [
    "#### The `.describe` returns a dataframe with summary statistics for each numeric columns"
   ]
  },
  {
   "cell_type": "code",
   "execution_count": 57,
   "id": "33248852-a1d4-484e-b1bb-8629e9a2d82a",
   "metadata": {},
   "outputs": [
    {
     "data": {
      "text/html": [
       "<div>\n",
       "<style scoped>\n",
       "    .dataframe tbody tr th:only-of-type {\n",
       "        vertical-align: middle;\n",
       "    }\n",
       "\n",
       "    .dataframe tbody tr th {\n",
       "        vertical-align: top;\n",
       "    }\n",
       "\n",
       "    .dataframe thead th {\n",
       "        text-align: right;\n",
       "    }\n",
       "</style>\n",
       "<table border=\"1\" class=\"dataframe\">\n",
       "  <thead>\n",
       "    <tr style=\"text-align: right;\">\n",
       "      <th></th>\n",
       "      <th>Bg</th>\n",
       "      <th>Im</th>\n",
       "      <th>Int</th>\n",
       "      <th>IQ</th>\n",
       "      <th>L</th>\n",
       "      <th>WR</th>\n",
       "      <th>AC</th>\n",
       "      <th>EAb</th>\n",
       "      <th>LA</th>\n",
       "      <th>CAb</th>\n",
       "      <th>OA</th>\n",
       "      <th>PL</th>\n",
       "      <th>RC</th>\n",
       "      <th>CAp</th>\n",
       "      <th>HE</th>\n",
       "      <th>EAp</th>\n",
       "      <th>DA</th>\n",
       "      <th>FPA</th>\n",
       "      <th>AM</th>\n",
       "      <th>EV</th>\n",
       "      <th>O</th>\n",
       "    </tr>\n",
       "  </thead>\n",
       "  <tbody>\n",
       "    <tr>\n",
       "      <th>count</th>\n",
       "      <td>44.000000</td>\n",
       "      <td>44.000000</td>\n",
       "      <td>44.000000</td>\n",
       "      <td>44.000000</td>\n",
       "      <td>44.000000</td>\n",
       "      <td>44.000000</td>\n",
       "      <td>44.000000</td>\n",
       "      <td>44.000000</td>\n",
       "      <td>44.000000</td>\n",
       "      <td>44.000000</td>\n",
       "      <td>44.000000</td>\n",
       "      <td>44.000000</td>\n",
       "      <td>44.000000</td>\n",
       "      <td>44.000000</td>\n",
       "      <td>44.000000</td>\n",
       "      <td>44.000000</td>\n",
       "      <td>44.000000</td>\n",
       "      <td>44.000000</td>\n",
       "      <td>44.000000</td>\n",
       "      <td>44.000000</td>\n",
       "      <td>44.000000</td>\n",
       "    </tr>\n",
       "    <tr>\n",
       "      <th>mean</th>\n",
       "      <td>22.000000</td>\n",
       "      <td>21.750000</td>\n",
       "      <td>22.500000</td>\n",
       "      <td>22.500000</td>\n",
       "      <td>22.500000</td>\n",
       "      <td>21.659091</td>\n",
       "      <td>22.000000</td>\n",
       "      <td>22.227273</td>\n",
       "      <td>22.500000</td>\n",
       "      <td>22.500000</td>\n",
       "      <td>22.500000</td>\n",
       "      <td>22.500000</td>\n",
       "      <td>22.250000</td>\n",
       "      <td>22.500000</td>\n",
       "      <td>22.500000</td>\n",
       "      <td>22.500000</td>\n",
       "      <td>22.500000</td>\n",
       "      <td>22.500000</td>\n",
       "      <td>22.500000</td>\n",
       "      <td>22.500000</td>\n",
       "      <td>22.500000</td>\n",
       "    </tr>\n",
       "    <tr>\n",
       "      <th>std</th>\n",
       "      <td>12.409674</td>\n",
       "      <td>12.519984</td>\n",
       "      <td>12.845233</td>\n",
       "      <td>12.845233</td>\n",
       "      <td>12.845233</td>\n",
       "      <td>11.892822</td>\n",
       "      <td>12.409674</td>\n",
       "      <td>12.500909</td>\n",
       "      <td>12.845233</td>\n",
       "      <td>12.845233</td>\n",
       "      <td>12.845233</td>\n",
       "      <td>12.845233</td>\n",
       "      <td>12.519984</td>\n",
       "      <td>12.845233</td>\n",
       "      <td>12.845233</td>\n",
       "      <td>12.845233</td>\n",
       "      <td>12.845233</td>\n",
       "      <td>12.845233</td>\n",
       "      <td>12.845233</td>\n",
       "      <td>12.845233</td>\n",
       "      <td>12.845233</td>\n",
       "    </tr>\n",
       "    <tr>\n",
       "      <th>min</th>\n",
       "      <td>1.000000</td>\n",
       "      <td>1.000000</td>\n",
       "      <td>1.000000</td>\n",
       "      <td>1.000000</td>\n",
       "      <td>1.000000</td>\n",
       "      <td>1.000000</td>\n",
       "      <td>1.000000</td>\n",
       "      <td>1.000000</td>\n",
       "      <td>1.000000</td>\n",
       "      <td>1.000000</td>\n",
       "      <td>1.000000</td>\n",
       "      <td>1.000000</td>\n",
       "      <td>1.000000</td>\n",
       "      <td>1.000000</td>\n",
       "      <td>1.000000</td>\n",
       "      <td>1.000000</td>\n",
       "      <td>1.000000</td>\n",
       "      <td>1.000000</td>\n",
       "      <td>1.000000</td>\n",
       "      <td>1.000000</td>\n",
       "      <td>1.000000</td>\n",
       "    </tr>\n",
       "    <tr>\n",
       "      <th>25%</th>\n",
       "      <td>11.750000</td>\n",
       "      <td>11.000000</td>\n",
       "      <td>11.750000</td>\n",
       "      <td>11.750000</td>\n",
       "      <td>11.750000</td>\n",
       "      <td>11.750000</td>\n",
       "      <td>11.750000</td>\n",
       "      <td>11.750000</td>\n",
       "      <td>11.750000</td>\n",
       "      <td>11.750000</td>\n",
       "      <td>11.750000</td>\n",
       "      <td>11.750000</td>\n",
       "      <td>11.750000</td>\n",
       "      <td>11.750000</td>\n",
       "      <td>11.750000</td>\n",
       "      <td>11.750000</td>\n",
       "      <td>11.750000</td>\n",
       "      <td>11.750000</td>\n",
       "      <td>11.750000</td>\n",
       "      <td>11.750000</td>\n",
       "      <td>11.750000</td>\n",
       "    </tr>\n",
       "    <tr>\n",
       "      <th>50%</th>\n",
       "      <td>22.000000</td>\n",
       "      <td>21.500000</td>\n",
       "      <td>22.500000</td>\n",
       "      <td>22.500000</td>\n",
       "      <td>22.500000</td>\n",
       "      <td>22.500000</td>\n",
       "      <td>22.000000</td>\n",
       "      <td>22.500000</td>\n",
       "      <td>22.500000</td>\n",
       "      <td>22.500000</td>\n",
       "      <td>22.500000</td>\n",
       "      <td>22.500000</td>\n",
       "      <td>22.500000</td>\n",
       "      <td>22.500000</td>\n",
       "      <td>22.500000</td>\n",
       "      <td>22.500000</td>\n",
       "      <td>22.500000</td>\n",
       "      <td>22.500000</td>\n",
       "      <td>22.500000</td>\n",
       "      <td>22.500000</td>\n",
       "      <td>22.500000</td>\n",
       "    </tr>\n",
       "    <tr>\n",
       "      <th>75%</th>\n",
       "      <td>32.250000</td>\n",
       "      <td>32.250000</td>\n",
       "      <td>33.250000</td>\n",
       "      <td>33.250000</td>\n",
       "      <td>33.250000</td>\n",
       "      <td>31.250000</td>\n",
       "      <td>32.250000</td>\n",
       "      <td>32.250000</td>\n",
       "      <td>33.250000</td>\n",
       "      <td>33.250000</td>\n",
       "      <td>33.250000</td>\n",
       "      <td>33.250000</td>\n",
       "      <td>33.000000</td>\n",
       "      <td>33.250000</td>\n",
       "      <td>33.250000</td>\n",
       "      <td>33.250000</td>\n",
       "      <td>33.250000</td>\n",
       "      <td>33.250000</td>\n",
       "      <td>33.250000</td>\n",
       "      <td>33.250000</td>\n",
       "      <td>33.250000</td>\n",
       "    </tr>\n",
       "    <tr>\n",
       "      <th>max</th>\n",
       "      <td>43.000000</td>\n",
       "      <td>43.000000</td>\n",
       "      <td>44.000000</td>\n",
       "      <td>44.000000</td>\n",
       "      <td>44.000000</td>\n",
       "      <td>41.000000</td>\n",
       "      <td>43.000000</td>\n",
       "      <td>43.000000</td>\n",
       "      <td>44.000000</td>\n",
       "      <td>44.000000</td>\n",
       "      <td>44.000000</td>\n",
       "      <td>44.000000</td>\n",
       "      <td>43.000000</td>\n",
       "      <td>44.000000</td>\n",
       "      <td>44.000000</td>\n",
       "      <td>44.000000</td>\n",
       "      <td>44.000000</td>\n",
       "      <td>44.000000</td>\n",
       "      <td>44.000000</td>\n",
       "      <td>44.000000</td>\n",
       "      <td>44.000000</td>\n",
       "    </tr>\n",
       "  </tbody>\n",
       "</table>\n",
       "</div>"
      ],
      "text/plain": [
       "              Bg         Im        Int         IQ          L         WR  \\\n",
       "count  44.000000  44.000000  44.000000  44.000000  44.000000  44.000000   \n",
       "mean   22.000000  21.750000  22.500000  22.500000  22.500000  21.659091   \n",
       "std    12.409674  12.519984  12.845233  12.845233  12.845233  11.892822   \n",
       "min     1.000000   1.000000   1.000000   1.000000   1.000000   1.000000   \n",
       "25%    11.750000  11.000000  11.750000  11.750000  11.750000  11.750000   \n",
       "50%    22.000000  21.500000  22.500000  22.500000  22.500000  22.500000   \n",
       "75%    32.250000  32.250000  33.250000  33.250000  33.250000  31.250000   \n",
       "max    43.000000  43.000000  44.000000  44.000000  44.000000  41.000000   \n",
       "\n",
       "              AC        EAb         LA        CAb         OA         PL  \\\n",
       "count  44.000000  44.000000  44.000000  44.000000  44.000000  44.000000   \n",
       "mean   22.000000  22.227273  22.500000  22.500000  22.500000  22.500000   \n",
       "std    12.409674  12.500909  12.845233  12.845233  12.845233  12.845233   \n",
       "min     1.000000   1.000000   1.000000   1.000000   1.000000   1.000000   \n",
       "25%    11.750000  11.750000  11.750000  11.750000  11.750000  11.750000   \n",
       "50%    22.000000  22.500000  22.500000  22.500000  22.500000  22.500000   \n",
       "75%    32.250000  32.250000  33.250000  33.250000  33.250000  33.250000   \n",
       "max    43.000000  43.000000  44.000000  44.000000  44.000000  44.000000   \n",
       "\n",
       "              RC        CAp         HE        EAp         DA        FPA  \\\n",
       "count  44.000000  44.000000  44.000000  44.000000  44.000000  44.000000   \n",
       "mean   22.250000  22.500000  22.500000  22.500000  22.500000  22.500000   \n",
       "std    12.519984  12.845233  12.845233  12.845233  12.845233  12.845233   \n",
       "min     1.000000   1.000000   1.000000   1.000000   1.000000   1.000000   \n",
       "25%    11.750000  11.750000  11.750000  11.750000  11.750000  11.750000   \n",
       "50%    22.500000  22.500000  22.500000  22.500000  22.500000  22.500000   \n",
       "75%    33.000000  33.250000  33.250000  33.250000  33.250000  33.250000   \n",
       "max    43.000000  44.000000  44.000000  44.000000  44.000000  44.000000   \n",
       "\n",
       "              AM         EV          O  \n",
       "count  44.000000  44.000000  44.000000  \n",
       "mean   22.500000  22.500000  22.500000  \n",
       "std    12.845233  12.845233  12.845233  \n",
       "min     1.000000   1.000000   1.000000  \n",
       "25%    11.750000  11.750000  11.750000  \n",
       "50%    22.500000  22.500000  22.500000  \n",
       "75%    33.250000  33.250000  33.250000  \n",
       "max    44.000000  44.000000  44.000000  "
      ]
     },
     "execution_count": 57,
     "metadata": {},
     "output_type": "execute_result"
    }
   ],
   "source": [
    "scores.describe()"
   ]
  },
  {
   "cell_type": "markdown",
   "id": "c5a5a844-8940-4d4e-9bd2-2ae859cf223a",
   "metadata": {},
   "source": [
    "**Note:** The count row in the summary statistics has a particular meaning in pandas. It is not the count of the rows, rather it is the count of the non-missing (not na) rows."
   ]
  },
  {
   "cell_type": "code",
   "execution_count": null,
   "id": "c372109c-66d9-49e1-8521-224ced798405",
   "metadata": {},
   "outputs": [],
   "source": []
  }
 ],
 "metadata": {
  "kernelspec": {
   "display_name": "Python 3 (ipykernel)",
   "language": "python",
   "name": "python3"
  },
  "language_info": {
   "codemirror_mode": {
    "name": "ipython",
    "version": 3
   },
   "file_extension": ".py",
   "mimetype": "text/x-python",
   "name": "python",
   "nbconvert_exporter": "python",
   "pygments_lexer": "ipython3",
   "version": "3.8.13"
  }
 },
 "nbformat": 4,
 "nbformat_minor": 5
}
