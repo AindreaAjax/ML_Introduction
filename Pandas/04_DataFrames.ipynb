{
 "cells": [
  {
   "cell_type": "markdown",
   "id": "b82accdc-ce07-4595-b049-02fd0ae2ecb8",
   "metadata": {},
   "source": [
    "# Deep dive into Pandas DataFrames "
   ]
  },
  {
   "cell_type": "markdown",
   "id": "0f7aee04-6950-4f40-82b5-79a201238dcb",
   "metadata": {},
   "source": [
    "**Read the official documentation on pandas DataFrames @ https://pandas.pydata.org/pandas-docs/stable/reference/frame.html**"
   ]
  },
  {
   "cell_type": "markdown",
   "id": "4afdaeaf-3c10-459d-8a85-5e50c9f7b3dd",
   "metadata": {},
   "source": [
    "**`Note:`** The notion of **chaining functions/methods** in pandas is similar to python."
   ]
  },
  {
   "cell_type": "markdown",
   "id": "8014d978-4bc3-407d-a185-54853e5ce60e",
   "metadata": {},
   "source": [
    "DataFrames are **column oriented** unlike most common databases. And, **each column** in the dataframe is a **pandas series object**. So, any operation that can be performed on a pandas series object it can be applied to a column too."
   ]
  },
  {
   "cell_type": "markdown",
   "id": "5134bc09-afe0-4f57-af13-7537b4c0652a",
   "metadata": {},
   "source": [
    "There are **two axes** for a dataframe commonly referred to as axis 0 and 1, or the **\"index\"** (or 'rows') axis and the **\"columns\"** axis respectively. Note that, when an **operation** is applied **along axis 0**, it is applied **down the column**. Likewise, operations **along axis 1** operate **across the values in the row**."
   ]
  },
  {
   "attachments": {},
   "cell_type": "markdown",
   "id": "24ca51e2-cb7e-4663-b94d-c4ceb6840f46",
   "metadata": {
    "tags": []
   },
   "source": [
    "--------------------\n",
    "### Import Statements\n",
    "--------------------------"
   ]
  },
  {
   "cell_type": "code",
   "execution_count": 1,
   "id": "0b98e008-5cd4-4103-a41d-aa577f7b0d9e",
   "metadata": {},
   "outputs": [],
   "source": [
    "# import statements\n",
    "import numpy as np\n",
    "import pandas as pd"
   ]
  },
  {
   "cell_type": "code",
   "execution_count": 2,
   "id": "62204132-8954-4462-b1b7-fbc807c3b906",
   "metadata": {},
   "outputs": [],
   "source": [
    "# view options\n",
    "pd.set_option(\"display.max_columns\", 40)\n",
    "pd.set_option(\"display.max_rows\", 10)"
   ]
  },
  {
   "attachments": {},
   "cell_type": "markdown",
   "id": "857d3177-ade7-4dc9-beef-fb0674bf2e30",
   "metadata": {
    "tags": []
   },
   "source": [
    "---------------------------\n",
    "### Importing the data\n",
    "------------------------"
   ]
  },
  {
   "cell_type": "markdown",
   "id": "44fae79f-4a1f-491d-a430-325008019c70",
   "metadata": {},
   "source": [
    "We will be exploring a dataset from a Siena College Poll in 2018. This data has rankings of United States Presidents in various attributes. These attributes are:"
   ]
  },
  {
   "cell_type": "code",
   "execution_count": 3,
   "id": "138c973f-bff5-422c-a649-d7ebb9cc42f4",
   "metadata": {},
   "outputs": [],
   "source": [
    "# reading from github url\n",
    "\n",
    "# it is a good practice to define your index column when reading the data file.\n",
    "# it is generally frowned upon if you don't have an index column\n",
    "\n",
    "url = \"https://github.com/mattharrison/datasets/raw/master/data/siena2018-pres.csv\"\n",
    "siena_2018 = pd.read_csv(url, index_col=0)"
   ]
  },
  {
   "cell_type": "code",
   "execution_count": 4,
   "id": "cf773a6c",
   "metadata": {},
   "outputs": [
    {
     "name": "stdout",
     "output_type": "stream",
     "text": [
      "<class 'pandas.core.frame.DataFrame'>\n",
      "Int64Index: 44 entries, 1 to 44\n",
      "Data columns (total 24 columns):\n",
      " #   Column     Non-Null Count  Dtype \n",
      "---  ------     --------------  ----- \n",
      " 0   Seq.       44 non-null     object\n",
      " 1   President  44 non-null     object\n",
      " 2   Party      44 non-null     object\n",
      " 3   Bg         44 non-null     int64 \n",
      " 4   Im         44 non-null     int64 \n",
      " 5   Int        44 non-null     int64 \n",
      " 6   IQ         44 non-null     int64 \n",
      " 7   L          44 non-null     int64 \n",
      " 8   WR         44 non-null     int64 \n",
      " 9   AC         44 non-null     int64 \n",
      " 10  EAb        44 non-null     int64 \n",
      " 11  LA         44 non-null     int64 \n",
      " 12  CAb        44 non-null     int64 \n",
      " 13  OA         44 non-null     int64 \n",
      " 14  PL         44 non-null     int64 \n",
      " 15  RC         44 non-null     int64 \n",
      " 16  CAp        44 non-null     int64 \n",
      " 17  HE         44 non-null     int64 \n",
      " 18  EAp        44 non-null     int64 \n",
      " 19  DA         44 non-null     int64 \n",
      " 20  FPA        44 non-null     int64 \n",
      " 21  AM         44 non-null     int64 \n",
      " 22  EV         44 non-null     int64 \n",
      " 23  O          44 non-null     int64 \n",
      "dtypes: int64(21), object(3)\n",
      "memory usage: 8.6+ KB\n"
     ]
    }
   ],
   "source": [
    "siena_2018.info()"
   ]
  },
  {
   "cell_type": "code",
   "execution_count": 5,
   "id": "dd66ec2b-3214-4920-8bcb-1b582f44a796",
   "metadata": {},
   "outputs": [],
   "source": [
    "siena_2018_cols = \"\"\"\n",
    "• Bg = Background\n",
    "• Im = Imagination\n",
    "• Int = Integrity\n",
    "• IQ = Intelligence\n",
    "• L = Luck\n",
    "• WR = Willing to take risks\n",
    "• AC = Ability to compromise\n",
    "• EAb = Executive ability\n",
    "• LA = Leadership ability\n",
    "• CAb = Communication ability\n",
    "• OA = Overall ability\n",
    "• PL = Party leadership\n",
    "• RC = Relations with Congress\n",
    "• CAp = Court appointments\n",
    "• HE = Handling of economy\n",
    "• EAp = Executive appointments\n",
    "• DA = Domestic accomplishments\n",
    "• FPA = Foreign policy accomplishments\n",
    "• AM = Avoid crucial mistakes\n",
    "• EV = Experts’ view\n",
    "• O = Overall\n",
    "\"\"\""
   ]
  },
  {
   "attachments": {},
   "cell_type": "markdown",
   "id": "44c59639-eb3e-4011-a4c5-d2ae4528a82c",
   "metadata": {
    "jp-MarkdownHeadingCollapsed": true,
    "tags": []
   },
   "source": [
    "---------------\n",
    "## Mathematical operations on DataFrames\n",
    "----------------"
   ]
  },
  {
   "cell_type": "markdown",
   "id": "f5e9eaf7-b568-4909-bd46-d1bc80eda344",
   "metadata": {},
   "source": [
    "**Similar to series objects, Math operations for DataFrames are Index Aligned.**"
   ]
  },
  {
   "cell_type": "markdown",
   "id": "71552173-0fcc-4a28-b8d4-fe36ac54a342",
   "metadata": {},
   "source": [
    "Aligning will take each index entry from a particular column in the left df and match it up with every entry with the same index of the same column in the right df. This is repeated for all the overlapping columns. If any of the df has duplicate index this will cause the addition operation to behave unexpectedly i.e, it will work by process of permutating the matching indexex."
   ]
  },
  {
   "cell_type": "code",
   "execution_count": 6,
   "id": "13d98883-1e2e-4a8f-9d2e-ae2874af4e53",
   "metadata": {},
   "outputs": [],
   "source": [
    "# s1: 3 rows and 4 columns\n",
    "# s2: 2 rows and 5 columns\n",
    "s1 = pd.DataFrame(\n",
    "    np.linspace(2, 13, 12).reshape(3, 4),\n",
    "    columns=[\"a1\", \"b1\", \"c1\", \"d1\"],\n",
    "    index=[1, 2, 3],\n",
    ")\n",
    "s2 = pd.DataFrame(\n",
    "    np.linspace(2, 11, 10).reshape(2, 5),\n",
    "    columns=[\"a1\", \"b1\", \"c1\", \"d1\", \"e1\"],\n",
    "    index=[2, 2],\n",
    ")"
   ]
  },
  {
   "cell_type": "code",
   "execution_count": 7,
   "id": "bc7a2cf7-ad5e-4c7f-9961-f2f1cc99f0ad",
   "metadata": {},
   "outputs": [
    {
     "data": {
      "text/html": [
       "<div>\n",
       "<style scoped>\n",
       "    .dataframe tbody tr th:only-of-type {\n",
       "        vertical-align: middle;\n",
       "    }\n",
       "\n",
       "    .dataframe tbody tr th {\n",
       "        vertical-align: top;\n",
       "    }\n",
       "\n",
       "    .dataframe thead th {\n",
       "        text-align: right;\n",
       "    }\n",
       "</style>\n",
       "<table border=\"1\" class=\"dataframe\">\n",
       "  <thead>\n",
       "    <tr style=\"text-align: right;\">\n",
       "      <th></th>\n",
       "      <th>a1</th>\n",
       "      <th>b1</th>\n",
       "      <th>c1</th>\n",
       "      <th>d1</th>\n",
       "      <th>e1</th>\n",
       "    </tr>\n",
       "  </thead>\n",
       "  <tbody>\n",
       "    <tr>\n",
       "      <th>1</th>\n",
       "      <td>NaN</td>\n",
       "      <td>NaN</td>\n",
       "      <td>NaN</td>\n",
       "      <td>NaN</td>\n",
       "      <td>NaN</td>\n",
       "    </tr>\n",
       "    <tr>\n",
       "      <th>2</th>\n",
       "      <td>8.0</td>\n",
       "      <td>10.0</td>\n",
       "      <td>12.0</td>\n",
       "      <td>14.0</td>\n",
       "      <td>NaN</td>\n",
       "    </tr>\n",
       "    <tr>\n",
       "      <th>2</th>\n",
       "      <td>13.0</td>\n",
       "      <td>15.0</td>\n",
       "      <td>17.0</td>\n",
       "      <td>19.0</td>\n",
       "      <td>NaN</td>\n",
       "    </tr>\n",
       "    <tr>\n",
       "      <th>3</th>\n",
       "      <td>NaN</td>\n",
       "      <td>NaN</td>\n",
       "      <td>NaN</td>\n",
       "      <td>NaN</td>\n",
       "      <td>NaN</td>\n",
       "    </tr>\n",
       "  </tbody>\n",
       "</table>\n",
       "</div>"
      ],
      "text/plain": [
       "     a1    b1    c1    d1  e1\n",
       "1   NaN   NaN   NaN   NaN NaN\n",
       "2   8.0  10.0  12.0  14.0 NaN\n",
       "2  13.0  15.0  17.0  19.0 NaN\n",
       "3   NaN   NaN   NaN   NaN NaN"
      ]
     },
     "execution_count": 7,
     "metadata": {},
     "output_type": "execute_result"
    }
   ],
   "source": [
    "s1 + s2"
   ]
  },
  {
   "cell_type": "markdown",
   "id": "4dd44b6b-8145-4f7b-839e-837a07805a52",
   "metadata": {},
   "source": [
    "As we can see, only the **overlapping rows** (2nd row) **and columns** (a1 through d1) get added together. The other values are missing. We can use the **.add method instead of \"+\" and define a fill value** if we wanted, similar to what we've done in case of series objects."
   ]
  },
  {
   "cell_type": "code",
   "execution_count": 8,
   "id": "3694872b-6cad-49dc-9301-c87fba4d09bb",
   "metadata": {},
   "outputs": [
    {
     "data": {
      "text/html": [
       "<div>\n",
       "<style scoped>\n",
       "    .dataframe tbody tr th:only-of-type {\n",
       "        vertical-align: middle;\n",
       "    }\n",
       "\n",
       "    .dataframe tbody tr th {\n",
       "        vertical-align: top;\n",
       "    }\n",
       "\n",
       "    .dataframe thead th {\n",
       "        text-align: right;\n",
       "    }\n",
       "</style>\n",
       "<table border=\"1\" class=\"dataframe\">\n",
       "  <thead>\n",
       "    <tr style=\"text-align: right;\">\n",
       "      <th></th>\n",
       "      <th>a1</th>\n",
       "      <th>b1</th>\n",
       "      <th>c1</th>\n",
       "      <th>d1</th>\n",
       "      <th>e1</th>\n",
       "    </tr>\n",
       "  </thead>\n",
       "  <tbody>\n",
       "    <tr>\n",
       "      <th>1</th>\n",
       "      <td>2.0</td>\n",
       "      <td>3.0</td>\n",
       "      <td>4.0</td>\n",
       "      <td>5.0</td>\n",
       "      <td>NaN</td>\n",
       "    </tr>\n",
       "    <tr>\n",
       "      <th>2</th>\n",
       "      <td>8.0</td>\n",
       "      <td>10.0</td>\n",
       "      <td>12.0</td>\n",
       "      <td>14.0</td>\n",
       "      <td>6.0</td>\n",
       "    </tr>\n",
       "    <tr>\n",
       "      <th>2</th>\n",
       "      <td>13.0</td>\n",
       "      <td>15.0</td>\n",
       "      <td>17.0</td>\n",
       "      <td>19.0</td>\n",
       "      <td>11.0</td>\n",
       "    </tr>\n",
       "    <tr>\n",
       "      <th>3</th>\n",
       "      <td>10.0</td>\n",
       "      <td>11.0</td>\n",
       "      <td>12.0</td>\n",
       "      <td>13.0</td>\n",
       "      <td>NaN</td>\n",
       "    </tr>\n",
       "  </tbody>\n",
       "</table>\n",
       "</div>"
      ],
      "text/plain": [
       "     a1    b1    c1    d1    e1\n",
       "1   2.0   3.0   4.0   5.0   NaN\n",
       "2   8.0  10.0  12.0  14.0   6.0\n",
       "2  13.0  15.0  17.0  19.0  11.0\n",
       "3  10.0  11.0  12.0  13.0   NaN"
      ]
     },
     "execution_count": 8,
     "metadata": {},
     "output_type": "execute_result"
    }
   ],
   "source": [
    "s1.add(s2, fill_value=0)"
   ]
  },
  {
   "attachments": {},
   "cell_type": "markdown",
   "id": "65b1d777-78b1-48e7-b4b4-abdf09c690af",
   "metadata": {
    "tags": []
   },
   "source": [
    "---------------------------------------------------\n",
    "## Looping over a DataFrame (using the `for` loop)\n",
    "-----------------------------------------------------"
   ]
  },
  {
   "cell_type": "markdown",
   "id": "eae6b10b-f916-4d06-b1d6-d1e3a0b850e4",
   "metadata": {},
   "source": [
    "It is generally not a good practice and is usually frowned upon if you use for loop with your pandas dataframe. This is because, pandas built-in methods are much faster than for loop due to vectorization and you are not taking advantage of it. However some times it might be useful to use for loop in datafrmes such as, when plotting visuals."
   ]
  },
  {
   "cell_type": "markdown",
   "id": "8f3310b8-bb3b-4942-9aaf-0f6633808b0e",
   "metadata": {},
   "source": [
    "Some iterator methods that are useful while looping over a dataframe are, **.items(), .iterrows(), .itertuples()**."
   ]
  },
  {
   "cell_type": "markdown",
   "id": "0ad5a31d-dcf8-45b0-8c4b-890126218670",
   "metadata": {},
   "source": [
    "- The `.items()` method: returns a tuple of **(column name, column content as Series)**"
   ]
  },
  {
   "cell_type": "markdown",
   "id": "d0357364-dc52-4848-b7be-7c10571e8021",
   "metadata": {},
   "source": [
    "The indexes of the returned series will be the indexes of the dataframe."
   ]
  },
  {
   "cell_type": "code",
   "execution_count": 9,
   "id": "d47c32f3-92d0-45d3-a2dd-1885b1c1e20d",
   "metadata": {},
   "outputs": [
    {
     "name": "stdout",
     "output_type": "stream",
     "text": [
      "Column Name: Seq.\n",
      "Data contents of the column: \n",
      "1      1\n",
      "2      2\n",
      "3      3\n",
      "4      4\n",
      "5      5\n",
      "      ..\n",
      "40    41\n",
      "41    42\n",
      "42    43\n",
      "43    44\n",
      "44    45\n",
      "Name: Seq., Length: 44, dtype: object\n"
     ]
    }
   ],
   "source": [
    "for col_label, col_content in siena_2018.items():\n",
    "    print(f\"Column Name: {col_label}\")\n",
    "    print(f\"Data contents of the column: \\n{col_content}\")\n",
    "    break"
   ]
  },
  {
   "cell_type": "markdown",
   "id": "15d32414-b446-43e6-93bb-81fa3d1a0efe",
   "metadata": {},
   "source": [
    "- The `.iterrows()` method: returns a tuple of **(index, row content as Series)**"
   ]
  },
  {
   "cell_type": "markdown",
   "id": "af4baf40-d388-482a-a3c6-e48e90393cfd",
   "metadata": {},
   "source": [
    "The indexes of the returned series will be the associated column names."
   ]
  },
  {
   "cell_type": "code",
   "execution_count": 10,
   "id": "838b94c1-ddb1-41cc-aef8-54400693ef25",
   "metadata": {},
   "outputs": [
    {
     "name": "stdout",
     "output_type": "stream",
     "text": [
      "Row index: 1\n",
      "\n",
      "Data contents of the row: \n",
      "\n",
      "Seq.                         1\n",
      "President    George Washington\n",
      "Party              Independent\n",
      "Bg                           7\n",
      "Im                           7\n",
      "                   ...        \n",
      "DA                           2\n",
      "FPA                          2\n",
      "AM                           1\n",
      "EV                           2\n",
      "O                            1\n",
      "Name: 1, Length: 24, dtype: object\n"
     ]
    }
   ],
   "source": [
    "for idx, row_content in siena_2018.iterrows():\n",
    "    print(f\"Row index: {idx}\\n\")\n",
    "    print(f\"Data contents of the row: \\n\\n{row_content}\")\n",
    "    break"
   ]
  },
  {
   "cell_type": "markdown",
   "id": "fac6ea5c-65e9-4d0b-b889-c6f0e205dff3",
   "metadata": {},
   "source": [
    "- The `.itertuples()` method: returns the **rows as namedtuples**"
   ]
  },
  {
   "cell_type": "code",
   "execution_count": 11,
   "id": "a5f74169-0619-46d5-9d07-36eca16082ce",
   "metadata": {},
   "outputs": [
    {
     "name": "stdout",
     "output_type": "stream",
     "text": [
      "Pandas(Index=1, _1='1', President='George Washington', Party='Independent', Bg=7, Im=7, Int=1, IQ=10, L=1, WR=6, AC=2, EAb=2, LA=1, CAb=11, OA=2, PL=18, RC=1, CAp=1, HE=1, EAp=1, DA=2, FPA=2, AM=1, EV=2, O=1)\n"
     ]
    }
   ],
   "source": [
    "for row in siena_2018.itertuples():\n",
    "    print(row)\n",
    "    break"
   ]
  },
  {
   "attachments": {},
   "cell_type": "markdown",
   "id": "3bca8c36-36fc-47f3-b6f6-1dfe01010b83",
   "metadata": {},
   "source": [
    "--------------------------------\n",
    "## Aggregations\n",
    "--------------------------"
   ]
  },
  {
   "cell_type": "markdown",
   "id": "a26ff940-2110-4e73-9c02-6f66c830aa5b",
   "metadata": {},
   "source": [
    "Aggregations that are applicable to a Series object are also applicable to a DataFrame. The only difference is that the aggregations can be applied across 2 axis (i.e, index and columns)."
   ]
  },
  {
   "cell_type": "code",
   "execution_count": 12,
   "id": "1df5a1e6-1922-4930-b7dc-c5631eddae7d",
   "metadata": {},
   "outputs": [],
   "source": [
    "# let's slice out a portion from the siena_2018 df that has numerical values it's good practice to use .copy()\n",
    "# while slicing a df so that operations applied on the sliced df doesn't affect the original df\n",
    "scores = siena_2018.loc[:, \"Bg\":\"O\"].copy()"
   ]
  },
  {
   "cell_type": "markdown",
   "id": "41bc2541-b28e-49a7-87bb-027b0ebffe45",
   "metadata": {
    "tags": []
   },
   "source": [
    "#### Multiple aggregations on a dataframe using the `.agg` method"
   ]
  },
  {
   "attachments": {},
   "cell_type": "markdown",
   "id": "30c78c7d-a965-4a98-b12c-1e3f4a744967",
   "metadata": {},
   "source": [
    "- **Aggregate over axis 1 (apply function to each row i.e, aggregate across the columns)**"
   ]
  },
  {
   "cell_type": "code",
   "execution_count": 13,
   "id": "9509857d-fb88-4e50-9fc6-56d1e9008888",
   "metadata": {},
   "outputs": [
    {
     "data": {
      "text/html": [
       "<div>\n",
       "<style scoped>\n",
       "    .dataframe tbody tr th:only-of-type {\n",
       "        vertical-align: middle;\n",
       "    }\n",
       "\n",
       "    .dataframe tbody tr th {\n",
       "        vertical-align: top;\n",
       "    }\n",
       "\n",
       "    .dataframe thead th {\n",
       "        text-align: right;\n",
       "    }\n",
       "</style>\n",
       "<table border=\"1\" class=\"dataframe\">\n",
       "  <thead>\n",
       "    <tr style=\"text-align: right;\">\n",
       "      <th></th>\n",
       "      <th>sum</th>\n",
       "      <th>mean</th>\n",
       "    </tr>\n",
       "  </thead>\n",
       "  <tbody>\n",
       "    <tr>\n",
       "      <th>42</th>\n",
       "      <td>635.0</td>\n",
       "      <td>30.238095</td>\n",
       "    </tr>\n",
       "    <tr>\n",
       "      <th>43</th>\n",
       "      <td>331.0</td>\n",
       "      <td>15.761905</td>\n",
       "    </tr>\n",
       "    <tr>\n",
       "      <th>44</th>\n",
       "      <td>833.0</td>\n",
       "      <td>39.666667</td>\n",
       "    </tr>\n",
       "  </tbody>\n",
       "</table>\n",
       "</div>"
      ],
      "text/plain": [
       "      sum       mean\n",
       "42  635.0  30.238095\n",
       "43  331.0  15.761905\n",
       "44  833.0  39.666667"
      ]
     },
     "execution_count": 13,
     "metadata": {},
     "output_type": "execute_result"
    }
   ],
   "source": [
    "scores.agg([\"sum\", \"mean\"], axis=1).tail(3)"
   ]
  },
  {
   "attachments": {},
   "cell_type": "markdown",
   "id": "f7f36593-6b5e-43f9-b9cb-5b723aae2c13",
   "metadata": {},
   "source": [
    "- **Aggregate over axis 0 (apply function to each column i.e, aggregate across the rows)**"
   ]
  },
  {
   "cell_type": "code",
   "execution_count": 14,
   "id": "49590ea5-435b-4dca-8937-3100650130b6",
   "metadata": {},
   "outputs": [
    {
     "data": {
      "text/html": [
       "<div>\n",
       "<style scoped>\n",
       "    .dataframe tbody tr th:only-of-type {\n",
       "        vertical-align: middle;\n",
       "    }\n",
       "\n",
       "    .dataframe tbody tr th {\n",
       "        vertical-align: top;\n",
       "    }\n",
       "\n",
       "    .dataframe thead th {\n",
       "        text-align: right;\n",
       "    }\n",
       "</style>\n",
       "<table border=\"1\" class=\"dataframe\">\n",
       "  <thead>\n",
       "    <tr style=\"text-align: right;\">\n",
       "      <th></th>\n",
       "      <th>Bg</th>\n",
       "      <th>Im</th>\n",
       "      <th>Int</th>\n",
       "      <th>IQ</th>\n",
       "      <th>L</th>\n",
       "      <th>WR</th>\n",
       "      <th>AC</th>\n",
       "      <th>EAb</th>\n",
       "      <th>LA</th>\n",
       "      <th>CAb</th>\n",
       "      <th>OA</th>\n",
       "      <th>PL</th>\n",
       "      <th>RC</th>\n",
       "      <th>CAp</th>\n",
       "      <th>HE</th>\n",
       "      <th>EAp</th>\n",
       "      <th>DA</th>\n",
       "      <th>FPA</th>\n",
       "      <th>AM</th>\n",
       "      <th>EV</th>\n",
       "      <th>O</th>\n",
       "    </tr>\n",
       "  </thead>\n",
       "  <tbody>\n",
       "    <tr>\n",
       "      <th>sum</th>\n",
       "      <td>968.0</td>\n",
       "      <td>957.00</td>\n",
       "      <td>990.0</td>\n",
       "      <td>990.0</td>\n",
       "      <td>990.0</td>\n",
       "      <td>953.000000</td>\n",
       "      <td>968.0</td>\n",
       "      <td>978.000000</td>\n",
       "      <td>990.0</td>\n",
       "      <td>990.0</td>\n",
       "      <td>990.0</td>\n",
       "      <td>990.0</td>\n",
       "      <td>979.00</td>\n",
       "      <td>990.0</td>\n",
       "      <td>990.0</td>\n",
       "      <td>990.0</td>\n",
       "      <td>990.0</td>\n",
       "      <td>990.0</td>\n",
       "      <td>990.0</td>\n",
       "      <td>990.0</td>\n",
       "      <td>990.0</td>\n",
       "    </tr>\n",
       "    <tr>\n",
       "      <th>mean</th>\n",
       "      <td>22.0</td>\n",
       "      <td>21.75</td>\n",
       "      <td>22.5</td>\n",
       "      <td>22.5</td>\n",
       "      <td>22.5</td>\n",
       "      <td>21.659091</td>\n",
       "      <td>22.0</td>\n",
       "      <td>22.227273</td>\n",
       "      <td>22.5</td>\n",
       "      <td>22.5</td>\n",
       "      <td>22.5</td>\n",
       "      <td>22.5</td>\n",
       "      <td>22.25</td>\n",
       "      <td>22.5</td>\n",
       "      <td>22.5</td>\n",
       "      <td>22.5</td>\n",
       "      <td>22.5</td>\n",
       "      <td>22.5</td>\n",
       "      <td>22.5</td>\n",
       "      <td>22.5</td>\n",
       "      <td>22.5</td>\n",
       "    </tr>\n",
       "  </tbody>\n",
       "</table>\n",
       "</div>"
      ],
      "text/plain": [
       "         Bg      Im    Int     IQ      L          WR     AC         EAb  \\\n",
       "sum   968.0  957.00  990.0  990.0  990.0  953.000000  968.0  978.000000   \n",
       "mean   22.0   21.75   22.5   22.5   22.5   21.659091   22.0   22.227273   \n",
       "\n",
       "         LA    CAb     OA     PL      RC    CAp     HE    EAp     DA    FPA  \\\n",
       "sum   990.0  990.0  990.0  990.0  979.00  990.0  990.0  990.0  990.0  990.0   \n",
       "mean   22.5   22.5   22.5   22.5   22.25   22.5   22.5   22.5   22.5   22.5   \n",
       "\n",
       "         AM     EV      O  \n",
       "sum   990.0  990.0  990.0  \n",
       "mean   22.5   22.5   22.5  "
      ]
     },
     "execution_count": 14,
     "metadata": {},
     "output_type": "execute_result"
    }
   ],
   "source": [
    "scores.agg([\"sum\", \"mean\"], axis=0).head(3)"
   ]
  },
  {
   "cell_type": "markdown",
   "id": "43540d82-d1e8-4e3f-9d07-7a93b0dbd825",
   "metadata": {},
   "source": [
    "- Different aggregations per column"
   ]
  },
  {
   "cell_type": "code",
   "execution_count": 15,
   "id": "19c535f8-7890-450a-955e-7820dd324446",
   "metadata": {},
   "outputs": [
    {
     "data": {
      "text/html": [
       "<div>\n",
       "<style scoped>\n",
       "    .dataframe tbody tr th:only-of-type {\n",
       "        vertical-align: middle;\n",
       "    }\n",
       "\n",
       "    .dataframe tbody tr th {\n",
       "        vertical-align: top;\n",
       "    }\n",
       "\n",
       "    .dataframe thead th {\n",
       "        text-align: right;\n",
       "    }\n",
       "</style>\n",
       "<table border=\"1\" class=\"dataframe\">\n",
       "  <thead>\n",
       "    <tr style=\"text-align: right;\">\n",
       "      <th></th>\n",
       "      <th>Int</th>\n",
       "      <th>IQ</th>\n",
       "    </tr>\n",
       "  </thead>\n",
       "  <tbody>\n",
       "    <tr>\n",
       "      <th>max</th>\n",
       "      <td>44.0</td>\n",
       "      <td>NaN</td>\n",
       "    </tr>\n",
       "    <tr>\n",
       "      <th>mean</th>\n",
       "      <td>22.5</td>\n",
       "      <td>22.5</td>\n",
       "    </tr>\n",
       "    <tr>\n",
       "      <th>min</th>\n",
       "      <td>NaN</td>\n",
       "      <td>1.0</td>\n",
       "    </tr>\n",
       "  </tbody>\n",
       "</table>\n",
       "</div>"
      ],
      "text/plain": [
       "       Int    IQ\n",
       "max   44.0   NaN\n",
       "mean  22.5  22.5\n",
       "min    NaN   1.0"
      ]
     },
     "execution_count": 15,
     "metadata": {},
     "output_type": "execute_result"
    }
   ],
   "source": [
    "scores.agg({\"Int\": [\"max\", \"mean\"], \"IQ\": [\"min\", \"mean\"]})"
   ]
  },
  {
   "cell_type": "markdown",
   "id": "a2af2ec7-6b61-4fb3-bdb2-4312b6e817c9",
   "metadata": {},
   "source": [
    "#### The `.describe` returns a dataframe with summary statistics for each numeric columns"
   ]
  },
  {
   "cell_type": "code",
   "execution_count": 16,
   "id": "33248852-a1d4-484e-b1bb-8629e9a2d82a",
   "metadata": {},
   "outputs": [
    {
     "data": {
      "text/html": [
       "<div>\n",
       "<style scoped>\n",
       "    .dataframe tbody tr th:only-of-type {\n",
       "        vertical-align: middle;\n",
       "    }\n",
       "\n",
       "    .dataframe tbody tr th {\n",
       "        vertical-align: top;\n",
       "    }\n",
       "\n",
       "    .dataframe thead th {\n",
       "        text-align: right;\n",
       "    }\n",
       "</style>\n",
       "<table border=\"1\" class=\"dataframe\">\n",
       "  <thead>\n",
       "    <tr style=\"text-align: right;\">\n",
       "      <th></th>\n",
       "      <th>Bg</th>\n",
       "      <th>Im</th>\n",
       "      <th>Int</th>\n",
       "      <th>IQ</th>\n",
       "      <th>L</th>\n",
       "      <th>WR</th>\n",
       "      <th>AC</th>\n",
       "      <th>EAb</th>\n",
       "      <th>LA</th>\n",
       "      <th>CAb</th>\n",
       "      <th>OA</th>\n",
       "      <th>PL</th>\n",
       "      <th>RC</th>\n",
       "      <th>CAp</th>\n",
       "      <th>HE</th>\n",
       "      <th>EAp</th>\n",
       "      <th>DA</th>\n",
       "      <th>FPA</th>\n",
       "      <th>AM</th>\n",
       "      <th>EV</th>\n",
       "      <th>O</th>\n",
       "    </tr>\n",
       "  </thead>\n",
       "  <tbody>\n",
       "    <tr>\n",
       "      <th>count</th>\n",
       "      <td>44.000000</td>\n",
       "      <td>44.000000</td>\n",
       "      <td>44.000000</td>\n",
       "      <td>44.000000</td>\n",
       "      <td>44.000000</td>\n",
       "      <td>44.000000</td>\n",
       "      <td>44.000000</td>\n",
       "      <td>44.000000</td>\n",
       "      <td>44.000000</td>\n",
       "      <td>44.000000</td>\n",
       "      <td>44.000000</td>\n",
       "      <td>44.000000</td>\n",
       "      <td>44.000000</td>\n",
       "      <td>44.000000</td>\n",
       "      <td>44.000000</td>\n",
       "      <td>44.000000</td>\n",
       "      <td>44.000000</td>\n",
       "      <td>44.000000</td>\n",
       "      <td>44.000000</td>\n",
       "      <td>44.000000</td>\n",
       "      <td>44.000000</td>\n",
       "    </tr>\n",
       "    <tr>\n",
       "      <th>mean</th>\n",
       "      <td>22.000000</td>\n",
       "      <td>21.750000</td>\n",
       "      <td>22.500000</td>\n",
       "      <td>22.500000</td>\n",
       "      <td>22.500000</td>\n",
       "      <td>21.659091</td>\n",
       "      <td>22.000000</td>\n",
       "      <td>22.227273</td>\n",
       "      <td>22.500000</td>\n",
       "      <td>22.500000</td>\n",
       "      <td>22.500000</td>\n",
       "      <td>22.500000</td>\n",
       "      <td>22.250000</td>\n",
       "      <td>22.500000</td>\n",
       "      <td>22.500000</td>\n",
       "      <td>22.500000</td>\n",
       "      <td>22.500000</td>\n",
       "      <td>22.500000</td>\n",
       "      <td>22.500000</td>\n",
       "      <td>22.500000</td>\n",
       "      <td>22.500000</td>\n",
       "    </tr>\n",
       "    <tr>\n",
       "      <th>std</th>\n",
       "      <td>12.409674</td>\n",
       "      <td>12.519984</td>\n",
       "      <td>12.845233</td>\n",
       "      <td>12.845233</td>\n",
       "      <td>12.845233</td>\n",
       "      <td>11.892822</td>\n",
       "      <td>12.409674</td>\n",
       "      <td>12.500909</td>\n",
       "      <td>12.845233</td>\n",
       "      <td>12.845233</td>\n",
       "      <td>12.845233</td>\n",
       "      <td>12.845233</td>\n",
       "      <td>12.519984</td>\n",
       "      <td>12.845233</td>\n",
       "      <td>12.845233</td>\n",
       "      <td>12.845233</td>\n",
       "      <td>12.845233</td>\n",
       "      <td>12.845233</td>\n",
       "      <td>12.845233</td>\n",
       "      <td>12.845233</td>\n",
       "      <td>12.845233</td>\n",
       "    </tr>\n",
       "    <tr>\n",
       "      <th>min</th>\n",
       "      <td>1.000000</td>\n",
       "      <td>1.000000</td>\n",
       "      <td>1.000000</td>\n",
       "      <td>1.000000</td>\n",
       "      <td>1.000000</td>\n",
       "      <td>1.000000</td>\n",
       "      <td>1.000000</td>\n",
       "      <td>1.000000</td>\n",
       "      <td>1.000000</td>\n",
       "      <td>1.000000</td>\n",
       "      <td>1.000000</td>\n",
       "      <td>1.000000</td>\n",
       "      <td>1.000000</td>\n",
       "      <td>1.000000</td>\n",
       "      <td>1.000000</td>\n",
       "      <td>1.000000</td>\n",
       "      <td>1.000000</td>\n",
       "      <td>1.000000</td>\n",
       "      <td>1.000000</td>\n",
       "      <td>1.000000</td>\n",
       "      <td>1.000000</td>\n",
       "    </tr>\n",
       "    <tr>\n",
       "      <th>25%</th>\n",
       "      <td>11.750000</td>\n",
       "      <td>11.000000</td>\n",
       "      <td>11.750000</td>\n",
       "      <td>11.750000</td>\n",
       "      <td>11.750000</td>\n",
       "      <td>11.750000</td>\n",
       "      <td>11.750000</td>\n",
       "      <td>11.750000</td>\n",
       "      <td>11.750000</td>\n",
       "      <td>11.750000</td>\n",
       "      <td>11.750000</td>\n",
       "      <td>11.750000</td>\n",
       "      <td>11.750000</td>\n",
       "      <td>11.750000</td>\n",
       "      <td>11.750000</td>\n",
       "      <td>11.750000</td>\n",
       "      <td>11.750000</td>\n",
       "      <td>11.750000</td>\n",
       "      <td>11.750000</td>\n",
       "      <td>11.750000</td>\n",
       "      <td>11.750000</td>\n",
       "    </tr>\n",
       "    <tr>\n",
       "      <th>50%</th>\n",
       "      <td>22.000000</td>\n",
       "      <td>21.500000</td>\n",
       "      <td>22.500000</td>\n",
       "      <td>22.500000</td>\n",
       "      <td>22.500000</td>\n",
       "      <td>22.500000</td>\n",
       "      <td>22.000000</td>\n",
       "      <td>22.500000</td>\n",
       "      <td>22.500000</td>\n",
       "      <td>22.500000</td>\n",
       "      <td>22.500000</td>\n",
       "      <td>22.500000</td>\n",
       "      <td>22.500000</td>\n",
       "      <td>22.500000</td>\n",
       "      <td>22.500000</td>\n",
       "      <td>22.500000</td>\n",
       "      <td>22.500000</td>\n",
       "      <td>22.500000</td>\n",
       "      <td>22.500000</td>\n",
       "      <td>22.500000</td>\n",
       "      <td>22.500000</td>\n",
       "    </tr>\n",
       "    <tr>\n",
       "      <th>75%</th>\n",
       "      <td>32.250000</td>\n",
       "      <td>32.250000</td>\n",
       "      <td>33.250000</td>\n",
       "      <td>33.250000</td>\n",
       "      <td>33.250000</td>\n",
       "      <td>31.250000</td>\n",
       "      <td>32.250000</td>\n",
       "      <td>32.250000</td>\n",
       "      <td>33.250000</td>\n",
       "      <td>33.250000</td>\n",
       "      <td>33.250000</td>\n",
       "      <td>33.250000</td>\n",
       "      <td>33.000000</td>\n",
       "      <td>33.250000</td>\n",
       "      <td>33.250000</td>\n",
       "      <td>33.250000</td>\n",
       "      <td>33.250000</td>\n",
       "      <td>33.250000</td>\n",
       "      <td>33.250000</td>\n",
       "      <td>33.250000</td>\n",
       "      <td>33.250000</td>\n",
       "    </tr>\n",
       "    <tr>\n",
       "      <th>max</th>\n",
       "      <td>43.000000</td>\n",
       "      <td>43.000000</td>\n",
       "      <td>44.000000</td>\n",
       "      <td>44.000000</td>\n",
       "      <td>44.000000</td>\n",
       "      <td>41.000000</td>\n",
       "      <td>43.000000</td>\n",
       "      <td>43.000000</td>\n",
       "      <td>44.000000</td>\n",
       "      <td>44.000000</td>\n",
       "      <td>44.000000</td>\n",
       "      <td>44.000000</td>\n",
       "      <td>43.000000</td>\n",
       "      <td>44.000000</td>\n",
       "      <td>44.000000</td>\n",
       "      <td>44.000000</td>\n",
       "      <td>44.000000</td>\n",
       "      <td>44.000000</td>\n",
       "      <td>44.000000</td>\n",
       "      <td>44.000000</td>\n",
       "      <td>44.000000</td>\n",
       "    </tr>\n",
       "  </tbody>\n",
       "</table>\n",
       "</div>"
      ],
      "text/plain": [
       "              Bg         Im        Int         IQ          L         WR  \\\n",
       "count  44.000000  44.000000  44.000000  44.000000  44.000000  44.000000   \n",
       "mean   22.000000  21.750000  22.500000  22.500000  22.500000  21.659091   \n",
       "std    12.409674  12.519984  12.845233  12.845233  12.845233  11.892822   \n",
       "min     1.000000   1.000000   1.000000   1.000000   1.000000   1.000000   \n",
       "25%    11.750000  11.000000  11.750000  11.750000  11.750000  11.750000   \n",
       "50%    22.000000  21.500000  22.500000  22.500000  22.500000  22.500000   \n",
       "75%    32.250000  32.250000  33.250000  33.250000  33.250000  31.250000   \n",
       "max    43.000000  43.000000  44.000000  44.000000  44.000000  41.000000   \n",
       "\n",
       "              AC        EAb         LA        CAb         OA         PL  \\\n",
       "count  44.000000  44.000000  44.000000  44.000000  44.000000  44.000000   \n",
       "mean   22.000000  22.227273  22.500000  22.500000  22.500000  22.500000   \n",
       "std    12.409674  12.500909  12.845233  12.845233  12.845233  12.845233   \n",
       "min     1.000000   1.000000   1.000000   1.000000   1.000000   1.000000   \n",
       "25%    11.750000  11.750000  11.750000  11.750000  11.750000  11.750000   \n",
       "50%    22.000000  22.500000  22.500000  22.500000  22.500000  22.500000   \n",
       "75%    32.250000  32.250000  33.250000  33.250000  33.250000  33.250000   \n",
       "max    43.000000  43.000000  44.000000  44.000000  44.000000  44.000000   \n",
       "\n",
       "              RC        CAp         HE        EAp         DA        FPA  \\\n",
       "count  44.000000  44.000000  44.000000  44.000000  44.000000  44.000000   \n",
       "mean   22.250000  22.500000  22.500000  22.500000  22.500000  22.500000   \n",
       "std    12.519984  12.845233  12.845233  12.845233  12.845233  12.845233   \n",
       "min     1.000000   1.000000   1.000000   1.000000   1.000000   1.000000   \n",
       "25%    11.750000  11.750000  11.750000  11.750000  11.750000  11.750000   \n",
       "50%    22.500000  22.500000  22.500000  22.500000  22.500000  22.500000   \n",
       "75%    33.000000  33.250000  33.250000  33.250000  33.250000  33.250000   \n",
       "max    43.000000  44.000000  44.000000  44.000000  44.000000  44.000000   \n",
       "\n",
       "              AM         EV          O  \n",
       "count  44.000000  44.000000  44.000000  \n",
       "mean   22.500000  22.500000  22.500000  \n",
       "std    12.845233  12.845233  12.845233  \n",
       "min     1.000000   1.000000   1.000000  \n",
       "25%    11.750000  11.750000  11.750000  \n",
       "50%    22.500000  22.500000  22.500000  \n",
       "75%    33.250000  33.250000  33.250000  \n",
       "max    44.000000  44.000000  44.000000  "
      ]
     },
     "execution_count": 16,
     "metadata": {},
     "output_type": "execute_result"
    }
   ],
   "source": [
    "scores.describe()"
   ]
  },
  {
   "cell_type": "markdown",
   "id": "c5a5a844-8940-4d4e-9bd2-2ae859cf223a",
   "metadata": {},
   "source": [
    "**Note:** The count row in the summary statistics has a particular meaning in pandas. It is not the count of the rows, rather it is the count of the non-missing (not na) rows."
   ]
  },
  {
   "cell_type": "markdown",
   "id": "f41e5cb8-7758-40ec-961b-25cd23955059",
   "metadata": {
    "tags": []
   },
   "source": [
    "---------------------\n",
    "## Casting Datatypes and Renaming the columns\n",
    "-----------------------"
   ]
  },
  {
   "attachments": {},
   "cell_type": "markdown",
   "id": "227232e6",
   "metadata": {},
   "source": [
    "**Note: This (casting datatypes and renaming columns) should be the first step whenever we load in a dataset. Also, we should write these commands as functions, allowing us to reuse the code in other notebooks if necessary.**"
   ]
  },
  {
   "attachments": {},
   "cell_type": "markdown",
   "id": "e07ba4d2",
   "metadata": {},
   "source": [
    "### Renaming the columns with proper full form"
   ]
  },
  {
   "cell_type": "markdown",
   "id": "d91f6e05",
   "metadata": {},
   "source": [
    "- Getting the full form of each column from the \"siena_2018_cols\" string"
   ]
  },
  {
   "cell_type": "code",
   "execution_count": 17,
   "id": "6d6779cf",
   "metadata": {},
   "outputs": [],
   "source": [
    "# we want to write a code to generate a python dictionary from the above multiline string named \"siena_2018_cols\", which is\n",
    "# formatted as short form = long form. This dictionary will be used to rename the columns of the dataframe \"siena_2018\"\n",
    "\n",
    "# first we create a list of the form, [[short, full], .....]\n",
    "cols_list = [\n",
    "    col.strip().split(\"=\") for col in siena_2018_cols.strip().split(sep=\"•\")[1:]\n",
    "]\n",
    "\n",
    "# we will replace the spaces in the full form with underscores (_)\n",
    "siena_2018_cols_dict = {\n",
    "    col_prev.strip(): col_full.strip().replace(\" \", \"_\")\n",
    "    for col_prev, col_full in cols_list\n",
    "}"
   ]
  },
  {
   "cell_type": "markdown",
   "id": "f271478e",
   "metadata": {},
   "source": [
    "**Note:** When such unpacking pattern is used with the for loop in a nested list, it will start to unpack from the most inner layer and not the outer one."
   ]
  },
  {
   "cell_type": "markdown",
   "id": "7b4f1a52",
   "metadata": {},
   "source": [
    "#### The `.rename()` method"
   ]
  },
  {
   "cell_type": "code",
   "execution_count": 18,
   "id": "a68ac9b3",
   "metadata": {},
   "outputs": [],
   "source": [
    "# inplace = True is frowned upon\n",
    "siena_2018 = siena_2018.rename(columns={\"Seq.\": \"Seq\"}).rename(\n",
    "    columns=siena_2018_cols_dict\n",
    ")"
   ]
  },
  {
   "cell_type": "code",
   "execution_count": 19,
   "id": "a674d0cc",
   "metadata": {},
   "outputs": [
    {
     "data": {
      "text/html": [
       "<div>\n",
       "<style scoped>\n",
       "    .dataframe tbody tr th:only-of-type {\n",
       "        vertical-align: middle;\n",
       "    }\n",
       "\n",
       "    .dataframe tbody tr th {\n",
       "        vertical-align: top;\n",
       "    }\n",
       "\n",
       "    .dataframe thead th {\n",
       "        text-align: right;\n",
       "    }\n",
       "</style>\n",
       "<table border=\"1\" class=\"dataframe\">\n",
       "  <thead>\n",
       "    <tr style=\"text-align: right;\">\n",
       "      <th></th>\n",
       "      <th>Seq</th>\n",
       "      <th>President</th>\n",
       "      <th>Party</th>\n",
       "      <th>Background</th>\n",
       "      <th>Imagination</th>\n",
       "      <th>Integrity</th>\n",
       "      <th>Intelligence</th>\n",
       "      <th>Luck</th>\n",
       "      <th>Willing_to_take_risks</th>\n",
       "      <th>Ability_to_compromise</th>\n",
       "      <th>Executive_ability</th>\n",
       "      <th>Leadership_ability</th>\n",
       "      <th>Communication_ability</th>\n",
       "      <th>Overall_ability</th>\n",
       "      <th>Party_leadership</th>\n",
       "      <th>Relations_with_Congress</th>\n",
       "      <th>Court_appointments</th>\n",
       "      <th>Handling_of_economy</th>\n",
       "      <th>Executive_appointments</th>\n",
       "      <th>Domestic_accomplishments</th>\n",
       "      <th>Foreign_policy_accomplishments</th>\n",
       "      <th>Avoid_crucial_mistakes</th>\n",
       "      <th>Experts’_view</th>\n",
       "      <th>Overall</th>\n",
       "    </tr>\n",
       "  </thead>\n",
       "  <tbody>\n",
       "    <tr>\n",
       "      <th>1</th>\n",
       "      <td>1</td>\n",
       "      <td>George Washington</td>\n",
       "      <td>Independent</td>\n",
       "      <td>7</td>\n",
       "      <td>7</td>\n",
       "      <td>1</td>\n",
       "      <td>10</td>\n",
       "      <td>1</td>\n",
       "      <td>6</td>\n",
       "      <td>2</td>\n",
       "      <td>2</td>\n",
       "      <td>1</td>\n",
       "      <td>11</td>\n",
       "      <td>2</td>\n",
       "      <td>18</td>\n",
       "      <td>1</td>\n",
       "      <td>1</td>\n",
       "      <td>1</td>\n",
       "      <td>1</td>\n",
       "      <td>2</td>\n",
       "      <td>2</td>\n",
       "      <td>1</td>\n",
       "      <td>2</td>\n",
       "      <td>1</td>\n",
       "    </tr>\n",
       "    <tr>\n",
       "      <th>2</th>\n",
       "      <td>2</td>\n",
       "      <td>John Adams</td>\n",
       "      <td>Federalist</td>\n",
       "      <td>3</td>\n",
       "      <td>13</td>\n",
       "      <td>4</td>\n",
       "      <td>4</td>\n",
       "      <td>24</td>\n",
       "      <td>14</td>\n",
       "      <td>31</td>\n",
       "      <td>21</td>\n",
       "      <td>21</td>\n",
       "      <td>13</td>\n",
       "      <td>8</td>\n",
       "      <td>28</td>\n",
       "      <td>17</td>\n",
       "      <td>4</td>\n",
       "      <td>13</td>\n",
       "      <td>15</td>\n",
       "      <td>19</td>\n",
       "      <td>13</td>\n",
       "      <td>16</td>\n",
       "      <td>10</td>\n",
       "      <td>14</td>\n",
       "    </tr>\n",
       "    <tr>\n",
       "      <th>3</th>\n",
       "      <td>3</td>\n",
       "      <td>Thomas Jefferson</td>\n",
       "      <td>Democratic-Republican</td>\n",
       "      <td>2</td>\n",
       "      <td>2</td>\n",
       "      <td>14</td>\n",
       "      <td>1</td>\n",
       "      <td>8</td>\n",
       "      <td>5</td>\n",
       "      <td>14</td>\n",
       "      <td>6</td>\n",
       "      <td>6</td>\n",
       "      <td>4</td>\n",
       "      <td>4</td>\n",
       "      <td>5</td>\n",
       "      <td>5</td>\n",
       "      <td>7</td>\n",
       "      <td>20</td>\n",
       "      <td>4</td>\n",
       "      <td>6</td>\n",
       "      <td>9</td>\n",
       "      <td>7</td>\n",
       "      <td>5</td>\n",
       "      <td>5</td>\n",
       "    </tr>\n",
       "  </tbody>\n",
       "</table>\n",
       "</div>"
      ],
      "text/plain": [
       "  Seq          President                  Party  Background  Imagination  \\\n",
       "1   1  George Washington            Independent           7            7   \n",
       "2   2         John Adams             Federalist           3           13   \n",
       "3   3   Thomas Jefferson  Democratic-Republican           2            2   \n",
       "\n",
       "   Integrity  Intelligence  Luck  Willing_to_take_risks  \\\n",
       "1          1            10     1                      6   \n",
       "2          4             4    24                     14   \n",
       "3         14             1     8                      5   \n",
       "\n",
       "   Ability_to_compromise  Executive_ability  Leadership_ability  \\\n",
       "1                      2                  2                   1   \n",
       "2                     31                 21                  21   \n",
       "3                     14                  6                   6   \n",
       "\n",
       "   Communication_ability  Overall_ability  Party_leadership  \\\n",
       "1                     11                2                18   \n",
       "2                     13                8                28   \n",
       "3                      4                4                 5   \n",
       "\n",
       "   Relations_with_Congress  Court_appointments  Handling_of_economy  \\\n",
       "1                        1                   1                    1   \n",
       "2                       17                   4                   13   \n",
       "3                        5                   7                   20   \n",
       "\n",
       "   Executive_appointments  Domestic_accomplishments  \\\n",
       "1                       1                         2   \n",
       "2                      15                        19   \n",
       "3                       4                         6   \n",
       "\n",
       "   Foreign_policy_accomplishments  Avoid_crucial_mistakes  Experts’_view  \\\n",
       "1                               2                       1              2   \n",
       "2                              13                      16             10   \n",
       "3                               9                       7              5   \n",
       "\n",
       "   Overall  \n",
       "1        1  \n",
       "2       14  \n",
       "3        5  "
      ]
     },
     "execution_count": 19,
     "metadata": {},
     "output_type": "execute_result"
    }
   ],
   "source": [
    "siena_2018.head(3)"
   ]
  },
  {
   "cell_type": "markdown",
   "id": "3ff98f14",
   "metadata": {},
   "source": [
    "### Casting DataTypes"
   ]
  },
  {
   "cell_type": "markdown",
   "id": "1c5384a8-8ad8-48b5-a6b1-2491442fa7f1",
   "metadata": {},
   "source": [
    "The first thing we should do when we load in a dataset is checking the datatypes of each column and converting each of them to datatypes that is more suitable for them. This will save space and will increase the overall speed of all the operations."
   ]
  },
  {
   "cell_type": "code",
   "execution_count": 20,
   "id": "42e97f87-dbd1-4187-b849-f3e7eca91371",
   "metadata": {},
   "outputs": [
    {
     "data": {
      "text/plain": [
       "{'Seq': dtype('O'),\n",
       " 'President': dtype('O'),\n",
       " 'Party': dtype('O'),\n",
       " 'Background': dtype('int64'),\n",
       " 'Imagination': dtype('int64'),\n",
       " 'Integrity': dtype('int64'),\n",
       " 'Intelligence': dtype('int64'),\n",
       " 'Luck': dtype('int64'),\n",
       " 'Willing_to_take_risks': dtype('int64'),\n",
       " 'Ability_to_compromise': dtype('int64'),\n",
       " 'Executive_ability': dtype('int64'),\n",
       " 'Leadership_ability': dtype('int64'),\n",
       " 'Communication_ability': dtype('int64'),\n",
       " 'Overall_ability': dtype('int64'),\n",
       " 'Party_leadership': dtype('int64'),\n",
       " 'Relations_with_Congress': dtype('int64'),\n",
       " 'Court_appointments': dtype('int64'),\n",
       " 'Handling_of_economy': dtype('int64'),\n",
       " 'Executive_appointments': dtype('int64'),\n",
       " 'Domestic_accomplishments': dtype('int64'),\n",
       " 'Foreign_policy_accomplishments': dtype('int64'),\n",
       " 'Avoid_crucial_mistakes': dtype('int64'),\n",
       " 'Experts’_view': dtype('int64'),\n",
       " 'Overall': dtype('int64')}"
      ]
     },
     "execution_count": 20,
     "metadata": {},
     "output_type": "execute_result"
    }
   ],
   "source": [
    "siena_2018.dtypes.to_dict()  # we could've also used the .info() method"
   ]
  },
  {
   "cell_type": "markdown",
   "id": "60c48718",
   "metadata": {},
   "source": [
    "> **First, let's explore the columns with \"Object\" datatype**"
   ]
  },
  {
   "cell_type": "markdown",
   "id": "25cc7b38",
   "metadata": {},
   "source": [
    "- The \"Seq\" column (Sequences of the presidency)"
   ]
  },
  {
   "cell_type": "code",
   "execution_count": 21,
   "id": "e41cf8a0",
   "metadata": {},
   "outputs": [
    {
     "data": {
      "text/plain": [
       "array(['1', '2', '3', '4', '5', '6', '7', '8', '9', '10', '11', '12',\n",
       "       '13', '14', '15', '16', '17', '18', '19', '20', '21', '22/24',\n",
       "       '23', '25', '26', '27', '28', '29', '30', '31', '32', '33', '34',\n",
       "       '35', '36', '37', '38', '39', '40', '41', '42', '43', '44', '45'],\n",
       "      dtype=object)"
      ]
     },
     "execution_count": 21,
     "metadata": {},
     "output_type": "execute_result"
    }
   ],
   "source": [
    "siena_2018.Seq.values"
   ]
  },
  {
   "attachments": {},
   "cell_type": "markdown",
   "id": "d7540b31",
   "metadata": {},
   "source": [
    "Upon inspection we can see that, there's a value of '22/24'. So this column has to remain as \"Object\" type (or, can be converted to \"string\" type). "
   ]
  },
  {
   "cell_type": "markdown",
   "id": "1c9f3a0a",
   "metadata": {},
   "source": [
    "- The \"President\" column lists the name of the president. So, this can either be converted to \"string\" type or can remain as is. "
   ]
  },
  {
   "cell_type": "markdown",
   "id": "3237868b",
   "metadata": {},
   "source": [
    "- The \"Party\" column provides the name of the party, the president was elected with"
   ]
  },
  {
   "cell_type": "code",
   "execution_count": 22,
   "id": "4d1a0012",
   "metadata": {},
   "outputs": [
    {
     "data": {
      "text/plain": [
       "Republican               19\n",
       "Democratic               15\n",
       "Democratic-Republican     4\n",
       "Whig                      3\n",
       "Independent               2\n",
       "Federalist                1\n",
       "Name: Party, dtype: int64"
      ]
     },
     "execution_count": 22,
     "metadata": {},
     "output_type": "execute_result"
    }
   ],
   "source": [
    "siena_2018.Party.value_counts()"
   ]
  },
  {
   "cell_type": "markdown",
   "id": "98db673c",
   "metadata": {},
   "source": [
    "This column has only 6 unique values. So, this can be converted to \"categorical\" type."
   ]
  },
  {
   "cell_type": "code",
   "execution_count": 23,
   "id": "19550656",
   "metadata": {},
   "outputs": [],
   "source": [
    "siena_2018 = siena_2018.astype({\"Party\": \"category\"})"
   ]
  },
  {
   "cell_type": "markdown",
   "id": "bb86130d",
   "metadata": {},
   "source": [
    "> **Now, let's explore the columns with \"int64\" as datatype**"
   ]
  },
  {
   "cell_type": "markdown",
   "id": "b3a4964c",
   "metadata": {},
   "source": [
    "**Note:** One of the interesting and important pandas methods is the `.select_dtypes()` method. This will select all the columns with the specified datatype and return those columns as a new DataFrame."
   ]
  },
  {
   "cell_type": "code",
   "execution_count": 24,
   "id": "fb1360ac",
   "metadata": {},
   "outputs": [
    {
     "data": {
      "text/html": [
       "<div>\n",
       "<style scoped>\n",
       "    .dataframe tbody tr th:only-of-type {\n",
       "        vertical-align: middle;\n",
       "    }\n",
       "\n",
       "    .dataframe tbody tr th {\n",
       "        vertical-align: top;\n",
       "    }\n",
       "\n",
       "    .dataframe thead th {\n",
       "        text-align: right;\n",
       "    }\n",
       "</style>\n",
       "<table border=\"1\" class=\"dataframe\">\n",
       "  <thead>\n",
       "    <tr style=\"text-align: right;\">\n",
       "      <th></th>\n",
       "      <th>Background</th>\n",
       "      <th>Imagination</th>\n",
       "      <th>Integrity</th>\n",
       "      <th>Intelligence</th>\n",
       "      <th>Luck</th>\n",
       "      <th>Willing_to_take_risks</th>\n",
       "      <th>Ability_to_compromise</th>\n",
       "      <th>Executive_ability</th>\n",
       "      <th>Leadership_ability</th>\n",
       "      <th>Communication_ability</th>\n",
       "      <th>Overall_ability</th>\n",
       "      <th>Party_leadership</th>\n",
       "      <th>Relations_with_Congress</th>\n",
       "      <th>Court_appointments</th>\n",
       "      <th>Handling_of_economy</th>\n",
       "      <th>Executive_appointments</th>\n",
       "      <th>Domestic_accomplishments</th>\n",
       "      <th>Foreign_policy_accomplishments</th>\n",
       "      <th>Avoid_crucial_mistakes</th>\n",
       "      <th>Experts’_view</th>\n",
       "      <th>Overall</th>\n",
       "    </tr>\n",
       "  </thead>\n",
       "  <tbody>\n",
       "    <tr>\n",
       "      <th>1</th>\n",
       "      <td>7</td>\n",
       "      <td>7</td>\n",
       "      <td>1</td>\n",
       "      <td>10</td>\n",
       "      <td>1</td>\n",
       "      <td>6</td>\n",
       "      <td>2</td>\n",
       "      <td>2</td>\n",
       "      <td>1</td>\n",
       "      <td>11</td>\n",
       "      <td>2</td>\n",
       "      <td>18</td>\n",
       "      <td>1</td>\n",
       "      <td>1</td>\n",
       "      <td>1</td>\n",
       "      <td>1</td>\n",
       "      <td>2</td>\n",
       "      <td>2</td>\n",
       "      <td>1</td>\n",
       "      <td>2</td>\n",
       "      <td>1</td>\n",
       "    </tr>\n",
       "    <tr>\n",
       "      <th>2</th>\n",
       "      <td>3</td>\n",
       "      <td>13</td>\n",
       "      <td>4</td>\n",
       "      <td>4</td>\n",
       "      <td>24</td>\n",
       "      <td>14</td>\n",
       "      <td>31</td>\n",
       "      <td>21</td>\n",
       "      <td>21</td>\n",
       "      <td>13</td>\n",
       "      <td>8</td>\n",
       "      <td>28</td>\n",
       "      <td>17</td>\n",
       "      <td>4</td>\n",
       "      <td>13</td>\n",
       "      <td>15</td>\n",
       "      <td>19</td>\n",
       "      <td>13</td>\n",
       "      <td>16</td>\n",
       "      <td>10</td>\n",
       "      <td>14</td>\n",
       "    </tr>\n",
       "    <tr>\n",
       "      <th>3</th>\n",
       "      <td>2</td>\n",
       "      <td>2</td>\n",
       "      <td>14</td>\n",
       "      <td>1</td>\n",
       "      <td>8</td>\n",
       "      <td>5</td>\n",
       "      <td>14</td>\n",
       "      <td>6</td>\n",
       "      <td>6</td>\n",
       "      <td>4</td>\n",
       "      <td>4</td>\n",
       "      <td>5</td>\n",
       "      <td>5</td>\n",
       "      <td>7</td>\n",
       "      <td>20</td>\n",
       "      <td>4</td>\n",
       "      <td>6</td>\n",
       "      <td>9</td>\n",
       "      <td>7</td>\n",
       "      <td>5</td>\n",
       "      <td>5</td>\n",
       "    </tr>\n",
       "  </tbody>\n",
       "</table>\n",
       "</div>"
      ],
      "text/plain": [
       "   Background  Imagination  Integrity  Intelligence  Luck  \\\n",
       "1           7            7          1            10     1   \n",
       "2           3           13          4             4    24   \n",
       "3           2            2         14             1     8   \n",
       "\n",
       "   Willing_to_take_risks  Ability_to_compromise  Executive_ability  \\\n",
       "1                      6                      2                  2   \n",
       "2                     14                     31                 21   \n",
       "3                      5                     14                  6   \n",
       "\n",
       "   Leadership_ability  Communication_ability  Overall_ability  \\\n",
       "1                   1                     11                2   \n",
       "2                  21                     13                8   \n",
       "3                   6                      4                4   \n",
       "\n",
       "   Party_leadership  Relations_with_Congress  Court_appointments  \\\n",
       "1                18                        1                   1   \n",
       "2                28                       17                   4   \n",
       "3                 5                        5                   7   \n",
       "\n",
       "   Handling_of_economy  Executive_appointments  Domestic_accomplishments  \\\n",
       "1                    1                       1                         2   \n",
       "2                   13                      15                        19   \n",
       "3                   20                       4                         6   \n",
       "\n",
       "   Foreign_policy_accomplishments  Avoid_crucial_mistakes  Experts’_view  \\\n",
       "1                               2                       1              2   \n",
       "2                              13                      16             10   \n",
       "3                               9                       7              5   \n",
       "\n",
       "   Overall  \n",
       "1        1  \n",
       "2       14  \n",
       "3        5  "
      ]
     },
     "execution_count": 24,
     "metadata": {},
     "output_type": "execute_result"
    }
   ],
   "source": [
    "siena_2018.select_dtypes(\"int64\").head(3)"
   ]
  },
  {
   "cell_type": "markdown",
   "id": "83ab5f49",
   "metadata": {},
   "source": [
    "- Let's see the max and min values of the number type columns"
   ]
  },
  {
   "cell_type": "code",
   "execution_count": 25,
   "id": "7f311d7f",
   "metadata": {},
   "outputs": [
    {
     "data": {
      "text/html": [
       "<div>\n",
       "<style scoped>\n",
       "    .dataframe tbody tr th:only-of-type {\n",
       "        vertical-align: middle;\n",
       "    }\n",
       "\n",
       "    .dataframe tbody tr th {\n",
       "        vertical-align: top;\n",
       "    }\n",
       "\n",
       "    .dataframe thead th {\n",
       "        text-align: right;\n",
       "    }\n",
       "</style>\n",
       "<table border=\"1\" class=\"dataframe\">\n",
       "  <thead>\n",
       "    <tr style=\"text-align: right;\">\n",
       "      <th></th>\n",
       "      <th>Background</th>\n",
       "      <th>Imagination</th>\n",
       "      <th>Integrity</th>\n",
       "      <th>Intelligence</th>\n",
       "      <th>Luck</th>\n",
       "      <th>Willing_to_take_risks</th>\n",
       "      <th>Ability_to_compromise</th>\n",
       "      <th>Executive_ability</th>\n",
       "      <th>Leadership_ability</th>\n",
       "      <th>Communication_ability</th>\n",
       "      <th>Overall_ability</th>\n",
       "      <th>Party_leadership</th>\n",
       "      <th>Relations_with_Congress</th>\n",
       "      <th>Court_appointments</th>\n",
       "      <th>Handling_of_economy</th>\n",
       "      <th>Executive_appointments</th>\n",
       "      <th>Domestic_accomplishments</th>\n",
       "      <th>Foreign_policy_accomplishments</th>\n",
       "      <th>Avoid_crucial_mistakes</th>\n",
       "      <th>Experts’_view</th>\n",
       "      <th>Overall</th>\n",
       "    </tr>\n",
       "  </thead>\n",
       "  <tbody>\n",
       "    <tr>\n",
       "      <th>max</th>\n",
       "      <td>43</td>\n",
       "      <td>43</td>\n",
       "      <td>44</td>\n",
       "      <td>44</td>\n",
       "      <td>44</td>\n",
       "      <td>41</td>\n",
       "      <td>43</td>\n",
       "      <td>43</td>\n",
       "      <td>44</td>\n",
       "      <td>44</td>\n",
       "      <td>44</td>\n",
       "      <td>44</td>\n",
       "      <td>43</td>\n",
       "      <td>44</td>\n",
       "      <td>44</td>\n",
       "      <td>44</td>\n",
       "      <td>44</td>\n",
       "      <td>44</td>\n",
       "      <td>44</td>\n",
       "      <td>44</td>\n",
       "      <td>44</td>\n",
       "    </tr>\n",
       "    <tr>\n",
       "      <th>min</th>\n",
       "      <td>1</td>\n",
       "      <td>1</td>\n",
       "      <td>1</td>\n",
       "      <td>1</td>\n",
       "      <td>1</td>\n",
       "      <td>1</td>\n",
       "      <td>1</td>\n",
       "      <td>1</td>\n",
       "      <td>1</td>\n",
       "      <td>1</td>\n",
       "      <td>1</td>\n",
       "      <td>1</td>\n",
       "      <td>1</td>\n",
       "      <td>1</td>\n",
       "      <td>1</td>\n",
       "      <td>1</td>\n",
       "      <td>1</td>\n",
       "      <td>1</td>\n",
       "      <td>1</td>\n",
       "      <td>1</td>\n",
       "      <td>1</td>\n",
       "    </tr>\n",
       "  </tbody>\n",
       "</table>\n",
       "</div>"
      ],
      "text/plain": [
       "     Background  Imagination  Integrity  Intelligence  Luck  \\\n",
       "max          43           43         44            44    44   \n",
       "min           1            1          1             1     1   \n",
       "\n",
       "     Willing_to_take_risks  Ability_to_compromise  Executive_ability  \\\n",
       "max                     41                     43                 43   \n",
       "min                      1                      1                  1   \n",
       "\n",
       "     Leadership_ability  Communication_ability  Overall_ability  \\\n",
       "max                  44                     44               44   \n",
       "min                   1                      1                1   \n",
       "\n",
       "     Party_leadership  Relations_with_Congress  Court_appointments  \\\n",
       "max                44                       43                  44   \n",
       "min                 1                        1                   1   \n",
       "\n",
       "     Handling_of_economy  Executive_appointments  Domestic_accomplishments  \\\n",
       "max                   44                      44                        44   \n",
       "min                    1                       1                         1   \n",
       "\n",
       "     Foreign_policy_accomplishments  Avoid_crucial_mistakes  Experts’_view  \\\n",
       "max                              44                      44             44   \n",
       "min                               1                       1              1   \n",
       "\n",
       "     Overall  \n",
       "max       44  \n",
       "min        1  "
      ]
     },
     "execution_count": 25,
     "metadata": {},
     "output_type": "execute_result"
    }
   ],
   "source": [
    "siena_2018.select_dtypes(\"int64\").agg([\"max\", \"min\"])"
   ]
  },
  {
   "cell_type": "markdown",
   "id": "9d612e80",
   "metadata": {},
   "source": [
    "As we can see, none of the columns has values greater than 44 and lesser than 1. So, these columns can easily be converted to \"uint8\" type and still accomodate the values as is."
   ]
  },
  {
   "cell_type": "code",
   "execution_count": 26,
   "id": "1ff98394",
   "metadata": {},
   "outputs": [],
   "source": [
    "siena_2018 = siena_2018.astype(\n",
    "    {col_name: \"uint8\" for col_name in siena_2018.select_dtypes(\"int64\").columns}\n",
    ")"
   ]
  },
  {
   "attachments": {},
   "cell_type": "markdown",
   "id": "233026ba",
   "metadata": {},
   "source": [
    "After casting datatypes to more appropriate types, the memory footprint of the dataframe reduces drastically."
   ]
  },
  {
   "cell_type": "code",
   "execution_count": 27,
   "id": "d3bb53dc",
   "metadata": {},
   "outputs": [
    {
     "name": "stdout",
     "output_type": "stream",
     "text": [
      "<class 'pandas.core.frame.DataFrame'>\n",
      "Int64Index: 44 entries, 1 to 44\n",
      "Data columns (total 24 columns):\n",
      " #   Column                          Non-Null Count  Dtype   \n",
      "---  ------                          --------------  -----   \n",
      " 0   Seq                             44 non-null     object  \n",
      " 1   President                       44 non-null     object  \n",
      " 2   Party                           44 non-null     category\n",
      " 3   Background                      44 non-null     uint8   \n",
      " 4   Imagination                     44 non-null     uint8   \n",
      " 5   Integrity                       44 non-null     uint8   \n",
      " 6   Intelligence                    44 non-null     uint8   \n",
      " 7   Luck                            44 non-null     uint8   \n",
      " 8   Willing_to_take_risks           44 non-null     uint8   \n",
      " 9   Ability_to_compromise           44 non-null     uint8   \n",
      " 10  Executive_ability               44 non-null     uint8   \n",
      " 11  Leadership_ability              44 non-null     uint8   \n",
      " 12  Communication_ability           44 non-null     uint8   \n",
      " 13  Overall_ability                 44 non-null     uint8   \n",
      " 14  Party_leadership                44 non-null     uint8   \n",
      " 15  Relations_with_Congress         44 non-null     uint8   \n",
      " 16  Court_appointments              44 non-null     uint8   \n",
      " 17  Handling_of_economy             44 non-null     uint8   \n",
      " 18  Executive_appointments          44 non-null     uint8   \n",
      " 19  Domestic_accomplishments        44 non-null     uint8   \n",
      " 20  Foreign_policy_accomplishments  44 non-null     uint8   \n",
      " 21  Avoid_crucial_mistakes          44 non-null     uint8   \n",
      " 22  Experts’_view                   44 non-null     uint8   \n",
      " 23  Overall                         44 non-null     uint8   \n",
      "dtypes: category(1), object(2), uint8(21)\n",
      "memory usage: 2.2+ KB\n"
     ]
    }
   ],
   "source": [
    "siena_2018.info()"
   ]
  },
  {
   "attachments": {},
   "cell_type": "markdown",
   "id": "004d6a63",
   "metadata": {},
   "source": [
    "-------------------------------------------------\n",
    "## Creating and Updating columns: The `.assign(**kwargs)` method\n",
    "---------------------------------------------------"
   ]
  },
  {
   "attachments": {},
   "cell_type": "markdown",
   "id": "adf92715",
   "metadata": {},
   "source": [
    "**Why use .assign ?** This method returns a dataframe and doesn't mutate the existing dataframe. This is very useful for chaining operations as the dataframe gets continuously updated and the subsequent methods operates on the updated dataframe.\n",
    "\n",
    "<u>**\\*\\*kwargs:** argument (column name) = argument value (callable or Series}, ...... </u>\n",
    "- if the column already exists it will modify the values of the column\n",
    "- if the column doesn't exist then it will create a new column\n",
    "- if the argumnent value is a series or a scalar, it will simply assign those values to the column\n",
    "- the callable (a function or *lambda*) must return a scalar or series. Using a function (it can be a normal function, but often we use a lambda to have the logic inline) has an unseen benefit. If any manipulation of filtering was done on the dataframe before using the `.assign()`, those changes will be represented on the dataframe and *the function will accept the current state of the dataframe.*"
   ]
  },
  {
   "attachments": {},
   "cell_type": "markdown",
   "id": "937a6830-a248-4cd3-8bdb-1f51c4c4f8cb",
   "metadata": {},
   "source": [
    "**`lambda` function Refresher:** A lambda function can take any number of arguments, but can only have one expression. *Syntax:* `lambda arguments : expression`. The expression is executed and the result is returned."
   ]
  },
  {
   "cell_type": "code",
   "execution_count": 28,
   "id": "60a006bc",
   "metadata": {},
   "outputs": [],
   "source": [
    "# First, we will add a column named Average_rank that ranks the presidents based on their toatal score (summing the numeric values across the columns)\n",
    "# using dense method (lowest rank in the group but rank always increases by 1 between groups)\n",
    "# this is essentially the \"Overall\" column but using a different ranking method\n",
    "\n",
    "# Next, we will add another column named, \"Quartile_rank\" that will have 4 bins (1st, 2nd, 3rd, 4th)\n",
    "# this is when we will see the power of using a function \n",
    "# the lambda function will take the current state of the dataframe when the Average_rank column exists\n",
    "\n",
    "siena_2018 = siena_2018.assign(Average_rank=siena_2018.loc[:, \"Background\":\"Experts’_view\"].sum(axis=1).rank(method=\"dense\").astype(\"uint8\"), \n",
    "Quartile_rank=lambda df_: pd.qcut(df_.Average_rank, 4, labels=[\"1st\", \"2nd\", \"3rd\", \"4th\"]))"
   ]
  },
  {
   "cell_type": "code",
   "execution_count": 29,
   "id": "7affd880",
   "metadata": {},
   "outputs": [
    {
     "data": {
      "text/html": [
       "<div>\n",
       "<style scoped>\n",
       "    .dataframe tbody tr th:only-of-type {\n",
       "        vertical-align: middle;\n",
       "    }\n",
       "\n",
       "    .dataframe tbody tr th {\n",
       "        vertical-align: top;\n",
       "    }\n",
       "\n",
       "    .dataframe thead th {\n",
       "        text-align: right;\n",
       "    }\n",
       "</style>\n",
       "<table border=\"1\" class=\"dataframe\">\n",
       "  <thead>\n",
       "    <tr style=\"text-align: right;\">\n",
       "      <th></th>\n",
       "      <th>Seq</th>\n",
       "      <th>President</th>\n",
       "      <th>Party</th>\n",
       "      <th>Background</th>\n",
       "      <th>Imagination</th>\n",
       "      <th>Integrity</th>\n",
       "      <th>Intelligence</th>\n",
       "      <th>Luck</th>\n",
       "      <th>Willing_to_take_risks</th>\n",
       "      <th>Ability_to_compromise</th>\n",
       "      <th>Executive_ability</th>\n",
       "      <th>Leadership_ability</th>\n",
       "      <th>Communication_ability</th>\n",
       "      <th>Overall_ability</th>\n",
       "      <th>Party_leadership</th>\n",
       "      <th>Relations_with_Congress</th>\n",
       "      <th>Court_appointments</th>\n",
       "      <th>Handling_of_economy</th>\n",
       "      <th>Executive_appointments</th>\n",
       "      <th>Domestic_accomplishments</th>\n",
       "      <th>Foreign_policy_accomplishments</th>\n",
       "      <th>Avoid_crucial_mistakes</th>\n",
       "      <th>Experts’_view</th>\n",
       "      <th>Overall</th>\n",
       "      <th>Average_rank</th>\n",
       "      <th>Quartile_rank</th>\n",
       "    </tr>\n",
       "  </thead>\n",
       "  <tbody>\n",
       "    <tr>\n",
       "      <th>1</th>\n",
       "      <td>1</td>\n",
       "      <td>George Washington</td>\n",
       "      <td>Independent</td>\n",
       "      <td>7</td>\n",
       "      <td>7</td>\n",
       "      <td>1</td>\n",
       "      <td>10</td>\n",
       "      <td>1</td>\n",
       "      <td>6</td>\n",
       "      <td>2</td>\n",
       "      <td>2</td>\n",
       "      <td>1</td>\n",
       "      <td>11</td>\n",
       "      <td>2</td>\n",
       "      <td>18</td>\n",
       "      <td>1</td>\n",
       "      <td>1</td>\n",
       "      <td>1</td>\n",
       "      <td>1</td>\n",
       "      <td>2</td>\n",
       "      <td>2</td>\n",
       "      <td>1</td>\n",
       "      <td>2</td>\n",
       "      <td>1</td>\n",
       "      <td>1</td>\n",
       "      <td>1st</td>\n",
       "    </tr>\n",
       "    <tr>\n",
       "      <th>2</th>\n",
       "      <td>2</td>\n",
       "      <td>John Adams</td>\n",
       "      <td>Federalist</td>\n",
       "      <td>3</td>\n",
       "      <td>13</td>\n",
       "      <td>4</td>\n",
       "      <td>4</td>\n",
       "      <td>24</td>\n",
       "      <td>14</td>\n",
       "      <td>31</td>\n",
       "      <td>21</td>\n",
       "      <td>21</td>\n",
       "      <td>13</td>\n",
       "      <td>8</td>\n",
       "      <td>28</td>\n",
       "      <td>17</td>\n",
       "      <td>4</td>\n",
       "      <td>13</td>\n",
       "      <td>15</td>\n",
       "      <td>19</td>\n",
       "      <td>13</td>\n",
       "      <td>16</td>\n",
       "      <td>10</td>\n",
       "      <td>14</td>\n",
       "      <td>13</td>\n",
       "      <td>2nd</td>\n",
       "    </tr>\n",
       "    <tr>\n",
       "      <th>3</th>\n",
       "      <td>3</td>\n",
       "      <td>Thomas Jefferson</td>\n",
       "      <td>Democratic-Republican</td>\n",
       "      <td>2</td>\n",
       "      <td>2</td>\n",
       "      <td>14</td>\n",
       "      <td>1</td>\n",
       "      <td>8</td>\n",
       "      <td>5</td>\n",
       "      <td>14</td>\n",
       "      <td>6</td>\n",
       "      <td>6</td>\n",
       "      <td>4</td>\n",
       "      <td>4</td>\n",
       "      <td>5</td>\n",
       "      <td>5</td>\n",
       "      <td>7</td>\n",
       "      <td>20</td>\n",
       "      <td>4</td>\n",
       "      <td>6</td>\n",
       "      <td>9</td>\n",
       "      <td>7</td>\n",
       "      <td>5</td>\n",
       "      <td>5</td>\n",
       "      <td>5</td>\n",
       "      <td>1st</td>\n",
       "    </tr>\n",
       "  </tbody>\n",
       "</table>\n",
       "</div>"
      ],
      "text/plain": [
       "  Seq          President                  Party  Background  Imagination  \\\n",
       "1   1  George Washington            Independent           7            7   \n",
       "2   2         John Adams             Federalist           3           13   \n",
       "3   3   Thomas Jefferson  Democratic-Republican           2            2   \n",
       "\n",
       "   Integrity  Intelligence  Luck  Willing_to_take_risks  \\\n",
       "1          1            10     1                      6   \n",
       "2          4             4    24                     14   \n",
       "3         14             1     8                      5   \n",
       "\n",
       "   Ability_to_compromise  Executive_ability  Leadership_ability  \\\n",
       "1                      2                  2                   1   \n",
       "2                     31                 21                  21   \n",
       "3                     14                  6                   6   \n",
       "\n",
       "   Communication_ability  Overall_ability  Party_leadership  \\\n",
       "1                     11                2                18   \n",
       "2                     13                8                28   \n",
       "3                      4                4                 5   \n",
       "\n",
       "   Relations_with_Congress  Court_appointments  Handling_of_economy  \\\n",
       "1                        1                   1                    1   \n",
       "2                       17                   4                   13   \n",
       "3                        5                   7                   20   \n",
       "\n",
       "   Executive_appointments  Domestic_accomplishments  \\\n",
       "1                       1                         2   \n",
       "2                      15                        19   \n",
       "3                       4                         6   \n",
       "\n",
       "   Foreign_policy_accomplishments  Avoid_crucial_mistakes  Experts’_view  \\\n",
       "1                               2                       1              2   \n",
       "2                              13                      16             10   \n",
       "3                               9                       7              5   \n",
       "\n",
       "   Overall  Average_rank Quartile_rank  \n",
       "1        1             1           1st  \n",
       "2       14            13           2nd  \n",
       "3        5             5           1st  "
      ]
     },
     "execution_count": 29,
     "metadata": {},
     "output_type": "execute_result"
    }
   ],
   "source": [
    "siena_2018.head(3)"
   ]
  },
  {
   "attachments": {},
   "cell_type": "markdown",
   "id": "adc37442",
   "metadata": {},
   "source": [
    "--------------------------------------------\n",
    "## Dealing with Missing and Duplicated Data\n",
    "----------------------------------------------"
   ]
  },
  {
   "attachments": {},
   "cell_type": "markdown",
   "id": "d9495b8c",
   "metadata": {},
   "source": [
    "### Locating missing data"
   ]
  },
  {
   "attachments": {},
   "cell_type": "markdown",
   "id": "9875c102",
   "metadata": {},
   "source": [
    "- The `.isna()` method"
   ]
  },
  {
   "attachments": {},
   "cell_type": "markdown",
   "id": "ebe2a801",
   "metadata": {},
   "source": [
    "Works similarly to series.isna() method. Returns a Boolean dataframe when used with dataframes.  "
   ]
  },
  {
   "cell_type": "code",
   "execution_count": 30,
   "id": "fb9b1f1a",
   "metadata": {},
   "outputs": [
    {
     "data": {
      "text/html": [
       "<div>\n",
       "<style scoped>\n",
       "    .dataframe tbody tr th:only-of-type {\n",
       "        vertical-align: middle;\n",
       "    }\n",
       "\n",
       "    .dataframe tbody tr th {\n",
       "        vertical-align: top;\n",
       "    }\n",
       "\n",
       "    .dataframe thead th {\n",
       "        text-align: right;\n",
       "    }\n",
       "</style>\n",
       "<table border=\"1\" class=\"dataframe\">\n",
       "  <thead>\n",
       "    <tr style=\"text-align: right;\">\n",
       "      <th></th>\n",
       "      <th>Seq</th>\n",
       "      <th>President</th>\n",
       "      <th>Party</th>\n",
       "      <th>Background</th>\n",
       "      <th>Imagination</th>\n",
       "      <th>Integrity</th>\n",
       "      <th>Intelligence</th>\n",
       "      <th>Luck</th>\n",
       "      <th>Willing_to_take_risks</th>\n",
       "      <th>Ability_to_compromise</th>\n",
       "      <th>Executive_ability</th>\n",
       "      <th>Leadership_ability</th>\n",
       "      <th>Communication_ability</th>\n",
       "      <th>Overall_ability</th>\n",
       "      <th>Party_leadership</th>\n",
       "      <th>Relations_with_Congress</th>\n",
       "      <th>Court_appointments</th>\n",
       "      <th>Handling_of_economy</th>\n",
       "      <th>Executive_appointments</th>\n",
       "      <th>Domestic_accomplishments</th>\n",
       "      <th>Foreign_policy_accomplishments</th>\n",
       "      <th>Avoid_crucial_mistakes</th>\n",
       "      <th>Experts’_view</th>\n",
       "      <th>Overall</th>\n",
       "      <th>Average_rank</th>\n",
       "      <th>Quartile_rank</th>\n",
       "    </tr>\n",
       "  </thead>\n",
       "  <tbody>\n",
       "    <tr>\n",
       "      <th>1</th>\n",
       "      <td>False</td>\n",
       "      <td>False</td>\n",
       "      <td>False</td>\n",
       "      <td>False</td>\n",
       "      <td>False</td>\n",
       "      <td>False</td>\n",
       "      <td>False</td>\n",
       "      <td>False</td>\n",
       "      <td>False</td>\n",
       "      <td>False</td>\n",
       "      <td>False</td>\n",
       "      <td>False</td>\n",
       "      <td>False</td>\n",
       "      <td>False</td>\n",
       "      <td>False</td>\n",
       "      <td>False</td>\n",
       "      <td>False</td>\n",
       "      <td>False</td>\n",
       "      <td>False</td>\n",
       "      <td>False</td>\n",
       "      <td>False</td>\n",
       "      <td>False</td>\n",
       "      <td>False</td>\n",
       "      <td>False</td>\n",
       "      <td>False</td>\n",
       "      <td>False</td>\n",
       "    </tr>\n",
       "    <tr>\n",
       "      <th>2</th>\n",
       "      <td>False</td>\n",
       "      <td>False</td>\n",
       "      <td>False</td>\n",
       "      <td>False</td>\n",
       "      <td>False</td>\n",
       "      <td>False</td>\n",
       "      <td>False</td>\n",
       "      <td>False</td>\n",
       "      <td>False</td>\n",
       "      <td>False</td>\n",
       "      <td>False</td>\n",
       "      <td>False</td>\n",
       "      <td>False</td>\n",
       "      <td>False</td>\n",
       "      <td>False</td>\n",
       "      <td>False</td>\n",
       "      <td>False</td>\n",
       "      <td>False</td>\n",
       "      <td>False</td>\n",
       "      <td>False</td>\n",
       "      <td>False</td>\n",
       "      <td>False</td>\n",
       "      <td>False</td>\n",
       "      <td>False</td>\n",
       "      <td>False</td>\n",
       "      <td>False</td>\n",
       "    </tr>\n",
       "    <tr>\n",
       "      <th>3</th>\n",
       "      <td>False</td>\n",
       "      <td>False</td>\n",
       "      <td>False</td>\n",
       "      <td>False</td>\n",
       "      <td>False</td>\n",
       "      <td>False</td>\n",
       "      <td>False</td>\n",
       "      <td>False</td>\n",
       "      <td>False</td>\n",
       "      <td>False</td>\n",
       "      <td>False</td>\n",
       "      <td>False</td>\n",
       "      <td>False</td>\n",
       "      <td>False</td>\n",
       "      <td>False</td>\n",
       "      <td>False</td>\n",
       "      <td>False</td>\n",
       "      <td>False</td>\n",
       "      <td>False</td>\n",
       "      <td>False</td>\n",
       "      <td>False</td>\n",
       "      <td>False</td>\n",
       "      <td>False</td>\n",
       "      <td>False</td>\n",
       "      <td>False</td>\n",
       "      <td>False</td>\n",
       "    </tr>\n",
       "  </tbody>\n",
       "</table>\n",
       "</div>"
      ],
      "text/plain": [
       "     Seq  President  Party  Background  Imagination  Integrity  Intelligence  \\\n",
       "1  False      False  False       False        False      False         False   \n",
       "2  False      False  False       False        False      False         False   \n",
       "3  False      False  False       False        False      False         False   \n",
       "\n",
       "    Luck  Willing_to_take_risks  Ability_to_compromise  Executive_ability  \\\n",
       "1  False                  False                  False              False   \n",
       "2  False                  False                  False              False   \n",
       "3  False                  False                  False              False   \n",
       "\n",
       "   Leadership_ability  Communication_ability  Overall_ability  \\\n",
       "1               False                  False            False   \n",
       "2               False                  False            False   \n",
       "3               False                  False            False   \n",
       "\n",
       "   Party_leadership  Relations_with_Congress  Court_appointments  \\\n",
       "1             False                    False               False   \n",
       "2             False                    False               False   \n",
       "3             False                    False               False   \n",
       "\n",
       "   Handling_of_economy  Executive_appointments  Domestic_accomplishments  \\\n",
       "1                False                   False                     False   \n",
       "2                False                   False                     False   \n",
       "3                False                   False                     False   \n",
       "\n",
       "   Foreign_policy_accomplishments  Avoid_crucial_mistakes  Experts’_view  \\\n",
       "1                           False                   False          False   \n",
       "2                           False                   False          False   \n",
       "3                           False                   False          False   \n",
       "\n",
       "   Overall  Average_rank  Quartile_rank  \n",
       "1    False         False          False  \n",
       "2    False         False          False  \n",
       "3    False         False          False  "
      ]
     },
     "execution_count": 30,
     "metadata": {},
     "output_type": "execute_result"
    }
   ],
   "source": [
    "siena_2018.isna().head(3)"
   ]
  },
  {
   "attachments": {},
   "cell_type": "markdown",
   "id": "47d1b277",
   "metadata": {},
   "source": [
    "We can use other methods such as **.any(), .all() etc.** in combination with the .isna() method to see whether there are any data at all missing from a column or whether all data in a column is Nan type etc."
   ]
  },
  {
   "cell_type": "code",
   "execution_count": 31,
   "id": "95710303",
   "metadata": {},
   "outputs": [
    {
     "data": {
      "text/plain": [
       "Seq          False\n",
       "President    False\n",
       "Party        False\n",
       "dtype: bool"
      ]
     },
     "execution_count": 31,
     "metadata": {},
     "output_type": "execute_result"
    }
   ],
   "source": [
    "siena_2018.isna().any().head(3)"
   ]
  },
  {
   "attachments": {},
   "cell_type": "markdown",
   "id": "9fa1cf5e",
   "metadata": {},
   "source": [
    "To `count` how many data rows are `missing` from a particular column we can use the **df.isna().sum()**."
   ]
  },
  {
   "cell_type": "code",
   "execution_count": 32,
   "id": "105247ba",
   "metadata": {},
   "outputs": [
    {
     "data": {
      "text/plain": [
       "Seq          0\n",
       "President    0\n",
       "Party        0\n",
       "dtype: int64"
      ]
     },
     "execution_count": 32,
     "metadata": {},
     "output_type": "execute_result"
    }
   ],
   "source": [
    "siena_2018.isna().sum().head(3)"
   ]
  },
  {
   "attachments": {},
   "cell_type": "markdown",
   "id": "db8e6494",
   "metadata": {},
   "source": [
    "To see what `percentage` of the data in a column is missing we can use something like, **df.isna().mean().mul(100)**."
   ]
  },
  {
   "cell_type": "code",
   "execution_count": 33,
   "id": "5f216165",
   "metadata": {},
   "outputs": [
    {
     "data": {
      "text/plain": [
       "Intelligence             0.0\n",
       "Party_leadership         0.0\n",
       "Willing_to_take_risks    0.0\n",
       "dtype: float64"
      ]
     },
     "execution_count": 33,
     "metadata": {},
     "output_type": "execute_result"
    }
   ],
   "source": [
    "siena_2018.isna().mean().mul(100).sample(3)"
   ]
  },
  {
   "attachments": {},
   "cell_type": "markdown",
   "id": "9e140735",
   "metadata": {},
   "source": [
    "### Handling missing values"
   ]
  },
  {
   "attachments": {},
   "cell_type": "markdown",
   "id": "0e675b3e",
   "metadata": {},
   "source": [
    "- The `.dropna(subset)` method "
   ]
  },
  {
   "attachments": {},
   "cell_type": "markdown",
   "id": "527b3036",
   "metadata": {},
   "source": [
    "We can use the good old .dropna() method to drop the rows with missing values. But note that, when using with dataframe, .dropna() will only drop the rows if it has Nan values in all the columns. To specify otherwise i.e, what columns to look at when dropping rows, we can feed the subset parameter a list of column names (that we want it to look at for dropping Nan values)."
   ]
  },
  {
   "attachments": {},
   "cell_type": "markdown",
   "id": "b2f79ea4",
   "metadata": {},
   "source": [
    "- The `.fillna()` method"
   ]
  },
  {
   "attachments": {},
   "cell_type": "markdown",
   "id": "6f23d4df",
   "metadata": {},
   "source": [
    "We can also use the .fillna() method to fill in the missing value. We can also define the filling method e.g, `ffill`, `bfill` etc. This method also takes a `value parameter` (value: scalar, dict, Series, or DataFrame) which will be used to fill the Nan values if specified. The **.mean(), .median(), .mode()** etc methods may come in handy when defining the value paramether."
   ]
  },
  {
   "attachments": {},
   "cell_type": "markdown",
   "id": "183c5482",
   "metadata": {},
   "source": [
    "- The `.interpolate()` method"
   ]
  },
  {
   "attachments": {},
   "cell_type": "markdown",
   "id": "dd333d56",
   "metadata": {},
   "source": [
    "This will replace Nan values with interpolation of the values around the missing value. This method comes in very handy when dealing with ordered data such as time series data."
   ]
  },
  {
   "attachments": {},
   "cell_type": "markdown",
   "id": "6832b0d9",
   "metadata": {},
   "source": [
    "- The `.where(cond, other)` method"
   ]
  },
  {
   "attachments": {},
   "cell_type": "markdown",
   "id": "679def55",
   "metadata": {},
   "source": [
    "Although not specific for handling missing values but this method is a powerful one for doing just that. This method **replaces values where the condition is False with corresponding value from 'other'**."
   ]
  },
  {
   "attachments": {},
   "cell_type": "markdown",
   "id": "9d9bb3a3",
   "metadata": {},
   "source": [
    "- The `.mask(cond, other)` method"
   ]
  },
  {
   "attachments": {},
   "cell_type": "markdown",
   "id": "ea7f5b09",
   "metadata": {},
   "source": [
    "Opposite of the .where() method in the sense that, this method will replace values **where the condition is True** with the corresponding value from 'other'. Equivalent to, **.where(~cond, other)**."
   ]
  },
  {
   "attachments": {},
   "cell_type": "markdown",
   "id": "e139fc8a",
   "metadata": {},
   "source": [
    "**`CAUTION:`** The data in each column of a dataframe usually represents different things. Thus applying methods such as .dropna(), .fillna(), .interpolate() is not logical and will bring no good (this is like, using a spoon for woodworking).\n",
    "\n",
    "**So, the best approach is to treat each column differently as a separate series object, clean them, modify them and then adding/replacing them in a datafrmae using the .assign() method.**"
   ]
  },
  {
   "attachments": {},
   "cell_type": "markdown",
   "id": "6c18de3e",
   "metadata": {},
   "source": [
    "### Handling duplicate data"
   ]
  },
  {
   "attachments": {},
   "cell_type": "markdown",
   "id": "15c40ad8",
   "metadata": {},
   "source": [
    "- The `.drop_duplicates(subset=None,keep='first', ignore_index=False)` method"
   ]
  },
  {
   "attachments": {},
   "cell_type": "markdown",
   "id": "d424cf61",
   "metadata": {},
   "source": [
    "If called without any parameters, it will drop only the rows that are complete copy of each other. The subset parameter lets us specify which columns to check when checking for duplicates."
   ]
  },
  {
   "attachments": {},
   "cell_type": "markdown",
   "id": "5508efcb",
   "metadata": {},
   "source": [
    "--------------------------------------------\n",
    "## Sorting Columns and Indexes \n",
    "---------------------------------------------"
   ]
  },
  {
   "attachments": {},
   "cell_type": "markdown",
   "id": "853b18f0",
   "metadata": {},
   "source": [
    "#### Setting indexes: The `.set_index()` method"
   ]
  },
  {
   "attachments": {},
   "cell_type": "markdown",
   "id": "b20cc7ef",
   "metadata": {},
   "source": [
    "Return dataframe with the new index.\n",
    "\n",
    "<u> Parameters -- </u>\n",
    "\n",
    "- **keys**: column(s) to be set as index.\n",
    "- **drop = True** : default True. Indicates whether to remove columns used for the index.\n",
    "- **verify_integrity = False** : check for duplicate index values by setting verify_integrity=True."
   ]
  },
  {
   "attachments": {},
   "cell_type": "markdown",
   "id": "91c84821",
   "metadata": {},
   "source": [
    "#### Sorting indexes: The `.sort_index()` method"
   ]
  },
  {
   "attachments": {},
   "cell_type": "markdown",
   "id": "05e12be2",
   "metadata": {},
   "source": [
    "<u> Parameters -- </u>\n",
    "\n",
    "- **axis = 0**: This method will return dataframe with index (axis=0) or columns (axis=1) sorted.  \n",
    "- **ascending = True**: default True.\n",
    "- **key = None**:  A key function accepts an index and should return an index. For multi-level indexes, each index is passed in independently to the function."
   ]
  },
  {
   "attachments": {},
   "cell_type": "markdown",
   "id": "7d296068",
   "metadata": {},
   "source": [
    "This operation is usually done after setting a new index. If the new index is of **string type** then **sorting it will allow us to use slicing** operation on the index column. Othrwise it will throw a KeyError."
   ]
  },
  {
   "attachments": {},
   "cell_type": "markdown",
   "id": "326353b9",
   "metadata": {},
   "source": [
    "#### Sorting values: The `.sort_values()` method"
   ]
  },
  {
   "attachments": {},
   "cell_type": "markdown",
   "id": "7c7482ea",
   "metadata": {},
   "source": [
    "<u> Parameters -- </u>\n",
    "\n",
    "- **by**: column name or a list of names to sort by.\n",
    "- **ascending = True**: bool or list of bool, default True.\n",
    "- **key = None**: Apply the key function to the values before sorting. This is similar to the `key` argument in the builtin **sorted** function. A key function accepts a series and should return a series with the same index.\n"
   ]
  },
  {
   "cell_type": "code",
   "execution_count": 49,
   "id": "94e64e6c",
   "metadata": {},
   "outputs": [
    {
     "data": {
      "text/html": [
       "<div>\n",
       "<style scoped>\n",
       "    .dataframe tbody tr th:only-of-type {\n",
       "        vertical-align: middle;\n",
       "    }\n",
       "\n",
       "    .dataframe tbody tr th {\n",
       "        vertical-align: top;\n",
       "    }\n",
       "\n",
       "    .dataframe thead th {\n",
       "        text-align: right;\n",
       "    }\n",
       "</style>\n",
       "<table border=\"1\" class=\"dataframe\">\n",
       "  <thead>\n",
       "    <tr style=\"text-align: right;\">\n",
       "      <th></th>\n",
       "      <th>Seq</th>\n",
       "      <th>President</th>\n",
       "      <th>Party</th>\n",
       "      <th>Background</th>\n",
       "      <th>Imagination</th>\n",
       "      <th>Integrity</th>\n",
       "      <th>Intelligence</th>\n",
       "      <th>Luck</th>\n",
       "      <th>Willing_to_take_risks</th>\n",
       "      <th>Ability_to_compromise</th>\n",
       "      <th>Executive_ability</th>\n",
       "      <th>Leadership_ability</th>\n",
       "      <th>Communication_ability</th>\n",
       "      <th>Overall_ability</th>\n",
       "      <th>Party_leadership</th>\n",
       "      <th>Relations_with_Congress</th>\n",
       "      <th>Court_appointments</th>\n",
       "      <th>Handling_of_economy</th>\n",
       "      <th>Executive_appointments</th>\n",
       "      <th>Domestic_accomplishments</th>\n",
       "      <th>Foreign_policy_accomplishments</th>\n",
       "      <th>Avoid_crucial_mistakes</th>\n",
       "      <th>Experts’_view</th>\n",
       "      <th>Overall</th>\n",
       "      <th>Average_rank</th>\n",
       "      <th>Quartile_rank</th>\n",
       "    </tr>\n",
       "  </thead>\n",
       "  <tbody>\n",
       "    <tr>\n",
       "      <th>31</th>\n",
       "      <td>32</td>\n",
       "      <td>Franklin D. Roosevelt</td>\n",
       "      <td>Democratic</td>\n",
       "      <td>6</td>\n",
       "      <td>3</td>\n",
       "      <td>16</td>\n",
       "      <td>12</td>\n",
       "      <td>5</td>\n",
       "      <td>3</td>\n",
       "      <td>4</td>\n",
       "      <td>3</td>\n",
       "      <td>3</td>\n",
       "      <td>2</td>\n",
       "      <td>3</td>\n",
       "      <td>1</td>\n",
       "      <td>3</td>\n",
       "      <td>2</td>\n",
       "      <td>2</td>\n",
       "      <td>3</td>\n",
       "      <td>3</td>\n",
       "      <td>1</td>\n",
       "      <td>4</td>\n",
       "      <td>3</td>\n",
       "      <td>2</td>\n",
       "      <td>2</td>\n",
       "      <td>1st</td>\n",
       "    </tr>\n",
       "    <tr>\n",
       "      <th>29</th>\n",
       "      <td>30</td>\n",
       "      <td>Calvin Coolidge</td>\n",
       "      <td>Republican</td>\n",
       "      <td>32</td>\n",
       "      <td>36</td>\n",
       "      <td>17</td>\n",
       "      <td>33</td>\n",
       "      <td>13</td>\n",
       "      <td>39</td>\n",
       "      <td>27</td>\n",
       "      <td>32</td>\n",
       "      <td>38</td>\n",
       "      <td>37</td>\n",
       "      <td>33</td>\n",
       "      <td>26</td>\n",
       "      <td>24</td>\n",
       "      <td>31</td>\n",
       "      <td>24</td>\n",
       "      <td>32</td>\n",
       "      <td>33</td>\n",
       "      <td>35</td>\n",
       "      <td>22</td>\n",
       "      <td>32</td>\n",
       "      <td>31</td>\n",
       "      <td>31</td>\n",
       "      <td>3rd</td>\n",
       "    </tr>\n",
       "    <tr>\n",
       "      <th>39</th>\n",
       "      <td>40</td>\n",
       "      <td>Ronald Reagan</td>\n",
       "      <td>Republican</td>\n",
       "      <td>27</td>\n",
       "      <td>17</td>\n",
       "      <td>24</td>\n",
       "      <td>31</td>\n",
       "      <td>3</td>\n",
       "      <td>13</td>\n",
       "      <td>10</td>\n",
       "      <td>15</td>\n",
       "      <td>7</td>\n",
       "      <td>6</td>\n",
       "      <td>18</td>\n",
       "      <td>4</td>\n",
       "      <td>6</td>\n",
       "      <td>18</td>\n",
       "      <td>18</td>\n",
       "      <td>20</td>\n",
       "      <td>16</td>\n",
       "      <td>12</td>\n",
       "      <td>12</td>\n",
       "      <td>16</td>\n",
       "      <td>13</td>\n",
       "      <td>15</td>\n",
       "      <td>2nd</td>\n",
       "    </tr>\n",
       "  </tbody>\n",
       "</table>\n",
       "</div>"
      ],
      "text/plain": [
       "   Seq              President       Party  Background  Imagination  Integrity  \\\n",
       "31  32  Franklin D. Roosevelt  Democratic           6            3         16   \n",
       "29  30        Calvin Coolidge  Republican          32           36         17   \n",
       "39  40          Ronald Reagan  Republican          27           17         24   \n",
       "\n",
       "    Intelligence  Luck  Willing_to_take_risks  Ability_to_compromise  \\\n",
       "31            12     5                      3                      4   \n",
       "29            33    13                     39                     27   \n",
       "39            31     3                     13                     10   \n",
       "\n",
       "    Executive_ability  Leadership_ability  Communication_ability  \\\n",
       "31                  3                   3                      2   \n",
       "29                 32                  38                     37   \n",
       "39                 15                   7                      6   \n",
       "\n",
       "    Overall_ability  Party_leadership  Relations_with_Congress  \\\n",
       "31                3                 1                        3   \n",
       "29               33                26                       24   \n",
       "39               18                 4                        6   \n",
       "\n",
       "    Court_appointments  Handling_of_economy  Executive_appointments  \\\n",
       "31                   2                    2                       3   \n",
       "29                  31                   24                      32   \n",
       "39                  18                   18                      20   \n",
       "\n",
       "    Domestic_accomplishments  Foreign_policy_accomplishments  \\\n",
       "31                         3                               1   \n",
       "29                        33                              35   \n",
       "39                        16                              12   \n",
       "\n",
       "    Avoid_crucial_mistakes  Experts’_view  Overall  Average_rank Quartile_rank  \n",
       "31                       4              3        2             2           1st  \n",
       "29                      22             32       31            31           3rd  \n",
       "39                      12             16       13            15           2nd  "
      ]
     },
     "execution_count": 49,
     "metadata": {},
     "output_type": "execute_result"
    }
   ],
   "source": [
    "siena_2018.sort_values(by=[\"Quartile_rank\", \"Intelligence\"], ascending=[True, False]).sample(3)"
   ]
  },
  {
   "attachments": {},
   "cell_type": "markdown",
   "id": "bf792519",
   "metadata": {},
   "source": [
    "--------------------------\n",
    "## Indexing & Filtering \n",
    "------------------------"
   ]
  },
  {
   "attachments": {},
   "cell_type": "markdown",
   "id": "83ff923f",
   "metadata": {},
   "source": [
    "#### Renaming an index: The `.rename()` method"
   ]
  },
  {
   "attachments": {},
   "cell_type": "markdown",
   "id": "76511dd6",
   "metadata": {},
   "source": [
    "<u> Parameters: </u>\n",
    "- **mapper**: Dict-like or function transformations to apply to specified axis' values. In case of a function you only need to pass in the name and not call them.\n",
    "- **axis**: index (0) or, columns(1)."
   ]
  },
  {
   "cell_type": "code",
   "execution_count": 46,
   "id": "d8086f32",
   "metadata": {},
   "outputs": [
    {
     "data": {
      "text/html": [
       "<div>\n",
       "<style scoped>\n",
       "    .dataframe tbody tr th:only-of-type {\n",
       "        vertical-align: middle;\n",
       "    }\n",
       "\n",
       "    .dataframe tbody tr th {\n",
       "        vertical-align: top;\n",
       "    }\n",
       "\n",
       "    .dataframe thead th {\n",
       "        text-align: right;\n",
       "    }\n",
       "</style>\n",
       "<table border=\"1\" class=\"dataframe\">\n",
       "  <thead>\n",
       "    <tr style=\"text-align: right;\">\n",
       "      <th></th>\n",
       "      <th>Seq</th>\n",
       "      <th>Party</th>\n",
       "      <th>Background</th>\n",
       "      <th>Imagination</th>\n",
       "      <th>Integrity</th>\n",
       "      <th>Intelligence</th>\n",
       "      <th>Luck</th>\n",
       "      <th>Willing_to_take_risks</th>\n",
       "      <th>Ability_to_compromise</th>\n",
       "      <th>Executive_ability</th>\n",
       "      <th>Leadership_ability</th>\n",
       "      <th>Communication_ability</th>\n",
       "      <th>Overall_ability</th>\n",
       "      <th>Party_leadership</th>\n",
       "      <th>Relations_with_Congress</th>\n",
       "      <th>Court_appointments</th>\n",
       "      <th>Handling_of_economy</th>\n",
       "      <th>Executive_appointments</th>\n",
       "      <th>Domestic_accomplishments</th>\n",
       "      <th>Foreign_policy_accomplishments</th>\n",
       "      <th>Avoid_crucial_mistakes</th>\n",
       "      <th>Experts’_view</th>\n",
       "      <th>Overall</th>\n",
       "      <th>Average_rank</th>\n",
       "      <th>Quartile_rank</th>\n",
       "    </tr>\n",
       "    <tr>\n",
       "      <th>President</th>\n",
       "      <th></th>\n",
       "      <th></th>\n",
       "      <th></th>\n",
       "      <th></th>\n",
       "      <th></th>\n",
       "      <th></th>\n",
       "      <th></th>\n",
       "      <th></th>\n",
       "      <th></th>\n",
       "      <th></th>\n",
       "      <th></th>\n",
       "      <th></th>\n",
       "      <th></th>\n",
       "      <th></th>\n",
       "      <th></th>\n",
       "      <th></th>\n",
       "      <th></th>\n",
       "      <th></th>\n",
       "      <th></th>\n",
       "      <th></th>\n",
       "      <th></th>\n",
       "      <th></th>\n",
       "      <th></th>\n",
       "      <th></th>\n",
       "      <th></th>\n",
       "    </tr>\n",
       "  </thead>\n",
       "  <tbody>\n",
       "    <tr>\n",
       "      <th>G. Washington</th>\n",
       "      <td>1</td>\n",
       "      <td>Independent</td>\n",
       "      <td>7</td>\n",
       "      <td>7</td>\n",
       "      <td>1</td>\n",
       "      <td>10</td>\n",
       "      <td>1</td>\n",
       "      <td>6</td>\n",
       "      <td>2</td>\n",
       "      <td>2</td>\n",
       "      <td>1</td>\n",
       "      <td>11</td>\n",
       "      <td>2</td>\n",
       "      <td>18</td>\n",
       "      <td>1</td>\n",
       "      <td>1</td>\n",
       "      <td>1</td>\n",
       "      <td>1</td>\n",
       "      <td>2</td>\n",
       "      <td>2</td>\n",
       "      <td>1</td>\n",
       "      <td>2</td>\n",
       "      <td>1</td>\n",
       "      <td>1</td>\n",
       "      <td>1st</td>\n",
       "    </tr>\n",
       "    <tr>\n",
       "      <th>J. Adams</th>\n",
       "      <td>2</td>\n",
       "      <td>Federalist</td>\n",
       "      <td>3</td>\n",
       "      <td>13</td>\n",
       "      <td>4</td>\n",
       "      <td>4</td>\n",
       "      <td>24</td>\n",
       "      <td>14</td>\n",
       "      <td>31</td>\n",
       "      <td>21</td>\n",
       "      <td>21</td>\n",
       "      <td>13</td>\n",
       "      <td>8</td>\n",
       "      <td>28</td>\n",
       "      <td>17</td>\n",
       "      <td>4</td>\n",
       "      <td>13</td>\n",
       "      <td>15</td>\n",
       "      <td>19</td>\n",
       "      <td>13</td>\n",
       "      <td>16</td>\n",
       "      <td>10</td>\n",
       "      <td>14</td>\n",
       "      <td>13</td>\n",
       "      <td>2nd</td>\n",
       "    </tr>\n",
       "    <tr>\n",
       "      <th>T. Jefferson</th>\n",
       "      <td>3</td>\n",
       "      <td>Democratic-Republican</td>\n",
       "      <td>2</td>\n",
       "      <td>2</td>\n",
       "      <td>14</td>\n",
       "      <td>1</td>\n",
       "      <td>8</td>\n",
       "      <td>5</td>\n",
       "      <td>14</td>\n",
       "      <td>6</td>\n",
       "      <td>6</td>\n",
       "      <td>4</td>\n",
       "      <td>4</td>\n",
       "      <td>5</td>\n",
       "      <td>5</td>\n",
       "      <td>7</td>\n",
       "      <td>20</td>\n",
       "      <td>4</td>\n",
       "      <td>6</td>\n",
       "      <td>9</td>\n",
       "      <td>7</td>\n",
       "      <td>5</td>\n",
       "      <td>5</td>\n",
       "      <td>5</td>\n",
       "      <td>1st</td>\n",
       "    </tr>\n",
       "  </tbody>\n",
       "</table>\n",
       "</div>"
      ],
      "text/plain": [
       "              Seq                  Party  Background  Imagination  Integrity  \\\n",
       "President                                                                      \n",
       "G. Washington   1            Independent           7            7          1   \n",
       "J. Adams        2             Federalist           3           13          4   \n",
       "T. Jefferson    3  Democratic-Republican           2            2         14   \n",
       "\n",
       "               Intelligence  Luck  Willing_to_take_risks  \\\n",
       "President                                                  \n",
       "G. Washington            10     1                      6   \n",
       "J. Adams                  4    24                     14   \n",
       "T. Jefferson              1     8                      5   \n",
       "\n",
       "               Ability_to_compromise  Executive_ability  Leadership_ability  \\\n",
       "President                                                                     \n",
       "G. Washington                      2                  2                   1   \n",
       "J. Adams                          31                 21                  21   \n",
       "T. Jefferson                      14                  6                   6   \n",
       "\n",
       "               Communication_ability  Overall_ability  Party_leadership  \\\n",
       "President                                                                 \n",
       "G. Washington                     11                2                18   \n",
       "J. Adams                          13                8                28   \n",
       "T. Jefferson                       4                4                 5   \n",
       "\n",
       "               Relations_with_Congress  Court_appointments  \\\n",
       "President                                                    \n",
       "G. Washington                        1                   1   \n",
       "J. Adams                            17                   4   \n",
       "T. Jefferson                         5                   7   \n",
       "\n",
       "               Handling_of_economy  Executive_appointments  \\\n",
       "President                                                    \n",
       "G. Washington                    1                       1   \n",
       "J. Adams                        13                      15   \n",
       "T. Jefferson                    20                       4   \n",
       "\n",
       "               Domestic_accomplishments  Foreign_policy_accomplishments  \\\n",
       "President                                                                 \n",
       "G. Washington                         2                               2   \n",
       "J. Adams                             19                              13   \n",
       "T. Jefferson                          6                               9   \n",
       "\n",
       "               Avoid_crucial_mistakes  Experts’_view  Overall  Average_rank  \\\n",
       "President                                                                     \n",
       "G. Washington                       1              2        1             1   \n",
       "J. Adams                           16             10       14            13   \n",
       "T. Jefferson                        7              5        5             5   \n",
       "\n",
       "              Quartile_rank  \n",
       "President                    \n",
       "G. Washington           1st  \n",
       "J. Adams                2nd  \n",
       "T. Jefferson            1st  "
      ]
     },
     "execution_count": 46,
     "metadata": {},
     "output_type": "execute_result"
    }
   ],
   "source": [
    "# say, we would like to set the president name as our index and use initial for first name and not the full name\n",
    "def name_to_initial(val):\n",
    "    vals = val.split(\" \")\n",
    "    return \" \".join([f'{vals[0][0]}.', *vals[1:]])  # unpack the items in the vals[1:] list\n",
    "\n",
    "siena_2018.set_index(\"President\").rename(name_to_initial).head(3) # or, lambda name_: \" \".join([f'{name_.split()[0][0]}.', *name_.split()[1:]]) "
   ]
  },
  {
   "attachments": {},
   "cell_type": "markdown",
   "id": "b10ccc8d",
   "metadata": {},
   "source": [
    "#### Resetting indexes to monotonically increasing integers: The `.reset_index()` method"
   ]
  },
  {
   "cell_type": "code",
   "execution_count": 48,
   "id": "08fa0d56",
   "metadata": {},
   "outputs": [
    {
     "data": {
      "text/html": [
       "<div>\n",
       "<style scoped>\n",
       "    .dataframe tbody tr th:only-of-type {\n",
       "        vertical-align: middle;\n",
       "    }\n",
       "\n",
       "    .dataframe tbody tr th {\n",
       "        vertical-align: top;\n",
       "    }\n",
       "\n",
       "    .dataframe thead th {\n",
       "        text-align: right;\n",
       "    }\n",
       "</style>\n",
       "<table border=\"1\" class=\"dataframe\">\n",
       "  <thead>\n",
       "    <tr style=\"text-align: right;\">\n",
       "      <th></th>\n",
       "      <th>President</th>\n",
       "      <th>Seq</th>\n",
       "      <th>Party</th>\n",
       "      <th>Background</th>\n",
       "      <th>Imagination</th>\n",
       "      <th>Integrity</th>\n",
       "      <th>Intelligence</th>\n",
       "      <th>Luck</th>\n",
       "      <th>Willing_to_take_risks</th>\n",
       "      <th>Ability_to_compromise</th>\n",
       "      <th>Executive_ability</th>\n",
       "      <th>Leadership_ability</th>\n",
       "      <th>Communication_ability</th>\n",
       "      <th>Overall_ability</th>\n",
       "      <th>Party_leadership</th>\n",
       "      <th>Relations_with_Congress</th>\n",
       "      <th>Court_appointments</th>\n",
       "      <th>Handling_of_economy</th>\n",
       "      <th>Executive_appointments</th>\n",
       "      <th>Domestic_accomplishments</th>\n",
       "      <th>Foreign_policy_accomplishments</th>\n",
       "      <th>Avoid_crucial_mistakes</th>\n",
       "      <th>Experts’_view</th>\n",
       "      <th>Overall</th>\n",
       "      <th>Average_rank</th>\n",
       "      <th>Quartile_rank</th>\n",
       "    </tr>\n",
       "  </thead>\n",
       "  <tbody>\n",
       "    <tr>\n",
       "      <th>0</th>\n",
       "      <td>George Washington</td>\n",
       "      <td>1</td>\n",
       "      <td>Independent</td>\n",
       "      <td>7</td>\n",
       "      <td>7</td>\n",
       "      <td>1</td>\n",
       "      <td>10</td>\n",
       "      <td>1</td>\n",
       "      <td>6</td>\n",
       "      <td>2</td>\n",
       "      <td>2</td>\n",
       "      <td>1</td>\n",
       "      <td>11</td>\n",
       "      <td>2</td>\n",
       "      <td>18</td>\n",
       "      <td>1</td>\n",
       "      <td>1</td>\n",
       "      <td>1</td>\n",
       "      <td>1</td>\n",
       "      <td>2</td>\n",
       "      <td>2</td>\n",
       "      <td>1</td>\n",
       "      <td>2</td>\n",
       "      <td>1</td>\n",
       "      <td>1</td>\n",
       "      <td>1st</td>\n",
       "    </tr>\n",
       "    <tr>\n",
       "      <th>1</th>\n",
       "      <td>John Adams</td>\n",
       "      <td>2</td>\n",
       "      <td>Federalist</td>\n",
       "      <td>3</td>\n",
       "      <td>13</td>\n",
       "      <td>4</td>\n",
       "      <td>4</td>\n",
       "      <td>24</td>\n",
       "      <td>14</td>\n",
       "      <td>31</td>\n",
       "      <td>21</td>\n",
       "      <td>21</td>\n",
       "      <td>13</td>\n",
       "      <td>8</td>\n",
       "      <td>28</td>\n",
       "      <td>17</td>\n",
       "      <td>4</td>\n",
       "      <td>13</td>\n",
       "      <td>15</td>\n",
       "      <td>19</td>\n",
       "      <td>13</td>\n",
       "      <td>16</td>\n",
       "      <td>10</td>\n",
       "      <td>14</td>\n",
       "      <td>13</td>\n",
       "      <td>2nd</td>\n",
       "    </tr>\n",
       "    <tr>\n",
       "      <th>2</th>\n",
       "      <td>Thomas Jefferson</td>\n",
       "      <td>3</td>\n",
       "      <td>Democratic-Republican</td>\n",
       "      <td>2</td>\n",
       "      <td>2</td>\n",
       "      <td>14</td>\n",
       "      <td>1</td>\n",
       "      <td>8</td>\n",
       "      <td>5</td>\n",
       "      <td>14</td>\n",
       "      <td>6</td>\n",
       "      <td>6</td>\n",
       "      <td>4</td>\n",
       "      <td>4</td>\n",
       "      <td>5</td>\n",
       "      <td>5</td>\n",
       "      <td>7</td>\n",
       "      <td>20</td>\n",
       "      <td>4</td>\n",
       "      <td>6</td>\n",
       "      <td>9</td>\n",
       "      <td>7</td>\n",
       "      <td>5</td>\n",
       "      <td>5</td>\n",
       "      <td>5</td>\n",
       "      <td>1st</td>\n",
       "    </tr>\n",
       "  </tbody>\n",
       "</table>\n",
       "</div>"
      ],
      "text/plain": [
       "           President Seq                  Party  Background  Imagination  \\\n",
       "0  George Washington   1            Independent           7            7   \n",
       "1         John Adams   2             Federalist           3           13   \n",
       "2   Thomas Jefferson   3  Democratic-Republican           2            2   \n",
       "\n",
       "   Integrity  Intelligence  Luck  Willing_to_take_risks  \\\n",
       "0          1            10     1                      6   \n",
       "1          4             4    24                     14   \n",
       "2         14             1     8                      5   \n",
       "\n",
       "   Ability_to_compromise  Executive_ability  Leadership_ability  \\\n",
       "0                      2                  2                   1   \n",
       "1                     31                 21                  21   \n",
       "2                     14                  6                   6   \n",
       "\n",
       "   Communication_ability  Overall_ability  Party_leadership  \\\n",
       "0                     11                2                18   \n",
       "1                     13                8                28   \n",
       "2                      4                4                 5   \n",
       "\n",
       "   Relations_with_Congress  Court_appointments  Handling_of_economy  \\\n",
       "0                        1                   1                    1   \n",
       "1                       17                   4                   13   \n",
       "2                        5                   7                   20   \n",
       "\n",
       "   Executive_appointments  Domestic_accomplishments  \\\n",
       "0                       1                         2   \n",
       "1                      15                        19   \n",
       "2                       4                         6   \n",
       "\n",
       "   Foreign_policy_accomplishments  Avoid_crucial_mistakes  Experts’_view  \\\n",
       "0                               2                       1              2   \n",
       "1                              13                      16             10   \n",
       "2                               9                       7              5   \n",
       "\n",
       "   Overall  Average_rank Quartile_rank  \n",
       "0        1             1           1st  \n",
       "1       14            13           2nd  \n",
       "2        5             5           1st  "
      ]
     },
     "execution_count": 48,
     "metadata": {},
     "output_type": "execute_result"
    }
   ],
   "source": [
    "siena_2018.set_index(\"President\").reset_index().head(3)"
   ]
  },
  {
   "attachments": {},
   "cell_type": "markdown",
   "id": "4c59fba7",
   "metadata": {},
   "source": [
    "### Indexing by Name: The `.loc[]` method"
   ]
  },
  {
   "attachments": {},
   "cell_type": "markdown",
   "id": "068e0b39-166c-4e2d-bd05-f6b04dfb022c",
   "metadata": {},
   "source": [
    "The **`.loc[row indexer, column indexer]`** attribute is **primarily label based**, but may also be used with a boolean array."
   ]
  },
  {
   "attachments": {},
   "cell_type": "markdown",
   "id": "da772b05-0b33-4717-859f-d22b76295b1b",
   "metadata": {},
   "source": [
    "Allowable inputs may be:\n",
    "- **Scalar:** if any one of the indexer is passed as a scalar, it will return,\n",
    "    - a dataframe if there are multiple instances and,\n",
    "    - a series if there's only one entry. This series will have,\n",
    "        - columns set as index if axis=0.\n",
    "        - rows set as index if axis=1.\n",
    "\n",
    "For it to return a dataframe in all cases we have to pass in the scalar as a list.\n",
    "- **Array of labels**\n",
    "- **Slice object:** Slicing with .loc includes both the start and end. *Some notes:*\n",
    "    - If the axis of slicing has unsorted duplicate index labels we will first need to sort the indexes with **.sort_index()**.\n",
    "    - Slicing with string indexes only works if you sort them.\n",
    "    - Partial slicing can only be done on string types and not on categorical type.\n",
    "- **A boolean array:** of the same length as the indexing axis.\n",
    "- **A callable function:** that returns one of the above."
   ]
  },
  {
   "attachments": {},
   "cell_type": "markdown",
   "id": "b0f90595",
   "metadata": {},
   "source": [
    "#### Using functions with .loc (for filtering)"
   ]
  },
  {
   "attachments": {},
   "cell_type": "markdown",
   "id": "dbbf2e5d",
   "metadata": {},
   "source": [
    "The main advantage of using functions with .loc is that, the function will receive the current state of the dataframe as input. This is specially useful when multiple operations are chained together."
   ]
  },
  {
   "cell_type": "code",
   "execution_count": 102,
   "id": "f409bbbb-955f-48bf-8981-5cf725c82cda",
   "metadata": {},
   "outputs": [
    {
     "data": {
      "text/html": [
       "<div>\n",
       "<style scoped>\n",
       "    .dataframe tbody tr th:only-of-type {\n",
       "        vertical-align: middle;\n",
       "    }\n",
       "\n",
       "    .dataframe tbody tr th {\n",
       "        vertical-align: top;\n",
       "    }\n",
       "\n",
       "    .dataframe thead th {\n",
       "        text-align: right;\n",
       "    }\n",
       "</style>\n",
       "<table border=\"1\" class=\"dataframe\">\n",
       "  <thead>\n",
       "    <tr style=\"text-align: right;\">\n",
       "      <th></th>\n",
       "      <th>Seq</th>\n",
       "      <th>President</th>\n",
       "      <th>Party</th>\n",
       "    </tr>\n",
       "  </thead>\n",
       "  <tbody>\n",
       "    <tr>\n",
       "      <th>1</th>\n",
       "      <td>1</td>\n",
       "      <td>George Washington</td>\n",
       "      <td>Independent</td>\n",
       "    </tr>\n",
       "    <tr>\n",
       "      <th>3</th>\n",
       "      <td>3</td>\n",
       "      <td>Thomas Jefferson</td>\n",
       "      <td>Democratic-Republican</td>\n",
       "    </tr>\n",
       "    <tr>\n",
       "      <th>4</th>\n",
       "      <td>4</td>\n",
       "      <td>James Madison</td>\n",
       "      <td>Democratic-Republican</td>\n",
       "    </tr>\n",
       "  </tbody>\n",
       "</table>\n",
       "</div>"
      ],
      "text/plain": [
       "  Seq          President                  Party\n",
       "1   1  George Washington            Independent\n",
       "3   3   Thomas Jefferson  Democratic-Republican\n",
       "4   4      James Madison  Democratic-Republican"
      ]
     },
     "execution_count": 102,
     "metadata": {},
     "output_type": "execute_result"
    }
   ],
   "source": [
    "# let us select presidents with average rank < 10 and return first 3 columns of data about them\n",
    "siena_2018.loc[siena_2018.Average_rank < 10, lambda df_: df_.columns[:3]].head(3)  # :3 as first column is the index column"
   ]
  },
  {
   "cell_type": "code",
   "execution_count": 101,
   "id": "d9f8d5b1",
   "metadata": {},
   "outputs": [
    {
     "data": {
      "text/html": [
       "<div>\n",
       "<style scoped>\n",
       "    .dataframe tbody tr th:only-of-type {\n",
       "        vertical-align: middle;\n",
       "    }\n",
       "\n",
       "    .dataframe tbody tr th {\n",
       "        vertical-align: top;\n",
       "    }\n",
       "\n",
       "    .dataframe thead th {\n",
       "        text-align: right;\n",
       "    }\n",
       "</style>\n",
       "<table border=\"1\" class=\"dataframe\">\n",
       "  <thead>\n",
       "    <tr style=\"text-align: right;\">\n",
       "      <th></th>\n",
       "      <th>Seq</th>\n",
       "      <th>President</th>\n",
       "      <th>Party</th>\n",
       "    </tr>\n",
       "  </thead>\n",
       "  <tbody>\n",
       "    <tr>\n",
       "      <th>1</th>\n",
       "      <td>1</td>\n",
       "      <td>George Washington</td>\n",
       "      <td>Independent</td>\n",
       "    </tr>\n",
       "    <tr>\n",
       "      <th>3</th>\n",
       "      <td>3</td>\n",
       "      <td>Thomas Jefferson</td>\n",
       "      <td>Democratic-Republican</td>\n",
       "    </tr>\n",
       "    <tr>\n",
       "      <th>4</th>\n",
       "      <td>4</td>\n",
       "      <td>James Madison</td>\n",
       "      <td>Democratic-Republican</td>\n",
       "    </tr>\n",
       "  </tbody>\n",
       "</table>\n",
       "</div>"
      ],
      "text/plain": [
       "  Seq          President                  Party\n",
       "1   1  George Washington            Independent\n",
       "3   3   Thomas Jefferson  Democratic-Republican\n",
       "4   4      James Madison  Democratic-Republican"
      ]
     },
     "execution_count": 101,
     "metadata": {},
     "output_type": "execute_result"
    }
   ],
   "source": [
    "# the same can be achieved by the following section of code\n",
    "siena_2018.loc[siena_2018.Average_rank < 10, \"Seq\":\"Party\"].head(3)"
   ]
  },
  {
   "attachments": {},
   "cell_type": "markdown",
   "id": "ed05a473",
   "metadata": {},
   "source": [
    "### Indexing by Position: The `.iloc[]` method"
   ]
  },
  {
   "attachments": {},
   "cell_type": "markdown",
   "id": "fadcde51-0b4e-4623-99ec-5b50b164684d",
   "metadata": {},
   "source": [
    "The **`.iloc[row indexer, column indexer]`** attribute operates on **indexes and not index labels**. It can also be used with a boolean array."
   ]
  },
  {
   "attachments": {},
   "cell_type": "markdown",
   "id": "da772b05-0b33-4717-859f-d22b76295b1b",
   "metadata": {},
   "source": [
    "Allowable inputs may be:\n",
    "- **Scalar:** if any one of the indexer is passed as a scalar, it will return,\n",
    "    - a dataframe if there are multiple instances and,\n",
    "    - a series if there's only one entry. This series will have,\n",
    "        - columns set as index labels if axis=0.\n",
    "        - rows set as index labels if axis=1.\n",
    "\n",
    "For it to return a dataframe in all cases we have to pass in the scalar as a list.\n",
    "- **Array of indexes**\n",
    "- **Slice object:** Slicing with .iloc includes only the start and not the end. *Note:*, if the axis being sliced has unsorted duplicate indexed entries we will first need to sort the indexes with **.sort_index()**.\n",
    "- **A boolean array:** of the same length as the indexing axis.\n",
    "- **A callable function:** that returns one of the above."
   ]
  },
  {
   "attachments": {},
   "cell_type": "markdown",
   "id": "3a681ef4",
   "metadata": {},
   "source": [
    "### Filtering with boolean arrays (Boolean Masking)"
   ]
  },
  {
   "attachments": {},
   "cell_type": "markdown",
   "id": "a01e0b87",
   "metadata": {},
   "source": [
    "Boolean arrays can be used to filter data from a dataframe. Using different math operators (such as, &, <, >, | etc.) complex filters can be implemented."
   ]
  },
  {
   "cell_type": "code",
   "execution_count": 106,
   "id": "dcaa4d8b",
   "metadata": {},
   "outputs": [
    {
     "name": "stdout",
     "output_type": "stream",
     "text": [
      "unsupported operand type(s) for &: 'int' and 'Categorical'\n"
     ]
    }
   ],
   "source": [
    "# let's filter out the presidents who was a republican and has an average rank < 10. \n",
    "try:\n",
    "    siena_2018[siena_2018.Average_rank < 10 & siena_2018.Party == \"Republican\"]\n",
    "except TypeError as err: print(err)"
   ]
  },
  {
   "attachments": {},
   "cell_type": "markdown",
   "id": "6c2538a1",
   "metadata": {},
   "source": [
    "The takeaway is, you should always put parentheses around multiple conditions in index operations if you inline them as some operators has precedence over others."
   ]
  },
  {
   "cell_type": "code",
   "execution_count": 107,
   "id": "02ae9437",
   "metadata": {},
   "outputs": [
    {
     "data": {
      "text/html": [
       "<div>\n",
       "<style scoped>\n",
       "    .dataframe tbody tr th:only-of-type {\n",
       "        vertical-align: middle;\n",
       "    }\n",
       "\n",
       "    .dataframe tbody tr th {\n",
       "        vertical-align: top;\n",
       "    }\n",
       "\n",
       "    .dataframe thead th {\n",
       "        text-align: right;\n",
       "    }\n",
       "</style>\n",
       "<table border=\"1\" class=\"dataframe\">\n",
       "  <thead>\n",
       "    <tr style=\"text-align: right;\">\n",
       "      <th></th>\n",
       "      <th>Seq</th>\n",
       "      <th>President</th>\n",
       "      <th>Party</th>\n",
       "      <th>Background</th>\n",
       "      <th>Imagination</th>\n",
       "      <th>Integrity</th>\n",
       "      <th>Intelligence</th>\n",
       "      <th>Luck</th>\n",
       "      <th>Willing_to_take_risks</th>\n",
       "      <th>Ability_to_compromise</th>\n",
       "      <th>Executive_ability</th>\n",
       "      <th>Leadership_ability</th>\n",
       "      <th>Communication_ability</th>\n",
       "      <th>Overall_ability</th>\n",
       "      <th>Party_leadership</th>\n",
       "      <th>Relations_with_Congress</th>\n",
       "      <th>Court_appointments</th>\n",
       "      <th>Handling_of_economy</th>\n",
       "      <th>Executive_appointments</th>\n",
       "      <th>Domestic_accomplishments</th>\n",
       "      <th>Foreign_policy_accomplishments</th>\n",
       "      <th>Avoid_crucial_mistakes</th>\n",
       "      <th>Experts’_view</th>\n",
       "      <th>Overall</th>\n",
       "      <th>Average_rank</th>\n",
       "      <th>Quartile_rank</th>\n",
       "    </tr>\n",
       "  </thead>\n",
       "  <tbody>\n",
       "    <tr>\n",
       "      <th>16</th>\n",
       "      <td>16</td>\n",
       "      <td>Abraham Lincoln</td>\n",
       "      <td>Republican</td>\n",
       "      <td>28</td>\n",
       "      <td>1</td>\n",
       "      <td>2</td>\n",
       "      <td>2</td>\n",
       "      <td>18</td>\n",
       "      <td>1</td>\n",
       "      <td>1</td>\n",
       "      <td>1</td>\n",
       "      <td>2</td>\n",
       "      <td>1</td>\n",
       "      <td>1</td>\n",
       "      <td>2</td>\n",
       "      <td>4</td>\n",
       "      <td>3</td>\n",
       "      <td>4</td>\n",
       "      <td>2</td>\n",
       "      <td>1</td>\n",
       "      <td>6</td>\n",
       "      <td>2</td>\n",
       "      <td>1</td>\n",
       "      <td>3</td>\n",
       "      <td>3</td>\n",
       "      <td>1st</td>\n",
       "    </tr>\n",
       "    <tr>\n",
       "      <th>25</th>\n",
       "      <td>26</td>\n",
       "      <td>Theodore Roosevelt</td>\n",
       "      <td>Republican</td>\n",
       "      <td>5</td>\n",
       "      <td>4</td>\n",
       "      <td>8</td>\n",
       "      <td>6</td>\n",
       "      <td>2</td>\n",
       "      <td>2</td>\n",
       "      <td>15</td>\n",
       "      <td>4</td>\n",
       "      <td>4</td>\n",
       "      <td>5</td>\n",
       "      <td>5</td>\n",
       "      <td>7</td>\n",
       "      <td>7</td>\n",
       "      <td>9</td>\n",
       "      <td>3</td>\n",
       "      <td>5</td>\n",
       "      <td>4</td>\n",
       "      <td>3</td>\n",
       "      <td>5</td>\n",
       "      <td>4</td>\n",
       "      <td>4</td>\n",
       "      <td>4</td>\n",
       "      <td>1st</td>\n",
       "    </tr>\n",
       "    <tr>\n",
       "      <th>33</th>\n",
       "      <td>34</td>\n",
       "      <td>Dwight D. Eisenhower</td>\n",
       "      <td>Republican</td>\n",
       "      <td>11</td>\n",
       "      <td>18</td>\n",
       "      <td>5</td>\n",
       "      <td>17</td>\n",
       "      <td>7</td>\n",
       "      <td>21</td>\n",
       "      <td>5</td>\n",
       "      <td>5</td>\n",
       "      <td>5</td>\n",
       "      <td>20</td>\n",
       "      <td>7</td>\n",
       "      <td>15</td>\n",
       "      <td>9</td>\n",
       "      <td>5</td>\n",
       "      <td>6</td>\n",
       "      <td>11</td>\n",
       "      <td>8</td>\n",
       "      <td>7</td>\n",
       "      <td>3</td>\n",
       "      <td>6</td>\n",
       "      <td>6</td>\n",
       "      <td>6</td>\n",
       "      <td>1st</td>\n",
       "    </tr>\n",
       "  </tbody>\n",
       "</table>\n",
       "</div>"
      ],
      "text/plain": [
       "   Seq             President       Party  Background  Imagination  Integrity  \\\n",
       "16  16       Abraham Lincoln  Republican          28            1          2   \n",
       "25  26    Theodore Roosevelt  Republican           5            4          8   \n",
       "33  34  Dwight D. Eisenhower  Republican          11           18          5   \n",
       "\n",
       "    Intelligence  Luck  Willing_to_take_risks  Ability_to_compromise  \\\n",
       "16             2    18                      1                      1   \n",
       "25             6     2                      2                     15   \n",
       "33            17     7                     21                      5   \n",
       "\n",
       "    Executive_ability  Leadership_ability  Communication_ability  \\\n",
       "16                  1                   2                      1   \n",
       "25                  4                   4                      5   \n",
       "33                  5                   5                     20   \n",
       "\n",
       "    Overall_ability  Party_leadership  Relations_with_Congress  \\\n",
       "16                1                 2                        4   \n",
       "25                5                 7                        7   \n",
       "33                7                15                        9   \n",
       "\n",
       "    Court_appointments  Handling_of_economy  Executive_appointments  \\\n",
       "16                   3                    4                       2   \n",
       "25                   9                    3                       5   \n",
       "33                   5                    6                      11   \n",
       "\n",
       "    Domestic_accomplishments  Foreign_policy_accomplishments  \\\n",
       "16                         1                               6   \n",
       "25                         4                               3   \n",
       "33                         8                               7   \n",
       "\n",
       "    Avoid_crucial_mistakes  Experts’_view  Overall  Average_rank Quartile_rank  \n",
       "16                       2              1        3             3           1st  \n",
       "25                       5              4        4             4           1st  \n",
       "33                       3              6        6             6           1st  "
      ]
     },
     "execution_count": 107,
     "metadata": {},
     "output_type": "execute_result"
    }
   ],
   "source": [
    "# now lets do this properly\n",
    "siena_2018[(siena_2018.Average_rank < 10) & (siena_2018.Party == \"Republican\")]"
   ]
  },
  {
   "attachments": {},
   "cell_type": "markdown",
   "id": "b783ab36",
   "metadata": {},
   "source": [
    "### Filtering with the `.query()` method"
   ]
  },
  {
   "cell_type": "code",
   "execution_count": null,
   "id": "448d0ef1",
   "metadata": {},
   "outputs": [],
   "source": []
  },
  {
   "cell_type": "code",
   "execution_count": null,
   "id": "cc9652d6",
   "metadata": {},
   "outputs": [],
   "source": []
  },
  {
   "cell_type": "code",
   "execution_count": null,
   "id": "39fbaaa6",
   "metadata": {},
   "outputs": [],
   "source": []
  },
  {
   "cell_type": "code",
   "execution_count": null,
   "id": "14ad4e8f",
   "metadata": {},
   "outputs": [],
   "source": []
  },
  {
   "cell_type": "code",
   "execution_count": null,
   "id": "5262e62c",
   "metadata": {},
   "outputs": [],
   "source": []
  },
  {
   "cell_type": "code",
   "execution_count": null,
   "id": "018aa700",
   "metadata": {},
   "outputs": [],
   "source": []
  }
 ],
 "metadata": {
  "kernelspec": {
   "display_name": "Python 3 (ipykernel)",
   "language": "python",
   "name": "python3"
  },
  "language_info": {
   "codemirror_mode": {
    "name": "ipython",
    "version": 3
   },
   "file_extension": ".py",
   "mimetype": "text/x-python",
   "name": "python",
   "nbconvert_exporter": "python",
   "pygments_lexer": "ipython3",
   "version": "3.8.15"
  },
  "vscode": {
   "interpreter": {
    "hash": "c68b33fb54bb59552268eca97cce0a66d93ba1e1c3c0870be37ac7a47ccc96a3"
   }
  }
 },
 "nbformat": 4,
 "nbformat_minor": 5
}
