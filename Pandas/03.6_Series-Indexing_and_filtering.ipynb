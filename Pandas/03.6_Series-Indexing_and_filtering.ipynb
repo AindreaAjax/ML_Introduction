{
 "cells": [
  {
   "cell_type": "markdown",
   "metadata": {},
   "source": [
    "**Table of contents**<a id='toc0_'></a>    \n",
    "- [Import Statements](#toc1_1_)    \n",
    "  - [Importing the data](#toc1_2_)    \n",
    "- [Indexing Operations](#toc2_)    \n",
    "  - [*Index Positions and Index Labels*](#toc2_1_)    \n",
    "    - [Renaming Index Labels](#toc2_1_1_)    \n",
    "    - [`.reindex(index)` is used for reindexing index labels with new indexes](#toc2_1_2_)    \n",
    "    - [Filtering Index Labels with `.filter(items, like, regex)`](#toc2_1_3_)    \n",
    "    - [Resetting Index Labels](#toc2_1_4_)    \n",
    "  - [*Accessing elements with the `.loc[]` and `.iloc[]` methods*](#toc2_2_)    \n",
    "    - [The `.loc[]` method ](#toc2_2_1_)    \n",
    "    - [The `.iloc[]` method ](#toc2_2_2_)    \n",
    "\n",
    "<!-- vscode-jupyter-toc-config\n",
    "\tnumbering=false\n",
    "\tanchor=true\n",
    "\tflat=false\n",
    "\tminLevel=2\n",
    "\tmaxLevel=5\n",
    "\t/vscode-jupyter-toc-config -->\n",
    "<!-- THIS CELL WILL BE REPLACED ON TOC UPDATE. DO NOT WRITE YOUR TEXT IN THIS CELL -->"
   ]
  },
  {
   "cell_type": "markdown",
   "metadata": {},
   "source": [
    "**Read the official documentation on pandas Series objects @ https://pandas.pydata.org/pandas-docs/stable/reference/series.html**"
   ]
  },
  {
   "cell_type": "markdown",
   "metadata": {},
   "source": [
    "**`Note:`** We can actually use python built in functions on pandas series objects. i.e., **len, type, dir, in, sum, product, mean, sorted, max, min** etc.\n",
    "\n",
    "Also, the notion of **chaining functions/methods** in pandas is similar to python."
   ]
  },
  {
   "cell_type": "markdown",
   "metadata": {},
   "source": [
    "### <a id='toc1_1_'></a>[Import Statements](#toc0_)"
   ]
  },
  {
   "cell_type": "code",
   "execution_count": 1,
   "metadata": {},
   "outputs": [],
   "source": [
    "# import statements\n",
    "import numpy as np\n",
    "import pandas as pd"
   ]
  },
  {
   "cell_type": "markdown",
   "metadata": {},
   "source": [
    "### <a id='toc1_2_'></a>[Importing the data](#toc0_)"
   ]
  },
  {
   "cell_type": "markdown",
   "metadata": {},
   "source": [
    "One of the many datasets we will use for our examples in this notebook is the `/Data/vehicles.csv.zip` dataset."
   ]
  },
  {
   "cell_type": "code",
   "execution_count": 2,
   "metadata": {},
   "outputs": [
    {
     "name": "stderr",
     "output_type": "stream",
     "text": [
      "/tmp/ipykernel_94407/4195767653.py:2: DtypeWarning: Columns (68,70,71,72,73,74,76,79) have mixed types. Specify dtype option on import or set low_memory=False.\n",
      "  df = pd.read_csv(\"Data/vehicles.csv.zip\")\n"
     ]
    }
   ],
   "source": [
    "# read the vehicles.csv dataset\n",
    "df = pd.read_csv(\"Data/vehicles.csv.zip\")"
   ]
  },
  {
   "cell_type": "markdown",
   "metadata": {},
   "source": [
    "Columns of a dataframe can be accessed in various ways. One of which is to use the **dot i.e, ' . ' notation**."
   ]
  },
  {
   "cell_type": "code",
   "execution_count": 3,
   "metadata": {},
   "outputs": [],
   "source": [
    "# the city08 and highway08 columns from the vehicles.csv dataset provides information on\n",
    "# miles per gallon usage while driving around in the city and highway respectively.\n",
    "city_mpg = df.city08\n",
    "highway_mpg = df.highway08"
   ]
  },
  {
   "cell_type": "code",
   "execution_count": 4,
   "metadata": {},
   "outputs": [],
   "source": [
    "# The make in the vehicles dataset provides the manufacturer name (strings) and is stored as an object.\n",
    "manufac = df.make"
   ]
  },
  {
   "cell_type": "markdown",
   "metadata": {},
   "source": [
    "**Note:** The first thing we should do when we load in a dataset is to check the datatypes of each column and cast each of them to more suitable datatypes. This is to save space and speed up our code execution."
   ]
  },
  {
   "cell_type": "markdown",
   "metadata": {},
   "source": [
    "----------------------"
   ]
  },
  {
   "cell_type": "markdown",
   "metadata": {},
   "source": [
    "## <a id='toc2_'></a>[Indexing Operations](#toc0_)"
   ]
  },
  {
   "cell_type": "markdown",
   "metadata": {},
   "source": [
    "---------------------"
   ]
  },
  {
   "cell_type": "markdown",
   "metadata": {},
   "source": [
    "We will see later when we discuss about DataFrames that most of what we learn here (indexing of Series objects) applies to the DataFrame objects as well."
   ]
  },
  {
   "cell_type": "markdown",
   "metadata": {},
   "source": [
    "To view the index of a Series we can use the `.index` method."
   ]
  },
  {
   "cell_type": "code",
   "execution_count": 5,
   "metadata": {},
   "outputs": [
    {
     "data": {
      "text/plain": [
       "RangeIndex(start=0, stop=41144, step=1)"
      ]
     },
     "execution_count": 5,
     "metadata": {},
     "output_type": "execute_result"
    }
   ],
   "source": [
    "city_mpg.index"
   ]
  },
  {
   "cell_type": "markdown",
   "metadata": {},
   "source": [
    "### <a id='toc2_1_'></a>[*Index Positions and Index Labels*](#toc0_)"
   ]
  },
  {
   "cell_type": "markdown",
   "metadata": {},
   "source": [
    "Many of the operations we will discuss here works on the index position while others work on the index label. If these are both integer values, it can be a little confusing but becomes more clear if the index has string labels. So first, we will relabel the indexes to some string values."
   ]
  },
  {
   "cell_type": "markdown",
   "metadata": {},
   "source": [
    "#### <a id='toc2_1_1_'></a>[Renaming Index Labels](#toc0_)"
   ]
  },
  {
   "cell_type": "markdown",
   "metadata": {},
   "source": [
    "The `.rename(index)` method will return a new series with the original values but new index labels. If you pass in a scalar value it will change the .name attribute of the new series it returns, leaving the index intact."
   ]
  },
  {
   "cell_type": "markdown",
   "metadata": {},
   "source": [
    "We can pass in a dictionary to map the previous index label to the new label. It also accepts a series, a scalar or, a function that takes an old label and returns a new label or a sequence. When we pass in a series and the index values are the same, the values from the series that we passed in are used as the index."
   ]
  },
  {
   "cell_type": "code",
   "execution_count": 6,
   "metadata": {},
   "outputs": [],
   "source": [
    "# renaming the index labels of the city_mpg series with manufacturers names\n",
    "# to_dict() will create a dict with the format of, idx as key: series content as value\n",
    "city_rnm = city_mpg.rename(index=manufac.to_dict())"
   ]
  },
  {
   "cell_type": "markdown",
   "metadata": {},
   "source": [
    "**Note:** The `.index()` method can be used on a Series/DataFrame object to extract the index labels as a separate series"
   ]
  },
  {
   "cell_type": "code",
   "execution_count": 7,
   "metadata": {},
   "outputs": [
    {
     "data": {
      "text/plain": [
       "Index(['Alfa Romeo', 'Ferrari', 'Dodge', 'Dodge', 'Subaru', 'Subaru', 'Subaru',\n",
       "       'Toyota', 'Toyota', 'Toyota',\n",
       "       ...\n",
       "       'Saab', 'Saturn', 'Saturn', 'Saturn', 'Saturn', 'Subaru', 'Subaru',\n",
       "       'Subaru', 'Subaru', 'Subaru'],\n",
       "      dtype='object', length=41144)"
      ]
     },
     "execution_count": 7,
     "metadata": {},
     "output_type": "execute_result"
    }
   ],
   "source": [
    "city_rnm.index"
   ]
  },
  {
   "cell_type": "markdown",
   "metadata": {},
   "source": [
    "#### <a id='toc2_1_2_'></a>[`.reindex(index)` is used for reindexing index labels with new indexes](#toc0_)"
   ]
  },
  {
   "cell_type": "markdown",
   "metadata": {},
   "source": [
    "Index is array like which defines the new labels/index to conform to. But note that, reindexing on an axis with duplicate labels will not work. Also, it places NA/NaN in locations (with the new index labels) having no value in the previous index. This behavious can be avoided by defining an optional fill_value."
   ]
  },
  {
   "cell_type": "code",
   "execution_count": 8,
   "metadata": {},
   "outputs": [],
   "source": [
    "index = ['Firefox', 'Chrome', 'Safari', 'IE10', 'Konqueror']"
   ]
  },
  {
   "cell_type": "code",
   "execution_count": 9,
   "metadata": {},
   "outputs": [],
   "source": [
    "browser_http_codes = pd.Series(data=[200, 300, 400, 404, 308], name='http_codes', index=index)"
   ]
  },
  {
   "cell_type": "code",
   "execution_count": 10,
   "metadata": {},
   "outputs": [
    {
     "data": {
      "text/plain": [
       "Firefox      200\n",
       "Chrome       300\n",
       "Safari       400\n",
       "IE10         404\n",
       "Konqueror    308\n",
       "Name: http_codes, dtype: int64"
      ]
     },
     "execution_count": 10,
     "metadata": {},
     "output_type": "execute_result"
    }
   ],
   "source": [
    "browser_http_codes"
   ]
  },
  {
   "cell_type": "code",
   "execution_count": 11,
   "metadata": {},
   "outputs": [],
   "source": [
    "new_index = ['Safari', 'Iceweasel', 'Comodo Dragon', 'IE10', 'Chrome']"
   ]
  },
  {
   "cell_type": "code",
   "execution_count": 12,
   "metadata": {},
   "outputs": [
    {
     "data": {
      "text/plain": [
       "Safari               400\n",
       "Iceweasel        missing\n",
       "Comodo Dragon    missing\n",
       "IE10                 404\n",
       "Chrome               300\n",
       "Name: http_codes, dtype: object"
      ]
     },
     "execution_count": 12,
     "metadata": {},
     "output_type": "execute_result"
    }
   ],
   "source": [
    "browser_http_codes.reindex(index=new_index, fill_value=\"missing\")"
   ]
  },
  {
   "cell_type": "markdown",
   "metadata": {},
   "source": [
    "**Note:** This `.reindex()` method can also be used with DataFrames and can be used to reindex column lables as well."
   ]
  },
  {
   "cell_type": "markdown",
   "metadata": {},
   "source": [
    "#### <a id='toc2_1_3_'></a>[Filtering Index Labels with `.filter(items, like, regex)`](#toc0_)"
   ]
  },
  {
   "cell_type": "markdown",
   "metadata": {},
   "source": [
    "- **items** (passed as a list) is used for exact matches. Note that exact match (with items) fails with duplicate index labels but if the index doesn't exist it will not throw an error.\n",
    "- **like** is used for substring matches.\n",
    "- **regex** allows to specify a regular expression to match against index values."
   ]
  },
  {
   "cell_type": "code",
   "execution_count": 13,
   "metadata": {},
   "outputs": [
    {
     "name": "stdout",
     "output_type": "stream",
     "text": [
      "cannot reindex on an axis with duplicate labels\n"
     ]
    }
   ],
   "source": [
    "# items\n",
    "try:\n",
    "    city_rnm.filter(items=[\"Panos\"])\n",
    "except ValueError as err:\n",
    "    print(err)"
   ]
  },
  {
   "cell_type": "code",
   "execution_count": 14,
   "metadata": {},
   "outputs": [
    {
     "data": {
      "text/plain": [
       "BMW              14\n",
       "BMW              14\n",
       "BMW              11\n",
       "Buick            21\n",
       "Buick            17\n",
       "                 ..\n",
       "BMW              15\n",
       "BMW              14\n",
       "Buick            19\n",
       "Buick            18\n",
       "Mercedes-Benz    16\n",
       "Name: city08, Length: 4344, dtype: int64"
      ]
     },
     "execution_count": 14,
     "metadata": {},
     "output_type": "execute_result"
    }
   ],
   "source": [
    "# like\n",
    "city_rnm.filter(like=\"B\")"
   ]
  },
  {
   "cell_type": "code",
   "execution_count": 15,
   "metadata": {},
   "outputs": [
    {
     "data": {
      "text/plain": [
       "Alfa Romeo    19\n",
       "Audi          17\n",
       "Audi          17\n",
       "BMW           14\n",
       "BMW           14\n",
       "              ..\n",
       "Chevrolet     12\n",
       "Chevrolet     11\n",
       "Chevrolet     15\n",
       "Chevrolet     16\n",
       "Chevrolet     10\n",
       "Name: city08, Length: 9742, dtype: int64"
      ]
     },
     "execution_count": 15,
     "metadata": {},
     "output_type": "execute_result"
    }
   ],
   "source": [
    "# regex for filtering labels that starts with A/B/C\n",
    "city_rnm.filter(regex=\"^[A-C].\")"
   ]
  },
  {
   "cell_type": "markdown",
   "metadata": {},
   "source": [
    "#### <a id='toc2_1_4_'></a>[Resetting Index Labels](#toc0_)"
   ]
  },
  {
   "cell_type": "markdown",
   "metadata": {},
   "source": [
    "Sometimes we need a unique index to perform an operation. If you want to set the index to monotonic increasing, and therefore unique integers starting at zero, you can use the `.reset_index()` method. By default, this method will return a dataframe, moving the current index into a new column. To drop the current index and return a Series, we can set **drop=True**."
   ]
  },
  {
   "cell_type": "code",
   "execution_count": 16,
   "metadata": {},
   "outputs": [
    {
     "data": {
      "text/html": [
       "<div>\n",
       "<style scoped>\n",
       "    .dataframe tbody tr th:only-of-type {\n",
       "        vertical-align: middle;\n",
       "    }\n",
       "\n",
       "    .dataframe tbody tr th {\n",
       "        vertical-align: top;\n",
       "    }\n",
       "\n",
       "    .dataframe thead th {\n",
       "        text-align: right;\n",
       "    }\n",
       "</style>\n",
       "<table border=\"1\" class=\"dataframe\">\n",
       "  <thead>\n",
       "    <tr style=\"text-align: right;\">\n",
       "      <th></th>\n",
       "      <th>index</th>\n",
       "      <th>city08</th>\n",
       "    </tr>\n",
       "  </thead>\n",
       "  <tbody>\n",
       "    <tr>\n",
       "      <th>0</th>\n",
       "      <td>Alfa Romeo</td>\n",
       "      <td>19</td>\n",
       "    </tr>\n",
       "    <tr>\n",
       "      <th>1</th>\n",
       "      <td>Ferrari</td>\n",
       "      <td>9</td>\n",
       "    </tr>\n",
       "    <tr>\n",
       "      <th>2</th>\n",
       "      <td>Dodge</td>\n",
       "      <td>23</td>\n",
       "    </tr>\n",
       "    <tr>\n",
       "      <th>3</th>\n",
       "      <td>Dodge</td>\n",
       "      <td>10</td>\n",
       "    </tr>\n",
       "    <tr>\n",
       "      <th>4</th>\n",
       "      <td>Subaru</td>\n",
       "      <td>17</td>\n",
       "    </tr>\n",
       "  </tbody>\n",
       "</table>\n",
       "</div>"
      ],
      "text/plain": [
       "        index  city08\n",
       "0  Alfa Romeo      19\n",
       "1     Ferrari       9\n",
       "2       Dodge      23\n",
       "3       Dodge      10\n",
       "4      Subaru      17"
      ]
     },
     "execution_count": 16,
     "metadata": {},
     "output_type": "execute_result"
    }
   ],
   "source": [
    "city_rnm.reset_index().head()"
   ]
  },
  {
   "cell_type": "markdown",
   "metadata": {},
   "source": [
    "### <a id='toc2_2_'></a>[*Accessing elements with the `.loc[]` and `.iloc[]` methods*](#toc0_) [&#8593;](#toc0_)"
   ]
  },
  {
   "cell_type": "markdown",
   "metadata": {},
   "source": [
    "#### <a id='toc2_2_1_'></a>[The `.loc[]` method](#toc0_)  [&#8593;](#toc0_)"
   ]
  },
  {
   "cell_type": "markdown",
   "metadata": {},
   "source": [
    "The **.loc** attribute is **primarily label based**, but may also be used with a boolean array."
   ]
  },
  {
   "cell_type": "markdown",
   "metadata": {},
   "source": [
    "Allowable inputs may be:\n",
    "- **Scalar:** if only a scalar index label is passed it will return a series in case of duplicate labels and a scalar in case of a unique label. For it to return a series in all cases we have to pass in the scalar as a list.\n",
    "- **Array like:** a list or array of labels. Will return a series object.\n",
    "- **Slice object:** one thing to note, to slice a series with duplicate index labels we will first need to sort the indexes with **.sort_index()**. Slicing with .loc includes both the start and end string.\n",
    "- **A boolean array:** of the same length as the series.\n",
    "- An alignable pandas **Index object**.\n",
    "- **A callable function:** that returns one of the above."
   ]
  },
  {
   "cell_type": "code",
   "execution_count": 17,
   "metadata": {},
   "outputs": [
    {
     "data": {
      "text/plain": [
       "Ferrari    11\n",
       "Ferrari    11\n",
       "Ferrari     9\n",
       "Name: city08, dtype: int64"
      ]
     },
     "execution_count": 17,
     "metadata": {},
     "output_type": "execute_result"
    }
   ],
   "source": [
    "# scalar as input to .loc\n",
    "city_rnm.loc[\"Ferrari\"].sample(3)"
   ]
  },
  {
   "cell_type": "code",
   "execution_count": 18,
   "metadata": {},
   "outputs": [
    {
     "data": {
      "text/plain": [
       "Honda     19\n",
       "Toyota    26\n",
       "Toyota    20\n",
       "Honda     24\n",
       "Name: city08, dtype: int64"
      ]
     },
     "execution_count": 18,
     "metadata": {},
     "output_type": "execute_result"
    }
   ],
   "source": [
    "# array/list as input to .loc\n",
    "city_rnm.loc[[\"Ferrari\", \"Honda\", \"Toyota\"]].sample(4)"
   ]
  },
  {
   "cell_type": "code",
   "execution_count": 19,
   "metadata": {},
   "outputs": [
    {
     "data": {
      "text/plain": [
       "Federal Coach    15\n",
       "Federal Coach    13\n",
       "Federal Coach    13\n",
       "Federal Coach    14\n",
       "Federal Coach    13\n",
       "                 ..\n",
       "Ferrari          13\n",
       "Ferrari           8\n",
       "Ferrari           9\n",
       "Ferrari          13\n",
       "Ferrari          10\n",
       "Name: city08, Length: 243, dtype: int64"
      ]
     },
     "execution_count": 19,
     "metadata": {},
     "output_type": "execute_result"
    }
   ],
   "source": [
    "# slice object as input to .loc\n",
    "city_rnm.sort_index().loc[\"Federal\":\"Ferrari\"]"
   ]
  },
  {
   "cell_type": "code",
   "execution_count": 20,
   "metadata": {},
   "outputs": [
    {
     "data": {
      "text/plain": [
       "Federal Coach    15\n",
       "Federal Coach    13\n",
       "Federal Coach    13\n",
       "Federal Coach    14\n",
       "Federal Coach    13\n",
       "                 ..\n",
       "Ford             13\n",
       "Ford             17\n",
       "Ford             12\n",
       "Ford             17\n",
       "Ford             15\n",
       "Name: city08, Length: 3686, dtype: int64"
      ]
     },
     "execution_count": 20,
     "metadata": {},
     "output_type": "execute_result"
    }
   ],
   "source": [
    "# slicing with partial strings\n",
    "city_rnm.sort_index().loc[\"F\":\"G\"]"
   ]
  },
  {
   "cell_type": "code",
   "execution_count": 21,
   "metadata": {},
   "outputs": [
    {
     "data": {
      "text/plain": [
       "Scion    138\n",
       "smart    122\n",
       "Fiat     121\n",
       "Name: city08, dtype: int64"
      ]
     },
     "execution_count": 21,
     "metadata": {},
     "output_type": "execute_result"
    }
   ],
   "source": [
    "# Boolean array as input to .loc\n",
    "boolean_mask = city_rnm > 120\n",
    "city_rnm.loc[boolean_mask].sample(3)"
   ]
  },
  {
   "cell_type": "code",
   "execution_count": 22,
   "metadata": {},
   "outputs": [
    {
     "data": {
      "text/plain": [
       "BMW        123.3\n",
       "Tesla      126.0\n",
       "Hyundai    135.0\n",
       "Name: city08, dtype: float64"
      ]
     },
     "execution_count": 22,
     "metadata": {},
     "output_type": "execute_result"
    }
   ],
   "source": [
    "# Function as input to .loc\n",
    "\n",
    "# say, we estimate that in the coming year due to regulations, all the vehicles will loose\n",
    "# 10% of the current mileage and we want to calculate that mileage from our current data\n",
    "# and see which cars will still have mpg > 120\n",
    "city_rnm.mul(0.9).loc[lambda x: x > 120].sample(3)"
   ]
  },
  {
   "cell_type": "markdown",
   "metadata": {},
   "source": [
    "**`Note:`** The lambda function is applied to the elements of the Series one by one, not to the entire Series at once. This behavior is not fully vectorized in the sense that the lambda function is not applied to all elements simultaneously, like in a true vectorized operation would. Instead, it involves element-wise processing similar to a loop as if you were looping through the elements and applying the lambda function to each element one by one."
   ]
  },
  {
   "cell_type": "markdown",
   "metadata": {},
   "source": [
    "#### <a id='toc2_2_2_'></a>[The `.iloc[]` method](#toc0_)  [&#8593;](#toc0_)"
   ]
  },
  {
   "cell_type": "markdown",
   "metadata": {},
   "source": [
    "The **.iloc** attribute operates on **indexes and not index labels**. It can also be used with a boolean array."
   ]
  },
  {
   "cell_type": "markdown",
   "metadata": {},
   "source": [
    "Allowable inputs may be:\n",
    "- **Scalar:** The value, a scalar, at that index.\n",
    "- **Array like:** a list or array of indexes. Will return a series object.\n",
    "- **Slice object:** end of the slice is exclusive i.e, works similarly as list slicing would.\n",
    "- **A numpy array of booleans (or, a python list):** of the same length as the series. Note that, it must be numpy array or a list and not pandas series objects (aka, boolean array).\n",
    "- **A callable function:** that returns one of the above.\n",
    "- **A tuple:** applicable for DataFrame objects. A tuple of row and column indexes."
   ]
  },
  {
   "cell_type": "code",
   "execution_count": 23,
   "metadata": {},
   "outputs": [],
   "source": [
    "mask = city_rnm > 120"
   ]
  },
  {
   "cell_type": "code",
   "execution_count": 24,
   "metadata": {},
   "outputs": [
    {
     "data": {
      "text/plain": [
       "Alfa Romeo    False\n",
       "Ferrari       False\n",
       "Dodge         False\n",
       "Dodge         False\n",
       "Subaru        False\n",
       "              ...  \n",
       "Subaru        False\n",
       "Subaru        False\n",
       "Subaru        False\n",
       "Subaru        False\n",
       "Subaru        False\n",
       "Name: city08, Length: 41144, dtype: bool"
      ]
     },
     "execution_count": 24,
     "metadata": {},
     "output_type": "execute_result"
    }
   ],
   "source": [
    "mask"
   ]
  },
  {
   "cell_type": "markdown",
   "metadata": {},
   "source": [
    "**Note:** a pandas series object of boolean values needs to be first converted to a numpy array i.e, a boolean array or a python list before it can be used with iloc."
   ]
  },
  {
   "cell_type": "code",
   "execution_count": 25,
   "metadata": {},
   "outputs": [
    {
     "data": {
      "text/plain": [
       "Mitsubishi    126\n",
       "Name: city08, dtype: int64"
      ]
     },
     "execution_count": 25,
     "metadata": {},
     "output_type": "execute_result"
    }
   ],
   "source": [
    "city_rnm.iloc[mask.to_numpy()].sample()"
   ]
  },
  {
   "cell_type": "code",
   "execution_count": null,
   "metadata": {},
   "outputs": [],
   "source": []
  }
 ],
 "metadata": {
  "kernelspec": {
   "display_name": "ml_intro",
   "language": "python",
   "name": "python3"
  },
  "language_info": {
   "codemirror_mode": {
    "name": "ipython",
    "version": 3
   },
   "file_extension": ".py",
   "mimetype": "text/x-python",
   "name": "python",
   "nbconvert_exporter": "python",
   "pygments_lexer": "ipython3",
   "version": "3.11.6"
  },
  "orig_nbformat": 4
 },
 "nbformat": 4,
 "nbformat_minor": 2
}
