{
 "cells": [
  {
   "cell_type": "markdown",
   "metadata": {},
   "source": [
    "**Table of contents**<a id='toc0_'></a>    \n",
    "- [Import Statements](#toc1_1_)    \n",
    "  - [Importing the data](#toc1_2_)    \n",
    "- [Data type casting](#toc2_)    \n",
    "    - [*Inspecting numerical limits of different integer and float types*](#toc2_1_1_)    \n",
    "    - [*Checking memory usage*](#toc2_1_2_)    \n",
    "    - [*String and Categorical type*](#toc2_1_3_)    \n",
    "\n",
    "<!-- vscode-jupyter-toc-config\n",
    "\tnumbering=false\n",
    "\tanchor=true\n",
    "\tflat=false\n",
    "\tminLevel=2\n",
    "\tmaxLevel=5\n",
    "\t/vscode-jupyter-toc-config -->\n",
    "<!-- THIS CELL WILL BE REPLACED ON TOC UPDATE. DO NOT WRITE YOUR TEXT IN THIS CELL -->"
   ]
  },
  {
   "cell_type": "markdown",
   "metadata": {},
   "source": [
    "**Read the official documentation on pandas Series objects @ https://pandas.pydata.org/pandas-docs/stable/reference/series.html**"
   ]
  },
  {
   "cell_type": "markdown",
   "metadata": {},
   "source": [
    "**`Note:`** We can actually use python built in functions on pandas series objects. i.e., **len, type, dir, in, sum, product, mean, sorted, max, min** etc.\n",
    "\n",
    "Also, the notion of **chaining functions/methods** in pandas is similar to python."
   ]
  },
  {
   "cell_type": "markdown",
   "metadata": {},
   "source": [
    "### <a id='toc1_1_'></a>[Import Statements](#toc0_)"
   ]
  },
  {
   "cell_type": "code",
   "execution_count": 1,
   "metadata": {},
   "outputs": [],
   "source": [
    "# import statements\n",
    "import numpy as np\n",
    "import pandas as pd"
   ]
  },
  {
   "cell_type": "markdown",
   "metadata": {},
   "source": [
    "### <a id='toc1_2_'></a>[Importing the data](#toc0_)"
   ]
  },
  {
   "cell_type": "markdown",
   "metadata": {},
   "source": [
    "One of the many datasets we will use for our examples in this notebook is the `/Data/vehicles.csv.zip` dataset."
   ]
  },
  {
   "cell_type": "code",
   "execution_count": 2,
   "metadata": {},
   "outputs": [
    {
     "name": "stderr",
     "output_type": "stream",
     "text": [
      "/tmp/ipykernel_32804/4195767653.py:2: DtypeWarning: Columns (68,70,71,72,73,74,76,79) have mixed types. Specify dtype option on import or set low_memory=False.\n",
      "  df = pd.read_csv(\"Data/vehicles.csv.zip\")\n"
     ]
    }
   ],
   "source": [
    "# read the vehicles.csv dataset\n",
    "df = pd.read_csv(\"Data/vehicles.csv.zip\")"
   ]
  },
  {
   "cell_type": "markdown",
   "metadata": {},
   "source": [
    "Columns of a dataframe can be accessed in various ways. One of which is to use the **dot i.e, ' . ' notation**."
   ]
  },
  {
   "cell_type": "code",
   "execution_count": 3,
   "metadata": {},
   "outputs": [],
   "source": [
    "# the city08 and highway08 columns from the vehicles.csv dataset provides information on\n",
    "# miles per gallon usage while driving around in the city and highway respectively.\n",
    "city_mpg = df.city08\n",
    "highway_mpg = df.highway08"
   ]
  },
  {
   "cell_type": "code",
   "execution_count": 4,
   "metadata": {},
   "outputs": [],
   "source": [
    "# The make in the vehicles dataset provides the manufacturer name (strings) and is stored as an object.\n",
    "manufac = df.make"
   ]
  },
  {
   "cell_type": "markdown",
   "metadata": {},
   "source": [
    "**Note:** The first thing we should do when we load in a dataset is to check the datatypes of each column and cast each of them to more suitable datatypes. This is to save space and speed up our code execution."
   ]
  },
  {
   "cell_type": "markdown",
   "metadata": {},
   "source": [
    "----------------------------"
   ]
  },
  {
   "cell_type": "markdown",
   "metadata": {},
   "source": [
    "## <a id='toc2_'></a>[Data type casting](#toc0_)"
   ]
  },
  {
   "cell_type": "markdown",
   "metadata": {},
   "source": [
    "-----------------------------"
   ]
  },
  {
   "cell_type": "markdown",
   "metadata": {},
   "source": [
    "It is often the case that we need to convert between data types, usually for better performance (more manipulation\n",
    "options or use less memory) or some other reasons. Whatever may be the case, Pandas provides a very useful function namely, `astype(dtype)` for converting data type of a Series or DataFrame object. "
   ]
  },
  {
   "cell_type": "markdown",
   "metadata": {},
   "source": [
    "> Some of the major datatypes available in pandas include: \n",
    "\n",
    "    object, int, float, bool, datetime, category etc."
   ]
  },
  {
   "cell_type": "markdown",
   "metadata": {},
   "source": [
    "Refer to this article @ https://pbpython.com/pandas_dtypes.html for a basic idea on the pandas data types."
   ]
  },
  {
   "cell_type": "markdown",
   "metadata": {},
   "source": [
    "#### <a id='toc2_1_1_'></a>[*Inspecting numerical limits of different integer and float types*](#toc0_)"
   ]
  },
  {
   "cell_type": "markdown",
   "metadata": {},
   "source": [
    "The **default numeric type is 8 bytes wide (or, 64 bits i,e, int64 or float64)**. If you can use a narrower type, you can cut back on memory usage, giving you memory to process more data. You can use NumPy to inspect limits on integer and float types."
   ]
  },
  {
   "cell_type": "code",
   "execution_count": 5,
   "metadata": {},
   "outputs": [
    {
     "name": "stdout",
     "output_type": "stream",
     "text": [
      "Machine parameters for int16\n",
      "---------------------------------------------------------------\n",
      "min = -32768\n",
      "max = 32767\n",
      "---------------------------------------------------------------\n",
      "\n",
      "Machine parameters for uint8\n",
      "---------------------------------------------------------------\n",
      "min = 0\n",
      "max = 255\n",
      "---------------------------------------------------------------\n",
      "\n"
     ]
    }
   ],
   "source": [
    "# integer\n",
    "print(np.iinfo(np.int16))  # or, np.iinfo(\"int16\")\n",
    "print(np.iinfo(np.uint8))  # or, np.iinfo(\"uint8\")"
   ]
  },
  {
   "cell_type": "code",
   "execution_count": 6,
   "metadata": {},
   "outputs": [
    {
     "name": "stdout",
     "output_type": "stream",
     "text": [
      "Machine parameters for float16\n",
      "---------------------------------------------------------------\n",
      "precision =   3   resolution = 1.00040e-03\n",
      "machep =    -10   eps =        9.76562e-04\n",
      "negep =     -11   epsneg =     4.88281e-04\n",
      "minexp =    -14   tiny =       6.10352e-05\n",
      "maxexp =     16   max =        6.55040e+04\n",
      "nexp =        5   min =        -max\n",
      "smallest_normal = 6.10352e-05   smallest_subnormal = 5.96046e-08\n",
      "---------------------------------------------------------------\n",
      "\n"
     ]
    }
   ],
   "source": [
    "# float\n",
    "print(np.finfo(\"float16\"))"
   ]
  },
  {
   "cell_type": "markdown",
   "metadata": {},
   "source": [
    "#### <a id='toc2_1_2_'></a>[*Checking memory usage*](#toc0_)"
   ]
  },
  {
   "cell_type": "markdown",
   "metadata": {},
   "source": [
    "To check how much memory the values of a Series or DataFrame is consuming we can use the `nbytes` method."
   ]
  },
  {
   "cell_type": "code",
   "execution_count": 7,
   "metadata": {},
   "outputs": [
    {
     "data": {
      "text/plain": [
       "246864"
      ]
     },
     "execution_count": 7,
     "metadata": {},
     "output_type": "execute_result"
    }
   ],
   "source": [
    "# by default, the data in city_mpg Series was stored as int64 type\n",
    "\n",
    "# the max value in our seires object is 150\n",
    "# so, we can't use int8 but we can cast to int16\n",
    "\n",
    "# to see how much space is saved\n",
    "city_mpg.nbytes - city_mpg.astype(\"int16\").nbytes"
   ]
  },
  {
   "cell_type": "markdown",
   "metadata": {},
   "source": [
    "Using `.nbytes` with object types only shows how much memory the Pandas object is taking. The **make** in the vehicles dataset provides the manufacturer name (strings) and is stored as an object. To get the amount of memory that includes the strings, we need to use the `.memory_usage` method."
   ]
  },
  {
   "cell_type": "code",
   "execution_count": 8,
   "metadata": {},
   "outputs": [
    {
     "data": {
      "text/plain": [
       "0    Alfa Romeo\n",
       "1       Ferrari\n",
       "2         Dodge\n",
       "Name: make, dtype: object"
      ]
     },
     "execution_count": 8,
     "metadata": {},
     "output_type": "execute_result"
    }
   ],
   "source": [
    "manufac.head(3)"
   ]
  },
  {
   "cell_type": "code",
   "execution_count": 9,
   "metadata": {},
   "outputs": [
    {
     "data": {
      "text/plain": [
       "329152"
      ]
     },
     "execution_count": 9,
     "metadata": {},
     "output_type": "execute_result"
    }
   ],
   "source": [
    "# examining memory usage with nbbytes function\n",
    "manufac.nbytes"
   ]
  },
  {
   "cell_type": "code",
   "execution_count": 10,
   "metadata": {},
   "outputs": [
    {
     "data": {
      "text/plain": [
       "2606399"
      ]
     },
     "execution_count": 10,
     "metadata": {},
     "output_type": "execute_result"
    }
   ],
   "source": [
    "# examining memory usage with memory_usage function\n",
    "manufac.memory_usage(deep=True)"
   ]
  },
  {
   "cell_type": "markdown",
   "metadata": {},
   "source": [
    "The value of _.nbytes_ is just the memory that the data is using and not the ancillary parts of the Series. The _.memory_usage_ includes the index memory and can include the contribution from object types."
   ]
  },
  {
   "cell_type": "markdown",
   "metadata": {},
   "source": [
    "#### <a id='toc2_1_3_'></a>[*String and Categorical type*](#toc0_)"
   ]
  },
  {
   "cell_type": "markdown",
   "metadata": {},
   "source": [
    "A `categorical` series is useful for string data and can result in large memory savings. This is because for categorical data, instead of using python `string` to store the values, pandas optimizes it so that **repeating values are not duplicated**. The categorical type can be considered as a special type of string type. You **still have all of the functionality found off of the `.str` attribute.** Also, you can use the `.loc` or, `.iloc` similarly as you would with a string type (for filtering, slicing, partial slicing etc)."
   ]
  },
  {
   "cell_type": "markdown",
   "metadata": {},
   "source": [
    "For example, if we convert the make column from the vehicles dataframe i.e, the manufac series to category object, this will have much more improved memory footprint."
   ]
  },
  {
   "cell_type": "code",
   "execution_count": 11,
   "metadata": {},
   "outputs": [],
   "source": [
    "# the make column as categorical object\n",
    "manufac_cat = df.make.astype(\"category\")"
   ]
  },
  {
   "cell_type": "code",
   "execution_count": 12,
   "metadata": {},
   "outputs": [
    {
     "data": {
      "text/plain": [
       "0    Alfa Romeo\n",
       "1       Ferrari\n",
       "2         Dodge\n",
       "Name: make, dtype: category\n",
       "Categories (136, object): ['AM General', 'ASC Incorporated', 'Acura', 'Alfa Romeo', ..., 'Volvo', 'Wallace Environmental', 'Yugo', 'smart']"
      ]
     },
     "execution_count": 12,
     "metadata": {},
     "output_type": "execute_result"
    }
   ],
   "source": [
    "manufac_cat.head(3)"
   ]
  },
  {
   "cell_type": "code",
   "execution_count": 13,
   "metadata": {},
   "outputs": [
    {
     "data": {
      "text/plain": [
       "241608"
      ]
     },
     "execution_count": 13,
     "metadata": {},
     "output_type": "execute_result"
    }
   ],
   "source": [
    "# examining the memory footprint\n",
    "manufac.memory_usage() - manufac_cat.memory_usage()"
   ]
  },
  {
   "cell_type": "markdown",
   "metadata": {},
   "source": [
    "- **Custom & ordered categories**"
   ]
  },
  {
   "cell_type": "markdown",
   "metadata": {},
   "source": [
    "> To define custom categories we need to use the `pd.Categorical(values, categories, ordered=False)` function. And, to have the categories in order we need to set, _ordered = True_\n",
    "\n",
    "**Note:**\n",
    "1. A categorical **might have an order**, but numerical operations (additions, divisions, ...) are not possible.    \n",
    "2. Assigning values **outside of categories** will result in replacing the value with **NaN** in the series object.\n",
    "3. Order is defined by the **order of the categories, not lexical order of the values**."
   ]
  },
  {
   "cell_type": "code",
   "execution_count": 14,
   "metadata": {},
   "outputs": [],
   "source": [
    "# values\n",
    "vals = manufac\n",
    "# categories\n",
    "cat = manufac.unique()\n",
    "\n",
    "# to have an ordered category we just need to set, ordered = True\n",
    "ord_manufac = pd.Categorical(values=vals, categories=cat)"
   ]
  },
  {
   "cell_type": "code",
   "execution_count": 15,
   "metadata": {},
   "outputs": [
    {
     "data": {
      "text/plain": [
       "['Alfa Romeo', 'Ferrari', 'Dodge', 'Dodge', 'Subaru', ..., 'Subaru', 'Subaru', 'Subaru', 'Subaru', 'Subaru']\n",
       "Length: 41144\n",
       "Categories (136, object): ['Alfa Romeo', 'Ferrari', 'Dodge', 'Subaru', ..., 'Consulier Industries Inc', 'Goldacre', 'Isis Imports Ltd', 'PAS Inc - GMC']"
      ]
     },
     "execution_count": 15,
     "metadata": {},
     "output_type": "execute_result"
    }
   ],
   "source": [
    "ord_manufac"
   ]
  },
  {
   "cell_type": "markdown",
   "metadata": {},
   "source": [
    "- **Some useful methods for categorical series**"
   ]
  },
  {
   "cell_type": "code",
   "execution_count": 16,
   "metadata": {},
   "outputs": [],
   "source": [
    "demo_cat_ser = pd.Series([\"long_coat\", \"short_coat\", \"medium_coat\", \"wire_haired\", \"long_coat\", \"short_coat\", \"short_coat\", \"short_coat\", \"medium_coat\", \"short_coat\", \"medium_coat\"]).astype(\"category\")"
   ]
  },
  {
   "cell_type": "code",
   "execution_count": 17,
   "metadata": {},
   "outputs": [
    {
     "data": {
      "text/plain": [
       "short_coat     5\n",
       "medium_coat    3\n",
       "long_coat      2\n",
       "wire_haired    1\n",
       "Name: count, dtype: int64"
      ]
     },
     "execution_count": 17,
     "metadata": {},
     "output_type": "execute_result"
    }
   ],
   "source": [
    "demo_cat_ser.value_counts(dropna=False)"
   ]
  },
  {
   "cell_type": "markdown",
   "metadata": {},
   "source": [
    "There are several useful methods available to the categorical objects. If the column or series was converted to a categorical type with `.astype(\"category\")` methd then we can use the `.cat` accessor (on these categorical Series and Index objects) to access the available methods. But, if the categorical series was created by using the `pd.Categorical()` function then the special categorical methods are readily available with the `. (dot)` notation. Some of these methods are briefly discussed below:"
   ]
  },
  {
   "cell_type": "markdown",
   "metadata": {},
   "source": [
    "> The `categories` method returns the categories of the categorical series."
   ]
  },
  {
   "cell_type": "code",
   "execution_count": 18,
   "metadata": {},
   "outputs": [
    {
     "data": {
      "text/plain": [
       "Index(['long_coat', 'medium_coat', 'short_coat', 'wire_haired'], dtype='object')"
      ]
     },
     "execution_count": 18,
     "metadata": {},
     "output_type": "execute_result"
    }
   ],
   "source": [
    "demo_cat_ser.cat.categories"
   ]
  },
  {
   "cell_type": "markdown",
   "metadata": {},
   "source": [
    "> The `set_categories(new_categories, ordered=False, rename=False)` method"
   ]
  },
  {
   "cell_type": "markdown",
   "metadata": {},
   "source": [
    "**Note:**\n",
    "1. Can be used to specify new categories for the categorical series as well as ordering the categories.\n",
    "2. Values not included in the new categories will be set to NaN."
   ]
  },
  {
   "cell_type": "code",
   "execution_count": 19,
   "metadata": {},
   "outputs": [
    {
     "data": {
      "text/plain": [
       "short_coat     5\n",
       "medium_coat    3\n",
       "long_coat      2\n",
       "NaN            1\n",
       "Name: count, dtype: int64"
      ]
     },
     "execution_count": 19,
     "metadata": {},
     "output_type": "execute_result"
    }
   ],
   "source": [
    "demo_cat_ser.cat.set_categories([\"short_coat\", \"medium_coat\", \"long_coat\"], ordered=True).value_counts(dropna=False)"
   ]
  },
  {
   "cell_type": "markdown",
   "metadata": {},
   "source": [
    "> The `rename_categories()` method can be used to rename an existing category"
   ]
  },
  {
   "cell_type": "markdown",
   "metadata": {},
   "source": [
    "**Note:**\n",
    "1. `lambda` functions can be used to rename categories. \n",
    "2. You can't rename a category to an existing category (as a result this can't be used to collapse different categories into one single category).\n",
    "3. For collapsing different categories into one, first we would need to use the `.replace()` method to replace all the names of the categories we want to collapse into one with a single name. Note that this operates on the string level and not on the categorical level and this will convert the series to *object* type. So we would need to convert the series to categorical type with the `astype()` method after replacing the category names."
   ]
  },
  {
   "cell_type": "code",
   "execution_count": 20,
   "metadata": {},
   "outputs": [
    {
     "data": {
      "text/plain": [
       "short_coat     5\n",
       "medium_coat    3\n",
       "long_coat      2\n",
       "wirehaired     1\n",
       "Name: count, dtype: int64"
      ]
     },
     "execution_count": 20,
     "metadata": {},
     "output_type": "execute_result"
    }
   ],
   "source": [
    "demo_cat_ser.cat.rename_categories({\"wire_haired\": \"wirehaired\"}).value_counts(dropna=False)"
   ]
  },
  {
   "cell_type": "code",
   "execution_count": 21,
   "metadata": {},
   "outputs": [
    {
     "data": {
      "text/plain": [
       "Short_Coat     5\n",
       "Medium_Coat    3\n",
       "Long_Coat      2\n",
       "Wire_Haired    1\n",
       "Name: count, dtype: int64"
      ]
     },
     "execution_count": 21,
     "metadata": {},
     "output_type": "execute_result"
    }
   ],
   "source": [
    "demo_cat_ser.cat.rename_categories(lambda c: c.title()).value_counts()"
   ]
  },
  {
   "cell_type": "markdown",
   "metadata": {},
   "source": [
    "> The `add_categories(new_categories)` method can be used to add new categories to the existing categories"
   ]
  },
  {
   "cell_type": "markdown",
   "metadata": {},
   "source": [
    "**Note:**\n",
    "1. The newly created categories will not be assigned any existing values but they'll be available for values added in the future."
   ]
  },
  {
   "cell_type": "code",
   "execution_count": 22,
   "metadata": {},
   "outputs": [
    {
     "data": {
      "text/plain": [
       "short_coat     5\n",
       "medium_coat    3\n",
       "long_coat      2\n",
       "wire_haired    1\n",
       "silky_coat     0\n",
       "Name: count, dtype: int64"
      ]
     },
     "execution_count": 22,
     "metadata": {},
     "output_type": "execute_result"
    }
   ],
   "source": [
    "demo_cat_ser.cat.add_categories([\"silky_coat\"]).value_counts()"
   ]
  },
  {
   "cell_type": "markdown",
   "metadata": {},
   "source": [
    "> The `remove_categories(removals)` method\n",
    "\n",
    "**Note:** \n",
    "1. `removals` must be included in the old categories. Values which were in the removed categories will be set to NaN."
   ]
  },
  {
   "cell_type": "code",
   "execution_count": 23,
   "metadata": {},
   "outputs": [
    {
     "data": {
      "text/plain": [
       "short_coat     5\n",
       "medium_coat    3\n",
       "long_coat      2\n",
       "NaN            1\n",
       "Name: count, dtype: int64"
      ]
     },
     "execution_count": 23,
     "metadata": {},
     "output_type": "execute_result"
    }
   ],
   "source": [
    "demo_cat_ser.cat.remove_categories(\"wire_haired\").value_counts(dropna=False)"
   ]
  },
  {
   "cell_type": "markdown",
   "metadata": {},
   "source": [
    "- **Label encoding**"
   ]
  },
  {
   "cell_type": "markdown",
   "metadata": {},
   "source": [
    "Label encoding is a technique that codes categorical values as integers. In Python, these codes often *start at `0` and end at `n - 1`*, where n is the number of categories. A *`-1` code is often used to indicate any missing values*. \n",
    "\n",
    "Label encoding is used to save memory and to simplify responses when using survey data (e.g, 1: yes, 2: no). \n",
    "\n",
    "Although the codes created through label encoding can be used in machine learning models, this is not the best encoding method for machine learning."
   ]
  },
  {
   "cell_type": "markdown",
   "metadata": {},
   "source": [
    "> To create the label codes we can use the ``.cat.codes`` method. If there is no order to the categories then the categories are ordered alphabatically when codes are generated."
   ]
  },
  {
   "cell_type": "code",
   "execution_count": null,
   "metadata": {},
   "outputs": [],
   "source": [
    "manufac_codes = manufac_cat.cat.codes"
   ]
  },
  {
   "cell_type": "code",
   "execution_count": 28,
   "metadata": {},
   "outputs": [
    {
     "data": {
      "text/plain": [
       "0      3\n",
       "1     38\n",
       "2     31\n",
       "3     31\n",
       "4    119\n",
       "dtype: int16"
      ]
     },
     "execution_count": 28,
     "metadata": {},
     "output_type": "execute_result"
    }
   ],
   "source": [
    "manufac_codes.head()"
   ]
  },
  {
   "cell_type": "code",
   "execution_count": 29,
   "metadata": {},
   "outputs": [
    {
     "data": {
      "text/plain": [
       "0    Alfa Romeo\n",
       "1       Ferrari\n",
       "2         Dodge\n",
       "3         Dodge\n",
       "4        Subaru\n",
       "Name: make, dtype: category\n",
       "Categories (136, object): ['AM General', 'ASC Incorporated', 'Acura', 'Alfa Romeo', ..., 'Volvo', 'Wallace Environmental', 'Yugo', 'smart']"
      ]
     },
     "execution_count": 29,
     "metadata": {},
     "output_type": "execute_result"
    }
   ],
   "source": [
    "manufac_cat.head()"
   ]
  },
  {
   "cell_type": "markdown",
   "metadata": {},
   "source": [
    ">  Label encoding is often used in surveys. The responses and their corresponding codes are often kept in a code book or a data dictionary i.e, {1: Yes, 2:No} etc. If we do create a label encoding and save the new dataset, we would want to create a map from the new codes to the old values. This can be done with `zip`."
   ]
  },
  {
   "cell_type": "code",
   "execution_count": 31,
   "metadata": {},
   "outputs": [],
   "source": [
    "code_book = dict(zip(manufac_codes, manufac_cat))"
   ]
  },
  {
   "cell_type": "code",
   "execution_count": 32,
   "metadata": {},
   "outputs": [
    {
     "data": {
      "text/plain": [
       "{3: 'Alfa Romeo',\n",
       " 38: 'Ferrari',\n",
       " 31: 'Dodge',\n",
       " 119: 'Subaru',\n",
       " 126: 'Toyota',\n",
       " 131: 'Volkswagen',\n",
       " 132: 'Volvo',\n",
       " 6: 'Audi',\n",
       " 11: 'BMW',\n",
       " 19: 'Buick',\n",
       " 23: 'Cadillac',\n",
       " 24: 'Chevrolet',\n",
       " 25: 'Chrysler',\n",
       " 22: 'CX Automotive',\n",
       " 87: 'Nissan',\n",
       " 41: 'Ford',\n",
       " 51: 'Hyundai',\n",
       " 54: 'Infiniti',\n",
       " 69: 'Lexus',\n",
       " 82: 'Mercury',\n",
       " 78: 'Mazda',\n",
       " 88: 'Oldsmobile',\n",
       " 97: 'Plymouth',\n",
       " 98: 'Pontiac',\n",
       " 106: 'Rolls-Royce',\n",
       " 33: 'Eagle',\n",
       " 70: 'Lincoln',\n",
       " 81: 'Mercedes-Benz',\n",
       " 42: 'GMC',\n",
       " 111: 'Saab',\n",
       " 49: 'Honda',\n",
       " 114: 'Saturn',\n",
       " 84: 'Mitsubishi',\n",
       " 56: 'Isuzu',\n",
       " 60: 'Jeep',\n",
       " 0: 'AM General',\n",
       " 45: 'Geo',\n",
       " 121: 'Suzuki',\n",
       " 32: 'E. P. Dutton, Inc.',\n",
       " 68: 'Land Rover',\n",
       " 90: 'PAS, Inc',\n",
       " 2: 'Acura',\n",
       " 59: 'Jaguar',\n",
       " 73: 'Lotus',\n",
       " 48: 'Grumman Olson',\n",
       " 99: 'Porsche',\n",
       " 4: 'American Motors Corporation',\n",
       " 63: 'Kia',\n",
       " 67: 'Lamborghini',\n",
       " 93: 'Panoz Auto-Development',\n",
       " 76: 'Maserati',\n",
       " 112: 'Saleen',\n",
       " 5: 'Aston Martin',\n",
       " 27: 'Dabryan Coach Builders Inc',\n",
       " 37: 'Federal Coach',\n",
       " 128: 'Vector',\n",
       " 14: 'Bentley',\n",
       " 29: 'Daewoo',\n",
       " 101: 'Qvale',\n",
       " 107: 'Roush Performance',\n",
       " 8: 'Autokraft Limited',\n",
       " 15: 'Bertone',\n",
       " 94: 'Panther Car Company Limited',\n",
       " 125: 'Texas Coach Company',\n",
       " 122: 'TVR Engineering Ltd',\n",
       " 86: 'Morgan',\n",
       " 74: 'MINI',\n",
       " 134: 'Yugo',\n",
       " 12: 'BMW Alpina',\n",
       " 105: 'Renault',\n",
       " 17: 'Bitter Gmbh and Co. Kg',\n",
       " 115: 'Scion',\n",
       " 77: 'Maybach',\n",
       " 66: 'Lambda Control Systems',\n",
       " 83: 'Merkur',\n",
       " 95: 'Peugeot',\n",
       " 117: 'Spyker',\n",
       " 71: 'London Coach Co Inc',\n",
       " 50: 'Hummer',\n",
       " 18: 'Bugatti',\n",
       " 96: 'Pininfarina',\n",
       " 116: 'Shelby',\n",
       " 113: 'Saleen Performance',\n",
       " 135: 'smart',\n",
       " 123: 'Tecstar, LP',\n",
       " 62: 'Kenyon Corporation Of America',\n",
       " 9: 'Avanti Motor Corporation',\n",
       " 16: 'Bill Dovell Motor Car Company',\n",
       " 52: 'Import Foreign Auto Sales Inc',\n",
       " 109: 'S and S Coach Company  E.p. Dutton',\n",
       " 120: 'Superior Coaches Div E.p. Dutton',\n",
       " 129: 'Vixen Motor Company',\n",
       " 130: 'Volga Associated Automobile',\n",
       " 133: 'Wallace Environmental',\n",
       " 53: 'Import Trade Services',\n",
       " 57: 'J.K. Motors',\n",
       " 92: 'Panos',\n",
       " 100: 'Quantum Technologies',\n",
       " 72: 'London Taxi',\n",
       " 104: 'Red Shift Ltd.',\n",
       " 108: 'Ruf Automobile Gmbh',\n",
       " 36: 'Excalibur Autos',\n",
       " 75: 'Mahindra',\n",
       " 127: 'VPG',\n",
       " 39: 'Fiat',\n",
       " 118: 'Sterling',\n",
       " 10: 'Azure Dynamics',\n",
       " 79: 'McLaren Automotive',\n",
       " 103: 'Ram',\n",
       " 21: 'CODA Automotive',\n",
       " 40: 'Fisker',\n",
       " 124: 'Tesla',\n",
       " 80: 'Mcevoy Motors',\n",
       " 13: 'BYD',\n",
       " 1: 'ASC Incorporated',\n",
       " 110: 'SRT',\n",
       " 20: 'CCC Engineering',\n",
       " 85: 'Mobility Ventures LLC',\n",
       " 91: 'Pagani',\n",
       " 44: 'Genesis',\n",
       " 61: 'Karma',\n",
       " 64: 'Koenigsegg',\n",
       " 7: 'Aurora Cars Ltd',\n",
       " 102: 'RUF Automobile',\n",
       " 28: 'Dacia',\n",
       " 30: 'Daihatsu',\n",
       " 58: 'JBA Motorcars, Inc.',\n",
       " 47: 'Grumman Allied Industries',\n",
       " 34: 'Environmental Rsch and Devp Corp',\n",
       " 35: 'Evans Automobiles',\n",
       " 65: 'Laforza Automobile Inc',\n",
       " 43: 'General Motors',\n",
       " 26: 'Consulier Industries Inc',\n",
       " 46: 'Goldacre',\n",
       " 55: 'Isis Imports Ltd',\n",
       " 89: 'PAS Inc - GMC'}"
      ]
     },
     "execution_count": 32,
     "metadata": {},
     "output_type": "execute_result"
    }
   ],
   "source": [
    "code_book"
   ]
  },
  {
   "cell_type": "markdown",
   "metadata": {},
   "source": [
    "> We can map the codes to the original values with the `map` method. This is useful for converting the codes back to the original values."
   ]
  },
  {
   "cell_type": "code",
   "execution_count": 33,
   "metadata": {},
   "outputs": [
    {
     "data": {
      "text/plain": [
       "0        Alfa Romeo\n",
       "1           Ferrari\n",
       "2             Dodge\n",
       "3             Dodge\n",
       "4            Subaru\n",
       "            ...    \n",
       "41139        Subaru\n",
       "41140        Subaru\n",
       "41141        Subaru\n",
       "41142        Subaru\n",
       "41143        Subaru\n",
       "Length: 41144, dtype: object"
      ]
     },
     "execution_count": 33,
     "metadata": {},
     "output_type": "execute_result"
    }
   ],
   "source": [
    "manufac_codes.map(code_book)"
   ]
  },
  {
   "cell_type": "markdown",
   "metadata": {},
   "source": [
    "- **Some problems of using categorical type**"
   ]
  },
  {
   "cell_type": "markdown",
   "metadata": {},
   "source": [
    "1. If the series has lots of unique values i.e, categories then memory savings will not be much.\n",
    "2. Whenever we use `.str` methods or `.apply()` the series is converted to object type.\n",
    "3. Most `numpy` operations don't work with categorical type."
   ]
  },
  {
   "cell_type": "code",
   "execution_count": null,
   "metadata": {},
   "outputs": [],
   "source": []
  },
  {
   "cell_type": "code",
   "execution_count": null,
   "metadata": {},
   "outputs": [],
   "source": []
  }
 ],
 "metadata": {
  "kernelspec": {
   "display_name": "ml_intro",
   "language": "python",
   "name": "python3"
  },
  "language_info": {
   "codemirror_mode": {
    "name": "ipython",
    "version": 3
   },
   "file_extension": ".py",
   "mimetype": "text/x-python",
   "name": "python",
   "nbconvert_exporter": "python",
   "pygments_lexer": "ipython3",
   "version": "3.11.6"
  },
  "orig_nbformat": 4
 },
 "nbformat": 4,
 "nbformat_minor": 2
}
