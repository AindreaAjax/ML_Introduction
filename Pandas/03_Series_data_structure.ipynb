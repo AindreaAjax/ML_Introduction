{
 "cells": [
  {
   "cell_type": "markdown",
   "id": "79bee66f-58ca-4af3-bcec-a3f3663ed5f3",
   "metadata": {},
   "source": [
    "# Deep dive into Pandas Series data structure "
   ]
  },
  {
   "cell_type": "markdown",
   "id": "5a2b2060-326e-494c-8fd5-228facd463c4",
   "metadata": {},
   "source": [
    "**Read the official documentation on pandas Series objects @ https://pandas.pydata.org/pandas-docs/stable/reference/series.html**"
   ]
  },
  {
   "cell_type": "markdown",
   "id": "4cee0640-cf64-4a48-96d3-4578bea333e6",
   "metadata": {},
   "source": [
    "**`Note:`** We can actually use python built in functions on pandas series objects. i.e., **len, type, dir, in, sum, product, mean, sorted, max, min** etc. Also, the notion of **chaining functions/methods** in pandas is similar to python."
   ]
  },
  {
   "attachments": {},
   "cell_type": "markdown",
   "id": "c2b649d9-367b-4e0d-ae6e-bb26f3e298e0",
   "metadata": {
    "jp-MarkdownHeadingCollapsed": true,
    "tags": []
   },
   "source": [
    "--------------------\n",
    "### Import Statements\n",
    "--------------------------"
   ]
  },
  {
   "cell_type": "code",
   "execution_count": 1,
   "id": "b3180c09-a72e-4412-9b46-9e1b7502c310",
   "metadata": {},
   "outputs": [],
   "source": [
    "# import statements\n",
    "import numpy as np\n",
    "import pandas as pd"
   ]
  },
  {
   "cell_type": "markdown",
   "id": "8e722997-70c9-47c7-8f93-122d0d731de0",
   "metadata": {
    "tags": []
   },
   "source": [
    "---------------------------\n",
    "### Importing the data\n",
    "------------------------"
   ]
  },
  {
   "cell_type": "markdown",
   "id": "759735df-a8d1-4b04-9616-f3bc9ba6b5ba",
   "metadata": {},
   "source": [
    "One of the datasets we will use for our examples in this notebook is the `/Data/vehicles.csv.zip` dataset."
   ]
  },
  {
   "cell_type": "code",
   "execution_count": 2,
   "id": "c39832f0-85bc-4ff0-a7c7-7f090a8cc633",
   "metadata": {},
   "outputs": [
    {
     "name": "stderr",
     "output_type": "stream",
     "text": [
      "/tmp/ipykernel_18814/4195767653.py:2: DtypeWarning: Columns (68,70,71,72,73,74,76,79) have mixed types. Specify dtype option on import or set low_memory=False.\n",
      "  df = pd.read_csv(\"Data/vehicles.csv.zip\")\n"
     ]
    }
   ],
   "source": [
    "# read the vehicles.csv dataset\n",
    "df = pd.read_csv(\"Data/vehicles.csv.zip\")"
   ]
  },
  {
   "cell_type": "markdown",
   "id": "77ae2c0e-ef28-437e-b512-423f96ae9d58",
   "metadata": {},
   "source": [
    "Columns of a dataframe can be accessed in various ways. One of which is to use the \"dot(.)\" notation."
   ]
  },
  {
   "cell_type": "code",
   "execution_count": 3,
   "id": "c3a4e491-386a-4837-9e7c-5cd1189b57f5",
   "metadata": {},
   "outputs": [],
   "source": [
    "# the city08 and highway08 columns from the vehicles.csv dataset\n",
    "# provide information on miles per gallon usage while driving around in the city and highway respectively.\n",
    "city_mpg = df.city08\n",
    "highway_mpg = df.highway08"
   ]
  },
  {
   "cell_type": "code",
   "execution_count": 4,
   "id": "c57951ef-66cf-43e0-b973-db4642764cfc",
   "metadata": {},
   "outputs": [],
   "source": [
    "# The make in the vehicles dataset provides the manufacturer name (strings) and is stored as an object.\n",
    "manufac = df.make"
   ]
  },
  {
   "cell_type": "markdown",
   "id": "67f9d5e6-a950-4238-b5b5-5c395334cbb6",
   "metadata": {},
   "source": [
    "**Note:** The first thing we should do when we load in a dataset is to check the datatypes of each column and cast each of them to more suitable datatypes. This is to save space and speed up the process. We will learn more about it in the next section, i.e, Data type casting."
   ]
  },
  {
   "cell_type": "markdown",
   "id": "43602c69-054c-4dc3-8bff-79fa00ed0443",
   "metadata": {
    "jp-MarkdownHeadingCollapsed": true,
    "tags": []
   },
   "source": [
    "----------------------------\n",
    "## Data type casting \n",
    "-----------------------------"
   ]
  },
  {
   "cell_type": "markdown",
   "id": "9cb58136-d947-4172-a712-c6a4969bd31c",
   "metadata": {},
   "source": [
    "It is often the case that we need to convert between data types, usually for better performance (more manipulation\n",
    "options or use less memory) or some other reasons. Whatever may be the case Pandas provides a very useful function namely, `astype(dtype)` for converting data type of a Series or DataFrame object. "
   ]
  },
  {
   "cell_type": "markdown",
   "id": "a2b5fa69-b15a-405e-bdab-2a89db06dd79",
   "metadata": {},
   "source": [
    "> Some of the major datatypes available in pandas include: \n",
    "\n",
    "    object, int, float, bool, datetime, category etc."
   ]
  },
  {
   "cell_type": "markdown",
   "id": "290f2ce2-148f-4dbd-b66b-290e2d492655",
   "metadata": {},
   "source": [
    "Refer to this article @ https://pbpython.com/pandas_dtypes.html for a basic idea on the pandas data types."
   ]
  },
  {
   "cell_type": "markdown",
   "id": "d776a918-06c0-4301-b30d-954f0a64d362",
   "metadata": {},
   "source": [
    "- Inspecting numerical limits of different integer and float types "
   ]
  },
  {
   "cell_type": "markdown",
   "id": "d5e495e9-f7c7-4310-97f4-8e214f6c93a9",
   "metadata": {},
   "source": [
    "The **default numeric type is 8 bytes wide (64 bits, ie int64 or float64)**. If you can use a narrower type, you can cut back on memory usage, giving you memory to process more data. You can use NumPy to inspect limits on integer and float types."
   ]
  },
  {
   "cell_type": "code",
   "execution_count": 5,
   "id": "a856147d-f5e7-4cc9-81c2-b2686b03b6e7",
   "metadata": {},
   "outputs": [
    {
     "name": "stdout",
     "output_type": "stream",
     "text": [
      "Machine parameters for int16\n",
      "---------------------------------------------------------------\n",
      "min = -32768\n",
      "max = 32767\n",
      "---------------------------------------------------------------\n",
      "\n",
      "Machine parameters for uint8\n",
      "---------------------------------------------------------------\n",
      "min = 0\n",
      "max = 255\n",
      "---------------------------------------------------------------\n",
      "\n"
     ]
    }
   ],
   "source": [
    "# integer\n",
    "print(np.iinfo(np.int16))  # or, np.iinfo(\"int16\")\n",
    "print(np.iinfo(np.uint8))  # or, np.iinfo(\"uint8\")"
   ]
  },
  {
   "cell_type": "code",
   "execution_count": 6,
   "id": "137af9df-c46b-43d1-b690-8a15a752911a",
   "metadata": {},
   "outputs": [
    {
     "name": "stdout",
     "output_type": "stream",
     "text": [
      "Machine parameters for float16\n",
      "---------------------------------------------------------------\n",
      "precision =   3   resolution = 1.00040e-03\n",
      "machep =    -10   eps =        9.76562e-04\n",
      "negep =     -11   epsneg =     4.88281e-04\n",
      "minexp =    -14   tiny =       6.10352e-05\n",
      "maxexp =     16   max =        6.55040e+04\n",
      "nexp =        5   min =        -max\n",
      "smallest_normal = 6.10352e-05   smallest_subnormal = 5.96046e-08\n",
      "---------------------------------------------------------------\n",
      "\n"
     ]
    }
   ],
   "source": [
    "# float\n",
    "print(np.finfo(\"float16\"))"
   ]
  },
  {
   "cell_type": "markdown",
   "id": "5081d73d-8bce-4cb7-9e46-5f9bb8893f00",
   "metadata": {},
   "source": [
    "- Checking memory usage"
   ]
  },
  {
   "cell_type": "markdown",
   "id": "6be5590c-a42c-41de-8495-c5ec59f0cdfa",
   "metadata": {},
   "source": [
    "To check how much memory the values of a Series or DataFrame is consuming we can use the `nbytes` method."
   ]
  },
  {
   "cell_type": "code",
   "execution_count": 7,
   "id": "df999628-11cc-41cb-9333-26bd97a7e239",
   "metadata": {},
   "outputs": [
    {
     "data": {
      "text/plain": [
       "246864"
      ]
     },
     "execution_count": 7,
     "metadata": {},
     "output_type": "execute_result"
    }
   ],
   "source": [
    "# by default, the data in city_mpg Series was stored as int64 type\n",
    "\n",
    "# the max value in our seires object is 150\n",
    "# so, we can't use int8 but we can cast to int16\n",
    "\n",
    "# to see how much space is saved\n",
    "city_mpg.nbytes - city_mpg.astype(\"int16\").nbytes"
   ]
  },
  {
   "cell_type": "markdown",
   "id": "4cfb0729-1e4b-4d26-b28e-b06ea6156ea0",
   "metadata": {},
   "source": [
    "Using `.nbytes` with object types only shows how much memory the Pandas object is taking. The **make** in the vehicles dataset provides the manufacturer name (strings) and is stored as an object. To get the amount of memory that includes the strings, we need to use the `.memory_usage` method."
   ]
  },
  {
   "cell_type": "code",
   "execution_count": 8,
   "id": "3dbd9567-6b46-4aab-90a7-ffbebfcb8491",
   "metadata": {},
   "outputs": [
    {
     "data": {
      "text/plain": [
       "0    Alfa Romeo\n",
       "1       Ferrari\n",
       "2         Dodge\n",
       "Name: make, dtype: object"
      ]
     },
     "execution_count": 8,
     "metadata": {},
     "output_type": "execute_result"
    }
   ],
   "source": [
    "manufac.head(3)"
   ]
  },
  {
   "cell_type": "code",
   "execution_count": 9,
   "id": "d437ac04-d930-45fb-829c-03d70e0fef9c",
   "metadata": {},
   "outputs": [
    {
     "data": {
      "text/plain": [
       "329152"
      ]
     },
     "execution_count": 9,
     "metadata": {},
     "output_type": "execute_result"
    }
   ],
   "source": [
    "# examining memory usage with nbbytes function\n",
    "manufac.nbytes"
   ]
  },
  {
   "cell_type": "code",
   "execution_count": 10,
   "id": "b092780c-5a51-41c4-a667-fe94b2f05afa",
   "metadata": {},
   "outputs": [
    {
     "data": {
      "text/plain": [
       "2606395"
      ]
     },
     "execution_count": 10,
     "metadata": {},
     "output_type": "execute_result"
    }
   ],
   "source": [
    "# examining memory usage with memory_usage function\n",
    "manufac.memory_usage(deep=True)"
   ]
  },
  {
   "cell_type": "markdown",
   "id": "a6b4a529-6ef1-4ca0-b289-f1d2d879da55",
   "metadata": {},
   "source": [
    "The value of _.nbytes_ is just the memory that the data is using and not the ancillary parts of the Series. The _.memory_usage_ includes the index memory and can include the contribution from object types."
   ]
  },
  {
   "cell_type": "markdown",
   "id": "e98c740b-fc4f-4c5a-aa6b-699189a20f76",
   "metadata": {},
   "source": [
    "- **String and Category type**"
   ]
  },
  {
   "cell_type": "markdown",
   "id": "a521d54f-fa5b-4cf5-ace9-3e55b4f0f8df",
   "metadata": {},
   "source": [
    "A `categorical` series is useful for string data and can result in large memory savings. This is because for categorical data, instead of using python `string` to store the values, pandas optimizes it so that **repeating values are not duplicated**. You **still have all of the functionality found off of the .str attribute.**"
   ]
  },
  {
   "cell_type": "markdown",
   "id": "0f72b1d9-58ca-42fc-abdf-3cf3b4e0ff06",
   "metadata": {},
   "source": [
    "For example, if we convert the make column from the vehicles dataframe i.e, the manufac series to category object, this will have much more improved memory footprint."
   ]
  },
  {
   "cell_type": "code",
   "execution_count": 11,
   "id": "d15fb8e8-ae21-4c4e-87e7-860d8087ea0b",
   "metadata": {},
   "outputs": [],
   "source": [
    "# the make column as categorical object\n",
    "manufac_cat = df.make.astype(\"category\")"
   ]
  },
  {
   "cell_type": "code",
   "execution_count": 12,
   "id": "14dbff7e-603e-45ae-9ce0-1aeed8a13cc3",
   "metadata": {},
   "outputs": [
    {
     "data": {
      "text/plain": [
       "0    Alfa Romeo\n",
       "1       Ferrari\n",
       "2         Dodge\n",
       "Name: make, dtype: category\n",
       "Categories (136, object): ['AM General', 'ASC Incorporated', 'Acura', 'Alfa Romeo', ..., 'Volvo', 'Wallace Environmental', 'Yugo', 'smart']"
      ]
     },
     "execution_count": 12,
     "metadata": {},
     "output_type": "execute_result"
    }
   ],
   "source": [
    "manufac_cat.head(3)"
   ]
  },
  {
   "cell_type": "code",
   "execution_count": 13,
   "id": "77576bdc-47a8-41f2-9a3a-ed312ab84409",
   "metadata": {},
   "outputs": [
    {
     "data": {
      "text/plain": [
       "241608"
      ]
     },
     "execution_count": 13,
     "metadata": {},
     "output_type": "execute_result"
    }
   ],
   "source": [
    "# examining the memory footprint\n",
    "manufac.memory_usage() - manufac_cat.memory_usage()"
   ]
  },
  {
   "cell_type": "markdown",
   "id": "0f94ca01-e613-4f41-a36a-bc226958f7fe",
   "metadata": {},
   "source": [
    "- **Custom & ordered categories**"
   ]
  },
  {
   "cell_type": "markdown",
   "id": "394d2bd6-9d6b-4fe3-9ec4-b33792391058",
   "metadata": {},
   "source": [
    "To define custom categories we need to use the `pd.Categorical(values, categories, ordered=False)` function. And, to have the categories in order we need to set, _ordered = True_\n",
    "\n",
    "**Note:**\n",
    "1. a Categorical **might have an order**, but numerical operations (additions, divisions, ...) are not possible.    \n",
    "2. Assigning values **outside of categories** will result in replacing the value with **NaN** in the series object.\n",
    "3. Order is defined by the order of the categories, **not lexical order** of the values."
   ]
  },
  {
   "cell_type": "code",
   "execution_count": 14,
   "id": "60e86ebf-503d-4d51-bc4e-351999956dff",
   "metadata": {},
   "outputs": [],
   "source": [
    "# values\n",
    "vals = manufac\n",
    "# categories\n",
    "cat = manufac.unique()\n",
    "\n",
    "# to have an ordered category we just need to set, ordered = True\n",
    "ord_manufac = pd.Categorical(values=vals, categories=cat)"
   ]
  },
  {
   "cell_type": "code",
   "execution_count": 15,
   "id": "e6150ad4-f065-4417-9be5-d2e3a9af19b8",
   "metadata": {},
   "outputs": [
    {
     "data": {
      "text/plain": [
       "['Alfa Romeo', 'Ferrari', 'Dodge', 'Dodge', 'Subaru', ..., 'Subaru', 'Subaru', 'Subaru', 'Subaru', 'Subaru']\n",
       "Length: 41144\n",
       "Categories (136, object): ['Alfa Romeo', 'Ferrari', 'Dodge', 'Subaru', ..., 'Consulier Industries Inc', 'Goldacre', 'Isis Imports Ltd', 'PAS Inc - GMC']"
      ]
     },
     "execution_count": 15,
     "metadata": {},
     "output_type": "execute_result"
    }
   ],
   "source": [
    "ord_manufac"
   ]
  },
  {
   "cell_type": "markdown",
   "id": "1622916c-066f-4888-8d56-0ff73d224fb7",
   "metadata": {
    "jp-MarkdownHeadingCollapsed": true,
    "tags": []
   },
   "source": [
    "---------------------------------------------\n",
    "## Mathematical operations and Index Alignment \n",
    "------------------------------------------------"
   ]
  },
  {
   "cell_type": "markdown",
   "id": "4f75c185-845c-4a2c-a49b-7586377c228d",
   "metadata": {},
   "source": [
    "- **Mathematical operators**"
   ]
  },
  {
   "cell_type": "markdown",
   "id": "3f5987dc-acd4-41c9-88e4-c538d66e1e27",
   "metadata": {},
   "source": [
    "> The available mathematical operations include: \n",
    "\n",
    "    +, -, /, // (floor division), % (modulus), @ (matrix multiplication), ** (power), <, <=, ==, !=, >=, >, & (binary and), ^ (binary xor), | (binary or)."
   ]
  },
  {
   "cell_type": "markdown",
   "id": "ffd9ab5c-8ea0-43cf-a32e-2b13c8df9be9",
   "metadata": {},
   "source": [
    "However, pandas will **align the index** before performing any of these operations. Aligning will take each index entry in the left series and match it up with every entry with the same name in the index of the right series. Because of index alignment, you will want to **make sure that the indexes are, unique (no duplicates) and, common to both series**. Otherwise, the produced result will not be as expected.\n"
   ]
  },
  {
   "cell_type": "markdown",
   "id": "a6b0b8b7-5c35-48b4-81a1-0a2f5e9bae3c",
   "metadata": {},
   "source": [
    "Example of how index alignment can cause to produce unintended results --"
   ]
  },
  {
   "cell_type": "code",
   "execution_count": 16,
   "id": "b0452a18-107e-4d2c-8e48-f00f2dd8221f",
   "metadata": {},
   "outputs": [],
   "source": [
    "s1 = pd.Series([10, 20, 30], index=[1, 2, 2])\n",
    "s2 = pd.Series([15, 28, 32], index=[2, 2, 3])"
   ]
  },
  {
   "cell_type": "code",
   "execution_count": 17,
   "id": "a7aea1f1-c3c4-4476-8a93-ae964d633f79",
   "metadata": {},
   "outputs": [
    {
     "data": {
      "text/plain": [
       "1     NaN\n",
       "2    35.0\n",
       "2    48.0\n",
       "2    45.0\n",
       "2    58.0\n",
       "3     NaN\n",
       "dtype: float64"
      ]
     },
     "execution_count": 17,
     "metadata": {},
     "output_type": "execute_result"
    }
   ],
   "source": [
    "s1 + s2"
   ]
  },
  {
   "cell_type": "markdown",
   "id": "7f96f0ae-f0ba-4972-be28-778aa74b49bc",
   "metadata": {},
   "source": [
    "Note that, index-1 and index-3 has NaN values. Whereas, for index-2, every index-2 value from s1 is matched with every index-2 value from s2. "
   ]
  },
  {
   "cell_type": "markdown",
   "id": "9d541a5f-8208-4202-b954-94f6680cc655",
   "metadata": {},
   "source": [
    "- **Operator methods**"
   ]
  },
  {
   "cell_type": "markdown",
   "id": "ba109c04-9358-4c6c-ae79-df8fb400ac93",
   "metadata": {},
   "source": [
    "Pandas also provides **operator methods** for each of the mathematical operations. The benefit is, the operator methods have a **fill_value** parameter. **By default, the operator methods will produce the same output as the mathematical operators themselves. But, if a fill_value is defined then, when one of the operands is missing, the method will use the fill_value instead.**"
   ]
  },
  {
   "cell_type": "markdown",
   "id": "09367524-0b15-4c06-b683-3b00a7250417",
   "metadata": {},
   "source": [
    "> Some of the operator methods include: \n",
    "    \n",
    "    add(), sub(), mul(), div(), mod(), pow(), rfloordiv(), lt(), gt(), eq(), ne(), le(), ge(), dot(), product() etc."
   ]
  },
  {
   "cell_type": "markdown",
   "id": "6d2df622-57a9-44c7-a945-ca5f8af50821",
   "metadata": {},
   "source": [
    "For instance, in the above example if we wanted to have values at index-1 and index-3 instead of NaN values we can use the **s1.add(s2, fill_value=0)** method. Probably, you can already guess how this will work out."
   ]
  },
  {
   "cell_type": "code",
   "execution_count": 18,
   "id": "996e7002-175b-4909-8d56-4fdc397355d6",
   "metadata": {},
   "outputs": [
    {
     "data": {
      "text/plain": [
       "1    10.0\n",
       "2    35.0\n",
       "2    48.0\n",
       "2    45.0\n",
       "2    58.0\n",
       "3    32.0\n",
       "dtype: float64"
      ]
     },
     "execution_count": 18,
     "metadata": {},
     "output_type": "execute_result"
    }
   ],
   "source": [
    "# using the add() method to add the elements of both series with fill_value=0\n",
    "s1.add(s2, fill_value=0)"
   ]
  },
  {
   "cell_type": "markdown",
   "id": "46435425-e19f-4928-bfd4-636ca47d4938",
   "metadata": {},
   "source": [
    "Learn about all the available operator methods @ https://pandas.pydata.org/pandas-docs/stable/reference/series.html#binary-operator-functions"
   ]
  },
  {
   "cell_type": "markdown",
   "id": "e7605b8c-004b-4da0-92dd-d30ca61a7887",
   "metadata": {
    "jp-MarkdownHeadingCollapsed": true,
    "tags": []
   },
   "source": [
    "---------------------------------------------\n",
    "## Aggregate methods \n",
    "------------------------------------------------"
   ]
  },
  {
   "cell_type": "markdown",
   "id": "89c5c124-9c96-45ef-8bdd-11b28abc0576",
   "metadata": {},
   "source": [
    "Aggregate methods collapse the values of a series down to a scalar. Thus, allowing you to take detailed data and collapse it to a single value e.g, sum, count, mean, median etc."
   ]
  },
  {
   "cell_type": "markdown",
   "id": "d097f5e2-1c36-4c2a-ba2a-c39d899aad51",
   "metadata": {},
   "source": [
    "> Some of the commonly used aggregate methods are, \n",
    "\n",
    "    all(), any(), count(), prod(), min(), max(), nsmallest(), nlargest(), cummax(), cumsum(), cumprod(), mean(), median(), mode(), sum(), std(), var(), quantile(), unique(), nunique(), value_counts(), describe() etc."
   ]
  },
  {
   "attachments": {},
   "cell_type": "markdown",
   "id": "4bb23d92",
   "metadata": {},
   "source": [
    "- Total number of rows in a Series"
   ]
  },
  {
   "cell_type": "code",
   "execution_count": 19,
   "id": "e7feeefb",
   "metadata": {},
   "outputs": [
    {
     "data": {
      "text/plain": [
       "41144"
      ]
     },
     "execution_count": 19,
     "metadata": {},
     "output_type": "execute_result"
    }
   ],
   "source": [
    "city_mpg.size"
   ]
  },
  {
   "cell_type": "markdown",
   "id": "d639ae01-2960-4063-9c63-2dd4905b3d55",
   "metadata": {},
   "source": [
    "- Counting non-null values"
   ]
  },
  {
   "cell_type": "code",
   "execution_count": 20,
   "id": "615eb8a7-75d0-41ef-b740-6bb26f22041c",
   "metadata": {},
   "outputs": [
    {
     "name": "stdout",
     "output_type": "stream",
     "text": [
      "no of non-NA vals: 41144\n"
     ]
    }
   ],
   "source": [
    "# Count total number of non-NA/null values in a series\n",
    "print(\"no of non-NA vals:\", city_mpg.count())\n",
    "\n",
    "# but if we use count as an attribute then this will return a series containing the non-NA values\n",
    "\n",
    "# city_mpg.count"
   ]
  },
  {
   "attachments": {},
   "cell_type": "markdown",
   "id": "ab233fac",
   "metadata": {},
   "source": [
    "- Counting number of null values"
   ]
  },
  {
   "cell_type": "code",
   "execution_count": 21,
   "id": "f37ca598",
   "metadata": {},
   "outputs": [
    {
     "data": {
      "text/plain": [
       "0"
      ]
     },
     "execution_count": 21,
     "metadata": {},
     "output_type": "execute_result"
    }
   ],
   "source": [
    "city_mpg.isna().sum()"
   ]
  },
  {
   "cell_type": "markdown",
   "id": "335acfe8-f8f7-4630-997b-5050af435494",
   "metadata": {},
   "source": [
    "- Largest n elements"
   ]
  },
  {
   "cell_type": "code",
   "execution_count": 22,
   "id": "c7611905-5a86-4e99-b26a-07c52f7aa76d",
   "metadata": {},
   "outputs": [
    {
     "name": "stdout",
     "output_type": "stream",
     "text": [
      "3 largest values: \n",
      " 31256    150\n",
      "32599    150\n",
      "33423    150\n",
      "Name: city08, dtype: int64\n"
     ]
    }
   ],
   "source": [
    "# return the largest n values\n",
    "print(\"3 largest values: \\n\", city_mpg.nlargest(3))"
   ]
  },
  {
   "cell_type": "markdown",
   "id": "df3eed21-adf3-43cf-9323-d2e96b2d22ac",
   "metadata": {},
   "source": [
    "- Cumilitive functions"
   ]
  },
  {
   "cell_type": "code",
   "execution_count": 23,
   "id": "1caac5ae-c42e-44c0-879b-81e6e4714f78",
   "metadata": {},
   "outputs": [
    {
     "data": {
      "text/plain": [
       "41139    755704\n",
       "41140    755724\n",
       "41141    755742\n",
       "41142    755760\n",
       "41143    755776\n",
       "Name: city08, dtype: int64"
      ]
     },
     "execution_count": 23,
     "metadata": {},
     "output_type": "execute_result"
    }
   ],
   "source": [
    "# cumilitive sum of a series\n",
    "city_mpg.cumsum().tail()"
   ]
  },
  {
   "cell_type": "markdown",
   "id": "5c71493d-7d87-44c3-8d67-9ae2ce4ed516",
   "metadata": {},
   "source": [
    "- Quantile values"
   ]
  },
  {
   "cell_type": "markdown",
   "id": "17a7101d-bf74-490f-b050-ec85e6badf2f",
   "metadata": {},
   "source": [
    "Quantile is where probability distribution is divided into areas of equal probability. If we consider percentages, we first divide the distribution into 100 pieces. When we look into PDF, the 5th quantile is the point that cuts off an area of 5% in the lower tail of the distribution."
   ]
  },
  {
   "cell_type": "code",
   "execution_count": 24,
   "id": "44dcbbc3-8d89-482f-b3ee-8dfdf32c0ff5",
   "metadata": {},
   "outputs": [
    {
     "data": {
      "text/plain": [
       "0.25    15.0\n",
       "0.50    17.0\n",
       "0.75    20.0\n",
       "Name: city08, dtype: float64"
      ]
     },
     "execution_count": 24,
     "metadata": {},
     "output_type": "execute_result"
    }
   ],
   "source": [
    "# Quantile by default returns the 50% quantile. We can also pass in a list. In such case, this will return a series object\n",
    "city_mpg.quantile([0.25, 0.5, 0.75])  # 25%, 50% and 75% quantiles"
   ]
  },
  {
   "cell_type": "markdown",
   "id": "8910ecb3-6f2d-4641-90af-a4e0599f8cb1",
   "metadata": {},
   "source": [
    "- Generate descriptive statistics"
   ]
  },
  {
   "cell_type": "code",
   "execution_count": 25,
   "id": "90a05c69-acfb-4b71-986a-9b797de77455",
   "metadata": {},
   "outputs": [
    {
     "data": {
      "text/plain": [
       "count    41144.000000\n",
       "mean        18.369045\n",
       "std          7.905886\n",
       "min          6.000000\n",
       "25%         15.000000\n",
       "50%         17.000000\n",
       "75%         20.000000\n",
       "max        150.000000\n",
       "Name: city08, dtype: float64"
      ]
     },
     "execution_count": 25,
     "metadata": {},
     "output_type": "execute_result"
    }
   ],
   "source": [
    "city_mpg.describe()"
   ]
  },
  {
   "cell_type": "markdown",
   "id": "07d40382-382f-44e3-ab8c-2065b8aa1ce5",
   "metadata": {},
   "source": [
    "- Unique values in a series"
   ]
  },
  {
   "cell_type": "code",
   "execution_count": 26,
   "id": "432a58e8-007a-46bd-b640-f3d5a79129ca",
   "metadata": {},
   "outputs": [
    {
     "data": {
      "text/plain": [
       "array([ 19,   9,  23,  10,  17,  21,  22,  18,  12,  20,  14,  11,  15,\n",
       "        13,  16,  25,  24,  26,  31,  27,  30,  38,  28,  43,  35,  33,\n",
       "        29,  39,  37,   8,   7,  34,  32,  36,  49,  81,  45,  48,  42,\n",
       "         6,  44,  74,  84,  40,  87,  41,  51,  62,  59,  79,  50,  52,\n",
       "       102, 106,  94, 126,  53, 107,  77, 110,  88, 132, 122, 138,  78,\n",
       "        60,  47, 129,  93, 128,  61, 137,  85, 120,  86,  89,  95, 101,\n",
       "        90, 124, 121,  54,  58,  91,  97,  73,  98,  92, 150,  55,  57,\n",
       "        46, 118, 112, 131, 136,  83, 125,  80, 123, 127, 114, 140, 115,\n",
       "       104])"
      ]
     },
     "execution_count": 26,
     "metadata": {},
     "output_type": "execute_result"
    }
   ],
   "source": [
    "# return unique values in a series as ndarray\n",
    "city_mpg.unique()"
   ]
  },
  {
   "cell_type": "code",
   "execution_count": 27,
   "id": "d3f0f0b9-2305-4746-9b30-e69758c88f13",
   "metadata": {},
   "outputs": [
    {
     "data": {
      "text/plain": [
       "15     4503\n",
       "18     4053\n",
       "17     4035\n",
       "16     3975\n",
       "19     3012\n",
       "       ... \n",
       "127       1\n",
       "114       1\n",
       "140       1\n",
       "115       1\n",
       "104       1\n",
       "Name: city08, Length: 105, dtype: int64"
      ]
     },
     "execution_count": 27,
     "metadata": {},
     "output_type": "execute_result"
    }
   ],
   "source": [
    "# return a series containing counts of unique values\n",
    "city_mpg.value_counts(dropna=False)  # by default, dropna=True"
   ]
  },
  {
   "cell_type": "markdown",
   "id": "20034f31-94aa-4a49-bdf1-c41e67097031",
   "metadata": {},
   "source": [
    "### The _.agg()_ function "
   ]
  },
  {
   "cell_type": "markdown",
   "id": "065af75d-33ae-46b7-a63f-b4e1fea97258",
   "metadata": {},
   "source": [
    "The `.agg()` function can be used to perform multiple aggregate operations (you can also define your own aggregate functions) on a series object at the same time."
   ]
  },
  {
   "cell_type": "code",
   "execution_count": 28,
   "id": "57b099dd-25ae-4941-8d50-b624d1d51539",
   "metadata": {},
   "outputs": [
    {
     "data": {
      "text/plain": [
       "min                 6\n",
       "idxmin           7901\n",
       "max               150\n",
       "idxmax          31256\n",
       "mean        18.369045\n",
       "std          7.905886\n",
       "var         62.503036\n",
       "quantile         17.0\n",
       "all              True\n",
       "sum            755776\n",
       "Name: city08, dtype: object"
      ]
     },
     "execution_count": 28,
     "metadata": {},
     "output_type": "execute_result"
    }
   ],
   "source": [
    "city_mpg.agg(\n",
    "    [\"min\", \"idxmin\", \"max\", \"idxmax\", \"mean\", \"std\", \"var\", \"quantile\", \"all\", \"sum\"]\n",
    ")"
   ]
  },
  {
   "cell_type": "markdown",
   "id": "72cf18a7-09e3-4b1e-a622-1fb169c57a23",
   "metadata": {},
   "source": [
    "To learn about all the available aggregate functions see the documentation @ https://pandas.pydata.org/pandas-docs/stable/reference/series.html#computations-descriptive-stats"
   ]
  },
  {
   "cell_type": "markdown",
   "id": "e69ba8ef-523b-4e63-bf5e-ec73ea3447f8",
   "metadata": {
    "jp-MarkdownHeadingCollapsed": true,
    "tags": []
   },
   "source": [
    "-------------------------------\n",
    "## Manipulation methods \n",
    "----------------------------------"
   ]
  },
  {
   "cell_type": "markdown",
   "id": "5338d791-22d5-415b-bd83-eab01952332d",
   "metadata": {},
   "source": [
    "When working on a dataset, usually the **most used** methods are some kind of manipulation methods. These are specially useful when we are cleaning up our dataset or, are exploring it to understand it better."
   ]
  },
  {
   "cell_type": "markdown",
   "id": "c210e667-f326-4aaa-80ac-514d441c282b",
   "metadata": {},
   "source": [
    "- Applying a custom function to every element of a Series (also works on DataFrames)"
   ]
  },
  {
   "cell_type": "markdown",
   "id": "5d077fa5-1c55-4320-8a82-84c4bfcf11ab",
   "metadata": {},
   "source": [
    "The `apply(func)` method will call the `func` function on every element of a Series. "
   ]
  },
  {
   "cell_type": "markdown",
   "id": "134102d3-a91a-4da1-a171-7bc371a5e037",
   "metadata": {},
   "source": [
    "This is **usually not wise to use** since this will dramatically increase the computation time. We already have a wide range of predefined pandas methods and functions for almost all the manipulation operations we can desire. But for some reason or other, if we can't find any suitable methods then we can define our own function and call it using the apply() method. **Note that,** we only need to pass in the name of the function and not call them."
   ]
  },
  {
   "cell_type": "code",
   "execution_count": 29,
   "id": "4a168c84-3439-464e-adcf-721bc6de8ad2",
   "metadata": {},
   "outputs": [],
   "source": [
    "# let's say, we only want to keep the top 5 manufacturers and replace other values with \"Other\" in the manufac Series"
   ]
  },
  {
   "cell_type": "code",
   "execution_count": 30,
   "id": "a095ef6c-2a80-4dca-9bbc-99d6954f00d0",
   "metadata": {},
   "outputs": [],
   "source": [
    "# defining the custom manipulation function\n",
    "top_5_manufac = manufac.value_counts().index[0:5]\n",
    "\n",
    "\n",
    "def custom_manipulation(val):\n",
    "    if val in top_5_manufac:\n",
    "        return val\n",
    "    else:\n",
    "        return \"Other\""
   ]
  },
  {
   "cell_type": "code",
   "execution_count": 31,
   "id": "5e1e8d51-73cd-467a-86c9-5833f8f43cc4",
   "metadata": {},
   "outputs": [
    {
     "name": "stdout",
     "output_type": "stream",
     "text": [
      "46.9 ms ± 2.61 ms per loop (mean ± std. dev. of 7 runs, 10 loops each)\n"
     ]
    }
   ],
   "source": [
    "%%timeit # magic functions needs to go at the top of the cell\n",
    "\n",
    "# applying the custom_manipulation function on manufac Series\n",
    "manufac.apply(custom_manipulation)"
   ]
  },
  {
   "cell_type": "code",
   "execution_count": 32,
   "id": "acdc4e7c-99c0-429d-abfe-d0ed03041a79",
   "metadata": {},
   "outputs": [],
   "source": [
    "cust_manufac = manufac.apply(custom_manipulation)"
   ]
  },
  {
   "cell_type": "code",
   "execution_count": 33,
   "id": "e27ced18-6371-42bf-bdee-9b70e56cce1c",
   "metadata": {},
   "outputs": [
    {
     "data": {
      "text/plain": [
       "Other        26622\n",
       "Chevrolet     4003\n",
       "Ford          3371\n",
       "Dodge         2583\n",
       "GMC           2494\n",
       "Toyota        2071\n",
       "Name: make, dtype: int64"
      ]
     },
     "execution_count": 33,
     "metadata": {},
     "output_type": "execute_result"
    }
   ],
   "source": [
    "cust_manufac.value_counts()"
   ]
  },
  {
   "cell_type": "markdown",
   "id": "e1ade85d-3257-4898-b450-6b8446b5c020",
   "metadata": {},
   "source": [
    "- The `where(cond, other)` method"
   ]
  },
  {
   "attachments": {},
   "cell_type": "markdown",
   "id": "b9b0c210-eae5-4ab0-acfd-5642696aee66",
   "metadata": {},
   "source": [
    "This method **replaces values where the condition is False with corresponding value from 'other'**."
   ]
  },
  {
   "cell_type": "code",
   "execution_count": 34,
   "id": "0decad29-ba72-40b5-ba26-48c8f8f5a8b1",
   "metadata": {},
   "outputs": [],
   "source": [
    "# if we were to do the same thing as the above example with where() method"
   ]
  },
  {
   "cell_type": "code",
   "execution_count": 35,
   "id": "0b37cd20-81f5-4855-a97b-efffc1b60483",
   "metadata": {},
   "outputs": [
    {
     "name": "stdout",
     "output_type": "stream",
     "text": [
      "2.59 ms ± 157 µs per loop (mean ± std. dev. of 7 runs, 100 loops each)\n"
     ]
    }
   ],
   "source": [
    "%%timeit\n",
    "# Series.isin(values) checks Whether elements in Series are contained in `values`\n",
    "manufac.where(cond=manufac.isin(top_5_manufac), other=\"Other\")"
   ]
  },
  {
   "cell_type": "markdown",
   "id": "ff77de01-e284-45c3-bcca-758585682afc",
   "metadata": {},
   "source": [
    "As we can see, this is almost 14-18 times faster than the apply() approach."
   ]
  },
  {
   "cell_type": "markdown",
   "id": "c545551b-82d1-4f05-b012-0b4a44b596b2",
   "metadata": {},
   "source": [
    "- The `mask(cond, other)` method **replaces values where the condition is True with corresponding value from 'other'**. It is equivalent to: **where(~cond, other)**"
   ]
  },
  {
   "cell_type": "markdown",
   "id": "d3c6c5ab-b8e9-4d9d-bf85-62f7fa06830a",
   "metadata": {},
   "source": [
    "- The `clip(lower, upper)` method for handling **outliers**"
   ]
  },
  {
   "cell_type": "markdown",
   "id": "2def4b8b-c18f-41c9-a634-477cc3faa271",
   "metadata": {},
   "source": [
    "This will **replace all values above the upper threshold with the upper value and all values lower than the lower threshold with the lower value.**"
   ]
  },
  {
   "cell_type": "markdown",
   "id": "bac7e5b8-b1d0-4135-b74b-b789957bfe47",
   "metadata": {},
   "source": [
    "Clipping is handy if you have outliers in your data. In the city_mpg series the values ranges from 6 to 150. But, there are only 16 vehicles with city_mpg > 130 and 39 vehicles with city_mpg < 8 out of the total 41144 vehicles. Say, we wanted to clip those entries, we can do that very easily with the clip method. Or say, we wanted to clip the values between the 5% quantile and 95% quantile. We could also do that very easily with the clip method. All this is to say that, this is a very handy tool to use in the right situations."
   ]
  },
  {
   "cell_type": "code",
   "execution_count": 36,
   "id": "b2ba3061-e7bd-448e-8f7d-3c0f83ff0f2f",
   "metadata": {},
   "outputs": [
    {
     "name": "stdout",
     "output_type": "stream",
     "text": [
      "True\n",
      "Min:  8\n",
      "Max:  120\n"
     ]
    }
   ],
   "source": [
    "# in the first case\n",
    "city_mpg_clip = city_mpg.clip(lower=8, upper=120)\n",
    "\n",
    "# see that the values were replaced not dropped\n",
    "print(len(city_mpg) == len(city_mpg_clip))\n",
    "\n",
    "# Min and Max values of the city_mpg_clip\n",
    "print(\"Min: \", city_mpg_clip.min())\n",
    "print(\"Max: \", city_mpg_clip.max())"
   ]
  },
  {
   "cell_type": "code",
   "execution_count": 37,
   "id": "1ceabe83-d109-494e-ade1-81d409d5d942",
   "metadata": {},
   "outputs": [
    {
     "name": "stdout",
     "output_type": "stream",
     "text": [
      "Min:  11 \n",
      "Max:  27\n",
      "5% Quantile:  11.0 \n",
      "95% Quantile:  27.0\n"
     ]
    }
   ],
   "source": [
    "# in the second case\n",
    "quantile_5 = city_mpg.quantile(0.05)\n",
    "quantile_95 = city_mpg.quantile(0.95)\n",
    "\n",
    "city_mpg_clip_quantile = city_mpg.clip(lower=quantile_5, upper=quantile_95)\n",
    "\n",
    "print(\n",
    "    \"Min: \",\n",
    "    city_mpg_clip_quantile.min(),\n",
    "    \"\\nMax: \",\n",
    "    city_mpg_clip_quantile.max(),\n",
    ")\n",
    "print(\"5% Quantile: \", quantile_5, \"\\n95% Quantile: \", quantile_95)"
   ]
  },
  {
   "cell_type": "markdown",
   "id": "6d750c7f-2e82-4cd1-ae0d-46abb76d9f92",
   "metadata": {},
   "source": [
    "- The `sort_values()` method"
   ]
  },
  {
   "cell_type": "markdown",
   "id": "f1ce08dc-418b-4ce5-a51a-bb9e568c71ab",
   "metadata": {},
   "source": [
    "This method will **sort the values (by default in ascending order) and also rearrange the index accordingly.**"
   ]
  },
  {
   "cell_type": "markdown",
   "id": "577a2519-5372-4844-a903-158b72e5688a",
   "metadata": {},
   "source": [
    "**Note that**, because the indexes are rearranged i.e, index are aligned, we can still do math operations (and many other operations) on a sorted series."
   ]
  },
  {
   "cell_type": "code",
   "execution_count": 38,
   "id": "3c605023-94f2-4bfc-a696-1c72a7906389",
   "metadata": {},
   "outputs": [
    {
     "data": {
      "text/plain": [
       "23231    9\n",
       "1979     9\n",
       "26858    9\n",
       "1990     9\n",
       "23176    9\n",
       "Name: highway08, dtype: int64"
      ]
     },
     "execution_count": 38,
     "metadata": {},
     "output_type": "execute_result"
    }
   ],
   "source": [
    "highway_mpg.sort_values().head()"
   ]
  },
  {
   "cell_type": "markdown",
   "id": "c4bd5b60-c6a5-47bc-99df-defd556b1fc6",
   "metadata": {},
   "source": [
    "- The `sort_index()` method"
   ]
  },
  {
   "cell_type": "markdown",
   "id": "924288a7-4124-49a5-a179-4986f28b978b",
   "metadata": {},
   "source": [
    "By default this method **will sort the indexes in ascending order**."
   ]
  },
  {
   "cell_type": "code",
   "execution_count": 39,
   "id": "45adde19-a729-4e3c-ad16-e42adb6ccd16",
   "metadata": {},
   "outputs": [
    {
     "data": {
      "text/plain": [
       "41143    Subaru\n",
       "41142    Subaru\n",
       "41141    Subaru\n",
       "41140    Subaru\n",
       "41139    Subaru\n",
       "Name: make, dtype: object"
      ]
     },
     "execution_count": 39,
     "metadata": {},
     "output_type": "execute_result"
    }
   ],
   "source": [
    "manufac.sort_values().sort_index(ascending=False).head()"
   ]
  },
  {
   "cell_type": "markdown",
   "id": "f5770106-0c4c-4530-8de7-cdd2fcdd701a",
   "metadata": {},
   "source": [
    "- The `drop_duplicates()` method "
   ]
  },
  {
   "cell_type": "markdown",
   "id": "45c1ad51-b823-4536-8179-d7acbe7538f9",
   "metadata": {},
   "source": [
    "This will drop the rows with duplicate values. This mehtod has an argument called **keep**. By default its value is set to \"First\". If set to \"False\" it will remove any duplicated values including the initial value."
   ]
  },
  {
   "cell_type": "code",
   "execution_count": 40,
   "id": "9564a295-372d-4483-928e-36874ee2e4d0",
   "metadata": {},
   "outputs": [
    {
     "data": {
      "text/plain": [
       "602                      E. P. Dutton, Inc.\n",
       "1790                 Panoz Auto-Development\n",
       "6266                                  Qvale\n",
       "11033                Lambda Control Systems\n",
       "13553                   London Coach Co Inc\n",
       "16606                                Shelby\n",
       "19027         Import Foreign Auto Sales Inc\n",
       "19352    S and S Coach Company  E.p. Dutton\n",
       "19353      Superior Coaches Div E.p. Dutton\n",
       "19670                   Vixen Motor Company\n",
       "20657           Volga Associated Automobile\n",
       "20881                                 Panos\n",
       "21147                           London Taxi\n",
       "21443                       Excalibur Autos\n",
       "23115                              Mahindra\n",
       "24738                                Fisker\n",
       "25795                      ASC Incorporated\n",
       "32341                                 Karma\n",
       "32788                            Koenigsegg\n",
       "34303                       Aurora Cars Ltd\n",
       "34386                        RUF Automobile\n",
       "35193                   JBA Motorcars, Inc.\n",
       "35753             Grumman Allied Industries\n",
       "35874      Environmental Rsch and Devp Corp\n",
       "37130                        General Motors\n",
       "38335                              Goldacre\n",
       "39561                      Isis Imports Ltd\n",
       "Name: make, dtype: object"
      ]
     },
     "execution_count": 40,
     "metadata": {},
     "output_type": "execute_result"
    }
   ],
   "source": [
    "# manufacturers who have only one car listed on the data series\n",
    "manufac.drop_duplicates(keep=False)"
   ]
  },
  {
   "cell_type": "markdown",
   "id": "faa0fdcb-f3ef-47bf-9824-b0ea150b8dbb",
   "metadata": {},
   "source": [
    "- Ranking the Values, the `rank(axis=0, method='average', ascending=True)` method"
   ]
  },
  {
   "cell_type": "code",
   "execution_count": 41,
   "id": "f854b298-3c0c-4c3d-b9d5-871d69ba4b74",
   "metadata": {},
   "outputs": [],
   "source": [
    "# method defines how to rank the records that have the same values (ties).\n",
    "# Available ranking methods are, ‘average’, ‘min’, ‘max’, ‘first’, ‘dense’. default = ‘average’."
   ]
  },
  {
   "cell_type": "code",
   "execution_count": 42,
   "id": "e79cc120-53cd-47d7-920e-440be70c01cf",
   "metadata": {},
   "outputs": [
    {
     "data": {
      "text/plain": [
       "7901         1.0\n",
       "34557        1.0\n",
       "37161        1.0\n",
       "21060        1.0\n",
       "35887        1.0\n",
       "          ...   \n",
       "34563    41139.0\n",
       "34564    41141.0\n",
       "32599    41142.0\n",
       "31256    41142.0\n",
       "33423    41142.0\n",
       "Name: city08, Length: 41144, dtype: float64"
      ]
     },
     "execution_count": 42,
     "metadata": {},
     "output_type": "execute_result"
    }
   ],
   "source": [
    "# Ranking based on city_mpg\n",
    "city_mpg.rank(method=\"min\").sort_values()"
   ]
  },
  {
   "cell_type": "markdown",
   "id": "ef95dbb2-6d59-4fcc-ac7f-4f90d5603a6e",
   "metadata": {},
   "source": [
    "- The `replace(to_replace, value, regex=False)` method"
   ]
  },
  {
   "cell_type": "markdown",
   "id": "15d76cd6-e79d-46d5-b105-f0b0280770d4",
   "metadata": {},
   "source": [
    "This is a very **versetile and useful** method. To see its full functionality and example uses see the docs."
   ]
  },
  {
   "cell_type": "code",
   "execution_count": 43,
   "id": "c60f6579-92fa-456c-8e56-ca858ec1e3af",
   "metadata": {},
   "outputs": [
    {
     "data": {
      "text/plain": [
       "0        Alfa Romeo\n",
       "1           Ferrari\n",
       "2             Dodge\n",
       "3             Dodge\n",
       "4          Subaru!!\n",
       "            ...    \n",
       "41139      Subaru!!\n",
       "41140      Subaru!!\n",
       "41141      Subaru!!\n",
       "41142      Subaru!!\n",
       "41143      Subaru!!\n",
       "Name: make, Length: 41144, dtype: object"
      ]
     },
     "execution_count": 43,
     "metadata": {},
     "output_type": "execute_result"
    }
   ],
   "source": [
    "manufac.replace(\"Subaru\", \"Subaru!!\")"
   ]
  },
  {
   "attachments": {},
   "cell_type": "markdown",
   "id": "2b85b2eb-4b26-437a-b174-f08582f1baf0",
   "metadata": {},
   "source": [
    "- #### **Binning Data:** the `pd.cut(array_like, bins, labels, include_lowest=False)` and the `pd.qcut()` methods"
   ]
  },
  {
   "cell_type": "markdown",
   "id": "bff1a724-b7ff-4568-b914-83857305de85",
   "metadata": {},
   "source": [
    "As the name suggests, we can **categorize** our data values **into specific bins of predefined size** (by default, in a half open interval with lower limit excluded and upper limit included). By default, the **cut()** method will generate categories set to the half open interval but we can change this behaviour and define specific bin names with the labels argument. The **qcut()** method is used to generate bins using quantile values so that all the bins have roughly same amount of data. \n",
    "\n",
    "We can either define how many bins we want or, we can also define the bin sizes as a list."
   ]
  },
  {
   "cell_type": "code",
   "execution_count": 44,
   "id": "c9197452-bcce-4c03-bcb0-beb182dff8b8",
   "metadata": {},
   "outputs": [],
   "source": [
    "manufac_val_count = manufac.value_counts()"
   ]
  },
  {
   "cell_type": "code",
   "execution_count": 45,
   "id": "83b0d2f4-464d-4fe6-8fa4-a83f36a93027",
   "metadata": {},
   "outputs": [
    {
     "data": {
      "text/plain": [
       "Chevrolet                                   Manufacturer for more than 3000 cars\n",
       "Ford                                        Manufacturer for more than 3000 cars\n",
       "Dodge                          Manufacturer for more than 2000 but less than ...\n",
       "GMC                            Manufacturer for more than 2000 but less than ...\n",
       "Toyota                         Manufacturer for more than 2000 but less than ...\n",
       "                                                     ...                        \n",
       "Volga Associated Automobile                  Manufacturer for less than 500 cars\n",
       "Panos                                        Manufacturer for less than 500 cars\n",
       "Mahindra                                     Manufacturer for less than 500 cars\n",
       "Excalibur Autos                              Manufacturer for less than 500 cars\n",
       "London Coach Co Inc                          Manufacturer for less than 500 cars\n",
       "Name: make, Length: 136, dtype: category\n",
       "Categories (5, object): ['Manufacturer for less than 500 cars' < 'Manufacturer for more than 500 but less than ... < 'Manufacturer for more than 1000 but less than... < 'Manufacturer for more than 2000 but less than... < 'Manufacturer for more than 3000 cars']"
      ]
     },
     "execution_count": 45,
     "metadata": {},
     "output_type": "execute_result"
    }
   ],
   "source": [
    "# definging bins by edges\n",
    "pd.cut(\n",
    "    manufac_val_count,\n",
    "    [0, 500, 1000, 2000, 3000, 5000],\n",
    "    labels=[\n",
    "        \"Manufacturer for less than 500 cars\",\n",
    "        \"Manufacturer for more than 500 but less than 1000 cars\",\n",
    "        \"Manufacturer for more than 1000 but less than 2000 cars\",\n",
    "        \"Manufacturer for more than 2000 but less than 3000 cars\",\n",
    "        \"Manufacturer for more than 3000 cars\",\n",
    "    ],\n",
    ")"
   ]
  },
  {
   "cell_type": "markdown",
   "id": "dbc78994-4fe3-4466-baee-2473f2849504",
   "metadata": {
    "jp-MarkdownHeadingCollapsed": true,
    "tags": []
   },
   "source": [
    "---------------------\n",
    "## String Manipulation\n",
    "------------------"
   ]
  },
  {
   "cell_type": "markdown",
   "id": "ac24ece0-5e2f-4e72-b974-fcd971276cec",
   "metadata": {},
   "source": [
    "Usually, by default pandas stores string type data as objects. But objects can mean various things such as, python lists, dictionaries or custom classes. Thus to have more flexibility over how we treat and use strings we can convert object type to string with the astype() method. If the strings has low cardinality we can also use categorical type which will decrease the processing time further."
   ]
  },
  {
   "cell_type": "code",
   "execution_count": 46,
   "id": "95d1748c-759e-47fa-956a-e14fe02da4a8",
   "metadata": {},
   "outputs": [],
   "source": [
    "manufac_str = manufac.astype(\"string\")"
   ]
  },
  {
   "cell_type": "markdown",
   "id": "c1e47d01-2f73-4195-b87b-dd9cb06b1d68",
   "metadata": {},
   "source": [
    "**The .str accessor provides many string manipulation methods, most of which works similarly to the python string methods. Some of the string methods are,**"
   ]
  },
  {
   "cell_type": "markdown",
   "id": "472f3e52-ed54-4d6b-b144-8d80bb55624b",
   "metadata": {},
   "source": [
    "    .str.capitalize()\n",
    "    .str.lower()\n",
    "    .str.upper()\n",
    "    .str.normalize()\n",
    "    .str.strip()\n",
    "    \n",
    "    .str.center()\n",
    "    .str.ljust()\n",
    "    \n",
    "    .str.contains()\n",
    "    .str.extract()\n",
    "    .str.match()\n",
    "    \n",
    "    .str.count()\n",
    "    .str.find()\n",
    "    .str.index()\n",
    "    \n",
    "    .str.join()\n",
    "    .str.split()\n",
    "    .str.slice()\n",
    "    .str.partition()"
   ]
  },
  {
   "cell_type": "markdown",
   "id": "c58f7cc4-0647-4748-ba23-a06b01c173dd",
   "metadata": {},
   "source": [
    "### Searching through strings: the `.str.extract()` method"
   ]
  },
  {
   "cell_type": "markdown",
   "id": "c2c2e6bf-4c5f-4b5a-86aa-09c028d783ad",
   "metadata": {},
   "source": [
    "Returns a **dataframe** with the first match from each regular expression capture group (separated by first brackets) in its own column (uses named groups for column names). Returns a **series** if **expand=False**."
   ]
  },
  {
   "cell_type": "code",
   "execution_count": 47,
   "id": "c341cdc8-322d-4528-ba0d-011b7d052c36",
   "metadata": {},
   "outputs": [
    {
     "data": {
      "text/plain": [
       "C    5336\n",
       "B    2796\n",
       "A    1610\n",
       "Name: letter, dtype: Int64"
      ]
     },
     "execution_count": 47,
     "metadata": {},
     "output_type": "execute_result"
    }
   ],
   "source": [
    "# the following regex i.e, (?P<letter>^[A-C]) defines that, the Capture Group is named 'letter'\n",
    "# it will search if any of the character in the list, [ABC] is present at the start of a string\n",
    "manufac_str.str.extract(r\"(?P<letter>^[A-C])\", expand=False).value_counts()"
   ]
  },
  {
   "cell_type": "markdown",
   "id": "380fd60b-2936-48d6-9a80-e0a90fcfec83",
   "metadata": {},
   "source": [
    "### Replacing text: `.str.replace()` and `<Series>.replace()`"
   ]
  },
  {
   "cell_type": "markdown",
   "id": "a86ad37d-f772-436a-9af5-5ba1f21ccde4",
   "metadata": {},
   "source": [
    "We should use .str.replace() to replace substrings and \\<Series>.replace() to replace complete strings. But, we can use both of these methods to perform both of the funcitons. To replace a substring with .replace() method set, regex=True."
   ]
  },
  {
   "cell_type": "code",
   "execution_count": 48,
   "id": "23cb9d14-3ccb-4ee4-a3c5-84cea17d8dc3",
   "metadata": {},
   "outputs": [
    {
     "data": {
      "text/plain": [
       "20820           Åutokraft Limited\n",
       "19489    Åvanti Motor Corporation\n",
       "18246    Åvanti Motor Corporation\n",
       "24051              Åzure Dynamics\n",
       "24050              Åzure Dynamics\n",
       "Name: make, dtype: string"
      ]
     },
     "execution_count": 48,
     "metadata": {},
     "output_type": "execute_result"
    }
   ],
   "source": [
    "# replacing partial string with .str.replace()\n",
    "manufac_str.str.replace(\"A\", \"Å\").sort_values().tail()"
   ]
  },
  {
   "cell_type": "code",
   "execution_count": 49,
   "id": "a0cd5dba-483e-421f-822e-362f3b6ee882",
   "metadata": {},
   "outputs": [
    {
     "data": {
      "text/plain": [
       "20820           Åutokraft Limited\n",
       "19489    Åvanti Motor Corporation\n",
       "18246    Åvanti Motor Corporation\n",
       "24051              Åzure Dynamics\n",
       "24050              Åzure Dynamics\n",
       "Name: make, dtype: string"
      ]
     },
     "execution_count": 49,
     "metadata": {},
     "output_type": "execute_result"
    }
   ],
   "source": [
    "# replacing partial string with .replace() method\n",
    "manufac_str.replace(\"A\", \"Å\", regex=True).sort_values().tail()"
   ]
  },
  {
   "cell_type": "markdown",
   "id": "b9267841-0d99-45ee-8978-9455c2fad589",
   "metadata": {},
   "source": [
    "### Splitting text: the `.str.split()` method"
   ]
  },
  {
   "cell_type": "markdown",
   "id": "64b9f1db-763a-42a7-bd2e-9381271a7907",
   "metadata": {},
   "source": [
    "This may be useful when dealing with survey data that has binned numeric values. By default, the split method will return a series of list of the splited values. But, this is difficult to manipulate. So, what we can do is, set **expand=True** and this will return a DataFrame. Then we can access the individual columns of the dataframe using .loc() or, .iloc() if we wanted a series object."
   ]
  },
  {
   "cell_type": "code",
   "execution_count": 50,
   "id": "3166ffdd-9eec-493b-b904-2cc104b4b17c",
   "metadata": {},
   "outputs": [],
   "source": [
    "# example of splitting binned data\n",
    "age = pd.Series([\"1-10\", \"11-20\", \"21-30\", \"31-40\", \"41-50\"])"
   ]
  },
  {
   "cell_type": "code",
   "execution_count": 51,
   "id": "ed3355b0-7d23-49ce-9d1d-c4fbc6c5d595",
   "metadata": {},
   "outputs": [],
   "source": [
    "age_df = (\n",
    "    age.astype(dtype=\"string\")\n",
    "    .str.split(\"-\", expand=True)\n",
    "    .rename(columns={0: \"low\", 1: \"high\"})\n",
    ")"
   ]
  },
  {
   "cell_type": "code",
   "execution_count": 52,
   "id": "ed71b7cd-65a9-475b-9809-2d712aab9838",
   "metadata": {},
   "outputs": [
    {
     "data": {
      "text/plain": [
       "0     1\n",
       "1    11\n",
       "2    21\n",
       "3    31\n",
       "4    41\n",
       "Name: low, dtype: string"
      ]
     },
     "execution_count": 52,
     "metadata": {},
     "output_type": "execute_result"
    }
   ],
   "source": [
    "age_low = age_df.loc[:, \"low\"]\n",
    "age_low"
   ]
  },
  {
   "cell_type": "markdown",
   "id": "d43174bb-9dad-485f-a57c-60bfecfd1367",
   "metadata": {},
   "source": [
    "**The `.str.partition()` also works similarly.** .str.partition(sep, expand=True) will return a dataframe with 3 columns: element before the sep, the sep, and the part after."
   ]
  },
  {
   "cell_type": "markdown",
   "id": "7668bd76-4432-4396-aee7-26578f3a4d6d",
   "metadata": {
    "jp-MarkdownHeadingCollapsed": true,
    "tags": []
   },
   "source": [
    "------------------------------------\n",
    "## Missing values and How to handle them\n",
    "------------------------------"
   ]
  },
  {
   "cell_type": "code",
   "execution_count": 53,
   "id": "362bddd5-f04f-4878-a32c-915b9b94b316",
   "metadata": {},
   "outputs": [],
   "source": [
    "# The cylinders column has missing values\n",
    "cylinders = df.cylinders"
   ]
  },
  {
   "attachments": {},
   "cell_type": "markdown",
   "id": "fa5262fb-5161-420b-8ee1-2e20909befc7",
   "metadata": {},
   "source": [
    "> **Counting the total number of missing values**"
   ]
  },
  {
   "cell_type": "markdown",
   "id": "17650798-bae8-4fce-a57d-91b1b6e36824",
   "metadata": {},
   "source": [
    "The `series.isna()` function detects missing values. An interesting characteristic of the **sum()** method is that it treats **True as 1 and False as 0**. This property can be used to count the number of missing values."
   ]
  },
  {
   "cell_type": "code",
   "execution_count": 54,
   "id": "314bbaa0-18ce-457c-a078-36cbcebc444c",
   "metadata": {},
   "outputs": [
    {
     "data": {
      "text/plain": [
       "206"
      ]
     },
     "execution_count": 54,
     "metadata": {},
     "output_type": "execute_result"
    }
   ],
   "source": [
    "# the series.isna() function detects missing values\n",
    "cylinders.isna().sum()"
   ]
  },
  {
   "attachments": {},
   "cell_type": "markdown",
   "id": "04347754-4ede-4936-b097-2f15789e7591",
   "metadata": {},
   "source": [
    "> **Let's see for which manufacturers the cylinders value is missing**"
   ]
  },
  {
   "cell_type": "code",
   "execution_count": 55,
   "id": "c449d547-66d0-4942-89c8-9cfa59c5b988",
   "metadata": {},
   "outputs": [],
   "source": [
    "# Boolean mask for missing values\n",
    "mask_missing = cylinders.isna()"
   ]
  },
  {
   "cell_type": "code",
   "execution_count": 56,
   "id": "0353d531-9a49-4d83-a86b-7b0145500247",
   "metadata": {},
   "outputs": [
    {
     "data": {
      "text/plain": [
       "Tesla     74\n",
       "smart     16\n",
       "Ford      15\n",
       "Nissan    14\n",
       "BMW       10\n",
       "Name: make, dtype: int64"
      ]
     },
     "execution_count": 56,
     "metadata": {},
     "output_type": "execute_result"
    }
   ],
   "source": [
    "# value_counts() is used to count unique values\n",
    "manufac[mask_missing].value_counts().head(5)"
   ]
  },
  {
   "cell_type": "markdown",
   "id": "a6a35c3f-43b1-49ba-85a6-a819aab9f33c",
   "metadata": {},
   "source": [
    "Here we can see that most of the cars with missing cylinders values are Tesla cars. Since they are electric cars this makes sense. **Note:** An alternative way would be to use the `loc` method insted of this boolean masking."
   ]
  },
  {
   "cell_type": "markdown",
   "id": "6cbb214a-5761-4cb0-8576-73f7de05e346",
   "metadata": {},
   "source": [
    "Now let's discuss how to handle these missing values."
   ]
  },
  {
   "cell_type": "markdown",
   "id": "095f2c6f-0943-4347-9dab-fe4d49516f60",
   "metadata": {},
   "source": [
    "### _Handling missing values_ "
   ]
  },
  {
   "cell_type": "markdown",
   "id": "0adf203d-3261-49e4-a9d7-e59e01001e61",
   "metadata": {},
   "source": [
    "- The `.fillna()` method allows you to specify a replacement value for any missing data"
   ]
  },
  {
   "cell_type": "code",
   "execution_count": 57,
   "id": "c7cd0fad-4b68-40fa-b202-b6a791935ccc",
   "metadata": {},
   "outputs": [
    {
     "data": {
      "text/plain": [
       "4.0     15938\n",
       "6.0     14284\n",
       "8.0      8801\n",
       "5.0       771\n",
       "12.0      626\n",
       "3.0       279\n",
       "0.0       206\n",
       "10.0      170\n",
       "2.0        59\n",
       "16.0       10\n",
       "Name: cylinders, dtype: int64"
      ]
     },
     "execution_count": 57,
     "metadata": {},
     "output_type": "execute_result"
    }
   ],
   "source": [
    "cylinders.fillna(0).value_counts()  # Doesn't change in place"
   ]
  },
  {
   "cell_type": "markdown",
   "id": "a441d96e-16f3-4c70-899a-d4e7f055bd89",
   "metadata": {},
   "source": [
    "**Note that**, in this case it was reasonable to replace the \"nan\" values with \"0\" but it is not always the case. In other scenarios the **.mean(), .median(), .mode()** etc. may come in handy."
   ]
  },
  {
   "cell_type": "markdown",
   "id": "22d1f929-67e0-4246-9f9a-57186d13a6b7",
   "metadata": {},
   "source": [
    "- The `.dropna()` method will drop the indexes (i.e, rows) with missing values"
   ]
  },
  {
   "cell_type": "code",
   "execution_count": 58,
   "id": "911c10e7-cf1c-440d-9f3e-06e1064cea10",
   "metadata": {},
   "outputs": [
    {
     "data": {
      "text/plain": [
       "206"
      ]
     },
     "execution_count": 58,
     "metadata": {},
     "output_type": "execute_result"
    }
   ],
   "source": [
    "# see that 'nan' count of 206 is the number of rows that was dropped\n",
    "len(cylinders) - len(cylinders.dropna())"
   ]
  },
  {
   "cell_type": "markdown",
   "id": "fe020dc4-70e6-4efd-a674-ac6725cde3ab",
   "metadata": {},
   "source": [
    "- The `.interpolate()` method will replace 'nan' with interpolation of the values around the missing value."
   ]
  },
  {
   "cell_type": "markdown",
   "id": "55f9b461-e681-43c6-be74-1cd521251dc1",
   "metadata": {},
   "source": [
    "This is a very useful method to fill in missing values. For example, this comes in handy if the data is ordered (as time series data often is) and there are holes in the data. But, you have to make sure that the data you are manipulating has a trend that can be captured by interpolation. Otherwise, this may lead to disastarous results. "
   ]
  },
  {
   "cell_type": "code",
   "execution_count": 59,
   "id": "87cd1a2c-7041-4ddd-8042-fc32c303dead",
   "metadata": {},
   "outputs": [
    {
     "data": {
      "text/plain": [
       "0    19.0\n",
       "1    20.0\n",
       "2    20.0\n",
       "3    21.0\n",
       "4    22.0\n",
       "5    24.0\n",
       "6    23.0\n",
       "7    24.0\n",
       "dtype: float64"
      ]
     },
     "execution_count": 59,
     "metadata": {},
     "output_type": "execute_result"
    }
   ],
   "source": [
    "# say we have a series that captures the [somewhat] upward trend of temp. as the season goes into summer from winter\n",
    "temp = pd.Series([19, 20, 20, None, 22, 24, 23, 24])\n",
    "temp.interpolate()  # doesn't change in place"
   ]
  },
  {
   "cell_type": "markdown",
   "id": "daabba53-7360-4bf4-b428-8928794e3be9",
   "metadata": {
    "tags": []
   },
   "source": [
    "----------------------\n",
    "## Indexing Operations\n",
    "---------------------"
   ]
  },
  {
   "cell_type": "markdown",
   "id": "37a43497-cb36-4600-a7ad-b4a433e7259d",
   "metadata": {},
   "source": [
    "We will see later when we discuss about DataFrames that most of what we learn here (indexing of Series objects) applies to the DataFrame objects as well."
   ]
  },
  {
   "cell_type": "markdown",
   "id": "2f5c9dd5-3217-4557-b269-ac38658fdaf2",
   "metadata": {},
   "source": [
    "To view the index of a Series we can use the `.index` method."
   ]
  },
  {
   "cell_type": "code",
   "execution_count": 60,
   "id": "d9cf1143-8868-4ae6-880e-329eb8862c95",
   "metadata": {},
   "outputs": [
    {
     "data": {
      "text/plain": [
       "RangeIndex(start=0, stop=41144, step=1)"
      ]
     },
     "execution_count": 60,
     "metadata": {},
     "output_type": "execute_result"
    }
   ],
   "source": [
    "city_mpg.index"
   ]
  },
  {
   "attachments": {},
   "cell_type": "markdown",
   "id": "1b4471c4-f669-4c46-9603-aaea1bfe3578",
   "metadata": {
    "jp-MarkdownHeadingCollapsed": true,
    "tags": []
   },
   "source": [
    "### *Renaming Indexes*"
   ]
  },
  {
   "cell_type": "markdown",
   "id": "3917b66d-97ef-478c-800d-d4866501287d",
   "metadata": {},
   "source": [
    "Many of the operations we will discuss here works on the index position while others work on the index label. If these are both integer values, it can be a little confusing but becomes more clear if the index has string labels. So first, we will relabel the indexes to some string values."
   ]
  },
  {
   "attachments": {},
   "cell_type": "markdown",
   "id": "59380a70-d2fe-433d-a3b1-fa963f827b95",
   "metadata": {},
   "source": [
    "The `.rename(index)` method will return a new series with the original values but new index labels. If you pass in a scalar value it will change the .name attribute of the new series it returns, leaving the index intact."
   ]
  },
  {
   "attachments": {},
   "cell_type": "markdown",
   "id": "b4c12fb8-4e40-4342-8dde-36e2f58114ce",
   "metadata": {},
   "source": [
    "We can pass in a dictionary to map the previous index label to the new label. It also accepts a series, a scalar or, a function that takes an old label and returns a new label or a sequence. When we pass in a series and the index values are the same, the values from the series that we passed in are used as the index."
   ]
  },
  {
   "cell_type": "code",
   "execution_count": 61,
   "id": "6e182143-6c43-438b-892a-d3f562015c2e",
   "metadata": {},
   "outputs": [],
   "source": [
    "# renaming the index labels of the city_mpg series with manufacturers names\n",
    "# to_dict() will create a dict with the format of, idx as key: series content as value\n",
    "city_rnm = city_mpg.rename(index=manufac.to_dict())"
   ]
  },
  {
   "cell_type": "code",
   "execution_count": 62,
   "id": "a2593918-d8ee-43f3-9d6f-14693c8540f4",
   "metadata": {},
   "outputs": [
    {
     "data": {
      "text/plain": [
       "Index(['Alfa Romeo', 'Ferrari', 'Dodge', 'Dodge', 'Subaru', 'Subaru', 'Subaru',\n",
       "       'Toyota', 'Toyota', 'Toyota',\n",
       "       ...\n",
       "       'Saab', 'Saturn', 'Saturn', 'Saturn', 'Saturn', 'Subaru', 'Subaru',\n",
       "       'Subaru', 'Subaru', 'Subaru'],\n",
       "      dtype='object', length=41144)"
      ]
     },
     "execution_count": 62,
     "metadata": {},
     "output_type": "execute_result"
    }
   ],
   "source": [
    "city_rnm.index"
   ]
  },
  {
   "attachments": {},
   "cell_type": "markdown",
   "id": "fa9d5d73-8e46-483b-ba7e-0d706d811f3c",
   "metadata": {
    "jp-MarkdownHeadingCollapsed": true,
    "tags": []
   },
   "source": [
    "### *Resetting Index Labels*"
   ]
  },
  {
   "cell_type": "markdown",
   "id": "21103cf2-0a9c-4300-9136-82979b06133d",
   "metadata": {},
   "source": [
    "Sometimes we need a unique index to perform an operation. If you want to set the index to monotonic increasing, and therefore unique integers starting at zero, you can use the `.reset_index()` method. By default, this method will return a dataframe, moving the current index into a new column. To drop the current index and return a Series, we can set **drop=True**."
   ]
  },
  {
   "cell_type": "code",
   "execution_count": 63,
   "id": "fe53128d-144f-49ff-9d83-a1965eeccf38",
   "metadata": {},
   "outputs": [
    {
     "data": {
      "text/plain": [
       "0    19\n",
       "1     9\n",
       "2    23\n",
       "3    10\n",
       "4    17\n",
       "Name: city08, dtype: int64"
      ]
     },
     "execution_count": 63,
     "metadata": {},
     "output_type": "execute_result"
    }
   ],
   "source": [
    "city_rnm.reset_index(drop=True).head()"
   ]
  },
  {
   "attachments": {},
   "cell_type": "markdown",
   "id": "f43e0df3-df6d-4078-a6cb-d9d33ed88ed2",
   "metadata": {
    "jp-MarkdownHeadingCollapsed": true,
    "tags": []
   },
   "source": [
    "### *The `.loc[]` method*"
   ]
  },
  {
   "cell_type": "markdown",
   "id": "068e0b39-166c-4e2d-bd05-f6b04dfb022c",
   "metadata": {},
   "source": [
    "The **.loc** attribute is **primarily label based**, but may also be used with a boolean array."
   ]
  },
  {
   "attachments": {},
   "cell_type": "markdown",
   "id": "da772b05-0b33-4717-859f-d22b76295b1b",
   "metadata": {},
   "source": [
    "Allowable inputs may be:\n",
    "- **Scalar:** if only a scalar index label is passed it will return a series in case of duplicate labels and a scalar in case of a unique label. For it to return a series in all cases we have to pass in the scalar as a list.\n",
    "- **Array like:** a list or array of labels. Will return a series object.\n",
    "- **Slice object:** one thing to note, to slice a series with duplicate index labels we will first need to sort the indexes with **.sort_index()**. Slicing with .loc includes both the start and end string.\n",
    "- **A boolean array:** of the same length as the series.\n",
    "- An alignable pandas **Index object**.\n",
    "- **A callable function:** that returns one of the above."
   ]
  },
  {
   "cell_type": "code",
   "execution_count": 64,
   "id": "a32696e1-4df7-4db4-86c4-c22ad522fda7",
   "metadata": {},
   "outputs": [
    {
     "data": {
      "text/plain": [
       "Ferrari    12\n",
       "Ferrari    13\n",
       "Ferrari     9\n",
       "Name: city08, dtype: int64"
      ]
     },
     "execution_count": 64,
     "metadata": {},
     "output_type": "execute_result"
    }
   ],
   "source": [
    "# scalar as input to .loc\n",
    "city_rnm.loc[\"Ferrari\"].sample(3)"
   ]
  },
  {
   "cell_type": "code",
   "execution_count": 65,
   "id": "84d61883-9ddd-4878-bcf9-22e018881cdd",
   "metadata": {},
   "outputs": [
    {
     "data": {
      "text/plain": [
       "Honda     33\n",
       "Toyota    19\n",
       "Toyota    19\n",
       "Toyota    21\n",
       "Name: city08, dtype: int64"
      ]
     },
     "execution_count": 65,
     "metadata": {},
     "output_type": "execute_result"
    }
   ],
   "source": [
    "# array/list as input to .loc\n",
    "city_rnm.loc[[\"Ferrari\", \"Honda\", \"Toyota\"]].sample(4)"
   ]
  },
  {
   "cell_type": "code",
   "execution_count": 66,
   "id": "02a3b779-574a-46fb-8c1e-54eac69cf709",
   "metadata": {},
   "outputs": [
    {
     "data": {
      "text/plain": [
       "Federal Coach    15\n",
       "Federal Coach    13\n",
       "Federal Coach    13\n",
       "Federal Coach    14\n",
       "Federal Coach    13\n",
       "                 ..\n",
       "Ferrari          13\n",
       "Ferrari           8\n",
       "Ferrari           9\n",
       "Ferrari          13\n",
       "Ferrari          10\n",
       "Name: city08, Length: 243, dtype: int64"
      ]
     },
     "execution_count": 66,
     "metadata": {},
     "output_type": "execute_result"
    }
   ],
   "source": [
    "# slice object as input to .loc\n",
    "city_rnm.sort_index().loc[\"Federal\":\"Ferrari\"]"
   ]
  },
  {
   "cell_type": "code",
   "execution_count": 67,
   "id": "cde86886-03af-4564-b02a-84d66f1f317c",
   "metadata": {},
   "outputs": [
    {
     "data": {
      "text/plain": [
       "Federal Coach                15\n",
       "Federal Coach                13\n",
       "Federal Coach                13\n",
       "Federal Coach                14\n",
       "Federal Coach                13\n",
       "                             ..\n",
       "Grumman Allied Industries    16\n",
       "Grumman Olson                30\n",
       "Grumman Olson                31\n",
       "Grumman Olson                26\n",
       "Grumman Olson                27\n",
       "Name: city08, Length: 6377, dtype: int64"
      ]
     },
     "execution_count": 67,
     "metadata": {},
     "output_type": "execute_result"
    }
   ],
   "source": [
    "# slicing with partial strings\n",
    "city_rnm.sort_index().loc[\"F\":\"H\"]"
   ]
  },
  {
   "cell_type": "code",
   "execution_count": 68,
   "id": "cd581196-0af0-4766-ab89-769d67cec920",
   "metadata": {},
   "outputs": [
    {
     "data": {
      "text/plain": [
       "Hyundai       132\n",
       "Fiat          121\n",
       "Volkswagen    126\n",
       "Name: city08, dtype: int64"
      ]
     },
     "execution_count": 68,
     "metadata": {},
     "output_type": "execute_result"
    }
   ],
   "source": [
    "# Boolean array as input to .loc\n",
    "boolean_mask = city_rnm > 120\n",
    "city_rnm.loc[boolean_mask].sample(3)"
   ]
  },
  {
   "cell_type": "code",
   "execution_count": 69,
   "id": "f409bbbb-955f-48bf-8981-5cf725c82cda",
   "metadata": {},
   "outputs": [
    {
     "data": {
      "text/plain": [
       "Hyundai    135.0\n",
       "BMW        123.3\n",
       "Tesla      124.2\n",
       "Name: city08, dtype: float64"
      ]
     },
     "execution_count": 69,
     "metadata": {},
     "output_type": "execute_result"
    }
   ],
   "source": [
    "# Function as input to .loc\n",
    "\n",
    "# say, we know in the coming year due to regulations, all the vehicles will loose\n",
    "# 10% of the current mileage and we want to calculate that mileage from our current data\n",
    "# and see which cars will still have mpg > 120\n",
    "city_rnm.mul(0.9).loc[lambda x: x > 120].sample(3)"
   ]
  },
  {
   "attachments": {},
   "cell_type": "markdown",
   "id": "15a31760-1b3e-4e92-a21e-e06e42cacac8",
   "metadata": {},
   "source": [
    "### *The `.iloc[]` method*"
   ]
  },
  {
   "cell_type": "markdown",
   "id": "fadcde51-0b4e-4623-99ec-5b50b164684d",
   "metadata": {},
   "source": [
    "The **.iloc** attribute operates on **indexes and not index labels**. It can also be used with a boolean array."
   ]
  },
  {
   "cell_type": "markdown",
   "id": "5eff95be-b1cc-4980-9594-1c94f08dadd0",
   "metadata": {},
   "source": [
    "Allowable inputs may be:\n",
    "- **Scalar:** The value, a scalar, at that index.\n",
    "- **Array like:** a list or array of indexes. Will return a series object.\n",
    "- **Slice object:** end of the slice is exclusive i.e, works similarly as list slicing would.\n",
    "- **A numpy array of booleans (or, a python list):** of the same length as the series. Note that, it must be numpy array or a list and not pandas series objects (aka, boolean array).\n",
    "- **A callable function:** that returns one of the above.\n",
    "- **A tuple:** applicable for DataFrame objects. A tuple of row and column indexes."
   ]
  },
  {
   "cell_type": "code",
   "execution_count": 70,
   "id": "57dd0c2a-47ac-4c8b-ac71-ae1dcbe4f0ad",
   "metadata": {},
   "outputs": [
    {
     "data": {
      "text/plain": [
       "Nissan    125\n",
       "Name: city08, dtype: int64"
      ]
     },
     "execution_count": 70,
     "metadata": {},
     "output_type": "execute_result"
    }
   ],
   "source": [
    "# a boolean array i.e, a pandas series object of boolean values\n",
    "# to a numpy array or a python list before it can be used with .iloc\n",
    "mask = city_rnm > 120\n",
    "city_rnm.iloc[mask.to_numpy()].sample()"
   ]
  },
  {
   "attachments": {},
   "cell_type": "markdown",
   "id": "ab5e3c6d-153b-4dbc-8e44-d5918824a634",
   "metadata": {},
   "source": [
    "### *Filtering Index Labels with `.filter(items, like, regex)`*"
   ]
  },
  {
   "cell_type": "markdown",
   "id": "6a17696a-30b0-4414-a0bb-8e00c6c1de0c",
   "metadata": {},
   "source": [
    "- **items** (passed as a list) is used for exact matches. Note that exact match (with items) fails with duplicate index labels but if the index doesn't exist it will not throw an error.\n",
    "- **like** is used for substring matches.\n",
    "- **regex** allows to specify a regular expression to match against index values."
   ]
  },
  {
   "cell_type": "code",
   "execution_count": 71,
   "id": "213efb6e-ca77-4680-8263-260e3f8a1462",
   "metadata": {},
   "outputs": [
    {
     "name": "stdout",
     "output_type": "stream",
     "text": [
      "cannot reindex on an axis with duplicate labels\n"
     ]
    },
    {
     "name": "stderr",
     "output_type": "stream",
     "text": [
      "/tmp/ipykernel_18814/3248916708.py:3: FutureWarning: reindexing with a non-unique Index is deprecated and will raise in a future version.\n",
      "  city_rnm.filter(items=[\"Panos\"])\n"
     ]
    }
   ],
   "source": [
    "# items\n",
    "try:\n",
    "    city_rnm.filter(items=[\"Panos\"])\n",
    "except ValueError as err:\n",
    "    print(err)"
   ]
  },
  {
   "cell_type": "code",
   "execution_count": 72,
   "id": "54f7aaa4-4e2d-44a8-8b63-3c8674075246",
   "metadata": {},
   "outputs": [
    {
     "data": {
      "text/plain": [
       "BMW              14\n",
       "BMW              14\n",
       "BMW              11\n",
       "Buick            21\n",
       "Buick            17\n",
       "                 ..\n",
       "BMW              15\n",
       "BMW              14\n",
       "Buick            19\n",
       "Buick            18\n",
       "Mercedes-Benz    16\n",
       "Name: city08, Length: 4344, dtype: int64"
      ]
     },
     "execution_count": 72,
     "metadata": {},
     "output_type": "execute_result"
    }
   ],
   "source": [
    "# like\n",
    "city_rnm.filter(like=\"B\")"
   ]
  },
  {
   "cell_type": "code",
   "execution_count": 73,
   "id": "38756ef4-0a8a-49d8-8fde-c7037fb9754e",
   "metadata": {},
   "outputs": [
    {
     "data": {
      "text/plain": [
       "Alfa Romeo    19\n",
       "Audi          17\n",
       "Audi          17\n",
       "BMW           14\n",
       "BMW           14\n",
       "              ..\n",
       "Chevrolet     12\n",
       "Chevrolet     11\n",
       "Chevrolet     15\n",
       "Chevrolet     16\n",
       "Chevrolet     10\n",
       "Name: city08, Length: 9742, dtype: int64"
      ]
     },
     "execution_count": 73,
     "metadata": {},
     "output_type": "execute_result"
    }
   ],
   "source": [
    "# regex for filtering labels that starts with A/B/C\n",
    "city_rnm.filter(regex=\"^[A-C].\")"
   ]
  },
  {
   "attachments": {},
   "cell_type": "markdown",
   "id": "e200341d-d73f-48fb-9172-4fc97ff6cd24",
   "metadata": {},
   "source": [
    "### *Reindexing with `.reindex(index)`*"
   ]
  },
  {
   "cell_type": "markdown",
   "id": "cd14276a-2c26-4dfb-8db5-440d047684ac",
   "metadata": {},
   "source": [
    "Index is array like which defines the new labels / index to conform to. But note that, reindexing on an axis with duplicate labels will not work. If we pass in labels that are not in the index, it will not throw an error rather it will insert missing values."
   ]
  },
  {
   "cell_type": "code",
   "execution_count": 74,
   "id": "603bb518-4bb4-4adb-b96f-bbaf0167b550",
   "metadata": {},
   "outputs": [
    {
     "data": {
      "text/plain": [
       "0    19\n",
       "1     9\n",
       "2    23\n",
       "3    10\n",
       "4    17\n",
       "Name: city08, dtype: int64"
      ]
     },
     "execution_count": 74,
     "metadata": {},
     "output_type": "execute_result"
    }
   ],
   "source": [
    "city_mpg.head()"
   ]
  },
  {
   "cell_type": "code",
   "execution_count": 75,
   "id": "d85ad510-05c9-420c-ad66-09d28250f068",
   "metadata": {},
   "outputs": [
    {
     "data": {
      "text/plain": [
       "0      19.0\n",
       "1       9.0\n",
       "2      23.0\n",
       "2      23.0\n",
       "nan     NaN\n",
       "Name: city08, dtype: float64"
      ]
     },
     "execution_count": 75,
     "metadata": {},
     "output_type": "execute_result"
    }
   ],
   "source": [
    "city_mpg.reindex(index=[0, 1, 2, 2, \"nan\"])"
   ]
  }
 ],
 "metadata": {
  "kernelspec": {
   "display_name": "ml_intro",
   "language": "python",
   "name": "python3"
  },
  "language_info": {
   "codemirror_mode": {
    "name": "ipython",
    "version": 3
   },
   "file_extension": ".py",
   "mimetype": "text/x-python",
   "name": "python",
   "nbconvert_exporter": "python",
   "pygments_lexer": "ipython3",
   "version": "3.8.15"
  },
  "toc-autonumbering": false,
  "vscode": {
   "interpreter": {
    "hash": "c68b33fb54bb59552268eca97cce0a66d93ba1e1c3c0870be37ac7a47ccc96a3"
   }
  }
 },
 "nbformat": 4,
 "nbformat_minor": 5
}
