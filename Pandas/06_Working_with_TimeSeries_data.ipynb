{
 "cells": [
  {
   "cell_type": "markdown",
   "metadata": {},
   "source": [
    "# Working with Time Series Data"
   ]
  },
  {
   "cell_type": "markdown",
   "metadata": {},
   "source": [
    "**Table of contents**<a id='toc0_'></a>    \n",
    "- [Import Statements](#toc1_)    \n",
    "- [Reading Time Data and Handling Timezone Information](#toc2_)    \n",
    "  - [*Basic informations and some knowhows about Timezones*](#toc2_1_)    \n",
    "  - [**Working with UTC time data**](#toc2_2_)    \n",
    "    - [*The `pd.to_datetime(args, utc, format)` function*](#toc2_2_1_)    \n",
    "    - [*Converting to a different timezone, The `.dt.tz_convert(timezone)` method*](#toc2_2_2_)    \n",
    "  - [**Working with Local time data**](#toc2_3_)    \n",
    "  - [**Working with UNIX Epoch time**](#toc2_4_)    \n",
    "- [The `.dt` Accessor](#toc3_)    \n",
    "  - [*The `dt.strftime()` method*](#toc3_1_)    \n",
    "- [Dates in the Index](#toc4_)    \n",
    "    - [*Finding missing data*](#toc4_1_1_)    \n",
    "    - [*Handling Missing data*](#toc4_1_2_)    \n",
    "  - [*Shifting Data*](#toc4_2_)    \n",
    "  - [*Rolling window calculations*](#toc4_3_)    \n",
    "- [Resampling](#toc5_)    \n",
    "  - [*Using the `.transform()` method on a `Resampler` Object*](#toc5_1_)    \n",
    "- [Example](#toc6_)    \n",
    "\n",
    "<!-- vscode-jupyter-toc-config\n",
    "\tnumbering=false\n",
    "\tanchor=true\n",
    "\tflat=false\n",
    "\tminLevel=2\n",
    "\tmaxLevel=4\n",
    "\t/vscode-jupyter-toc-config -->\n",
    "<!-- THIS CELL WILL BE REPLACED ON TOC UPDATE. DO NOT WRITE YOUR TEXT IN THIS CELL -->"
   ]
  },
  {
   "cell_type": "markdown",
   "metadata": {},
   "source": [
    "## <a id='toc1_'></a>[Import Statements](#toc0_)"
   ]
  },
  {
   "attachments": {},
   "cell_type": "markdown",
   "metadata": {},
   "source": [
    "--------------------------"
   ]
  },
  {
   "cell_type": "code",
   "execution_count": 173,
   "metadata": {},
   "outputs": [],
   "source": [
    "# import statements\n",
    "import numpy as np\n",
    "import pandas as pd\n",
    "import matplotlib.pyplot as plt\n",
    "from datetime import datetime, timedelta, timezone"
   ]
  },
  {
   "cell_type": "code",
   "execution_count": 174,
   "metadata": {},
   "outputs": [],
   "source": [
    "# view options\n",
    "pd.set_option(\"display.max_columns\", 14)\n",
    "pd.set_option(\"display.max_rows\", 10)"
   ]
  },
  {
   "attachments": {},
   "cell_type": "markdown",
   "metadata": {
    "tags": []
   },
   "source": [
    "---------------------------"
   ]
  },
  {
   "cell_type": "markdown",
   "metadata": {},
   "source": [
    "## <a id='toc2_'></a>[Reading Time Data and Handling Timezone Information](#toc0_)"
   ]
  },
  {
   "attachments": {},
   "cell_type": "markdown",
   "metadata": {},
   "source": [
    "-----------------------"
   ]
  },
  {
   "cell_type": "markdown",
   "metadata": {},
   "source": [
    "### <a id='toc2_1_'></a>[*Basic informations and some knowhows about Timezones*](#toc0_)"
   ]
  },
  {
   "cell_type": "markdown",
   "metadata": {},
   "source": [
    "- **``UTC time:``** Coordinated Universal Time (UTC) serves as the international standard for timekeeping and forms the basis for global time coordination. It is centered at the Prime Meridian (0 degrees longitude), which runs through the Royal Observatory in Greenwich, London, and serves as the reference point for time measurement. The need for coordinated timekeeping on a global scale became evident in the mid-20th century, leading to the establishment of UTC. On January 1, 1960, international efforts began to coordinate time and frequency transmissions worldwide. This coordination ensures that various systems and technologies across the globe are synchronized accurately.\n",
    "\n",
    "   UTC has several essential characteristics and plays a critical role in the synchronization of time and frequency transmissions worldwide.\n",
    "\n",
    "   1. *Monotonically Increasing Time*: UTC is designed to be a continuously increasing time standard. This means that as time progresses, the value of UTC never decreases. This property is crucial for various applications that rely on chronological order, such as financial transactions, event logging, and scientific data analysis.\n",
    "\n",
    "   2. *Time Zones and UTC Offset*: To account for the Earth's rotation and its division into time zones, regions around the world express their local times as positive or negative offsets from UTC. These offsets are often provided in hours and minutes. For example, Salt Lake City, Utah, is in the America/Denver time zone, which may have an offset of either 6 or 7 hours from UTC, depending on daylight saving time observance.\n",
    "\n",
    "- **``Daylight Saving Time (DST):``** Many regions, especially those at higher latitudes, observe daylight saving time. During DST, clocks are typically set forward in the spring and set back in the fall. This practice can create \"ambiguous time\" when clocks are turned back, resulting in a repeated hour. For this reason, if you are dealing with **local times**, you will want three things: **the time, the timezone, and an offset**. If you are only concerned with **duration**, you can just use **UTC time** or seconds since **UNIX epoch**.\n",
    "\n",
    "   *Some terminologies*:\n",
    "   \n",
    "   - *Naive Time*: A time without a specified timezone or offset is often referred to as \"naive\" time. Naive times lack context and can lead to misinterpretations or errors when working across different locations or systems.\n",
    "   - *Civil Time/Wall Time*: Time specified in a local timezone is known as \"civil time\" or \"wall time.\" This is the time that people typically use for everyday activities, such as meetings, appointments, and scheduling."
   ]
  },
  {
   "cell_type": "markdown",
   "metadata": {},
   "source": [
    "\n",
    "**A general recommendation for programmers is to store dates in UTC times and then convert them to local time as needed.**\n",
    "\n",
    "Storing data in UTC ensures a consistent, monotonically increasing time reference, and it avoids the complexities associated with daylight saving time changes and time zone conversions. When displaying or working with times in a specific local context, you can and should convert UTC times to the relevant local timezone as needed."
   ]
  },
  {
   "cell_type": "markdown",
   "metadata": {},
   "source": [
    "##### **Resources:**\n",
    "\n",
    "- Getting the correct timezone name is important. The recommendation is prefacing your search with ”IANA” (e.g, ”IANA Timezone for Salt Lake City”) and then double checking your result in this Wikipedia article (https://en.wikipedia.org/wiki/List_of_tz_database_time_zones).\n",
    "- This [blog post](http://www.ines-panker.com/2020/10/26/all-date-formats.html) discusses What are UTC time, ISO time format and UNIX time."
   ]
  },
  {
   "cell_type": "markdown",
   "metadata": {},
   "source": [
    "### <a id='toc2_2_'></a>[**Working with UTC time data**](#toc0_)"
   ]
  },
  {
   "cell_type": "code",
   "execution_count": 175,
   "metadata": {},
   "outputs": [],
   "source": [
    "# ./utc_time_data.csv contains made up data\n",
    "utc_data = pd.read_csv(\"./Data/utc_time_data.csv\").UTC_Date"
   ]
  },
  {
   "cell_type": "code",
   "execution_count": 176,
   "metadata": {},
   "outputs": [
    {
     "data": {
      "text/plain": [
       "0     2015 -03 -08 08:00:00-07:00\n",
       "1     2015 -03 -08 08:30:00-07:00\n",
       "2     2015 -03 -08 09:00:00+06:00\n",
       "3     2015 -03 -08 09:30:00+06:00\n",
       "4     2015 -11 -01 06:30:00+06:00\n",
       "                 ...             \n",
       "9     2015 -11 -01 08:00:00-07:00\n",
       "10    2015 -11 -01 08:30:00-07:00\n",
       "11    2015 -11 -01 09:00:00-07:00\n",
       "12    2015 -11 -01 09:30:00-07:00\n",
       "13    2015 -11 -01 10:00:00-07:00\n",
       "Name: UTC_Date, Length: 14, dtype: object"
      ]
     },
     "execution_count": 176,
     "metadata": {},
     "output_type": "execute_result"
    }
   ],
   "source": [
    "utc_data"
   ]
  },
  {
   "cell_type": "markdown",
   "metadata": {},
   "source": [
    "#### <a id='toc2_2_1_'></a>[*The `pd.to_datetime(args, utc, format)` function*](#toc0_)"
   ]
  },
  {
   "attachments": {},
   "cell_type": "markdown",
   "metadata": {},
   "source": [
    "The *pd.to_datetime()* mehod converts specified iterables (columns of a DataFrame i.e, a Series object, list etc.) to pandas DateTimeIndex object.\n"
   ]
  },
  {
   "cell_type": "markdown",
   "metadata": {},
   "source": [
    "- To convert a series containing datetime data as *utc date* we need to set, **utc=True**. Setting, `utc=True` will `automatically convert` the data to an `offset of 00:00`.\n",
    "- The format argument is used if the time has a certain pattern in its representation. The available format codes can be found at, https://docs.python.org/3/library/datetime.html#strftime-and-strptime-behavior.\n"
   ]
  },
  {
   "cell_type": "markdown",
   "metadata": {},
   "source": [
    "**Note:** We could've also used the `parse_dates` argument of the `pd.read_csv()` function to convert the date column to a datetime64 object."
   ]
  },
  {
   "cell_type": "code",
   "execution_count": 177,
   "metadata": {},
   "outputs": [],
   "source": [
    "utc_time = pd.to_datetime(utc_data, utc=True)"
   ]
  },
  {
   "cell_type": "code",
   "execution_count": 178,
   "metadata": {},
   "outputs": [
    {
     "data": {
      "text/plain": [
       "0    2015-03-08 15:00:00+00:00\n",
       "1    2015-03-08 15:30:00+00:00\n",
       "2    2015-03-08 03:00:00+00:00\n",
       "3    2015-03-08 03:30:00+00:00\n",
       "4    2015-11-01 00:30:00+00:00\n",
       "                ...           \n",
       "9    2015-11-01 15:00:00+00:00\n",
       "10   2015-11-01 15:30:00+00:00\n",
       "11   2015-11-01 16:00:00+00:00\n",
       "12   2015-11-01 16:30:00+00:00\n",
       "13   2015-11-01 17:00:00+00:00\n",
       "Name: UTC_Date, Length: 14, dtype: datetime64[ns, UTC]"
      ]
     },
     "execution_count": 178,
     "metadata": {},
     "output_type": "execute_result"
    }
   ],
   "source": [
    "utc_time"
   ]
  },
  {
   "cell_type": "code",
   "execution_count": 179,
   "metadata": {},
   "outputs": [],
   "source": [
    "# UTC offset -07:00 means that we have subtracted -07:00 from the UTC at 00:00 to get to the timezone data\n",
    "# we now have So to get back to UTC at 00:00 we would add 07:00 to the datetime we have (as our data)."
   ]
  },
  {
   "attachments": {},
   "cell_type": "markdown",
   "metadata": {},
   "source": [
    "Once we have converted a series to a datetime object we can utilize the `.dt` accessor, which gives us some awesome tools for dealing with dates."
   ]
  },
  {
   "cell_type": "markdown",
   "metadata": {},
   "source": [
    "#### <a id='toc2_2_2_'></a>[*Converting to a different timezone, The `.dt.tz_convert(timezone)` method*](#toc0_)"
   ]
  },
  {
   "attachments": {},
   "cell_type": "markdown",
   "metadata": {},
   "source": [
    "To convert UTC datetime data to a certain timezone we can use the `.dt.tz_convert()` method."
   ]
  },
  {
   "cell_type": "code",
   "execution_count": 180,
   "metadata": {},
   "outputs": [
    {
     "data": {
      "text/plain": [
       "0    2015-03-08 21:00:00+06:00\n",
       "1    2015-03-08 21:30:00+06:00\n",
       "2    2015-03-08 09:00:00+06:00\n",
       "3    2015-03-08 09:30:00+06:00\n",
       "4    2015-11-01 06:30:00+06:00\n",
       "                ...           \n",
       "9    2015-11-01 21:00:00+06:00\n",
       "10   2015-11-01 21:30:00+06:00\n",
       "11   2015-11-01 22:00:00+06:00\n",
       "12   2015-11-01 22:30:00+06:00\n",
       "13   2015-11-01 23:00:00+06:00\n",
       "Name: UTC_Date, Length: 14, dtype: datetime64[ns, Asia/Dhaka]"
      ]
     },
     "execution_count": 180,
     "metadata": {},
     "output_type": "execute_result"
    }
   ],
   "source": [
    "# say, we wanted to convert the utc_time to the Dhaka timezone (capital of Bangladesh)\n",
    "# from internet we determine that the correct timezone for Dhaka is, 'Asia/Dhaka'\n",
    "\n",
    "# UTC offset +06:00 means that we are adding +06:00 to the UTC at 00:00.\n",
    "# So to get back to UTC at 00:00 we would subtract 06:00 from the Asia/Dhaka timezone time.\n",
    "utc_time.dt.tz_convert(\"Asia/Dhaka\")"
   ]
  },
  {
   "cell_type": "markdown",
   "metadata": {},
   "source": [
    "### <a id='toc2_3_'></a>[**Working with Local time data**](#toc0_)"
   ]
  },
  {
   "attachments": {},
   "cell_type": "markdown",
   "metadata": {},
   "source": [
    "To load local date information, we need to have all three of **the date, the offset, and the timezone** informations."
   ]
  },
  {
   "cell_type": "code",
   "execution_count": 181,
   "metadata": {},
   "outputs": [],
   "source": [
    "local = pd.read_csv(\"./Data/local_time_data.csv\")\n",
    "local_date_time = local.local_date_time\n",
    "offset = local.offset"
   ]
  },
  {
   "cell_type": "code",
   "execution_count": 182,
   "metadata": {},
   "outputs": [
    {
     "data": {
      "text/plain": [
       "0     2015 -03 -08 01:00:00\n",
       "1     2015 -03 -08 01:30:00\n",
       "2     2015 -03 -08 02:00:00\n",
       "3     2015 -03 -08 02:30:00\n",
       "4     2015 -03 -08 03:00:00\n",
       "              ...          \n",
       "14    2015 -11 -01 01:00:00\n",
       "15    2015 -11 -01 01:30:00\n",
       "16    2015 -11 -01 02:00:00\n",
       "17    2015 -11 -01 02:30:00\n",
       "18    2015 -11 -01 03:00:00\n",
       "Name: local_date_time, Length: 19, dtype: object"
      ]
     },
     "execution_count": 182,
     "metadata": {},
     "output_type": "execute_result"
    }
   ],
   "source": [
    "local_date_time"
   ]
  },
  {
   "attachments": {},
   "cell_type": "markdown",
   "metadata": {},
   "source": [
    "<u>**Workflow:**</u>\n",
    "\n",
    "1. First, we will convert the 'local_date_time' to a naive (i.e, w/o timezone information) datetime format using the `pd.to_datetime()` function.\n",
    "2. We will group the 'local_date_time' datetime object by the offset.\n",
    "    - If we pass in a series to a `groupby` object it will first align the passed series to the original data (much like adding a new column to the data). Note that, it will enter NaN at the end if series length is smaller than the length of the dataframe. \n",
    "    - After that, the actual grouping will be done. The groups will have the series value that each was grouped by as their names (accessible by `grp.name`).\n",
    "3. To retain the original index positions we will be using the groupby `.transform()` method instead of the `.agg()` method. \n",
    "4. After that, the naive date data will be converted to a `timezone-aware` format with the help of, `.dt.tz_localize(tz:str, pytz.timezone)` method.\n",
    "5. Finally we will be converting the timezone-aware object to the local timezone using the `.dt.tz_convert()` method."
   ]
  },
  {
   "attachments": {},
   "cell_type": "markdown",
   "metadata": {},
   "source": [
    "One caveat in this process is that our offset series doesn't have the proper timezone format i,e, `HH:MM`. As a result, if we tried to produce a timezone aware datetime object it will only modify the MM and not the HH. So, first we convert the offset series entries to proper format. "
   ]
  },
  {
   "cell_type": "code",
   "execution_count": 183,
   "metadata": {},
   "outputs": [],
   "source": [
    "# see that, offset doesn't have the proper formatting\n",
    "# offset.sample(2)"
   ]
  },
  {
   "cell_type": "code",
   "execution_count": 184,
   "metadata": {},
   "outputs": [],
   "source": [
    "# formatting offset series entries to HH:MM\n",
    "offset = offset.replace({-7: \"-07:00\", -6: \"-06:00\"})"
   ]
  },
  {
   "cell_type": "code",
   "execution_count": 185,
   "metadata": {},
   "outputs": [],
   "source": [
    "# see what changed after formatting\n",
    "# offset.sample(2)"
   ]
  },
  {
   "cell_type": "code",
   "execution_count": 186,
   "metadata": {},
   "outputs": [
    {
     "name": "stdout",
     "output_type": "stream",
     "text": [
      "Name:\n",
      "-06:00\n",
      "Group:\n",
      "5    2015-03-08 02:00:00\n",
      "6    2015-03-08 02:30:00\n",
      "7    2015-03-08 03:00:00\n",
      "8    2015-03-08 03:30:00\n",
      "9    2015-11-01 00:30:00\n",
      "10   2015-11-01 01:00:00\n",
      "11   2015-11-01 01:30:00\n",
      "12   2015-11-01 02:00:00\n",
      "13   2015-11-01 02:30:00\n",
      "Name: local_date_time, dtype: datetime64[ns]\n",
      "Name:\n",
      "-07:00\n",
      "Group:\n",
      "0    2015-03-08 01:00:00\n",
      "1    2015-03-08 01:30:00\n",
      "2    2015-03-08 02:00:00\n",
      "3    2015-03-08 02:30:00\n",
      "4    2015-03-08 03:00:00\n",
      "14   2015-11-01 01:00:00\n",
      "15   2015-11-01 01:30:00\n",
      "16   2015-11-01 02:00:00\n",
      "17   2015-11-01 02:30:00\n",
      "18   2015-11-01 03:00:00\n",
      "Name: local_date_time, dtype: datetime64[ns]\n"
     ]
    }
   ],
   "source": [
    "for name, grp in pd.to_datetime(local_date_time, format=\"mixed\").groupby(offset):\n",
    "    print(f\"Name:\\n{name}\")\n",
    "    print(f\"Group:\\n{grp}\")"
   ]
  },
  {
   "cell_type": "code",
   "execution_count": 187,
   "metadata": {},
   "outputs": [],
   "source": [
    "# Here we convert the naive time to America/Denver timezone\n",
    "\n",
    "local_time = (\n",
    "    pd.to_datetime(local_date_time, format=\"mixed\")\n",
    "    .groupby(offset)\n",
    "    .transform(\n",
    "        lambda grp_: grp_.dt.tz_localize(grp_.name).dt.tz_convert(\"America/Denver\")\n",
    "    )\n",
    ")"
   ]
  },
  {
   "cell_type": "code",
   "execution_count": 188,
   "metadata": {},
   "outputs": [
    {
     "data": {
      "text/plain": [
       "0    2015-03-08 01:00:00-07:00\n",
       "1    2015-03-08 01:30:00-07:00\n",
       "2    2015-03-08 03:00:00-06:00\n",
       "3    2015-03-08 03:30:00-06:00\n",
       "4    2015-03-08 04:00:00-06:00\n",
       "                ...           \n",
       "14   2015-11-01 01:00:00-07:00\n",
       "15   2015-11-01 01:30:00-07:00\n",
       "16   2015-11-01 02:00:00-07:00\n",
       "17   2015-11-01 02:30:00-07:00\n",
       "18   2015-11-01 03:00:00-07:00\n",
       "Name: local_date_time, Length: 19, dtype: datetime64[ns, America/Denver]"
      ]
     },
     "execution_count": 188,
     "metadata": {},
     "output_type": "execute_result"
    }
   ],
   "source": [
    "local_time"
   ]
  },
  {
   "attachments": {},
   "cell_type": "markdown",
   "metadata": {},
   "source": [
    "- Converting local time to UTC"
   ]
  },
  {
   "cell_type": "code",
   "execution_count": 189,
   "metadata": {},
   "outputs": [
    {
     "data": {
      "text/plain": [
       "0    2015-03-08 08:00:00+00:00\n",
       "1    2015-03-08 08:30:00+00:00\n",
       "2    2015-03-08 09:00:00+00:00\n",
       "3    2015-03-08 09:30:00+00:00\n",
       "4    2015-03-08 10:00:00+00:00\n",
       "                ...           \n",
       "14   2015-11-01 08:00:00+00:00\n",
       "15   2015-11-01 08:30:00+00:00\n",
       "16   2015-11-01 09:00:00+00:00\n",
       "17   2015-11-01 09:30:00+00:00\n",
       "18   2015-11-01 10:00:00+00:00\n",
       "Name: local_date_time, Length: 19, dtype: datetime64[ns, UTC]"
      ]
     },
     "execution_count": 189,
     "metadata": {},
     "output_type": "execute_result"
    }
   ],
   "source": [
    "# or, pd.to_datetime(local_time, utc=True)\n",
    "local_time.dt.tz_convert(\"UTC\")"
   ]
  },
  {
   "cell_type": "markdown",
   "metadata": {},
   "source": [
    "### <a id='toc2_4_'></a>[**Working with UNIX Epoch time**](#toc0_)"
   ]
  },
  {
   "attachments": {},
   "cell_type": "markdown",
   "metadata": {},
   "source": [
    "- To find the time elapsed (in seconds) since UNIX epoch at Jan 1, 1970 midnight UTC -"
   ]
  },
  {
   "cell_type": "code",
   "execution_count": 190,
   "metadata": {},
   "outputs": [
    {
     "data": {
      "text/plain": [
       "0     1425801600\n",
       "1     1425803400\n",
       "2     1425805200\n",
       "3     1425807000\n",
       "4     1425808800\n",
       "         ...    \n",
       "14    1446364800\n",
       "15    1446366600\n",
       "16    1446368400\n",
       "17    1446370200\n",
       "18    1446372000\n",
       "Name: local_date_time, Length: 19, dtype: int64"
      ]
     },
     "execution_count": 190,
     "metadata": {},
     "output_type": "execute_result"
    }
   ],
   "source": [
    "unix_local = local_time.view(int).floordiv(1e9).astype(int)\n",
    "unix_local"
   ]
  },
  {
   "cell_type": "code",
   "execution_count": 191,
   "metadata": {},
   "outputs": [
    {
     "data": {
      "text/plain": [
       "0     1425801600\n",
       "1     1425803400\n",
       "2     1425805200\n",
       "3     1425807000\n",
       "4     1425808800\n",
       "         ...    \n",
       "14    1446364800\n",
       "15    1446366600\n",
       "16    1446368400\n",
       "17    1446370200\n",
       "18    1446372000\n",
       "Name: local_date_time, Length: 19, dtype: int64"
      ]
     },
     "execution_count": 191,
     "metadata": {},
     "output_type": "execute_result"
    }
   ],
   "source": [
    "# or,\n",
    "local_time.apply(lambda x: x.timestamp()).astype(int)  # each entry is of datetime type"
   ]
  },
  {
   "attachments": {},
   "cell_type": "markdown",
   "metadata": {},
   "source": [
    "- To convert epoch information into UTC -"
   ]
  },
  {
   "cell_type": "code",
   "execution_count": 192,
   "metadata": {},
   "outputs": [
    {
     "data": {
      "text/plain": [
       "0    2015-03-08 08:00:00+00:00\n",
       "1    2015-03-08 08:30:00+00:00\n",
       "2    2015-03-08 09:00:00+00:00\n",
       "3    2015-03-08 09:30:00+00:00\n",
       "4    2015-03-08 10:00:00+00:00\n",
       "                ...           \n",
       "14   2015-11-01 08:00:00+00:00\n",
       "15   2015-11-01 08:30:00+00:00\n",
       "16   2015-11-01 09:00:00+00:00\n",
       "17   2015-11-01 09:30:00+00:00\n",
       "18   2015-11-01 10:00:00+00:00\n",
       "Name: local_date_time, Length: 19, dtype: datetime64[ns, UTC]"
      ]
     },
     "execution_count": 192,
     "metadata": {},
     "output_type": "execute_result"
    }
   ],
   "source": [
    "pd.to_datetime(unix_local, unit=\"s\").dt.tz_localize(\"UTC\")"
   ]
  },
  {
   "attachments": {},
   "cell_type": "markdown",
   "metadata": {},
   "source": [
    "**`Note:`** In UNIX time format, leap seconds are ignored, with a leap second having the same Unix time as the second before it, and every day is treated as if it contains exactly 86400 seconds. Due to this treatment, Unix time is not a true representation of UTC."
   ]
  },
  {
   "attachments": {},
   "cell_type": "markdown",
   "metadata": {},
   "source": [
    "--------------------------------------------"
   ]
  },
  {
   "cell_type": "markdown",
   "metadata": {},
   "source": [
    "## <a id='toc3_'></a>[The `.dt` Accessor](#toc0_)"
   ]
  },
  {
   "attachments": {},
   "cell_type": "markdown",
   "metadata": {},
   "source": [
    "-------------------------------------------"
   ]
  },
  {
   "attachments": {},
   "cell_type": "markdown",
   "metadata": {},
   "source": [
    "**The .dt accessor** provides us access to some very useful datatime properties and mehtods (all of python `datetime` object methods and more).\n",
    "\n",
    "- DateTime properties: https://pandas.pydata.org/pandas-docs/stable/reference/series.html#datetime-properties\n",
    "\n",
    "- DateTime methods: https://pandas.pydata.org/pandas-docs/stable/reference/series.html#datetime-methods\n",
    "\n",
    "- Period properties: https://pandas.pydata.org/pandas-docs/stable/reference/series.html#period-properties \n",
    "\n",
    "- TimeDelta properties: https://pandas.pydata.org/pandas-docs/stable/reference/series.html#timedelta-properties\n",
    "\n",
    "- TimeDelta methods: https://pandas.pydata.org/pandas-docs/stable/reference/series.html#timedelta-methods"
   ]
  },
  {
   "cell_type": "code",
   "execution_count": 193,
   "metadata": {},
   "outputs": [
    {
     "data": {
      "text/html": [
       "<div>\n",
       "<style scoped>\n",
       "    .dataframe tbody tr th:only-of-type {\n",
       "        vertical-align: middle;\n",
       "    }\n",
       "\n",
       "    .dataframe tbody tr th {\n",
       "        vertical-align: top;\n",
       "    }\n",
       "\n",
       "    .dataframe thead th {\n",
       "        text-align: right;\n",
       "    }\n",
       "</style>\n",
       "<table border=\"1\" class=\"dataframe\">\n",
       "  <thead>\n",
       "    <tr style=\"text-align: right;\">\n",
       "      <th></th>\n",
       "      <th>year</th>\n",
       "      <th>week</th>\n",
       "      <th>day</th>\n",
       "    </tr>\n",
       "  </thead>\n",
       "  <tbody>\n",
       "    <tr>\n",
       "      <th>0</th>\n",
       "      <td>2015</td>\n",
       "      <td>10</td>\n",
       "      <td>7</td>\n",
       "    </tr>\n",
       "    <tr>\n",
       "      <th>1</th>\n",
       "      <td>2015</td>\n",
       "      <td>10</td>\n",
       "      <td>7</td>\n",
       "    </tr>\n",
       "    <tr>\n",
       "      <th>2</th>\n",
       "      <td>2015</td>\n",
       "      <td>10</td>\n",
       "      <td>7</td>\n",
       "    </tr>\n",
       "    <tr>\n",
       "      <th>3</th>\n",
       "      <td>2015</td>\n",
       "      <td>10</td>\n",
       "      <td>7</td>\n",
       "    </tr>\n",
       "    <tr>\n",
       "      <th>4</th>\n",
       "      <td>2015</td>\n",
       "      <td>10</td>\n",
       "      <td>7</td>\n",
       "    </tr>\n",
       "    <tr>\n",
       "      <th>...</th>\n",
       "      <td>...</td>\n",
       "      <td>...</td>\n",
       "      <td>...</td>\n",
       "    </tr>\n",
       "    <tr>\n",
       "      <th>14</th>\n",
       "      <td>2015</td>\n",
       "      <td>44</td>\n",
       "      <td>7</td>\n",
       "    </tr>\n",
       "    <tr>\n",
       "      <th>15</th>\n",
       "      <td>2015</td>\n",
       "      <td>44</td>\n",
       "      <td>7</td>\n",
       "    </tr>\n",
       "    <tr>\n",
       "      <th>16</th>\n",
       "      <td>2015</td>\n",
       "      <td>44</td>\n",
       "      <td>7</td>\n",
       "    </tr>\n",
       "    <tr>\n",
       "      <th>17</th>\n",
       "      <td>2015</td>\n",
       "      <td>44</td>\n",
       "      <td>7</td>\n",
       "    </tr>\n",
       "    <tr>\n",
       "      <th>18</th>\n",
       "      <td>2015</td>\n",
       "      <td>44</td>\n",
       "      <td>7</td>\n",
       "    </tr>\n",
       "  </tbody>\n",
       "</table>\n",
       "<p>19 rows × 3 columns</p>\n",
       "</div>"
      ],
      "text/plain": [
       "    year  week  day\n",
       "0   2015    10    7\n",
       "1   2015    10    7\n",
       "2   2015    10    7\n",
       "3   2015    10    7\n",
       "4   2015    10    7\n",
       "..   ...   ...  ...\n",
       "14  2015    44    7\n",
       "15  2015    44    7\n",
       "16  2015    44    7\n",
       "17  2015    44    7\n",
       "18  2015    44    7\n",
       "\n",
       "[19 rows x 3 columns]"
      ]
     },
     "execution_count": 193,
     "metadata": {},
     "output_type": "execute_result"
    }
   ],
   "source": [
    "# For example to calculate year, week, and day according to the ISO 8601 standard\n",
    "local_time.dt.isocalendar()"
   ]
  },
  {
   "cell_type": "markdown",
   "metadata": {},
   "source": [
    "### <a id='toc3_1_'></a>[*The `dt.strftime()` method*](#toc0_)"
   ]
  },
  {
   "attachments": {},
   "cell_type": "markdown",
   "metadata": {},
   "source": [
    "The `.dt.strftime(format)` method will convert a pandas datetime object to a string using the specified formatting style. To see all the available format codes see the documentation @https://docs.python.org/3/library/datetime.html#strftime-and-strptime-format-codes"
   ]
  },
  {
   "cell_type": "code",
   "execution_count": 194,
   "metadata": {},
   "outputs": [
    {
     "data": {
      "text/plain": [
       "0    08 Mar 2015 01:00 AM MST\n",
       "1    08 Mar 2015 01:30 AM MST\n",
       "2    08 Mar 2015 03:00 AM MDT\n",
       "Name: local_date_time, dtype: object"
      ]
     },
     "execution_count": 194,
     "metadata": {},
     "output_type": "execute_result"
    }
   ],
   "source": [
    "# for example, let's say we want our local_time series data as a string in the form of\n",
    "# e.g, 03 Jan 2000 02:44 PM MDT\n",
    "local_time.dt.strftime(\"%d %b %Y %I:%M %p %Z\").head(3)"
   ]
  },
  {
   "attachments": {},
   "cell_type": "markdown",
   "metadata": {},
   "source": [
    "----------------------"
   ]
  },
  {
   "cell_type": "markdown",
   "metadata": {},
   "source": [
    "## <a id='toc4_'></a>[Dates in the Index](#toc0_)"
   ]
  },
  {
   "attachments": {},
   "cell_type": "markdown",
   "metadata": {},
   "source": [
    "---------------------"
   ]
  },
  {
   "attachments": {},
   "cell_type": "markdown",
   "metadata": {},
   "source": [
    "First let us read in the \"alta-noaa-1980-2019.csv\" dataset. This dataset contains information about the amount of snow fall in a ski resort."
   ]
  },
  {
   "cell_type": "code",
   "execution_count": 195,
   "metadata": {},
   "outputs": [],
   "source": [
    "alta_df = pd.read_csv(\"./Data/alta-noaa-1980-2019.csv\", parse_dates=[\"DATE\"]).set_index(\n",
    "    \"DATE\"\n",
    ")"
   ]
  },
  {
   "cell_type": "code",
   "execution_count": 196,
   "metadata": {},
   "outputs": [
    {
     "data": {
      "text/plain": [
       "DATE\n",
       "1980-01-01    2.0\n",
       "1980-01-02    3.0\n",
       "1980-01-03    1.0\n",
       "1980-01-04    0.0\n",
       "1980-01-05    0.0\n",
       "             ... \n",
       "2019-09-03    0.0\n",
       "2019-09-04    0.0\n",
       "2019-09-05    0.0\n",
       "2019-09-06    0.0\n",
       "2019-09-07    0.0\n",
       "Name: snow, Length: 14160, dtype: float64"
      ]
     },
     "execution_count": 196,
     "metadata": {},
     "output_type": "execute_result"
    }
   ],
   "source": [
    "alta_df_snow = alta_df.SNOW.rename(\"snow\")\n",
    "alta_df_snow"
   ]
  },
  {
   "attachments": {},
   "cell_type": "markdown",
   "metadata": {},
   "source": [
    "- Slicing Time series"
   ]
  },
  {
   "attachments": {},
   "cell_type": "markdown",
   "metadata": {},
   "source": [
    "As the index is a datetime object, we can slice it with a string (or a partial string) that represents the date. If we specify just the month on a slice, it includes all entries from that month *(for slicing end is inclusive)*."
   ]
  },
  {
   "cell_type": "code",
   "execution_count": 197,
   "metadata": {},
   "outputs": [
    {
     "data": {
      "text/plain": [
       "DATE\n",
       "1980-02-01     0.0\n",
       "1980-02-02     0.0\n",
       "1980-02-03     0.0\n",
       "1980-02-04     1.0\n",
       "1980-02-05     0.0\n",
       "              ... \n",
       "1980-03-27     0.0\n",
       "1980-03-28    12.0\n",
       "1980-03-29     0.0\n",
       "1980-03-30     0.0\n",
       "1980-03-31    13.0\n",
       "Name: snow, Length: 60, dtype: float64"
      ]
     },
     "execution_count": 197,
     "metadata": {},
     "output_type": "execute_result"
    }
   ],
   "source": [
    "alta_df_snow.loc[\"1980/2\":\"1980/3\"]"
   ]
  },
  {
   "cell_type": "markdown",
   "metadata": {},
   "source": [
    "#### <a id='toc4_1_1_'></a>[*Finding missing data*](#toc0_)"
   ]
  },
  {
   "cell_type": "code",
   "execution_count": 198,
   "metadata": {},
   "outputs": [
    {
     "data": {
      "text/plain": [
       "True"
      ]
     },
     "execution_count": 198,
     "metadata": {},
     "output_type": "execute_result"
    }
   ],
   "source": [
    "# at first, let us check whether the data has any missing values at all\n",
    "alta_df_snow.isna().any()"
   ]
  },
  {
   "cell_type": "code",
   "execution_count": 199,
   "metadata": {},
   "outputs": [
    {
     "data": {
      "text/plain": [
       "DATE\n",
       "1985-07-30   NaN\n",
       "1985-09-12   NaN\n",
       "1985-09-19   NaN\n",
       "1986-02-07   NaN\n",
       "1986-06-26   NaN\n",
       "              ..\n",
       "2017-04-26   NaN\n",
       "2017-09-20   NaN\n",
       "2017-10-02   NaN\n",
       "2017-12-23   NaN\n",
       "2018-12-03   NaN\n",
       "Name: snow, Length: 365, dtype: float64"
      ]
     },
     "execution_count": 199,
     "metadata": {},
     "output_type": "execute_result"
    }
   ],
   "source": [
    "# looks like it indeed has missing values. let's create a filter to see which dates has missing values\n",
    "alta_df_snow.loc[alta_df_snow.isna()]"
   ]
  },
  {
   "attachments": {},
   "cell_type": "markdown",
   "metadata": {},
   "source": [
    "**Note:** The series object has no `.query` method. If it was a dataframe then we could have used the .query() method."
   ]
  },
  {
   "cell_type": "markdown",
   "metadata": {},
   "source": [
    "#### <a id='toc4_1_2_'></a>[*Handling Missing data*](#toc0_)"
   ]
  },
  {
   "attachments": {},
   "cell_type": "markdown",
   "metadata": {},
   "source": [
    "**The best way to deal with missing data is to talk with a subject matter expert and determine why it is missing.**"
   ]
  },
  {
   "attachments": {},
   "cell_type": "markdown",
   "metadata": {},
   "source": [
    "- <u>**Dropping missing values**</u> with the `dropna()` method"
   ]
  },
  {
   "attachments": {},
   "cell_type": "markdown",
   "metadata": {},
   "source": [
    "Be careful with the method and only use it after talking to a subject matter expert who confirms that it is ok to drop the data. It can be hard to tell later if the data is missing. For example, if you plotted this data, you might not see that data was dropped unless you pay close attention."
   ]
  },
  {
   "cell_type": "code",
   "execution_count": 200,
   "metadata": {},
   "outputs": [
    {
     "data": {
      "text/plain": [
       "<Axes: xlabel='DATE'>"
      ]
     },
     "execution_count": 200,
     "metadata": {},
     "output_type": "execute_result"
    },
    {
     "data": {
      "image/png": "[encoded data removed]",
      "text/plain": [
       "<Figure size 640x480 with 1 Axes>"
      ]
     },
     "metadata": {},
     "output_type": "display_data"
    }
   ],
   "source": [
    "alta_df_snow.loc[\"2018\":].plot()"
   ]
  },
  {
   "cell_type": "code",
   "execution_count": 201,
   "metadata": {},
   "outputs": [
    {
     "data": {
      "text/plain": [
       "False"
      ]
     },
     "execution_count": 201,
     "metadata": {},
     "output_type": "execute_result"
    }
   ],
   "source": [
    "alta_df_snow.dropna().isna().any()"
   ]
  },
  {
   "cell_type": "code",
   "execution_count": 202,
   "metadata": {},
   "outputs": [
    {
     "data": {
      "text/plain": [
       "<Axes: xlabel='DATE'>"
      ]
     },
     "execution_count": 202,
     "metadata": {},
     "output_type": "execute_result"
    },
    {
     "data": {
      "image/png": "[encoded data removed]",
      "text/plain": [
       "<Figure size 640x480 with 1 Axes>"
      ]
     },
     "metadata": {},
     "output_type": "display_data"
    }
   ],
   "source": [
    "alta_df_snow.dropna().loc[\"2018\":].plot()"
   ]
  },
  {
   "attachments": {},
   "cell_type": "markdown",
   "metadata": {},
   "source": [
    "- <u>**Filling missing values**</u> with the help of `.fillna()`, `.ffill()`, `.bfill()` etc. \n",
    "\n",
    "Depending on the data contents, the `.mean()`, `.mode()`, `.median` and other such methods may come in handy while using the `.fillna()` method."
   ]
  },
  {
   "attachments": {},
   "cell_type": "markdown",
   "metadata": {},
   "source": [
    "- <u>**Interpolating missing values**</u> with the `.interpolate()` method may also be appropriate in some cases. By default the interpolating method will be linear interpolation."
   ]
  },
  {
   "attachments": {},
   "cell_type": "markdown",
   "metadata": {},
   "source": [
    "- <u>**Using filling and interpolation in combination**</u> with the help of `.where()`/`.mask()` method"
   ]
  },
  {
   "attachments": {},
   "cell_type": "markdown",
   "metadata": {},
   "source": [
    "As is often the case, the trend and characteristics of the data is such that handling missing values requires us to utilize different methods for different parts of the data. Our `alta_df_snow` data series is a good example of this. \n",
    "\n",
    "-> In winter (1st and 4th quarter of the year) we should use interpolate/ffill/bfill methods. As, in winter it is most likey that there were snow in the days that are missing the data.\n",
    "\n",
    "-> But, in summer (2nd and 3rd quarter of the year) we can assume that there were no snow and thus use fillna method to fill the missing values with 0.\n",
    "\n",
    "To find out which quarter a date (datetime object) falls on we can call the `.dt.quarter` property. In case of DateTimeIndex object we can directly call the `.quarter` property to serve the same purpose."
   ]
  },
  {
   "cell_type": "code",
   "execution_count": 203,
   "metadata": {},
   "outputs": [
    {
     "data": {
      "text/plain": [
       "False"
      ]
     },
     "execution_count": 203,
     "metadata": {},
     "output_type": "execute_result"
    }
   ],
   "source": [
    "winter = (alta_df_snow.index.quarter == 1) | (alta_df_snow.index.quarter == 4)\n",
    "\n",
    "alta_df_snow.mask(winter & alta_df_snow.isna(), alta_df_snow.interpolate()).mask(\n",
    "    ~winter & alta_df_snow.isna(), 0\n",
    ").isna().any()"
   ]
  },
  {
   "cell_type": "markdown",
   "metadata": {},
   "source": [
    "### <a id='toc4_2_'></a>[*Shifting Data*](#toc0_)"
   ]
  },
  {
   "attachments": {},
   "cell_type": "markdown",
   "metadata": {},
   "source": [
    "The `.shift()` method works on any pandas series but comes in really useful with time series **when we want to compare the current entry to the previous or subsequent entry**."
   ]
  },
  {
   "attachments": {},
   "cell_type": "markdown",
   "metadata": {},
   "source": [
    "- Forward shift"
   ]
  },
  {
   "cell_type": "code",
   "execution_count": 204,
   "metadata": {},
   "outputs": [
    {
     "data": {
      "text/plain": [
       "DATE\n",
       "1980-01-01    NaN\n",
       "1980-01-02    2.0\n",
       "1980-01-03    3.0\n",
       "1980-01-04    1.0\n",
       "1980-01-05    0.0\n",
       "             ... \n",
       "2019-09-03    0.0\n",
       "2019-09-04    0.0\n",
       "2019-09-05    0.0\n",
       "2019-09-06    0.0\n",
       "2019-09-07    0.0\n",
       "Name: snow, Length: 14160, dtype: float64"
      ]
     },
     "execution_count": 204,
     "metadata": {},
     "output_type": "execute_result"
    }
   ],
   "source": [
    "alta_df_snow.shift(1)"
   ]
  },
  {
   "attachments": {},
   "cell_type": "markdown",
   "metadata": {},
   "source": [
    "- Backward shift"
   ]
  },
  {
   "cell_type": "code",
   "execution_count": 205,
   "metadata": {},
   "outputs": [
    {
     "data": {
      "text/plain": [
       "DATE\n",
       "1980-01-01    3.0\n",
       "1980-01-02    1.0\n",
       "1980-01-03    0.0\n",
       "1980-01-04    0.0\n",
       "1980-01-05    1.0\n",
       "             ... \n",
       "2019-09-03    0.0\n",
       "2019-09-04    0.0\n",
       "2019-09-05    0.0\n",
       "2019-09-06    0.0\n",
       "2019-09-07    NaN\n",
       "Name: snow, Length: 14160, dtype: float64"
      ]
     },
     "execution_count": 205,
     "metadata": {},
     "output_type": "execute_result"
    }
   ],
   "source": [
    "alta_df_snow.shift(-1)"
   ]
  },
  {
   "cell_type": "code",
   "execution_count": 206,
   "metadata": {},
   "outputs": [
    {
     "data": {
      "text/plain": [
       "<Axes: xlabel='DATE'>"
      ]
     },
     "execution_count": 206,
     "metadata": {},
     "output_type": "execute_result"
    },
    {
     "data": {
      "image/png": "[encoded data removed]",
      "text/plain": [
       "<Figure size 640x480 with 1 Axes>"
      ]
     },
     "metadata": {},
     "output_type": "display_data"
    }
   ],
   "source": [
    "# For example, let's see how the snow fall changes as the seasons progress.\n",
    "# to do this, we can compare the original data with a forward shifted data\n",
    "(alta_df_snow - alta_df_snow.shift(1)).loc[\"2018\"].plot()"
   ]
  },
  {
   "cell_type": "markdown",
   "metadata": {},
   "source": [
    "### <a id='toc4_3_'></a>[*Rolling window calculations*](#toc0_)"
   ]
  },
  {
   "attachments": {},
   "cell_type": "markdown",
   "metadata": {},
   "source": [
    "The `.rolling()` function provides the feature of rolling window calculations. The concept of rolling window calculation is most primarily used in signal processing and time-series data. In very simple words, we take a window of size 'k' at a time and perform some desired mathematical operation on it. \n",
    "\n",
    "A window of size 'k' means, 'k' consecutive values at a time. In a very simple case, all the ‘k’ values are equally weighted."
   ]
  },
  {
   "attachments": {},
   "cell_type": "markdown",
   "metadata": {},
   "source": [
    "<u>**.rolling() function Parameters**</u>"
   ]
  },
  {
   "attachments": {},
   "cell_type": "markdown",
   "metadata": {},
   "source": [
    "- window : Size of the moving window. This is the number of observations used for calculating the statistic. Each window will be a fixed size. If its an offset then this will be the time period of each window. Each window will be a variable sized based on the observations included in the time-period. This is only valid for datetimelike indexes. To learn more about the offsets & frequency strings, please see @https://pandas.pydata.org/pandas-docs/stable/user_guide/timeseries.html#offset-aliases.\n",
    "\n",
    "- min_periods : Minimum number of observations in window required to have a value (otherwise result is NA). For a window that is specified by an offset, this will default to 1. \n",
    "\n",
    "- win_type : If win_type=none, then all the values in the window are evenly weighted. There is various other types of rolling window type. To learn more about the other rolling window types see @https://docs.scipy.org/doc/scipy/reference/generated/scipy.signal.get_window.html#scipy.signal.get_window.\n",
    "\n",
    "- on : For a DataFrame, column on which to calculate the rolling window, rather than the index."
   ]
  },
  {
   "attachments": {},
   "cell_type": "markdown",
   "metadata": {},
   "source": [
    "The aggregate functions that works on the **rolling object** are, \n",
    "\n",
    "<img src='./imgs/aggregate_methods_for_rolling_objects.png'>"
   ]
  },
  {
   "attachments": {},
   "cell_type": "markdown",
   "metadata": {},
   "source": [
    "- Example: Calculating 3 day moving average snow fall"
   ]
  },
  {
   "cell_type": "code",
   "execution_count": 207,
   "metadata": {},
   "outputs": [
    {
     "data": {
      "text/plain": [
       "DATE\n",
       "1980-01-01         NaN\n",
       "1980-01-02    2.500000\n",
       "1980-01-03    2.000000\n",
       "1980-01-04    1.333333\n",
       "1980-01-05    0.333333\n",
       "                ...   \n",
       "2019-09-03    0.000000\n",
       "2019-09-04    0.000000\n",
       "2019-09-05    0.000000\n",
       "2019-09-06    0.000000\n",
       "2019-09-07    0.000000\n",
       "Name: snow, Length: 14160, dtype: float64"
      ]
     },
     "execution_count": 207,
     "metadata": {},
     "output_type": "execute_result"
    }
   ],
   "source": [
    "alta_df_snow.rolling(window=3, min_periods=2).mean()"
   ]
  },
  {
   "attachments": {},
   "cell_type": "markdown",
   "metadata": {},
   "source": [
    "------------------"
   ]
  },
  {
   "cell_type": "markdown",
   "metadata": {},
   "source": [
    "## <a id='toc5_'></a>[Resampling](#toc0_)"
   ]
  },
  {
   "attachments": {},
   "cell_type": "markdown",
   "metadata": {},
   "source": [
    "---------------------"
   ]
  },
  {
   "attachments": {},
   "cell_type": "markdown",
   "metadata": {},
   "source": [
    "Resampling allows us to convert our time series data of a certain frequency to any frequency we may desire. This is specially useful for converting granular data to larger buckets (i.e, downscaling). \n",
    "\n",
    "For example, say we have a system that outputs data each second. If we have say 6 months of this data, then it will be really hard to plot that data. Also, for various analytics we may want that data in different frequencies. For example, we may want to see the daily trend. All of this becomes very easy with the pandas `.resample()` method."
   ]
  },
  {
   "attachments": {},
   "cell_type": "markdown",
   "metadata": {},
   "source": [
    "> The `DataFrame.resample(rule, axis=0, closed=None, label=None, convention='start', kind=None, on=None, level=None, origin='start_day', offset=None, group_keys=False)` function is used to Resample time-series data. Is is a convenience method for frequency conversion and resampling of time series."
   ]
  },
  {
   "attachments": {},
   "cell_type": "markdown",
   "metadata": {},
   "source": [
    "<u>Function Parameters</u>"
   ]
  },
  {
   "cell_type": "markdown",
   "metadata": {},
   "source": [
    "- `rule:` DateOffset, Timedelta or str. The offset string or object representing target conversion.\n",
    "- `closed{‘right’, ‘left’}:` Which side of bin interval is closed. The default is ‘left’ for all frequency offsets except for ‘M’, ‘A’, ‘Q’, ‘BM’, ‘BA’, ‘BQ’, and ‘W’ which all have a default of ‘right’.\n",
    "- `label{‘right’, ‘left’}:` Which bin edge label to label bucket with. The default is ‘left’ for all frequency offsets except for ‘M’, ‘A’, ‘Q’, ‘BM’, ‘BA’, ‘BQ’, and ‘W’ which all have a default of ‘right’.\n",
    "- `on:` For a DataFrame, column to use instead of index for resampling. Column must be datetime-like.\n",
    "\n",
    "**Returns:** `Resampler` Object."
   ]
  },
  {
   "cell_type": "markdown",
   "metadata": {},
   "source": [
    "**Note:** The object must have a datetime-like index (DatetimeIndex, PeriodIndex, or TimedeltaIndex), or the caller must pass the label of a datetime-like series/index to the on/level keyword parameter."
   ]
  },
  {
   "attachments": {},
   "cell_type": "markdown",
   "metadata": {},
   "source": [
    "Resampling generates a unique sampling distribution on the basis of the actual data. We can apply various frequency to resample our time series data. This is a very important technique in the field of analytics. \n",
    "\n",
    "Some of the most commonly used time series frequencies are,\n",
    "- W : weekly frequency \n",
    "- M : month end frequency \n",
    "- SM : semi-month end frequency (15th and end of month) \n",
    "- Q : quarter end frequency. \n",
    "\n",
    "To see a full list of format strings denoting different frequencies see, https://pandas.pydata.org/pandas-docs/stable/user_guide/timeseries.html#dateoffset-objects"
   ]
  },
  {
   "cell_type": "markdown",
   "metadata": {},
   "source": [
    "**When we downscale the data, it's like groupby, but with DataTime objects and using a string for easy grouping.**"
   ]
  },
  {
   "attachments": {},
   "cell_type": "markdown",
   "metadata": {},
   "source": [
    "Now, we will see the application of the resample method through some examples."
   ]
  },
  {
   "attachments": {},
   "cell_type": "markdown",
   "metadata": {},
   "source": [
    "- Example: Finding the maximum snowfall by month"
   ]
  },
  {
   "cell_type": "code",
   "execution_count": 208,
   "metadata": {},
   "outputs": [
    {
     "data": {
      "text/plain": [
       "DATE\n",
       "1980-01-31    20.0\n",
       "1980-02-29    25.0\n",
       "1980-03-31    16.0\n",
       "1980-04-30    10.0\n",
       "1980-05-31     9.0\n",
       "              ... \n",
       "2019-05-31     5.1\n",
       "2019-06-30     0.0\n",
       "2019-07-31     0.0\n",
       "2019-08-31     0.0\n",
       "2019-09-30     0.0\n",
       "Freq: M, Name: snow, Length: 477, dtype: float64"
      ]
     },
     "execution_count": 208,
     "metadata": {},
     "output_type": "execute_result"
    }
   ],
   "source": [
    "alta_df_snow.resample(\"M\").max()"
   ]
  },
  {
   "cell_type": "markdown",
   "metadata": {},
   "source": [
    "- Example: Plotting a line graph for the average snowfall in each month of the years 1985 - 1990"
   ]
  },
  {
   "cell_type": "code",
   "execution_count": 209,
   "metadata": {},
   "outputs": [
    {
     "data": {
      "text/plain": [
       "<Axes: xlabel='DATE'>"
      ]
     },
     "execution_count": 209,
     "metadata": {},
     "output_type": "execute_result"
    },
    {
     "data": {
      "image/png": "[encoded data removed]",
      "text/plain": [
       "<Figure size 640x480 with 1 Axes>"
      ]
     },
     "metadata": {},
     "output_type": "display_data"
    }
   ],
   "source": [
    "alta_df_snow.resample(\"M\").mean().loc[\"1985\":\"1990\"].plot()"
   ]
  },
  {
   "attachments": {},
   "cell_type": "markdown",
   "metadata": {},
   "source": [
    "- Example: Finding the maximum snowfall value for each ski season (which normally ends in May of each year)"
   ]
  },
  {
   "cell_type": "code",
   "execution_count": 210,
   "metadata": {},
   "outputs": [
    {
     "data": {
      "text/plain": [
       "DATE\n",
       "1980-05-31    25.0\n",
       "1981-05-31    26.0\n",
       "1982-05-31    34.0\n",
       "1983-05-31    38.0\n",
       "1984-05-31    25.0\n",
       "              ... \n",
       "2016-05-31    15.0\n",
       "2017-05-31    26.0\n",
       "2018-05-31    21.8\n",
       "2019-05-31    20.7\n",
       "2020-05-31     0.0\n",
       "Freq: A-MAY, Name: snow, Length: 41, dtype: float64"
      ]
     },
     "execution_count": 210,
     "metadata": {},
     "output_type": "execute_result"
    }
   ],
   "source": [
    "# 'A-MAY', indicates that we want an annual grouping ('A'), but ending in May of each year\n",
    "alta_df_snow.resample(\"A-May\").max()"
   ]
  },
  {
   "cell_type": "markdown",
   "metadata": {},
   "source": [
    "### <a id='toc5_1_'></a>[*Using the `.transform()` method on a `Resampler` Object*](#toc0_)"
   ]
  },
  {
   "attachments": {},
   "cell_type": "markdown",
   "metadata": {},
   "source": [
    "We can use the `.transform()` method with the resampled object, insted of applying separate aggregations functions or using the `.agg()`, in order to apply an aggregation while keeping the original index."
   ]
  },
  {
   "attachments": {},
   "cell_type": "markdown",
   "metadata": {},
   "source": [
    "- Example: calculating the percentage of quarterly snowfall that fell in a particular day"
   ]
  },
  {
   "cell_type": "code",
   "execution_count": 211,
   "metadata": {},
   "outputs": [
    {
     "data": {
      "text/plain": [
       "DATE\n",
       "1980-01-01    0.527009\n",
       "1980-01-02    0.790514\n",
       "1980-01-03    0.263505\n",
       "1980-01-04    0.000000\n",
       "1980-01-05    0.000000\n",
       "                ...   \n",
       "2019-09-03    0.000000\n",
       "2019-09-04    0.000000\n",
       "2019-09-05    0.000000\n",
       "2019-09-06    0.000000\n",
       "2019-09-07    0.000000\n",
       "Name: snow, Length: 14160, dtype: float64"
      ]
     },
     "execution_count": 211,
     "metadata": {},
     "output_type": "execute_result"
    }
   ],
   "source": [
    "alta_df_snow.div(alta_df_snow.resample(\"Q\").transform(\"sum\")).mul(100).fillna(0)"
   ]
  },
  {
   "cell_type": "markdown",
   "metadata": {},
   "source": [
    "------------------"
   ]
  },
  {
   "cell_type": "markdown",
   "metadata": {},
   "source": [
    "## <a id='toc6_'></a>[Example](#toc0_)"
   ]
  },
  {
   "cell_type": "markdown",
   "metadata": {},
   "source": [
    "---------------------"
   ]
  },
  {
   "cell_type": "code",
   "execution_count": 212,
   "metadata": {},
   "outputs": [],
   "source": [
    "# the file, \"./Data/capital-onebike.csv\" contains\n",
    "# data from Capital Bikeshare, the oldest municipal shared bike program in the United States.\n",
    "# Throughout the Washington, DC area, you will find these special bike docks, where riders can\n",
    "# pay to take a bike, ride it, and return to this or any other station in the network. We will be\n",
    "# following one bike, ID number \"W20529\", on all the trips it took in October, November, and\n",
    "# December of 2017. Each trip consisted of a date and time when a bike was undocked from a station,\n",
    "# then some time passed, and the date and time when W20529 was docked again."
   ]
  },
  {
   "cell_type": "code",
   "execution_count": 213,
   "metadata": {},
   "outputs": [],
   "source": [
    "bike_df = pd.read_csv(\n",
    "    \"./Data/capital-onebike.csv\", parse_dates=[\"Start date\", \"End date\"]\n",
    ")"
   ]
  },
  {
   "cell_type": "code",
   "execution_count": 214,
   "metadata": {},
   "outputs": [
    {
     "data": {
      "text/html": [
       "<div>\n",
       "<style scoped>\n",
       "    .dataframe tbody tr th:only-of-type {\n",
       "        vertical-align: middle;\n",
       "    }\n",
       "\n",
       "    .dataframe tbody tr th {\n",
       "        vertical-align: top;\n",
       "    }\n",
       "\n",
       "    .dataframe thead th {\n",
       "        text-align: right;\n",
       "    }\n",
       "</style>\n",
       "<table border=\"1\" class=\"dataframe\">\n",
       "  <thead>\n",
       "    <tr style=\"text-align: right;\">\n",
       "      <th></th>\n",
       "      <th>Start date</th>\n",
       "      <th>End date</th>\n",
       "      <th>Start station number</th>\n",
       "      <th>Start station</th>\n",
       "      <th>End station number</th>\n",
       "      <th>End station</th>\n",
       "      <th>Bike number</th>\n",
       "      <th>Member type</th>\n",
       "    </tr>\n",
       "  </thead>\n",
       "  <tbody>\n",
       "    <tr>\n",
       "      <th>0</th>\n",
       "      <td>2017-10-01 15:23:25</td>\n",
       "      <td>2017-10-01 15:26:26</td>\n",
       "      <td>31038</td>\n",
       "      <td>Glebe Rd &amp; 11th St N</td>\n",
       "      <td>31036</td>\n",
       "      <td>George Mason Dr &amp; Wilson Blvd</td>\n",
       "      <td>W20529</td>\n",
       "      <td>Member</td>\n",
       "    </tr>\n",
       "    <tr>\n",
       "      <th>1</th>\n",
       "      <td>2017-10-01 15:42:57</td>\n",
       "      <td>2017-10-01 17:49:59</td>\n",
       "      <td>31036</td>\n",
       "      <td>George Mason Dr &amp; Wilson Blvd</td>\n",
       "      <td>31036</td>\n",
       "      <td>George Mason Dr &amp; Wilson Blvd</td>\n",
       "      <td>W20529</td>\n",
       "      <td>Casual</td>\n",
       "    </tr>\n",
       "    <tr>\n",
       "      <th>2</th>\n",
       "      <td>2017-10-02 06:37:10</td>\n",
       "      <td>2017-10-02 06:42:53</td>\n",
       "      <td>31036</td>\n",
       "      <td>George Mason Dr &amp; Wilson Blvd</td>\n",
       "      <td>31037</td>\n",
       "      <td>Ballston Metro / N Stuart &amp; 9th St N</td>\n",
       "      <td>W20529</td>\n",
       "      <td>Member</td>\n",
       "    </tr>\n",
       "    <tr>\n",
       "      <th>3</th>\n",
       "      <td>2017-10-02 08:56:45</td>\n",
       "      <td>2017-10-02 09:18:03</td>\n",
       "      <td>31037</td>\n",
       "      <td>Ballston Metro / N Stuart &amp; 9th St N</td>\n",
       "      <td>31295</td>\n",
       "      <td>Potomac &amp; M St NW</td>\n",
       "      <td>W20529</td>\n",
       "      <td>Member</td>\n",
       "    </tr>\n",
       "    <tr>\n",
       "      <th>4</th>\n",
       "      <td>2017-10-02 18:23:48</td>\n",
       "      <td>2017-10-02 18:45:05</td>\n",
       "      <td>31295</td>\n",
       "      <td>Potomac &amp; M St NW</td>\n",
       "      <td>31230</td>\n",
       "      <td>Metro Center / 12th &amp; G St NW</td>\n",
       "      <td>W20529</td>\n",
       "      <td>Member</td>\n",
       "    </tr>\n",
       "    <tr>\n",
       "      <th>...</th>\n",
       "      <td>...</td>\n",
       "      <td>...</td>\n",
       "      <td>...</td>\n",
       "      <td>...</td>\n",
       "      <td>...</td>\n",
       "      <td>...</td>\n",
       "      <td>...</td>\n",
       "      <td>...</td>\n",
       "    </tr>\n",
       "    <tr>\n",
       "      <th>285</th>\n",
       "      <td>2017-12-29 14:32:55</td>\n",
       "      <td>2017-12-29 14:43:46</td>\n",
       "      <td>31242</td>\n",
       "      <td>18th St &amp; Pennsylvania Ave NW</td>\n",
       "      <td>31265</td>\n",
       "      <td>5th St &amp; Massachusetts Ave NW</td>\n",
       "      <td>W20529</td>\n",
       "      <td>Member</td>\n",
       "    </tr>\n",
       "    <tr>\n",
       "      <th>286</th>\n",
       "      <td>2017-12-29 15:08:26</td>\n",
       "      <td>2017-12-29 15:18:51</td>\n",
       "      <td>31265</td>\n",
       "      <td>5th St &amp; Massachusetts Ave NW</td>\n",
       "      <td>31613</td>\n",
       "      <td>Eastern Market Metro / Pennsylvania Ave &amp; 7th ...</td>\n",
       "      <td>W20529</td>\n",
       "      <td>Casual</td>\n",
       "    </tr>\n",
       "    <tr>\n",
       "      <th>287</th>\n",
       "      <td>2017-12-29 20:33:34</td>\n",
       "      <td>2017-12-29 20:38:13</td>\n",
       "      <td>31613</td>\n",
       "      <td>Eastern Market Metro / Pennsylvania Ave &amp; 7th ...</td>\n",
       "      <td>31618</td>\n",
       "      <td>4th &amp; East Capitol St NE</td>\n",
       "      <td>W20529</td>\n",
       "      <td>Member</td>\n",
       "    </tr>\n",
       "    <tr>\n",
       "      <th>288</th>\n",
       "      <td>2017-12-30 13:51:03</td>\n",
       "      <td>2017-12-30 13:54:33</td>\n",
       "      <td>31618</td>\n",
       "      <td>4th &amp; East Capitol St NE</td>\n",
       "      <td>31610</td>\n",
       "      <td>Eastern Market / 7th &amp; North Carolina Ave SE</td>\n",
       "      <td>W20529</td>\n",
       "      <td>Member</td>\n",
       "    </tr>\n",
       "    <tr>\n",
       "      <th>289</th>\n",
       "      <td>2017-12-30 15:09:03</td>\n",
       "      <td>2017-12-30 15:19:13</td>\n",
       "      <td>31610</td>\n",
       "      <td>Eastern Market / 7th &amp; North Carolina Ave SE</td>\n",
       "      <td>31272</td>\n",
       "      <td>Washington &amp; Independence Ave SW/HHS</td>\n",
       "      <td>W20529</td>\n",
       "      <td>Member</td>\n",
       "    </tr>\n",
       "  </tbody>\n",
       "</table>\n",
       "<p>290 rows × 8 columns</p>\n",
       "</div>"
      ],
      "text/plain": [
       "             Start date            End date  Start station number  \\\n",
       "0   2017-10-01 15:23:25 2017-10-01 15:26:26                 31038   \n",
       "1   2017-10-01 15:42:57 2017-10-01 17:49:59                 31036   \n",
       "2   2017-10-02 06:37:10 2017-10-02 06:42:53                 31036   \n",
       "3   2017-10-02 08:56:45 2017-10-02 09:18:03                 31037   \n",
       "4   2017-10-02 18:23:48 2017-10-02 18:45:05                 31295   \n",
       "..                  ...                 ...                   ...   \n",
       "285 2017-12-29 14:32:55 2017-12-29 14:43:46                 31242   \n",
       "286 2017-12-29 15:08:26 2017-12-29 15:18:51                 31265   \n",
       "287 2017-12-29 20:33:34 2017-12-29 20:38:13                 31613   \n",
       "288 2017-12-30 13:51:03 2017-12-30 13:54:33                 31618   \n",
       "289 2017-12-30 15:09:03 2017-12-30 15:19:13                 31610   \n",
       "\n",
       "                                         Start station  End station number  \\\n",
       "0                                 Glebe Rd & 11th St N               31036   \n",
       "1                        George Mason Dr & Wilson Blvd               31036   \n",
       "2                        George Mason Dr & Wilson Blvd               31037   \n",
       "3                 Ballston Metro / N Stuart & 9th St N               31295   \n",
       "4                                    Potomac & M St NW               31230   \n",
       "..                                                 ...                 ...   \n",
       "285                      18th St & Pennsylvania Ave NW               31265   \n",
       "286                      5th St & Massachusetts Ave NW               31613   \n",
       "287  Eastern Market Metro / Pennsylvania Ave & 7th ...               31618   \n",
       "288                           4th & East Capitol St NE               31610   \n",
       "289       Eastern Market / 7th & North Carolina Ave SE               31272   \n",
       "\n",
       "                                           End station Bike number Member type  \n",
       "0                        George Mason Dr & Wilson Blvd      W20529      Member  \n",
       "1                        George Mason Dr & Wilson Blvd      W20529      Casual  \n",
       "2                 Ballston Metro / N Stuart & 9th St N      W20529      Member  \n",
       "3                                    Potomac & M St NW      W20529      Member  \n",
       "4                        Metro Center / 12th & G St NW      W20529      Member  \n",
       "..                                                 ...         ...         ...  \n",
       "285                      5th St & Massachusetts Ave NW      W20529      Member  \n",
       "286  Eastern Market Metro / Pennsylvania Ave & 7th ...      W20529      Casual  \n",
       "287                           4th & East Capitol St NE      W20529      Member  \n",
       "288       Eastern Market / 7th & North Carolina Ave SE      W20529      Member  \n",
       "289               Washington & Independence Ave SW/HHS      W20529      Member  \n",
       "\n",
       "[290 rows x 8 columns]"
      ]
     },
     "execution_count": 214,
     "metadata": {},
     "output_type": "execute_result"
    }
   ],
   "source": [
    "bike_df"
   ]
  },
  {
   "cell_type": "code",
   "execution_count": 215,
   "metadata": {},
   "outputs": [
    {
     "name": "stdout",
     "output_type": "stream",
     "text": [
      "<class 'pandas.core.frame.DataFrame'>\n",
      "RangeIndex: 290 entries, 0 to 289\n",
      "Data columns (total 8 columns):\n",
      " #   Column                Non-Null Count  Dtype         \n",
      "---  ------                --------------  -----         \n",
      " 0   Start date            290 non-null    datetime64[ns]\n",
      " 1   End date              290 non-null    datetime64[ns]\n",
      " 2   Start station number  290 non-null    int64         \n",
      " 3   Start station         290 non-null    object        \n",
      " 4   End station number    290 non-null    int64         \n",
      " 5   End station           290 non-null    object        \n",
      " 6   Bike number           290 non-null    object        \n",
      " 7   Member type           290 non-null    object        \n",
      "dtypes: datetime64[ns](2), int64(2), object(4)\n",
      "memory usage: 18.3+ KB\n"
     ]
    }
   ],
   "source": [
    "bike_df.info()"
   ]
  },
  {
   "cell_type": "code",
   "execution_count": 216,
   "metadata": {},
   "outputs": [],
   "source": [
    "# the date columns are by default naive\n",
    "# we need to make them timezone aware\n",
    "# since the data was collected in America/New_York timezone we use .dt.tz_localize()\n",
    "# which unlike the .dt.tz_convert() method does not move the time to another time zone.\n",
    "# since our data contains ambiguous time data we need to define the ambiguous argument\n",
    "bike_df[\"Start date\"] = bike_df[\"Start date\"].dt.tz_localize(\n",
    "    \"America/New_York\", ambiguous=\"NaT\"\n",
    ")\n",
    "bike_df[\"End date\"] = bike_df[\"End date\"].dt.tz_localize(\n",
    "    \"America/New_York\", ambiguous=\"NaT\"\n",
    ")"
   ]
  },
  {
   "cell_type": "code",
   "execution_count": 217,
   "metadata": {},
   "outputs": [
    {
     "data": {
      "text/html": [
       "<div>\n",
       "<style scoped>\n",
       "    .dataframe tbody tr th:only-of-type {\n",
       "        vertical-align: middle;\n",
       "    }\n",
       "\n",
       "    .dataframe tbody tr th {\n",
       "        vertical-align: top;\n",
       "    }\n",
       "\n",
       "    .dataframe thead th {\n",
       "        text-align: right;\n",
       "    }\n",
       "</style>\n",
       "<table border=\"1\" class=\"dataframe\">\n",
       "  <thead>\n",
       "    <tr style=\"text-align: right;\">\n",
       "      <th></th>\n",
       "      <th>Start date</th>\n",
       "      <th>End date</th>\n",
       "      <th>Start station number</th>\n",
       "      <th>Start station</th>\n",
       "      <th>End station number</th>\n",
       "      <th>End station</th>\n",
       "      <th>Bike number</th>\n",
       "      <th>Member type</th>\n",
       "    </tr>\n",
       "  </thead>\n",
       "  <tbody>\n",
       "    <tr>\n",
       "      <th>129</th>\n",
       "      <td>NaT</td>\n",
       "      <td>NaT</td>\n",
       "      <td>31615</td>\n",
       "      <td>6th &amp; H St NE</td>\n",
       "      <td>31627</td>\n",
       "      <td>3rd &amp; M St NE</td>\n",
       "      <td>W20529</td>\n",
       "      <td>Member</td>\n",
       "    </tr>\n",
       "  </tbody>\n",
       "</table>\n",
       "</div>"
      ],
      "text/plain": [
       "    Start date End date  Start station number  Start station  \\\n",
       "129        NaT      NaT                 31615  6th & H St NE   \n",
       "\n",
       "     End station number    End station Bike number Member type  \n",
       "129               31627  3rd & M St NE      W20529      Member  "
      ]
     },
     "execution_count": 217,
     "metadata": {},
     "output_type": "execute_result"
    }
   ],
   "source": [
    "bike_df[bike_df[\"Start date\"].isna()]"
   ]
  },
  {
   "cell_type": "code",
   "execution_count": 218,
   "metadata": {},
   "outputs": [
    {
     "data": {
      "text/html": [
       "<div>\n",
       "<style scoped>\n",
       "    .dataframe tbody tr th:only-of-type {\n",
       "        vertical-align: middle;\n",
       "    }\n",
       "\n",
       "    .dataframe tbody tr th {\n",
       "        vertical-align: top;\n",
       "    }\n",
       "\n",
       "    .dataframe thead th {\n",
       "        text-align: right;\n",
       "    }\n",
       "</style>\n",
       "<table border=\"1\" class=\"dataframe\">\n",
       "  <thead>\n",
       "    <tr style=\"text-align: right;\">\n",
       "      <th></th>\n",
       "      <th>Start date</th>\n",
       "      <th>End date</th>\n",
       "      <th>Start station number</th>\n",
       "      <th>Start station</th>\n",
       "      <th>End station number</th>\n",
       "      <th>End station</th>\n",
       "      <th>Bike number</th>\n",
       "      <th>Member type</th>\n",
       "    </tr>\n",
       "  </thead>\n",
       "  <tbody>\n",
       "    <tr>\n",
       "      <th>0</th>\n",
       "      <td>2017-10-01 15:23:25-04:00</td>\n",
       "      <td>2017-10-01 15:26:26-04:00</td>\n",
       "      <td>31038</td>\n",
       "      <td>Glebe Rd &amp; 11th St N</td>\n",
       "      <td>31036</td>\n",
       "      <td>George Mason Dr &amp; Wilson Blvd</td>\n",
       "      <td>W20529</td>\n",
       "      <td>Member</td>\n",
       "    </tr>\n",
       "    <tr>\n",
       "      <th>1</th>\n",
       "      <td>2017-10-01 15:42:57-04:00</td>\n",
       "      <td>2017-10-01 17:49:59-04:00</td>\n",
       "      <td>31036</td>\n",
       "      <td>George Mason Dr &amp; Wilson Blvd</td>\n",
       "      <td>31036</td>\n",
       "      <td>George Mason Dr &amp; Wilson Blvd</td>\n",
       "      <td>W20529</td>\n",
       "      <td>Casual</td>\n",
       "    </tr>\n",
       "    <tr>\n",
       "      <th>2</th>\n",
       "      <td>2017-10-02 06:37:10-04:00</td>\n",
       "      <td>2017-10-02 06:42:53-04:00</td>\n",
       "      <td>31036</td>\n",
       "      <td>George Mason Dr &amp; Wilson Blvd</td>\n",
       "      <td>31037</td>\n",
       "      <td>Ballston Metro / N Stuart &amp; 9th St N</td>\n",
       "      <td>W20529</td>\n",
       "      <td>Member</td>\n",
       "    </tr>\n",
       "    <tr>\n",
       "      <th>3</th>\n",
       "      <td>2017-10-02 08:56:45-04:00</td>\n",
       "      <td>2017-10-02 09:18:03-04:00</td>\n",
       "      <td>31037</td>\n",
       "      <td>Ballston Metro / N Stuart &amp; 9th St N</td>\n",
       "      <td>31295</td>\n",
       "      <td>Potomac &amp; M St NW</td>\n",
       "      <td>W20529</td>\n",
       "      <td>Member</td>\n",
       "    </tr>\n",
       "    <tr>\n",
       "      <th>4</th>\n",
       "      <td>2017-10-02 18:23:48-04:00</td>\n",
       "      <td>2017-10-02 18:45:05-04:00</td>\n",
       "      <td>31295</td>\n",
       "      <td>Potomac &amp; M St NW</td>\n",
       "      <td>31230</td>\n",
       "      <td>Metro Center / 12th &amp; G St NW</td>\n",
       "      <td>W20529</td>\n",
       "      <td>Member</td>\n",
       "    </tr>\n",
       "  </tbody>\n",
       "</table>\n",
       "</div>"
      ],
      "text/plain": [
       "                 Start date                  End date  Start station number  \\\n",
       "0 2017-10-01 15:23:25-04:00 2017-10-01 15:26:26-04:00                 31038   \n",
       "1 2017-10-01 15:42:57-04:00 2017-10-01 17:49:59-04:00                 31036   \n",
       "2 2017-10-02 06:37:10-04:00 2017-10-02 06:42:53-04:00                 31036   \n",
       "3 2017-10-02 08:56:45-04:00 2017-10-02 09:18:03-04:00                 31037   \n",
       "4 2017-10-02 18:23:48-04:00 2017-10-02 18:45:05-04:00                 31295   \n",
       "\n",
       "                          Start station  End station number  \\\n",
       "0                  Glebe Rd & 11th St N               31036   \n",
       "1         George Mason Dr & Wilson Blvd               31036   \n",
       "2         George Mason Dr & Wilson Blvd               31037   \n",
       "3  Ballston Metro / N Stuart & 9th St N               31295   \n",
       "4                     Potomac & M St NW               31230   \n",
       "\n",
       "                            End station Bike number Member type  \n",
       "0         George Mason Dr & Wilson Blvd      W20529      Member  \n",
       "1         George Mason Dr & Wilson Blvd      W20529      Casual  \n",
       "2  Ballston Metro / N Stuart & 9th St N      W20529      Member  \n",
       "3                     Potomac & M St NW      W20529      Member  \n",
       "4         Metro Center / 12th & G St NW      W20529      Member  "
      ]
     },
     "execution_count": 218,
     "metadata": {},
     "output_type": "execute_result"
    }
   ],
   "source": [
    "bike_df.head()"
   ]
  },
  {
   "cell_type": "markdown",
   "metadata": {},
   "source": [
    "- Trip durations in minutes"
   ]
  },
  {
   "cell_type": "code",
   "execution_count": 219,
   "metadata": {},
   "outputs": [],
   "source": [
    "bike_df[\"Duration_min\"] = (bike_df[\"End date\"] - bike_df[\"Start date\"]) / timedelta(\n",
    "    seconds=60\n",
    ")"
   ]
  },
  {
   "cell_type": "code",
   "execution_count": 220,
   "metadata": {},
   "outputs": [
    {
     "data": {
      "text/plain": [
       "count     289.000000\n",
       "mean       19.909804\n",
       "std        77.112559\n",
       "min         1.933333\n",
       "25%         6.150000\n",
       "50%        11.016667\n",
       "75%        18.433333\n",
       "max      1281.883333\n",
       "Name: Duration_min, dtype: float64"
      ]
     },
     "execution_count": 220,
     "metadata": {},
     "output_type": "execute_result"
    }
   ],
   "source": [
    "bike_df[\"Duration_min\"].describe()"
   ]
  },
  {
   "cell_type": "code",
   "execution_count": 221,
   "metadata": {},
   "outputs": [
    {
     "data": {
      "text/plain": [
       "<Axes: >"
      ]
     },
     "execution_count": 221,
     "metadata": {},
     "output_type": "execute_result"
    },
    {
     "data": {
      "image/png": "[encoded data removed]",
      "text/plain": [
       "<Figure size 640x480 with 1 Axes>"
      ]
     },
     "metadata": {},
     "output_type": "display_data"
    }
   ],
   "source": [
    "bike_df[\"Duration_min\"].plot()"
   ]
  },
  {
   "cell_type": "code",
   "execution_count": 222,
   "metadata": {},
   "outputs": [],
   "source": [
    "# It seems there's one outlier in the data\n",
    "# Also the missing observation can be seen as a broken line"
   ]
  },
  {
   "cell_type": "markdown",
   "metadata": {},
   "source": [
    "- Trip day (day name)"
   ]
  },
  {
   "cell_type": "code",
   "execution_count": 223,
   "metadata": {},
   "outputs": [],
   "source": [
    "bike_df[\"Trip day\"] = bike_df[\"Start date\"].dt.day_name()"
   ]
  },
  {
   "cell_type": "code",
   "execution_count": 224,
   "metadata": {},
   "outputs": [
    {
     "data": {
      "text/plain": [
       "Trip day\n",
       "Friday       12.075000\n",
       "Monday       13.508333\n",
       "Saturday      7.700000\n",
       "Sunday       15.283333\n",
       "Thursday     10.866667\n",
       "Tuesday      10.691667\n",
       "Wednesday     9.750000\n",
       "Name: Duration_min, dtype: float64"
      ]
     },
     "execution_count": 224,
     "metadata": {},
     "output_type": "execute_result"
    }
   ],
   "source": [
    "bike_df.groupby(\"Trip day\")[\"Duration_min\"].median()"
   ]
  },
  {
   "cell_type": "markdown",
   "metadata": {},
   "source": [
    "- How many \"joyrides\" (Suppose you have a theory that some people take long bike rides before putting their bike back in the same dock. Let's call these rides \"joyrides\")."
   ]
  },
  {
   "cell_type": "code",
   "execution_count": 230,
   "metadata": {},
   "outputs": [
    {
     "name": "stdout",
     "output_type": "stream",
     "text": [
      "6 rides were joyrides\n",
      "The median duration overall was 11.02 mins\n",
      "The median duration for joyrides was 44.04 mins\n"
     ]
    }
   ],
   "source": [
    "# Create joyrides\n",
    "joyrides = bike_df[\"Start station number\"] == bike_df[\"End station number\"]\n",
    "\n",
    "# Total number of joyrides\n",
    "print(\"{} rides were joyrides\".format(joyrides.sum()))\n",
    "\n",
    "# We use median since many observations in our dataset can be considered outliers\n",
    "\n",
    "# Median of all rides\n",
    "print(\n",
    "    \"The median duration overall was {:.2f} mins\".format(\n",
    "        bike_df[\"Duration_min\"].median()\n",
    "    )\n",
    ")\n",
    "\n",
    "# Median of joyrides\n",
    "print(\n",
    "    \"The median duration for joyrides was {:.2f} mins\".format(\n",
    "        bike_df[joyrides][\"Duration_min\"].median()\n",
    "    )\n",
    ")"
   ]
  },
  {
   "cell_type": "markdown",
   "metadata": {},
   "source": [
    "- How long between rides"
   ]
  },
  {
   "cell_type": "code",
   "execution_count": 227,
   "metadata": {},
   "outputs": [
    {
     "name": "stdout",
     "output_type": "stream",
     "text": [
      "Start date\n",
      "2017-10-31 00:00:00-04:00    5.519242\n",
      "2017-11-30 00:00:00-05:00    7.256474\n",
      "2017-12-31 00:00:00-05:00    9.202380\n",
      "Name: Time since, dtype: float64\n"
     ]
    }
   ],
   "source": [
    "# Shift the index of the end date up one; now subract it from the start date\n",
    "bike_df[\"Time since\"] = bike_df[\"Start date\"] - (bike_df[\"End date\"].shift(1))\n",
    "\n",
    "# Move from a timedelta to a number of seconds, which is easier to work with\n",
    "bike_df[\"Time since\"] = bike_df[\"Time since\"].dt.total_seconds()\n",
    "\n",
    "# Resample to the month\n",
    "monthly = bike_df.resample(\"M\", on=\"Start date\")\n",
    "\n",
    "# Print the average hours between rides each month\n",
    "print(monthly[\"Time since\"].mean() / (60 * 60))"
   ]
  },
  {
   "cell_type": "markdown",
   "metadata": {},
   "source": [
    "- How long was the median ride by month, and by Membership type?"
   ]
  },
  {
   "cell_type": "markdown",
   "metadata": {},
   "source": [
    "**Note:** First `groupby` then `resample`."
   ]
  },
  {
   "cell_type": "code",
   "execution_count": 235,
   "metadata": {},
   "outputs": [
    {
     "data": {
      "text/plain": [
       "Member type  Start date               \n",
       "Casual       2017-10-31 00:00:00-04:00    27.266667\n",
       "             2017-11-30 00:00:00-05:00    19.325000\n",
       "             2017-12-31 00:00:00-05:00    14.166667\n",
       "Member       2017-10-31 00:00:00-04:00    11.183333\n",
       "             2017-11-30 00:00:00-05:00    10.950000\n",
       "             2017-12-31 00:00:00-05:00     6.458333\n",
       "Name: Duration_min, dtype: float64"
      ]
     },
     "execution_count": 235,
     "metadata": {},
     "output_type": "execute_result"
    }
   ],
   "source": [
    "bike_df.groupby([\"Member type\"]).resample(\"M\", on=\"Start date\")[\"Duration_min\"].median()"
   ]
  },
  {
   "cell_type": "code",
   "execution_count": null,
   "metadata": {},
   "outputs": [],
   "source": []
  },
  {
   "cell_type": "code",
   "execution_count": null,
   "metadata": {},
   "outputs": [],
   "source": []
  }
 ],
 "metadata": {
  "kernelspec": {
   "display_name": "Python 3 (ipykernel)",
   "language": "python",
   "name": "python3"
  },
  "language_info": {
   "codemirror_mode": {
    "name": "ipython",
    "version": 3
   },
   "file_extension": ".py",
   "mimetype": "text/x-python",
   "name": "python",
   "nbconvert_exporter": "python",
   "pygments_lexer": "ipython3",
   "version": "3.11.6"
  },
  "vscode": {
   "interpreter": {
    "hash": "c68b33fb54bb59552268eca97cce0a66d93ba1e1c3c0870be37ac7a47ccc96a3"
   }
  }
 },
 "nbformat": 4,
 "nbformat_minor": 4
}
