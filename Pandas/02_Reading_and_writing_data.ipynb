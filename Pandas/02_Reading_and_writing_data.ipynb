{
 "cells": [
  {
   "cell_type": "markdown",
   "id": "1d5b47fd",
   "metadata": {},
   "source": [
    "**Table of contents**<a id='toc0_'></a>    \n",
    "- [Interacting with CSV/TSV files (and other similar filetypes)](#toc1_1_)    \n",
    "  - [Interacting with Excel Files](#toc1_2_)    \n",
    "  - [Interacting with SAS (Statistical Analysis System) and Stata (Statistics + Data) files](#toc1_3_)    \n",
    "  - [Interacting with HDF5 (Hierarchical Data Format) files](#toc1_4_)    \n",
    "  - [Interacting with `.mat` (MATLAB) files](#toc1_5_)    \n",
    "  - [Interacting with SQL databases](#toc1_6_)    \n",
    "\n",
    "<!-- vscode-jupyter-toc-config\n",
    "\tnumbering=false\n",
    "\tanchor=true\n",
    "\tflat=false\n",
    "\tminLevel=2\n",
    "\tmaxLevel=4\n",
    "\t/vscode-jupyter-toc-config -->\n",
    "<!-- THIS CELL WILL BE REPLACED ON TOC UPDATE. DO NOT WRITE YOUR TEXT IN THIS CELL -->"
   ]
  },
  {
   "cell_type": "markdown",
   "id": "ebe113ba",
   "metadata": {},
   "source": [
    "# Reading data from different sources and Writing data to different file formats"
   ]
  },
  {
   "cell_type": "markdown",
   "id": "9ca5a6a5",
   "metadata": {},
   "source": [
    "Although it's great that we can create Series and DataFrame objects with our custom data, but in practice we will mostly be working with data that already exists. Also after cleaning up a data file we may like to export the cleaned up data to another file for future uses."
   ]
  },
  {
   "cell_type": "code",
   "execution_count": 1,
   "id": "cf46bff2-3e44-4695-9880-cb4c39a67d40",
   "metadata": {},
   "outputs": [],
   "source": [
    "# import statements\n",
    "import numpy as np\n",
    "import pandas as pd"
   ]
  },
  {
   "cell_type": "markdown",
   "id": "17a21070",
   "metadata": {},
   "source": [
    "There are a bunch of functions in pandas that deal with ingesting data. They all begin with\n",
    "`read_`. Similarly, there are analagous exporting methods on the dataframe object. These exporting\n",
    "methods start with `.to_`."
   ]
  },
  {
   "cell_type": "markdown",
   "id": "a63dad24",
   "metadata": {},
   "source": [
    "### <a id='toc1_1_'></a>[Interacting with CSV/TSV files (and other similar filetypes)](#toc0_)"
   ]
  },
  {
   "cell_type": "markdown",
   "id": "2087da09",
   "metadata": {},
   "source": [
    "> Reading from a **CSV** file: `pd.read_csv(filepath, sep, delimiter=None, index_col=None, dtype=None, na_values=None)`"
   ]
  },
  {
   "cell_type": "markdown",
   "id": "77ae2890",
   "metadata": {},
   "source": [
    "<u>Function Parameters</u>\n",
    "\n",
    "- `filepath:` Path to the file to read. valid url can also be passed.\n",
    "- `sep:` Separator (e.g. for tsv files, sep='\\t'). Separators longer than 1 character and different from '\\s+' will be interpreted as regular expressions.\n",
    "- `index_col:` Column(s) to use as the row labels of the DataFrame, either given as string (name) or column index. If a sequence of int / str is given, a MultiIndex is used.\n",
    "- `dtype:` Data type of the values.\n",
    "- `na_values:` Additional strings to recognize as NA/NaN.\n",
    "- `parse_dates:` The behavior is as follows --\n",
    "    - bool. If True -> try parsing the index.\n",
    "    - list of int or names. e.g. If [1, 2, 3] -> try parsing columns 1, 2, 3 each as a separate date column.\n",
    "    - list of list. e.g. If [[1, 3]] -> combine columns 1 and 3 and parse as a single date column.\n",
    "    - dict, e.g. {'foo' : [1, 3]} -> parse columns 1, 3 as date and call result ‘foo’\n",
    "- `date_format:` Format to use for parsing dates. \n",
    "- `chunksize:` Define it to load the data in chunks instead of the whole thing at once. Specially useful for large files. If specified, returns an iterator where chunksize is the number of rows to include in each chunk (note that, each chunk is a dataframe). We can loop over this iterator to process the data in chunks. e.g. `for chunk in pd.read_csv('data.csv', chunksize=1000): process(chunk)`."
   ]
  },
  {
   "attachments": {},
   "cell_type": "markdown",
   "id": "dcd217ec-3d65-41fa-9fab-684efdb48d62",
   "metadata": {},
   "source": [
    "This can also read zip files containing only a single csv/tsv file without the need of extracting. But, if there's multiple files in the zip file then it must be unzipped before use."
   ]
  },
  {
   "attachments": {},
   "cell_type": "markdown",
   "id": "d6998e64",
   "metadata": {},
   "source": [
    "**Note:** One thing to be aware of is that by default, pandas will write the index values in a CSV, but when reading a CSV it will create a new index unless we specify a column for the index."
   ]
  },
  {
   "cell_type": "code",
   "execution_count": 2,
   "id": "b5bc9231-73ba-4a79-8ec7-7af17b0e7f24",
   "metadata": {},
   "outputs": [
    {
     "data": {
      "text/html": [
       "<div>\n",
       "<style scoped>\n",
       "    .dataframe tbody tr th:only-of-type {\n",
       "        vertical-align: middle;\n",
       "    }\n",
       "\n",
       "    .dataframe tbody tr th {\n",
       "        vertical-align: top;\n",
       "    }\n",
       "\n",
       "    .dataframe thead th {\n",
       "        text-align: right;\n",
       "    }\n",
       "</style>\n",
       "<table border=\"1\" class=\"dataframe\">\n",
       "  <thead>\n",
       "    <tr style=\"text-align: right;\">\n",
       "      <th></th>\n",
       "      <th>STATION</th>\n",
       "      <th>NAME</th>\n",
       "      <th>LATITUDE</th>\n",
       "      <th>LONGITUDE</th>\n",
       "      <th>ELEVATION</th>\n",
       "      <th>DAPR</th>\n",
       "      <th>DASF</th>\n",
       "      <th>MDPR</th>\n",
       "      <th>MDSF</th>\n",
       "      <th>PRCP</th>\n",
       "      <th>...</th>\n",
       "      <th>SNWD</th>\n",
       "      <th>TMAX</th>\n",
       "      <th>TMIN</th>\n",
       "      <th>TOBS</th>\n",
       "      <th>WT01</th>\n",
       "      <th>WT03</th>\n",
       "      <th>WT04</th>\n",
       "      <th>WT05</th>\n",
       "      <th>WT06</th>\n",
       "      <th>WT11</th>\n",
       "    </tr>\n",
       "    <tr>\n",
       "      <th>DATE</th>\n",
       "      <th></th>\n",
       "      <th></th>\n",
       "      <th></th>\n",
       "      <th></th>\n",
       "      <th></th>\n",
       "      <th></th>\n",
       "      <th></th>\n",
       "      <th></th>\n",
       "      <th></th>\n",
       "      <th></th>\n",
       "      <th></th>\n",
       "      <th></th>\n",
       "      <th></th>\n",
       "      <th></th>\n",
       "      <th></th>\n",
       "      <th></th>\n",
       "      <th></th>\n",
       "      <th></th>\n",
       "      <th></th>\n",
       "      <th></th>\n",
       "      <th></th>\n",
       "    </tr>\n",
       "  </thead>\n",
       "  <tbody>\n",
       "    <tr>\n",
       "      <th>1980-01-01</th>\n",
       "      <td>USC00420072</td>\n",
       "      <td>ALTA, UT US</td>\n",
       "      <td>40.5905</td>\n",
       "      <td>-111.6369</td>\n",
       "      <td>2660.9</td>\n",
       "      <td>NaN</td>\n",
       "      <td>NaN</td>\n",
       "      <td>NaN</td>\n",
       "      <td>NaN</td>\n",
       "      <td>0.10</td>\n",
       "      <td>...</td>\n",
       "      <td>29.0</td>\n",
       "      <td>38.0</td>\n",
       "      <td>25.0</td>\n",
       "      <td>25.0</td>\n",
       "      <td>NaN</td>\n",
       "      <td>NaN</td>\n",
       "      <td>NaN</td>\n",
       "      <td>NaN</td>\n",
       "      <td>NaN</td>\n",
       "      <td>NaN</td>\n",
       "    </tr>\n",
       "    <tr>\n",
       "      <th>1980-01-02</th>\n",
       "      <td>USC00420072</td>\n",
       "      <td>ALTA, UT US</td>\n",
       "      <td>40.5905</td>\n",
       "      <td>-111.6369</td>\n",
       "      <td>2660.9</td>\n",
       "      <td>NaN</td>\n",
       "      <td>NaN</td>\n",
       "      <td>NaN</td>\n",
       "      <td>NaN</td>\n",
       "      <td>0.43</td>\n",
       "      <td>...</td>\n",
       "      <td>34.0</td>\n",
       "      <td>27.0</td>\n",
       "      <td>18.0</td>\n",
       "      <td>18.0</td>\n",
       "      <td>NaN</td>\n",
       "      <td>NaN</td>\n",
       "      <td>NaN</td>\n",
       "      <td>NaN</td>\n",
       "      <td>NaN</td>\n",
       "      <td>NaN</td>\n",
       "    </tr>\n",
       "    <tr>\n",
       "      <th>1980-01-03</th>\n",
       "      <td>USC00420072</td>\n",
       "      <td>ALTA, UT US</td>\n",
       "      <td>40.5905</td>\n",
       "      <td>-111.6369</td>\n",
       "      <td>2660.9</td>\n",
       "      <td>NaN</td>\n",
       "      <td>NaN</td>\n",
       "      <td>NaN</td>\n",
       "      <td>NaN</td>\n",
       "      <td>0.09</td>\n",
       "      <td>...</td>\n",
       "      <td>30.0</td>\n",
       "      <td>27.0</td>\n",
       "      <td>12.0</td>\n",
       "      <td>18.0</td>\n",
       "      <td>NaN</td>\n",
       "      <td>NaN</td>\n",
       "      <td>NaN</td>\n",
       "      <td>NaN</td>\n",
       "      <td>NaN</td>\n",
       "      <td>NaN</td>\n",
       "    </tr>\n",
       "    <tr>\n",
       "      <th>1980-01-04</th>\n",
       "      <td>USC00420072</td>\n",
       "      <td>ALTA, UT US</td>\n",
       "      <td>40.5905</td>\n",
       "      <td>-111.6369</td>\n",
       "      <td>2660.9</td>\n",
       "      <td>NaN</td>\n",
       "      <td>NaN</td>\n",
       "      <td>NaN</td>\n",
       "      <td>NaN</td>\n",
       "      <td>0.00</td>\n",
       "      <td>...</td>\n",
       "      <td>30.0</td>\n",
       "      <td>31.0</td>\n",
       "      <td>18.0</td>\n",
       "      <td>27.0</td>\n",
       "      <td>NaN</td>\n",
       "      <td>NaN</td>\n",
       "      <td>NaN</td>\n",
       "      <td>NaN</td>\n",
       "      <td>NaN</td>\n",
       "      <td>NaN</td>\n",
       "    </tr>\n",
       "    <tr>\n",
       "      <th>1980-01-05</th>\n",
       "      <td>USC00420072</td>\n",
       "      <td>ALTA, UT US</td>\n",
       "      <td>40.5905</td>\n",
       "      <td>-111.6369</td>\n",
       "      <td>2660.9</td>\n",
       "      <td>NaN</td>\n",
       "      <td>NaN</td>\n",
       "      <td>NaN</td>\n",
       "      <td>NaN</td>\n",
       "      <td>0.00</td>\n",
       "      <td>...</td>\n",
       "      <td>30.0</td>\n",
       "      <td>34.0</td>\n",
       "      <td>26.0</td>\n",
       "      <td>34.0</td>\n",
       "      <td>NaN</td>\n",
       "      <td>NaN</td>\n",
       "      <td>NaN</td>\n",
       "      <td>NaN</td>\n",
       "      <td>NaN</td>\n",
       "      <td>NaN</td>\n",
       "    </tr>\n",
       "  </tbody>\n",
       "</table>\n",
       "<p>5 rows × 21 columns</p>\n",
       "</div>"
      ],
      "text/plain": [
       "                STATION         NAME  LATITUDE  LONGITUDE  ELEVATION  DAPR  \\\n",
       "DATE                                                                         \n",
       "1980-01-01  USC00420072  ALTA, UT US   40.5905  -111.6369     2660.9   NaN   \n",
       "1980-01-02  USC00420072  ALTA, UT US   40.5905  -111.6369     2660.9   NaN   \n",
       "1980-01-03  USC00420072  ALTA, UT US   40.5905  -111.6369     2660.9   NaN   \n",
       "1980-01-04  USC00420072  ALTA, UT US   40.5905  -111.6369     2660.9   NaN   \n",
       "1980-01-05  USC00420072  ALTA, UT US   40.5905  -111.6369     2660.9   NaN   \n",
       "\n",
       "            DASF  MDPR  MDSF  PRCP  ...  SNWD  TMAX  TMIN  TOBS  WT01  WT03  \\\n",
       "DATE                                ...                                       \n",
       "1980-01-01   NaN   NaN   NaN  0.10  ...  29.0  38.0  25.0  25.0   NaN   NaN   \n",
       "1980-01-02   NaN   NaN   NaN  0.43  ...  34.0  27.0  18.0  18.0   NaN   NaN   \n",
       "1980-01-03   NaN   NaN   NaN  0.09  ...  30.0  27.0  12.0  18.0   NaN   NaN   \n",
       "1980-01-04   NaN   NaN   NaN  0.00  ...  30.0  31.0  18.0  27.0   NaN   NaN   \n",
       "1980-01-05   NaN   NaN   NaN  0.00  ...  30.0  34.0  26.0  34.0   NaN   NaN   \n",
       "\n",
       "            WT04  WT05  WT06  WT11  \n",
       "DATE                                \n",
       "1980-01-01   NaN   NaN   NaN   NaN  \n",
       "1980-01-02   NaN   NaN   NaN   NaN  \n",
       "1980-01-03   NaN   NaN   NaN   NaN  \n",
       "1980-01-04   NaN   NaN   NaN   NaN  \n",
       "1980-01-05   NaN   NaN   NaN   NaN  \n",
       "\n",
       "[5 rows x 21 columns]"
      ]
     },
     "execution_count": 2,
     "metadata": {},
     "output_type": "execute_result"
    }
   ],
   "source": [
    "alta_df = pd.read_csv(\"./Data/alta-noaa-1980-2019.csv\", parse_dates=[\"DATE\"]).set_index(\n",
    "    \"DATE\"\n",
    ")\n",
    "alta_df.index.astype(\"datetime64[ns]\")\n",
    "alta_df.head()"
   ]
  },
  {
   "attachments": {},
   "cell_type": "markdown",
   "id": "beec2e7a",
   "metadata": {},
   "source": [
    "> Writing to a **CSV** file: `df.to_csv(path_or_buf, sep, na_rep, encoding, date_format)`"
   ]
  },
  {
   "cell_type": "markdown",
   "id": "50d76f0f",
   "metadata": {},
   "source": [
    "<u>Function Parameters</u>\n",
    "\n",
    "- path_or_buf : filepath.\n",
    "- sep : delimiter for the output file (str, default `,`).\n",
    "- na_rep : Missing data representation (str, default `''`).\n",
    "- mode : Python write mode (str, default `w`).\n",
    "- encoding: formatting to use in the output file (str, default `utf-8`)\n",
    "- date_format: format string for datetime format. "
   ]
  },
  {
   "cell_type": "code",
   "execution_count": 3,
   "id": "0a668667",
   "metadata": {},
   "outputs": [],
   "source": [
    "alta_df.to_csv(\"./tmp/alta_df.csv\", na_rep=\"nan\")  # be careful, ./tmp not /tmp"
   ]
  },
  {
   "cell_type": "code",
   "execution_count": 4,
   "id": "df90e5e2",
   "metadata": {},
   "outputs": [
    {
     "data": {
      "text/html": [
       "<div>\n",
       "<style scoped>\n",
       "    .dataframe tbody tr th:only-of-type {\n",
       "        vertical-align: middle;\n",
       "    }\n",
       "\n",
       "    .dataframe tbody tr th {\n",
       "        vertical-align: top;\n",
       "    }\n",
       "\n",
       "    .dataframe thead th {\n",
       "        text-align: right;\n",
       "    }\n",
       "</style>\n",
       "<table border=\"1\" class=\"dataframe\">\n",
       "  <thead>\n",
       "    <tr style=\"text-align: right;\">\n",
       "      <th></th>\n",
       "      <th>STATION</th>\n",
       "      <th>NAME</th>\n",
       "      <th>LATITUDE</th>\n",
       "      <th>LONGITUDE</th>\n",
       "      <th>ELEVATION</th>\n",
       "      <th>DAPR</th>\n",
       "      <th>DASF</th>\n",
       "      <th>MDPR</th>\n",
       "      <th>MDSF</th>\n",
       "      <th>PRCP</th>\n",
       "      <th>...</th>\n",
       "      <th>SNWD</th>\n",
       "      <th>TMAX</th>\n",
       "      <th>TMIN</th>\n",
       "      <th>TOBS</th>\n",
       "      <th>WT01</th>\n",
       "      <th>WT03</th>\n",
       "      <th>WT04</th>\n",
       "      <th>WT05</th>\n",
       "      <th>WT06</th>\n",
       "      <th>WT11</th>\n",
       "    </tr>\n",
       "    <tr>\n",
       "      <th>DATE</th>\n",
       "      <th></th>\n",
       "      <th></th>\n",
       "      <th></th>\n",
       "      <th></th>\n",
       "      <th></th>\n",
       "      <th></th>\n",
       "      <th></th>\n",
       "      <th></th>\n",
       "      <th></th>\n",
       "      <th></th>\n",
       "      <th></th>\n",
       "      <th></th>\n",
       "      <th></th>\n",
       "      <th></th>\n",
       "      <th></th>\n",
       "      <th></th>\n",
       "      <th></th>\n",
       "      <th></th>\n",
       "      <th></th>\n",
       "      <th></th>\n",
       "      <th></th>\n",
       "    </tr>\n",
       "  </thead>\n",
       "  <tbody>\n",
       "    <tr>\n",
       "      <th>1980-01-01</th>\n",
       "      <td>USC00420072</td>\n",
       "      <td>ALTA, UT US</td>\n",
       "      <td>40.5905</td>\n",
       "      <td>-111.6369</td>\n",
       "      <td>2660.9</td>\n",
       "      <td>NaN</td>\n",
       "      <td>NaN</td>\n",
       "      <td>NaN</td>\n",
       "      <td>NaN</td>\n",
       "      <td>0.10</td>\n",
       "      <td>...</td>\n",
       "      <td>29.0</td>\n",
       "      <td>38.0</td>\n",
       "      <td>25.0</td>\n",
       "      <td>25.0</td>\n",
       "      <td>NaN</td>\n",
       "      <td>NaN</td>\n",
       "      <td>NaN</td>\n",
       "      <td>NaN</td>\n",
       "      <td>NaN</td>\n",
       "      <td>NaN</td>\n",
       "    </tr>\n",
       "    <tr>\n",
       "      <th>1980-01-02</th>\n",
       "      <td>USC00420072</td>\n",
       "      <td>ALTA, UT US</td>\n",
       "      <td>40.5905</td>\n",
       "      <td>-111.6369</td>\n",
       "      <td>2660.9</td>\n",
       "      <td>NaN</td>\n",
       "      <td>NaN</td>\n",
       "      <td>NaN</td>\n",
       "      <td>NaN</td>\n",
       "      <td>0.43</td>\n",
       "      <td>...</td>\n",
       "      <td>34.0</td>\n",
       "      <td>27.0</td>\n",
       "      <td>18.0</td>\n",
       "      <td>18.0</td>\n",
       "      <td>NaN</td>\n",
       "      <td>NaN</td>\n",
       "      <td>NaN</td>\n",
       "      <td>NaN</td>\n",
       "      <td>NaN</td>\n",
       "      <td>NaN</td>\n",
       "    </tr>\n",
       "    <tr>\n",
       "      <th>1980-01-03</th>\n",
       "      <td>USC00420072</td>\n",
       "      <td>ALTA, UT US</td>\n",
       "      <td>40.5905</td>\n",
       "      <td>-111.6369</td>\n",
       "      <td>2660.9</td>\n",
       "      <td>NaN</td>\n",
       "      <td>NaN</td>\n",
       "      <td>NaN</td>\n",
       "      <td>NaN</td>\n",
       "      <td>0.09</td>\n",
       "      <td>...</td>\n",
       "      <td>30.0</td>\n",
       "      <td>27.0</td>\n",
       "      <td>12.0</td>\n",
       "      <td>18.0</td>\n",
       "      <td>NaN</td>\n",
       "      <td>NaN</td>\n",
       "      <td>NaN</td>\n",
       "      <td>NaN</td>\n",
       "      <td>NaN</td>\n",
       "      <td>NaN</td>\n",
       "    </tr>\n",
       "    <tr>\n",
       "      <th>1980-01-04</th>\n",
       "      <td>USC00420072</td>\n",
       "      <td>ALTA, UT US</td>\n",
       "      <td>40.5905</td>\n",
       "      <td>-111.6369</td>\n",
       "      <td>2660.9</td>\n",
       "      <td>NaN</td>\n",
       "      <td>NaN</td>\n",
       "      <td>NaN</td>\n",
       "      <td>NaN</td>\n",
       "      <td>0.00</td>\n",
       "      <td>...</td>\n",
       "      <td>30.0</td>\n",
       "      <td>31.0</td>\n",
       "      <td>18.0</td>\n",
       "      <td>27.0</td>\n",
       "      <td>NaN</td>\n",
       "      <td>NaN</td>\n",
       "      <td>NaN</td>\n",
       "      <td>NaN</td>\n",
       "      <td>NaN</td>\n",
       "      <td>NaN</td>\n",
       "    </tr>\n",
       "    <tr>\n",
       "      <th>1980-01-05</th>\n",
       "      <td>USC00420072</td>\n",
       "      <td>ALTA, UT US</td>\n",
       "      <td>40.5905</td>\n",
       "      <td>-111.6369</td>\n",
       "      <td>2660.9</td>\n",
       "      <td>NaN</td>\n",
       "      <td>NaN</td>\n",
       "      <td>NaN</td>\n",
       "      <td>NaN</td>\n",
       "      <td>0.00</td>\n",
       "      <td>...</td>\n",
       "      <td>30.0</td>\n",
       "      <td>34.0</td>\n",
       "      <td>26.0</td>\n",
       "      <td>34.0</td>\n",
       "      <td>NaN</td>\n",
       "      <td>NaN</td>\n",
       "      <td>NaN</td>\n",
       "      <td>NaN</td>\n",
       "      <td>NaN</td>\n",
       "      <td>NaN</td>\n",
       "    </tr>\n",
       "  </tbody>\n",
       "</table>\n",
       "<p>5 rows × 21 columns</p>\n",
       "</div>"
      ],
      "text/plain": [
       "                STATION         NAME  LATITUDE  LONGITUDE  ELEVATION  DAPR  \\\n",
       "DATE                                                                         \n",
       "1980-01-01  USC00420072  ALTA, UT US   40.5905  -111.6369     2660.9   NaN   \n",
       "1980-01-02  USC00420072  ALTA, UT US   40.5905  -111.6369     2660.9   NaN   \n",
       "1980-01-03  USC00420072  ALTA, UT US   40.5905  -111.6369     2660.9   NaN   \n",
       "1980-01-04  USC00420072  ALTA, UT US   40.5905  -111.6369     2660.9   NaN   \n",
       "1980-01-05  USC00420072  ALTA, UT US   40.5905  -111.6369     2660.9   NaN   \n",
       "\n",
       "            DASF  MDPR  MDSF  PRCP  ...  SNWD  TMAX  TMIN  TOBS  WT01  WT03  \\\n",
       "DATE                                ...                                       \n",
       "1980-01-01   NaN   NaN   NaN  0.10  ...  29.0  38.0  25.0  25.0   NaN   NaN   \n",
       "1980-01-02   NaN   NaN   NaN  0.43  ...  34.0  27.0  18.0  18.0   NaN   NaN   \n",
       "1980-01-03   NaN   NaN   NaN  0.09  ...  30.0  27.0  12.0  18.0   NaN   NaN   \n",
       "1980-01-04   NaN   NaN   NaN  0.00  ...  30.0  31.0  18.0  27.0   NaN   NaN   \n",
       "1980-01-05   NaN   NaN   NaN  0.00  ...  30.0  34.0  26.0  34.0   NaN   NaN   \n",
       "\n",
       "            WT04  WT05  WT06  WT11  \n",
       "DATE                                \n",
       "1980-01-01   NaN   NaN   NaN   NaN  \n",
       "1980-01-02   NaN   NaN   NaN   NaN  \n",
       "1980-01-03   NaN   NaN   NaN   NaN  \n",
       "1980-01-04   NaN   NaN   NaN   NaN  \n",
       "1980-01-05   NaN   NaN   NaN   NaN  \n",
       "\n",
       "[5 rows x 21 columns]"
      ]
     },
     "execution_count": 4,
     "metadata": {},
     "output_type": "execute_result"
    }
   ],
   "source": [
    "df = pd.read_csv(\"./tmp/alta_df.csv\", index_col=\"DATE\", na_values=\"nan\")\n",
    "df.index.astype(\"datetime64[ns]\")\n",
    "df.head()"
   ]
  },
  {
   "cell_type": "markdown",
   "id": "41cc4fb1",
   "metadata": {},
   "source": [
    "### <a id='toc1_2_'></a>[Interacting with Excel Files](#toc0_)"
   ]
  },
  {
   "cell_type": "markdown",
   "id": "c1256ccd",
   "metadata": {},
   "source": [
    "**Note:** You will have to make sure `openpyxl` is installed to use Excel support. Simply installing the pandas library usually will not install full Excel support."
   ]
  },
  {
   "cell_type": "code",
   "execution_count": 5,
   "id": "7400ef01",
   "metadata": {},
   "outputs": [],
   "source": [
    "# ! pip install openpyxl"
   ]
  },
  {
   "attachments": {},
   "cell_type": "markdown",
   "id": "e0addc13",
   "metadata": {},
   "source": [
    "> Reading from **Excel** file: `pd.read_excel(io, sheet_name, header, names, index_col, usecols, dtype, na_values, parse_dates)`"
   ]
  },
  {
   "cell_type": "markdown",
   "id": "9e8c2aee",
   "metadata": {},
   "source": [
    "<u>Function Parameters</u>\n",
    "- io : filepath.\n",
    "- sheet_name : default 0 (i.e, 1st sheet as a DataFrame). You can any of the following,\n",
    "    - str: Strings are used for sheet names. \n",
    "    - int: Integers are used in zero-indexed sheet positions (chart sheets do not count as a sheet position).\n",
    "    - Lists of strings/integers are used to request multiple sheets.\n",
    "    - None: Specify None to get all worksheets.\n",
    "- header : Row (0-indexed) to use for the column labels of the parsed DataFrame (int, default 0). If a list of integers is passed those row positions will be combined into a MultiIndex.\n",
    "- names : List of column names to use. If file contains no header row, then you should explicitly pass header=None.\n",
    "- index_col : Column (0-indexed) to use as the row labels of the DataFrame (int, default None). If a subset of data is selected with usecols, index_col is based on the subset.\n",
    "- usecols : str, list-like, or callable, default None.\n",
    "- dtype : Type name or, dict of {column: type}, default None. \n",
    "- na_values: Additional values to treat as NaN.\n",
    "- parse_dates: Columns to treat as datetime objects."
   ]
  },
  {
   "attachments": {},
   "cell_type": "markdown",
   "id": "db083eda",
   "metadata": {},
   "source": [
    "> Writing to **Excel** file: `df.to_excel(excel_writer, sheet_name, na_rep, columns)`"
   ]
  },
  {
   "cell_type": "markdown",
   "id": "ab72ae18",
   "metadata": {},
   "source": [
    "<u>Function Parameters</u>\n",
    "- excel_writer : To write a single object to an Excel .xlsx file it is only necessary to specify a target file name. To write to multiple sheets it is necessary to create an `ExcelWriter` object with a target file name, and specify a sheet in the file to write to.\n",
    "- sheet_name : Name of sheet which will contain the DataFrame.\n",
    "- na_rep : Missing data representation (str, default `''`).\n",
    "- columns : Columns to write (optional, sequence or list of str)."
   ]
  },
  {
   "attachments": {},
   "cell_type": "markdown",
   "id": "4ce54b5e",
   "metadata": {},
   "source": [
    "**Note:** If there are any timezone aware datetime object in the dataframe we will first need to strip the timezone information using, `df.datetime_col.dt.tz_convert(tz=None)` before exporting to Excel."
   ]
  },
  {
   "cell_type": "code",
   "execution_count": 6,
   "id": "d4fd95bf",
   "metadata": {},
   "outputs": [],
   "source": [
    "alta_df_2012 = alta_df[alta_df.index.year == 2012]\n",
    "# or, alta_df.loc['2012': '2012-12-31']\n",
    "alta_df_2013 = alta_df[alta_df.index.year == 2013]\n",
    "\n",
    "# writing alta_df data of 2012 in a sheet named '2012' and data of 2013 in a sheet named '2013'\n",
    "with pd.ExcelWriter(\"./tmp/alta_df_demo.xlsx\", engine=\"openpyxl\") as Writer:\n",
    "    alta_df_2012.to_excel(excel_writer=Writer, sheet_name=\"2012\")\n",
    "    alta_df_2013.to_excel(excel_writer=Writer, sheet_name=\"2013\")"
   ]
  },
  {
   "cell_type": "markdown",
   "id": "6f1402a9",
   "metadata": {},
   "source": [
    "### <a id='toc1_3_'></a>[Interacting with SAS (Statistical Analysis System) and Stata (Statistics + Data) files](#toc0_)"
   ]
  },
  {
   "cell_type": "markdown",
   "id": "0b8252af",
   "metadata": {},
   "source": [
    "These are two of the popular statistical software packages. Sometimes we may need to read data from these files. "
   ]
  },
  {
   "cell_type": "markdown",
   "id": "b91852b4",
   "metadata": {},
   "source": [
    "SAS files are important because SAS is a software suite that performs advanced analytics, multivariate analyses, business intelligence, data management, predictive analytics and is a standard for statisticians to do computational analysis. SAS is used a great deal in business analytics and biostatistics."
   ]
  },
  {
   "cell_type": "markdown",
   "id": "8474d04e",
   "metadata": {},
   "source": [
    "> The most common SAS files have the extension `.sas7bdat` and `.sas7bcat`, which are dataset files and catalog files respectively. To read these files we can use the `pd.read_sas()` function."
   ]
  },
  {
   "cell_type": "code",
   "execution_count": 7,
   "id": "4a20d4aa",
   "metadata": {},
   "outputs": [],
   "source": [
    "df_sas = pd.read_sas(\"./Data/sales.sas7bdat\")"
   ]
  },
  {
   "cell_type": "code",
   "execution_count": 8,
   "id": "df0a8911",
   "metadata": {},
   "outputs": [
    {
     "data": {
      "text/html": [
       "<div>\n",
       "<style scoped>\n",
       "    .dataframe tbody tr th:only-of-type {\n",
       "        vertical-align: middle;\n",
       "    }\n",
       "\n",
       "    .dataframe tbody tr th {\n",
       "        vertical-align: top;\n",
       "    }\n",
       "\n",
       "    .dataframe thead th {\n",
       "        text-align: right;\n",
       "    }\n",
       "</style>\n",
       "<table border=\"1\" class=\"dataframe\">\n",
       "  <thead>\n",
       "    <tr style=\"text-align: right;\">\n",
       "      <th></th>\n",
       "      <th>YEAR</th>\n",
       "      <th>P</th>\n",
       "      <th>S</th>\n",
       "    </tr>\n",
       "  </thead>\n",
       "  <tbody>\n",
       "    <tr>\n",
       "      <th>0</th>\n",
       "      <td>1950.0</td>\n",
       "      <td>12.9</td>\n",
       "      <td>181.899994</td>\n",
       "    </tr>\n",
       "    <tr>\n",
       "      <th>1</th>\n",
       "      <td>1951.0</td>\n",
       "      <td>11.9</td>\n",
       "      <td>245.000000</td>\n",
       "    </tr>\n",
       "    <tr>\n",
       "      <th>2</th>\n",
       "      <td>1952.0</td>\n",
       "      <td>10.7</td>\n",
       "      <td>250.199997</td>\n",
       "    </tr>\n",
       "    <tr>\n",
       "      <th>3</th>\n",
       "      <td>1953.0</td>\n",
       "      <td>11.3</td>\n",
       "      <td>265.899994</td>\n",
       "    </tr>\n",
       "    <tr>\n",
       "      <th>4</th>\n",
       "      <td>1954.0</td>\n",
       "      <td>11.2</td>\n",
       "      <td>248.500000</td>\n",
       "    </tr>\n",
       "  </tbody>\n",
       "</table>\n",
       "</div>"
      ],
      "text/plain": [
       "     YEAR     P           S\n",
       "0  1950.0  12.9  181.899994\n",
       "1  1951.0  11.9  245.000000\n",
       "2  1952.0  10.7  250.199997\n",
       "3  1953.0  11.3  265.899994\n",
       "4  1954.0  11.2  248.500000"
      ]
     },
     "execution_count": 8,
     "metadata": {},
     "output_type": "execute_result"
    }
   ],
   "source": [
    "df_sas.head()"
   ]
  },
  {
   "cell_type": "markdown",
   "id": "48186970",
   "metadata": {},
   "source": [
    "> Stata is popular in academic social sciences research, such as economics and epidemiology. Stata files have extension `.dta` and we can import them using the `pd.read_stata()` function."
   ]
  },
  {
   "cell_type": "code",
   "execution_count": 9,
   "id": "4af8fb65",
   "metadata": {},
   "outputs": [],
   "source": [
    "df_stata = pd.read_stata(\"./Data/disarea.dta\")"
   ]
  },
  {
   "cell_type": "code",
   "execution_count": 10,
   "id": "fa9b3baa",
   "metadata": {},
   "outputs": [
    {
     "data": {
      "text/html": [
       "<div>\n",
       "<style scoped>\n",
       "    .dataframe tbody tr th:only-of-type {\n",
       "        vertical-align: middle;\n",
       "    }\n",
       "\n",
       "    .dataframe tbody tr th {\n",
       "        vertical-align: top;\n",
       "    }\n",
       "\n",
       "    .dataframe thead th {\n",
       "        text-align: right;\n",
       "    }\n",
       "</style>\n",
       "<table border=\"1\" class=\"dataframe\">\n",
       "  <thead>\n",
       "    <tr style=\"text-align: right;\">\n",
       "      <th></th>\n",
       "      <th>wbcode</th>\n",
       "      <th>country</th>\n",
       "      <th>disa1</th>\n",
       "      <th>disa2</th>\n",
       "      <th>disa3</th>\n",
       "      <th>disa4</th>\n",
       "      <th>disa5</th>\n",
       "      <th>disa6</th>\n",
       "      <th>disa7</th>\n",
       "      <th>disa8</th>\n",
       "      <th>...</th>\n",
       "      <th>disa16</th>\n",
       "      <th>disa17</th>\n",
       "      <th>disa18</th>\n",
       "      <th>disa19</th>\n",
       "      <th>disa20</th>\n",
       "      <th>disa21</th>\n",
       "      <th>disa22</th>\n",
       "      <th>disa23</th>\n",
       "      <th>disa24</th>\n",
       "      <th>disa25</th>\n",
       "    </tr>\n",
       "  </thead>\n",
       "  <tbody>\n",
       "    <tr>\n",
       "      <th>0</th>\n",
       "      <td>AFG</td>\n",
       "      <td>Afghanistan</td>\n",
       "      <td>0.00</td>\n",
       "      <td>0.00</td>\n",
       "      <td>0.76</td>\n",
       "      <td>0.73</td>\n",
       "      <td>0.0</td>\n",
       "      <td>0.00</td>\n",
       "      <td>0.00</td>\n",
       "      <td>0.0</td>\n",
       "      <td>...</td>\n",
       "      <td>0.0</td>\n",
       "      <td>0.0</td>\n",
       "      <td>0.0</td>\n",
       "      <td>0.00</td>\n",
       "      <td>0.00</td>\n",
       "      <td>0.0</td>\n",
       "      <td>0.00</td>\n",
       "      <td>0.02</td>\n",
       "      <td>0.00</td>\n",
       "      <td>0.00</td>\n",
       "    </tr>\n",
       "    <tr>\n",
       "      <th>1</th>\n",
       "      <td>AGO</td>\n",
       "      <td>Angola</td>\n",
       "      <td>0.32</td>\n",
       "      <td>0.02</td>\n",
       "      <td>0.56</td>\n",
       "      <td>0.00</td>\n",
       "      <td>0.0</td>\n",
       "      <td>0.00</td>\n",
       "      <td>0.56</td>\n",
       "      <td>0.0</td>\n",
       "      <td>...</td>\n",
       "      <td>0.0</td>\n",
       "      <td>0.4</td>\n",
       "      <td>0.0</td>\n",
       "      <td>0.61</td>\n",
       "      <td>0.00</td>\n",
       "      <td>0.0</td>\n",
       "      <td>0.99</td>\n",
       "      <td>0.98</td>\n",
       "      <td>0.61</td>\n",
       "      <td>0.00</td>\n",
       "    </tr>\n",
       "    <tr>\n",
       "      <th>2</th>\n",
       "      <td>ALB</td>\n",
       "      <td>Albania</td>\n",
       "      <td>0.00</td>\n",
       "      <td>0.00</td>\n",
       "      <td>0.02</td>\n",
       "      <td>0.00</td>\n",
       "      <td>0.0</td>\n",
       "      <td>0.00</td>\n",
       "      <td>0.00</td>\n",
       "      <td>0.0</td>\n",
       "      <td>...</td>\n",
       "      <td>0.0</td>\n",
       "      <td>0.0</td>\n",
       "      <td>0.0</td>\n",
       "      <td>0.00</td>\n",
       "      <td>0.00</td>\n",
       "      <td>0.0</td>\n",
       "      <td>0.00</td>\n",
       "      <td>0.00</td>\n",
       "      <td>0.00</td>\n",
       "      <td>0.16</td>\n",
       "    </tr>\n",
       "    <tr>\n",
       "      <th>3</th>\n",
       "      <td>ARE</td>\n",
       "      <td>United Arab Emirates</td>\n",
       "      <td>0.00</td>\n",
       "      <td>0.00</td>\n",
       "      <td>0.00</td>\n",
       "      <td>0.00</td>\n",
       "      <td>0.0</td>\n",
       "      <td>0.00</td>\n",
       "      <td>0.00</td>\n",
       "      <td>0.0</td>\n",
       "      <td>...</td>\n",
       "      <td>0.0</td>\n",
       "      <td>0.0</td>\n",
       "      <td>0.0</td>\n",
       "      <td>0.00</td>\n",
       "      <td>0.00</td>\n",
       "      <td>0.0</td>\n",
       "      <td>0.00</td>\n",
       "      <td>0.00</td>\n",
       "      <td>0.00</td>\n",
       "      <td>0.00</td>\n",
       "    </tr>\n",
       "    <tr>\n",
       "      <th>4</th>\n",
       "      <td>ARG</td>\n",
       "      <td>Argentina</td>\n",
       "      <td>0.00</td>\n",
       "      <td>0.24</td>\n",
       "      <td>0.24</td>\n",
       "      <td>0.00</td>\n",
       "      <td>0.0</td>\n",
       "      <td>0.23</td>\n",
       "      <td>0.00</td>\n",
       "      <td>0.0</td>\n",
       "      <td>...</td>\n",
       "      <td>0.0</td>\n",
       "      <td>0.0</td>\n",
       "      <td>0.0</td>\n",
       "      <td>0.00</td>\n",
       "      <td>0.05</td>\n",
       "      <td>0.0</td>\n",
       "      <td>0.00</td>\n",
       "      <td>0.01</td>\n",
       "      <td>0.00</td>\n",
       "      <td>0.11</td>\n",
       "    </tr>\n",
       "  </tbody>\n",
       "</table>\n",
       "<p>5 rows × 27 columns</p>\n",
       "</div>"
      ],
      "text/plain": [
       "  wbcode               country  disa1  disa2  disa3  disa4  disa5  disa6  \\\n",
       "0    AFG           Afghanistan   0.00   0.00   0.76   0.73    0.0   0.00   \n",
       "1    AGO                Angola   0.32   0.02   0.56   0.00    0.0   0.00   \n",
       "2    ALB               Albania   0.00   0.00   0.02   0.00    0.0   0.00   \n",
       "3    ARE  United Arab Emirates   0.00   0.00   0.00   0.00    0.0   0.00   \n",
       "4    ARG             Argentina   0.00   0.24   0.24   0.00    0.0   0.23   \n",
       "\n",
       "   disa7  disa8  ...  disa16  disa17  disa18  disa19  disa20  disa21  disa22  \\\n",
       "0   0.00    0.0  ...     0.0     0.0     0.0    0.00    0.00     0.0    0.00   \n",
       "1   0.56    0.0  ...     0.0     0.4     0.0    0.61    0.00     0.0    0.99   \n",
       "2   0.00    0.0  ...     0.0     0.0     0.0    0.00    0.00     0.0    0.00   \n",
       "3   0.00    0.0  ...     0.0     0.0     0.0    0.00    0.00     0.0    0.00   \n",
       "4   0.00    0.0  ...     0.0     0.0     0.0    0.00    0.05     0.0    0.00   \n",
       "\n",
       "   disa23  disa24  disa25  \n",
       "0    0.02    0.00    0.00  \n",
       "1    0.98    0.61    0.00  \n",
       "2    0.00    0.00    0.16  \n",
       "3    0.00    0.00    0.00  \n",
       "4    0.01    0.00    0.11  \n",
       "\n",
       "[5 rows x 27 columns]"
      ]
     },
     "execution_count": 10,
     "metadata": {},
     "output_type": "execute_result"
    }
   ],
   "source": [
    "df_stata.head()"
   ]
  },
  {
   "cell_type": "markdown",
   "id": "b7ec0b69",
   "metadata": {},
   "source": [
    "### <a id='toc1_4_'></a>[Interacting with HDF5 (Hierarchical Data Format) files](#toc0_)"
   ]
  },
  {
   "cell_type": "markdown",
   "id": "1996f8f6",
   "metadata": {},
   "source": [
    "In the Python world, consensus is rapidly converging on Hierarchical Data Format version 5, or 'HDF5,' as the standard mechanism for **storing large quantities of numerical data**. How large? It’s now relatively common to deal with datasets hundreds of gigabytes or even terabytes in size; HDF5 itself can scale up to exabytes."
   ]
  },
  {
   "cell_type": "markdown",
   "id": "c7b34a64",
   "metadata": {},
   "source": [
    "<u>Resources</u>\n",
    "- An introduction to HDF5 - https://www.youtube.com/watch?v=S74Kc8QYDac\n",
    "- HDF5 with Python - https://www.youtube.com/watch?v=8OpMAlYyH5Y\n",
    "\n",
    "<u>The structure of HDF5 files</u>\n",
    "\n",
    "The basic structure of an HDF5 file is composed of two types of objects: groups and datasets. Groups are like folders, and datasets are like arrays or dataframes. We can think of groups as being like directories in a filesystem, and datasets as being like files within those directories. We can create groups to store related datasets together, and we can create subgroups within groups. We can also attach metadata to groups and datasets, which is stored in the form of key-value pairs.\n",
    "\n",
    "We can access the group names with the `.keys()` method. But first we need to load the file with the `h5py.File(path, mode)` function from the `h5py` package."
   ]
  },
  {
   "cell_type": "code",
   "execution_count": 11,
   "id": "3e88e02f",
   "metadata": {},
   "outputs": [],
   "source": [
    "import h5py\n",
    "import matplotlib.pyplot as plt"
   ]
  },
  {
   "cell_type": "code",
   "execution_count": 12,
   "id": "ba50a793",
   "metadata": {},
   "outputs": [],
   "source": [
    "ligo_hdf5 = h5py.File(\"./Data/L-L1_LOSC_4_V1-1126259446-32.hdf5\")"
   ]
  },
  {
   "cell_type": "code",
   "execution_count": 13,
   "id": "4713a162",
   "metadata": {},
   "outputs": [
    {
     "data": {
      "text/plain": [
       "<KeysViewHDF5 ['meta', 'quality', 'strain']>"
      ]
     },
     "execution_count": 13,
     "metadata": {},
     "output_type": "execute_result"
    }
   ],
   "source": [
    "ligo_hdf5.keys()"
   ]
  },
  {
   "cell_type": "code",
   "execution_count": 14,
   "id": "ea97ba02",
   "metadata": {},
   "outputs": [
    {
     "data": {
      "text/plain": [
       "<KeysViewHDF5 ['detail', 'injections', 'simple']>"
      ]
     },
     "execution_count": 14,
     "metadata": {},
     "output_type": "execute_result"
    }
   ],
   "source": [
    "ligo_hdf5[\"quality\"].keys()"
   ]
  },
  {
   "cell_type": "code",
   "execution_count": 15,
   "id": "bff16df3",
   "metadata": {},
   "outputs": [
    {
     "name": "stdout",
     "output_type": "stream",
     "text": [
      "Strain\n"
     ]
    }
   ],
   "source": [
    "group = ligo_hdf5[\"strain\"]\n",
    "\n",
    "for key in group.keys():\n",
    "    print(key)"
   ]
  },
  {
   "cell_type": "code",
   "execution_count": 16,
   "id": "2330e67f",
   "metadata": {},
   "outputs": [
    {
     "data": {
      "image/png": "[encoded data removed]",
      "text/plain": [
       "<Figure size 640x480 with 1 Axes>"
      ]
     },
     "metadata": {},
     "output_type": "display_data"
    }
   ],
   "source": [
    "strain = np.array(ligo_hdf5[\"strain\"][\"Strain\"])\n",
    "\n",
    "# number of time points to sample\n",
    "num_samples = 10000\n",
    "\n",
    "# the time vector\n",
    "time = np.arange(0, 1, 1 / num_samples)\n",
    "\n",
    "# plotting the data\n",
    "plt.plot(time, strain[:num_samples])\n",
    "plt.xlabel(\"GPS Time (s)\")\n",
    "plt.ylabel(\"strain\")\n",
    "plt.show()"
   ]
  },
  {
   "cell_type": "markdown",
   "id": "9ba06f7a",
   "metadata": {},
   "source": [
    "> To import data from HDF5 files directly we can use the `pd.read_hdf(path, key, mode=\"r\")` function and to write data to a HDF5 file we can use the `pd.HDFStore(path, mode=\"w\")` function. See the documentation for more details."
   ]
  },
  {
   "cell_type": "markdown",
   "id": "c9f530e9",
   "metadata": {},
   "source": [
    "### <a id='toc1_5_'></a>[Interacting with `.mat` (MATLAB) files](#toc0_)"
   ]
  },
  {
   "cell_type": "markdown",
   "id": "d77feb9a",
   "metadata": {},
   "source": [
    "> We can use the `scipi.io.loadmat()` function to read data from a MATLAB file. This function returns a dictionary-like object with variable names as keys and loaded matrices as corresponding values."
   ]
  },
  {
   "cell_type": "code",
   "execution_count": 17,
   "id": "f71f839e",
   "metadata": {},
   "outputs": [],
   "source": [
    "import scipy.io"
   ]
  },
  {
   "cell_type": "code",
   "execution_count": 18,
   "id": "c9e3e1c0",
   "metadata": {},
   "outputs": [],
   "source": [
    "data_mat = scipy.io.loadmat(\"./Data/ja_data2.mat\")"
   ]
  },
  {
   "cell_type": "code",
   "execution_count": 19,
   "id": "80e91d6f",
   "metadata": {},
   "outputs": [
    {
     "data": {
      "text/plain": [
       "dict"
      ]
     },
     "execution_count": 19,
     "metadata": {},
     "output_type": "execute_result"
    }
   ],
   "source": [
    "type(data_mat)"
   ]
  },
  {
   "cell_type": "code",
   "execution_count": 20,
   "id": "916f6209",
   "metadata": {},
   "outputs": [
    {
     "data": {
      "text/plain": [
       "dict_keys(['__header__', '__version__', '__globals__', 'rfpCyt', 'rfpNuc', 'cfpNuc', 'cfpCyt', 'yfpNuc', 'yfpCyt', 'CYratioCyt'])"
      ]
     },
     "execution_count": 20,
     "metadata": {},
     "output_type": "execute_result"
    }
   ],
   "source": [
    "data_mat.keys()"
   ]
  },
  {
   "cell_type": "code",
   "execution_count": 21,
   "id": "50ce1465",
   "metadata": {},
   "outputs": [
    {
     "data": {
      "text/plain": [
       "{'__header__': b'MATLAB 5.0 MAT-file, Platform: PCWIN64, Created on: Tue Nov 24 17:35:19 2015',\n",
       " '__version__': '1.0',\n",
       " '__globals__': [],\n",
       " 'rfpCyt': array([[  0.        , 238.62933333, 238.62264151, ..., 250.17403315,\n",
       "         249.05801105, 251.3489011 ],\n",
       "        [  0.        , 291.7718254 , 292.006     , ..., 269.99239544,\n",
       "         271.32044199, 271.26086957],\n",
       "        [  0.        , 252.45212766, 253.34851138, ..., 225.76428571,\n",
       "         224.02909091, 226.38103757],\n",
       "        ...,\n",
       "        [  0.        ,   0.        ,   0.        , ...,   0.        ,\n",
       "           0.        ,   0.        ],\n",
       "        [  0.        , 373.45756458, 377.05420561, ...,   0.        ,\n",
       "           0.        ,   0.        ],\n",
       "        [  0.        , 415.25079365,   0.        , ..., 407.76514032,\n",
       "         402.54331865, 409.40528634]]),\n",
       " 'rfpNuc': array([[  0.        , 183.34256055, 187.84859155, ..., 200.62101911,\n",
       "         198.79566563, 201.73566879],\n",
       "        [  0.        , 191.7195122 , 189.11340206, ..., 183.73829787,\n",
       "         187.35918367, 189.04320988],\n",
       "        [  0.        , 174.97307692, 174.79961464, ..., 157.78478664,\n",
       "         157.32887189, 157.59962049],\n",
       "        ...,\n",
       "        [  0.        ,   0.        ,   0.        , ...,   0.        ,\n",
       "           0.        ,   0.        ],\n",
       "        [  0.        , 247.48251748, 249.63270142, ...,   0.        ,\n",
       "           0.        ,   0.        ],\n",
       "        [  0.        , 280.50465839,   0.        , ..., 249.66157761,\n",
       "         247.85316456, 250.16287879]]),\n",
       " 'cfpNuc': array([[  0.        , 844.75086505, 874.15492958, ..., 710.70382166,\n",
       "         715.50154799, 727.59872611],\n",
       "        [  0.        , 643.34878049, 641.84020619, ..., 583.27021277,\n",
       "         603.84897959, 608.45679012],\n",
       "        [  0.        , 487.2       , 486.08863198, ..., 435.80705009,\n",
       "         431.29063098, 439.29222011],\n",
       "        ...,\n",
       "        [  0.        ,   0.        ,   0.        , ...,   0.        ,\n",
       "           0.        ,   0.        ],\n",
       "        [  0.        , 535.31235431, 541.69194313, ...,   0.        ,\n",
       "           0.        ,   0.        ],\n",
       "        [  0.        , 793.31832298,   0.        , ..., 584.53435115,\n",
       "         577.9835443 , 599.96085859]]),\n",
       " 'cfpCyt': array([[   0.        , 1519.37866667, 1518.73045822, ..., 1354.96132597,\n",
       "         1352.75966851, 1367.18681319],\n",
       "        [   0.        , 1175.74007937, 1176.164     , ..., 1098.57984791,\n",
       "         1109.05893186, 1111.66847826],\n",
       "        [   0.        ,  856.7535461 ,  856.88091068, ...,  736.54821429,\n",
       "          738.08909091,  746.82110912],\n",
       "        ...,\n",
       "        [   0.        ,    0.        ,    0.        , ...,    0.        ,\n",
       "            0.        ,    0.        ],\n",
       "        [   0.        ,  908.85424354,  920.44859813, ...,    0.        ,\n",
       "            0.        ,    0.        ],\n",
       "        [   0.        , 1256.34603175,    0.        , ..., 1128.29542097,\n",
       "         1122.6328928 , 1170.41703377]]),\n",
       " 'yfpNuc': array([[  0.        , 532.3633218 , 551.92253521, ..., 495.13375796,\n",
       "         497.89783282, 507.28025478],\n",
       "        [  0.        , 448.39268293, 448.56958763, ..., 399.82553191,\n",
       "         417.9244898 , 421.81069959],\n",
       "        [  0.        , 307.85576923, 308.32177264, ..., 283.20222635,\n",
       "         281.00382409, 285.47628083],\n",
       "        ...,\n",
       "        [  0.        ,   0.        ,   0.        , ...,   0.        ,\n",
       "           0.        ,   0.        ],\n",
       "        [  0.        , 326.36363636, 330.20379147, ...,   0.        ,\n",
       "           0.        ,   0.        ],\n",
       "        [  0.        , 502.60869565,   0.        , ..., 418.83842239,\n",
       "         417.3721519 , 426.93434343]]),\n",
       " 'yfpCyt': array([[  0.        , 951.432     , 944.48787062, ..., 939.66022099,\n",
       "         936.        , 949.12912088],\n",
       "        [  0.        , 840.49801587, 836.542     , ..., 767.11596958,\n",
       "         781.38489871, 780.76811594],\n",
       "        [  0.        , 578.08865248, 577.66725044, ..., 509.98035714,\n",
       "         512.38181818, 515.31127013],\n",
       "        ...,\n",
       "        [  0.        ,   0.        ,   0.        , ...,   0.        ,\n",
       "           0.        ,   0.        ],\n",
       "        [  0.        , 577.48708487, 590.89719626, ...,   0.        ,\n",
       "           0.        ,   0.        ],\n",
       "        [  0.        , 812.01904762,   0.        , ..., 901.44756278,\n",
       "         896.88399413, 920.85756241]]),\n",
       " 'CYratioCyt': array([[0.        , 1.53071547, 1.54297013, ..., 1.34990123, 1.35329984,\n",
       "         1.34922173],\n",
       "        [0.        , 1.28605578, 1.29385656, ..., 1.31307311, 1.30039694,\n",
       "         1.30563938],\n",
       "        [0.        , 1.32731222, 1.32884617, ..., 1.24887565, 1.24506205,\n",
       "         1.25825831],\n",
       "        ...,\n",
       "        [0.        , 0.        , 0.        , ..., 0.        , 0.        ,\n",
       "         0.        ],\n",
       "        [0.        , 1.44552606, 1.42862357, ..., 0.        , 0.        ,\n",
       "         0.        ],\n",
       "        [0.        , 1.45794466, 0.        , ..., 1.1229479 , 1.12224652,\n",
       "         1.1486481 ]])}"
      ]
     },
     "execution_count": 21,
     "metadata": {},
     "output_type": "execute_result"
    }
   ],
   "source": [
    "data_mat"
   ]
  },
  {
   "cell_type": "code",
   "execution_count": 22,
   "id": "6a9a9a37",
   "metadata": {},
   "outputs": [
    {
     "data": {
      "text/plain": [
       "numpy.ndarray"
      ]
     },
     "execution_count": 22,
     "metadata": {},
     "output_type": "execute_result"
    }
   ],
   "source": [
    "type(data_mat[\"CYratioCyt\"])"
   ]
  },
  {
   "cell_type": "code",
   "execution_count": 23,
   "id": "9d45b246",
   "metadata": {},
   "outputs": [
    {
     "data": {
      "text/plain": [
       "(200, 137)"
      ]
     },
     "execution_count": 23,
     "metadata": {},
     "output_type": "execute_result"
    }
   ],
   "source": [
    "np.shape(data_mat[\"CYratioCyt\"])"
   ]
  },
  {
   "cell_type": "markdown",
   "id": "296fe796",
   "metadata": {},
   "source": [
    "### <a id='toc1_6_'></a>[Interacting with SQL databases](#toc0_)"
   ]
  },
  {
   "cell_type": "markdown",
   "id": "e778bad3",
   "metadata": {},
   "source": [
    "> We can use the `pd.read_sql(sql, con)` function to read a particular table from a database or we can also use this function to execute a query and return the result as a pandas dataframe.\n",
    "\n",
    "<u>Function Parameters</u>\n",
    "- `sql`: SQL query to be executed or a table name. Should be a str or SQLAlchemy Selectable (select or text object).\n",
    "-  `con`: SQLAlchemy connectable (engine/connection) or database string URL or DBAPI2 connection (fallback mode)."
   ]
  },
  {
   "cell_type": "code",
   "execution_count": 24,
   "id": "8ad5cf31",
   "metadata": {},
   "outputs": [],
   "source": [
    "df = pd.read_sql(\"SELECT * FROM Employee ORDER BY BirthDate\", \"sqlite:///Data/Chinook.sqlite\", index_col=\"EmployeeId\", parse_dates=[\"BirthDate\", \"HireDate\"])"
   ]
  },
  {
   "cell_type": "code",
   "execution_count": 25,
   "id": "07fc5ba5",
   "metadata": {},
   "outputs": [
    {
     "data": {
      "text/html": [
       "<div>\n",
       "<style scoped>\n",
       "    .dataframe tbody tr th:only-of-type {\n",
       "        vertical-align: middle;\n",
       "    }\n",
       "\n",
       "    .dataframe tbody tr th {\n",
       "        vertical-align: top;\n",
       "    }\n",
       "\n",
       "    .dataframe thead th {\n",
       "        text-align: right;\n",
       "    }\n",
       "</style>\n",
       "<table border=\"1\" class=\"dataframe\">\n",
       "  <thead>\n",
       "    <tr style=\"text-align: right;\">\n",
       "      <th></th>\n",
       "      <th>LastName</th>\n",
       "      <th>FirstName</th>\n",
       "      <th>Title</th>\n",
       "      <th>ReportsTo</th>\n",
       "      <th>BirthDate</th>\n",
       "      <th>HireDate</th>\n",
       "      <th>Address</th>\n",
       "      <th>City</th>\n",
       "      <th>State</th>\n",
       "      <th>Country</th>\n",
       "      <th>PostalCode</th>\n",
       "      <th>Phone</th>\n",
       "      <th>Fax</th>\n",
       "      <th>Email</th>\n",
       "    </tr>\n",
       "    <tr>\n",
       "      <th>EmployeeId</th>\n",
       "      <th></th>\n",
       "      <th></th>\n",
       "      <th></th>\n",
       "      <th></th>\n",
       "      <th></th>\n",
       "      <th></th>\n",
       "      <th></th>\n",
       "      <th></th>\n",
       "      <th></th>\n",
       "      <th></th>\n",
       "      <th></th>\n",
       "      <th></th>\n",
       "      <th></th>\n",
       "      <th></th>\n",
       "    </tr>\n",
       "  </thead>\n",
       "  <tbody>\n",
       "    <tr>\n",
       "      <th>4</th>\n",
       "      <td>Park</td>\n",
       "      <td>Margaret</td>\n",
       "      <td>Sales Support Agent</td>\n",
       "      <td>2.0</td>\n",
       "      <td>1947-09-19</td>\n",
       "      <td>2003-05-03</td>\n",
       "      <td>683 10 Street SW</td>\n",
       "      <td>Calgary</td>\n",
       "      <td>AB</td>\n",
       "      <td>Canada</td>\n",
       "      <td>T2P 5G3</td>\n",
       "      <td>+1 (403) 263-4423</td>\n",
       "      <td>+1 (403) 263-4289</td>\n",
       "      <td>margaret@chinookcorp.com</td>\n",
       "    </tr>\n",
       "    <tr>\n",
       "      <th>2</th>\n",
       "      <td>Edwards</td>\n",
       "      <td>Nancy</td>\n",
       "      <td>Sales Manager</td>\n",
       "      <td>1.0</td>\n",
       "      <td>1958-12-08</td>\n",
       "      <td>2002-05-01</td>\n",
       "      <td>825 8 Ave SW</td>\n",
       "      <td>Calgary</td>\n",
       "      <td>AB</td>\n",
       "      <td>Canada</td>\n",
       "      <td>T2P 2T3</td>\n",
       "      <td>+1 (403) 262-3443</td>\n",
       "      <td>+1 (403) 262-3322</td>\n",
       "      <td>nancy@chinookcorp.com</td>\n",
       "    </tr>\n",
       "    <tr>\n",
       "      <th>1</th>\n",
       "      <td>Adams</td>\n",
       "      <td>Andrew</td>\n",
       "      <td>General Manager</td>\n",
       "      <td>NaN</td>\n",
       "      <td>1962-02-18</td>\n",
       "      <td>2002-08-14</td>\n",
       "      <td>11120 Jasper Ave NW</td>\n",
       "      <td>Edmonton</td>\n",
       "      <td>AB</td>\n",
       "      <td>Canada</td>\n",
       "      <td>T5K 2N1</td>\n",
       "      <td>+1 (780) 428-9482</td>\n",
       "      <td>+1 (780) 428-3457</td>\n",
       "      <td>andrew@chinookcorp.com</td>\n",
       "    </tr>\n",
       "    <tr>\n",
       "      <th>5</th>\n",
       "      <td>Johnson</td>\n",
       "      <td>Steve</td>\n",
       "      <td>Sales Support Agent</td>\n",
       "      <td>2.0</td>\n",
       "      <td>1965-03-03</td>\n",
       "      <td>2003-10-17</td>\n",
       "      <td>7727B 41 Ave</td>\n",
       "      <td>Calgary</td>\n",
       "      <td>AB</td>\n",
       "      <td>Canada</td>\n",
       "      <td>T3B 1Y7</td>\n",
       "      <td>1 (780) 836-9987</td>\n",
       "      <td>1 (780) 836-9543</td>\n",
       "      <td>steve@chinookcorp.com</td>\n",
       "    </tr>\n",
       "    <tr>\n",
       "      <th>8</th>\n",
       "      <td>Callahan</td>\n",
       "      <td>Laura</td>\n",
       "      <td>IT Staff</td>\n",
       "      <td>6.0</td>\n",
       "      <td>1968-01-09</td>\n",
       "      <td>2004-03-04</td>\n",
       "      <td>923 7 ST NW</td>\n",
       "      <td>Lethbridge</td>\n",
       "      <td>AB</td>\n",
       "      <td>Canada</td>\n",
       "      <td>T1H 1Y8</td>\n",
       "      <td>+1 (403) 467-3351</td>\n",
       "      <td>+1 (403) 467-8772</td>\n",
       "      <td>laura@chinookcorp.com</td>\n",
       "    </tr>\n",
       "  </tbody>\n",
       "</table>\n",
       "</div>"
      ],
      "text/plain": [
       "            LastName FirstName                Title  ReportsTo  BirthDate  \\\n",
       "EmployeeId                                                                  \n",
       "4               Park  Margaret  Sales Support Agent        2.0 1947-09-19   \n",
       "2            Edwards     Nancy        Sales Manager        1.0 1958-12-08   \n",
       "1              Adams    Andrew      General Manager        NaN 1962-02-18   \n",
       "5            Johnson     Steve  Sales Support Agent        2.0 1965-03-03   \n",
       "8           Callahan     Laura             IT Staff        6.0 1968-01-09   \n",
       "\n",
       "             HireDate              Address        City State Country  \\\n",
       "EmployeeId                                                             \n",
       "4          2003-05-03     683 10 Street SW     Calgary    AB  Canada   \n",
       "2          2002-05-01         825 8 Ave SW     Calgary    AB  Canada   \n",
       "1          2002-08-14  11120 Jasper Ave NW    Edmonton    AB  Canada   \n",
       "5          2003-10-17         7727B 41 Ave     Calgary    AB  Canada   \n",
       "8          2004-03-04          923 7 ST NW  Lethbridge    AB  Canada   \n",
       "\n",
       "           PostalCode              Phone                Fax  \\\n",
       "EmployeeId                                                    \n",
       "4             T2P 5G3  +1 (403) 263-4423  +1 (403) 263-4289   \n",
       "2             T2P 2T3  +1 (403) 262-3443  +1 (403) 262-3322   \n",
       "1             T5K 2N1  +1 (780) 428-9482  +1 (780) 428-3457   \n",
       "5             T3B 1Y7   1 (780) 836-9987   1 (780) 836-9543   \n",
       "8             T1H 1Y8  +1 (403) 467-3351  +1 (403) 467-8772   \n",
       "\n",
       "                               Email  \n",
       "EmployeeId                            \n",
       "4           margaret@chinookcorp.com  \n",
       "2              nancy@chinookcorp.com  \n",
       "1             andrew@chinookcorp.com  \n",
       "5              steve@chinookcorp.com  \n",
       "8              laura@chinookcorp.com  "
      ]
     },
     "execution_count": 25,
     "metadata": {},
     "output_type": "execute_result"
    }
   ],
   "source": [
    "df.head()"
   ]
  },
  {
   "cell_type": "code",
   "execution_count": 26,
   "id": "35d2ede3",
   "metadata": {},
   "outputs": [
    {
     "name": "stdout",
     "output_type": "stream",
     "text": [
      "<class 'pandas.core.frame.DataFrame'>\n",
      "Index: 8 entries, 4 to 3\n",
      "Data columns (total 14 columns):\n",
      " #   Column      Non-Null Count  Dtype         \n",
      "---  ------      --------------  -----         \n",
      " 0   LastName    8 non-null      object        \n",
      " 1   FirstName   8 non-null      object        \n",
      " 2   Title       8 non-null      object        \n",
      " 3   ReportsTo   7 non-null      float64       \n",
      " 4   BirthDate   8 non-null      datetime64[ns]\n",
      " 5   HireDate    8 non-null      datetime64[ns]\n",
      " 6   Address     8 non-null      object        \n",
      " 7   City        8 non-null      object        \n",
      " 8   State       8 non-null      object        \n",
      " 9   Country     8 non-null      object        \n",
      " 10  PostalCode  8 non-null      object        \n",
      " 11  Phone       8 non-null      object        \n",
      " 12  Fax         8 non-null      object        \n",
      " 13  Email       8 non-null      object        \n",
      "dtypes: datetime64[ns](2), float64(1), object(11)\n",
      "memory usage: 960.0+ bytes\n"
     ]
    }
   ],
   "source": [
    "df.info()"
   ]
  },
  {
   "cell_type": "markdown",
   "id": "2dd8d814",
   "metadata": {},
   "source": [
    "> **Advanced Querying:** Say, for each record in the \"Album\" table, we want to extract the \"Title\" along with the \"Name of the Artist\". The latter will come from the \"Artist\" table and so we will need to \"INNER JOIN\" these two tables on the \"ArtistID\" column of both."
   ]
  },
  {
   "cell_type": "code",
   "execution_count": 27,
   "id": "65474f15",
   "metadata": {},
   "outputs": [],
   "source": [
    "# the query is actually a combination of the following queries\n",
    "\n",
    "# a) SELECT * FROM Album INNER JOIN Artist on Artist.ArtistID = Album.ArtistID\n",
    "# This will pull all the informations from the Artist table and the Album table\n",
    "# where Artist.ArtistID == Album.ArtistID\n",
    "\n",
    "# b) SELECT Title, Name FROM X\n",
    "# This will select the Title and the Name (pulled from the Artist table) columns from the table X\n",
    "# (in this case the inner joined table from a)\n",
    "\n",
    "df_album_artist = pd.read_sql(\n",
    "    \"SELECT Title, Name FROM Album INNER JOIN Artist on Album.ArtistID = Artist.ArtistID\",\n",
    "    \"sqlite:///Data/Chinook.sqlite\",\n",
    ")"
   ]
  },
  {
   "cell_type": "code",
   "execution_count": 28,
   "id": "a7746cd2",
   "metadata": {},
   "outputs": [
    {
     "data": {
      "text/html": [
       "<div>\n",
       "<style scoped>\n",
       "    .dataframe tbody tr th:only-of-type {\n",
       "        vertical-align: middle;\n",
       "    }\n",
       "\n",
       "    .dataframe tbody tr th {\n",
       "        vertical-align: top;\n",
       "    }\n",
       "\n",
       "    .dataframe thead th {\n",
       "        text-align: right;\n",
       "    }\n",
       "</style>\n",
       "<table border=\"1\" class=\"dataframe\">\n",
       "  <thead>\n",
       "    <tr style=\"text-align: right;\">\n",
       "      <th></th>\n",
       "      <th>Title</th>\n",
       "      <th>Name</th>\n",
       "    </tr>\n",
       "  </thead>\n",
       "  <tbody>\n",
       "    <tr>\n",
       "      <th>0</th>\n",
       "      <td>For Those About To Rock We Salute You</td>\n",
       "      <td>AC/DC</td>\n",
       "    </tr>\n",
       "    <tr>\n",
       "      <th>1</th>\n",
       "      <td>Balls to the Wall</td>\n",
       "      <td>Accept</td>\n",
       "    </tr>\n",
       "    <tr>\n",
       "      <th>2</th>\n",
       "      <td>Restless and Wild</td>\n",
       "      <td>Accept</td>\n",
       "    </tr>\n",
       "    <tr>\n",
       "      <th>3</th>\n",
       "      <td>Let There Be Rock</td>\n",
       "      <td>AC/DC</td>\n",
       "    </tr>\n",
       "    <tr>\n",
       "      <th>4</th>\n",
       "      <td>Big Ones</td>\n",
       "      <td>Aerosmith</td>\n",
       "    </tr>\n",
       "    <tr>\n",
       "      <th>...</th>\n",
       "      <td>...</td>\n",
       "      <td>...</td>\n",
       "    </tr>\n",
       "    <tr>\n",
       "      <th>342</th>\n",
       "      <td>Respighi:Pines of Rome</td>\n",
       "      <td>Eugene Ormandy</td>\n",
       "    </tr>\n",
       "    <tr>\n",
       "      <th>343</th>\n",
       "      <td>Schubert: The Late String Quartets &amp; String Qu...</td>\n",
       "      <td>Emerson String Quartet</td>\n",
       "    </tr>\n",
       "    <tr>\n",
       "      <th>344</th>\n",
       "      <td>Monteverdi: L'Orfeo</td>\n",
       "      <td>C. Monteverdi, Nigel Rogers - Chiaroscuro; Lon...</td>\n",
       "    </tr>\n",
       "    <tr>\n",
       "      <th>345</th>\n",
       "      <td>Mozart: Chamber Music</td>\n",
       "      <td>Nash Ensemble</td>\n",
       "    </tr>\n",
       "    <tr>\n",
       "      <th>346</th>\n",
       "      <td>Koyaanisqatsi (Soundtrack from the Motion Pict...</td>\n",
       "      <td>Philip Glass Ensemble</td>\n",
       "    </tr>\n",
       "  </tbody>\n",
       "</table>\n",
       "<p>347 rows × 2 columns</p>\n",
       "</div>"
      ],
      "text/plain": [
       "                                                 Title  \\\n",
       "0                For Those About To Rock We Salute You   \n",
       "1                                    Balls to the Wall   \n",
       "2                                    Restless and Wild   \n",
       "3                                    Let There Be Rock   \n",
       "4                                             Big Ones   \n",
       "..                                                 ...   \n",
       "342                             Respighi:Pines of Rome   \n",
       "343  Schubert: The Late String Quartets & String Qu...   \n",
       "344                                Monteverdi: L'Orfeo   \n",
       "345                              Mozart: Chamber Music   \n",
       "346  Koyaanisqatsi (Soundtrack from the Motion Pict...   \n",
       "\n",
       "                                                  Name  \n",
       "0                                                AC/DC  \n",
       "1                                               Accept  \n",
       "2                                               Accept  \n",
       "3                                                AC/DC  \n",
       "4                                            Aerosmith  \n",
       "..                                                 ...  \n",
       "342                                     Eugene Ormandy  \n",
       "343                             Emerson String Quartet  \n",
       "344  C. Monteverdi, Nigel Rogers - Chiaroscuro; Lon...  \n",
       "345                                      Nash Ensemble  \n",
       "346                              Philip Glass Ensemble  \n",
       "\n",
       "[347 rows x 2 columns]"
      ]
     },
     "execution_count": 28,
     "metadata": {},
     "output_type": "execute_result"
    }
   ],
   "source": [
    "df_album_artist"
   ]
  },
  {
   "cell_type": "code",
   "execution_count": null,
   "id": "3ff9a4dc",
   "metadata": {},
   "outputs": [],
   "source": []
  },
  {
   "cell_type": "code",
   "execution_count": null,
   "id": "4896d5b1",
   "metadata": {},
   "outputs": [],
   "source": []
  }
 ],
 "metadata": {
  "kernelspec": {
   "display_name": "ml_intro",
   "language": "python",
   "name": "python3"
  },
  "language_info": {
   "codemirror_mode": {
    "name": "ipython",
    "version": 3
   },
   "file_extension": ".py",
   "mimetype": "text/x-python",
   "name": "python",
   "nbconvert_exporter": "python",
   "pygments_lexer": "ipython3",
   "version": "3.11.6"
  },
  "vscode": {
   "interpreter": {
    "hash": "c68b33fb54bb59552268eca97cce0a66d93ba1e1c3c0870be37ac7a47ccc96a3"
   }
  }
 },
 "nbformat": 4,
 "nbformat_minor": 5
}
