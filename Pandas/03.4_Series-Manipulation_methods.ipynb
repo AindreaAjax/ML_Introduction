{
 "cells": [
  {
   "cell_type": "markdown",
   "metadata": {},
   "source": [
    "**Table of contents**<a id='toc0_'></a>    \n",
    "- [Import Statements](#toc1_1_)    \n",
    "  - [Importing the data](#toc1_2_)    \n",
    "- [Manipulation methods](#toc2_)    \n",
    "    - [*The .`apply(func)` method: Applying a custom function to every element of a Series (also works on DataFrames)*](#toc2_1_1_)    \n",
    "    - [*The ``.where(cond, other)`` method: Replace values where the condition is false (with the value of 'other')*](#toc2_1_2_)    \n",
    "    - [*The `.clip(lower, upper)` method for handling **outliers***](#toc2_1_3_)    \n",
    "    - [*Binning Data: the `pd.cut(array_like, bins, labels, include_lowest=False)` and the `pd.qcut()` methods*](#toc2_1_4_)    \n",
    "    - [Some other useful methods](#toc2_1_5_)    \n",
    "\n",
    "<!-- vscode-jupyter-toc-config\n",
    "\tnumbering=false\n",
    "\tanchor=true\n",
    "\tflat=false\n",
    "\tminLevel=2\n",
    "\tmaxLevel=5\n",
    "\t/vscode-jupyter-toc-config -->\n",
    "<!-- THIS CELL WILL BE REPLACED ON TOC UPDATE. DO NOT WRITE YOUR TEXT IN THIS CELL -->"
   ]
  },
  {
   "cell_type": "markdown",
   "metadata": {},
   "source": [
    "**Read the official documentation on pandas Series objects @ https://pandas.pydata.org/pandas-docs/stable/reference/series.html**"
   ]
  },
  {
   "cell_type": "markdown",
   "metadata": {},
   "source": [
    "**`Note:`** We can actually use python built in functions on pandas series objects. i.e., **len, type, dir, in, sum, product, mean, sorted, max, min** etc.\n",
    "\n",
    "Also, the notion of **chaining functions/methods** in pandas is similar to that of python."
   ]
  },
  {
   "cell_type": "markdown",
   "metadata": {},
   "source": [
    "### <a id='toc1_1_'></a>[Import Statements](#toc0_)"
   ]
  },
  {
   "cell_type": "code",
   "execution_count": 1,
   "metadata": {},
   "outputs": [],
   "source": [
    "# import statements\n",
    "import numpy as np\n",
    "import pandas as pd"
   ]
  },
  {
   "cell_type": "markdown",
   "metadata": {},
   "source": [
    "### <a id='toc1_2_'></a>[Importing the data](#toc0_)"
   ]
  },
  {
   "cell_type": "markdown",
   "metadata": {},
   "source": [
    "One of the many datasets we will use for our examples in this notebook is the `/Data/vehicles.csv.zip` dataset."
   ]
  },
  {
   "cell_type": "code",
   "execution_count": 2,
   "metadata": {},
   "outputs": [
    {
     "name": "stderr",
     "output_type": "stream",
     "text": [
      "/tmp/ipykernel_98147/4195767653.py:2: DtypeWarning: Columns (68,70,71,72,73,74,76,79) have mixed types. Specify dtype option on import or set low_memory=False.\n",
      "  df = pd.read_csv(\"Data/vehicles.csv.zip\")\n"
     ]
    }
   ],
   "source": [
    "# read the vehicles.csv dataset\n",
    "df = pd.read_csv(\"Data/vehicles.csv.zip\")"
   ]
  },
  {
   "cell_type": "markdown",
   "metadata": {},
   "source": [
    "Columns of a dataframe can be accessed in various ways. One of which is to use the **dot i.e, ' . ' notation**."
   ]
  },
  {
   "cell_type": "code",
   "execution_count": 3,
   "metadata": {},
   "outputs": [],
   "source": [
    "# the city08 and highway08 columns from the vehicles.csv dataset provides information on\n",
    "# miles per gallon usage while driving around in the city and highway respectively.\n",
    "city_mpg = df.city08\n",
    "highway_mpg = df.highway08"
   ]
  },
  {
   "cell_type": "code",
   "execution_count": 4,
   "metadata": {},
   "outputs": [],
   "source": [
    "# The make in the vehicles dataset provides the manufacturer name (strings) and is stored as an object.\n",
    "manufac = df.make"
   ]
  },
  {
   "cell_type": "markdown",
   "metadata": {},
   "source": [
    "**Note:** The first thing we should do when we load in a dataset is to check the datatypes of each column and cast each of them to more suitable datatypes. This is to save space and speed up our code execution."
   ]
  },
  {
   "cell_type": "markdown",
   "metadata": {},
   "source": [
    "--------------------------"
   ]
  },
  {
   "cell_type": "markdown",
   "metadata": {},
   "source": [
    "## <a id='toc2_'></a>[Manipulation methods](#toc0_)"
   ]
  },
  {
   "cell_type": "markdown",
   "metadata": {},
   "source": [
    "----------------------------------"
   ]
  },
  {
   "cell_type": "markdown",
   "metadata": {},
   "source": [
    "When working on a dataset, usually the **most used** methods are some kind of manipulation methods. These are specially useful when we are cleaning up or exploring the dataset."
   ]
  },
  {
   "cell_type": "markdown",
   "metadata": {},
   "source": [
    "#### <a id='toc2_1_1_'></a>[*The .`apply(func)` method: Applying a custom function to every element of a Series (also works on DataFrames)*](#toc0_)"
   ]
  },
  {
   "cell_type": "markdown",
   "metadata": {},
   "source": [
    "The `apply(func)` method will call the `func` function on every element of a Series. "
   ]
  },
  {
   "cell_type": "markdown",
   "metadata": {},
   "source": [
    "This is **usually not wise to use** since this will dramatically increase the computation time. We already have a wide range of predefined pandas methods and functions for almost all the manipulation operations we can desire. But for some reason or other, if we can't find any suitable methods then we can define our own function and call it using the apply() method. **Note that,** we only need to pass in the name of the function and not call them."
   ]
  },
  {
   "cell_type": "code",
   "execution_count": 5,
   "metadata": {},
   "outputs": [],
   "source": [
    "# let's say, we only want to keep the top 5 manufacturers and replace other values with \"Other\" in the manufac Series"
   ]
  },
  {
   "cell_type": "code",
   "execution_count": 6,
   "metadata": {},
   "outputs": [],
   "source": [
    "# defining the custom manipulation function\n",
    "top_5_manufac = manufac.value_counts().index[0:5]\n",
    "\n",
    "\n",
    "def custom_manipulation(val):\n",
    "    if val in top_5_manufac:\n",
    "        return val\n",
    "    else:\n",
    "        return \"Other\""
   ]
  },
  {
   "cell_type": "code",
   "execution_count": 7,
   "metadata": {},
   "outputs": [
    {
     "name": "stdout",
     "output_type": "stream",
     "text": [
      "49.8 ms ± 3.9 ms per loop (mean ± std. dev. of 7 runs, 10 loops each)\n"
     ]
    }
   ],
   "source": [
    "%%timeit # magic functions needs to go at the top of the cell\n",
    "\n",
    "# applying the custom_manipulation function on manufac Series\n",
    "manufac.apply(custom_manipulation)"
   ]
  },
  {
   "cell_type": "code",
   "execution_count": 8,
   "metadata": {},
   "outputs": [],
   "source": [
    "cust_manufac = manufac.apply(custom_manipulation)"
   ]
  },
  {
   "cell_type": "code",
   "execution_count": 9,
   "metadata": {},
   "outputs": [
    {
     "data": {
      "text/plain": [
       "make\n",
       "Other        26622\n",
       "Chevrolet     4003\n",
       "Ford          3371\n",
       "Dodge         2583\n",
       "GMC           2494\n",
       "Toyota        2071\n",
       "Name: count, dtype: int64"
      ]
     },
     "execution_count": 9,
     "metadata": {},
     "output_type": "execute_result"
    }
   ],
   "source": [
    "cust_manufac.value_counts()"
   ]
  },
  {
   "cell_type": "markdown",
   "metadata": {},
   "source": [
    "#### <a id='toc2_1_2_'></a>[*The ``.where(cond, other)`` method: Replace values where the condition is false (with the value of 'other')*](#toc0_)"
   ]
  },
  {
   "cell_type": "markdown",
   "metadata": {},
   "source": [
    "This method **replaces values where the condition is False with corresponding value from 'other'**."
   ]
  },
  {
   "cell_type": "code",
   "execution_count": 10,
   "metadata": {},
   "outputs": [],
   "source": [
    "# if we were to do the same thing as the above example with where() method"
   ]
  },
  {
   "cell_type": "code",
   "execution_count": 11,
   "metadata": {},
   "outputs": [
    {
     "name": "stdout",
     "output_type": "stream",
     "text": [
      "2.39 ms ± 388 µs per loop (mean ± std. dev. of 7 runs, 100 loops each)\n"
     ]
    }
   ],
   "source": [
    "%%timeit\n",
    "# Series.isin(values) checks Whether elements in Series are contained in `values`\n",
    "manufac.where(cond=manufac.isin(top_5_manufac), other=\"Other\")"
   ]
  },
  {
   "cell_type": "markdown",
   "metadata": {},
   "source": [
    "As we can see, this is more than 10 times faster than the apply() approach."
   ]
  },
  {
   "cell_type": "markdown",
   "metadata": {},
   "source": [
    "- The `mask(cond, other)` method **replaces values where the condition is True with corresponding value from 'other'**. It is equivalent to: **where(~cond, other)**"
   ]
  },
  {
   "cell_type": "markdown",
   "metadata": {},
   "source": [
    "#### <a id='toc2_1_3_'></a>[*The `.clip(lower, upper)` method for handling **outliers***](#toc0_)"
   ]
  },
  {
   "cell_type": "markdown",
   "metadata": {},
   "source": [
    "This will **replace all values above the upper threshold with the upper value and all values lower than the lower threshold with the lower value.**"
   ]
  },
  {
   "cell_type": "markdown",
   "metadata": {},
   "source": [
    "Clipping is handy if you have outliers in your data. In the city_mpg series the values ranges from 6 to 150. But, there are only 16 vehicles with city_mpg > 130 and 39 vehicles with city_mpg < 8 out of the total 41144 vehicles. Say, we wanted to clip those entries, we can do that very easily with the clip method. Or say, we wanted to clip the values between the 5% quantile and 95% quantile. We could also do that very easily with the clip method. All this is to say that, this is a very handy tool to use in the right situations."
   ]
  },
  {
   "cell_type": "code",
   "execution_count": 12,
   "metadata": {},
   "outputs": [
    {
     "name": "stdout",
     "output_type": "stream",
     "text": [
      "True\n"
     ]
    },
    {
     "data": {
      "text/plain": [
       "min      8\n",
       "max    120\n",
       "Name: city08, dtype: int64"
      ]
     },
     "execution_count": 12,
     "metadata": {},
     "output_type": "execute_result"
    }
   ],
   "source": [
    "# in the first case\n",
    "city_mpg_clip = city_mpg.clip(lower=8, upper=120)\n",
    "\n",
    "# see that the values were replaced not dropped\n",
    "print(len(city_mpg) == len(city_mpg_clip))\n",
    "\n",
    "# Min and Max values of the city_mpg_clip\n",
    "city_mpg_clip.agg([\"min\", \"max\"])"
   ]
  },
  {
   "cell_type": "code",
   "execution_count": 13,
   "metadata": {},
   "outputs": [
    {
     "name": "stdout",
     "output_type": "stream",
     "text": [
      "5% Quantile:  11.0 \n",
      "95% Quantile:  27.0\n"
     ]
    },
    {
     "data": {
      "text/plain": [
       "min    11\n",
       "max    27\n",
       "Name: city08, dtype: int64"
      ]
     },
     "execution_count": 13,
     "metadata": {},
     "output_type": "execute_result"
    }
   ],
   "source": [
    "# in the second case\n",
    "quantile_5 = city_mpg.quantile(0.05)\n",
    "quantile_95 = city_mpg.quantile(0.95)\n",
    "\n",
    "city_mpg_clip_quantile = city_mpg.clip(lower=quantile_5, upper=quantile_95)\n",
    "\n",
    "print(\"5% Quantile: \", quantile_5, \"\\n95% Quantile: \", quantile_95)\n",
    "\n",
    "city_mpg_clip_quantile.agg([\"min\", \"max\"])"
   ]
  },
  {
   "cell_type": "markdown",
   "metadata": {},
   "source": [
    "#### <a id='toc2_1_4_'></a>[*Binning Data: the `pd.cut(array_like, bins, labels, include_lowest=False)` and the `pd.qcut()` methods*](#toc0_)"
   ]
  },
  {
   "cell_type": "markdown",
   "metadata": {},
   "source": [
    "As the name suggests, we can **categorize** our data values **into specific bins of predefined size** (by default, in a half open interval with lower limit excluded and upper limit included). \n",
    "\n",
    "By default, the **cut()** method will generate categories set to the half open interval but we can change this behaviour and define specific bin names with the labels argument. The **qcut()** method is used to generate bins using quantile values so that all the bins have roughly same amount of data. \n",
    "\n",
    "We can either define how many bins we want or, we can also define the bin sizes as a list."
   ]
  },
  {
   "cell_type": "code",
   "execution_count": 14,
   "metadata": {},
   "outputs": [],
   "source": [
    "manufac_val_count = manufac.value_counts()"
   ]
  },
  {
   "cell_type": "code",
   "execution_count": 15,
   "metadata": {},
   "outputs": [
    {
     "data": {
      "text/plain": [
       "make\n",
       "Chevrolet                                   Manufacturer for more than 3000 cars\n",
       "Ford                                        Manufacturer for more than 3000 cars\n",
       "Dodge                          Manufacturer for more than 2000 but less than ...\n",
       "GMC                            Manufacturer for more than 2000 but less than ...\n",
       "Toyota                         Manufacturer for more than 2000 but less than ...\n",
       "                                                     ...                        \n",
       "Volga Associated Automobile                  Manufacturer for less than 500 cars\n",
       "Panos                                        Manufacturer for less than 500 cars\n",
       "Mahindra                                     Manufacturer for less than 500 cars\n",
       "Excalibur Autos                              Manufacturer for less than 500 cars\n",
       "London Coach Co Inc                          Manufacturer for less than 500 cars\n",
       "Name: count, Length: 136, dtype: category\n",
       "Categories (5, object): ['Manufacturer for less than 500 cars' < 'Manufacturer for more than 500 but less than ... < 'Manufacturer for more than 1000 but less than... < 'Manufacturer for more than 2000 but less than... < 'Manufacturer for more than 3000 cars']"
      ]
     },
     "execution_count": 15,
     "metadata": {},
     "output_type": "execute_result"
    }
   ],
   "source": [
    "# definging bins by edges\n",
    "pd.cut(\n",
    "    manufac_val_count,\n",
    "    [0, 500, 1000, 2000, 3000, 5000],\n",
    "    labels=[\n",
    "        \"Manufacturer for less than 500 cars\",\n",
    "        \"Manufacturer for more than 500 but less than 1000 cars\",\n",
    "        \"Manufacturer for more than 1000 but less than 2000 cars\",\n",
    "        \"Manufacturer for more than 2000 but less than 3000 cars\",\n",
    "        \"Manufacturer for more than 3000 cars\",\n",
    "    ],\n",
    ")"
   ]
  },
  {
   "cell_type": "code",
   "execution_count": 16,
   "metadata": {},
   "outputs": [
    {
     "data": {
      "text/plain": [
       "make\n",
       "Chevrolet                      (965.0, 4003.0]\n",
       "Ford                           (965.0, 4003.0]\n",
       "Dodge                          (965.0, 4003.0]\n",
       "GMC                            (965.0, 4003.0]\n",
       "Toyota                         (965.0, 4003.0]\n",
       "                                    ...       \n",
       "Volga Associated Automobile       (0.999, 2.0]\n",
       "Panos                             (0.999, 2.0]\n",
       "Mahindra                          (0.999, 2.0]\n",
       "Excalibur Autos                   (0.999, 2.0]\n",
       "London Coach Co Inc               (0.999, 2.0]\n",
       "Name: count, Length: 136, dtype: category\n",
       "Categories (9, interval[float64, right]): [(0.999, 2.0] < (2.0, 3.0] < (3.0, 5.0] < (5.0, 13.0] ... (56.0, 151.5] < (151.5, 469.0] < (469.0, 965.0] < (965.0, 4003.0]]"
      ]
     },
     "execution_count": 16,
     "metadata": {},
     "output_type": "execute_result"
    }
   ],
   "source": [
    "# binning the data into 10 groups that have equal sized bins\n",
    "pd.qcut(manufac_val_count, 10, duplicates=\"drop\")"
   ]
  },
  {
   "cell_type": "markdown",
   "metadata": {},
   "source": [
    "#### <a id='toc2_1_5_'></a>[Some other useful methods](#toc0_)"
   ]
  },
  {
   "cell_type": "markdown",
   "metadata": {},
   "source": [
    "- The `sort_values()` method"
   ]
  },
  {
   "cell_type": "markdown",
   "metadata": {},
   "source": [
    "This method will **sort the values (by default in ascending order) and also rearrange the index accordingly.**"
   ]
  },
  {
   "cell_type": "markdown",
   "metadata": {},
   "source": [
    "**Note that**, because the indexes are rearranged i.e, index are aligned, we can still do math operations (and many other operations) on a sorted series."
   ]
  },
  {
   "cell_type": "code",
   "execution_count": 17,
   "metadata": {},
   "outputs": [
    {
     "data": {
      "text/plain": [
       "23231    9\n",
       "1979     9\n",
       "26858    9\n",
       "1990     9\n",
       "23176    9\n",
       "Name: highway08, dtype: int64"
      ]
     },
     "execution_count": 17,
     "metadata": {},
     "output_type": "execute_result"
    }
   ],
   "source": [
    "highway_mpg.sort_values().head()"
   ]
  },
  {
   "cell_type": "markdown",
   "metadata": {},
   "source": [
    "- The `sort_index()` method"
   ]
  },
  {
   "cell_type": "markdown",
   "metadata": {},
   "source": [
    "By default this method **will sort the indexes in ascending order**."
   ]
  },
  {
   "cell_type": "code",
   "execution_count": 18,
   "metadata": {},
   "outputs": [
    {
     "data": {
      "text/plain": [
       "41143    Subaru\n",
       "41142    Subaru\n",
       "41141    Subaru\n",
       "41140    Subaru\n",
       "41139    Subaru\n",
       "Name: make, dtype: object"
      ]
     },
     "execution_count": 18,
     "metadata": {},
     "output_type": "execute_result"
    }
   ],
   "source": [
    "manufac.sort_values().sort_index(ascending=False).head()"
   ]
  },
  {
   "cell_type": "markdown",
   "metadata": {},
   "source": [
    "- The `drop_duplicates()` method "
   ]
  },
  {
   "cell_type": "markdown",
   "metadata": {},
   "source": [
    "This will drop the rows with duplicate values. This mehtod has an argument called **keep**. By default its value is set to \"First\". If set to \"False\" it will remove all duplicated values including the initial value."
   ]
  },
  {
   "cell_type": "code",
   "execution_count": 19,
   "metadata": {},
   "outputs": [
    {
     "data": {
      "text/plain": [
       "602                      E. P. Dutton, Inc.\n",
       "1790                 Panoz Auto-Development\n",
       "6266                                  Qvale\n",
       "11033                Lambda Control Systems\n",
       "13553                   London Coach Co Inc\n",
       "16606                                Shelby\n",
       "19027         Import Foreign Auto Sales Inc\n",
       "19352    S and S Coach Company  E.p. Dutton\n",
       "19353      Superior Coaches Div E.p. Dutton\n",
       "19670                   Vixen Motor Company\n",
       "20657           Volga Associated Automobile\n",
       "20881                                 Panos\n",
       "21147                           London Taxi\n",
       "21443                       Excalibur Autos\n",
       "23115                              Mahindra\n",
       "24738                                Fisker\n",
       "25795                      ASC Incorporated\n",
       "32341                                 Karma\n",
       "32788                            Koenigsegg\n",
       "34303                       Aurora Cars Ltd\n",
       "34386                        RUF Automobile\n",
       "35193                   JBA Motorcars, Inc.\n",
       "35753             Grumman Allied Industries\n",
       "35874      Environmental Rsch and Devp Corp\n",
       "37130                        General Motors\n",
       "38335                              Goldacre\n",
       "39561                      Isis Imports Ltd\n",
       "Name: make, dtype: object"
      ]
     },
     "execution_count": 19,
     "metadata": {},
     "output_type": "execute_result"
    }
   ],
   "source": [
    "# manufacturers who have only one car listed on the data series\n",
    "manufac.drop_duplicates(keep=False)"
   ]
  },
  {
   "cell_type": "markdown",
   "metadata": {},
   "source": [
    "- Ranking the Values, the `rank(axis=0, method='average', ascending=True)` method"
   ]
  },
  {
   "cell_type": "code",
   "execution_count": 20,
   "metadata": {},
   "outputs": [],
   "source": [
    "# This method defines how to rank the records that have the same values (ties).\n",
    "# Available ranking methods are, ‘average’, ‘min’, ‘max’, ‘first’, ‘dense’. default = ‘average’."
   ]
  },
  {
   "cell_type": "code",
   "execution_count": 21,
   "metadata": {},
   "outputs": [
    {
     "data": {
      "text/plain": [
       "25615    41139.0\n",
       "34563    41139.0\n",
       "34564    41141.0\n",
       "32599    41142.0\n",
       "31256    41142.0\n",
       "33423    41142.0\n",
       "Name: city08, dtype: float64"
      ]
     },
     "execution_count": 21,
     "metadata": {},
     "output_type": "execute_result"
    }
   ],
   "source": [
    "# Ranking based on city_mpg\n",
    "city_mpg.rank(method=\"min\").sort_values().tail(6)"
   ]
  },
  {
   "cell_type": "markdown",
   "metadata": {},
   "source": [
    "- The `replace(to_replace, value, regex=False)` method"
   ]
  },
  {
   "cell_type": "markdown",
   "metadata": {},
   "source": [
    "Replace values given in `to_replace` with `value`. This differs from updating with `.loc` or `.iloc`, which require\n",
    "you to specify a location to update with some value."
   ]
  },
  {
   "cell_type": "markdown",
   "metadata": {},
   "source": [
    "This is a very **versetile and useful** method. To see its full functionality and usage example refer to the docs."
   ]
  },
  {
   "cell_type": "code",
   "execution_count": 22,
   "metadata": {},
   "outputs": [
    {
     "data": {
      "text/plain": [
       "0        Alfa Romeo\n",
       "1           Ferrari\n",
       "2             Dodge\n",
       "3             Dodge\n",
       "4          Subaru!!\n",
       "            ...    \n",
       "41139      Subaru!!\n",
       "41140      Subaru!!\n",
       "41141      Subaru!!\n",
       "41142      Subaru!!\n",
       "41143      Subaru!!\n",
       "Name: make, Length: 41144, dtype: object"
      ]
     },
     "execution_count": 22,
     "metadata": {},
     "output_type": "execute_result"
    }
   ],
   "source": [
    "manufac.replace(\"Subaru\", \"Subaru!!\")"
   ]
  },
  {
   "cell_type": "code",
   "execution_count": null,
   "metadata": {},
   "outputs": [],
   "source": []
  }
 ],
 "metadata": {
  "kernelspec": {
   "display_name": "ml_intro",
   "language": "python",
   "name": "python3"
  },
  "language_info": {
   "codemirror_mode": {
    "name": "ipython",
    "version": 3
   },
   "file_extension": ".py",
   "mimetype": "text/x-python",
   "name": "python",
   "nbconvert_exporter": "python",
   "pygments_lexer": "ipython3",
   "version": "3.11.6"
  },
  "orig_nbformat": 4
 },
 "nbformat": 4,
 "nbformat_minor": 2
}
