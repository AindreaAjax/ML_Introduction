{
 "cells": [
  {
   "cell_type": "markdown",
   "metadata": {},
   "source": [
    "**Table of contents**<a id='toc0_'></a>    \n",
    "- [Import Statements](#toc1_1_)    \n",
    "- [Importing the data](#toc1_2_)    \n",
    "- [Dealing with Missing and Duplicated Data](#toc2_)    \n",
    "  - [*Locating missing data*](#toc2_1_)    \n",
    "  - [*Handling missing values*](#toc2_2_)    \n",
    "  - [*Handling duplicate data*](#toc2_3_)    \n",
    "\n",
    "<!-- vscode-jupyter-toc-config\n",
    "\tnumbering=false\n",
    "\tanchor=true\n",
    "\tflat=false\n",
    "\tminLevel=2\n",
    "\tmaxLevel=5\n",
    "\t/vscode-jupyter-toc-config -->\n",
    "<!-- THIS CELL WILL BE REPLACED ON TOC UPDATE. DO NOT WRITE YOUR TEXT IN THIS CELL -->"
   ]
  },
  {
   "cell_type": "markdown",
   "metadata": {},
   "source": [
    "**Read the official documentation on pandas DataFrames @ https://pandas.pydata.org/pandas-docs/stable/reference/frame.html**"
   ]
  },
  {
   "cell_type": "markdown",
   "metadata": {},
   "source": [
    "**`Note:`** The notion of **chaining functions/methods** in pandas is similar to python."
   ]
  },
  {
   "cell_type": "markdown",
   "metadata": {},
   "source": [
    "DataFrames are **column oriented** unlike most common databases. And, **each column** in the dataframe is a **pandas series object**. So, any operation that can be performed on a pandas series object can be applied to a column too."
   ]
  },
  {
   "cell_type": "markdown",
   "metadata": {},
   "source": [
    "There are **two axes** for a dataframe commonly referred to as axis 0 and 1, or the **\"index\"** (or 'rows') axis and the **\"columns\"** axis respectively. Note that, when an **operation** is applied **along axis 0**, it is applied **down through all the rows for all the columns**. Likewise, operations **along axis 1** is applied **across the values in all the columns for all of the rows**."
   ]
  },
  {
   "cell_type": "markdown",
   "metadata": {},
   "source": [
    "### <a id='toc1_1_'></a>[Import Statements](#toc0_)"
   ]
  },
  {
   "cell_type": "code",
   "execution_count": 1,
   "metadata": {},
   "outputs": [],
   "source": [
    "# import statements\n",
    "import numpy as np\n",
    "import pandas as pd"
   ]
  },
  {
   "cell_type": "code",
   "execution_count": 2,
   "metadata": {},
   "outputs": [],
   "source": [
    "# view options\n",
    "pd.set_option(\"display.max_columns\", 14)\n",
    "pd.set_option(\"display.max_rows\", 8)"
   ]
  },
  {
   "cell_type": "markdown",
   "metadata": {},
   "source": [
    "### <a id='toc1_2_'></a>[Importing the data](#toc0_)"
   ]
  },
  {
   "cell_type": "markdown",
   "metadata": {},
   "source": [
    "- We will be exploring a dataset from a Siena College Poll in 2018. This data has rankings of United States Presidents in various attributes. These attributes are:"
   ]
  },
  {
   "cell_type": "code",
   "execution_count": 3,
   "metadata": {},
   "outputs": [],
   "source": [
    "siena_2018_cols = \"\"\"\n",
    "• Bg = Background\n",
    "• Im = Imagination\n",
    "• Int = Integrity\n",
    "• IQ = Intelligence\n",
    "• L = Luck\n",
    "• WR = Willing to take risks\n",
    "• AC = Ability to compromise\n",
    "• EAb = Executive ability\n",
    "• LA = Leadership ability\n",
    "• CAb = Communication ability\n",
    "• OA = Overall ability\n",
    "• PL = Party leadership\n",
    "• RC = Relations with Congress\n",
    "• CAp = Court appointments\n",
    "• HE = Handling of economy\n",
    "• EAp = Executive appointments\n",
    "• DA = Domestic accomplishments\n",
    "• FPA = Foreign policy accomplishments\n",
    "• AM = Avoid crucial mistakes\n",
    "• EV = Experts’ view\n",
    "• O = Overall\n",
    "\"\"\""
   ]
  },
  {
   "cell_type": "code",
   "execution_count": 4,
   "metadata": {},
   "outputs": [],
   "source": [
    "# reading from github url\n",
    "\n",
    "# it is a good practice to define your index column when reading the data file.\n",
    "# it is generally frowned upon if you don't have an index column\n",
    "\n",
    "url = \"https://github.com/mattharrison/datasets/raw/master/data/siena2018-pres.csv\"\n",
    "siena_2018 = pd.read_csv(url, index_col=0)"
   ]
  },
  {
   "cell_type": "code",
   "execution_count": 5,
   "metadata": {},
   "outputs": [
    {
     "data": {
      "text/html": [
       "<div>\n",
       "<style scoped>\n",
       "    .dataframe tbody tr th:only-of-type {\n",
       "        vertical-align: middle;\n",
       "    }\n",
       "\n",
       "    .dataframe tbody tr th {\n",
       "        vertical-align: top;\n",
       "    }\n",
       "\n",
       "    .dataframe thead th {\n",
       "        text-align: right;\n",
       "    }\n",
       "</style>\n",
       "<table border=\"1\" class=\"dataframe\">\n",
       "  <thead>\n",
       "    <tr style=\"text-align: right;\">\n",
       "      <th></th>\n",
       "      <th>Seq.</th>\n",
       "      <th>President</th>\n",
       "      <th>Party</th>\n",
       "      <th>Bg</th>\n",
       "      <th>Im</th>\n",
       "      <th>Int</th>\n",
       "      <th>IQ</th>\n",
       "      <th>...</th>\n",
       "      <th>HE</th>\n",
       "      <th>EAp</th>\n",
       "      <th>DA</th>\n",
       "      <th>FPA</th>\n",
       "      <th>AM</th>\n",
       "      <th>EV</th>\n",
       "      <th>O</th>\n",
       "    </tr>\n",
       "  </thead>\n",
       "  <tbody>\n",
       "    <tr>\n",
       "      <th>1</th>\n",
       "      <td>1</td>\n",
       "      <td>George Washington</td>\n",
       "      <td>Independent</td>\n",
       "      <td>7</td>\n",
       "      <td>7</td>\n",
       "      <td>1</td>\n",
       "      <td>10</td>\n",
       "      <td>...</td>\n",
       "      <td>1</td>\n",
       "      <td>1</td>\n",
       "      <td>2</td>\n",
       "      <td>2</td>\n",
       "      <td>1</td>\n",
       "      <td>2</td>\n",
       "      <td>1</td>\n",
       "    </tr>\n",
       "    <tr>\n",
       "      <th>2</th>\n",
       "      <td>2</td>\n",
       "      <td>John Adams</td>\n",
       "      <td>Federalist</td>\n",
       "      <td>3</td>\n",
       "      <td>13</td>\n",
       "      <td>4</td>\n",
       "      <td>4</td>\n",
       "      <td>...</td>\n",
       "      <td>13</td>\n",
       "      <td>15</td>\n",
       "      <td>19</td>\n",
       "      <td>13</td>\n",
       "      <td>16</td>\n",
       "      <td>10</td>\n",
       "      <td>14</td>\n",
       "    </tr>\n",
       "    <tr>\n",
       "      <th>3</th>\n",
       "      <td>3</td>\n",
       "      <td>Thomas Jefferson</td>\n",
       "      <td>Democratic-Republican</td>\n",
       "      <td>2</td>\n",
       "      <td>2</td>\n",
       "      <td>14</td>\n",
       "      <td>1</td>\n",
       "      <td>...</td>\n",
       "      <td>20</td>\n",
       "      <td>4</td>\n",
       "      <td>6</td>\n",
       "      <td>9</td>\n",
       "      <td>7</td>\n",
       "      <td>5</td>\n",
       "      <td>5</td>\n",
       "    </tr>\n",
       "  </tbody>\n",
       "</table>\n",
       "<p>3 rows × 24 columns</p>\n",
       "</div>"
      ],
      "text/plain": [
       "  Seq.          President                  Party  Bg  Im  Int  IQ  ...  HE  \\\n",
       "1    1  George Washington            Independent   7   7    1  10  ...   1   \n",
       "2    2         John Adams             Federalist   3  13    4   4  ...  13   \n",
       "3    3   Thomas Jefferson  Democratic-Republican   2   2   14   1  ...  20   \n",
       "\n",
       "   EAp  DA  FPA  AM  EV   O  \n",
       "1    1   2    2   1   2   1  \n",
       "2   15  19   13  16  10  14  \n",
       "3    4   6    9   7   5   5  \n",
       "\n",
       "[3 rows x 24 columns]"
      ]
     },
     "execution_count": 5,
     "metadata": {},
     "output_type": "execute_result"
    }
   ],
   "source": [
    "siena_2018.head(3)"
   ]
  },
  {
   "cell_type": "code",
   "execution_count": 6,
   "metadata": {},
   "outputs": [
    {
     "name": "stdout",
     "output_type": "stream",
     "text": [
      "<class 'pandas.core.frame.DataFrame'>\n",
      "Index: 44 entries, 1 to 44\n",
      "Data columns (total 24 columns):\n",
      " #   Column     Non-Null Count  Dtype \n",
      "---  ------     --------------  ----- \n",
      " 0   Seq.       44 non-null     object\n",
      " 1   President  44 non-null     object\n",
      " 2   Party      44 non-null     object\n",
      " 3   Bg         44 non-null     int64 \n",
      " 4   Im         44 non-null     int64 \n",
      " 5   Int        44 non-null     int64 \n",
      " 6   IQ         44 non-null     int64 \n",
      " 7   L          44 non-null     int64 \n",
      " 8   WR         44 non-null     int64 \n",
      " 9   AC         44 non-null     int64 \n",
      " 10  EAb        44 non-null     int64 \n",
      " 11  LA         44 non-null     int64 \n",
      " 12  CAb        44 non-null     int64 \n",
      " 13  OA         44 non-null     int64 \n",
      " 14  PL         44 non-null     int64 \n",
      " 15  RC         44 non-null     int64 \n",
      " 16  CAp        44 non-null     int64 \n",
      " 17  HE         44 non-null     int64 \n",
      " 18  EAp        44 non-null     int64 \n",
      " 19  DA         44 non-null     int64 \n",
      " 20  FPA        44 non-null     int64 \n",
      " 21  AM         44 non-null     int64 \n",
      " 22  EV         44 non-null     int64 \n",
      " 23  O          44 non-null     int64 \n",
      "dtypes: int64(21), object(3)\n",
      "memory usage: 8.6+ KB\n"
     ]
    }
   ],
   "source": [
    "# this will print all the column names, number of non null values in each column and the datatype of that column\n",
    "siena_2018.info()"
   ]
  },
  {
   "cell_type": "code",
   "execution_count": 7,
   "metadata": {},
   "outputs": [],
   "source": [
    "# Datatype casting and renaming the columns\n",
    "cols_list = [\n",
    "    col.strip().split(\"=\") for col in siena_2018_cols.strip().split(sep=\"•\")[1:]\n",
    "]\n",
    "\n",
    "# we will replace the spaces in the full form with underscores (_)\n",
    "siena_2018_cols_dict = {\n",
    "    col_prev.strip(): col_full.strip().replace(\" \", \"_\")\n",
    "    for col_prev, col_full in cols_list\n",
    "}\n",
    "siena_2018 = siena_2018.rename(columns={\"Seq.\": \"Seq\"}).rename(\n",
    "    columns=siena_2018_cols_dict\n",
    ")\n",
    "siena_2018 = siena_2018.astype({\"Party\": \"category\"})\n",
    "siena_2018 = siena_2018.astype(\n",
    "    {col_name: \"uint8\" for col_name in siena_2018.select_dtypes(\"int64\").columns}\n",
    ")\n",
    "siena_2018 = siena_2018.assign(\n",
    "    Average_rank=siena_2018.loc[:, \"Background\":\"Experts’_view\"]\n",
    "    .sum(axis=1)\n",
    "    .rank(method=\"dense\")\n",
    "    .astype(\"uint8\"),\n",
    "    Quartile_rank=lambda df_: pd.qcut(\n",
    "        df_.Average_rank, 4, labels=[\"1st\", \"2nd\", \"3rd\", \"4th\"]\n",
    "    ),\n",
    ")"
   ]
  },
  {
   "cell_type": "markdown",
   "metadata": {},
   "source": [
    "--------------------------------------------"
   ]
  },
  {
   "cell_type": "markdown",
   "metadata": {},
   "source": [
    "## <a id='toc2_'></a>[Dealing with Missing and Duplicated Data](#toc0_)"
   ]
  },
  {
   "cell_type": "markdown",
   "metadata": {},
   "source": [
    "----------------------------------------------"
   ]
  },
  {
   "cell_type": "markdown",
   "metadata": {},
   "source": [
    "### <a id='toc2_1_'></a>[*Locating missing data*](#toc0_)"
   ]
  },
  {
   "cell_type": "markdown",
   "metadata": {},
   "source": [
    "- The `.isna()` method"
   ]
  },
  {
   "cell_type": "markdown",
   "metadata": {},
   "source": [
    "Works similarly to series.isna() method. Returns a Boolean dataframe when used with dataframes.  "
   ]
  },
  {
   "cell_type": "code",
   "execution_count": 8,
   "metadata": {},
   "outputs": [
    {
     "data": {
      "text/html": [
       "<div>\n",
       "<style scoped>\n",
       "    .dataframe tbody tr th:only-of-type {\n",
       "        vertical-align: middle;\n",
       "    }\n",
       "\n",
       "    .dataframe tbody tr th {\n",
       "        vertical-align: top;\n",
       "    }\n",
       "\n",
       "    .dataframe thead th {\n",
       "        text-align: right;\n",
       "    }\n",
       "</style>\n",
       "<table border=\"1\" class=\"dataframe\">\n",
       "  <thead>\n",
       "    <tr style=\"text-align: right;\">\n",
       "      <th></th>\n",
       "      <th>Seq</th>\n",
       "      <th>President</th>\n",
       "      <th>Party</th>\n",
       "      <th>Background</th>\n",
       "      <th>Imagination</th>\n",
       "      <th>Integrity</th>\n",
       "      <th>Intelligence</th>\n",
       "      <th>...</th>\n",
       "      <th>Domestic_accomplishments</th>\n",
       "      <th>Foreign_policy_accomplishments</th>\n",
       "      <th>Avoid_crucial_mistakes</th>\n",
       "      <th>Experts’_view</th>\n",
       "      <th>Overall</th>\n",
       "      <th>Average_rank</th>\n",
       "      <th>Quartile_rank</th>\n",
       "    </tr>\n",
       "  </thead>\n",
       "  <tbody>\n",
       "    <tr>\n",
       "      <th>1</th>\n",
       "      <td>False</td>\n",
       "      <td>False</td>\n",
       "      <td>False</td>\n",
       "      <td>False</td>\n",
       "      <td>False</td>\n",
       "      <td>False</td>\n",
       "      <td>False</td>\n",
       "      <td>...</td>\n",
       "      <td>False</td>\n",
       "      <td>False</td>\n",
       "      <td>False</td>\n",
       "      <td>False</td>\n",
       "      <td>False</td>\n",
       "      <td>False</td>\n",
       "      <td>False</td>\n",
       "    </tr>\n",
       "    <tr>\n",
       "      <th>2</th>\n",
       "      <td>False</td>\n",
       "      <td>False</td>\n",
       "      <td>False</td>\n",
       "      <td>False</td>\n",
       "      <td>False</td>\n",
       "      <td>False</td>\n",
       "      <td>False</td>\n",
       "      <td>...</td>\n",
       "      <td>False</td>\n",
       "      <td>False</td>\n",
       "      <td>False</td>\n",
       "      <td>False</td>\n",
       "      <td>False</td>\n",
       "      <td>False</td>\n",
       "      <td>False</td>\n",
       "    </tr>\n",
       "    <tr>\n",
       "      <th>3</th>\n",
       "      <td>False</td>\n",
       "      <td>False</td>\n",
       "      <td>False</td>\n",
       "      <td>False</td>\n",
       "      <td>False</td>\n",
       "      <td>False</td>\n",
       "      <td>False</td>\n",
       "      <td>...</td>\n",
       "      <td>False</td>\n",
       "      <td>False</td>\n",
       "      <td>False</td>\n",
       "      <td>False</td>\n",
       "      <td>False</td>\n",
       "      <td>False</td>\n",
       "      <td>False</td>\n",
       "    </tr>\n",
       "    <tr>\n",
       "      <th>4</th>\n",
       "      <td>False</td>\n",
       "      <td>False</td>\n",
       "      <td>False</td>\n",
       "      <td>False</td>\n",
       "      <td>False</td>\n",
       "      <td>False</td>\n",
       "      <td>False</td>\n",
       "      <td>...</td>\n",
       "      <td>False</td>\n",
       "      <td>False</td>\n",
       "      <td>False</td>\n",
       "      <td>False</td>\n",
       "      <td>False</td>\n",
       "      <td>False</td>\n",
       "      <td>False</td>\n",
       "    </tr>\n",
       "    <tr>\n",
       "      <th>...</th>\n",
       "      <td>...</td>\n",
       "      <td>...</td>\n",
       "      <td>...</td>\n",
       "      <td>...</td>\n",
       "      <td>...</td>\n",
       "      <td>...</td>\n",
       "      <td>...</td>\n",
       "      <td>...</td>\n",
       "      <td>...</td>\n",
       "      <td>...</td>\n",
       "      <td>...</td>\n",
       "      <td>...</td>\n",
       "      <td>...</td>\n",
       "      <td>...</td>\n",
       "      <td>...</td>\n",
       "    </tr>\n",
       "    <tr>\n",
       "      <th>41</th>\n",
       "      <td>False</td>\n",
       "      <td>False</td>\n",
       "      <td>False</td>\n",
       "      <td>False</td>\n",
       "      <td>False</td>\n",
       "      <td>False</td>\n",
       "      <td>False</td>\n",
       "      <td>...</td>\n",
       "      <td>False</td>\n",
       "      <td>False</td>\n",
       "      <td>False</td>\n",
       "      <td>False</td>\n",
       "      <td>False</td>\n",
       "      <td>False</td>\n",
       "      <td>False</td>\n",
       "    </tr>\n",
       "    <tr>\n",
       "      <th>42</th>\n",
       "      <td>False</td>\n",
       "      <td>False</td>\n",
       "      <td>False</td>\n",
       "      <td>False</td>\n",
       "      <td>False</td>\n",
       "      <td>False</td>\n",
       "      <td>False</td>\n",
       "      <td>...</td>\n",
       "      <td>False</td>\n",
       "      <td>False</td>\n",
       "      <td>False</td>\n",
       "      <td>False</td>\n",
       "      <td>False</td>\n",
       "      <td>False</td>\n",
       "      <td>False</td>\n",
       "    </tr>\n",
       "    <tr>\n",
       "      <th>43</th>\n",
       "      <td>False</td>\n",
       "      <td>False</td>\n",
       "      <td>False</td>\n",
       "      <td>False</td>\n",
       "      <td>False</td>\n",
       "      <td>False</td>\n",
       "      <td>False</td>\n",
       "      <td>...</td>\n",
       "      <td>False</td>\n",
       "      <td>False</td>\n",
       "      <td>False</td>\n",
       "      <td>False</td>\n",
       "      <td>False</td>\n",
       "      <td>False</td>\n",
       "      <td>False</td>\n",
       "    </tr>\n",
       "    <tr>\n",
       "      <th>44</th>\n",
       "      <td>False</td>\n",
       "      <td>False</td>\n",
       "      <td>False</td>\n",
       "      <td>False</td>\n",
       "      <td>False</td>\n",
       "      <td>False</td>\n",
       "      <td>False</td>\n",
       "      <td>...</td>\n",
       "      <td>False</td>\n",
       "      <td>False</td>\n",
       "      <td>False</td>\n",
       "      <td>False</td>\n",
       "      <td>False</td>\n",
       "      <td>False</td>\n",
       "      <td>False</td>\n",
       "    </tr>\n",
       "  </tbody>\n",
       "</table>\n",
       "<p>44 rows × 26 columns</p>\n",
       "</div>"
      ],
      "text/plain": [
       "      Seq  President  Party  Background  Imagination  Integrity  Intelligence  \\\n",
       "1   False      False  False       False        False      False         False   \n",
       "2   False      False  False       False        False      False         False   \n",
       "3   False      False  False       False        False      False         False   \n",
       "4   False      False  False       False        False      False         False   \n",
       "..    ...        ...    ...         ...          ...        ...           ...   \n",
       "41  False      False  False       False        False      False         False   \n",
       "42  False      False  False       False        False      False         False   \n",
       "43  False      False  False       False        False      False         False   \n",
       "44  False      False  False       False        False      False         False   \n",
       "\n",
       "    ...  Domestic_accomplishments  Foreign_policy_accomplishments  \\\n",
       "1   ...                     False                           False   \n",
       "2   ...                     False                           False   \n",
       "3   ...                     False                           False   \n",
       "4   ...                     False                           False   \n",
       "..  ...                       ...                             ...   \n",
       "41  ...                     False                           False   \n",
       "42  ...                     False                           False   \n",
       "43  ...                     False                           False   \n",
       "44  ...                     False                           False   \n",
       "\n",
       "    Avoid_crucial_mistakes  Experts’_view  Overall  Average_rank  \\\n",
       "1                    False          False    False         False   \n",
       "2                    False          False    False         False   \n",
       "3                    False          False    False         False   \n",
       "4                    False          False    False         False   \n",
       "..                     ...            ...      ...           ...   \n",
       "41                   False          False    False         False   \n",
       "42                   False          False    False         False   \n",
       "43                   False          False    False         False   \n",
       "44                   False          False    False         False   \n",
       "\n",
       "    Quartile_rank  \n",
       "1           False  \n",
       "2           False  \n",
       "3           False  \n",
       "4           False  \n",
       "..            ...  \n",
       "41          False  \n",
       "42          False  \n",
       "43          False  \n",
       "44          False  \n",
       "\n",
       "[44 rows x 26 columns]"
      ]
     },
     "execution_count": 8,
     "metadata": {},
     "output_type": "execute_result"
    }
   ],
   "source": [
    "siena_2018.isna()"
   ]
  },
  {
   "cell_type": "markdown",
   "metadata": {},
   "source": [
    "We can use other methods such as **.any(), .all() etc.** in combination with the .isna() method to see whether there are any data at all missing from a column or whether all data in a column is Nan type etc."
   ]
  },
  {
   "cell_type": "code",
   "execution_count": 9,
   "metadata": {},
   "outputs": [
    {
     "data": {
      "text/plain": [
       "Seq              False\n",
       "President        False\n",
       "Party            False\n",
       "Background       False\n",
       "                 ...  \n",
       "Experts’_view    False\n",
       "Overall          False\n",
       "Average_rank     False\n",
       "Quartile_rank    False\n",
       "Length: 26, dtype: bool"
      ]
     },
     "execution_count": 9,
     "metadata": {},
     "output_type": "execute_result"
    }
   ],
   "source": [
    "siena_2018.isna().any()"
   ]
  },
  {
   "cell_type": "markdown",
   "metadata": {},
   "source": [
    "To `count` how many data rows are `missing` from a particular column we can use the **df.isna().sum()**."
   ]
  },
  {
   "cell_type": "code",
   "execution_count": 10,
   "metadata": {},
   "outputs": [
    {
     "data": {
      "text/plain": [
       "Seq              0\n",
       "President        0\n",
       "Party            0\n",
       "Background       0\n",
       "                ..\n",
       "Experts’_view    0\n",
       "Overall          0\n",
       "Average_rank     0\n",
       "Quartile_rank    0\n",
       "Length: 26, dtype: int64"
      ]
     },
     "execution_count": 10,
     "metadata": {},
     "output_type": "execute_result"
    }
   ],
   "source": [
    "siena_2018.isna().sum()"
   ]
  },
  {
   "cell_type": "markdown",
   "metadata": {},
   "source": [
    "To see what `percentage` of the data in a column is missing we can use something like, **df.isna().mean().mul(100)**."
   ]
  },
  {
   "cell_type": "code",
   "execution_count": 11,
   "metadata": {},
   "outputs": [
    {
     "data": {
      "text/plain": [
       "Seq              0.0\n",
       "President        0.0\n",
       "Party            0.0\n",
       "Background       0.0\n",
       "                ... \n",
       "Experts’_view    0.0\n",
       "Overall          0.0\n",
       "Average_rank     0.0\n",
       "Quartile_rank    0.0\n",
       "Length: 26, dtype: float64"
      ]
     },
     "execution_count": 11,
     "metadata": {},
     "output_type": "execute_result"
    }
   ],
   "source": [
    "siena_2018.isna().mean().mul(100)"
   ]
  },
  {
   "cell_type": "markdown",
   "metadata": {},
   "source": [
    "### <a id='toc2_2_'></a>[*Handling missing values*](#toc0_)"
   ]
  },
  {
   "cell_type": "markdown",
   "metadata": {},
   "source": [
    "- The `.dropna(subset)` method "
   ]
  },
  {
   "cell_type": "markdown",
   "metadata": {},
   "source": [
    "We can use the good old .dropna() method to drop the rows with missing values. But note that, when using with dataframe, .dropna() will only drop the rows if it has Nan values in all the columns. To specify otherwise i.e, what columns to look at when dropping rows, **we can feed the subset parameter a list of column names (that we want it to look at for dropping Nan values)**."
   ]
  },
  {
   "cell_type": "markdown",
   "metadata": {},
   "source": [
    "- The `.fillna()` method"
   ]
  },
  {
   "cell_type": "markdown",
   "metadata": {},
   "source": [
    "We can also use the .fillna() method to fill in the missing value. We can also define the filling method e.g, `ffill`, `bfill` etc. This method also takes a `value parameter` (value: scalar, dict, Series, or DataFrame) which will be used to fill the Nan values if specified. The **.mean(), .median(), .mode()** etc methods may come in handy when defining the value paramether."
   ]
  },
  {
   "cell_type": "markdown",
   "metadata": {},
   "source": [
    "- The `.interpolate()` method"
   ]
  },
  {
   "cell_type": "markdown",
   "metadata": {},
   "source": [
    "This will replace Nan values with interpolation of the values around the missing value. This method comes in very handy when dealing with ordered data such as time series data."
   ]
  },
  {
   "cell_type": "markdown",
   "metadata": {},
   "source": [
    "- The `.where(cond, other)` method"
   ]
  },
  {
   "cell_type": "markdown",
   "metadata": {},
   "source": [
    "Although not specific for handling missing values but this method is a powerful one for doing just that. This method **replaces values where the condition is False with corresponding value from 'other'**."
   ]
  },
  {
   "cell_type": "markdown",
   "metadata": {},
   "source": [
    "- The `.mask(cond, other)` method"
   ]
  },
  {
   "cell_type": "markdown",
   "metadata": {},
   "source": [
    "Opposite of the .where() method in the sense that, this method will replace values **where the condition is True** with the corresponding value from 'other'. Equivalent to, **.where(~cond, other)**."
   ]
  },
  {
   "cell_type": "markdown",
   "metadata": {},
   "source": [
    "**`CAUTION:`** The data in each column of a dataframe usually represents different things. Thus applying methods such as .dropna(), .fillna(), .interpolate() is not logical and will bring no good (this is like, using a spoon for woodworking).\n",
    "\n",
    "**So, the best approach is to treat each column differently as a separate series object, clean them, modify them and then adding/replacing them in a datafrmae using the .assign() method.**"
   ]
  },
  {
   "cell_type": "markdown",
   "metadata": {},
   "source": [
    "### <a id='toc2_3_'></a>[*Handling duplicate data*](#toc0_)"
   ]
  },
  {
   "cell_type": "markdown",
   "metadata": {},
   "source": [
    "- The `.duplicated(subset, keep)` method will return a boolean Series denoting duplicate rows\n",
    "\n",
    "    - subset : column label or sequence of labels, optional. Only consider certain columns for identifying duplicates, by default uses all of the columns.\n",
    "\n",
    "    - keep : {'first', 'last', False}. Determines which duplicates (if any) to mark.\n",
    "\n",
    "        - first (default) : Mark duplicates as True except for the first occurrence.\n",
    "        - last : Mark duplicates as True except for the last occurrence.\n",
    "        - False : Mark all duplicates as True.\n"
   ]
  },
  {
   "cell_type": "markdown",
   "metadata": {},
   "source": [
    "- The `.drop_duplicates(subset=None,keep='first', ignore_index=False)` method"
   ]
  },
  {
   "cell_type": "markdown",
   "metadata": {},
   "source": [
    "If called without any parameters, it will drop only the rows that are complete copy of each other. The subset parameter lets us specify which columns to check when checking for duplicates."
   ]
  },
  {
   "cell_type": "code",
   "execution_count": null,
   "metadata": {},
   "outputs": [],
   "source": []
  }
 ],
 "metadata": {
  "kernelspec": {
   "display_name": "ml_intro",
   "language": "python",
   "name": "python3"
  },
  "language_info": {
   "codemirror_mode": {
    "name": "ipython",
    "version": 3
   },
   "file_extension": ".py",
   "mimetype": "text/x-python",
   "name": "python",
   "nbconvert_exporter": "python",
   "pygments_lexer": "ipython3",
   "version": "3.11.4"
  },
  "orig_nbformat": 4
 },
 "nbformat": 4,
 "nbformat_minor": 2
}
