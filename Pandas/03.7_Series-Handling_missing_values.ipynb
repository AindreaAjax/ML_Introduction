{
 "cells": [
  {
   "cell_type": "markdown",
   "id": "027c8464",
   "metadata": {},
   "source": [
    "**Table of contents**<a id='toc0_'></a>    \n",
    "- [Import Statements](#toc1_1_)    \n",
    "  - [Importing the data](#toc1_2_)    \n",
    "- [Missing values and How to handle them](#toc2_)    \n",
    "  - [_Handling missing values_](#toc2_1_)    \n",
    "\n",
    "<!-- vscode-jupyter-toc-config\n",
    "\tnumbering=false\n",
    "\tanchor=true\n",
    "\tflat=false\n",
    "\tminLevel=2\n",
    "\tmaxLevel=5\n",
    "\t/vscode-jupyter-toc-config -->\n",
    "<!-- THIS CELL WILL BE REPLACED ON TOC UPDATE. DO NOT WRITE YOUR TEXT IN THIS CELL -->"
   ]
  },
  {
   "cell_type": "markdown",
   "id": "4f1160b2",
   "metadata": {},
   "source": [
    "**Read the official documentation on pandas Series objects @ https://pandas.pydata.org/pandas-docs/stable/reference/series.html**"
   ]
  },
  {
   "cell_type": "markdown",
   "id": "1ce84d6b",
   "metadata": {},
   "source": [
    "**`Note:`** We can actually use python built in functions on pandas series objects. i.e., **len, type, dir, in, sum, product, mean, sorted, max, min** etc.\n",
    "\n",
    "Also, the notion of **chaining functions/methods** in pandas is similar to python."
   ]
  },
  {
   "cell_type": "markdown",
   "metadata": {},
   "source": [
    "### <a id='toc1_1_'></a>[Import Statements](#toc0_)"
   ]
  },
  {
   "cell_type": "code",
   "execution_count": 1,
   "id": "dbef65af",
   "metadata": {},
   "outputs": [],
   "source": [
    "# import statements\n",
    "import numpy as np\n",
    "import pandas as pd"
   ]
  },
  {
   "cell_type": "markdown",
   "metadata": {},
   "source": [
    "### <a id='toc1_2_'></a>[Importing the data](#toc0_)"
   ]
  },
  {
   "cell_type": "markdown",
   "id": "21d93fe4",
   "metadata": {},
   "source": [
    "One of the many datasets we will use for our examples in this notebook is the `/Data/vehicles.csv.zip` dataset."
   ]
  },
  {
   "cell_type": "code",
   "execution_count": 2,
   "id": "d2ebfe2d",
   "metadata": {},
   "outputs": [
    {
     "name": "stderr",
     "output_type": "stream",
     "text": [
      "/tmp/ipykernel_94464/4195767653.py:2: DtypeWarning: Columns (68,70,71,72,73,74,76,79) have mixed types. Specify dtype option on import or set low_memory=False.\n",
      "  df = pd.read_csv(\"Data/vehicles.csv.zip\")\n"
     ]
    }
   ],
   "source": [
    "# read the vehicles.csv dataset\n",
    "df = pd.read_csv(\"Data/vehicles.csv.zip\")"
   ]
  },
  {
   "cell_type": "markdown",
   "id": "bff4cfa0",
   "metadata": {},
   "source": [
    "Columns of a dataframe can be accessed in various ways. One of which is to use the **dot i.e, ' . ' notation**."
   ]
  },
  {
   "cell_type": "code",
   "execution_count": 3,
   "id": "4b4cf6de",
   "metadata": {},
   "outputs": [],
   "source": [
    "# the city08 and highway08 columns from the vehicles.csv dataset provides information on\n",
    "# miles per gallon usage while driving around in the city and highway respectively.\n",
    "city_mpg = df.city08\n",
    "highway_mpg = df.highway08"
   ]
  },
  {
   "cell_type": "code",
   "execution_count": 4,
   "id": "4053f596",
   "metadata": {},
   "outputs": [],
   "source": [
    "# The make in the vehicles dataset provides the manufacturer name (strings) and is stored as an object.\n",
    "manufac = df.make"
   ]
  },
  {
   "cell_type": "markdown",
   "id": "1b5ce7ab",
   "metadata": {},
   "source": [
    "**Note:** The first thing we should do when we load in a dataset is to check the datatypes of each column and cast each of them to more suitable datatypes. This is to save space and speed up our code execution."
   ]
  },
  {
   "cell_type": "markdown",
   "id": "7031d472",
   "metadata": {},
   "source": [
    "------------------------------------"
   ]
  },
  {
   "cell_type": "markdown",
   "metadata": {},
   "source": [
    "## <a id='toc2_'></a>[Missing values and How to handle them](#toc0_)"
   ]
  },
  {
   "cell_type": "markdown",
   "id": "556029b9",
   "metadata": {},
   "source": [
    "------------------------------"
   ]
  },
  {
   "cell_type": "code",
   "execution_count": 5,
   "id": "362bddd5-f04f-4878-a32c-915b9b94b316",
   "metadata": {},
   "outputs": [],
   "source": [
    "# The cylinders column has missing values\n",
    "cylinders = df.cylinders"
   ]
  },
  {
   "attachments": {},
   "cell_type": "markdown",
   "id": "fa5262fb-5161-420b-8ee1-2e20909befc7",
   "metadata": {},
   "source": [
    "> **Counting the total number of missing values**"
   ]
  },
  {
   "attachments": {},
   "cell_type": "markdown",
   "id": "17650798-bae8-4fce-a57d-91b1b6e36824",
   "metadata": {},
   "source": [
    "The `series.isna()` function detects missing values. An interesting characteristic of the **sum()** method is that it treats **True as 1 and False as 0**. This property can be used to count the number of missing values."
   ]
  },
  {
   "cell_type": "code",
   "execution_count": 6,
   "id": "314bbaa0-18ce-457c-a078-36cbcebc444c",
   "metadata": {},
   "outputs": [
    {
     "data": {
      "text/plain": [
       "206"
      ]
     },
     "execution_count": 6,
     "metadata": {},
     "output_type": "execute_result"
    }
   ],
   "source": [
    "# the series.isna() function detects missing values\n",
    "cylinders.isna().sum()"
   ]
  },
  {
   "attachments": {},
   "cell_type": "markdown",
   "id": "04347754-4ede-4936-b097-2f15789e7591",
   "metadata": {},
   "source": [
    "> **Let's see for which manufacturers the cylinders value is missing**"
   ]
  },
  {
   "cell_type": "code",
   "execution_count": 7,
   "id": "c449d547-66d0-4942-89c8-9cfa59c5b988",
   "metadata": {},
   "outputs": [],
   "source": [
    "# Boolean mask for missing values\n",
    "mask_missing = cylinders.isna()"
   ]
  },
  {
   "cell_type": "code",
   "execution_count": 8,
   "id": "0353d531-9a49-4d83-a86b-7b0145500247",
   "metadata": {},
   "outputs": [
    {
     "data": {
      "text/plain": [
       "make\n",
       "Tesla     74\n",
       "smart     16\n",
       "Ford      15\n",
       "Nissan    14\n",
       "BMW       10\n",
       "Name: count, dtype: int64"
      ]
     },
     "execution_count": 8,
     "metadata": {},
     "output_type": "execute_result"
    }
   ],
   "source": [
    "# value_counts() is used to count unique values\n",
    "manufac[mask_missing].value_counts().head(5)"
   ]
  },
  {
   "attachments": {},
   "cell_type": "markdown",
   "id": "a6a35c3f-43b1-49ba-85a6-a819aab9f33c",
   "metadata": {},
   "source": [
    "Here we can see that most of the cars with missing cylinders values are Tesla cars. Since they are electric cars this makes sense. **Note:** An alternative way would be to use the `loc` method insted of this boolean masking."
   ]
  },
  {
   "cell_type": "markdown",
   "id": "d573278c",
   "metadata": {},
   "source": [
    "Now let's discuss how to handle these missing values."
   ]
  },
  {
   "cell_type": "markdown",
   "metadata": {},
   "source": [
    "### <a id='toc2_1_'></a>[_Handling missing values_](#toc0_)"
   ]
  },
  {
   "cell_type": "markdown",
   "id": "f053fc37",
   "metadata": {},
   "source": [
    "- The `.fillna()` method allows you to specify a replacement value for any missing data"
   ]
  },
  {
   "cell_type": "code",
   "execution_count": 9,
   "id": "c7cd0fad-4b68-40fa-b202-b6a791935ccc",
   "metadata": {},
   "outputs": [
    {
     "data": {
      "text/plain": [
       "cylinders\n",
       "4.0     15938\n",
       "6.0     14284\n",
       "8.0      8801\n",
       "5.0       771\n",
       "12.0      626\n",
       "3.0       279\n",
       "0.0       206\n",
       "10.0      170\n",
       "2.0        59\n",
       "16.0       10\n",
       "Name: count, dtype: int64"
      ]
     },
     "execution_count": 9,
     "metadata": {},
     "output_type": "execute_result"
    }
   ],
   "source": [
    "cylinders.fillna(0).value_counts()  # Doesn't change in place"
   ]
  },
  {
   "attachments": {},
   "cell_type": "markdown",
   "id": "a441d96e-16f3-4c70-899a-d4e7f055bd89",
   "metadata": {},
   "source": [
    "**Note that**, in this case it was reasonable to replace the \"nan\" values with \"0\" but it is not always the case. In other scenarios the **.mean(), .median(), .mode()** etc. may come in handy."
   ]
  },
  {
   "attachments": {},
   "cell_type": "markdown",
   "id": "22d1f929-67e0-4246-9f9a-57186d13a6b7",
   "metadata": {},
   "source": [
    "- The `.dropna()` method will drop the indexes (i.e, rows) with missing values"
   ]
  },
  {
   "cell_type": "code",
   "execution_count": 10,
   "id": "911c10e7-cf1c-440d-9f3e-06e1064cea10",
   "metadata": {},
   "outputs": [
    {
     "data": {
      "text/plain": [
       "206"
      ]
     },
     "execution_count": 10,
     "metadata": {},
     "output_type": "execute_result"
    }
   ],
   "source": [
    "# see that 'nan' count of 206 is the number of rows that was dropped\n",
    "len(cylinders) - len(cylinders.dropna())"
   ]
  },
  {
   "attachments": {},
   "cell_type": "markdown",
   "id": "fe020dc4-70e6-4efd-a674-ac6725cde3ab",
   "metadata": {},
   "source": [
    "- The `.interpolate()` method will replace 'nan' with interpolation of the values around the missing value."
   ]
  },
  {
   "attachments": {},
   "cell_type": "markdown",
   "id": "55f9b461-e681-43c6-be74-1cd521251dc1",
   "metadata": {},
   "source": [
    "This is a very useful method to fill in missing values. For example, this comes in handy if the data is ordered (as time series data often is) and there are holes in the data. But, you have to make sure that the data you are manipulating has a trend that can be captured by interpolation. Otherwise, this may lead to disastarous results. "
   ]
  },
  {
   "cell_type": "code",
   "execution_count": 11,
   "id": "87cd1a2c-7041-4ddd-8042-fc32c303dead",
   "metadata": {},
   "outputs": [
    {
     "data": {
      "text/plain": [
       "0    19.0\n",
       "1    20.0\n",
       "2    20.0\n",
       "3    21.0\n",
       "4    22.0\n",
       "5    24.0\n",
       "6    23.0\n",
       "7    24.0\n",
       "dtype: float64"
      ]
     },
     "execution_count": 11,
     "metadata": {},
     "output_type": "execute_result"
    }
   ],
   "source": [
    "# say we have a series that captures the [somewhat] upward trend of temp. as the season goes into summer from winter\n",
    "temp = pd.Series([19, 20, 20, None, 22, 24, 23, 24])\n",
    "temp.interpolate()  # doesn't change in place"
   ]
  },
  {
   "cell_type": "code",
   "execution_count": null,
   "id": "7951fca6",
   "metadata": {},
   "outputs": [],
   "source": []
  }
 ],
 "metadata": {
  "kernelspec": {
   "display_name": "Python 3 (ipykernel)",
   "language": "python",
   "name": "python3"
  },
  "language_info": {
   "codemirror_mode": {
    "name": "ipython",
    "version": 3
   },
   "file_extension": ".py",
   "mimetype": "text/x-python",
   "name": "python",
   "nbconvert_exporter": "python",
   "pygments_lexer": "ipython3",
   "version": "3.11.4"
  },
  "toc-autonumbering": false,
  "vscode": {
   "interpreter": {
    "hash": "c68b33fb54bb59552268eca97cce0a66d93ba1e1c3c0870be37ac7a47ccc96a3"
   }
  }
 },
 "nbformat": 4,
 "nbformat_minor": 5
}
