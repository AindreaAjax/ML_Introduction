{
 "cells": [
  {
   "cell_type": "markdown",
   "id": "ede11634",
   "metadata": {},
   "source": [
    "**Table of contents**<a id='toc0_'></a>    \n",
    "- [Import Statements](#toc1_1_)    \n",
    "- [Merging dataframes with a database-style join: The `df.merge()` method](#toc2_)    \n",
    "    - [*Inner join*](#toc2_1_1_)    \n",
    "    - [*Outer join*](#toc2_1_2_)    \n",
    "    - [*Left join*](#toc2_1_3_)    \n",
    "    - [*Right join*](#toc2_1_4_)    \n",
    "  - [`->` Merging a dataframe with itself](#toc2_2_)    \n",
    "- [Filtering joins: Filter observations from one dataframe based on whether or not they match an observation in another dataframe](#toc3_)    \n",
    "    - [*Semi join*](#toc3_1_1_)    \n",
    "    - [*Anti join*](#toc3_1_2_)    \n",
    "- [The `pd.concat()` method: Adding multiple dataframes together along a certain axis](#toc4_)    \n",
    "- [Merging ordered data: The `pd.merge_ordered()` method](#toc5_)    \n",
    "- [Fuzzy matching of ordered data: The `pd.merge_asof()` method](#toc6_)    \n",
    "\n",
    "<!-- vscode-jupyter-toc-config\n",
    "\tnumbering=false\n",
    "\tanchor=true\n",
    "\tflat=false\n",
    "\tminLevel=2\n",
    "\tmaxLevel=5\n",
    "\t/vscode-jupyter-toc-config -->\n",
    "<!-- THIS CELL WILL BE REPLACED ON TOC UPDATE. DO NOT WRITE YOUR TEXT IN THIS CELL -->"
   ]
  },
  {
   "attachments": {},
   "cell_type": "markdown",
   "id": "0f7aee04-6950-4f40-82b5-79a201238dcb",
   "metadata": {},
   "source": [
    "**Read the official documentation on pandas DataFrames @ https://pandas.pydata.org/pandas-docs/stable/reference/frame.html**"
   ]
  },
  {
   "attachments": {},
   "cell_type": "markdown",
   "id": "4afdaeaf-3c10-459d-8a85-5e50c9f7b3dd",
   "metadata": {},
   "source": [
    "**`Note:`** The notion of **chaining functions/methods** in pandas is similar to python."
   ]
  },
  {
   "attachments": {},
   "cell_type": "markdown",
   "id": "8014d978-4bc3-407d-a185-54853e5ce60e",
   "metadata": {},
   "source": [
    "DataFrames are **column oriented** unlike most common databases. And, **each column** in the dataframe is a **pandas series object**. So, any operation that can be performed on a pandas series object can be applied to a column too."
   ]
  },
  {
   "cell_type": "markdown",
   "id": "ab1229b6",
   "metadata": {},
   "source": [
    "There are **two axes** for a dataframe commonly referred to as axis 0 and 1, or the **\"index\"** (or 'rows') axis and the **\"columns\"** axis respectively. Note that, when an **operation** is applied **along axis 0**, it is applied **down through all the rows for all the columns**. Likewise, operations **along axis 1** is applied **across the values in all the columns for all of the rows**."
   ]
  },
  {
   "cell_type": "markdown",
   "id": "f6b97094",
   "metadata": {},
   "source": [
    "### <a id='toc1_1_'></a>[Import Statements](#toc0_)"
   ]
  },
  {
   "cell_type": "code",
   "execution_count": 2,
   "id": "0b98e008-5cd4-4103-a41d-aa577f7b0d9e",
   "metadata": {},
   "outputs": [],
   "source": [
    "# import statements\n",
    "import numpy as np\n",
    "import pandas as pd"
   ]
  },
  {
   "cell_type": "code",
   "execution_count": 3,
   "id": "62204132-8954-4462-b1b7-fbc807c3b906",
   "metadata": {},
   "outputs": [],
   "source": [
    "# view options\n",
    "pd.set_option(\"display.max_columns\", 14)\n",
    "pd.set_option(\"display.max_rows\", 8)"
   ]
  },
  {
   "cell_type": "markdown",
   "id": "80887d40",
   "metadata": {},
   "source": [
    "--------------------------------"
   ]
  },
  {
   "cell_type": "markdown",
   "id": "36eccc2a",
   "metadata": {},
   "source": [
    "## <a id='toc2_'></a>[Merging dataframes with a database-style join: The `df.merge()` method](#toc0_)"
   ]
  },
  {
   "cell_type": "markdown",
   "id": "4c45a530",
   "metadata": {},
   "source": [
    "--------------------------------"
   ]
  },
  {
   "attachments": {},
   "cell_type": "markdown",
   "id": "108d0a5a",
   "metadata": {},
   "source": [
    "The four common types of joins are, `inner`, `outer`, `left`, and `right` joins. The dataframe has two methods to support these operations, `.join()` and `.merge()`.\n",
    "\n",
    "<img src=\"./imgs/merge_methods.png\" width=\"450\" height=\"400\">"
   ]
  },
  {
   "cell_type": "markdown",
   "id": "b1a9a915",
   "metadata": {},
   "source": [
    "The *`df.merge()`* method can be used to merge DataFrame or named Series objects with a database-style join. But note that, a named Series object is treated as a DataFrame with a single named column."
   ]
  },
  {
   "attachments": {},
   "cell_type": "markdown",
   "id": "9b04024b",
   "metadata": {},
   "source": [
    "<u> The ``.merge()`` method Parameters</u>\n",
    "\n",
    "- `right:` object to merge with. \n",
    "\n",
    "    **Note:** The join is done on columns or indexes. If joining columns on columns, the DataFrame indexes *will be ignored*. Otherwise if joining indexes on indexes or indexes on a column or columns, the index will be passed on. Also if both key columns contain rows where the key is a null value, those rows will be matched against each other. This is different from usual SQL join behaviour and can lead to unexpected results.\n",
    "- `on:` Column names to join on. String or list. These must be found in both DataFrames. (If on is None then, default is intersection of names). \n",
    "- `left_on:` Column names for left dataframe. String or list. Used when names don’t overlap.\n",
    "- `right_on:` Column names for right dataframe. String or list. Used when names don’t overlap.\n",
    "- `left_index:` Join based on left dataframe index. Boolean.\n",
    "- `right_index:` Join based on right dataframe index. Boolean.\n",
    "- `how:` Type of merge to be performed. {‘left’, ‘right’, ‘outer’, ‘inner’, ‘cross’} default ‘inner’.\n",
    "- `indicator:` Indicates where the data in the row come from {'left_only', 'right_only', 'both'}. Boolean or String.\n",
    "    - indicator=True: pandas will create a column called _merge where the information will be shown.\n",
    "    - If a string is passed, it will be the new column name rather than _merge.\n",
    "- `validate:` Raise an error if the defined validation constraint is not met. `{'1:1', '1:m', or 'm:1', 'm:m'}` (m is for many, and m:m is always ignored) or, `{\"one_to_one\", \"one_to_many\", \"many_to_one\", \"many_to_many\"}`.\n"
   ]
  },
  {
   "attachments": {},
   "cell_type": "markdown",
   "id": "369ee259",
   "metadata": {},
   "source": [
    "Often the .merge() method is preffered as, the .join() method is meant for joining based on the index rather than columns. And, in practice it is often the case that we join dataframes based on columns. To join dataframes based on columns using the .join() method, we first need to set the column we want to join based on as index using the .set_index() method."
   ]
  },
  {
   "cell_type": "markdown",
   "id": "2ad1f63f",
   "metadata": {},
   "source": [
    "**Note that,** we can also use the .merge() method to join based on indexes. If both the tables has same index column names then we just pass in the \"on\" argument with the index column name. Pandas will automatically detect if the column names in the \"on\" argument are columns or indexes. If the index column names are different then we need to pass in the \"left_index\" and \"right_index\" arguments with True along with the \"left_on\" and \"right_on\" arguments with the index column names."
   ]
  },
  {
   "cell_type": "markdown",
   "id": "68704a63",
   "metadata": {},
   "source": [
    "<u>Example dataframes</u>"
   ]
  },
  {
   "cell_type": "code",
   "execution_count": 4,
   "id": "b53f61b4",
   "metadata": {},
   "outputs": [],
   "source": [
    "df1 = pd.DataFrame(\n",
    "    {\n",
    "        \"ID\": [1001, 1002, 1003, 1004, 1006, 1008],\n",
    "        \"FirstName\": [\"Hasan\", \"Dave\", \"Arafat\", \"Alice\", \"Zhang\", \"Yamale\"],\n",
    "        \"Job\": [\"Student\", \"Teacher\", \"Web Developer\", \"Clerk\", \"Chef\", \"Footballer\"],\n",
    "    }\n",
    ")\n",
    "\n",
    "df2 = pd.DataFrame(\n",
    "    {\n",
    "        \"ID\": [1001, 1002, 1003, 1008, 1009, 1010],\n",
    "        \"FirstName\": [\"Hasan\", \"David\", \"Arafat\", \"Yamale\", \"John\", \"Harold\"],\n",
    "        \"Age\": [23, 48, 24, 16, 32, 35],\n",
    "    }\n",
    ")"
   ]
  },
  {
   "cell_type": "code",
   "execution_count": 5,
   "id": "e06991c0",
   "metadata": {},
   "outputs": [
    {
     "data": {
      "text/html": [
       "<div>\n",
       "<style scoped>\n",
       "    .dataframe tbody tr th:only-of-type {\n",
       "        vertical-align: middle;\n",
       "    }\n",
       "\n",
       "    .dataframe tbody tr th {\n",
       "        vertical-align: top;\n",
       "    }\n",
       "\n",
       "    .dataframe thead th {\n",
       "        text-align: right;\n",
       "    }\n",
       "</style>\n",
       "<table border=\"1\" class=\"dataframe\">\n",
       "  <thead>\n",
       "    <tr style=\"text-align: right;\">\n",
       "      <th></th>\n",
       "      <th>ID</th>\n",
       "      <th>FirstName</th>\n",
       "      <th>Job</th>\n",
       "    </tr>\n",
       "  </thead>\n",
       "  <tbody>\n",
       "    <tr>\n",
       "      <th>0</th>\n",
       "      <td>1001</td>\n",
       "      <td>Hasan</td>\n",
       "      <td>Student</td>\n",
       "    </tr>\n",
       "    <tr>\n",
       "      <th>1</th>\n",
       "      <td>1002</td>\n",
       "      <td>Dave</td>\n",
       "      <td>Teacher</td>\n",
       "    </tr>\n",
       "    <tr>\n",
       "      <th>2</th>\n",
       "      <td>1003</td>\n",
       "      <td>Arafat</td>\n",
       "      <td>Web Developer</td>\n",
       "    </tr>\n",
       "    <tr>\n",
       "      <th>3</th>\n",
       "      <td>1004</td>\n",
       "      <td>Alice</td>\n",
       "      <td>Clerk</td>\n",
       "    </tr>\n",
       "    <tr>\n",
       "      <th>4</th>\n",
       "      <td>1006</td>\n",
       "      <td>Zhang</td>\n",
       "      <td>Chef</td>\n",
       "    </tr>\n",
       "    <tr>\n",
       "      <th>5</th>\n",
       "      <td>1008</td>\n",
       "      <td>Yamale</td>\n",
       "      <td>Footballer</td>\n",
       "    </tr>\n",
       "  </tbody>\n",
       "</table>\n",
       "</div>"
      ],
      "text/plain": [
       "     ID FirstName            Job\n",
       "0  1001     Hasan        Student\n",
       "1  1002      Dave        Teacher\n",
       "2  1003    Arafat  Web Developer\n",
       "3  1004     Alice          Clerk\n",
       "4  1006     Zhang           Chef\n",
       "5  1008    Yamale     Footballer"
      ]
     },
     "execution_count": 5,
     "metadata": {},
     "output_type": "execute_result"
    }
   ],
   "source": [
    "df1"
   ]
  },
  {
   "cell_type": "code",
   "execution_count": 6,
   "id": "bd81852b",
   "metadata": {},
   "outputs": [
    {
     "data": {
      "text/html": [
       "<div>\n",
       "<style scoped>\n",
       "    .dataframe tbody tr th:only-of-type {\n",
       "        vertical-align: middle;\n",
       "    }\n",
       "\n",
       "    .dataframe tbody tr th {\n",
       "        vertical-align: top;\n",
       "    }\n",
       "\n",
       "    .dataframe thead th {\n",
       "        text-align: right;\n",
       "    }\n",
       "</style>\n",
       "<table border=\"1\" class=\"dataframe\">\n",
       "  <thead>\n",
       "    <tr style=\"text-align: right;\">\n",
       "      <th></th>\n",
       "      <th>ID</th>\n",
       "      <th>FirstName</th>\n",
       "      <th>Age</th>\n",
       "    </tr>\n",
       "  </thead>\n",
       "  <tbody>\n",
       "    <tr>\n",
       "      <th>0</th>\n",
       "      <td>1001</td>\n",
       "      <td>Hasan</td>\n",
       "      <td>23</td>\n",
       "    </tr>\n",
       "    <tr>\n",
       "      <th>1</th>\n",
       "      <td>1002</td>\n",
       "      <td>David</td>\n",
       "      <td>48</td>\n",
       "    </tr>\n",
       "    <tr>\n",
       "      <th>2</th>\n",
       "      <td>1003</td>\n",
       "      <td>Arafat</td>\n",
       "      <td>24</td>\n",
       "    </tr>\n",
       "    <tr>\n",
       "      <th>3</th>\n",
       "      <td>1008</td>\n",
       "      <td>Yamale</td>\n",
       "      <td>16</td>\n",
       "    </tr>\n",
       "    <tr>\n",
       "      <th>4</th>\n",
       "      <td>1009</td>\n",
       "      <td>John</td>\n",
       "      <td>32</td>\n",
       "    </tr>\n",
       "    <tr>\n",
       "      <th>5</th>\n",
       "      <td>1010</td>\n",
       "      <td>Harold</td>\n",
       "      <td>35</td>\n",
       "    </tr>\n",
       "  </tbody>\n",
       "</table>\n",
       "</div>"
      ],
      "text/plain": [
       "     ID FirstName  Age\n",
       "0  1001     Hasan   23\n",
       "1  1002     David   48\n",
       "2  1003    Arafat   24\n",
       "3  1008    Yamale   16\n",
       "4  1009      John   32\n",
       "5  1010    Harold   35"
      ]
     },
     "execution_count": 6,
     "metadata": {},
     "output_type": "execute_result"
    }
   ],
   "source": [
    "df2"
   ]
  },
  {
   "cell_type": "markdown",
   "id": "8f08433f",
   "metadata": {},
   "source": [
    "#### <a id='toc2_1_1_'></a>[*Inner join*](#toc0_)"
   ]
  },
  {
   "cell_type": "markdown",
   "id": "a8b4e326",
   "metadata": {},
   "source": [
    "An inner join selects and combines only the rows that have matching values in the specified columns (keys) from both the left and right dataframes i.e, it includes only the data entries that appear in both dataframes based on the merging columns."
   ]
  },
  {
   "cell_type": "code",
   "execution_count": 7,
   "id": "372018cd",
   "metadata": {},
   "outputs": [
    {
     "data": {
      "text/html": [
       "<div>\n",
       "<style scoped>\n",
       "    .dataframe tbody tr th:only-of-type {\n",
       "        vertical-align: middle;\n",
       "    }\n",
       "\n",
       "    .dataframe tbody tr th {\n",
       "        vertical-align: top;\n",
       "    }\n",
       "\n",
       "    .dataframe thead th {\n",
       "        text-align: right;\n",
       "    }\n",
       "</style>\n",
       "<table border=\"1\" class=\"dataframe\">\n",
       "  <thead>\n",
       "    <tr style=\"text-align: right;\">\n",
       "      <th></th>\n",
       "      <th>ID</th>\n",
       "      <th>FirstName</th>\n",
       "      <th>Job</th>\n",
       "      <th>Age</th>\n",
       "    </tr>\n",
       "  </thead>\n",
       "  <tbody>\n",
       "    <tr>\n",
       "      <th>0</th>\n",
       "      <td>1001</td>\n",
       "      <td>Hasan</td>\n",
       "      <td>Student</td>\n",
       "      <td>23</td>\n",
       "    </tr>\n",
       "    <tr>\n",
       "      <th>1</th>\n",
       "      <td>1003</td>\n",
       "      <td>Arafat</td>\n",
       "      <td>Web Developer</td>\n",
       "      <td>24</td>\n",
       "    </tr>\n",
       "    <tr>\n",
       "      <th>2</th>\n",
       "      <td>1008</td>\n",
       "      <td>Yamale</td>\n",
       "      <td>Footballer</td>\n",
       "      <td>16</td>\n",
       "    </tr>\n",
       "  </tbody>\n",
       "</table>\n",
       "</div>"
      ],
      "text/plain": [
       "     ID FirstName            Job  Age\n",
       "0  1001     Hasan        Student   23\n",
       "1  1003    Arafat  Web Developer   24\n",
       "2  1008    Yamale     Footballer   16"
      ]
     },
     "execution_count": 7,
     "metadata": {},
     "output_type": "execute_result"
    }
   ],
   "source": [
    "df1.merge(df2, on=[\"ID\", \"FirstName\"], how=\"inner\")"
   ]
  },
  {
   "cell_type": "markdown",
   "id": "dd59deaa",
   "metadata": {},
   "source": [
    "#### <a id='toc2_1_2_'></a>[*Outer join*](#toc0_)"
   ]
  },
  {
   "cell_type": "markdown",
   "id": "3be5fc2a",
   "metadata": {},
   "source": [
    "An outer join combines data from both the left and right dataframes, including all rows from both sides. For matching entries it will not create duplicates but it fills in missing values with NaN (Not a Number) for non-matching entries in the merging columns. This type of join ensures that no data is lost, as it includes all available information from both dataframes while preserving their original shapes."
   ]
  },
  {
   "cell_type": "code",
   "execution_count": 8,
   "id": "926ccebb",
   "metadata": {},
   "outputs": [
    {
     "data": {
      "text/html": [
       "<div>\n",
       "<style scoped>\n",
       "    .dataframe tbody tr th:only-of-type {\n",
       "        vertical-align: middle;\n",
       "    }\n",
       "\n",
       "    .dataframe tbody tr th {\n",
       "        vertical-align: top;\n",
       "    }\n",
       "\n",
       "    .dataframe thead th {\n",
       "        text-align: right;\n",
       "    }\n",
       "</style>\n",
       "<table border=\"1\" class=\"dataframe\">\n",
       "  <thead>\n",
       "    <tr style=\"text-align: right;\">\n",
       "      <th></th>\n",
       "      <th>0</th>\n",
       "      <th>1</th>\n",
       "      <th>2</th>\n",
       "      <th>3</th>\n",
       "      <th>4</th>\n",
       "      <th>5</th>\n",
       "      <th>6</th>\n",
       "      <th>7</th>\n",
       "      <th>8</th>\n",
       "    </tr>\n",
       "  </thead>\n",
       "  <tbody>\n",
       "    <tr>\n",
       "      <th>ID</th>\n",
       "      <td>1001</td>\n",
       "      <td>1002</td>\n",
       "      <td>1003</td>\n",
       "      <td>1004</td>\n",
       "      <td>1006</td>\n",
       "      <td>1008</td>\n",
       "      <td>1002</td>\n",
       "      <td>1009</td>\n",
       "      <td>1010</td>\n",
       "    </tr>\n",
       "    <tr>\n",
       "      <th>FirstName</th>\n",
       "      <td>Hasan</td>\n",
       "      <td>Dave</td>\n",
       "      <td>Arafat</td>\n",
       "      <td>Alice</td>\n",
       "      <td>Zhang</td>\n",
       "      <td>Yamale</td>\n",
       "      <td>David</td>\n",
       "      <td>John</td>\n",
       "      <td>Harold</td>\n",
       "    </tr>\n",
       "    <tr>\n",
       "      <th>Job</th>\n",
       "      <td>Student</td>\n",
       "      <td>Teacher</td>\n",
       "      <td>Web Developer</td>\n",
       "      <td>Clerk</td>\n",
       "      <td>Chef</td>\n",
       "      <td>Footballer</td>\n",
       "      <td>NaN</td>\n",
       "      <td>NaN</td>\n",
       "      <td>NaN</td>\n",
       "    </tr>\n",
       "    <tr>\n",
       "      <th>Age</th>\n",
       "      <td>23.0</td>\n",
       "      <td>NaN</td>\n",
       "      <td>24.0</td>\n",
       "      <td>NaN</td>\n",
       "      <td>NaN</td>\n",
       "      <td>16.0</td>\n",
       "      <td>48.0</td>\n",
       "      <td>32.0</td>\n",
       "      <td>35.0</td>\n",
       "    </tr>\n",
       "  </tbody>\n",
       "</table>\n",
       "</div>"
      ],
      "text/plain": [
       "                 0        1              2      3      4           5      6  \\\n",
       "ID            1001     1002           1003   1004   1006        1008   1002   \n",
       "FirstName    Hasan     Dave         Arafat  Alice  Zhang      Yamale  David   \n",
       "Job        Student  Teacher  Web Developer  Clerk   Chef  Footballer    NaN   \n",
       "Age           23.0      NaN           24.0    NaN    NaN        16.0   48.0   \n",
       "\n",
       "              7       8  \n",
       "ID         1009    1010  \n",
       "FirstName  John  Harold  \n",
       "Job         NaN     NaN  \n",
       "Age        32.0    35.0  "
      ]
     },
     "execution_count": 8,
     "metadata": {},
     "output_type": "execute_result"
    }
   ],
   "source": [
    "df1.merge(df2, how=\"outer\").T"
   ]
  },
  {
   "cell_type": "markdown",
   "id": "c061db78",
   "metadata": {},
   "source": [
    "#### <a id='toc2_1_3_'></a>[*Left join*](#toc0_)"
   ]
  },
  {
   "cell_type": "markdown",
   "id": "b47b9f8a",
   "metadata": {},
   "source": [
    "It includes all rows from the left dataframe and brings in corresponding data from the right dataframe. If there are no matches for some keys, the resulting dataframe will have NaN (Not a Number) values in the columns from the right dataframe. This method ensures that no data is lost from the left dataframe while incorporating relevant information from the right dataframe where possible. It is a useful technique for enriching or enhancing a dataset with additional information from a different table."
   ]
  },
  {
   "cell_type": "code",
   "execution_count": 9,
   "id": "cf7cf08b",
   "metadata": {},
   "outputs": [
    {
     "data": {
      "text/html": [
       "<div>\n",
       "<style scoped>\n",
       "    .dataframe tbody tr th:only-of-type {\n",
       "        vertical-align: middle;\n",
       "    }\n",
       "\n",
       "    .dataframe tbody tr th {\n",
       "        vertical-align: top;\n",
       "    }\n",
       "\n",
       "    .dataframe thead th {\n",
       "        text-align: right;\n",
       "    }\n",
       "</style>\n",
       "<table border=\"1\" class=\"dataframe\">\n",
       "  <thead>\n",
       "    <tr style=\"text-align: right;\">\n",
       "      <th></th>\n",
       "      <th>ID</th>\n",
       "      <th>FirstName</th>\n",
       "      <th>Job</th>\n",
       "      <th>Age</th>\n",
       "    </tr>\n",
       "  </thead>\n",
       "  <tbody>\n",
       "    <tr>\n",
       "      <th>0</th>\n",
       "      <td>1001</td>\n",
       "      <td>Hasan</td>\n",
       "      <td>Student</td>\n",
       "      <td>23.0</td>\n",
       "    </tr>\n",
       "    <tr>\n",
       "      <th>1</th>\n",
       "      <td>1002</td>\n",
       "      <td>Dave</td>\n",
       "      <td>Teacher</td>\n",
       "      <td>NaN</td>\n",
       "    </tr>\n",
       "    <tr>\n",
       "      <th>2</th>\n",
       "      <td>1003</td>\n",
       "      <td>Arafat</td>\n",
       "      <td>Web Developer</td>\n",
       "      <td>24.0</td>\n",
       "    </tr>\n",
       "    <tr>\n",
       "      <th>3</th>\n",
       "      <td>1004</td>\n",
       "      <td>Alice</td>\n",
       "      <td>Clerk</td>\n",
       "      <td>NaN</td>\n",
       "    </tr>\n",
       "    <tr>\n",
       "      <th>4</th>\n",
       "      <td>1006</td>\n",
       "      <td>Zhang</td>\n",
       "      <td>Chef</td>\n",
       "      <td>NaN</td>\n",
       "    </tr>\n",
       "    <tr>\n",
       "      <th>5</th>\n",
       "      <td>1008</td>\n",
       "      <td>Yamale</td>\n",
       "      <td>Footballer</td>\n",
       "      <td>16.0</td>\n",
       "    </tr>\n",
       "  </tbody>\n",
       "</table>\n",
       "</div>"
      ],
      "text/plain": [
       "     ID FirstName            Job   Age\n",
       "0  1001     Hasan        Student  23.0\n",
       "1  1002      Dave        Teacher   NaN\n",
       "2  1003    Arafat  Web Developer  24.0\n",
       "3  1004     Alice          Clerk   NaN\n",
       "4  1006     Zhang           Chef   NaN\n",
       "5  1008    Yamale     Footballer  16.0"
      ]
     },
     "execution_count": 9,
     "metadata": {},
     "output_type": "execute_result"
    }
   ],
   "source": [
    "df1.merge(df2, how=\"left\")"
   ]
  },
  {
   "cell_type": "markdown",
   "id": "e1ce2404",
   "metadata": {},
   "source": [
    "#### <a id='toc2_1_4_'></a>[*Right join*](#toc0_)"
   ]
  },
  {
   "cell_type": "markdown",
   "id": "2f029b59",
   "metadata": {},
   "source": [
    "A right join is the reverse of a left join. It includes all rows from the right dataframe and merges corresponding data from the left dataframe based on the specified columns (keys) where possible. If no matching entries are found in the merging columns, the resulting dataframe will contain NaN values in the left dataframe's columns. This method ensures that data from the right dataframe is preserved while incorporating relevant information from the left dataframe when available. It is a useful technique for enriching or enhancing a dataset with additional information from a different table."
   ]
  },
  {
   "cell_type": "code",
   "execution_count": 10,
   "id": "cc6594da",
   "metadata": {},
   "outputs": [
    {
     "data": {
      "text/html": [
       "<div>\n",
       "<style scoped>\n",
       "    .dataframe tbody tr th:only-of-type {\n",
       "        vertical-align: middle;\n",
       "    }\n",
       "\n",
       "    .dataframe tbody tr th {\n",
       "        vertical-align: top;\n",
       "    }\n",
       "\n",
       "    .dataframe thead th {\n",
       "        text-align: right;\n",
       "    }\n",
       "</style>\n",
       "<table border=\"1\" class=\"dataframe\">\n",
       "  <thead>\n",
       "    <tr style=\"text-align: right;\">\n",
       "      <th></th>\n",
       "      <th>ID</th>\n",
       "      <th>FirstName</th>\n",
       "      <th>Job</th>\n",
       "      <th>Age</th>\n",
       "    </tr>\n",
       "  </thead>\n",
       "  <tbody>\n",
       "    <tr>\n",
       "      <th>0</th>\n",
       "      <td>1001</td>\n",
       "      <td>Hasan</td>\n",
       "      <td>Student</td>\n",
       "      <td>23</td>\n",
       "    </tr>\n",
       "    <tr>\n",
       "      <th>1</th>\n",
       "      <td>1002</td>\n",
       "      <td>David</td>\n",
       "      <td>NaN</td>\n",
       "      <td>48</td>\n",
       "    </tr>\n",
       "    <tr>\n",
       "      <th>2</th>\n",
       "      <td>1003</td>\n",
       "      <td>Arafat</td>\n",
       "      <td>Web Developer</td>\n",
       "      <td>24</td>\n",
       "    </tr>\n",
       "    <tr>\n",
       "      <th>3</th>\n",
       "      <td>1008</td>\n",
       "      <td>Yamale</td>\n",
       "      <td>Footballer</td>\n",
       "      <td>16</td>\n",
       "    </tr>\n",
       "    <tr>\n",
       "      <th>4</th>\n",
       "      <td>1009</td>\n",
       "      <td>John</td>\n",
       "      <td>NaN</td>\n",
       "      <td>32</td>\n",
       "    </tr>\n",
       "    <tr>\n",
       "      <th>5</th>\n",
       "      <td>1010</td>\n",
       "      <td>Harold</td>\n",
       "      <td>NaN</td>\n",
       "      <td>35</td>\n",
       "    </tr>\n",
       "  </tbody>\n",
       "</table>\n",
       "</div>"
      ],
      "text/plain": [
       "     ID FirstName            Job  Age\n",
       "0  1001     Hasan        Student   23\n",
       "1  1002     David            NaN   48\n",
       "2  1003    Arafat  Web Developer   24\n",
       "3  1008    Yamale     Footballer   16\n",
       "4  1009      John            NaN   32\n",
       "5  1010    Harold            NaN   35"
      ]
     },
     "execution_count": 10,
     "metadata": {},
     "output_type": "execute_result"
    }
   ],
   "source": [
    "df1.merge(df2, how=\"right\")"
   ]
  },
  {
   "cell_type": "markdown",
   "id": "817e47d2",
   "metadata": {},
   "source": [
    "<u>**Exercise**</u>\n",
    "\n",
    "Below are two dataframes one of which defines the employees name and company name. The other defines some company name (in the ticker column) and their location. Get the location of each employee assuming the company location and the employee location is the same.\n"
   ]
  },
  {
   "cell_type": "code",
   "execution_count": 11,
   "id": "eb73bdff",
   "metadata": {},
   "outputs": [],
   "source": [
    "# example dataframes\n",
    "employees = pd.DataFrame(\n",
    "    {\n",
    "        \"name\": [\"Fred\", \"Johm\", \"Sally\", \"Annie\"],\n",
    "        \"company\": [\"AMZN\", \"GOOG\", \"GOOG\", \"NFLX\"],\n",
    "    }\n",
    ")\n",
    "locations = pd.DataFrame(\n",
    "    {\n",
    "        \"ticker\": [\"AMZN\", \"GOOG\"],\n",
    "        \"location\": [\"Seattle\", \"SF\"],\n",
    "    }\n",
    ")"
   ]
  },
  {
   "cell_type": "code",
   "execution_count": 12,
   "id": "5b9d9463",
   "metadata": {},
   "outputs": [
    {
     "data": {
      "text/html": [
       "<div>\n",
       "<style scoped>\n",
       "    .dataframe tbody tr th:only-of-type {\n",
       "        vertical-align: middle;\n",
       "    }\n",
       "\n",
       "    .dataframe tbody tr th {\n",
       "        vertical-align: top;\n",
       "    }\n",
       "\n",
       "    .dataframe thead th {\n",
       "        text-align: right;\n",
       "    }\n",
       "</style>\n",
       "<table border=\"1\" class=\"dataframe\">\n",
       "  <thead>\n",
       "    <tr style=\"text-align: right;\">\n",
       "      <th></th>\n",
       "      <th>name</th>\n",
       "      <th>company</th>\n",
       "    </tr>\n",
       "  </thead>\n",
       "  <tbody>\n",
       "    <tr>\n",
       "      <th>0</th>\n",
       "      <td>Fred</td>\n",
       "      <td>AMZN</td>\n",
       "    </tr>\n",
       "    <tr>\n",
       "      <th>1</th>\n",
       "      <td>Johm</td>\n",
       "      <td>GOOG</td>\n",
       "    </tr>\n",
       "    <tr>\n",
       "      <th>2</th>\n",
       "      <td>Sally</td>\n",
       "      <td>GOOG</td>\n",
       "    </tr>\n",
       "    <tr>\n",
       "      <th>3</th>\n",
       "      <td>Annie</td>\n",
       "      <td>NFLX</td>\n",
       "    </tr>\n",
       "  </tbody>\n",
       "</table>\n",
       "</div>"
      ],
      "text/plain": [
       "    name company\n",
       "0   Fred    AMZN\n",
       "1   Johm    GOOG\n",
       "2  Sally    GOOG\n",
       "3  Annie    NFLX"
      ]
     },
     "execution_count": 12,
     "metadata": {},
     "output_type": "execute_result"
    }
   ],
   "source": [
    "employees"
   ]
  },
  {
   "cell_type": "code",
   "execution_count": 13,
   "id": "8cdf8279",
   "metadata": {},
   "outputs": [
    {
     "data": {
      "text/html": [
       "<div>\n",
       "<style scoped>\n",
       "    .dataframe tbody tr th:only-of-type {\n",
       "        vertical-align: middle;\n",
       "    }\n",
       "\n",
       "    .dataframe tbody tr th {\n",
       "        vertical-align: top;\n",
       "    }\n",
       "\n",
       "    .dataframe thead th {\n",
       "        text-align: right;\n",
       "    }\n",
       "</style>\n",
       "<table border=\"1\" class=\"dataframe\">\n",
       "  <thead>\n",
       "    <tr style=\"text-align: right;\">\n",
       "      <th></th>\n",
       "      <th>ticker</th>\n",
       "      <th>location</th>\n",
       "    </tr>\n",
       "  </thead>\n",
       "  <tbody>\n",
       "    <tr>\n",
       "      <th>0</th>\n",
       "      <td>AMZN</td>\n",
       "      <td>Seattle</td>\n",
       "    </tr>\n",
       "    <tr>\n",
       "      <th>1</th>\n",
       "      <td>GOOG</td>\n",
       "      <td>SF</td>\n",
       "    </tr>\n",
       "  </tbody>\n",
       "</table>\n",
       "</div>"
      ],
      "text/plain": [
       "  ticker location\n",
       "0   AMZN  Seattle\n",
       "1   GOOG       SF"
      ]
     },
     "execution_count": 13,
     "metadata": {},
     "output_type": "execute_result"
    }
   ],
   "source": [
    "locations"
   ]
  },
  {
   "cell_type": "code",
   "execution_count": 14,
   "id": "0ad378b0",
   "metadata": {},
   "outputs": [
    {
     "data": {
      "text/html": [
       "<div>\n",
       "<style scoped>\n",
       "    .dataframe tbody tr th:only-of-type {\n",
       "        vertical-align: middle;\n",
       "    }\n",
       "\n",
       "    .dataframe tbody tr th {\n",
       "        vertical-align: top;\n",
       "    }\n",
       "\n",
       "    .dataframe thead th {\n",
       "        text-align: right;\n",
       "    }\n",
       "</style>\n",
       "<table border=\"1\" class=\"dataframe\">\n",
       "  <thead>\n",
       "    <tr style=\"text-align: right;\">\n",
       "      <th></th>\n",
       "      <th>name</th>\n",
       "      <th>company</th>\n",
       "      <th>ticker</th>\n",
       "      <th>location</th>\n",
       "      <th>_merge</th>\n",
       "    </tr>\n",
       "  </thead>\n",
       "  <tbody>\n",
       "    <tr>\n",
       "      <th>0</th>\n",
       "      <td>Fred</td>\n",
       "      <td>AMZN</td>\n",
       "      <td>AMZN</td>\n",
       "      <td>Seattle</td>\n",
       "      <td>both</td>\n",
       "    </tr>\n",
       "    <tr>\n",
       "      <th>1</th>\n",
       "      <td>Johm</td>\n",
       "      <td>GOOG</td>\n",
       "      <td>GOOG</td>\n",
       "      <td>SF</td>\n",
       "      <td>both</td>\n",
       "    </tr>\n",
       "    <tr>\n",
       "      <th>2</th>\n",
       "      <td>Sally</td>\n",
       "      <td>GOOG</td>\n",
       "      <td>GOOG</td>\n",
       "      <td>SF</td>\n",
       "      <td>both</td>\n",
       "    </tr>\n",
       "    <tr>\n",
       "      <th>3</th>\n",
       "      <td>Annie</td>\n",
       "      <td>NFLX</td>\n",
       "      <td>NaN</td>\n",
       "      <td>NaN</td>\n",
       "      <td>left_only</td>\n",
       "    </tr>\n",
       "  </tbody>\n",
       "</table>\n",
       "</div>"
      ],
      "text/plain": [
       "    name company ticker location     _merge\n",
       "0   Fred    AMZN   AMZN  Seattle       both\n",
       "1   Johm    GOOG   GOOG       SF       both\n",
       "2  Sally    GOOG   GOOG       SF       both\n",
       "3  Annie    NFLX    NaN      NaN  left_only"
      ]
     },
     "execution_count": 14,
     "metadata": {},
     "output_type": "execute_result"
    }
   ],
   "source": [
    "# to get the location of each employee\n",
    "employees.merge(\n",
    "    locations,\n",
    "    left_on=\"company\",\n",
    "    right_on=\"ticker\",\n",
    "    how=\"left\",\n",
    "    validate=\"m:1\",\n",
    "    indicator=True,\n",
    ")"
   ]
  },
  {
   "cell_type": "markdown",
   "id": "a356803d",
   "metadata": {},
   "source": [
    "### <a id='toc2_2_'></a>[`->` Merging a dataframe with itself](#toc0_)"
   ]
  },
  {
   "cell_type": "markdown",
   "id": "1ab4091a",
   "metadata": {},
   "source": [
    "Merging a DataFrame with itself is known as a self-join. It is not a different type of join rather pandas treats such merging as if two different copies of the same dataframe is merged. As such, it is similar to joining two different dataframes and we can also use different mergeing methods such as, *left, right, outer, inner* etc. "
   ]
  },
  {
   "cell_type": "markdown",
   "id": "1e413deb",
   "metadata": {},
   "source": [
    "Merging a dataframe to itself has several important use cases and it can be a powerful operation in data analysis when you want to compare or combine data within the same DataFrame."
   ]
  },
  {
   "cell_type": "markdown",
   "id": "0a577ae8",
   "metadata": {},
   "source": [
    "**Example 01**\n",
    "\n",
    "Let's say we have a csv file that lists the id of a movie, its title and also the id of its sequel (if any). Now if we wanted to see the title of the sequel of each movie in the same row we can use self join."
   ]
  },
  {
   "cell_type": "code",
   "execution_count": 15,
   "id": "3c820683",
   "metadata": {},
   "outputs": [],
   "source": [
    "sequels = pd.read_csv(\"./Data/sequels.csv\", dtype=\"str\", na_values=\"<NA>\").set_index(\n",
    "    \"id\"\n",
    ")"
   ]
  },
  {
   "cell_type": "code",
   "execution_count": 16,
   "id": "3d3f34e4",
   "metadata": {},
   "outputs": [
    {
     "data": {
      "text/html": [
       "<div>\n",
       "<style scoped>\n",
       "    .dataframe tbody tr th:only-of-type {\n",
       "        vertical-align: middle;\n",
       "    }\n",
       "\n",
       "    .dataframe tbody tr th {\n",
       "        vertical-align: top;\n",
       "    }\n",
       "\n",
       "    .dataframe thead th {\n",
       "        text-align: right;\n",
       "    }\n",
       "</style>\n",
       "<table border=\"1\" class=\"dataframe\">\n",
       "  <thead>\n",
       "    <tr style=\"text-align: right;\">\n",
       "      <th></th>\n",
       "      <th>title</th>\n",
       "      <th>sequel</th>\n",
       "    </tr>\n",
       "    <tr>\n",
       "      <th>id</th>\n",
       "      <th></th>\n",
       "      <th></th>\n",
       "    </tr>\n",
       "  </thead>\n",
       "  <tbody>\n",
       "    <tr>\n",
       "      <th>19995</th>\n",
       "      <td>Avatar</td>\n",
       "      <td>NaN</td>\n",
       "    </tr>\n",
       "    <tr>\n",
       "      <th>862</th>\n",
       "      <td>Toy Story</td>\n",
       "      <td>863</td>\n",
       "    </tr>\n",
       "    <tr>\n",
       "      <th>863</th>\n",
       "      <td>Toy Story 2</td>\n",
       "      <td>10193</td>\n",
       "    </tr>\n",
       "    <tr>\n",
       "      <th>597</th>\n",
       "      <td>Titanic</td>\n",
       "      <td>NaN</td>\n",
       "    </tr>\n",
       "    <tr>\n",
       "      <th>24428</th>\n",
       "      <td>The Avengers</td>\n",
       "      <td>NaN</td>\n",
       "    </tr>\n",
       "  </tbody>\n",
       "</table>\n",
       "</div>"
      ],
      "text/plain": [
       "              title sequel\n",
       "id                        \n",
       "19995        Avatar    NaN\n",
       "862       Toy Story    863\n",
       "863     Toy Story 2  10193\n",
       "597         Titanic    NaN\n",
       "24428  The Avengers    NaN"
      ]
     },
     "execution_count": 16,
     "metadata": {},
     "output_type": "execute_result"
    }
   ],
   "source": [
    "sequels.head()"
   ]
  },
  {
   "cell_type": "code",
   "execution_count": 17,
   "id": "e6e4b98c",
   "metadata": {},
   "outputs": [
    {
     "data": {
      "text/html": [
       "<div>\n",
       "<style scoped>\n",
       "    .dataframe tbody tr th:only-of-type {\n",
       "        vertical-align: middle;\n",
       "    }\n",
       "\n",
       "    .dataframe tbody tr th {\n",
       "        vertical-align: top;\n",
       "    }\n",
       "\n",
       "    .dataframe thead th {\n",
       "        text-align: right;\n",
       "    }\n",
       "</style>\n",
       "<table border=\"1\" class=\"dataframe\">\n",
       "  <thead>\n",
       "    <tr style=\"text-align: right;\">\n",
       "      <th></th>\n",
       "      <th>sequel</th>\n",
       "      <th>title_orig</th>\n",
       "      <th>sequel_orig</th>\n",
       "      <th>title_seq</th>\n",
       "      <th>sequel_seq</th>\n",
       "    </tr>\n",
       "    <tr>\n",
       "      <th>id</th>\n",
       "      <th></th>\n",
       "      <th></th>\n",
       "      <th></th>\n",
       "      <th></th>\n",
       "      <th></th>\n",
       "    </tr>\n",
       "  </thead>\n",
       "  <tbody>\n",
       "    <tr>\n",
       "      <th>862</th>\n",
       "      <td>863</td>\n",
       "      <td>Toy Story</td>\n",
       "      <td>863</td>\n",
       "      <td>Toy Story 2</td>\n",
       "      <td>10193</td>\n",
       "    </tr>\n",
       "    <tr>\n",
       "      <th>863</th>\n",
       "      <td>10193</td>\n",
       "      <td>Toy Story 2</td>\n",
       "      <td>10193</td>\n",
       "      <td>Toy Story 3</td>\n",
       "      <td>NaN</td>\n",
       "    </tr>\n",
       "  </tbody>\n",
       "</table>\n",
       "</div>"
      ],
      "text/plain": [
       "    sequel   title_orig sequel_orig    title_seq sequel_seq\n",
       "id                                                         \n",
       "862    863    Toy Story         863  Toy Story 2      10193\n",
       "863  10193  Toy Story 2       10193  Toy Story 3        NaN"
      ]
     },
     "execution_count": 17,
     "metadata": {},
     "output_type": "execute_result"
    }
   ],
   "source": [
    "sequels.merge(\n",
    "    sequels,\n",
    "    left_on=\"sequel\",\n",
    "    right_on=\"id\",\n",
    "    right_index=True,\n",
    "    suffixes=(\"_orig\", \"_seq\"),\n",
    ")"
   ]
  },
  {
   "cell_type": "markdown",
   "id": "cf7486dd",
   "metadata": {},
   "source": [
    "--------------------------------"
   ]
  },
  {
   "cell_type": "markdown",
   "id": "402e27f2",
   "metadata": {},
   "source": [
    "## <a id='toc3_'></a>[Filtering joins: Filter observations from one dataframe based on whether or not they match an observation in another dataframe](#toc0_)"
   ]
  },
  {
   "cell_type": "markdown",
   "id": "85e32fa4",
   "metadata": {},
   "source": [
    "--------------------------------"
   ]
  },
  {
   "cell_type": "markdown",
   "id": "eaca39fc",
   "metadata": {},
   "source": [
    "So far, we have only worked with mutating joins, which combines data from two dataframes and returns all the columns from both the dataframes based on the joining method (inner, outer, left or right). However, filtering joins filter observations from one dataframe based on whether or not they match an observation in another dataframe. "
   ]
  },
  {
   "cell_type": "markdown",
   "id": "0acc2b00",
   "metadata": {},
   "source": [
    "Note that, pandas dataframe objects has no direct method for filtering joins. We have to implement them manually."
   ]
  },
  {
   "cell_type": "markdown",
   "id": "22b85f2d",
   "metadata": {},
   "source": [
    "<u> Data used for examples</u>"
   ]
  },
  {
   "cell_type": "code",
   "execution_count": 18,
   "id": "aded69b3",
   "metadata": {},
   "outputs": [],
   "source": [
    "df1 = pd.DataFrame(\n",
    "    {\"A\": [\"A2\", \"A3\", \"A4\"], \"B\": [\"B2\", \"B3\", \"B4\"], \"C\": [\"C2\", \"C3\", \"C4\"]}\n",
    ")"
   ]
  },
  {
   "cell_type": "code",
   "execution_count": 19,
   "id": "2ce32771",
   "metadata": {},
   "outputs": [
    {
     "data": {
      "text/html": [
       "<div>\n",
       "<style scoped>\n",
       "    .dataframe tbody tr th:only-of-type {\n",
       "        vertical-align: middle;\n",
       "    }\n",
       "\n",
       "    .dataframe tbody tr th {\n",
       "        vertical-align: top;\n",
       "    }\n",
       "\n",
       "    .dataframe thead th {\n",
       "        text-align: right;\n",
       "    }\n",
       "</style>\n",
       "<table border=\"1\" class=\"dataframe\">\n",
       "  <thead>\n",
       "    <tr style=\"text-align: right;\">\n",
       "      <th></th>\n",
       "      <th>A</th>\n",
       "      <th>B</th>\n",
       "      <th>C</th>\n",
       "    </tr>\n",
       "  </thead>\n",
       "  <tbody>\n",
       "    <tr>\n",
       "      <th>0</th>\n",
       "      <td>A2</td>\n",
       "      <td>B2</td>\n",
       "      <td>C2</td>\n",
       "    </tr>\n",
       "    <tr>\n",
       "      <th>1</th>\n",
       "      <td>A3</td>\n",
       "      <td>B3</td>\n",
       "      <td>C3</td>\n",
       "    </tr>\n",
       "    <tr>\n",
       "      <th>2</th>\n",
       "      <td>A4</td>\n",
       "      <td>B4</td>\n",
       "      <td>C4</td>\n",
       "    </tr>\n",
       "  </tbody>\n",
       "</table>\n",
       "</div>"
      ],
      "text/plain": [
       "    A   B   C\n",
       "0  A2  B2  C2\n",
       "1  A3  B3  C3\n",
       "2  A4  B4  C4"
      ]
     },
     "execution_count": 19,
     "metadata": {},
     "output_type": "execute_result"
    }
   ],
   "source": [
    "df1"
   ]
  },
  {
   "cell_type": "code",
   "execution_count": 20,
   "id": "2087227d",
   "metadata": {},
   "outputs": [],
   "source": [
    "df2 = pd.DataFrame(\n",
    "    {\"D\": [\"D1\", \"D2\", \"D3\", \"D4\", \"D5\"], \"C\": [\"C1\", \"C2\", \"C2\", \"C4\", \"C5\"]}\n",
    ")"
   ]
  },
  {
   "cell_type": "code",
   "execution_count": 21,
   "id": "b640ec30",
   "metadata": {},
   "outputs": [
    {
     "data": {
      "text/html": [
       "<div>\n",
       "<style scoped>\n",
       "    .dataframe tbody tr th:only-of-type {\n",
       "        vertical-align: middle;\n",
       "    }\n",
       "\n",
       "    .dataframe tbody tr th {\n",
       "        vertical-align: top;\n",
       "    }\n",
       "\n",
       "    .dataframe thead th {\n",
       "        text-align: right;\n",
       "    }\n",
       "</style>\n",
       "<table border=\"1\" class=\"dataframe\">\n",
       "  <thead>\n",
       "    <tr style=\"text-align: right;\">\n",
       "      <th></th>\n",
       "      <th>D</th>\n",
       "      <th>C</th>\n",
       "    </tr>\n",
       "  </thead>\n",
       "  <tbody>\n",
       "    <tr>\n",
       "      <th>0</th>\n",
       "      <td>D1</td>\n",
       "      <td>C1</td>\n",
       "    </tr>\n",
       "    <tr>\n",
       "      <th>1</th>\n",
       "      <td>D2</td>\n",
       "      <td>C2</td>\n",
       "    </tr>\n",
       "    <tr>\n",
       "      <th>2</th>\n",
       "      <td>D3</td>\n",
       "      <td>C2</td>\n",
       "    </tr>\n",
       "    <tr>\n",
       "      <th>3</th>\n",
       "      <td>D4</td>\n",
       "      <td>C4</td>\n",
       "    </tr>\n",
       "    <tr>\n",
       "      <th>4</th>\n",
       "      <td>D5</td>\n",
       "      <td>C5</td>\n",
       "    </tr>\n",
       "  </tbody>\n",
       "</table>\n",
       "</div>"
      ],
      "text/plain": [
       "    D   C\n",
       "0  D1  C1\n",
       "1  D2  C2\n",
       "2  D3  C2\n",
       "3  D4  C4\n",
       "4  D5  C5"
      ]
     },
     "execution_count": 21,
     "metadata": {},
     "output_type": "execute_result"
    }
   ],
   "source": [
    "df2"
   ]
  },
  {
   "cell_type": "markdown",
   "id": "ae40f4d2",
   "metadata": {},
   "source": [
    "#### <a id='toc3_1_1_'></a>[*Semi join*](#toc0_)"
   ]
  },
  {
   "cell_type": "markdown",
   "id": "9947963c",
   "metadata": {},
   "source": [
    "A semi join filters the left table down to those observations that have a match in the right table. \n",
    "\n",
    "- It is similar to an inner join where only the **intersection** between the tables is returned, but unlike an inner join, **only the columns from the left** table are shown. \n",
    "- Finally, no duplicate rows from the left table are returned, even if there is a one-to-many relationship."
   ]
  },
  {
   "cell_type": "code",
   "execution_count": 22,
   "id": "e1d9c8d7",
   "metadata": {},
   "outputs": [
    {
     "data": {
      "text/html": [
       "<div>\n",
       "<style scoped>\n",
       "    .dataframe tbody tr th:only-of-type {\n",
       "        vertical-align: middle;\n",
       "    }\n",
       "\n",
       "    .dataframe tbody tr th {\n",
       "        vertical-align: top;\n",
       "    }\n",
       "\n",
       "    .dataframe thead th {\n",
       "        text-align: right;\n",
       "    }\n",
       "</style>\n",
       "<table border=\"1\" class=\"dataframe\">\n",
       "  <thead>\n",
       "    <tr style=\"text-align: right;\">\n",
       "      <th></th>\n",
       "      <th>A</th>\n",
       "      <th>B</th>\n",
       "      <th>C</th>\n",
       "      <th>D</th>\n",
       "    </tr>\n",
       "  </thead>\n",
       "  <tbody>\n",
       "    <tr>\n",
       "      <th>0</th>\n",
       "      <td>A2</td>\n",
       "      <td>B2</td>\n",
       "      <td>C2</td>\n",
       "      <td>D2</td>\n",
       "    </tr>\n",
       "    <tr>\n",
       "      <th>1</th>\n",
       "      <td>A2</td>\n",
       "      <td>B2</td>\n",
       "      <td>C2</td>\n",
       "      <td>D3</td>\n",
       "    </tr>\n",
       "    <tr>\n",
       "      <th>2</th>\n",
       "      <td>A4</td>\n",
       "      <td>B4</td>\n",
       "      <td>C4</td>\n",
       "      <td>D4</td>\n",
       "    </tr>\n",
       "  </tbody>\n",
       "</table>\n",
       "</div>"
      ],
      "text/plain": [
       "    A   B   C   D\n",
       "0  A2  B2  C2  D2\n",
       "1  A2  B2  C2  D3\n",
       "2  A4  B4  C4  D4"
      ]
     },
     "execution_count": 22,
     "metadata": {},
     "output_type": "execute_result"
    }
   ],
   "source": [
    "# first, we merge the left and right dataframe\n",
    "merged_df = df1.merge(df2, on=\"C\")\n",
    "merged_df"
   ]
  },
  {
   "cell_type": "code",
   "execution_count": 23,
   "id": "2ff3ff90",
   "metadata": {},
   "outputs": [
    {
     "data": {
      "text/plain": [
       "0     True\n",
       "1    False\n",
       "2     True\n",
       "Name: C, dtype: bool"
      ]
     },
     "execution_count": 23,
     "metadata": {},
     "output_type": "execute_result"
    }
   ],
   "source": [
    "# next, we create a filter which will check if each key (elements in the \"on\" column) from the left table\n",
    "# is present in the merged table\n",
    "mask = df1[\"C\"].isin(merged_df[\"C\"])\n",
    "mask"
   ]
  },
  {
   "cell_type": "code",
   "execution_count": 24,
   "id": "a5f6f6e2",
   "metadata": {},
   "outputs": [
    {
     "data": {
      "text/html": [
       "<div>\n",
       "<style scoped>\n",
       "    .dataframe tbody tr th:only-of-type {\n",
       "        vertical-align: middle;\n",
       "    }\n",
       "\n",
       "    .dataframe tbody tr th {\n",
       "        vertical-align: top;\n",
       "    }\n",
       "\n",
       "    .dataframe thead th {\n",
       "        text-align: right;\n",
       "    }\n",
       "</style>\n",
       "<table border=\"1\" class=\"dataframe\">\n",
       "  <thead>\n",
       "    <tr style=\"text-align: right;\">\n",
       "      <th></th>\n",
       "      <th>A</th>\n",
       "      <th>B</th>\n",
       "      <th>C</th>\n",
       "    </tr>\n",
       "  </thead>\n",
       "  <tbody>\n",
       "    <tr>\n",
       "      <th>0</th>\n",
       "      <td>A2</td>\n",
       "      <td>B2</td>\n",
       "      <td>C2</td>\n",
       "    </tr>\n",
       "    <tr>\n",
       "      <th>2</th>\n",
       "      <td>A4</td>\n",
       "      <td>B4</td>\n",
       "      <td>C4</td>\n",
       "    </tr>\n",
       "  </tbody>\n",
       "</table>\n",
       "</div>"
      ],
      "text/plain": [
       "    A   B   C\n",
       "0  A2  B2  C2\n",
       "2  A4  B4  C4"
      ]
     },
     "execution_count": 24,
     "metadata": {},
     "output_type": "execute_result"
    }
   ],
   "source": [
    "# after that, we use this mask to filter the left table\n",
    "df1[mask]"
   ]
  },
  {
   "cell_type": "code",
   "execution_count": 25,
   "id": "93bfaeaf",
   "metadata": {},
   "outputs": [],
   "source": [
    "def semi_join(left_df: pd.DataFrame, right_df: pd.DataFrame, on: str):\n",
    "    merged_df = left_df.merge(right_df, on=on)\n",
    "    mask = left_df[on].isin(merged_df[on])\n",
    "    return left_df[mask]"
   ]
  },
  {
   "cell_type": "code",
   "execution_count": 26,
   "id": "eec005d6",
   "metadata": {},
   "outputs": [
    {
     "data": {
      "text/html": [
       "<div>\n",
       "<style scoped>\n",
       "    .dataframe tbody tr th:only-of-type {\n",
       "        vertical-align: middle;\n",
       "    }\n",
       "\n",
       "    .dataframe tbody tr th {\n",
       "        vertical-align: top;\n",
       "    }\n",
       "\n",
       "    .dataframe thead th {\n",
       "        text-align: right;\n",
       "    }\n",
       "</style>\n",
       "<table border=\"1\" class=\"dataframe\">\n",
       "  <thead>\n",
       "    <tr style=\"text-align: right;\">\n",
       "      <th></th>\n",
       "      <th>A</th>\n",
       "      <th>B</th>\n",
       "      <th>C</th>\n",
       "    </tr>\n",
       "  </thead>\n",
       "  <tbody>\n",
       "    <tr>\n",
       "      <th>0</th>\n",
       "      <td>A2</td>\n",
       "      <td>B2</td>\n",
       "      <td>C2</td>\n",
       "    </tr>\n",
       "    <tr>\n",
       "      <th>2</th>\n",
       "      <td>A4</td>\n",
       "      <td>B4</td>\n",
       "      <td>C4</td>\n",
       "    </tr>\n",
       "  </tbody>\n",
       "</table>\n",
       "</div>"
      ],
      "text/plain": [
       "    A   B   C\n",
       "0  A2  B2  C2\n",
       "2  A4  B4  C4"
      ]
     },
     "execution_count": 26,
     "metadata": {},
     "output_type": "execute_result"
    }
   ],
   "source": [
    "semi_join(df1, df2, \"C\")"
   ]
  },
  {
   "cell_type": "markdown",
   "id": "436d1059",
   "metadata": {},
   "source": [
    "#### <a id='toc3_1_2_'></a>[*Anti join*](#toc0_)"
   ]
  },
  {
   "cell_type": "markdown",
   "id": "c33d3ec2",
   "metadata": {},
   "source": [
    "An anti join returns the observations in the left table that do not have a matching observation in the right table but it only returns the columns from the left table."
   ]
  },
  {
   "cell_type": "code",
   "execution_count": 27,
   "id": "5f7deeb5",
   "metadata": {},
   "outputs": [],
   "source": [
    "def anti_join(left_df: pd.DataFrame, right_df: pd.DataFrame, on: str):\n",
    "    merged_df = left_df.merge(right_df, on=on)\n",
    "    mask = left_df[on].isin(merged_df[on])\n",
    "    return left_df[~mask]"
   ]
  },
  {
   "cell_type": "code",
   "execution_count": 28,
   "id": "8dac6e1e",
   "metadata": {},
   "outputs": [
    {
     "data": {
      "text/html": [
       "<div>\n",
       "<style scoped>\n",
       "    .dataframe tbody tr th:only-of-type {\n",
       "        vertical-align: middle;\n",
       "    }\n",
       "\n",
       "    .dataframe tbody tr th {\n",
       "        vertical-align: top;\n",
       "    }\n",
       "\n",
       "    .dataframe thead th {\n",
       "        text-align: right;\n",
       "    }\n",
       "</style>\n",
       "<table border=\"1\" class=\"dataframe\">\n",
       "  <thead>\n",
       "    <tr style=\"text-align: right;\">\n",
       "      <th></th>\n",
       "      <th>A</th>\n",
       "      <th>B</th>\n",
       "      <th>C</th>\n",
       "    </tr>\n",
       "  </thead>\n",
       "  <tbody>\n",
       "    <tr>\n",
       "      <th>1</th>\n",
       "      <td>A3</td>\n",
       "      <td>B3</td>\n",
       "      <td>C3</td>\n",
       "    </tr>\n",
       "  </tbody>\n",
       "</table>\n",
       "</div>"
      ],
      "text/plain": [
       "    A   B   C\n",
       "1  A3  B3  C3"
      ]
     },
     "execution_count": 28,
     "metadata": {},
     "output_type": "execute_result"
    }
   ],
   "source": [
    "anti_join(df1, df2, on=\"C\")"
   ]
  },
  {
   "cell_type": "markdown",
   "id": "31105e22",
   "metadata": {},
   "source": [
    "**`Note:`** For implementing these filtering joins we could've also used the `.merge()` method with the `indicator` parameter set to True. This will create a new column named `_merge` which will indicate whether the row is present in both dataframes or not (both, left_only, right_only). Then we can filter the dataframe based on the `_merge` column. \n",
    "\n",
    "Below we give an example of this approach (only for anti join, but the same can be done for semi join)."
   ]
  },
  {
   "cell_type": "code",
   "execution_count": 29,
   "id": "11fbb431",
   "metadata": {},
   "outputs": [],
   "source": [
    "def anti_join_merge_method(left_df, right_df, on):\n",
    "    merged = left_df.merge(right_df, on=on, how=\"left\", indicator=True)\n",
    "    mask = merged.loc[\n",
    "        merged._merge == \"left_only\", on\n",
    "    ]  # apply filtering condition and also select the \"on\" col\n",
    "    return left_df[left_df[on].isin(mask)]"
   ]
  },
  {
   "cell_type": "code",
   "execution_count": 30,
   "id": "05c666a5",
   "metadata": {},
   "outputs": [
    {
     "data": {
      "text/html": [
       "<div>\n",
       "<style scoped>\n",
       "    .dataframe tbody tr th:only-of-type {\n",
       "        vertical-align: middle;\n",
       "    }\n",
       "\n",
       "    .dataframe tbody tr th {\n",
       "        vertical-align: top;\n",
       "    }\n",
       "\n",
       "    .dataframe thead th {\n",
       "        text-align: right;\n",
       "    }\n",
       "</style>\n",
       "<table border=\"1\" class=\"dataframe\">\n",
       "  <thead>\n",
       "    <tr style=\"text-align: right;\">\n",
       "      <th></th>\n",
       "      <th>A</th>\n",
       "      <th>B</th>\n",
       "      <th>C</th>\n",
       "    </tr>\n",
       "  </thead>\n",
       "  <tbody>\n",
       "    <tr>\n",
       "      <th>1</th>\n",
       "      <td>A3</td>\n",
       "      <td>B3</td>\n",
       "      <td>C3</td>\n",
       "    </tr>\n",
       "  </tbody>\n",
       "</table>\n",
       "</div>"
      ],
      "text/plain": [
       "    A   B   C\n",
       "1  A3  B3  C3"
      ]
     },
     "execution_count": 30,
     "metadata": {},
     "output_type": "execute_result"
    }
   ],
   "source": [
    "anti_join_merge_method(df1, df2, \"C\")"
   ]
  },
  {
   "cell_type": "markdown",
   "id": "ff829dc5",
   "metadata": {},
   "source": [
    "--------------------------------"
   ]
  },
  {
   "cell_type": "markdown",
   "id": "91bfa803",
   "metadata": {},
   "source": [
    "## <a id='toc4_'></a>[The `pd.concat()` method: Adding multiple dataframes together along a certain axis](#toc0_)"
   ]
  },
  {
   "cell_type": "markdown",
   "id": "75e79913",
   "metadata": {},
   "source": [
    "--------------------------------"
   ]
  },
  {
   "cell_type": "markdown",
   "id": "9ca58102",
   "metadata": {},
   "source": [
    "The concat method takes a sequence of Series or DataFrame objects and stiches them along a certain axis."
   ]
  },
  {
   "cell_type": "markdown",
   "id": "9c23f63d",
   "metadata": {},
   "source": [
    "<u>Function Parameters and their usage</u>"
   ]
  },
  {
   "cell_type": "markdown",
   "id": "feecb302",
   "metadata": {},
   "source": [
    "- To **add rows** of different dataframes together, use concat along **axis=0**. \n",
    "- Note that, *.concat()* preserves index values, so the resulting dataframe is most likely to have duplicate indexes. To raise an error if there's duplicate index values use, **verify_integrity = True**. However, if you think that the existing index labels doesn't contain useful information and you want to create new monotonically increasing indexes use, **ignore_index = True**.\n",
    "- To add labels to the resulting dataframe use, **keys = [list of labels]**. This will create a hierarchial index. Note that, you can't set *ignore_index = True* if you want to provide *keys*.\n",
    "- To sort non-concatenation axis if it is not already aligned use, **sort = True**.\n",
    "- By default the concat method will combine the common columns in the provided dataframes into single columns i.e, it won't create columns like colname_x, colname_y etc. like the merge method. For the columns that are not common in the dataframes, they will still be included and for indexes that doesn't have a value in a particular column, it will be filled with NaN. To change this behaviour use, **join = 'inner'**. This will only include the common columns in the resulting dataframe."
   ]
  },
  {
   "cell_type": "markdown",
   "id": "5b03d064",
   "metadata": {},
   "source": [
    "To **add columns** of different dataframes together, use concat along **axis=1**. However, using the .assign method is more prefferable."
   ]
  },
  {
   "cell_type": "code",
   "execution_count": 31,
   "id": "0b0216b7",
   "metadata": {},
   "outputs": [],
   "source": [
    "# example dataframes\n",
    "car_df1 = pd.DataFrame(\n",
    "    {\"name\": [\"John\", \"George\", \"Ringo\"], \"color\": [\"Blue\", \"Blue\", \"Purple\"]}\n",
    ")\n",
    "car_df2 = pd.DataFrame(\n",
    "    {\"name\": [\"Paul\", \"George\", \"Ringo\"], \"carcolor\": [\"Red\", \"Blue\", np.nan]},\n",
    "    index=[3, 1, 2],\n",
    ")"
   ]
  },
  {
   "cell_type": "code",
   "execution_count": 32,
   "id": "70c998e0",
   "metadata": {},
   "outputs": [
    {
     "data": {
      "text/html": [
       "<div>\n",
       "<style scoped>\n",
       "    .dataframe tbody tr th:only-of-type {\n",
       "        vertical-align: middle;\n",
       "    }\n",
       "\n",
       "    .dataframe tbody tr th {\n",
       "        vertical-align: top;\n",
       "    }\n",
       "\n",
       "    .dataframe thead th {\n",
       "        text-align: right;\n",
       "    }\n",
       "</style>\n",
       "<table border=\"1\" class=\"dataframe\">\n",
       "  <thead>\n",
       "    <tr style=\"text-align: right;\">\n",
       "      <th></th>\n",
       "      <th></th>\n",
       "      <th>name</th>\n",
       "      <th>color</th>\n",
       "      <th>carcolor</th>\n",
       "    </tr>\n",
       "  </thead>\n",
       "  <tbody>\n",
       "    <tr>\n",
       "      <th rowspan=\"3\" valign=\"top\">df1</th>\n",
       "      <th>0</th>\n",
       "      <td>John</td>\n",
       "      <td>Blue</td>\n",
       "      <td>NaN</td>\n",
       "    </tr>\n",
       "    <tr>\n",
       "      <th>1</th>\n",
       "      <td>George</td>\n",
       "      <td>Blue</td>\n",
       "      <td>NaN</td>\n",
       "    </tr>\n",
       "    <tr>\n",
       "      <th>2</th>\n",
       "      <td>Ringo</td>\n",
       "      <td>Purple</td>\n",
       "      <td>NaN</td>\n",
       "    </tr>\n",
       "    <tr>\n",
       "      <th rowspan=\"3\" valign=\"top\">df2</th>\n",
       "      <th>3</th>\n",
       "      <td>Paul</td>\n",
       "      <td>NaN</td>\n",
       "      <td>Red</td>\n",
       "    </tr>\n",
       "    <tr>\n",
       "      <th>1</th>\n",
       "      <td>George</td>\n",
       "      <td>NaN</td>\n",
       "      <td>Blue</td>\n",
       "    </tr>\n",
       "    <tr>\n",
       "      <th>2</th>\n",
       "      <td>Ringo</td>\n",
       "      <td>NaN</td>\n",
       "      <td>NaN</td>\n",
       "    </tr>\n",
       "  </tbody>\n",
       "</table>\n",
       "</div>"
      ],
      "text/plain": [
       "         name   color carcolor\n",
       "df1 0    John    Blue      NaN\n",
       "    1  George    Blue      NaN\n",
       "    2   Ringo  Purple      NaN\n",
       "df2 3    Paul     NaN      Red\n",
       "    1  George     NaN     Blue\n",
       "    2   Ringo     NaN      NaN"
      ]
     },
     "execution_count": 32,
     "metadata": {},
     "output_type": "execute_result"
    }
   ],
   "source": [
    "pd.concat([car_df1, car_df2], keys=[\"df1\", \"df2\"])"
   ]
  },
  {
   "cell_type": "markdown",
   "id": "43049746",
   "metadata": {},
   "source": [
    "--------------------------------"
   ]
  },
  {
   "cell_type": "markdown",
   "id": "64013f84",
   "metadata": {},
   "source": [
    "## <a id='toc5_'></a>[Merging ordered data: The `pd.merge_ordered()` method](#toc0_)"
   ]
  },
  {
   "cell_type": "markdown",
   "id": "09f6dd75",
   "metadata": {},
   "source": [
    "--------------------------------"
   ]
  },
  {
   "cell_type": "markdown",
   "id": "ded1fc8e",
   "metadata": {},
   "source": [
    "The `pd.merge(left, right, on, left_on, right_on, left_by, right_by, how, fill_method, suffixes)` method is used for merging ordered data like time series data. It is similar to the `pd.merge()` method but it has some additional parameters. For example, it offers optional filling/interpolation for missing data. Unlike the *df.merge()* method it can also perform group-wise merging. But the pd.merge_ordered() method can't be used to merge dataframes based on indexes (well that's natuaral since sorted indexes doesn't necessarily represent sorted data)."
   ]
  },
  {
   "cell_type": "markdown",
   "id": "1c2c4828",
   "metadata": {},
   "source": [
    "<u>Function Parameters</u>\n",
    "\n",
    "- `fill_method:` *{'ffill', None}*, default None. Interpolation method for filling Nan values. When using merge_ordered() to merge on multiple columns, the order is important when you combine it with the forward fill feature. The function sorts the merge on columns in the order provided. Depending on the order provided, the fill forward will use unintended data to fill in the missing values.\n",
    "- `how:` *{'left', 'right', 'outer', 'inner'}*, default 'outer' (in df.merge the default is 'inner')."
   ]
  },
  {
   "cell_type": "markdown",
   "id": "8661ead4",
   "metadata": {},
   "source": [
    "**Example 01** \n",
    "\n",
    "Let's say we have two datasets. One lists the GDP of USA from 2010 to 2018. The other one lists the returns of the S&P 500 companies from 2008 to 2017 (the data we have is mostly oredered but some entries are not ordered by data as they should be). We believe there may be a relationship between the returns of the S&P 500 and the GDP of the US. We want to verify that hypothesis."
   ]
  },
  {
   "cell_type": "code",
   "execution_count": 33,
   "id": "3cf13322",
   "metadata": {},
   "outputs": [],
   "source": [
    "gdp = pd.read_csv(\"./Data/us_gdp.csv\", index_col=\"id\")\n",
    "sp500 = pd.read_csv(\"./Data/sp_500_returns.csv\", index_col=\"id\")"
   ]
  },
  {
   "cell_type": "code",
   "execution_count": 34,
   "id": "9a083db6",
   "metadata": {},
   "outputs": [
    {
     "data": {
      "text/html": [
       "<div>\n",
       "<style scoped>\n",
       "    .dataframe tbody tr th:only-of-type {\n",
       "        vertical-align: middle;\n",
       "    }\n",
       "\n",
       "    .dataframe tbody tr th {\n",
       "        vertical-align: top;\n",
       "    }\n",
       "\n",
       "    .dataframe thead th {\n",
       "        text-align: right;\n",
       "    }\n",
       "</style>\n",
       "<table border=\"1\" class=\"dataframe\">\n",
       "  <thead>\n",
       "    <tr style=\"text-align: right;\">\n",
       "      <th></th>\n",
       "      <th>country code</th>\n",
       "      <th>year</th>\n",
       "      <th>gdp</th>\n",
       "    </tr>\n",
       "    <tr>\n",
       "      <th>id</th>\n",
       "      <th></th>\n",
       "      <th></th>\n",
       "      <th></th>\n",
       "    </tr>\n",
       "  </thead>\n",
       "  <tbody>\n",
       "    <tr>\n",
       "      <th>3</th>\n",
       "      <td>USA</td>\n",
       "      <td>2010</td>\n",
       "      <td>1.499000e+13</td>\n",
       "    </tr>\n",
       "    <tr>\n",
       "      <th>7</th>\n",
       "      <td>USA</td>\n",
       "      <td>2011</td>\n",
       "      <td>1.554000e+13</td>\n",
       "    </tr>\n",
       "    <tr>\n",
       "      <th>11</th>\n",
       "      <td>USA</td>\n",
       "      <td>2012</td>\n",
       "      <td>1.620000e+13</td>\n",
       "    </tr>\n",
       "    <tr>\n",
       "      <th>15</th>\n",
       "      <td>USA</td>\n",
       "      <td>2012</td>\n",
       "      <td>1.620000e+13</td>\n",
       "    </tr>\n",
       "    <tr>\n",
       "      <th>19</th>\n",
       "      <td>USA</td>\n",
       "      <td>2013</td>\n",
       "      <td>1.678000e+13</td>\n",
       "    </tr>\n",
       "  </tbody>\n",
       "</table>\n",
       "</div>"
      ],
      "text/plain": [
       "   country code  year           gdp\n",
       "id                                 \n",
       "3           USA  2010  1.499000e+13\n",
       "7           USA  2011  1.554000e+13\n",
       "11          USA  2012  1.620000e+13\n",
       "15          USA  2012  1.620000e+13\n",
       "19          USA  2013  1.678000e+13"
      ]
     },
     "execution_count": 34,
     "metadata": {},
     "output_type": "execute_result"
    }
   ],
   "source": [
    "# note that, the data for year 2012 is duplicated but has a different index label\n",
    "gdp.head()"
   ]
  },
  {
   "cell_type": "code",
   "execution_count": 35,
   "id": "2a927bb3",
   "metadata": {},
   "outputs": [
    {
     "data": {
      "text/html": [
       "<div>\n",
       "<style scoped>\n",
       "    .dataframe tbody tr th:only-of-type {\n",
       "        vertical-align: middle;\n",
       "    }\n",
       "\n",
       "    .dataframe tbody tr th {\n",
       "        vertical-align: top;\n",
       "    }\n",
       "\n",
       "    .dataframe thead th {\n",
       "        text-align: right;\n",
       "    }\n",
       "</style>\n",
       "<table border=\"1\" class=\"dataframe\">\n",
       "  <thead>\n",
       "    <tr style=\"text-align: right;\">\n",
       "      <th></th>\n",
       "      <th>date</th>\n",
       "      <th>returns</th>\n",
       "    </tr>\n",
       "    <tr>\n",
       "      <th>id</th>\n",
       "      <th></th>\n",
       "      <th></th>\n",
       "    </tr>\n",
       "  </thead>\n",
       "  <tbody>\n",
       "    <tr>\n",
       "      <th>5</th>\n",
       "      <td>2014</td>\n",
       "      <td>11.39</td>\n",
       "    </tr>\n",
       "    <tr>\n",
       "      <th>6</th>\n",
       "      <td>2015</td>\n",
       "      <td>-0.73</td>\n",
       "    </tr>\n",
       "    <tr>\n",
       "      <th>7</th>\n",
       "      <td>2016</td>\n",
       "      <td>9.54</td>\n",
       "    </tr>\n",
       "    <tr>\n",
       "      <th>8</th>\n",
       "      <td>2017</td>\n",
       "      <td>19.42</td>\n",
       "    </tr>\n",
       "    <tr>\n",
       "      <th>9</th>\n",
       "      <td>2013</td>\n",
       "      <td>29.60</td>\n",
       "    </tr>\n",
       "  </tbody>\n",
       "</table>\n",
       "</div>"
      ],
      "text/plain": [
       "    date  returns\n",
       "id               \n",
       "5   2014    11.39\n",
       "6   2015    -0.73\n",
       "7   2016     9.54\n",
       "8   2017    19.42\n",
       "9   2013    29.60"
      ]
     },
     "execution_count": 35,
     "metadata": {},
     "output_type": "execute_result"
    }
   ],
   "source": [
    "# note that, the data for year 2013 is not after 2012 rather at the very end\n",
    "sp500.tail()"
   ]
  },
  {
   "cell_type": "code",
   "execution_count": 36,
   "id": "050762dd",
   "metadata": {},
   "outputs": [],
   "source": [
    "# We use merge_ordered() to merge gdp and sp500 (so that the years are all sorted)\n",
    "# we also interpolate missing value for they year 2018 in the sp500 df\n",
    "gdp_sp500 = pd.merge_ordered(\n",
    "    gdp, sp500, left_on=\"year\", right_on=\"date\", how=\"left\", fill_method=\"ffill\"\n",
    ")"
   ]
  },
  {
   "cell_type": "code",
   "execution_count": 37,
   "id": "d52800f2",
   "metadata": {},
   "outputs": [
    {
     "data": {
      "text/html": [
       "<div>\n",
       "<style scoped>\n",
       "    .dataframe tbody tr th:only-of-type {\n",
       "        vertical-align: middle;\n",
       "    }\n",
       "\n",
       "    .dataframe tbody tr th {\n",
       "        vertical-align: top;\n",
       "    }\n",
       "\n",
       "    .dataframe thead th {\n",
       "        text-align: right;\n",
       "    }\n",
       "</style>\n",
       "<table border=\"1\" class=\"dataframe\">\n",
       "  <thead>\n",
       "    <tr style=\"text-align: right;\">\n",
       "      <th></th>\n",
       "      <th>country code</th>\n",
       "      <th>year</th>\n",
       "      <th>gdp</th>\n",
       "      <th>date</th>\n",
       "      <th>returns</th>\n",
       "    </tr>\n",
       "  </thead>\n",
       "  <tbody>\n",
       "    <tr>\n",
       "      <th>0</th>\n",
       "      <td>USA</td>\n",
       "      <td>2010</td>\n",
       "      <td>1.499000e+13</td>\n",
       "      <td>2010</td>\n",
       "      <td>12.78</td>\n",
       "    </tr>\n",
       "    <tr>\n",
       "      <th>1</th>\n",
       "      <td>USA</td>\n",
       "      <td>2011</td>\n",
       "      <td>1.554000e+13</td>\n",
       "      <td>2011</td>\n",
       "      <td>0.00</td>\n",
       "    </tr>\n",
       "    <tr>\n",
       "      <th>2</th>\n",
       "      <td>USA</td>\n",
       "      <td>2012</td>\n",
       "      <td>1.620000e+13</td>\n",
       "      <td>2012</td>\n",
       "      <td>13.41</td>\n",
       "    </tr>\n",
       "    <tr>\n",
       "      <th>3</th>\n",
       "      <td>USA</td>\n",
       "      <td>2012</td>\n",
       "      <td>1.620000e+13</td>\n",
       "      <td>2012</td>\n",
       "      <td>13.41</td>\n",
       "    </tr>\n",
       "    <tr>\n",
       "      <th>4</th>\n",
       "      <td>USA</td>\n",
       "      <td>2013</td>\n",
       "      <td>1.678000e+13</td>\n",
       "      <td>2013</td>\n",
       "      <td>29.60</td>\n",
       "    </tr>\n",
       "  </tbody>\n",
       "</table>\n",
       "</div>"
      ],
      "text/plain": [
       "  country code  year           gdp  date  returns\n",
       "0          USA  2010  1.499000e+13  2010    12.78\n",
       "1          USA  2011  1.554000e+13  2011     0.00\n",
       "2          USA  2012  1.620000e+13  2012    13.41\n",
       "3          USA  2012  1.620000e+13  2012    13.41\n",
       "4          USA  2013  1.678000e+13  2013    29.60"
      ]
     },
     "execution_count": 37,
     "metadata": {},
     "output_type": "execute_result"
    }
   ],
   "source": [
    "gdp_sp500.head()"
   ]
  },
  {
   "cell_type": "code",
   "execution_count": 38,
   "id": "cf35ed64",
   "metadata": {},
   "outputs": [
    {
     "name": "stdout",
     "output_type": "stream",
     "text": [
      "              gdp   returns\n",
      "gdp      1.000000  0.211734\n",
      "returns  0.211734  1.000000\n"
     ]
    }
   ],
   "source": [
    "# next we ubset the gdp and returns columns\n",
    "gdp_returns = gdp_sp500.loc[:, [\"gdp\", \"returns\"]]\n",
    "\n",
    "# calculating correlation between gdp and returns\n",
    "print(gdp_returns.corr())"
   ]
  },
  {
   "cell_type": "markdown",
   "id": "757dd40d",
   "metadata": {},
   "source": [
    "**Example 02** \n",
    "\n",
    "We have two different datasets about the GDP and Population information of Australia and Sweden. The GDP information is quarterly and the Population information is Yearly. We would like to know how the two countries gdp per capita (i.e, gdp/pop) changed over the years and how do they compare with each other."
   ]
  },
  {
   "cell_type": "code",
   "execution_count": 39,
   "id": "70635f83",
   "metadata": {},
   "outputs": [],
   "source": [
    "gdp = pd.read_csv(\"./Data/aus_swd_gdp.csv\", index_col=\"id\", parse_dates=[\"date\"])\n",
    "pop = pd.read_csv(\"./Data/aus_swd_pop.csv\", index_col=\"id\", parse_dates=[\"date\"])"
   ]
  },
  {
   "cell_type": "code",
   "execution_count": 40,
   "id": "7380481c",
   "metadata": {},
   "outputs": [
    {
     "data": {
      "text/plain": [
       "(32, 4)"
      ]
     },
     "execution_count": 40,
     "metadata": {},
     "output_type": "execute_result"
    }
   ],
   "source": [
    "gdp.shape"
   ]
  },
  {
   "cell_type": "code",
   "execution_count": 41,
   "id": "7556b121",
   "metadata": {},
   "outputs": [
    {
     "data": {
      "text/html": [
       "<div>\n",
       "<style scoped>\n",
       "    .dataframe tbody tr th:only-of-type {\n",
       "        vertical-align: middle;\n",
       "    }\n",
       "\n",
       "    .dataframe tbody tr th {\n",
       "        vertical-align: top;\n",
       "    }\n",
       "\n",
       "    .dataframe thead th {\n",
       "        text-align: right;\n",
       "    }\n",
       "</style>\n",
       "<table border=\"1\" class=\"dataframe\">\n",
       "  <thead>\n",
       "    <tr style=\"text-align: right;\">\n",
       "      <th></th>\n",
       "      <th>date</th>\n",
       "      <th>country</th>\n",
       "      <th>gdp</th>\n",
       "      <th>series_code</th>\n",
       "    </tr>\n",
       "    <tr>\n",
       "      <th>id</th>\n",
       "      <th></th>\n",
       "      <th></th>\n",
       "      <th></th>\n",
       "      <th></th>\n",
       "    </tr>\n",
       "  </thead>\n",
       "  <tbody>\n",
       "    <tr>\n",
       "      <th>0</th>\n",
       "      <td>1990-01-01</td>\n",
       "      <td>Australia</td>\n",
       "      <td>158051.132</td>\n",
       "      <td>NYGDPMKTPSAKD</td>\n",
       "    </tr>\n",
       "    <tr>\n",
       "      <th>1</th>\n",
       "      <td>1990-04-01</td>\n",
       "      <td>Australia</td>\n",
       "      <td>158263.582</td>\n",
       "      <td>NYGDPMKTPSAKD</td>\n",
       "    </tr>\n",
       "    <tr>\n",
       "      <th>2</th>\n",
       "      <td>1990-07-01</td>\n",
       "      <td>Australia</td>\n",
       "      <td>157329.279</td>\n",
       "      <td>NYGDPMKTPSAKD</td>\n",
       "    </tr>\n",
       "    <tr>\n",
       "      <th>3</th>\n",
       "      <td>1990-09-01</td>\n",
       "      <td>Australia</td>\n",
       "      <td>158240.678</td>\n",
       "      <td>NYGDPMKTPSAKD</td>\n",
       "    </tr>\n",
       "    <tr>\n",
       "      <th>4</th>\n",
       "      <td>1991-01-01</td>\n",
       "      <td>Australia</td>\n",
       "      <td>156195.954</td>\n",
       "      <td>NYGDPMKTPSAKD</td>\n",
       "    </tr>\n",
       "  </tbody>\n",
       "</table>\n",
       "</div>"
      ],
      "text/plain": [
       "         date    country         gdp    series_code\n",
       "id                                                 \n",
       "0  1990-01-01  Australia  158051.132  NYGDPMKTPSAKD\n",
       "1  1990-04-01  Australia  158263.582  NYGDPMKTPSAKD\n",
       "2  1990-07-01  Australia  157329.279  NYGDPMKTPSAKD\n",
       "3  1990-09-01  Australia  158240.678  NYGDPMKTPSAKD\n",
       "4  1991-01-01  Australia  156195.954  NYGDPMKTPSAKD"
      ]
     },
     "execution_count": 41,
     "metadata": {},
     "output_type": "execute_result"
    }
   ],
   "source": [
    "gdp.head()"
   ]
  },
  {
   "cell_type": "code",
   "execution_count": 42,
   "id": "083e1fd1",
   "metadata": {},
   "outputs": [
    {
     "data": {
      "text/html": [
       "<div>\n",
       "<style scoped>\n",
       "    .dataframe tbody tr th:only-of-type {\n",
       "        vertical-align: middle;\n",
       "    }\n",
       "\n",
       "    .dataframe tbody tr th {\n",
       "        vertical-align: top;\n",
       "    }\n",
       "\n",
       "    .dataframe thead th {\n",
       "        text-align: right;\n",
       "    }\n",
       "</style>\n",
       "<table border=\"1\" class=\"dataframe\">\n",
       "  <thead>\n",
       "    <tr style=\"text-align: right;\">\n",
       "      <th></th>\n",
       "      <th>date</th>\n",
       "      <th>country</th>\n",
       "      <th>pop</th>\n",
       "      <th>series_code</th>\n",
       "    </tr>\n",
       "    <tr>\n",
       "      <th>id</th>\n",
       "      <th></th>\n",
       "      <th></th>\n",
       "      <th></th>\n",
       "      <th></th>\n",
       "    </tr>\n",
       "  </thead>\n",
       "  <tbody>\n",
       "    <tr>\n",
       "      <th>0</th>\n",
       "      <td>1990-01-01</td>\n",
       "      <td>Australia</td>\n",
       "      <td>17065100</td>\n",
       "      <td>SP.POP.TOTL</td>\n",
       "    </tr>\n",
       "    <tr>\n",
       "      <th>1</th>\n",
       "      <td>1991-01-01</td>\n",
       "      <td>Australia</td>\n",
       "      <td>17284000</td>\n",
       "      <td>SP.POP.TOTL</td>\n",
       "    </tr>\n",
       "    <tr>\n",
       "      <th>2</th>\n",
       "      <td>1992-01-01</td>\n",
       "      <td>Australia</td>\n",
       "      <td>17495000</td>\n",
       "      <td>SP.POP.TOTL</td>\n",
       "    </tr>\n",
       "    <tr>\n",
       "      <th>3</th>\n",
       "      <td>1993-01-01</td>\n",
       "      <td>Australia</td>\n",
       "      <td>17667000</td>\n",
       "      <td>SP.POP.TOTL</td>\n",
       "    </tr>\n",
       "    <tr>\n",
       "      <th>4</th>\n",
       "      <td>1990-01-01</td>\n",
       "      <td>Sweden</td>\n",
       "      <td>8558835</td>\n",
       "      <td>SP.POP.TOTL</td>\n",
       "    </tr>\n",
       "    <tr>\n",
       "      <th>5</th>\n",
       "      <td>1991-01-01</td>\n",
       "      <td>Sweden</td>\n",
       "      <td>8617375</td>\n",
       "      <td>SP.POP.TOTL</td>\n",
       "    </tr>\n",
       "    <tr>\n",
       "      <th>6</th>\n",
       "      <td>1992-01-01</td>\n",
       "      <td>Sweden</td>\n",
       "      <td>8668067</td>\n",
       "      <td>SP.POP.TOTL</td>\n",
       "    </tr>\n",
       "    <tr>\n",
       "      <th>7</th>\n",
       "      <td>1993-01-01</td>\n",
       "      <td>Sweden</td>\n",
       "      <td>8718561</td>\n",
       "      <td>SP.POP.TOTL</td>\n",
       "    </tr>\n",
       "  </tbody>\n",
       "</table>\n",
       "</div>"
      ],
      "text/plain": [
       "         date    country       pop  series_code\n",
       "id                                             \n",
       "0  1990-01-01  Australia  17065100  SP.POP.TOTL\n",
       "1  1991-01-01  Australia  17284000  SP.POP.TOTL\n",
       "2  1992-01-01  Australia  17495000  SP.POP.TOTL\n",
       "3  1993-01-01  Australia  17667000  SP.POP.TOTL\n",
       "4  1990-01-01     Sweden   8558835  SP.POP.TOTL\n",
       "5  1991-01-01     Sweden   8617375  SP.POP.TOTL\n",
       "6  1992-01-01     Sweden   8668067  SP.POP.TOTL\n",
       "7  1993-01-01     Sweden   8718561  SP.POP.TOTL"
      ]
     },
     "execution_count": 42,
     "metadata": {},
     "output_type": "execute_result"
    }
   ],
   "source": [
    "pop"
   ]
  },
  {
   "cell_type": "code",
   "execution_count": 43,
   "id": "0fbb7e44",
   "metadata": {},
   "outputs": [],
   "source": [
    "# First we need to merge the two dataframes together on the date and country columns\n",
    "# to ensure that correct country data is selected for merging\n",
    "\n",
    "# Since the two dataframes have different date frequencies we can either use resampling or we can just use\n",
    "# the fill_method = \"ffill\" in the pd.merge_ordered() method\n",
    "\n",
    "# But be careful because we have to pass the column names in proper order otherwise ffill will use incorect values\n",
    "# Since the pop table has less rows and the country column is a categorical one we pass on = [\"country\", \"date\"]\n",
    "\n",
    "gdp_pop = pd.merge_ordered(gdp, pop, on=[\"country\", \"date\"], fill_method=\"ffill\")"
   ]
  },
  {
   "cell_type": "code",
   "execution_count": 44,
   "id": "a1542331",
   "metadata": {},
   "outputs": [
    {
     "data": {
      "text/html": [
       "<div>\n",
       "<style scoped>\n",
       "    .dataframe tbody tr th:only-of-type {\n",
       "        vertical-align: middle;\n",
       "    }\n",
       "\n",
       "    .dataframe tbody tr th {\n",
       "        vertical-align: top;\n",
       "    }\n",
       "\n",
       "    .dataframe thead th {\n",
       "        text-align: right;\n",
       "    }\n",
       "</style>\n",
       "<table border=\"1\" class=\"dataframe\">\n",
       "  <thead>\n",
       "    <tr style=\"text-align: right;\">\n",
       "      <th></th>\n",
       "      <th>date</th>\n",
       "      <th>country</th>\n",
       "      <th>gdp</th>\n",
       "      <th>series_code_x</th>\n",
       "      <th>pop</th>\n",
       "      <th>series_code_y</th>\n",
       "    </tr>\n",
       "  </thead>\n",
       "  <tbody>\n",
       "    <tr>\n",
       "      <th>0</th>\n",
       "      <td>1990-01-01</td>\n",
       "      <td>Australia</td>\n",
       "      <td>158051.132</td>\n",
       "      <td>NYGDPMKTPSAKD</td>\n",
       "      <td>17065100</td>\n",
       "      <td>SP.POP.TOTL</td>\n",
       "    </tr>\n",
       "    <tr>\n",
       "      <th>1</th>\n",
       "      <td>1990-04-01</td>\n",
       "      <td>Australia</td>\n",
       "      <td>158263.582</td>\n",
       "      <td>NYGDPMKTPSAKD</td>\n",
       "      <td>17065100</td>\n",
       "      <td>SP.POP.TOTL</td>\n",
       "    </tr>\n",
       "    <tr>\n",
       "      <th>2</th>\n",
       "      <td>1990-07-01</td>\n",
       "      <td>Australia</td>\n",
       "      <td>157329.279</td>\n",
       "      <td>NYGDPMKTPSAKD</td>\n",
       "      <td>17065100</td>\n",
       "      <td>SP.POP.TOTL</td>\n",
       "    </tr>\n",
       "    <tr>\n",
       "      <th>3</th>\n",
       "      <td>1990-09-01</td>\n",
       "      <td>Australia</td>\n",
       "      <td>158240.678</td>\n",
       "      <td>NYGDPMKTPSAKD</td>\n",
       "      <td>17065100</td>\n",
       "      <td>SP.POP.TOTL</td>\n",
       "    </tr>\n",
       "    <tr>\n",
       "      <th>4</th>\n",
       "      <td>1991-01-01</td>\n",
       "      <td>Australia</td>\n",
       "      <td>156195.954</td>\n",
       "      <td>NYGDPMKTPSAKD</td>\n",
       "      <td>17284000</td>\n",
       "      <td>SP.POP.TOTL</td>\n",
       "    </tr>\n",
       "  </tbody>\n",
       "</table>\n",
       "</div>"
      ],
      "text/plain": [
       "        date    country         gdp  series_code_x       pop series_code_y\n",
       "0 1990-01-01  Australia  158051.132  NYGDPMKTPSAKD  17065100   SP.POP.TOTL\n",
       "1 1990-04-01  Australia  158263.582  NYGDPMKTPSAKD  17065100   SP.POP.TOTL\n",
       "2 1990-07-01  Australia  157329.279  NYGDPMKTPSAKD  17065100   SP.POP.TOTL\n",
       "3 1990-09-01  Australia  158240.678  NYGDPMKTPSAKD  17065100   SP.POP.TOTL\n",
       "4 1991-01-01  Australia  156195.954  NYGDPMKTPSAKD  17284000   SP.POP.TOTL"
      ]
     },
     "execution_count": 44,
     "metadata": {},
     "output_type": "execute_result"
    }
   ],
   "source": [
    "gdp_pop.head()"
   ]
  },
  {
   "cell_type": "code",
   "execution_count": 45,
   "id": "8cd8c364",
   "metadata": {},
   "outputs": [
    {
     "data": {
      "text/html": [
       "<div>\n",
       "<style scoped>\n",
       "    .dataframe tbody tr th:only-of-type {\n",
       "        vertical-align: middle;\n",
       "    }\n",
       "\n",
       "    .dataframe tbody tr th {\n",
       "        vertical-align: top;\n",
       "    }\n",
       "\n",
       "    .dataframe thead th {\n",
       "        text-align: right;\n",
       "    }\n",
       "</style>\n",
       "<table border=\"1\" class=\"dataframe\">\n",
       "  <thead>\n",
       "    <tr style=\"text-align: right;\">\n",
       "      <th></th>\n",
       "      <th>date</th>\n",
       "      <th>country</th>\n",
       "      <th>gdp</th>\n",
       "      <th>series_code_x</th>\n",
       "      <th>pop</th>\n",
       "      <th>series_code_y</th>\n",
       "    </tr>\n",
       "  </thead>\n",
       "  <tbody>\n",
       "    <tr>\n",
       "      <th>0</th>\n",
       "      <td>1990-01-01</td>\n",
       "      <td>Australia</td>\n",
       "      <td>158051.132</td>\n",
       "      <td>NYGDPMKTPSAKD</td>\n",
       "      <td>17065100</td>\n",
       "      <td>SP.POP.TOTL</td>\n",
       "    </tr>\n",
       "    <tr>\n",
       "      <th>1</th>\n",
       "      <td>1990-01-01</td>\n",
       "      <td>Sweden</td>\n",
       "      <td>79837.846</td>\n",
       "      <td>NYGDPMKTPSAKD</td>\n",
       "      <td>8558835</td>\n",
       "      <td>SP.POP.TOTL</td>\n",
       "    </tr>\n",
       "    <tr>\n",
       "      <th>2</th>\n",
       "      <td>1990-04-01</td>\n",
       "      <td>Australia</td>\n",
       "      <td>158263.582</td>\n",
       "      <td>NYGDPMKTPSAKD</td>\n",
       "      <td>8558835</td>\n",
       "      <td>SP.POP.TOTL</td>\n",
       "    </tr>\n",
       "    <tr>\n",
       "      <th>3</th>\n",
       "      <td>1990-04-01</td>\n",
       "      <td>Sweden</td>\n",
       "      <td>80582.286</td>\n",
       "      <td>NYGDPMKTPSAKD</td>\n",
       "      <td>8558835</td>\n",
       "      <td>SP.POP.TOTL</td>\n",
       "    </tr>\n",
       "    <tr>\n",
       "      <th>4</th>\n",
       "      <td>1990-07-01</td>\n",
       "      <td>Australia</td>\n",
       "      <td>157329.279</td>\n",
       "      <td>NYGDPMKTPSAKD</td>\n",
       "      <td>8558835</td>\n",
       "      <td>SP.POP.TOTL</td>\n",
       "    </tr>\n",
       "  </tbody>\n",
       "</table>\n",
       "</div>"
      ],
      "text/plain": [
       "        date    country         gdp  series_code_x       pop series_code_y\n",
       "0 1990-01-01  Australia  158051.132  NYGDPMKTPSAKD  17065100   SP.POP.TOTL\n",
       "1 1990-01-01     Sweden   79837.846  NYGDPMKTPSAKD   8558835   SP.POP.TOTL\n",
       "2 1990-04-01  Australia  158263.582  NYGDPMKTPSAKD   8558835   SP.POP.TOTL\n",
       "3 1990-04-01     Sweden   80582.286  NYGDPMKTPSAKD   8558835   SP.POP.TOTL\n",
       "4 1990-07-01  Australia  157329.279  NYGDPMKTPSAKD   8558835   SP.POP.TOTL"
      ]
     },
     "execution_count": 45,
     "metadata": {},
     "output_type": "execute_result"
    }
   ],
   "source": [
    "# see the contrast with on=['date', 'country']\n",
    "# this is because after merging the data is sorted first by date and then by country (pay attention to date col)\n",
    "# after that filling is applied\n",
    "pd.merge_ordered(gdp, pop, on=[\"date\", \"country\"], fill_method=\"ffill\").head()"
   ]
  },
  {
   "cell_type": "code",
   "execution_count": 46,
   "id": "d5595553",
   "metadata": {},
   "outputs": [],
   "source": [
    "# next we add a column calculating gdp_per_capita\n",
    "gdp_pop[\"gdp_per_capita\"] = gdp_pop[\"gdp\"] / gdp_pop[\"pop\"]"
   ]
  },
  {
   "cell_type": "code",
   "execution_count": 47,
   "id": "3cea6d9c",
   "metadata": {},
   "outputs": [
    {
     "data": {
      "text/html": [
       "<div>\n",
       "<style scoped>\n",
       "    .dataframe tbody tr th:only-of-type {\n",
       "        vertical-align: middle;\n",
       "    }\n",
       "\n",
       "    .dataframe tbody tr th {\n",
       "        vertical-align: top;\n",
       "    }\n",
       "\n",
       "    .dataframe thead th {\n",
       "        text-align: right;\n",
       "    }\n",
       "</style>\n",
       "<table border=\"1\" class=\"dataframe\">\n",
       "  <thead>\n",
       "    <tr style=\"text-align: right;\">\n",
       "      <th></th>\n",
       "      <th>date</th>\n",
       "      <th>country</th>\n",
       "      <th>gdp</th>\n",
       "      <th>series_code_x</th>\n",
       "      <th>pop</th>\n",
       "      <th>series_code_y</th>\n",
       "      <th>gdp_per_capita</th>\n",
       "    </tr>\n",
       "  </thead>\n",
       "  <tbody>\n",
       "    <tr>\n",
       "      <th>0</th>\n",
       "      <td>1990-01-01</td>\n",
       "      <td>Australia</td>\n",
       "      <td>158051.132</td>\n",
       "      <td>NYGDPMKTPSAKD</td>\n",
       "      <td>17065100</td>\n",
       "      <td>SP.POP.TOTL</td>\n",
       "      <td>0.009262</td>\n",
       "    </tr>\n",
       "    <tr>\n",
       "      <th>1</th>\n",
       "      <td>1990-04-01</td>\n",
       "      <td>Australia</td>\n",
       "      <td>158263.582</td>\n",
       "      <td>NYGDPMKTPSAKD</td>\n",
       "      <td>17065100</td>\n",
       "      <td>SP.POP.TOTL</td>\n",
       "      <td>0.009274</td>\n",
       "    </tr>\n",
       "    <tr>\n",
       "      <th>2</th>\n",
       "      <td>1990-07-01</td>\n",
       "      <td>Australia</td>\n",
       "      <td>157329.279</td>\n",
       "      <td>NYGDPMKTPSAKD</td>\n",
       "      <td>17065100</td>\n",
       "      <td>SP.POP.TOTL</td>\n",
       "      <td>0.009219</td>\n",
       "    </tr>\n",
       "    <tr>\n",
       "      <th>3</th>\n",
       "      <td>1990-09-01</td>\n",
       "      <td>Australia</td>\n",
       "      <td>158240.678</td>\n",
       "      <td>NYGDPMKTPSAKD</td>\n",
       "      <td>17065100</td>\n",
       "      <td>SP.POP.TOTL</td>\n",
       "      <td>0.009273</td>\n",
       "    </tr>\n",
       "    <tr>\n",
       "      <th>4</th>\n",
       "      <td>1991-01-01</td>\n",
       "      <td>Australia</td>\n",
       "      <td>156195.954</td>\n",
       "      <td>NYGDPMKTPSAKD</td>\n",
       "      <td>17284000</td>\n",
       "      <td>SP.POP.TOTL</td>\n",
       "      <td>0.009037</td>\n",
       "    </tr>\n",
       "  </tbody>\n",
       "</table>\n",
       "</div>"
      ],
      "text/plain": [
       "        date    country         gdp  series_code_x       pop series_code_y  \\\n",
       "0 1990-01-01  Australia  158051.132  NYGDPMKTPSAKD  17065100   SP.POP.TOTL   \n",
       "1 1990-04-01  Australia  158263.582  NYGDPMKTPSAKD  17065100   SP.POP.TOTL   \n",
       "2 1990-07-01  Australia  157329.279  NYGDPMKTPSAKD  17065100   SP.POP.TOTL   \n",
       "3 1990-09-01  Australia  158240.678  NYGDPMKTPSAKD  17065100   SP.POP.TOTL   \n",
       "4 1991-01-01  Australia  156195.954  NYGDPMKTPSAKD  17284000   SP.POP.TOTL   \n",
       "\n",
       "   gdp_per_capita  \n",
       "0        0.009262  \n",
       "1        0.009274  \n",
       "2        0.009219  \n",
       "3        0.009273  \n",
       "4        0.009037  "
      ]
     },
     "execution_count": 47,
     "metadata": {},
     "output_type": "execute_result"
    }
   ],
   "source": [
    "gdp_pop.head()"
   ]
  },
  {
   "cell_type": "code",
   "execution_count": 48,
   "id": "7349e6d4",
   "metadata": {},
   "outputs": [
    {
     "data": {
      "text/html": [
       "<div>\n",
       "<style scoped>\n",
       "    .dataframe tbody tr th:only-of-type {\n",
       "        vertical-align: middle;\n",
       "    }\n",
       "\n",
       "    .dataframe tbody tr th {\n",
       "        vertical-align: top;\n",
       "    }\n",
       "\n",
       "    .dataframe thead th {\n",
       "        text-align: right;\n",
       "    }\n",
       "</style>\n",
       "<table border=\"1\" class=\"dataframe\">\n",
       "  <thead>\n",
       "    <tr style=\"text-align: right;\">\n",
       "      <th>country</th>\n",
       "      <th>Australia</th>\n",
       "      <th>Sweden</th>\n",
       "    </tr>\n",
       "    <tr>\n",
       "      <th>date</th>\n",
       "      <th></th>\n",
       "      <th></th>\n",
       "    </tr>\n",
       "  </thead>\n",
       "  <tbody>\n",
       "    <tr>\n",
       "      <th>1990-01-01</th>\n",
       "      <td>0.009262</td>\n",
       "      <td>0.009328</td>\n",
       "    </tr>\n",
       "    <tr>\n",
       "      <th>1990-04-01</th>\n",
       "      <td>0.009274</td>\n",
       "      <td>0.009415</td>\n",
       "    </tr>\n",
       "    <tr>\n",
       "      <th>1990-07-01</th>\n",
       "      <td>0.009219</td>\n",
       "      <td>0.009344</td>\n",
       "    </tr>\n",
       "    <tr>\n",
       "      <th>1990-09-01</th>\n",
       "      <td>0.009273</td>\n",
       "      <td>0.009360</td>\n",
       "    </tr>\n",
       "    <tr>\n",
       "      <th>1991-01-01</th>\n",
       "      <td>0.009037</td>\n",
       "      <td>0.009228</td>\n",
       "    </tr>\n",
       "  </tbody>\n",
       "</table>\n",
       "</div>"
      ],
      "text/plain": [
       "country     Australia    Sweden\n",
       "date                           \n",
       "1990-01-01   0.009262  0.009328\n",
       "1990-04-01   0.009274  0.009415\n",
       "1990-07-01   0.009219  0.009344\n",
       "1990-09-01   0.009273  0.009360\n",
       "1991-01-01   0.009037  0.009228"
      ]
     },
     "execution_count": 48,
     "metadata": {},
     "output_type": "execute_result"
    }
   ],
   "source": [
    "# We pivot the data so index is date and columns is country and values is gdp_per_capita\n",
    "gdp_pivot = gdp_pop.pivot_table(\"gdp_per_capita\", \"date\", \"country\")\n",
    "gdp_pivot.head()"
   ]
  },
  {
   "cell_type": "code",
   "execution_count": 49,
   "id": "9225b10f",
   "metadata": {},
   "outputs": [
    {
     "data": {
      "text/plain": [
       "<Axes: xlabel='date'>"
      ]
     },
     "execution_count": 49,
     "metadata": {},
     "output_type": "execute_result"
    },
    {
     "data": {
      "image/png": "[encoded data removed]",
      "text/plain": [
       "<Figure size 640x480 with 1 Axes>"
      ]
     },
     "metadata": {},
     "output_type": "display_data"
    }
   ],
   "source": [
    "gdp_pivot.plot(rot=90)"
   ]
  },
  {
   "cell_type": "markdown",
   "id": "939d95a2",
   "metadata": {},
   "source": [
    "--------------------------------"
   ]
  },
  {
   "cell_type": "markdown",
   "id": "4f0e1daf",
   "metadata": {},
   "source": [
    "## <a id='toc6_'></a>[Fuzzy matching of ordered data: The `pd.merge_asof()` method](#toc0_)"
   ]
  },
  {
   "cell_type": "markdown",
   "id": "367b79df",
   "metadata": {},
   "source": [
    "--------------------------------"
   ]
  },
  {
   "cell_type": "markdown",
   "id": "7f27d2c1",
   "metadata": {},
   "source": [
    "Another method for merging ordered data is the `pd.merge_asof(left, right, on, left_on, right_on, left_index, right_index, suffixes, direction)` method. This is similar to a left-join except that we match on nearest key rather than equal keys. Note that before merging both DataFrames must be sorted by the key. It is mainly used for fuzzy matching of dates between dataframes."
   ]
  },
  {
   "cell_type": "markdown",
   "id": "04caaf69",
   "metadata": {},
   "source": [
    "**Example 01** \n",
    "\n",
    "Let's say we have a feed of stock market prices. We attempted to track the price every five minutes. Still, due to some network latency, the prices you record are roughly every 5 minutes but not exactly 5 minutes. We pulled data for two banks, JP Morgan (JPM) and Bank Of America (BAC). We want to know how the price change of the two banks compare."
   ]
  },
  {
   "cell_type": "code",
   "execution_count": 50,
   "id": "ee88af76",
   "metadata": {},
   "outputs": [],
   "source": [
    "jpm = pd.read_csv(\n",
    "    \"./Data/jpm.csv\", index_col=\"id\", parse_dates=[\"date_time\"]\n",
    ").sort_values(by=\"date_time\")\n",
    "bac = pd.read_csv(\n",
    "    \"./Data/bac.csv\", index_col=\"id\", parse_dates=[\"date_time\"]\n",
    ").sort_values(by=\"date_time\")"
   ]
  },
  {
   "cell_type": "code",
   "execution_count": 51,
   "id": "94d3e37c",
   "metadata": {},
   "outputs": [
    {
     "data": {
      "text/html": [
       "<div>\n",
       "<style scoped>\n",
       "    .dataframe tbody tr th:only-of-type {\n",
       "        vertical-align: middle;\n",
       "    }\n",
       "\n",
       "    .dataframe tbody tr th {\n",
       "        vertical-align: top;\n",
       "    }\n",
       "\n",
       "    .dataframe thead th {\n",
       "        text-align: right;\n",
       "    }\n",
       "</style>\n",
       "<table border=\"1\" class=\"dataframe\">\n",
       "  <thead>\n",
       "    <tr style=\"text-align: right;\">\n",
       "      <th></th>\n",
       "      <th>date_time</th>\n",
       "      <th>close</th>\n",
       "    </tr>\n",
       "    <tr>\n",
       "      <th>id</th>\n",
       "      <th></th>\n",
       "      <th></th>\n",
       "    </tr>\n",
       "  </thead>\n",
       "  <tbody>\n",
       "    <tr>\n",
       "      <th>0</th>\n",
       "      <td>2017-11-17 15:35:17</td>\n",
       "      <td>98.120</td>\n",
       "    </tr>\n",
       "    <tr>\n",
       "      <th>1</th>\n",
       "      <td>2017-11-17 15:40:04</td>\n",
       "      <td>98.180</td>\n",
       "    </tr>\n",
       "    <tr>\n",
       "      <th>2</th>\n",
       "      <td>2017-11-17 15:45:01</td>\n",
       "      <td>97.731</td>\n",
       "    </tr>\n",
       "    <tr>\n",
       "      <th>3</th>\n",
       "      <td>2017-11-17 15:50:55</td>\n",
       "      <td>97.740</td>\n",
       "    </tr>\n",
       "    <tr>\n",
       "      <th>4</th>\n",
       "      <td>2017-11-17 15:55:00</td>\n",
       "      <td>97.815</td>\n",
       "    </tr>\n",
       "  </tbody>\n",
       "</table>\n",
       "</div>"
      ],
      "text/plain": [
       "             date_time   close\n",
       "id                            \n",
       "0  2017-11-17 15:35:17  98.120\n",
       "1  2017-11-17 15:40:04  98.180\n",
       "2  2017-11-17 15:45:01  97.731\n",
       "3  2017-11-17 15:50:55  97.740\n",
       "4  2017-11-17 15:55:00  97.815"
      ]
     },
     "execution_count": 51,
     "metadata": {},
     "output_type": "execute_result"
    }
   ],
   "source": [
    "jpm.head()"
   ]
  },
  {
   "cell_type": "code",
   "execution_count": 52,
   "id": "246c18c1",
   "metadata": {},
   "outputs": [
    {
     "data": {
      "text/html": [
       "<div>\n",
       "<style scoped>\n",
       "    .dataframe tbody tr th:only-of-type {\n",
       "        vertical-align: middle;\n",
       "    }\n",
       "\n",
       "    .dataframe tbody tr th {\n",
       "        vertical-align: top;\n",
       "    }\n",
       "\n",
       "    .dataframe thead th {\n",
       "        text-align: right;\n",
       "    }\n",
       "</style>\n",
       "<table border=\"1\" class=\"dataframe\">\n",
       "  <thead>\n",
       "    <tr style=\"text-align: right;\">\n",
       "      <th></th>\n",
       "      <th>date_time</th>\n",
       "      <th>close</th>\n",
       "    </tr>\n",
       "    <tr>\n",
       "      <th>id</th>\n",
       "      <th></th>\n",
       "      <th></th>\n",
       "    </tr>\n",
       "  </thead>\n",
       "  <tbody>\n",
       "    <tr>\n",
       "      <th>0</th>\n",
       "      <td>2017-11-17 15:35:17</td>\n",
       "      <td>26.552</td>\n",
       "    </tr>\n",
       "    <tr>\n",
       "      <th>1</th>\n",
       "      <td>2017-11-17 15:40:06</td>\n",
       "      <td>26.552</td>\n",
       "    </tr>\n",
       "    <tr>\n",
       "      <th>2</th>\n",
       "      <td>2017-11-17 15:45:05</td>\n",
       "      <td>26.388</td>\n",
       "    </tr>\n",
       "    <tr>\n",
       "      <th>3</th>\n",
       "      <td>2017-11-17 15:50:34</td>\n",
       "      <td>26.378</td>\n",
       "    </tr>\n",
       "    <tr>\n",
       "      <th>4</th>\n",
       "      <td>2017-11-17 15:55:06</td>\n",
       "      <td>26.383</td>\n",
       "    </tr>\n",
       "  </tbody>\n",
       "</table>\n",
       "</div>"
      ],
      "text/plain": [
       "             date_time   close\n",
       "id                            \n",
       "0  2017-11-17 15:35:17  26.552\n",
       "1  2017-11-17 15:40:06  26.552\n",
       "2  2017-11-17 15:45:05  26.388\n",
       "3  2017-11-17 15:50:34  26.378\n",
       "4  2017-11-17 15:55:06  26.383"
      ]
     },
     "execution_count": 52,
     "metadata": {},
     "output_type": "execute_result"
    }
   ],
   "source": [
    "bac.head()"
   ]
  },
  {
   "cell_type": "code",
   "execution_count": 53,
   "id": "ee4c8f0d",
   "metadata": {},
   "outputs": [],
   "source": [
    "merged_forward = pd.merge_asof(\n",
    "    jpm, bac, on=\"date_time\", suffixes=(\"_jpm\", \"_bac\"), direction=\"forward\"\n",
    ")"
   ]
  },
  {
   "cell_type": "code",
   "execution_count": 54,
   "id": "fe9d85c8",
   "metadata": {},
   "outputs": [
    {
     "data": {
      "text/html": [
       "<div>\n",
       "<style scoped>\n",
       "    .dataframe tbody tr th:only-of-type {\n",
       "        vertical-align: middle;\n",
       "    }\n",
       "\n",
       "    .dataframe tbody tr th {\n",
       "        vertical-align: top;\n",
       "    }\n",
       "\n",
       "    .dataframe thead th {\n",
       "        text-align: right;\n",
       "    }\n",
       "</style>\n",
       "<table border=\"1\" class=\"dataframe\">\n",
       "  <thead>\n",
       "    <tr style=\"text-align: right;\">\n",
       "      <th></th>\n",
       "      <th>date_time</th>\n",
       "      <th>close_jpm</th>\n",
       "      <th>close_bac</th>\n",
       "    </tr>\n",
       "  </thead>\n",
       "  <tbody>\n",
       "    <tr>\n",
       "      <th>0</th>\n",
       "      <td>2017-11-17 15:35:17</td>\n",
       "      <td>98.120</td>\n",
       "      <td>26.552</td>\n",
       "    </tr>\n",
       "    <tr>\n",
       "      <th>1</th>\n",
       "      <td>2017-11-17 15:40:04</td>\n",
       "      <td>98.180</td>\n",
       "      <td>26.552</td>\n",
       "    </tr>\n",
       "    <tr>\n",
       "      <th>2</th>\n",
       "      <td>2017-11-17 15:45:01</td>\n",
       "      <td>97.731</td>\n",
       "      <td>26.388</td>\n",
       "    </tr>\n",
       "    <tr>\n",
       "      <th>3</th>\n",
       "      <td>2017-11-17 15:50:55</td>\n",
       "      <td>97.740</td>\n",
       "      <td>26.383</td>\n",
       "    </tr>\n",
       "    <tr>\n",
       "      <th>4</th>\n",
       "      <td>2017-11-17 15:55:00</td>\n",
       "      <td>97.815</td>\n",
       "      <td>26.383</td>\n",
       "    </tr>\n",
       "  </tbody>\n",
       "</table>\n",
       "</div>"
      ],
      "text/plain": [
       "            date_time  close_jpm  close_bac\n",
       "0 2017-11-17 15:35:17     98.120     26.552\n",
       "1 2017-11-17 15:40:04     98.180     26.552\n",
       "2 2017-11-17 15:45:01     97.731     26.388\n",
       "3 2017-11-17 15:50:55     97.740     26.383\n",
       "4 2017-11-17 15:55:00     97.815     26.383"
      ]
     },
     "execution_count": 54,
     "metadata": {},
     "output_type": "execute_result"
    }
   ],
   "source": [
    "merged_forward.head()"
   ]
  },
  {
   "cell_type": "code",
   "execution_count": 55,
   "id": "de38cd58",
   "metadata": {},
   "outputs": [],
   "source": [
    "merged_forward_diff = merged_forward.diff()"
   ]
  },
  {
   "cell_type": "code",
   "execution_count": 56,
   "id": "acfdee07",
   "metadata": {},
   "outputs": [
    {
     "data": {
      "text/html": [
       "<div>\n",
       "<style scoped>\n",
       "    .dataframe tbody tr th:only-of-type {\n",
       "        vertical-align: middle;\n",
       "    }\n",
       "\n",
       "    .dataframe tbody tr th {\n",
       "        vertical-align: top;\n",
       "    }\n",
       "\n",
       "    .dataframe thead th {\n",
       "        text-align: right;\n",
       "    }\n",
       "</style>\n",
       "<table border=\"1\" class=\"dataframe\">\n",
       "  <thead>\n",
       "    <tr style=\"text-align: right;\">\n",
       "      <th></th>\n",
       "      <th>date_time</th>\n",
       "      <th>close_jpm</th>\n",
       "      <th>close_bac</th>\n",
       "    </tr>\n",
       "  </thead>\n",
       "  <tbody>\n",
       "    <tr>\n",
       "      <th>0</th>\n",
       "      <td>NaT</td>\n",
       "      <td>NaN</td>\n",
       "      <td>NaN</td>\n",
       "    </tr>\n",
       "    <tr>\n",
       "      <th>1</th>\n",
       "      <td>0 days 00:04:47</td>\n",
       "      <td>0.060</td>\n",
       "      <td>0.000</td>\n",
       "    </tr>\n",
       "    <tr>\n",
       "      <th>2</th>\n",
       "      <td>0 days 00:04:57</td>\n",
       "      <td>-0.449</td>\n",
       "      <td>-0.164</td>\n",
       "    </tr>\n",
       "    <tr>\n",
       "      <th>3</th>\n",
       "      <td>0 days 00:05:54</td>\n",
       "      <td>0.009</td>\n",
       "      <td>-0.005</td>\n",
       "    </tr>\n",
       "    <tr>\n",
       "      <th>4</th>\n",
       "      <td>0 days 00:04:05</td>\n",
       "      <td>0.075</td>\n",
       "      <td>0.000</td>\n",
       "    </tr>\n",
       "  </tbody>\n",
       "</table>\n",
       "</div>"
      ],
      "text/plain": [
       "        date_time  close_jpm  close_bac\n",
       "0             NaT        NaN        NaN\n",
       "1 0 days 00:04:47      0.060      0.000\n",
       "2 0 days 00:04:57     -0.449     -0.164\n",
       "3 0 days 00:05:54      0.009     -0.005\n",
       "4 0 days 00:04:05      0.075      0.000"
      ]
     },
     "execution_count": 56,
     "metadata": {},
     "output_type": "execute_result"
    }
   ],
   "source": [
    "merged_forward_diff.head()"
   ]
  },
  {
   "cell_type": "code",
   "execution_count": 57,
   "id": "dc2ef29d",
   "metadata": {},
   "outputs": [
    {
     "data": {
      "text/plain": [
       "<Axes: >"
      ]
     },
     "execution_count": 57,
     "metadata": {},
     "output_type": "execute_result"
    },
    {
     "data": {
      "image/png": "[encoded data removed]",
      "text/plain": [
       "<Figure size 640x480 with 1 Axes>"
      ]
     },
     "metadata": {},
     "output_type": "display_data"
    }
   ],
   "source": [
    "merged_forward_diff.plot(kind=\"line\", y=[\"close_jpm\", \"close_bac\"])"
   ]
  },
  {
   "cell_type": "code",
   "execution_count": null,
   "id": "ed889e2a",
   "metadata": {},
   "outputs": [],
   "source": []
  }
 ],
 "metadata": {
  "kernelspec": {
   "display_name": "Python 3 (ipykernel)",
   "language": "python",
   "name": "python3"
  },
  "language_info": {
   "codemirror_mode": {
    "name": "ipython",
    "version": 3
   },
   "file_extension": ".py",
   "mimetype": "text/x-python",
   "name": "python",
   "nbconvert_exporter": "python",
   "pygments_lexer": "ipython3",
   "version": "3.11.4"
  },
  "vscode": {
   "interpreter": {
    "hash": "c68b33fb54bb59552268eca97cce0a66d93ba1e1c3c0870be37ac7a47ccc96a3"
   }
  }
 },
 "nbformat": 4,
 "nbformat_minor": 5
}
