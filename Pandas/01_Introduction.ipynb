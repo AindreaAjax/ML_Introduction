{
 "cells": [
  {
   "cell_type": "markdown",
   "id": "d9cf4701",
   "metadata": {},
   "source": [
    "# Fundamental concepts"
   ]
  },
  {
   "cell_type": "markdown",
   "id": "1327025f",
   "metadata": {},
   "source": [
    "**Table of contents**<a id='toc0_'></a>    \n",
    "- [Pandas primary data structures](#toc1_1_1_)    \n",
    "- [The notion of Index](#toc1_1_2_)    \n",
    "- [Data types](#toc1_1_3_)    \n",
    "- [Some quick hacks](#toc1_1_4_)    \n",
    "\n",
    "<!-- vscode-jupyter-toc-config\n",
    "\tnumbering=false\n",
    "\tanchor=true\n",
    "\tflat=false\n",
    "\tminLevel=2\n",
    "\tmaxLevel=4\n",
    "\t/vscode-jupyter-toc-config -->\n",
    "<!-- THIS CELL WILL BE REPLACED ON TOC UPDATE. DO NOT WRITE YOUR TEXT IN THIS CELL -->"
   ]
  },
  {
   "cell_type": "markdown",
   "metadata": {},
   "source": [
    "-------------------------\n",
    "#### <a id='toc1_1_1_'></a>[Pandas primary data structures](#toc0_)\n",
    "----------------------"
   ]
  },
  {
   "cell_type": "markdown",
   "id": "0b2306ba",
   "metadata": {},
   "source": [
    "There are two main data structures in pandas. \n",
    "- Series: It is one dimensional and is similar to a single column of data.\n",
    "- DataFrame: It is two dimensional and can be considered as a collection of Series objects."
   ]
  },
  {
   "cell_type": "code",
   "execution_count": 1,
   "id": "16f517ac-7d2d-4c70-8d16-053ad6cbbc4e",
   "metadata": {},
   "outputs": [],
   "source": [
    "# import statements\n",
    "import numpy as np\n",
    "import pandas as pd"
   ]
  },
  {
   "attachments": {},
   "cell_type": "markdown",
   "id": "56855d52-2821-4f4a-8330-0bdad0b3e082",
   "metadata": {},
   "source": [
    "- #### *constructing Series objects*"
   ]
  },
  {
   "cell_type": "markdown",
   "id": "95398b97-fe8f-4584-8249-b5535241d976",
   "metadata": {},
   "source": [
    "> `pd.Series(data, index, dtype, name, copy)` method is used for creating a series object"
   ]
  },
  {
   "cell_type": "code",
   "execution_count": null,
   "id": "86a5124d",
   "metadata": {},
   "outputs": [],
   "source": [
    "gpa = pd.Series(\n",
    "    data=[3.38, 3.58, 3.76, 3.1],\n",
    "    index=[\"Hasan\", \"Ali\", \"Pial\", \"David\"],\n",
    "    dtype=\"float64\",\n",
    "    name=\"GPA_of_Term_01\",\n",
    ")"
   ]
  },
  {
   "cell_type": "code",
   "execution_count": 3,
   "id": "b2febe24-7ce0-4be0-ad67-2ad435818788",
   "metadata": {},
   "outputs": [
    {
     "data": {
      "text/plain": [
       "Hasan    3.38\n",
       "Ali      3.58\n",
       "Pial     3.76\n",
       "David    3.10\n",
       "Name: GPA_of_Term_01, dtype: float64"
      ]
     },
     "execution_count": 3,
     "metadata": {},
     "output_type": "execute_result"
    }
   ],
   "source": [
    "gpa"
   ]
  },
  {
   "cell_type": "code",
   "execution_count": 4,
   "id": "b9ecd67c-5477-4929-8915-d39686fa6454",
   "metadata": {},
   "outputs": [
    {
     "data": {
      "text/plain": [
       "Index(['Hasan', 'Ali', 'Pial', 'David'], dtype='object')"
      ]
     },
     "execution_count": 4,
     "metadata": {},
     "output_type": "execute_result"
    }
   ],
   "source": [
    "# index values\n",
    "gpa.index"
   ]
  },
  {
   "attachments": {},
   "cell_type": "markdown",
   "id": "8a7ef4f2-9bce-4701-96a5-186fa57e3f3a",
   "metadata": {},
   "source": [
    "- #### *constructing DataFrame objects*"
   ]
  },
  {
   "cell_type": "code",
   "execution_count": 5,
   "id": "14cc0133-0493-4c0b-864c-052a2c9c92e0",
   "metadata": {},
   "outputs": [],
   "source": [
    "# we need to have this array in column arrangement for this example\n",
    "term_gpa = np.array([[3.38, 3.58, 3.76, 3.1], [3.6, 3.65, 3.71, 3.4]]).T"
   ]
  },
  {
   "cell_type": "markdown",
   "id": "fcfaeb7c-51ac-4938-99db-2f2397740011",
   "metadata": {},
   "source": [
    "> `pd.DataFrame(data, index, columns, dtype, copy)` method is used for creating a pandas Dataframe object"
   ]
  },
  {
   "cell_type": "code",
   "execution_count": null,
   "id": "2fe667c0",
   "metadata": {},
   "outputs": [],
   "source": [
    "gpa_term = pd.DataFrame(\n",
    "    data=term_gpa,\n",
    "    index=[\"Hasan\", \"Ali\", \"Pial\", \"David\"],\n",
    "    columns=[\"GPA of Term 01\", \"GPA of Term 02\"],\n",
    "    copy=True,\n",
    ")"
   ]
  },
  {
   "cell_type": "code",
   "execution_count": 7,
   "id": "ac818ad5",
   "metadata": {},
   "outputs": [
    {
     "data": {
      "text/html": [
       "<div>\n",
       "<style scoped>\n",
       "    .dataframe tbody tr th:only-of-type {\n",
       "        vertical-align: middle;\n",
       "    }\n",
       "\n",
       "    .dataframe tbody tr th {\n",
       "        vertical-align: top;\n",
       "    }\n",
       "\n",
       "    .dataframe thead th {\n",
       "        text-align: right;\n",
       "    }\n",
       "</style>\n",
       "<table border=\"1\" class=\"dataframe\">\n",
       "  <thead>\n",
       "    <tr style=\"text-align: right;\">\n",
       "      <th></th>\n",
       "      <th>GPA of Term 01</th>\n",
       "      <th>GPA of Term 02</th>\n",
       "    </tr>\n",
       "  </thead>\n",
       "  <tbody>\n",
       "    <tr>\n",
       "      <th>Hasan</th>\n",
       "      <td>3.38</td>\n",
       "      <td>3.60</td>\n",
       "    </tr>\n",
       "    <tr>\n",
       "      <th>Ali</th>\n",
       "      <td>3.58</td>\n",
       "      <td>3.65</td>\n",
       "    </tr>\n",
       "    <tr>\n",
       "      <th>Pial</th>\n",
       "      <td>3.76</td>\n",
       "      <td>3.71</td>\n",
       "    </tr>\n",
       "    <tr>\n",
       "      <th>David</th>\n",
       "      <td>3.10</td>\n",
       "      <td>3.40</td>\n",
       "    </tr>\n",
       "  </tbody>\n",
       "</table>\n",
       "</div>"
      ],
      "text/plain": [
       "       GPA of Term 01  GPA of Term 02\n",
       "Hasan            3.38            3.60\n",
       "Ali              3.58            3.65\n",
       "Pial             3.76            3.71\n",
       "David            3.10            3.40"
      ]
     },
     "execution_count": 7,
     "metadata": {},
     "output_type": "execute_result"
    }
   ],
   "source": [
    "gpa_term"
   ]
  },
  {
   "cell_type": "markdown",
   "metadata": {},
   "source": [
    "----------------------------------\n",
    "#### <a id='toc1_1_2_'></a>[The notion of Index](#toc0_)\n",
    "---------------------------------"
   ]
  },
  {
   "cell_type": "markdown",
   "id": "f7de44bb",
   "metadata": {},
   "source": [
    "The notion of **index** is very important in understanding Pandas data structures."
   ]
  },
  {
   "attachments": {},
   "cell_type": "markdown",
   "id": "d0c66a23-f7b5-4e57-b7e5-d003a494ae54",
   "metadata": {},
   "source": [
    "Along with the data, a pandas data structure has some other attributes associated with it, i.e, some extra bits of information. Such as, **an index** and a name (only in Series objects). "
   ]
  },
  {
   "attachments": {},
   "cell_type": "markdown",
   "id": "da69ac77-f6a4-421c-8dba-5edd7ac8b3cc",
   "metadata": {},
   "source": [
    "The index is not part of the values. Usually it is reffered to as **axis** and the values of the index (e.g, 0, 1, 2 etc.) are called **axis labels**. Whereas, the actual **data** is called the **values**."
   ]
  },
  {
   "attachments": {},
   "cell_type": "markdown",
   "id": "7aa91492-b664-456c-aaf2-41f5c34e8fec",
   "metadata": {},
   "source": [
    "The series object has one index and the dataframe object has two index (one for the rows and one for the columns)."
   ]
  },
  {
   "cell_type": "markdown",
   "id": "2c537244",
   "metadata": {},
   "source": [
    "The default values for index are increasing integers (starting from 0 with step=1). But, non-integer values such as, strings, dates, as well as arbitrarily ordered indices can be used as axis-labels. This allows much more functionality. We can even have duplicate index values."
   ]
  },
  {
   "cell_type": "markdown",
   "metadata": {},
   "source": [
    "------------------------\n",
    "#### <a id='toc1_1_3_'></a>[Data types](#toc0_)\n",
    "---------------------"
   ]
  },
  {
   "cell_type": "markdown",
   "id": "68d7ebef",
   "metadata": {},
   "source": [
    "As data values, a pandas data structure can hold numerical data, time data, strings, or arbitrary Python objects."
   ]
  },
  {
   "attachments": {},
   "cell_type": "markdown",
   "id": "11f07240-28a6-4df2-bc85-d77109ac93d4",
   "metadata": {},
   "source": [
    "To convert between different datatypes we can use the `<Series/DataFrame Object>.astype(dtype)` method."
   ]
  },
  {
   "attachments": {},
   "cell_type": "markdown",
   "id": "9c5f935f-1494-4e96-bafa-ca4739564d1a",
   "metadata": {},
   "source": [
    "**Note:** The first thing we should do when we load in a dataset is to check the datatype of each column and cast each of them to a more suitable datatype. This helps to save space and speed up different processes."
   ]
  },
  {
   "cell_type": "code",
   "execution_count": 8,
   "id": "f703872d-d105-45c0-ac79-cb382db6a597",
   "metadata": {},
   "outputs": [
    {
     "data": {
      "text/html": [
       "<div>\n",
       "<style scoped>\n",
       "    .dataframe tbody tr th:only-of-type {\n",
       "        vertical-align: middle;\n",
       "    }\n",
       "\n",
       "    .dataframe tbody tr th {\n",
       "        vertical-align: top;\n",
       "    }\n",
       "\n",
       "    .dataframe thead th {\n",
       "        text-align: right;\n",
       "    }\n",
       "</style>\n",
       "<table border=\"1\" class=\"dataframe\">\n",
       "  <thead>\n",
       "    <tr style=\"text-align: right;\">\n",
       "      <th></th>\n",
       "      <th>GPA of Term 01</th>\n",
       "      <th>GPA of Term 02</th>\n",
       "    </tr>\n",
       "  </thead>\n",
       "  <tbody>\n",
       "    <tr>\n",
       "      <th>Hasan</th>\n",
       "      <td>3.38</td>\n",
       "      <td>3.6</td>\n",
       "    </tr>\n",
       "    <tr>\n",
       "      <th>Ali</th>\n",
       "      <td>3.58</td>\n",
       "      <td>3.65</td>\n",
       "    </tr>\n",
       "    <tr>\n",
       "      <th>Pial</th>\n",
       "      <td>3.76</td>\n",
       "      <td>3.71</td>\n",
       "    </tr>\n",
       "    <tr>\n",
       "      <th>David</th>\n",
       "      <td>3.1</td>\n",
       "      <td>3.4</td>\n",
       "    </tr>\n",
       "  </tbody>\n",
       "</table>\n",
       "</div>"
      ],
      "text/plain": [
       "      GPA of Term 01 GPA of Term 02\n",
       "Hasan           3.38            3.6\n",
       "Ali             3.58           3.65\n",
       "Pial            3.76           3.71\n",
       "David            3.1            3.4"
      ]
     },
     "execution_count": 8,
     "metadata": {},
     "output_type": "execute_result"
    }
   ],
   "source": [
    "gpa_term.astype(dtype=\"str\")"
   ]
  },
  {
   "cell_type": "markdown",
   "id": "5cff400f",
   "metadata": {},
   "source": [
    "To have a basic idea about the pandas data types check out this article @ https://pbpython.com/pandas_dtypes.html"
   ]
  },
  {
   "cell_type": "markdown",
   "metadata": {},
   "source": [
    "------------------------\n",
    "#### <a id='toc1_1_4_'></a>[Some quick hacks](#toc0_)\n",
    "------------------------"
   ]
  },
  {
   "cell_type": "markdown",
   "id": "5333928a",
   "metadata": {},
   "source": [
    "To see some entries from the start of the series or dataframe we can use,\n",
    "\n",
    "    <Series|DataFrame>.head(n)\n",
    "    \n",
    "To see some entries from the end of the series or dataframe we can use,\n",
    "\n",
    "    <Series|DataFrame>.tail(n)\n",
    "    \n",
    "To see some random entries from the series or dataframe we can use,\n",
    "\n",
    "    <Series|DataFrame>.sample(n)"
   ]
  },
  {
   "attachments": {},
   "cell_type": "markdown",
   "id": "6f2542ee-0327-44b6-a034-6bf531aab468",
   "metadata": {},
   "source": [
    "To see an exploded view of a series or dataframe, instead of a partial view, we can use, \n",
    "\n",
    "    pd.set_option(\"display.max_columns\", m)\n",
    "    pd.set_option(\"display.max_rows\", n)"
   ]
  },
  {
   "cell_type": "code",
   "execution_count": null,
   "id": "767751de-9af2-4949-a2dd-8992107da67c",
   "metadata": {},
   "outputs": [],
   "source": []
  }
 ],
 "metadata": {
  "kernelspec": {
   "display_name": "Python 3 (ipykernel)",
   "language": "python",
   "name": "python3"
  },
  "language_info": {
   "codemirror_mode": {
    "name": "ipython",
    "version": 3
   },
   "file_extension": ".py",
   "mimetype": "text/x-python",
   "name": "python",
   "nbconvert_exporter": "python",
   "pygments_lexer": "ipython3",
   "version": "3.11.6"
  }
 },
 "nbformat": 4,
 "nbformat_minor": 5
}
