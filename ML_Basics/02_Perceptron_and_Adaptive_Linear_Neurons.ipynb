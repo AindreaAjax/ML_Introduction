{
 "cells": [
  {
   "cell_type": "markdown",
   "metadata": {},
   "source": [
    "## Artificial neurons - a brief glimpse into the early history of machine learning"
   ]
  },
  {
   "cell_type": "markdown",
   "metadata": {},
   "source": [
    "Warren McCulloch and Walter Pitts in 1943 published the first concept of a simplified brain cell, the so-called McCulloch-Pitts (MCP) neuron, when they were trying to understand how the biological brain works in order to design an Artificial Intelligence."
   ]
  },
  {
   "cell_type": "markdown",
   "metadata": {},
   "source": [
    "Biological neurons are interconnected nerve cells in the brain that are involved in the processing and \n",
    "transmitting of chemical and electrical signals, which is illustrated in the figure below.\n",
    "\n",
    "<img src=\"./imgs/biological_neurons.png\">"
   ]
  },
  {
   "cell_type": "markdown",
   "metadata": {},
   "source": [
    "McCulloch and Pitts simplified the biological neuron to a simple model of an artificial neuron. They described it as a simple logic gate with binary outputs; multiple signals arrive at the dendrites, they are then integrated into the cell body, and, if the accumulated signal exceeds a certain threshold, an output signal is generated that will be passed on by the axon.\n",
    "\n",
    "The artificial neuron either fires or it doesn't. And, whether it fires depends on the net input exceeding a certain threshold, $θ$ i.e., the output signal can be thought of as a unit step function.\n",
    "\n",
    "$$ \\text{output} = \\begin{cases} \\text{1 : net input } \\geq \\theta \\\\ \\text{0 : otherwise} \\end{cases} $$"
   ]
  },
  {
   "cell_type": "markdown",
   "metadata": {},
   "source": [
    "Only a few years later in 1957 Frank Rosenblatt published the first concept of the perceptron learning rule based on the MCP neuron model."
   ]
  },
  {
   "cell_type": "markdown",
   "metadata": {},
   "source": [
    "With his perceptron rule, Rosenblatt proposed an algorithm that would automatically *learn the optimal weight coefficients* that would *then be multiplied with the input features* in order to make the decision of whether a neuron fires (transmits a signal) or not."
   ]
  },
  {
   "cell_type": "markdown",
   "metadata": {},
   "source": [
    "In the context of supervised learning and classification, such an algorithm could then be used to predict whether a new data point belongs to one class or the other."
   ]
  },
  {
   "cell_type": "markdown",
   "metadata": {},
   "source": [
    "### The formal definition of an artificial neuron"
   ]
  },
  {
   "cell_type": "markdown",
   "metadata": {},
   "source": [
    "Formally we can describe the concept of MCP (MacCulloch-Pitts) neurons in the context of a binary classification task with two classes: 0 and 1."
   ]
  },
  {
   "cell_type": "markdown",
   "metadata": {},
   "source": [
    "The weights $w$ are real-valued numbers and $x$ is a vector of the input features:\n",
    "\n",
    "$$ w = \\begin{bmatrix} w_1 \\\\ w_2 \\\\ \\vdots \\\\ w_m \\end{bmatrix} \\quad x = \\begin{bmatrix} x_1 \\\\ x_2 \\\\ \\vdots \\\\ x_m \\end{bmatrix} $$\n",
    "\n",
    "The output of a neuron is then a function of the net input, $z$, where $z$ is the sum of the weighted inputs:\n",
    "\n",
    "$$ z = w_1x_1 + \\dots + w_mx_m = \\sum_{j=1}^{m}w_jx_j = w^Tx $$\n",
    "\n",
    "Now, if the net input of a particular obsevation, $x^{(i)}$, is greater than a defined threshold, $\\theta$, the neuron fires and takes the value 1 otherwise, it takes the value 0 and the decision function is simply:\n",
    "\n",
    "$$ \\sigma(z) = \\begin{cases} 1 & \\text{if } z \\geq \\theta \\\\ 0 & \\text{otherwise} \\end{cases} $$"
   ]
  },
  {
   "cell_type": "markdown",
   "metadata": {},
   "source": [
    "**`Note:`** Here the vector of input features, $x$ is a $(m \\times 1)$ dimensional matrix which is also called a column vector. In reality there are $m$ number of features for each observation, $i$. If we wrote the feature matrix as a whole for all the observations then it would have been a $(n \\times m)$ dimensional matrix where $m$ is the number of features and $n$ in the number of observations. The weight vector $w$ will be a $(m \\times p)$ dimensional matrix where $m$ is the number of columns in the feature matrix and $p$ is the number of outputs. The output of the neuron $y$ will be a $(n \\times p)$ dimensional matrix. One thing to note is that, for all observations the weight vector $w$ will be the same. The only thing that will change is the input feature vector $x$."
   ]
  },
  {
   "cell_type": "markdown",
   "metadata": {},
   "source": [
    "To simplify the code implementation, we rewrite the condition for firing the neuron as, \n",
    "\n",
    "$$z - \\theta \\geq 0$$ \n",
    "\n",
    "And we also define a **bias unit,** \n",
    "\n",
    "$$b = -\\theta$$\n",
    "\n",
    "So then the net input $z$ becomes:\n",
    "\n",
    "$$ z = w_1x_1 + \\dots + w_mx_m + b = \\sum_{j=1}^{m}w_jx_j + b = w^Tx + b $$\n",
    "\n",
    "And thus the decision function becomes:\n",
    "\n",
    "$$ \\sigma(z) = \\begin{cases} 1 & \\text{if } z \\geq 0 \\\\ 0 & \\text{otherwise} \\end{cases} $$"
   ]
  },
  {
   "cell_type": "markdown",
   "metadata": {},
   "source": [
    "## The perceptron learning rule"
   ]
  },
  {
   "cell_type": "markdown",
   "metadata": {},
   "source": [
    "Roseblatt's initial perceptron rule is fairly simple and can be summarized by the following steps:\n",
    "\n",
    "1. Initialize the weights to 0 or small random numbers.\n",
    "\n",
    "2. For each training sample $x^{(i)}$ perform the following steps:\n",
    "    - Compute the output value, $\\hat{y}$.\n",
    "    - Update the weights and bias unit."
   ]
  },
  {
   "cell_type": "markdown",
   "metadata": {},
   "source": [
    "The weights and bias are updated based on the following rules:\n",
    "\n",
    "$$ w_j := w_j + \\Delta w_j $$\n",
    "$$ \\Delta w_j = \\eta (y^{(i)} - \\hat{y}^{(i)})x_j^{(i)} $$\n",
    "\n",
    "$$ b := b + \\Delta b $$\n",
    "$$ \\Delta b = \\eta (y^{(i)} - \\hat{y}^{(i)}) $$\n",
    "\n",
    "Where, \n",
    "- $\\eta$ is the learning rate (a constant between 0.0 and 1.0)\n",
    "- $y^{(i)}$ is the true class label of the $i$ th training sample \n",
    "- $\\hat{y}^{(i)}$ is the predicted class label of the $i$ th training sample\n",
    "- $x_j^{(i)}$ is the $j$ th feature value of the $i$ th training sample"
   ]
  },
  {
   "cell_type": "markdown",
   "metadata": {},
   "source": [
    "To illustrate how beautifully simple the perceptron learning rule is let us think of two separate scenarios.\n",
    "\n",
    "**Scenario 1:** The perceptron predicts the class label correctly.\n",
    "\n",
    "1. $y_i = 1$ and $\\hat{y}_i = 1$; then $\\Delta w_j = \\eta (1 - 1) x_j^{(i)} = 0$ and $\\Delta b = \\eta (1 - 1) = 0$\n",
    "\n",
    "2. $y_i = 0$ and $\\hat{y}_i = 0$; then $\\Delta w_j = \\eta (0 - 0) x_j^{(i)} = 0$ and $\\Delta b = \\eta (0 - 0) = 0$\n",
    "\n",
    "**Scenario 2:** The perceptron predicts the class label incorrectly.\n",
    "\n",
    "1. $y_i = 1$ and $\\hat{y}_i = 0$; then $\\Delta w_j = \\eta (1 - 0) x_j^{(i)} = \\eta x_j^{(i)}$ and $\\Delta b = \\eta (1 - 0) = \\eta$\n",
    "\n",
    "2. $y_i = 0$ and $\\hat{y}_i = 1$; then $\\Delta w_j = \\eta (0 - 1) x_j^{(i)} = -\\eta x_j^{(i)}$ and $\\Delta b = \\eta (0 - 1) = -\\eta$"
   ]
  },
  {
   "cell_type": "markdown",
   "metadata": {},
   "source": [
    "So when the predictions are correct, the weights and bias unit remain unchanged. However, when the prediction is incorrect, the weights and bias unit are being pushed towards the direction of the positive or negative target class, respectively. "
   ]
  },
  {
   "cell_type": "markdown",
   "metadata": {},
   "source": [
    "Also note that the weight update is proportional to the value of the input feature. As a result when the perceptron encounters a sample that is far away from the decision boundary and incorrectly classifies the instance, the updates to the weights are also larger in order to make sure that the perceptron learns from such mistakes and gets it right the next time it encounters such an instance."
   ]
  },
  {
   "cell_type": "markdown",
   "metadata": {},
   "source": [
    "**`Note:`** It is important to note that the convergence of the perceptron is only guaranteed if the two classes \n",
    "are linearly separable. If the two classes can’t be separated by a linear decision boundary, we can set a maximum number of passes over the training dataset (***epochs***) and/or a threshold for the number of tolerated misclassifications, otherwise the perceptron would never stop updating the weights."
   ]
  },
  {
   "cell_type": "markdown",
   "metadata": {},
   "source": [
    "The following diagram nicely summarizes the concept of the perceptron:\n",
    "\n",
    "<img src=\"./imgs/perceptron.png\">"
   ]
  },
  {
   "cell_type": "markdown",
   "metadata": {},
   "source": [
    "*The perceptron receives the inputs of an example (x) and combines them with the bias unit (b) and weights (w) to compute the net input. The net input is then passed on to the threshold function, which generates a binary output of 0 or 1 — the predicted class label of the example. During the learning phase, this output is used to calculate the error of the prediction and update the weights and bias unit. Note that, the weights are updated after evaluating each individual observation.*"
   ]
  },
  {
   "cell_type": "markdown",
   "metadata": {},
   "source": [
    "### An object-oriented perceptron API"
   ]
  },
  {
   "cell_type": "markdown",
   "metadata": {},
   "source": [
    "**Note:** As a convention, class attributes that are not instantiated in the constructor method, has a trailing underscore (e.g., `self.w_`)."
   ]
  },
  {
   "cell_type": "code",
   "execution_count": 1,
   "metadata": {},
   "outputs": [],
   "source": [
    "class Perceptron:\n",
    "\n",
    "    \"\"\"\n",
    "    Implementation of the Rosenblatt's Perceptron algorithm (A single layer NN).\n",
    "\n",
    "    Parameters\n",
    "    -------------\n",
    "    eta : float\n",
    "        Learning rate of the perceptron (between 0.0 and 1.0), default 0.01.\n",
    "    n_epochs : int\n",
    "        Number of passes over the training set, default 25.\n",
    "    random_state : int\n",
    "        Random seed for reproducable random weight initialization, default 26.\n",
    "\n",
    "    Attributes\n",
    "    -------------\n",
    "    w_ : 1-d array\n",
    "        Final weights of the model after training is completed.\n",
    "    b_ : Scalar\n",
    "        The value of the bias unit after training is completed.\n",
    "    n_errors_ : List\n",
    "        Number of misclassifications (weight updates) in each epoch.\n",
    "    \"\"\"\n",
    "\n",
    "    def __init__(self, eta=0.01, n_epochs=25, random_state=26):\n",
    "        self.eta = eta\n",
    "        self.n_epochs = n_epochs\n",
    "        self.random_state = random_state\n",
    "\n",
    "    def fit(self, X, y):\n",
    "        \"\"\"\n",
    "        Parameters\n",
    "        ------------\n",
    "        X : {array-like}\n",
    "            Feature matrix of shape (n, m) where n is the number of observations\n",
    "            and m is the number of features.\n",
    "        y : {array-like}\n",
    "            Target variable of shape (n, 1).\n",
    "        \"\"\"\n",
    "        n, m = X.shape\n",
    "        rng = np.random.default_rng(seed=self.random_state)\n",
    "        self.w_ = rng.normal(loc=0, scale=0.01, size=m)\n",
    "        self.b_ = np.float32(0.0)\n",
    "\n",
    "        self.n_errors_ = []\n",
    "\n",
    "        for _ in range(self.n_epochs):\n",
    "            epoch_error_count = 0\n",
    "\n",
    "            # the weights are updated after each observation that's why we use a for loop to iterate over\n",
    "            # each observation and update the w_ and b_ parameters inside the loop\n",
    "            for xi, yi in zip(X, y):\n",
    "                # the predict method is used here to get the value of yi_hat\n",
    "                # it can also be used for classification of new unseen data points\n",
    "                delta_b = self.eta * (yi - self.predict(xi))\n",
    "\n",
    "                # xi is an array of shape (1, m)\n",
    "                # xi * delta_b represents element-wise multiplication of xi by a scalar delta_b\n",
    "                delta_w = xi * delta_b\n",
    "\n",
    "                self.b_ += delta_b\n",
    "                self.w_ += delta_w\n",
    "\n",
    "                epoch_error_count += int(delta_b != 0)\n",
    "\n",
    "            self.n_errors_.append(epoch_error_count)\n",
    "\n",
    "        return self\n",
    "\n",
    "    def net_input(self, X):\n",
    "        \"\"\"Calculate net input, zi = sum(wj.xj)_i + b\"\"\"\n",
    "        # Condition for Dot multiplication --> A: (n x m); B: (m x p); C = A.B : (n x p)\n",
    "        # Condition for Cross multiplication --> A: (n x m); B: (p x m); C = AxB : (n x p)\n",
    "        return np.dot(X, self.w_) + self.b_\n",
    "\n",
    "    def predict(self, X):\n",
    "        \"\"\"Predict and return class label from an input array of shape (n, m)\"\"\"\n",
    "        # since fit will be called before the predict method we get away with defining self.w_ and self.b_\n",
    "        # inside the fit method\n",
    "        return np.where(self.net_input(X) >= 0.0, 1, 0)"
   ]
  },
  {
   "cell_type": "markdown",
   "metadata": {},
   "source": [
    "### Training a perceptron model on the Iris dataset"
   ]
  },
  {
   "cell_type": "code",
   "execution_count": 2,
   "metadata": {},
   "outputs": [],
   "source": [
    "import warnings\n",
    "\n",
    "warnings.filterwarnings(\"ignore\")"
   ]
  },
  {
   "cell_type": "code",
   "execution_count": 3,
   "metadata": {},
   "outputs": [],
   "source": [
    "import numpy as np\n",
    "import pandas as pd\n",
    "import matplotlib.pyplot as plt\n",
    "import seaborn as sns"
   ]
  },
  {
   "cell_type": "code",
   "execution_count": 4,
   "metadata": {},
   "outputs": [],
   "source": [
    "# load the iris dataset\n",
    "iris_df = sns.load_dataset(\"iris\")"
   ]
  },
  {
   "cell_type": "code",
   "execution_count": 5,
   "metadata": {},
   "outputs": [
    {
     "data": {
      "text/html": [
       "<div>\n",
       "<style scoped>\n",
       "    .dataframe tbody tr th:only-of-type {\n",
       "        vertical-align: middle;\n",
       "    }\n",
       "\n",
       "    .dataframe tbody tr th {\n",
       "        vertical-align: top;\n",
       "    }\n",
       "\n",
       "    .dataframe thead th {\n",
       "        text-align: right;\n",
       "    }\n",
       "</style>\n",
       "<table border=\"1\" class=\"dataframe\">\n",
       "  <thead>\n",
       "    <tr style=\"text-align: right;\">\n",
       "      <th></th>\n",
       "      <th>sepal_length</th>\n",
       "      <th>sepal_width</th>\n",
       "      <th>petal_length</th>\n",
       "      <th>petal_width</th>\n",
       "      <th>species</th>\n",
       "    </tr>\n",
       "  </thead>\n",
       "  <tbody>\n",
       "    <tr>\n",
       "      <th>0</th>\n",
       "      <td>5.1</td>\n",
       "      <td>3.5</td>\n",
       "      <td>1.4</td>\n",
       "      <td>0.2</td>\n",
       "      <td>setosa</td>\n",
       "    </tr>\n",
       "    <tr>\n",
       "      <th>1</th>\n",
       "      <td>4.9</td>\n",
       "      <td>3.0</td>\n",
       "      <td>1.4</td>\n",
       "      <td>0.2</td>\n",
       "      <td>setosa</td>\n",
       "    </tr>\n",
       "    <tr>\n",
       "      <th>2</th>\n",
       "      <td>4.7</td>\n",
       "      <td>3.2</td>\n",
       "      <td>1.3</td>\n",
       "      <td>0.2</td>\n",
       "      <td>setosa</td>\n",
       "    </tr>\n",
       "    <tr>\n",
       "      <th>3</th>\n",
       "      <td>4.6</td>\n",
       "      <td>3.1</td>\n",
       "      <td>1.5</td>\n",
       "      <td>0.2</td>\n",
       "      <td>setosa</td>\n",
       "    </tr>\n",
       "    <tr>\n",
       "      <th>4</th>\n",
       "      <td>5.0</td>\n",
       "      <td>3.6</td>\n",
       "      <td>1.4</td>\n",
       "      <td>0.2</td>\n",
       "      <td>setosa</td>\n",
       "    </tr>\n",
       "  </tbody>\n",
       "</table>\n",
       "</div>"
      ],
      "text/plain": [
       "   sepal_length  sepal_width  petal_length  petal_width species\n",
       "0           5.1          3.5           1.4          0.2  setosa\n",
       "1           4.9          3.0           1.4          0.2  setosa\n",
       "2           4.7          3.2           1.3          0.2  setosa\n",
       "3           4.6          3.1           1.5          0.2  setosa\n",
       "4           5.0          3.6           1.4          0.2  setosa"
      ]
     },
     "execution_count": 5,
     "metadata": {},
     "output_type": "execute_result"
    }
   ],
   "source": [
    "# explore the dataset\n",
    "iris_df.head()"
   ]
  },
  {
   "cell_type": "code",
   "execution_count": 6,
   "metadata": {},
   "outputs": [
    {
     "name": "stdout",
     "output_type": "stream",
     "text": [
      "<class 'pandas.core.frame.DataFrame'>\n",
      "RangeIndex: 150 entries, 0 to 149\n",
      "Data columns (total 5 columns):\n",
      " #   Column        Non-Null Count  Dtype  \n",
      "---  ------        --------------  -----  \n",
      " 0   sepal_length  150 non-null    float64\n",
      " 1   sepal_width   150 non-null    float64\n",
      " 2   petal_length  150 non-null    float64\n",
      " 3   petal_width   150 non-null    float64\n",
      " 4   species       150 non-null    object \n",
      "dtypes: float64(4), object(1)\n",
      "memory usage: 6.0+ KB\n"
     ]
    }
   ],
   "source": [
    "iris_df.info()"
   ]
  },
  {
   "cell_type": "code",
   "execution_count": 7,
   "metadata": {},
   "outputs": [
    {
     "data": {
      "text/plain": [
       "species\n",
       "setosa        50\n",
       "versicolor    50\n",
       "virginica     50\n",
       "Name: count, dtype: int64"
      ]
     },
     "execution_count": 7,
     "metadata": {},
     "output_type": "execute_result"
    }
   ],
   "source": [
    "iris_df[\"species\"].value_counts()"
   ]
  },
  {
   "cell_type": "markdown",
   "metadata": {},
   "source": [
    "From our initial exploration we can see that there are 50 samples of 3 different Iris flower species in the Iris dataset. Also there are 4 possible features that describe the samples of the Iris flowers."
   ]
  },
  {
   "cell_type": "markdown",
   "metadata": {},
   "source": [
    "To test our perceptron implementation, we will restrict our analyses to two feature variables (dimensions). Although the perceptron rule is not restricted to two dimensions, considering only two features, *\"sepal_length\"* and *\"petal_length\"*, will allow us to visualize the decision regions of the trained model in a scatterplot for learning purposes."
   ]
  },
  {
   "cell_type": "markdown",
   "metadata": {},
   "source": [
    "We will also use samples only from the two flower classes *\"Setosa\"* and *\"Versicolor\"* since the perceptron algorithm is a binary classifier. Although the perceptron algorithm can be extended to multi-class classification we will stick to the binary classification for simplicity."
   ]
  },
  {
   "cell_type": "code",
   "execution_count": 8,
   "metadata": {},
   "outputs": [],
   "source": [
    "# extract samples for which species == \"setosa\" | \"versicolor\"\n",
    "iris_df_perceptron = iris_df.query(\"species != 'virginica'\")"
   ]
  },
  {
   "cell_type": "code",
   "execution_count": 9,
   "metadata": {},
   "outputs": [],
   "source": [
    "# encode \"setosa\" as 0 and \"versicolor\" as 1 and then we assign it to target variable\n",
    "y = np.where(iris_df_perceptron[\"species\"] == \"setosa\", 0, 1)"
   ]
  },
  {
   "cell_type": "code",
   "execution_count": 10,
   "metadata": {},
   "outputs": [],
   "source": [
    "# extract the features (petal_length and sepal_length) as a numpy array of shape (100, 2)\n",
    "X = iris_df_perceptron[[\"sepal_length\", \"petal_length\"]].values"
   ]
  },
  {
   "cell_type": "markdown",
   "metadata": {},
   "source": [
    "Before we train the perceptron let's first visualize the data in a 2D scatter plot."
   ]
  },
  {
   "cell_type": "code",
   "execution_count": 11,
   "metadata": {},
   "outputs": [
    {
     "data": {
      "image/png": "[encoded data removed]",
      "text/plain": [
       "<Figure size 640x480 with 1 Axes>"
      ]
     },
     "metadata": {},
     "output_type": "display_data"
    }
   ],
   "source": [
    "ax = sns.scatterplot(\n",
    "    x=\"sepal_length\",\n",
    "    y=\"petal_length\",\n",
    "    hue=\"species\",\n",
    "    style=\"species\",\n",
    "    markers=[\"o\", \"s\"],\n",
    "    data=iris_df_perceptron,\n",
    ")\n",
    "ax.set(xlabel=\"sepal length (cm)\", ylabel=\"petal length (cm)\")\n",
    "plt.show()"
   ]
  },
  {
   "cell_type": "markdown",
   "metadata": {},
   "source": [
    "The figure shows the distribution of flower examples in the Iris dataset along the two feature axes: petal length and sepal length (measured in centimeters). In this two-dimensional feature subspace, we can see that a linear decision boundary should be sufficient to separate setosa from versicolor flowers. Thus, a linear classifier such as the perceptron should be able to classify the flowers in this dataset perfectly (since all the data is used for training and prediction will be done on the training set)."
   ]
  },
  {
   "cell_type": "markdown",
   "metadata": {},
   "source": [
    "Now let's train the perceptron algorithm on the Iris data subset that we just extracted. Furthermore, we will plot the misclassification error for each epoch to check whether the algorithm converged and found a decision boundary that separates the two Iris flower classes."
   ]
  },
  {
   "cell_type": "code",
   "execution_count": 12,
   "metadata": {},
   "outputs": [
    {
     "data": {
      "text/plain": [
       "<__main__.Perceptron at 0x7f35e4f8eb50>"
      ]
     },
     "execution_count": 12,
     "metadata": {},
     "output_type": "execute_result"
    }
   ],
   "source": [
    "# instantiate the model and train the model on the iris data subset for 10 epochs with a learning rate of 0.1\n",
    "ppn = Perceptron(eta=0.1, n_epochs=10)\n",
    "ppn.fit(X, y)"
   ]
  },
  {
   "cell_type": "code",
   "execution_count": 13,
   "metadata": {},
   "outputs": [
    {
     "name": "stdout",
     "output_type": "stream",
     "text": [
      "final model weights: [-0.34925064  0.88981205]\n",
      "bias unit value: -0.2\n"
     ]
    }
   ],
   "source": [
    "# final model weights and bias unit\n",
    "print(f\"final model weights: {ppn.w_}\")\n",
    "print(f\"bias unit value: {ppn.b_}\")"
   ]
  },
  {
   "cell_type": "code",
   "execution_count": 14,
   "metadata": {},
   "outputs": [
    {
     "data": {
      "image/png": "[encoded data removed]",
      "text/plain": [
       "<Figure size 640x480 with 1 Axes>"
      ]
     },
     "metadata": {},
     "output_type": "display_data"
    }
   ],
   "source": [
    "# plot number of misclassifications vs no of epochs\n",
    "fig, ax = plt.subplots()\n",
    "ax.plot(range(1, len(ppn.n_errors_) + 1), ppn.n_errors_, marker=\"o\")\n",
    "ax.set(xlabel=\"Epochs\", ylabel=\"Number of misclassifications/updates\")\n",
    "plt.show()"
   ]
  },
  {
   "cell_type": "markdown",
   "metadata": {},
   "source": [
    "As we can see our perceptron converged after the sixth epoch and should now be able to classify the training examples perfectly."
   ]
  },
  {
   "cell_type": "markdown",
   "metadata": {},
   "source": [
    "`->`  Let’s implement a small convenience function to visualize the decision boundaries for two-dimensional datasets. See the explanation of the code [here](https://g.co/bard/share/4896d270f0b1)."
   ]
  },
  {
   "cell_type": "code",
   "execution_count": 15,
   "metadata": {},
   "outputs": [],
   "source": [
    "from matplotlib.colors import ListedColormap\n",
    "\n",
    "\n",
    "def plot_decision_regions(X, y, classifier, resolution=0.02):\n",
    "    # setup marker generator and color map\n",
    "    markers = (\"o\", \"s\", \"^\", \"v\", \"<\")\n",
    "    colors = (\"red\", \"blue\", \"lightgreen\", \"gray\", \"cyan\")\n",
    "    cmap = ListedColormap(colors[: len(np.unique(y))])\n",
    "\n",
    "    # plot the decision surface\n",
    "    x1_min, x1_max = X[:, 0].min() - 1, X[:, 0].max() + 1\n",
    "    x2_min, x2_max = X[:, 1].min() - 1, X[:, 1].max() + 1\n",
    "    xx1, xx2 = np.meshgrid(\n",
    "        np.arange(x1_min, x1_max, resolution), np.arange(x2_min, x2_max, resolution)\n",
    "    )\n",
    "    lab = classifier.predict(np.array([xx1.ravel(), xx2.ravel()]).T)\n",
    "    lab = lab.reshape(xx1.shape)\n",
    "    plt.contourf(xx1, xx2, lab, alpha=0.3, cmap=cmap)\n",
    "    plt.xlim(xx1.min(), xx1.max())\n",
    "    plt.ylim(xx2.min(), xx2.max())\n",
    "\n",
    "    # plot class examples\n",
    "    for idx, cl in enumerate(np.unique(y)):\n",
    "        plt.scatter(\n",
    "            x=X[y == cl, 0],\n",
    "            y=X[y == cl, 1],\n",
    "            alpha=0.8,\n",
    "            c=colors[idx],\n",
    "            marker=markers[idx],\n",
    "            label=f\"Class {cl}\",\n",
    "            edgecolor=\"black\",\n",
    "        )"
   ]
  },
  {
   "cell_type": "code",
   "execution_count": 16,
   "metadata": {},
   "outputs": [
    {
     "data": {
      "image/png": "[encoded data removed]",
      "text/plain": [
       "<Figure size 640x480 with 1 Axes>"
      ]
     },
     "metadata": {},
     "output_type": "display_data"
    }
   ],
   "source": [
    "plot_decision_regions(X, y, ppn)\n",
    "plt.xlabel(\"sepal length (cm)\")\n",
    "plt.ylabel(\"petal length (cm)\")\n",
    "plt.legend()\n",
    "plt.show()"
   ]
  },
  {
   "cell_type": "markdown",
   "metadata": {},
   "source": [
    "As we can see in the plot, the perceptron learned a decision boundary that can classify all flower examples in the Iris training subset perfectly."
   ]
  },
  {
   "cell_type": "markdown",
   "metadata": {},
   "source": [
    "**`Note on Perceptron convergence:`** Although the perceptron classified the two Iris flower classes perfectly, convergence is one of the biggest problems of the perceptron. Rosenblatt proved mathematically that the perceptron learning rule converges if the two classes can be separated by a linear hyperplane. However, if the classes cannot be separated perfectly by such a linear decision boundary, the weights will never stop updating unless we set a maximum number of epochs. "
   ]
  },
  {
   "cell_type": "markdown",
   "metadata": {},
   "source": [
    "## Adaptive linear neurons (Adaline) and the convergence of learning"
   ]
  },
  {
   "cell_type": "markdown",
   "metadata": {},
   "source": [
    "Adaline was published by Bernard Widrow and his doctoral student Tedd Hoff in 1960 and is an improvement on the MCP neuron and the perceptron. It is also a single-layer neural network but, unlike the perceptron, model weights are updated based on a linear ***activation function*** instead of a unit step function."
   ]
  },
  {
   "cell_type": "markdown",
   "metadata": {},
   "source": [
    "In the case of Adaline, this linear activation function is simply the identity function of the net input i.e, \n",
    "\n",
    "$$ \\phi(z) = z $$"
   ]
  },
  {
   "cell_type": "markdown",
   "metadata": {},
   "source": [
    "The identity function is a mathematical function that returns its input unchanged. It is a simple function, but it is very useful in many areas of mathematics, including machine learning.\n",
    "\n",
    "In machine learning, the identity function is often used as an activation function for neural networks. *An activation function is a function that is applied to the net input (i.e, weighted sum of the inputs to a neural network layer plus the bias), to determine the output of the layer.* The identity function is a good choice for an activation function when the output of a layer is intended to be passed directly to the next layer without any transformation.\n",
    "\n",
    "The identity function can also be used as a loss function for machine learning models. *A loss function is a function that measures the error between the predicted output of a model and the actual output (i.e, the label).* The identity function is a good choice for a loss function when the error between the predicted and actual output is simply the difference between the two values."
   ]
  },
  {
   "cell_type": "markdown",
   "metadata": {},
   "source": [
    "While the linear activation function is used for learning the weights, we still use a unit step threshold function to make the final prediction:\n",
    "\n",
    "$$ \\sigma(z) = \\begin{cases} 1 & \\text{if } \\phi(z) \\geq \\text{threshold for loss function value} \\\\ 0 & \\text{otherwise} \\end{cases} $$\n",
    "\n",
    "Where, $z$ is the net input and $\\phi(z)$ is the linear activation function.\n",
    "\n",
    "The net input $z$ is defined as,\n",
    "\n",
    "$$ z = w_1x_1 + \\dots + w_mx_m + b = \\sum_{j=1}^{m}w_jx_j + b = w^Tx + b $$"
   ]
  },
  {
   "cell_type": "markdown",
   "metadata": {},
   "source": [
    "A comparison of the perceptron and Adaline is shown in the following figure:\n",
    "\n",
    "<img src=\"./imgs/perceptron_adaline.png\">"
   ]
  },
  {
   "cell_type": "markdown",
   "metadata": {},
   "source": [
    "The Adaline algorithm compares the true class labels, $y$ with the linear activation function’s continuous valued output, $\\phi(z)$ to compute the model error and update the weights. In contrast, the perceptron compares the true class labels, $y$ to the predicted class labels, $\\hat{y}$."
   ]
  },
  {
   "cell_type": "markdown",
   "metadata": {},
   "source": [
    "### Minimizing cost function with gradient descent"
   ]
  },
  {
   "cell_type": "markdown",
   "metadata": {},
   "source": [
    "One of the key concepts in supervised machine learning is the ***objective function*** which is to be optimized by an algorithm during the learning process. \n",
    "\n",
    "The *objective function* can be either a loss function or a utility/fitness function. Which one to choose depends entirely on the task and the chosen approach.\n",
    "\n",
    "A ***loss function*** measures the error of the model on the training data (for example MSE - mean squared error). The goal of training a model with a loss function is to minimize the loss. This means that the model will learn to make predictions that are as close as possible to the true values in the training data.\n",
    "\n",
    "A ***utility/fitness function*** measures the performance of the model on a specific task (for example precision, recall etc). The goal of training a model with a utility/fitness function is to maximize the utility/fitness. This means that the model will learn to make predictions that are optimal for the specific task, even if they are not the same as the true values in the training data.\n",
    "\n",
    "For example, if we are training a model to classify images of handwritten digits, we might use a cross-entropy loss function. This would ensure that the model learns to make predictions that are as close as possible to the true labels of the images in the training data.\n",
    "\n",
    "However, if we are training a model to play a game, such as chess, we might use a utility/fitness function. This function would measure how well the model is playing the game, such as by the number of games it wins."
   ]
  },
  {
   "cell_type": "markdown",
   "metadata": {},
   "source": [
    "In the case of ***Adaline***, our objective function is a loss/cost function. We define the cost function as the ***Mean Squared Error (MSE)*** between the calculated outcome and the true class label:\n",
    "\n",
    "$$ L(\\mathbf{w}, b) = \\frac{1}{n} \\sum_{i=1}^{n} \\big(y^{(i)} - \\phi(z^{(i)})\\big)^2 $$\n",
    "\n",
    "Where, \n",
    "- $n$ is the number of training samples\n",
    "- $\\mathbf{w}$ is the weight vector\n",
    "- $b$ is the bias unit\n",
    "- $y^{(i)}$ is the true class label of the $i$ th training sample\n",
    "- $\\phi(z^{(i)})$ is the linear activation function for the $i$ th training sample which in this case happens to be the net input, $z^{(i)}$"
   ]
  },
  {
   "cell_type": "markdown",
   "metadata": {},
   "source": [
    "*The main advantage of this **linear activation function, $\\phi(z^i)$** is that it is **continuous**, in contrast to the unit step function (which produces output as an integer class label i.e, either 0 or 1). As a result the **loss function**, $L(\\mathbf{w}, b)$ becomes **differentiable**. Another nice property of this loss function is that it is **convex**; thus, we can use a very simple yet powerful optimization algorithm called ***gradient descent*** to find the weights that minimize our loss function.*"
   ]
  },
  {
   "cell_type": "markdown",
   "metadata": {},
   "source": [
    "We can describe the main idea behind gradient descent as climbing down a hill until a local or global loss minimum is reached (***for simplicity the following figure visualizes this only for a single weight, $w$***):\n",
    "\n",
    "<img src=\"./imgs/how_gradient_descent_works.png\">"
   ]
  },
  {
   "cell_type": "markdown",
   "metadata": {},
   "source": [
    "In gradient descent, the gradient refers to the line that describes the slope of the loss function at a particular point. \n",
    "\n",
    "The gradient is a vector that points in the direction of the steepest ascent of the loss function i.e, the gradient of a loss function tells us the direction in which the function increases the most rapidly. By moving in the opposite direction of the gradient, we are moving towards the minimum of the loss function.\n",
    "\n",
    "**Note:** Sometimes the term *\"gradient\"* is used to refer to the loss function itself."
   ]
  },
  {
   "cell_type": "markdown",
   "metadata": {},
   "source": [
    "*In each iteration, we take a step in the opposite direction of the gradient, where the step size (i.e, update to the model parameters) is determined by the value of the learning rate, as well as the slope of the gradient* such that:\n",
    "\n",
    "$$ \\mathbf{w} := \\mathbf{w} + \\Delta \\mathbf{w}  = \\mathbf{w} + \\eta (- \\nabla_w L(\\mathbf{w}, b)) $$\n",
    "\n",
    "$$ b := b + \\Delta b = b + \\eta (- \\nabla_b L(\\mathbf{w}, b)) $$\n",
    "\n",
    "Where, \n",
    "\n",
    "- $\\eta$ is the learning rate\n",
    "- $\\nabla_w L(\\mathbf{w}, b)$ is the gradient of the loss function with respect to the model weights\n",
    "- $\\nabla_b L(\\mathbf{w}, b)$ is the gradient of the loss function with respect to the bias unit"
   ]
  },
  {
   "cell_type": "markdown",
   "metadata": {},
   "source": [
    "Now, we compute the gradient by partial differentiation of the cost function with respect to each weight $w_j$ and the bias unit $b$ and finally obtain:\n",
    "\n",
    "$$ \\frac{\\partial L}{\\partial w_j} = - \\frac{2}{n} \\sum_{i=1}^{n} \\big(y^{(i)} - \\phi(z^{(i)})\\big)x_j^{(i)} $$\n",
    "\n",
    "$$ \\frac{\\partial L}{\\partial b} = - \\frac{2}{n} \\sum_{i=1}^{n} \\big(y^{(i)} - \\phi(z^{(i)})\\big) $$"
   ]
  },
  {
   "cell_type": "markdown",
   "metadata": {},
   "source": [
    "*Finally the update rules for the Adaline weights and bias unit become:*\n",
    "\n",
    "$$ \\mathbf{w_j} := \\mathbf{w_j} + \\eta \\frac{2}{n} \\sum_{i=1}^{n} \\big(y^{(i)} - \\phi(z^{(i)})\\big)x^{(i)}_j $$\n",
    "\n",
    "$$ b := b + \\eta \\frac{2}{n} \\sum_{i=1}^{n} \\big(y^{(i)} - \\phi(z^{(i)})\\big) $$"
   ]
  },
  {
   "cell_type": "markdown",
   "metadata": {},
   "source": [
    "**Note:** the 2 in the numerator above is merely a constant scaling factor, and we could omit it without affecting the algorithm. Removing the scaling factor has the same effect as changing the learning rate by a factor of 2."
   ]
  },
  {
   "cell_type": "markdown",
   "metadata": {},
   "source": [
    "Although in its simplest form, the update rule for the Adaline learning rule is identical to the perceptron rule i.e, \n",
    "\n",
    "$$\\mathbf{w_j} := \\mathbf{w_j} + \\Delta \\mathbf{w_j}$$ \n",
    "$$b := b + \\Delta b$$ \n",
    "\n",
    "In reality they are actually quite different. \n",
    "\n",
    "In the case of Adaline, the error in the output is a real number and not an integer class label, since error in the output is calculated as $(y - \\phi(z)) \\text{ i.e, } (y - z)$ instead of $(y - \\hat{y})$. \n",
    "\n",
    "Furthermore, the weight update is calculated based on all examples in the training dataset (instead of updating the parameters incrementally after each training example), which is why this approach is also referred to as **batch gradient descent** or, **full batch gradient descent**. "
   ]
  },
  {
   "cell_type": "markdown",
   "metadata": {},
   "source": [
    "### An object-oriented AdalineGD API"
   ]
  },
  {
   "cell_type": "code",
   "execution_count": 17,
   "metadata": {},
   "outputs": [],
   "source": [
    "class AdalineGD:\n",
    "\n",
    "    \"\"\"\n",
    "    Implementation of the Adaptive Linear Neuron aka. Adaline algorithm (A single layer NN) using\n",
    "    a gradient descent optimization method.\n",
    "\n",
    "    Parameters\n",
    "    -------------\n",
    "    eta : float\n",
    "        Learning rate of the perceptron (between 0.0 and 1.0), default 0.01.\n",
    "    n_epochs : int\n",
    "        Number of passes over the training set, default 25.\n",
    "    random_state : int\n",
    "        Random seed for reproducable random weight initialization, default 26.\n",
    "\n",
    "    Attributes\n",
    "    -------------\n",
    "    w_ : 1-d array\n",
    "        Final weights of the model after training is completed.\n",
    "    b_ : Scalar\n",
    "        The value of the bias unit after training is completed.\n",
    "    losses_ : List\n",
    "        MSE loss function values in each epoch.\n",
    "    \"\"\"\n",
    "\n",
    "    def __init__(self, eta=0.01, n_epochs=25, random_state=26):\n",
    "        self.eta = eta\n",
    "        self.n_epochs = n_epochs\n",
    "        self.random_state = random_state\n",
    "\n",
    "    def fit(self, X, y):\n",
    "        \"\"\"\n",
    "        Parameters\n",
    "        ------------\n",
    "        X : {array-like}\n",
    "            Feature matrix of shape (n, m) where n is the number of observations\n",
    "            and m is the number of features.\n",
    "        y : {array-like}\n",
    "            Target variable of shape (n, 1).\n",
    "        \"\"\"\n",
    "        n, m = X.shape\n",
    "        rng = np.random.default_rng(seed=self.random_state)\n",
    "        self.w_ = rng.normal(loc=0, scale=0.01, size=m)\n",
    "        self.b_ = np.float32(0.0)\n",
    "\n",
    "        self.losses_ = []\n",
    "\n",
    "        for _ in range(self.n_epochs):\n",
    "            # in each epoch instead of iterating over each observation we calculate the\n",
    "            # net input, output and errors for all the observations at once since we update\n",
    "            # the weights based on all the observations instead of updating after each observation\n",
    "            # all of these have the same shape i.e, (n_rows x 1 col)\n",
    "            z = self.net_input(X)\n",
    "            output = self.activation_func(z)\n",
    "            errors = y - output\n",
    "\n",
    "            delta_b = self.eta * 2 * errors.mean()\n",
    "\n",
    "            # for multiplying the xj_i to each error_i we need to make the dimensions compatible\n",
    "            # Condition for Dot multiplication --> A: (n x m); B: (m x p); C = A.B : (n x p)\n",
    "            # X is of shape (n, m) and errors is of shape (n, 1)\n",
    "            # delta_w will be of shape (m, 1)\n",
    "            delta_w = self.eta * 2 * (X.T.dot(errors)) / n\n",
    "\n",
    "            self.b_ += delta_b\n",
    "            self.w_ += delta_w\n",
    "\n",
    "            # MSE is used as loss function\n",
    "            loss = (errors**2).mean()\n",
    "\n",
    "            self.losses_.append(loss)\n",
    "\n",
    "        return self\n",
    "\n",
    "    def net_input(self, X):\n",
    "        \"\"\"Calculate net input, zi = sum(wj.xj)_i + b\"\"\"\n",
    "        # Condition for Dot multiplication --> A: (n x m); B: (m x p); C = A.B : (n x p)\n",
    "        # Condition for Cross multiplication --> A: (n x m); B: (p x m); C = AxB : (n x p)\n",
    "        # w_ is the weight vector and X is the feature matrix\n",
    "        # a matrix can't usually be multiplied with a vector\n",
    "        # but the w_ vector is treated as a matrix of shape (m, 1)\n",
    "        # the feature matrix X has a shape of (n, m) so, the dot product will have a shape of (n, 1)\n",
    "        return np.dot(X, self.w_) + self.b_\n",
    "\n",
    "    def activation_func(self, X):\n",
    "        \"\"\"\n",
    "        Activation function is applied to the net input of a NN layer to obtain the output of that NN layer.\n",
    "        Here, in the case of Adaline this is just an Identity function i.e, phi(z) = z.\n",
    "        \"\"\"\n",
    "        # Please note that the activation method has no effect on the code since it is simply an identity function.\n",
    "        # Here, we added the activation function to illustrate the general concept with regard to how\n",
    "        # information flows through a single-layer NN: features from the input data, net input,\n",
    "        # activation, and output.\n",
    "        return X\n",
    "\n",
    "    def predict(self, X):\n",
    "        \"\"\"Predict and return class labels from an input array of shape (n, m)\"\"\"\n",
    "        # since we use MSE as our loss function every value of the output i.e, phi(z) is positive\n",
    "        return np.where(self.activation_func(self.net_input(X)) >= 0.5, 1, 0)"
   ]
  },
  {
   "cell_type": "markdown",
   "metadata": {},
   "source": [
    "### Training AdalineGD on the Iris dataset"
   ]
  },
  {
   "cell_type": "markdown",
   "metadata": {},
   "source": [
    "The *\"learning rate, $\\eta$\"* and the *\"number of epochs\"* are the so-called hyperparameters of the AdalineGD model. In practice, it often requires some experimentation to find a good learning rate, $\\eta$ for optimal convergence."
   ]
  },
  {
   "cell_type": "markdown",
   "metadata": {},
   "source": [
    "Let’s choose two different learning rates, $\\eta = 0.1$ and $\\eta = 0.001$ and plot the loss functions versus the number of epochs to see how well the Adaline implementation learns from the training data."
   ]
  },
  {
   "cell_type": "code",
   "execution_count": 18,
   "metadata": {},
   "outputs": [],
   "source": [
    "# model instantiation\n",
    "ada1 = AdalineGD(eta=0.1, n_epochs=15)\n",
    "ada2 = AdalineGD(eta=0.001, n_epochs=15)"
   ]
  },
  {
   "cell_type": "code",
   "execution_count": 19,
   "metadata": {},
   "outputs": [
    {
     "data": {
      "text/plain": [
       "<__main__.AdalineGD at 0x7f35dceea0d0>"
      ]
     },
     "execution_count": 19,
     "metadata": {},
     "output_type": "execute_result"
    }
   ],
   "source": [
    "# fitting the models to the subset of Iris data used previously for training the Perceptron\n",
    "# features - sepal_length, petal_length\n",
    "# target - 0: setosa, 1: versicolor\n",
    "ada1.fit(X, y)\n",
    "ada2.fit(X, y)"
   ]
  },
  {
   "cell_type": "code",
   "execution_count": 20,
   "metadata": {},
   "outputs": [
    {
     "name": "stdout",
     "output_type": "stream",
     "text": [
      "model 'ada1' weights: [6.14692513e+11 3.43911146e+11]\n",
      "model 'ada2' weights: [6.14692513e+11 3.43911146e+11]\n",
      "model 'ada1' bias unit: 110062240457.45375\n",
      "model 'ada2' bias unit: 0.011457830043474705\n"
     ]
    }
   ],
   "source": [
    "# model weights and bias unit after training\n",
    "print(f\"model 'ada1' weights: {ada1.w_}\")\n",
    "print(f\"model 'ada2' weights: {ada1.w_}\")\n",
    "print(f\"model 'ada1' bias unit: {ada1.b_}\")\n",
    "print(f\"model 'ada2' bias unit: {ada2.b_}\")"
   ]
  },
  {
   "cell_type": "code",
   "execution_count": 21,
   "metadata": {},
   "outputs": [
    {
     "name": "stdout",
     "output_type": "stream",
     "text": [
      "losses in each epoch for the model 'ada1':\n",
      "[0.7825331432162445, 30.31105299063201, 1521.770631106736, 76687.26791080259, 3864722.3617412625, 194766210.10927987, 9815420977.103933, 494657101539.48096, 24928696249984.12, 1256304407214486.5, 6.331260759726044e+16, 3.190696663758754e+18, 1.6079807145017613e+20, 8.103565618060549e+21, 4.0838658781153644e+23]\n",
      "\n",
      "\n",
      "losses in each epoch for the model 'ada2':\n",
      "[0.7825331432162445, 0.6886586200434331, 0.6092603056919783, 0.5420887986557199, 0.48524429891796445, 0.4371222726303449, 0.39636756162881326, 0.361835625283712, 0.3325598061711116, 0.30772368333850525, 0.286637722447051, 0.2687195549665262, 0.253477322392844, 0.24049560911998064, 0.22942356163566696]\n"
     ]
    }
   ],
   "source": [
    "# losses in each epoch\n",
    "print(f\"losses in each epoch for the model 'ada1':\\n{ada1.losses_}\")\n",
    "print(\"\\n\")\n",
    "print(f\"losses in each epoch for the model 'ada2':\\n{ada2.losses_}\")"
   ]
  },
  {
   "cell_type": "markdown",
   "metadata": {},
   "source": [
    "We can see that for the AdalineGD model with $\\eta=0.1$ the MSE loss values goes up exponentially with each epoch and for the model with $\\eta=0.001$, the loss decreases very slowly doesn't converge after 15 epochs."
   ]
  },
  {
   "cell_type": "code",
   "execution_count": 22,
   "metadata": {},
   "outputs": [
    {
     "data": {
      "image/png": "[encoded data removed]",
      "text/plain": [
       "<Figure size 640x480 with 2 Axes>"
      ]
     },
     "metadata": {},
     "output_type": "display_data"
    }
   ],
   "source": [
    "# visualizing the losses over the epochs\n",
    "fig, [ax0, ax1] = plt.subplots(nrows=1, ncols=2)\n",
    "\n",
    "# we will use a log-scale to represent losses in the first model since they are very large\n",
    "ax0.plot(range(1, ada1.n_epochs + 1), ada1.losses_, marker=\"o\")\n",
    "ax0.set(\n",
    "    yscale=\"log\",\n",
    "    xlabel=\"Epochs\",\n",
    "    ylabel=\"Losses; log(MSE)\",\n",
    "    title=r\"AdalineGD with $\\eta = 0.1$\",\n",
    ")\n",
    "\n",
    "ax1.plot(range(1, ada2.n_epochs + 1), ada2.losses_, marker=\"o\")\n",
    "ax1.set(xlabel=\"Epochs\", ylabel=\"Losses; MSE\", title=r\"AdalineGD with $\\eta = 0.001$\")\n",
    "\n",
    "plt.tight_layout()\n",
    "plt.show()"
   ]
  },
  {
   "cell_type": "markdown",
   "metadata": {},
   "source": [
    "As we can see in the resulting loss function plots, we encountered two different types of problems. The left chart shows what could happen if we choose a learning rate that is too large. Instead of minimizing the loss function, the MSE becomes larger in every epoch, because we overshoot the global minimum. On the other hand, we can see that the loss decreases on the right plot, but the chosen learning rate is so small that the algorithm would require a very large number of epochs to converge to the global loss minimum."
   ]
  },
  {
   "cell_type": "markdown",
   "metadata": {},
   "source": [
    "The following figure shows a comparison between a well chosen learning rate and a learning rate that is too large:\n",
    "\n",
    "<img src=\"./imgs/gd_overshoot.png\">"
   ]
  },
  {
   "cell_type": "markdown",
   "metadata": {},
   "source": [
    "### Improving gradient descent through feature scaling"
   ]
  },
  {
   "cell_type": "markdown",
   "metadata": {},
   "source": [
    "Gradient descent is one of the many algorithms that benefit from feature scaling."
   ]
  },
  {
   "cell_type": "markdown",
   "metadata": {},
   "source": [
    "One of the popular yet simple feature scaling method is ***standardization***. Standardization doesn't make the original dataset normally distributed rather it shifts the mean of each feature such that each feature is normally distributed i.e, each feature has a mean of 0 and a standard deviation of 1."
   ]
  },
  {
   "cell_type": "markdown",
   "metadata": {},
   "source": [
    "The equation for standardization of a particular feature can be expressed as:\n",
    "\n",
    "$$ x_j^{'} = \\frac{x_j - \\mu_j}{\\sigma_j} $$\n",
    "\n",
    "Where,\n",
    "- $x_j^{'}$ is the standardized feature\n",
    "- $x_j$ is the original feature\n",
    "- $\\mu_j$ is the sample mean of the feature $x_j$\n",
    "- $\\sigma_j$ is the sample standard deviation of the feature $x_j$"
   ]
  },
  {
   "cell_type": "markdown",
   "metadata": {},
   "source": [
    "*One of the reasons why standardization helps with gradient descent learning is that it is easier to find a learning rate that works well for all weights (and the bias). If the features are on vastly different scales, a learning rate that works well for updating one weight might be too large or too small to update the other weights equally well.*"
   ]
  },
  {
   "cell_type": "code",
   "execution_count": 23,
   "metadata": {},
   "outputs": [],
   "source": [
    "# standardizing our training data i.e, the feature matrix\n",
    "X_std = X.copy()\n",
    "X_std[:, 0] = (X_std[:, 0] - X_std[:, 0].mean()) / X_std[:, 0].std()\n",
    "X_std[:, 1] = (X_std[:, 1] - X_std[:, 1].mean()) / X_std[:, 1].std()"
   ]
  },
  {
   "cell_type": "code",
   "execution_count": 24,
   "metadata": {},
   "outputs": [
    {
     "data": {
      "text/plain": [
       "array([[-0.5810659 , -1.01297765],\n",
       "       [-0.89430898, -1.01297765],\n",
       "       [-1.20755205, -1.08231219],\n",
       "       [-1.36417359, -0.94364311],\n",
       "       [-0.73768744, -1.01297765],\n",
       "       [-0.11120129, -0.80497402],\n",
       "       [-1.36417359, -1.01297765],\n",
       "       [-0.73768744, -0.94364311],\n",
       "       [-1.67741667, -1.01297765],\n",
       "       [-0.89430898, -0.94364311],\n",
       "       [-0.11120129, -0.94364311],\n",
       "       [-1.05093052, -0.87430856],\n",
       "       [-1.05093052, -1.01297765],\n",
       "       [-1.8340382 , -1.22098127],\n",
       "       [ 0.51528486, -1.15164673],\n",
       "       [ 0.35866332, -0.94364311],\n",
       "       [-0.11120129, -1.08231219],\n",
       "       [-0.5810659 , -1.01297765],\n",
       "       [ 0.35866332, -0.80497402],\n",
       "       [-0.5810659 , -0.94364311],\n",
       "       [-0.11120129, -0.80497402],\n",
       "       [-0.5810659 , -0.94364311],\n",
       "       [-1.36417359, -1.29031581],\n",
       "       [-0.5810659 , -0.80497402],\n",
       "       [-1.05093052, -0.66630494],\n",
       "       [-0.73768744, -0.87430856],\n",
       "       [-0.73768744, -0.87430856],\n",
       "       [-0.42444437, -0.94364311],\n",
       "       [-0.42444437, -1.01297765],\n",
       "       [-1.20755205, -0.87430856],\n",
       "       [-1.05093052, -0.87430856],\n",
       "       [-0.11120129, -0.94364311],\n",
       "       [-0.42444437, -0.94364311],\n",
       "       [ 0.04542025, -1.01297765],\n",
       "       [-0.89430898, -0.94364311],\n",
       "       [-0.73768744, -1.15164673],\n",
       "       [ 0.04542025, -1.08231219],\n",
       "       [-0.89430898, -1.01297765],\n",
       "       [-1.67741667, -1.08231219],\n",
       "       [-0.5810659 , -0.94364311],\n",
       "       [-0.73768744, -1.08231219],\n",
       "       [-1.52079513, -1.08231219],\n",
       "       [-1.67741667, -1.08231219],\n",
       "       [-0.73768744, -0.87430856],\n",
       "       [-0.5810659 , -0.66630494],\n",
       "       [-1.05093052, -1.01297765],\n",
       "       [-0.5810659 , -0.87430856],\n",
       "       [-1.36417359, -1.01297765],\n",
       "       [-0.26782283, -0.94364311],\n",
       "       [-0.73768744, -1.01297765],\n",
       "       [ 2.39474331,  1.27506221],\n",
       "       [ 1.45501408,  1.13639313],\n",
       "       [ 2.23812177,  1.4137313 ],\n",
       "       [ 0.04542025,  0.78972042],\n",
       "       [ 1.61163562,  1.20572767],\n",
       "       [ 0.35866332,  1.13639313],\n",
       "       [ 1.29839254,  1.27506221],\n",
       "       [-0.89430898,  0.30437864],\n",
       "       [ 1.76825716,  1.20572767],\n",
       "       [-0.42444437,  0.72038588],\n",
       "       [-0.73768744,  0.44304772],\n",
       "       [ 0.6719064 ,  0.92838951],\n",
       "       [ 0.82852793,  0.78972042],\n",
       "       [ 0.98514947,  1.27506221],\n",
       "       [ 0.20204178,  0.51238226],\n",
       "       [ 1.92487869,  1.06705859],\n",
       "       [ 0.20204178,  1.13639313],\n",
       "       [ 0.51528486,  0.85905497],\n",
       "       [ 1.14177101,  1.13639313],\n",
       "       [ 0.20204178,  0.72038588],\n",
       "       [ 0.6719064 ,  1.34439675],\n",
       "       [ 0.98514947,  0.78972042],\n",
       "       [ 1.29839254,  1.4137313 ],\n",
       "       [ 0.98514947,  1.27506221],\n",
       "       [ 1.45501408,  0.99772405],\n",
       "       [ 1.76825716,  1.06705859],\n",
       "       [ 2.08150023,  1.34439675],\n",
       "       [ 1.92487869,  1.48306584],\n",
       "       [ 0.82852793,  1.13639313],\n",
       "       [ 0.35866332,  0.44304772],\n",
       "       [ 0.04542025,  0.65105134],\n",
       "       [ 0.04542025,  0.5817168 ],\n",
       "       [ 0.51528486,  0.72038588],\n",
       "       [ 0.82852793,  1.55240038],\n",
       "       [-0.11120129,  1.13639313],\n",
       "       [ 0.82852793,  1.13639313],\n",
       "       [ 1.92487869,  1.27506221],\n",
       "       [ 1.29839254,  1.06705859],\n",
       "       [ 0.20204178,  0.85905497],\n",
       "       [ 0.04542025,  0.78972042],\n",
       "       [ 0.04542025,  1.06705859],\n",
       "       [ 0.98514947,  1.20572767],\n",
       "       [ 0.51528486,  0.78972042],\n",
       "       [-0.73768744,  0.30437864],\n",
       "       [ 0.20204178,  0.92838951],\n",
       "       [ 0.35866332,  0.92838951],\n",
       "       [ 0.35866332,  0.92838951],\n",
       "       [ 1.14177101,  0.99772405],\n",
       "       [-0.5810659 ,  0.09637501],\n",
       "       [ 0.35866332,  0.85905497]])"
      ]
     },
     "execution_count": 24,
     "metadata": {},
     "output_type": "execute_result"
    }
   ],
   "source": [
    "X_std"
   ]
  },
  {
   "cell_type": "code",
   "execution_count": 25,
   "metadata": {},
   "outputs": [
    {
     "data": {
      "text/plain": [
       "<__main__.AdalineGD at 0x7f35dcf09750>"
      ]
     },
     "execution_count": 25,
     "metadata": {},
     "output_type": "execute_result"
    }
   ],
   "source": [
    "# training the AdalineGD model with standardized training data and a learning rate of 0.5\n",
    "ada = AdalineGD(eta=0.5, n_epochs=15)\n",
    "ada.fit(X_std, y)"
   ]
  },
  {
   "cell_type": "code",
   "execution_count": 26,
   "metadata": {},
   "outputs": [
    {
     "name": "stdout",
     "output_type": "stream",
     "text": [
      "Weights: [-0.06191901  0.55339801]\n",
      "Bias unit: 0.49999999999999994\n"
     ]
    }
   ],
   "source": [
    "# the weights and bias unit\n",
    "print(f\"Weights: {ada.w_}\")\n",
    "print(f\"Bias unit: {ada.b_}\")"
   ]
  },
  {
   "cell_type": "code",
   "execution_count": 27,
   "metadata": {},
   "outputs": [
    {
     "data": {
      "image/png": "[encoded data removed]",
      "text/plain": [
       "<Figure size 640x480 with 1 Axes>"
      ]
     },
     "metadata": {},
     "output_type": "display_data"
    }
   ],
   "source": [
    "# plotting the decision regions\n",
    "plot_decision_regions(X_std, y, ada)\n",
    "plt.xlabel(\"sepal length, cm (standardized)\")\n",
    "plt.ylabel(\"petal length, cm (standardized)\")\n",
    "plt.title(r\"Adaline - Gradient Descent ($\\eta = 0.5$)\")\n",
    "plt.show()"
   ]
  },
  {
   "cell_type": "code",
   "execution_count": 28,
   "metadata": {},
   "outputs": [
    {
     "name": "stdout",
     "output_type": "stream",
     "text": [
      "Losses: [0.5455282732696367, 0.19920481598465975, 0.13562288131580266, 0.09365322480446628, 0.06594956846161627, 0.04766272414218695, 0.03559180213014169, 0.02762393431895965, 0.02236444234368888, 0.018892716093522353, 0.0166010721072275, 0.015088385973155299, 0.014089880378962243, 0.013430779062980151, 0.01299571435502488]\n"
     ]
    }
   ],
   "source": [
    "# losses in each epoch\n",
    "print(f\"Losses: {ada.losses_}\")"
   ]
  },
  {
   "cell_type": "code",
   "execution_count": 29,
   "metadata": {},
   "outputs": [
    {
     "data": {
      "image/png": "[encoded data removed]",
      "text/plain": [
       "<Figure size 640x480 with 1 Axes>"
      ]
     },
     "metadata": {},
     "output_type": "display_data"
    }
   ],
   "source": [
    "# losses vs epochs plot\n",
    "fig, ax = plt.subplots()\n",
    "\n",
    "ax.plot(range(1, ada.n_epochs + 1), ada.losses_, marker=\"o\")\n",
    "ax.set(xlabel=\"Epochs\", ylabel=\"Loss (MSE)\", title=r\"AdalineGD with $\\eta = 0.5$\")\n",
    "plt.show()"
   ]
  },
  {
   "cell_type": "markdown",
   "metadata": {},
   "source": [
    "As we can see in the plots, Adaline has now converged after training on the standardized features. However, note that the MSE remains non-zero even though all flower examples were classified correctly."
   ]
  },
  {
   "cell_type": "code",
   "execution_count": null,
   "metadata": {},
   "outputs": [],
   "source": []
  }
 ],
 "metadata": {
  "kernelspec": {
   "display_name": "ml_intro",
   "language": "python",
   "name": "python3"
  },
  "language_info": {
   "codemirror_mode": {
    "name": "ipython",
    "version": 3
   },
   "file_extension": ".py",
   "mimetype": "text/x-python",
   "name": "python",
   "nbconvert_exporter": "python",
   "pygments_lexer": "ipython3",
   "version": "3.11.6"
  }
 },
 "nbformat": 4,
 "nbformat_minor": 2
}
