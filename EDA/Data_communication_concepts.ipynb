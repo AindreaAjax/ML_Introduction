{
 "cells": [
  {
   "cell_type": "markdown",
   "metadata": {},
   "source": [
    "## Data storytelling"
   ]
  },
  {
   "cell_type": "markdown",
   "metadata": {},
   "source": [
    "Data storytelling is a powerful mechanism for sharing insights supported by a compelling narrative and efficient visualizations."
   ]
  },
  {
   "cell_type": "markdown",
   "metadata": {},
   "source": [
    "Data storytelling is not about spinning results, it's about making them stick. For this to work, they should be:\n",
    "- simple (pruning the message to its core) \n",
    "- concrete (can be described or detected by human senses) \n",
    "- credible (can be put to test)"
   ]
  },
  {
   "cell_type": "markdown",
   "metadata": {},
   "source": [
    "### *Fundamentals of data storytelling*"
   ]
  },
  {
   "cell_type": "markdown",
   "metadata": {},
   "source": [
    "`Two concepts` help us build the story's core. \n",
    "1. **3-minute story:** if we only had three minutes to tell a story, what would we focus on? \n",
    "2. **The big idea:** state the story's unique point of view in one sentence. \n",
    " \n",
    "These concepts help us articulate our story clearly and concisely. "
   ]
  },
  {
   "cell_type": "markdown",
   "metadata": {},
   "source": [
    "There are `three central elements` for any data story:"
   ]
  },
  {
   "cell_type": "markdown",
   "metadata": {},
   "source": [
    "\n",
    "1. The data\n",
    "    - Only include results (e.g. predictions) and findings (e.g. data analysis) that support the story's big idea\n",
    "    - Data should be relevant i.e, data that applies to the situation at hand\n",
    "    - The data should be accurate and reliable"
   ]
  },
  {
   "cell_type": "markdown",
   "metadata": {},
   "source": [
    "\n",
    "2. The narrative: Only include the key points needed to drive change.\n",
    "    - Main point\n",
    "      - Avoid disconnected facts\n",
    "      - One central insight\n",
    "    - Explanatory context\n",
    "      - Understand background and audience\n",
    "      - Clarify facts to that audience\n",
    "    - Linear sequence: Every data point presented builds on each other until the conclusion is reached."
   ]
  },
  {
   "cell_type": "markdown",
   "metadata": {},
   "source": [
    "3. The visuals\n",
    "    - Should be simple\n",
    "    - Should be engaging\n",
    "    - *Must not be misleading*"
   ]
  },
  {
   "cell_type": "markdown",
   "metadata": {},
   "source": [
    "### *Translating technical results*"
   ]
  },
  {
   "cell_type": "markdown",
   "metadata": {},
   "source": [
    "1. **Awareness:** Be aware of your audience. What is their background? What do they know? Will they understand techical jargons if you explain it? How much do they need to understand to drive change? Explaining why we chose the variables to predict is not useful for a non-tech person, we should explain the context in which our model works. Our story should help the audience understand what our project is about, what change needs to be made for tangible outcomes. Listing the correlation coefficients could be overwhelming, it's better to explain the interaction between the variables (how they depend on each other, what will happen to the other if we change one etc). "
   ]
  },
  {
   "cell_type": "markdown",
   "metadata": {},
   "source": [
    "2. **The ADEPT technique**\n",
    "   - Analogy: Use a familiar concept to explain a new one.\n",
    "   - Diagram: Use simple, easy-to-understand visuals.\n",
    "   - Example: Illustrative power of a concrete example is always efficient.\n",
    "   - Plain English: Avoid jargon and technical terms as much as possible.\n",
    "   - Technical definition: Use technical terms only when necessary. Be aware that not all technical details can be removed. Include a reference guide or definitions in the report. Be active, explain the same thing differently if necessary, try to answer the questions that the audience has, be humble and don't be condescending."
   ]
  },
  {
   "cell_type": "markdown",
   "metadata": {},
   "source": [
    "3. **Focus on impact:** Even if we are interested in showing the technical details, a persuasive story usually focuses on impact rather than process. For example, if we are talking about adopting a new technology, we should focus on the impact that technology has on the technical team's time and deliverables. Or if we are explaining how our model predicts an outcome, we should focus on the benefits, such as financial benefits."
   ]
  },
  {
   "cell_type": "markdown",
   "metadata": {},
   "source": [
    "### *Impacting the decision-making process*"
   ]
  },
  {
   "cell_type": "markdown",
   "metadata": {},
   "source": [
    "<u>`Narrative structure`</u>\n",
    "\n",
    "1. **Background**\n",
    "   - What motivated the analysis?\n",
    "   - What changed in the previous situation that called for an analysis?\n",
    "   - Who/What the analysis if focused on? (e.g. a specific customer group, a specific product etc)\n",
    "2. **Initial insights:** Provide evidence of the factors that contribute to the problem. Only include relevant information.\n",
    "3. **Deeper insights:** Provide more supporting evidence and data, as long as it helps explain on a deeper level the cause of the problem.\n",
    "4. **Climax:** All the evidence should lead to the climax, the moment when we introduce the central finding of our analysis. It should state clearly what could happen if nothing changes.\n",
    "5. **Next steps:** After the main finding is revealed, we should finish exploring potential solutions and opportunities, by recommending a course of action to take. We need to be proactive and guide the audience through understanding what to do with our results if we want to impact the decision making process. "
   ]
  },
  {
   "cell_type": "markdown",
   "metadata": {},
   "source": [
    "<u>`Selecting correct visualizations and presenting them`</u>\n",
    "\n",
    "\n",
    "1. **Identify your audience's level of expertise**. Choose the right level of detail and the right visualizations accordingly.\n",
    "2. Give a **simple, clear and proper title** to the visualization. When in doubt you can follow the *y vs x format*.\n",
    "3. Anticipate any questions the audience might have and **provide the answers**. Explain the data source, the context, the units, the time period etc. In short, **prove that the data is reliable**.\n",
    "4. A **strong and general statement about the findings** i.e, the **main takeaway** of the visualization.\n",
    "5. Highlight **supporting data**.\n",
    "6. **Separately highlight** any odd trend or any feature that you want **to draw attention to**.\n",
    "7. Explain the **impact of the findings**. What does it mean for the business? What should be done next? What are the next steps?"
   ]
  },
  {
   "cell_type": "markdown",
   "metadata": {},
   "source": [
    "## Data preparation for communication"
   ]
  },
  {
   "cell_type": "markdown",
   "metadata": {},
   "source": [
    "### *Choosing the right communication format*"
   ]
  },
  {
   "cell_type": "markdown",
   "metadata": {},
   "source": [
    "A good communication format shows **key informations** from our project in a way that is **engaging** and **easy to understand**."
   ]
  },
  {
   "cell_type": "markdown",
   "metadata": {},
   "source": [
    "There are two main formats that are very common: written reports and oral presentations. Most data science projects will require a written report and an oral presentation, but in the end it depends on the situation and project at hand. "
   ]
  },
  {
   "cell_type": "markdown",
   "metadata": {},
   "source": [
    "**There are several things to consider when sharing findings:**\n",
    "\n",
    "1. The audience (their background, why they are interested in the project, what they are interested in - the results or the impact it'll have, how will they use the findings)\n",
    "2. The content to include (results, conclusions, recommendations, methods)\n",
    "3. Special requirements to take into account (time constraints, will they report to someone else and need a copy to backup their claims)\n",
    "4. Lastly deciding which channel to use (format - notebook, blogpost, report, presentation etc; delivery mechanism - email, in person, slack etc; how big is the audience?)"
   ]
  },
  {
   "cell_type": "markdown",
   "metadata": {},
   "source": [
    "- ##### Oral presentations"
   ]
  },
  {
   "cell_type": "markdown",
   "metadata": {},
   "source": [
    "<u>Advantages</u>\n",
    "1. You get to build a relationship with the audience\n",
    "2. Non-verbal cues can be used to emphasize important points and also to gauge the audience's reaction\n",
    "3. Immediate feedback\n",
    "\n",
    "<u>Disadvantages</u>\n",
    "1. No permanent record of communication\n",
    "2. Not suitable for long messages"
   ]
  },
  {
   "cell_type": "markdown",
   "metadata": {},
   "source": [
    "- ##### Written reports"
   ]
  },
  {
   "cell_type": "markdown",
   "metadata": {},
   "source": [
    "<u>Advantages</u>\n",
    "1. Permanent records of communication so the message can be analyzed on the longer term \n",
    "2. It is easy to share with large audiences \n",
    "3. Less prone to emotional reactions \n",
    "4. It is also suitable to share code with any technical stakeholder for review or replication \n",
    "\n",
    "<u>Disadvantages</u>\n",
    "1. Hard to see if the message was understood\n",
    "2. No immediate feedback"
   ]
  },
  {
   "cell_type": "markdown",
   "metadata": {},
   "source": [
    "### *Written reports*"
   ]
  },
  {
   "cell_type": "markdown",
   "metadata": {},
   "source": [
    "**Our report must include the following elements:**\n",
    "\n",
    "1. Explanation of the data analysis project (what was the problem that motivated the analysis, what data was used, what was the goal of the analysis etc).\n",
    "2. Key findings (data backed analysis about the cause of the problem, what are the main factors that influences the problem, analysis of how to imporve the situation, the predictive model that was built and its accuracy etc).\n",
    "3. Maintain industry standards (use the right format, use the right language etc).\n",
    "4. Recommendations to drive change."
   ]
  },
  {
   "cell_type": "markdown",
   "metadata": {},
   "source": [
    "#### Tyes of written reports"
   ]
  },
  {
   "cell_type": "markdown",
   "metadata": {},
   "source": [
    "<u>Informational reports</u>\n",
    "\n",
    "- Factual informations only\n",
    "- The purpose is to inform about the facts without any analysis or interpretation\n",
    "- Short and concise\n",
    "- No strict structure to follow\n",
    "\n",
    "<u>Analytical reports</u>\n",
    "\n",
    "- Provides an analysis of the facts, demonstrate relationships and give recommendations\n",
    "- The purpose is to drive decisions based on data\n",
    "- Longer than informational reports (length varies depending on the complexity of the analysis)\n",
    "- Follows a strict structure\n",
    "\n",
    "<u>Final reports</u>\n",
    "\n",
    "- Includes all the information about the project (data, analysis, findings, visuals, recommendations)\n",
    "- Intended for technical audiences\n",
    "- Longest type of report\n",
    "- Follows a strict structure\n",
    "\n",
    "<u>Summary reports</u>\n",
    "\n",
    "- Only includes key findings, visuals and recommendations\n",
    "- Intended for decision makers who are not interested in the technical details\n",
    "- Short (< 5 pages)\n",
    "- Summary of the final report and often contains a link to the full report\n",
    "- Follows a strict structure"
   ]
  },
  {
   "cell_type": "markdown",
   "metadata": {},
   "source": [
    "#### Structure of a written report"
   ]
  },
  {
   "cell_type": "markdown",
   "metadata": {},
   "source": [
    "A general structure for a report is as follows:\n",
    "\n",
    "1. Introduction\n",
    "   - Purpose: What we aim to do\n",
    "   - Contextual information: What motivated the analysis in the first place\n",
    "   - Summary of analysis questions\n",
    "\n",
    "2. Body\n",
    "   - Data: Description of the data used, we can also add a table if we want\n",
    "   - Methods: Describe the methods used to gather and analyze the data, the method of selecting the models etc.\n",
    "   - Analysis: Describe the analysis performed, add related data and visuals\n",
    "   - Results: Describe and explain the results, include model evaluation metrics and visuals\n",
    "   - Conclusion: Restate the analysis questions and summarize the most important findings from the analysis, Add recommendations"
   ]
  },
  {
   "cell_type": "markdown",
   "metadata": {},
   "source": [
    "This structure is more appropriate for journal reports. In a business context, the 1-3-25 structure might be more appropriate.\n",
    "\n",
    "- 1 page of abstract\n",
    "- 3 pages of executive summary\n",
    "- 25 pages of details (max)"
   ]
  },
  {
   "cell_type": "markdown",
   "metadata": {},
   "source": [
    "### *Oral presentations*"
   ]
  },
  {
   "cell_type": "markdown",
   "metadata": {},
   "source": [
    "#### Planning an oral presentation"
   ]
  },
  {
   "cell_type": "markdown",
   "metadata": {},
   "source": [
    "Just as it is a bad idea to dive straight into writing code for a data analysis project without first thinking about what you want to do, it is usually a bad idea to dive into writing slides without planning."
   ]
  },
  {
   "cell_type": "markdown",
   "metadata": {},
   "source": [
    "To help structure the presentation, we should consider its purpose, who the audience is, and the message we want to get across. \n",
    "1. **Purpose:** What is the purpose of the presentation? Is it to simply inform, instruct or persuade?\n",
    "2. **Audience:** Identify your audience. Are we presenting to a technical colleague, to a manager or executive team, or to a group of customers? It is also important to identify the audience size.\n",
    "3. **Message:** Our audience will have forgotten 90% of the presentation a week after seeing it. If they only remember one thing from your presentation, what do you want it to be? You can then work backwards from that to decide what needs to be included in the presentation to get the audience there. \n",
    "   - Our opening statement should hook our audience and introduce this one thing you want the audience to walk away with.  For example: negative ratings scare customers away from our website. \n",
    "   - Then, we decide on the central message. It is advisable to just use one sentence. We might convey that delayed shipping is the main cause of negative reviews and immediate actions are needed to revert the situation. \n",
    "   - Finally, we need a closing statement that sums up the presentation and strengthens the central message. We might say that there is a decrease in sales. Negative reviews have been increasing. Delayed shipping is causing negative ratings, and actions are needed to revert the situation."
   ]
  },
  {
   "cell_type": "markdown",
   "metadata": {},
   "source": [
    "Taking all of these into account a general structure for an oral presentation might be as follows:\n",
    "\n",
    "1. **Introduction:** We should provide some background information to catch our audience's attention and give them a glimpse of the presentation content. A common mistake is to forget to state the purpose of the presentation in the introduction. This simple mistake could ruin the rest of the presentation, preventing the audience from understanding the importance of our findings and leaving them in the dark throughout the presentation, diminishing the impact of our story. \n",
    "2. **Methods, Analysis and Model outputs:** Who our audience is determines how detailed this part should be: if our audience is non-technical, you might justify skipping this entirely. \n",
    "3. **Conclusion:** Refer back to the introduction, restate your messages, add a call-to-action statement or recommendations for next steps. \n",
    " \n",
    "This structure helps keeping our audience engaged, who is likely more attentive at the beginning and end of our talk. Another important aspect is to include visuals all throughout the presentation and not just in the middle or at the end. *We might have the following sections: The reason for analysis, the exploratory analysis, the ml model itself, the conclusions, and the follow-up actions. We should include graphics to support our findings in each of these sections (note: use only one or two full-size graphs per slide).* "
   ]
  },
  {
   "cell_type": "markdown",
   "metadata": {},
   "source": [
    "#### Best practices and things to avoid"
   ]
  },
  {
   "cell_type": "markdown",
   "metadata": {},
   "source": [
    "1. Keep time in mind. Average attention span is 5-20 minutes. We also need some time at the end for questions.\n",
    "2. It's better to have many slides with little content on each, making for a more dynamic presentation, rather than few slides with lots of content. we should have one message per slide. It will keep things short and fluid. Lessen the cognitive load on the audience as much as possible.\n",
    "3. So as far as colors are concerned, we use the least amount of colors needed to convey our message. Also, we should maintain a good contrast between your text and background, to help readability. We also need to be attentive to potentially impaired auditors. People who have color-vision deficiency can't distinguish between two different colors, so those people will struggle to understand the text or graph on the slides if you use green and red together. \n",
    "4. Fonts also impact readability. The rule of thumb would be \"sans-serif\" is appropriate for text that will be read on a screen, and \"serif\" is appropriate for text that will be printed. The font choice is also contextual. Usually, texts are hard to read not because of the font choice, but because they are long texts in a small size. Let's keep our texts short and big instead. Use bold and italics to get your point across but do not overuse them.\n",
    "5. Including too much text can have a negative impact. The audience tends to read the slide instead of listening. Break down the text into bullet points. Use a concise and specific heading. You can also consider using a visual instead of text.\n",
    "6. Use layering to reveal information progressively. It helps the audience focus on the current topic. You can use layering for texts as well as visuals."
   ]
  },
  {
   "cell_type": "code",
   "execution_count": null,
   "metadata": {},
   "outputs": [],
   "source": []
  }
 ],
 "metadata": {
  "language_info": {
   "name": "python"
  },
  "orig_nbformat": 4
 },
 "nbformat": 4,
 "nbformat_minor": 2
}
