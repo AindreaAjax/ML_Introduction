{
 "cells": [
  {
   "cell_type": "markdown",
   "metadata": {},
   "source": [
    "## Data storytelling"
   ]
  },
  {
   "cell_type": "markdown",
   "metadata": {},
   "source": [
    "Data storytelling is a powerful mechanism for sharing insights supported by a compelling narrative and efficient visualizations."
   ]
  },
  {
   "cell_type": "markdown",
   "metadata": {},
   "source": [
    "Data storytelling is not about spinning results, it's about making them stick. For this to work, they should be:\n",
    "- simple (pruning the message to its core) \n",
    "- concrete (can be described or detected by human senses) \n",
    "- credible (can be put to test)"
   ]
  },
  {
   "cell_type": "markdown",
   "metadata": {},
   "source": [
    "### *Fundamentals of data storytelling*"
   ]
  },
  {
   "cell_type": "markdown",
   "metadata": {},
   "source": [
    "`Two concepts` help us build the story's core. \n",
    "1. **3-minute story:** if we only had three minutes to tell a story, what would we focus on? \n",
    "2. **The big idea:** state the story's unique point of view in one sentence. \n",
    " \n",
    "These concepts help us articulate our story clearly and concisely. "
   ]
  },
  {
   "cell_type": "markdown",
   "metadata": {},
   "source": [
    "There are `three central elements` for any data story:"
   ]
  },
  {
   "cell_type": "markdown",
   "metadata": {},
   "source": [
    "\n",
    "1. The data\n",
    "    - Only include results (e.g. predictions) and findings (e.g. data analysis) that support the story's big idea\n",
    "    - Data should be relevant i.e, data that applies to the situation at hand\n",
    "    - The data should be accurate and reliable"
   ]
  },
  {
   "cell_type": "markdown",
   "metadata": {},
   "source": [
    "\n",
    "2. The narrative: Only include the key points needed to drive change.\n",
    "    - Main point\n",
    "      - Avoid disconnected facts\n",
    "      - One central insight\n",
    "    - Explanatory context\n",
    "      - Understand background and audience\n",
    "      - Clarify facts to that audience\n",
    "    - Linear sequence: Every data point presented builds on each other until the conclusion is reached."
   ]
  },
  {
   "cell_type": "markdown",
   "metadata": {},
   "source": [
    "3. The visuals\n",
    "    - Should be simple\n",
    "    - Should be engaging\n",
    "    - *Must not be misleading*"
   ]
  },
  {
   "cell_type": "markdown",
   "metadata": {},
   "source": [
    "### *Translating technical results*"
   ]
  },
  {
   "cell_type": "markdown",
   "metadata": {},
   "source": [
    "1. **Awareness:** Be aware of your audience. What is their background? What do they know? Will they understand techical jargons if you explain it? How much do they need to understand to drive change? Explaining why we chose the variables to predict is not useful for a non-tech person, we should explain the context in which our model works. Our story should help the audience understand what our project is about, what change needs to be made for tangible outcomes. Listing the correlation coefficients could be overwhelming, it's better to explain the interaction between the variables (how they depend on each other, what will happen to the other if we change one etc). "
   ]
  },
  {
   "cell_type": "markdown",
   "metadata": {},
   "source": [
    "2. **The ADEPT technique**\n",
    "   - Analogy: Use a familiar concept to explain a new one.\n",
    "   - Diagram: Use simple, easy-to-understand visuals.\n",
    "   - Example: Illustrative power of a concrete example is always efficient.\n",
    "   - Plain English: Avoid jargon and technical terms as much as possible.\n",
    "   - Technical definition: Use technical terms only when necessary. Be aware that not all technical details can be removed. Include a reference guide or definitions in the report. Be active, explain the same thing differently if necessary, try to answer the questions that the audience has, be humble and don't be condescending."
   ]
  },
  {
   "cell_type": "markdown",
   "metadata": {},
   "source": [
    "3. **Focus on impact:** Even if we are interested in showing the technical details, a persuasive story usually focuses on impact rather than process. For example, if we are talking about adopting a new technology, we should focus on the impact that technology has on the technical team's time and deliverables. Or if we are explaining how our model predicts an outcome, we should focus on the benefits, such as financial benefits."
   ]
  },
  {
   "cell_type": "markdown",
   "metadata": {},
   "source": [
    "### *Impacting the decision-making process*"
   ]
  },
  {
   "cell_type": "markdown",
   "metadata": {},
   "source": [
    "<u>`Narrative structure`</u>\n",
    "\n",
    "1. **Background**\n",
    "   - What motivated the analysis?\n",
    "   - What changed in the previous situation that called for an analysis?\n",
    "   - Who/What the analysis if focused on? (e.g. a specific customer group, a specific product etc)\n",
    "2. **Initial insights:** Provide evidence of the factors that contribute to the problem. Only include relevant information.\n",
    "3. **Deeper insights:** Provide more supporting evidence and data, as long as it helps explain on a deeper level the cause of the problem.\n",
    "4. **Climax:** All the evidence should lead to the climax, the moment when we introduce the central finding of our analysis. It should state clearly what could happen if nothing changes.\n",
    "5. **Next steps:** After the main finding is revealed, we should finish exploring potential solutions and opportunities, by recommending a course of action to take. We need to be proactive and guide the audience through understanding what to do with our results if we want to impact the decision making process. "
   ]
  },
  {
   "cell_type": "markdown",
   "metadata": {},
   "source": [
    "<u>`Selecting correct visualizations and presenting them`</u>\n",
    "\n",
    "\n",
    "1. **Identify your audience's level of expertise**. Choose the right level of detail and the right visualizations accordingly.\n",
    "2. Give a **simple, clear and proper title** to the visualization. When in doubt you can follow the *y vs x format*.\n",
    "3. Anticipate any questions the audience might have and **provide the answers**. Explain the data source, the context, the units, the time period etc. In short, **prove that the data is reliable**.\n",
    "4. A **strong and general statement about the findings** i.e, the **main takeaway** of the visualization.\n",
    "5. Highlight **supporting data**.\n",
    "6. **Separately highlight** any odd trend or any feature that you want **to draw attention to**.\n",
    "7. Explain the **impact of the findings**. What does it mean for the business? What should be done next? What are the next steps?"
   ]
  },
  {
   "cell_type": "markdown",
   "metadata": {},
   "source": [
    "## Data preparation for communication"
   ]
  },
  {
   "cell_type": "markdown",
   "metadata": {},
   "source": [
    "### *Choosing the right format*"
   ]
  },
  {
   "cell_type": "markdown",
   "metadata": {},
   "source": [
    "A good communication format shows **key informations** from our project in a way that is **engaging** and **easy to understand**."
   ]
  },
  {
   "cell_type": "markdown",
   "metadata": {},
   "source": [
    "There are two main formats that are very common: written reports and oral presentations. Most data science projects will require a written report and an oral presentation, but in the end it depends on the situation and project at hand. "
   ]
  },
  {
   "cell_type": "markdown",
   "metadata": {},
   "source": [
    "**There are several things to consider when sharing findings:**\n",
    "\n",
    "1. The audience (their background, why they are interested in the project, what they are interested in - the results or the impact it'll have, how will they use the findings)\n",
    "2. The content to include (results, conclusions, recommendations, methods)\n",
    "3. Special requirements to take into account (time constraints, will they report to someone else and need a copy to backup their claims)\n",
    "4. Lastly deciding which channel to use (format - notebook, blogpost, report, presentation etc; delivery mechanism - email, in person, slack etc; how big is the audience?)"
   ]
  },
  {
   "cell_type": "markdown",
   "metadata": {},
   "source": [
    "- #### Oral presentations"
   ]
  },
  {
   "cell_type": "markdown",
   "metadata": {},
   "source": [
    "<u>Advantages</u>\n",
    "1. You get to build a relationship with the audience\n",
    "2. Non-verbal cues can be used to emphasize important points and also to gauge the audience's reaction\n",
    "3. Immediate feedback\n",
    "\n",
    "<u>Disadvantages</u>\n",
    "1. No permanent record of communication\n",
    "2. Not suitable for long messages"
   ]
  },
  {
   "cell_type": "markdown",
   "metadata": {},
   "source": [
    "- #### Written reports"
   ]
  },
  {
   "cell_type": "markdown",
   "metadata": {},
   "source": [
    "<u>Advantages</u>\n",
    "1. Permanent records of communication so the message can be analyzed on the longer term \n",
    "2. It is easy to share with large audiences \n",
    "3. Less prone to emotional reactions \n",
    "4. It is also suitable to share code with any technical stakeholder for review or replication \n",
    "\n",
    "<u>Disadvantages</u>\n",
    "1. Hard to see if the message was understood\n",
    "2. No immediate feedback"
   ]
  },
  {
   "cell_type": "code",
   "execution_count": null,
   "metadata": {},
   "outputs": [],
   "source": []
  },
  {
   "cell_type": "code",
   "execution_count": null,
   "metadata": {},
   "outputs": [],
   "source": []
  }
 ],
 "metadata": {
  "language_info": {
   "name": "python"
  },
  "orig_nbformat": 4
 },
 "nbformat": 4,
 "nbformat_minor": 2
}
