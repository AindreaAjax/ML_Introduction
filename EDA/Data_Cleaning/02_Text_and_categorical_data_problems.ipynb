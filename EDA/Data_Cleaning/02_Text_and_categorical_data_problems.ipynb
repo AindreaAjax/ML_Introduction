{
 "cells": [
  {
   "cell_type": "markdown",
   "metadata": {},
   "source": [
    "**Table of contents**<a id='toc0_'></a>    \n",
    "- [Import Statements](#toc1_1_)    \n",
    "  - [Common types of problems that we might face with categorical data](#toc1_2_)    \n",
    "    - [-> Membership constraints](#toc1_2_1_)    \n",
    "    - [-> Value inconsistency](#toc1_2_2_)    \n",
    "    - [-> Collapsing data into categories](#toc1_2_3_)    \n",
    "  - [Common types of problems that we might face with text data](#toc1_3_)    \n",
    "\n",
    "<!-- vscode-jupyter-toc-config\n",
    "\tnumbering=false\n",
    "\tanchor=true\n",
    "\tflat=false\n",
    "\tminLevel=2\n",
    "\tmaxLevel=5\n",
    "\t/vscode-jupyter-toc-config -->\n",
    "<!-- THIS CELL WILL BE REPLACED ON TOC UPDATE. DO NOT WRITE YOUR TEXT IN THIS CELL -->"
   ]
  },
  {
   "cell_type": "markdown",
   "metadata": {},
   "source": [
    "### <a id='toc1_1_'></a>[Import Statements](#toc0_)"
   ]
  },
  {
   "cell_type": "code",
   "execution_count": 1,
   "metadata": {},
   "outputs": [],
   "source": [
    "import numpy as np\n",
    "import pandas as pd\n",
    "import matplotlib as mpl\n",
    "import matplotlib.pyplot as plt\n",
    "import seaborn as sns"
   ]
  },
  {
   "cell_type": "markdown",
   "metadata": {},
   "source": [
    "### <a id='toc1_2_'></a>[Common types of problems that we might face with categorical data](#toc0_)\n",
    "\n",
    "- Membership constraints\n",
    "- Value inconsistencies\n",
    "  - Inconsistent fields: \"married\", \"Maried\", \"Unmarried\", \"Not_MARRIED\"\n",
    "  - Trailing spaces/other characters: \"married \", \"_married__\"\n",
    "- Too few categories that needs to be expanded\n",
    "- Too many categories that needs to be collapsed\n",
    "- Mapping existing categories to new ones \n",
    "- Last but not least, making sure that the data is of right type"
   ]
  },
  {
   "cell_type": "markdown",
   "metadata": {},
   "source": [
    "#### <a id='toc1_2_1_'></a>[-> Membership constraints](#toc0_)"
   ]
  },
  {
   "cell_type": "markdown",
   "metadata": {},
   "source": [
    "Sometimes we need to ensure that the values of a particular categorical column comes from a known/pre-defined set of values. For example, we might want to ensure that the values of the \"sex\" column are either \"male\" or \"female\" (only a simple example and in practice we often have much more categories to check against)."
   ]
  },
  {
   "cell_type": "markdown",
   "metadata": {},
   "source": [
    "<u>Useful Functions and Methods</u>:\n",
    "\n",
    "- `ser.isin(iter)` - Check whether the series values are contained in the iterable\n",
    "- `ser.unique()` - Return unique values of Series object\n",
    "- `.cat.remove_categories(removals)` - Remove categories from categorical data (the removed category values will be replaced with NaNs).\n",
    "- `df.dropna()` - Drop rows with NaN values"
   ]
  },
  {
   "cell_type": "markdown",
   "metadata": {},
   "source": [
    "#### <a id='toc1_2_2_'></a>[-> Value inconsistency](#toc0_)"
   ]
  },
  {
   "cell_type": "markdown",
   "metadata": {},
   "source": [
    "Sometimes the categories are misspelled/there are trailing spaces/there are different capitalizations of the same category. We need to make sure that each category is indeed a correct and distinct category."
   ]
  },
  {
   "cell_type": "markdown",
   "metadata": {},
   "source": [
    "<u>Useful Functions and Methods</u>:\n",
    "\n",
    "- `.str` accessors - Accessor objects for string methods\n",
    "- `ser.unique()` - Return unique values of Series object"
   ]
  },
  {
   "cell_type": "markdown",
   "metadata": {},
   "source": [
    "#### <a id='toc1_2_3_'></a>[-> Collapsing data into categories](#toc0_)"
   ]
  },
  {
   "cell_type": "markdown",
   "metadata": {},
   "source": [
    "Sometimes there are several categories of data that should actually be grouped under a single category. For example, we might want to group all the different types of \"dog breeds\" and \"cat breeds\" from a column into single categories \"dog\" and \"cat\"."
   ]
  },
  {
   "cell_type": "markdown",
   "metadata": {},
   "source": [
    "<u> Useful Functions and Methods</u>:\n",
    "\n",
    "- `ser.replace(mapping_dict)` - Replace values in Series object using the mapping dictionary (keys are the values to be replaced and values are the replacement values)\n",
    "- `pd.cut(ser, bins, labels)` - Bin values into discrete intervals (bins) and name each bin with the corresponding interval label from labels\n",
    "- `pd.qcut(ser, q, labels)` - Bin values into discrete intervals (bins) and name each bin with the corresponding interval label from labels. The bins are chosen so that there are approximately the same number of records in each bin.\n",
    "- `np.select(condlist, choicelist, default)` - Return an array drawn from elements in choicelist, depending on conditions"
   ]
  },
  {
   "cell_type": "code",
   "execution_count": 2,
   "metadata": {},
   "outputs": [],
   "source": [
    "df_airlines = pd.read_csv(\"../datasets/airlines_final.csv\", index_col=0)"
   ]
  },
  {
   "cell_type": "code",
   "execution_count": 3,
   "metadata": {},
   "outputs": [
    {
     "data": {
      "text/html": [
       "<div>\n",
       "<style scoped>\n",
       "    .dataframe tbody tr th:only-of-type {\n",
       "        vertical-align: middle;\n",
       "    }\n",
       "\n",
       "    .dataframe tbody tr th {\n",
       "        vertical-align: top;\n",
       "    }\n",
       "\n",
       "    .dataframe thead th {\n",
       "        text-align: right;\n",
       "    }\n",
       "</style>\n",
       "<table border=\"1\" class=\"dataframe\">\n",
       "  <thead>\n",
       "    <tr style=\"text-align: right;\">\n",
       "      <th></th>\n",
       "      <th>id</th>\n",
       "      <th>day</th>\n",
       "      <th>airline</th>\n",
       "      <th>destination</th>\n",
       "      <th>dest_region</th>\n",
       "      <th>dest_size</th>\n",
       "      <th>boarding_area</th>\n",
       "      <th>dept_time</th>\n",
       "      <th>wait_min</th>\n",
       "      <th>cleanliness</th>\n",
       "      <th>safety</th>\n",
       "      <th>satisfaction</th>\n",
       "    </tr>\n",
       "  </thead>\n",
       "  <tbody>\n",
       "    <tr>\n",
       "      <th>0</th>\n",
       "      <td>1351</td>\n",
       "      <td>Tuesday</td>\n",
       "      <td>UNITED INTL</td>\n",
       "      <td>KANSAI</td>\n",
       "      <td>Asia</td>\n",
       "      <td>Hub</td>\n",
       "      <td>Gates 91-102</td>\n",
       "      <td>2018-12-31</td>\n",
       "      <td>115.0</td>\n",
       "      <td>Clean</td>\n",
       "      <td>Neutral</td>\n",
       "      <td>Very satisfied</td>\n",
       "    </tr>\n",
       "    <tr>\n",
       "      <th>1</th>\n",
       "      <td>373</td>\n",
       "      <td>Friday</td>\n",
       "      <td>ALASKA</td>\n",
       "      <td>SAN JOSE DEL CABO</td>\n",
       "      <td>Canada/Mexico</td>\n",
       "      <td>Small</td>\n",
       "      <td>Gates 50-59</td>\n",
       "      <td>2018-12-31</td>\n",
       "      <td>135.0</td>\n",
       "      <td>Clean</td>\n",
       "      <td>Very safe</td>\n",
       "      <td>Very satisfied</td>\n",
       "    </tr>\n",
       "    <tr>\n",
       "      <th>2</th>\n",
       "      <td>2820</td>\n",
       "      <td>Thursday</td>\n",
       "      <td>DELTA</td>\n",
       "      <td>LOS ANGELES</td>\n",
       "      <td>West US</td>\n",
       "      <td>Hub</td>\n",
       "      <td>Gates 40-48</td>\n",
       "      <td>2018-12-31</td>\n",
       "      <td>70.0</td>\n",
       "      <td>Average</td>\n",
       "      <td>Somewhat safe</td>\n",
       "      <td>Neutral</td>\n",
       "    </tr>\n",
       "  </tbody>\n",
       "</table>\n",
       "</div>"
      ],
      "text/plain": [
       "     id       day      airline        destination    dest_region dest_size  \\\n",
       "0  1351   Tuesday  UNITED INTL             KANSAI           Asia       Hub   \n",
       "1   373    Friday       ALASKA  SAN JOSE DEL CABO  Canada/Mexico     Small   \n",
       "2  2820  Thursday        DELTA        LOS ANGELES        West US       Hub   \n",
       "\n",
       "  boarding_area   dept_time  wait_min cleanliness         safety  \\\n",
       "0  Gates 91-102  2018-12-31     115.0       Clean        Neutral   \n",
       "1   Gates 50-59  2018-12-31     135.0       Clean      Very safe   \n",
       "2   Gates 40-48  2018-12-31      70.0     Average  Somewhat safe   \n",
       "\n",
       "     satisfaction  \n",
       "0  Very satisfied  \n",
       "1  Very satisfied  \n",
       "2         Neutral  "
      ]
     },
     "execution_count": 3,
     "metadata": {},
     "output_type": "execute_result"
    }
   ],
   "source": [
    "df_airlines.head(3)"
   ]
  },
  {
   "cell_type": "code",
   "execution_count": 4,
   "metadata": {},
   "outputs": [
    {
     "name": "stdout",
     "output_type": "stream",
     "text": [
      "<class 'pandas.core.frame.DataFrame'>\n",
      "Index: 2477 entries, 0 to 2808\n",
      "Data columns (total 12 columns):\n",
      " #   Column         Non-Null Count  Dtype  \n",
      "---  ------         --------------  -----  \n",
      " 0   id             2477 non-null   int64  \n",
      " 1   day            2477 non-null   object \n",
      " 2   airline        2477 non-null   object \n",
      " 3   destination    2477 non-null   object \n",
      " 4   dest_region    2477 non-null   object \n",
      " 5   dest_size      2477 non-null   object \n",
      " 6   boarding_area  2477 non-null   object \n",
      " 7   dept_time      2477 non-null   object \n",
      " 8   wait_min       2477 non-null   float64\n",
      " 9   cleanliness    2477 non-null   object \n",
      " 10  safety         2477 non-null   object \n",
      " 11  satisfaction   2477 non-null   object \n",
      "dtypes: float64(1), int64(1), object(10)\n",
      "memory usage: 251.6+ KB\n"
     ]
    }
   ],
   "source": [
    "df_airlines.info()"
   ]
  },
  {
   "cell_type": "code",
   "execution_count": 5,
   "metadata": {},
   "outputs": [],
   "source": [
    "# let's say to better understand survey respondents from airlines, we want to find out if there is a \n",
    "# relationship between certain responses and the day of the week and wait time at the gate.\n",
    "\n",
    "# The airlines DataFrame contains the day and wait_min columns. We want to create two new columns and replace,\n",
    "# wait_type: 'short' for 0-60 min, 'medium' for 60-180 and long for 180+\n",
    "# day_week: 'weekday' if day is in the weekday, 'weekend' if day is in the weekend."
   ]
  },
  {
   "cell_type": "code",
   "execution_count": 6,
   "metadata": {},
   "outputs": [],
   "source": [
    "# Create ranges for categories\n",
    "bins = [0, 60, 180, np.inf]\n",
    "bin_labels = ['short', 'medium', 'long']\n",
    "\n",
    "# Create wait_type column\n",
    "df_airlines['wait_type'] = pd.cut(df_airlines['wait_min'], bins = bins, \n",
    "                                labels = bin_labels)\n",
    "\n",
    "# Create mappings and replace\n",
    "cond_list = [df_airlines[\"day\"].isin(['Monday', 'Tuesday', 'Wednesday', 'Thursday', 'Friday']), df_airlines[\"day\"].isin(['Saturday', 'Sunday'])]\n",
    "\n",
    "choice_list = [\"weekday\", \"weekend\"]\n",
    "\n",
    "df_airlines[\"day_week\"] = np.select(condlist=cond_list, choicelist=choice_list)"
   ]
  },
  {
   "cell_type": "code",
   "execution_count": 7,
   "metadata": {},
   "outputs": [
    {
     "data": {
      "text/plain": [
       "wait_type\n",
       "medium    1711\n",
       "long       685\n",
       "short       81\n",
       "Name: count, dtype: int64"
      ]
     },
     "execution_count": 7,
     "metadata": {},
     "output_type": "execute_result"
    }
   ],
   "source": [
    "df_airlines.wait_type.value_counts()"
   ]
  },
  {
   "cell_type": "code",
   "execution_count": 8,
   "metadata": {},
   "outputs": [
    {
     "data": {
      "text/plain": [
       "day_week\n",
       "weekday    2000\n",
       "weekend     477\n",
       "Name: count, dtype: int64"
      ]
     },
     "execution_count": 8,
     "metadata": {},
     "output_type": "execute_result"
    }
   ],
   "source": [
    "df_airlines.day_week.value_counts()"
   ]
  },
  {
   "cell_type": "markdown",
   "metadata": {},
   "source": [
    "### <a id='toc1_3_'></a>[Common types of problems that we might face with text data](#toc0_)\n",
    "\n",
    "- Data inconsistency: \"+9618181818\", \"009618181818\" etc.\n",
    "- Fixed lenght violations: For example, a password must be at least 8 characters long.\n",
    "- Typos: \"+961.818.1818\" etc."
   ]
  },
  {
   "cell_type": "markdown",
   "metadata": {},
   "source": [
    "For most of the problems related to text data (along with above mentioned problems), the most useful method is the `.str` accessor methods. `Regex` is also very useful for dealing with text data problems."
   ]
  },
  {
   "cell_type": "code",
   "execution_count": null,
   "metadata": {},
   "outputs": [],
   "source": []
  }
 ],
 "metadata": {
  "kernelspec": {
   "display_name": "ml_intro",
   "language": "python",
   "name": "python3"
  },
  "language_info": {
   "codemirror_mode": {
    "name": "ipython",
    "version": 3
   },
   "file_extension": ".py",
   "mimetype": "text/x-python",
   "name": "python",
   "nbconvert_exporter": "python",
   "pygments_lexer": "ipython3",
   "version": "3.11.6"
  },
  "orig_nbformat": 4
 },
 "nbformat": 4,
 "nbformat_minor": 2
}
