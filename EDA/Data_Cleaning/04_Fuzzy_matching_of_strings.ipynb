{
 "cells": [
  {
   "cell_type": "markdown",
   "metadata": {},
   "source": [
    "**Table of contents**<a id='toc0_'></a>    \n",
    "- [Import Statements](#toc1_1_)    \n",
    "- [String similarity and minimum edit distance](#toc1_2_)    \n",
    "- [Levenshtein algorithm for comparing two strings](#toc1_3_)    \n",
    "\n",
    "<!-- vscode-jupyter-toc-config\n",
    "\tnumbering=false\n",
    "\tanchor=true\n",
    "\tflat=false\n",
    "\tminLevel=2\n",
    "\tmaxLevel=5\n",
    "\t/vscode-jupyter-toc-config -->\n",
    "<!-- THIS CELL WILL BE REPLACED ON TOC UPDATE. DO NOT WRITE YOUR TEXT IN THIS CELL -->"
   ]
  },
  {
   "cell_type": "markdown",
   "metadata": {},
   "source": [
    "### <a id='toc1_1_'></a>[Import Statements](#toc0_)"
   ]
  },
  {
   "cell_type": "code",
   "execution_count": 1,
   "metadata": {},
   "outputs": [],
   "source": [
    "import numpy as np\n",
    "import pandas as pd\n",
    "import matplotlib as mpl\n",
    "import matplotlib.pyplot as plt\n",
    "import seaborn as sns\n",
    "import pyreadr\n",
    "import datetime as pydt\n",
    "import missingno as msno\n",
    "from thefuzz import fuzz, process"
   ]
  },
  {
   "cell_type": "markdown",
   "metadata": {},
   "source": [
    "### <a id='toc1_2_'></a>[String similarity and minimum edit distance](#toc0_)"
   ]
  },
  {
   "cell_type": "markdown",
   "metadata": {},
   "source": [
    "Minimum edit distance is a systematic way to identify how close 2 strings are. The minimum edit distance between them is the least possible amount of steps, that could get us from the first word to the second word, with the available operations being, inserting new characters, deleting them, substituting them, and transposing consecutive characters. There's a variety of algorithms based on edit distance that differ on which operations they use, how much weight attributed to each operation, which type of strings they're suited for and more."
   ]
  },
  {
   "cell_type": "markdown",
   "metadata": {},
   "source": [
    "### <a id='toc1_3_'></a>[Levenshtein algorithm for comparing two strings](#toc0_)"
   ]
  },
  {
   "cell_type": "markdown",
   "metadata": {},
   "source": [
    "We'll be comparing strings using Levenshtein distance since it's the most general form of string matching by using the `thefuzz` package. See the usage at: https://github.com/seatgeek/thefuzz."
   ]
  },
  {
   "cell_type": "markdown",
   "metadata": {},
   "source": [
    "> `thefuzz.fuzz.WRatio(s1, s2, force_ascii=True, full_process=True)` will Return a measure of the sequences' similarity between 0 and 100, using different process algorithms. The WRatio function is highly robust against partial string comparison with different orderings."
   ]
  },
  {
   "cell_type": "code",
   "execution_count": 2,
   "metadata": {},
   "outputs": [
    {
     "data": {
      "text/plain": [
       "86"
      ]
     },
     "execution_count": 2,
     "metadata": {},
     "output_type": "execute_result"
    }
   ],
   "source": [
    "fuzz.WRatio(\"Houston Rockets vs Los Angeles Lakers\", \"Lakers vs Rockets\")"
   ]
  },
  {
   "cell_type": "markdown",
   "metadata": {},
   "source": [
    "> `thefuzz.process.extract(query, choices, processor=None, scorer=None, limit=5, score_cutoff=0)` will find best matches in a list or dictionary of choices, return a list of tuples containing the match and its score. If a dictionary is used, also returns the key for each match. If `score_cutoff` is set, this function will return only the matches with a similarity score greater than `score_cutoff`.\n",
    ">\n",
    ">> `thefuzz.process.extractOne(query, choices, processor=None, scorer=None, score_cutoff=0)` is the same as `extract` but returns the best match only."
   ]
  },
  {
   "cell_type": "code",
   "execution_count": 3,
   "metadata": {},
   "outputs": [
    {
     "data": {
      "text/plain": [
       "[('Rockets vs Lakers', 86, 0),\n",
       " ('Lakers vs Rockets', 86, 1),\n",
       " ('Houston vs Los Angeles', 86, 2),\n",
       " ('Heat vs Bulls', 86, 3)]"
      ]
     },
     "execution_count": 3,
     "metadata": {},
     "output_type": "execute_result"
    }
   ],
   "source": [
    "string = \"Houston Rockets vs Los Angeles Lakers\"\n",
    "choices = pd.Series([\"Rockets vs Lakers\", \"Lakers vs Rockets\", \"Houston vs Los Angeles\", \"Heat vs Bulls\"])\n",
    "\n",
    "process.extract(string, choices)"
   ]
  },
  {
   "cell_type": "markdown",
   "metadata": {},
   "source": [
    "- Let's add a new column to the `restaurants` DataFrame called `cuisine` that will store the cuisine type for each restaurant."
   ]
  },
  {
   "cell_type": "code",
   "execution_count": 4,
   "metadata": {},
   "outputs": [],
   "source": [
    "df_restaurants = pyreadr.read_r(\"../datasets/zagat.rds\")[None]"
   ]
  },
  {
   "cell_type": "code",
   "execution_count": 5,
   "metadata": {},
   "outputs": [
    {
     "data": {
      "text/html": [
       "<div>\n",
       "<style scoped>\n",
       "    .dataframe tbody tr th:only-of-type {\n",
       "        vertical-align: middle;\n",
       "    }\n",
       "\n",
       "    .dataframe tbody tr th {\n",
       "        vertical-align: top;\n",
       "    }\n",
       "\n",
       "    .dataframe thead th {\n",
       "        text-align: right;\n",
       "    }\n",
       "</style>\n",
       "<table border=\"1\" class=\"dataframe\">\n",
       "  <thead>\n",
       "    <tr style=\"text-align: right;\">\n",
       "      <th></th>\n",
       "      <th>id</th>\n",
       "      <th>name</th>\n",
       "      <th>addr</th>\n",
       "      <th>city</th>\n",
       "      <th>phone</th>\n",
       "      <th>type</th>\n",
       "      <th>class</th>\n",
       "    </tr>\n",
       "  </thead>\n",
       "  <tbody>\n",
       "    <tr>\n",
       "      <th>0</th>\n",
       "      <td>0</td>\n",
       "      <td>apple pan the</td>\n",
       "      <td>10801 w. pico blvd.</td>\n",
       "      <td>los angeles</td>\n",
       "      <td>310-475-3585</td>\n",
       "      <td>american</td>\n",
       "      <td>534</td>\n",
       "    </tr>\n",
       "    <tr>\n",
       "      <th>1</th>\n",
       "      <td>1</td>\n",
       "      <td>asahi ramen</td>\n",
       "      <td>2027 sawtelle blvd.</td>\n",
       "      <td>los angeles</td>\n",
       "      <td>310-479-2231</td>\n",
       "      <td>noodle shops</td>\n",
       "      <td>535</td>\n",
       "    </tr>\n",
       "    <tr>\n",
       "      <th>2</th>\n",
       "      <td>2</td>\n",
       "      <td>baja fresh</td>\n",
       "      <td>3345 kimber dr.</td>\n",
       "      <td>los angeles</td>\n",
       "      <td>805-498-4049</td>\n",
       "      <td>mexican</td>\n",
       "      <td>536</td>\n",
       "    </tr>\n",
       "    <tr>\n",
       "      <th>3</th>\n",
       "      <td>3</td>\n",
       "      <td>belvedere the</td>\n",
       "      <td>9882 little santa monica blvd.</td>\n",
       "      <td>los angeles</td>\n",
       "      <td>310-788-2306</td>\n",
       "      <td>pacific new wave</td>\n",
       "      <td>537</td>\n",
       "    </tr>\n",
       "    <tr>\n",
       "      <th>4</th>\n",
       "      <td>4</td>\n",
       "      <td>benita's frites</td>\n",
       "      <td>1433 third st. promenade</td>\n",
       "      <td>los angeles</td>\n",
       "      <td>310-458-2889</td>\n",
       "      <td>fast food</td>\n",
       "      <td>538</td>\n",
       "    </tr>\n",
       "  </tbody>\n",
       "</table>\n",
       "</div>"
      ],
      "text/plain": [
       "   id             name                            addr         city  \\\n",
       "0   0    apple pan the             10801 w. pico blvd.  los angeles   \n",
       "1   1      asahi ramen             2027 sawtelle blvd.  los angeles   \n",
       "2   2       baja fresh                 3345 kimber dr.  los angeles   \n",
       "3   3    belvedere the  9882 little santa monica blvd.  los angeles   \n",
       "4   4  benita's frites        1433 third st. promenade  los angeles   \n",
       "\n",
       "          phone              type  class  \n",
       "0  310-475-3585          american    534  \n",
       "1  310-479-2231      noodle shops    535  \n",
       "2  805-498-4049           mexican    536  \n",
       "3  310-788-2306  pacific new wave    537  \n",
       "4  310-458-2889         fast food    538  "
      ]
     },
     "execution_count": 5,
     "metadata": {},
     "output_type": "execute_result"
    }
   ],
   "source": [
    "df_restaurants.head()"
   ]
  },
  {
   "cell_type": "code",
   "execution_count": 6,
   "metadata": {},
   "outputs": [
    {
     "data": {
      "text/plain": [
       "type\n",
       "american ( new )            25\n",
       "italian                     19\n",
       "californian                 18\n",
       "steakhouses                 17\n",
       "chinese                     13\n",
       "american                    12\n",
       "french ( new )              12\n",
       "seafood                     12\n",
       "mexican                     11\n",
       "japanese                    11\n",
       "thai                        10\n",
       "hamburgers                  10\n",
       "french bistro                9\n",
       "french ( classic )           9\n",
       "continental                  9\n",
       "diners                       8\n",
       "indian                       7\n",
       "southern/soul                6\n",
       "coffee shops                 6\n",
       "pizza                        5\n",
       "vietnamese                   4\n",
       "bbq                          4\n",
       "pacific new wave             4\n",
       "mediterranean                4\n",
       "cafeterias                   4\n",
       "southwestern                 4\n",
       "eclectic                     4\n",
       "delis                        4\n",
       "hot dogs                     4\n",
       "asian                        3\n",
       "vegetarian                   3\n",
       "cuban                        3\n",
       "ukrainian                    2\n",
       "health food                  2\n",
       "caribbean                    2\n",
       "russian                      2\n",
       "middle eastern               2\n",
       "coffeehouses                 2\n",
       "cajun/creole                 2\n",
       "tex-mex                      2\n",
       "noodle shops                 2\n",
       "desserts                     2\n",
       "greek                        2\n",
       "fast food                    1\n",
       "scandinavian                 1\n",
       "nuova cucina italian         1\n",
       "american ( traditional )     1\n",
       "french                       1\n",
       "cambodian                    1\n",
       "chicken                      1\n",
       "sandwiches                   1\n",
       "afghan                       1\n",
       "spanish                      1\n",
       "pan-asian                    1\n",
       "polish                       1\n",
       "indonesian                   1\n",
       "pacific rim                  1\n",
       "Name: count, dtype: int64"
      ]
     },
     "execution_count": 6,
     "metadata": {},
     "output_type": "execute_result"
    }
   ],
   "source": [
    "df_restaurants.type.value_counts()"
   ]
  },
  {
   "cell_type": "code",
   "execution_count": 7,
   "metadata": {},
   "outputs": [],
   "source": [
    "df_restaurants[\"cuisine\"] = np.nan"
   ]
  },
  {
   "cell_type": "code",
   "execution_count": 8,
   "metadata": {},
   "outputs": [],
   "source": [
    "cuisine_categories = [\"american\", \"asian\", \"indian\", \"chinese\", \"japanese\", \"italian\", \"french\", \"mexican\", \"caribbean\"]"
   ]
  },
  {
   "cell_type": "code",
   "execution_count": 9,
   "metadata": {},
   "outputs": [],
   "source": [
    "# process.extract(\"italian\", df_restaurants[\"type\"], limit=len(df_restaurants))"
   ]
  },
  {
   "cell_type": "code",
   "execution_count": 10,
   "metadata": {},
   "outputs": [
    {
     "name": "stderr",
     "output_type": "stream",
     "text": [
      "/tmp/ipykernel_79620/1007236102.py:11: FutureWarning: Setting an item of incompatible dtype is deprecated and will raise in a future error of pandas. Value 'american' has dtype incompatible with float64, please explicitly cast to a compatible dtype first.\n",
      "  df_restaurants.loc[df_restaurants['type'] == match[0], \"cuisine_type\"] = cuisine\n"
     ]
    }
   ],
   "source": [
    "# Iterate through categories\n",
    "for cuisine in cuisine_categories:  \n",
    "  # Create a list of matches, comparing cuisine with the cuisine_type column\n",
    "  matches = process.extract(cuisine, df_restaurants['type'], limit=len(df_restaurants))\n",
    "\n",
    "  # Iterate through the list of matches\n",
    "  for match in matches:\n",
    "     # Check whether the similarity score is greater than or equal to 80\n",
    "    if match[1] >= 80:\n",
    "      # If it is, select all rows where the cuisine_type is spelled this way, and set them to the correct cuisine\n",
    "      df_restaurants.loc[df_restaurants['type'] == match[0], \"cuisine_type\"] = cuisine\n"
   ]
  },
  {
   "cell_type": "code",
   "execution_count": 11,
   "metadata": {},
   "outputs": [
    {
     "data": {
      "text/plain": [
       "cuisine_type\n",
       "NaN          171\n",
       "french        31\n",
       "american      26\n",
       "mexican       23\n",
       "italian       20\n",
       "chinese       13\n",
       "japanese      11\n",
       "indian         9\n",
       "asian          4\n",
       "caribbean      2\n",
       "Name: count, dtype: int64"
      ]
     },
     "execution_count": 11,
     "metadata": {},
     "output_type": "execute_result"
    }
   ],
   "source": [
    "# Inspect the final result\n",
    "df_restaurants.cuisine_type.value_counts(dropna=False)"
   ]
  },
  {
   "cell_type": "markdown",
   "metadata": {},
   "source": [
    "**`Note:`** This is just a demo of how comparing strings can be useful. There are a lot of NaN values in the final dataset since the \"type\" of restaurants were very wide and our \"cuisine_categories\" list doesn't nearly include all of them."
   ]
  },
  {
   "cell_type": "code",
   "execution_count": null,
   "metadata": {},
   "outputs": [],
   "source": []
  }
 ],
 "metadata": {
  "kernelspec": {
   "display_name": "ml_intro",
   "language": "python",
   "name": "python3"
  },
  "language_info": {
   "codemirror_mode": {
    "name": "ipython",
    "version": 3
   },
   "file_extension": ".py",
   "mimetype": "text/x-python",
   "name": "python",
   "nbconvert_exporter": "python",
   "pygments_lexer": "ipython3",
   "version": "3.11.6"
  },
  "orig_nbformat": 4
 },
 "nbformat": 4,
 "nbformat_minor": 2
}
