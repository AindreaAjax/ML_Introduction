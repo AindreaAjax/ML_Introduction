{
 "cells": [
  {
   "cell_type": "markdown",
   "metadata": {},
   "source": [
    "**Table of contents**<a id='toc0_'></a>    \n",
    "- [Import Statements](#toc1_1_)    \n",
    "- [Record linkage](#toc2_)    \n",
    "  - [Preprocessing](#toc2_1_)    \n",
    "  - [Indexing](#toc2_2_)    \n",
    "  - [Comparing](#toc2_3_)    \n",
    "  - [Classification](#toc2_4_)    \n",
    "- [Record linkage workflow summary](#toc3_)    \n",
    "\n",
    "<!-- vscode-jupyter-toc-config\n",
    "\tnumbering=false\n",
    "\tanchor=true\n",
    "\tflat=false\n",
    "\tminLevel=2\n",
    "\tmaxLevel=5\n",
    "\t/vscode-jupyter-toc-config -->\n",
    "<!-- THIS CELL WILL BE REPLACED ON TOC UPDATE. DO NOT WRITE YOUR TEXT IN THIS CELL -->"
   ]
  },
  {
   "cell_type": "markdown",
   "metadata": {},
   "source": [
    "### <a id='toc1_1_'></a>[Import Statements](#toc0_)"
   ]
  },
  {
   "cell_type": "code",
   "execution_count": 2,
   "metadata": {},
   "outputs": [],
   "source": [
    "import numpy as np\n",
    "import pandas as pd\n",
    "import matplotlib as mpl\n",
    "import matplotlib.pyplot as plt\n",
    "import seaborn as sns\n",
    "import pyreadr\n",
    "import datetime as pydt\n",
    "import missingno as msno\n",
    "from thefuzz import fuzz, process\n",
    "import recordlinkage"
   ]
  },
  {
   "cell_type": "markdown",
   "metadata": {},
   "source": [
    "## <a id='toc2_'></a>[Record linkage](#toc0_)"
   ]
  },
  {
   "cell_type": "markdown",
   "metadata": {},
   "source": [
    "The term record linkage is used to indicate the procedure of bringing together information from two or more records that are believed to belong to the same entity. Record linkage is used to link data from multiple data sources or to find duplicates in a single data source. In computer science, record linkage is also known as data matching, data linking, entity resolution, or field matching."
   ]
  },
  {
   "cell_type": "markdown",
   "metadata": {},
   "source": [
    "Dataset A\n",
    "\n",
    "Name     |   Age    |   Address\n",
    "---------|----------|---------------\n",
    "Alice    |   28     |   123 Main St\n",
    "Bob      |   32     |   456 Elm St\n",
    "Charlie  |   22     |   789 Oak St"
   ]
  },
  {
   "cell_type": "markdown",
   "metadata": {},
   "source": [
    "Dataset B\n",
    "\n",
    "\n",
    "person_name     |    age_years    |   street_address\n",
    "---------|----------|--------------------------------\n",
    "Allan    |   28     |   123 Main Street\n",
    "Brian    |   30     |   457 Elm Street\n",
    "Dave     |   22     |   789 Oak St\n"
   ]
  },
  {
   "cell_type": "markdown",
   "metadata": {},
   "source": [
    "If you pay close attention to the above two datasets, you will notice that the column names are slightly different. Also, although the \"Names\" are different for each entry in both datasets, the \"Age\" and \"Address\" entries for the first and third entries are practically the same (with slight difference in \"Address\" strings but we can clearly understand that they are the same). This can be termed as \"potential matches or duplicates based on certain similarity criteria\". \n",
    "\n",
    "If we wanted to merge these two datasets we wouldn't want to create duplicate entries in the new dataset. In such complicated merging scenarios, `pd.merge()` is not enough. We need to use record linkage techniques to identify the potential matches and then merge the datasets."
   ]
  },
  {
   "cell_type": "markdown",
   "metadata": {},
   "source": [
    "The record linkage procedure can be represented as a **workflow**. The steps are:\n",
    " \n",
    "0. cleaning \n",
    "1. indexing \n",
    "2. comparing \n",
    "3. classifying \n",
    "4. evaluation\n",
    "\n",
    "If needed, the classified record pairs flow back to improve the previous step."
   ]
  },
  {
   "cell_type": "markdown",
   "metadata": {},
   "source": [
    "The `recordlinkage` package in Python provides a simple interface to link records in or between data sources and follows the above workflow. "
   ]
  },
  {
   "cell_type": "markdown",
   "metadata": {},
   "source": [
    "### <a id='toc2_1_'></a>[Preprocessing](#toc0_)"
   ]
  },
  {
   "cell_type": "markdown",
   "metadata": {},
   "source": [
    "Preprocessing data, like cleaning and standardising, may increase record linkage accuracy. Pandas is a very good package for data cleaning and preprocessing. The `recordlinkage` package also provides some preprocessing functions. Such as: `recordlinkage.preprocessing.clean()`, `recordlinkage.preprocessing.phonenumbers()` etc. See the [documentation](https://recordlinkage.readthedocs.io/en/latest/ref-preprocessing.html) for more information."
   ]
  },
  {
   "cell_type": "markdown",
   "metadata": {},
   "source": [
    "### <a id='toc2_2_'></a>[Indexing](#toc0_)"
   ]
  },
  {
   "cell_type": "markdown",
   "metadata": {},
   "source": [
    "The indexing module is used to make pairs of records. These pairs are called candidate links or candidate matches. There are `several indexing algorithms available such as full, blocking and sorted neighborhood indexing`. See the [documentation](https://recordlinkage.readthedocs.io/en/latest/ref-index.html) for detailed information on implementation of each indexing algorithm."
   ]
  },
  {
   "cell_type": "markdown",
   "metadata": {},
   "source": [
    "Before jumping into coding let's first familiarize ourselves with some of the relevant terminologies."
   ]
  },
  {
   "cell_type": "markdown",
   "metadata": {},
   "source": [
    "*`Record pair:`* A record pair refers to a pair of records or data points from two different datasets that are considered potential matches or duplicates based on certain similarity criteria. \n",
    "\n",
    "Record linkage or entity resolution tasks often involve identifying record pairs that represent the same entity in different datasets, despite variations or discrepancies in the data."
   ]
  },
  {
   "cell_type": "markdown",
   "metadata": {},
   "source": [
    "*`Full record space:`* A full record space is the set of all possible record pairs between two datasets.\n",
    "\n",
    "**For example**, if we consider dataset A and dataset B, to find all possible record pairs we would match each record in dataset A with each record in dataset B in a combinatory fashion. This would result in 9 record pairs.\n",
    "\n",
    "The number of record pairs in a full record space is given by, $$No.\\ of\\ records\\ in\\ dataset\\ A\\ X\\ No.\\ of\\ records\\ in\\ dataset\\ B$$\n",
    "\n",
    "This doesn't depend on the number of columns rather it depends on the number of records in each dataset. This can be helpful to identify duplicates with more accuracy but for large datasets this is computationally expensive (two datasets of 1000 rows will generate a 1 million record pairs)."
   ]
  },
  {
   "cell_type": "markdown",
   "metadata": {},
   "source": [
    "*`Blocking:`* Blocking is a common technique used in record linkage to reduce the number of record pairs that need to be compared. It involves grouping records into blocks or buckets based on some common attribute(s) and certain criteria, to limit the number of potential comparisons. This is somewhat similar to groupby in pandas.\n",
    "\n",
    "**For example**, when blocking is applied to the \"Address\" column (with partial matching constraint), the process would look like this:\n",
    "\n",
    "Block 1\n",
    "\n",
    "Name     |   Age    |   Address\n",
    "---------|----------|----------------------\n",
    "Alice    |   28     |   123 Main St\n",
    "Allan    |   28     |   123 Main Street\n",
    "\n",
    "Block 2\n",
    "\n",
    "Name     |   Age    |   Address\n",
    "---------|----------|----------------------\n",
    "Bob      |   32     |   456 Elm St\n",
    "Brian    |   30     |   457 Elm Street\n",
    "\n",
    "Block 3\n",
    "\n",
    "Name     |   Age    |   Address\n",
    "---------|----------|----------------------\n",
    "Charlie  |   22     |   789 Oak St\n",
    "Dave     |   22     |   789 Oak St\n",
    "\n",
    "Now, instead of comparing every record in Dataset A with every record in Dataset B, you would only compare records within the same blocks. This reduces the number of potential record pairs to consider for comparison, making the record linkage process more efficient.\n",
    "\n",
    "**Note:** It's important to choose blocking criteria that are likely to group together records that are more likely to be matches, which can further improve the efficiency of the record linkage process."
   ]
  },
  {
   "cell_type": "code",
   "execution_count": 3,
   "metadata": {},
   "outputs": [],
   "source": [
    "from recordlinkage.datasets import load_febrl4"
   ]
  },
  {
   "cell_type": "code",
   "execution_count": 4,
   "metadata": {},
   "outputs": [],
   "source": [
    "df_A, df_B = load_febrl4()"
   ]
  },
  {
   "cell_type": "code",
   "execution_count": 7,
   "metadata": {},
   "outputs": [
    {
     "data": {
      "text/html": [
       "<div>\n",
       "<style scoped>\n",
       "    .dataframe tbody tr th:only-of-type {\n",
       "        vertical-align: middle;\n",
       "    }\n",
       "\n",
       "    .dataframe tbody tr th {\n",
       "        vertical-align: top;\n",
       "    }\n",
       "\n",
       "    .dataframe thead th {\n",
       "        text-align: right;\n",
       "    }\n",
       "</style>\n",
       "<table border=\"1\" class=\"dataframe\">\n",
       "  <thead>\n",
       "    <tr style=\"text-align: right;\">\n",
       "      <th></th>\n",
       "      <th>given_name</th>\n",
       "      <th>surname</th>\n",
       "      <th>street_number</th>\n",
       "      <th>address_1</th>\n",
       "      <th>address_2</th>\n",
       "      <th>suburb</th>\n",
       "      <th>postcode</th>\n",
       "      <th>state</th>\n",
       "      <th>date_of_birth</th>\n",
       "      <th>soc_sec_id</th>\n",
       "    </tr>\n",
       "    <tr>\n",
       "      <th>rec_id</th>\n",
       "      <th></th>\n",
       "      <th></th>\n",
       "      <th></th>\n",
       "      <th></th>\n",
       "      <th></th>\n",
       "      <th></th>\n",
       "      <th></th>\n",
       "      <th></th>\n",
       "      <th></th>\n",
       "      <th></th>\n",
       "    </tr>\n",
       "  </thead>\n",
       "  <tbody>\n",
       "    <tr>\n",
       "      <th>rec-1070-org</th>\n",
       "      <td>michaela</td>\n",
       "      <td>neumann</td>\n",
       "      <td>8</td>\n",
       "      <td>stanley street</td>\n",
       "      <td>miami</td>\n",
       "      <td>winston hills</td>\n",
       "      <td>4223</td>\n",
       "      <td>nsw</td>\n",
       "      <td>19151111</td>\n",
       "      <td>5304218</td>\n",
       "    </tr>\n",
       "    <tr>\n",
       "      <th>rec-1016-org</th>\n",
       "      <td>courtney</td>\n",
       "      <td>painter</td>\n",
       "      <td>12</td>\n",
       "      <td>pinkerton circuit</td>\n",
       "      <td>bega flats</td>\n",
       "      <td>richlands</td>\n",
       "      <td>4560</td>\n",
       "      <td>vic</td>\n",
       "      <td>19161214</td>\n",
       "      <td>4066625</td>\n",
       "    </tr>\n",
       "    <tr>\n",
       "      <th>rec-4405-org</th>\n",
       "      <td>charles</td>\n",
       "      <td>green</td>\n",
       "      <td>38</td>\n",
       "      <td>salkauskas crescent</td>\n",
       "      <td>kela</td>\n",
       "      <td>dapto</td>\n",
       "      <td>4566</td>\n",
       "      <td>nsw</td>\n",
       "      <td>19480930</td>\n",
       "      <td>4365168</td>\n",
       "    </tr>\n",
       "  </tbody>\n",
       "</table>\n",
       "</div>"
      ],
      "text/plain": [
       "             given_name  surname street_number            address_1  \\\n",
       "rec_id                                                                \n",
       "rec-1070-org   michaela  neumann             8       stanley street   \n",
       "rec-1016-org   courtney  painter            12    pinkerton circuit   \n",
       "rec-4405-org    charles    green            38  salkauskas crescent   \n",
       "\n",
       "               address_2         suburb postcode state date_of_birth  \\\n",
       "rec_id                                                                 \n",
       "rec-1070-org       miami  winston hills     4223   nsw      19151111   \n",
       "rec-1016-org  bega flats      richlands     4560   vic      19161214   \n",
       "rec-4405-org        kela          dapto     4566   nsw      19480930   \n",
       "\n",
       "             soc_sec_id  \n",
       "rec_id                   \n",
       "rec-1070-org    5304218  \n",
       "rec-1016-org    4066625  \n",
       "rec-4405-org    4365168  "
      ]
     },
     "execution_count": 7,
     "metadata": {},
     "output_type": "execute_result"
    }
   ],
   "source": [
    "df_A.head(3)"
   ]
  },
  {
   "cell_type": "code",
   "execution_count": 8,
   "metadata": {},
   "outputs": [
    {
     "name": "stdout",
     "output_type": "stream",
     "text": [
      "<class 'pandas.core.frame.DataFrame'>\n",
      "Index: 5000 entries, rec-1070-org to rec-66-org\n",
      "Data columns (total 10 columns):\n",
      " #   Column         Non-Null Count  Dtype \n",
      "---  ------         --------------  ----- \n",
      " 0   given_name     4888 non-null   object\n",
      " 1   surname        4952 non-null   object\n",
      " 2   street_number  4842 non-null   object\n",
      " 3   address_1      4902 non-null   object\n",
      " 4   address_2      4580 non-null   object\n",
      " 5   suburb         4945 non-null   object\n",
      " 6   postcode       5000 non-null   object\n",
      " 7   state          4950 non-null   object\n",
      " 8   date_of_birth  4906 non-null   object\n",
      " 9   soc_sec_id     5000 non-null   object\n",
      "dtypes: object(10)\n",
      "memory usage: 429.7+ KB\n"
     ]
    }
   ],
   "source": [
    "df_A.info()"
   ]
  },
  {
   "cell_type": "code",
   "execution_count": 6,
   "metadata": {},
   "outputs": [
    {
     "data": {
      "text/html": [
       "<div>\n",
       "<style scoped>\n",
       "    .dataframe tbody tr th:only-of-type {\n",
       "        vertical-align: middle;\n",
       "    }\n",
       "\n",
       "    .dataframe tbody tr th {\n",
       "        vertical-align: top;\n",
       "    }\n",
       "\n",
       "    .dataframe thead th {\n",
       "        text-align: right;\n",
       "    }\n",
       "</style>\n",
       "<table border=\"1\" class=\"dataframe\">\n",
       "  <thead>\n",
       "    <tr style=\"text-align: right;\">\n",
       "      <th></th>\n",
       "      <th>given_name</th>\n",
       "      <th>surname</th>\n",
       "      <th>street_number</th>\n",
       "      <th>address_1</th>\n",
       "      <th>address_2</th>\n",
       "      <th>suburb</th>\n",
       "      <th>postcode</th>\n",
       "      <th>state</th>\n",
       "      <th>date_of_birth</th>\n",
       "      <th>soc_sec_id</th>\n",
       "    </tr>\n",
       "    <tr>\n",
       "      <th>rec_id</th>\n",
       "      <th></th>\n",
       "      <th></th>\n",
       "      <th></th>\n",
       "      <th></th>\n",
       "      <th></th>\n",
       "      <th></th>\n",
       "      <th></th>\n",
       "      <th></th>\n",
       "      <th></th>\n",
       "      <th></th>\n",
       "    </tr>\n",
       "  </thead>\n",
       "  <tbody>\n",
       "    <tr>\n",
       "      <th>rec-561-dup-0</th>\n",
       "      <td>elton</td>\n",
       "      <td>NaN</td>\n",
       "      <td>3</td>\n",
       "      <td>light setreet</td>\n",
       "      <td>pinehill</td>\n",
       "      <td>windermere</td>\n",
       "      <td>3212</td>\n",
       "      <td>vic</td>\n",
       "      <td>19651013</td>\n",
       "      <td>1551941</td>\n",
       "    </tr>\n",
       "    <tr>\n",
       "      <th>rec-2642-dup-0</th>\n",
       "      <td>mitchell</td>\n",
       "      <td>maxon</td>\n",
       "      <td>47</td>\n",
       "      <td>edkins street</td>\n",
       "      <td>lochaoair</td>\n",
       "      <td>north ryde</td>\n",
       "      <td>3355</td>\n",
       "      <td>nsw</td>\n",
       "      <td>19390212</td>\n",
       "      <td>8859999</td>\n",
       "    </tr>\n",
       "    <tr>\n",
       "      <th>rec-608-dup-0</th>\n",
       "      <td>NaN</td>\n",
       "      <td>white</td>\n",
       "      <td>72</td>\n",
       "      <td>lambrigg street</td>\n",
       "      <td>kelgoola</td>\n",
       "      <td>broadbeach waters</td>\n",
       "      <td>3159</td>\n",
       "      <td>vic</td>\n",
       "      <td>19620216</td>\n",
       "      <td>9731855</td>\n",
       "    </tr>\n",
       "  </tbody>\n",
       "</table>\n",
       "</div>"
      ],
      "text/plain": [
       "               given_name surname street_number        address_1  address_2  \\\n",
       "rec_id                                                                        \n",
       "rec-561-dup-0       elton     NaN             3    light setreet   pinehill   \n",
       "rec-2642-dup-0   mitchell   maxon            47    edkins street  lochaoair   \n",
       "rec-608-dup-0         NaN   white            72  lambrigg street   kelgoola   \n",
       "\n",
       "                           suburb postcode state date_of_birth soc_sec_id  \n",
       "rec_id                                                                     \n",
       "rec-561-dup-0          windermere     3212   vic      19651013    1551941  \n",
       "rec-2642-dup-0         north ryde     3355   nsw      19390212    8859999  \n",
       "rec-608-dup-0   broadbeach waters     3159   vic      19620216    9731855  "
      ]
     },
     "execution_count": 6,
     "metadata": {},
     "output_type": "execute_result"
    }
   ],
   "source": [
    "df_B.head(3)"
   ]
  },
  {
   "cell_type": "code",
   "execution_count": 9,
   "metadata": {},
   "outputs": [
    {
     "name": "stdout",
     "output_type": "stream",
     "text": [
      "<class 'pandas.core.frame.DataFrame'>\n",
      "Index: 5000 entries, rec-561-dup-0 to rec-493-dup-0\n",
      "Data columns (total 10 columns):\n",
      " #   Column         Non-Null Count  Dtype \n",
      "---  ------         --------------  ----- \n",
      " 0   given_name     4766 non-null   object\n",
      " 1   surname        4898 non-null   object\n",
      " 2   street_number  4713 non-null   object\n",
      " 3   address_1      4780 non-null   object\n",
      " 4   address_2      4149 non-null   object\n",
      " 5   suburb         4894 non-null   object\n",
      " 6   postcode       5000 non-null   object\n",
      " 7   state          4893 non-null   object\n",
      " 8   date_of_birth  4801 non-null   object\n",
      " 9   soc_sec_id     5000 non-null   object\n",
      "dtypes: object(10)\n",
      "memory usage: 429.7+ KB\n"
     ]
    }
   ],
   "source": [
    "df_B.info()"
   ]
  },
  {
   "cell_type": "markdown",
   "metadata": {},
   "source": [
    "> The Python Record Linkage Toolkit contains basic and advanced indexing (or blocking) algorithms to make record pairs. The algorithms are Python classes. Popular algorithms in the toolkit are: `recordlinkage.index.Full`, `recordlinkage.index.Block`, `recordlinkage.index.SortedNeighbourhood`."
   ]
  },
  {
   "cell_type": "code",
   "execution_count": 11,
   "metadata": {},
   "outputs": [],
   "source": [
    "# first we create an indexer object\n",
    "indexer = recordlinkage.Index()\n",
    "\n",
    "# now we will set the indexing technique as blocking for creating record pairs\n",
    "indexer.block(left_on=\"given_name\", right_on=\"given_name\")\n",
    "\n",
    "# generating the record pairs for df_A and df_B\n",
    "possible_pairs = indexer.index(df_A, df_B)"
   ]
  },
  {
   "cell_type": "code",
   "execution_count": 14,
   "metadata": {},
   "outputs": [
    {
     "data": {
      "text/plain": [
       "(5000, 5000, 77249)"
      ]
     },
     "execution_count": 14,
     "metadata": {},
     "output_type": "execute_result"
    }
   ],
   "source": [
    "len(df_A), len(df_B), len(possible_pairs)"
   ]
  },
  {
   "cell_type": "markdown",
   "metadata": {},
   "source": [
    "It is possible to parse a list of columns names to block on multiple variables. Blocking on multiple variables will reduce the number of record pairs even further. The resulting object, is a pandas multi-index object containing pairs of row indices from both DataFrames, which is a fancy way to say it is an array containing possible pairs of indices that makes it much easier to subset DataFrames on. "
   ]
  },
  {
   "cell_type": "code",
   "execution_count": 15,
   "metadata": {},
   "outputs": [
    {
     "data": {
      "text/plain": [
       "MultiIndex([('rec-1070-org', 'rec-3024-dup-0'),\n",
       "            ('rec-1070-org', 'rec-2371-dup-0'),\n",
       "            ('rec-1070-org', 'rec-4652-dup-0'),\n",
       "            ('rec-1070-org', 'rec-4795-dup-0'),\n",
       "            ('rec-1070-org', 'rec-1314-dup-0'),\n",
       "            ('rec-2371-org', 'rec-3024-dup-0'),\n",
       "            ('rec-2371-org', 'rec-2371-dup-0'),\n",
       "            ('rec-2371-org', 'rec-4652-dup-0'),\n",
       "            ('rec-2371-org', 'rec-4795-dup-0'),\n",
       "            ('rec-2371-org', 'rec-1314-dup-0'),\n",
       "            ...\n",
       "            ('rec-1413-org', 'rec-1413-dup-0'),\n",
       "            ( 'rec-735-org',  'rec-735-dup-0'),\n",
       "            ('rec-1361-org', 'rec-1361-dup-0'),\n",
       "            ('rec-3090-org', 'rec-3090-dup-0'),\n",
       "            ('rec-2571-org', 'rec-2571-dup-0'),\n",
       "            ('rec-4528-org', 'rec-4528-dup-0'),\n",
       "            ('rec-4887-org', 'rec-4887-dup-0'),\n",
       "            ('rec-4350-org', 'rec-4350-dup-0'),\n",
       "            ('rec-4569-org', 'rec-4569-dup-0'),\n",
       "            ('rec-3125-org', 'rec-3125-dup-0')],\n",
       "           names=['rec_id_1', 'rec_id_2'], length=77249)"
      ]
     },
     "execution_count": 15,
     "metadata": {},
     "output_type": "execute_result"
    }
   ],
   "source": [
    "possible_pairs"
   ]
  },
  {
   "cell_type": "markdown",
   "metadata": {},
   "source": [
    "### <a id='toc2_3_'></a>[Comparing](#toc0_)"
   ]
  },
  {
   "cell_type": "markdown",
   "metadata": {},
   "source": [
    "Each record pair is a candidate match. A set of informative, discriminating and independent features is important for a good classification of record pairs into matching and distinct pairs. To classify the candidate record pairs into matches and non-matches, compare the record pairs on all attributes both datasets have in common. \n",
    "\n",
    "The `recordlinkage.Compare` class and its methods can be used to compare records pairs. The `Compare` class has methods like `string, exact, geo, date` and `numeric` and are used for defining the algorithm to use along with the attribute(s) to which the algorithm is applied. The `compute` method is used to start the actual comparing. See the [documentation](https://recordlinkage.readthedocs.io/en/latest/ref-compare.html) for details."
   ]
  },
  {
   "cell_type": "markdown",
   "metadata": {},
   "source": [
    "<u>Comparison Algorithms</u>\n",
    "- *recordlinkage.compare.Exact(left_on, right_on, agree_value=1, disagree_value=0, missing_value=0, label=None):* Compare the record pairs on exact equality of the attributes.\n",
    "\n",
    "- *recordlinkage.compare.String(left_on, right_on, method='levenshtein', threshold=None, missing_value=0.0, label=None):* Compute the (partial) similarity between string values.\n",
    "\n",
    "- *recordlinkage.compare.Numeric(left_on, right_on, method='linear', offset=0.0, scale=1.0, origin=0.0, missing_value=0.0, label=None):* Compute the (partial) similarity between numeric values.\n",
    "\n",
    "- *recordlinkage.compare.Geographic(left_on_lat, left_on_lng, right_on_lat, right_on_lng, method=None, offset=0.0, scale=1.0, origin=0.0, missing_value=0.0, label=None):* Compute the (partial) similarity between WGS84 coordinates.\n",
    "\n",
    "- *recordlinkage.compare.Date(left_on, right_on, swap_month_day=0.5, swap_months='default', errors='coerce', missing_value=0.0, label=None):* Compute the (partial) similarity between dates.\n",
    "\n",
    "The `label` argument in each of these class objects lets us set the name of the column in the resulting DataFrame."
   ]
  },
  {
   "cell_type": "code",
   "execution_count": null,
   "metadata": {},
   "outputs": [],
   "source": [
    "\"date_of_birth\", \"suburb\", \"state\""
   ]
  },
  {
   "cell_type": "code",
   "execution_count": 27,
   "metadata": {},
   "outputs": [
    {
     "data": {
      "text/plain": [
       "<Compare>"
      ]
     },
     "execution_count": 27,
     "metadata": {},
     "output_type": "execute_result"
    }
   ],
   "source": [
    "# first we create a comparator object\n",
    "comparator = recordlinkage.Compare()\n",
    "\n",
    "# then we define the comparison algorithm for each of the attributes we want to compare the record pairs on\n",
    "comparator.exact(left_on=\"given_name\", right_on=\"given_name\", label=\"given_name\")\n",
    "comparator.exact(left_on=\"date_of_birth\", right_on=\"date_of_birth\", label=\"date_of_birth\")\n",
    "comparator.exact(left_on=\"suburb\", right_on=\"suburb\", label=\"suburb\")\n",
    "comparator.exact(left_on=\"state\", right_on=\"suburb\", label=\"suburb\")\n",
    "\n",
    "comparator.string(left_on=\"surname\", right_on=\"surname\", threshold=0.85, label=\"surname\")\n",
    "comparator.string(left_on=\"address_1\", right_on=\"address_1\", threshold=0.85, label=\"address_1\")"
   ]
  },
  {
   "cell_type": "code",
   "execution_count": 28,
   "metadata": {},
   "outputs": [],
   "source": [
    "# the actual scoring is initiated by calling the compute method\n",
    "# the compute method is called with (record_pairs, left_dataset, right_dataset)\n",
    "features = comparator.compute(possible_pairs, df_A, df_B)"
   ]
  },
  {
   "cell_type": "markdown",
   "metadata": {},
   "source": [
    "A DataFrame is returned in which the record pairs are stored vertically while all features (comparison scores of the attributes) for each record pair are stored horizontally."
   ]
  },
  {
   "cell_type": "code",
   "execution_count": 29,
   "metadata": {},
   "outputs": [
    {
     "data": {
      "text/html": [
       "<div>\n",
       "<style scoped>\n",
       "    .dataframe tbody tr th:only-of-type {\n",
       "        vertical-align: middle;\n",
       "    }\n",
       "\n",
       "    .dataframe tbody tr th {\n",
       "        vertical-align: top;\n",
       "    }\n",
       "\n",
       "    .dataframe thead th {\n",
       "        text-align: right;\n",
       "    }\n",
       "</style>\n",
       "<table border=\"1\" class=\"dataframe\">\n",
       "  <thead>\n",
       "    <tr style=\"text-align: right;\">\n",
       "      <th></th>\n",
       "      <th></th>\n",
       "      <th>given_name</th>\n",
       "      <th>date_of_birth</th>\n",
       "      <th>suburb</th>\n",
       "      <th>suburb</th>\n",
       "      <th>surname</th>\n",
       "      <th>address_1</th>\n",
       "    </tr>\n",
       "    <tr>\n",
       "      <th>rec_id_1</th>\n",
       "      <th>rec_id_2</th>\n",
       "      <th></th>\n",
       "      <th></th>\n",
       "      <th></th>\n",
       "      <th></th>\n",
       "      <th></th>\n",
       "      <th></th>\n",
       "    </tr>\n",
       "  </thead>\n",
       "  <tbody>\n",
       "    <tr>\n",
       "      <th rowspan=\"5\" valign=\"top\">rec-1070-org</th>\n",
       "      <th>rec-3024-dup-0</th>\n",
       "      <td>1</td>\n",
       "      <td>0</td>\n",
       "      <td>0</td>\n",
       "      <td>0</td>\n",
       "      <td>0.0</td>\n",
       "      <td>0.0</td>\n",
       "    </tr>\n",
       "    <tr>\n",
       "      <th>rec-2371-dup-0</th>\n",
       "      <td>1</td>\n",
       "      <td>0</td>\n",
       "      <td>0</td>\n",
       "      <td>0</td>\n",
       "      <td>0.0</td>\n",
       "      <td>0.0</td>\n",
       "    </tr>\n",
       "    <tr>\n",
       "      <th>rec-4652-dup-0</th>\n",
       "      <td>1</td>\n",
       "      <td>0</td>\n",
       "      <td>0</td>\n",
       "      <td>0</td>\n",
       "      <td>0.0</td>\n",
       "      <td>0.0</td>\n",
       "    </tr>\n",
       "    <tr>\n",
       "      <th>rec-4795-dup-0</th>\n",
       "      <td>1</td>\n",
       "      <td>0</td>\n",
       "      <td>0</td>\n",
       "      <td>0</td>\n",
       "      <td>0.0</td>\n",
       "      <td>0.0</td>\n",
       "    </tr>\n",
       "    <tr>\n",
       "      <th>rec-1314-dup-0</th>\n",
       "      <td>1</td>\n",
       "      <td>0</td>\n",
       "      <td>0</td>\n",
       "      <td>0</td>\n",
       "      <td>0.0</td>\n",
       "      <td>0.0</td>\n",
       "    </tr>\n",
       "    <tr>\n",
       "      <th>...</th>\n",
       "      <th>...</th>\n",
       "      <td>...</td>\n",
       "      <td>...</td>\n",
       "      <td>...</td>\n",
       "      <td>...</td>\n",
       "      <td>...</td>\n",
       "      <td>...</td>\n",
       "    </tr>\n",
       "    <tr>\n",
       "      <th>rec-4528-org</th>\n",
       "      <th>rec-4528-dup-0</th>\n",
       "      <td>1</td>\n",
       "      <td>1</td>\n",
       "      <td>1</td>\n",
       "      <td>0</td>\n",
       "      <td>1.0</td>\n",
       "      <td>1.0</td>\n",
       "    </tr>\n",
       "    <tr>\n",
       "      <th>rec-4887-org</th>\n",
       "      <th>rec-4887-dup-0</th>\n",
       "      <td>1</td>\n",
       "      <td>1</td>\n",
       "      <td>0</td>\n",
       "      <td>0</td>\n",
       "      <td>1.0</td>\n",
       "      <td>1.0</td>\n",
       "    </tr>\n",
       "    <tr>\n",
       "      <th>rec-4350-org</th>\n",
       "      <th>rec-4350-dup-0</th>\n",
       "      <td>1</td>\n",
       "      <td>1</td>\n",
       "      <td>1</td>\n",
       "      <td>0</td>\n",
       "      <td>1.0</td>\n",
       "      <td>1.0</td>\n",
       "    </tr>\n",
       "    <tr>\n",
       "      <th>rec-4569-org</th>\n",
       "      <th>rec-4569-dup-0</th>\n",
       "      <td>1</td>\n",
       "      <td>1</td>\n",
       "      <td>1</td>\n",
       "      <td>0</td>\n",
       "      <td>1.0</td>\n",
       "      <td>0.0</td>\n",
       "    </tr>\n",
       "    <tr>\n",
       "      <th>rec-3125-org</th>\n",
       "      <th>rec-3125-dup-0</th>\n",
       "      <td>1</td>\n",
       "      <td>1</td>\n",
       "      <td>0</td>\n",
       "      <td>0</td>\n",
       "      <td>1.0</td>\n",
       "      <td>1.0</td>\n",
       "    </tr>\n",
       "  </tbody>\n",
       "</table>\n",
       "<p>77249 rows × 6 columns</p>\n",
       "</div>"
      ],
      "text/plain": [
       "                             given_name  date_of_birth  suburb  suburb  \\\n",
       "rec_id_1     rec_id_2                                                    \n",
       "rec-1070-org rec-3024-dup-0           1              0       0       0   \n",
       "             rec-2371-dup-0           1              0       0       0   \n",
       "             rec-4652-dup-0           1              0       0       0   \n",
       "             rec-4795-dup-0           1              0       0       0   \n",
       "             rec-1314-dup-0           1              0       0       0   \n",
       "...                                 ...            ...     ...     ...   \n",
       "rec-4528-org rec-4528-dup-0           1              1       1       0   \n",
       "rec-4887-org rec-4887-dup-0           1              1       0       0   \n",
       "rec-4350-org rec-4350-dup-0           1              1       1       0   \n",
       "rec-4569-org rec-4569-dup-0           1              1       1       0   \n",
       "rec-3125-org rec-3125-dup-0           1              1       0       0   \n",
       "\n",
       "                             surname  address_1  \n",
       "rec_id_1     rec_id_2                            \n",
       "rec-1070-org rec-3024-dup-0      0.0        0.0  \n",
       "             rec-2371-dup-0      0.0        0.0  \n",
       "             rec-4652-dup-0      0.0        0.0  \n",
       "             rec-4795-dup-0      0.0        0.0  \n",
       "             rec-1314-dup-0      0.0        0.0  \n",
       "...                              ...        ...  \n",
       "rec-4528-org rec-4528-dup-0      1.0        1.0  \n",
       "rec-4887-org rec-4887-dup-0      1.0        1.0  \n",
       "rec-4350-org rec-4350-dup-0      1.0        1.0  \n",
       "rec-4569-org rec-4569-dup-0      1.0        0.0  \n",
       "rec-3125-org rec-3125-dup-0      1.0        1.0  \n",
       "\n",
       "[77249 rows x 6 columns]"
      ]
     },
     "execution_count": 29,
     "metadata": {},
     "output_type": "execute_result"
    }
   ],
   "source": [
    "features"
   ]
  },
  {
   "cell_type": "markdown",
   "metadata": {},
   "source": [
    "### <a id='toc2_4_'></a>[Classification](#toc0_)"
   ]
  },
  {
   "cell_type": "code",
   "execution_count": null,
   "metadata": {},
   "outputs": [],
   "source": []
  },
  {
   "cell_type": "code",
   "execution_count": null,
   "metadata": {},
   "outputs": [],
   "source": []
  },
  {
   "cell_type": "code",
   "execution_count": null,
   "metadata": {},
   "outputs": [],
   "source": []
  },
  {
   "cell_type": "markdown",
   "metadata": {},
   "source": [
    "## <a id='toc3_'></a>[Record linkage workflow summary](#toc0_)"
   ]
  },
  {
   "cell_type": "markdown",
   "metadata": {},
   "source": [
    "The record linkage workflow involves a series of well-defined steps, from data preparation and blocking to comparison, classification, evaluation, and potential postprocessing. The aim is to identify record pairs that likely represent the same entities across two datasets while minimizing false positives and false negatives. The choice of methods and thresholds may vary depending on the specific requirements of the record linkage task.\n",
    "\n",
    "1. **Preprocessing:**\n",
    "   - Data Preparation: Clean and preprocess the datasets to ensure consistency and uniformity. This may involve standardizing formats, handling missing values, and removing duplicates within each dataset.\n",
    "   - Data Transformation: Convert and format the data, if necessary, to ensure compatibility between the two datasets. Ensure that the data types and structures align.\n",
    "\n",
    "2. **Indexing (Blocking):**\n",
    "   - Blocking: Create blocks or groups of records within each dataset based on specific attributes or criteria. The goal is to reduce the number of record pairs that need to be compared. Common blocking methods include sorting, hashing, or using range-based criteria, such as the first few characters of an attribute like \"Address.\"\n",
    "\n",
    "3. **Comparing:**\n",
    "   - Comparison: Within each block, compare the records based on selected similarity criteria. This involves comparing attribute values (e.g., \"Name,\" \"Age\") and applying similarity metrics such as string distance measures (e.g., Levenshtein distance) for text fields.\n",
    "   - Scoring: Assign a similarity score to each pair of records within the block to quantify how similar they are based on the chosen criteria.\n",
    "\n",
    "4. **Classifying (Thresholding):**\n",
    "   - Thresholding: Define a threshold for the similarity score above which record pairs are considered potential matches. Record pairs with similarity scores below this threshold are classified as non-matches.\n",
    "   - Classification: Based on the threshold, classify the record pairs within each block into two categories: matches and non-matches.\n",
    "\n",
    "5. **Evaluation:**\n",
    "   - Ground Truth: If available, use a ground truth or labeled dataset that indicates which record pairs are true matches and non-matches. This is used for evaluating the accuracy of your record linkage process.\n",
    "   - Performance Metrics: Calculate performance metrics such as precision, recall, F1-score, and accuracy to assess the quality of the record linkage results.\n",
    "   - Iteration: Depending on the evaluation results, you may iterate on the threshold or the choice of similarity criteria to optimize the linkage process for your specific use case.\n",
    "\n",
    "6. **Postprocessing (Optional):**\n",
    "   - If needed, perform postprocessing steps to further refine the matched results. This might involve handling cases of potential duplicates within the matched pairs or dealing with data integration challenges.\n"
   ]
  },
  {
   "cell_type": "code",
   "execution_count": null,
   "metadata": {},
   "outputs": [],
   "source": []
  }
 ],
 "metadata": {
  "kernelspec": {
   "display_name": "ml_intro",
   "language": "python",
   "name": "python3"
  },
  "language_info": {
   "codemirror_mode": {
    "name": "ipython",
    "version": 3
   },
   "file_extension": ".py",
   "mimetype": "text/x-python",
   "name": "python",
   "nbconvert_exporter": "python",
   "pygments_lexer": "ipython3",
   "version": "3.11.6"
  },
  "orig_nbformat": 4
 },
 "nbformat": 4,
 "nbformat_minor": 2
}
