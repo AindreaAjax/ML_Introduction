{
 "cells": [
  {
   "cell_type": "markdown",
   "metadata": {},
   "source": [
    "**Table of contents**<a id='toc0_'></a>    \n",
    "- [Import Statements](#toc1_1_)    \n",
    "- [Record Linkage](#toc2_)    \n",
    "  - [Preprocessing](#toc2_1_)    \n",
    "  - [Indexing](#toc2_2_)    \n",
    "\n",
    "<!-- vscode-jupyter-toc-config\n",
    "\tnumbering=false\n",
    "\tanchor=true\n",
    "\tflat=false\n",
    "\tminLevel=2\n",
    "\tmaxLevel=5\n",
    "\t/vscode-jupyter-toc-config -->\n",
    "<!-- THIS CELL WILL BE REPLACED ON TOC UPDATE. DO NOT WRITE YOUR TEXT IN THIS CELL -->"
   ]
  },
  {
   "cell_type": "markdown",
   "metadata": {},
   "source": [
    "### <a id='toc1_1_'></a>[Import Statements](#toc0_)"
   ]
  },
  {
   "cell_type": "code",
   "execution_count": null,
   "metadata": {},
   "outputs": [],
   "source": [
    "import numpy as np\n",
    "import pandas as pd\n",
    "import matplotlib as mpl\n",
    "import matplotlib.pyplot as plt\n",
    "import seaborn as sns\n",
    "import pyreadr\n",
    "import datetime as pydt\n",
    "import missingno as msno\n",
    "from thefuzz import fuzz, process"
   ]
  },
  {
   "cell_type": "markdown",
   "metadata": {},
   "source": [
    "## <a id='toc2_'></a>[Record Linkage](#toc0_)"
   ]
  },
  {
   "cell_type": "markdown",
   "metadata": {},
   "source": [
    "The term record linkage is used to indicate the procedure of bringing together information from two or more records that are believed to belong to the same entity. Record linkage is used to link data from multiple data sources or to find duplicates in a single data source. In computer science, record linkage is also known as data matching, data linking, entity resolution, or field matching."
   ]
  },
  {
   "cell_type": "markdown",
   "metadata": {},
   "source": [
    "Dataset A\n",
    "\n",
    "Name     |   Age    |   Address\n",
    "---------|----------|---------------\n",
    "Alice    |   28     |   123 Main St\n",
    "Bob      |   32     |   456 Elm St\n",
    "Charlie  |   22     |   789 Oak St"
   ]
  },
  {
   "cell_type": "markdown",
   "metadata": {},
   "source": [
    "Dataset B\n",
    "\n",
    "\n",
    "person_name     |    age_years    |   street_address\n",
    "---------|----------|--------------------------------\n",
    "Allan    |   28     |   123 Main Street\n",
    "Brian    |   30     |   457 Elm Street\n",
    "Dave     |   22     |   789 Oak St\n"
   ]
  },
  {
   "cell_type": "markdown",
   "metadata": {},
   "source": [
    "If you pay close attention to the above two datasets, you will notice that the column names are slightly different. Also, although the \"Names\" are different for each entry in both datasets, the \"Age\" and \"Address\" entries for the first and third entries are practically the same (with slight difference in \"Address\" strings but we can clearly understand that they are the same). This can be termed as \"potential matches or duplicates based on certain similarity criteria\". \n",
    "\n",
    "If we wanted to merge these two datasets we wouldn't want to create duplicate entries in the new dataset. In such complicated merging scenarios, `pd.merge()` is not enough. We need to use record linkage techniques to identify the potential matches and then merge the datasets."
   ]
  },
  {
   "cell_type": "markdown",
   "metadata": {},
   "source": [
    "The record linkage procedure can be represented as a workflow. The steps are:\n",
    " \n",
    "0. cleaning \n",
    "1. indexing \n",
    "2. comparing \n",
    "3. classifying \n",
    "4. evaluation\n",
    "\n",
    "If needed, the classified record pairs flow back to improve the previous step."
   ]
  },
  {
   "cell_type": "markdown",
   "metadata": {},
   "source": [
    "The `recordlinkage` package in Python provides a simple interface to link records in or between data sources and follows the above workflow. "
   ]
  },
  {
   "cell_type": "markdown",
   "metadata": {},
   "source": [
    "### <a id='toc2_1_'></a>[Preprocessing](#toc0_)"
   ]
  },
  {
   "cell_type": "markdown",
   "metadata": {},
   "source": [
    "Preprocessing data, like cleaning and standardising, may increase record linkage accuracy. Pandas is a very good package for data cleaning and preprocessing. The `recordlinkage` package also provides some preprocessing functions. Such as: `recordlinkage.preprocessing.clean()`, `recordlinkage.preprocessing.phonenumbers()` etc. See the [documentation](https://recordlinkage.readthedocs.io/en/latest/ref-preprocessing.html) for more information."
   ]
  },
  {
   "cell_type": "markdown",
   "metadata": {},
   "source": [
    "### <a id='toc2_2_'></a>[Indexing](#toc0_)"
   ]
  },
  {
   "cell_type": "markdown",
   "metadata": {},
   "source": [
    "The indexing module is used to make pairs of records. These pairs are called candidate links or candidate matches. There are `several indexing algorithms available such as full, blocking and sorted neighborhood indexing`. See the [documentation](https://recordlinkage.readthedocs.io/en/latest/ref-index.html) for detailed information on implementation of each indexing algorithm."
   ]
  },
  {
   "cell_type": "markdown",
   "metadata": {},
   "source": [
    "Before jumping into coding let's first familiarize ourselves with some of the relevant terminologies."
   ]
  },
  {
   "cell_type": "markdown",
   "metadata": {},
   "source": [
    "*`Record pair:`* A record pair refers to a pair of records or data points from two different datasets that are considered potential matches or duplicates based on certain similarity criteria. \n",
    "\n",
    "Record linkage or entity resolution tasks often involve identifying record pairs that represent the same entity in different datasets, despite variations or discrepancies in the data."
   ]
  },
  {
   "cell_type": "markdown",
   "metadata": {},
   "source": [
    "*`Full record space:`* A full record space is the set of all possible record pairs between two datasets.\n",
    "\n",
    "**For example**, if we consider dataset A and dataset B, to find all possible record pairs we would match each record in dataset A with each record in dataset B in a one-to-many i.e, a combinatory fashion. This would result in 9 record pairs.\n",
    "\n",
    "The number of record pairs in a full record space is given by, $$No.\\ of\\ records\\ in\\ dataset\\ A\\ X\\ No.\\ of\\ records\\ in\\ dataset\\ B$$\n",
    "\n",
    "This doesn't depend on the number of columns rather it depends on the number of records in each dataset. This can be helpful to identify duplicates with more accuracy but for large datasets this is computationally expensive (two datasets of 1000 rows will generate a 1 million record pairs)."
   ]
  },
  {
   "cell_type": "markdown",
   "metadata": {},
   "source": [
    "*`Blocking:`* Blocking is a common technique used in record linkage to reduce the number of record pairs that need to be compared. It involves grouping records into blocks or buckets based on some common attribute(s) and certain criteria, to limit the number of potential comparisons. This is somewhat similar to groupby in pandas.\n",
    "\n",
    "**For example**, when blocking is applied to the \"Address\" column (with partial matching constraint), the process would look like this:\n",
    "\n",
    "Block 1\n",
    "\n",
    "Name     |   Age    |   Address\n",
    "---------|----------|----------------------\n",
    "Alice    |   28     |   123 Main St\n",
    "Allan    |   28     |   123 Main Street\n",
    "\n",
    "Block 2\n",
    "\n",
    "Name     |   Age    |   Address\n",
    "---------|----------|----------------------\n",
    "Bob      |   32     |   456 Elm St\n",
    "Brian    |   30     |   457 Elm Street\n",
    "\n",
    "Block 3\n",
    "\n",
    "Name     |   Age    |   Address\n",
    "---------|----------|----------------------\n",
    "Charlie  |   22     |   789 Oak St\n",
    "Dave     |   22     |   789 Oak St\n",
    "\n",
    "Now, instead of comparing every record in Dataset A with every record in Dataset B, you would only compare records within the same blocks. This reduces the number of potential record pairs to consider for comparison, making the record linkage process more efficient.\n",
    "\n",
    "**Note:** It's important to choose blocking criteria that are likely to group together records that are more likely to be matches, which can further improve the efficiency of the record linkage process."
   ]
  },
  {
   "cell_type": "code",
   "execution_count": null,
   "metadata": {},
   "outputs": [],
   "source": []
  },
  {
   "cell_type": "code",
   "execution_count": null,
   "metadata": {},
   "outputs": [],
   "source": []
  },
  {
   "cell_type": "code",
   "execution_count": null,
   "metadata": {},
   "outputs": [],
   "source": []
  }
 ],
 "metadata": {
  "language_info": {
   "name": "python"
  },
  "orig_nbformat": 4
 },
 "nbformat": 4,
 "nbformat_minor": 2
}
