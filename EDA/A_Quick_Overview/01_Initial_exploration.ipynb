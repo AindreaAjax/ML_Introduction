{
 "cells": [
  {
   "cell_type": "markdown",
   "metadata": {},
   "source": [
    "**Table of contents**<a id='toc0_'></a>    \n",
    "- [Import Statements](#toc1_1_)    \n",
    "- [Getting started](#toc2_)    \n",
    "  - [*Initial exploration*](#toc2_1_)    \n",
    "- [Data cleaning and Imputation](#toc3_)    \n",
    "  - [*Handling missing values*](#toc3_1_)    \n",
    "- [Data validation](#toc4_)    \n",
    "\n",
    "<!-- vscode-jupyter-toc-config\n",
    "\tnumbering=false\n",
    "\tanchor=true\n",
    "\tflat=false\n",
    "\tminLevel=2\n",
    "\tmaxLevel=5\n",
    "\t/vscode-jupyter-toc-config -->\n",
    "<!-- THIS CELL WILL BE REPLACED ON TOC UPDATE. DO NOT WRITE YOUR TEXT IN THIS CELL -->"
   ]
  },
  {
   "cell_type": "markdown",
   "metadata": {},
   "source": [
    "### <a id='toc1_1_'></a>[Import Statements](#toc0_)"
   ]
  },
  {
   "cell_type": "code",
   "execution_count": 14,
   "metadata": {},
   "outputs": [],
   "source": [
    "import numpy as np\n",
    "import pandas as pd\n",
    "import matplotlib as mpl\n",
    "import matplotlib.pyplot as plt\n",
    "import seaborn as sns"
   ]
  },
  {
   "cell_type": "markdown",
   "metadata": {},
   "source": [
    "## <a id='toc2_'></a>[Getting started](#toc0_)"
   ]
  },
  {
   "cell_type": "markdown",
   "metadata": {},
   "source": [
    "### <a id='toc2_1_'></a>[*Initial exploration*](#toc0_)"
   ]
  },
  {
   "cell_type": "markdown",
   "metadata": {},
   "source": [
    "- Take a quick look at the data with `.head()`"
   ]
  },
  {
   "cell_type": "markdown",
   "metadata": {},
   "source": [
    "- Take a look at some other informations about the dataframe with `.info()`, `.shape`, `.dtypes()`, `.columns` etc."
   ]
  },
  {
   "cell_type": "markdown",
   "metadata": {},
   "source": [
    "- For categorical variables, a common question we might ask ourselves is how many data points do we have for each of the category? This can be done with `.value_counts()`."
   ]
  },
  {
   "cell_type": "markdown",
   "metadata": {},
   "source": [
    "- Get a quick overview of the numerical variables with `.describe()`."
   ]
  },
  {
   "cell_type": "markdown",
   "metadata": {},
   "source": [
    "- To see how the numerical variables are distributed use a `histogram/kdeplot/boxplot/violinplot/boxenplot`. After you've got a good grip about what the data is about, you can use `jointplot/pairplot` to further understand the relationship between the variables."
   ]
  },
  {
   "cell_type": "code",
   "execution_count": 15,
   "metadata": {},
   "outputs": [],
   "source": [
    "unemployment = pd.read_csv(\"../datasets/clean_unemployment.csv\")"
   ]
  },
  {
   "cell_type": "code",
   "execution_count": 16,
   "metadata": {},
   "outputs": [
    {
     "data": {
      "text/html": [
       "<div>\n",
       "<style scoped>\n",
       "    .dataframe tbody tr th:only-of-type {\n",
       "        vertical-align: middle;\n",
       "    }\n",
       "\n",
       "    .dataframe tbody tr th {\n",
       "        vertical-align: top;\n",
       "    }\n",
       "\n",
       "    .dataframe thead th {\n",
       "        text-align: right;\n",
       "    }\n",
       "</style>\n",
       "<table border=\"1\" class=\"dataframe\">\n",
       "  <thead>\n",
       "    <tr style=\"text-align: right;\">\n",
       "      <th></th>\n",
       "      <th>country_code</th>\n",
       "      <th>country_name</th>\n",
       "      <th>continent</th>\n",
       "      <th>2010</th>\n",
       "      <th>2011</th>\n",
       "      <th>2012</th>\n",
       "      <th>2013</th>\n",
       "      <th>2014</th>\n",
       "      <th>2015</th>\n",
       "      <th>2016</th>\n",
       "      <th>2017</th>\n",
       "      <th>2018</th>\n",
       "      <th>2019</th>\n",
       "      <th>2020</th>\n",
       "      <th>2021</th>\n",
       "    </tr>\n",
       "  </thead>\n",
       "  <tbody>\n",
       "    <tr>\n",
       "      <th>0</th>\n",
       "      <td>AFG</td>\n",
       "      <td>Afghanistan</td>\n",
       "      <td>Asia</td>\n",
       "      <td>11.35</td>\n",
       "      <td>11.05</td>\n",
       "      <td>11.34</td>\n",
       "      <td>11.19</td>\n",
       "      <td>11.14</td>\n",
       "      <td>11.13</td>\n",
       "      <td>11.16</td>\n",
       "      <td>11.18</td>\n",
       "      <td>11.15</td>\n",
       "      <td>11.22</td>\n",
       "      <td>11.71</td>\n",
       "      <td>13.28</td>\n",
       "    </tr>\n",
       "    <tr>\n",
       "      <th>1</th>\n",
       "      <td>AGO</td>\n",
       "      <td>Angola</td>\n",
       "      <td>Africa</td>\n",
       "      <td>9.43</td>\n",
       "      <td>7.36</td>\n",
       "      <td>7.35</td>\n",
       "      <td>7.37</td>\n",
       "      <td>7.37</td>\n",
       "      <td>7.39</td>\n",
       "      <td>7.41</td>\n",
       "      <td>7.41</td>\n",
       "      <td>7.42</td>\n",
       "      <td>7.42</td>\n",
       "      <td>8.33</td>\n",
       "      <td>8.53</td>\n",
       "    </tr>\n",
       "    <tr>\n",
       "      <th>2</th>\n",
       "      <td>ALB</td>\n",
       "      <td>Albania</td>\n",
       "      <td>Europe</td>\n",
       "      <td>14.09</td>\n",
       "      <td>13.48</td>\n",
       "      <td>13.38</td>\n",
       "      <td>15.87</td>\n",
       "      <td>18.05</td>\n",
       "      <td>17.19</td>\n",
       "      <td>15.42</td>\n",
       "      <td>13.62</td>\n",
       "      <td>12.30</td>\n",
       "      <td>11.47</td>\n",
       "      <td>13.33</td>\n",
       "      <td>11.82</td>\n",
       "    </tr>\n",
       "    <tr>\n",
       "      <th>3</th>\n",
       "      <td>ARE</td>\n",
       "      <td>United Arab Emirates</td>\n",
       "      <td>Asia</td>\n",
       "      <td>2.48</td>\n",
       "      <td>2.30</td>\n",
       "      <td>2.18</td>\n",
       "      <td>2.04</td>\n",
       "      <td>1.91</td>\n",
       "      <td>1.77</td>\n",
       "      <td>1.64</td>\n",
       "      <td>2.46</td>\n",
       "      <td>2.35</td>\n",
       "      <td>2.23</td>\n",
       "      <td>3.19</td>\n",
       "      <td>3.36</td>\n",
       "    </tr>\n",
       "    <tr>\n",
       "      <th>4</th>\n",
       "      <td>ARG</td>\n",
       "      <td>Argentina</td>\n",
       "      <td>South America</td>\n",
       "      <td>7.71</td>\n",
       "      <td>7.18</td>\n",
       "      <td>7.22</td>\n",
       "      <td>7.10</td>\n",
       "      <td>7.27</td>\n",
       "      <td>7.52</td>\n",
       "      <td>8.11</td>\n",
       "      <td>8.35</td>\n",
       "      <td>9.22</td>\n",
       "      <td>9.84</td>\n",
       "      <td>11.46</td>\n",
       "      <td>10.90</td>\n",
       "    </tr>\n",
       "  </tbody>\n",
       "</table>\n",
       "</div>"
      ],
      "text/plain": [
       "  country_code          country_name      continent   2010   2011   2012  \\\n",
       "0          AFG           Afghanistan           Asia  11.35  11.05  11.34   \n",
       "1          AGO                Angola         Africa   9.43   7.36   7.35   \n",
       "2          ALB               Albania         Europe  14.09  13.48  13.38   \n",
       "3          ARE  United Arab Emirates           Asia   2.48   2.30   2.18   \n",
       "4          ARG             Argentina  South America   7.71   7.18   7.22   \n",
       "\n",
       "    2013   2014   2015   2016   2017   2018   2019   2020   2021  \n",
       "0  11.19  11.14  11.13  11.16  11.18  11.15  11.22  11.71  13.28  \n",
       "1   7.37   7.37   7.39   7.41   7.41   7.42   7.42   8.33   8.53  \n",
       "2  15.87  18.05  17.19  15.42  13.62  12.30  11.47  13.33  11.82  \n",
       "3   2.04   1.91   1.77   1.64   2.46   2.35   2.23   3.19   3.36  \n",
       "4   7.10   7.27   7.52   8.11   8.35   9.22   9.84  11.46  10.90  "
      ]
     },
     "execution_count": 16,
     "metadata": {},
     "output_type": "execute_result"
    }
   ],
   "source": [
    "unemployment.head()"
   ]
  },
  {
   "cell_type": "code",
   "execution_count": 17,
   "metadata": {},
   "outputs": [
    {
     "data": {
      "text/plain": [
       "(182, 15)"
      ]
     },
     "execution_count": 17,
     "metadata": {},
     "output_type": "execute_result"
    }
   ],
   "source": [
    "unemployment.shape"
   ]
  },
  {
   "cell_type": "code",
   "execution_count": 18,
   "metadata": {},
   "outputs": [
    {
     "name": "stdout",
     "output_type": "stream",
     "text": [
      "<class 'pandas.core.frame.DataFrame'>\n",
      "RangeIndex: 182 entries, 0 to 181\n",
      "Data columns (total 15 columns):\n",
      " #   Column        Non-Null Count  Dtype  \n",
      "---  ------        --------------  -----  \n",
      " 0   country_code  182 non-null    object \n",
      " 1   country_name  182 non-null    object \n",
      " 2   continent     177 non-null    object \n",
      " 3   2010          182 non-null    float64\n",
      " 4   2011          182 non-null    float64\n",
      " 5   2012          182 non-null    float64\n",
      " 6   2013          182 non-null    float64\n",
      " 7   2014          182 non-null    float64\n",
      " 8   2015          182 non-null    float64\n",
      " 9   2016          182 non-null    float64\n",
      " 10  2017          182 non-null    float64\n",
      " 11  2018          182 non-null    float64\n",
      " 12  2019          182 non-null    float64\n",
      " 13  2020          182 non-null    float64\n",
      " 14  2021          182 non-null    float64\n",
      "dtypes: float64(12), object(3)\n",
      "memory usage: 21.5+ KB\n"
     ]
    }
   ],
   "source": [
    "unemployment.info()"
   ]
  },
  {
   "cell_type": "code",
   "execution_count": 19,
   "metadata": {},
   "outputs": [
    {
     "data": {
      "text/plain": [
       "continent\n",
       "Africa           53\n",
       "Asia             47\n",
       "Europe           39\n",
       "North America    18\n",
       "South America    12\n",
       "Oceania           8\n",
       "Name: count, dtype: int64"
      ]
     },
     "execution_count": 19,
     "metadata": {},
     "output_type": "execute_result"
    }
   ],
   "source": [
    "unemployment.continent.value_counts()"
   ]
  },
  {
   "cell_type": "code",
   "execution_count": 20,
   "metadata": {},
   "outputs": [
    {
     "data": {
      "text/html": [
       "<div>\n",
       "<style scoped>\n",
       "    .dataframe tbody tr th:only-of-type {\n",
       "        vertical-align: middle;\n",
       "    }\n",
       "\n",
       "    .dataframe tbody tr th {\n",
       "        vertical-align: top;\n",
       "    }\n",
       "\n",
       "    .dataframe thead th {\n",
       "        text-align: right;\n",
       "    }\n",
       "</style>\n",
       "<table border=\"1\" class=\"dataframe\">\n",
       "  <thead>\n",
       "    <tr style=\"text-align: right;\">\n",
       "      <th></th>\n",
       "      <th>2010</th>\n",
       "      <th>2011</th>\n",
       "      <th>2012</th>\n",
       "      <th>2013</th>\n",
       "      <th>2014</th>\n",
       "      <th>2015</th>\n",
       "      <th>2016</th>\n",
       "      <th>2017</th>\n",
       "      <th>2018</th>\n",
       "      <th>2019</th>\n",
       "      <th>2020</th>\n",
       "      <th>2021</th>\n",
       "    </tr>\n",
       "  </thead>\n",
       "  <tbody>\n",
       "    <tr>\n",
       "      <th>count</th>\n",
       "      <td>182.000000</td>\n",
       "      <td>182.000000</td>\n",
       "      <td>182.000000</td>\n",
       "      <td>182.000000</td>\n",
       "      <td>182.000000</td>\n",
       "      <td>182.000000</td>\n",
       "      <td>182.000000</td>\n",
       "      <td>182.000000</td>\n",
       "      <td>182.000000</td>\n",
       "      <td>182.000000</td>\n",
       "      <td>182.000000</td>\n",
       "      <td>182.000000</td>\n",
       "    </tr>\n",
       "    <tr>\n",
       "      <th>mean</th>\n",
       "      <td>8.409286</td>\n",
       "      <td>8.315440</td>\n",
       "      <td>8.317967</td>\n",
       "      <td>8.344780</td>\n",
       "      <td>8.179670</td>\n",
       "      <td>8.058901</td>\n",
       "      <td>7.925879</td>\n",
       "      <td>7.668626</td>\n",
       "      <td>7.426429</td>\n",
       "      <td>7.243736</td>\n",
       "      <td>8.420934</td>\n",
       "      <td>8.390879</td>\n",
       "    </tr>\n",
       "    <tr>\n",
       "      <th>std</th>\n",
       "      <td>6.248887</td>\n",
       "      <td>6.266795</td>\n",
       "      <td>6.367270</td>\n",
       "      <td>6.416041</td>\n",
       "      <td>6.284241</td>\n",
       "      <td>6.161170</td>\n",
       "      <td>6.045439</td>\n",
       "      <td>5.902152</td>\n",
       "      <td>5.818915</td>\n",
       "      <td>5.696573</td>\n",
       "      <td>6.040915</td>\n",
       "      <td>6.067192</td>\n",
       "    </tr>\n",
       "    <tr>\n",
       "      <th>min</th>\n",
       "      <td>0.450000</td>\n",
       "      <td>0.320000</td>\n",
       "      <td>0.480000</td>\n",
       "      <td>0.250000</td>\n",
       "      <td>0.200000</td>\n",
       "      <td>0.170000</td>\n",
       "      <td>0.150000</td>\n",
       "      <td>0.140000</td>\n",
       "      <td>0.110000</td>\n",
       "      <td>0.100000</td>\n",
       "      <td>0.210000</td>\n",
       "      <td>0.260000</td>\n",
       "    </tr>\n",
       "    <tr>\n",
       "      <th>25%</th>\n",
       "      <td>4.015000</td>\n",
       "      <td>3.775000</td>\n",
       "      <td>3.742500</td>\n",
       "      <td>3.692500</td>\n",
       "      <td>3.625000</td>\n",
       "      <td>3.662500</td>\n",
       "      <td>3.800000</td>\n",
       "      <td>3.690000</td>\n",
       "      <td>3.625000</td>\n",
       "      <td>3.487500</td>\n",
       "      <td>4.285000</td>\n",
       "      <td>4.335000</td>\n",
       "    </tr>\n",
       "    <tr>\n",
       "      <th>50%</th>\n",
       "      <td>6.965000</td>\n",
       "      <td>6.805000</td>\n",
       "      <td>6.690000</td>\n",
       "      <td>6.395000</td>\n",
       "      <td>6.450000</td>\n",
       "      <td>6.170000</td>\n",
       "      <td>5.925000</td>\n",
       "      <td>5.650000</td>\n",
       "      <td>5.375000</td>\n",
       "      <td>5.240000</td>\n",
       "      <td>6.695000</td>\n",
       "      <td>6.425000</td>\n",
       "    </tr>\n",
       "    <tr>\n",
       "      <th>75%</th>\n",
       "      <td>10.957500</td>\n",
       "      <td>11.045000</td>\n",
       "      <td>11.285000</td>\n",
       "      <td>11.310000</td>\n",
       "      <td>10.695000</td>\n",
       "      <td>10.215000</td>\n",
       "      <td>10.245000</td>\n",
       "      <td>10.315000</td>\n",
       "      <td>9.257500</td>\n",
       "      <td>9.445000</td>\n",
       "      <td>11.155000</td>\n",
       "      <td>10.840000</td>\n",
       "    </tr>\n",
       "    <tr>\n",
       "      <th>max</th>\n",
       "      <td>32.020000</td>\n",
       "      <td>31.380000</td>\n",
       "      <td>31.020000</td>\n",
       "      <td>29.000000</td>\n",
       "      <td>28.030000</td>\n",
       "      <td>27.690000</td>\n",
       "      <td>26.540000</td>\n",
       "      <td>27.040000</td>\n",
       "      <td>26.910000</td>\n",
       "      <td>28.470000</td>\n",
       "      <td>29.220000</td>\n",
       "      <td>33.560000</td>\n",
       "    </tr>\n",
       "  </tbody>\n",
       "</table>\n",
       "</div>"
      ],
      "text/plain": [
       "             2010        2011        2012        2013        2014        2015  \\\n",
       "count  182.000000  182.000000  182.000000  182.000000  182.000000  182.000000   \n",
       "mean     8.409286    8.315440    8.317967    8.344780    8.179670    8.058901   \n",
       "std      6.248887    6.266795    6.367270    6.416041    6.284241    6.161170   \n",
       "min      0.450000    0.320000    0.480000    0.250000    0.200000    0.170000   \n",
       "25%      4.015000    3.775000    3.742500    3.692500    3.625000    3.662500   \n",
       "50%      6.965000    6.805000    6.690000    6.395000    6.450000    6.170000   \n",
       "75%     10.957500   11.045000   11.285000   11.310000   10.695000   10.215000   \n",
       "max     32.020000   31.380000   31.020000   29.000000   28.030000   27.690000   \n",
       "\n",
       "             2016        2017        2018        2019        2020        2021  \n",
       "count  182.000000  182.000000  182.000000  182.000000  182.000000  182.000000  \n",
       "mean     7.925879    7.668626    7.426429    7.243736    8.420934    8.390879  \n",
       "std      6.045439    5.902152    5.818915    5.696573    6.040915    6.067192  \n",
       "min      0.150000    0.140000    0.110000    0.100000    0.210000    0.260000  \n",
       "25%      3.800000    3.690000    3.625000    3.487500    4.285000    4.335000  \n",
       "50%      5.925000    5.650000    5.375000    5.240000    6.695000    6.425000  \n",
       "75%     10.245000   10.315000    9.257500    9.445000   11.155000   10.840000  \n",
       "max     26.540000   27.040000   26.910000   28.470000   29.220000   33.560000  "
      ]
     },
     "execution_count": 20,
     "metadata": {},
     "output_type": "execute_result"
    }
   ],
   "source": [
    "unemployment.describe()"
   ]
  },
  {
   "cell_type": "markdown",
   "metadata": {},
   "source": [
    "For quick plotting you can use pandas plotting functions like `df.plot(kind='hist')` or `df.plot(kind='box')`. For more advanced plotting, you can use `matplotlib` or `seaborn`."
   ]
  },
  {
   "cell_type": "code",
   "execution_count": 21,
   "metadata": {},
   "outputs": [
    {
     "data": {
      "text/plain": [
       "<Axes: xlabel='2021', ylabel='Count'>"
      ]
     },
     "execution_count": 21,
     "metadata": {},
     "output_type": "execute_result"
    },
    {
     "data": {
      "image/png": "[encoded data removed]",
      "text/plain": [
       "<Figure size 640x480 with 1 Axes>"
      ]
     },
     "metadata": {},
     "output_type": "display_data"
    }
   ],
   "source": [
    "sns.histplot(data=unemployment, x=\"2021\", binrange=(0, 40), binwidth=1)"
   ]
  },
  {
   "cell_type": "markdown",
   "metadata": {},
   "source": [
    "## <a id='toc3_'></a>[Data cleaning and Imputation](#toc0_)"
   ]
  },
  {
   "cell_type": "markdown",
   "metadata": {},
   "source": [
    "Data cleaning is the process of fixing or removing incorrect, corrupted, incorrectly formatted, duplicate, or incomplete data within a dataset. And, Imputation is the process of replacing missing data with substituted values."
   ]
  },
  {
   "cell_type": "markdown",
   "metadata": {},
   "source": [
    "### <a id='toc3_1_'></a>[*Handling missing values*](#toc0_)"
   ]
  },
  {
   "cell_type": "markdown",
   "metadata": {},
   "source": [
    "- Use `<ser|df>.isna().sum()` to see how many rows have missing values. Use `<ser|df>.isna().mean()` to see the proportion of missing values in each column. To convert to percentage, multiply by 100 i.e, `.isna().mean().mul(100)`."
   ]
  },
  {
   "cell_type": "markdown",
   "metadata": {},
   "source": [
    "- Strategies for handling missing data\n",
    "  - Drop the rows with missing values using `<ser|df>.dropna()` if 5% or less of the total observations are missing.\n",
    "  - Impute the missing values with `mean/median/mode` (depending on the distribution and context) using `<ser|df>.fillna()`.\n",
    "  - Also we can impute the missing values by sub-groups if the trend of the data varies between certain groups."
   ]
  },
  {
   "cell_type": "code",
   "execution_count": 22,
   "metadata": {},
   "outputs": [],
   "source": [
    "planes = pd.read_csv(\"../datasets/planes.csv\")"
   ]
  },
  {
   "cell_type": "code",
   "execution_count": 23,
   "metadata": {},
   "outputs": [
    {
     "data": {
      "text/plain": [
       "(10660, 11)"
      ]
     },
     "execution_count": 23,
     "metadata": {},
     "output_type": "execute_result"
    }
   ],
   "source": [
    "planes.shape"
   ]
  },
  {
   "cell_type": "code",
   "execution_count": 24,
   "metadata": {},
   "outputs": [
    {
     "data": {
      "text/plain": [
       "Index(['Airline', 'Date_of_Journey', 'Source', 'Destination', 'Route',\n",
       "       'Dep_Time', 'Arrival_Time', 'Duration', 'Total_Stops',\n",
       "       'Additional_Info', 'Price'],\n",
       "      dtype='object')"
      ]
     },
     "execution_count": 24,
     "metadata": {},
     "output_type": "execute_result"
    }
   ],
   "source": [
    "planes.columns"
   ]
  },
  {
   "cell_type": "code",
   "execution_count": 25,
   "metadata": {},
   "outputs": [
    {
     "data": {
      "text/html": [
       "<div>\n",
       "<style scoped>\n",
       "    .dataframe tbody tr th:only-of-type {\n",
       "        vertical-align: middle;\n",
       "    }\n",
       "\n",
       "    .dataframe tbody tr th {\n",
       "        vertical-align: top;\n",
       "    }\n",
       "\n",
       "    .dataframe thead th {\n",
       "        text-align: right;\n",
       "    }\n",
       "</style>\n",
       "<table border=\"1\" class=\"dataframe\">\n",
       "  <thead>\n",
       "    <tr style=\"text-align: right;\">\n",
       "      <th></th>\n",
       "      <th>Airline</th>\n",
       "      <th>Date_of_Journey</th>\n",
       "      <th>Source</th>\n",
       "      <th>Destination</th>\n",
       "      <th>Route</th>\n",
       "      <th>Dep_Time</th>\n",
       "      <th>Arrival_Time</th>\n",
       "      <th>Duration</th>\n",
       "      <th>Total_Stops</th>\n",
       "      <th>Additional_Info</th>\n",
       "      <th>Price</th>\n",
       "    </tr>\n",
       "  </thead>\n",
       "  <tbody>\n",
       "    <tr>\n",
       "      <th>0</th>\n",
       "      <td>Jet Airways</td>\n",
       "      <td>9/06/2019</td>\n",
       "      <td>Delhi</td>\n",
       "      <td>Cochin</td>\n",
       "      <td>DEL → LKO → BOM → COK</td>\n",
       "      <td>09:25</td>\n",
       "      <td>04:25 10 Jun</td>\n",
       "      <td>19h</td>\n",
       "      <td>2 stops</td>\n",
       "      <td>No info</td>\n",
       "      <td>13882.0</td>\n",
       "    </tr>\n",
       "    <tr>\n",
       "      <th>1</th>\n",
       "      <td>IndiGo</td>\n",
       "      <td>12/05/2019</td>\n",
       "      <td>Kolkata</td>\n",
       "      <td>Banglore</td>\n",
       "      <td>CCU → NAG → BLR</td>\n",
       "      <td>18:05</td>\n",
       "      <td>23:30</td>\n",
       "      <td>5h 25m</td>\n",
       "      <td>1 stop</td>\n",
       "      <td>No info</td>\n",
       "      <td>6218.0</td>\n",
       "    </tr>\n",
       "    <tr>\n",
       "      <th>2</th>\n",
       "      <td>IndiGo</td>\n",
       "      <td>01/03/2019</td>\n",
       "      <td>Banglore</td>\n",
       "      <td>New Delhi</td>\n",
       "      <td>BLR → NAG → DEL</td>\n",
       "      <td>16:50</td>\n",
       "      <td>21:35</td>\n",
       "      <td>4h 45m</td>\n",
       "      <td>1 stop</td>\n",
       "      <td>No info</td>\n",
       "      <td>13302.0</td>\n",
       "    </tr>\n",
       "    <tr>\n",
       "      <th>3</th>\n",
       "      <td>SpiceJet</td>\n",
       "      <td>24/06/2019</td>\n",
       "      <td>Kolkata</td>\n",
       "      <td>Banglore</td>\n",
       "      <td>CCU → BLR</td>\n",
       "      <td>09:00</td>\n",
       "      <td>11:25</td>\n",
       "      <td>2h 25m</td>\n",
       "      <td>non-stop</td>\n",
       "      <td>No info</td>\n",
       "      <td>3873.0</td>\n",
       "    </tr>\n",
       "    <tr>\n",
       "      <th>4</th>\n",
       "      <td>Jet Airways</td>\n",
       "      <td>12/03/2019</td>\n",
       "      <td>Banglore</td>\n",
       "      <td>New Delhi</td>\n",
       "      <td>BLR → BOM → DEL</td>\n",
       "      <td>18:55</td>\n",
       "      <td>10:25 13 Mar</td>\n",
       "      <td>15h 30m</td>\n",
       "      <td>1 stop</td>\n",
       "      <td>In-flight meal not included</td>\n",
       "      <td>11087.0</td>\n",
       "    </tr>\n",
       "  </tbody>\n",
       "</table>\n",
       "</div>"
      ],
      "text/plain": [
       "       Airline Date_of_Journey    Source Destination                  Route  \\\n",
       "0  Jet Airways       9/06/2019     Delhi      Cochin  DEL → LKO → BOM → COK   \n",
       "1       IndiGo      12/05/2019   Kolkata    Banglore        CCU → NAG → BLR   \n",
       "2       IndiGo      01/03/2019  Banglore   New Delhi        BLR → NAG → DEL   \n",
       "3     SpiceJet      24/06/2019   Kolkata    Banglore              CCU → BLR   \n",
       "4  Jet Airways      12/03/2019  Banglore   New Delhi        BLR → BOM → DEL   \n",
       "\n",
       "  Dep_Time  Arrival_Time Duration Total_Stops              Additional_Info  \\\n",
       "0    09:25  04:25 10 Jun      19h     2 stops                      No info   \n",
       "1    18:05         23:30   5h 25m      1 stop                      No info   \n",
       "2    16:50         21:35   4h 45m      1 stop                      No info   \n",
       "3    09:00         11:25   2h 25m    non-stop                      No info   \n",
       "4    18:55  10:25 13 Mar  15h 30m      1 stop  In-flight meal not included   \n",
       "\n",
       "     Price  \n",
       "0  13882.0  \n",
       "1   6218.0  \n",
       "2  13302.0  \n",
       "3   3873.0  \n",
       "4  11087.0  "
      ]
     },
     "execution_count": 25,
     "metadata": {},
     "output_type": "execute_result"
    }
   ],
   "source": [
    "planes.head()"
   ]
  },
  {
   "cell_type": "code",
   "execution_count": 26,
   "metadata": {},
   "outputs": [
    {
     "name": "stdout",
     "output_type": "stream",
     "text": [
      "<class 'pandas.core.frame.DataFrame'>\n",
      "RangeIndex: 10660 entries, 0 to 10659\n",
      "Data columns (total 11 columns):\n",
      " #   Column           Non-Null Count  Dtype  \n",
      "---  ------           --------------  -----  \n",
      " 0   Airline          10233 non-null  object \n",
      " 1   Date_of_Journey  10338 non-null  object \n",
      " 2   Source           10473 non-null  object \n",
      " 3   Destination      10313 non-null  object \n",
      " 4   Route            10404 non-null  object \n",
      " 5   Dep_Time         10400 non-null  object \n",
      " 6   Arrival_Time     10466 non-null  object \n",
      " 7   Duration         10446 non-null  object \n",
      " 8   Total_Stops      10448 non-null  object \n",
      " 9   Additional_Info  10071 non-null  object \n",
      " 10  Price            10044 non-null  float64\n",
      "dtypes: float64(1), object(10)\n",
      "memory usage: 916.2+ KB\n"
     ]
    }
   ],
   "source": [
    "planes.info()"
   ]
  },
  {
   "cell_type": "code",
   "execution_count": 27,
   "metadata": {},
   "outputs": [
    {
     "data": {
      "text/plain": [
       "Airline            427\n",
       "Date_of_Journey    322\n",
       "Source             187\n",
       "Destination        347\n",
       "Route              256\n",
       "Dep_Time           260\n",
       "Arrival_Time       194\n",
       "Duration           214\n",
       "Total_Stops        212\n",
       "Additional_Info    589\n",
       "Price              616\n",
       "dtype: int64"
      ]
     },
     "execution_count": 27,
     "metadata": {},
     "output_type": "execute_result"
    }
   ],
   "source": [
    "planes.isna().sum()"
   ]
  },
  {
   "cell_type": "code",
   "execution_count": 28,
   "metadata": {},
   "outputs": [],
   "source": [
    "# we will remove the rows from a column if it has <= 5% of the total rows missing\n",
    "threshold = len(planes) * 0.05\n",
    "subset_of_columns_to_remove_rows_from = planes.columns[planes.isna().sum() <= threshold]"
   ]
  },
  {
   "cell_type": "code",
   "execution_count": 29,
   "metadata": {},
   "outputs": [],
   "source": [
    "planes = planes.dropna(subset=subset_of_columns_to_remove_rows_from)"
   ]
  },
  {
   "cell_type": "code",
   "execution_count": 30,
   "metadata": {},
   "outputs": [
    {
     "data": {
      "text/plain": [
       "Airline              0\n",
       "Date_of_Journey      0\n",
       "Source               0\n",
       "Destination          0\n",
       "Route                0\n",
       "Dep_Time             0\n",
       "Arrival_Time         0\n",
       "Duration             0\n",
       "Total_Stops          0\n",
       "Additional_Info    300\n",
       "Price              368\n",
       "dtype: int64"
      ]
     },
     "execution_count": 30,
     "metadata": {},
     "output_type": "execute_result"
    }
   ],
   "source": [
    "planes.isna().sum()"
   ]
  },
  {
   "cell_type": "code",
   "execution_count": 31,
   "metadata": {},
   "outputs": [
    {
     "data": {
      "text/plain": [
       "Additional_Info\n",
       "No info                         6399\n",
       "In-flight meal not included     1525\n",
       "No check-in baggage included     258\n",
       "1 Long layover                    14\n",
       "Change airports                    7\n",
       "No Info                            2\n",
       "Business class                     1\n",
       "Red-eye flight                     1\n",
       "2 Long layover                     1\n",
       "Name: count, dtype: int64"
      ]
     },
     "execution_count": 31,
     "metadata": {},
     "output_type": "execute_result"
    }
   ],
   "source": [
    "# The Additional_Info column is of object type. Let's first explore the values and their frequencies in the col\n",
    "planes[\"Additional_Info\"].value_counts()"
   ]
  },
  {
   "cell_type": "code",
   "execution_count": 32,
   "metadata": {},
   "outputs": [],
   "source": [
    "# From what we can see the Additional_Info column doesn't contain much useful information. \n",
    "# Around 6400 rows has No info/No Info as the provided information\n",
    "# So we should just drop the Additional_Info column altogether\n",
    "planes = planes.drop(columns=\"Additional_Info\")"
   ]
  },
  {
   "cell_type": "code",
   "execution_count": 33,
   "metadata": {},
   "outputs": [
    {
     "data": {
      "image/png": "[encoded data removed]",
      "text/plain": [
       "<Figure size 640x480 with 1 Axes>"
      ]
     },
     "metadata": {},
     "output_type": "display_data"
    }
   ],
   "source": [
    "# Let's explore the Price column now.\n",
    "# It's float64 type. Plotting it's distribution might be helpful.\n",
    "# Also, the distribution of the price of the tickets are most likely to vary depending on the Airlines.\n",
    "# We chose to plot a boxplot since it provides 5 summary statistics and also identifies the outliers nicely.\n",
    "ax = sns.boxplot(data=planes, x=\"Airline\", y=\"Price\")\n",
    "ax.tick_params(\"x\", rotation=90)"
   ]
  },
  {
   "cell_type": "code",
   "execution_count": 34,
   "metadata": {},
   "outputs": [],
   "source": [
    "# From the boxplot we can see that indeed the ticket prices vary widely between Airlines and also there are lots\n",
    "# of outliers for each Airline. If we use mean to impute the missing values then it would not represent the \n",
    "# dataset accurately. We should instead use median.\n",
    "fill_values = planes.groupby(\"Airline\").Price.agg(\"median\").to_dict()\n",
    "planes[\"Price\"] = planes[\"Price\"].fillna(planes[\"Airline\"].map(fill_values))"
   ]
  },
  {
   "cell_type": "code",
   "execution_count": 35,
   "metadata": {},
   "outputs": [
    {
     "data": {
      "text/plain": [
       "Airline            0\n",
       "Date_of_Journey    0\n",
       "Source             0\n",
       "Destination        0\n",
       "Route              0\n",
       "Dep_Time           0\n",
       "Arrival_Time       0\n",
       "Duration           0\n",
       "Total_Stops        0\n",
       "Price              0\n",
       "dtype: int64"
      ]
     },
     "execution_count": 35,
     "metadata": {},
     "output_type": "execute_result"
    }
   ],
   "source": [
    "planes.isna().sum()"
   ]
  },
  {
   "cell_type": "code",
   "execution_count": 36,
   "metadata": {},
   "outputs": [],
   "source": [
    "# We could've also used, \n",
    "# planes = planes.assign(Price=planes.groupby(\"Airline\").Price.transform(lambda grp: grp.fillna(grp.median())))"
   ]
  },
  {
   "cell_type": "markdown",
   "metadata": {},
   "source": [
    "## <a id='toc4_'></a>[Data validation](#toc0_)"
   ]
  },
  {
   "cell_type": "markdown",
   "metadata": {},
   "source": [
    "Data validation is the process of ensuring that the data is clean, correct and useful. It is a good practice to validate the data before you start working on it. This will save you a lot of time and effort in the long run."
   ]
  },
  {
   "cell_type": "markdown",
   "metadata": {},
   "source": [
    "- Check the datatypes with `.dtypes` and make sure they are correct. If not, convert them to the correct datatype with `.astype()`."
   ]
  },
  {
   "cell_type": "markdown",
   "metadata": {},
   "source": [
    "- For validating categorical variables: to confirm that the categories are as expected use `.unique()` or `.value_counts()`. We can also use `.isin()` to check if the values are in a list of expected values. This can also be used as a filter. We can also use the `~` operator to negate the logic of the filter."
   ]
  },
  {
   "cell_type": "markdown",
   "metadata": {},
   "source": [
    "- For validating numerical variables: use `.describe()` to get the summary statistics in a tabular format. We can also draw a `boxplot` to see the summary statistics visually. To select only the numeric columns of a dataframe use, `.select_dtypes(\"number\")`."
   ]
  },
  {
   "cell_type": "code",
   "execution_count": 37,
   "metadata": {},
   "outputs": [
    {
     "data": {
      "text/plain": [
       "<Axes: xlabel='2021', ylabel='continent'>"
      ]
     },
     "execution_count": 37,
     "metadata": {},
     "output_type": "execute_result"
    },
    {
     "data": {
      "image/png": "[encoded data removed]",
      "text/plain": [
       "<Figure size 640x480 with 1 Axes>"
      ]
     },
     "metadata": {},
     "output_type": "display_data"
    }
   ],
   "source": [
    "sns.boxplot(data=unemployment, x=\"2021\", y=\"continent\")"
   ]
  },
  {
   "cell_type": "code",
   "execution_count": null,
   "metadata": {},
   "outputs": [],
   "source": []
  }
 ],
 "metadata": {
  "kernelspec": {
   "display_name": "ml_intro",
   "language": "python",
   "name": "python3"
  },
  "language_info": {
   "codemirror_mode": {
    "name": "ipython",
    "version": 3
   },
   "file_extension": ".py",
   "mimetype": "text/x-python",
   "name": "python",
   "nbconvert_exporter": "python",
   "pygments_lexer": "ipython3",
   "version": "3.11.6"
  },
  "orig_nbformat": 4
 },
 "nbformat": 4,
 "nbformat_minor": 2
}
