{
 "cells": [
  {
   "cell_type": "markdown",
   "metadata": {},
   "source": [
    "**Table of contents**<a id='toc0_'></a>    \n",
    "- [Import Statements](#toc1_1_)    \n",
    "- [Getting to know your data](#toc2_)    \n",
    "  - [*Initial exploration*](#toc2_1_)    \n",
    "  - [*Data validation*](#toc2_2_)    \n",
    "  - [*Data summarization*](#toc2_3_)    \n",
    "\n",
    "<!-- vscode-jupyter-toc-config\n",
    "\tnumbering=false\n",
    "\tanchor=true\n",
    "\tflat=false\n",
    "\tminLevel=2\n",
    "\tmaxLevel=5\n",
    "\t/vscode-jupyter-toc-config -->\n",
    "<!-- THIS CELL WILL BE REPLACED ON TOC UPDATE. DO NOT WRITE YOUR TEXT IN THIS CELL -->"
   ]
  },
  {
   "cell_type": "markdown",
   "metadata": {},
   "source": [
    "### <a id='toc1_1_'></a>[Import Statements](#toc0_)"
   ]
  },
  {
   "cell_type": "code",
   "execution_count": 1,
   "metadata": {},
   "outputs": [],
   "source": [
    "import numpy as np\n",
    "import pandas as pd\n",
    "import matplotlib as mpl\n",
    "import matplotlib.pyplot as plt\n",
    "import seaborn as sns"
   ]
  },
  {
   "cell_type": "markdown",
   "metadata": {},
   "source": [
    "## <a id='toc2_'></a>[Getting to know your data](#toc0_)"
   ]
  },
  {
   "cell_type": "markdown",
   "metadata": {},
   "source": [
    "### <a id='toc2_1_'></a>[*Initial exploration*](#toc0_)"
   ]
  },
  {
   "cell_type": "markdown",
   "metadata": {},
   "source": [
    "- Take a quick look at the data with `.head()`"
   ]
  },
  {
   "cell_type": "markdown",
   "metadata": {},
   "source": [
    "- Take a look at some other informations about the dataframe with `.info()`, `.shape`, `.dtypes()`, `.columns` etc."
   ]
  },
  {
   "cell_type": "markdown",
   "metadata": {},
   "source": [
    "- For categorical variables, a common question we might ask ourselves is how many data points do we have for each of the category? This can be done with `.value_counts()`."
   ]
  },
  {
   "cell_type": "markdown",
   "metadata": {},
   "source": [
    "- Get a quick overview of the numerical variables with `.describe()`."
   ]
  },
  {
   "cell_type": "markdown",
   "metadata": {},
   "source": [
    "- To see how the numerical variables are distributed use a `histogram/kdeplot/boxplot/violinplot/boxenplot`. After you've got a good grip about what the data is about, you can use `jointplot/pairplot` to further understand the relationship between the variables."
   ]
  },
  {
   "cell_type": "code",
   "execution_count": 2,
   "metadata": {},
   "outputs": [],
   "source": [
    "unemployment = pd.read_csv(\"./datasets/clean_unemployment.csv\")"
   ]
  },
  {
   "cell_type": "code",
   "execution_count": 3,
   "metadata": {},
   "outputs": [
    {
     "data": {
      "text/html": [
       "<div>\n",
       "<style scoped>\n",
       "    .dataframe tbody tr th:only-of-type {\n",
       "        vertical-align: middle;\n",
       "    }\n",
       "\n",
       "    .dataframe tbody tr th {\n",
       "        vertical-align: top;\n",
       "    }\n",
       "\n",
       "    .dataframe thead th {\n",
       "        text-align: right;\n",
       "    }\n",
       "</style>\n",
       "<table border=\"1\" class=\"dataframe\">\n",
       "  <thead>\n",
       "    <tr style=\"text-align: right;\">\n",
       "      <th></th>\n",
       "      <th>country_code</th>\n",
       "      <th>country_name</th>\n",
       "      <th>continent</th>\n",
       "      <th>2010</th>\n",
       "      <th>2011</th>\n",
       "      <th>2012</th>\n",
       "      <th>2013</th>\n",
       "      <th>2014</th>\n",
       "      <th>2015</th>\n",
       "      <th>2016</th>\n",
       "      <th>2017</th>\n",
       "      <th>2018</th>\n",
       "      <th>2019</th>\n",
       "      <th>2020</th>\n",
       "      <th>2021</th>\n",
       "    </tr>\n",
       "  </thead>\n",
       "  <tbody>\n",
       "    <tr>\n",
       "      <th>0</th>\n",
       "      <td>AFG</td>\n",
       "      <td>Afghanistan</td>\n",
       "      <td>Asia</td>\n",
       "      <td>11.35</td>\n",
       "      <td>11.05</td>\n",
       "      <td>11.34</td>\n",
       "      <td>11.19</td>\n",
       "      <td>11.14</td>\n",
       "      <td>11.13</td>\n",
       "      <td>11.16</td>\n",
       "      <td>11.18</td>\n",
       "      <td>11.15</td>\n",
       "      <td>11.22</td>\n",
       "      <td>11.71</td>\n",
       "      <td>13.28</td>\n",
       "    </tr>\n",
       "    <tr>\n",
       "      <th>1</th>\n",
       "      <td>AGO</td>\n",
       "      <td>Angola</td>\n",
       "      <td>Africa</td>\n",
       "      <td>9.43</td>\n",
       "      <td>7.36</td>\n",
       "      <td>7.35</td>\n",
       "      <td>7.37</td>\n",
       "      <td>7.37</td>\n",
       "      <td>7.39</td>\n",
       "      <td>7.41</td>\n",
       "      <td>7.41</td>\n",
       "      <td>7.42</td>\n",
       "      <td>7.42</td>\n",
       "      <td>8.33</td>\n",
       "      <td>8.53</td>\n",
       "    </tr>\n",
       "    <tr>\n",
       "      <th>2</th>\n",
       "      <td>ALB</td>\n",
       "      <td>Albania</td>\n",
       "      <td>Europe</td>\n",
       "      <td>14.09</td>\n",
       "      <td>13.48</td>\n",
       "      <td>13.38</td>\n",
       "      <td>15.87</td>\n",
       "      <td>18.05</td>\n",
       "      <td>17.19</td>\n",
       "      <td>15.42</td>\n",
       "      <td>13.62</td>\n",
       "      <td>12.30</td>\n",
       "      <td>11.47</td>\n",
       "      <td>13.33</td>\n",
       "      <td>11.82</td>\n",
       "    </tr>\n",
       "    <tr>\n",
       "      <th>3</th>\n",
       "      <td>ARE</td>\n",
       "      <td>United Arab Emirates</td>\n",
       "      <td>Asia</td>\n",
       "      <td>2.48</td>\n",
       "      <td>2.30</td>\n",
       "      <td>2.18</td>\n",
       "      <td>2.04</td>\n",
       "      <td>1.91</td>\n",
       "      <td>1.77</td>\n",
       "      <td>1.64</td>\n",
       "      <td>2.46</td>\n",
       "      <td>2.35</td>\n",
       "      <td>2.23</td>\n",
       "      <td>3.19</td>\n",
       "      <td>3.36</td>\n",
       "    </tr>\n",
       "    <tr>\n",
       "      <th>4</th>\n",
       "      <td>ARG</td>\n",
       "      <td>Argentina</td>\n",
       "      <td>South America</td>\n",
       "      <td>7.71</td>\n",
       "      <td>7.18</td>\n",
       "      <td>7.22</td>\n",
       "      <td>7.10</td>\n",
       "      <td>7.27</td>\n",
       "      <td>7.52</td>\n",
       "      <td>8.11</td>\n",
       "      <td>8.35</td>\n",
       "      <td>9.22</td>\n",
       "      <td>9.84</td>\n",
       "      <td>11.46</td>\n",
       "      <td>10.90</td>\n",
       "    </tr>\n",
       "  </tbody>\n",
       "</table>\n",
       "</div>"
      ],
      "text/plain": [
       "  country_code          country_name      continent   2010   2011   2012  \\\n",
       "0          AFG           Afghanistan           Asia  11.35  11.05  11.34   \n",
       "1          AGO                Angola         Africa   9.43   7.36   7.35   \n",
       "2          ALB               Albania         Europe  14.09  13.48  13.38   \n",
       "3          ARE  United Arab Emirates           Asia   2.48   2.30   2.18   \n",
       "4          ARG             Argentina  South America   7.71   7.18   7.22   \n",
       "\n",
       "    2013   2014   2015   2016   2017   2018   2019   2020   2021  \n",
       "0  11.19  11.14  11.13  11.16  11.18  11.15  11.22  11.71  13.28  \n",
       "1   7.37   7.37   7.39   7.41   7.41   7.42   7.42   8.33   8.53  \n",
       "2  15.87  18.05  17.19  15.42  13.62  12.30  11.47  13.33  11.82  \n",
       "3   2.04   1.91   1.77   1.64   2.46   2.35   2.23   3.19   3.36  \n",
       "4   7.10   7.27   7.52   8.11   8.35   9.22   9.84  11.46  10.90  "
      ]
     },
     "execution_count": 3,
     "metadata": {},
     "output_type": "execute_result"
    }
   ],
   "source": [
    "unemployment.head()"
   ]
  },
  {
   "cell_type": "code",
   "execution_count": 4,
   "metadata": {},
   "outputs": [
    {
     "data": {
      "text/plain": [
       "(182, 15)"
      ]
     },
     "execution_count": 4,
     "metadata": {},
     "output_type": "execute_result"
    }
   ],
   "source": [
    "unemployment.shape"
   ]
  },
  {
   "cell_type": "code",
   "execution_count": 5,
   "metadata": {},
   "outputs": [
    {
     "name": "stdout",
     "output_type": "stream",
     "text": [
      "<class 'pandas.core.frame.DataFrame'>\n",
      "RangeIndex: 182 entries, 0 to 181\n",
      "Data columns (total 15 columns):\n",
      " #   Column        Non-Null Count  Dtype  \n",
      "---  ------        --------------  -----  \n",
      " 0   country_code  182 non-null    object \n",
      " 1   country_name  182 non-null    object \n",
      " 2   continent     177 non-null    object \n",
      " 3   2010          182 non-null    float64\n",
      " 4   2011          182 non-null    float64\n",
      " 5   2012          182 non-null    float64\n",
      " 6   2013          182 non-null    float64\n",
      " 7   2014          182 non-null    float64\n",
      " 8   2015          182 non-null    float64\n",
      " 9   2016          182 non-null    float64\n",
      " 10  2017          182 non-null    float64\n",
      " 11  2018          182 non-null    float64\n",
      " 12  2019          182 non-null    float64\n",
      " 13  2020          182 non-null    float64\n",
      " 14  2021          182 non-null    float64\n",
      "dtypes: float64(12), object(3)\n",
      "memory usage: 21.5+ KB\n"
     ]
    }
   ],
   "source": [
    "unemployment.info()"
   ]
  },
  {
   "cell_type": "code",
   "execution_count": 6,
   "metadata": {},
   "outputs": [
    {
     "data": {
      "text/plain": [
       "continent\n",
       "Africa           53\n",
       "Asia             47\n",
       "Europe           39\n",
       "North America    18\n",
       "South America    12\n",
       "Oceania           8\n",
       "Name: count, dtype: int64"
      ]
     },
     "execution_count": 6,
     "metadata": {},
     "output_type": "execute_result"
    }
   ],
   "source": [
    "unemployment.continent.value_counts()"
   ]
  },
  {
   "cell_type": "code",
   "execution_count": 7,
   "metadata": {},
   "outputs": [
    {
     "data": {
      "text/html": [
       "<div>\n",
       "<style scoped>\n",
       "    .dataframe tbody tr th:only-of-type {\n",
       "        vertical-align: middle;\n",
       "    }\n",
       "\n",
       "    .dataframe tbody tr th {\n",
       "        vertical-align: top;\n",
       "    }\n",
       "\n",
       "    .dataframe thead th {\n",
       "        text-align: right;\n",
       "    }\n",
       "</style>\n",
       "<table border=\"1\" class=\"dataframe\">\n",
       "  <thead>\n",
       "    <tr style=\"text-align: right;\">\n",
       "      <th></th>\n",
       "      <th>2010</th>\n",
       "      <th>2011</th>\n",
       "      <th>2012</th>\n",
       "      <th>2013</th>\n",
       "      <th>2014</th>\n",
       "      <th>2015</th>\n",
       "      <th>2016</th>\n",
       "      <th>2017</th>\n",
       "      <th>2018</th>\n",
       "      <th>2019</th>\n",
       "      <th>2020</th>\n",
       "      <th>2021</th>\n",
       "    </tr>\n",
       "  </thead>\n",
       "  <tbody>\n",
       "    <tr>\n",
       "      <th>count</th>\n",
       "      <td>182.000000</td>\n",
       "      <td>182.000000</td>\n",
       "      <td>182.000000</td>\n",
       "      <td>182.000000</td>\n",
       "      <td>182.000000</td>\n",
       "      <td>182.000000</td>\n",
       "      <td>182.000000</td>\n",
       "      <td>182.000000</td>\n",
       "      <td>182.000000</td>\n",
       "      <td>182.000000</td>\n",
       "      <td>182.000000</td>\n",
       "      <td>182.000000</td>\n",
       "    </tr>\n",
       "    <tr>\n",
       "      <th>mean</th>\n",
       "      <td>8.409286</td>\n",
       "      <td>8.315440</td>\n",
       "      <td>8.317967</td>\n",
       "      <td>8.344780</td>\n",
       "      <td>8.179670</td>\n",
       "      <td>8.058901</td>\n",
       "      <td>7.925879</td>\n",
       "      <td>7.668626</td>\n",
       "      <td>7.426429</td>\n",
       "      <td>7.243736</td>\n",
       "      <td>8.420934</td>\n",
       "      <td>8.390879</td>\n",
       "    </tr>\n",
       "    <tr>\n",
       "      <th>std</th>\n",
       "      <td>6.248887</td>\n",
       "      <td>6.266795</td>\n",
       "      <td>6.367270</td>\n",
       "      <td>6.416041</td>\n",
       "      <td>6.284241</td>\n",
       "      <td>6.161170</td>\n",
       "      <td>6.045439</td>\n",
       "      <td>5.902152</td>\n",
       "      <td>5.818915</td>\n",
       "      <td>5.696573</td>\n",
       "      <td>6.040915</td>\n",
       "      <td>6.067192</td>\n",
       "    </tr>\n",
       "    <tr>\n",
       "      <th>min</th>\n",
       "      <td>0.450000</td>\n",
       "      <td>0.320000</td>\n",
       "      <td>0.480000</td>\n",
       "      <td>0.250000</td>\n",
       "      <td>0.200000</td>\n",
       "      <td>0.170000</td>\n",
       "      <td>0.150000</td>\n",
       "      <td>0.140000</td>\n",
       "      <td>0.110000</td>\n",
       "      <td>0.100000</td>\n",
       "      <td>0.210000</td>\n",
       "      <td>0.260000</td>\n",
       "    </tr>\n",
       "    <tr>\n",
       "      <th>25%</th>\n",
       "      <td>4.015000</td>\n",
       "      <td>3.775000</td>\n",
       "      <td>3.742500</td>\n",
       "      <td>3.692500</td>\n",
       "      <td>3.625000</td>\n",
       "      <td>3.662500</td>\n",
       "      <td>3.800000</td>\n",
       "      <td>3.690000</td>\n",
       "      <td>3.625000</td>\n",
       "      <td>3.487500</td>\n",
       "      <td>4.285000</td>\n",
       "      <td>4.335000</td>\n",
       "    </tr>\n",
       "    <tr>\n",
       "      <th>50%</th>\n",
       "      <td>6.965000</td>\n",
       "      <td>6.805000</td>\n",
       "      <td>6.690000</td>\n",
       "      <td>6.395000</td>\n",
       "      <td>6.450000</td>\n",
       "      <td>6.170000</td>\n",
       "      <td>5.925000</td>\n",
       "      <td>5.650000</td>\n",
       "      <td>5.375000</td>\n",
       "      <td>5.240000</td>\n",
       "      <td>6.695000</td>\n",
       "      <td>6.425000</td>\n",
       "    </tr>\n",
       "    <tr>\n",
       "      <th>75%</th>\n",
       "      <td>10.957500</td>\n",
       "      <td>11.045000</td>\n",
       "      <td>11.285000</td>\n",
       "      <td>11.310000</td>\n",
       "      <td>10.695000</td>\n",
       "      <td>10.215000</td>\n",
       "      <td>10.245000</td>\n",
       "      <td>10.315000</td>\n",
       "      <td>9.257500</td>\n",
       "      <td>9.445000</td>\n",
       "      <td>11.155000</td>\n",
       "      <td>10.840000</td>\n",
       "    </tr>\n",
       "    <tr>\n",
       "      <th>max</th>\n",
       "      <td>32.020000</td>\n",
       "      <td>31.380000</td>\n",
       "      <td>31.020000</td>\n",
       "      <td>29.000000</td>\n",
       "      <td>28.030000</td>\n",
       "      <td>27.690000</td>\n",
       "      <td>26.540000</td>\n",
       "      <td>27.040000</td>\n",
       "      <td>26.910000</td>\n",
       "      <td>28.470000</td>\n",
       "      <td>29.220000</td>\n",
       "      <td>33.560000</td>\n",
       "    </tr>\n",
       "  </tbody>\n",
       "</table>\n",
       "</div>"
      ],
      "text/plain": [
       "             2010        2011        2012        2013        2014        2015  \\\n",
       "count  182.000000  182.000000  182.000000  182.000000  182.000000  182.000000   \n",
       "mean     8.409286    8.315440    8.317967    8.344780    8.179670    8.058901   \n",
       "std      6.248887    6.266795    6.367270    6.416041    6.284241    6.161170   \n",
       "min      0.450000    0.320000    0.480000    0.250000    0.200000    0.170000   \n",
       "25%      4.015000    3.775000    3.742500    3.692500    3.625000    3.662500   \n",
       "50%      6.965000    6.805000    6.690000    6.395000    6.450000    6.170000   \n",
       "75%     10.957500   11.045000   11.285000   11.310000   10.695000   10.215000   \n",
       "max     32.020000   31.380000   31.020000   29.000000   28.030000   27.690000   \n",
       "\n",
       "             2016        2017        2018        2019        2020        2021  \n",
       "count  182.000000  182.000000  182.000000  182.000000  182.000000  182.000000  \n",
       "mean     7.925879    7.668626    7.426429    7.243736    8.420934    8.390879  \n",
       "std      6.045439    5.902152    5.818915    5.696573    6.040915    6.067192  \n",
       "min      0.150000    0.140000    0.110000    0.100000    0.210000    0.260000  \n",
       "25%      3.800000    3.690000    3.625000    3.487500    4.285000    4.335000  \n",
       "50%      5.925000    5.650000    5.375000    5.240000    6.695000    6.425000  \n",
       "75%     10.245000   10.315000    9.257500    9.445000   11.155000   10.840000  \n",
       "max     26.540000   27.040000   26.910000   28.470000   29.220000   33.560000  "
      ]
     },
     "execution_count": 7,
     "metadata": {},
     "output_type": "execute_result"
    }
   ],
   "source": [
    "unemployment.describe()"
   ]
  },
  {
   "cell_type": "markdown",
   "metadata": {},
   "source": [
    "For quick plotting you can use pandas plotting functions like `df.plot(kind='hist')` or `df.plot(kind='box')`. For more advanced plotting, you can use `matplotlib` or `seaborn`."
   ]
  },
  {
   "cell_type": "code",
   "execution_count": 8,
   "metadata": {},
   "outputs": [
    {
     "data": {
      "text/plain": [
       "<Axes: xlabel='2021', ylabel='Count'>"
      ]
     },
     "execution_count": 8,
     "metadata": {},
     "output_type": "execute_result"
    },
    {
     "data": {
      "image/png": "[encoded data removed]",
      "text/plain": [
       "<Figure size 640x480 with 1 Axes>"
      ]
     },
     "metadata": {},
     "output_type": "display_data"
    }
   ],
   "source": [
    "sns.histplot(data=unemployment, x=\"2021\", binrange=(0, 40), binwidth=1)"
   ]
  },
  {
   "cell_type": "markdown",
   "metadata": {},
   "source": [
    "### <a id='toc2_2_'></a>[*Data validation*](#toc0_)"
   ]
  },
  {
   "cell_type": "markdown",
   "metadata": {},
   "source": [
    "Data validation is the process of ensuring that the data is clean, correct and useful. It is a good practice to validate the data before you start working on it. This will save you a lot of time and effort in the long run."
   ]
  },
  {
   "cell_type": "markdown",
   "metadata": {},
   "source": [
    "- Check the datatypes with `.dtypes` and make sure they are correct. If not, convert them to the correct datatype with `.astype()`."
   ]
  },
  {
   "cell_type": "markdown",
   "metadata": {},
   "source": [
    "- For validating categorical variables: to confirm that the categories are as expected use `.unique()` or `.value_counts()`. We can also use `.isin()` to check if the values are in a list of expected values. This can also be used as a filter. We can also use the `~` operator to negate the logic of the filter."
   ]
  },
  {
   "cell_type": "markdown",
   "metadata": {},
   "source": [
    "- For validating numerical variables: use `.describe()` to get the summary statistics in a tabular format. We can also draw a `boxplot` to see the summary statistics visually. To select only the numeric columns of a dataframe use, `.select_dtypes(\"number\")`."
   ]
  },
  {
   "cell_type": "code",
   "execution_count": 9,
   "metadata": {},
   "outputs": [
    {
     "data": {
      "text/plain": [
       "<Axes: xlabel='2021', ylabel='continent'>"
      ]
     },
     "execution_count": 9,
     "metadata": {},
     "output_type": "execute_result"
    },
    {
     "data": {
      "image/png": "[encoded data removed]",
      "text/plain": [
       "<Figure size 640x480 with 1 Axes>"
      ]
     },
     "metadata": {},
     "output_type": "display_data"
    }
   ],
   "source": [
    "sns.boxplot(data=unemployment, x=\"2021\", y=\"continent\")"
   ]
  },
  {
   "cell_type": "markdown",
   "metadata": {},
   "source": [
    "### <a id='toc2_3_'></a>[*Data summarization*](#toc0_)"
   ]
  },
  {
   "cell_type": "markdown",
   "metadata": {},
   "source": [
    "- Use `.groupby()` to group the data and then use `.agg()`/`.transform()`/`.filter()` to summarize and explore the dataset. To visually represent the findings we can use a `barplot`."
   ]
  },
  {
   "cell_type": "code",
   "execution_count": null,
   "metadata": {},
   "outputs": [],
   "source": []
  }
 ],
 "metadata": {
  "kernelspec": {
   "display_name": "ml_intro",
   "language": "python",
   "name": "python3"
  },
  "language_info": {
   "codemirror_mode": {
    "name": "ipython",
    "version": 3
   },
   "file_extension": ".py",
   "mimetype": "text/x-python",
   "name": "python",
   "nbconvert_exporter": "python",
   "pygments_lexer": "ipython3",
   "version": "3.11.4"
  },
  "orig_nbformat": 4
 },
 "nbformat": 4,
 "nbformat_minor": 2
}
