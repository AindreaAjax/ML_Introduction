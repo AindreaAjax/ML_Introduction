{
 "cells": [
  {
   "cell_type": "markdown",
   "metadata": {},
   "source": [
    "**Table of contents**<a id='toc0_'></a>    \n",
    "- [Import statements](#toc1_1_)    \n",
    "  - [Loading the customer churn dataset](#toc1_2_)    \n",
    "- [Simple logistic regression modeling](#toc2_)    \n",
    "  - [Representing the logistic regression prediction on different scales](#toc2_1_)    \n",
    "    - [-> Expressing the prediction as a probability](#toc2_1_1_)    \n",
    "    - [-> Expressing the prediction as most likely outcome](#toc2_1_2_)    \n",
    "    - [-> Odds ratio](#toc2_1_3_)    \n",
    "    - [-> Log odds ratio](#toc2_1_4_)    \n",
    "    - [-> Comparing scales](#toc2_1_5_)    \n",
    "  - [Quantifying logistic regression model fit](#toc2_2_)    \n",
    "    - [-> Confusion matrix](#toc2_2_1_)    \n",
    "    - [-> Accuracy](#toc2_2_2_)    \n",
    "    - [-> Precision](#toc2_2_3_)    \n",
    "    - [-> Recall/Sensitivity](#toc2_2_4_)    \n",
    "    - [-> Specificity](#toc2_2_5_)    \n",
    "    - [-> F1 score](#toc2_2_6_)    \n",
    "\n",
    "<!-- vscode-jupyter-toc-config\n",
    "\tnumbering=false\n",
    "\tanchor=true\n",
    "\tflat=false\n",
    "\tminLevel=2\n",
    "\tmaxLevel=5\n",
    "\t/vscode-jupyter-toc-config -->\n",
    "<!-- THIS CELL WILL BE REPLACED ON TOC UPDATE. DO NOT WRITE YOUR TEXT IN THIS CELL -->"
   ]
  },
  {
   "cell_type": "markdown",
   "metadata": {},
   "source": [
    "### <a id='toc1_1_'></a>[Import statements](#toc0_)"
   ]
  },
  {
   "cell_type": "code",
   "execution_count": 1,
   "metadata": {},
   "outputs": [],
   "source": [
    "import warnings\n",
    "\n",
    "warnings.filterwarnings(\"ignore\")"
   ]
  },
  {
   "cell_type": "code",
   "execution_count": 2,
   "metadata": {},
   "outputs": [],
   "source": [
    "import pandas as pd\n",
    "import numpy as np\n",
    "import seaborn as sns\n",
    "import matplotlib.pyplot as plt\n",
    "import statsmodels.formula.api as smf"
   ]
  },
  {
   "cell_type": "markdown",
   "metadata": {},
   "source": [
    "### <a id='toc1_2_'></a>[Loading the customer churn dataset](#toc0_)"
   ]
  },
  {
   "cell_type": "code",
   "execution_count": 3,
   "metadata": {},
   "outputs": [],
   "source": [
    "churn = pd.read_csv(\"./datasets/churn.csv\")"
   ]
  },
  {
   "cell_type": "code",
   "execution_count": 4,
   "metadata": {},
   "outputs": [
    {
     "name": "stdout",
     "output_type": "stream",
     "text": [
      "<class 'pandas.core.frame.DataFrame'>\n",
      "RangeIndex: 400 entries, 0 to 399\n",
      "Data columns (total 3 columns):\n",
      " #   Column                     Non-Null Count  Dtype  \n",
      "---  ------                     --------------  -----  \n",
      " 0   has_churned                400 non-null    int64  \n",
      " 1   time_since_first_purchase  400 non-null    float64\n",
      " 2   time_since_last_purchase   400 non-null    float64\n",
      "dtypes: float64(2), int64(1)\n",
      "memory usage: 9.5 KB\n"
     ]
    }
   ],
   "source": [
    "churn.info()"
   ]
  },
  {
   "cell_type": "code",
   "execution_count": 5,
   "metadata": {},
   "outputs": [
    {
     "data": {
      "text/html": [
       "<div>\n",
       "<style scoped>\n",
       "    .dataframe tbody tr th:only-of-type {\n",
       "        vertical-align: middle;\n",
       "    }\n",
       "\n",
       "    .dataframe tbody tr th {\n",
       "        vertical-align: top;\n",
       "    }\n",
       "\n",
       "    .dataframe thead th {\n",
       "        text-align: right;\n",
       "    }\n",
       "</style>\n",
       "<table border=\"1\" class=\"dataframe\">\n",
       "  <thead>\n",
       "    <tr style=\"text-align: right;\">\n",
       "      <th></th>\n",
       "      <th>has_churned</th>\n",
       "      <th>time_since_first_purchase</th>\n",
       "      <th>time_since_last_purchase</th>\n",
       "    </tr>\n",
       "  </thead>\n",
       "  <tbody>\n",
       "    <tr>\n",
       "      <th>0</th>\n",
       "      <td>0</td>\n",
       "      <td>-1.089221</td>\n",
       "      <td>-0.721322</td>\n",
       "    </tr>\n",
       "    <tr>\n",
       "      <th>1</th>\n",
       "      <td>0</td>\n",
       "      <td>1.182983</td>\n",
       "      <td>3.634435</td>\n",
       "    </tr>\n",
       "    <tr>\n",
       "      <th>2</th>\n",
       "      <td>0</td>\n",
       "      <td>-0.846156</td>\n",
       "      <td>-0.427582</td>\n",
       "    </tr>\n",
       "    <tr>\n",
       "      <th>3</th>\n",
       "      <td>0</td>\n",
       "      <td>0.086942</td>\n",
       "      <td>-0.535672</td>\n",
       "    </tr>\n",
       "    <tr>\n",
       "      <th>4</th>\n",
       "      <td>0</td>\n",
       "      <td>-1.166642</td>\n",
       "      <td>-0.672640</td>\n",
       "    </tr>\n",
       "  </tbody>\n",
       "</table>\n",
       "</div>"
      ],
      "text/plain": [
       "   has_churned  time_since_first_purchase  time_since_last_purchase\n",
       "0            0                  -1.089221                 -0.721322\n",
       "1            0                   1.182983                  3.634435\n",
       "2            0                  -0.846156                 -0.427582\n",
       "3            0                   0.086942                 -0.535672\n",
       "4            0                  -1.166642                 -0.672640"
      ]
     },
     "execution_count": 5,
     "metadata": {},
     "output_type": "execute_result"
    }
   ],
   "source": [
    "churn.head()"
   ]
  },
  {
   "cell_type": "markdown",
   "metadata": {},
   "source": [
    "This dataset on churn is from a European financial services company in 2006. There are 400 rows, each representing a customer. If the customer closed all accounts during the time period (i.e, in 2006), they were considered to have churned, and the \"has_churned\" column is marked with a one. If they still had an open account at the end of the time period, \"has_churned\" is marked with a zero. The two explanatory variables are the time since the customer first bought a service and the time since they last bought a service. Respectively, they measure the length of the relationship with the customer and the recency of the customer's activity. The time columns contain negative values because they have been standardized for confidentiality reasons. "
   ]
  },
  {
   "cell_type": "markdown",
   "metadata": {},
   "source": [
    "## <a id='toc2_'></a>[Simple logistic regression modeling](#toc0_)"
   ]
  },
  {
   "cell_type": "markdown",
   "metadata": {},
   "source": [
    "A linear regression model is used when both the response variable and the explanatory variable are numerical. Often they are also continuous. \n",
    "\n",
    "But when the explanatory variables are numerical and the response variable is binary ($y$ is either 0 or 1) i.e, the response variable represents success or failure of an event, we will likely want our model to predict the probability of success. In this case, linear models are not appropriate. \n",
    "\n",
    "There are several reasons as to why. First, the linear model can predict values outside the range of 0 and 1. Second, instead of capturing the true relationship between the explanatory and response variables, the linear model goes through the middle of the data (since all the data points are either 0 or 1). \n",
    "\n",
    "This is demonstrated in the example below where we fit a linear model to the churn data."
   ]
  },
  {
   "cell_type": "code",
   "execution_count": 6,
   "metadata": {},
   "outputs": [],
   "source": [
    "mdl_churn_vs_recency_lin = smf.ols(\n",
    "    \"has_churned ~ time_since_last_purchase\", data=churn\n",
    ").fit()"
   ]
  },
  {
   "cell_type": "code",
   "execution_count": 7,
   "metadata": {},
   "outputs": [
    {
     "data": {
      "text/plain": [
       "Intercept                   0.490780\n",
       "time_since_last_purchase    0.063783\n",
       "dtype: float64"
      ]
     },
     "execution_count": 7,
     "metadata": {},
     "output_type": "execute_result"
    }
   ],
   "source": [
    "mdl_churn_vs_recency_lin.params"
   ]
  },
  {
   "cell_type": "code",
   "execution_count": 8,
   "metadata": {},
   "outputs": [],
   "source": [
    "intercept, slope = mdl_churn_vs_recency_lin.params"
   ]
  },
  {
   "cell_type": "code",
   "execution_count": 9,
   "metadata": {},
   "outputs": [
    {
     "data": {
      "image/png": "[encoded data removed]",
      "text/plain": [
       "<Figure size 640x480 with 1 Axes>"
      ]
     },
     "metadata": {},
     "output_type": "display_data"
    }
   ],
   "source": [
    "# scatterplot\n",
    "ax = sns.scatterplot(data=churn, x=\"time_since_last_purchase\", y=\"has_churned\")\n",
    "\n",
    "# axline is used rather than sns dot regplot so the line isn't limited to the extent of the data\n",
    "ax.axline(xy1=(0, intercept), slope=slope)\n",
    "\n",
    "ax.set(xlim=(-10, 10), ylim=(-0.2, 1.2))\n",
    "\n",
    "plt.show()"
   ]
  },
  {
   "cell_type": "markdown",
   "metadata": {},
   "source": [
    "All the churn values are zero or one, but the model predictions are fractional. You can think of the predictions as being probabilities that the customer will churn. But the main problem is that the predictions are not constrained to be between zero and one. The plot above shows that the predictions are negative for some customers and exceeds one for some others."
   ]
  },
  {
   "cell_type": "markdown",
   "metadata": {},
   "source": [
    "In cases such as this we use a **logistic regression** model. The logistic regression model is a generalized linear model that uses the logistic function to model a binary response variable."
   ]
  },
  {
   "cell_type": "markdown",
   "metadata": {},
   "source": [
    "Logistic regression is a statistical model that can be used to predict the probability of a binary outcome. It is a popular machine learning algorithm that is used in a variety of applications, such as spam filtering, fraud detection, and medical diagnosis.\n",
    "\n",
    "Logistic regression works by fitting a logistic function to the data. The logistic function is a sigmoid function that takes a real number as input and outputs a probability value between 0 and 1."
   ]
  },
  {
   "cell_type": "markdown",
   "metadata": {},
   "source": [
    "The logistic function is \"S\" shaped whereas the linear function is a straight line."
   ]
  },
  {
   "cell_type": "markdown",
   "metadata": {},
   "source": [
    "> To create a logistic regression model we use the `statsmodels.formula.api.logit` function. The syntax is similar to that of the `ols` function. The response variable is specified on the left side of the `~` symbol and the explanatory variables are specified on the right side. The `data` argument is used to specify the data frame that contains the variables. To fit/train the model we use the `fit` method."
   ]
  },
  {
   "cell_type": "code",
   "execution_count": 10,
   "metadata": {},
   "outputs": [
    {
     "name": "stdout",
     "output_type": "stream",
     "text": [
      "Optimization terminated successfully.\n",
      "         Current function value: 0.683000\n",
      "         Iterations 4\n"
     ]
    }
   ],
   "source": [
    "mdl_churn_vs_recency_logit = smf.logit(\n",
    "    \"has_churned ~ time_since_last_purchase\", data=churn\n",
    ").fit()"
   ]
  },
  {
   "cell_type": "code",
   "execution_count": 11,
   "metadata": {},
   "outputs": [
    {
     "data": {
      "text/plain": [
       "Intercept                   0.490780\n",
       "time_since_last_purchase    0.063783\n",
       "dtype: float64"
      ]
     },
     "execution_count": 11,
     "metadata": {},
     "output_type": "execute_result"
    }
   ],
   "source": [
    "mdl_churn_vs_recency_lin.params"
   ]
  },
  {
   "cell_type": "markdown",
   "metadata": {},
   "source": [
    "The model parameters has different meaning than the linear regression model parameters even though the coefficient values are the same."
   ]
  },
  {
   "cell_type": "markdown",
   "metadata": {},
   "source": [
    "To visualize the logistic regression model we can use the `sns.regplot()` function with `logistic=True`."
   ]
  },
  {
   "cell_type": "code",
   "execution_count": 12,
   "metadata": {},
   "outputs": [],
   "source": [
    "prediction_data = pd.DataFrame({\"time_since_last_purchase\": np.arange(-20, 21)})"
   ]
  },
  {
   "cell_type": "code",
   "execution_count": 13,
   "metadata": {},
   "outputs": [],
   "source": [
    "prediction_data = prediction_data.assign(\n",
    "    has_churned=mdl_churn_vs_recency_logit.predict(\n",
    "        prediction_data.time_since_last_purchase\n",
    "    )\n",
    ")"
   ]
  },
  {
   "cell_type": "code",
   "execution_count": 14,
   "metadata": {},
   "outputs": [
    {
     "data": {
      "text/html": [
       "<div>\n",
       "<style scoped>\n",
       "    .dataframe tbody tr th:only-of-type {\n",
       "        vertical-align: middle;\n",
       "    }\n",
       "\n",
       "    .dataframe tbody tr th {\n",
       "        vertical-align: top;\n",
       "    }\n",
       "\n",
       "    .dataframe thead th {\n",
       "        text-align: right;\n",
       "    }\n",
       "</style>\n",
       "<table border=\"1\" class=\"dataframe\">\n",
       "  <thead>\n",
       "    <tr style=\"text-align: right;\">\n",
       "      <th></th>\n",
       "      <th>time_since_last_purchase</th>\n",
       "      <th>has_churned</th>\n",
       "    </tr>\n",
       "  </thead>\n",
       "  <tbody>\n",
       "    <tr>\n",
       "      <th>0</th>\n",
       "      <td>-20</td>\n",
       "      <td>0.004411</td>\n",
       "    </tr>\n",
       "    <tr>\n",
       "      <th>1</th>\n",
       "      <td>-19</td>\n",
       "      <td>0.005765</td>\n",
       "    </tr>\n",
       "  </tbody>\n",
       "</table>\n",
       "</div>"
      ],
      "text/plain": [
       "   time_since_last_purchase  has_churned\n",
       "0                       -20     0.004411\n",
       "1                       -19     0.005765"
      ]
     },
     "execution_count": 14,
     "metadata": {},
     "output_type": "execute_result"
    }
   ],
   "source": [
    "prediction_data.head(2)"
   ]
  },
  {
   "cell_type": "code",
   "execution_count": 15,
   "metadata": {},
   "outputs": [
    {
     "data": {
      "text/html": [
       "<div>\n",
       "<style scoped>\n",
       "    .dataframe tbody tr th:only-of-type {\n",
       "        vertical-align: middle;\n",
       "    }\n",
       "\n",
       "    .dataframe tbody tr th {\n",
       "        vertical-align: top;\n",
       "    }\n",
       "\n",
       "    .dataframe thead th {\n",
       "        text-align: right;\n",
       "    }\n",
       "</style>\n",
       "<table border=\"1\" class=\"dataframe\">\n",
       "  <thead>\n",
       "    <tr style=\"text-align: right;\">\n",
       "      <th></th>\n",
       "      <th>time_since_last_purchase</th>\n",
       "      <th>has_churned</th>\n",
       "    </tr>\n",
       "  </thead>\n",
       "  <tbody>\n",
       "    <tr>\n",
       "      <th>39</th>\n",
       "      <td>19</td>\n",
       "      <td>0.993819</td>\n",
       "    </tr>\n",
       "    <tr>\n",
       "      <th>40</th>\n",
       "      <td>20</td>\n",
       "      <td>0.995271</td>\n",
       "    </tr>\n",
       "  </tbody>\n",
       "</table>\n",
       "</div>"
      ],
      "text/plain": [
       "    time_since_last_purchase  has_churned\n",
       "39                        19     0.993819\n",
       "40                        20     0.995271"
      ]
     },
     "execution_count": 15,
     "metadata": {},
     "output_type": "execute_result"
    }
   ],
   "source": [
    "prediction_data.tail(2)"
   ]
  },
  {
   "cell_type": "code",
   "execution_count": 16,
   "metadata": {},
   "outputs": [
    {
     "data": {
      "image/png": "[encoded data removed]",
      "text/plain": [
       "<Figure size 640x480 with 1 Axes>"
      ]
     },
     "metadata": {},
     "output_type": "display_data"
    }
   ],
   "source": [
    "ax = sns.regplot(\n",
    "    data=churn,\n",
    "    x=\"time_since_last_purchase\",\n",
    "    y=\"has_churned\",\n",
    "    ci=None,\n",
    "    logistic=True,\n",
    "    line_kws=({\"color\": \"black\", \"linewidth\": 5}),\n",
    ")\n",
    "# full length sigmoid function overlaid on the regplot\n",
    "sns.lineplot(x=\"time_since_last_purchase\", y=\"has_churned\", data=prediction_data, ax=ax)\n",
    "# linear regression line overlaid on the regplot\n",
    "ax.axline(xy1=(0, intercept), slope=slope, color=\"yellow\")\n",
    "\n",
    "ax.set(xlim=(-20, 20), ylim=(-0.2, 1.2))\n",
    "plt.show()"
   ]
  },
  {
   "cell_type": "markdown",
   "metadata": {},
   "source": [
    "The logistic regression curve never goes below zero or above one. To interpret this curve, when the standardized time since last purchase is very small, the probability of churning is close to zero. When the time since last purchase is very high, the probability is close to one. That is, customers who recently bought things are less likely to churn. "
   ]
  },
  {
   "cell_type": "markdown",
   "metadata": {},
   "source": [
    "### <a id='toc2_1_'></a>[Representing the logistic regression prediction on different scales](#toc0_)"
   ]
  },
  {
   "cell_type": "code",
   "execution_count": 17,
   "metadata": {},
   "outputs": [],
   "source": [
    "prediction_data = pd.DataFrame({\"time_since_last_purchase\": np.arange(-5, 10, 0.25)})\n",
    "prediction_data = prediction_data.assign(\n",
    "    has_churned=mdl_churn_vs_recency_logit.predict(\n",
    "        prediction_data.time_since_last_purchase\n",
    "    )\n",
    ")"
   ]
  },
  {
   "cell_type": "markdown",
   "metadata": {},
   "source": [
    "#### <a id='toc2_1_1_'></a>[-> Expressing the prediction as a probability](#toc0_)"
   ]
  },
  {
   "cell_type": "markdown",
   "metadata": {},
   "source": [
    "We've already seen this in the previous sections."
   ]
  },
  {
   "cell_type": "code",
   "execution_count": 18,
   "metadata": {},
   "outputs": [
    {
     "data": {
      "text/plain": [
       "<Axes: xlabel='time_since_last_purchase', ylabel='has_churned'>"
      ]
     },
     "execution_count": 18,
     "metadata": {},
     "output_type": "execute_result"
    },
    {
     "data": {
      "image/png": "[encoded data removed]",
      "text/plain": [
       "<Figure size 640x480 with 1 Axes>"
      ]
     },
     "metadata": {},
     "output_type": "display_data"
    }
   ],
   "source": [
    "sns.lineplot(\n",
    "    data=prediction_data, x=\"time_since_last_purchase\", y=\"has_churned\", linestyle=\"--\"\n",
    ")"
   ]
  },
  {
   "cell_type": "markdown",
   "metadata": {},
   "source": [
    "#### <a id='toc2_1_2_'></a>[-> Expressing the prediction as most likely outcome](#toc0_)"
   ]
  },
  {
   "cell_type": "markdown",
   "metadata": {},
   "source": [
    "This is nothing but rounding the probability to the nearest integer."
   ]
  },
  {
   "cell_type": "code",
   "execution_count": 19,
   "metadata": {},
   "outputs": [],
   "source": [
    "prediction_data[\"most_likely_outcome\"] = np.round(prediction_data[\"has_churned\"])"
   ]
  },
  {
   "cell_type": "code",
   "execution_count": 20,
   "metadata": {},
   "outputs": [
    {
     "data": {
      "image/png": "[encoded data removed]",
      "text/plain": [
       "<Figure size 640x480 with 1 Axes>"
      ]
     },
     "metadata": {},
     "output_type": "display_data"
    }
   ],
   "source": [
    "sns.regplot(\n",
    "    data=churn, x=\"time_since_last_purchase\", y=\"has_churned\", ci=None, logistic=True\n",
    ")\n",
    "\n",
    "sns.scatterplot(\n",
    "    data=prediction_data,\n",
    "    x=\"time_since_last_purchase\",\n",
    "    y=\"most_likely_outcome\",\n",
    "    color=\"red\",\n",
    ")\n",
    "plt.show()"
   ]
  },
  {
   "cell_type": "markdown",
   "metadata": {},
   "source": [
    "#### <a id='toc2_1_3_'></a>[-> Odds ratio](#toc0_)"
   ]
  },
  {
   "cell_type": "markdown",
   "metadata": {},
   "source": [
    "There is another way to talk about binary responses, commonly used in gambling. \n",
    "\n",
    "The odds ratio is the probability that something happens, divided by the probability that it doesn't. \n",
    "\n",
    "$$ Odds\\ ratio  = \\frac{probability\\ of \\ success}{1 - probability\\ of\\ success}$$\n",
    "\n",
    "For example, a probability of 0.25 is the same as the odds of \"three to one against\", because the probability of the event not happening is 0.75, which is three times as much."
   ]
  },
  {
   "cell_type": "markdown",
   "metadata": {},
   "source": [
    "Odds ratios provide an alternative to probabilities that make it easier to compare positive and negative responses."
   ]
  },
  {
   "cell_type": "code",
   "execution_count": 21,
   "metadata": {},
   "outputs": [],
   "source": [
    "prediction_data[\"odds_ratio\"] = prediction_data[\"has_churned\"] / (\n",
    "    1 - prediction_data[\"has_churned\"]\n",
    ")"
   ]
  },
  {
   "cell_type": "code",
   "execution_count": 22,
   "metadata": {},
   "outputs": [
    {
     "data": {
      "image/png": "[encoded data removed]",
      "text/plain": [
       "<Figure size 640x480 with 1 Axes>"
      ]
     },
     "metadata": {},
     "output_type": "display_data"
    }
   ],
   "source": [
    "ax = sns.lineplot(data=prediction_data, x=\"time_since_last_purchase\", y=\"odds_ratio\")\n",
    "ax.axhline(y=1, linestyle=\":\")\n",
    "ax.set(ylabel=\"odds_ratio (likelihood of churning against not churning)\")\n",
    "plt.show()"
   ]
  },
  {
   "cell_type": "markdown",
   "metadata": {},
   "source": [
    "Here, the dotted line (where the odds ratio = 1) indicates where churning is just as likely as not churning (as, odds ratio = probability of success / probability of failure). Ironically here, success is churning, and failure is not churning.\n",
    "\n",
    "In the bottom-left, the predictions are below one, so the chance of churning is less than the chance of not churning. In the top-right, the chance of churning is about 13 times more than the chance of not churning."
   ]
  },
  {
   "cell_type": "markdown",
   "metadata": {},
   "source": [
    "#### <a id='toc2_1_4_'></a>[-> Log odds ratio](#toc0_)"
   ]
  },
  {
   "cell_type": "markdown",
   "metadata": {},
   "source": [
    "One nice property of logistic regression odds ratios is that on a log-scale, they change linearly with the explanatory variable. The linear relationship between predicted log odds ratio and the explanatory variable makes changes easier to reason about."
   ]
  },
  {
   "cell_type": "code",
   "execution_count": 23,
   "metadata": {},
   "outputs": [],
   "source": [
    "prediction_data[\"log_odds_ratio\"] = np.log(prediction_data[\"odds_ratio\"])"
   ]
  },
  {
   "cell_type": "code",
   "execution_count": 24,
   "metadata": {},
   "outputs": [
    {
     "data": {
      "image/png": "[encoded data removed]",
      "text/plain": [
       "<Figure size 640x480 with 1 Axes>"
      ]
     },
     "metadata": {},
     "output_type": "display_data"
    }
   ],
   "source": [
    "ax = sns.lineplot(data=prediction_data, x=\"time_since_last_purchase\", y=\"odds_ratio\")\n",
    "ax.axhline(y=1, linestyle=\":\")\n",
    "ax.set(yscale=\"log\", ylabel=\"log odds_ratio\")\n",
    "plt.show()"
   ]
  },
  {
   "cell_type": "code",
   "execution_count": 25,
   "metadata": {},
   "outputs": [
    {
     "data": {
      "text/html": [
       "<div>\n",
       "<style scoped>\n",
       "    .dataframe tbody tr th:only-of-type {\n",
       "        vertical-align: middle;\n",
       "    }\n",
       "\n",
       "    .dataframe tbody tr th {\n",
       "        vertical-align: top;\n",
       "    }\n",
       "\n",
       "    .dataframe thead th {\n",
       "        text-align: right;\n",
       "    }\n",
       "</style>\n",
       "<table border=\"1\" class=\"dataframe\">\n",
       "  <thead>\n",
       "    <tr style=\"text-align: right;\">\n",
       "      <th></th>\n",
       "      <th>time_since_last_purchase</th>\n",
       "      <th>has_churned</th>\n",
       "      <th>most_likely_outcome</th>\n",
       "      <th>odds_ratio</th>\n",
       "      <th>log_odds_ratio</th>\n",
       "    </tr>\n",
       "  </thead>\n",
       "  <tbody>\n",
       "    <tr>\n",
       "      <th>0</th>\n",
       "      <td>-5.00</td>\n",
       "      <td>0.200833</td>\n",
       "      <td>0.0</td>\n",
       "      <td>0.251303</td>\n",
       "      <td>-1.381094</td>\n",
       "    </tr>\n",
       "    <tr>\n",
       "      <th>1</th>\n",
       "      <td>-4.75</td>\n",
       "      <td>0.211853</td>\n",
       "      <td>0.0</td>\n",
       "      <td>0.268799</td>\n",
       "      <td>-1.313790</td>\n",
       "    </tr>\n",
       "    <tr>\n",
       "      <th>2</th>\n",
       "      <td>-4.50</td>\n",
       "      <td>0.223309</td>\n",
       "      <td>0.0</td>\n",
       "      <td>0.287513</td>\n",
       "      <td>-1.246487</td>\n",
       "    </tr>\n",
       "    <tr>\n",
       "      <th>3</th>\n",
       "      <td>-4.25</td>\n",
       "      <td>0.235199</td>\n",
       "      <td>0.0</td>\n",
       "      <td>0.307530</td>\n",
       "      <td>-1.179183</td>\n",
       "    </tr>\n",
       "    <tr>\n",
       "      <th>4</th>\n",
       "      <td>-4.00</td>\n",
       "      <td>0.247521</td>\n",
       "      <td>0.0</td>\n",
       "      <td>0.328940</td>\n",
       "      <td>-1.111879</td>\n",
       "    </tr>\n",
       "  </tbody>\n",
       "</table>\n",
       "</div>"
      ],
      "text/plain": [
       "   time_since_last_purchase  has_churned  most_likely_outcome  odds_ratio  \\\n",
       "0                     -5.00     0.200833                  0.0    0.251303   \n",
       "1                     -4.75     0.211853                  0.0    0.268799   \n",
       "2                     -4.50     0.223309                  0.0    0.287513   \n",
       "3                     -4.25     0.235199                  0.0    0.307530   \n",
       "4                     -4.00     0.247521                  0.0    0.328940   \n",
       "\n",
       "   log_odds_ratio  \n",
       "0       -1.381094  \n",
       "1       -1.313790  \n",
       "2       -1.246487  \n",
       "3       -1.179183  \n",
       "4       -1.111879  "
      ]
     },
     "execution_count": 25,
     "metadata": {},
     "output_type": "execute_result"
    }
   ],
   "source": [
    "prediction_data.head()"
   ]
  },
  {
   "cell_type": "markdown",
   "metadata": {},
   "source": [
    "#### <a id='toc2_1_5_'></a>[-> Comparing scales](#toc0_)"
   ]
  },
  {
   "cell_type": "markdown",
   "metadata": {},
   "source": [
    "Scale | Are values easy to interpret? | Are changes easy to interpret? | Is precise\n",
    "------|-------------------------------|--------------------------------|------------\n",
    "Probability | Yes | No | Yes\n",
    "Most likely outcome | Yes | Yes | No\n",
    "Odds ratio | Yes | No | Yes\n",
    "Log odds ratio | No | Yes | Yes"
   ]
  },
  {
   "cell_type": "markdown",
   "metadata": {},
   "source": [
    "### <a id='toc2_2_'></a>[Quantifying logistic regression model fit](#toc0_)"
   ]
  },
  {
   "cell_type": "markdown",
   "metadata": {},
   "source": [
    "The use of evaluation metrics is crucial in verifying that the model is functioning properly and appropriately. Some of the metrics that are commonly used for evaluating a logistic regression model are discussed below. "
   ]
  },
  {
   "cell_type": "markdown",
   "metadata": {},
   "source": [
    "#### <a id='toc2_2_1_'></a>[-> Confusion matrix](#toc0_)"
   ]
  },
  {
   "cell_type": "markdown",
   "metadata": {},
   "source": [
    "**Confusion matrix:** A confusion matrix is a table that visualizes the performance of a classification/logistic regression model by comparing the predicted classes with the actual classes. A confusion matrix has four main components: *True Positives (TP), True Negatives (TN), False Positives (FP), and False Negatives (FN)*."
   ]
  },
  {
   "cell_type": "markdown",
   "metadata": {},
   "source": [
    "The confusion matrix allows one to assess the model's performance by analyzing these four components. The confusion matrix acts as the foundation for various other evaluation metrics such as accuracy, precision, recall, F1 score etc. "
   ]
  },
  {
   "cell_type": "markdown",
   "metadata": {},
   "source": [
    "For a simple logistic regression model, the 4 components of the confusion matrix are also the 4 possible outcomes of the model. \n",
    "\n",
    "\" \"  | Predicted False | Predicted True\n",
    "----|----------------|---------------\n",
    "**Actual False** | True Negative (TN) | False Positive (FP)\n",
    "**Actual True** | False Negative (FN) | True Positive (TP)"
   ]
  },
  {
   "cell_type": "markdown",
   "metadata": {},
   "source": [
    "- Getting the confusion matrix elements manually -"
   ]
  },
  {
   "cell_type": "code",
   "execution_count": 26,
   "metadata": {},
   "outputs": [],
   "source": [
    "# in a logistic regression model to get the predictions on the original data\n",
    "# call .predict() with no arguments and then get the rounded values\n",
    "churn[\"has_churned_predictions\"] = np.round(mdl_churn_vs_recency_logit.predict())"
   ]
  },
  {
   "cell_type": "code",
   "execution_count": 27,
   "metadata": {},
   "outputs": [
    {
     "data": {
      "text/plain": [
       "has_churned  has_churned_predictions\n",
       "0            0.0                        141\n",
       "             1.0                         59\n",
       "1            0.0                        111\n",
       "             1.0                         89\n",
       "dtype: int64"
      ]
     },
     "execution_count": 27,
     "metadata": {},
     "output_type": "execute_result"
    }
   ],
   "source": [
    "churn.groupby([\"has_churned\", \"has_churned_predictions\"]).size()"
   ]
  },
  {
   "cell_type": "markdown",
   "metadata": {},
   "source": [
    "- Get the confusion matrix elements using the `fitted_logit_model.pred_table()` method."
   ]
  },
  {
   "cell_type": "code",
   "execution_count": 28,
   "metadata": {},
   "outputs": [],
   "source": [
    "churn_logit_cnf = mdl_churn_vs_recency_logit.pred_table()"
   ]
  },
  {
   "cell_type": "code",
   "execution_count": 29,
   "metadata": {},
   "outputs": [
    {
     "data": {
      "text/plain": [
       "array([[141.,  59.],\n",
       "       [111.,  89.]])"
      ]
     },
     "execution_count": 29,
     "metadata": {},
     "output_type": "execute_result"
    }
   ],
   "source": [
    "churn_logit_cnf"
   ]
  },
  {
   "cell_type": "markdown",
   "metadata": {},
   "source": [
    "- Visualizing the confusion matrix using the `sns.heatmap()` function with `annot=True`."
   ]
  },
  {
   "cell_type": "code",
   "execution_count": 30,
   "metadata": {},
   "outputs": [
    {
     "data": {
      "text/plain": [
       "<Axes: >"
      ]
     },
     "execution_count": 30,
     "metadata": {},
     "output_type": "execute_result"
    },
    {
     "data": {
      "image/png": "[encoded data removed]",
      "text/plain": [
       "<Figure size 640x480 with 2 Axes>"
      ]
     },
     "metadata": {},
     "output_type": "display_data"
    }
   ],
   "source": [
    "sns.heatmap(churn_logit_cnf, annot=True, fmt=\"\")"
   ]
  },
  {
   "cell_type": "markdown",
   "metadata": {},
   "source": [
    "- Visualizing the confusion matrix using the `statsmodels.graphics.mosaicplot.mosaic()` function."
   ]
  },
  {
   "cell_type": "code",
   "execution_count": 31,
   "metadata": {},
   "outputs": [
    {
     "data": {
      "image/png": "[encoded data removed]",
      "text/plain": [
       "<Figure size 640x480 with 3 Axes>"
      ]
     },
     "metadata": {},
     "output_type": "display_data"
    }
   ],
   "source": [
    "# Import mosaic from statsmodels.graphics.mosaicplot\n",
    "from statsmodels.graphics.mosaicplot import mosaic\n",
    "\n",
    "# Draw a mosaic plot of conf_matrix\n",
    "mosaic(churn_logit_cnf)\n",
    "plt.show()"
   ]
  },
  {
   "cell_type": "markdown",
   "metadata": {},
   "source": [
    "#### <a id='toc2_2_2_'></a>[-> Accuracy](#toc0_)"
   ]
  },
  {
   "cell_type": "markdown",
   "metadata": {},
   "source": [
    "**Accuracy:** Accuracy is a commonly used metric that measures the overall correctness of a model's predictions.\n",
    "$$Accuracy = (TP + TN) / (TP + TN + FP + FN)$$\n"
   ]
  },
  {
   "cell_type": "code",
   "execution_count": 32,
   "metadata": {},
   "outputs": [],
   "source": [
    "TN, FN, FP, TP = (\n",
    "    churn_logit_cnf[0, 0],\n",
    "    churn_logit_cnf[0, 1],\n",
    "    churn_logit_cnf[1, 0],\n",
    "    churn_logit_cnf[1, 1],\n",
    ")"
   ]
  },
  {
   "cell_type": "code",
   "execution_count": 33,
   "metadata": {},
   "outputs": [],
   "source": [
    "churn_logit_acc = (TP + TN) / (TP + TN + FP + FN)"
   ]
  },
  {
   "cell_type": "code",
   "execution_count": 34,
   "metadata": {},
   "outputs": [
    {
     "data": {
      "text/plain": [
       "0.575"
      ]
     },
     "execution_count": 34,
     "metadata": {},
     "output_type": "execute_result"
    }
   ],
   "source": [
    "churn_logit_acc"
   ]
  },
  {
   "cell_type": "markdown",
   "metadata": {},
   "source": [
    "#### <a id='toc2_2_3_'></a>[-> Precision](#toc0_)"
   ]
  },
  {
   "cell_type": "markdown",
   "metadata": {},
   "source": [
    "**Precision:** the proportion of *correctly predicted positive* instances *out of all instances predicted as positive*. It is a useful metric when the cost of false positives is high.\n",
    "$$Precision = TP / (TP + FP)$$\n"
   ]
  },
  {
   "cell_type": "code",
   "execution_count": 35,
   "metadata": {},
   "outputs": [],
   "source": [
    "churn_logit_pre = TP / (TP + FP)"
   ]
  },
  {
   "cell_type": "code",
   "execution_count": 36,
   "metadata": {},
   "outputs": [
    {
     "data": {
      "text/plain": [
       "0.445"
      ]
     },
     "execution_count": 36,
     "metadata": {},
     "output_type": "execute_result"
    }
   ],
   "source": [
    "churn_logit_pre"
   ]
  },
  {
   "cell_type": "markdown",
   "metadata": {},
   "source": [
    "#### <a id='toc2_2_4_'></a>[-> Recall/Sensitivity](#toc0_)"
   ]
  },
  {
   "cell_type": "markdown",
   "metadata": {},
   "source": [
    "**Recall/Sensitivity:** measures the proportion of *correctly predicted positive* instances *out of all actual positive* instances. It is particularly useful when the cost of false negatives is high.\n",
    "$$Recall = TP / (TP + FN) $$\n"
   ]
  },
  {
   "cell_type": "code",
   "execution_count": 37,
   "metadata": {},
   "outputs": [],
   "source": [
    "churn_logit_sen = TP / (TP + FN)"
   ]
  },
  {
   "cell_type": "code",
   "execution_count": 38,
   "metadata": {},
   "outputs": [
    {
     "data": {
      "text/plain": [
       "0.6013513513513513"
      ]
     },
     "execution_count": 38,
     "metadata": {},
     "output_type": "execute_result"
    }
   ],
   "source": [
    "churn_logit_sen"
   ]
  },
  {
   "cell_type": "markdown",
   "metadata": {},
   "source": [
    "#### <a id='toc2_2_5_'></a>[-> Specificity](#toc0_)"
   ]
  },
  {
   "cell_type": "markdown",
   "metadata": {},
   "source": [
    "**Specificity:** measures the proportion of *correctly predicted negative* instances *out of all actual negative* instances.\n",
    "$$Specificity = TN / (TN + FP) $$"
   ]
  },
  {
   "cell_type": "code",
   "execution_count": 39,
   "metadata": {},
   "outputs": [],
   "source": [
    "churn_logit_spe = TN / (TN + FP)"
   ]
  },
  {
   "cell_type": "code",
   "execution_count": 40,
   "metadata": {},
   "outputs": [
    {
     "data": {
      "text/plain": [
       "0.5595238095238095"
      ]
     },
     "execution_count": 40,
     "metadata": {},
     "output_type": "execute_result"
    }
   ],
   "source": [
    "churn_logit_spe"
   ]
  },
  {
   "cell_type": "markdown",
   "metadata": {},
   "source": [
    "#### <a id='toc2_2_6_'></a>[-> F1 score](#toc0_)"
   ]
  },
  {
   "cell_type": "markdown",
   "metadata": {},
   "source": [
    "**F1 score:** the harmonic mean of precision and recall. It is a useful metric when the classes are imbalanced.\n",
    "$$F1\\ score = 2 * (Precision * Recall) / (Precision + Recall)$$"
   ]
  },
  {
   "cell_type": "code",
   "execution_count": 41,
   "metadata": {},
   "outputs": [],
   "source": [
    "churn_logit_f1 = (\n",
    "    2 * (churn_logit_pre * churn_logit_sen) / (churn_logit_pre + churn_logit_sen)\n",
    ")"
   ]
  },
  {
   "cell_type": "code",
   "execution_count": 42,
   "metadata": {},
   "outputs": [
    {
     "data": {
      "text/plain": [
       "0.5114942528735632"
      ]
     },
     "execution_count": 42,
     "metadata": {},
     "output_type": "execute_result"
    }
   ],
   "source": [
    "churn_logit_f1"
   ]
  },
  {
   "cell_type": "code",
   "execution_count": null,
   "metadata": {},
   "outputs": [],
   "source": []
  }
 ],
 "metadata": {
  "kernelspec": {
   "display_name": "ml_intro",
   "language": "python",
   "name": "python3"
  },
  "language_info": {
   "codemirror_mode": {
    "name": "ipython",
    "version": 3
   },
   "file_extension": ".py",
   "mimetype": "text/x-python",
   "name": "python",
   "nbconvert_exporter": "python",
   "pygments_lexer": "ipython3",
   "version": "3.11.6"
  }
 },
 "nbformat": 4,
 "nbformat_minor": 2
}
