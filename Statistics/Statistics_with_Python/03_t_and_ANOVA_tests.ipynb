{
 "cells": [
  {
   "cell_type": "markdown",
   "metadata": {},
   "source": [
    "**Table of contents**<a id='toc0_'></a>    \n",
    "- [Import statements](#toc1_1_)    \n",
    "- [Loading the datasets](#toc1_2_)    \n",
    "- [Performing **t-tests** for comparing the means across *two groups* of a variable](#toc2_)    \n",
    "  - [Independent t-test](#toc2_1_)    \n",
    "  - [Paired t-test](#toc2_2_)    \n",
    "- [ANOVA: Comparing means across multiple groups of a variable](#toc3_)    \n",
    "    - [-> Post-hoc pairwise t-tests](#toc3_1_1_)    \n",
    "      - [*Adjusting the significance level*](#toc3_1_1_1_)    \n",
    "\n",
    "<!-- vscode-jupyter-toc-config\n",
    "\tnumbering=false\n",
    "\tanchor=true\n",
    "\tflat=false\n",
    "\tminLevel=2\n",
    "\tmaxLevel=5\n",
    "\t/vscode-jupyter-toc-config -->\n",
    "<!-- THIS CELL WILL BE REPLACED ON TOC UPDATE. DO NOT WRITE YOUR TEXT IN THIS CELL -->"
   ]
  },
  {
   "cell_type": "markdown",
   "metadata": {},
   "source": [
    "### <a id='toc1_1_'></a>[Import statements](#toc0_)"
   ]
  },
  {
   "cell_type": "code",
   "execution_count": 1,
   "metadata": {},
   "outputs": [],
   "source": [
    "import warnings\n",
    "\n",
    "warnings.filterwarnings(\"ignore\")"
   ]
  },
  {
   "cell_type": "code",
   "execution_count": 2,
   "metadata": {},
   "outputs": [],
   "source": [
    "import numpy as np\n",
    "import pandas as pd\n",
    "import matplotlib.pyplot as plt\n",
    "import seaborn as sns"
   ]
  },
  {
   "cell_type": "code",
   "execution_count": 3,
   "metadata": {},
   "outputs": [],
   "source": [
    "from scipy.stats import norm"
   ]
  },
  {
   "cell_type": "code",
   "execution_count": 4,
   "metadata": {},
   "outputs": [],
   "source": [
    "from numpy.random import default_rng\n",
    "\n",
    "rng = default_rng(seed=328)"
   ]
  },
  {
   "cell_type": "markdown",
   "metadata": {},
   "source": [
    "### <a id='toc1_2_'></a>[Loading the datasets](#toc0_)"
   ]
  },
  {
   "cell_type": "markdown",
   "metadata": {},
   "source": [
    "- The *\"late_shipments\"* dataset contains supply chain data on the delivery of medical supplies. Each row represents one delivery of a part. The \"late\" column denotes whether or not the part was delivered late. A value of \"Yes\" means that the part was delivered late, and a value of \"No\" means the part was delivered on time."
   ]
  },
  {
   "cell_type": "code",
   "execution_count": 5,
   "metadata": {},
   "outputs": [],
   "source": [
    "late_shipments = pd.read_feather(\"./datasets/late_shipments.feather\")"
   ]
  },
  {
   "cell_type": "code",
   "execution_count": 6,
   "metadata": {},
   "outputs": [
    {
     "data": {
      "text/html": [
       "<div>\n",
       "<style scoped>\n",
       "    .dataframe tbody tr th:only-of-type {\n",
       "        vertical-align: middle;\n",
       "    }\n",
       "\n",
       "    .dataframe tbody tr th {\n",
       "        vertical-align: top;\n",
       "    }\n",
       "\n",
       "    .dataframe thead th {\n",
       "        text-align: right;\n",
       "    }\n",
       "</style>\n",
       "<table border=\"1\" class=\"dataframe\">\n",
       "  <thead>\n",
       "    <tr style=\"text-align: right;\">\n",
       "      <th></th>\n",
       "      <th>id</th>\n",
       "      <th>country</th>\n",
       "      <th>managed_by</th>\n",
       "      <th>fulfill_via</th>\n",
       "      <th>vendor_inco_term</th>\n",
       "      <th>shipment_mode</th>\n",
       "      <th>late_delivery</th>\n",
       "      <th>late</th>\n",
       "      <th>product_group</th>\n",
       "      <th>sub_classification</th>\n",
       "      <th>...</th>\n",
       "      <th>line_item_quantity</th>\n",
       "      <th>line_item_value</th>\n",
       "      <th>pack_price</th>\n",
       "      <th>unit_price</th>\n",
       "      <th>manufacturing_site</th>\n",
       "      <th>first_line_designation</th>\n",
       "      <th>weight_kilograms</th>\n",
       "      <th>freight_cost_usd</th>\n",
       "      <th>freight_cost_groups</th>\n",
       "      <th>line_item_insurance_usd</th>\n",
       "    </tr>\n",
       "  </thead>\n",
       "  <tbody>\n",
       "    <tr>\n",
       "      <th>0</th>\n",
       "      <td>36203.0</td>\n",
       "      <td>Nigeria</td>\n",
       "      <td>PMO - US</td>\n",
       "      <td>Direct Drop</td>\n",
       "      <td>EXW</td>\n",
       "      <td>Air</td>\n",
       "      <td>1.0</td>\n",
       "      <td>Yes</td>\n",
       "      <td>HRDT</td>\n",
       "      <td>HIV test</td>\n",
       "      <td>...</td>\n",
       "      <td>2996.0</td>\n",
       "      <td>266644.00</td>\n",
       "      <td>89.00</td>\n",
       "      <td>0.89</td>\n",
       "      <td>Alere Medical Co., Ltd.</td>\n",
       "      <td>Yes</td>\n",
       "      <td>1426.0</td>\n",
       "      <td>33279.83</td>\n",
       "      <td>expensive</td>\n",
       "      <td>373.83</td>\n",
       "    </tr>\n",
       "    <tr>\n",
       "      <th>1</th>\n",
       "      <td>30998.0</td>\n",
       "      <td>Botswana</td>\n",
       "      <td>PMO - US</td>\n",
       "      <td>Direct Drop</td>\n",
       "      <td>EXW</td>\n",
       "      <td>Air</td>\n",
       "      <td>0.0</td>\n",
       "      <td>No</td>\n",
       "      <td>HRDT</td>\n",
       "      <td>HIV test</td>\n",
       "      <td>...</td>\n",
       "      <td>25.0</td>\n",
       "      <td>800.00</td>\n",
       "      <td>32.00</td>\n",
       "      <td>1.60</td>\n",
       "      <td>Trinity Biotech, Plc</td>\n",
       "      <td>Yes</td>\n",
       "      <td>10.0</td>\n",
       "      <td>559.89</td>\n",
       "      <td>reasonable</td>\n",
       "      <td>1.72</td>\n",
       "    </tr>\n",
       "    <tr>\n",
       "      <th>2</th>\n",
       "      <td>69871.0</td>\n",
       "      <td>Vietnam</td>\n",
       "      <td>PMO - US</td>\n",
       "      <td>Direct Drop</td>\n",
       "      <td>EXW</td>\n",
       "      <td>Air</td>\n",
       "      <td>0.0</td>\n",
       "      <td>No</td>\n",
       "      <td>ARV</td>\n",
       "      <td>Adult</td>\n",
       "      <td>...</td>\n",
       "      <td>22925.0</td>\n",
       "      <td>110040.00</td>\n",
       "      <td>4.80</td>\n",
       "      <td>0.08</td>\n",
       "      <td>Hetero Unit III Hyderabad IN</td>\n",
       "      <td>Yes</td>\n",
       "      <td>3723.0</td>\n",
       "      <td>19056.13</td>\n",
       "      <td>expensive</td>\n",
       "      <td>181.57</td>\n",
       "    </tr>\n",
       "    <tr>\n",
       "      <th>3</th>\n",
       "      <td>17648.0</td>\n",
       "      <td>South Africa</td>\n",
       "      <td>PMO - US</td>\n",
       "      <td>Direct Drop</td>\n",
       "      <td>DDP</td>\n",
       "      <td>Ocean</td>\n",
       "      <td>0.0</td>\n",
       "      <td>No</td>\n",
       "      <td>ARV</td>\n",
       "      <td>Adult</td>\n",
       "      <td>...</td>\n",
       "      <td>152535.0</td>\n",
       "      <td>361507.95</td>\n",
       "      <td>2.37</td>\n",
       "      <td>0.04</td>\n",
       "      <td>Aurobindo Unit III, India</td>\n",
       "      <td>Yes</td>\n",
       "      <td>7698.0</td>\n",
       "      <td>11372.23</td>\n",
       "      <td>expensive</td>\n",
       "      <td>779.41</td>\n",
       "    </tr>\n",
       "    <tr>\n",
       "      <th>4</th>\n",
       "      <td>5647.0</td>\n",
       "      <td>Uganda</td>\n",
       "      <td>PMO - US</td>\n",
       "      <td>Direct Drop</td>\n",
       "      <td>EXW</td>\n",
       "      <td>Air</td>\n",
       "      <td>0.0</td>\n",
       "      <td>No</td>\n",
       "      <td>HRDT</td>\n",
       "      <td>HIV test - Ancillary</td>\n",
       "      <td>...</td>\n",
       "      <td>850.0</td>\n",
       "      <td>8.50</td>\n",
       "      <td>0.01</td>\n",
       "      <td>0.00</td>\n",
       "      <td>Inverness Japan</td>\n",
       "      <td>Yes</td>\n",
       "      <td>56.0</td>\n",
       "      <td>360.00</td>\n",
       "      <td>reasonable</td>\n",
       "      <td>0.01</td>\n",
       "    </tr>\n",
       "  </tbody>\n",
       "</table>\n",
       "<p>5 rows × 27 columns</p>\n",
       "</div>"
      ],
      "text/plain": [
       "        id       country managed_by  fulfill_via vendor_inco_term  \\\n",
       "0  36203.0       Nigeria   PMO - US  Direct Drop              EXW   \n",
       "1  30998.0      Botswana   PMO - US  Direct Drop              EXW   \n",
       "2  69871.0       Vietnam   PMO - US  Direct Drop              EXW   \n",
       "3  17648.0  South Africa   PMO - US  Direct Drop              DDP   \n",
       "4   5647.0        Uganda   PMO - US  Direct Drop              EXW   \n",
       "\n",
       "  shipment_mode  late_delivery late product_group    sub_classification  ...  \\\n",
       "0           Air            1.0  Yes          HRDT              HIV test  ...   \n",
       "1           Air            0.0   No          HRDT              HIV test  ...   \n",
       "2           Air            0.0   No           ARV                 Adult  ...   \n",
       "3         Ocean            0.0   No           ARV                 Adult  ...   \n",
       "4           Air            0.0   No          HRDT  HIV test - Ancillary  ...   \n",
       "\n",
       "  line_item_quantity line_item_value pack_price unit_price  \\\n",
       "0             2996.0       266644.00      89.00       0.89   \n",
       "1               25.0          800.00      32.00       1.60   \n",
       "2            22925.0       110040.00       4.80       0.08   \n",
       "3           152535.0       361507.95       2.37       0.04   \n",
       "4              850.0            8.50       0.01       0.00   \n",
       "\n",
       "             manufacturing_site first_line_designation  weight_kilograms  \\\n",
       "0       Alere Medical Co., Ltd.                    Yes            1426.0   \n",
       "1          Trinity Biotech, Plc                    Yes              10.0   \n",
       "2  Hetero Unit III Hyderabad IN                    Yes            3723.0   \n",
       "3     Aurobindo Unit III, India                    Yes            7698.0   \n",
       "4               Inverness Japan                    Yes              56.0   \n",
       "\n",
       "   freight_cost_usd  freight_cost_groups  line_item_insurance_usd  \n",
       "0          33279.83            expensive                   373.83  \n",
       "1            559.89           reasonable                     1.72  \n",
       "2          19056.13            expensive                   181.57  \n",
       "3          11372.23            expensive                   779.41  \n",
       "4            360.00           reasonable                     0.01  \n",
       "\n",
       "[5 rows x 27 columns]"
      ]
     },
     "execution_count": 6,
     "metadata": {},
     "output_type": "execute_result"
    }
   ],
   "source": [
    "late_shipments.head()"
   ]
  },
  {
   "cell_type": "code",
   "execution_count": 7,
   "metadata": {},
   "outputs": [
    {
     "name": "stdout",
     "output_type": "stream",
     "text": [
      "<class 'pandas.core.frame.DataFrame'>\n",
      "RangeIndex: 1000 entries, 0 to 999\n",
      "Data columns (total 27 columns):\n",
      " #   Column                    Non-Null Count  Dtype  \n",
      "---  ------                    --------------  -----  \n",
      " 0   id                        1000 non-null   float64\n",
      " 1   country                   1000 non-null   object \n",
      " 2   managed_by                1000 non-null   object \n",
      " 3   fulfill_via               1000 non-null   object \n",
      " 4   vendor_inco_term          1000 non-null   object \n",
      " 5   shipment_mode             1000 non-null   object \n",
      " 6   late_delivery             1000 non-null   float64\n",
      " 7   late                      1000 non-null   object \n",
      " 8   product_group             1000 non-null   object \n",
      " 9   sub_classification        1000 non-null   object \n",
      " 10  vendor                    1000 non-null   object \n",
      " 11  item_description          1000 non-null   object \n",
      " 12  molecule_test_type        1000 non-null   object \n",
      " 13  brand                     1000 non-null   object \n",
      " 14  dosage                    1000 non-null   object \n",
      " 15  dosage_form               1000 non-null   object \n",
      " 16  unit_of_measure_per_pack  1000 non-null   float64\n",
      " 17  line_item_quantity        1000 non-null   float64\n",
      " 18  line_item_value           1000 non-null   float64\n",
      " 19  pack_price                1000 non-null   float64\n",
      " 20  unit_price                1000 non-null   float64\n",
      " 21  manufacturing_site        1000 non-null   object \n",
      " 22  first_line_designation    1000 non-null   object \n",
      " 23  weight_kilograms          1000 non-null   float64\n",
      " 24  freight_cost_usd          986 non-null    float64\n",
      " 25  freight_cost_groups       986 non-null    object \n",
      " 26  line_item_insurance_usd   966 non-null    float64\n",
      "dtypes: float64(10), object(17)\n",
      "memory usage: 211.1+ KB\n"
     ]
    }
   ],
   "source": [
    "late_shipments.info()"
   ]
  },
  {
   "cell_type": "markdown",
   "metadata": {},
   "source": [
    "- The *\"dem_votes_potus_12_16\"* dataset contains the percentage of votes for the Democratic candidate in the 2012 and 2016 presidential elections for each county in the United States. The \"dem_percent_2012\" column contains the percentage of votes for the Democratic candidate in the 2012 election, and the \"dem_percent_2016\" column contains the percentage of votes for the Democratic candidate in the 2016 election."
   ]
  },
  {
   "cell_type": "code",
   "execution_count": 8,
   "metadata": {},
   "outputs": [],
   "source": [
    "sample_dem_data = pd.read_feather(\"./datasets/dem_votes_potus_12_16.feather\")"
   ]
  },
  {
   "cell_type": "code",
   "execution_count": 9,
   "metadata": {},
   "outputs": [
    {
     "data": {
      "text/html": [
       "<div>\n",
       "<style scoped>\n",
       "    .dataframe tbody tr th:only-of-type {\n",
       "        vertical-align: middle;\n",
       "    }\n",
       "\n",
       "    .dataframe tbody tr th {\n",
       "        vertical-align: top;\n",
       "    }\n",
       "\n",
       "    .dataframe thead th {\n",
       "        text-align: right;\n",
       "    }\n",
       "</style>\n",
       "<table border=\"1\" class=\"dataframe\">\n",
       "  <thead>\n",
       "    <tr style=\"text-align: right;\">\n",
       "      <th></th>\n",
       "      <th>state</th>\n",
       "      <th>county</th>\n",
       "      <th>dem_percent_12</th>\n",
       "      <th>dem_percent_16</th>\n",
       "    </tr>\n",
       "  </thead>\n",
       "  <tbody>\n",
       "    <tr>\n",
       "      <th>0</th>\n",
       "      <td>Alabama</td>\n",
       "      <td>Bullock</td>\n",
       "      <td>76.305900</td>\n",
       "      <td>74.946921</td>\n",
       "    </tr>\n",
       "    <tr>\n",
       "      <th>1</th>\n",
       "      <td>Alabama</td>\n",
       "      <td>Chilton</td>\n",
       "      <td>19.453671</td>\n",
       "      <td>15.847352</td>\n",
       "    </tr>\n",
       "    <tr>\n",
       "      <th>2</th>\n",
       "      <td>Alabama</td>\n",
       "      <td>Clay</td>\n",
       "      <td>26.673672</td>\n",
       "      <td>18.674517</td>\n",
       "    </tr>\n",
       "    <tr>\n",
       "      <th>3</th>\n",
       "      <td>Alabama</td>\n",
       "      <td>Cullman</td>\n",
       "      <td>14.661752</td>\n",
       "      <td>10.028252</td>\n",
       "    </tr>\n",
       "    <tr>\n",
       "      <th>4</th>\n",
       "      <td>Alabama</td>\n",
       "      <td>Escambia</td>\n",
       "      <td>36.915731</td>\n",
       "      <td>31.020546</td>\n",
       "    </tr>\n",
       "  </tbody>\n",
       "</table>\n",
       "</div>"
      ],
      "text/plain": [
       "     state    county  dem_percent_12  dem_percent_16\n",
       "0  Alabama   Bullock       76.305900       74.946921\n",
       "1  Alabama   Chilton       19.453671       15.847352\n",
       "2  Alabama      Clay       26.673672       18.674517\n",
       "3  Alabama   Cullman       14.661752       10.028252\n",
       "4  Alabama  Escambia       36.915731       31.020546"
      ]
     },
     "execution_count": 9,
     "metadata": {},
     "output_type": "execute_result"
    }
   ],
   "source": [
    "sample_dem_data.head()"
   ]
  },
  {
   "cell_type": "code",
   "execution_count": 10,
   "metadata": {},
   "outputs": [
    {
     "name": "stdout",
     "output_type": "stream",
     "text": [
      "<class 'pandas.core.frame.DataFrame'>\n",
      "RangeIndex: 500 entries, 0 to 499\n",
      "Data columns (total 4 columns):\n",
      " #   Column          Non-Null Count  Dtype  \n",
      "---  ------          --------------  -----  \n",
      " 0   state           500 non-null    object \n",
      " 1   county          500 non-null    object \n",
      " 2   dem_percent_12  500 non-null    float64\n",
      " 3   dem_percent_16  500 non-null    float64\n",
      "dtypes: float64(2), object(2)\n",
      "memory usage: 15.8+ KB\n"
     ]
    }
   ],
   "source": [
    "sample_dem_data.info()"
   ]
  },
  {
   "cell_type": "markdown",
   "metadata": {},
   "source": [
    "## <a id='toc2_'></a>[Performing **t-tests** for comparing the means across *two groups* of a variable](#toc0_)"
   ]
  },
  {
   "cell_type": "markdown",
   "metadata": {},
   "source": [
    "To compare the means of two groups **z-test** can be used if the population standard deviation is known. Otherwise, the **t-test** is used.\n",
    "\n",
    "**`Note:`** t-tests can only be used to compare the means of two groups of a variable and no other sample statistics."
   ]
  },
  {
   "cell_type": "markdown",
   "metadata": {},
   "source": [
    "### <a id='toc2_1_'></a>[Independent t-test](#toc0_)\n",
    "In an independent t-test, we are comparing the means of two independent groups of a variable. Here the term independent means that the two groups are not directly related to each other i.e, there are no inherent relationships between the two groups.\n",
    "\n",
    "For comparing the mean across two independent groups of a variable, we use the **two-sample t-test**. \n",
    "\n",
    "The Null Hypothesis $H_0$ is that the means of the two populations are equal i.e, $H_0: \\mu_1 = \\mu_2$.\n",
    "\n",
    "The Alternative Hypothesis $H_A$ is that the means of the two populations are not equal i.e, $H_A: \\mu_1 \\neq \\mu_2$.\n",
    "\n",
    "For comparing two different populations i.e, across two groups of a variable, we use the difference of the estimators to test the Null Hypothesis. "
   ]
  },
  {
   "cell_type": "markdown",
   "metadata": {},
   "source": [
    "The t-score is given as,\n",
    "\n",
    "$$ t = \\frac{(\\bar{x}_1 - \\bar{x}_2) - (\\mu_1 - \\mu_2)}{\\sqrt{\\frac{s_1^2}{n_1} + \\frac{s_2^2}{n_2}}} $$\n"
   ]
  },
  {
   "cell_type": "markdown",
   "metadata": {},
   "source": [
    "Assuming the Null Hypothesis is true i.e, $H_0: \\mu_1 - \\mu_2 = 0$, we can reduce the above equation to,\n",
    "\n",
    "$$ t = \\frac{\\bar{x}_1 - \\bar{x}_2}{\\sqrt{\\frac{s_1^2}{n_1} + \\frac{s_2^2}{n_2}}} $$\n"
   ]
  },
  {
   "cell_type": "markdown",
   "metadata": {},
   "source": [
    "Using a sample standard deviation to estimate the standard error is computationally easier than using bootstrapping. However, to correct for the approximation, you need to use a t-distribution when transforming the test statistic to get the p-value.\n",
    "\n",
    "The t-distribution is fairly similar to the z-distribution, but has heavier tails. The t-distribution is parameterized by the degrees of freedom, which is the number of observations in the sample minus one. As the degrees of freedom increases, the t-distribution approaches the z-distribution."
   ]
  },
  {
   "cell_type": "markdown",
   "metadata": {},
   "source": [
    "The degrees of freedom for comparing two groups of a variable is given as, $df = min(n_1 - 1, n_2 - 1)$. \n",
    "\n",
    "Using the calculated degrees of freedom, the corresponding significance level for a t-score can be found from the t-table. The t-table gives the area under the t-distribution curve to the left of a given t-score."
   ]
  },
  {
   "cell_type": "markdown",
   "metadata": {},
   "source": [
    "> Let's see how to calculate the t-score using the \"late shipments\" dataset and then we will see how to find the corresponding p-value for a t-distribution."
   ]
  },
  {
   "cell_type": "markdown",
   "metadata": {},
   "source": [
    "While trying to determine why some shipments are late, you may wonder if the weight of the shipments that were on time is less than the weight of the shipments that were late. To answer this question statistically, we can perform a t-test for the difference in means between the weights of the two groups in the \"late\" column i.e, the \"Yes\" group and the \"No\" group."
   ]
  },
  {
   "cell_type": "markdown",
   "metadata": {},
   "source": [
    "$$H_0: \\mu_{weight, on-time} - \\mu_{weight, late} = 0$$\n",
    "$$H_A: \\mu_{weight, on-time} - \\mu_{weight, late} < 0$$"
   ]
  },
  {
   "cell_type": "code",
   "execution_count": 11,
   "metadata": {},
   "outputs": [],
   "source": [
    "# First let's split the dataset into two groups\n",
    "late_yes = late_shipments[late_shipments.late == \"Yes\"]\n",
    "late_no = late_shipments[late_shipments.late == \"No\"]"
   ]
  },
  {
   "cell_type": "code",
   "execution_count": 12,
   "metadata": {},
   "outputs": [],
   "source": [
    "# Calculate sample statistics\n",
    "xbar_yes = np.mean(late_yes.weight_kilograms)\n",
    "xbar_no = np.mean(late_no.weight_kilograms)\n",
    "\n",
    "s_yes = np.std(late_yes.weight_kilograms, ddof=1)\n",
    "s_no = np.std(late_no.weight_kilograms, ddof=1)\n",
    "\n",
    "n_yes = len(late_yes)\n",
    "n_no = len(late_no)"
   ]
  },
  {
   "cell_type": "code",
   "execution_count": 13,
   "metadata": {},
   "outputs": [],
   "source": [
    "# Calculate the numerator of the test statistic\n",
    "numerator = xbar_no - xbar_yes\n",
    "\n",
    "# Calculate the denominator of the test statistic\n",
    "denominator = np.sqrt((s_yes**2 / n_yes) + (s_no**2 / n_no))\n",
    "\n",
    "# Calculate the test statistic\n",
    "t_stat = numerator / denominator"
   ]
  },
  {
   "cell_type": "code",
   "execution_count": 14,
   "metadata": {},
   "outputs": [
    {
     "name": "stdout",
     "output_type": "stream",
     "text": [
      "-2.3936661778766433\n"
     ]
    }
   ],
   "source": [
    "# Print the test statistic\n",
    "print(t_stat)"
   ]
  },
  {
   "cell_type": "code",
   "execution_count": 15,
   "metadata": {},
   "outputs": [],
   "source": [
    "# Choose a significance level\n",
    "alpha = 0.05"
   ]
  },
  {
   "cell_type": "markdown",
   "metadata": {},
   "source": [
    "We can use the `t.cdf()` function from the `scipy.stats` module to find the p-value for a given t-score. The `t.cdf()` function takes in a t-score and the degrees of freedom and returns the area under the t-distribution curve to the left of that t-score."
   ]
  },
  {
   "cell_type": "code",
   "execution_count": 16,
   "metadata": {},
   "outputs": [],
   "source": [
    "from scipy.stats import t"
   ]
  },
  {
   "cell_type": "code",
   "execution_count": 17,
   "metadata": {},
   "outputs": [],
   "source": [
    "# Find the degrees of freedom\n",
    "dof = min(n_yes - 1, n_no - 1)"
   ]
  },
  {
   "cell_type": "code",
   "execution_count": 18,
   "metadata": {},
   "outputs": [],
   "source": [
    "# Find out the p-value from the t distribution\n",
    "# This is a left tailed test\n",
    "p_value = t.cdf(t_stat, dof)"
   ]
  },
  {
   "cell_type": "code",
   "execution_count": 19,
   "metadata": {},
   "outputs": [
    {
     "name": "stdout",
     "output_type": "stream",
     "text": [
      "0.009912394311103325\n"
     ]
    }
   ],
   "source": [
    "# Print the result\n",
    "print(p_value)"
   ]
  },
  {
   "cell_type": "code",
   "execution_count": 20,
   "metadata": {},
   "outputs": [
    {
     "data": {
      "text/plain": [
       "True"
      ]
     },
     "execution_count": 20,
     "metadata": {},
     "output_type": "execute_result"
    }
   ],
   "source": [
    "p_value < alpha"
   ]
  },
  {
   "cell_type": "markdown",
   "metadata": {},
   "source": [
    "Since the calculated p-value (0.009) is less than the significance level (0.05), we reject the null hypothesis. This means that we have enough evidence to say that the weight of the shipments that were on time is less than the weight of the shipments that were late."
   ]
  },
  {
   "cell_type": "markdown",
   "metadata": {},
   "source": [
    "### <a id='toc2_2_'></a>[Paired t-test](#toc0_)"
   ]
  },
  {
   "cell_type": "markdown",
   "metadata": {},
   "source": [
    "A paired t-test is a statistical test used to compare the means of **two related groups**. \n",
    "\n",
    "It is a type of paired-samples t-test, which means that each subject or entity is measured twice, resulting in pairs of observations. \n",
    "\n",
    "Paired t-tests are often used in before-and-after studies or in studies where two different treatments are applied to the same group of subjects.\n",
    "\n",
    "The Null Hypothesis $H_0$ is that the means of the two related groups are equal i.e, $H_0: \\mu_1 = \\mu_2$.\n",
    "\n",
    "The Alternative Hypothesis $H_A$ is that the means of the two related groups are not equal i.e, $H_A: \\mu_1 \\neq \\mu_2$.\n",
    "\n",
    "For comparing two related groups, we use the difference of the variable across the two groups to test the Null Hypothesis."
   ]
  },
  {
   "cell_type": "markdown",
   "metadata": {},
   "source": [
    "The t-score is given as (assuming the Null Hypothesis is true),\n",
    "\n",
    "$$ t = \\frac{\\bar{x}_d}{\\frac{s_d}{\\sqrt{n}}} $$\n",
    "\n",
    "Where:\n",
    "- $\\bar{x}_d = \\overline{(x_1 - x_2)}$\n",
    "- $s_d$ is the sample standard deviation of the difference between the two related groups and $n$ is the sample size of the two related groups."
   ]
  },
  {
   "cell_type": "markdown",
   "metadata": {},
   "source": [
    "> We'll look at the proportion of county-level votes for the Democratic candidate in 2012 and 2016 from the  \"sample_dem_data\" dataset. Since the counties are the same in both years, these samples are paired."
   ]
  },
  {
   "cell_type": "markdown",
   "metadata": {},
   "source": [
    "Our Null Hypothesis is that the proportion of democratic votes in 2012 and 2016 were the same i.e, \n",
    "\n",
    "$$H_0: \\mu_{dem\\_percent\\_12} = \\mu_{dem\\_percent\\_16}$$\n",
    "\n",
    "And the Alternate Hypothesis is that the proportion of democratic votes in 2012 and 2016 were different i.e, \n",
    "\n",
    "$$H_A: \\mu_{dem\\_percent\\_12} \\neq \\mu_{dem\\_percent\\_16}$$"
   ]
  },
  {
   "cell_type": "code",
   "execution_count": 21,
   "metadata": {},
   "outputs": [],
   "source": [
    "# Calculate the differences from 2012 to 2016\n",
    "sample_dem_data[\"diff\"] = (\n",
    "    sample_dem_data[\"dem_percent_12\"] - sample_dem_data[\"dem_percent_16\"]\n",
    ")"
   ]
  },
  {
   "cell_type": "code",
   "execution_count": 22,
   "metadata": {},
   "outputs": [],
   "source": [
    "# Find the mean of the diff column\n",
    "xbar_diff = sample_dem_data[\"diff\"].mean()\n",
    "\n",
    "# Find the standard deviation of the diff column\n",
    "s_diff = sample_dem_data[\"diff\"].std()"
   ]
  },
  {
   "cell_type": "code",
   "execution_count": 23,
   "metadata": {},
   "outputs": [
    {
     "name": "stdout",
     "output_type": "stream",
     "text": [
      "6.829312660106834\n",
      "5.040139140132317\n"
     ]
    }
   ],
   "source": [
    "print(xbar_diff)\n",
    "print(s_diff)"
   ]
  },
  {
   "cell_type": "code",
   "execution_count": 24,
   "metadata": {},
   "outputs": [
    {
     "data": {
      "image/png": "[encoded data removed]",
      "text/plain": [
       "<Figure size 640x480 with 1 Axes>"
      ]
     },
     "metadata": {},
     "output_type": "display_data"
    }
   ],
   "source": [
    "# It's a good idea to see the distribution of the data before calculating the t-score\n",
    "# Plot a histogram of diff with 20 bins\n",
    "sample_dem_data[\"diff\"].hist(bins=20)\n",
    "plt.show()"
   ]
  },
  {
   "cell_type": "markdown",
   "metadata": {},
   "source": [
    "We can use the `pingouin.ttest()` from the `pingouin` module to perform a paired t-test. The `pingouin.ttest()` function takes in two arrays of values and returns the t-score and the p-value for the paired t-test. The result is also more interpretable."
   ]
  },
  {
   "cell_type": "code",
   "execution_count": 25,
   "metadata": {},
   "outputs": [],
   "source": [
    "import pingouin"
   ]
  },
  {
   "cell_type": "code",
   "execution_count": 26,
   "metadata": {},
   "outputs": [],
   "source": [
    "# Choose a significance level\n",
    "alpha = 0.01"
   ]
  },
  {
   "cell_type": "code",
   "execution_count": 27,
   "metadata": {},
   "outputs": [
    {
     "data": {
      "text/html": [
       "<div>\n",
       "<style scoped>\n",
       "    .dataframe tbody tr th:only-of-type {\n",
       "        vertical-align: middle;\n",
       "    }\n",
       "\n",
       "    .dataframe tbody tr th {\n",
       "        vertical-align: top;\n",
       "    }\n",
       "\n",
       "    .dataframe thead th {\n",
       "        text-align: right;\n",
       "    }\n",
       "</style>\n",
       "<table border=\"1\" class=\"dataframe\">\n",
       "  <thead>\n",
       "    <tr style=\"text-align: right;\">\n",
       "      <th></th>\n",
       "      <th>T</th>\n",
       "      <th>dof</th>\n",
       "      <th>alternative</th>\n",
       "      <th>p-val</th>\n",
       "      <th>CI99%</th>\n",
       "      <th>cohen-d</th>\n",
       "      <th>BF10</th>\n",
       "      <th>power</th>\n",
       "    </tr>\n",
       "  </thead>\n",
       "  <tbody>\n",
       "    <tr>\n",
       "      <th>T-test</th>\n",
       "      <td>30.298384</td>\n",
       "      <td>499</td>\n",
       "      <td>two-sided</td>\n",
       "      <td>3.600634e-115</td>\n",
       "      <td>[6.2464870469716605, 7.412138273242007]</td>\n",
       "      <td>0.454202</td>\n",
       "      <td>2.246e+111</td>\n",
       "      <td>1.0</td>\n",
       "    </tr>\n",
       "  </tbody>\n",
       "</table>\n",
       "</div>"
      ],
      "text/plain": [
       "                T  dof alternative          p-val  \\\n",
       "T-test  30.298384  499   two-sided  3.600634e-115   \n",
       "\n",
       "                                          CI99%   cohen-d        BF10  power  \n",
       "T-test  [6.2464870469716605, 7.412138273242007]  0.454202  2.246e+111    1.0  "
      ]
     },
     "execution_count": 27,
     "metadata": {},
     "output_type": "execute_result"
    }
   ],
   "source": [
    "# Conduct a paired t-test on dem_percent_12 and dem_percent_16\n",
    "paired_test_results = pingouin.ttest(\n",
    "    x=sample_dem_data[\"dem_percent_12\"],\n",
    "    y=sample_dem_data[\"dem_percent_16\"],\n",
    "    paired=True,\n",
    "    alternative=\"two-sided\",\n",
    "    confidence=(1 - alpha),\n",
    ")\n",
    "\n",
    "\n",
    "# Print the paired test results\n",
    "paired_test_results"
   ]
  },
  {
   "cell_type": "markdown",
   "metadata": {},
   "source": [
    "**Note:** When the data is paired but we use a normal independent t-test, the probability of making a Type I error (failure to reject the null hypothesis when it is false) increases significantly. This is because the paired data is not independent i.e, there's some underlying relationship. The paired t-test corrects for this by using the difference between the paired observations."
   ]
  },
  {
   "cell_type": "code",
   "execution_count": 28,
   "metadata": {},
   "outputs": [
    {
     "data": {
      "text/html": [
       "<div>\n",
       "<style scoped>\n",
       "    .dataframe tbody tr th:only-of-type {\n",
       "        vertical-align: middle;\n",
       "    }\n",
       "\n",
       "    .dataframe tbody tr th {\n",
       "        vertical-align: top;\n",
       "    }\n",
       "\n",
       "    .dataframe thead th {\n",
       "        text-align: right;\n",
       "    }\n",
       "</style>\n",
       "<table border=\"1\" class=\"dataframe\">\n",
       "  <thead>\n",
       "    <tr style=\"text-align: right;\">\n",
       "      <th></th>\n",
       "      <th>T</th>\n",
       "      <th>dof</th>\n",
       "      <th>alternative</th>\n",
       "      <th>p-val</th>\n",
       "      <th>CI99%</th>\n",
       "      <th>cohen-d</th>\n",
       "      <th>BF10</th>\n",
       "      <th>power</th>\n",
       "    </tr>\n",
       "  </thead>\n",
       "  <tbody>\n",
       "    <tr>\n",
       "      <th>T-test</th>\n",
       "      <td>7.181565</td>\n",
       "      <td>998</td>\n",
       "      <td>two-sided</td>\n",
       "      <td>1.345737e-12</td>\n",
       "      <td>[4.375133508237438, 9.283491811976223]</td>\n",
       "      <td>0.454202</td>\n",
       "      <td>4.308e+09</td>\n",
       "      <td>1.0</td>\n",
       "    </tr>\n",
       "  </tbody>\n",
       "</table>\n",
       "</div>"
      ],
      "text/plain": [
       "               T  dof alternative         p-val  \\\n",
       "T-test  7.181565  998   two-sided  1.345737e-12   \n",
       "\n",
       "                                         CI99%   cohen-d       BF10  power  \n",
       "T-test  [4.375133508237438, 9.283491811976223]  0.454202  4.308e+09    1.0  "
      ]
     },
     "execution_count": 28,
     "metadata": {},
     "output_type": "execute_result"
    }
   ],
   "source": [
    "pingouin.ttest(\n",
    "    x=sample_dem_data[\"dem_percent_12\"],\n",
    "    y=sample_dem_data[\"dem_percent_16\"],\n",
    "    paired=False,\n",
    "    alternative=\"two-sided\",\n",
    "    confidence=(1 - alpha),\n",
    ")"
   ]
  },
  {
   "cell_type": "code",
   "execution_count": 29,
   "metadata": {},
   "outputs": [
    {
     "data": {
      "text/plain": [
       "T-test    True\n",
       "Name: p-val, dtype: bool"
      ]
     },
     "execution_count": 29,
     "metadata": {},
     "output_type": "execute_result"
    }
   ],
   "source": [
    "paired_test_results[\"p-val\"] < alpha"
   ]
  },
  {
   "cell_type": "markdown",
   "metadata": {},
   "source": [
    "Since the p-value is far less than the significance level (0.01) we reject the null hypothesis. This means that we have enough evidence to say that the proportion of democratic votes in 2012 and 2016 were different."
   ]
  },
  {
   "cell_type": "markdown",
   "metadata": {},
   "source": [
    "## <a id='toc3_'></a>[ANOVA: Comparing means across multiple groups of a variable](#toc0_)"
   ]
  },
  {
   "cell_type": "markdown",
   "metadata": {},
   "source": [
    "ANOVA stands for Analysis of Variance. It is a statistical test used to compare the means of three or more groups. ANOVA is used to determine if there is a significant difference between the groups, and if so, to identify which groups are different.\n",
    "\n",
    "ANOVA works by partitioning the total variance in the data into two parts: the variance between the groups and the variance within the groups. The variance between the groups is a measure of how much the group means differ from each other. The variance within the groups is a measure of how much the individual observations within each group differ from their group mean.\n",
    "\n",
    "ANOVA then calculates a test statistic, called the F-statistic, which is a ratio of the variance between the groups to the variance within the groups. The F-statistic is used to test the null hypothesis that there is no difference between the group means.\n",
    "\n",
    "If the F-statistic is statistically significant, then the null hypothesis is rejected and we conclude that there is a significant difference between the group means. However, ANOVA cannot tell us which groups are different. To determine which groups are different, we need to perform post-hoc pairwise t-tests."
   ]
  },
  {
   "cell_type": "markdown",
   "metadata": {},
   "source": [
    "In ANOVA, the categorical variable is the *explanatory variable* and the numerical variable is the *response variable*. The groups are the different levels of the categorical variable."
   ]
  },
  {
   "cell_type": "markdown",
   "metadata": {},
   "source": [
    "> Here, we'll return to the late shipments data, and perform an ANOVA test to see if the variation in the price of each package (pack_price) varies between the three shipment modes (shipment_mode): \"Air\", \"Air Charter\", and \"Ocean\" is statistically significant."
   ]
  },
  {
   "cell_type": "markdown",
   "metadata": {},
   "source": [
    "Null Hypothesis, $$ H_0: \\mu_{\\text{pack price, Air}} = \\mu_{\\text{pack price, AirCharter}} = \\mu_{\\text{pack price, Ocean}} $$\n",
    "Alternate Hypothesis, $$ H_A: \\text{There are at least two groups with different means} $$"
   ]
  },
  {
   "cell_type": "code",
   "execution_count": 30,
   "metadata": {},
   "outputs": [],
   "source": [
    "# Calculate the mean pack_price for each shipment_mode\n",
    "xbar_pack_by_mode = late_shipments.groupby(\"shipment_mode\")[\"pack_price\"].mean()\n",
    "\n",
    "# Calculate the standard deviation of the pack_price for each shipment_mode\n",
    "s_pack_by_mode = late_shipments.groupby(\"shipment_mode\")[\"pack_price\"].std()"
   ]
  },
  {
   "cell_type": "code",
   "execution_count": 31,
   "metadata": {},
   "outputs": [
    {
     "data": {
      "image/png": "[encoded data removed]",
      "text/plain": [
       "<Figure size 640x480 with 1 Axes>"
      ]
     },
     "metadata": {},
     "output_type": "display_data"
    }
   ],
   "source": [
    "# Before performing any test it is a good practice to explore the distribution of the variables at first\n",
    "# Here we will be looking at the distribution of the different groups in the explanatory variable using a Box plot\n",
    "\n",
    "# Boxplot of shipment_mode vs. pack_price\n",
    "sns.boxplot(data=late_shipments, x=\"pack_price\", y=\"shipment_mode\")\n",
    "plt.show()"
   ]
  },
  {
   "cell_type": "markdown",
   "metadata": {},
   "source": [
    "There certainly looks to be a difference in the pack price between each of the three shipment modes. The only question is are the differences statistically significant?"
   ]
  },
  {
   "cell_type": "code",
   "execution_count": 32,
   "metadata": {},
   "outputs": [],
   "source": [
    "# Choose a significance level\n",
    "alpha = 0.1"
   ]
  },
  {
   "cell_type": "markdown",
   "metadata": {},
   "source": [
    "**Note:** This value is larger than in many situations but will help us understand the implications on comparing different numbers of groups later on. "
   ]
  },
  {
   "cell_type": "markdown",
   "metadata": {},
   "source": [
    "The `pingouin.anova()` function from the `pingouin` module can be used to perform ANOVA. The `pingouin.anova()` function takes in a dataframe, the name of the response variable and the name of the categorical variable and returns the F-statistic and the p-value for the ANOVA test."
   ]
  },
  {
   "cell_type": "code",
   "execution_count": 33,
   "metadata": {},
   "outputs": [
    {
     "data": {
      "text/html": [
       "<div>\n",
       "<style scoped>\n",
       "    .dataframe tbody tr th:only-of-type {\n",
       "        vertical-align: middle;\n",
       "    }\n",
       "\n",
       "    .dataframe tbody tr th {\n",
       "        vertical-align: top;\n",
       "    }\n",
       "\n",
       "    .dataframe thead th {\n",
       "        text-align: right;\n",
       "    }\n",
       "</style>\n",
       "<table border=\"1\" class=\"dataframe\">\n",
       "  <thead>\n",
       "    <tr style=\"text-align: right;\">\n",
       "      <th></th>\n",
       "      <th>Source</th>\n",
       "      <th>ddof1</th>\n",
       "      <th>ddof2</th>\n",
       "      <th>F</th>\n",
       "      <th>p-unc</th>\n",
       "      <th>np2</th>\n",
       "    </tr>\n",
       "  </thead>\n",
       "  <tbody>\n",
       "    <tr>\n",
       "      <th>0</th>\n",
       "      <td>shipment_mode</td>\n",
       "      <td>2</td>\n",
       "      <td>997</td>\n",
       "      <td>21.8646</td>\n",
       "      <td>5.089479e-10</td>\n",
       "      <td>0.042018</td>\n",
       "    </tr>\n",
       "  </tbody>\n",
       "</table>\n",
       "</div>"
      ],
      "text/plain": [
       "          Source  ddof1  ddof2        F         p-unc       np2\n",
       "0  shipment_mode      2    997  21.8646  5.089479e-10  0.042018"
      ]
     },
     "execution_count": 33,
     "metadata": {},
     "output_type": "execute_result"
    }
   ],
   "source": [
    "# Run an ANOVA for pack_price across shipment_mode\n",
    "anova_results = pingouin.anova(\n",
    "    data=late_shipments, dv=\"pack_price\", between=\"shipment_mode\"\n",
    ")\n",
    "\n",
    "# Print anova_results\n",
    "anova_results"
   ]
  },
  {
   "cell_type": "markdown",
   "metadata": {},
   "source": [
    "The calculated p-value is much much less than the significance level (0.2). This means that we reject the null hypothesis and there is a significant difference in pack prices between the shipment modes (or at least two shipment modes). However, we don't know which shipment modes this applies to."
   ]
  },
  {
   "cell_type": "markdown",
   "metadata": {},
   "source": [
    "#### <a id='toc3_1_1_'></a>[-> Post-hoc pairwise t-tests](#toc0_)"
   ]
  },
  {
   "cell_type": "markdown",
   "metadata": {},
   "source": [
    "To find out which groups have statistically significant different means, we pair each group with every other group and perform a separate t-test for each pair. If there are $k$ groups, then there are $\\frac{k(k-1)}{2}$ pairs."
   ]
  },
  {
   "cell_type": "markdown",
   "metadata": {},
   "source": [
    "To run all these pairwise t-tests we can use the `pingouin.pairwise_tests()` function from the `pingouin` module. The `pingouin.pairwise_tests()` function takes in a dataframe, the name of the response variable and the name of the categorical variable (similar to the `.anova()` function) and returns the p-value for each pair."
   ]
  },
  {
   "cell_type": "code",
   "execution_count": 34,
   "metadata": {},
   "outputs": [
    {
     "data": {
      "text/html": [
       "<div>\n",
       "<style scoped>\n",
       "    .dataframe tbody tr th:only-of-type {\n",
       "        vertical-align: middle;\n",
       "    }\n",
       "\n",
       "    .dataframe tbody tr th {\n",
       "        vertical-align: top;\n",
       "    }\n",
       "\n",
       "    .dataframe thead th {\n",
       "        text-align: right;\n",
       "    }\n",
       "</style>\n",
       "<table border=\"1\" class=\"dataframe\">\n",
       "  <thead>\n",
       "    <tr style=\"text-align: right;\">\n",
       "      <th></th>\n",
       "      <th>Contrast</th>\n",
       "      <th>A</th>\n",
       "      <th>B</th>\n",
       "      <th>Paired</th>\n",
       "      <th>Parametric</th>\n",
       "      <th>T</th>\n",
       "      <th>dof</th>\n",
       "      <th>alternative</th>\n",
       "      <th>p-unc</th>\n",
       "      <th>BF10</th>\n",
       "      <th>hedges</th>\n",
       "    </tr>\n",
       "  </thead>\n",
       "  <tbody>\n",
       "    <tr>\n",
       "      <th>0</th>\n",
       "      <td>shipment_mode</td>\n",
       "      <td>Air</td>\n",
       "      <td>Air Charter</td>\n",
       "      <td>False</td>\n",
       "      <td>True</td>\n",
       "      <td>21.179625</td>\n",
       "      <td>600.685682</td>\n",
       "      <td>two-sided</td>\n",
       "      <td>8.748346e-75</td>\n",
       "      <td>5.809e+76</td>\n",
       "      <td>0.726592</td>\n",
       "    </tr>\n",
       "    <tr>\n",
       "      <th>1</th>\n",
       "      <td>shipment_mode</td>\n",
       "      <td>Air</td>\n",
       "      <td>Ocean</td>\n",
       "      <td>False</td>\n",
       "      <td>True</td>\n",
       "      <td>19.335760</td>\n",
       "      <td>986.979785</td>\n",
       "      <td>two-sided</td>\n",
       "      <td>6.934555e-71</td>\n",
       "      <td>1.129e+67</td>\n",
       "      <td>0.711119</td>\n",
       "    </tr>\n",
       "    <tr>\n",
       "      <th>2</th>\n",
       "      <td>shipment_mode</td>\n",
       "      <td>Air Charter</td>\n",
       "      <td>Ocean</td>\n",
       "      <td>False</td>\n",
       "      <td>True</td>\n",
       "      <td>-3.170654</td>\n",
       "      <td>35.615026</td>\n",
       "      <td>two-sided</td>\n",
       "      <td>3.123012e-03</td>\n",
       "      <td>15.277</td>\n",
       "      <td>-0.423775</td>\n",
       "    </tr>\n",
       "  </tbody>\n",
       "</table>\n",
       "</div>"
      ],
      "text/plain": [
       "        Contrast            A            B  Paired  Parametric          T  \\\n",
       "0  shipment_mode          Air  Air Charter   False        True  21.179625   \n",
       "1  shipment_mode          Air        Ocean   False        True  19.335760   \n",
       "2  shipment_mode  Air Charter        Ocean   False        True  -3.170654   \n",
       "\n",
       "          dof alternative         p-unc       BF10    hedges  \n",
       "0  600.685682   two-sided  8.748346e-75  5.809e+76  0.726592  \n",
       "1  986.979785   two-sided  6.934555e-71  1.129e+67  0.711119  \n",
       "2   35.615026   two-sided  3.123012e-03     15.277 -0.423775  "
      ]
     },
     "execution_count": 34,
     "metadata": {},
     "output_type": "execute_result"
    }
   ],
   "source": [
    "# Perform a pairwise t-test on pack price, grouped by shipment mode\n",
    "pairwise_results = pingouin.pairwise_tests(\n",
    "    data=late_shipments, dv=\"pack_price\", between=\"shipment_mode\", padjust=None\n",
    ")\n",
    "\n",
    "# Print pairwise_results\n",
    "pairwise_results"
   ]
  },
  {
   "cell_type": "markdown",
   "metadata": {},
   "source": [
    "##### <a id='toc3_1_1_1_'></a>[*Adjusting the significance level*](#toc0_)"
   ]
  },
  {
   "cell_type": "markdown",
   "metadata": {},
   "source": [
    "As the number of groups increases, the number of pairs - and hence the number of hypothesis tests we must perform - increases quadratically. The more tests we run, the higher the chance that at least one of them will give a false positive significant result. With a significance level of point-two, if we run one test, the chance of a false positive result is point-two. With five groups and ten tests, the probability of at least one false positive is around point-seven. With twenty groups, it's almost guaranteed that we'll get at least one false positive. The solution to this is to apply an adjustment to increase the p-values, reducing the chance of getting a false positive. One common adjustment is the Bonferroni correction. In the Bonferroni correction, the adjusted significance level is given as, $\\alpha^* = \\frac{\\alpha}{k(k-1)/2}$ where $k$ is the number of groups."
   ]
  },
  {
   "cell_type": "markdown",
   "metadata": {},
   "source": [
    "To adjust the significance level in our pairwise t-tests, we can use the `padjust` parameter in the `pingouin.pairwise_tests()` function. The `padjust` parameter takes in a string specifying the type of adjustment to use. The default is \"bonferroni\". There are several other types of adjustments available."
   ]
  },
  {
   "cell_type": "code",
   "execution_count": 35,
   "metadata": {},
   "outputs": [
    {
     "data": {
      "text/html": [
       "<div>\n",
       "<style scoped>\n",
       "    .dataframe tbody tr th:only-of-type {\n",
       "        vertical-align: middle;\n",
       "    }\n",
       "\n",
       "    .dataframe tbody tr th {\n",
       "        vertical-align: top;\n",
       "    }\n",
       "\n",
       "    .dataframe thead th {\n",
       "        text-align: right;\n",
       "    }\n",
       "</style>\n",
       "<table border=\"1\" class=\"dataframe\">\n",
       "  <thead>\n",
       "    <tr style=\"text-align: right;\">\n",
       "      <th></th>\n",
       "      <th>Contrast</th>\n",
       "      <th>A</th>\n",
       "      <th>B</th>\n",
       "      <th>Paired</th>\n",
       "      <th>Parametric</th>\n",
       "      <th>T</th>\n",
       "      <th>dof</th>\n",
       "      <th>alternative</th>\n",
       "      <th>p-unc</th>\n",
       "      <th>p-corr</th>\n",
       "      <th>p-adjust</th>\n",
       "      <th>BF10</th>\n",
       "      <th>hedges</th>\n",
       "    </tr>\n",
       "  </thead>\n",
       "  <tbody>\n",
       "    <tr>\n",
       "      <th>0</th>\n",
       "      <td>shipment_mode</td>\n",
       "      <td>Air</td>\n",
       "      <td>Air Charter</td>\n",
       "      <td>False</td>\n",
       "      <td>True</td>\n",
       "      <td>21.179625</td>\n",
       "      <td>600.685682</td>\n",
       "      <td>two-sided</td>\n",
       "      <td>8.748346e-75</td>\n",
       "      <td>2.624504e-74</td>\n",
       "      <td>bonf</td>\n",
       "      <td>5.809e+76</td>\n",
       "      <td>0.726592</td>\n",
       "    </tr>\n",
       "    <tr>\n",
       "      <th>1</th>\n",
       "      <td>shipment_mode</td>\n",
       "      <td>Air</td>\n",
       "      <td>Ocean</td>\n",
       "      <td>False</td>\n",
       "      <td>True</td>\n",
       "      <td>19.335760</td>\n",
       "      <td>986.979785</td>\n",
       "      <td>two-sided</td>\n",
       "      <td>6.934555e-71</td>\n",
       "      <td>2.080367e-70</td>\n",
       "      <td>bonf</td>\n",
       "      <td>1.129e+67</td>\n",
       "      <td>0.711119</td>\n",
       "    </tr>\n",
       "    <tr>\n",
       "      <th>2</th>\n",
       "      <td>shipment_mode</td>\n",
       "      <td>Air Charter</td>\n",
       "      <td>Ocean</td>\n",
       "      <td>False</td>\n",
       "      <td>True</td>\n",
       "      <td>-3.170654</td>\n",
       "      <td>35.615026</td>\n",
       "      <td>two-sided</td>\n",
       "      <td>3.123012e-03</td>\n",
       "      <td>9.369037e-03</td>\n",
       "      <td>bonf</td>\n",
       "      <td>15.277</td>\n",
       "      <td>-0.423775</td>\n",
       "    </tr>\n",
       "  </tbody>\n",
       "</table>\n",
       "</div>"
      ],
      "text/plain": [
       "        Contrast            A            B  Paired  Parametric          T  \\\n",
       "0  shipment_mode          Air  Air Charter   False        True  21.179625   \n",
       "1  shipment_mode          Air        Ocean   False        True  19.335760   \n",
       "2  shipment_mode  Air Charter        Ocean   False        True  -3.170654   \n",
       "\n",
       "          dof alternative         p-unc        p-corr p-adjust       BF10  \\\n",
       "0  600.685682   two-sided  8.748346e-75  2.624504e-74     bonf  5.809e+76   \n",
       "1  986.979785   two-sided  6.934555e-71  2.080367e-70     bonf  1.129e+67   \n",
       "2   35.615026   two-sided  3.123012e-03  9.369037e-03     bonf     15.277   \n",
       "\n",
       "     hedges  \n",
       "0  0.726592  \n",
       "1  0.711119  \n",
       "2 -0.423775  "
      ]
     },
     "execution_count": 35,
     "metadata": {},
     "output_type": "execute_result"
    }
   ],
   "source": [
    "# Modify the pairwise t-tests to use Bonferroni p-value adjustment\n",
    "pairwise_results = pingouin.pairwise_tests(\n",
    "    data=late_shipments, dv=\"pack_price\", between=\"shipment_mode\", padjust=\"bonf\"\n",
    ")\n",
    "\n",
    "# Print pairwise_results\n",
    "pairwise_results"
   ]
  },
  {
   "cell_type": "markdown",
   "metadata": {},
   "source": [
    "After applying the Bonferroni adjustment, the p-values for the t-tests between each of the three groups are all less than 0.1. So we can conclude that there is a statistically significant difference in the pack price between each of the three shipment modes."
   ]
  },
  {
   "cell_type": "markdown",
   "metadata": {},
   "source": [
    "**`Caution:`** In order to conduct a hypothesis test and be sure that the result is fair, a sample must meet three requirements: it is a random sample of the population, the observations are independent, and there are enough observations. Of these, only the last condition is easily testable with code."
   ]
  },
  {
   "cell_type": "code",
   "execution_count": 36,
   "metadata": {},
   "outputs": [
    {
     "name": "stdout",
     "output_type": "stream",
     "text": [
      "shipment_mode\n",
      "Air            906\n",
      "Ocean           88\n",
      "Air Charter      6\n",
      "Name: count, dtype: int64\n",
      "False\n"
     ]
    }
   ],
   "source": [
    "# Count the shipment_mode values\n",
    "counts = late_shipments[\"shipment_mode\"].value_counts()\n",
    "\n",
    "# Print the result\n",
    "print(counts)\n",
    "\n",
    "# Inspect whether the counts are big enough\n",
    "print((counts >= 30).all())"
   ]
  },
  {
   "cell_type": "markdown",
   "metadata": {},
   "source": [
    "Based on the result, we should be a little cautious of the ANOVA test results given the small sample size for Air Charter."
   ]
  },
  {
   "cell_type": "code",
   "execution_count": null,
   "metadata": {},
   "outputs": [],
   "source": []
  }
 ],
 "metadata": {
  "kernelspec": {
   "display_name": "ml_intro",
   "language": "python",
   "name": "python3"
  },
  "language_info": {
   "codemirror_mode": {
    "name": "ipython",
    "version": 3
   },
   "file_extension": ".py",
   "mimetype": "text/x-python",
   "name": "python",
   "nbconvert_exporter": "python",
   "pygments_lexer": "ipython3",
   "version": "3.11.6"
  }
 },
 "nbformat": 4,
 "nbformat_minor": 2
}
