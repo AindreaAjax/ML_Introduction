{
 "cells": [
  {
   "cell_type": "markdown",
   "metadata": {},
   "source": [
    "**Table of contents**<a id='toc0_'></a>    \n",
    "- [Import statements](#toc1_1_)    \n",
    "- [Loading the datasets](#toc1_2_)    \n",
    "- [Introduction to Sampling](#toc2_)    \n",
    "  - [Random sampling from particular distributions](#toc2_1_)    \n",
    "  - [Random sampling from a DataFrame](#toc2_2_)    \n",
    "  - [Bias in sampling](#toc2_3_)    \n",
    "\n",
    "<!-- vscode-jupyter-toc-config\n",
    "\tnumbering=false\n",
    "\tanchor=true\n",
    "\tflat=false\n",
    "\tminLevel=2\n",
    "\tmaxLevel=5\n",
    "\t/vscode-jupyter-toc-config -->\n",
    "<!-- THIS CELL WILL BE REPLACED ON TOC UPDATE. DO NOT WRITE YOUR TEXT IN THIS CELL -->"
   ]
  },
  {
   "cell_type": "markdown",
   "metadata": {},
   "source": [
    "### <a id='toc1_1_'></a>[Import statements](#toc0_)"
   ]
  },
  {
   "cell_type": "code",
   "execution_count": 1,
   "metadata": {},
   "outputs": [],
   "source": [
    "import warnings\n",
    "\n",
    "warnings.filterwarnings(\"ignore\")"
   ]
  },
  {
   "cell_type": "code",
   "execution_count": 2,
   "metadata": {},
   "outputs": [],
   "source": [
    "import numpy as np\n",
    "import pandas as pd\n",
    "import matplotlib.pyplot as plt\n",
    "import seaborn as sns"
   ]
  },
  {
   "cell_type": "markdown",
   "metadata": {},
   "source": [
    "### <a id='toc1_2_'></a>[Loading the datasets](#toc0_)"
   ]
  },
  {
   "cell_type": "markdown",
   "metadata": {},
   "source": [
    "- Spotify dataset contains song data from Spotify. Each row of this population dataset represents a song, and there are over 40,000 rows. Columns include the song name, the artists who performed it, the release year, and attributes of the song like its duration, tempo, and danceability."
   ]
  },
  {
   "cell_type": "code",
   "execution_count": 3,
   "metadata": {},
   "outputs": [],
   "source": [
    "spotify_population = pd.read_feather(\"./datasets/spotify_2000_2020.feather\")"
   ]
  },
  {
   "cell_type": "code",
   "execution_count": 4,
   "metadata": {},
   "outputs": [
    {
     "data": {
      "text/html": [
       "<div>\n",
       "<style scoped>\n",
       "    .dataframe tbody tr th:only-of-type {\n",
       "        vertical-align: middle;\n",
       "    }\n",
       "\n",
       "    .dataframe tbody tr th {\n",
       "        vertical-align: top;\n",
       "    }\n",
       "\n",
       "    .dataframe thead th {\n",
       "        text-align: right;\n",
       "    }\n",
       "</style>\n",
       "<table border=\"1\" class=\"dataframe\">\n",
       "  <thead>\n",
       "    <tr style=\"text-align: right;\">\n",
       "      <th></th>\n",
       "      <th>acousticness</th>\n",
       "      <th>artists</th>\n",
       "      <th>danceability</th>\n",
       "      <th>duration_ms</th>\n",
       "      <th>duration_minutes</th>\n",
       "      <th>energy</th>\n",
       "      <th>explicit</th>\n",
       "      <th>id</th>\n",
       "      <th>instrumentalness</th>\n",
       "      <th>key</th>\n",
       "      <th>liveness</th>\n",
       "      <th>loudness</th>\n",
       "      <th>mode</th>\n",
       "      <th>name</th>\n",
       "      <th>popularity</th>\n",
       "      <th>release_date</th>\n",
       "      <th>speechiness</th>\n",
       "      <th>tempo</th>\n",
       "      <th>valence</th>\n",
       "      <th>year</th>\n",
       "    </tr>\n",
       "  </thead>\n",
       "  <tbody>\n",
       "    <tr>\n",
       "      <th>0</th>\n",
       "      <td>0.97200</td>\n",
       "      <td>['David Bauer']</td>\n",
       "      <td>0.567</td>\n",
       "      <td>313293.0</td>\n",
       "      <td>5.221550</td>\n",
       "      <td>0.227</td>\n",
       "      <td>0.0</td>\n",
       "      <td>0w0D8H1ubRerCXHWYJkinO</td>\n",
       "      <td>0.601000</td>\n",
       "      <td>10.0</td>\n",
       "      <td>0.110</td>\n",
       "      <td>-13.441</td>\n",
       "      <td>1.0</td>\n",
       "      <td>Shout to the Lord</td>\n",
       "      <td>47.0</td>\n",
       "      <td>2000</td>\n",
       "      <td>0.0290</td>\n",
       "      <td>136.123</td>\n",
       "      <td>0.0396</td>\n",
       "      <td>2000.0</td>\n",
       "    </tr>\n",
       "    <tr>\n",
       "      <th>1</th>\n",
       "      <td>0.32100</td>\n",
       "      <td>['Etta James']</td>\n",
       "      <td>0.821</td>\n",
       "      <td>360240.0</td>\n",
       "      <td>6.004000</td>\n",
       "      <td>0.418</td>\n",
       "      <td>0.0</td>\n",
       "      <td>4JVeqfE2tpi7Pv63LJZtPh</td>\n",
       "      <td>0.000372</td>\n",
       "      <td>9.0</td>\n",
       "      <td>0.222</td>\n",
       "      <td>-9.841</td>\n",
       "      <td>0.0</td>\n",
       "      <td>Miss You</td>\n",
       "      <td>51.0</td>\n",
       "      <td>2000-12-12</td>\n",
       "      <td>0.0407</td>\n",
       "      <td>117.382</td>\n",
       "      <td>0.8030</td>\n",
       "      <td>2000.0</td>\n",
       "    </tr>\n",
       "    <tr>\n",
       "      <th>2</th>\n",
       "      <td>0.00659</td>\n",
       "      <td>['Quasimoto']</td>\n",
       "      <td>0.706</td>\n",
       "      <td>202507.0</td>\n",
       "      <td>3.375117</td>\n",
       "      <td>0.602</td>\n",
       "      <td>1.0</td>\n",
       "      <td>5pxtdhLAi0RTh1gNqhGMNA</td>\n",
       "      <td>0.000138</td>\n",
       "      <td>11.0</td>\n",
       "      <td>0.400</td>\n",
       "      <td>-8.306</td>\n",
       "      <td>0.0</td>\n",
       "      <td>Real Eyes</td>\n",
       "      <td>44.0</td>\n",
       "      <td>2000-06-13</td>\n",
       "      <td>0.3420</td>\n",
       "      <td>89.692</td>\n",
       "      <td>0.4790</td>\n",
       "      <td>2000.0</td>\n",
       "    </tr>\n",
       "    <tr>\n",
       "      <th>3</th>\n",
       "      <td>0.00390</td>\n",
       "      <td>['Millencolin']</td>\n",
       "      <td>0.368</td>\n",
       "      <td>173360.0</td>\n",
       "      <td>2.889333</td>\n",
       "      <td>0.977</td>\n",
       "      <td>0.0</td>\n",
       "      <td>3jRsoe4Vkxa4BMYqGHX8L0</td>\n",
       "      <td>0.000000</td>\n",
       "      <td>11.0</td>\n",
       "      <td>0.350</td>\n",
       "      <td>-2.757</td>\n",
       "      <td>0.0</td>\n",
       "      <td>Penguins &amp; Polarbears</td>\n",
       "      <td>52.0</td>\n",
       "      <td>2000-02-22</td>\n",
       "      <td>0.1270</td>\n",
       "      <td>165.889</td>\n",
       "      <td>0.5480</td>\n",
       "      <td>2000.0</td>\n",
       "    </tr>\n",
       "    <tr>\n",
       "      <th>4</th>\n",
       "      <td>0.12200</td>\n",
       "      <td>['Steve Chou']</td>\n",
       "      <td>0.501</td>\n",
       "      <td>344200.0</td>\n",
       "      <td>5.736667</td>\n",
       "      <td>0.511</td>\n",
       "      <td>0.0</td>\n",
       "      <td>4mronxcllhfyhBRqyZi8kU</td>\n",
       "      <td>0.000000</td>\n",
       "      <td>7.0</td>\n",
       "      <td>0.279</td>\n",
       "      <td>-9.836</td>\n",
       "      <td>0.0</td>\n",
       "      <td>黃昏</td>\n",
       "      <td>53.0</td>\n",
       "      <td>2000-12-25</td>\n",
       "      <td>0.0291</td>\n",
       "      <td>78.045</td>\n",
       "      <td>0.1130</td>\n",
       "      <td>2000.0</td>\n",
       "    </tr>\n",
       "  </tbody>\n",
       "</table>\n",
       "</div>"
      ],
      "text/plain": [
       "   acousticness          artists  danceability  duration_ms  duration_minutes  \\\n",
       "0       0.97200  ['David Bauer']         0.567     313293.0          5.221550   \n",
       "1       0.32100   ['Etta James']         0.821     360240.0          6.004000   \n",
       "2       0.00659    ['Quasimoto']         0.706     202507.0          3.375117   \n",
       "3       0.00390  ['Millencolin']         0.368     173360.0          2.889333   \n",
       "4       0.12200   ['Steve Chou']         0.501     344200.0          5.736667   \n",
       "\n",
       "   energy  explicit                      id  instrumentalness   key  liveness  \\\n",
       "0   0.227       0.0  0w0D8H1ubRerCXHWYJkinO          0.601000  10.0     0.110   \n",
       "1   0.418       0.0  4JVeqfE2tpi7Pv63LJZtPh          0.000372   9.0     0.222   \n",
       "2   0.602       1.0  5pxtdhLAi0RTh1gNqhGMNA          0.000138  11.0     0.400   \n",
       "3   0.977       0.0  3jRsoe4Vkxa4BMYqGHX8L0          0.000000  11.0     0.350   \n",
       "4   0.511       0.0  4mronxcllhfyhBRqyZi8kU          0.000000   7.0     0.279   \n",
       "\n",
       "   loudness  mode                   name  popularity release_date  \\\n",
       "0   -13.441   1.0      Shout to the Lord        47.0         2000   \n",
       "1    -9.841   0.0               Miss You        51.0   2000-12-12   \n",
       "2    -8.306   0.0              Real Eyes        44.0   2000-06-13   \n",
       "3    -2.757   0.0  Penguins & Polarbears        52.0   2000-02-22   \n",
       "4    -9.836   0.0                     黃昏        53.0   2000-12-25   \n",
       "\n",
       "   speechiness    tempo  valence    year  \n",
       "0       0.0290  136.123   0.0396  2000.0  \n",
       "1       0.0407  117.382   0.8030  2000.0  \n",
       "2       0.3420   89.692   0.4790  2000.0  \n",
       "3       0.1270  165.889   0.5480  2000.0  \n",
       "4       0.0291   78.045   0.1130  2000.0  "
      ]
     },
     "execution_count": 4,
     "metadata": {},
     "output_type": "execute_result"
    }
   ],
   "source": [
    "spotify_population.head()"
   ]
  },
  {
   "cell_type": "code",
   "execution_count": 5,
   "metadata": {},
   "outputs": [
    {
     "name": "stdout",
     "output_type": "stream",
     "text": [
      "<class 'pandas.core.frame.DataFrame'>\n",
      "RangeIndex: 41656 entries, 0 to 41655\n",
      "Data columns (total 20 columns):\n",
      " #   Column            Non-Null Count  Dtype  \n",
      "---  ------            --------------  -----  \n",
      " 0   acousticness      41656 non-null  float64\n",
      " 1   artists           41656 non-null  object \n",
      " 2   danceability      41656 non-null  float64\n",
      " 3   duration_ms       41656 non-null  float64\n",
      " 4   duration_minutes  41656 non-null  float64\n",
      " 5   energy            41656 non-null  float64\n",
      " 6   explicit          41656 non-null  float64\n",
      " 7   id                41656 non-null  object \n",
      " 8   instrumentalness  41656 non-null  float64\n",
      " 9   key               41656 non-null  float64\n",
      " 10  liveness          41656 non-null  float64\n",
      " 11  loudness          41656 non-null  float64\n",
      " 12  mode              41656 non-null  float64\n",
      " 13  name              41656 non-null  object \n",
      " 14  popularity        41656 non-null  float64\n",
      " 15  release_date      41656 non-null  object \n",
      " 16  speechiness       41656 non-null  float64\n",
      " 17  tempo             41656 non-null  float64\n",
      " 18  valence           41656 non-null  float64\n",
      " 19  year              41656 non-null  float64\n",
      "dtypes: float64(16), object(4)\n",
      "memory usage: 6.4+ MB\n"
     ]
    }
   ],
   "source": [
    "spotify_population.info()"
   ]
  },
  {
   "cell_type": "markdown",
   "metadata": {},
   "source": [
    "## <a id='toc2_'></a>[Introduction to Sampling](#toc0_)"
   ]
  },
  {
   "cell_type": "markdown",
   "metadata": {},
   "source": [
    "We will primarily be working with the \"duration_minutes\" column. Let's explore it some more."
   ]
  },
  {
   "cell_type": "code",
   "execution_count": 6,
   "metadata": {},
   "outputs": [
    {
     "data": {
      "text/plain": [
       "count    41656.000000\n",
       "mean         3.852152\n",
       "std          1.505201\n",
       "min          0.505017\n",
       "25%          3.197333\n",
       "50%          3.704883\n",
       "75%          4.290450\n",
       "max         90.058333\n",
       "Name: duration_minutes, dtype: float64"
      ]
     },
     "execution_count": 6,
     "metadata": {},
     "output_type": "execute_result"
    }
   ],
   "source": [
    "spotify_population.duration_minutes.describe()"
   ]
  },
  {
   "cell_type": "markdown",
   "metadata": {},
   "source": [
    "`Box plots` are a great way to visualize descriptive statistics for a sample and spotting outliers."
   ]
  },
  {
   "cell_type": "code",
   "execution_count": 7,
   "metadata": {},
   "outputs": [
    {
     "data": {
      "text/plain": [
       "<Axes: xlabel='duration_minutes'>"
      ]
     },
     "execution_count": 7,
     "metadata": {},
     "output_type": "execute_result"
    },
    {
     "data": {
      "image/png": "[encoded data removed]",
      "text/plain": [
       "<Figure size 640x480 with 1 Axes>"
      ]
     },
     "metadata": {},
     "output_type": "display_data"
    }
   ],
   "source": [
    "sns.boxplot(x=spotify_population.duration_minutes)"
   ]
  },
  {
   "cell_type": "code",
   "execution_count": 8,
   "metadata": {},
   "outputs": [
    {
     "data": {
      "text/plain": [
       "0.95    5.664833\n",
       "Name: duration_minutes, dtype: float64"
      ]
     },
     "execution_count": 8,
     "metadata": {},
     "output_type": "execute_result"
    }
   ],
   "source": [
    "spotify_population.duration_minutes.quantile([0.95])"
   ]
  },
  {
   "cell_type": "markdown",
   "metadata": {},
   "source": [
    "Let's just drop the rows with \"duration > 10 minutes\" for now."
   ]
  },
  {
   "cell_type": "code",
   "execution_count": 9,
   "metadata": {},
   "outputs": [],
   "source": [
    "spotify_population = spotify_population[spotify_population.duration_minutes < 10]"
   ]
  },
  {
   "cell_type": "code",
   "execution_count": 10,
   "metadata": {},
   "outputs": [
    {
     "data": {
      "text/plain": [
       "(41549, 20)"
      ]
     },
     "execution_count": 10,
     "metadata": {},
     "output_type": "execute_result"
    }
   ],
   "source": [
    "spotify_population.shape"
   ]
  },
  {
   "cell_type": "markdown",
   "metadata": {},
   "source": [
    "### <a id='toc2_1_'></a>[Random sampling from particular distributions](#toc0_)"
   ]
  },
  {
   "cell_type": "markdown",
   "metadata": {},
   "source": [
    "**Docs: https://numpy.org/doc/stable/reference/random/generator.html#distributions**"
   ]
  },
  {
   "cell_type": "markdown",
   "metadata": {},
   "source": [
    "Some of the common probability distributions we use for sampling are: *uniform, normal, binomial, and poisson* etc."
   ]
  },
  {
   "cell_type": "code",
   "execution_count": 11,
   "metadata": {},
   "outputs": [],
   "source": [
    "from numpy.random import default_rng"
   ]
  },
  {
   "cell_type": "code",
   "execution_count": 12,
   "metadata": {},
   "outputs": [],
   "source": [
    "rng = default_rng()"
   ]
  },
  {
   "cell_type": "code",
   "execution_count": 13,
   "metadata": {},
   "outputs": [
    {
     "data": {
      "text/plain": [
       "array([2.52089746, 8.65526586, 4.91481554, 5.78207371, 4.67999785,\n",
       "       5.95094804, 5.59863266, 6.72969727, 3.79279869, 6.99530341,\n",
       "       6.00843684, 5.08461815, 3.63602102, 6.35149334, 4.84686645,\n",
       "       6.74709016, 6.04751804, 4.25001547, 7.85853362, 3.40795167,\n",
       "       5.19543899, 3.39281941, 1.83385809, 5.00095709, 5.71924737,\n",
       "       7.64450393, 4.93615226, 4.79843345, 4.43687685, 1.753733  ,\n",
       "       4.34490777, 5.20457216, 7.02896323, 6.24380036, 3.41372397,\n",
       "       3.47549004, 3.98386322, 4.13713416, 5.50392655, 3.82393103,\n",
       "       7.46772713, 4.11442071, 7.43551358, 1.7225723 , 6.28793617,\n",
       "       6.34179525, 5.92712423, 1.6422077 , 4.79237599, 3.45688461,\n",
       "       4.8817144 , 6.36823517, 4.57057132, 5.77280057, 5.6923616 ,\n",
       "       3.85323773, 4.52156987, 5.58205332, 5.16259285, 4.46651863,\n",
       "       3.98549197, 4.66292344, 3.0834301 , 4.11559667, 5.55586392,\n",
       "       5.49927168, 8.91613694, 7.72899478, 6.3322015 , 4.28320132,\n",
       "       3.20027961, 6.19760788, 4.09920635, 2.68541526, 7.69833527,\n",
       "       0.67722102, 5.9818901 , 6.24217039, 3.99648776, 3.41734124,\n",
       "       2.68214634, 2.44363839, 6.15645417, 3.87247747, 6.60766034,\n",
       "       1.51520632, 3.68368006, 7.66973781, 5.23798286, 2.69862099,\n",
       "       4.6885763 , 4.46969962, 5.43653079, 3.39986613, 3.2343752 ,\n",
       "       3.67704261, 6.67039711, 5.89970407, 2.27539227, 4.61618481])"
      ]
     },
     "execution_count": 13,
     "metadata": {},
     "output_type": "execute_result"
    }
   ],
   "source": [
    "rng.normal(loc=5, scale=2, size=100)"
   ]
  },
  {
   "cell_type": "markdown",
   "metadata": {},
   "source": [
    "- These random distributions that we generate are actually pseudo-random. We can reproduce the results by setting a random seed. Use, `numpy.random.default_rng(seed)` to set a random seed."
   ]
  },
  {
   "cell_type": "markdown",
   "metadata": {},
   "source": [
    "- `Histograms` come in very handy to visualize these generated distributions and confirm that they are indeed representative of the distributions we expect them to be."
   ]
  },
  {
   "cell_type": "markdown",
   "metadata": {},
   "source": [
    "### <a id='toc2_2_'></a>[Random sampling from a DataFrame](#toc0_)"
   ]
  },
  {
   "cell_type": "markdown",
   "metadata": {},
   "source": [
    "- Use the `df.sample(n)` method for simple random sampling without replacement"
   ]
  },
  {
   "cell_type": "code",
   "execution_count": 14,
   "metadata": {},
   "outputs": [],
   "source": [
    "spotify_sample = spotify_population.sample(1000)"
   ]
  },
  {
   "cell_type": "code",
   "execution_count": 15,
   "metadata": {},
   "outputs": [
    {
     "name": "stdout",
     "output_type": "stream",
     "text": [
      "Population mean (Duration mins): 3.8152246796954605\n",
      "Sample mean (Duration mins): 3.796057183333333\n"
     ]
    }
   ],
   "source": [
    "print(f\"Population mean (Duration mins): {spotify_population.duration_minutes.mean()}\")\n",
    "print(f\"Sample mean (Duration mins): {spotify_sample.duration_minutes.mean()}\")"
   ]
  },
  {
   "cell_type": "markdown",
   "metadata": {},
   "source": [
    "- Use `df.sample(n, replace=True)` for random sampling with replacement"
   ]
  },
  {
   "cell_type": "markdown",
   "metadata": {},
   "source": [
    "### <a id='toc2_3_'></a>[Bias in sampling](#toc0_)"
   ]
  },
  {
   "cell_type": "markdown",
   "metadata": {},
   "source": [
    "Non-probability sampling methods such as convenience sampling, judgement sampling, quota sampling, and snowball sampling are more likely to result in biased samples than probability sampling methods. \n",
    "\n",
    "- If you have data available for the entire population then `histograms` can be a very good way to verify that your sample is representative of the population."
   ]
  },
  {
   "cell_type": "code",
   "execution_count": 16,
   "metadata": {},
   "outputs": [
    {
     "data": {
      "image/png": "[encoded data removed]",
      "text/plain": [
       "<Figure size 640x480 with 1 Axes>"
      ]
     },
     "metadata": {},
     "output_type": "display_data"
    }
   ],
   "source": [
    "ax = sns.histplot(\n",
    "    spotify_population.duration_minutes,\n",
    "    element=\"step\",\n",
    "    bins=np.arange(0, 11, 0.25),\n",
    "    kde=True,\n",
    ")\n",
    "# add a vertical line to draw attention to the mean\n",
    "ax.axvline(x=spotify_population.duration_minutes.mean(), color=\"red\")\n",
    "plt.show()"
   ]
  },
  {
   "cell_type": "code",
   "execution_count": 17,
   "metadata": {},
   "outputs": [
    {
     "data": {
      "image/png": "[encoded data removed]",
      "text/plain": [
       "<Figure size 640x480 with 1 Axes>"
      ]
     },
     "metadata": {},
     "output_type": "display_data"
    }
   ],
   "source": [
    "ax = sns.histplot(\n",
    "    spotify_sample.duration_minutes,\n",
    "    element=\"step\",\n",
    "    bins=np.arange(0, 11, 0.25),\n",
    "    kde=True,\n",
    ")\n",
    "# add a vertical line to draw attention to the mean\n",
    "ax.axvline(x=spotify_sample.duration_minutes.mean(), color=\"red\")\n",
    "plt.show()"
   ]
  },
  {
   "cell_type": "markdown",
   "metadata": {},
   "source": [
    "From the above histograms we can see that our sample represents the population fairly well."
   ]
  },
  {
   "cell_type": "code",
   "execution_count": null,
   "metadata": {},
   "outputs": [],
   "source": []
  }
 ],
 "metadata": {
  "kernelspec": {
   "display_name": "ml_intro",
   "language": "python",
   "name": "python3"
  },
  "language_info": {
   "codemirror_mode": {
    "name": "ipython",
    "version": 3
   },
   "file_extension": ".py",
   "mimetype": "text/x-python",
   "name": "python",
   "nbconvert_exporter": "python",
   "pygments_lexer": "ipython3",
   "version": "3.11.6"
  }
 },
 "nbformat": 4,
 "nbformat_minor": 2
}
