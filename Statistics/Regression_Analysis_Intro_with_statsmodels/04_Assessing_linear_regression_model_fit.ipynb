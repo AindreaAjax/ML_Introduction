{
 "cells": [
  {
   "cell_type": "markdown",
   "metadata": {},
   "source": [
    "**Table of contents**<a id='toc0_'></a>    \n",
    "- [Import statements](#toc1_1_)    \n",
    "  - [Loading the dataset and fitting a model](#toc1_2_)    \n",
    "- [Quantifying model fit](#toc2_)    \n",
    "    - [-> Coefficient of determination $(R^2)$](#toc2_1_1_)    \n",
    "    - [-> Degrees of freedom and Adjusted $R^2$](#toc2_1_2_)    \n",
    "    - [-> Mean squared error (MSE)](#toc2_1_3_)    \n",
    "    - [-> Residual standard error (RSE)](#toc2_1_4_)    \n",
    "- [Visualizing model fit](#toc3_)    \n",
    "    - [-> Residuals vs. Fitted values plot](#toc3_1_1_)    \n",
    "    - [-> Q-Q plot](#toc3_1_2_)    \n",
    "    - [-> Scale-location plot](#toc3_1_3_)    \n",
    "- [Outliers, Leverage, and Influence](#toc4_)    \n",
    "\n",
    "<!-- vscode-jupyter-toc-config\n",
    "\tnumbering=false\n",
    "\tanchor=true\n",
    "\tflat=false\n",
    "\tminLevel=2\n",
    "\tmaxLevel=5\n",
    "\t/vscode-jupyter-toc-config -->\n",
    "<!-- THIS CELL WILL BE REPLACED ON TOC UPDATE. DO NOT WRITE YOUR TEXT IN THIS CELL -->"
   ]
  },
  {
   "cell_type": "markdown",
   "metadata": {},
   "source": [
    "### <a id='toc1_1_'></a>[Import statements](#toc0_)"
   ]
  },
  {
   "cell_type": "code",
   "execution_count": 1,
   "metadata": {},
   "outputs": [],
   "source": [
    "import warnings\n",
    "\n",
    "warnings.filterwarnings(\"ignore\")"
   ]
  },
  {
   "cell_type": "code",
   "execution_count": 2,
   "metadata": {},
   "outputs": [],
   "source": [
    "import pandas as pd\n",
    "import numpy as np\n",
    "import seaborn as sns\n",
    "import matplotlib.pyplot as plt"
   ]
  },
  {
   "cell_type": "code",
   "execution_count": 3,
   "metadata": {},
   "outputs": [],
   "source": [
    "import statsmodels.formula.api as smf"
   ]
  },
  {
   "cell_type": "markdown",
   "metadata": {},
   "source": [
    "### <a id='toc1_2_'></a>[Loading the dataset and fitting a model](#toc0_)"
   ]
  },
  {
   "cell_type": "code",
   "execution_count": 4,
   "metadata": {},
   "outputs": [],
   "source": [
    "taiwan_real_estate = pd.read_csv(\"./datasets/taiwan_real_estate2.csv\")"
   ]
  },
  {
   "cell_type": "code",
   "execution_count": 5,
   "metadata": {},
   "outputs": [
    {
     "data": {
      "text/html": [
       "<div>\n",
       "<style scoped>\n",
       "    .dataframe tbody tr th:only-of-type {\n",
       "        vertical-align: middle;\n",
       "    }\n",
       "\n",
       "    .dataframe tbody tr th {\n",
       "        vertical-align: top;\n",
       "    }\n",
       "\n",
       "    .dataframe thead th {\n",
       "        text-align: right;\n",
       "    }\n",
       "</style>\n",
       "<table border=\"1\" class=\"dataframe\">\n",
       "  <thead>\n",
       "    <tr style=\"text-align: right;\">\n",
       "      <th></th>\n",
       "      <th>dist_to_mrt_m</th>\n",
       "      <th>n_convenience</th>\n",
       "      <th>house_age_years</th>\n",
       "      <th>price_twd_msq</th>\n",
       "    </tr>\n",
       "  </thead>\n",
       "  <tbody>\n",
       "    <tr>\n",
       "      <th>0</th>\n",
       "      <td>84.87882</td>\n",
       "      <td>10</td>\n",
       "      <td>30 to 45</td>\n",
       "      <td>11.467474</td>\n",
       "    </tr>\n",
       "    <tr>\n",
       "      <th>1</th>\n",
       "      <td>306.59470</td>\n",
       "      <td>9</td>\n",
       "      <td>15 to 30</td>\n",
       "      <td>12.768533</td>\n",
       "    </tr>\n",
       "    <tr>\n",
       "      <th>2</th>\n",
       "      <td>561.98450</td>\n",
       "      <td>5</td>\n",
       "      <td>0 to 15</td>\n",
       "      <td>14.311649</td>\n",
       "    </tr>\n",
       "    <tr>\n",
       "      <th>3</th>\n",
       "      <td>561.98450</td>\n",
       "      <td>5</td>\n",
       "      <td>0 to 15</td>\n",
       "      <td>16.580938</td>\n",
       "    </tr>\n",
       "    <tr>\n",
       "      <th>4</th>\n",
       "      <td>390.56840</td>\n",
       "      <td>5</td>\n",
       "      <td>0 to 15</td>\n",
       "      <td>13.040847</td>\n",
       "    </tr>\n",
       "  </tbody>\n",
       "</table>\n",
       "</div>"
      ],
      "text/plain": [
       "   dist_to_mrt_m  n_convenience house_age_years  price_twd_msq\n",
       "0       84.87882             10        30 to 45      11.467474\n",
       "1      306.59470              9        15 to 30      12.768533\n",
       "2      561.98450              5         0 to 15      14.311649\n",
       "3      561.98450              5         0 to 15      16.580938\n",
       "4      390.56840              5         0 to 15      13.040847"
      ]
     },
     "execution_count": 5,
     "metadata": {},
     "output_type": "execute_result"
    }
   ],
   "source": [
    "taiwan_real_estate.head()"
   ]
  },
  {
   "cell_type": "code",
   "execution_count": 6,
   "metadata": {},
   "outputs": [],
   "source": [
    "mdl_price_vs_nconv = smf.ols(\n",
    "    formula=\"price_twd_msq ~ n_convenience\", data=taiwan_real_estate\n",
    ").fit()"
   ]
  },
  {
   "cell_type": "markdown",
   "metadata": {},
   "source": [
    "## <a id='toc2_'></a>[Quantifying model fit](#toc0_)"
   ]
  },
  {
   "cell_type": "markdown",
   "metadata": {},
   "source": [
    "#### <a id='toc2_1_1_'></a>[-> Coefficient of determination $(R^2)$](#toc0_)"
   ]
  },
  {
   "cell_type": "markdown",
   "metadata": {},
   "source": [
    "The coefficient of determination or **R-squared** is the proportion of the variation in $y$, explained by the regression line (i.e, the variation in the independent variables X). So, if the model can explain 100% of the variation in $y$ by the variations of $X$ then it will have a $R^2$ score of 1. And, if the model completely fails to explain the variability of $y$ in relation to the variation of $X$ then it will have a $R^2$ score of 0.\n",
    "\n",
    "The formula for calculating $R^2$ is given by,\n",
    "\n",
    "$$R^2 = 1 - \\frac{\\sum (y_i - \\hat{y_i})^2}{\\sum (y_i - \\bar{y})^2}$$\n",
    "\n",
    "Where:\n",
    "- $y_i$ is the actual/observed value of the response variable\n",
    "- $\\hat{y_i}$ is the predicted/estimated value (lies on the regression line)\n",
    "- $\\bar{y}$ is the mean value of $y$"
   ]
  },
  {
   "cell_type": "markdown",
   "metadata": {},
   "source": [
    "What constitutes **a good score** depends on your dataset. A score of 0.5 on a psychological experiment may be exceptionally high because humans are inherently hard to predict, but in other cases, a score of 0.9 may be considered a poor fit. "
   ]
  },
  {
   "cell_type": "markdown",
   "metadata": {},
   "source": [
    "**For simple linear regression**, the interpretation of the coefficient of determination is straightforward. It is simply the correlation between the explanatory and response variables, squared. "
   ]
  },
  {
   "cell_type": "code",
   "execution_count": 7,
   "metadata": {},
   "outputs": [
    {
     "data": {
      "text/plain": [
       "0.32604660851305023"
      ]
     },
     "execution_count": 7,
     "metadata": {},
     "output_type": "execute_result"
    }
   ],
   "source": [
    "mdl_price_vs_nconv.rsquared"
   ]
  },
  {
   "cell_type": "markdown",
   "metadata": {},
   "source": [
    "#### <a id='toc2_1_2_'></a>[-> Degrees of freedom and Adjusted $R^2$](#toc0_)"
   ]
  },
  {
   "cell_type": "markdown",
   "metadata": {},
   "source": [
    "To find the degrees of freedom we need to ask ourselves how many independent pieces of information do we have to estimate the population parameters.\n",
    "\n",
    "Let's consider the simple linear regression case. How many data points do we need to fit a regression model? The first intuition is that we need 2 data points to fit a line. So we need at least 2 data points to fit a liner regression model. Right? No, this is not the case. With only 2 observations, true we can draw a line through them but there will be no errors. A regression model needs the possibility of error. So, we need at least 3 data points to fit a simple linear regression model. So we would have (3-2) = 1 degree of freedom (if we only have 3 sample data points).\n",
    "\n",
    "If we consider a multiple linear regression model with 2 independent variables then we would need at least 4 data points to fit the model (since with 3 data points you would be able to fit a plane through them but have no errors). So we would have (4-3) = 1 degree of freedom (if we only have 4 sample data points).\n",
    "\n",
    "The general formula for degrees of freedom is given as,\n",
    "$$df = n - k - 1$$\n",
    "\n",
    "Where:\n",
    "- $df$ is the degrees of freedom\n",
    "- $n$ is the number of observations in the sample\n",
    "- $k$ is the number of independent variables in the model\n",
    "\n",
    "So we can see a pattern here. With a fixed number of sample observations, the more independent variables are added to the model the less degrees of freedom we have. This have a serious implication. As the degrees of freedom decreases, the opportunity/ability of the model to correctly identify the error (i.e, the measure of unexplained variation/randomness in the model) decreases. As a result we can add unrelated independent variables to the model and the model can still fit the data well. So we can fool ourselves into thinking that our model is performing better while in reality the model is just losing its ability to represent the error.\n",
    "\n",
    "To account for this behavior we use the **adjusted R-squared** to evaluate how well the model fits the data (actually).\n",
    "\n",
    "The **adjusted R-squared** is given as,\n",
    "$$R^2_{adj} = 1 - [(1-R^2)(\\frac{n-1}{n-k-1})]$$"
   ]
  },
  {
   "cell_type": "code",
   "execution_count": 8,
   "metadata": {},
   "outputs": [
    {
     "data": {
      "text/plain": [
       "0.32441079931041195"
      ]
     },
     "execution_count": 8,
     "metadata": {},
     "output_type": "execute_result"
    }
   ],
   "source": [
    "mdl_price_vs_nconv.rsquared_adj"
   ]
  },
  {
   "cell_type": "code",
   "execution_count": 9,
   "metadata": {},
   "outputs": [
    {
     "data": {
      "text/html": [
       "<table class=\"simpletable\">\n",
       "<caption>OLS Regression Results</caption>\n",
       "<tr>\n",
       "  <th>Dep. Variable:</th>      <td>price_twd_msq</td>  <th>  R-squared:         </th> <td>   0.326</td>\n",
       "</tr>\n",
       "<tr>\n",
       "  <th>Model:</th>                   <td>OLS</td>       <th>  Adj. R-squared:    </th> <td>   0.324</td>\n",
       "</tr>\n",
       "<tr>\n",
       "  <th>Method:</th>             <td>Least Squares</td>  <th>  F-statistic:       </th> <td>   199.3</td>\n",
       "</tr>\n",
       "<tr>\n",
       "  <th>Date:</th>             <td>Sun, 15 Oct 2023</td> <th>  Prob (F-statistic):</th> <td>3.41e-37</td>\n",
       "</tr>\n",
       "<tr>\n",
       "  <th>Time:</th>                 <td>17:27:53</td>     <th>  Log-Likelihood:    </th> <td> -1091.1</td>\n",
       "</tr>\n",
       "<tr>\n",
       "  <th>No. Observations:</th>      <td>   414</td>      <th>  AIC:               </th> <td>   2186.</td>\n",
       "</tr>\n",
       "<tr>\n",
       "  <th>Df Residuals:</th>          <td>   412</td>      <th>  BIC:               </th> <td>   2194.</td>\n",
       "</tr>\n",
       "<tr>\n",
       "  <th>Df Model:</th>              <td>     1</td>      <th>                     </th>     <td> </td>   \n",
       "</tr>\n",
       "<tr>\n",
       "  <th>Covariance Type:</th>      <td>nonrobust</td>    <th>                     </th>     <td> </td>   \n",
       "</tr>\n",
       "</table>\n",
       "<table class=\"simpletable\">\n",
       "<tr>\n",
       "        <td></td>           <th>coef</th>     <th>std err</th>      <th>t</th>      <th>P>|t|</th>  <th>[0.025</th>    <th>0.975]</th>  \n",
       "</tr>\n",
       "<tr>\n",
       "  <th>Intercept</th>     <td>    8.2242</td> <td>    0.285</td> <td>   28.857</td> <td> 0.000</td> <td>    7.664</td> <td>    8.784</td>\n",
       "</tr>\n",
       "<tr>\n",
       "  <th>n_convenience</th> <td>    0.7981</td> <td>    0.057</td> <td>   14.118</td> <td> 0.000</td> <td>    0.687</td> <td>    0.909</td>\n",
       "</tr>\n",
       "</table>\n",
       "<table class=\"simpletable\">\n",
       "<tr>\n",
       "  <th>Omnibus:</th>       <td>171.927</td> <th>  Durbin-Watson:     </th> <td>   1.993</td> \n",
       "</tr>\n",
       "<tr>\n",
       "  <th>Prob(Omnibus):</th> <td> 0.000</td>  <th>  Jarque-Bera (JB):  </th> <td>1417.242</td> \n",
       "</tr>\n",
       "<tr>\n",
       "  <th>Skew:</th>          <td> 1.553</td>  <th>  Prob(JB):          </th> <td>1.78e-308</td>\n",
       "</tr>\n",
       "<tr>\n",
       "  <th>Kurtosis:</th>      <td>11.516</td>  <th>  Cond. No.          </th> <td>    8.87</td> \n",
       "</tr>\n",
       "</table><br/><br/>Notes:<br/>[1] Standard Errors assume that the covariance matrix of the errors is correctly specified."
      ],
      "text/latex": [
       "\\begin{center}\n",
       "\\begin{tabular}{lclc}\n",
       "\\toprule\n",
       "\\textbf{Dep. Variable:}    & price\\_twd\\_msq  & \\textbf{  R-squared:         } &     0.326   \\\\\n",
       "\\textbf{Model:}            &       OLS        & \\textbf{  Adj. R-squared:    } &     0.324   \\\\\n",
       "\\textbf{Method:}           &  Least Squares   & \\textbf{  F-statistic:       } &     199.3   \\\\\n",
       "\\textbf{Date:}             & Sun, 15 Oct 2023 & \\textbf{  Prob (F-statistic):} &  3.41e-37   \\\\\n",
       "\\textbf{Time:}             &     17:27:53     & \\textbf{  Log-Likelihood:    } &   -1091.1   \\\\\n",
       "\\textbf{No. Observations:} &         414      & \\textbf{  AIC:               } &     2186.   \\\\\n",
       "\\textbf{Df Residuals:}     &         412      & \\textbf{  BIC:               } &     2194.   \\\\\n",
       "\\textbf{Df Model:}         &           1      & \\textbf{                     } &             \\\\\n",
       "\\textbf{Covariance Type:}  &    nonrobust     & \\textbf{                     } &             \\\\\n",
       "\\bottomrule\n",
       "\\end{tabular}\n",
       "\\begin{tabular}{lcccccc}\n",
       "                        & \\textbf{coef} & \\textbf{std err} & \\textbf{t} & \\textbf{P$> |$t$|$} & \\textbf{[0.025} & \\textbf{0.975]}  \\\\\n",
       "\\midrule\n",
       "\\textbf{Intercept}      &       8.2242  &        0.285     &    28.857  &         0.000        &        7.664    &        8.784     \\\\\n",
       "\\textbf{n\\_convenience} &       0.7981  &        0.057     &    14.118  &         0.000        &        0.687    &        0.909     \\\\\n",
       "\\bottomrule\n",
       "\\end{tabular}\n",
       "\\begin{tabular}{lclc}\n",
       "\\textbf{Omnibus:}       & 171.927 & \\textbf{  Durbin-Watson:     } &     1.993  \\\\\n",
       "\\textbf{Prob(Omnibus):} &   0.000 & \\textbf{  Jarque-Bera (JB):  } &  1417.242  \\\\\n",
       "\\textbf{Skew:}          &   1.553 & \\textbf{  Prob(JB):          } & 1.78e-308  \\\\\n",
       "\\textbf{Kurtosis:}      &  11.516 & \\textbf{  Cond. No.          } &      8.87  \\\\\n",
       "\\bottomrule\n",
       "\\end{tabular}\n",
       "%\\caption{OLS Regression Results}\n",
       "\\end{center}\n",
       "\n",
       "Notes: \\newline\n",
       " [1] Standard Errors assume that the covariance matrix of the errors is correctly specified."
      ],
      "text/plain": [
       "<class 'statsmodels.iolib.summary.Summary'>\n",
       "\"\"\"\n",
       "                            OLS Regression Results                            \n",
       "==============================================================================\n",
       "Dep. Variable:          price_twd_msq   R-squared:                       0.326\n",
       "Model:                            OLS   Adj. R-squared:                  0.324\n",
       "Method:                 Least Squares   F-statistic:                     199.3\n",
       "Date:                Sun, 15 Oct 2023   Prob (F-statistic):           3.41e-37\n",
       "Time:                        17:27:53   Log-Likelihood:                -1091.1\n",
       "No. Observations:                 414   AIC:                             2186.\n",
       "Df Residuals:                     412   BIC:                             2194.\n",
       "Df Model:                           1                                         \n",
       "Covariance Type:            nonrobust                                         \n",
       "=================================================================================\n",
       "                    coef    std err          t      P>|t|      [0.025      0.975]\n",
       "---------------------------------------------------------------------------------\n",
       "Intercept         8.2242      0.285     28.857      0.000       7.664       8.784\n",
       "n_convenience     0.7981      0.057     14.118      0.000       0.687       0.909\n",
       "==============================================================================\n",
       "Omnibus:                      171.927   Durbin-Watson:                   1.993\n",
       "Prob(Omnibus):                  0.000   Jarque-Bera (JB):             1417.242\n",
       "Skew:                           1.553   Prob(JB):                    1.78e-308\n",
       "Kurtosis:                      11.516   Cond. No.                         8.87\n",
       "==============================================================================\n",
       "\n",
       "Notes:\n",
       "[1] Standard Errors assume that the covariance matrix of the errors is correctly specified.\n",
       "\"\"\""
      ]
     },
     "execution_count": 9,
     "metadata": {},
     "output_type": "execute_result"
    }
   ],
   "source": [
    "# both R^2 and adj_R^2 are reported in the summary also\n",
    "mdl_price_vs_nconv.summary()"
   ]
  },
  {
   "cell_type": "markdown",
   "metadata": {},
   "source": [
    "#### <a id='toc2_1_3_'></a>[-> Mean squared error (MSE)](#toc0_)"
   ]
  },
  {
   "cell_type": "markdown",
   "metadata": {},
   "source": [
    "Mean squared error (MSE) is the average of the squared errors or deviations. The formula for calculating MSE is given by,\n",
    "\n",
    "$$MSE = \\frac{1}{n - k - 1} \\sum (y_i - \\hat{y_i})^2$$\n",
    "\n",
    "Where:\n",
    "- $y_i$ is the actual/observed value of the response variable\n",
    "- $\\hat{y_i}$ is the predicted/estimated value (lies on the regression line)\n",
    "- $n$ is the number of observations\n",
    "- $k$ is the number of explanatory variables\n",
    "\n",
    "The MSE is a measure of the quality of an estimator. It is always non-negative, and lower values are better. "
   ]
  },
  {
   "cell_type": "code",
   "execution_count": 10,
   "metadata": {},
   "outputs": [
    {
     "data": {
      "text/plain": [
       "11.450694757101191"
      ]
     },
     "execution_count": 10,
     "metadata": {},
     "output_type": "execute_result"
    }
   ],
   "source": [
    "mdl_price_vs_nconv.mse_resid"
   ]
  },
  {
   "cell_type": "markdown",
   "metadata": {},
   "source": [
    "#### <a id='toc2_1_4_'></a>[-> Residual standard error (RSE)](#toc0_)"
   ]
  },
  {
   "cell_type": "markdown",
   "metadata": {},
   "source": [
    "Residual standard error (RSE) is the standard deviation of the residuals (prediction errors). RSE is found by taking the square root of MSE. \n",
    "$$ RSE = \\sqrt{MSE}$$\n",
    "\n",
    "Since the RSE has the same units as the response variable, it is useful for comparing two different models against a given dataset."
   ]
  },
  {
   "cell_type": "code",
   "execution_count": 11,
   "metadata": {},
   "outputs": [
    {
     "data": {
      "text/plain": [
       "3.383887521343047"
      ]
     },
     "execution_count": 11,
     "metadata": {},
     "output_type": "execute_result"
    }
   ],
   "source": [
    "np.sqrt(mdl_price_vs_nconv.mse_resid)"
   ]
  },
  {
   "cell_type": "markdown",
   "metadata": {},
   "source": [
    "The RSE is, very roughly speaking, a measure of the typical size of the residuals. That is, how much the predictions are typically wrong. It is a measure of the lack of fit of the model to the data. It is the average amount that the response will deviate from the true regression line. Lower values of RSE indicate better fit."
   ]
  },
  {
   "cell_type": "markdown",
   "metadata": {},
   "source": [
    "## <a id='toc3_'></a>[Visualizing model fit](#toc0_)"
   ]
  },
  {
   "cell_type": "markdown",
   "metadata": {},
   "source": [
    "**If a linear regression model is a good fit, then the residuals are approximately normally distributed, with mean zero.**"
   ]
  },
  {
   "cell_type": "markdown",
   "metadata": {},
   "source": [
    "#### <a id='toc3_1_1_'></a>[-> Residuals vs. Fitted values plot](#toc0_)"
   ]
  },
  {
   "cell_type": "markdown",
   "metadata": {},
   "source": [
    "Residuals vs. Fitted values plot is a scatter plot of residuals on the y-axis and fitted values (predicted values) on the x-axis. The residuals are the difference between the observed values and the fitted values. The residuals vs. fitted values plot is used to detect non-linearity, unequal error variances, and outliers."
   ]
  },
  {
   "cell_type": "markdown",
   "metadata": {},
   "source": [
    "If residuals met the assumption that they are **normally distributed with mean zero**, then the **\"lowess\" trend line** should closely follow the **y=0** line on the plot. A LOWESS trend line is a smooth curve following the data. These aren't good for making predictions but are useful for visualizing trends."
   ]
  },
  {
   "cell_type": "markdown",
   "metadata": {},
   "source": [
    "> We can use the `sns.residplot(data, x, y, lowess, order)` function to plot the residuals vs. fitted values plot without any extra hassle. `x is the explanatory variable and y is the response variable`. Set `lowess=True` to add a LOWESS trend line to the plot. By default, `order=1` which means the function will fit a simple linear regression model to the data and plot the residuals vs. fitted values plot."
   ]
  },
  {
   "cell_type": "code",
   "execution_count": 12,
   "metadata": {},
   "outputs": [
    {
     "data": {
      "text/plain": [
       "[Text(0.5, 0, 'fitted_values'), Text(0, 0.5, 'residuals')]"
      ]
     },
     "execution_count": 12,
     "metadata": {},
     "output_type": "execute_result"
    },
    {
     "data": {
      "image/png": "[encoded data removed]",
      "text/plain": [
       "<Figure size 640x480 with 1 Axes>"
      ]
     },
     "metadata": {},
     "output_type": "display_data"
    }
   ],
   "source": [
    "ax = sns.residplot(\n",
    "    data=taiwan_real_estate, y=\"price_twd_msq\", x=\"n_convenience\", lowess=True\n",
    ")\n",
    "ax.set(xlabel=\"fitted_values\", ylabel=\"residuals\")"
   ]
  },
  {
   "cell_type": "markdown",
   "metadata": {},
   "source": [
    "We can see that the lowess trend line closely follows the y=0 line indicating that a simple linear regression model is a good fit for the data."
   ]
  },
  {
   "cell_type": "markdown",
   "metadata": {},
   "source": [
    "#### <a id='toc3_1_2_'></a>[-> Q-Q plot](#toc0_)"
   ]
  },
  {
   "cell_type": "markdown",
   "metadata": {},
   "source": [
    "A Q-Q plot is a scatter plot of the quantiles of the residuals vs. the quantiles of a normal distribution. If the residuals are **normally distributed**, then the points on the Q-Q plot should lie approximately on the **y=x** line."
   ]
  },
  {
   "cell_type": "markdown",
   "metadata": {},
   "source": [
    "> To draw a Q-Q plot we can use the `statsmodels.api.qqplot(residuals, line='s')` function. The `line='s'` argument draws the standardized 45-degree line on the plot."
   ]
  },
  {
   "cell_type": "code",
   "execution_count": 13,
   "metadata": {},
   "outputs": [],
   "source": [
    "from statsmodels.api import qqplot"
   ]
  },
  {
   "cell_type": "code",
   "execution_count": 14,
   "metadata": {},
   "outputs": [
    {
     "data": {
      "image/png": "[encoded data removed]",
      "text/plain": [
       "<Figure size 640x480 with 1 Axes>"
      ]
     },
     "metadata": {},
     "output_type": "display_data"
    }
   ],
   "source": [
    "qqplot(mdl_price_vs_nconv.resid, line=\"s\")\n",
    "plt.show()"
   ]
  },
  {
   "cell_type": "markdown",
   "metadata": {},
   "source": [
    "#### <a id='toc3_1_3_'></a>[-> Scale-location plot](#toc0_)"
   ]
  },
  {
   "cell_type": "markdown",
   "metadata": {},
   "source": [
    "A scale-location plot is a scatter plot of the square root of the absolute normalized residuals vs. the fitted values. The square root of the absolute normalized residuals is used to stabilize the variance. If the residuals are **normally distributed with mean zero**, then the **\"lowess\" trend line** should be **parallel** to the **horizontal line**."
   ]
  },
  {
   "cell_type": "markdown",
   "metadata": {},
   "source": [
    "> To get the normalized residuals we use the `<fitted_model>.get_influence().resid_studentized_internal` method."
   ]
  },
  {
   "cell_type": "code",
   "execution_count": 15,
   "metadata": {},
   "outputs": [],
   "source": [
    "mdl_price_vs_nconv_norm_residuals = (\n",
    "    mdl_price_vs_nconv.get_influence().resid_studentized_internal\n",
    ")"
   ]
  },
  {
   "cell_type": "markdown",
   "metadata": {},
   "source": [
    "> Now we can plot the scale-location plot using the `sns.regplot(x = mdl.fittedvalues, y = np.sqrt(abs(normalized_residuals)), ci = None, lowess = True)` function."
   ]
  },
  {
   "cell_type": "code",
   "execution_count": 16,
   "metadata": {},
   "outputs": [
    {
     "data": {
      "image/png": "[encoded data removed]",
      "text/plain": [
       "<Figure size 640x480 with 1 Axes>"
      ]
     },
     "metadata": {},
     "output_type": "display_data"
    }
   ],
   "source": [
    "ax = sns.regplot(\n",
    "    x=mdl_price_vs_nconv.fittedvalues,\n",
    "    y=np.sqrt(abs(mdl_price_vs_nconv_norm_residuals)),\n",
    "    lowess=True,\n",
    ")\n",
    "ax.set(xlabel=\"Fitted values\", ylabel=\"Sqrt of abs val of stdized residuals\")\n",
    "plt.show()"
   ]
  },
  {
   "cell_type": "markdown",
   "metadata": {},
   "source": [
    "**These three diagnostic plots are excellent for sanity-checking the quality of our models.**"
   ]
  },
  {
   "cell_type": "markdown",
   "metadata": {},
   "source": [
    "## <a id='toc4_'></a>[Outliers, Leverage, and Influence](#toc0_)"
   ]
  },
  {
   "cell_type": "markdown",
   "metadata": {},
   "source": [
    "Outliers are observations that are far away from the rest of the data. They can be caused by measurement errors, unusual events, or simply random variation. Outliers can have a large effect on the regression model. So, it is important to identify them and understand their impact on the model."
   ]
  },
  {
   "cell_type": "markdown",
   "metadata": {},
   "source": [
    "For only a single explanatory variable, spotting outliers is easy. We can simply plot the data and look for points that are far away from the rest of the data. It is also possible to use a threshold for filtering out the outliers. But for multiple explanatory variables, it is not that easy and the math is complicated."
   ]
  },
  {
   "cell_type": "markdown",
   "metadata": {},
   "source": [
    "`Leverage` measures how unusual or extreme the explanatory variables are for each observation. Leverage is a measure of how far away the explanatory variable values of an observation are from the mean of the explanatory variable values.\n",
    "\n",
    "A high leverage point can certainly cause the regression line to shift however, leverage does not tell us how much the estimated coefficients of the model will change i.e, how exactly the shifting will be impacted by a high leverage point."
   ]
  },
  {
   "cell_type": "markdown",
   "metadata": {},
   "source": [
    "A related concept to leverage is `influence`. Influence is a measure of the impact of a specific data point on the regression model's coefficients, predictions, or goodness-of-fit measures (like R-squared). \n",
    "\n",
    "This is a type of `\"leave one out\" metric`. That is, it measures how much the model would change if you reran it without that data point. \n",
    "\n",
    "Influence can be quantified using various metrics, such as `Cook's distance`, `DFBETAS`, and `DFFITS`. The standard metric for influence is Cook's distance, which calculates influence based on the residual size and the leverage of the point.\n",
    "\n",
    "A high-influence point can cause the estimated coefficients to be biased or inaccurate."
   ]
  },
  {
   "cell_type": "markdown",
   "metadata": {},
   "source": [
    "Usually high leverage points also has high influence. However, it is possible for a data point to have high leverage but low influence. For example, a data point that is far away from the other points, but that is also close to the regression line, will have high leverage but low influence."
   ]
  },
  {
   "cell_type": "markdown",
   "metadata": {},
   "source": [
    "> Leverage and influence, along with other metrics, are retrieved from the `summary frame`. The summary frame is obtained by calling the `<fitted_model>.get_influence().summary_frame()` method."
   ]
  },
  {
   "cell_type": "code",
   "execution_count": 17,
   "metadata": {},
   "outputs": [],
   "source": [
    "taiwan_real_estate[\"sqrt_dist_to_mrt_m\"] = np.sqrt(taiwan_real_estate[\"dist_to_mrt_m\"])\n",
    "mdl_price_vs_dist = smf.ols(\n",
    "    \"price_twd_msq ~ sqrt_dist_to_mrt_m\", data=taiwan_real_estate\n",
    ").fit()"
   ]
  },
  {
   "cell_type": "code",
   "execution_count": 18,
   "metadata": {},
   "outputs": [],
   "source": [
    "price_dist_summary_frame = mdl_price_vs_dist.get_influence().summary_frame()"
   ]
  },
  {
   "cell_type": "code",
   "execution_count": 19,
   "metadata": {},
   "outputs": [
    {
     "data": {
      "text/html": [
       "<div>\n",
       "<style scoped>\n",
       "    .dataframe tbody tr th:only-of-type {\n",
       "        vertical-align: middle;\n",
       "    }\n",
       "\n",
       "    .dataframe tbody tr th {\n",
       "        vertical-align: top;\n",
       "    }\n",
       "\n",
       "    .dataframe thead th {\n",
       "        text-align: right;\n",
       "    }\n",
       "</style>\n",
       "<table border=\"1\" class=\"dataframe\">\n",
       "  <thead>\n",
       "    <tr style=\"text-align: right;\">\n",
       "      <th></th>\n",
       "      <th>dfb_Intercept</th>\n",
       "      <th>dfb_sqrt_dist_to_mrt_m</th>\n",
       "      <th>cooks_d</th>\n",
       "      <th>standard_resid</th>\n",
       "      <th>hat_diag</th>\n",
       "      <th>dffits_internal</th>\n",
       "      <th>student_resid</th>\n",
       "      <th>dffits</th>\n",
       "    </tr>\n",
       "  </thead>\n",
       "  <tbody>\n",
       "    <tr>\n",
       "      <th>0</th>\n",
       "      <td>-0.094893</td>\n",
       "      <td>0.073542</td>\n",
       "      <td>4.648246e-03</td>\n",
       "      <td>-1.266363</td>\n",
       "      <td>0.005764</td>\n",
       "      <td>-0.096418</td>\n",
       "      <td>-1.267294</td>\n",
       "      <td>-0.096489</td>\n",
       "    </tr>\n",
       "    <tr>\n",
       "      <th>1</th>\n",
       "      <td>-0.013981</td>\n",
       "      <td>0.008690</td>\n",
       "      <td>1.216711e-04</td>\n",
       "      <td>-0.262996</td>\n",
       "      <td>0.003506</td>\n",
       "      <td>-0.015599</td>\n",
       "      <td>-0.262699</td>\n",
       "      <td>-0.015582</td>\n",
       "    </tr>\n",
       "    <tr>\n",
       "      <th>2</th>\n",
       "      <td>0.025510</td>\n",
       "      <td>-0.009963</td>\n",
       "      <td>6.231096e-04</td>\n",
       "      <td>0.688143</td>\n",
       "      <td>0.002625</td>\n",
       "      <td>0.035302</td>\n",
       "      <td>0.687703</td>\n",
       "      <td>0.035279</td>\n",
       "    </tr>\n",
       "    <tr>\n",
       "      <th>3</th>\n",
       "      <td>0.055525</td>\n",
       "      <td>-0.021686</td>\n",
       "      <td>2.939394e-03</td>\n",
       "      <td>1.494602</td>\n",
       "      <td>0.002625</td>\n",
       "      <td>0.076673</td>\n",
       "      <td>1.496850</td>\n",
       "      <td>0.076789</td>\n",
       "    </tr>\n",
       "    <tr>\n",
       "      <th>4</th>\n",
       "      <td>-0.000932</td>\n",
       "      <td>0.000518</td>\n",
       "      <td>6.055123e-07</td>\n",
       "      <td>-0.019716</td>\n",
       "      <td>0.003106</td>\n",
       "      <td>-0.001100</td>\n",
       "      <td>-0.019692</td>\n",
       "      <td>-0.001099</td>\n",
       "    </tr>\n",
       "  </tbody>\n",
       "</table>\n",
       "</div>"
      ],
      "text/plain": [
       "   dfb_Intercept  dfb_sqrt_dist_to_mrt_m       cooks_d  standard_resid  \\\n",
       "0      -0.094893                0.073542  4.648246e-03       -1.266363   \n",
       "1      -0.013981                0.008690  1.216711e-04       -0.262996   \n",
       "2       0.025510               -0.009963  6.231096e-04        0.688143   \n",
       "3       0.055525               -0.021686  2.939394e-03        1.494602   \n",
       "4      -0.000932                0.000518  6.055123e-07       -0.019716   \n",
       "\n",
       "   hat_diag  dffits_internal  student_resid    dffits  \n",
       "0  0.005764        -0.096418      -1.267294 -0.096489  \n",
       "1  0.003506        -0.015599      -0.262699 -0.015582  \n",
       "2  0.002625         0.035302       0.687703  0.035279  \n",
       "3  0.002625         0.076673       1.496850  0.076789  \n",
       "4  0.003106        -0.001100      -0.019692 -0.001099  "
      ]
     },
     "execution_count": 19,
     "metadata": {},
     "output_type": "execute_result"
    }
   ],
   "source": [
    "price_dist_summary_frame.head()"
   ]
  },
  {
   "cell_type": "code",
   "execution_count": 20,
   "metadata": {},
   "outputs": [
    {
     "data": {
      "text/plain": [
       "(414, 8)"
      ]
     },
     "execution_count": 20,
     "metadata": {},
     "output_type": "execute_result"
    }
   ],
   "source": [
    "price_dist_summary_frame.shape"
   ]
  },
  {
   "cell_type": "markdown",
   "metadata": {},
   "source": [
    "- The leverage values are in the `hat_diag` column."
   ]
  },
  {
   "cell_type": "code",
   "execution_count": 21,
   "metadata": {},
   "outputs": [],
   "source": [
    "taiwan_real_estate_price_dist = taiwan_real_estate[\n",
    "    [\"sqrt_dist_to_mrt_m\", \"price_twd_msq\"]\n",
    "]"
   ]
  },
  {
   "cell_type": "code",
   "execution_count": 22,
   "metadata": {},
   "outputs": [],
   "source": [
    "taiwan_real_estate_price_dist[\"leverage\"] = price_dist_summary_frame[\"hat_diag\"]"
   ]
  },
  {
   "cell_type": "markdown",
   "metadata": {},
   "source": [
    "- The influence values are in the `cooks_d` column."
   ]
  },
  {
   "cell_type": "code",
   "execution_count": 23,
   "metadata": {},
   "outputs": [],
   "source": [
    "taiwan_real_estate_price_dist[\"influence_cooks_dist\"] = price_dist_summary_frame[\n",
    "    \"cooks_d\"\n",
    "]"
   ]
  },
  {
   "cell_type": "code",
   "execution_count": 24,
   "metadata": {},
   "outputs": [
    {
     "data": {
      "text/html": [
       "<div>\n",
       "<style scoped>\n",
       "    .dataframe tbody tr th:only-of-type {\n",
       "        vertical-align: middle;\n",
       "    }\n",
       "\n",
       "    .dataframe tbody tr th {\n",
       "        vertical-align: top;\n",
       "    }\n",
       "\n",
       "    .dataframe thead th {\n",
       "        text-align: right;\n",
       "    }\n",
       "</style>\n",
       "<table border=\"1\" class=\"dataframe\">\n",
       "  <thead>\n",
       "    <tr style=\"text-align: right;\">\n",
       "      <th></th>\n",
       "      <th>sqrt_dist_to_mrt_m</th>\n",
       "      <th>price_twd_msq</th>\n",
       "      <th>leverage</th>\n",
       "      <th>influence_cooks_dist</th>\n",
       "    </tr>\n",
       "  </thead>\n",
       "  <tbody>\n",
       "    <tr>\n",
       "      <th>270</th>\n",
       "      <td>15.892835</td>\n",
       "      <td>35.552194</td>\n",
       "      <td>0.003849</td>\n",
       "      <td>1.155487e-01</td>\n",
       "    </tr>\n",
       "    <tr>\n",
       "      <th>148</th>\n",
       "      <td>61.486503</td>\n",
       "      <td>13.645991</td>\n",
       "      <td>0.012147</td>\n",
       "      <td>5.244008e-02</td>\n",
       "    </tr>\n",
       "    <tr>\n",
       "      <th>228</th>\n",
       "      <td>56.314554</td>\n",
       "      <td>14.099849</td>\n",
       "      <td>0.009332</td>\n",
       "      <td>3.538436e-02</td>\n",
       "    </tr>\n",
       "    <tr>\n",
       "      <th>220</th>\n",
       "      <td>13.656870</td>\n",
       "      <td>23.691377</td>\n",
       "      <td>0.004401</td>\n",
       "      <td>2.512289e-02</td>\n",
       "    </tr>\n",
       "    <tr>\n",
       "      <th>113</th>\n",
       "      <td>19.830799</td>\n",
       "      <td>2.299546</td>\n",
       "      <td>0.003095</td>\n",
       "      <td>2.281295e-02</td>\n",
       "    </tr>\n",
       "    <tr>\n",
       "      <th>...</th>\n",
       "      <td>...</td>\n",
       "      <td>...</td>\n",
       "      <td>...</td>\n",
       "      <td>...</td>\n",
       "    </tr>\n",
       "    <tr>\n",
       "      <th>298</th>\n",
       "      <td>63.890649</td>\n",
       "      <td>5.052950</td>\n",
       "      <td>0.013619</td>\n",
       "      <td>5.554280e-07</td>\n",
       "    </tr>\n",
       "    <tr>\n",
       "      <th>6</th>\n",
       "      <td>24.969443</td>\n",
       "      <td>12.193646</td>\n",
       "      <td>0.002530</td>\n",
       "      <td>3.896928e-07</td>\n",
       "    </tr>\n",
       "    <tr>\n",
       "      <th>265</th>\n",
       "      <td>28.564513</td>\n",
       "      <td>11.527988</td>\n",
       "      <td>0.002415</td>\n",
       "      <td>2.570474e-07</td>\n",
       "    </tr>\n",
       "    <tr>\n",
       "      <th>237</th>\n",
       "      <td>27.071254</td>\n",
       "      <td>11.800303</td>\n",
       "      <td>0.002435</td>\n",
       "      <td>2.501281e-07</td>\n",
       "    </tr>\n",
       "    <tr>\n",
       "      <th>179</th>\n",
       "      <td>20.948778</td>\n",
       "      <td>12.889561</td>\n",
       "      <td>0.002932</td>\n",
       "      <td>1.893547e-08</td>\n",
       "    </tr>\n",
       "  </tbody>\n",
       "</table>\n",
       "<p>414 rows × 4 columns</p>\n",
       "</div>"
      ],
      "text/plain": [
       "     sqrt_dist_to_mrt_m  price_twd_msq  leverage  influence_cooks_dist\n",
       "270           15.892835      35.552194  0.003849          1.155487e-01\n",
       "148           61.486503      13.645991  0.012147          5.244008e-02\n",
       "228           56.314554      14.099849  0.009332          3.538436e-02\n",
       "220           13.656870      23.691377  0.004401          2.512289e-02\n",
       "113           19.830799       2.299546  0.003095          2.281295e-02\n",
       "..                  ...            ...       ...                   ...\n",
       "298           63.890649       5.052950  0.013619          5.554280e-07\n",
       "6             24.969443      12.193646  0.002530          3.896928e-07\n",
       "265           28.564513      11.527988  0.002415          2.570474e-07\n",
       "237           27.071254      11.800303  0.002435          2.501281e-07\n",
       "179           20.948778      12.889561  0.002932          1.893547e-08\n",
       "\n",
       "[414 rows x 4 columns]"
      ]
     },
     "execution_count": 24,
     "metadata": {},
     "output_type": "execute_result"
    }
   ],
   "source": [
    "taiwan_real_estate_price_dist.sort_values(by=\"influence_cooks_dist\", ascending=False)"
   ]
  },
  {
   "cell_type": "markdown",
   "metadata": {},
   "source": [
    "- To see how influence works, let's remove 5 of the most influential observations "
   ]
  },
  {
   "cell_type": "code",
   "execution_count": 25,
   "metadata": {},
   "outputs": [
    {
     "data": {
      "image/png": "[encoded data removed]",
      "text/plain": [
       "<Figure size 640x480 with 1 Axes>"
      ]
     },
     "metadata": {},
     "output_type": "display_data"
    }
   ],
   "source": [
    "sns.regplot(\n",
    "    x=\"sqrt_dist_to_mrt_m\",\n",
    "    y=\"price_twd_msq\",\n",
    "    data=taiwan_real_estate,\n",
    "    ci=None,\n",
    "    color=\"red\",\n",
    ")\n",
    "sns.regplot(\n",
    "    data=taiwan_real_estate_price_dist.sort_values(\n",
    "        by=\"influence_cooks_dist\", ascending=False\n",
    "    )[5:],\n",
    "    x=\"sqrt_dist_to_mrt_m\",\n",
    "    y=\"price_twd_msq\",\n",
    "    ci=None,\n",
    "    color=\"green\",\n",
    "    line_kws={\"color\": \"black\"},\n",
    ")\n",
    "plt.show()"
   ]
  },
  {
   "cell_type": "code",
   "execution_count": null,
   "metadata": {},
   "outputs": [],
   "source": []
  },
  {
   "cell_type": "code",
   "execution_count": null,
   "metadata": {},
   "outputs": [],
   "source": []
  }
 ],
 "metadata": {
  "kernelspec": {
   "display_name": "ml_intro",
   "language": "python",
   "name": "python3"
  },
  "language_info": {
   "codemirror_mode": {
    "name": "ipython",
    "version": 3
   },
   "file_extension": ".py",
   "mimetype": "text/x-python",
   "name": "python",
   "nbconvert_exporter": "python",
   "pygments_lexer": "ipython3",
   "version": "3.11.6"
  }
 },
 "nbformat": 4,
 "nbformat_minor": 2
}
