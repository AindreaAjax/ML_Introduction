{
 "cells": [
  {
   "cell_type": "markdown",
   "metadata": {},
   "source": [
    "**Table of contents**<a id='toc0_'></a>    \n",
    "- [Import statements](#toc1_1_)    \n",
    "- [Dataset](#toc1_2_)    \n",
    "- [Initial exploration](#toc1_3_)    \n",
    "- [Intro to the statsmodels package (Documentation) ](#toc1_4_)    \n",
    "- [Fitting a linear regression model](#toc1_5_)    \n",
    "- [Categorical explanatory variables](#toc1_6_)    \n",
    "- [Making predictions using the fitted model](#toc1_7_)    \n",
    "- [Some important model attributes (Fitted values and Residuals)](#toc1_8_)    \n",
    "\n",
    "<!-- vscode-jupyter-toc-config\n",
    "\tnumbering=false\n",
    "\tanchor=true\n",
    "\tflat=false\n",
    "\tminLevel=2\n",
    "\tmaxLevel=5\n",
    "\t/vscode-jupyter-toc-config -->\n",
    "<!-- THIS CELL WILL BE REPLACED ON TOC UPDATE. DO NOT WRITE YOUR TEXT IN THIS CELL -->"
   ]
  },
  {
   "cell_type": "markdown",
   "metadata": {},
   "source": [
    "### <a id='toc1_1_'></a>[Import statements](#toc0_)"
   ]
  },
  {
   "cell_type": "code",
   "execution_count": 1,
   "metadata": {},
   "outputs": [],
   "source": [
    "import warnings\n",
    "warnings.filterwarnings('ignore')"
   ]
  },
  {
   "cell_type": "code",
   "execution_count": 2,
   "metadata": {},
   "outputs": [],
   "source": [
    "import pandas as pd\n",
    "import numpy as np\n",
    "import seaborn as sns\n",
    "import matplotlib.pyplot as plt"
   ]
  },
  {
   "cell_type": "markdown",
   "metadata": {},
   "source": [
    "*Linear regression is an approach for modeling the relationship between a scalar dependent variable y and one or more explanatory variables (or independent variables) denoted X.*\n",
    "\n",
    "The case of one explanatory variable is called simple linear regression. For more than one explanatory variable, the process is called multiple linear regression. (This term should be distinguished from multivariate linear regression, where multiple correlated dependent variables are predicted, rather than a single scalar variable.)\n",
    "\n",
    "It is a means of exploring the variation in some quantity (dependent variable) in relation to others (independent variables). A major objective of linear regression is to separate the variation of the dependent variable into \"explained\" (by the independent variables) and \"unexplained\" components.\n",
    "\n",
    "Regression lets you predict the values of a response variable from known values of explanatory variables. Which variable you use as the response variable depends on the question you are trying to answer, but in many datasets, there will be an obvious choice for variables that would be interesting to predict."
   ]
  },
  {
   "cell_type": "markdown",
   "metadata": {},
   "source": [
    "### <a id='toc1_2_'></a>[Dataset](#toc0_)"
   ]
  },
  {
   "cell_type": "markdown",
   "metadata": {},
   "source": [
    "- Taiwan real estate dataset contains the following columns--\n",
    "  - dist_to_mrt_station_m: Distance to nearest MRT metro station, in meters.\n",
    "  - n_convenience: No. of convenience stores in walking distance.\n",
    "  - house_age_years: The age of the house, in years, in three groups.\n",
    "  - price_twd_msq: House price per unit area, in New Taiwan dollars per meter squared."
   ]
  },
  {
   "cell_type": "code",
   "execution_count": 3,
   "metadata": {},
   "outputs": [],
   "source": [
    "taiwan_real_estate = pd.read_csv(\"./datasets/taiwan_real_estate2.csv\")"
   ]
  },
  {
   "cell_type": "markdown",
   "metadata": {},
   "source": [
    "### <a id='toc1_3_'></a>[Initial exploration](#toc0_)"
   ]
  },
  {
   "cell_type": "code",
   "execution_count": 4,
   "metadata": {},
   "outputs": [
    {
     "data": {
      "text/html": [
       "<div>\n",
       "<style scoped>\n",
       "    .dataframe tbody tr th:only-of-type {\n",
       "        vertical-align: middle;\n",
       "    }\n",
       "\n",
       "    .dataframe tbody tr th {\n",
       "        vertical-align: top;\n",
       "    }\n",
       "\n",
       "    .dataframe thead th {\n",
       "        text-align: right;\n",
       "    }\n",
       "</style>\n",
       "<table border=\"1\" class=\"dataframe\">\n",
       "  <thead>\n",
       "    <tr style=\"text-align: right;\">\n",
       "      <th></th>\n",
       "      <th>dist_to_mrt_m</th>\n",
       "      <th>n_convenience</th>\n",
       "      <th>house_age_years</th>\n",
       "      <th>price_twd_msq</th>\n",
       "    </tr>\n",
       "  </thead>\n",
       "  <tbody>\n",
       "    <tr>\n",
       "      <th>0</th>\n",
       "      <td>84.87882</td>\n",
       "      <td>10</td>\n",
       "      <td>30 to 45</td>\n",
       "      <td>11.467474</td>\n",
       "    </tr>\n",
       "    <tr>\n",
       "      <th>1</th>\n",
       "      <td>306.59470</td>\n",
       "      <td>9</td>\n",
       "      <td>15 to 30</td>\n",
       "      <td>12.768533</td>\n",
       "    </tr>\n",
       "    <tr>\n",
       "      <th>2</th>\n",
       "      <td>561.98450</td>\n",
       "      <td>5</td>\n",
       "      <td>0 to 15</td>\n",
       "      <td>14.311649</td>\n",
       "    </tr>\n",
       "    <tr>\n",
       "      <th>3</th>\n",
       "      <td>561.98450</td>\n",
       "      <td>5</td>\n",
       "      <td>0 to 15</td>\n",
       "      <td>16.580938</td>\n",
       "    </tr>\n",
       "    <tr>\n",
       "      <th>4</th>\n",
       "      <td>390.56840</td>\n",
       "      <td>5</td>\n",
       "      <td>0 to 15</td>\n",
       "      <td>13.040847</td>\n",
       "    </tr>\n",
       "  </tbody>\n",
       "</table>\n",
       "</div>"
      ],
      "text/plain": [
       "   dist_to_mrt_m  n_convenience house_age_years  price_twd_msq\n",
       "0       84.87882             10        30 to 45      11.467474\n",
       "1      306.59470              9        15 to 30      12.768533\n",
       "2      561.98450              5         0 to 15      14.311649\n",
       "3      561.98450              5         0 to 15      16.580938\n",
       "4      390.56840              5         0 to 15      13.040847"
      ]
     },
     "execution_count": 4,
     "metadata": {},
     "output_type": "execute_result"
    }
   ],
   "source": [
    "taiwan_real_estate.head()"
   ]
  },
  {
   "cell_type": "code",
   "execution_count": 5,
   "metadata": {},
   "outputs": [
    {
     "name": "stdout",
     "output_type": "stream",
     "text": [
      "<class 'pandas.core.frame.DataFrame'>\n",
      "RangeIndex: 414 entries, 0 to 413\n",
      "Data columns (total 4 columns):\n",
      " #   Column           Non-Null Count  Dtype  \n",
      "---  ------           --------------  -----  \n",
      " 0   dist_to_mrt_m    414 non-null    float64\n",
      " 1   n_convenience    414 non-null    int64  \n",
      " 2   house_age_years  414 non-null    object \n",
      " 3   price_twd_msq    414 non-null    float64\n",
      "dtypes: float64(2), int64(1), object(1)\n",
      "memory usage: 13.1+ KB\n"
     ]
    }
   ],
   "source": [
    "taiwan_real_estate.info()"
   ]
  },
  {
   "cell_type": "code",
   "execution_count": 6,
   "metadata": {},
   "outputs": [
    {
     "data": {
      "text/plain": [
       "house_age_years\n",
       "0 to 15     190\n",
       "15 to 30    129\n",
       "30 to 45     95\n",
       "Name: count, dtype: int64"
      ]
     },
     "execution_count": 6,
     "metadata": {},
     "output_type": "execute_result"
    }
   ],
   "source": [
    "# The \"house_age_years\" column is object type. Let's explore it further.\n",
    "taiwan_real_estate.house_age_years.value_counts()"
   ]
  },
  {
   "cell_type": "code",
   "execution_count": 7,
   "metadata": {},
   "outputs": [],
   "source": [
    "# We can convert it to a category type and we can also map these categories to numbers. \n",
    "# For now we will just convert it to a category type.\n",
    "taiwan_real_estate[\"house_age_years\"] = taiwan_real_estate.house_age_years.astype(\"category\")"
   ]
  },
  {
   "cell_type": "code",
   "execution_count": 8,
   "metadata": {},
   "outputs": [
    {
     "data": {
      "text/html": [
       "<div>\n",
       "<style scoped>\n",
       "    .dataframe tbody tr th:only-of-type {\n",
       "        vertical-align: middle;\n",
       "    }\n",
       "\n",
       "    .dataframe tbody tr th {\n",
       "        vertical-align: top;\n",
       "    }\n",
       "\n",
       "    .dataframe thead th {\n",
       "        text-align: right;\n",
       "    }\n",
       "</style>\n",
       "<table border=\"1\" class=\"dataframe\">\n",
       "  <thead>\n",
       "    <tr style=\"text-align: right;\">\n",
       "      <th></th>\n",
       "      <th>dist_to_mrt_m</th>\n",
       "      <th>n_convenience</th>\n",
       "      <th>price_twd_msq</th>\n",
       "    </tr>\n",
       "  </thead>\n",
       "  <tbody>\n",
       "    <tr>\n",
       "      <th>count</th>\n",
       "      <td>414.000000</td>\n",
       "      <td>414.000000</td>\n",
       "      <td>414.000000</td>\n",
       "    </tr>\n",
       "    <tr>\n",
       "      <th>mean</th>\n",
       "      <td>1083.885689</td>\n",
       "      <td>4.094203</td>\n",
       "      <td>11.491738</td>\n",
       "    </tr>\n",
       "    <tr>\n",
       "      <th>std</th>\n",
       "      <td>1262.109595</td>\n",
       "      <td>2.945562</td>\n",
       "      <td>4.116940</td>\n",
       "    </tr>\n",
       "    <tr>\n",
       "      <th>min</th>\n",
       "      <td>23.382840</td>\n",
       "      <td>0.000000</td>\n",
       "      <td>2.299546</td>\n",
       "    </tr>\n",
       "    <tr>\n",
       "      <th>25%</th>\n",
       "      <td>289.324800</td>\n",
       "      <td>1.000000</td>\n",
       "      <td>8.381241</td>\n",
       "    </tr>\n",
       "    <tr>\n",
       "      <th>50%</th>\n",
       "      <td>492.231300</td>\n",
       "      <td>4.000000</td>\n",
       "      <td>11.633888</td>\n",
       "    </tr>\n",
       "    <tr>\n",
       "      <th>75%</th>\n",
       "      <td>1454.279000</td>\n",
       "      <td>6.000000</td>\n",
       "      <td>14.099849</td>\n",
       "    </tr>\n",
       "    <tr>\n",
       "      <th>max</th>\n",
       "      <td>6488.021000</td>\n",
       "      <td>10.000000</td>\n",
       "      <td>35.552194</td>\n",
       "    </tr>\n",
       "  </tbody>\n",
       "</table>\n",
       "</div>"
      ],
      "text/plain": [
       "       dist_to_mrt_m  n_convenience  price_twd_msq\n",
       "count     414.000000     414.000000     414.000000\n",
       "mean     1083.885689       4.094203      11.491738\n",
       "std      1262.109595       2.945562       4.116940\n",
       "min        23.382840       0.000000       2.299546\n",
       "25%       289.324800       1.000000       8.381241\n",
       "50%       492.231300       4.000000      11.633888\n",
       "75%      1454.279000       6.000000      14.099849\n",
       "max      6488.021000      10.000000      35.552194"
      ]
     },
     "execution_count": 8,
     "metadata": {},
     "output_type": "execute_result"
    }
   ],
   "source": [
    "taiwan_real_estate.describe()"
   ]
  },
  {
   "cell_type": "markdown",
   "metadata": {},
   "source": [
    "- Before running any statistical models, it's usually a good idea to visualize your dataset."
   ]
  },
  {
   "cell_type": "code",
   "execution_count": 9,
   "metadata": {},
   "outputs": [
    {
     "data": {
      "image/png": "[encoded data removed]",
      "text/plain": [
       "<Figure size 640x480 with 1 Axes>"
      ]
     },
     "metadata": {},
     "output_type": "display_data"
    }
   ],
   "source": [
    "# for now we will limit our exploration to relations between \"price_twd_msq\" and \"n_convenience\"\n",
    "# let's plot a simple scatterplot\n",
    "# since \"price_twd_msq\" is int type, we use \"alpha = 0.5\"\n",
    "sns.scatterplot(x=\"n_convenience\",\n",
    "                y=\"price_twd_msq\",\n",
    "                data=taiwan_real_estate,\n",
    "                alpha=0.5)\n",
    "\n",
    "plt.show()"
   ]
  },
  {
   "cell_type": "code",
   "execution_count": 10,
   "metadata": {},
   "outputs": [
    {
     "data": {
      "image/png": "[encoded data removed]",
      "text/plain": [
       "<Figure size 640x480 with 1 Axes>"
      ]
     },
     "metadata": {},
     "output_type": "display_data"
    }
   ],
   "source": [
    "# We can use `sns.regplot()` to plot the data and a linear regression model fit.\n",
    "# plotting a trend line on the scatter plot of price_twd_msq vs. n_convenience\n",
    "sns.regplot(x=\"n_convenience\",\n",
    "         y=\"price_twd_msq\",\n",
    "         data=taiwan_real_estate,\n",
    "         ci=None,\n",
    "         scatter_kws={'alpha': 0.5})\n",
    "\n",
    "plt.show()"
   ]
  },
  {
   "cell_type": "markdown",
   "metadata": {},
   "source": [
    "While `sns.regplot()` can display a linear regression trend line, it doesn't give you access to the intercept and slope as variables, or allow you to work with the model results as variables. That means sometimes you'll need to run a linear regression yourself."
   ]
  },
  {
   "cell_type": "markdown",
   "metadata": {},
   "source": [
    "### <a id='toc1_4_'></a>Intro to the statsmodels package ([Documentation](https://www.statsmodels.org/stable/user-guide.html))  [&#8593;](#toc0_)"
   ]
  },
  {
   "cell_type": "markdown",
   "metadata": {},
   "source": [
    "> Statsmodels uses `endog` and `exog` as names for describing the observed variables that are used in an estimation problem. You are probably more familiar with the terms `dependent` and `independent variables`, respectively. They are often also called `response` and `explanatory variables`, `y` and `x`, or `outcome` and `design`. A mnemonic hint to keep the two terms apart is that exogenous has an “x”, as in x-variable, in its name."
   ]
  },
  {
   "cell_type": "markdown",
   "metadata": {},
   "source": [
    "> Importing of modules can be done in multiple ways. See the documentation [here](https://www.statsmodels.org/stable/api-structure.html). \n"
   ]
  },
  {
   "cell_type": "markdown",
   "metadata": {},
   "source": [
    "  - API import for interactive use: initially `from statsmodels import api as sm` is executed. We then go deeper from here on to access the modules and functions."
   ]
  },
  {
   "cell_type": "code",
   "execution_count": 11,
   "metadata": {},
   "outputs": [],
   "source": [
    "import statsmodels.api as sm"
   ]
  },
  {
   "cell_type": "code",
   "execution_count": 12,
   "metadata": {},
   "outputs": [
    {
     "data": {
      "text/plain": [
       "['BayesGaussMI',\n",
       " 'BinomialBayesMixedGLM',\n",
       " 'ConditionalLogit',\n",
       " 'ConditionalMNLogit',\n",
       " 'ConditionalPoisson',\n",
       " 'Factor',\n",
       " 'GEE',\n",
       " 'GLM',\n",
       " 'GLMGam',\n",
       " 'GLS',\n",
       " 'GLSAR',\n",
       " 'GeneralizedPoisson',\n",
       " 'HurdleCountModel',\n",
       " 'Logit',\n",
       " 'MANOVA',\n",
       " 'MI',\n",
       " 'MICE',\n",
       " 'MICEData',\n",
       " 'MNLogit',\n",
       " 'MixedLM',\n",
       " 'NegativeBinomial',\n",
       " 'NegativeBinomialP',\n",
       " 'NominalGEE',\n",
       " 'OLS',\n",
       " 'OrdinalGEE',\n",
       " 'PCA',\n",
       " 'PHReg',\n",
       " 'Poisson',\n",
       " 'PoissonBayesMixedGLM',\n",
       " 'ProbPlot',\n",
       " 'Probit',\n",
       " 'QuantReg',\n",
       " 'RLM',\n",
       " 'RecursiveLS',\n",
       " 'SurvfuncRight',\n",
       " 'TruncatedLFNegativeBinomialP',\n",
       " 'TruncatedLFPoisson',\n",
       " 'WLS',\n",
       " 'ZeroInflatedGeneralizedPoisson',\n",
       " 'ZeroInflatedNegativeBinomialP',\n",
       " 'ZeroInflatedPoisson',\n",
       " '__all__',\n",
       " '__builtins__',\n",
       " '__cached__',\n",
       " '__doc__',\n",
       " '__file__',\n",
       " '__loader__',\n",
       " '__name__',\n",
       " '__package__',\n",
       " '__spec__',\n",
       " '__version__',\n",
       " '__version_info__',\n",
       " 'add_constant',\n",
       " 'categorical',\n",
       " 'cov_struct',\n",
       " 'datasets',\n",
       " 'distributions',\n",
       " 'duration',\n",
       " 'emplike',\n",
       " 'families',\n",
       " 'formula',\n",
       " 'gam',\n",
       " 'genmod',\n",
       " 'graphics',\n",
       " 'iolib',\n",
       " 'load',\n",
       " 'load_pickle',\n",
       " 'multivariate',\n",
       " 'nonparametric',\n",
       " 'qqline',\n",
       " 'qqplot',\n",
       " 'qqplot_2samples',\n",
       " 'regression',\n",
       " 'robust',\n",
       " 'show_versions',\n",
       " 'stats',\n",
       " 'test',\n",
       " 'tools',\n",
       " 'tsa',\n",
       " 'webdoc']"
      ]
     },
     "execution_count": 12,
     "metadata": {},
     "output_type": "execute_result"
    }
   ],
   "source": [
    "dir(sm)"
   ]
  },
  {
   "cell_type": "code",
   "execution_count": 13,
   "metadata": {},
   "outputs": [
    {
     "data": {
      "text/plain": [
       "['PytestTester',\n",
       " '__all__',\n",
       " '__builtins__',\n",
       " '__cached__',\n",
       " '__doc__',\n",
       " '__file__',\n",
       " '__loader__',\n",
       " '__name__',\n",
       " '__package__',\n",
       " '__path__',\n",
       " '__spec__',\n",
       " '_prediction',\n",
       " '_tools',\n",
       " 'linear_model',\n",
       " 'mixed_linear_model',\n",
       " 'quantile_regression',\n",
       " 'recursive_ls',\n",
       " 'test',\n",
       " 'yule_walker']"
      ]
     },
     "execution_count": 13,
     "metadata": {},
     "output_type": "execute_result"
    }
   ],
   "source": [
    "dir(sm.regression)"
   ]
  },
  {
   "cell_type": "code",
   "execution_count": 14,
   "metadata": {},
   "outputs": [
    {
     "data": {
      "text/plain": [
       "['Appender',\n",
       " 'Float64Array',\n",
       " 'GLS',\n",
       " 'GLSAR',\n",
       " 'InvalidTestWarning',\n",
       " 'Literal',\n",
       " 'OLS',\n",
       " 'OLSResults',\n",
       " 'PredictionResults',\n",
       " 'RegressionModel',\n",
       " 'RegressionResults',\n",
       " 'RegressionResultsWrapper',\n",
       " 'Sequence',\n",
       " 'ValueWarning',\n",
       " 'WLS',\n",
       " '_ELRegOpts',\n",
       " '__all__',\n",
       " '__builtins__',\n",
       " '__cached__',\n",
       " '__doc__',\n",
       " '__docformat__',\n",
       " '__file__',\n",
       " '__loader__',\n",
       " '__name__',\n",
       " '__package__',\n",
       " '__spec__',\n",
       " '_fit_regularized_doc',\n",
       " '_get_sigma',\n",
       " 'annotations',\n",
       " 'base',\n",
       " 'bool_like',\n",
       " 'burg',\n",
       " 'cache_readonly',\n",
       " 'cache_writable',\n",
       " 'cholesky',\n",
       " 'dtrtri',\n",
       " 'float_like',\n",
       " 'lrange',\n",
       " 'lzip',\n",
       " 'np',\n",
       " 'optimize',\n",
       " 'pinv_extended',\n",
       " 'pred',\n",
       " 'stats',\n",
       " 'string_like',\n",
       " 'toeplitz',\n",
       " 'warnings',\n",
       " 'wrap',\n",
       " 'yule_walker']"
      ]
     },
     "execution_count": 14,
     "metadata": {},
     "output_type": "execute_result"
    }
   ],
   "source": [
    "dir(sm.regression.linear_model)"
   ]
  },
  {
   "cell_type": "markdown",
   "metadata": {},
   "source": [
    "- Direct import for programs: statsmodels `submodules are arranged by topic` (e.g. discrete for discrete choice models, or tsa for time series analysis). Some example imports are given below."
   ]
  },
  {
   "cell_type": "code",
   "execution_count": 15,
   "metadata": {},
   "outputs": [],
   "source": [
    "from statsmodels.regression import linear_model"
   ]
  },
  {
   "cell_type": "code",
   "execution_count": 16,
   "metadata": {},
   "outputs": [
    {
     "data": {
      "text/plain": [
       "['Appender',\n",
       " 'Float64Array',\n",
       " 'GLS',\n",
       " 'GLSAR',\n",
       " 'InvalidTestWarning',\n",
       " 'Literal',\n",
       " 'OLS',\n",
       " 'OLSResults',\n",
       " 'PredictionResults',\n",
       " 'RegressionModel',\n",
       " 'RegressionResults',\n",
       " 'RegressionResultsWrapper',\n",
       " 'Sequence',\n",
       " 'ValueWarning',\n",
       " 'WLS',\n",
       " '_ELRegOpts',\n",
       " '__all__',\n",
       " '__builtins__',\n",
       " '__cached__',\n",
       " '__doc__',\n",
       " '__docformat__',\n",
       " '__file__',\n",
       " '__loader__',\n",
       " '__name__',\n",
       " '__package__',\n",
       " '__spec__',\n",
       " '_fit_regularized_doc',\n",
       " '_get_sigma',\n",
       " 'annotations',\n",
       " 'base',\n",
       " 'bool_like',\n",
       " 'burg',\n",
       " 'cache_readonly',\n",
       " 'cache_writable',\n",
       " 'cholesky',\n",
       " 'dtrtri',\n",
       " 'float_like',\n",
       " 'lrange',\n",
       " 'lzip',\n",
       " 'np',\n",
       " 'optimize',\n",
       " 'pinv_extended',\n",
       " 'pred',\n",
       " 'stats',\n",
       " 'string_like',\n",
       " 'toeplitz',\n",
       " 'warnings',\n",
       " 'wrap',\n",
       " 'yule_walker']"
      ]
     },
     "execution_count": 16,
     "metadata": {},
     "output_type": "execute_result"
    }
   ],
   "source": [
    "dir(linear_model)"
   ]
  },
  {
   "cell_type": "markdown",
   "metadata": {},
   "source": [
    "> Another way of using most of the avialable models is to use the `statsmodels.formula.api` module. The `formula.api` hosts many of the same functions found in `api` (e.g. OLS, GLM), but it also holds lower case counterparts for most of these models. "
   ]
  },
  {
   "cell_type": "markdown",
   "metadata": {},
   "source": [
    "In general, **lower case** models `accept formula and df arguments`, whereas **upper case** ones `take endog and exog design matrices`. We have to create these design matrices ourselves from the data (usually using the `patsy.dmatrices` function from the `patsy` package). Since we have the data as pandas dataframe we will be using the lower case models from the `statsmodels.formula.api` module.\n",
    "\n",
    "The `formula` argument accepts a string which describes the model in terms of a `patsy formula` and the `df` argument takes a `pandas data frame`.\n",
    "\n",
    "*Formula-compatible models have the following generic call signature:* (formula, data, subset=None, *args, **kwargs)"
   ]
  },
  {
   "cell_type": "code",
   "execution_count": 17,
   "metadata": {},
   "outputs": [],
   "source": [
    "import statsmodels.formula.api as smf"
   ]
  },
  {
   "cell_type": "code",
   "execution_count": 18,
   "metadata": {},
   "outputs": [
    {
     "data": {
      "text/plain": [
       "['__all__',\n",
       " '__builtins__',\n",
       " '__cached__',\n",
       " '__doc__',\n",
       " '__file__',\n",
       " '__loader__',\n",
       " '__name__',\n",
       " '__package__',\n",
       " '__spec__',\n",
       " 'conditional_logit',\n",
       " 'conditional_mnlogit',\n",
       " 'conditional_poisson',\n",
       " 'gee',\n",
       " 'glm',\n",
       " 'glmgam',\n",
       " 'gls',\n",
       " 'glsar',\n",
       " 'logit',\n",
       " 'mixedlm',\n",
       " 'mnlogit',\n",
       " 'negativebinomial',\n",
       " 'nominal_gee',\n",
       " 'ols',\n",
       " 'ordinal_gee',\n",
       " 'phreg',\n",
       " 'poisson',\n",
       " 'probit',\n",
       " 'quantreg',\n",
       " 'rlm',\n",
       " 'wls']"
      ]
     },
     "execution_count": 18,
     "metadata": {},
     "output_type": "execute_result"
    }
   ],
   "source": [
    "dir(smf)"
   ]
  },
  {
   "cell_type": "markdown",
   "metadata": {},
   "source": [
    "> Below is an introduction to how the formula strings are constructed. For more details, see the [patsy documentation](https://patsy.readthedocs.io/en/latest/formulas.html)."
   ]
  },
  {
   "cell_type": "markdown",
   "metadata": {},
   "source": [
    "The general form of a formula is `“y ~ x1 + x2 + ...”`. This formula describes the model `y = β0 + β1x1 + β2x2 + ...`, where `β0` is the intercept and `β1, β2, ...` are the coefficients for the explanatory variables `x1, x2, ...`. If any column is determined to be text strings, it would be treated as a categorical variable. \n",
    "\n",
    "- If there's an integer variable that we wanted to treat explicitly as categorical, we can do so by using the `C()` operator i.e, `“C(x1)”`.\n",
    "\n",
    "- `“x1:x2”` adds a new column to the design matrix with the product of the other two columns. `“x1*x2”` will also include the individual columns that were multiplied together.\n",
    "\n",
    "- You can apply vectorized functions to the variables in your model e.g, `“np.log(x1)”`. This way you can also apply custom functions to your variables (the custom functions should be vectorized)."
   ]
  },
  {
   "cell_type": "markdown",
   "metadata": {},
   "source": [
    "### <a id='toc1_5_'></a>[Fitting a linear regression model](#toc0_)"
   ]
  },
  {
   "cell_type": "markdown",
   "metadata": {},
   "source": [
    "> There are various models avilable for linear regression modeling such as, estimation by ordinary least squares (OLS), weighted least squares (WLS), generalized least squares (GLS), and feasible generalized least squares with autocorrelated AR(p) errors.\n",
    ">\n",
    ">> See the documentation [here](https://www.statsmodels.org/stable/regression.html) for more details."
   ]
  },
  {
   "cell_type": "code",
   "execution_count": 19,
   "metadata": {},
   "outputs": [],
   "source": [
    "# creating the model object using smf.ols\n",
    "mdl_price_vs_conv = smf.ols(formula=\"price_twd_msq ~ n_convenience\", data=taiwan_real_estate)\n",
    "\n",
    "# fitting the model\n",
    "res_price_vs_conv = mdl_price_vs_conv.fit()"
   ]
  },
  {
   "cell_type": "code",
   "execution_count": 20,
   "metadata": {},
   "outputs": [
    {
     "data": {
      "text/plain": [
       "statsmodels.regression.linear_model.RegressionResultsWrapper"
      ]
     },
     "execution_count": 20,
     "metadata": {},
     "output_type": "execute_result"
    }
   ],
   "source": [
    "type(res_price_vs_conv)"
   ]
  },
  {
   "cell_type": "code",
   "execution_count": 21,
   "metadata": {},
   "outputs": [
    {
     "data": {
      "text/plain": [
       "['HC0_se',\n",
       " 'HC1_se',\n",
       " 'HC2_se',\n",
       " 'HC3_se',\n",
       " '_HCCM',\n",
       " '__class__',\n",
       " '__delattr__',\n",
       " '__dict__',\n",
       " '__dir__',\n",
       " '__doc__',\n",
       " '__eq__',\n",
       " '__format__',\n",
       " '__ge__',\n",
       " '__getattribute__',\n",
       " '__getstate__',\n",
       " '__gt__',\n",
       " '__hash__',\n",
       " '__init__',\n",
       " '__init_subclass__',\n",
       " '__le__',\n",
       " '__lt__',\n",
       " '__module__',\n",
       " '__ne__',\n",
       " '__new__',\n",
       " '__reduce__',\n",
       " '__reduce_ex__',\n",
       " '__repr__',\n",
       " '__setattr__',\n",
       " '__sizeof__',\n",
       " '__str__',\n",
       " '__subclasshook__',\n",
       " '__weakref__',\n",
       " '_abat_diagonal',\n",
       " '_cache',\n",
       " '_data_attr',\n",
       " '_data_in_cache',\n",
       " '_get_robustcov_results',\n",
       " '_get_wald_nonlinear',\n",
       " '_is_nested',\n",
       " '_transform_predict_exog',\n",
       " '_use_t',\n",
       " '_wexog_singular_values',\n",
       " 'aic',\n",
       " 'bic',\n",
       " 'bse',\n",
       " 'centered_tss',\n",
       " 'compare_f_test',\n",
       " 'compare_lm_test',\n",
       " 'compare_lr_test',\n",
       " 'condition_number',\n",
       " 'conf_int',\n",
       " 'conf_int_el',\n",
       " 'cov_HC0',\n",
       " 'cov_HC1',\n",
       " 'cov_HC2',\n",
       " 'cov_HC3',\n",
       " 'cov_kwds',\n",
       " 'cov_params',\n",
       " 'cov_type',\n",
       " 'df_model',\n",
       " 'df_resid',\n",
       " 'eigenvals',\n",
       " 'el_test',\n",
       " 'ess',\n",
       " 'f_pvalue',\n",
       " 'f_test',\n",
       " 'fittedvalues',\n",
       " 'fvalue',\n",
       " 'get_influence',\n",
       " 'get_prediction',\n",
       " 'get_robustcov_results',\n",
       " 'info_criteria',\n",
       " 'initialize',\n",
       " 'k_constant',\n",
       " 'llf',\n",
       " 'load',\n",
       " 'model',\n",
       " 'mse_model',\n",
       " 'mse_resid',\n",
       " 'mse_total',\n",
       " 'nobs',\n",
       " 'normalized_cov_params',\n",
       " 'outlier_test',\n",
       " 'params',\n",
       " 'predict',\n",
       " 'pvalues',\n",
       " 'remove_data',\n",
       " 'resid',\n",
       " 'resid_pearson',\n",
       " 'rsquared',\n",
       " 'rsquared_adj',\n",
       " 'save',\n",
       " 'scale',\n",
       " 'ssr',\n",
       " 'summary',\n",
       " 'summary2',\n",
       " 't_test',\n",
       " 't_test_pairwise',\n",
       " 'tvalues',\n",
       " 'uncentered_tss',\n",
       " 'use_t',\n",
       " 'wald_test',\n",
       " 'wald_test_terms',\n",
       " 'wresid']"
      ]
     },
     "execution_count": 21,
     "metadata": {},
     "output_type": "execute_result"
    }
   ],
   "source": [
    "# available methods on the fitted model\n",
    "dir(res_price_vs_conv)"
   ]
  },
  {
   "cell_type": "code",
   "execution_count": 22,
   "metadata": {},
   "outputs": [
    {
     "name": "stdout",
     "output_type": "stream",
     "text": [
      "Intercept        8.224237\n",
      "n_convenience    0.798080\n",
      "dtype: float64\n"
     ]
    }
   ],
   "source": [
    "# the parameters of the fitted model\n",
    "print(res_price_vs_conv.params)"
   ]
  },
  {
   "cell_type": "markdown",
   "metadata": {},
   "source": [
    "The intercept is positive, so a house with no convenience stores nearby still has a positive price. The coefficient for convenience stores is also positive, so as the number of nearby convenience stores increases, so does the price of the house.\n",
    "\n",
    "- Intercept being 8.224 means that, on average the price of a house with no convenience stores nearby is 8.224 TWD per square meter.\n",
    "- The model has an n_convenience coefficient of 0.798. This means that, if you increase the nearby convenience stores by 1, the price of the house will increase by 0.798 TWD per square meter."
   ]
  },
  {
   "cell_type": "code",
   "execution_count": 23,
   "metadata": {},
   "outputs": [
    {
     "name": "stdout",
     "output_type": "stream",
     "text": [
      "                            OLS Regression Results                            \n",
      "==============================================================================\n",
      "Dep. Variable:          price_twd_msq   R-squared:                       0.326\n",
      "Model:                            OLS   Adj. R-squared:                  0.324\n",
      "Method:                 Least Squares   F-statistic:                     199.3\n",
      "Date:                Sat, 14 Oct 2023   Prob (F-statistic):           3.41e-37\n",
      "Time:                        20:02:39   Log-Likelihood:                -1091.1\n",
      "No. Observations:                 414   AIC:                             2186.\n",
      "Df Residuals:                     412   BIC:                             2194.\n",
      "Df Model:                           1                                         \n",
      "Covariance Type:            nonrobust                                         \n",
      "=================================================================================\n",
      "                    coef    std err          t      P>|t|      [0.025      0.975]\n",
      "---------------------------------------------------------------------------------\n",
      "Intercept         8.2242      0.285     28.857      0.000       7.664       8.784\n",
      "n_convenience     0.7981      0.057     14.118      0.000       0.687       0.909\n",
      "==============================================================================\n",
      "Omnibus:                      171.927   Durbin-Watson:                   1.993\n",
      "Prob(Omnibus):                  0.000   Jarque-Bera (JB):             1417.242\n",
      "Skew:                           1.553   Prob(JB):                    1.78e-308\n",
      "Kurtosis:                      11.516   Cond. No.                         8.87\n",
      "==============================================================================\n",
      "\n",
      "Notes:\n",
      "[1] Standard Errors assume that the covariance matrix of the errors is correctly specified.\n"
     ]
    }
   ],
   "source": [
    "# the summary of the fitted model\n",
    "print(res_price_vs_conv.summary())"
   ]
  },
  {
   "cell_type": "markdown",
   "metadata": {},
   "source": [
    "### <a id='toc1_6_'></a>[Categorical explanatory variables](#toc0_)"
   ]
  },
  {
   "cell_type": "markdown",
   "metadata": {},
   "source": [
    "In our dataset, the \"house_age_years\" column is a categorical variable. And simple observation tells that the \"price_twd_msq\" column is strongly correlated with the \"house_age_years\" column."
   ]
  },
  {
   "cell_type": "markdown",
   "metadata": {},
   "source": [
    "- To visualize the data, scatter plots aren't ideal because \"house_age_years\" is categorical. Instead, we can draw a histogram for each of the categories."
   ]
  },
  {
   "cell_type": "code",
   "execution_count": 24,
   "metadata": {},
   "outputs": [
    {
     "data": {
      "image/png": "[encoded data removed]",
      "text/plain": [
       "<Figure size 1500x500 with 3 Axes>"
      ]
     },
     "metadata": {},
     "output_type": "display_data"
    }
   ],
   "source": [
    "g = sns.displot(data=taiwan_real_estate, x=\"price_twd_msq\", col=\"house_age_years\", kind=\"hist\", element=\"bars\", bins=10, kde=True)\n",
    "plt.show()"
   ]
  },
  {
   "cell_type": "markdown",
   "metadata": {},
   "source": [
    "- Some summary statistics"
   ]
  },
  {
   "cell_type": "code",
   "execution_count": 25,
   "metadata": {},
   "outputs": [
    {
     "data": {
      "text/plain": [
       "house_age_years\n",
       "0 to 15     12.637471\n",
       "15 to 30     9.876743\n",
       "30 to 45    11.393264\n",
       "Name: price_twd_msq, dtype: float64"
      ]
     },
     "execution_count": 25,
     "metadata": {},
     "output_type": "execute_result"
    }
   ],
   "source": [
    "taiwan_real_estate.groupby(\"house_age_years\")[\"price_twd_msq\"].mean()"
   ]
  },
  {
   "cell_type": "markdown",
   "metadata": {},
   "source": [
    "- Fitting a linear regression model"
   ]
  },
  {
   "cell_type": "code",
   "execution_count": 26,
   "metadata": {},
   "outputs": [],
   "source": [
    "mdl_price_vs_house_age = smf.ols(formula=\"price_twd_msq ~ house_age_years\", data=taiwan_real_estate)\n",
    "res_price_vs_house_age = mdl_price_vs_house_age.fit()"
   ]
  },
  {
   "cell_type": "code",
   "execution_count": 27,
   "metadata": {},
   "outputs": [
    {
     "data": {
      "text/plain": [
       "Intercept                      12.637471\n",
       "house_age_years[T.15 to 30]    -2.760728\n",
       "house_age_years[T.30 to 45]    -1.244207\n",
       "dtype: float64"
      ]
     },
     "execution_count": 27,
     "metadata": {},
     "output_type": "execute_result"
    }
   ],
   "source": [
    "res_price_vs_house_age.params"
   ]
  },
  {
   "cell_type": "markdown",
   "metadata": {},
   "source": [
    "This time we have 3 coefficients: an intercept, one for house price category \"15 to 30\", and one for category \"30 to 45\". \n",
    "\n",
    "- A coefficient for category \"0 to 15\" is missing, but the number for the intercept looks familiar. The intercept is the mean twd msq price for the \"0 to 15\" category. \n",
    "- You might also wonder why the other coefficients are negative since price can't be negative. The coefficients for each category are calculated relative to the intercept. If you pay close attention you can see that if the coefficients are added to the intercept they equal the mean price for those categories. Now these coefficients make more sense. This way of displaying results can be useful for models with multiple explanatory variables, but for simple linear regression, it's just confusing. Fortunately, we can fix it. By changing the formula slightly to append \"plus zero\". This way we specify that all the coefficients should be given relative to zero. Equivalently, it means we are fitting a linear regression without an intercept term."
   ]
  },
  {
   "cell_type": "code",
   "execution_count": 28,
   "metadata": {},
   "outputs": [
    {
     "data": {
      "text/plain": [
       "house_age_years[0 to 15]     12.637471\n",
       "house_age_years[15 to 30]     9.876743\n",
       "house_age_years[30 to 45]    11.393264\n",
       "dtype: float64"
      ]
     },
     "execution_count": 28,
     "metadata": {},
     "output_type": "execute_result"
    }
   ],
   "source": [
    "# \"+ 0\" specifies that all the coefficients should be given relative to zero. \n",
    "# Equivalently, it means we are fitting a linear regression without an intercept term.\n",
    "\n",
    "smf.ols(formula=\"price_twd_msq ~ house_age_years + 0\", data=taiwan_real_estate).fit().params"
   ]
  },
  {
   "cell_type": "markdown",
   "metadata": {},
   "source": [
    "They are all just the mean price for each categories. This is a reassuringly boring result. **When you only have a single, categorical explanatory variable, the linear regression coefficients are simply the means of each category.**"
   ]
  },
  {
   "cell_type": "markdown",
   "metadata": {},
   "source": [
    "### <a id='toc1_7_'></a>[Making predictions using the fitted model](#toc0_)"
   ]
  },
  {
   "cell_type": "markdown",
   "metadata": {},
   "source": [
    "Perhaps the most useful feature of statistical models like linear regression is that you can make predictions. That is, you specify values for each of the explanatory variables, feed them to the model, and get a prediction for the corresponding response variable. For our fitted model above we can call the `.predict(exog=None, transform=True, *args, **kwargs)` to make predictions from the fitted model. `exog` is array_like and defines the values for which you want to predict the response variable. `transform` is a boolean and if `True` (default), applies the model’s `transform` method to `exog` before prediction. See documentation for more details."
   ]
  },
  {
   "cell_type": "code",
   "execution_count": 29,
   "metadata": {},
   "outputs": [],
   "source": [
    "# explanatory_data \n",
    "explanatory_data = pd.DataFrame({'n_convenience': np.arange(0, 11)})\n",
    "\n",
    "# use res_price_vs_conv to predict with explanatory_data, call it price_twd_msq\n",
    "price_twd_msq = res_price_vs_conv.predict(explanatory_data)\n",
    "\n",
    "# prediction_data (a dataframe that contains both the explanatory data and response data)\n",
    "prediction_data = explanatory_data.assign(\n",
    "    price_twd_msq = price_twd_msq)"
   ]
  },
  {
   "cell_type": "code",
   "execution_count": 30,
   "metadata": {},
   "outputs": [
    {
     "name": "stdout",
     "output_type": "stream",
     "text": [
      "    n_convenience  price_twd_msq\n",
      "0               0       8.224237\n",
      "1               1       9.022317\n",
      "2               2       9.820397\n",
      "3               3      10.618477\n",
      "4               4      11.416556\n",
      "5               5      12.214636\n",
      "6               6      13.012716\n",
      "7               7      13.810795\n",
      "8               8      14.608875\n",
      "9               9      15.406955\n",
      "10             10      16.205035\n"
     ]
    }
   ],
   "source": [
    "print(prediction_data)"
   ]
  },
  {
   "cell_type": "markdown",
   "metadata": {},
   "source": [
    "- Visualizing predictions"
   ]
  },
  {
   "cell_type": "code",
   "execution_count": 31,
   "metadata": {},
   "outputs": [
    {
     "data": {
      "image/png": "[encoded data removed]",
      "text/plain": [
       "<Figure size 640x480 with 1 Axes>"
      ]
     },
     "metadata": {},
     "output_type": "display_data"
    }
   ],
   "source": [
    "# creating a new figure, fig onto which both the regression plot and the scatter plot will be drawn\n",
    "fig = plt.figure()\n",
    "\n",
    "sns.regplot(x=\"n_convenience\",\n",
    "            y=\"price_twd_msq\",\n",
    "            data=taiwan_real_estate,\n",
    "            ci=None)\n",
    "\n",
    "# adding a scatter plot layer to the regplot\n",
    "sns.scatterplot(data=prediction_data, x=\"n_convenience\", y=\"price_twd_msq\", color=\"red\")\n",
    "\n",
    "# the layered plot\n",
    "plt.show()"
   ]
  },
  {
   "cell_type": "markdown",
   "metadata": {},
   "source": [
    "- Limits of predictions"
   ]
  },
  {
   "cell_type": "markdown",
   "metadata": {},
   "source": [
    "Linear models don't know what is possible or not in real life. That means that they can give you predictions that don't make any sense when applied to your data. Take the following example:"
   ]
  },
  {
   "cell_type": "code",
   "execution_count": 32,
   "metadata": {},
   "outputs": [
    {
     "data": {
      "text/plain": [
       "0     7.426158\n",
       "1    10.219437\n",
       "dtype: float64"
      ]
     },
     "execution_count": 32,
     "metadata": {},
     "output_type": "execute_result"
    }
   ],
   "source": [
    "res_price_vs_conv.predict(pd.DataFrame({\"n_convenience\": [-1, 2.5]}))"
   ]
  },
  {
   "cell_type": "markdown",
   "metadata": {},
   "source": [
    "**You need to understand what your data means in order to determine whether a prediction is nonsense or not.**"
   ]
  },
  {
   "cell_type": "markdown",
   "metadata": {},
   "source": [
    "### <a id='toc1_8_'></a>[Some important model attributes (Fitted values and Residuals)](#toc0_)"
   ]
  },
  {
   "cell_type": "markdown",
   "metadata": {},
   "source": [
    "We have already seen how to access some of the model attributes in the previous notebook such as, `.params` and `.summary()`."
   ]
  },
  {
   "cell_type": "markdown",
   "metadata": {},
   "source": [
    "- The `.fittedvalues` attribute returns the predicted values of the dependent variable on the original dataset used to create the model, i.e. the values of $\\hat{y}$ as a pandas Series object. \n",
    "\n",
    "    *This is the part of the response variable that is explained by the explanatory variable i.e, the independent variable.*"
   ]
  },
  {
   "cell_type": "code",
   "execution_count": 33,
   "metadata": {},
   "outputs": [
    {
     "data": {
      "text/plain": [
       "0      16.205035\n",
       "1      15.406955\n",
       "2      12.214636\n",
       "3      12.214636\n",
       "4      12.214636\n",
       "         ...    \n",
       "409     8.224237\n",
       "410    15.406955\n",
       "411    13.810795\n",
       "412    12.214636\n",
       "413    15.406955\n",
       "Length: 414, dtype: float64"
      ]
     },
     "execution_count": 33,
     "metadata": {},
     "output_type": "execute_result"
    }
   ],
   "source": [
    "res_price_vs_conv.fittedvalues"
   ]
  },
  {
   "cell_type": "code",
   "execution_count": 34,
   "metadata": {},
   "outputs": [
    {
     "data": {
      "text/plain": [
       "0      16.205035\n",
       "1      15.406955\n",
       "2      12.214636\n",
       "3      12.214636\n",
       "4      12.214636\n",
       "         ...    \n",
       "409     8.224237\n",
       "410    15.406955\n",
       "411    13.810795\n",
       "412    12.214636\n",
       "413    15.406955\n",
       "Length: 414, dtype: float64"
      ]
     },
     "execution_count": 34,
     "metadata": {},
     "output_type": "execute_result"
    }
   ],
   "source": [
    "# This is equivalent to,\n",
    "res_price_vs_conv.predict(taiwan_real_estate[\"n_convenience\"])"
   ]
  },
  {
   "cell_type": "markdown",
   "metadata": {},
   "source": [
    "- The `.resid` attribute gives the residuals of the model. \"Residuals\" are a measure of inaccuracy in the model fit, and are accessed with the resid attribute. Residuals are the difference between the true values of the dependent variable, and the predicted values of the dependent variable. \n",
    "\n",
    "    *This is the part of the response variable that is not explained by the independent variable.*"
   ]
  },
  {
   "cell_type": "code",
   "execution_count": 35,
   "metadata": {},
   "outputs": [
    {
     "data": {
      "text/plain": [
       "0     -4.737561\n",
       "1     -2.638422\n",
       "2      2.097013\n",
       "3      4.366302\n",
       "4      0.826211\n",
       "         ...   \n",
       "409   -3.564631\n",
       "410   -0.278362\n",
       "411   -1.526378\n",
       "412    3.670387\n",
       "413    3.927387\n",
       "Length: 414, dtype: float64"
      ]
     },
     "execution_count": 35,
     "metadata": {},
     "output_type": "execute_result"
    }
   ],
   "source": [
    "res_price_vs_conv.resid"
   ]
  },
  {
   "cell_type": "code",
   "execution_count": 36,
   "metadata": {},
   "outputs": [
    {
     "data": {
      "text/plain": [
       "0     -4.737561\n",
       "1     -2.638422\n",
       "2      2.097013\n",
       "3      4.366302\n",
       "4      0.826211\n",
       "         ...   \n",
       "409   -3.564631\n",
       "410   -0.278362\n",
       "411   -1.526378\n",
       "412    3.670387\n",
       "413    3.927387\n",
       "Length: 414, dtype: float64"
      ]
     },
     "execution_count": 36,
     "metadata": {},
     "output_type": "execute_result"
    }
   ],
   "source": [
    "# This is equivalent to,\n",
    "taiwan_real_estate[\"price_twd_msq\"] - res_price_vs_conv.fittedvalues"
   ]
  },
  {
   "cell_type": "code",
   "execution_count": null,
   "metadata": {},
   "outputs": [],
   "source": []
  },
  {
   "cell_type": "code",
   "execution_count": null,
   "metadata": {},
   "outputs": [],
   "source": []
  }
 ],
 "metadata": {
  "kernelspec": {
   "display_name": "ml_intro",
   "language": "python",
   "name": "python3"
  },
  "language_info": {
   "codemirror_mode": {
    "name": "ipython",
    "version": 3
   },
   "file_extension": ".py",
   "mimetype": "text/x-python",
   "name": "python",
   "nbconvert_exporter": "python",
   "pygments_lexer": "ipython3",
   "version": "3.11.6"
  },
  "orig_nbformat": 4
 },
 "nbformat": 4,
 "nbformat_minor": 2
}
