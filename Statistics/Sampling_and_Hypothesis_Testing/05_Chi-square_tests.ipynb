{
 "cells": [
  {
   "cell_type": "markdown",
   "metadata": {},
   "source": [
    "**Table of contents**<a id='toc0_'></a>    \n",
    "- [Import statements](#toc1_1_)    \n",
    "- [Loading the datasets](#toc1_2_)    \n",
    "- [Chi-square tests](#toc2_)    \n",
    "  - [Chi-square goodness of fit test](#toc2_1_)    \n",
    "  - [The chi-square test of independence](#toc2_2_)    \n",
    "\n",
    "<!-- vscode-jupyter-toc-config\n",
    "\tnumbering=false\n",
    "\tanchor=true\n",
    "\tflat=false\n",
    "\tminLevel=2\n",
    "\tmaxLevel=5\n",
    "\t/vscode-jupyter-toc-config -->\n",
    "<!-- THIS CELL WILL BE REPLACED ON TOC UPDATE. DO NOT WRITE YOUR TEXT IN THIS CELL -->"
   ]
  },
  {
   "cell_type": "markdown",
   "metadata": {},
   "source": [
    "### <a id='toc1_1_'></a>[Import statements](#toc0_)"
   ]
  },
  {
   "cell_type": "code",
   "execution_count": 2,
   "metadata": {},
   "outputs": [],
   "source": [
    "import warnings\n",
    "\n",
    "warnings.filterwarnings(\"ignore\")"
   ]
  },
  {
   "cell_type": "code",
   "execution_count": 3,
   "metadata": {},
   "outputs": [],
   "source": [
    "import numpy as np\n",
    "import pandas as pd\n",
    "import matplotlib.pyplot as plt\n",
    "import seaborn as sns"
   ]
  },
  {
   "cell_type": "markdown",
   "metadata": {},
   "source": [
    "### <a id='toc1_2_'></a>[Loading the datasets](#toc0_)"
   ]
  },
  {
   "cell_type": "markdown",
   "metadata": {},
   "source": [
    "- The *\"late_shipments\"* dataset contains supply chain data on the delivery of medical supplies. Each row represents one delivery of a part."
   ]
  },
  {
   "cell_type": "code",
   "execution_count": 4,
   "metadata": {},
   "outputs": [],
   "source": [
    "late_shipments = pd.read_feather(\"./datasets/late_shipments.feather\")"
   ]
  },
  {
   "cell_type": "code",
   "execution_count": 5,
   "metadata": {},
   "outputs": [
    {
     "data": {
      "text/html": [
       "<div>\n",
       "<style scoped>\n",
       "    .dataframe tbody tr th:only-of-type {\n",
       "        vertical-align: middle;\n",
       "    }\n",
       "\n",
       "    .dataframe tbody tr th {\n",
       "        vertical-align: top;\n",
       "    }\n",
       "\n",
       "    .dataframe thead th {\n",
       "        text-align: right;\n",
       "    }\n",
       "</style>\n",
       "<table border=\"1\" class=\"dataframe\">\n",
       "  <thead>\n",
       "    <tr style=\"text-align: right;\">\n",
       "      <th></th>\n",
       "      <th>id</th>\n",
       "      <th>country</th>\n",
       "      <th>managed_by</th>\n",
       "      <th>fulfill_via</th>\n",
       "      <th>vendor_inco_term</th>\n",
       "      <th>shipment_mode</th>\n",
       "      <th>late_delivery</th>\n",
       "      <th>late</th>\n",
       "      <th>product_group</th>\n",
       "      <th>sub_classification</th>\n",
       "      <th>...</th>\n",
       "      <th>line_item_quantity</th>\n",
       "      <th>line_item_value</th>\n",
       "      <th>pack_price</th>\n",
       "      <th>unit_price</th>\n",
       "      <th>manufacturing_site</th>\n",
       "      <th>first_line_designation</th>\n",
       "      <th>weight_kilograms</th>\n",
       "      <th>freight_cost_usd</th>\n",
       "      <th>freight_cost_groups</th>\n",
       "      <th>line_item_insurance_usd</th>\n",
       "    </tr>\n",
       "  </thead>\n",
       "  <tbody>\n",
       "    <tr>\n",
       "      <th>0</th>\n",
       "      <td>36203.0</td>\n",
       "      <td>Nigeria</td>\n",
       "      <td>PMO - US</td>\n",
       "      <td>Direct Drop</td>\n",
       "      <td>EXW</td>\n",
       "      <td>Air</td>\n",
       "      <td>1.0</td>\n",
       "      <td>Yes</td>\n",
       "      <td>HRDT</td>\n",
       "      <td>HIV test</td>\n",
       "      <td>...</td>\n",
       "      <td>2996.0</td>\n",
       "      <td>266644.00</td>\n",
       "      <td>89.00</td>\n",
       "      <td>0.89</td>\n",
       "      <td>Alere Medical Co., Ltd.</td>\n",
       "      <td>Yes</td>\n",
       "      <td>1426.0</td>\n",
       "      <td>33279.83</td>\n",
       "      <td>expensive</td>\n",
       "      <td>373.83</td>\n",
       "    </tr>\n",
       "    <tr>\n",
       "      <th>1</th>\n",
       "      <td>30998.0</td>\n",
       "      <td>Botswana</td>\n",
       "      <td>PMO - US</td>\n",
       "      <td>Direct Drop</td>\n",
       "      <td>EXW</td>\n",
       "      <td>Air</td>\n",
       "      <td>0.0</td>\n",
       "      <td>No</td>\n",
       "      <td>HRDT</td>\n",
       "      <td>HIV test</td>\n",
       "      <td>...</td>\n",
       "      <td>25.0</td>\n",
       "      <td>800.00</td>\n",
       "      <td>32.00</td>\n",
       "      <td>1.60</td>\n",
       "      <td>Trinity Biotech, Plc</td>\n",
       "      <td>Yes</td>\n",
       "      <td>10.0</td>\n",
       "      <td>559.89</td>\n",
       "      <td>reasonable</td>\n",
       "      <td>1.72</td>\n",
       "    </tr>\n",
       "    <tr>\n",
       "      <th>2</th>\n",
       "      <td>69871.0</td>\n",
       "      <td>Vietnam</td>\n",
       "      <td>PMO - US</td>\n",
       "      <td>Direct Drop</td>\n",
       "      <td>EXW</td>\n",
       "      <td>Air</td>\n",
       "      <td>0.0</td>\n",
       "      <td>No</td>\n",
       "      <td>ARV</td>\n",
       "      <td>Adult</td>\n",
       "      <td>...</td>\n",
       "      <td>22925.0</td>\n",
       "      <td>110040.00</td>\n",
       "      <td>4.80</td>\n",
       "      <td>0.08</td>\n",
       "      <td>Hetero Unit III Hyderabad IN</td>\n",
       "      <td>Yes</td>\n",
       "      <td>3723.0</td>\n",
       "      <td>19056.13</td>\n",
       "      <td>expensive</td>\n",
       "      <td>181.57</td>\n",
       "    </tr>\n",
       "    <tr>\n",
       "      <th>3</th>\n",
       "      <td>17648.0</td>\n",
       "      <td>South Africa</td>\n",
       "      <td>PMO - US</td>\n",
       "      <td>Direct Drop</td>\n",
       "      <td>DDP</td>\n",
       "      <td>Ocean</td>\n",
       "      <td>0.0</td>\n",
       "      <td>No</td>\n",
       "      <td>ARV</td>\n",
       "      <td>Adult</td>\n",
       "      <td>...</td>\n",
       "      <td>152535.0</td>\n",
       "      <td>361507.95</td>\n",
       "      <td>2.37</td>\n",
       "      <td>0.04</td>\n",
       "      <td>Aurobindo Unit III, India</td>\n",
       "      <td>Yes</td>\n",
       "      <td>7698.0</td>\n",
       "      <td>11372.23</td>\n",
       "      <td>expensive</td>\n",
       "      <td>779.41</td>\n",
       "    </tr>\n",
       "    <tr>\n",
       "      <th>4</th>\n",
       "      <td>5647.0</td>\n",
       "      <td>Uganda</td>\n",
       "      <td>PMO - US</td>\n",
       "      <td>Direct Drop</td>\n",
       "      <td>EXW</td>\n",
       "      <td>Air</td>\n",
       "      <td>0.0</td>\n",
       "      <td>No</td>\n",
       "      <td>HRDT</td>\n",
       "      <td>HIV test - Ancillary</td>\n",
       "      <td>...</td>\n",
       "      <td>850.0</td>\n",
       "      <td>8.50</td>\n",
       "      <td>0.01</td>\n",
       "      <td>0.00</td>\n",
       "      <td>Inverness Japan</td>\n",
       "      <td>Yes</td>\n",
       "      <td>56.0</td>\n",
       "      <td>360.00</td>\n",
       "      <td>reasonable</td>\n",
       "      <td>0.01</td>\n",
       "    </tr>\n",
       "  </tbody>\n",
       "</table>\n",
       "<p>5 rows × 27 columns</p>\n",
       "</div>"
      ],
      "text/plain": [
       "        id       country managed_by  fulfill_via vendor_inco_term  \\\n",
       "0  36203.0       Nigeria   PMO - US  Direct Drop              EXW   \n",
       "1  30998.0      Botswana   PMO - US  Direct Drop              EXW   \n",
       "2  69871.0       Vietnam   PMO - US  Direct Drop              EXW   \n",
       "3  17648.0  South Africa   PMO - US  Direct Drop              DDP   \n",
       "4   5647.0        Uganda   PMO - US  Direct Drop              EXW   \n",
       "\n",
       "  shipment_mode  late_delivery late product_group    sub_classification  ...  \\\n",
       "0           Air            1.0  Yes          HRDT              HIV test  ...   \n",
       "1           Air            0.0   No          HRDT              HIV test  ...   \n",
       "2           Air            0.0   No           ARV                 Adult  ...   \n",
       "3         Ocean            0.0   No           ARV                 Adult  ...   \n",
       "4           Air            0.0   No          HRDT  HIV test - Ancillary  ...   \n",
       "\n",
       "  line_item_quantity line_item_value pack_price unit_price  \\\n",
       "0             2996.0       266644.00      89.00       0.89   \n",
       "1               25.0          800.00      32.00       1.60   \n",
       "2            22925.0       110040.00       4.80       0.08   \n",
       "3           152535.0       361507.95       2.37       0.04   \n",
       "4              850.0            8.50       0.01       0.00   \n",
       "\n",
       "             manufacturing_site first_line_designation  weight_kilograms  \\\n",
       "0       Alere Medical Co., Ltd.                    Yes            1426.0   \n",
       "1          Trinity Biotech, Plc                    Yes              10.0   \n",
       "2  Hetero Unit III Hyderabad IN                    Yes            3723.0   \n",
       "3     Aurobindo Unit III, India                    Yes            7698.0   \n",
       "4               Inverness Japan                    Yes              56.0   \n",
       "\n",
       "   freight_cost_usd  freight_cost_groups  line_item_insurance_usd  \n",
       "0          33279.83            expensive                   373.83  \n",
       "1            559.89           reasonable                     1.72  \n",
       "2          19056.13            expensive                   181.57  \n",
       "3          11372.23            expensive                   779.41  \n",
       "4            360.00           reasonable                     0.01  \n",
       "\n",
       "[5 rows x 27 columns]"
      ]
     },
     "execution_count": 5,
     "metadata": {},
     "output_type": "execute_result"
    }
   ],
   "source": [
    "late_shipments.head()"
   ]
  },
  {
   "cell_type": "code",
   "execution_count": 6,
   "metadata": {},
   "outputs": [
    {
     "name": "stdout",
     "output_type": "stream",
     "text": [
      "<class 'pandas.core.frame.DataFrame'>\n",
      "RangeIndex: 1000 entries, 0 to 999\n",
      "Data columns (total 27 columns):\n",
      " #   Column                    Non-Null Count  Dtype  \n",
      "---  ------                    --------------  -----  \n",
      " 0   id                        1000 non-null   float64\n",
      " 1   country                   1000 non-null   object \n",
      " 2   managed_by                1000 non-null   object \n",
      " 3   fulfill_via               1000 non-null   object \n",
      " 4   vendor_inco_term          1000 non-null   object \n",
      " 5   shipment_mode             1000 non-null   object \n",
      " 6   late_delivery             1000 non-null   float64\n",
      " 7   late                      1000 non-null   object \n",
      " 8   product_group             1000 non-null   object \n",
      " 9   sub_classification        1000 non-null   object \n",
      " 10  vendor                    1000 non-null   object \n",
      " 11  item_description          1000 non-null   object \n",
      " 12  molecule_test_type        1000 non-null   object \n",
      " 13  brand                     1000 non-null   object \n",
      " 14  dosage                    1000 non-null   object \n",
      " 15  dosage_form               1000 non-null   object \n",
      " 16  unit_of_measure_per_pack  1000 non-null   float64\n",
      " 17  line_item_quantity        1000 non-null   float64\n",
      " 18  line_item_value           1000 non-null   float64\n",
      " 19  pack_price                1000 non-null   float64\n",
      " 20  unit_price                1000 non-null   float64\n",
      " 21  manufacturing_site        1000 non-null   object \n",
      " 22  first_line_designation    1000 non-null   object \n",
      " 23  weight_kilograms          1000 non-null   float64\n",
      " 24  freight_cost_usd          986 non-null    float64\n",
      " 25  freight_cost_groups       986 non-null    object \n",
      " 26  line_item_insurance_usd   966 non-null    float64\n",
      "dtypes: float64(10), object(17)\n",
      "memory usage: 211.1+ KB\n"
     ]
    }
   ],
   "source": [
    "late_shipments.info()"
   ]
  },
  {
   "cell_type": "code",
   "execution_count": 7,
   "metadata": {},
   "outputs": [
    {
     "data": {
      "text/plain": [
       "product_group\n",
       "ARV     583\n",
       "HRDT    409\n",
       "ANTM      5\n",
       "ACT       3\n",
       "Name: count, dtype: int64"
      ]
     },
     "execution_count": 7,
     "metadata": {},
     "output_type": "execute_result"
    }
   ],
   "source": [
    "late_shipments.product_group.value_counts()"
   ]
  },
  {
   "cell_type": "markdown",
   "metadata": {},
   "source": [
    "## <a id='toc2_'></a>[Chi-square tests](#toc0_)"
   ]
  },
  {
   "cell_type": "markdown",
   "metadata": {},
   "source": [
    "The chi-squared tests are statistical tests used to compare observed and expected frequencies of categorical data.\n",
    "\n",
    "The chi-squared test is based on the chi-squared distribution. The chi-square distribution is a right-skewed distribution that is bounded below by 0. The shape of the chi-square distribution depends on the degrees of freedom. The higher the degrees of freedom, the more symmetric the distribution becomes. Similar to the F-statistic (in ANOVA test) and F-distribution, the chi-square statistic, $X^2$ and the chi-square distribution is always positive. The p-value is the area under the chi-square distribution to the right of the chi-square statistic."
   ]
  },
  {
   "cell_type": "markdown",
   "metadata": {},
   "source": [
    "### <a id='toc2_1_'></a>[Chi-square goodness of fit test](#toc0_)"
   ]
  },
  {
   "cell_type": "markdown",
   "metadata": {},
   "source": [
    "A one-sample chi-square test is called a chi-square goodness of fit test. It is used to determine whether sample data are consistent with a hypothesized distribution.\n",
    "\n",
    "The one-sample proportion test is used to determine whether the proportion of success in a ceategorical variable (i.e, the observed distribution) is equal to some hypothesized proportion of success (i.e., the expected distribution of the population). It is an extreme case of the chi-square goodness of fit test.\n",
    "\n",
    "In general, the idea of chi-square goodness of fit test expands on the idea of the one-sample proportion test. Instead of comparing the observed proportion of success with the hypothesized proportion of success, we compare the observed frequencies of the categories with the expected frequencies of the categories across a common categorical variable.\n",
    "\n",
    "For a chi-square goodness of fit test, we create a table that compares the observed frequencies of the categories with the expected frequencies of the categories across a common categorical variable. It is called a contingency table. The cells/rows of the table are the categories of the variable and there is one column for the observed frequencies and one column for the expected frequencies. The expected frequencies are calculated based on the expected distribution of the categories in the general population.\n",
    "\n",
    "An example of a chi-square goodness of fit test is testing whether the observed distribution of eye colors in a sample of 100 people is consistent with the expected distribution of eye colors in the general population. The contingency table for this example might look like this:\n",
    "\n",
    "| Eye color | Observed frequency | Expected frequency |\n",
    "|:----------:|:------------------:|:------------------:|\n",
    "| Brown      |          30        |         35         |\n",
    "| Blue       |          30        |         25         |\n",
    "| Green      |          25        |         20         |\n",
    "| Hazel      |          15        |         20         |\n",
    "| **Total**  |         **100**    |        **100**     |\n",
    "\n",
    "**Note:** the chi-square goodness of fit test requires you to know the population distribution that you are testing the observed data against. If you do not have the population data, then you cannot use the chi-square goodness of fit test."
   ]
  },
  {
   "cell_type": "markdown",
   "metadata": {},
   "source": [
    "**The null hypothesis** is that the observed distribution of the categorical variable is consistent with the expected distribution of the categorical variable.\n",
    "\n",
    "**The alternative hypothesis** is not explicitly stated rather it is implicitly understood from the null hypothesis."
   ]
  },
  {
   "cell_type": "markdown",
   "metadata": {},
   "source": [
    "When dealing with counts and investigating how far the observed counts are from the expected counts, we use a **test statistic called the chi-square ($X^2$) statistic.**\n",
    "\n",
    "The chi-square statistic for the chi-square goodness of fit test is calculated as:\n",
    "\n",
    "$$ X^2 = \\sum_{i=1}^{k} \\frac{(O_i - E_i)^2}{E_i} $$\n",
    "\n",
    "Where, \n",
    "- $k$ is the number of categories\n",
    "- $O_i$ is the observed frequency of the $i^{th}$ category \n",
    "- $E_i$ is the expected frequency of the $i^{th}$ category\n",
    "\n",
    "The degrees of freedom for the chi-square goodness of fit test is, $$df = k-1$$\n"
   ]
  },
  {
   "cell_type": "markdown",
   "metadata": {},
   "source": [
    "The p-value for the chi-square goodness of fit test is the area under the chi-square distribution to the right of the chi-square statistic, $X^2$. The p-value is found from the chi-square distribution table using the calculated chi-square statistic and the degrees of freedom."
   ]
  },
  {
   "cell_type": "markdown",
   "metadata": {},
   "source": [
    "> Let's see how to perform a chi-square goodness of fit test with an example using the *\"late_shipments\"* dataset. Let's say we hypothesize that the categories of the product group variable have the following distribution in the general population: ARV = 0.55, HRDT = 0.4, ANTM = 0.03 and ACT = 0.02. We want to test whether the observed distribution of the categories in the \"product_group\" column is consistent with the hypothesized distribution."
   ]
  },
  {
   "cell_type": "code",
   "execution_count": 8,
   "metadata": {},
   "outputs": [],
   "source": [
    "# Create a DataFrame for the Hypothesized/expected distribution\n",
    "hypothesized = pd.DataFrame(\n",
    "    {\"product_group\": [\"ARV\", \"HRDT\", \"ANTM\", \"ACT\"], \"prop\": [0.55, 0.4, 0.03, 0.02]}\n",
    ")"
   ]
  },
  {
   "cell_type": "code",
   "execution_count": 9,
   "metadata": {},
   "outputs": [],
   "source": [
    "# Find the number of rows in late_shipments\n",
    "n_total = len(late_shipments)\n",
    "\n",
    "# Create a column \"n\" that is prop column * n_total\n",
    "hypothesized[\"n\"] = hypothesized[\"prop\"] * n_total"
   ]
  },
  {
   "cell_type": "code",
   "execution_count": 10,
   "metadata": {},
   "outputs": [
    {
     "data": {
      "text/html": [
       "<div>\n",
       "<style scoped>\n",
       "    .dataframe tbody tr th:only-of-type {\n",
       "        vertical-align: middle;\n",
       "    }\n",
       "\n",
       "    .dataframe tbody tr th {\n",
       "        vertical-align: top;\n",
       "    }\n",
       "\n",
       "    .dataframe thead th {\n",
       "        text-align: right;\n",
       "    }\n",
       "</style>\n",
       "<table border=\"1\" class=\"dataframe\">\n",
       "  <thead>\n",
       "    <tr style=\"text-align: right;\">\n",
       "      <th></th>\n",
       "      <th>product_group</th>\n",
       "      <th>prop</th>\n",
       "      <th>n</th>\n",
       "    </tr>\n",
       "  </thead>\n",
       "  <tbody>\n",
       "    <tr>\n",
       "      <th>0</th>\n",
       "      <td>ARV</td>\n",
       "      <td>0.55</td>\n",
       "      <td>550.0</td>\n",
       "    </tr>\n",
       "    <tr>\n",
       "      <th>1</th>\n",
       "      <td>HRDT</td>\n",
       "      <td>0.40</td>\n",
       "      <td>400.0</td>\n",
       "    </tr>\n",
       "    <tr>\n",
       "      <th>2</th>\n",
       "      <td>ANTM</td>\n",
       "      <td>0.03</td>\n",
       "      <td>30.0</td>\n",
       "    </tr>\n",
       "    <tr>\n",
       "      <th>3</th>\n",
       "      <td>ACT</td>\n",
       "      <td>0.02</td>\n",
       "      <td>20.0</td>\n",
       "    </tr>\n",
       "  </tbody>\n",
       "</table>\n",
       "</div>"
      ],
      "text/plain": [
       "  product_group  prop      n\n",
       "0           ARV  0.55  550.0\n",
       "1          HRDT  0.40  400.0\n",
       "2          ANTM  0.03   30.0\n",
       "3           ACT  0.02   20.0"
      ]
     },
     "execution_count": 10,
     "metadata": {},
     "output_type": "execute_result"
    }
   ],
   "source": [
    "hypothesized"
   ]
  },
  {
   "cell_type": "code",
   "execution_count": 11,
   "metadata": {},
   "outputs": [],
   "source": [
    "# Choose a significance level\n",
    "alpha = 0.05"
   ]
  },
  {
   "cell_type": "code",
   "execution_count": 12,
   "metadata": {},
   "outputs": [],
   "source": [
    "# Create a DataFrame for the Observed counts\n",
    "product_group_counts = (\n",
    "    pd.DataFrame(late_shipments.product_group.value_counts())\n",
    "    .reset_index()\n",
    "    .rename(columns={\"count\": \"n\"})\n",
    ")"
   ]
  },
  {
   "cell_type": "code",
   "execution_count": 13,
   "metadata": {},
   "outputs": [
    {
     "data": {
      "text/html": [
       "<div>\n",
       "<style scoped>\n",
       "    .dataframe tbody tr th:only-of-type {\n",
       "        vertical-align: middle;\n",
       "    }\n",
       "\n",
       "    .dataframe tbody tr th {\n",
       "        vertical-align: top;\n",
       "    }\n",
       "\n",
       "    .dataframe thead th {\n",
       "        text-align: right;\n",
       "    }\n",
       "</style>\n",
       "<table border=\"1\" class=\"dataframe\">\n",
       "  <thead>\n",
       "    <tr style=\"text-align: right;\">\n",
       "      <th></th>\n",
       "      <th>product_group</th>\n",
       "      <th>n</th>\n",
       "    </tr>\n",
       "  </thead>\n",
       "  <tbody>\n",
       "    <tr>\n",
       "      <th>0</th>\n",
       "      <td>ARV</td>\n",
       "      <td>583</td>\n",
       "    </tr>\n",
       "    <tr>\n",
       "      <th>1</th>\n",
       "      <td>HRDT</td>\n",
       "      <td>409</td>\n",
       "    </tr>\n",
       "    <tr>\n",
       "      <th>2</th>\n",
       "      <td>ANTM</td>\n",
       "      <td>5</td>\n",
       "    </tr>\n",
       "    <tr>\n",
       "      <th>3</th>\n",
       "      <td>ACT</td>\n",
       "      <td>3</td>\n",
       "    </tr>\n",
       "  </tbody>\n",
       "</table>\n",
       "</div>"
      ],
      "text/plain": [
       "  product_group    n\n",
       "0           ARV  583\n",
       "1          HRDT  409\n",
       "2          ANTM    5\n",
       "3           ACT    3"
      ]
     },
     "execution_count": 13,
     "metadata": {},
     "output_type": "execute_result"
    }
   ],
   "source": [
    "product_group_counts"
   ]
  },
  {
   "cell_type": "markdown",
   "metadata": {},
   "source": [
    "The chi-square goodness of fit test compares proportions of each level of a categorical variable to hypothesized values. Before running such a test, it can be helpful to visually compare the distribution in the sample to the hypothesized distribution."
   ]
  },
  {
   "cell_type": "markdown",
   "metadata": {},
   "source": [
    "Let's create a visualization to see how well the hypothesized counts appear to model the observed counts. The natural way to visualize the counts of a categorical variable is with a bar plot."
   ]
  },
  {
   "cell_type": "code",
   "execution_count": 14,
   "metadata": {},
   "outputs": [
    {
     "data": {
      "image/png": "[encoded data removed]",
      "text/plain": [
       "<Figure size 640x480 with 1 Axes>"
      ]
     },
     "metadata": {},
     "output_type": "display_data"
    }
   ],
   "source": [
    "# Plot a blue bar graph of n vs. product_group for the sample counts\n",
    "plt.bar(\n",
    "    product_group_counts[\"product_group\"],\n",
    "    product_group_counts[\"n\"],\n",
    "    color=\"blue\",\n",
    "    label=\"Observed\",\n",
    ")\n",
    "\n",
    "# Add a red bar plot for the hypothesized counts\n",
    "plt.bar(\n",
    "    hypothesized[\"product_group\"],\n",
    "    hypothesized[\"n\"],\n",
    "    label=\"Hypothesized\",\n",
    "    color=\"red\",\n",
    "    alpha=0.5,\n",
    ")\n",
    "plt.legend()\n",
    "plt.show()"
   ]
  },
  {
   "cell_type": "markdown",
   "metadata": {},
   "source": [
    "We can see that one of the product group is reasonably well-modeled by the hypothesized distribution but the other three appear quite different, but we'll need to run a hypothesis test to see if the difference is statistically significant. "
   ]
  },
  {
   "cell_type": "markdown",
   "metadata": {},
   "source": [
    "We can use the `scipy.stats.chisquare` function to perform a chi-square goodness of fit test. The first argument is the observed counts and the second argument is the expected counts. The function returns the chi-square statistic and the p-value."
   ]
  },
  {
   "cell_type": "code",
   "execution_count": 15,
   "metadata": {},
   "outputs": [],
   "source": [
    "from scipy.stats import chisquare"
   ]
  },
  {
   "cell_type": "code",
   "execution_count": 16,
   "metadata": {},
   "outputs": [
    {
     "data": {
      "text/plain": [
       "Power_divergenceResult(statistic=37.465833333333336, pvalue=3.6670356075536226e-08)"
      ]
     },
     "execution_count": 16,
     "metadata": {},
     "output_type": "execute_result"
    }
   ],
   "source": [
    "# Perform a goodness of fit test on the product group counts n\n",
    "gof_test = chisquare(f_obs=product_group_counts[\"n\"], f_exp=hypothesized[\"n\"])\n",
    "\n",
    "# Print gof_test results\n",
    "gof_test"
   ]
  },
  {
   "cell_type": "code",
   "execution_count": 17,
   "metadata": {},
   "outputs": [],
   "source": [
    "chi_stat, p = gof_test"
   ]
  },
  {
   "cell_type": "code",
   "execution_count": 18,
   "metadata": {},
   "outputs": [
    {
     "data": {
      "text/plain": [
       "True"
      ]
     },
     "execution_count": 18,
     "metadata": {},
     "output_type": "execute_result"
    }
   ],
   "source": [
    "p < alpha"
   ]
  },
  {
   "cell_type": "markdown",
   "metadata": {},
   "source": [
    "Since the p-value is less than specified significance level of 0.05, we reject the null hypothesis and conclude that the observed distribution of the product group variable is not consistent with the hypothesized distribution."
   ]
  },
  {
   "cell_type": "markdown",
   "metadata": {},
   "source": [
    "### <a id='toc2_2_'></a>[The chi-square test of independence](#toc0_)"
   ]
  },
  {
   "cell_type": "markdown",
   "metadata": {},
   "source": [
    "A chi-square test of independence is used to determine whether there is a significant association between two different categorical variables. \n",
    "\n",
    "It is called a test of independence because it measures whether the two variables are independent of each other. Two categorical variables are considered to be statistically independent if the proportion of success in the response variable is the same across all categories of the explanatory variable.\n",
    "\n",
    "A two-sample proportion test is used to determine whether the proportion of success in a ceategorical response variable is equal across two groups/categories of an explanatory variable. The chi-square test of independence expands on this idea and allows us to test whether there is a significant association between two categorical variables (across all the categories of the response variable and the explanatory variable).\n",
    "\n",
    "One example of the chi-square test of independence would be a survey that investigates the relationship between gender and favorite genres of music. Gender is a binary categorical variable (Male or Female), while favorite music genres have several categories. The contingency table for the observed frequencies might look like this:\n",
    "\n",
    " ------      | Rock  | Pop  | Hip-Hop | Jazz  | *Total*\n",
    "-------------|-------|------|---------|-------|------------\n",
    "Male         | 30    | 20   | 25      | 25    | *100*\n",
    "Female       | 15    | 35   | 20      | 30    | *100*\n",
    "***Total***  | *45*  | *55* | *45*    | *55*  | *200*\n",
    "\n",
    "**Note:** \n",
    "1. The chi-square test of independence can only be used to compare two categorical variables in a particular sample. It cannot be used to compare across multiple samples.\n",
    "2. The chi-square test of independence can only be used to compare two categorical variables."
   ]
  },
  {
   "cell_type": "markdown",
   "metadata": {},
   "source": [
    "**The null hypothesis** is that there is no association between the two categorical variables. The alternative hypothesis is not explicitly stated rather implicitly understood from the null hypothesis.\n",
    "\n",
    "**The chi-square ($X^2$) statistic** is used to measure how far the observed counts are from the expected counts assuming the null hypothesis is true.\n",
    "\n",
    "The expected counts are calculated based on the assumption that the null hypothesis is true. The calculation of the expected counts follows the same intuition as the calculation of $P(A \\cap B)$ for two independent events $A$ and $B$ i.e, $P(A \\cap B) = P(A)P(B)$. The expected count for a cell is calculated as:\n",
    "\n",
    "$$ E_{ij} = \\frac{R_i \\times C_j}{n} $$\n",
    "\n",
    "Where,\n",
    "- $E_{ij}$ is the expected count for the $i^{th}$ row and $j^{th}$ column\n",
    "- $R_i$ is the total count for the $i^{th}$ row\n",
    "- $C_j$ is the total count for the $j^{th}$ column\n",
    "- $n$ is the total number of observations i.e, the table total\n",
    "\n",
    "For the example above, the expected counts would be calculated as:\n",
    "\n",
    " ------      | Rock  | Pop  | Hip-Hop | Jazz  | *Total*\n",
    "-------------|-------|------|---------|-------|------------\n",
    "Male         | 22.5 | 27.5| 22.5    | 27.5 | *100*\n",
    "Female       | 22.5 | 27.5| 22.5    | 27.5 | *100*\n",
    "***Total***  | *45*  | *55* | *45*    | *55*  | *200*\n",
    "\n",
    "\n",
    "The chi-square statistic for the chi-square test of independence is calculated as:\n",
    "\n",
    "$$ X^2 = \\sum_{m=1}^{k} \\frac{(O_{m} - E_{m})^2}{E_{m}} $$\n",
    "\n",
    "Where,\n",
    "- $k$ is the number of cells in the table i.e, $k = \\text{number of rows} \\times \\text{number of columns}$.\n",
    "\n",
    "The degrees of freedom for the chi-square test of independence is calculated as:\n",
    "\n",
    "$$ df = (r-1)(c-1) $$\n",
    "\n",
    "Where,\n",
    "- $r$ is the number of rows in the table\n",
    "- $c$ is the number of columns in the table"
   ]
  },
  {
   "cell_type": "markdown",
   "metadata": {},
   "source": [
    "The p-value for the chi-square goodness of fit test is the area under the chi-square distribution to the right of the chi-square statistic, $X^2$. The p-value is found from the chi-square distribution table using the calculated chi-square statistic and the degrees of freedom."
   ]
  },
  {
   "cell_type": "markdown",
   "metadata": {},
   "source": [
    "> Let's see how to perform a chi-square test of independence with an example using the *\"late_shipments\"* dataset."
   ]
  },
  {
   "cell_type": "markdown",
   "metadata": {},
   "source": [
    "The chi-square independence test compares proportions of successes of one categorical variable across the categories of another categorical variable."
   ]
  },
  {
   "cell_type": "markdown",
   "metadata": {},
   "source": [
    "Trade deals often use a form of business shorthand in order to specify the exact details of their contract. These are International Chamber of Commerce (ICC) international commercial terms, or incoterms for short.\n",
    "\n",
    "The late_shipments dataset includes a vendor_inco_term that describes the incoterms that applied to a given shipment. The choices are:\n",
    "\n",
    "-> EXW: \"Ex works\". The buyer pays for transportation of the goods.\n",
    "\n",
    "-> CIP: \"Carriage and insurance paid to\". The seller pays for freight and insurance until the goods board a ship.\n",
    "\n",
    "-> DDP: \"Delivered duty paid\". The seller pays for transportation of the goods until they reach a destination port.\n",
    "\n",
    "-> FCA: \"Free carrier\". The seller pays for transportation of the goods."
   ]
  },
  {
   "cell_type": "markdown",
   "metadata": {},
   "source": [
    "> Perhaps the incoterms affect whether or not the freight costs are expensive. Test these hypotheses with a significance level of $\\alpha = 0.01$."
   ]
  },
  {
   "cell_type": "markdown",
   "metadata": {},
   "source": [
    "$ H_0$ : vendor_inco_term and freight_cost_groups are independent.\n",
    "\n",
    "$ H_A$ : vendor_inco_term and freight_cost_groups are associated."
   ]
  },
  {
   "cell_type": "code",
   "execution_count": 19,
   "metadata": {},
   "outputs": [],
   "source": [
    "alpha = 0.01"
   ]
  },
  {
   "cell_type": "code",
   "execution_count": 20,
   "metadata": {},
   "outputs": [],
   "source": [
    "# Proportion of freight_cost_groups grouped by vendor_inco_term\n",
    "props = late_shipments.groupby(\"vendor_inco_term\")[\"freight_cost_groups\"].value_counts(\n",
    "    normalize=True\n",
    ")\n",
    "\n",
    "# Convert props to wide format\n",
    "wide_props = props.unstack()"
   ]
  },
  {
   "cell_type": "code",
   "execution_count": 21,
   "metadata": {},
   "outputs": [
    {
     "data": {
      "text/html": [
       "<div>\n",
       "<style scoped>\n",
       "    .dataframe tbody tr th:only-of-type {\n",
       "        vertical-align: middle;\n",
       "    }\n",
       "\n",
       "    .dataframe tbody tr th {\n",
       "        vertical-align: top;\n",
       "    }\n",
       "\n",
       "    .dataframe thead th {\n",
       "        text-align: right;\n",
       "    }\n",
       "</style>\n",
       "<table border=\"1\" class=\"dataframe\">\n",
       "  <thead>\n",
       "    <tr style=\"text-align: right;\">\n",
       "      <th>freight_cost_groups</th>\n",
       "      <th>expensive</th>\n",
       "      <th>reasonable</th>\n",
       "    </tr>\n",
       "    <tr>\n",
       "      <th>vendor_inco_term</th>\n",
       "      <th></th>\n",
       "      <th></th>\n",
       "    </tr>\n",
       "  </thead>\n",
       "  <tbody>\n",
       "    <tr>\n",
       "      <th>CIP</th>\n",
       "      <td>0.320000</td>\n",
       "      <td>0.680000</td>\n",
       "    </tr>\n",
       "    <tr>\n",
       "      <th>DDP</th>\n",
       "      <td>0.550000</td>\n",
       "      <td>0.450000</td>\n",
       "    </tr>\n",
       "    <tr>\n",
       "      <th>DDU</th>\n",
       "      <td>NaN</td>\n",
       "      <td>1.000000</td>\n",
       "    </tr>\n",
       "    <tr>\n",
       "      <th>EXW</th>\n",
       "      <td>0.583448</td>\n",
       "      <td>0.416552</td>\n",
       "    </tr>\n",
       "    <tr>\n",
       "      <th>FCA</th>\n",
       "      <td>0.336364</td>\n",
       "      <td>0.663636</td>\n",
       "    </tr>\n",
       "  </tbody>\n",
       "</table>\n",
       "</div>"
      ],
      "text/plain": [
       "freight_cost_groups  expensive  reasonable\n",
       "vendor_inco_term                          \n",
       "CIP                   0.320000    0.680000\n",
       "DDP                   0.550000    0.450000\n",
       "DDU                        NaN    1.000000\n",
       "EXW                   0.583448    0.416552\n",
       "FCA                   0.336364    0.663636"
      ]
     },
     "execution_count": 21,
     "metadata": {},
     "output_type": "execute_result"
    }
   ],
   "source": [
    "wide_props"
   ]
  },
  {
   "cell_type": "markdown",
   "metadata": {},
   "source": [
    "Let's explore the data using a proportional stacked bar plot."
   ]
  },
  {
   "cell_type": "code",
   "execution_count": 22,
   "metadata": {},
   "outputs": [
    {
     "data": {
      "image/png": "[encoded data removed]",
      "text/plain": [
       "<Figure size 640x480 with 1 Axes>"
      ]
     },
     "metadata": {},
     "output_type": "display_data"
    }
   ],
   "source": [
    "# Proportional stacked bar plot of freight_cost_group vs. vendor_inco_term\n",
    "wide_props.plot(kind=\"bar\", stacked=True)\n",
    "plt.show()"
   ]
  },
  {
   "cell_type": "markdown",
   "metadata": {},
   "source": [
    "If the cost gruops were independent of incoterms, the split between the cost groups would be at the same height in each of the five bars representing the incoterms categories. There's some significant variation here, but we'll need a chi-square independence test to determine whether it's a significant difference."
   ]
  },
  {
   "cell_type": "markdown",
   "metadata": {},
   "source": [
    "To test the independence of two categorical variables, $X$ and $Y$, we can use the `pingouin.chi2_independence` function. The function takes the dataframe and the names of the two categorical variables as arguments. The method returns three different pandas DataFrames: the expected counts, the observed counts, and statistics related to the test."
   ]
  },
  {
   "cell_type": "code",
   "execution_count": 23,
   "metadata": {},
   "outputs": [],
   "source": [
    "import pingouin"
   ]
  },
  {
   "cell_type": "code",
   "execution_count": 24,
   "metadata": {},
   "outputs": [
    {
     "name": "stdout",
     "output_type": "stream",
     "text": [
      "test        pearson\n",
      "lambda          1.0\n",
      "chi2      34.805072\n",
      "dof             4.0\n",
      "pval       0.000001\n",
      "cramer     0.186561\n",
      "power      0.999235\n",
      "Name: 0, dtype: object\n"
     ]
    }
   ],
   "source": [
    "# Determine if freight_cost_group and vendor_inco_term are independent\n",
    "expected, observed, stats = pingouin.chi2_independence(\n",
    "    late_shipments, x=\"freight_cost_groups\", y=\"vendor_inco_term\"\n",
    ")\n",
    "\n",
    "# One of the arguments to the function is the correction argument.\n",
    "# It specifies whether or not to apply Yates' continuity correction, which is a fudge factor\n",
    "# for when the sample size is very small and the degrees of freedom is one.\n",
    "# Since each group has over one hundred observations, we don't need it here.\n",
    "\n",
    "# Print results\n",
    "print(stats.iloc[0])"
   ]
  },
  {
   "cell_type": "markdown",
   "metadata": {},
   "source": [
    "Since the p-value is less than specified significance level of 0.01, we reject the null hypothesis and conclude that the variables - vendor_inco_term and freight_cost_groups are associated."
   ]
  },
  {
   "cell_type": "markdown",
   "metadata": {},
   "source": [
    "**`Note:`** If we run the chi-square test with the variables swapped, then the results are identical. Because of this, we phrase our questions as \"are variables X and Y independent?\", rather than \"is variable X independent from variable Y?\", since the order doesn't matter. "
   ]
  },
  {
   "cell_type": "code",
   "execution_count": 25,
   "metadata": {},
   "outputs": [
    {
     "name": "stdout",
     "output_type": "stream",
     "text": [
      "test        pearson\n",
      "lambda          1.0\n",
      "chi2      34.805072\n",
      "dof             4.0\n",
      "pval       0.000001\n",
      "cramer     0.186561\n",
      "power      0.999235\n",
      "Name: 0, dtype: object\n"
     ]
    }
   ],
   "source": [
    "print(\n",
    "    pingouin.chi2_independence(\n",
    "        late_shipments, x=\"freight_cost_groups\", y=\"vendor_inco_term\"\n",
    "    )[2].iloc[0]\n",
    ")"
   ]
  },
  {
   "cell_type": "code",
   "execution_count": 26,
   "metadata": {},
   "outputs": [
    {
     "data": {
      "image/png": "[encoded data removed]",
      "text/plain": [
       "<Figure size 640x480 with 1 Axes>"
      ]
     },
     "metadata": {},
     "output_type": "display_data"
    }
   ],
   "source": [
    "# Proportional stacked bar plot of freight_cost_group vs. vendor_inco_term\n",
    "wide_props.T.plot(kind=\"bar\", stacked=True)\n",
    "plt.show()"
   ]
  },
  {
   "cell_type": "code",
   "execution_count": null,
   "metadata": {},
   "outputs": [],
   "source": []
  }
 ],
 "metadata": {
  "kernelspec": {
   "display_name": "ml_intro",
   "language": "python",
   "name": "python3"
  },
  "language_info": {
   "codemirror_mode": {
    "name": "ipython",
    "version": 3
   },
   "file_extension": ".py",
   "mimetype": "text/x-python",
   "name": "python",
   "nbconvert_exporter": "python",
   "pygments_lexer": "ipython3",
   "version": "3.11.6"
  }
 },
 "nbformat": 4,
 "nbformat_minor": 2
}
