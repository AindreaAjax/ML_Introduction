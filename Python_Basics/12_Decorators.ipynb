{
 "cells": [
  {
   "cell_type": "markdown",
   "metadata": {},
   "source": [
    "## Python Decorators"
   ]
  },
  {
   "cell_type": "markdown",
   "metadata": {},
   "source": [
    "A decorator is a function that takes another function as an argument and modifies the behavior of the passed function without explicitly changing the source code. Decorators have many different use cases but are typically used when minor changes need to be made to many different functions."
   ]
  },
  {
   "cell_type": "markdown",
   "metadata": {},
   "source": [
    "Before we delve into decorators any further let's first understand two interesting ways in which python functions can be used.\n",
    "- Using Functions as First-Class Citizens: In Python, functions can be assigned to variables, passed as arguments to other functions, and returned from functions. This property makes decorators possible.\n",
    "\n",
    "- Nested Functions: Python allows functions to be defined within other functions and a decorator is often implemented as a nested function. We will see its benefit shortly."
   ]
  },
  {
   "cell_type": "markdown",
   "metadata": {},
   "source": [
    "### A very basic example of how a decorator is written and what it does"
   ]
  },
  {
   "cell_type": "code",
   "execution_count": 35,
   "metadata": {},
   "outputs": [],
   "source": [
    "# let's say we have an adder function that adds two numbers\n",
    "def adder(a, b):\n",
    "    result = a + b\n",
    "    print(f\"Result: {result}\")\n",
    "    return result"
   ]
  },
  {
   "cell_type": "code",
   "execution_count": 37,
   "metadata": {},
   "outputs": [
    {
     "name": "stdout",
     "output_type": "stream",
     "text": [
      "Result: 8\n"
     ]
    }
   ],
   "source": [
    "x = adder(5, 3)"
   ]
  },
  {
   "cell_type": "code",
   "execution_count": 39,
   "metadata": {},
   "outputs": [
    {
     "name": "stdout",
     "output_type": "stream",
     "text": [
      "8\n"
     ]
    }
   ],
   "source": [
    "print(x)"
   ]
  },
  {
   "cell_type": "markdown",
   "metadata": {},
   "source": [
    "Now, let's say we want to print a welcome message when the function starts to execute and a closing message  when the work is done. Our first instinct would be to use a modified adder function where we use some print satements."
   ]
  },
  {
   "cell_type": "code",
   "execution_count": 17,
   "metadata": {},
   "outputs": [],
   "source": [
    "def adder_v2(a, b):\n",
    "    print(\"Welcome. The function will now start your calculations.\")\n",
    "    print(f\"Result: {a+b}\")\n",
    "    print(\"Success! The function ran without any Errors.\")\n",
    "    return a + b"
   ]
  },
  {
   "cell_type": "code",
   "execution_count": 15,
   "metadata": {},
   "outputs": [
    {
     "name": "stdout",
     "output_type": "stream",
     "text": [
      "Welcome. The function will now start your calculations.\n",
      "Result: 8\n",
      "Success! The function ran without any Errors.\n"
     ]
    }
   ],
   "source": [
    "x = adder_v2(5, 3)"
   ]
  },
  {
   "cell_type": "code",
   "execution_count": 10,
   "metadata": {},
   "outputs": [
    {
     "name": "stdout",
     "output_type": "stream",
     "text": [
      "8\n"
     ]
    }
   ],
   "source": [
    "print(x)"
   ]
  },
  {
   "cell_type": "markdown",
   "metadata": {},
   "source": [
    "But there are some problems with this approach.\n",
    "1. This becomes very inefficient when we want to add this functionality (of printing messages) to 100s of such other functions. It's not feasible to modify all of them one by one (time inefficient and also space inefficient since we have to repeat the same code over and over again). \n",
    "2. Even if we decide to modify all those functions there another problem at hand. If the code base is a large one, as is often the case, it is very likely that the functions we want to modify were written by other people who had specific tasks in mind which they wanted to achieve. So if we go and change the code of some 100s of functions, it is very likely that we will break the existing code. Even if the code base is not that large it's still true."
   ]
  },
  {
   "cell_type": "markdown",
   "metadata": {},
   "source": [
    "So let's think about some solution. One comes to mind. Since we don't want to repeat code, can't we define a function to print our message and then just call that function inside the existing functions? Let's try that."
   ]
  },
  {
   "cell_type": "code",
   "execution_count": 18,
   "metadata": {},
   "outputs": [],
   "source": [
    "def print_msg():\n",
    "    print(\"Welcome. The function will now start your calculations.\")\n",
    "    print(\"Success! The function ran without any Errors.\")"
   ]
  },
  {
   "cell_type": "code",
   "execution_count": 40,
   "metadata": {},
   "outputs": [],
   "source": [
    "# now let's modify the source code\n",
    "def adder_v3(a, b):\n",
    "    print_msg()\n",
    "    result = a + b\n",
    "    print(f\"Result: {result}\")\n",
    "    return result"
   ]
  },
  {
   "cell_type": "code",
   "execution_count": 41,
   "metadata": {},
   "outputs": [
    {
     "name": "stdout",
     "output_type": "stream",
     "text": [
      "Welcome. The function will now start your calculations.\n",
      "Success! The function ran without any Errors.\n",
      "Result: 8\n"
     ]
    }
   ],
   "source": [
    "x = adder_v3(5, 3)"
   ]
  },
  {
   "cell_type": "code",
   "execution_count": 42,
   "metadata": {},
   "outputs": [
    {
     "data": {
      "text/plain": [
       "8"
      ]
     },
     "execution_count": 42,
     "metadata": {},
     "output_type": "execute_result"
    }
   ],
   "source": [
    "x"
   ]
  },
  {
   "cell_type": "markdown",
   "metadata": {},
   "source": [
    "As you might've guessed this works somewhat but not exactly how we would want it to work. The result is printed at the end not in between the messages. There are still more problems. We would have to call the message printer function inside the existing functions if we wanted to modify all those 100s of functions. Also, in this case the printer function doesn't take any argument but it will always not be the case and we would need to pass the arguments to the modifier function if there's any. So, this is not very efficient and we are back to square one."
   ]
  },
  {
   "cell_type": "markdown",
   "metadata": {},
   "source": [
    "But don't despair. We are in the right path. We just need to be a bit more creative. So, what if instead of calling the function inside the existing function we just pass the function as an argument to the existing function and then call it inside the existing function? Let's try that."
   ]
  },
  {
   "cell_type": "code",
   "execution_count": 26,
   "metadata": {},
   "outputs": [],
   "source": [
    "# since functions are first class citizens (more simply they are objects like every other thing in python is),\n",
    "# we can take them as an argument to other functions, we can return them from inside of a function and also\n",
    "# we can assign them to variables (that variable can then be used to access the mother function)\n",
    "def func_modifier(func):\n",
    "    print(\"Welcome. The function will now start your calculations.\")\n",
    "    result = func()\n",
    "    print(f\"Result: {result}\")\n",
    "    print(\"Success! The function ran without any Errors.\")\n",
    "    return result"
   ]
  },
  {
   "cell_type": "code",
   "execution_count": 27,
   "metadata": {},
   "outputs": [
    {
     "name": "stdout",
     "output_type": "stream",
     "text": [
      "Welcome. The function will now start your calculations.\n",
      "adder() missing 2 required positional arguments: 'a' and 'b'\n"
     ]
    }
   ],
   "source": [
    "# now let's see if we've been clever enough\n",
    "try: \n",
    "    func_modifier(adder)\n",
    "except Exception as err_msg:\n",
    "    print(err_msg)"
   ]
  },
  {
   "cell_type": "markdown",
   "metadata": {},
   "source": [
    "It seems like we've gotten to the 2nd line of the func_modifier function but then it thows an error. This is because the adder function is expecting 2 arguments but we are not passing any arguments to it. So we need to pass the arguments to the adder function as well. So how can we do that?"
   ]
  },
  {
   "cell_type": "markdown",
   "metadata": {},
   "source": [
    "One approach would be to pass the arguments for the adder function along with the func itself when we are calling the func_modifier() function i.e, func_modifier(adder, a, b)... something like that and then use \"a\" and \"b\" to call the adder function. \n",
    "\n",
    "But here's the problem with this approach. How do we know that the functions we will be modifying all have the same number of arguments? What if some functions have 2 arguments, some have 3, some have 4 and so on? We can't possibly know that. <i> Enter *args and **kwargs to the rescue. *args and **kwargs can be used to take in any number of positional and keyword arguments.</i> Let's try it out."
   ]
  },
  {
   "cell_type": "code",
   "execution_count": 28,
   "metadata": {},
   "outputs": [],
   "source": [
    "def func_modifier(func, *args, **kwargs):\n",
    "    print(\"Welcome. The function will now start your calculations.\")\n",
    "    result = func(*args, **kwargs)\n",
    "    print(f\"Result: {result}\")\n",
    "    print(\"Success! The function ran without any Errors.\")\n",
    "    return result"
   ]
  },
  {
   "cell_type": "code",
   "execution_count": 29,
   "metadata": {},
   "outputs": [
    {
     "name": "stdout",
     "output_type": "stream",
     "text": [
      "Welcome. The function will now start your calculations.\n",
      "Result: 8\n",
      "Success! The function ran without any Errors.\n"
     ]
    },
    {
     "data": {
      "text/plain": [
       "8"
      ]
     },
     "execution_count": 29,
     "metadata": {},
     "output_type": "execute_result"
    }
   ],
   "source": [
    "func_modifier(adder, 5, 3)"
   ]
  },
  {
   "cell_type": "markdown",
   "metadata": {},
   "source": [
    "This is almost exactly what we want but actually not quite there yet. If we wanted to assign an instance of this modified adder function to a variable so that we can use it later on in our code, we can't do that. This is because the modified adder function is not returning an instance of the modified adder function, instead it just returns a value."
   ]
  },
  {
   "cell_type": "code",
   "execution_count": 30,
   "metadata": {},
   "outputs": [
    {
     "name": "stdout",
     "output_type": "stream",
     "text": [
      "Welcome. The function will now start your calculations.\n",
      "Result: 8\n",
      "Success! The function ran without any Errors.\n"
     ]
    }
   ],
   "source": [
    "x = func_modifier(adder, 5, 3)"
   ]
  },
  {
   "cell_type": "code",
   "execution_count": 34,
   "metadata": {},
   "outputs": [
    {
     "data": {
      "text/plain": [
       "int"
      ]
     },
     "execution_count": 34,
     "metadata": {},
     "output_type": "execute_result"
    }
   ],
   "source": [
    "type(x)"
   ]
  },
  {
   "cell_type": "markdown",
   "metadata": {},
   "source": [
    "So, let's modify our code again so that it returns a function."
   ]
  },
  {
   "cell_type": "code",
   "execution_count": null,
   "metadata": {},
   "outputs": [],
   "source": [
    "def func_modifier(func, *args, **kwargs):\n",
    "    print(\"Welcome. The function will now start your calculations.\")\n",
    "    rv = func # we just want to return the function instead of calling it directly\n",
    "    print(\"Success! The function ran without any Errors.\")\n",
    "    return rv"
   ]
  },
  {
   "cell_type": "code",
   "execution_count": null,
   "metadata": {},
   "outputs": [],
   "source": []
  },
  {
   "cell_type": "code",
   "execution_count": null,
   "metadata": {},
   "outputs": [],
   "source": []
  }
 ],
 "metadata": {
  "kernelspec": {
   "display_name": "ml_intro",
   "language": "python",
   "name": "python3"
  },
  "language_info": {
   "codemirror_mode": {
    "name": "ipython",
    "version": 3
   },
   "file_extension": ".py",
   "mimetype": "text/x-python",
   "name": "python",
   "nbconvert_exporter": "python",
   "pygments_lexer": "ipython3",
   "version": "3.11.4"
  },
  "orig_nbformat": 4
 },
 "nbformat": 4,
 "nbformat_minor": 2
}
