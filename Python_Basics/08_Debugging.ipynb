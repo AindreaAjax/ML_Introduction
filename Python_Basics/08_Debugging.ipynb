{
 "cells": [
  {
   "cell_type": "markdown",
   "id": "ac50ed57-4941-4513-8ead-7da97d038c41",
   "metadata": {},
   "source": [
    "## Python Debugger (pdb)"
   ]
  },
  {
   "cell_type": "markdown",
   "id": "4ff71911-4398-4bc7-bb95-468915da71a3",
   "metadata": {
    "colab_type": "text",
    "id": "dNQnVsqAs9Hd"
   },
   "source": [
    "**pdb** is an interactive debugging environment for Python programs. It includes features to let you pause your program, look at the values of variables, and watch program execution step by step, So you can understand what your program actually does and Find bugs in the logic more easily."
   ]
  },
  {
   "cell_type": "markdown",
   "id": "2dd2815a-decd-4835-9d01-3112409c9dbd",
   "metadata": {},
   "source": [
    "When a breakpoint is reached, the program is paused and, it waits for you to say what to do next. The most commonly used functions of a debugger are,\n",
    "- step over: step over means, execute the next line of code (the line immediately after the line you are currently on) step over it i.e, halt after the execution. Usually, when a line of code has the functions that are built-in such as, print, input, int etc. in it we use step over since we don't need to know the details of those functions.\n",
    "\n",
    "- step into: it means to step into a function i.e, execute the next line of code and step into whatever function you find at that line of code. Usually this is used with user defined functions since we want to explore more of those functions working since, those functions are the place where the bug most likely errupted from."
   ]
  },
  {
   "attachments": {},
   "cell_type": "markdown",
   "id": "8aff0f9a-9d2d-4223-81e1-fece5b7c27fe",
   "metadata": {
    "tags": []
   },
   "source": [
    "### Interacting with the Debugger"
   ]
  },
  {
   "cell_type": "markdown",
   "id": "07f7b2a4-1959-4ecb-895d-6dc6b7587fb9",
   "metadata": {},
   "source": [
    "1. If you were to use `pdb` for debugging you would have to first import the `pdb` module and then set your breakpoints by using `pdb.set_trace()` function."
   ]
  },
  {
   "attachments": {},
   "cell_type": "markdown",
   "id": "12eb170d-791c-4135-aa66-52f07495ab62",
   "metadata": {},
   "source": [
    "2. Altenatively you can use the function, `breakpoint()` to set up a break points in your code wherever you want them. This is more easy and flexible than using `pdb.set_trace()`"
   ]
  },
  {
   "attachments": {},
   "cell_type": "markdown",
   "id": "73483f22-d238-49fd-90b9-d997b184d2f9",
   "metadata": {},
   "source": [
    "3. You can also use the built in graphical debugger, shipped with your code editor, to set up breakpoints much more easily by just marking the lines at which to insert the breakpoints. \n",
    "\n",
    "    - See this [link](https://code.visualstudio.com/docs/python/debugging) for more details on how to use the debugger in VS Code. \n",
    "\n",
    "    - Or, you can refer to this [video](https://www.youtube.com/watch?v=2hsn7AxXKmg&list=PLhQjrBD2T3817j24-GogXmWqO5Q5vYy0V&index=7) to get a quick overview."
   ]
  },
  {
   "attachments": {},
   "cell_type": "markdown",
   "id": "60a05969-bad0-4f28-9595-7ace6e62c986",
   "metadata": {},
   "source": [
    "### Setting up Break Points "
   ]
  },
  {
   "cell_type": "code",
   "execution_count": 1,
   "id": "f1c6f174-2342-4dce-89a6-08317512ebee",
   "metadata": {},
   "outputs": [
    {
     "name": "stdout",
     "output_type": "stream",
     "text": [
      "Please enter a number to calculate its factorial: \t 12\n"
     ]
    },
    {
     "name": "stdout",
     "output_type": "stream",
     "text": [
      "The factorial value is: \t 479001600\n"
     ]
    }
   ],
   "source": [
    "# Factorial Calculator\n",
    "fact_res_one = [0, 1]\n",
    "\n",
    "\n",
    "def calc_factorial():\n",
    "    n = int(input(\"Please enter a number to calculate its factorial: \\t\"))\n",
    "    fact_n = factorial(n)\n",
    "    return fact_n\n",
    "\n",
    "\n",
    "def factorial(x):\n",
    "    \"\"\"This is a recursive function\n",
    "    to find the factorial of an integer\"\"\"\n",
    "    if x in fact_res_one:\n",
    "        val = 1\n",
    "        return val\n",
    "    else:\n",
    "        val = x * factorial(x - 1)\n",
    "        return val\n",
    "\n",
    "\n",
    "if __name__ == \"__main__\":\n",
    "\n",
    "    # This is the line where we will set up our breakpoint since this starts the whole process\n",
    "    breakpoint()\n",
    "\n",
    "    calculated_fact_val = calc_factorial()\n",
    "\n",
    "    print(\"The factorial value is: \\t\", calculated_fact_val)"
   ]
  },
  {
   "attachments": {},
   "cell_type": "markdown",
   "id": "7d9b5688-95e5-4c15-8033-77ebd395a005",
   "metadata": {},
   "source": [
    "### For quick reference, here’s a list of essential commands in case you need it:\n",
    "- `p` \tPrint the value of an expression.\n",
    "- `pp` \tPretty-print the value of an expression.\n",
    "- `n` \tContinue execution until the next line in the current function is reached or it returns.\n",
    "- `s` \tExecute the current line and stop at the first possible occasion (either in a function that is called or in the current function).\n",
    "- `c` \tContinue execution and only stop when a breakpoint is encountered.\n",
    "- `unt` \tContinue execution until the line with a number greater than the current one is reached. With a line number argument, continue execution until a line with a number greater or equal to that is reached.\n",
    "- `l` \tList source code for the current file. Without arguments, list 11 lines around the current line or continue the previous listing.\n",
    "- `ll` \tList the whole source code for the current function or frame.\n",
    "- `b` \tWith no arguments, list all breaks. With a line number argument, set a breakpoint at this line in the current file.\n",
    "- `w` \tPrint a stack trace, with the most recent frame at the bottom. An arrow indicates the current frame, which determines the context of most commands.\n",
    "- `u` \tMove the current frame count (default one) levels up in the stack trace (to an older frame).\n",
    "- `d` \tMove the current frame count (default one) levels down in the stack trace (to a newer frame).\n",
    "- `h` \tSee a list of available commands.\n",
    "- `h \\<topic>` \tShow help for a command or topic.\n",
    "- `h pdb` \tShow the full pdb documentation.\n",
    "- `q` \tQuit the debugger and exit."
   ]
  },
  {
   "cell_type": "code",
   "execution_count": null,
   "id": "ea9dde47-9845-47d2-82a2-9479517d71f8",
   "metadata": {},
   "outputs": [],
   "source": []
  }
 ],
 "metadata": {
  "kernelspec": {
   "display_name": "Python 3 (ipykernel)",
   "language": "python",
   "name": "python3"
  },
  "language_info": {
   "codemirror_mode": {
    "name": "ipython",
    "version": 3
   },
   "file_extension": ".py",
   "mimetype": "text/x-python",
   "name": "python",
   "nbconvert_exporter": "python",
   "pygments_lexer": "ipython3",
   "version": "3.8.15"
  }
 },
 "nbformat": 4,
 "nbformat_minor": 5
}
