{
 "cells": [
  {
   "cell_type": "markdown",
   "id": "8d99ccdc",
   "metadata": {},
   "source": [
    "**Table of contents**<a id='toc0_'></a>    \n",
    "- [Some key terms](#toc1_1_)    \n",
    "    - [Immutable objects](#toc1_1_1_)    \n",
    "    - [Iterables](#toc1_1_2_)    \n",
    "    - [Indexing](#toc1_1_3_)    \n",
    "    - [Slicing](#toc1_1_4_)    \n",
    "- [Numbers](#toc2_)    \n",
    "- [String](#toc3_)    \n",
    "    - [Escape Sequences in Strings](#toc3_1_1_)    \n",
    "    - [Raw String](#toc3_1_2_)    \n",
    "    - [Formatted String](#toc3_1_3_)    \n",
    "    - [String Slicing](#toc3_1_4_)    \n",
    "    - [String Concatenation](#toc3_1_5_)    \n",
    "    - [Some useful string operations](#toc3_1_6_)    \n",
    "    - [Useful string methods](#toc3_1_7_)    \n",
    "- [Boolean](#toc4_)    \n",
    "- [List](#toc5_)    \n",
    "    - [List Slicing](#toc5_1_1_)    \n",
    "    - [Useful list methods](#toc5_1_2_)    \n",
    "    - [List Comprehension](#toc5_1_3_)    \n",
    "    - [List unpacking](#toc5_1_4_)    \n",
    "- [Tuples](#toc6_)    \n",
    "    - [Tuple unpacking](#toc6_1_1_)    \n",
    "    - [Useful tuple methods](#toc6_1_2_)    \n",
    "- [Set](#toc7_)    \n",
    "    - [Useful set methods](#toc7_1_1_)    \n",
    "    - [Set comprehension](#toc7_1_2_)    \n",
    "- [Dictionary](#toc8_)    \n",
    "    - [Useful dictionary methods](#toc8_1_1_)    \n",
    "    - [Dictionary comprehension](#toc8_1_2_)    \n",
    "\n",
    "<!-- vscode-jupyter-toc-config\n",
    "\tnumbering=false\n",
    "\tanchor=true\n",
    "\tflat=false\n",
    "\tminLevel=2\n",
    "\tmaxLevel=4\n",
    "\t/vscode-jupyter-toc-config -->\n",
    "<!-- THIS CELL WILL BE REPLACED ON TOC UPDATE. DO NOT WRITE YOUR TEXT IN THIS CELL -->"
   ]
  },
  {
   "cell_type": "markdown",
   "metadata": {},
   "source": [
    "# Data Types"
   ]
  },
  {
   "attachments": {},
   "cell_type": "markdown",
   "id": "13251b3f-225b-4287-9974-69d02f684385",
   "metadata": {},
   "source": [
    "In programming, data type is an important concept. \n",
    "\n",
    "In Python a variable can store data of different types, and different data types are used for different purposes.\n",
    "\n",
    "Every value in Python has a datatype. Since everything is an **object** in Python we can think of **data types as classes and variables as instances (objects) of these classes.**"
   ]
  },
  {
   "attachments": {},
   "cell_type": "markdown",
   "id": "leading-premises",
   "metadata": {},
   "source": [
    "Built-in Python data type includes --\n",
    "\n",
    "    Text Type:\tstr\n",
    "    Numeric Types:\tint, float, complex\n",
    "    Sequence Types:\tlist, tuple, range\n",
    "    Mapping Type:\tdict\n",
    "    Set Types:\tset, frozenset\n",
    "    Boolean Type:\tbool\n",
    "    Binary Types:\tbytes, bytearray, memoryview"
   ]
  },
  {
   "attachments": {},
   "cell_type": "markdown",
   "id": "southeast-basic",
   "metadata": {},
   "source": [
    "In Python, you don't have to declare the data type beforehand. The data type is set when you assign a value to some variable. If you want to specify a certain data type, you can use the **constructor functions** (i.e. str, dict, int) to do so. You can also use the constructor functions to convert between data types (Only if the value to be converted is valid in both of the data types).\n",
    "    \n",
    "    Ex: num_text = str(20)."
   ]
  },
  {
   "cell_type": "markdown",
   "id": "b2cb8605",
   "metadata": {},
   "source": [
    "We can see the data type of any object by using the `type()` function. And, the `isinstance()` function can be used to check if an object belongs to a particular class."
   ]
  },
  {
   "cell_type": "markdown",
   "id": "2784fc4c",
   "metadata": {},
   "source": [
    "### <a id='toc1_1_'></a>[Some key terms](#toc0_)"
   ]
  },
  {
   "cell_type": "markdown",
   "metadata": {},
   "source": [
    "#### <a id='toc1_1_1_'></a>[Immutable objects](#toc0_)"
   ]
  },
  {
   "cell_type": "markdown",
   "id": "a231ef8d",
   "metadata": {},
   "source": [
    "Immutable Objects are objects that **do not support index based assignment opperations**. In Python *int, float, bool, string, unicode, tuple* are Immutable Objects."
   ]
  },
  {
   "cell_type": "markdown",
   "metadata": {},
   "source": [
    "#### <a id='toc1_1_2_'></a>[Iterables](#toc0_)"
   ]
  },
  {
   "attachments": {},
   "cell_type": "markdown",
   "id": "761e261c-c651-44be-b348-604792dcdd62",
   "metadata": {},
   "source": [
    "An iterator is an object that can be iterated upon, meaning that you can traverse through all the values. Technically, in Python, an iterator is an object that implements the iterator protocol, which consist of the methods __iter__() and __next__().\n",
    "\n",
    "**Lists, tuples, dictionaries, and sets** are all iterable objects. They are iterable containers from which you can get an iterator. All these objects have an iter() method which is used to get an iterator."
   ]
  },
  {
   "cell_type": "code",
   "execution_count": 1,
   "id": "0ae7f256",
   "metadata": {},
   "outputs": [
    {
     "name": "stdout",
     "output_type": "stream",
     "text": [
      "apple\n",
      "banana\n"
     ]
    }
   ],
   "source": [
    "fruits = (\"apple\", \"banana\", \"cherry\")\n",
    "fruit_iter = iter(fruits)\n",
    "\n",
    "print(next(fruit_iter))\n",
    "print(next(fruit_iter))"
   ]
  },
  {
   "cell_type": "markdown",
   "metadata": {},
   "source": [
    "#### <a id='toc1_1_3_'></a>[Indexing](#toc0_)"
   ]
  },
  {
   "cell_type": "markdown",
   "id": "adc1271f",
   "metadata": {},
   "source": [
    "Indexing means referring to an element of an iterable by its position within that particular iterable. In python indexing **starts from 0**. Meaning, the first element of an iterable is indexed as 0 and the other elements are **indexed increamentaly** after that.\n",
    "\n",
    "**Note:** *negative indexing starts at the back and counts from -1*."
   ]
  },
  {
   "cell_type": "markdown",
   "metadata": {},
   "source": [
    "#### <a id='toc1_1_4_'></a>[Slicing](#toc0_)"
   ]
  },
  {
   "cell_type": "markdown",
   "id": "090a9b61",
   "metadata": {},
   "source": [
    "Slicing means getting a subset of elements from an iterable based on their indices."
   ]
  },
  {
   "cell_type": "markdown",
   "metadata": {},
   "source": [
    "## <a id='toc2_'></a>[Numbers](#toc0_)"
   ]
  },
  {
   "attachments": {},
   "cell_type": "markdown",
   "id": "403376dc-e815-46ce-9da6-e4c923c9a0ed",
   "metadata": {},
   "source": [
    "The 'Number' data type is not subscriptable i.e, it can't be accessed using indexes and it's also immutable."
   ]
  },
  {
   "attachments": {},
   "cell_type": "markdown",
   "id": "fe4d1b34-786b-4fd6-a084-6e4ea2de9dd9",
   "metadata": {},
   "source": [
    "The Python \"Number\" data type includes Integers, Floats and Complex numbers. This data type can handle all four major types of number system i.e. Decimal, Binary, Octal and Hexadecimal. By default any number is treated as a decimal number. To use other types of number system use **0b, 0o, 0x** preceeding the number for binary, octal and hexadecimal numbers respectively."
   ]
  },
  {
   "cell_type": "code",
   "execution_count": 2,
   "id": "877452f9",
   "metadata": {},
   "outputs": [
    {
     "name": "stdout",
     "output_type": "stream",
     "text": [
      "Integer equivalent of 0xFB: 251 \tOctal equivalent of binary 0b1101010: 0o152\n"
     ]
    }
   ],
   "source": [
    "# Number system conversion\n",
    "print(\n",
    "    f\"Integer equivalent of 0xFB: {int('0xFB', 16)} \\tOctal equivalent of binary 0b1101010: {oct(0b1101010)}\"\n",
    ")"
   ]
  },
  {
   "cell_type": "markdown",
   "metadata": {},
   "source": [
    "## <a id='toc3_'></a>[String](#toc0_)"
   ]
  },
  {
   "cell_type": "markdown",
   "id": "8a87a57d",
   "metadata": {},
   "source": [
    "Strings are sequences of character data.\n",
    "\n",
    "String literals may be delimited using either single or double quotes. All the characters between the opening delimiter and matching closing delimiter are part of the string. To represent a multi-line string you can use triple quotes (\"\"\".....\"\"\")."
   ]
  },
  {
   "cell_type": "markdown",
   "metadata": {},
   "source": [
    "#### <a id='toc3_1_1_'></a>[Escape Sequences in Strings](#toc0_)\n",
    "\n",
    "Sometimes, you want Python to interpret a character or, a sequence of characters within a string differently. This may occur in one of two ways:\n",
    "\n",
    "- You may want to suppress the special interpretation that certain characters are usually given within a string. For example, to use quote signs in a string (\\\\') or to use the backslash (\\\\\\\\) sign in a string etc.\n",
    "- You may want to apply special interpretation to characters in a string which would normally be taken literally. For example, to enter a newline (\\n) or to use a tab in the string (\\t) etc."
   ]
  },
  {
   "cell_type": "markdown",
   "id": "6b47ec07",
   "metadata": {},
   "source": [
    "You can accomplish this using a backslash (\\\\) character. A backslash character in a string indicates that one or more characters that follow it should be treated specially. (This is referred to as an escape sequence, because the backslash causes the subsequent character sequence to “escape” its usual meaning.)"
   ]
  },
  {
   "cell_type": "markdown",
   "metadata": {},
   "source": [
    "#### <a id='toc3_1_2_'></a>[Raw String](#toc0_)\n",
    "A raw string literal is preceded by r or R, which specifies that escape sequences in the associated string are not translated."
   ]
  },
  {
   "cell_type": "code",
   "execution_count": 3,
   "id": "4d55fe02",
   "metadata": {},
   "outputs": [
    {
     "name": "stdout",
     "output_type": "stream",
     "text": [
      "foo\\\\bar\n"
     ]
    }
   ],
   "source": [
    "print(r\"foo\\\\bar\")"
   ]
  },
  {
   "cell_type": "markdown",
   "metadata": {},
   "source": [
    "#### <a id='toc3_1_3_'></a>[Formatted String](#toc0_)"
   ]
  },
  {
   "cell_type": "code",
   "execution_count": 4,
   "id": "231b6556-b226-49f1-b64c-94c655ecd93a",
   "metadata": {},
   "outputs": [
    {
     "name": "stdout",
     "output_type": "stream",
     "text": [
      "the result is 3.143\n"
     ]
    }
   ],
   "source": [
    "pi = 22 / 7\n",
    "print(\"the result is {r:.3f}\".format(r=pi))"
   ]
  },
  {
   "cell_type": "code",
   "execution_count": 5,
   "id": "894489e5",
   "metadata": {},
   "outputs": [],
   "source": [
    "quote = \"to be or not to be\""
   ]
  },
  {
   "cell_type": "markdown",
   "metadata": {},
   "source": [
    "#### <a id='toc3_1_4_'></a>[String Slicing](#toc0_)"
   ]
  },
  {
   "attachments": {},
   "cell_type": "markdown",
   "id": "16974ca8-4e65-4bde-b280-dba416b47490",
   "metadata": {},
   "source": [
    "Like many other popular programming languages, strings in Python are arrays of bytes representing unicode characters. Since strings are arrays, we can loop through the characters in a string (with a for loop) or, we can slice out a portion from it (using indices)."
   ]
  },
  {
   "cell_type": "code",
   "execution_count": 6,
   "id": "496e1d77-9f26-479e-a324-800fb3cb9713",
   "metadata": {},
   "outputs": [
    {
     "data": {
      "text/plain": [
       "'t eo o ob'"
      ]
     },
     "execution_count": 6,
     "metadata": {},
     "output_type": "execute_result"
    }
   ],
   "source": [
    "quote[::2]  # [start here:stop upon reaching here:step-over value]"
   ]
  },
  {
   "cell_type": "code",
   "execution_count": 7,
   "id": "005bbb36",
   "metadata": {},
   "outputs": [
    {
     "data": {
      "text/plain": [
       "'eb ot ton ro eb ot'"
      ]
     },
     "execution_count": 7,
     "metadata": {},
     "output_type": "execute_result"
    }
   ],
   "source": [
    "# reversing the 'quote'\n",
    "quote[::-1]"
   ]
  },
  {
   "cell_type": "markdown",
   "metadata": {},
   "source": [
    "#### <a id='toc3_1_5_'></a>[String Concatenation](#toc0_)"
   ]
  },
  {
   "cell_type": "code",
   "execution_count": 8,
   "id": "5794af3d",
   "metadata": {},
   "outputs": [
    {
     "name": "stdout",
     "output_type": "stream",
     "text": [
      "Concatanted string\n",
      "repeated string repeated string \n"
     ]
    }
   ],
   "source": [
    "# Strings can be concataned with one another but not with other data types.\n",
    "string = \"string\"\n",
    "c_string = \"Concatanted\" + \" \" + string\n",
    "print(c_string)\n",
    "\n",
    "# The arithmatic multiplication operation on a string repeats the string\n",
    "r_string = \"repeated string \" * 2\n",
    "print(r_string)"
   ]
  },
  {
   "cell_type": "markdown",
   "metadata": {},
   "source": [
    "#### <a id='toc3_1_6_'></a>[Some useful string operations](#toc0_)"
   ]
  },
  {
   "cell_type": "code",
   "execution_count": 9,
   "id": "fdc07f7b",
   "metadata": {},
   "outputs": [
    {
     "name": "stdout",
     "output_type": "stream",
     "text": [
      "True\n",
      "True\n"
     ]
    }
   ],
   "source": [
    "# To check if a certain phrase or character is present in a string,\n",
    "print(\"be\" in quote)\n",
    "\n",
    "# To check if a certain phrase or character is not present in a string,\n",
    "print(\"me\" not in quote)"
   ]
  },
  {
   "cell_type": "markdown",
   "metadata": {},
   "source": [
    "#### <a id='toc3_1_7_'></a>[Useful string methods](#toc0_)"
   ]
  },
  {
   "cell_type": "code",
   "execution_count": 10,
   "id": "cf09bf7d-d9f2-4c8d-ac99-a5ce8a406ce5",
   "metadata": {},
   "outputs": [
    {
     "data": {
      "text/plain": [
       "'TO BE OR NOT TO BE'"
      ]
     },
     "execution_count": 10,
     "metadata": {},
     "output_type": "execute_result"
    }
   ],
   "source": [
    "quote.upper()"
   ]
  },
  {
   "cell_type": "code",
   "execution_count": 11,
   "id": "36a9fd06-f4bb-4602-b803-4ba5c459ab94",
   "metadata": {},
   "outputs": [
    {
     "data": {
      "text/plain": [
       "'to be or not to be'"
      ]
     },
     "execution_count": 11,
     "metadata": {},
     "output_type": "execute_result"
    }
   ],
   "source": [
    "quote.lower()"
   ]
  },
  {
   "cell_type": "code",
   "execution_count": 12,
   "id": "1e52c564-3e6b-4477-ad32-2ee07dd17023",
   "metadata": {},
   "outputs": [
    {
     "data": {
      "text/plain": [
       "'To be or not to be'"
      ]
     },
     "execution_count": 12,
     "metadata": {},
     "output_type": "execute_result"
    }
   ],
   "source": [
    "quote.capitalize()"
   ]
  },
  {
   "cell_type": "code",
   "execution_count": 13,
   "id": "1d769065-7273-4fc1-9bc2-d669c02a88fb",
   "metadata": {},
   "outputs": [
    {
     "data": {
      "text/plain": [
       "'to me or not to me'"
      ]
     },
     "execution_count": 13,
     "metadata": {},
     "output_type": "execute_result"
    }
   ],
   "source": [
    "quote.replace(\"be\", \"me\")"
   ]
  },
  {
   "cell_type": "code",
   "execution_count": 14,
   "id": "6479c230-fdf8-44fd-a7d0-4810b33a5fed",
   "metadata": {},
   "outputs": [
    {
     "data": {
      "text/plain": [
       "'hello!, hola'"
      ]
     },
     "execution_count": 14,
     "metadata": {},
     "output_type": "execute_result"
    }
   ],
   "source": [
    "\"    hello!, hola     \".strip()"
   ]
  },
  {
   "cell_type": "code",
   "execution_count": 15,
   "id": "f3b81432-c40f-4096-88a4-34a1f0b2281c",
   "metadata": {},
   "outputs": [
    {
     "data": {
      "text/plain": [
       "['to', 'be', 'or', 'not', 'to', 'be']"
      ]
     },
     "execution_count": 15,
     "metadata": {},
     "output_type": "execute_result"
    }
   ],
   "source": [
    "quote.split(\" \")"
   ]
  },
  {
   "cell_type": "code",
   "execution_count": 16,
   "id": "9b0b9547-f73c-4ca1-9406-541a5bca0544",
   "metadata": {},
   "outputs": [
    {
     "data": {
      "text/plain": [
       "('to be ', 'or', ' not to be')"
      ]
     },
     "execution_count": 16,
     "metadata": {},
     "output_type": "execute_result"
    }
   ],
   "source": [
    "quote.partition(\"or\")"
   ]
  },
  {
   "cell_type": "code",
   "execution_count": 17,
   "id": "ffbb6527-fc24-4a82-a597-b23f8d1608ae",
   "metadata": {},
   "outputs": [
    {
     "data": {
      "text/plain": [
       "'to be or not to be'"
      ]
     },
     "execution_count": 17,
     "metadata": {},
     "output_type": "execute_result"
    }
   ],
   "source": [
    "spl = quote.split(\" \")\n",
    "\" \".join(spl)"
   ]
  },
  {
   "cell_type": "code",
   "execution_count": 18,
   "id": "394cd11c-c80e-4c22-89cc-9e2181721329",
   "metadata": {},
   "outputs": [
    {
     "data": {
      "text/plain": [
       "True"
      ]
     },
     "execution_count": 18,
     "metadata": {},
     "output_type": "execute_result"
    }
   ],
   "source": [
    "quote.startswith(\"to\")"
   ]
  },
  {
   "cell_type": "code",
   "execution_count": 19,
   "id": "531b1883-9d81-49f6-8edd-091c64c26e5b",
   "metadata": {},
   "outputs": [
    {
     "data": {
      "text/plain": [
       "True"
      ]
     },
     "execution_count": 19,
     "metadata": {},
     "output_type": "execute_result"
    }
   ],
   "source": [
    "quote.endswith(\"be\")  # but theres no .contains method. Though 'in' may do the trick"
   ]
  },
  {
   "cell_type": "code",
   "execution_count": 20,
   "id": "f19c52f7-b8c7-4c72-b809-baf4d8ce3706",
   "metadata": {},
   "outputs": [
    {
     "data": {
      "text/plain": [
       "6"
      ]
     },
     "execution_count": 20,
     "metadata": {},
     "output_type": "execute_result"
    }
   ],
   "source": [
    "quote.find(\"or\")"
   ]
  },
  {
   "cell_type": "code",
   "execution_count": 21,
   "id": "db99679b-82df-40ad-8c4b-47077f868456",
   "metadata": {},
   "outputs": [
    {
     "data": {
      "text/plain": [
       "2"
      ]
     },
     "execution_count": 21,
     "metadata": {},
     "output_type": "execute_result"
    }
   ],
   "source": [
    "quote.count(\"be\")"
   ]
  },
  {
   "cell_type": "markdown",
   "id": "80138d79",
   "metadata": {},
   "source": [
    "You can refer to (https://www.w3schools.com/python/python_strings_methods.asp) or read the official documentation for further reference."
   ]
  },
  {
   "cell_type": "markdown",
   "metadata": {},
   "source": [
    "## <a id='toc4_'></a>[Boolean](#toc0_)"
   ]
  },
  {
   "attachments": {},
   "cell_type": "markdown",
   "id": "1eb6be12-8850-495f-a2ed-9ed398a942b5",
   "metadata": {},
   "source": [
    "Objects of Boolean type may have one of two values, **True or False**."
   ]
  },
  {
   "attachments": {},
   "cell_type": "markdown",
   "id": "7fccf97d-703d-457f-bb68-7ecd01dd5121",
   "metadata": {},
   "source": [
    "Almost any value is evaluated to True if it has some sort of content. *Any string is True, except empty strings. Any number is True, except 0. Any list, tuple, set, and dictionary are True, except empty ones.*\n",
    "\n",
    "Some Values are False. In fact, there are not many values that evaluate to False, except *empty values, such as ( ), [ ], { }, \" \" , the number 0, and the value None*. And of course the value False evaluates to False."
   ]
  },
  {
   "cell_type": "markdown",
   "id": "d7768f7c",
   "metadata": {},
   "source": [
    "**To invert a boolean use the tilde, '~' sign** "
   ]
  },
  {
   "cell_type": "markdown",
   "metadata": {},
   "source": [
    "## <a id='toc5_'></a>[List](#toc0_)"
   ]
  },
  {
   "cell_type": "markdown",
   "id": "d10694f3",
   "metadata": {},
   "source": [
    "List is an ordered sequence of items. It is one of the most used datatype in Python and is very flexible. \n",
    "- List is defined by values separated by comma inside brackets [\\-, \\-, \\-, \\-].\n",
    "- The items in a list need not be of the same type. \n",
    "- List allows duplicate items.\n",
    "- Lists are mutable, i.e, value of any certain element in a list can be reassigned using the index."
   ]
  },
  {
   "cell_type": "markdown",
   "metadata": {},
   "source": [
    "#### <a id='toc5_1_1_'></a>[List Slicing](#toc0_)"
   ]
  },
  {
   "attachments": {},
   "cell_type": "markdown",
   "id": "68583e12-8099-402d-ac60-1b8f52b2d206",
   "metadata": {},
   "source": [
    "Lists can be accessed via indices and thus can be sliced in parts too."
   ]
  },
  {
   "cell_type": "code",
   "execution_count": 22,
   "id": "ecf470a0",
   "metadata": {},
   "outputs": [
    {
     "name": "stdout",
     "output_type": "stream",
     "text": [
      "['orange', 'kiwi', 'melon']\n"
     ]
    }
   ],
   "source": [
    "fruits = [\"apple\", \"banana\", \"cherry\", \"orange\", \"kiwi\", \"melon\", \"mango\"]\n",
    "print(fruits[-4:-1])"
   ]
  },
  {
   "cell_type": "markdown",
   "metadata": {},
   "source": [
    "#### <a id='toc5_1_2_'></a>[Useful list methods](#toc0_)"
   ]
  },
  {
   "attachments": {},
   "cell_type": "markdown",
   "id": "da552257-5807-4ef8-a608-e2d8ab9b50ae",
   "metadata": {},
   "source": [
    "*Add Items*"
   ]
  },
  {
   "cell_type": "code",
   "execution_count": 23,
   "id": "1ddc3d58-e6bc-4d22-a8c9-0989f99389e9",
   "metadata": {},
   "outputs": [
    {
     "data": {
      "text/plain": [
       "['apple', 'banana', 'cherry', 'orange', 'kiwi', 'melon', 'mango', 'avocado']"
      ]
     },
     "execution_count": 23,
     "metadata": {},
     "output_type": "execute_result"
    }
   ],
   "source": [
    "# append an item at the end of the list\n",
    "fruits.append(\"avocado\")  # changes in place\n",
    "fruits"
   ]
  },
  {
   "cell_type": "code",
   "execution_count": 24,
   "id": "3c810518-197a-491f-a832-4fba602bbdd3",
   "metadata": {},
   "outputs": [
    {
     "data": {
      "text/plain": [
       "['apple',\n",
       " 'banana',\n",
       " 'cherry',\n",
       " 'orange',\n",
       " 'apple',\n",
       " 'kiwi',\n",
       " 'melon',\n",
       " 'mango',\n",
       " 'avocado']"
      ]
     },
     "execution_count": 24,
     "metadata": {},
     "output_type": "execute_result"
    }
   ],
   "source": [
    "# insert items at a particular position of the list\n",
    "fruits.insert(4, \"apple\")  # changes in place\n",
    "fruits"
   ]
  },
  {
   "cell_type": "code",
   "execution_count": 25,
   "id": "4f77a998-05fa-4ea0-9368-c0a543108c97",
   "metadata": {},
   "outputs": [
    {
     "data": {
      "text/plain": [
       "['apple',\n",
       " 'banana',\n",
       " 'cherry',\n",
       " 'orange',\n",
       " 'apple',\n",
       " 'kiwi',\n",
       " 'melon',\n",
       " 'mango',\n",
       " 'avocado',\n",
       " 'pineapple',\n",
       " 'papaya']"
      ]
     },
     "execution_count": 25,
     "metadata": {},
     "output_type": "execute_result"
    }
   ],
   "source": [
    "# extending the list\n",
    "fruits.extend(\n",
    "    [\"pineapple\", \"papaya\"]\n",
    ")  # changes in place # you can pass the items to be added in a tuple too.\n",
    "fruits"
   ]
  },
  {
   "attachments": {},
   "cell_type": "markdown",
   "id": "931f6488-017e-4248-a73b-0d4c05b882e9",
   "metadata": {},
   "source": [
    "*Remove items*"
   ]
  },
  {
   "cell_type": "code",
   "execution_count": 26,
   "id": "c25be820-aad3-4e6a-be19-a815791ecef7",
   "metadata": {},
   "outputs": [
    {
     "data": {
      "text/plain": [
       "'banana'"
      ]
     },
     "execution_count": 26,
     "metadata": {},
     "output_type": "execute_result"
    }
   ],
   "source": [
    "# remove items with indices\n",
    "fruits.pop(1)"
   ]
  },
  {
   "cell_type": "code",
   "execution_count": 27,
   "id": "9f565b09-a0fd-4be5-a510-ccc216413cec",
   "metadata": {
    "tags": []
   },
   "outputs": [
    {
     "data": {
      "text/plain": [
       "['apple',\n",
       " 'orange',\n",
       " 'apple',\n",
       " 'kiwi',\n",
       " 'melon',\n",
       " 'mango',\n",
       " 'avocado',\n",
       " 'pineapple',\n",
       " 'papaya']"
      ]
     },
     "execution_count": 27,
     "metadata": {},
     "output_type": "execute_result"
    }
   ],
   "source": [
    "# remove an item with a certain value\n",
    "fruits.remove(\"cherry\")  # changes in place\n",
    "fruits"
   ]
  },
  {
   "cell_type": "code",
   "execution_count": 28,
   "id": "ae37844a-5363-4b57-a4a2-8f7c1ec53299",
   "metadata": {},
   "outputs": [],
   "source": [
    "# fruits.clear  # empties the list. The list still remains, but it has no content."
   ]
  },
  {
   "attachments": {},
   "cell_type": "markdown",
   "id": "8bd87ec0",
   "metadata": {},
   "source": [
    "*Some other useful list methods*"
   ]
  },
  {
   "cell_type": "code",
   "execution_count": 29,
   "id": "feac7d18-cea1-42d5-8dc4-fe7896eb8225",
   "metadata": {},
   "outputs": [
    {
     "data": {
      "text/plain": [
       "2"
      ]
     },
     "execution_count": 29,
     "metadata": {},
     "output_type": "execute_result"
    }
   ],
   "source": [
    "# Count the number of instances a item is present in the list\n",
    "fruits.count(\"apple\")"
   ]
  },
  {
   "cell_type": "code",
   "execution_count": 30,
   "id": "9cf35406-730b-48e0-8658-f02af64863f0",
   "metadata": {},
   "outputs": [
    {
     "data": {
      "text/plain": [
       "6"
      ]
     },
     "execution_count": 30,
     "metadata": {},
     "output_type": "execute_result"
    }
   ],
   "source": [
    "# find the index of first instance of a particular value\n",
    "fruits.index(\"avocado\")"
   ]
  },
  {
   "cell_type": "code",
   "execution_count": 31,
   "id": "0f69c81b-1860-4c87-80eb-eda3f5006aa2",
   "metadata": {},
   "outputs": [
    {
     "data": {
      "text/plain": [
       "['apple',\n",
       " 'apple',\n",
       " 'avocado',\n",
       " 'kiwi',\n",
       " 'mango',\n",
       " 'melon',\n",
       " 'orange',\n",
       " 'papaya',\n",
       " 'pineapple']"
      ]
     },
     "execution_count": 31,
     "metadata": {},
     "output_type": "execute_result"
    }
   ],
   "source": [
    "# Sort the list\n",
    "fruits.sort()  # changes in place\n",
    "fruits"
   ]
  },
  {
   "cell_type": "code",
   "execution_count": 32,
   "id": "0fa02e58",
   "metadata": {},
   "outputs": [
    {
     "data": {
      "text/plain": [
       "['pineapple',\n",
       " 'papaya',\n",
       " 'orange',\n",
       " 'melon',\n",
       " 'mango',\n",
       " 'kiwi',\n",
       " 'avocado',\n",
       " 'apple',\n",
       " 'apple']"
      ]
     },
     "execution_count": 32,
     "metadata": {},
     "output_type": "execute_result"
    }
   ],
   "source": [
    "# Reverse the list element positions\n",
    "fruits.reverse()  # changes in place\n",
    "fruits"
   ]
  },
  {
   "cell_type": "markdown",
   "metadata": {},
   "source": [
    "#### <a id='toc5_1_3_'></a>[List Comprehension](#toc0_)"
   ]
  },
  {
   "attachments": {},
   "cell_type": "markdown",
   "id": "dc19b9bc-ce20-4327-a448-02ac278f0142",
   "metadata": {},
   "source": [
    "**syntax :** [expression **for** item **in** iterable **if** conditional_statement]\n",
    "\n",
    "The expression is the current item in the iteration, but it is also the outcome, which you can manipulate before it ends up becoming an item in the new list."
   ]
  },
  {
   "cell_type": "code",
   "execution_count": 33,
   "id": "91fa644b-8a58-464f-b493-8672ff96715b",
   "metadata": {},
   "outputs": [
    {
     "data": {
      "text/plain": [
       "[0, 4, 16, 36, 64]"
      ]
     },
     "execution_count": 33,
     "metadata": {},
     "output_type": "execute_result"
    }
   ],
   "source": [
    "numbers_lst = [num**2 for num in range(0, 10) if num % 2 == 0]\n",
    "numbers_lst"
   ]
  },
  {
   "attachments": {},
   "cell_type": "markdown",
   "id": "7531b557-38ee-4ef4-adc7-10141e554b26",
   "metadata": {},
   "source": [
    "The expression can also contain conditions, not like a filter, rather as a way to manipulate the outcome:"
   ]
  },
  {
   "cell_type": "code",
   "execution_count": 34,
   "id": "84f5be67",
   "metadata": {},
   "outputs": [
    {
     "name": "stdout",
     "output_type": "stream",
     "text": [
      "['apple', 'orange', 'cherry', 'orange', 'kiwi', 'melon', 'mango']\n"
     ]
    }
   ],
   "source": [
    "fruits = [\"apple\", \"banana\", \"cherry\", \"orange\", \"kiwi\", \"melon\", \"mango\"]\n",
    "fruits_newlist = [x if x != \"banana\" else \"orange\" for x in fruits]\n",
    "\n",
    "print(fruits_newlist)"
   ]
  },
  {
   "cell_type": "markdown",
   "metadata": {},
   "source": [
    "#### <a id='toc5_1_4_'></a>[List unpacking](#toc0_)"
   ]
  },
  {
   "cell_type": "code",
   "execution_count": 35,
   "id": "daf8629f-a08f-4e21-beda-2a0a7e32b45e",
   "metadata": {},
   "outputs": [
    {
     "name": "stdout",
     "output_type": "stream",
     "text": [
      "a = 1; b = 2; c = 3; d = [4, 5, 6, 7, 8, 9]; e = 10\n"
     ]
    }
   ],
   "source": [
    "a, b, c, *d, e = [1, 2, 3, 4, 5, 6, 7, 8, 9, 10]\n",
    "print(f\"a = {a}; b = {b}; c = {c}; d = {d}; e = {e}\")"
   ]
  },
  {
   "attachments": {},
   "cell_type": "markdown",
   "id": "afb47fbb",
   "metadata": {},
   "source": [
    "You can refer to (https://www.w3schools.com/python/python_lists_methods.asp) or, read the official documentation for further reference."
   ]
  },
  {
   "attachments": {},
   "cell_type": "markdown",
   "id": "a576bf38",
   "metadata": {},
   "source": [
    "**Note:** I've came across this behaviour later when I was learning pandas. I didn't expect list unpacking to behave this way. So here's an example: "
   ]
  },
  {
   "cell_type": "code",
   "execution_count": 36,
   "id": "499b6722",
   "metadata": {},
   "outputs": [],
   "source": [
    "col_full_forms = \"\"\"\n",
    "• Bg = Background\n",
    "• Im = Imagination\n",
    "• Int = Integrity\n",
    "• IQ = Intelligence\n",
    "• L = Luck\n",
    "• WR = Willing to take risks\n",
    "• AC = Ability to compromise\n",
    "• EAb = Executive ability\n",
    "• LA = Leadership ability\n",
    "• CAb = Communication ability\n",
    "• OA = Overall ability\n",
    "• PL = Party leadership\n",
    "• RC = Relations with Congress\n",
    "• CAp = Court appointments\n",
    "• HE = Handling of economy\n",
    "• EAp = Executive appointments\n",
    "• DA = Domestic accomplishments\n",
    "• FPA = Foreign policy accomplishments\n",
    "• AM = Avoid crucial mistakes\n",
    "• EV = Experts’ view\n",
    "• O = Overall\n",
    "\"\"\""
   ]
  },
  {
   "cell_type": "code",
   "execution_count": 37,
   "id": "c1528fa0",
   "metadata": {},
   "outputs": [],
   "source": [
    "# let's first grab the column names in a list\n",
    "cols_list = [\n",
    "    col.strip().split(\"=\") for col in col_full_forms.strip().split(sep=\"•\")[1:]\n",
    "]"
   ]
  },
  {
   "cell_type": "code",
   "execution_count": 38,
   "id": "3ff09718",
   "metadata": {},
   "outputs": [
    {
     "data": {
      "text/plain": [
       "[['Bg ', ' Background'],\n",
       " ['Im ', ' Imagination'],\n",
       " ['Int ', ' Integrity'],\n",
       " ['IQ ', ' Intelligence'],\n",
       " ['L ', ' Luck'],\n",
       " ['WR ', ' Willing to take risks'],\n",
       " ['AC ', ' Ability to compromise'],\n",
       " ['EAb ', ' Executive ability'],\n",
       " ['LA ', ' Leadership ability'],\n",
       " ['CAb ', ' Communication ability'],\n",
       " ['OA ', ' Overall ability'],\n",
       " ['PL ', ' Party leadership'],\n",
       " ['RC ', ' Relations with Congress'],\n",
       " ['CAp ', ' Court appointments'],\n",
       " ['HE ', ' Handling of economy'],\n",
       " ['EAp ', ' Executive appointments'],\n",
       " ['DA ', ' Domestic accomplishments'],\n",
       " ['FPA ', ' Foreign policy accomplishments'],\n",
       " ['AM ', ' Avoid crucial mistakes'],\n",
       " ['EV ', ' Experts’ view'],\n",
       " ['O ', ' Overall']]"
      ]
     },
     "execution_count": 38,
     "metadata": {},
     "output_type": "execute_result"
    }
   ],
   "source": [
    "cols_list"
   ]
  },
  {
   "cell_type": "code",
   "execution_count": 39,
   "id": "5bd7819c",
   "metadata": {},
   "outputs": [
    {
     "name": "stdout",
     "output_type": "stream",
     "text": [
      "Bg ,  Background\n",
      "Im ,  Imagination\n",
      "Int ,  Integrity\n",
      "IQ ,  Intelligence\n",
      "L ,  Luck\n",
      "WR ,  Willing to take risks\n",
      "AC ,  Ability to compromise\n",
      "EAb ,  Executive ability\n",
      "LA ,  Leadership ability\n",
      "CAb ,  Communication ability\n",
      "OA ,  Overall ability\n",
      "PL ,  Party leadership\n",
      "RC ,  Relations with Congress\n",
      "CAp ,  Court appointments\n",
      "HE ,  Handling of economy\n",
      "EAp ,  Executive appointments\n",
      "DA ,  Domestic accomplishments\n",
      "FPA ,  Foreign policy accomplishments\n",
      "AM ,  Avoid crucial mistakes\n",
      "EV ,  Experts’ view\n",
      "O ,  Overall\n"
     ]
    }
   ],
   "source": [
    "# now lets unpack this list as short form and full form\n",
    "for short_form, full_form in cols_list:\n",
    "    print(f\"{short_form}, {full_form}\")"
   ]
  },
  {
   "cell_type": "markdown",
   "id": "3447a364",
   "metadata": {},
   "source": [
    "**The thing to Note is,** When such unpacking pattern is used with the for loop in a nested list, it will start to unpack from the most inner layer and not the outer one."
   ]
  },
  {
   "cell_type": "markdown",
   "metadata": {},
   "source": [
    "## <a id='toc6_'></a>[Tuples](#toc0_)"
   ]
  },
  {
   "attachments": {},
   "cell_type": "markdown",
   "id": "51923420-d8ef-49e2-95ff-5cab639aa3b2",
   "metadata": {},
   "source": [
    "A tuple is an immutable list. \n",
    "- Instead of brackets [ ] , a tuple is enclosed within paranthesis (). \n",
    "- Similar to lists, tuples are ordered collection of items and being such the items can be accessed using indexes."
   ]
  },
  {
   "cell_type": "markdown",
   "id": "fa37c55c",
   "metadata": {},
   "source": [
    "As tuples are indexed they can be accessed and sliced as like lists and strings but, since they are immutable you can not change the value of an item or, add items to it or, remove items from it once created."
   ]
  },
  {
   "cell_type": "markdown",
   "metadata": {},
   "source": [
    "#### <a id='toc6_1_1_'></a>[Tuple unpacking](#toc0_)"
   ]
  },
  {
   "cell_type": "code",
   "execution_count": 40,
   "id": "f56f2d59",
   "metadata": {},
   "outputs": [
    {
     "name": "stdout",
     "output_type": "stream",
     "text": [
      "a = 1; b = 2; c = 3; d = [4, 5, 6, 7, 8, 9]; e = 10\n"
     ]
    }
   ],
   "source": [
    "a, b, c, *d, e = (1, 2, 3, 4, 5, 6, 7, 8, 9, 10)\n",
    "print(f\"a = {a}; b = {b}; c = {c}; d = {d}; e = {e}\")"
   ]
  },
  {
   "cell_type": "markdown",
   "metadata": {},
   "source": [
    "#### <a id='toc6_1_2_'></a>[Useful tuple methods](#toc0_)"
   ]
  },
  {
   "cell_type": "code",
   "execution_count": 41,
   "id": "3e731ef4-5b60-4c4c-8721-273f1b1aa2e3",
   "metadata": {},
   "outputs": [],
   "source": [
    "quote_words = (\"to\", \"be\", \"or\", \"not\", \"to\", \"be\")"
   ]
  },
  {
   "cell_type": "code",
   "execution_count": 42,
   "id": "66d86855-9a0e-4258-97ee-f48d91af283d",
   "metadata": {},
   "outputs": [
    {
     "data": {
      "text/plain": [
       "2"
      ]
     },
     "execution_count": 42,
     "metadata": {},
     "output_type": "execute_result"
    }
   ],
   "source": [
    "quote_words.count(\"to\")"
   ]
  },
  {
   "cell_type": "code",
   "execution_count": 43,
   "id": "83b02759",
   "metadata": {},
   "outputs": [
    {
     "data": {
      "text/plain": [
       "2"
      ]
     },
     "execution_count": 43,
     "metadata": {},
     "output_type": "execute_result"
    }
   ],
   "source": [
    "quote_words.index(\"or\")"
   ]
  },
  {
   "cell_type": "markdown",
   "metadata": {},
   "source": [
    "## <a id='toc7_'></a>[Set](#toc0_)"
   ]
  },
  {
   "cell_type": "markdown",
   "id": "0d141ec7",
   "metadata": {},
   "source": [
    "Set is a collection which is unordered and unindexed. \n",
    "- It doesn't allow duplicate members. \n",
    "- Set is defined by values separated by comma inside braces { }.\n",
    "- As sets are unordered and unindexed, you can't access set items but, you can search if an item exists in that set or not with the `in` function. \n",
    "- Since you can't access set items, you can't change them. But, you can add or remove items from it."
   ]
  },
  {
   "cell_type": "markdown",
   "metadata": {},
   "source": [
    "#### <a id='toc7_1_1_'></a>[Useful set methods](#toc0_)"
   ]
  },
  {
   "cell_type": "code",
   "execution_count": 44,
   "id": "062657e5-3850-4c83-a280-9d7528467eb4",
   "metadata": {},
   "outputs": [],
   "source": [
    "fruits = {\"apple\", \"banana\", \"cherry\"}"
   ]
  },
  {
   "attachments": {},
   "cell_type": "markdown",
   "id": "f599d130-a9c4-4b00-8cb0-4041fbe5f57d",
   "metadata": {},
   "source": [
    "*Adding new items*"
   ]
  },
  {
   "cell_type": "code",
   "execution_count": 45,
   "id": "1ff3ec73-dff9-4415-88fa-0734fc8c885e",
   "metadata": {},
   "outputs": [
    {
     "data": {
      "text/plain": [
       "{'apple', 'banana', 'cherry', 'orange'}"
      ]
     },
     "execution_count": 45,
     "metadata": {},
     "output_type": "execute_result"
    }
   ],
   "source": [
    "fruits.add(\"orange\")  # changes in place\n",
    "fruits"
   ]
  },
  {
   "cell_type": "code",
   "execution_count": 46,
   "id": "3b31807b-89e8-4645-9f12-e0589bd98ee1",
   "metadata": {},
   "outputs": [
    {
     "data": {
      "text/plain": [
       "{'apple', 'banana', 'cherry', 'kiwi', 'mango', 'orange'}"
      ]
     },
     "execution_count": 46,
     "metadata": {},
     "output_type": "execute_result"
    }
   ],
   "source": [
    "fruits.update(\n",
    "    [\"kiwi\", \"mango\"]\n",
    ")  # changes in place # adds the items of an iterable to a set\n",
    "fruits"
   ]
  },
  {
   "attachments": {},
   "cell_type": "markdown",
   "id": "5da92769-59bd-4a11-b724-2f989d46f287",
   "metadata": {},
   "source": [
    "*Removing items*"
   ]
  },
  {
   "cell_type": "code",
   "execution_count": 47,
   "id": "f23b87b6-b363-49d3-81fd-2956cc9c244d",
   "metadata": {},
   "outputs": [
    {
     "data": {
      "text/plain": [
       "{'apple', 'banana', 'cherry', 'mango', 'orange'}"
      ]
     },
     "execution_count": 47,
     "metadata": {},
     "output_type": "execute_result"
    }
   ],
   "source": [
    "fruits.remove(\"kiwi\")  # changes in place\n",
    "fruits"
   ]
  },
  {
   "cell_type": "code",
   "execution_count": 48,
   "id": "857b515d-b3d7-41d2-af0f-166a6cdadf4c",
   "metadata": {},
   "outputs": [],
   "source": [
    "fruits.discard(\n",
    "    \"kiwi\"\n",
    ")  # changes in place # If doesn't exist, discard() will NOT raise an error."
   ]
  },
  {
   "cell_type": "code",
   "execution_count": 49,
   "id": "52ec249a-c9a5-426c-9746-b931ae38f545",
   "metadata": {},
   "outputs": [],
   "source": [
    "# fruits.clear()  # empties the set"
   ]
  },
  {
   "cell_type": "markdown",
   "id": "ff974c39",
   "metadata": {},
   "source": [
    "You can refer to (https://www.w3schools.com/python/python_sets_methods.asp) or read the official documentation for further reference."
   ]
  },
  {
   "cell_type": "markdown",
   "metadata": {},
   "source": [
    "#### <a id='toc7_1_2_'></a>[Set comprehension](#toc0_)"
   ]
  },
  {
   "attachments": {},
   "cell_type": "markdown",
   "id": "0a69604e-8271-47d7-b67c-83c33ddb1949",
   "metadata": {},
   "source": [
    "**syntax :** {expression **for** item **in** iterable **if** conditional_statement}\n",
    "\n",
    "The expression is the current item in the iteration, but it is also the outcome, which you can manipulate before it ends up becoming an item in the new set."
   ]
  },
  {
   "cell_type": "code",
   "execution_count": 50,
   "id": "0ea9d73b",
   "metadata": {},
   "outputs": [
    {
     "name": "stdout",
     "output_type": "stream",
     "text": [
      "{'n', 'b'}\n"
     ]
    }
   ],
   "source": [
    "my_list = [\"a\", \"b\", \"c\", \"b\", \"d\", \"n\", \"b\", \"m\", \"n\"]\n",
    "duplicates = {char for char in my_list if my_list.count(char) > 1}\n",
    "print(duplicates)"
   ]
  },
  {
   "cell_type": "markdown",
   "metadata": {},
   "source": [
    "## <a id='toc8_'></a>[Dictionary](#toc0_)"
   ]
  },
  {
   "attachments": {},
   "cell_type": "markdown",
   "id": "bc5f63ae-64b3-4280-9684-e7b50f94455d",
   "metadata": {},
   "source": [
    "Characteristics of dictionary objects: \n",
    "- dictionary is an ordered collection of **key: value** pairs.\n",
    "- a key must be unique and immutable i.e. number, string, tuple etc.\n",
    "- can't be accessed by indexes rather they are accessed by keys."
   ]
  },
  {
   "cell_type": "code",
   "execution_count": 51,
   "id": "9c941f8c",
   "metadata": {},
   "outputs": [],
   "source": [
    "user = {\"name\": \"maidul\", \"greet\": \"welcome here\", \"age\": 20}"
   ]
  },
  {
   "cell_type": "markdown",
   "metadata": {},
   "source": [
    "#### <a id='toc8_1_1_'></a>[Useful dictionary methods](#toc0_)"
   ]
  },
  {
   "cell_type": "code",
   "execution_count": 52,
   "id": "74fe5556-9b18-45ab-a922-a2bcf9382447",
   "metadata": {},
   "outputs": [
    {
     "data": {
      "text/plain": [
       "20"
      ]
     },
     "execution_count": 52,
     "metadata": {},
     "output_type": "execute_result"
    }
   ],
   "source": [
    "user.get(\"age\", 33)  # if age doesn't exists then it will set the value to 33."
   ]
  },
  {
   "cell_type": "code",
   "execution_count": 53,
   "id": "60350417-ef18-4c77-90dd-f0c2a765179b",
   "metadata": {},
   "outputs": [
    {
     "data": {
      "text/plain": [
       "dict_items([('name', 'maidul'), ('greet', 'welcome here'), ('age', 20)])"
      ]
     },
     "execution_count": 53,
     "metadata": {},
     "output_type": "execute_result"
    }
   ],
   "source": [
    "user.items()  # Returns a list of (key, value) pairs"
   ]
  },
  {
   "cell_type": "code",
   "execution_count": 54,
   "id": "1fb57243-a963-4167-add4-5a67b608ca5c",
   "metadata": {},
   "outputs": [
    {
     "data": {
      "text/plain": [
       "dict_keys(['name', 'greet', 'age'])"
      ]
     },
     "execution_count": 54,
     "metadata": {},
     "output_type": "execute_result"
    }
   ],
   "source": [
    "user.keys()  # Returns a list of keys"
   ]
  },
  {
   "cell_type": "code",
   "execution_count": 55,
   "id": "8149d04e-6b2a-411b-b4cd-35a616134de8",
   "metadata": {},
   "outputs": [
    {
     "data": {
      "text/plain": [
       "dict_values(['maidul', 'welcome here', 20])"
      ]
     },
     "execution_count": 55,
     "metadata": {},
     "output_type": "execute_result"
    }
   ],
   "source": [
    "user.values()  # Returns a list of values"
   ]
  },
  {
   "cell_type": "code",
   "execution_count": 56,
   "id": "f8d9a8fd-954a-47e4-89b5-3d9356fd8d27",
   "metadata": {},
   "outputs": [],
   "source": [
    "user.update({\"age\": 30})  # update the value of a certain element"
   ]
  },
  {
   "cell_type": "code",
   "execution_count": 57,
   "id": "26e40d5c-debd-4c09-af76-6f5d9cd03528",
   "metadata": {},
   "outputs": [
    {
     "data": {
      "text/plain": [
       "'welcome here'"
      ]
     },
     "execution_count": 57,
     "metadata": {},
     "output_type": "execute_result"
    }
   ],
   "source": [
    "# Remove an item from the dictionary\n",
    "\n",
    "user.pop(\"greet\")  # changes in place"
   ]
  },
  {
   "cell_type": "code",
   "execution_count": 58,
   "id": "6b4e4afd-9da6-446c-b873-3340436bfc63",
   "metadata": {},
   "outputs": [],
   "source": [
    "# user.clear()  # empties the dictionary"
   ]
  },
  {
   "cell_type": "markdown",
   "id": "d187f88c",
   "metadata": {},
   "source": [
    "You can refer to (https://www.w3schools.com/python/python_dictionaries_methods.asp) or read the official documentation for further reference."
   ]
  },
  {
   "cell_type": "markdown",
   "metadata": {},
   "source": [
    "#### <a id='toc8_1_2_'></a>[Dictionary comprehension](#toc0_)"
   ]
  },
  {
   "attachments": {},
   "cell_type": "markdown",
   "id": "119188f4-c226-43aa-9b2f-f58b356ff4ac",
   "metadata": {},
   "source": [
    "**syntax :** {key: value **for** key, value **in** iterable **if** conditional_statement}"
   ]
  },
  {
   "cell_type": "code",
   "execution_count": 59,
   "id": "62f7a0c8-cf9f-4f7e-acd0-f54777c7ee1b",
   "metadata": {},
   "outputs": [
    {
     "name": "stdout",
     "output_type": "stream",
     "text": [
      "{'b': 4, 'd': 16}\n"
     ]
    }
   ],
   "source": [
    "sample_dict = {\"a\": 1, \"b\": 2, \"c\": 3, \"d\": 4}\n",
    "dict_comp = {key: value**2 for key, value in sample_dict.items() if value % 2 == 0}\n",
    "print(dict_comp)"
   ]
  },
  {
   "cell_type": "code",
   "execution_count": null,
   "id": "equal-trick",
   "metadata": {},
   "outputs": [],
   "source": []
  }
 ],
 "metadata": {
  "kernelspec": {
   "display_name": "Python 3 (ipykernel)",
   "language": "python",
   "name": "python3"
  },
  "language_info": {
   "codemirror_mode": {
    "name": "ipython",
    "version": 3
   },
   "file_extension": ".py",
   "mimetype": "text/x-python",
   "name": "python",
   "nbconvert_exporter": "python",
   "pygments_lexer": "ipython3",
   "version": "3.8.16"
  },
  "vscode": {
   "interpreter": {
    "hash": "c68b33fb54bb59552268eca97cce0a66d93ba1e1c3c0870be37ac7a47ccc96a3"
   }
  }
 },
 "nbformat": 4,
 "nbformat_minor": 5
}
