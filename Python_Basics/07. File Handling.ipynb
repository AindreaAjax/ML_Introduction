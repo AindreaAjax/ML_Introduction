{
 "cells": [
  {
   "cell_type": "markdown",
   "id": "fba366f6-40f1-4c73-9e45-f443379eb2e2",
   "metadata": {},
   "source": [
    "## Opening Files "
   ]
  },
  {
   "cell_type": "markdown",
   "id": "2f30ce12-6c4d-4172-912d-bdf599ee4505",
   "metadata": {},
   "source": [
    "The key function for working with files in Python is the `open()` function. It takes two parameters; **filename/filepath**, and **mode**."
   ]
  },
  {
   "cell_type": "markdown",
   "id": "a4875ff7-2259-4618-8cd2-c07df5f5bcdc",
   "metadata": {},
   "source": [
    "There are four different modes for opening a file:\n",
    "\n",
    "- `r` Read : Default value. Opens a file for reading, returns an error if the file does not exist.\n",
    "\n",
    "- `a` Append : Opens a file for appending, creates the file if it does not exist. Appends to the end of the file.\n",
    "\n",
    "- `w` Write : Opens a file for writing, creates the file if it does not exist. Overwrites the content of the file, So be cautious.\n",
    "\n",
    "- `x` Create : Creates the specified file, returns an error if the file exists.\n",
    "\n",
    "In addition you can specify if the file should be handled as binary or text mode:\n",
    "\n",
    "- `t` Text : Default value. Text mode\n",
    "\n",
    "- `b` Binary : Binary mode (e.g. images)"
   ]
  },
  {
   "cell_type": "markdown",
   "id": "ff05f827-253f-4d70-8597-90c0d221903b",
   "metadata": {},
   "source": [
    "One thing to note is, If you open a file with `open()` you have to close it with `close()` once you've finished."
   ]
  },
  {
   "cell_type": "markdown",
   "id": "1f40223e-8ec1-4bc2-8bcd-e0cc6c63d739",
   "metadata": {},
   "source": [
    "We can also use `with open()` to open a file. This offers some advantages over `open()`, e.g., you won't have to close a file manually. Also the code looks neat as the code block concerning interaction with the file is indented inside the `with open()` block."
   ]
  },
  {
   "cell_type": "markdown",
   "id": "f4b24114-f54d-4c97-b7cb-b441ae9bb177",
   "metadata": {},
   "source": [
    "## Handling Text Files "
   ]
  },
  {
   "cell_type": "markdown",
   "id": "7ef4bec8-0a9b-495c-9304-b2e1854097a6",
   "metadata": {},
   "source": [
    "### Reading a File "
   ]
  },
  {
   "cell_type": "markdown",
   "id": "bef96bb0-3c96-4079-a783-eeebdfb81907",
   "metadata": {},
   "source": [
    "The `open()` function returns a file object, which has a `read()` method for reading the content of the file."
   ]
  },
  {
   "cell_type": "code",
   "execution_count": 1,
   "id": "0db8c364-990f-4719-b00e-4d68c1d6b17d",
   "metadata": {},
   "outputs": [
    {
     "name": "stdout",
     "output_type": "stream",
     "text": [
      "The Child And The Candle\n",
      "Allama Iqbal\n",
      "\n",
      "O Child with moth-like nature , \"How strange that\n",
      "You keep gazing at the flame of the candle for hours\n",
      "What is this movement, when you are in my lap?\n",
      "Are you intending to embrace the light?\n",
      "Though your tiny heart is surprised at this spectacle\n",
      "But this is recognition of some object already seen!\n",
      "The candle is but a flame, you are the Light embodied\n",
      "Ah! In this assembly that is manifest, you are concealed\n",
      "It is not known why the Nature's hand made it manifest!\n",
      "And concealed you in the dark soil's mantle\n",
      "Your light has been concealed under the veil of Intellect! \n",
      "The veil of Cognition is a mere mist to the wise eye!\n",
      "......\n",
      "\n",
      "Sir Muhammad Iqbal, KCSI (9 November 1877 – 21 April 1938).\n"
     ]
    }
   ],
   "source": [
    "with open('exFile.txt', 'rt') as demotext:\n",
    "    print(demotext.read())"
   ]
  },
  {
   "cell_type": "markdown",
   "id": "acd0e106-d3e5-4e88-90af-edc98a7421dd",
   "metadata": {},
   "source": [
    "### Reading Only Some Parts of a File"
   ]
  },
  {
   "cell_type": "markdown",
   "id": "ba064779-bee6-4e01-a0b4-a52d73df5223",
   "metadata": {},
   "source": [
    "- Read a specified number of characters "
   ]
  },
  {
   "cell_type": "code",
   "execution_count": 2,
   "id": "a1d03ee6-1684-4ba6-9126-4a48475630b4",
   "metadata": {},
   "outputs": [
    {
     "name": "stdout",
     "output_type": "stream",
     "text": [
      "The Child \n"
     ]
    }
   ],
   "source": [
    "with open('exFile.txt', 'r') as demotext:\n",
    "    print(demotext.read(10))  # Read 10 characters and set the cursor at last read position."
   ]
  },
  {
   "cell_type": "markdown",
   "id": "d5962a1e-8770-4184-b98f-1718b5fb8fcf",
   "metadata": {},
   "source": [
    "- Read a line"
   ]
  },
  {
   "cell_type": "code",
   "execution_count": 3,
   "id": "b9b17f8c-b2b6-418e-b205-245bc1ae56e3",
   "metadata": {},
   "outputs": [
    {
     "name": "stdout",
     "output_type": "stream",
     "text": [
      "The Child And The Candle\n",
      "\n"
     ]
    }
   ],
   "source": [
    "with open('exFile.txt', 'r') as demotext:\n",
    "    print(demotext.readline())  # Read a Line and set the cursor at the end of the line."
   ]
  },
  {
   "cell_type": "markdown",
   "id": "1202f341-f209-43d5-ba65-a8311923669d",
   "metadata": {},
   "source": [
    "- Read multiple lines"
   ]
  },
  {
   "cell_type": "code",
   "execution_count": 4,
   "id": "85590346-b46b-430d-91fc-945234d193c5",
   "metadata": {},
   "outputs": [
    {
     "name": "stdout",
     "output_type": "stream",
     "text": [
      "The Child And The Candle\n",
      "\n",
      "Allama Iqbal\n",
      "\n"
     ]
    }
   ],
   "source": [
    "with open('exFile.txt', 'r') as demotext:\n",
    "    print(demotext.readline())\n",
    "    print(demotext.readline())"
   ]
  },
  {
   "cell_type": "markdown",
   "id": "1068f61c-f734-4016-a95a-d8092028c7b4",
   "metadata": {},
   "source": [
    "- Read all the lines "
   ]
  },
  {
   "cell_type": "code",
   "execution_count": 5,
   "id": "3ad39ae8-c0c4-4240-a6af-004e53898c5f",
   "metadata": {},
   "outputs": [
    {
     "name": "stdout",
     "output_type": "stream",
     "text": [
      "['The Child And The Candle\\n', 'Allama Iqbal\\n', '\\n', 'O Child with moth-like nature , \"How strange that\\n', 'You keep gazing at the flame of the candle for hours\\n', 'What is this movement, when you are in my lap?\\n', 'Are you intending to embrace the light?\\n', 'Though your tiny heart is surprised at this spectacle\\n', 'But this is recognition of some object already seen!\\n', 'The candle is but a flame, you are the Light embodied\\n', 'Ah! In this assembly that is manifest, you are concealed\\n', \"It is not known why the Nature's hand made it manifest!\\n\", \"And concealed you in the dark soil's mantle\\n\", 'Your light has been concealed under the veil of Intellect! \\n', 'The veil of Cognition is a mere mist to the wise eye!\\n', '......\\n', '\\n', 'Sir Muhammad Iqbal, KCSI (9 November 1877 – 21 April 1938).']\n"
     ]
    }
   ],
   "source": [
    "with open('exFile.txt', 'r') as demotext:\n",
    "    print(demotext.readlines())  # Reads all the lines and returns them as a list."
   ]
  },
  {
   "cell_type": "markdown",
   "id": "b90d6402-62fe-4393-8378-4f7eada7d1e2",
   "metadata": {},
   "source": [
    " "
   ]
  },
  {
   "cell_type": "markdown",
   "id": "307215b8-064f-4dab-bce3-6d9676059313",
   "metadata": {},
   "source": [
    "### Writing to a File "
   ]
  },
  {
   "cell_type": "markdown",
   "id": "f79d53ba-f3b7-4418-b49b-1436e3a03078",
   "metadata": {},
   "source": [
    "- Appending "
   ]
  },
  {
   "cell_type": "code",
   "execution_count": 6,
   "id": "66cfff72-1aa5-41f5-85ac-b511dda8d460",
   "metadata": {},
   "outputs": [
    {
     "name": "stdout",
     "output_type": "stream",
     "text": [
      "The Child And The Candle\n",
      "Allama Iqbal\n",
      "\n",
      "O Child with moth-like nature , \"How strange that\n",
      "You keep gazing at the flame of the candle for hours\n",
      "What is this movement, when you are in my lap?\n",
      "Are you intending to embrace the light?\n",
      "Though your tiny heart is surprised at this spectacle\n",
      "But this is recognition of some object already seen!\n",
      "The candle is but a flame, you are the Light embodied\n",
      "Ah! In this assembly that is manifest, you are concealed\n",
      "It is not known why the Nature's hand made it manifest!\n",
      "And concealed you in the dark soil's mantle\n",
      "Your light has been concealed under the veil of Intellect! \n",
      "The veil of Cognition is a mere mist to the wise eye!\n",
      "......\n",
      "\n",
      "Sir Muhammad Iqbal, KCSI (9 November 1877 – 21 April 1938).\n",
      " Sir Muhammad Iqbal, KCSI (9 November 1877 – 21 April 1938).\n"
     ]
    }
   ],
   "source": [
    "with open('exFile.txt', 'a') as demotext:\n",
    "    demotext.write(\"\\n Sir Muhammad Iqbal, KCSI (9 November 1877 – 21 April 1938).\")\n",
    "with open('exFile.txt', 'r') as demotext:\n",
    "    print(demotext.read())"
   ]
  },
  {
   "cell_type": "markdown",
   "id": "1c5f0cf8-da43-4d4b-a3fc-15059c5b1302",
   "metadata": {},
   "source": [
    " "
   ]
  },
  {
   "cell_type": "markdown",
   "id": "4ab404e4-796d-4909-9d29-74ad15e716c3",
   "metadata": {},
   "source": [
    "### Manipulating the Cursor Position "
   ]
  },
  {
   "cell_type": "code",
   "execution_count": 7,
   "id": "719a8ec6-bbae-4bf5-98ff-76c31f2f3b14",
   "metadata": {},
   "outputs": [
    {
     "data": {
      "text/plain": [
       "'The Child '"
      ]
     },
     "execution_count": 7,
     "metadata": {},
     "output_type": "execute_result"
    }
   ],
   "source": [
    "demotext = open('exFile.txt', 'r')\n",
    "demotext.read(10)"
   ]
  },
  {
   "cell_type": "markdown",
   "id": "cc8d4669-92d8-432a-9eb1-456216261040",
   "metadata": {},
   "source": [
    "- See the current position of the cursor"
   ]
  },
  {
   "cell_type": "code",
   "execution_count": 8,
   "id": "8d77e4ff-27e5-4f43-bbdc-2870e5a71384",
   "metadata": {},
   "outputs": [
    {
     "data": {
      "text/plain": [
       "10"
      ]
     },
     "execution_count": 8,
     "metadata": {},
     "output_type": "execute_result"
    }
   ],
   "source": [
    "demotext.tell()"
   ]
  },
  {
   "cell_type": "markdown",
   "id": "98209980-7f4c-4ea0-9cdb-d56536e76b18",
   "metadata": {},
   "source": [
    "- Change the position of the cursor to a specific location "
   ]
  },
  {
   "cell_type": "code",
   "execution_count": 9,
   "id": "1563d46b-a2cd-473b-a191-db32cc408325",
   "metadata": {},
   "outputs": [
    {
     "data": {
      "text/plain": [
       "'Allama Iqbal\\n'"
      ]
     },
     "execution_count": 9,
     "metadata": {},
     "output_type": "execute_result"
    }
   ],
   "source": [
    "demotext.seek(25)\n",
    "demotext.read(13)"
   ]
  },
  {
   "cell_type": "code",
   "execution_count": 11,
   "id": "d2c5ee28-8d6d-4521-a310-fef46e27ff53",
   "metadata": {},
   "outputs": [
    {
     "data": {
      "text/plain": [
       "0"
      ]
     },
     "execution_count": 11,
     "metadata": {},
     "output_type": "execute_result"
    }
   ],
   "source": [
    "demotext.seek(0)  # go to the start of the file\n",
    "demotext.tell()  # confirming the cursor position"
   ]
  },
  {
   "cell_type": "code",
   "execution_count": null,
   "id": "c194d431-ac6d-4713-86d0-06a35142495c",
   "metadata": {},
   "outputs": [],
   "source": []
  }
 ],
 "metadata": {
  "kernelspec": {
   "display_name": "Python 3 (ipykernel)",
   "language": "python",
   "name": "python3"
  },
  "language_info": {
   "codemirror_mode": {
    "name": "ipython",
    "version": 3
   },
   "file_extension": ".py",
   "mimetype": "text/x-python",
   "name": "python",
   "nbconvert_exporter": "python",
   "pygments_lexer": "ipython3",
   "version": "3.10.5"
  }
 },
 "nbformat": 4,
 "nbformat_minor": 5
}
