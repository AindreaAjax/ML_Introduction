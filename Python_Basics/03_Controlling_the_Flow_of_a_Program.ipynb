{
 "cells": [
  {
   "cell_type": "markdown",
   "id": "e68c5e1d-d736-4441-af3b-0078b946e2ba",
   "metadata": {},
   "source": [
    "- Note - Python interprets non-zero values as True. None and 0 are interpreted as False."
   ]
  },
  {
   "cell_type": "markdown",
   "id": "cb82d9cb-a850-4842-b74e-dc95fb8efc95",
   "metadata": {},
   "source": [
    "### Python If, Elif and Else Statements "
   ]
  },
  {
   "cell_type": "markdown",
   "id": "92dba8b5-48b2-4ce3-be91-b4b899221b67",
   "metadata": {
    "colab_type": "text",
    "id": "KcH_APWeefQ_"
   },
   "source": [
    "The `if…elif…else` statement is used in Python for **decision making**."
   ]
  },
  {
   "cell_type": "markdown",
   "id": "de9125bf-fc94-44b2-8a89-899f31ef9eda",
   "metadata": {},
   "source": [
    "#### -> Syntax of `if...elif...else...`"
   ]
  },
  {
   "cell_type": "markdown",
   "id": "755ed198-17b9-4d28-a852-d4f89c103f30",
   "metadata": {
    "colab_type": "text",
    "id": "NK9FpkhiefRT"
   },
   "source": [
    "    if test-expression:\n",
    "\n",
    "        Body of if\n",
    "        \n",
    "    elif test-expression:\n",
    "            \n",
    "        Body of elif\n",
    "        \n",
    "    else: \n",
    "        \n",
    "        Body of else"
   ]
  },
  {
   "cell_type": "markdown",
   "id": "5c2dc765-14f7-4d71-bd64-3f879063d4be",
   "metadata": {
    "colab_type": "text",
    "id": "Sp98_OGyefRZ",
    "tags": []
   },
   "source": [
    "- Nested if Statements"
   ]
  },
  {
   "cell_type": "markdown",
   "id": "4e8703dd-0ff1-472c-9a06-20e8979c9a88",
   "metadata": {
    "colab_type": "text",
    "id": "Ss3GbcNTefRZ"
   },
   "source": [
    "We can have a `if...elif...else` statement inside another `if...elif...else` statement. This is called nesting in computer programming."
   ]
  },
  {
   "cell_type": "markdown",
   "id": "360757a7-ebca-4f52-a77d-49ee4026b37a",
   "metadata": {
    "id": "OaeSlvRlQxZr"
   },
   "source": [
    "### Python for Loop"
   ]
  },
  {
   "cell_type": "markdown",
   "id": "fbfc8321-1a8a-4bec-b46d-4c5dc1c396e3",
   "metadata": {
    "id": "mWRuZi5wQxZu"
   },
   "source": [
    "The `for` loop in Python is used to **iterate over a sequence** (list, tuple, string, range) or other iterable objects."
   ]
  },
  {
   "cell_type": "markdown",
   "id": "52707e6d-e44b-41e0-990e-577204e11511",
   "metadata": {
    "id": "HoHdlyZkQxZx"
   },
   "source": [
    "#### -> Syntax of `for...`"
   ]
  },
  {
   "cell_type": "markdown",
   "id": "319354df-9b21-43ee-9892-4d87c107fc43",
   "metadata": {
    "id": "8zrVIhSuQxZz"
   },
   "source": [
    "    for element-in-sequence :\n",
    "\n",
    "        Body of for"
   ]
  },
  {
   "cell_type": "markdown",
   "id": "f7ffb241-91af-47f1-9217-e4182b38127b",
   "metadata": {
    "id": "MmQ0IYynQxZ1"
   },
   "source": [
    "Loop continues until the last item in the sequence is reached. "
   ]
  },
  {
   "cell_type": "markdown",
   "id": "653c417e-c7f2-45a2-8e6b-68734b485cc6",
   "metadata": {},
   "source": [
    "- Syntax of `for...else...` "
   ]
  },
  {
   "cell_type": "markdown",
   "id": "05c6e4b2-cbca-4888-ae8b-c643930b0757",
   "metadata": {
    "id": "8zrVIhSuQxZz"
   },
   "source": [
    "    for element-in-sequence :\n",
    "\n",
    "        Body of for\n",
    "        \n",
    "    else : \n",
    "    \n",
    "        Body of else"
   ]
  },
  {
   "attachments": {},
   "cell_type": "markdown",
   "id": "08501da3-a0ad-4e9e-bf32-3736fa577ef1",
   "metadata": {
    "id": "tUGZf_sQQxaW"
   },
   "source": [
    "A for loop can have an optional else block as well. The else part is executed if the items in the sequence used in for loop exhausts. \n",
    "\n",
    "The **break** statement can be used to stop a for loop. In such case, the else part is ignored."
   ]
  },
  {
   "cell_type": "markdown",
   "id": "8f8fc635-3984-4ca3-9ac4-cfdb6cbeb403",
   "metadata": {
    "colab_type": "text",
    "id": "07ksljDtKAHa"
   },
   "source": [
    "### Python while Loop"
   ]
  },
  {
   "cell_type": "markdown",
   "id": "0c78db1b-e546-4561-b96e-dc40dd7afc63",
   "metadata": {
    "colab_type": "text",
    "id": "2OItOHUHKAHb"
   },
   "source": [
    "The `while` loop in Python is used to **iterate over a block of code as long as the test expression (condition) is true.**"
   ]
  },
  {
   "cell_type": "markdown",
   "id": "2f495bcd-de6c-4631-971b-9cb3bdad1622",
   "metadata": {
    "colab_type": "text",
    "id": "WWLJzdWHKAHc"
   },
   "source": [
    "#### -> Syntax of `while...`"
   ]
  },
  {
   "cell_type": "markdown",
   "id": "aa2f2a23-fb6e-4aa5-a7c4-cbc96cdee4c4",
   "metadata": {
    "colab_type": "text",
    "id": "lnGzbA0QKAHd"
   },
   "source": [
    "    while test-expression:\n",
    "        \n",
    "        Body of while"
   ]
  },
  {
   "cell_type": "markdown",
   "id": "3e2c9dc9-d7db-42de-b502-aa52031ef6a3",
   "metadata": {
    "colab_type": "text",
    "id": "Ado-uFWRKAHf"
   },
   "source": [
    "The body of the loop is entered only if the test_expression evaluates to True. After one iteration, the test expression is checked again. This process continues until the test_expression evaluates to False."
   ]
  },
  {
   "cell_type": "markdown",
   "id": "f9c3e072-c2c5-488c-9a3f-6542c91a7bb8",
   "metadata": {},
   "source": [
    "- Syntax of `while...else...` "
   ]
  },
  {
   "attachments": {},
   "cell_type": "markdown",
   "id": "2957b4b7-e1e4-4a97-9e70-ebd5e40ad66f",
   "metadata": {
    "colab_type": "text",
    "id": "huxkWIqIKAHn"
   },
   "source": [
    "Same as that of for loop, we can have an optional else block with while loop as well. The else part is executed if the condition in the while loop evaluates to False. \n",
    "\n",
    "The while loop can be terminated with a **break** statement. In such case, the else part is ignored."
   ]
  },
  {
   "cell_type": "markdown",
   "id": "e0b72e40-2bf8-40a3-a265-c6a9672f6914",
   "metadata": {
    "colab_type": "text",
    "id": "sywvYJn4bHvQ"
   },
   "source": [
    "### Python break, continue and pass Statements"
   ]
  },
  {
   "cell_type": "markdown",
   "id": "bd43cbaa-308b-462c-bf91-157e800cf2bd",
   "metadata": {},
   "source": [
    "#### The `break` Statement"
   ]
  },
  {
   "cell_type": "markdown",
   "id": "f674361f-15ff-4aef-b83f-1658537b1c1a",
   "metadata": {},
   "source": [
    "Syntax:\n",
    "    \n",
    "    break"
   ]
  },
  {
   "attachments": {},
   "cell_type": "markdown",
   "id": "1e8506fc-2b11-4bd7-8eb3-d82aef857f15",
   "metadata": {},
   "source": [
    "The break statement in Python **terminates the current loop and resumes execution at the next statement**. \n",
    "\n",
    "The most common use for break is when some external condition is triggered requiring a hasty exit from a loop. The break statement can be used in both while and for loops."
   ]
  },
  {
   "cell_type": "markdown",
   "id": "09fa141a-36d8-4d6d-b67b-a3c0260a5297",
   "metadata": {},
   "source": [
    "#### The `continue` Statement "
   ]
  },
  {
   "cell_type": "markdown",
   "id": "e0284df1-6cae-4383-8d9e-af5545696f08",
   "metadata": {},
   "source": [
    "Syntax:\n",
    "\n",
    "    continue"
   ]
  },
  {
   "attachments": {},
   "cell_type": "markdown",
   "id": "42e590bf-c791-4e70-8c3e-37d255c1dc24",
   "metadata": {},
   "source": [
    "The continue statement in Python **returns the control to the beginning of the loop**. \n",
    "\n",
    "The continue statement rejects all the remaining statements in the current iteration of the loop and moves the control back to the top of the loop. It can be used in both while and for loops."
   ]
  },
  {
   "cell_type": "markdown",
   "id": "761b2a81-f12e-432b-a21e-f082c7631b67",
   "metadata": {},
   "source": [
    "#### The `pass` Statement "
   ]
  },
  {
   "cell_type": "markdown",
   "id": "3b56ee78-3ec1-4980-ba26-c6c7dc493e27",
   "metadata": {},
   "source": [
    "Syntax:\n",
    "\n",
    "    pass"
   ]
  },
  {
   "cell_type": "markdown",
   "id": "c0b9a958-71ee-419b-8463-ab1140fae1db",
   "metadata": {},
   "source": [
    "The pass statement is a null operation; nothing happens when it executes. It is used mainly as a **placeholder**."
   ]
  },
  {
   "cell_type": "markdown",
   "id": "34284c28-cc8c-4098-a472-43350cb7ecdd",
   "metadata": {},
   "source": [
    "### Example - Finding duplicates in a list "
   ]
  },
  {
   "cell_type": "code",
   "execution_count": 1,
   "id": "96aedc39-1257-4f02-97ed-276c223fc173",
   "metadata": {},
   "outputs": [
    {
     "name": "stdout",
     "output_type": "stream",
     "text": [
      "['b', 'n']\n",
      "The Duplicates are: \t {'b', 'n'}\n"
     ]
    }
   ],
   "source": [
    "my_list = [\"a\", \"b\", \"c\", \"b\", \"d\", \"m\", \"n\", \"n\", \"b\"]\n",
    "\n",
    "# Sol. 01:\n",
    "duplicate = []\n",
    "for item in my_list:\n",
    "    if my_list.count(item) > 1 and item not in duplicate:\n",
    "        duplicate.append(item)\n",
    "print(duplicate)\n",
    "\n",
    "# Sol. 02:\n",
    "duplicate = []\n",
    "for i, item in enumerate(my_list):\n",
    "    index = 0\n",
    "    while index < len(my_list) and index != i:\n",
    "        if my_list[index] == item:\n",
    "            duplicate.append(item)\n",
    "        index += 1\n",
    "print(\n",
    "    \"The Duplicates are: \\t\", set(duplicate)\n",
    ")  # since set doesn't allow duplicate entries"
   ]
  },
  {
   "cell_type": "markdown",
   "id": "935b7f68-0b2b-4369-a59d-ff28967914f3",
   "metadata": {},
   "source": [
    "### Python Generators "
   ]
  },
  {
   "cell_type": "markdown",
   "id": "7fea5d25-985f-4e20-8973-3aa7ddf40434",
   "metadata": {},
   "source": [
    "A generator is a function which returns a value each time the `yield` keyword is used. The `yield` keyword works much like the `return` function. But unlike `return`, which terminates the function once something is returned, `yield` allows Python to wake up the function, each time the next value of a generator is needed, and resumes its execution from the yield line as if the function had never exited."
   ]
  },
  {
   "attachments": {},
   "cell_type": "markdown",
   "id": "c9db4b17-675b-4945-a577-ee5f268ba61f",
   "metadata": {},
   "source": [
    "Generator functions can use other functions inside it. For instance, it is very common to use the `range` function to iterate over a sequence of numbers"
   ]
  },
  {
   "cell_type": "code",
   "execution_count": 2,
   "id": "94009e30-253e-4d79-b3dc-71892c3a9061",
   "metadata": {},
   "outputs": [
    {
     "name": "stdout",
     "output_type": "stream",
     "text": [
      "0\n",
      "1\n"
     ]
    }
   ],
   "source": [
    "# Return squares of numbers upto \"n\" once at a time\n",
    "def squares(n):\n",
    "    for value in range(n):\n",
    "        yield value * value\n",
    "\n",
    "\n",
    "sqr = squares(8)\n",
    "print(next(sqr))\n",
    "print(next(sqr))"
   ]
  },
  {
   "cell_type": "code",
   "execution_count": 3,
   "id": "ea495be3-5b50-4675-85f8-0a813d0098ce",
   "metadata": {},
   "outputs": [
    {
     "name": "stdout",
     "output_type": "stream",
     "text": [
      "4\n"
     ]
    }
   ],
   "source": [
    "# We can still get only the next number in the sequence for the sqr variable\n",
    "print(next(sqr))"
   ]
  },
  {
   "cell_type": "markdown",
   "id": "9052d686-d935-4824-a9ba-2e7b3067864d",
   "metadata": {},
   "source": [
    "`?` Yield Numbers From n Down to 0"
   ]
  },
  {
   "cell_type": "code",
   "execution_count": 4,
   "id": "07ba7648-6070-46bb-a4d5-136452d73dee",
   "metadata": {},
   "outputs": [],
   "source": [
    "# Implement a generator reverse(n) that returns All numbers from n down to 0.\n",
    "def reverse(n):\n",
    "    for i in range(\n",
    "        n, -1, -1\n",
    "    ):  # in this case range returns an iterator starting from n and ending at 0.\n",
    "        yield i"
   ]
  },
  {
   "cell_type": "code",
   "execution_count": 5,
   "id": "6cbc9269-cd14-4c91-b226-9df3bb024e5e",
   "metadata": {},
   "outputs": [
    {
     "name": "stdout",
     "output_type": "stream",
     "text": [
      "4\n",
      "3\n",
      "2\n",
      "1\n",
      "0\n"
     ]
    }
   ],
   "source": [
    "# printing numbers from 4 down to 0\n",
    "for i in reverse(\n",
    "    4\n",
    "):  # for automatically calls the \"next\" func on the reverse function\n",
    "    print(i)"
   ]
  },
  {
   "cell_type": "markdown",
   "id": "28735329-5c0e-424f-a860-85b5a6d4656c",
   "metadata": {},
   "source": [
    "#### Example - Yield Fibonacci Sequence From 1st to Nth Number "
   ]
  },
  {
   "cell_type": "code",
   "execution_count": 6,
   "id": "ef73d73b-cadb-449d-99dd-74863668c366",
   "metadata": {},
   "outputs": [],
   "source": [
    "def fibonacci(n):\n",
    "    fib_series = []\n",
    "    for i in range(n):  # since indexing starts from 0\n",
    "        if i < 2:\n",
    "            fib_series.append(i)\n",
    "            yield i\n",
    "        else:\n",
    "            x = fib_series[i - 1] + fib_series[i - 2]\n",
    "            fib_series.append(x)\n",
    "            yield x"
   ]
  },
  {
   "cell_type": "code",
   "execution_count": 7,
   "id": "646cf7dc-25d9-4e52-b4ae-a43468b77e40",
   "metadata": {},
   "outputs": [
    {
     "name": "stdout",
     "output_type": "stream",
     "text": [
      "1th fibonacci is:  0\n",
      "2th fibonacci is:  1\n",
      "3th fibonacci is:  1\n",
      "4th fibonacci is:  2\n",
      "5th fibonacci is:  3\n",
      "6th fibonacci is:  5\n",
      "7th fibonacci is:  8\n"
     ]
    }
   ],
   "source": [
    "for i, j in enumerate(fibonacci(7)):\n",
    "    print(f\"{i+1}th fibonacci is: \", j)"
   ]
  },
  {
   "cell_type": "code",
   "execution_count": null,
   "id": "9e641d6b-7f82-40c8-b741-3d36ed2725de",
   "metadata": {},
   "outputs": [],
   "source": []
  }
 ],
 "metadata": {
  "kernelspec": {
   "display_name": "Python 3 (ipykernel)",
   "language": "python",
   "name": "python3"
  },
  "language_info": {
   "codemirror_mode": {
    "name": "ipython",
    "version": 3
   },
   "file_extension": ".py",
   "mimetype": "text/x-python",
   "name": "python",
   "nbconvert_exporter": "python",
   "pygments_lexer": "ipython3",
   "version": "3.8.15"
  }
 },
 "nbformat": 4,
 "nbformat_minor": 5
}
