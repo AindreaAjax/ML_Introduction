{
 "cells": [
  {
   "cell_type": "markdown",
   "id": "delayed-chassis",
   "metadata": {},
   "source": [
    "## Keywords"
   ]
  },
  {
   "cell_type": "markdown",
   "id": "ideal-imagination",
   "metadata": {},
   "source": [
    "Keywords are predefined, reserved words used in programming that have special meanings to the compiler. These are a part of the syntax and can't be used as an identifier."
   ]
  },
  {
   "cell_type": "markdown",
   "id": "located-campbell",
   "metadata": {},
   "source": [
    "In Python, the following words are reserved as keywords -"
   ]
  },
  {
   "cell_type": "code",
   "execution_count": 1,
   "id": "western-contest",
   "metadata": {},
   "outputs": [
    {
     "name": "stdout",
     "output_type": "stream",
     "text": [
      "['False', 'None', 'True', 'and', 'as', 'assert', 'async', 'await', 'break', 'class', 'continue', 'def', 'del', 'elif', 'else', 'except', 'finally', 'for', 'from', 'global', 'if', 'import', 'in', 'is', 'lambda', 'nonlocal', 'not', 'or', 'pass', 'raise', 'return', 'try', 'while', 'with', 'yield']\n"
     ]
    }
   ],
   "source": [
    "import keyword\n",
    "\n",
    "print(keyword.kwlist)"
   ]
  },
  {
   "cell_type": "markdown",
   "id": "announced-strengthening",
   "metadata": {},
   "source": [
    "## Identifiers "
   ]
  },
  {
   "cell_type": "markdown",
   "id": "elder-budget",
   "metadata": {},
   "source": [
    "A name used to identify a variable, function, class, module or any other object. An identifier can start with a letter **(A to Z or, a to z)** or, an underscore **(_)** but not digits and maybe followed by more letters, underscores and digits **(0 to 9)**."
   ]
  },
  {
   "cell_type": "markdown",
   "id": "adolescent-blanket",
   "metadata": {},
   "source": [
    "Note that, \n",
    "- Python does not allow punctuation characters such as @, $, and % within identifiers.\n",
    "- Python is a case sensitive programming language."
   ]
  },
  {
   "cell_type": "markdown",
   "id": "wrong-lancaster",
   "metadata": {},
   "source": [
    "Commonly followed naming conventions for Python identifiers are as follows ---\n",
    "\n",
    "- **Variable** names should be descriptive e.g. **snake_case**.\n",
    "- **Constants** should be named in **CAPS**.\n",
    "- **Class** names should follow **CamelCase**.\n",
    "- Starting an identifier with a single leading underscore indicates that the identifier is private.\n",
    "- Starting an identifier with two leading underscores indicates a strongly private identifier.\n",
    "- If the identifier also ends with two trailing underscores, the identifier is a language-defined special name."
   ]
  },
  {
   "cell_type": "markdown",
   "id": "trying-flexibility",
   "metadata": {},
   "source": [
    "## Code Formatting "
   ]
  },
  {
   "cell_type": "markdown",
   "id": "excited-huntington",
   "metadata": {},
   "source": [
    "### Comments "
   ]
  },
  {
   "cell_type": "markdown",
   "id": "defined-married",
   "metadata": {},
   "source": [
    "A comment is a programmer-readable explanation or annotation in the source code of a computer program. They are added with the purpose of making the source code easier for humans to understand, and are generally ignored by compilers and interpreters."
   ]
  },
  {
   "cell_type": "markdown",
   "id": "prospective-reynolds",
   "metadata": {},
   "source": [
    "Comments in Python begins with a hash mark ( # ). For multiline comments use tripple quotes (either ''' or, \"\"\")."
   ]
  },
  {
   "cell_type": "code",
   "execution_count": 2,
   "id": "similar-cholesterol",
   "metadata": {},
   "outputs": [],
   "source": [
    "# Single line comment.\n",
    "\"\"\"\n",
    "This is an example\n",
    " of multiline commenting.\n",
    "\"\"\" ; # ; is used to suppress the output of a cell."
   ]
  },
  {
   "cell_type": "markdown",
   "id": "compliant-player",
   "metadata": {},
   "source": [
    "### Indentation "
   ]
  },
  {
   "cell_type": "markdown",
   "id": "mineral-college",
   "metadata": {},
   "source": [
    "Most of the programming languages like C, C++, and Java use braces { } to define a block of code. However, in Python we use indentation to mark a code block.\n",
    "\n",
    "A code block (body of a function, loop, etc.) starts with indentation and ends with the first unindented line. The amount of indentation is up to you, but it must be consistent throughout that block.\n",
    "\n",
    "Generally, four **whitespaces** are used for indentation and are **preferred over tabs.**"
   ]
  },
  {
   "cell_type": "code",
   "execution_count": 3,
   "id": "antique-montreal",
   "metadata": {},
   "outputs": [
    {
     "name": "stdout",
     "output_type": "stream",
     "text": [
      "1\n",
      "2\n"
     ]
    }
   ],
   "source": [
    "for i in range(1,11):\n",
    "    print(i)\n",
    "    if i == 2:\n",
    "        break"
   ]
  },
  {
   "cell_type": "markdown",
   "id": "beginning-sender",
   "metadata": {},
   "source": [
    "The enforcement of indentation in Python makes the code look neat and clean. This results in Python programs that looks similar and consistent."
   ]
  },
  {
   "cell_type": "markdown",
   "id": "streaming-transfer",
   "metadata": {},
   "source": [
    "## Python Statements "
   ]
  },
  {
   "cell_type": "markdown",
   "id": "naughty-playlist",
   "metadata": {},
   "source": [
    "Statements are instructions that a Python interpreter can execute. For example, a = 1 is an assignment statement."
   ]
  },
  {
   "cell_type": "markdown",
   "id": "worthy-estonia",
   "metadata": {},
   "source": [
    "#### Multi-line statement "
   ]
  },
  {
   "cell_type": "markdown",
   "id": "empirical-leadership",
   "metadata": {},
   "source": [
    "In Python, the end of a statement is marked by a newline character. But we can make a statement extend over multiple lines with the line continuation character (\\\\), line continuation is also implied inside parentheses ( )."
   ]
  },
  {
   "cell_type": "code",
   "execution_count": 4,
   "id": "declared-printing",
   "metadata": {},
   "outputs": [
    {
     "name": "stdout",
     "output_type": "stream",
     "text": [
      "28 \t 21\n"
     ]
    }
   ],
   "source": [
    "a = 1 + 2 + 3 + \\\n",
    "    4 + 5 + 6 + 7\n",
    "b = (1 + 2 + 3 +\n",
    "     4 + 5 + 6)\n",
    "\n",
    "print(a, \"\\t\", b)"
   ]
  },
  {
   "cell_type": "markdown",
   "id": "neural-praise",
   "metadata": {},
   "source": [
    "We can also put multiple statements in a single line using semicolons."
   ]
  },
  {
   "cell_type": "code",
   "execution_count": 5,
   "id": "likely-house",
   "metadata": {},
   "outputs": [
    {
     "name": "stdout",
     "output_type": "stream",
     "text": [
      "1 \t 5 \t 7\n"
     ]
    }
   ],
   "source": [
    "a  = 1 ; b = 5 ; c = 7\n",
    "\n",
    "print(a, \"\\t\", b, \"\\t\", c)"
   ]
  },
  {
   "cell_type": "markdown",
   "id": "executive-diary",
   "metadata": {},
   "source": [
    "## Variables "
   ]
  },
  {
   "cell_type": "markdown",
   "id": "historic-paragraph",
   "metadata": {},
   "source": [
    "Variables are nothing but reserved memory locations to store values, when you create a variable you just reserve some space in memory.\n",
    "\n",
    "Python variables do not need explicit declaration to reserve memory space. The declaration happens automatically when you assign a value to a variable. The assignment sign (=) is used to assign values to variables."
   ]
  },
  {
   "cell_type": "code",
   "execution_count": 6,
   "id": "increased-convertible",
   "metadata": {},
   "outputs": [
    {
     "name": "stdout",
     "output_type": "stream",
     "text": [
      "100\n",
      "1000.0\n",
      "Maidul\n"
     ]
    }
   ],
   "source": [
    "counter = 100          # An integer assignment\n",
    "miles   = 1000.0       # A floating point number\n",
    "name    = \"Maidul\"       # A string\n",
    "\n",
    "print(counter)\n",
    "print(miles)\n",
    "print(name)"
   ]
  },
  {
   "cell_type": "markdown",
   "id": "loved-capitol",
   "metadata": {},
   "source": [
    "Python also allows you to assign a single value to several variables simultaneously. For example −"
   ]
  },
  {
   "cell_type": "code",
   "execution_count": 7,
   "id": "sporting-refund",
   "metadata": {},
   "outputs": [
    {
     "name": "stdout",
     "output_type": "stream",
     "text": [
      "1 \t 1 \t 1 \t\n"
     ]
    }
   ],
   "source": [
    "a = b = c = 1\n",
    "\n",
    "print(a, \"\\t\", b, \"\\t\", c, \"\\t\")"
   ]
  },
  {
   "cell_type": "markdown",
   "id": "characteristic-henry",
   "metadata": {},
   "source": [
    "You can also assign multiple objects to multiple variables in a single line of code. For example −"
   ]
  },
  {
   "cell_type": "code",
   "execution_count": 8,
   "id": "provincial-cartoon",
   "metadata": {},
   "outputs": [
    {
     "name": "stdout",
     "output_type": "stream",
     "text": [
      "1 \t 2.0 \t Maidul \t\n"
     ]
    }
   ],
   "source": [
    "a, b, c = 1, 2.0, \"Maidul\"\n",
    "\n",
    "print(a, \"\\t\", b, \"\\t\", c, \"\\t\")"
   ]
  },
  {
   "cell_type": "markdown",
   "id": "recent-foster",
   "metadata": {},
   "source": [
    "#### Storage locations "
   ]
  },
  {
   "cell_type": "markdown",
   "id": "incident-switzerland",
   "metadata": {},
   "source": [
    "We can use the function **id(x)** to actually see the memory address of an object x."
   ]
  },
  {
   "cell_type": "code",
   "execution_count": 9,
   "id": "compliant-debut",
   "metadata": {},
   "outputs": [
    {
     "name": "stdout",
     "output_type": "stream",
     "text": [
      "139696776380720 139696776380720\n"
     ]
    }
   ],
   "source": [
    "x, y = 3, 3\n",
    "\n",
    "print(id(x), id(y))"
   ]
  },
  {
   "cell_type": "markdown",
   "id": "f65e983b-0626-4e02-963c-203fccc63553",
   "metadata": {},
   "source": [
    "<i>So, as we can see memory locations are allocated based on a particular value not the variables. This proves that variables are just pointers to a specific memory location for a specific value.</i>"
   ]
  },
  {
   "cell_type": "markdown",
   "id": "0cb1f834-9dc1-4298-b6f8-67ff46002251",
   "metadata": {
    "tags": []
   },
   "source": [
    "### Python Scope"
   ]
  },
  {
   "cell_type": "markdown",
   "id": "4fbc54ab-be37-4632-bd15-020fec891d90",
   "metadata": {
    "tags": []
   },
   "source": [
    "The idea that a variable is only available inside the region it was created is called scope."
   ]
  },
  {
   "cell_type": "markdown",
   "id": "c4418440-6183-4b5e-9322-d24052e52c49",
   "metadata": {},
   "source": [
    "#### Local Scope\n",
    "A variable created inside a function belongs to the local scope of that function, and can only be used inside that function. It is also available for any other function defined inside that function."
   ]
  },
  {
   "cell_type": "markdown",
   "id": "f4482f7c-03a4-484e-96c5-e7eca5e6ee69",
   "metadata": {},
   "source": [
    "#### Global Scope\n",
    "\n",
    "A variable created in the main body of the Python code is a global variable and belongs to the global scope.\n",
    "Global variables are available from within any scope i.e., both global and local.\n",
    "\n",
    "To create a global variable inside a local scope, you can use the `global` keyword. The global keyword makes the variable avialable to the global scope."
   ]
  },
  {
   "cell_type": "markdown",
   "id": "57126edc-d318-4220-a7a4-a8503b2faf71",
   "metadata": {},
   "source": [
    "#### Scope (Variable resolution order) - what variables do i have access to? / who has access to whom?"
   ]
  },
  {
   "cell_type": "markdown",
   "id": "9c9e9e6f-ac01-4ec2-9076-74ed9b6ef85b",
   "metadata": {},
   "source": [
    "The idea of scope becomes important when you operate with the same variable names inside and outside of a function. This order of scope is also used whenever a class, function or variable accesses another class, function or variable."
   ]
  },
  {
   "cell_type": "markdown",
   "id": "61c96d24-51da-4440-b48c-81b7c17e25eb",
   "metadata": {},
   "source": [
    "Order of Scope: \n",
    "    \n",
    "    1. start with local scope. (within the block)\n",
    "    2. parent local? (parent block)\n",
    "    3. Global?\n",
    "    4. python builtin functions?"
   ]
  },
  {
   "cell_type": "markdown",
   "id": "immune-compiler",
   "metadata": {},
   "source": [
    "## Standard Input and Output "
   ]
  },
  {
   "cell_type": "markdown",
   "id": "minute-chambers",
   "metadata": {},
   "source": [
    "### Python Input"
   ]
  },
  {
   "cell_type": "markdown",
   "id": "bacterial-craps",
   "metadata": {},
   "source": [
    "To take inputs the **input()** function is used."
   ]
  },
  {
   "cell_type": "code",
   "execution_count": 10,
   "id": "reported-header",
   "metadata": {},
   "outputs": [
    {
     "name": "stdin",
     "output_type": "stream",
     "text": [
      "Please enter values for a and b:  10\n"
     ]
    },
    {
     "name": "stdout",
     "output_type": "stream",
     "text": [
      "1 \t 0\n"
     ]
    }
   ],
   "source": [
    "a, b = input(\"Please enter values for a and b: \")\n",
    "print(a, \"\\t\", b)"
   ]
  },
  {
   "cell_type": "markdown",
   "id": "floral-lunch",
   "metadata": {},
   "source": [
    "Now the question is, why did we get a=1 and b=0 when we entered 10 as an input? Well, the thing is when we enter a user defined value through the input() function it treats the **input as strings**. We can confirm this by using the **type()** function to check the data type of a and b."
   ]
  },
  {
   "cell_type": "code",
   "execution_count": 11,
   "id": "powered-carter",
   "metadata": {},
   "outputs": [
    {
     "name": "stdout",
     "output_type": "stream",
     "text": [
      "<class 'str'> \t <class 'str'>\n"
     ]
    }
   ],
   "source": [
    "print(type(a), \"\\t\", type(b))"
   ]
  },
  {
   "cell_type": "markdown",
   "id": "necessary-georgia",
   "metadata": {},
   "source": [
    "### Python Output "
   ]
  },
  {
   "cell_type": "markdown",
   "id": "empty-organization",
   "metadata": {},
   "source": [
    "To output data to the standard output device we use the **print()** function."
   ]
  },
  {
   "cell_type": "code",
   "execution_count": 12,
   "id": "noble-remove",
   "metadata": {},
   "outputs": [
    {
     "name": "stdout",
     "output_type": "stream",
     "text": [
      "Hi this is Maidul Hasan speaking.\n"
     ]
    }
   ],
   "source": [
    "print(\"Hi this is Maidul Hasan speaking.\")"
   ]
  },
  {
   "cell_type": "markdown",
   "id": "coated-invitation",
   "metadata": {},
   "source": [
    "#### Output Formatting "
   ]
  },
  {
   "cell_type": "code",
   "execution_count": 13,
   "id": "dirty-mitchell",
   "metadata": {},
   "outputs": [],
   "source": [
    "a = 10; b = 20"
   ]
  },
  {
   "cell_type": "code",
   "execution_count": 14,
   "id": "herbal-statement",
   "metadata": {},
   "outputs": [
    {
     "name": "stdout",
     "output_type": "stream",
     "text": [
      "The value of a is 10 and the value of b is 20.\n"
     ]
    }
   ],
   "source": [
    "# Default output formatting\n",
    "print(\"The value of a is {} and the value of b is {}.\".format(a, b))"
   ]
  },
  {
   "cell_type": "code",
   "execution_count": 15,
   "id": "heavy-saturday",
   "metadata": {},
   "outputs": [
    {
     "name": "stdout",
     "output_type": "stream",
     "text": [
      "The value of b is 20 and the value of a is 10.\n"
     ]
    }
   ],
   "source": [
    "# Using Positional arguments\n",
    "print(\"The value of b is {1} and the value of a is {0}.\".format(a, b))"
   ]
  },
  {
   "cell_type": "code",
   "execution_count": 16,
   "id": "reserved-heating",
   "metadata": {},
   "outputs": [
    {
     "name": "stdout",
     "output_type": "stream",
     "text": [
      "Hi I'm Maidul Hasan and I'm 21 years old.\n"
     ]
    }
   ],
   "source": [
    "# Using Keyword arguments\n",
    "print(\"Hi I'm {name} and I'm {age} years old.\".format(name=\"Maidul Hasan\", age=\"21\"))"
   ]
  },
  {
   "cell_type": "code",
   "execution_count": 17,
   "id": "dress-liverpool",
   "metadata": {},
   "outputs": [
    {
     "name": "stdout",
     "output_type": "stream",
     "text": [
      "Hi I'm Maidul Hasan and I'm 21 years old.\n"
     ]
    }
   ],
   "source": [
    "# Using combination of Keyword and Positional arguments\n",
    "print(\"Hi I'm {name} and I'm {0} years old.\".format(21, name=\"Maidul Hasan\"))"
   ]
  },
  {
   "cell_type": "markdown",
   "id": "functional-nursing",
   "metadata": {},
   "source": [
    " "
   ]
  },
  {
   "cell_type": "markdown",
   "id": "disabled-suffering",
   "metadata": {},
   "source": [
    "## Operators "
   ]
  },
  {
   "cell_type": "markdown",
   "id": "dense-visibility",
   "metadata": {},
   "source": [
    "Operators are used to perform operations on variables and values. Python has a wide variety of operators."
   ]
  },
  {
   "cell_type": "markdown",
   "id": "plastic-poster",
   "metadata": {},
   "source": [
    "- Arithmetic Operators: Arithmetic operators are used with numeric values to perform common mathematical operations."
   ]
  },
  {
   "cell_type": "markdown",
   "id": "fluid-rocket",
   "metadata": {
    "id": "GzMry4JaIwbM"
   },
   "source": [
    "    + , -, *, /, %, //, **  are arithmetic operators"
   ]
  },
  {
   "cell_type": "markdown",
   "id": "modular-street",
   "metadata": {
    "id": "0VZ0CRrQIwbP"
   },
   "source": [
    "- Comparison Operators: Comparison operators are used to compare values. It either returns True or False according to the condition."
   ]
  },
  {
   "cell_type": "markdown",
   "id": "necessary-popularity",
   "metadata": {
    "id": "mC_cZK_sIwbR"
   },
   "source": [
    "    >, <, ==, !=, >=, <= are comparision operators"
   ]
  },
  {
   "cell_type": "markdown",
   "id": "sitting-resistance",
   "metadata": {},
   "source": [
    "- Logical Operators: Logical operators are used to combine conditional statements."
   ]
  },
  {
   "cell_type": "markdown",
   "id": "afraid-johnston",
   "metadata": {
    "id": "2Y_SzdwIIwbT"
   },
   "source": [
    "    'and' , 'or' , 'not' are logical operators"
   ]
  },
  {
   "cell_type": "markdown",
   "id": "considerable-ivory",
   "metadata": {
    "id": "Cf0Sq7BNIwbV"
   },
   "source": [
    "- Bitwise Operators: Bitwise operators act on operands as if they were string of binary digits. It operates bit by bit"
   ]
  },
  {
   "cell_type": "markdown",
   "id": "recovered-employer",
   "metadata": {
    "id": "evbzAWkgIwbV"
   },
   "source": [
    "    &,  |,  ~,  ^,  >>,  << are Bitwise operators"
   ]
  },
  {
   "cell_type": "markdown",
   "id": "above-cause",
   "metadata": {
    "id": "NGGp6hJDIwbW"
   },
   "source": [
    "- Assignment Operators: Assignment operators are used in Python to assign values to variables."
   ]
  },
  {
   "cell_type": "markdown",
   "id": "palestinian-money",
   "metadata": {
    "id": "3SHbnukkIwbX"
   },
   "source": [
    "    =,  +=,  -=,  *=,  /=,  %=,  //=,  **=, &=,  |=,  ^=,  >>=,  <<= are Assignment operators"
   ]
  },
  {
   "cell_type": "markdown",
   "id": "coastal-island",
   "metadata": {
    "id": "BchWnKVBIwba"
   },
   "source": [
    "- Identity Operators: They are used to check if two values (or variables) are located on the same part of the memory."
   ]
  },
  {
   "cell_type": "markdown",
   "id": "super-florist",
   "metadata": {},
   "source": [
    "    'is' and 'is not' are the Identity operators \n"
   ]
  },
  {
   "cell_type": "markdown",
   "id": "demographic-apartment",
   "metadata": {
    "id": "5gs2UW0OIwbb"
   },
   "source": [
    "- Membership Operators: They are used to test whether a value or variable is found in a sequence (string, list, tuple, set and   dictionary)."
   ]
  },
  {
   "cell_type": "markdown",
   "id": "sporting-consolidation",
   "metadata": {},
   "source": [
    "    'in' and 'not in' are the membership operators"
   ]
  },
  {
   "cell_type": "markdown",
   "id": "6a38f951-0e05-468f-9001-fd05b6044bb3",
   "metadata": {},
   "source": [
    "For more information you can refer to (https://www.w3schools.com/python/python_operators.asp) or, read the official documentation."
   ]
  },
  {
   "cell_type": "code",
   "execution_count": null,
   "id": "bfa29485-a929-4963-a6aa-fc8700671479",
   "metadata": {},
   "outputs": [],
   "source": []
  }
 ],
 "metadata": {
  "kernelspec": {
   "display_name": "Python 3 (ipykernel)",
   "language": "python",
   "name": "python3"
  },
  "language_info": {
   "codemirror_mode": {
    "name": "ipython",
    "version": 3
   },
   "file_extension": ".py",
   "mimetype": "text/x-python",
   "name": "python",
   "nbconvert_exporter": "python",
   "pygments_lexer": "ipython3",
   "version": "3.10.5"
  }
 },
 "nbformat": 4,
 "nbformat_minor": 5
}
