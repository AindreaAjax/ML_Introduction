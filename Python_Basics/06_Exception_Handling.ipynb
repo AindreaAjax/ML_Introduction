{
 "cells": [
  {
   "cell_type": "markdown",
   "id": "f3f194ed-99fe-4b6e-84f5-9db5776036fa",
   "metadata": {},
   "source": [
    "## Error Handling Using Try & Except Blocks"
   ]
  },
  {
   "attachments": {},
   "cell_type": "markdown",
   "id": "a0c7549d-1f58-4d66-96b3-6218a84c832c",
   "metadata": {},
   "source": [
    "The `try` block allows the user to test a block of code for errors and the `except` block lets the user to handle any error that may arise in that block of code.\n",
    "\n",
    "The `finally` block executes the code inside it regardless of the result from the try and except blocks."
   ]
  },
  {
   "cell_type": "markdown",
   "id": "742f5f07-983c-45b2-90e7-ed0d8922f275",
   "metadata": {},
   "source": [
    "### Basic Try...Except... Block "
   ]
  },
  {
   "cell_type": "markdown",
   "id": "52013d72-26aa-40a1-a205-57e66a9c024a",
   "metadata": {},
   "source": [
    "`(?)` This given block of code tries to add the 2nd element (i.e, 1st indexed element) from the strings given in the `word_lst` list to an initially empty list named `attempt`. Your job is to append the string \"Error\" to the list called `attempt` if there are any errors in the try block."
   ]
  },
  {
   "cell_type": "raw",
   "id": "17102747-2c06-4a98-9f23-d8c0d06759e8",
   "metadata": {},
   "source": [
    "word_lst = [\"ab\", 'cde', 'fgh', 'i', 'z']\n",
    "\n",
    "attempt = []\n",
    "\n",
    "for elem in word_lst:\n",
    "    try:\n",
    "        attempt.append(elem[1])\n",
    "    \n",
    "    # write your code here\n"
   ]
  },
  {
   "cell_type": "code",
   "execution_count": 1,
   "id": "17c19130-d7a2-475c-9319-d615f42fd47f",
   "metadata": {},
   "outputs": [
    {
     "name": "stdout",
     "output_type": "stream",
     "text": [
      "['b', 'd', 'g', 'Error', 'Error']\n"
     ]
    }
   ],
   "source": [
    "word_lst = [\"ab\", \"cde\", \"fgh\", \"i\", \"z\"]\n",
    "\n",
    "attempt = []\n",
    "\n",
    "for elem in word_lst:\n",
    "    try:\n",
    "        attempt.append(elem[1])\n",
    "    except IndexError:\n",
    "        attempt.append(\"Error\")  # Error occurs when string length is less than 2.\n",
    "print(attempt)"
   ]
  },
  {
   "attachments": {},
   "cell_type": "markdown",
   "id": "a7343839-6791-4009-8f6c-b6be28894232",
   "metadata": {},
   "source": [
    "- Displaying the cause of Exception without Erroring out of the Code Block"
   ]
  },
  {
   "cell_type": "code",
   "execution_count": 2,
   "id": "4741cf20-f4fc-4a28-b630-9b0e2631cd26",
   "metadata": {},
   "outputs": [
    {
     "name": "stdout",
     "output_type": "stream",
     "text": [
      "Oops! an Error Occurred. Error Type - unsupported operand type(s) for /: 'str' and 'int'\n"
     ]
    }
   ],
   "source": [
    "def div(num1, num2):\n",
    "    try:\n",
    "        return num1 / num2\n",
    "    except (\n",
    "        TypeError,\n",
    "        ZeroDivisionError,\n",
    "    ) as err_msg:  # for these types of error save the error message in err_msg\n",
    "        print(f\"Oops! an Error Occurred. Error Type - {err_msg}\")\n",
    "\n",
    "\n",
    "div(\"Three\", 4)"
   ]
  },
  {
   "attachments": {},
   "cell_type": "markdown",
   "id": "6335184d-1248-4452-91af-bf33c249d97a",
   "metadata": {},
   "source": [
    "- Raising an Exception "
   ]
  },
  {
   "cell_type": "code",
   "execution_count": 3,
   "id": "e46f4887-ada4-4810-863e-c2fc7b395163",
   "metadata": {},
   "outputs": [
    {
     "name": "stdout",
     "output_type": "stream",
     "text": [
      "Enter your age:  22\n"
     ]
    },
    {
     "name": "stdout",
     "output_type": "stream",
     "text": [
      "ValueError! may be true, or may be not!\n"
     ]
    }
   ],
   "source": [
    "while True:\n",
    "    try:\n",
    "        age = int(input(\"Enter your age: \"))\n",
    "        x = 10 / int(\n",
    "            age\n",
    "        )  # if age is inputted as 0 then it will cause a ZeroDivisionError.\n",
    "        if age > 5:\n",
    "            raise ValueError  # no matter what the input is (except <=5 for this code) it raises a ValueError\n",
    "        # and directly goes to except ValueError block.\n",
    "    except ZeroDivisionError:\n",
    "        print(\"Enter a non Zero number\")\n",
    "        break\n",
    "    except ValueError:\n",
    "        print(\n",
    "            \"ValueError! may be true, or may be not!\"\n",
    "        )  # when ValueError is raised this statement will be printed\n",
    "        break"
   ]
  },
  {
   "cell_type": "markdown",
   "id": "0a71c236-4946-47bb-bad2-d8558a4074aa",
   "metadata": {},
   "source": [
    "### The Finally... Block"
   ]
  },
  {
   "cell_type": "code",
   "execution_count": 4,
   "id": "fbf66f54-2aff-4250-8dfc-9fa72823983c",
   "metadata": {},
   "outputs": [
    {
     "name": "stdout",
     "output_type": "stream",
     "text": [
      "Enter your age:  22\n"
     ]
    },
    {
     "name": "stdout",
     "output_type": "stream",
     "text": [
      "done!\n"
     ]
    },
    {
     "ename": "ValueError",
     "evalue": "ValueError! may be true, or may be not!",
     "output_type": "error",
     "traceback": [
      "\u001b[0;31m---------------------------------------------------------------------------\u001b[0m",
      "\u001b[0;31mValueError\u001b[0m                                Traceback (most recent call last)",
      "Cell \u001b[0;32mIn [4], line 5\u001b[0m\n\u001b[1;32m      3\u001b[0m     age \u001b[38;5;241m=\u001b[39m \u001b[38;5;28minput\u001b[39m(\u001b[38;5;124m\"\u001b[39m\u001b[38;5;124mEnter your age: \u001b[39m\u001b[38;5;124m\"\u001b[39m)\n\u001b[1;32m      4\u001b[0m     y \u001b[38;5;241m=\u001b[39m \u001b[38;5;241m20\u001b[39m \u001b[38;5;241m/\u001b[39m \u001b[38;5;28mint\u001b[39m(age)\n\u001b[0;32m----> 5\u001b[0m     \u001b[38;5;28;01mraise\u001b[39;00m \u001b[38;5;167;01mValueError\u001b[39;00m(\n\u001b[1;32m      6\u001b[0m         \u001b[38;5;124m\"\u001b[39m\u001b[38;5;124mValueError! may be true, or may be not!\u001b[39m\u001b[38;5;124m\"\u001b[39m\n\u001b[1;32m      7\u001b[0m     )  \u001b[38;5;66;03m# raises ValueError (no matter what the input is as\u001b[39;00m\n\u001b[1;32m      8\u001b[0m     \u001b[38;5;66;03m# the raise statement is not preceded by a conditional wrap block), breaks out of the loop and shows the error message\u001b[39;00m\n\u001b[1;32m      9\u001b[0m \u001b[38;5;28;01mfinally\u001b[39;00m:\n\u001b[1;32m     10\u001b[0m     \u001b[38;5;28mprint\u001b[39m(\u001b[38;5;124m\"\u001b[39m\u001b[38;5;124mdone!\u001b[39m\u001b[38;5;124m\"\u001b[39m)\n",
      "\u001b[0;31mValueError\u001b[0m: ValueError! may be true, or may be not!"
     ]
    }
   ],
   "source": [
    "while True:\n",
    "    try:\n",
    "        age = input(\"Enter your age: \")\n",
    "        y = 20 / int(age)\n",
    "        raise ValueError(\n",
    "            \"ValueError! may be true, or may be not!\"\n",
    "        )  # raises ValueError (no matter what the input is as\n",
    "        # the raise statement is not preceded by a conditional wrap block), breaks out of the loop and shows the error message\n",
    "    finally:\n",
    "        print(\"done!\") # This block of code will be executed no matter whether there was an error or not."
   ]
  },
  {
   "cell_type": "code",
   "execution_count": null,
   "id": "4afc1ccd-3bdd-41db-8cbb-a45534da8208",
   "metadata": {},
   "outputs": [],
   "source": []
  }
 ],
 "metadata": {
  "kernelspec": {
   "display_name": "Python 3 (ipykernel)",
   "language": "python",
   "name": "python3"
  },
  "language_info": {
   "codemirror_mode": {
    "name": "ipython",
    "version": 3
   },
   "file_extension": ".py",
   "mimetype": "text/x-python",
   "name": "python",
   "nbconvert_exporter": "python",
   "pygments_lexer": "ipython3",
   "version": "3.8.15"
  }
 },
 "nbformat": 4,
 "nbformat_minor": 5
}
