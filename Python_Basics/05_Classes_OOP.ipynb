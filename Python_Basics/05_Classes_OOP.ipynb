{
 "cells": [
  {
   "cell_type": "markdown",
   "id": "674a8e23-2439-419e-90aa-ddb1d1a39b50",
   "metadata": {
    "tags": []
   },
   "source": [
    "## Object Oriented Programming "
   ]
  },
  {
   "cell_type": "markdown",
   "id": "0520afd7-febb-485d-a396-10afbea6e21b",
   "metadata": {},
   "source": [
    "Python is an object oriented programming language. Almost everything in Python is an object. Class is a structure that allows you to group a set of properties (called attributes) and functions (called methods) and acts as the \"blueprint\" for creating objects. Methods are functions that can be called on the objects of a specific class."
   ]
  },
  {
   "cell_type": "markdown",
   "id": "07bec8b8-8b03-48fb-90ce-27d022255e29",
   "metadata": {},
   "source": [
    "Class is the blueprint that defines how an object of that class will get instantiated (depends on the \"\\__init__\" function) & what sort of action can be performed on that object (depends on the \"methods\" of that object)."
   ]
  },
  {
   "cell_type": "code",
   "execution_count": 1,
   "id": "61cee6e3-0387-4881-9e01-8d726baf32ad",
   "metadata": {},
   "outputs": [],
   "source": [
    "# To create a class, use the keyword \"class\" preceeding the class name ('CamelCase').\n",
    "\n",
    "\n",
    "class PirateCrew:\n",
    "\n",
    "    # Docstring (must be defined at the top of the class block)\n",
    "    \"\"\"\n",
    "    name : expects string\n",
    "    age : expects integer\n",
    "    \"\"\"\n",
    "\n",
    "    # For the purpose of DRY we use what's called a constructor (the \"__init__\" function) method.\n",
    "    # All classes have a function called __init__(), which is always executed when the class is being initiated.\n",
    "    # So we use the __init__() function to assign values to object properties, or other operations that are\n",
    "    # necessary while the object is being instantiated.\n",
    "\n",
    "    def __init__(self, name: str, age: int):\n",
    "\n",
    "        # 'self' refers to the current instance of the class, and is used to access variables that belongs to the class.\n",
    "\n",
    "        # Assigning values\n",
    "        self.name = name\n",
    "        self.age = age\n",
    "\n",
    "    # Functions defined within a class is called methods of that class.\n",
    "    def get_info(self):\n",
    "        print(\n",
    "            f\"\"\"\n",
    "        Name : {self.name}\n",
    "        Age : {self.age}\n",
    "        \"\"\"\n",
    "        )\n",
    "\n",
    "    def greet(self):\n",
    "        print(\n",
    "            f\"Heiyaaa {self.name}, welcome abroad our pirate ship. Hope you have what it takes to survive out here.\"\n",
    "        )"
   ]
  },
  {
   "cell_type": "code",
   "execution_count": 2,
   "id": "860d395f-b1ee-46b2-b94b-d9bbb3ca9ab7",
   "metadata": {},
   "outputs": [],
   "source": [
    "# instantiating a Class object\n",
    "\n",
    "pirate_016 = PirateCrew(\"Maidul Hasan\", \"22\")\n",
    "pirate_017 = PirateCrew(\"Palas Mia\", \"23\")"
   ]
  },
  {
   "cell_type": "code",
   "execution_count": 3,
   "id": "a90a7828-d34b-4f2d-9708-243e26792c5a",
   "metadata": {},
   "outputs": [
    {
     "name": "stdout",
     "output_type": "stream",
     "text": [
      "\n",
      "        Name : Maidul Hasan\n",
      "        Age : 22\n",
      "        \n"
     ]
    }
   ],
   "source": [
    "# Calling a method belonging to the parent class on an instantiated object\n",
    "\n",
    "pirate_016.get_info()"
   ]
  },
  {
   "cell_type": "code",
   "execution_count": 4,
   "id": "b1371aa9-91be-49bd-a5ff-fb62617d53e4",
   "metadata": {},
   "outputs": [
    {
     "name": "stdout",
     "output_type": "stream",
     "text": [
      "Palas Mia\n",
      "23\n"
     ]
    }
   ],
   "source": [
    "# Accesing class properties directly\n",
    "\n",
    "print(pirate_017.name)\n",
    "print(pirate_017.age)"
   ]
  },
  {
   "cell_type": "code",
   "execution_count": 5,
   "id": "b269a921-a7b1-41b8-9e28-2a1747822aad",
   "metadata": {},
   "outputs": [
    {
     "name": "stdout",
     "output_type": "stream",
     "text": [
      "\n",
      "    name : expects string\n",
      "    age : expects integer\n",
      "    \n"
     ]
    }
   ],
   "source": [
    "# to see the docstring\n",
    "\n",
    "print(PirateCrew.__doc__)"
   ]
  },
  {
   "cell_type": "markdown",
   "id": "f8c4ecc7-1829-4a31-a307-14b0699b6bd2",
   "metadata": {},
   "source": [
    "##### **Data Encapsulation** "
   ]
  },
  {
   "cell_type": "markdown",
   "id": "5745a3ec-d27b-4be3-a383-acaf389754f8",
   "metadata": {},
   "source": [
    "You can actually change existing class variables and define new ones outside the Class declaration block, and it can be troublesome for some cases. For example, we can easily change the value of 'name' of the object 'pirate_017' saying, `pirate_017.name = xxxxx` and in some cases this type of changes can be disastrous.\n",
    "\n",
    "So, to avoid some parameter value to be changed by some other programmer or you yourself by accident, we use a widely used convention so that any person going through the code later will know what is ok to change and what isn't. \n",
    "\n",
    "The conventions are - \n",
    "    \n",
    "- Underscore (\"_\") preceeding the variable name (i.e. \"self._name\") implies that it's a private variable so don't change it. Note that, you can still access and change the variable name from outside the class declaration block. It just marks the variable or method as something that other users shouldn't change.\n",
    "\n",
    "- Double-underscores (\"__\") preceeding the variable name (i.e. \"self.__name\") implies that it's a very private variable so don't even think about changing it. In this use case, you can't access or change the variable or method names and values from outside the class block as python mangles these names and stores them with some other name than what you used."
   ]
  },
  {
   "cell_type": "markdown",
   "id": "d37afd1e-5745-4bcb-9e95-66f59dde675e",
   "metadata": {},
   "source": [
    "## Python Inheritance\n",
    "\n",
    "Inheritance is a process in which a subclass (called a derived class) can inherit the attributes and methods of another class (called the base class), allowing it to inherit some of the super class’s functionalities. "
   ]
  },
  {
   "cell_type": "code",
   "execution_count": 6,
   "id": "8a02ba14-1f40-41f5-98ea-58f18d637c9a",
   "metadata": {},
   "outputs": [],
   "source": [
    "# Any existing class can act as a parent class. To create a child class just pass in the name of the parent class within parentheses.\n",
    "\n",
    "\n",
    "class PirateDetails(PirateCrew):\n",
    "    def __init__(self, name, age, gender, address: str = None):\n",
    "\n",
    "        # The child's __init__() function overrides the inheritance of the parent's __init__() function.\n",
    "        # To keep the inheritance of the parent's __init__() function, use the \"super()\" function.\n",
    "        # By using the super() function, you do not have to use the name of the parent element,\n",
    "        # it will automatically inherit the methods and properties from its parent.\n",
    "\n",
    "        super().__init__(\n",
    "            name, age\n",
    "        )  # It is the same as, PirateCrew.__init__(self, name, age)\n",
    "\n",
    "        # Adding extra properties\n",
    "        self.gender = gender\n",
    "        self.address = address\n",
    "\n",
    "    # Adding extra methods\n",
    "    def get_personal_info(self):\n",
    "        print(\n",
    "            f\"\"\"\n",
    "        Name : {self.name}\n",
    "        Age : {self.age}\n",
    "        Gender : {self.gender}\n",
    "        Address : {self.address}\n",
    "        \"\"\"\n",
    "        )"
   ]
  },
  {
   "cell_type": "code",
   "execution_count": 7,
   "id": "1253f3c0-da61-4d8f-b81c-5be5203533ca",
   "metadata": {},
   "outputs": [],
   "source": [
    "crew_016 = PirateDetails(\n",
    "    \"Maidul Hasan\",\n",
    "    \"21\",\n",
    "    \"Male\",\n",
    "    \"784 Suncity Daffodill, West Shewrapara, Mirpur, Dhaka, Bangladesh\",\n",
    ")"
   ]
  },
  {
   "cell_type": "code",
   "execution_count": 8,
   "id": "6d8bbf88-1f42-4bee-a6b7-aecb10d00cf0",
   "metadata": {},
   "outputs": [
    {
     "name": "stdout",
     "output_type": "stream",
     "text": [
      "\n",
      "        Name : Maidul Hasan\n",
      "        Age : 21\n",
      "        \n"
     ]
    }
   ],
   "source": [
    "crew_016.get_info()"
   ]
  },
  {
   "cell_type": "markdown",
   "id": "ac98c006-97af-4d49-9766-ba210bcec272",
   "metadata": {},
   "source": [
    "See what happened there? The PirateDetails class inherited the methods of PirateCrew class. This is to be expected since we used the super function to inherit from the PirateCrew class."
   ]
  },
  {
   "cell_type": "code",
   "execution_count": 9,
   "id": "602c7927-227f-4133-ba0f-1cfc88c954f1",
   "metadata": {},
   "outputs": [
    {
     "name": "stdout",
     "output_type": "stream",
     "text": [
      "\n",
      "        Name : Maidul Hasan\n",
      "        Age : 21\n",
      "        Gender : Male\n",
      "        Address : 784 Suncity Daffodill, West Shewrapara, Mirpur, Dhaka, Bangladesh\n",
      "        \n"
     ]
    }
   ],
   "source": [
    "crew_016.get_personal_info()"
   ]
  },
  {
   "cell_type": "markdown",
   "id": "6e7cc459-4563-4b21-a590-fe47a50d3354",
   "metadata": {},
   "source": [
    "### Python Polymorphism"
   ]
  },
  {
   "cell_type": "markdown",
   "id": "8163329d-40c9-4159-8ec5-d14b4f8ea9fb",
   "metadata": {},
   "source": [
    "The word polymorphism means having many forms. In programming, polymorphism means same function name (but different signatures) being used for different types."
   ]
  },
  {
   "cell_type": "markdown",
   "id": "40d03535-1f83-41c0-b117-382e78783e77",
   "metadata": {},
   "source": [
    "For example the function `len()` is used differently for lists than how it is used for strings."
   ]
  },
  {
   "cell_type": "markdown",
   "id": "827e1528-6fe8-4ca4-8169-7f3b2ce7ec17",
   "metadata": {},
   "source": [
    "In OOP the idea of polymorphism is more or less the same. In OOP, different classes can have same method names and when a method is called it will function as it was written to, for the class of that object and not other classes.\n",
    "\n",
    "In case of Inheritance, if the child class and the parent class share same method names then the inherited method from the parent class will be overwritten by the child class's own method."
   ]
  },
  {
   "cell_type": "markdown",
   "id": "34da3821-3a12-46c2-8501-666d29f03528",
   "metadata": {},
   "source": [
    "> Read this short article  (https://www.facebook.com/groups/programmingherocommunity/posts/546863983435714/?__cft__[0]=AZVZ_CP5AqEHgzSnWjqdeQ3l4bnnPvB1sM9-TvQI7gTWa1RQM8-al-ZGphX0U9c-457RCuqggdUuuZxo1XtGZbSWxsBAtfAE7L1HESQIfR3oguN222KdUF4XeLu_DV_E6G8D99j2nYy82-gXHSepeF_2&__tn__=%2CO%2CP-R) to understand the basic idea of OOP in simple language."
   ]
  },
  {
   "cell_type": "markdown",
   "id": "5f092410-bf88-4abe-8e65-52901c5da45c",
   "metadata": {
    "tags": []
   },
   "source": [
    "### Multi-level Inheritance "
   ]
  },
  {
   "cell_type": "markdown",
   "id": "e75c8033-9448-4c6c-b02f-c8ba735a36f0",
   "metadata": {},
   "source": [
    "In addition to single-level inheritance, Python also supports multi-level inheritance. This means that you can create a hierarchy of classes, each inheriting from its superclass"
   ]
  },
  {
   "cell_type": "markdown",
   "id": "c1299d6d-85a1-43dd-9046-08f7a427610b",
   "metadata": {},
   "source": [
    "#### Example of multi-level inheritance "
   ]
  },
  {
   "cell_type": "markdown",
   "id": "0affaa9b-e532-4f36-8fc3-9231a9f41ef2",
   "metadata": {},
   "source": [
    "Example collected from Educative. Link: https://www.educative.io/courses/full-speed-python/3j6j1Q7pky9"
   ]
  },
  {
   "cell_type": "markdown",
   "id": "64126e74-7add-4860-9d77-ff8afdeb0790",
   "metadata": {},
   "source": [
    "| Class | Superclass | Relation |\n",
    "|:------|:-----------|:---------|\n",
    "| Carnivore | Mammal | Carnivore is a Mammal |\n",
    "| Mammal | Animal | Mammal is an Animal |\n",
    "|Animal | - | - | "
   ]
  },
  {
   "cell_type": "code",
   "execution_count": 10,
   "id": "b4101ebf-996e-4ef2-8cbb-ab3509634a29",
   "metadata": {},
   "outputs": [
    {
     "name": "stdout",
     "output_type": "stream",
     "text": [
      "I am a lion.\n",
      "I am warm blooded.\n",
      "I eat meat.\n"
     ]
    }
   ],
   "source": [
    "class Animal:  # Inherits from none\n",
    "    def __init__(self, name, food, characteristic):  # Animal's constructor\n",
    "        self.name = name  # Animal's attribute\n",
    "        self.characteristic = characteristic  # Animal's attribute\n",
    "        self.food = food  # Animal's attribute\n",
    "        print(\"I am a \" + str(self.name) + \".\")\n",
    "\n",
    "\n",
    "class Mammal(Animal):  # Mammal inherits from Animal\n",
    "    def __init__(self, name, food):  # Mammal's constructor\n",
    "        Animal.__init__(self, name, food, \"warm blooded\")  # Animal's constructor\n",
    "        print(\"I am warm blooded.\")\n",
    "\n",
    "\n",
    "class Carnivore(Mammal):  # Carnivore inherits from Mammal\n",
    "    def __init__(self, name):  # Carnivore's constructor\n",
    "        Mammal.__init__(self, name, \"meat\")  # Mammal's constructor\n",
    "        print(\"I eat meat.\")\n",
    "\n",
    "\n",
    "lion = Carnivore(\"lion\")  # lion is an instance of Carnivore"
   ]
  },
  {
   "cell_type": "markdown",
   "id": "65b37d96-0f14-45be-ad16-23329de3455f",
   "metadata": {},
   "source": [
    "This prints all the print statements of all the classes since Carnivore inherits from Mammal and Mammal inherits from Animal. When the constructor of the Carnivore calls the constructor of the Mammal it also calls the constructor of the Animal class. But if we were to move the print statements in their separate methods then this wouldn't have happened."
   ]
  },
  {
   "cell_type": "code",
   "execution_count": 11,
   "id": "04fb212d-b077-4372-ae14-8928dbcbf259",
   "metadata": {},
   "outputs": [
    {
     "name": "stdout",
     "output_type": "stream",
     "text": [
      "I eat meat.\n"
     ]
    }
   ],
   "source": [
    "class Animal:\n",
    "    def __init__(self, name, food, characteristic):\n",
    "        self.name = name\n",
    "        self.characteristic = characteristic\n",
    "        self.food = food\n",
    "\n",
    "    def printer(self):\n",
    "        print(\"I am a \" + str(self.name) + \".\")\n",
    "\n",
    "\n",
    "class Mammal(Animal):\n",
    "    def __init__(self, name, food):\n",
    "        super().__init__(\n",
    "            name, food, \"warm blooded\"\n",
    "        )  # same as, Animal.__init__(self, name, food, \"warm blooded\")\n",
    "\n",
    "    def printer(self):  # overrides the printer method of Animal class\n",
    "        print(\"I am warm blooded.\")\n",
    "\n",
    "\n",
    "class Carnivore(Mammal):\n",
    "    def __init__(self, name):\n",
    "        super().__init__(name, \"meat\")\n",
    "\n",
    "    def printer(self):  # overrides the printer method of Mammal class\n",
    "        print(\"I eat meat.\")\n",
    "\n",
    "\n",
    "lion = Carnivore(\"lion\")\n",
    "lion.printer()"
   ]
  },
  {
   "cell_type": "markdown",
   "id": "feb057d3-5d54-4203-9fa6-732783bdf933",
   "metadata": {},
   "source": [
    "### Multiple Inheritance "
   ]
  },
  {
   "cell_type": "markdown",
   "id": "1695fb13-94bf-4ac7-93b6-6800fa77cf41",
   "metadata": {},
   "source": [
    "You can also inherit from multiple classes. But the MRO (Method Resolution Order) will get more complex as new parents are added."
   ]
  },
  {
   "cell_type": "markdown",
   "id": "79668369-4a58-4183-adf3-8a50feb9f85e",
   "metadata": {},
   "source": [
    "To know more about MRO and Multiple inheritance see (https://www.geeksforgeeks.org/method-resolution-order-in-python-inheritance/) or read the official documentation."
   ]
  }
 ],
 "metadata": {
  "kernelspec": {
   "display_name": "Python 3 (ipykernel)",
   "language": "python",
   "name": "python3"
  },
  "language_info": {
   "codemirror_mode": {
    "name": "ipython",
    "version": 3
   },
   "file_extension": ".py",
   "mimetype": "text/x-python",
   "name": "python",
   "nbconvert_exporter": "python",
   "pygments_lexer": "ipython3",
   "version": "3.8.13"
  }
 },
 "nbformat": 4,
 "nbformat_minor": 5
}
