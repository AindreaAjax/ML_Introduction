{
 "cells": [
  {
   "cell_type": "markdown",
   "id": "4ff2db0d-bf84-4ca3-baf3-8f15bdb55ed0",
   "metadata": {},
   "source": [
    "# Modules"
   ]
  },
  {
   "cell_type": "markdown",
   "id": "f1baf884-c883-45fe-86c6-13cf4558d59a",
   "metadata": {},
   "source": [
    "- A function is a block of code that is used to perform a single action. \n",
    "\n",
    "- A module is a Python file containing a set of functions and also may contain variables of all types (arrays, dictionaries, objects, etc.) that you want to use in your application.\n",
    "\n",
    "### Module Creation\n",
    "\n",
    "To create a module, create a python file with a .py extension.\n",
    "\n",
    "    -The Idea of Modules: \n",
    "As a program gets older and lots of new things are added to it and the code is getting bulkier day by day it becomes difficult to maintain the code effeciently. So we would usually like to split it into several files for easier maintenance wtihout losing any functionality. We may also want to use a handy function, that we’ve written previously, in several programs without copying its definition into each program. This is exactly what modules helps us to achieve as definitions from a module can be imported to other modules or files very easily.\n",
    "\n",
    "### Using a Module\n",
    "\n",
    "Modules created with a .py extension can be used with an import statement. Also there are a ton of built in modules and packages which can also be imported with import statements.\n",
    "\n",
    "In Python we can use several forms of import statements to import a module or particular contents (a content can be anything. i.e. a variable, a function, a class etc.) of a module to other files. Some mostly used formats are - \n",
    "\n",
    "1. **`import module_name`**  # This imports all the contents of a module. In such import cases contents of a module are to be accessed by, `module_name.content_name`.\n",
    "\n",
    "2. **`import module_name as alias`**\n",
    "\n",
    "3. **`from module_name import content01, content02, .....`**  # definitions are separately accessible by their own names.\n",
    "\n",
    "4. **`from module_name import *`**  # import all of the definitions of a module. Note that in general the practice of importing * from a module or package is frowned upon, since it often causes poorly readable code. However, it is okay to use it to save typing in interactive sessions.\n",
    "\n",
    "**Note:** When importing a local module don't use the .py extension in the module name."
   ]
  },
  {
   "cell_type": "markdown",
   "id": "7cd8b658-4cf6-4654-8f0d-2fa4ae76bf28",
   "metadata": {},
   "source": [
    "#### Example: Importing factorial_calc module and calculating factorial of X using the factorial(X) function from the module"
   ]
  },
  {
   "cell_type": "code",
   "execution_count": 1,
   "id": "31b2eba7-9ead-4202-8c82-08117453a7c1",
   "metadata": {},
   "outputs": [
    {
     "name": "stdout",
     "output_type": "stream",
     "text": [
      "2432902008176640000\n"
     ]
    }
   ],
   "source": [
    "import factorial_calc\n",
    "\n",
    "fact_20 = factorial_calc.factorial(20)\n",
    "print(fact_20)"
   ]
  },
  {
   "cell_type": "markdown",
   "id": "d7daf875-bbbe-4142-980d-426a9deb6599",
   "metadata": {},
   "source": [
    "- Now let us analyze the factorial_calc module code: "
   ]
  },
  {
   "cell_type": "code",
   "execution_count": 2,
   "id": "f6c70fec-7ada-4a78-b425-697a1f709642",
   "metadata": {},
   "outputs": [
    {
     "name": "stdout",
     "output_type": "stream",
     "text": [
      "The main module.\n"
     ]
    }
   ],
   "source": [
    "# The content of the factorial_calc module is as follows --\n",
    "\n",
    "# Factorial Calculator\n",
    "\n",
    "fact_res_one = [0, 1]\n",
    "\n",
    "\n",
    "def factorial(x):\n",
    "    \"\"\"This is a recursive function\n",
    "    to find the factorial of an integer\"\"\"\n",
    "\n",
    "    if x in fact_res_one:\n",
    "        return 1\n",
    "    else:\n",
    "        return x * factorial(x - 1)\n",
    "\n",
    "\n",
    "if __name__ == \"__main__\":\n",
    "    print(\"The main module.\")"
   ]
  },
  {
   "cell_type": "markdown",
   "id": "322b8c51-d0d1-47b9-b9ea-0067d96fad83",
   "metadata": {},
   "source": [
    "    (?) So what's the purpose of that last line i.e, if __name__ == \"__main__\": print(\"The main module.\")"
   ]
  },
  {
   "cell_type": "markdown",
   "id": "23d22ef6-dd8c-4a92-b032-2e7acfb0bb15",
   "metadata": {},
   "source": [
    "If we were to use standard output statements in a module file like this,"
   ]
  },
  {
   "cell_type": "markdown",
   "id": "720bb608-2cb4-4027-80a1-308c6e158031",
   "metadata": {},
   "source": [
    "> ...    print(factorial(10)) ..."
   ]
  },
  {
   "cell_type": "markdown",
   "id": "0d556a4f-a3aa-45d8-9b16-3dfcc712249d",
   "metadata": {},
   "source": [
    "It would print an output when we import that module in a new file/interactive session. Which may confuse the user and seem out of place. So, to avoid these type of mix-up use a conditional wrap around your output statements. For example:"
   ]
  },
  {
   "cell_type": "markdown",
   "id": "3e102af4-bfc9-437e-b7fa-8ff4ff5ac728",
   "metadata": {},
   "source": [
    "> if \\__name__ == \"\\__main__\": print(factorial(10))"
   ]
  },
  {
   "cell_type": "markdown",
   "id": "edd37393-6b08-4a4d-bb8e-05a54e69a316",
   "metadata": {},
   "source": [
    "Which will only be executed if the file is run as a standalone program but not as an import."
   ]
  },
  {
   "cell_type": "markdown",
   "id": "79fbe890-0baf-4d9a-a10d-239d4d95ae73",
   "metadata": {
    "tags": []
   },
   "source": [
    "- A handy little trick: The built-in dir() method\n",
    "\n",
    "We can use the dir() function to find out all the names defined inside a module. This may be helpful when we want to import only some of the variables and methods from a module."
   ]
  },
  {
   "cell_type": "code",
   "execution_count": 3,
   "id": "28b3e195-76cd-4500-9f7b-14514f69b0e5",
   "metadata": {},
   "outputs": [
    {
     "data": {
      "text/plain": [
       "['__builtins__',\n",
       " '__cached__',\n",
       " '__doc__',\n",
       " '__file__',\n",
       " '__loader__',\n",
       " '__name__',\n",
       " '__package__',\n",
       " '__spec__',\n",
       " 'fact_res_one',\n",
       " 'factorial']"
      ]
     },
     "execution_count": 3,
     "metadata": {},
     "output_type": "execute_result"
    }
   ],
   "source": [
    "dir(factorial_calc)"
   ]
  },
  {
   "cell_type": "markdown",
   "id": "14f04b33-862c-4581-8620-f4ccad246432",
   "metadata": {},
   "source": [
    "### The OS Module"
   ]
  },
  {
   "cell_type": "markdown",
   "id": "7e2962c1-146b-488e-920c-d8dd635a4725",
   "metadata": {},
   "source": [
    "The OS module allows us to interact with the underlying operating system in several different ways such as -\n",
    "\n",
    "- Navigate the file system\n",
    "- Get file information\n",
    "- Look up and change the environment variables\n",
    "- Move files around\n",
    "\n",
    "and many more."
   ]
  },
  {
   "cell_type": "code",
   "execution_count": 4,
   "id": "effce5b3-64bc-49e1-8bd1-387677e13ea9",
   "metadata": {},
   "outputs": [],
   "source": [
    "# To begin we import the os module. This is a built in module and no third party modules are needed to be installed.\n",
    "import os"
   ]
  },
  {
   "cell_type": "markdown",
   "id": "040a41b1-bc73-41bb-aa03-563029d875af",
   "metadata": {},
   "source": [
    "#### Useful functions in the OS module"
   ]
  },
  {
   "cell_type": "markdown",
   "id": "4365d7bb-b94e-4efd-b26d-828438fc5729",
   "metadata": {},
   "source": [
    "- Get current working directory"
   ]
  },
  {
   "cell_type": "code",
   "execution_count": 5,
   "id": "7f4041d1-7abc-418e-a0a3-5e65691a2c3e",
   "metadata": {},
   "outputs": [
    {
     "data": {
      "text/plain": [
       "'/home/maidul/Work/ML_Intro/Python_Basics'"
      ]
     },
     "execution_count": 5,
     "metadata": {},
     "output_type": "execute_result"
    }
   ],
   "source": [
    "os.getcwd()"
   ]
  },
  {
   "cell_type": "markdown",
   "id": "56399f45-354f-4f8f-a07f-8caf4a4d2e1d",
   "metadata": {},
   "source": [
    "- Changing the working directory"
   ]
  },
  {
   "cell_type": "code",
   "execution_count": 6,
   "id": "66a70377-3266-4bc4-a5a5-b693bebf20e6",
   "metadata": {},
   "outputs": [],
   "source": [
    "os.chdir(\"../\")  # go one folder up"
   ]
  },
  {
   "cell_type": "code",
   "execution_count": 7,
   "id": "71c00a86-a62e-4512-a32f-b0662fabb104",
   "metadata": {},
   "outputs": [
    {
     "data": {
      "text/plain": [
       "'/home/maidul/Work/ML_Intro/Python_Basics'"
      ]
     },
     "execution_count": 7,
     "metadata": {},
     "output_type": "execute_result"
    }
   ],
   "source": [
    "os.chdir(\"/home/maidul/Work/ML_Intro/Python_Basics/\")\n",
    "os.getcwd()"
   ]
  },
  {
   "cell_type": "markdown",
   "id": "b4a4ac48-df66-4361-bd02-b23fe1aba2d0",
   "metadata": {},
   "source": [
    "- Listing the files and folders in a directory"
   ]
  },
  {
   "cell_type": "code",
   "execution_count": 8,
   "id": "8a312c7d-dbe2-4b71-95f2-633ba507ae5e",
   "metadata": {},
   "outputs": [
    {
     "data": {
      "text/plain": [
       "['factorial_calc.py',\n",
       " '03. Controlling the Flow of a Program.ipynb',\n",
       " '__pycache__',\n",
       " '01. Basic Concepts.ipynb',\n",
       " '04. Modules and Functions.ipynb',\n",
       " '.virtual_documents',\n",
       " '05. Classes (OOP).ipynb',\n",
       " '02. Data Types.ipynb',\n",
       " '.ipynb_checkpoints',\n",
       " '07. Python Modules.ipynb']"
      ]
     },
     "execution_count": 8,
     "metadata": {},
     "output_type": "execute_result"
    }
   ],
   "source": [
    "os.listdir()  # you can pass a path, but by default it is in the current directory"
   ]
  },
  {
   "cell_type": "markdown",
   "id": "be275e85-69dc-49a1-9e9c-5e96a4479805",
   "metadata": {},
   "source": [
    "- Creating files"
   ]
  },
  {
   "cell_type": "code",
   "execution_count": 9,
   "id": "ac24d1d5-acb9-4b65-a1b4-eb220498980f",
   "metadata": {},
   "outputs": [],
   "source": [
    "with open(\"test.txt\", \"w\") as test_file:\n",
    "    test_file.write(\n",
    "        \"This is a test file, created for demonstrating file creation process using the os module.\"\n",
    "    )"
   ]
  },
  {
   "cell_type": "markdown",
   "id": "ba5fd75e-f365-4fa5-83c2-bce7094423b9",
   "metadata": {},
   "source": [
    "- Creating directories"
   ]
  },
  {
   "cell_type": "code",
   "execution_count": 10,
   "id": "992bb740-b10d-4f0c-b0f1-1585f7e58b31",
   "metadata": {},
   "outputs": [],
   "source": [
    "os.mkdir(\"./exDir01\")  # Used for making one directory"
   ]
  },
  {
   "cell_type": "markdown",
   "id": "9c50344d-b484-42d4-9c21-ecc75d47a555",
   "metadata": {},
   "source": [
    "- While making leaf directory if any intermediate-level directory is missing, os.makedirs() method will create them all."
   ]
  },
  {
   "cell_type": "code",
   "execution_count": 11,
   "id": "f46b2876-1fb0-46be-b91f-f95986c88684",
   "metadata": {},
   "outputs": [],
   "source": [
    "os.makedirs(\"./exDir02/exDir03\")"
   ]
  },
  {
   "cell_type": "code",
   "execution_count": 12,
   "id": "8fb79fad-0634-41e9-87fb-316fc2954ed5",
   "metadata": {},
   "outputs": [
    {
     "data": {
      "text/plain": [
       "['factorial_calc.py',\n",
       " 'exDir02',\n",
       " '03. Controlling the Flow of a Program.ipynb',\n",
       " '__pycache__',\n",
       " '01. Basic Concepts.ipynb',\n",
       " '04. Modules and Functions.ipynb',\n",
       " '.virtual_documents',\n",
       " 'exDir01',\n",
       " '05. Classes (OOP).ipynb',\n",
       " '02. Data Types.ipynb',\n",
       " '.ipynb_checkpoints',\n",
       " '07. Python Modules.ipynb',\n",
       " 'test.txt']"
      ]
     },
     "execution_count": 12,
     "metadata": {},
     "output_type": "execute_result"
    }
   ],
   "source": [
    "os.listdir()"
   ]
  },
  {
   "cell_type": "markdown",
   "id": "dddbf908-1aea-4a93-894a-345ec3768186",
   "metadata": {},
   "source": [
    "- Renaming a file or folder"
   ]
  },
  {
   "cell_type": "code",
   "execution_count": 13,
   "id": "52f2e6b1-c832-4c82-8f3a-278e1fb720d6",
   "metadata": {},
   "outputs": [],
   "source": [
    "os.rename(\"test.txt\", \"demo.txt\")  # This renames the text.txt file to demo.txt"
   ]
  },
  {
   "cell_type": "markdown",
   "id": "327466ae-72eb-4e03-81c8-3df13e28bd31",
   "metadata": {},
   "source": [
    "- Informations about a file"
   ]
  },
  {
   "cell_type": "code",
   "execution_count": 14,
   "id": "41c5672d-53c8-4589-8bda-7db8076599f7",
   "metadata": {},
   "outputs": [
    {
     "data": {
      "text/plain": [
       "os.stat_result(st_mode=33279, st_ino=1180003, st_dev=2052, st_nlink=1, st_uid=1000, st_gid=1001, st_size=288, st_atime=1621736077, st_mtime=1659177520, st_ctime=1659177520)"
      ]
     },
     "execution_count": 14,
     "metadata": {},
     "output_type": "execute_result"
    }
   ],
   "source": [
    "# Useful stat results: st_size (bytes), st_mtime (time stamp)\n",
    "\n",
    "os.chdir(\"/home/maidul/Work/ML_Intro/Python_Basics/\")\n",
    "os.stat(\"factorial_calc.py\")"
   ]
  },
  {
   "cell_type": "markdown",
   "id": "a8427412-0c36-4bfa-b30d-81c599177a64",
   "metadata": {},
   "source": [
    "- Remove files"
   ]
  },
  {
   "cell_type": "code",
   "execution_count": 15,
   "id": "a504b7da-cee7-4380-96be-20d9c94df706",
   "metadata": {},
   "outputs": [],
   "source": [
    "os.remove(\"demo.txt\")"
   ]
  },
  {
   "cell_type": "markdown",
   "id": "4e1c00c3-3979-4a57-afff-41e99e23bc0f",
   "metadata": {},
   "source": [
    "- Remove directories"
   ]
  },
  {
   "cell_type": "code",
   "execution_count": 16,
   "id": "273ba11a-5cdb-4980-9e9b-f375c4cd06bc",
   "metadata": {},
   "outputs": [],
   "source": [
    "os.rmdir(\"./exDir01\")  # Recommended use case\n",
    "os.removedirs(\"./exDir02/exDir03\")  # to remove empty directories recursively"
   ]
  },
  {
   "cell_type": "markdown",
   "id": "6c9bdb18-414d-4c7e-afdf-ade94ebb099d",
   "metadata": {},
   "source": [
    "- To see entire directory tree and files within"
   ]
  },
  {
   "cell_type": "code",
   "execution_count": 17,
   "id": "7c0e3627-7f57-45ee-9efd-6773ac44edc6",
   "metadata": {},
   "outputs": [
    {
     "name": "stdout",
     "output_type": "stream",
     "text": [
      "Current Path: ./\n",
      "Directories: ['__pycache__', '.virtual_documents', '.ipynb_checkpoints']\n",
      "Files: ['factorial_calc.py', '03. Controlling the Flow of a Program.ipynb', '01. Basic Concepts.ipynb', '04. Modules and Functions.ipynb', '05. Classes (OOP).ipynb', '02. Data Types.ipynb', '07. Python Modules.ipynb'] \n",
      "\n",
      "Current Path: ./__pycache__\n",
      "Directories: []\n",
      "Files: ['factorial_calc.cpython-310.pyc'] \n",
      "\n",
      "Current Path: ./.virtual_documents\n",
      "Directories: []\n",
      "Files: [] \n",
      "\n",
      "Current Path: ./.ipynb_checkpoints\n",
      "Directories: []\n",
      "Files: ['03. Controlling the Flow of a Program-checkpoint.ipynb', '05. Classes (OOP)-checkpoint.ipynb', '07. Python Modules-checkpoint.ipynb', '06. Python Scope-checkpoint.ipynb', '02. Data Types-checkpoint.ipynb', '04. Modules and Functions-checkpoint.ipynb', '08. The Sys & OS Modules-checkpoint.ipynb', 'factorial_calc-checkpoint.py', 'test-checkpoint.txt', '01. Basic Concepts-checkpoint.ipynb'] \n",
      "\n"
     ]
    }
   ],
   "source": [
    "# os.walk is a generator that yields a tuple of 3 values in the sequence of dirpath, dirnames, filenames\n",
    "# as it walks the directory tree.\n",
    "\n",
    "for dirpath, dirnames, filenames in os.walk(\"./\"):\n",
    "    print(\"Current Path:\", dirpath)\n",
    "    print(\"Directories:\", dirnames)\n",
    "    print(\"Files:\", filenames, \"\\n\")"
   ]
  },
  {
   "cell_type": "markdown",
   "id": "e3b49715-df74-4f03-8188-f2b0b44f63aa",
   "metadata": {},
   "source": [
    "- Accessing home directory location by grabbing home environment variable"
   ]
  },
  {
   "cell_type": "code",
   "execution_count": 18,
   "id": "7bc81d45-42e1-4991-9ee0-d9a3fe5d099a",
   "metadata": {},
   "outputs": [
    {
     "data": {
      "text/plain": [
       "'/home/maidul'"
      ]
     },
     "execution_count": 18,
     "metadata": {},
     "output_type": "execute_result"
    }
   ],
   "source": [
    "os.environ.get(\"HOME\")  # Returns a path"
   ]
  },
  {
   "cell_type": "markdown",
   "id": "64f48e9d-9f72-4deb-9181-bc09569809ee",
   "metadata": {},
   "source": [
    "- Joining two paths "
   ]
  },
  {
   "cell_type": "code",
   "execution_count": 19,
   "id": "4e1c8cd1-1025-4370-9914-65bdd4b146bb",
   "metadata": {},
   "outputs": [],
   "source": [
    "file_path = os.path.join(os.environ.get(\"HOME\"), \"test.txt\")\n",
    "# the benefit of os.path.join, is it takes the guess work out of inserting a slash"
   ]
  },
  {
   "cell_type": "markdown",
   "id": "96ba4ed0-629e-4537-ae47-0798222e4cce",
   "metadata": {},
   "source": [
    "- Grab the folder name on the cwd"
   ]
  },
  {
   "cell_type": "code",
   "execution_count": 20,
   "id": "405304ad-5611-45f1-a491-27bf1fc1e0a0",
   "metadata": {},
   "outputs": [
    {
     "name": "stdout",
     "output_type": "stream",
     "text": [
      "Python_Basics\n"
     ]
    }
   ],
   "source": [
    "print(os.path.basename(os.getcwd()))"
   ]
  },
  {
   "cell_type": "markdown",
   "id": "0dfe74dd-359b-45ff-8384-24b5b6c78bfb",
   "metadata": {},
   "source": [
    "- Grab the directory name of any path"
   ]
  },
  {
   "cell_type": "code",
   "execution_count": 21,
   "id": "01934b63-6536-4540-8a57-07a0d22e6e5d",
   "metadata": {},
   "outputs": [
    {
     "data": {
      "text/plain": [
       "'/home/maidul/Work/ML_Intro'"
      ]
     },
     "execution_count": 21,
     "metadata": {},
     "output_type": "execute_result"
    }
   ],
   "source": [
    "os.path.dirname(os.getcwd())"
   ]
  },
  {
   "cell_type": "markdown",
   "id": "2629ee8d-ffdc-43d3-ac4a-a1bf87d89786",
   "metadata": {},
   "source": [
    "- Get both the directory and filename as a tuple from a path "
   ]
  },
  {
   "cell_type": "code",
   "execution_count": 22,
   "id": "b7a1429f-6a3b-4eaa-9be3-c779ad6ff57c",
   "metadata": {},
   "outputs": [
    {
     "data": {
      "text/plain": [
       "('Python_Basics', '03. Controlling the Flow of a Program-checkpoint.ipynb')"
      ]
     },
     "execution_count": 22,
     "metadata": {},
     "output_type": "execute_result"
    }
   ],
   "source": [
    "os.path.split(\"Python_Basics/03. Controlling the Flow of a Program-checkpoint.ipynb\")"
   ]
  },
  {
   "cell_type": "markdown",
   "id": "4c559f47-73b0-42eb-977f-ea9e44921d4d",
   "metadata": {},
   "source": [
    "- Check whether a path exists or not"
   ]
  },
  {
   "cell_type": "code",
   "execution_count": 23,
   "id": "6c2e084a-c31a-4a4b-8797-4a1d77b2c75f",
   "metadata": {},
   "outputs": [
    {
     "data": {
      "text/plain": [
       "False"
      ]
     },
     "execution_count": 23,
     "metadata": {},
     "output_type": "execute_result"
    }
   ],
   "source": [
    "os.path.exists(\"Python_Basics/03. Controlling the Flow of a Program-checkpoint.ipynb\")"
   ]
  },
  {
   "cell_type": "markdown",
   "id": "adc046ee-4c10-4bbd-9a17-afa33bf80155",
   "metadata": {},
   "source": [
    "- Check whether a path is a directory or not"
   ]
  },
  {
   "cell_type": "code",
   "execution_count": 24,
   "id": "64cc178e-6231-4d3c-8c43-20fc0177706b",
   "metadata": {},
   "outputs": [
    {
     "data": {
      "text/plain": [
       "False"
      ]
     },
     "execution_count": 24,
     "metadata": {},
     "output_type": "execute_result"
    }
   ],
   "source": [
    "os.path.isdir(\"Python_Basics/03. Controlling the Flow of a Program-checkpoint.ipynb\")"
   ]
  },
  {
   "cell_type": "markdown",
   "id": "aaa0c02f-7396-4a56-929b-62037a3f4f60",
   "metadata": {},
   "source": [
    "- Check whether a path is a file or not"
   ]
  },
  {
   "cell_type": "code",
   "execution_count": 25,
   "id": "676e223d-a877-4d8b-8c22-cb095dd55481",
   "metadata": {},
   "outputs": [
    {
     "data": {
      "text/plain": [
       "'/home/maidul/Work/ML_Intro/Python_Basics'"
      ]
     },
     "execution_count": 25,
     "metadata": {},
     "output_type": "execute_result"
    }
   ],
   "source": [
    "os.getcwd()"
   ]
  },
  {
   "cell_type": "code",
   "execution_count": 26,
   "id": "0d09281b-98c0-4ebb-b6f3-b307d1a5db4b",
   "metadata": {},
   "outputs": [
    {
     "data": {
      "text/plain": [
       "True"
      ]
     },
     "execution_count": 26,
     "metadata": {},
     "output_type": "execute_result"
    }
   ],
   "source": [
    "os.path.isfile(\"03. Controlling the Flow of a Program.ipynb\")"
   ]
  },
  {
   "cell_type": "markdown",
   "id": "c1e44e37-1456-40f4-be4b-e216c01f53fe",
   "metadata": {},
   "source": [
    "- Splits file route of the path and the extension"
   ]
  },
  {
   "cell_type": "code",
   "execution_count": 27,
   "id": "25c97b91-384b-4af8-b247-1d531bd4b326",
   "metadata": {},
   "outputs": [
    {
     "data": {
      "text/plain": [
       "('/home/maidul-hasan/Work/ML/AAIC/01. Python/08. The Sys & OS Modules',\n",
       " '.ipynb')"
      ]
     },
     "execution_count": 27,
     "metadata": {},
     "output_type": "execute_result"
    }
   ],
   "source": [
    "os.path.splitext(\n",
    "    \"/home/maidul-hasan/Work/ML/AAIC/01. Python/08. The Sys & OS Modules.ipynb\"\n",
    ")"
   ]
  },
  {
   "cell_type": "markdown",
   "id": "7a89be06-a5dc-4376-8610-6535ff4e1354",
   "metadata": {},
   "source": [
    "### Python Module Search Path\n",
    "\n",
    "While importing a module, Python looks at several places. Interpreter first looks for a built-in module. If built-in module is not found, Python looks into a list of directories defined in `sys.path`. The search is in this order -\n",
    "\n",
    "1. The current directory.\n",
    "2. PYTHONPATH (an environment variable with a list of directories).\n",
    "3. The installation-dependent default directory."
   ]
  },
  {
   "cell_type": "code",
   "execution_count": 28,
   "id": "2ea01baf-a826-40df-b94d-1fa82d4e650a",
   "metadata": {},
   "outputs": [
    {
     "data": {
      "text/plain": [
       "['/home/maidul/Work/ML_Intro/Python_Basics',\n",
       " '/home/maidul/.conda/envs/ml_basic/lib/python310.zip',\n",
       " '/home/maidul/.conda/envs/ml_basic/lib/python3.10',\n",
       " '/home/maidul/.conda/envs/ml_basic/lib/python3.10/lib-dynload',\n",
       " '',\n",
       " '/home/maidul/.local/lib/python3.10/site-packages',\n",
       " '/home/maidul/.themesaver',\n",
       " '/home/maidul/.conda/envs/ml_basic/lib/python3.10/site-packages']"
      ]
     },
     "execution_count": 28,
     "metadata": {},
     "output_type": "execute_result"
    }
   ],
   "source": [
    "import sys\n",
    "\n",
    "sys.path"
   ]
  },
  {
   "cell_type": "markdown",
   "id": "5c73ec36-62e5-45eb-8bba-60a738f94ef5",
   "metadata": {},
   "source": [
    "To use some other file path, add your preffered directory path(s) to `sys.path` using `sys.path.append('/path/to/directory')`."
   ]
  },
  {
   "cell_type": "markdown",
   "id": "14e409bc-6580-46b1-9636-f3b78c9e2c68",
   "metadata": {},
   "source": [
    "#### For further reference see - \n",
    "1. https://docs.python.org/3/tutorial/modules.html\n",
    "2. https://www.programiz.com/python-programming/modules\n",
    "3. https://realpython.com/python-modules-packages/\n",
    "4. https://www.tutorialspoint.com/python/python_modules.htm"
   ]
  },
  {
   "cell_type": "markdown",
   "id": "8c581d4a-0930-45e2-a5b8-05e6c02b38a4",
   "metadata": {},
   "source": [
    "# Functions"
   ]
  },
  {
   "cell_type": "markdown",
   "id": "6d87e114-3fb5-4129-8ab9-b8a3df76af9f",
   "metadata": {},
   "source": [
    "A function is a block of code which only runs when it is called. You can pass data to a function as parameters when calling it. Generally you would want your function to return something.\n",
    "\n",
    "In Python there are many built-in functions that you can use. You can define your own functions as well."
   ]
  },
  {
   "cell_type": "markdown",
   "id": "8a20a75a-2c0c-4416-9082-c8e124488985",
   "metadata": {},
   "source": [
    "### Some useful Built-in Functions"
   ]
  },
  {
   "cell_type": "markdown",
   "id": "eb033a8d-e5fa-4c39-b58d-0603430efbe3",
   "metadata": {},
   "source": [
    "- **type(obj)**  : returns the data type of an object.\n",
    "\n",
    "- **isinstance(obj, classinfo)**  : evaluates if an object is an instance of a certain class.\n",
    "\n",
    "- **len(obj)**  : returns the length of an object.\n",
    "\n",
    "- **sorted(iter)**  : returns a sorted list of the items of an iterable.\n",
    "\n",
    "- **range(start, end, step)** : returns an iterator object containing all the integers from start to end value (excluding end value) with a spacing of given steps. It is like linspace function of MATLAB.\n",
    "\n",
    "- **enumerate(iter, start=0)** : adds a counter to an iterable and returns it in a form of enumerate object. This enumerate object can then be used directly in \"for loops\" or be converted into a list of tuples using list() method.\n",
    "\n",
    "- **help(func)**  : returns the documentation of that function.\n",
    "\n",
    "- **abs(num)**  : find the absolute value.\n",
    "\n",
    "- **dir(obj)**  : tries to return a list of valid attributes of the object.\n",
    "\n",
    "- **divmod(num1, num2)**  : returns a tuple consisting of their quotient and remainder.\n",
    "\n",
    "- **filter(func, iter)** : returns only those elements of an iterable for which a function returns true.\n",
    "\n",
    "- **map(func, iter)**  : calls a function on the elements of an iterable and returns the result as a map object without changing the original data.\n",
    "\n",
    "- **zip(\\*iter)**  : Zips together the same indexed members of any number of iterables and returns them as a zip object. If the iterables have different length then the zipper stops at the length of the shortest iterable.\n",
    "\n",
    "- **Copy** :\n",
    "    - xyz.copy(): The copied elements changes for change in an inner level of the main copy.\n",
    "    - copy.deepcopy(xyz) - Copied elements doesn't change no matter what."
   ]
  },
  {
   "cell_type": "code",
   "execution_count": 29,
   "id": "4f613461-72fc-4dc6-a006-9e7f6ce212ad",
   "metadata": {},
   "outputs": [
    {
     "data": {
      "text/plain": [
       "True"
      ]
     },
     "execution_count": 29,
     "metadata": {},
     "output_type": "execute_result"
    }
   ],
   "source": [
    "# Simple filtering with in\n",
    "\"be\" in \"to be or not to be\""
   ]
  },
  {
   "cell_type": "markdown",
   "id": "81a8684b-7d68-4a0c-9ddf-2a9afc387ba3",
   "metadata": {},
   "source": [
    " "
   ]
  },
  {
   "cell_type": "markdown",
   "id": "e1da57a6-9e06-47a9-9185-1eacb836232b",
   "metadata": {
    "id": "PlBjfKeLDy33"
   },
   "source": [
    "### User-defined Functions"
   ]
  },
  {
   "cell_type": "markdown",
   "id": "460919ba-0f62-4a16-a095-9be3b8fd5074",
   "metadata": {
    "id": "-jG1cIkIDy33"
   },
   "source": [
    "Functions that we define ourselves to do a specific task are referred to as user-defined functions. If we use functions written by others in the form of a library, then it is termed as library functions."
   ]
  },
  {
   "cell_type": "markdown",
   "id": "f5568502-6402-48a7-a2af-c14d4f6242ef",
   "metadata": {
    "id": "qnW4EEEaDy36"
   },
   "source": [
    "#### Advantages"
   ]
  },
  {
   "cell_type": "markdown",
   "id": "c7197a8b-7bf5-470f-90b4-bd50f62dec18",
   "metadata": {
    "id": "BuTGBpe_Dy36"
   },
   "source": [
    "- User-defined functions help us to decompose a large program into small segments, which makes program easy to understand, maintain and debug.\n",
    "\n",
    "- If repeated code occurs in a program, Function can be used to include those codes and execute when needed by calling that function.\n",
    "\n",
    "- Programmers working on large project can divide the workload by making different functions."
   ]
  },
  {
   "cell_type": "markdown",
   "id": "f7aa2585-5fcf-4c77-a52f-0cf49ef78aae",
   "metadata": {
    "tags": []
   },
   "source": [
    "#### Function Arguments\n",
    "\n",
    "- argument types : positional arguments, keyword arguments\n",
    "\n",
    "- default arguments : if any defined parameter is left unfilled then the default value kicks in.\n",
    "\n",
    "- **args** and **kwargs**  are used as parameters so that a function can take any number of positional and keyword arguments."
   ]
  },
  {
   "cell_type": "code",
   "execution_count": 30,
   "id": "6b4be848-7f72-4af8-b8fc-2aac8cb42dc3",
   "metadata": {},
   "outputs": [
    {
     "name": "stdout",
     "output_type": "stream",
     "text": [
      "23\n"
     ]
    }
   ],
   "source": [
    "def super_sum(*args, **kwargs):\n",
    "\n",
    "    # args creates a tuple of the inputs inside the function.\n",
    "\n",
    "    # kwargs creates a dictionary for the keyword-value pair inputs inside the function.\n",
    "\n",
    "    return sum(args) + sum(kwargs.values())\n",
    "\n",
    "\n",
    "print(super_sum(1, 5, 7, num1=2, num2=8))"
   ]
  },
  {
   "cell_type": "markdown",
   "id": "344c9070-6aec-4c1b-b2d3-ef4fbeadfe29",
   "metadata": {},
   "source": [
    "#### Example - BMI Calculator"
   ]
  },
  {
   "cell_type": "code",
   "execution_count": 31,
   "id": "68a1bbe8-f39f-45d8-bf0b-147702eb9d87",
   "metadata": {},
   "outputs": [
    {
     "name": "stdout",
     "output_type": "stream",
     "text": [
      "\n",
      "    Info:\n",
      "    :param name: your name (string)\n",
      "    :param height_m: your height in meters (int/float)\n",
      "    :param mass_kg: your weight in kg (int/float)\n",
      "    :return: (name, bmi)\n",
      "    \n",
      "Hi maidul your BMI is - 24.62\n",
      "('maidul', '24.623')\n"
     ]
    }
   ],
   "source": [
    "# Order of the params should be: params, *args, default params, **kwargs\n",
    "\n",
    "\n",
    "def bmi_calculator(name, height_m, mass_kg):\n",
    "    # docstring\n",
    "    \"\"\"\n",
    "    Info:\n",
    "    :param name: your name (string)\n",
    "    :param height_m: your height in meters (int/float)\n",
    "    :param mass_kg: your weight in kg (int/float)\n",
    "    :return: (name, bmi)\n",
    "    \"\"\"\n",
    "    bmi = mass_kg / height_m**2\n",
    "    print(f\"Hi {name} your BMI is - {round(bmi, 2)}\")\n",
    "    return (name, \"%.3f\" % bmi)\n",
    "\n",
    "\n",
    "print(bmi_calculator.__doc__)  # to see the docstring\n",
    "\n",
    "returned_result = bmi_calculator(\"maidul\", 1.8415, 83.5)\n",
    "print(returned_result)"
   ]
  },
  {
   "cell_type": "markdown",
   "id": "f47dbe4a-e873-4fee-aa69-ff9b61beb7e4",
   "metadata": {},
   "source": [
    " "
   ]
  },
  {
   "cell_type": "markdown",
   "id": "5b6c4b3f-fb49-4fc7-a295-35c6e77dc597",
   "metadata": {},
   "source": [
    "### Lambda Functions "
   ]
  },
  {
   "cell_type": "markdown",
   "id": "937a6830-a248-4cd3-8bdb-1f51c4c4f8cb",
   "metadata": {},
   "source": [
    "A lambda function is a small anonymous function. A lambda function can take any number of arguments, but can only have one expression."
   ]
  },
  {
   "cell_type": "markdown",
   "id": "515e4e1a-e388-4389-bd54-0f4645aab33a",
   "metadata": {},
   "source": [
    "**Syntax:** "
   ]
  },
  {
   "cell_type": "markdown",
   "id": "1fa1ae0a-45fc-4498-97ce-cfb0326636fe",
   "metadata": {},
   "source": [
    "`lambda arguments : expression`\n",
    "    \n",
    "The expression is executed and the result is returned."
   ]
  },
  {
   "cell_type": "code",
   "execution_count": 32,
   "id": "220c6e34-68ba-460f-8159-0c263b732970",
   "metadata": {},
   "outputs": [
    {
     "name": "stdout",
     "output_type": "stream",
     "text": [
      "17\n"
     ]
    }
   ],
   "source": [
    "random_func_x = lambda a, b, c: (a * b) + c\n",
    "\n",
    "print(random_func_x(5, 3, 2))"
   ]
  },
  {
   "cell_type": "markdown",
   "id": "45bbd83e-2441-4f2e-a426-8f547160ae2c",
   "metadata": {},
   "source": [
    "The real power of lambda is better shown when you use them as an anonymous function inside another function.\n",
    "\n",
    "Say you have a function definition that takes one argument, and that argument will be multiplied with an unknown number. We can use lambda function to solve this problem with ease -"
   ]
  },
  {
   "cell_type": "code",
   "execution_count": 33,
   "id": "607431a1-c505-46c2-a403-88b26573c585",
   "metadata": {},
   "outputs": [],
   "source": [
    "def n_multiplied(n):\n",
    "    return lambda x: n * x"
   ]
  },
  {
   "cell_type": "code",
   "execution_count": 34,
   "id": "b7d80abb-9f9f-4c20-a564-67745118d34b",
   "metadata": {},
   "outputs": [
    {
     "name": "stdout",
     "output_type": "stream",
     "text": [
      "356\n"
     ]
    }
   ],
   "source": [
    "import random\n",
    "\n",
    "# now if the fixed number is 2 and the unknown number is a random number,\n",
    "doubler = n_multiplied(2)  # return lambda x : 2 * x to doubler\n",
    "\n",
    "print(doubler(random.randint(3, 300)))"
   ]
  },
  {
   "cell_type": "markdown",
   "id": "73805447-a1ec-4ea4-b739-17cb7eb4ed90",
   "metadata": {},
   "source": [
    "Use lambda functions when an anonymous function is required for a short period of time."
   ]
  },
  {
   "cell_type": "markdown",
   "id": "a07d855c-8ccd-498d-aa15-f4741b269a97",
   "metadata": {},
   "source": [
    " "
   ]
  },
  {
   "cell_type": "markdown",
   "id": "91b48429-c4bc-479a-8167-416d1d830597",
   "metadata": {},
   "source": [
    "## Recursive Functions "
   ]
  },
  {
   "cell_type": "markdown",
   "id": "c905fb28-5b74-4417-8460-22c50e9a2ae5",
   "metadata": {},
   "source": [
    "Recursion is the process of defining something in terms of itself. A physical world example would be, to place two parallel mirrors facing each other. Any object in between them would be reflected recursively."
   ]
  },
  {
   "cell_type": "markdown",
   "id": "eff4c903-9c52-4871-a3ae-417fac356148",
   "metadata": {},
   "source": [
    "In Python, we know that a function can call other functions. It is even possible for the function to call itself. These types of construct are termed as recursive functions."
   ]
  },
  {
   "cell_type": "markdown",
   "id": "783abdda-5da2-4b7b-826a-8d9adb704e11",
   "metadata": {},
   "source": [
    "#### Advantages of Recursion\n",
    "- Recursive functions make the code look clean and elegant.\n",
    "- A complex task can be broken down into simpler sub-problems using recursion.\n",
    "- Sequence generation is easier with recursion than using some nested iteration.\n",
    "\n",
    "#### Disadvantages of Recursion\n",
    "- Sometimes the logic behind recursion is hard to follow through.\n",
    "- Recursive calls are expensive (inefficient) as they take up a lot of memory and time.\n",
    "- Recursive functions are hard to debug."
   ]
  },
  {
   "cell_type": "markdown",
   "id": "e47bb61b-67da-42c1-baf2-e0eb5c297a52",
   "metadata": {},
   "source": [
    "### Example - Factorial Calculator "
   ]
  },
  {
   "cell_type": "code",
   "execution_count": 35,
   "id": "3e5f7efb-0261-4c92-a76c-4905add9332d",
   "metadata": {},
   "outputs": [],
   "source": [
    "def factorial(x):\n",
    "    \"\"\"This is a recursive function\n",
    "    to find the factorial of an integer\"\"\"\n",
    "\n",
    "    # Base case\n",
    "    if 0 <= x <= 1:\n",
    "        return 1\n",
    "    # Recursive case\n",
    "    else:\n",
    "        return x * factorial(x - 1)"
   ]
  },
  {
   "cell_type": "code",
   "execution_count": 36,
   "id": "cdf4a0ed-7c60-4da2-9ac8-75452482499e",
   "metadata": {},
   "outputs": [
    {
     "name": "stdin",
     "output_type": "stream",
     "text": [
      "Please enter an integer to know its factorial value:  11\n"
     ]
    },
    {
     "name": "stdout",
     "output_type": "stream",
     "text": [
      "The factorial of 11 is 39916800\n"
     ]
    }
   ],
   "source": [
    "num = int(input(\"Please enter an integer to know its factorial value: \"))\n",
    "print(\"The factorial of\", num, \"is\", factorial(num))"
   ]
  },
  {
   "cell_type": "markdown",
   "id": "afc0cd6a-7c5d-425f-80c5-b8658c333f11",
   "metadata": {},
   "source": [
    "The trick with recursive functions is that there must be a “base” case where the recursion must end with a recursive case that iterates towards the base case. In the case of factorial, we know that the factorial of zero is one, and the factorial of a number greater than zero will depend on the factorial of the previous number until it reaches zero."
   ]
  },
  {
   "cell_type": "markdown",
   "id": "8e6bc0a4-f8db-4766-a3e9-c3b7c7a927a3",
   "metadata": {},
   "source": [
    "### Example - nth Fibonacci number  "
   ]
  },
  {
   "cell_type": "code",
   "execution_count": 37,
   "id": "d46f02be-c583-4379-950e-39c091fc2c6b",
   "metadata": {},
   "outputs": [],
   "source": [
    "def fibonacci(n):\n",
    "    \"\"\"This is a recursive function\n",
    "    to find the nth member of the fibonacci series. Note that indexing starts from 0.\"\"\"\n",
    "\n",
    "    # Base case\n",
    "    if n <= 1:\n",
    "        return n\n",
    "    # Recursive case\n",
    "    else:\n",
    "        return fibonacci(n - 1) + fibonacci(n - 2)"
   ]
  },
  {
   "cell_type": "code",
   "execution_count": 38,
   "id": "2ab6000b-a95c-4ce3-9b45-ecdd4c7adac7",
   "metadata": {},
   "outputs": [
    {
     "name": "stdin",
     "output_type": "stream",
     "text": [
      "Please enter a value of 'n' to know the nth fibonacci number: 11\n"
     ]
    },
    {
     "name": "stdout",
     "output_type": "stream",
     "text": [
      "The 11th fibonacci number is, 89\n"
     ]
    }
   ],
   "source": [
    "n = int(input(\"Please enter a value of 'n' to know the nth fibonacci number:\"))\n",
    "print(\"The {}th fibonacci number is, {}\".format(n, fibonacci(n)))"
   ]
  },
  {
   "cell_type": "code",
   "execution_count": null,
   "id": "91e9c7af-b5e0-4ddb-a8c6-63efe064dbd7",
   "metadata": {},
   "outputs": [],
   "source": []
  }
 ],
 "metadata": {
  "kernelspec": {
   "display_name": "Python 3 (ipykernel)",
   "language": "python",
   "name": "python3"
  },
  "language_info": {
   "codemirror_mode": {
    "name": "ipython",
    "version": 3
   },
   "file_extension": ".py",
   "mimetype": "text/x-python",
   "name": "python",
   "nbconvert_exporter": "python",
   "pygments_lexer": "ipython3",
   "version": "3.8.13"
  }
 },
 "nbformat": 4,
 "nbformat_minor": 5
}
