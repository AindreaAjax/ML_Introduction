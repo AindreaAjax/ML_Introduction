{
 "cells": [
  {
   "cell_type": "markdown",
   "id": "4ff2db0d-bf84-4ca3-baf3-8f15bdb55ed0",
   "metadata": {},
   "source": [
    "# Modules"
   ]
  },
  {
   "cell_type": "markdown",
   "id": "f1baf884-c883-45fe-86c6-13cf4558d59a",
   "metadata": {},
   "source": [
    "- A function is a block of code that is used to perform a single action. \n",
    "\n",
    "- A module is a Python file containing a set of functions and variables of all types (arrays, dictionaries, objects, etc.) that you want to use in your application.\n",
    "\n",
    "### Module Creation\n",
    "\n",
    "To create a module, create a python file with a .py extension.\n",
    "\n",
    "### Using a Module\n",
    "\n",
    "Modules created with a .py extension can be used with an import statement."
   ]
  },
  {
   "cell_type": "markdown",
   "id": "8c581d4a-0930-45e2-a5b8-05e6c02b38a4",
   "metadata": {},
   "source": [
    "# Functions"
   ]
  },
  {
   "cell_type": "markdown",
   "id": "6d87e114-3fb5-4129-8ab9-b8a3df76af9f",
   "metadata": {},
   "source": [
    "A function is a block of code which only runs when it is called. You can pass data to a function as parameters when calling it. Generally you would want your function to return something.\n",
    "\n",
    "In Python there are many built-in functions that you can use and you can define your own functions as well."
   ]
  },
  {
   "cell_type": "markdown",
   "id": "8a20a75a-2c0c-4416-9082-c8e124488985",
   "metadata": {},
   "source": [
    "### Some useful Built-in Functions"
   ]
  },
  {
   "cell_type": "markdown",
   "id": "eb033a8d-e5fa-4c39-b58d-0603430efbe3",
   "metadata": {},
   "source": [
    "- **type(obj)**  : returns the data type of an object.\n",
    "\n",
    "- **isinstance(obj, classinfo)**  : evaluates if an object is an instance of a certain class.\n",
    "\n",
    "- **len(obj)**  : returns the length of an object.\n",
    "\n",
    "- **sorted(iter)**  : returns a sorted list of the items of an iterable.\n",
    "\n",
    "- **enumerate(iter, start=0)** : adds a counter to an iterable and returns it in a form of enumerate object. This enumerate object can then be used directly in \"for loops\" or be converted into a list of tuples using list() method.\n",
    "\n",
    "- **help(func)**  : returns the documentation of that function.\n",
    "\n",
    "- **abs(num)**  : find the absolute value.\n",
    "\n",
    "- **dir(obj)**  : tries to return a list of valid attributes of the object.\n",
    "\n",
    "- **divmod(num1, num2)**  : returns a tuple consisting of their quotient and remainder.\n",
    "\n",
    "- **filter(func, iter)** : returns only those elements of an iterable for which a function returns true.\n",
    "\n",
    "- **map(func, iter)**  : calls a function on the elements of an iterable and returns the result as a map object without changing the original data.\n",
    "\n",
    "- **zip(\\*iter)**  : Zips together the same indexed members of any number of iterables and returns them as a zip object. If the iterables have different length then the zipper stops at the length of the shortest iterable.\n",
    "\n",
    "- **Copy** :\n",
    "    - xyz.copy(): The copied elements changes for change in an inner level of the main copy.\n",
    "    - copy.deepcopy(xyz) - Copied elements doesn't change no matter what."
   ]
  },
  {
   "cell_type": "code",
   "execution_count": 1,
   "id": "4f613461-72fc-4dc6-a006-9e7f6ce212ad",
   "metadata": {},
   "outputs": [
    {
     "data": {
      "text/plain": [
       "True"
      ]
     },
     "execution_count": 1,
     "metadata": {},
     "output_type": "execute_result"
    }
   ],
   "source": [
    "# Simple filtering with in\n",
    "\"be\" in \"to be or not to be\""
   ]
  },
  {
   "cell_type": "markdown",
   "id": "81a8684b-7d68-4a0c-9ddf-2a9afc387ba3",
   "metadata": {},
   "source": [
    " "
   ]
  },
  {
   "cell_type": "markdown",
   "id": "e1da57a6-9e06-47a9-9185-1eacb836232b",
   "metadata": {
    "id": "PlBjfKeLDy33"
   },
   "source": [
    "### User-defined Functions"
   ]
  },
  {
   "cell_type": "markdown",
   "id": "460919ba-0f62-4a16-a095-9be3b8fd5074",
   "metadata": {
    "id": "-jG1cIkIDy33"
   },
   "source": [
    "Functions that we define ourselves to do a specific task are referred to as user-defined functions. If we use functions written by others in the form of a library, then it is termed as library functions."
   ]
  },
  {
   "cell_type": "markdown",
   "id": "f5568502-6402-48a7-a2af-c14d4f6242ef",
   "metadata": {
    "id": "qnW4EEEaDy36"
   },
   "source": [
    "#### Advantages"
   ]
  },
  {
   "cell_type": "markdown",
   "id": "c7197a8b-7bf5-470f-90b4-bd50f62dec18",
   "metadata": {
    "id": "BuTGBpe_Dy36"
   },
   "source": [
    "- User-defined functions help us to decompose a large program into small segments, which makes program easy to understand, maintain and debug.\n",
    "\n",
    "- If repeated code occurs in a program, Function can be used to include those codes and execute when needed by calling that function.\n",
    "\n",
    "- Programmers working on large project can divide the workload by making different functions."
   ]
  },
  {
   "cell_type": "markdown",
   "id": "f7aa2585-5fcf-4c77-a52f-0cf49ef78aae",
   "metadata": {
    "tags": []
   },
   "source": [
    "#### Function Arguments\n",
    "\n",
    "- argument types : positional arguments, keyword arguments\n",
    "\n",
    "- default arguments : if any defined parameter is left unfilled then the default value kicks in.\n",
    "\n",
    "- **args** and **kwargs**  are used as parameters so that a function can take any number of positional and keyword arguments."
   ]
  },
  {
   "cell_type": "code",
   "execution_count": 2,
   "id": "6b4be848-7f72-4af8-b8fc-2aac8cb42dc3",
   "metadata": {},
   "outputs": [
    {
     "name": "stdout",
     "output_type": "stream",
     "text": [
      "23\n"
     ]
    }
   ],
   "source": [
    "def super_sum(*args, **kwargs):\n",
    "\n",
    "    # args creates a tuple of the inputs inside the function.\n",
    "    \n",
    "    # kwargs creates a dictionary for the keyword-value pair inputs inside the function.\n",
    "    \n",
    "    return sum(args) + sum(kwargs.values())\n",
    "\n",
    "\n",
    "print(super_sum(1, 5, 7, num1=2, num2=8))"
   ]
  },
  {
   "cell_type": "markdown",
   "id": "344c9070-6aec-4c1b-b2d3-ef4fbeadfe29",
   "metadata": {},
   "source": [
    "#### Example - BMI Calculator"
   ]
  },
  {
   "cell_type": "code",
   "execution_count": 3,
   "id": "68a1bbe8-f39f-45d8-bf0b-147702eb9d87",
   "metadata": {},
   "outputs": [
    {
     "name": "stdout",
     "output_type": "stream",
     "text": [
      "\n",
      "    Info:\n",
      "    :param name: your name (string)\n",
      "    :param height_m: your height in meters (int/float)\n",
      "    :param mass_kg: your weight in kg (int/float)\n",
      "    :return: (name, bmi)\n",
      "    \n",
      "Hi maidul your BMI is - 24.62\n",
      "('maidul', '24.623')\n"
     ]
    }
   ],
   "source": [
    "# Order of the params should be: params, *args, default params, **kwargs\n",
    "\n",
    "def bmi_calculator(name, height_m, mass_kg):\n",
    "    # docstring\n",
    "    \"\"\"\n",
    "    Info:\n",
    "    :param name: your name (string)\n",
    "    :param height_m: your height in meters (int/float)\n",
    "    :param mass_kg: your weight in kg (int/float)\n",
    "    :return: (name, bmi)\n",
    "    \"\"\"\n",
    "    bmi = mass_kg / height_m ** 2\n",
    "    print(f\"Hi {name} your BMI is - {round(bmi, 2)}\")\n",
    "    return (name, \"%.3f\"%bmi)\n",
    "\n",
    "print(bmi_calculator.__doc__)  # to see the docstring\n",
    "\n",
    "returned_result = bmi_calculator(\"maidul\", 1.8415, 83.5)\n",
    "print(returned_result)"
   ]
  },
  {
   "cell_type": "markdown",
   "id": "f47dbe4a-e873-4fee-aa69-ff9b61beb7e4",
   "metadata": {},
   "source": [
    " "
   ]
  },
  {
   "cell_type": "markdown",
   "id": "5b6c4b3f-fb49-4fc7-a295-35c6e77dc597",
   "metadata": {},
   "source": [
    "### Lambda Functions "
   ]
  },
  {
   "cell_type": "markdown",
   "id": "937a6830-a248-4cd3-8bdb-1f51c4c4f8cb",
   "metadata": {},
   "source": [
    "A lambda function is a small anonymous function. A lambda function can take any number of arguments, but can only have one expression."
   ]
  },
  {
   "cell_type": "markdown",
   "id": "515e4e1a-e388-4389-bd54-0f4645aab33a",
   "metadata": {},
   "source": [
    "**Syntax:** "
   ]
  },
  {
   "cell_type": "markdown",
   "id": "1fa1ae0a-45fc-4498-97ce-cfb0326636fe",
   "metadata": {},
   "source": [
    "`lambda arguments : expression`\n",
    "    \n",
    "The expression is executed and the result is returned."
   ]
  },
  {
   "cell_type": "code",
   "execution_count": 4,
   "id": "220c6e34-68ba-460f-8159-0c263b732970",
   "metadata": {},
   "outputs": [
    {
     "name": "stdout",
     "output_type": "stream",
     "text": [
      "17\n"
     ]
    }
   ],
   "source": [
    "random_func_x = lambda a, b, c : (a * b) + c\n",
    "\n",
    "print(random_func_x(5, 3, 2))"
   ]
  },
  {
   "cell_type": "markdown",
   "id": "45bbd83e-2441-4f2e-a426-8f547160ae2c",
   "metadata": {},
   "source": [
    "The real power of lambda is better shown when you use them as an anonymous function inside another function.\n",
    "\n",
    "Say you have a function definition that takes one argument, and that argument will be multiplied with an unknown number. We can use lambda function to solve this problem with ease -"
   ]
  },
  {
   "cell_type": "code",
   "execution_count": 5,
   "id": "607431a1-c505-46c2-a403-88b26573c585",
   "metadata": {},
   "outputs": [],
   "source": [
    "def n_multiplied(n):\n",
    "    return lambda x : n * x "
   ]
  },
  {
   "cell_type": "code",
   "execution_count": 6,
   "id": "b7d80abb-9f9f-4c20-a564-67745118d34b",
   "metadata": {},
   "outputs": [
    {
     "name": "stdout",
     "output_type": "stream",
     "text": [
      "436\n"
     ]
    }
   ],
   "source": [
    "import random\n",
    "\n",
    "\n",
    "# now if the fixed number is 2 and the unknown number is a random number,\n",
    "doubler = n_multiplied(2)  # return lambda x : 2 * x to doubler\n",
    "\n",
    "print(doubler(random.randint(3, 300)))"
   ]
  },
  {
   "cell_type": "markdown",
   "id": "73805447-a1ec-4ea4-b739-17cb7eb4ed90",
   "metadata": {},
   "source": [
    "Use lambda functions when an anonymous function is required for a short period of time."
   ]
  },
  {
   "cell_type": "markdown",
   "id": "a07d855c-8ccd-498d-aa15-f4741b269a97",
   "metadata": {},
   "source": [
    " "
   ]
  },
  {
   "cell_type": "markdown",
   "id": "91b48429-c4bc-479a-8167-416d1d830597",
   "metadata": {},
   "source": [
    "## Recursive Functions "
   ]
  },
  {
   "cell_type": "markdown",
   "id": "c905fb28-5b74-4417-8460-22c50e9a2ae5",
   "metadata": {},
   "source": [
    "Recursion is the process of defining something in terms of itself. A physical world example would be, to place two parallel mirrors facing each other. Any object in between them would be reflected recursively."
   ]
  },
  {
   "cell_type": "markdown",
   "id": "eff4c903-9c52-4871-a3ae-417fac356148",
   "metadata": {},
   "source": [
    "In Python, we know that a function can call other functions. It is even possible for the function to call itself. These types of construct are termed as recursive functions."
   ]
  },
  {
   "cell_type": "markdown",
   "id": "783abdda-5da2-4b7b-826a-8d9adb704e11",
   "metadata": {},
   "source": [
    "#### Advantages of Recursion\n",
    "- Recursive functions make the code look clean and elegant.\n",
    "- A complex task can be broken down into simpler sub-problems using recursion.\n",
    "- Sequence generation is easier with recursion than using some nested iteration.\n",
    "\n",
    "#### Disadvantages of Recursion\n",
    "- Sometimes the logic behind recursion is hard to follow through.\n",
    "- Recursive calls are expensive (inefficient) as they take up a lot of memory and time.\n",
    "- Recursive functions are hard to debug."
   ]
  },
  {
   "cell_type": "markdown",
   "id": "e47bb61b-67da-42c1-baf2-e0eb5c297a52",
   "metadata": {},
   "source": [
    "### Example - Factorial Calculator "
   ]
  },
  {
   "cell_type": "code",
   "execution_count": 7,
   "id": "3e5f7efb-0261-4c92-a76c-4905add9332d",
   "metadata": {},
   "outputs": [],
   "source": [
    "fact_res_one = [0, 1]\n",
    "\n",
    "def factorial(x):\n",
    "    \"\"\"This is a recursive function\n",
    "    to find the factorial of an integer\"\"\"\n",
    "\n",
    "    if x in fact_res_one:\n",
    "        return 1\n",
    "    else:\n",
    "        return (x * factorial(x-1))"
   ]
  },
  {
   "cell_type": "code",
   "execution_count": 8,
   "id": "cdf4a0ed-7c60-4da2-9ac8-75452482499e",
   "metadata": {},
   "outputs": [
    {
     "name": "stdout",
     "output_type": "stream",
     "text": [
      "The factorial of 12 is 479001600\n"
     ]
    }
   ],
   "source": [
    "num = 12\n",
    "print(\"The factorial of\", num, \"is\", factorial(num))"
   ]
  },
  {
   "cell_type": "code",
   "execution_count": null,
   "id": "65a5c70b-daf9-4f40-9df7-d8c2dee1944f",
   "metadata": {},
   "outputs": [],
   "source": []
  }
 ],
 "metadata": {
  "kernelspec": {
   "display_name": "Python 3 (ipykernel)",
   "language": "python",
   "name": "python3"
  },
  "language_info": {
   "codemirror_mode": {
    "name": "ipython",
    "version": 3
   },
   "file_extension": ".py",
   "mimetype": "text/x-python",
   "name": "python",
   "nbconvert_exporter": "python",
   "pygments_lexer": "ipython3",
   "version": "3.10.5"
  }
 },
 "nbformat": 4,
 "nbformat_minor": 5
}
