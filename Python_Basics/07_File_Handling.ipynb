{
 "cells": [
  {
   "cell_type": "markdown",
   "id": "1a879b31",
   "metadata": {},
   "source": [
    "**Table of contents**<a id='toc0_'></a>    \n",
    "- [Opening Files](#toc1_)    \n",
    "- [Handling Text Files](#toc2_)    \n",
    "    - [Reading a File](#toc2_1_1_)    \n",
    "    - [Reading Only Some Parts of a File](#toc2_1_2_)    \n",
    "    - [Writing to a File](#toc2_1_3_)    \n",
    "    - [Manipulating the Cursor Position](#toc2_1_4_)    \n",
    "- [Working with csv Files](#toc3_)    \n",
    "    - [Reading from a csv file](#toc3_1_1_)    \n",
    "    - [Writing to a csv file](#toc3_1_2_)    \n",
    "\n",
    "<!-- vscode-jupyter-toc-config\n",
    "\tnumbering=false\n",
    "\tanchor=true\n",
    "\tflat=false\n",
    "\tminLevel=2\n",
    "\tmaxLevel=4\n",
    "\t/vscode-jupyter-toc-config -->\n",
    "<!-- THIS CELL WILL BE REPLACED ON TOC UPDATE. DO NOT WRITE YOUR TEXT IN THIS CELL -->"
   ]
  },
  {
   "cell_type": "markdown",
   "metadata": {},
   "source": [
    "## <a id='toc1_'></a>[Opening Files](#toc0_)"
   ]
  },
  {
   "attachments": {},
   "cell_type": "markdown",
   "id": "2f30ce12-6c4d-4172-912d-bdf599ee4505",
   "metadata": {},
   "source": [
    "The function mainly used for working with files in Python is the `open()` function. It takes two parameters; **filename/filepath**, and **mode**."
   ]
  },
  {
   "attachments": {},
   "cell_type": "markdown",
   "id": "a4875ff7-2259-4618-8cd2-c07df5f5bcdc",
   "metadata": {},
   "source": [
    "There are four different modes for opening a file:\n",
    "\n",
    "- `r` Read : Default value. Opens a file for reading, returns an error if the file does not exist.\n",
    "\n",
    "- `a` Append : Opens a file for appending, creates the file if it does not exist. Appends to the end of the file.\n",
    "\n",
    "- `w` Write : Opens a file for writing, creates the file if it does not exist. Overwrites the content of the file, So be cautious.\n",
    "\n",
    "- `x` Create : Creates the specified file, returns an error if the file exists.\n",
    "\n",
    "In addition you can specify if the file should be handled as binary or text mode:\n",
    "\n",
    "- `t` Text : Default value. Text mode\n",
    "\n",
    "- `b` Binary : Binary mode (e.g. images)"
   ]
  },
  {
   "attachments": {},
   "cell_type": "markdown",
   "id": "ff05f827-253f-4d70-8597-90c0d221903b",
   "metadata": {},
   "source": [
    "One thing to note is, If you open a file with `open()` you have to close it with `close()` once you've finished."
   ]
  },
  {
   "cell_type": "markdown",
   "id": "54b703fb",
   "metadata": {},
   "source": [
    "We can also use `with open()` to open a file. This offers some advantages over `open()`, e.g., you won't have to close a file manually. Also the code looks neat as the code block concerning interaction with the file is indented inside the `with open()` block."
   ]
  },
  {
   "cell_type": "markdown",
   "id": "0ba4947b",
   "metadata": {},
   "source": [
    "## <a id='toc2_'></a>[Handling Text Files](#toc0_)"
   ]
  },
  {
   "cell_type": "markdown",
   "metadata": {},
   "source": [
    "#### <a id='toc2_1_1_'></a>[Reading a File](#toc0_)"
   ]
  },
  {
   "attachments": {},
   "cell_type": "markdown",
   "id": "bef96bb0-3c96-4079-a783-eeebdfb81907",
   "metadata": {},
   "source": [
    "The `open()` function returns a file object, which has a `read()` method for reading the content of the file."
   ]
  },
  {
   "cell_type": "code",
   "execution_count": 1,
   "id": "482c0b4e",
   "metadata": {},
   "outputs": [
    {
     "name": "stdout",
     "output_type": "stream",
     "text": [
      "The Child And The Candle\n",
      "Allama Iqbal\n",
      "\n",
      "O Child with moth-like nature , \"How strange that\n",
      "You keep gazing at the flame of the candle for hours\n",
      "What is this movement, when you are in my lap?\n",
      "Are you intending to embrace the light?\n",
      "Though your tiny heart is surprised at this spectacle\n",
      "But this is recognition of some object already seen!\n",
      "The candle is but a flame, you are the Light embodied\n",
      "Ah! In this assembly that is manifest, you are concealed\n",
      "It is not known why the Nature's hand made it manifest!\n",
      "And concealed you in the dark soil's mantle\n",
      "Your light has been concealed under the veil of Intellect! \n",
      "The veil of Cognition is a mere mist to the wise eye!\n",
      "\n",
      "Sir Muhammad Iqbal, KCSI (9 November 1877 – 21 April 1938).\n"
     ]
    }
   ],
   "source": [
    "with open(\"exFile.txt\", \"rt\") as demotext:\n",
    "    print(demotext.read())"
   ]
  },
  {
   "cell_type": "markdown",
   "metadata": {},
   "source": [
    "#### <a id='toc2_1_2_'></a>[Reading Only Some Parts of a File](#toc0_)"
   ]
  },
  {
   "attachments": {},
   "cell_type": "markdown",
   "id": "ba064779-bee6-4e01-a0b4-a52d73df5223",
   "metadata": {},
   "source": [
    "- Read a specified number of characters "
   ]
  },
  {
   "cell_type": "code",
   "execution_count": 2,
   "id": "a1d03ee6-1684-4ba6-9126-4a48475630b4",
   "metadata": {},
   "outputs": [
    {
     "name": "stdout",
     "output_type": "stream",
     "text": [
      "The Child \n"
     ]
    }
   ],
   "source": [
    "with open(\"exFile.txt\", \"r\") as demotext:\n",
    "    print(\n",
    "        demotext.read(10)\n",
    "    )  # Read 10 characters and set the cursor at last read position."
   ]
  },
  {
   "attachments": {},
   "cell_type": "markdown",
   "id": "d5962a1e-8770-4184-b98f-1718b5fb8fcf",
   "metadata": {},
   "source": [
    "- Read a line"
   ]
  },
  {
   "cell_type": "code",
   "execution_count": 3,
   "id": "b9b17f8c-b2b6-418e-b205-245bc1ae56e3",
   "metadata": {},
   "outputs": [
    {
     "name": "stdout",
     "output_type": "stream",
     "text": [
      "The Child And The Candle\n",
      "\n"
     ]
    }
   ],
   "source": [
    "with open(\"exFile.txt\", \"r\") as demotext:\n",
    "    print(demotext.readline())  # Read a Line and set the cursor at the end of the line."
   ]
  },
  {
   "attachments": {},
   "cell_type": "markdown",
   "id": "1202f341-f209-43d5-ba65-a8311923669d",
   "metadata": {},
   "source": [
    "- Read multiple lines"
   ]
  },
  {
   "cell_type": "code",
   "execution_count": 4,
   "id": "85590346-b46b-430d-91fc-945234d193c5",
   "metadata": {},
   "outputs": [
    {
     "name": "stdout",
     "output_type": "stream",
     "text": [
      "The Child And The Candle\n",
      "\n",
      "Allama Iqbal\n",
      "\n"
     ]
    }
   ],
   "source": [
    "with open(\"exFile.txt\", \"r\") as demotext:\n",
    "    print(demotext.readline())\n",
    "    print(demotext.readline())"
   ]
  },
  {
   "attachments": {},
   "cell_type": "markdown",
   "id": "1068f61c-f734-4016-a95a-d8092028c7b4",
   "metadata": {},
   "source": [
    "- Read all the lines "
   ]
  },
  {
   "cell_type": "code",
   "execution_count": 5,
   "id": "3ad39ae8-c0c4-4240-a6af-004e53898c5f",
   "metadata": {},
   "outputs": [
    {
     "name": "stdout",
     "output_type": "stream",
     "text": [
      "['The Child And The Candle\\n', 'Allama Iqbal\\n', '\\n', 'O Child with moth-like nature , \"How strange that\\n', 'You keep gazing at the flame of the candle for hours\\n', 'What is this movement, when you are in my lap?\\n', 'Are you intending to embrace the light?\\n', 'Though your tiny heart is surprised at this spectacle\\n', 'But this is recognition of some object already seen!\\n', 'The candle is but a flame, you are the Light embodied\\n', 'Ah! In this assembly that is manifest, you are concealed\\n', \"It is not known why the Nature's hand made it manifest!\\n\", \"And concealed you in the dark soil's mantle\\n\", 'Your light has been concealed under the veil of Intellect! \\n', 'The veil of Cognition is a mere mist to the wise eye!\\n', '\\n', 'Sir Muhammad Iqbal, KCSI (9 November 1877 – 21 April 1938).']\n"
     ]
    }
   ],
   "source": [
    "with open(\"exFile.txt\", \"r\") as demotext:\n",
    "    print(demotext.readlines())  # Reads all the lines and returns them as a list."
   ]
  },
  {
   "cell_type": "markdown",
   "id": "26862768",
   "metadata": {},
   "source": [
    " "
   ]
  },
  {
   "cell_type": "markdown",
   "metadata": {},
   "source": [
    "#### <a id='toc2_1_3_'></a>[Writing to a File](#toc0_)"
   ]
  },
  {
   "attachments": {},
   "cell_type": "markdown",
   "id": "f79d53ba-f3b7-4418-b49b-1436e3a03078",
   "metadata": {},
   "source": [
    "- Appending "
   ]
  },
  {
   "cell_type": "code",
   "execution_count": 6,
   "id": "66cfff72-1aa5-41f5-85ac-b511dda8d460",
   "metadata": {},
   "outputs": [
    {
     "name": "stdout",
     "output_type": "stream",
     "text": [
      "The Child And The Candle\n",
      "Allama Iqbal\n",
      "\n",
      "O Child with moth-like nature , \"How strange that\n",
      "You keep gazing at the flame of the candle for hours\n",
      "What is this movement, when you are in my lap?\n",
      "Are you intending to embrace the light?\n",
      "Though your tiny heart is surprised at this spectacle\n",
      "But this is recognition of some object already seen!\n",
      "The candle is but a flame, you are the Light embodied\n",
      "Ah! In this assembly that is manifest, you are concealed\n",
      "It is not known why the Nature's hand made it manifest!\n",
      "And concealed you in the dark soil's mantle\n",
      "Your light has been concealed under the veil of Intellect! \n",
      "The veil of Cognition is a mere mist to the wise eye!\n",
      "\n",
      "Sir Muhammad Iqbal, KCSI (9 November 1877 – 21 April 1938).\n",
      "\n",
      "Sir Muhammad Iqbal, KCSI (9 November 1877 – 21 April 1938).\n"
     ]
    }
   ],
   "source": [
    "with open(\"exFile.txt\", \"a\") as demotext:\n",
    "    demotext.write(\"\\n\\nSir Muhammad Iqbal, KCSI (9 November 1877 – 21 April 1938).\")\n",
    "with open(\"exFile.txt\", \"r\") as demotext:\n",
    "    print(demotext.read())"
   ]
  },
  {
   "cell_type": "markdown",
   "id": "270a7d83",
   "metadata": {},
   "source": [
    " "
   ]
  },
  {
   "cell_type": "markdown",
   "metadata": {},
   "source": [
    "#### <a id='toc2_1_4_'></a>[Manipulating the Cursor Position](#toc0_)"
   ]
  },
  {
   "cell_type": "code",
   "execution_count": 7,
   "id": "719a8ec6-bbae-4bf5-98ff-76c31f2f3b14",
   "metadata": {},
   "outputs": [
    {
     "data": {
      "text/plain": [
       "'The Child '"
      ]
     },
     "execution_count": 7,
     "metadata": {},
     "output_type": "execute_result"
    }
   ],
   "source": [
    "demotext = open(\"exFile.txt\", \"r\")\n",
    "demotext.read(10)"
   ]
  },
  {
   "attachments": {},
   "cell_type": "markdown",
   "id": "cc8d4669-92d8-432a-9eb1-456216261040",
   "metadata": {},
   "source": [
    "- See the current position of the cursor"
   ]
  },
  {
   "cell_type": "code",
   "execution_count": 8,
   "id": "8d77e4ff-27e5-4f43-bbdc-2870e5a71384",
   "metadata": {},
   "outputs": [
    {
     "data": {
      "text/plain": [
       "10"
      ]
     },
     "execution_count": 8,
     "metadata": {},
     "output_type": "execute_result"
    }
   ],
   "source": [
    "demotext.tell()"
   ]
  },
  {
   "attachments": {},
   "cell_type": "markdown",
   "id": "98209980-7f4c-4ea0-9cdb-d56536e76b18",
   "metadata": {},
   "source": [
    "- Change the position of the cursor to a specific location "
   ]
  },
  {
   "cell_type": "code",
   "execution_count": 9,
   "id": "1563d46b-a2cd-473b-a191-db32cc408325",
   "metadata": {},
   "outputs": [
    {
     "data": {
      "text/plain": [
       "'Allama Iqbal\\n'"
      ]
     },
     "execution_count": 9,
     "metadata": {},
     "output_type": "execute_result"
    }
   ],
   "source": [
    "demotext.seek(25)\n",
    "demotext.read(13)"
   ]
  },
  {
   "cell_type": "code",
   "execution_count": 10,
   "id": "c1a0eb70",
   "metadata": {},
   "outputs": [
    {
     "data": {
      "text/plain": [
       "0"
      ]
     },
     "execution_count": 10,
     "metadata": {},
     "output_type": "execute_result"
    }
   ],
   "source": [
    "demotext.seek(0)  # go to the start of the file\n",
    "demotext.tell()  # confirming the cursor position"
   ]
  },
  {
   "cell_type": "markdown",
   "metadata": {},
   "source": [
    "## <a id='toc3_'></a>[Working with csv Files](#toc0_)"
   ]
  },
  {
   "cell_type": "code",
   "execution_count": 11,
   "id": "33721a55",
   "metadata": {},
   "outputs": [],
   "source": [
    "# Importing csv module\n",
    "import csv"
   ]
  },
  {
   "cell_type": "markdown",
   "metadata": {},
   "source": [
    "#### <a id='toc3_1_1_'></a>[Reading from a csv file](#toc0_)"
   ]
  },
  {
   "cell_type": "code",
   "execution_count": 12,
   "id": "bd1fa3ef-5a99-496f-b3c9-1822dd0e5d2f",
   "metadata": {},
   "outputs": [],
   "source": [
    "def read_csv_file(filename):\n",
    "    with open(filename, \"r\") as demo_csv_file:\n",
    "        # Instantiating a reader object which will iterate over lines in the given csv file\n",
    "        csv_reader = csv.reader(demo_csv_file)\n",
    "\n",
    "        # csvreader.__next__() is usually called as next(reader_obj) and returns the next row of the reader object\n",
    "        header_row = next(csv_reader)\n",
    "\n",
    "        # Reading the first 7 data rows\n",
    "        data_rows = []\n",
    "        for i in range(7):\n",
    "            try:\n",
    "                data_rows.append(next(csv_reader))\n",
    "            except:\n",
    "                break\n",
    "\n",
    "        # printing the column names\n",
    "        for col_name in header_row:\n",
    "            print(col_name, end=\"\\t\")\n",
    "        print(\"\\n\")\n",
    "\n",
    "        # printing data rows\n",
    "        for row in data_rows:\n",
    "            for col in row:\n",
    "                print(col, end=\"\\t\")\n",
    "            print(\"\\n\")"
   ]
  },
  {
   "cell_type": "code",
   "execution_count": 13,
   "id": "248ba3c9",
   "metadata": {},
   "outputs": [
    {
     "name": "stdout",
     "output_type": "stream",
     "text": [
      "Name\tBatch\tDepartment\tCGPA\t\n",
      "\n",
      "Harun\t2014\tETE\t8.5\t\n",
      "\n",
      "Ananta\t2015\tEEE\t8\t\n",
      "\n",
      "Shawon\t2017\tPME\t8\t\n",
      "\n"
     ]
    }
   ],
   "source": [
    "read_csv_file(\"exCSV.csv\")"
   ]
  },
  {
   "cell_type": "markdown",
   "metadata": {},
   "source": [
    "#### <a id='toc3_1_2_'></a>[Writing to a csv file](#toc0_)"
   ]
  },
  {
   "attachments": {},
   "cell_type": "markdown",
   "id": "216e72ff-d0f0-4575-bd74-cf46a37ca208",
   "metadata": {},
   "source": [
    "- Writing data from a list "
   ]
  },
  {
   "cell_type": "code",
   "execution_count": 14,
   "id": "c060a411-cbe6-4fef-9828-6456a5b7e8aa",
   "metadata": {},
   "outputs": [],
   "source": [
    "import csv\n",
    "\n",
    "with open(\"exCSV.csv\", \"w\") as write_to_csv:\n",
    "    # field/column names\n",
    "    fields = [\"Name\", \"Batch\", \"Department\", \"CGPA\"]\n",
    "\n",
    "    # row data corresponding to the fields\n",
    "    data_rows = [\n",
    "        [\"Palas\", \"2017\", \"ME\", \"9.8\"],\n",
    "        [\"Faisal\", \"2017\", \"EEE\", \"7\"],\n",
    "        [\"Arif\", \"2016\", \"CSE\", \"8\"],\n",
    "    ]\n",
    "\n",
    "    # csvwriter object\n",
    "    csv_writer = csv.writer(write_to_csv)\n",
    "\n",
    "    # Writing the first row (which contins all field names)\n",
    "    csv_writer.writerow(fields)\n",
    "\n",
    "    # Writing multiple rows (The data rows)\n",
    "    csv_writer.writerows(data_rows)"
   ]
  },
  {
   "cell_type": "code",
   "execution_count": 15,
   "id": "4cae9635-912a-4b5c-ad4c-dc49c1812a24",
   "metadata": {},
   "outputs": [
    {
     "name": "stdout",
     "output_type": "stream",
     "text": [
      "Name\tBatch\tDepartment\tCGPA\t\n",
      "\n",
      "Palas\t2017\tME\t9.8\t\n",
      "\n",
      "Faisal\t2017\tEEE\t7\t\n",
      "\n",
      "Arif\t2016\tCSE\t8\t\n",
      "\n"
     ]
    }
   ],
   "source": [
    "read_csv_file(\"exCSV.csv\")"
   ]
  },
  {
   "attachments": {},
   "cell_type": "markdown",
   "id": "12a7e3d8-9fd5-4f3a-bbe0-d256a4d2038a",
   "metadata": {},
   "source": [
    "- Writing data from a dictionary"
   ]
  },
  {
   "cell_type": "code",
   "execution_count": 16,
   "id": "bde5c65a-510c-4eed-aba2-861f5d456685",
   "metadata": {},
   "outputs": [],
   "source": [
    "import csv\n",
    "\n",
    "with open(\"exCSV.csv\", \"w\") as write_to_csv:\n",
    "    # field/column names\n",
    "    fields = [\"Name\", \"Batch\", \"Department\", \"CGPA\"]\n",
    "\n",
    "    # row data as dictionary objects corresponding to the fields\n",
    "    data_dict_rows = [\n",
    "        {\"Name\": \"Harun\", \"Batch\": \"2014\", \"Department\": \"ETE\", \"CGPA\": \"8.5\"},\n",
    "        {\"Name\": \"Ananta\", \"Batch\": \"2015\", \"Department\": \"EEE\", \"CGPA\": \"8\"},\n",
    "        {\"Name\": \"Shawon\", \"Batch\": \"2017\", \"Department\": \"PME\", \"CGPA\": \"8\"},\n",
    "    ]\n",
    "\n",
    "    # csv dictionary writer object\n",
    "    csv_dict_writer = csv.DictWriter(write_to_csv, fieldnames=fields)\n",
    "\n",
    "    # Writing the headers i.e. the column names\n",
    "    csv_dict_writer.writeheader()  # doesn't take any arguments since fieldnames are already defined in the dict writer obj\n",
    "\n",
    "    # Writing the data rows\n",
    "    csv_dict_writer.writerows(data_dict_rows)"
   ]
  },
  {
   "cell_type": "code",
   "execution_count": 17,
   "id": "94e9f4c4-9dd5-42ce-ac6f-fed5a33d2d4d",
   "metadata": {},
   "outputs": [
    {
     "name": "stdout",
     "output_type": "stream",
     "text": [
      "Name\tBatch\tDepartment\tCGPA\t\n",
      "\n",
      "Harun\t2014\tETE\t8.5\t\n",
      "\n",
      "Ananta\t2015\tEEE\t8\t\n",
      "\n",
      "Shawon\t2017\tPME\t8\t\n",
      "\n"
     ]
    }
   ],
   "source": [
    "read_csv_file(\"exCSV.csv\")"
   ]
  }
 ],
 "metadata": {
  "kernelspec": {
   "display_name": "Python 3 (ipykernel)",
   "language": "python",
   "name": "python3"
  },
  "language_info": {
   "codemirror_mode": {
    "name": "ipython",
    "version": 3
   },
   "file_extension": ".py",
   "mimetype": "text/x-python",
   "name": "python",
   "nbconvert_exporter": "python",
   "pygments_lexer": "ipython3",
   "version": "3.8.15"
  }
 },
 "nbformat": 4,
 "nbformat_minor": 5
}
