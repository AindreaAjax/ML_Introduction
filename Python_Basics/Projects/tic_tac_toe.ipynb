{
 "cells": [
  {
   "cell_type": "code",
   "execution_count": 1,
   "metadata": {},
   "outputs": [],
   "source": [
    "## an attemp to recreate a project that I did back in the day\n",
    "## the engine should have medium level of intelligence and not just choosing random places"
   ]
  },
  {
   "cell_type": "code",
   "execution_count": 7,
   "metadata": {},
   "outputs": [],
   "source": [
    "def create_grid():\n",
    "    init_grid = \"\"\"\n",
    "            =====    =====    =====\n",
    "              1        2        3\n",
    "            =====    =====    =====\n",
    "              4        5        6\n",
    "            =====    =====    =====\n",
    "              7        8        9\n",
    "            =====    =====    =====\n",
    "\"\"\"\n",
    "\n",
    "    return init_grid"
   ]
  },
  {
   "cell_type": "code",
   "execution_count": 16,
   "metadata": {},
   "outputs": [],
   "source": [
    "def welcome_msg():\n",
    "    print(create_grid(), end=\"\\n\")\n",
    "    print(\"Hello! The grid for this Tic-Tac-Toe game is numbered and arranged like the this.\")\n",
    "    print(\"To choose a position you should enter the corresponding number to that position.\")\n",
    "    print(\"I (the computer engine) will be playing with the symbol 'X' and you will be playing with 'O'.\")\n",
    "    print(\"So let's get started!!\")"
   ]
  },
  {
   "cell_type": "code",
   "execution_count": 18,
   "metadata": {},
   "outputs": [],
   "source": [
    "turn_of_player = True"
   ]
  },
  {
   "cell_type": "code",
   "execution_count": 43,
   "metadata": {},
   "outputs": [],
   "source": [
    "play_positions = {key:False for key in range(1, 10)}"
   ]
  },
  {
   "cell_type": "code",
   "execution_count": 44,
   "metadata": {},
   "outputs": [],
   "source": [
    "# winning combinations\n",
    "\n",
    "row_positions = [[1, 2, 3], [4, 5, 6], [7, 8, 9]]\n",
    "column_positions = [[1, 4, 7], [2, 5, 8], [3, 6, 9]]\n",
    "diagonal_positions = [[1, 5, 9], [3, 5, 7]]"
   ]
  },
  {
   "cell_type": "code",
   "execution_count": 40,
   "metadata": {},
   "outputs": [],
   "source": [
    "user_input = None\n",
    "\n",
    "def prompt_human_player(print_if_invalid=\"Invalid input. Try again.\"):\n",
    "    global user_input\n",
    "    try:\n",
    "        user_input = int(input(\"Please choose a position between (1-9) and be sure to choose an empty space: \\t\"))\n",
    "    except:\n",
    "        print(print_if_invalid)\n",
    "        prompt_human_player()\n",
    "\n",
    "    return user_input"
   ]
  },
  {
   "cell_type": "code",
   "execution_count": 41,
   "metadata": {},
   "outputs": [
    {
     "name": "stdout",
     "output_type": "stream",
     "text": [
      "Invalid input. Try again.\n"
     ]
    }
   ],
   "source": [
    "user_input = prompt_human_player()"
   ]
  },
  {
   "cell_type": "code",
   "execution_count": 42,
   "metadata": {},
   "outputs": [
    {
     "data": {
      "text/plain": [
       "33"
      ]
     },
     "execution_count": 42,
     "metadata": {},
     "output_type": "execute_result"
    }
   ],
   "source": [
    "user_input"
   ]
  },
  {
   "cell_type": "code",
   "execution_count": null,
   "metadata": {},
   "outputs": [],
   "source": []
  },
  {
   "cell_type": "code",
   "execution_count": 15,
   "metadata": {},
   "outputs": [
    {
     "name": "stdout",
     "output_type": "stream",
     "text": [
      "\n",
      "            =====    =====    =====\n",
      "              1        2        3\n",
      "            =====    =====    =====\n",
      "              4        5        6\n",
      "            =====    =====    =====\n",
      "              7        8        9\n",
      "            =====    =====    =====\n",
      "\n",
      "Hello! The grid for this Tic-Tac-Toe game is numbered and arranged like the this.\n",
      "To choose a position you should enter the corresponding number to that position.\n",
      "I (the computer engine) will be playing with the 'X' symbol and you will be playing with 'O'.\n"
     ]
    }
   ],
   "source": [
    "welcome_msg()"
   ]
  },
  {
   "cell_type": "code",
   "execution_count": null,
   "metadata": {},
   "outputs": [],
   "source": []
  }
 ],
 "metadata": {
  "kernelspec": {
   "display_name": "ml_intro",
   "language": "python",
   "name": "python3"
  },
  "language_info": {
   "codemirror_mode": {
    "name": "ipython",
    "version": 3
   },
   "file_extension": ".py",
   "mimetype": "text/x-python",
   "name": "python",
   "nbconvert_exporter": "python",
   "pygments_lexer": "ipython3",
   "version": "3.11.4"
  },
  "orig_nbformat": 4
 },
 "nbformat": 4,
 "nbformat_minor": 2
}
