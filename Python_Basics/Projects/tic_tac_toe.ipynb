{
 "cells": [
  {
   "cell_type": "code",
   "execution_count": 2,
   "metadata": {},
   "outputs": [],
   "source": [
    "## Import statements"
   ]
  },
  {
   "cell_type": "code",
   "execution_count": 3,
   "metadata": {},
   "outputs": [],
   "source": [
    "import random"
   ]
  },
  {
   "cell_type": "code",
   "execution_count": 4,
   "metadata": {},
   "outputs": [],
   "source": [
    "## an attemp to recreate a project that I did back in the day\n",
    "## the engine should have medium level of intelligence and not just choosing random places"
   ]
  },
  {
   "cell_type": "code",
   "execution_count": 5,
   "metadata": {},
   "outputs": [
    {
     "data": {
      "text/plain": [
       "\" what to do?\\n\\n# show the welcome screen\\n# the user plays first\\n\\n\\n## Steps\\n\\n# see if any one has already won (if not continue if yes then show who has won with what combination)\\n# take user input (see if it's a valid input, if yes then place it on the board, show the grid)\\n# see if someone has already won (if not continue if yes then show who has won with what combination)\\n# computers turn (see if there are any winning combinations and if it can be blocked. \\nif yes place input there otherwise choose a random empty space or if in intelligent mode try to use one \\nof the winning combinations)\\n# continue playing until one wins or it's a draw (when no winning combination is matched and also all \\n9 spaces are occupied)\\n\\n\""
      ]
     },
     "execution_count": 5,
     "metadata": {},
     "output_type": "execute_result"
    }
   ],
   "source": [
    "\"\"\" what to do?\n",
    "\n",
    "# show the welcome screen\n",
    "# the user plays first\n",
    "\n",
    "\n",
    "## Steps\n",
    "\n",
    "# see if any one has already won (if not continue if yes then show who has won with what combination)\n",
    "# take user input (see if it's a valid input, if yes then place it on the board, show the grid)\n",
    "# see if someone has already won (if not continue if yes then show who has won with what combination)\n",
    "# computers turn (see if there are any winning combinations and if it can be blocked. \n",
    "if yes place input there otherwise choose a random empty space or if in intelligent mode try to use one \n",
    "of the winning combinations)\n",
    "# continue playing until one wins or it's a draw (when no winning combination is matched and also all \n",
    "9 spaces are occupied)\n",
    "\n",
    "\"\"\""
   ]
  },
  {
   "cell_type": "code",
   "execution_count": 6,
   "metadata": {},
   "outputs": [],
   "source": [
    "def create_grid():\n",
    "    init_grid = \"\"\"\n",
    "            =====    =====    =====\n",
    "              1        2        3\n",
    "            =====    =====    =====\n",
    "              4        5        6\n",
    "            =====    =====    =====\n",
    "              7        8        9\n",
    "            =====    =====    =====\n",
    "\"\"\"\n",
    "\n",
    "    return init_grid"
   ]
  },
  {
   "cell_type": "code",
   "execution_count": 7,
   "metadata": {},
   "outputs": [],
   "source": [
    "def welcome_msg(grid):\n",
    "    print(grid, end=\"\\n\")\n",
    "\n",
    "    print(\n",
    "        \"Hello! The grid for this Tic-Tac-Toe game is numbered and arranged like the this.\"\n",
    "    )\n",
    "    print(\n",
    "        \"To choose a position you should enter the corresponding number to that position.\"\n",
    "    )\n",
    "    print(\n",
    "        \"I (the computer engine) will be playing with the symbol 'X' and you (the player) will be playing with the symbol 'O'.\"\n",
    "    )\n",
    "    print(\"So let's get started!!\")"
   ]
  },
  {
   "cell_type": "code",
   "execution_count": 8,
   "metadata": {},
   "outputs": [],
   "source": [
    "def prompt_human_player(invalid=False):\n",
    "    if invalid:\n",
    "        print(\"Invalid input. Try again.\")\n",
    "\n",
    "    input_from_user = input(\n",
    "        \"Please choose a position between (1-9) and be sure to choose an empty space: \\t\"\n",
    "    )\n",
    "    return input_from_user"
   ]
  },
  {
   "cell_type": "code",
   "execution_count": 9,
   "metadata": {},
   "outputs": [],
   "source": [
    "# check if user input is valid\n",
    "# invalid if 1) not a number 2) the input is not a valid key to the played positions dict\n",
    "# 3) the position is not empty\n",
    "\n",
    "\n",
    "def is_input_valid(user_input):\n",
    "    global played_positions\n",
    "    try:\n",
    "        user_input = int(user_input)\n",
    "    except:\n",
    "        return False\n",
    "\n",
    "    if (played_positions.get(user_input) is False) and (\n",
    "        played_positions.get(user_input) is not None\n",
    "    ):\n",
    "        return user_input\n",
    "    else:\n",
    "        return False"
   ]
  },
  {
   "cell_type": "code",
   "execution_count": 10,
   "metadata": {},
   "outputs": [],
   "source": [
    "# prompt human player until a valid input is chosen\n",
    "\n",
    "\n",
    "def human_player_input():\n",
    "    input_from_user = prompt_human_player()\n",
    "\n",
    "    while is_input_valid(input_from_user) is False:\n",
    "        input_from_user = prompt_human_player(True)\n",
    "\n",
    "    return int(input_from_user)"
   ]
  },
  {
   "cell_type": "code",
   "execution_count": 11,
   "metadata": {},
   "outputs": [],
   "source": [
    "# if turn of player then, symbol: \"O\" and if turn of engine symbol: \"X\"\n",
    "\n",
    "\n",
    "def place_input_on_the_playing_grid(symbol_to_place: str, pos_to_place_symbol_on: int):\n",
    "    global playing_grid, played_positions\n",
    "    playing_grid = playing_grid.replace(f\"{pos_to_place_symbol_on}\", symbol_to_place)\n",
    "    # we also need to update the played_positions dictionary\n",
    "    played_positions.update({pos_to_place_symbol_on: symbol_to_place})\n",
    "    return playing_grid"
   ]
  },
  {
   "cell_type": "code",
   "execution_count": 12,
   "metadata": {},
   "outputs": [],
   "source": [
    "# but before we move on we need to check if the game is drawn or\n",
    "# whether anyone has already won (someone has won if any of the winning combinations has the same\n",
    "# value at all positions i.e, either \"X\" or, \"O\"\n",
    "\n",
    "\n",
    "def check_if_draw(played_positions_dict):\n",
    "    # if anyone hasn't won and all the positions are occupied\n",
    "    \"\"\"\n",
    "    Returns True | False (bool)\n",
    "    \"\"\"\n",
    "    if list(played_positions_dict.values()).count(False) == 0:\n",
    "        return True\n",
    "\n",
    "    return False\n",
    "\n",
    "\n",
    "def check_who_won(played_positions_dict):\n",
    "    \"\"\"\n",
    "    Returns (\"Player\", winning_combo) | (\"Engine\", winning_combo) | None (nonetype)\n",
    "    \"\"\"\n",
    "    global winning_combinations\n",
    "\n",
    "    for ith_combo in winning_combinations:\n",
    "        if [played_positions_dict[pos] for pos in ith_combo].count(\"O\") == 3:\n",
    "            return (\"Player\", ith_combo)\n",
    "        elif [played_positions_dict[pos] for pos in ith_combo].count(\"X\") == 3:\n",
    "            return (\"Engine\", ith_combo)\n",
    "\n",
    "    return None"
   ]
  },
  {
   "cell_type": "code",
   "execution_count": 13,
   "metadata": {},
   "outputs": [],
   "source": [
    "def check_whether_to_continue_playing(played_positions_dict):\n",
    "    \"\"\"\n",
    "    Returns (\"Draw\", \"\") | (\"Player\", winning_combo) | (\"Engine\", winning_combo) | (\"Continue\", \"\")\n",
    "    \"\"\"\n",
    "    # if there hasn't been at least 5 rounds we don't need to check if there's a winner or not\n",
    "    if list(played_positions_dict.values()).count(False) >= 5:\n",
    "        return (\"Continue\", \"\")\n",
    "\n",
    "    # if no one has won check if draw\n",
    "    who_won = check_who_won(played_positions_dict)\n",
    "    if who_won == None:\n",
    "        if check_if_draw(played_positions_dict) == True:\n",
    "            return (\"Draw\", \"\")\n",
    "        else:\n",
    "            return (\"Continue\", \"\")\n",
    "    else:\n",
    "        return who_won"
   ]
  },
  {
   "cell_type": "code",
   "execution_count": 14,
   "metadata": {},
   "outputs": [],
   "source": [
    "# place at any empty position\n",
    "\n",
    "\n",
    "def novice_engine_chooses(played_positions_dict):\n",
    "    return random.choice(\n",
    "        [key for key, value in played_positions_dict.items() if value == False]\n",
    "    )"
   ]
  },
  {
   "cell_type": "code",
   "execution_count": 15,
   "metadata": {},
   "outputs": [],
   "source": [
    "# place where the players winning combination can be blocked else choose randomly\n",
    "\n",
    "\n",
    "def beginner_engine_chooses(played_positions_dict):\n",
    "    global winning_combinations\n",
    "\n",
    "    for ith_combo in winning_combinations:\n",
    "        vals_in_combo = [played_positions_dict[pos] for pos in ith_combo]\n",
    "        if vals_in_combo.count(\"O\") == 2 and vals_in_combo.count(False) == 1:\n",
    "            # if there's no empty position in that combo then no need to panic\n",
    "            return [pos for pos in ith_combo if played_positions[pos] == False][0]\n",
    "\n",
    "    return random.choice(\n",
    "        [key for key, value in played_positions_dict.items() if value == False]\n",
    "    )"
   ]
  },
  {
   "cell_type": "code",
   "execution_count": 16,
   "metadata": {},
   "outputs": [],
   "source": [
    "# place where the players winning combination can be blocked\n",
    "# or, place where the engine has a winning combination\n",
    "# or, where the engine can have a winning chance (i.e, when only 1 \"X\" and 0 \"O\" in a winning combo)\n",
    "\n",
    "\n",
    "def competent_engine_chooses(played_positions_dict):\n",
    "    global winning_combinations\n",
    "\n",
    "    # first priority: block players winning\n",
    "    for ith_combo in winning_combinations:\n",
    "        vals_in_combo = [played_positions_dict[pos] for pos in ith_combo]\n",
    "        if vals_in_combo.count(\"O\") == 2 and vals_in_combo.count(False) == 1:\n",
    "            # if there's no empty position in that combo then no need to panic\n",
    "            return [pos for pos in ith_combo if played_positions[pos] == False][0]\n",
    "\n",
    "    # second priority: choose where the engine has a winning combo\n",
    "    for ith_combo in winning_combinations:\n",
    "        vals_in_combo = [played_positions_dict[pos] for pos in ith_combo]\n",
    "        if vals_in_combo.count(\"X\") == 2 and vals_in_combo.count(False) == 1:\n",
    "            # if there's no empty position in that combo then no need to panic\n",
    "            return [pos for pos in ith_combo if played_positions[pos] == False][0]\n",
    "\n",
    "    # third priority: choose where the engine has a winning chance in the next round\n",
    "    # i.e, when only 1 \"X\" and 0 \"O\" in a winning combo\n",
    "    for ith_combo in winning_combinations:\n",
    "        vals_in_combo = [played_positions_dict[pos] for pos in ith_combo]\n",
    "        if vals_in_combo.count(\"X\") == 1 and vals_in_combo.count(\"O\") == 0:\n",
    "            return random.choice(\n",
    "                [pos for pos in ith_combo if played_positions[pos] == False]\n",
    "            )\n",
    "\n",
    "    # else, choose randomly\n",
    "    return random.choice(\n",
    "        [key for key, value in played_positions_dict.items() if value == False]\n",
    "    )"
   ]
  },
  {
   "cell_type": "code",
   "execution_count": null,
   "metadata": {},
   "outputs": [],
   "source": []
  }
 ],
 "metadata": {
  "kernelspec": {
   "display_name": "ml_intro",
   "language": "python",
   "name": "python3"
  },
  "language_info": {
   "codemirror_mode": {
    "name": "ipython",
    "version": 3
   },
   "file_extension": ".py",
   "mimetype": "text/x-python",
   "name": "python",
   "nbconvert_exporter": "python",
   "pygments_lexer": "ipython3",
   "version": "3.11.4"
  },
  "orig_nbformat": 4
 },
 "nbformat": 4,
 "nbformat_minor": 2
}
