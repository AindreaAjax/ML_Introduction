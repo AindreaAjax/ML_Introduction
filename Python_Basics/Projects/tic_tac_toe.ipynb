{
 "cells": [
  {
   "cell_type": "code",
   "execution_count": 106,
   "metadata": {},
   "outputs": [],
   "source": [
    "## Import statements"
   ]
  },
  {
   "cell_type": "code",
   "execution_count": 107,
   "metadata": {},
   "outputs": [],
   "source": [
    "import random"
   ]
  },
  {
   "cell_type": "code",
   "execution_count": 53,
   "metadata": {},
   "outputs": [],
   "source": [
    "## an attemp to recreate a project that I did back in the day\n",
    "## the engine should have medium level of intelligence and not just choosing random places"
   ]
  },
  {
   "cell_type": "code",
   "execution_count": 54,
   "metadata": {},
   "outputs": [
    {
     "data": {
      "text/plain": [
       "\" what to do?\\n\\n# show the welcome screen\\n# the user plays first\\n\\n\\n## Steps\\n\\n# see if any one has already won (if not continue if yes then show who has won with what combination)\\n# take user input (see if it's a valid input, if yes then place it on the board, show the grid)\\n# see if someone has already won (if not continue if yes then show who has won with what combination)\\n# computers turn (see if there are any winning combinations and if it can be blocked. \\nif yes place input there otherwise choose a random empty space or if in intelligent mode try to use one \\nof the winning combinations)\\n# continue playing until one wins or it's a draw (when no winning combination is matched and also all \\n9 spaces are occupied)\\n\\n\""
      ]
     },
     "execution_count": 54,
     "metadata": {},
     "output_type": "execute_result"
    }
   ],
   "source": [
    "\"\"\" what to do?\n",
    "\n",
    "# show the welcome screen\n",
    "# the user plays first\n",
    "\n",
    "\n",
    "## Steps\n",
    "\n",
    "# see if any one has already won (if not continue if yes then show who has won with what combination)\n",
    "# take user input (see if it's a valid input, if yes then place it on the board, show the grid)\n",
    "# see if someone has already won (if not continue if yes then show who has won with what combination)\n",
    "# computers turn (see if there are any winning combinations and if it can be blocked. \n",
    "if yes place input there otherwise choose a random empty space or if in intelligent mode try to use one \n",
    "of the winning combinations)\n",
    "# continue playing until one wins or it's a draw (when no winning combination is matched and also all \n",
    "9 spaces are occupied)\n",
    "\n",
    "\"\"\""
   ]
  },
  {
   "cell_type": "code",
   "execution_count": 55,
   "metadata": {},
   "outputs": [],
   "source": [
    "def create_grid():\n",
    "    init_grid = \"\"\"\n",
    "            =====    =====    =====\n",
    "              1        2        3\n",
    "            =====    =====    =====\n",
    "              4        5        6\n",
    "            =====    =====    =====\n",
    "              7        8        9\n",
    "            =====    =====    =====\n",
    "\"\"\"\n",
    "\n",
    "    return init_grid"
   ]
  },
  {
   "cell_type": "code",
   "execution_count": 56,
   "metadata": {},
   "outputs": [],
   "source": [
    "playing_grid = create_grid()"
   ]
  },
  {
   "cell_type": "code",
   "execution_count": 57,
   "metadata": {},
   "outputs": [],
   "source": [
    "def welcome_msg(grid):\n",
    "    print(grid, end=\"\\n\")\n",
    "\n",
    "    print(\n",
    "        \"Hello! The grid for this Tic-Tac-Toe game is numbered and arranged like the this.\"\n",
    "    )\n",
    "    print(\n",
    "        \"To choose a position you should enter the corresponding number to that position.\"\n",
    "    )\n",
    "    print(\n",
    "        \"I (the computer engine) will be playing with the symbol 'X' and you (the player) will be playing with the symbol 'O'.\"\n",
    "    )\n",
    "    print(\"So let's get started!!\")"
   ]
  },
  {
   "cell_type": "code",
   "execution_count": 58,
   "metadata": {},
   "outputs": [
    {
     "name": "stdout",
     "output_type": "stream",
     "text": [
      "\n",
      "            =====    =====    =====\n",
      "              1        2        3\n",
      "            =====    =====    =====\n",
      "              4        5        6\n",
      "            =====    =====    =====\n",
      "              7        8        9\n",
      "            =====    =====    =====\n",
      "\n",
      "Hello! The grid for this Tic-Tac-Toe game is numbered and arranged like the this.\n",
      "To choose a position you should enter the corresponding number to that position.\n",
      "I (the computer engine) will be playing with the symbol 'X' and you (the player) will be playing with the symbol 'O'.\n",
      "So let's get started!!\n"
     ]
    }
   ],
   "source": [
    "welcome_msg(playing_grid)"
   ]
  },
  {
   "cell_type": "code",
   "execution_count": 59,
   "metadata": {},
   "outputs": [],
   "source": [
    "played_positions = {key: False for key in range(1, 10)}"
   ]
  },
  {
   "cell_type": "code",
   "execution_count": 60,
   "metadata": {},
   "outputs": [],
   "source": [
    "# winning combinations\n",
    "\n",
    "row_positions = [[1, 2, 3], [4, 5, 6], [7, 8, 9]]\n",
    "column_positions = [[1, 4, 7], [2, 5, 8], [3, 6, 9]]\n",
    "diagonal_positions = [[1, 5, 9], [3, 5, 7]]\n",
    "\n",
    "winning_combinations = row_positions + column_positions + diagonal_positions"
   ]
  },
  {
   "cell_type": "code",
   "execution_count": 61,
   "metadata": {},
   "outputs": [],
   "source": [
    "turn_of_player = True"
   ]
  },
  {
   "cell_type": "code",
   "execution_count": 62,
   "metadata": {},
   "outputs": [],
   "source": [
    "def prompt_human_player(invalid=False):\n",
    "    if invalid:\n",
    "        print(\"Invalid input. Try again.\")\n",
    "\n",
    "    input_from_user = input(\n",
    "        \"Please choose a position between (1-9) and be sure to choose an empty space: \\t\"\n",
    "    )\n",
    "    return input_from_user"
   ]
  },
  {
   "cell_type": "code",
   "execution_count": 63,
   "metadata": {},
   "outputs": [],
   "source": [
    "# check if user input is valid\n",
    "# invalid if 1) not a number 2) the input is not a valid key to the played positions dict\n",
    "# 3) the position is not empty\n",
    "\n",
    "\n",
    "def is_input_valid(user_input):\n",
    "    try:\n",
    "        user_input = int(user_input)\n",
    "    except:\n",
    "        return False\n",
    "\n",
    "    if (played_positions.get(user_input) is False) and (\n",
    "        played_positions.get(user_input) is not None\n",
    "    ):\n",
    "        return user_input\n",
    "    else:\n",
    "        return False"
   ]
  },
  {
   "cell_type": "code",
   "execution_count": 64,
   "metadata": {},
   "outputs": [],
   "source": [
    "# prompt human player until a valid input is chosen\n",
    "\n",
    "\n",
    "def human_player_input():\n",
    "    input_from_user = prompt_human_player()\n",
    "\n",
    "    while is_input_valid(input_from_user) is False:\n",
    "        input_from_user = prompt_human_player(True)\n",
    "\n",
    "    return int(input_from_user)"
   ]
  },
  {
   "cell_type": "code",
   "execution_count": 65,
   "metadata": {},
   "outputs": [],
   "source": [
    "o = human_player_input()"
   ]
  },
  {
   "cell_type": "code",
   "execution_count": 66,
   "metadata": {},
   "outputs": [],
   "source": [
    "# if turn of player then, symbol: \"O\" and if turn of engine symbol: \"X\"\n",
    "\n",
    "def place_input_on_the_playing_grid(symbol_to_place: str, pos_to_place_symbol_on: int):\n",
    "    global playing_grid, played_positions\n",
    "    playing_grid = playing_grid.replace(f\"{pos_to_place_symbol_on}\", symbol_to_place)\n",
    "    # we also need to update the played_positions dictionary\n",
    "    played_positions.update({pos_to_place_symbol_on: symbol_to_place})\n",
    "    return playing_grid"
   ]
  },
  {
   "cell_type": "code",
   "execution_count": 67,
   "metadata": {},
   "outputs": [],
   "source": [
    "_ = place_input_on_the_playing_grid(\"O\", o)"
   ]
  },
  {
   "cell_type": "code",
   "execution_count": 68,
   "metadata": {},
   "outputs": [
    {
     "name": "stdout",
     "output_type": "stream",
     "text": [
      "\n",
      "            =====    =====    =====\n",
      "              1        X        3\n",
      "            =====    =====    =====\n",
      "              4        5        6\n",
      "            =====    =====    =====\n",
      "              7        8        9\n",
      "            =====    =====    =====\n",
      "\n"
     ]
    }
   ],
   "source": [
    "print(playing_grid)"
   ]
  },
  {
   "cell_type": "code",
   "execution_count": 69,
   "metadata": {},
   "outputs": [
    {
     "data": {
      "text/plain": [
       "{1: False,\n",
       " 2: 'X',\n",
       " 3: False,\n",
       " 4: False,\n",
       " 5: False,\n",
       " 6: False,\n",
       " 7: False,\n",
       " 8: False,\n",
       " 9: False}"
      ]
     },
     "execution_count": 69,
     "metadata": {},
     "output_type": "execute_result"
    }
   ],
   "source": [
    "played_positions"
   ]
  },
  {
   "cell_type": "code",
   "execution_count": 70,
   "metadata": {},
   "outputs": [],
   "source": [
    "turn_of_player = False  # means it is the turn of the engine"
   ]
  },
  {
   "cell_type": "code",
   "execution_count": 71,
   "metadata": {},
   "outputs": [],
   "source": [
    "# but before we move on we need to check if anyone has already won\n",
    "# someone has won if any of the winning combinations has the same value at all positions\n",
    "# i.e, either \"X\" or, \"O\"\n",
    "def check_if_anyone_won(played_positions_dict):\n",
    "    \"\"\"\n",
    "    Possible outcomes are, (\"Player\", winning_combo), (\"Engine\", winning_combo),\n",
    "    (\"Continue\", \"\"), or, (\"Draw\", \"\")\n",
    "    \"\"\"\n",
    "    global winning_combinations\n",
    "\n",
    "    for ith_combo in winning_combinations:\n",
    "        if [played_positions_dict[pos] for pos in ith_combo].count(\"O\") == 3:\n",
    "            return (\"Player\", ith_combo)\n",
    "        elif [played_positions_dict[pos] for pos in ith_combo].count(\"X\") == 3:\n",
    "            return (\"Engine\", ith_combo)\n",
    "    \n",
    "    if False in played_positions_dict is True:\n",
    "        return (\"Continue\", \"\")\n",
    "    else:\n",
    "        # if anyone hasn't won and all the positions are occupied\n",
    "        return (\"Draw\", \"\")"
   ]
  },
  {
   "cell_type": "code",
   "execution_count": null,
   "metadata": {},
   "outputs": [],
   "source": [
    "# place at any empty position\n",
    "\n",
    "def novice_engine_choses(played_positions_dict):\n",
    "    return random.choice([key for key, value in played_positions_dict.items() if value == False])"
   ]
  },
  {
   "cell_type": "code",
   "execution_count": null,
   "metadata": {},
   "outputs": [],
   "source": [
    "# place where the players winning combination can be blocked else choose randomly\n",
    "\n",
    "def beginner_engine_choses(played_positions_dict):\n",
    "    pass"
   ]
  },
  {
   "cell_type": "code",
   "execution_count": null,
   "metadata": {},
   "outputs": [],
   "source": []
  },
  {
   "cell_type": "code",
   "execution_count": null,
   "metadata": {},
   "outputs": [],
   "source": []
  }
 ],
 "metadata": {
  "kernelspec": {
   "display_name": "ml_intro",
   "language": "python",
   "name": "python3"
  },
  "language_info": {
   "codemirror_mode": {
    "name": "ipython",
    "version": 3
   },
   "file_extension": ".py",
   "mimetype": "text/x-python",
   "name": "python",
   "nbconvert_exporter": "python",
   "pygments_lexer": "ipython3",
   "version": "3.11.4"
  },
  "orig_nbformat": 4
 },
 "nbformat": 4,
 "nbformat_minor": 2
}
