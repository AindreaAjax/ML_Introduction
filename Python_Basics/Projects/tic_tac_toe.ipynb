{
 "cells": [
  {
   "cell_type": "code",
   "execution_count": 117,
   "metadata": {},
   "outputs": [],
   "source": [
    "## an attemp to recreate a project that I did back in the day\n",
    "## the engine should have medium level of intelligence and not just choosing random places"
   ]
  },
  {
   "cell_type": "code",
   "execution_count": 118,
   "metadata": {},
   "outputs": [],
   "source": [
    "\"\"\" what to do?\n",
    "\n",
    "# show the welcome screen\n",
    "# the user plays first\n",
    "\n",
    "\n",
    "## Steps\n",
    "\n",
    "# see if any one has already won (if not continue if yes then show who has won with what combination)\n",
    "# take user input (see if it's a valid input, if yes then place it on the board, show the grid)\n",
    "# see if someone has already won (if not continue if yes then show who has won with what combination)\n",
    "# computers turn (see if there are any winning combinations and if it can be blocked. \n",
    "if yes place input there otherwise choose a random empty space or if in intelligent mode try to use one \n",
    "of the winning combinations)\n",
    "# continue playing until one wins or it's a draw (when no winning combination is matched and also all \n",
    "9 spaces are occupied)\n",
    "\n",
    "\"\"\";"
   ]
  },
  {
   "cell_type": "code",
   "execution_count": 119,
   "metadata": {},
   "outputs": [],
   "source": [
    "def create_grid():\n",
    "    init_grid = \"\"\"\n",
    "            =====    =====    =====\n",
    "              1        2        3\n",
    "            =====    =====    =====\n",
    "              4        5        6\n",
    "            =====    =====    =====\n",
    "              7        8        9\n",
    "            =====    =====    =====\n",
    "\"\"\"\n",
    "\n",
    "    return init_grid"
   ]
  },
  {
   "cell_type": "code",
   "execution_count": 120,
   "metadata": {},
   "outputs": [],
   "source": [
    "playing_grid = create_grid()"
   ]
  },
  {
   "cell_type": "code",
   "execution_count": 121,
   "metadata": {},
   "outputs": [],
   "source": [
    "def welcome_msg():\n",
    "    global grid\n",
    "\n",
    "    print(grid, end=\"\\n\")\n",
    "    \n",
    "    print(\n",
    "        \"Hello! The grid for this Tic-Tac-Toe game is numbered and arranged like the this.\"\n",
    "    )\n",
    "    print(\n",
    "        \"To choose a position you should enter the corresponding number to that position.\"\n",
    "    )\n",
    "    print(\n",
    "        \"I (the computer engine) will be playing with the symbol 'X' and you will be playing with 'O'.\"\n",
    "    )\n",
    "    print(\"So let's get started!!\")"
   ]
  },
  {
   "cell_type": "code",
   "execution_count": 122,
   "metadata": {},
   "outputs": [
    {
     "name": "stdout",
     "output_type": "stream",
     "text": [
      "\n",
      "            =====    =====    =====\n",
      "              1        2        3\n",
      "            =====    =====    =====\n",
      "              4        5        6\n",
      "            =====    =====    =====\n",
      "              7        8        9\n",
      "            =====    =====    =====\n",
      "\n",
      "Hello! The grid for this Tic-Tac-Toe game is numbered and arranged like the this.\n",
      "To choose a position you should enter the corresponding number to that position.\n",
      "I (the computer engine) will be playing with the symbol 'X' and you will be playing with 'O'.\n",
      "So let's get started!!\n"
     ]
    }
   ],
   "source": [
    "welcome_msg()"
   ]
  },
  {
   "cell_type": "code",
   "execution_count": 123,
   "metadata": {},
   "outputs": [],
   "source": [
    "played_positions = {key: False for key in range(1, 10)}"
   ]
  },
  {
   "cell_type": "code",
   "execution_count": 124,
   "metadata": {},
   "outputs": [],
   "source": [
    "# winning combinations\n",
    "\n",
    "row_positions = [[1, 2, 3], [4, 5, 6], [7, 8, 9]]\n",
    "column_positions = [[1, 4, 7], [2, 5, 8], [3, 6, 9]]\n",
    "diagonal_positions = [[1, 5, 9], [3, 5, 7]]"
   ]
  },
  {
   "cell_type": "code",
   "execution_count": 125,
   "metadata": {},
   "outputs": [],
   "source": [
    "turn_of_player = True"
   ]
  },
  {
   "cell_type": "code",
   "execution_count": 126,
   "metadata": {},
   "outputs": [],
   "source": [
    "def prompt_human_player(invalid=False):\n",
    "    if invalid:\n",
    "        print(\"Invalid input. Try again.\")\n",
    "\n",
    "    input_from_user = input(\n",
    "        \"Please choose a position between (1-9) and be sure to choose an empty space: \\t\"\n",
    "    )\n",
    "    return input_from_user"
   ]
  },
  {
   "cell_type": "code",
   "execution_count": 127,
   "metadata": {},
   "outputs": [],
   "source": [
    "# check if user input is valid\n",
    "# invalid if 1) not a number 2) the input is not a valid key to the played positions dict \n",
    "# 3) the position is not empty\n",
    "\n",
    "def is_input_valid(user_input):\n",
    "    try:\n",
    "        user_input = int(user_input)\n",
    "    except:\n",
    "        return False\n",
    "\n",
    "    if (played_positions.get(user_input) is False) and (\n",
    "        played_positions.get(user_input) is not None\n",
    "    ):\n",
    "        return user_input\n",
    "    else:\n",
    "        return False"
   ]
  },
  {
   "cell_type": "code",
   "execution_count": 128,
   "metadata": {},
   "outputs": [],
   "source": [
    "# prompt human player until a valid input is chosen \n",
    "\n",
    "def human_player_input():\n",
    "    input_from_user = prompt_human_player()\n",
    "\n",
    "    while is_input_valid(input_from_user) is False:\n",
    "        input_from_user = prompt_human_player(True)\n",
    "\n",
    "    return int(input_from_user)"
   ]
  },
  {
   "cell_type": "code",
   "execution_count": 134,
   "metadata": {},
   "outputs": [],
   "source": [
    "x = human_player_input()"
   ]
  },
  {
   "cell_type": "code",
   "execution_count": 130,
   "metadata": {},
   "outputs": [],
   "source": [
    "def place_input_on_the_playing_grid(symbol_to_place: str, pos_to_place_symbol_on:int):\n",
    "    global playing_grid, played_positions\n",
    "    playing_grid = playing_grid.replace(f\"{pos_to_place_symbol_on}\", symbol_to_place)\n",
    "    # we also need to update the played_positions dictionary\n",
    "    played_positions.update({pos_to_place_symbol_on: symbol_to_place})\n",
    "    return playing_grid"
   ]
  },
  {
   "cell_type": "code",
   "execution_count": 135,
   "metadata": {},
   "outputs": [],
   "source": [
    "_ = place_input_on_the_playing_grid(\"X\", x)"
   ]
  },
  {
   "cell_type": "code",
   "execution_count": 136,
   "metadata": {},
   "outputs": [
    {
     "name": "stdout",
     "output_type": "stream",
     "text": [
      "\n",
      "            =====    =====    =====\n",
      "              X        2        X\n",
      "            =====    =====    =====\n",
      "              4        5        6\n",
      "            =====    =====    =====\n",
      "              7        8        9\n",
      "            =====    =====    =====\n",
      "\n"
     ]
    }
   ],
   "source": [
    "print(playing_grid)"
   ]
  },
  {
   "cell_type": "code",
   "execution_count": 137,
   "metadata": {},
   "outputs": [
    {
     "data": {
      "text/plain": [
       "{1: 'X',\n",
       " 2: False,\n",
       " 3: 'X',\n",
       " 4: False,\n",
       " 5: False,\n",
       " 6: False,\n",
       " 7: False,\n",
       " 8: False,\n",
       " 9: False}"
      ]
     },
     "execution_count": 137,
     "metadata": {},
     "output_type": "execute_result"
    }
   ],
   "source": [
    "played_positions"
   ]
  },
  {
   "cell_type": "code",
   "execution_count": null,
   "metadata": {},
   "outputs": [],
   "source": [
    "turn_of_player = False  # means it is the turn of the engine"
   ]
  }
 ],
 "metadata": {
  "kernelspec": {
   "display_name": "ml_intro",
   "language": "python",
   "name": "python3"
  },
  "language_info": {
   "codemirror_mode": {
    "name": "ipython",
    "version": 3
   },
   "file_extension": ".py",
   "mimetype": "text/x-python",
   "name": "python",
   "nbconvert_exporter": "python",
   "pygments_lexer": "ipython3",
   "version": "3.11.4"
  },
  "orig_nbformat": 4
 },
 "nbformat": 4,
 "nbformat_minor": 2
}
