{
 "cells": [
  {
   "cell_type": "code",
   "execution_count": 1,
   "id": "aac4ca6d-5fcb-47e6-b2e2-9c6cd5a75a50",
   "metadata": {},
   "outputs": [],
   "source": [
    "# First we choose a random word from the 01_Hangman_words.txt file.\n",
    "# Let's set a rule for chosen word length. The length of the word should be at least 5 and not more than 8.\n",
    "# This will make the game a bit harder but that's what we play games for."
   ]
  },
  {
   "cell_type": "code",
   "execution_count": 2,
   "id": "1876a030-d7c5-4296-be64-d38ffab4a0f8",
   "metadata": {},
   "outputs": [],
   "source": [
    "import random"
   ]
  },
  {
   "cell_type": "code",
   "execution_count": 3,
   "id": "644a9941-a8ef-4253-8df7-f29bd8ca91c8",
   "metadata": {},
   "outputs": [],
   "source": [
    "def get_a_random_word():\n",
    "    word_lst = []\n",
    "    with open(\"hangman_words.txt\", \"r\") as words_txt:\n",
    "        words = words_txt.readlines()\n",
    "        for word in words:\n",
    "\n",
    "            # replacing the leading and trailing quote sign as well as comma if present\n",
    "            to_remove = ['\"', \",\"]\n",
    "            word = word.strip()\n",
    "            for x in to_remove:\n",
    "                word = word.replace(x, \"\")\n",
    "\n",
    "            # appending the cleaned word to a list if, 5 <= length <= 8\n",
    "            if len(word) >= 5 and len(word) <= 8:\n",
    "                word_lst.append(word)\n",
    "\n",
    "        # now returning a randomly chosen word\n",
    "        return random.choice(word_lst)"
   ]
  },
  {
   "cell_type": "code",
   "execution_count": 4,
   "id": "548767fa-e729-4639-ada0-31d0143d3539",
   "metadata": {},
   "outputs": [],
   "source": [
    "# importing the python file containing the visuals"
   ]
  },
  {
   "cell_type": "code",
   "execution_count": 5,
   "id": "4c847613-85e3-4173-8be7-17f9c9df2277",
   "metadata": {},
   "outputs": [],
   "source": [
    "from hangman_visual import game_progress_remaining_lives_visual_dict as visual"
   ]
  },
  {
   "cell_type": "code",
   "execution_count": 6,
   "id": "642ec65a-92e4-42ae-84db-cf4f8b13587a",
   "metadata": {},
   "outputs": [],
   "source": [
    "# Now we write the actual logic of the game"
   ]
  },
  {
   "cell_type": "code",
   "execution_count": 7,
   "id": "f5f88755-d245-4e53-9def-0bf7bf434fde",
   "metadata": {},
   "outputs": [],
   "source": [
    "# Initial Visual and Chit-chat\n",
    "def initial():\n",
    "    word = get_a_random_word().upper()\n",
    "    lives = 6\n",
    "\n",
    "    # first visual of the game\n",
    "    print(\"This is the gallows were you would be hanged if you were to fail!\")\n",
    "    print(visual[lives])\n",
    "\n",
    "    # initial chit-chat\n",
    "    if len(word) > 6:\n",
    "        print(\"Tough luck.\")\n",
    "    print(\"The randomly selected word has {} characters in it.\".format(len(word)))\n",
    "    print(\"\\n\")\n",
    "    print(\"Word Progress: \", \"#\" * len(word))\n",
    "    print(\"\\n\")\n",
    "    print(\"You can guess wrong only {} times. So, Be Careful!\".format(lives))\n",
    "    print(\"Are you ready?\")\n",
    "    print(\"\\n\")\n",
    "    return [word, lives]"
   ]
  },
  {
   "cell_type": "code",
   "execution_count": 8,
   "id": "4606363e",
   "metadata": {},
   "outputs": [],
   "source": [
    "# Importing the regex library to check if the user input is valid or not\n",
    "import re\n",
    "\n",
    "\n",
    "# Guess\n",
    "def guess():\n",
    "    print(\"<<<<00000000000000000000000000000000000000000>>>>\")\n",
    "    guessed_char = str(input(\"Please enter Your guess (A-Z):\")).upper()\n",
    "\n",
    "    # re.findall returns an empty list if not matched\n",
    "    validity = re.findall(\"^[a-z]$\", guessed_char) or re.findall(\n",
    "        \"^[A-Z]$\", guessed_char\n",
    "    )\n",
    "    if len(validity) == 0:\n",
    "        print(\n",
    "            \"Either there are more than one alphabet or the input is not an alphabet at all! Please provide a valid input.\"\n",
    "        )\n",
    "        guess()\n",
    "    else:\n",
    "        return guessed_char"
   ]
  },
  {
   "cell_type": "code",
   "execution_count": 9,
   "id": "fdb5d669-76bd-48c7-a539-6fd563c28517",
   "metadata": {},
   "outputs": [],
   "source": [
    "# User inputs list and progress string list is defined here\n",
    "# so as not to initialize all over again when progress function is called.\n",
    "# Remember not to initialize empty variables i.e, lists, strings etc\n",
    "# inside a function unless you are absolutely sure about what you are doing\n",
    "\n",
    "# Game Progress\n",
    "def progress(usr_input, word_elements, lives, progress_string_elements):\n",
    "\n",
    "    # Prevent entering the same Alphabet twice\n",
    "    if usr_input in usr_inputs:\n",
    "        print(\n",
    "            \"You have already guessed this Alphabet before. Guess a new one. Your life was not reduced this time around but there's no promise for the next time\"\n",
    "        )\n",
    "        play(word_elements, lives, progress_string_elements)\n",
    "\n",
    "    # appending already inputted alphabets to the user inputs list\n",
    "    usr_inputs.append(usr_input)\n",
    "\n",
    "    # progress string\n",
    "    progress_string = \"\".join(progress_string_elements)\n",
    "\n",
    "    # Display progress\n",
    "    def display_progress():\n",
    "        print(f\"\\nLives left: {lives}\")\n",
    "        print(f\"\\nGame progress: {progress_string}\")\n",
    "        print(f\"\\nAlready guessed Alphabets: {usr_inputs}\")\n",
    "        print(f\"\\nVisual: {visual[lives]}\")\n",
    "\n",
    "    # checking whether the guessed alphabet is actually in the chosen word\n",
    "    # and displaying the overall progress till now\n",
    "    if usr_input in word_elements:\n",
    "        print(\n",
    "            \"Well, Well! Would you look at that! Your guessed alphabet is indeed present in the word.\"\n",
    "        )\n",
    "\n",
    "        for i in range(len(word_elements)):\n",
    "            if usr_input == word_elements[i]:\n",
    "                progress_string_elements[i] = f\"{usr_input}\"\n",
    "\n",
    "        progress_string = \"\".join(progress_string_elements)\n",
    "\n",
    "        display_progress()\n",
    "\n",
    "    if usr_input not in word_elements:\n",
    "        print(\"Your guessed Alphabet is not present in the word.\")\n",
    "        lives = lives - 1\n",
    "        display_progress()\n",
    "\n",
    "    return [lives, progress_string_elements]"
   ]
  },
  {
   "cell_type": "code",
   "execution_count": 10,
   "id": "a9919632-09fc-4467-a368-4b2143d728f8",
   "metadata": {},
   "outputs": [],
   "source": [
    "def play(word_elements, lives, progress_string_elements):\n",
    "    # Elements in the chosen word\n",
    "    word_elements = word_elements\n",
    "    # user guessed\n",
    "    usr_input = guess()\n",
    "\n",
    "    # Game progress after a guess\n",
    "    game_progress = progress(usr_input, word_elements, lives, progress_string_elements)\n",
    "\n",
    "    updated_lives = game_progress[0]\n",
    "    updated_progress_string_elements = game_progress[1]\n",
    "\n",
    "    # Until lives becomes 0 continue the game\n",
    "    if updated_lives > 0:\n",
    "\n",
    "        # Winning condition\n",
    "        if \"\".join(updated_progress_string_elements) == \"\".join(word_elements):\n",
    "            print(\"Congratulations! YOU WON!\")\n",
    "\n",
    "        # Otherwise continue\n",
    "        else:\n",
    "            play(word_elements, updated_lives, updated_progress_string_elements)\n",
    "    else:\n",
    "        print(\"Game over. You are hanged!\")"
   ]
  },
  {
   "cell_type": "code",
   "execution_count": 11,
   "id": "7a659333-5ddb-4577-9db4-c2d82d78b380",
   "metadata": {},
   "outputs": [
    {
     "name": "stdout",
     "output_type": "stream",
     "text": [
      "This is the gallows were you would be hanged if you were to fail!\n",
      "\n",
      "                ___________\n",
      "               | /        | \n",
      "               |/        \n",
      "               |          \n",
      "               |          \n",
      "               |\n",
      "               |\n",
      "               |\n",
      "            \n",
      "Tough luck.\n",
      "The randomly selected word has 8 characters in it.\n",
      "\n",
      "\n",
      "Word Progress:  ########\n",
      "\n",
      "\n",
      "You can guess wrong only 6 times. So, Be Careful!\n",
      "Are you ready?\n",
      "\n",
      "\n",
      "CARELESS\n"
     ]
    }
   ],
   "source": [
    "initiate = initial()\n",
    "word = initiate[0]\n",
    "lives = initiate[1]\n",
    "\n",
    "# initial user inputs list\n",
    "usr_inputs = []\n",
    "\n",
    "# initial Progress string to be displayed\n",
    "display_string_progress = []\n",
    "\n",
    "word_elements = [word[i] for i in range(len(word))]\n",
    "\n",
    "for i in range(len(word_elements)):\n",
    "    display_string_progress.append(\"#\")\n",
    "\n",
    "progress_string = \"\".join(display_string_progress)\n",
    "progress_string_elements = [progress_string[i] for i in range(len(progress_string))]\n",
    "\n",
    "print(word)"
   ]
  },
  {
   "cell_type": "code",
   "execution_count": 12,
   "id": "b6f039f8-488d-4d7c-9e73-0fa36d58a1a9",
   "metadata": {},
   "outputs": [
    {
     "name": "stdin",
     "output_type": "stream",
     "text": [
      "Please enter Your guess (A-Z): c\n"
     ]
    },
    {
     "name": "stdout",
     "output_type": "stream",
     "text": [
      "<<<<00000000000000000000000000000000000000000>>>>\n",
      "Well, Well! Would you look at that! Your guessed alphabet is indeed present in the word.\n",
      "\n",
      "Lives left: 6\n",
      "\n",
      "Game progress: C#######\n",
      "\n",
      "Already guessed Alphabets: ['C']\n",
      "\n",
      "Visual: \n",
      "                ___________\n",
      "               | /        | \n",
      "               |/        \n",
      "               |          \n",
      "               |          \n",
      "               |\n",
      "               |\n",
      "               |\n",
      "            \n"
     ]
    },
    {
     "name": "stdin",
     "output_type": "stream",
     "text": [
      "Please enter Your guess (A-Z): a\n"
     ]
    },
    {
     "name": "stdout",
     "output_type": "stream",
     "text": [
      "<<<<00000000000000000000000000000000000000000>>>>\n",
      "Well, Well! Would you look at that! Your guessed alphabet is indeed present in the word.\n",
      "\n",
      "Lives left: 6\n",
      "\n",
      "Game progress: CA######\n",
      "\n",
      "Already guessed Alphabets: ['C', 'A']\n",
      "\n",
      "Visual: \n",
      "                ___________\n",
      "               | /        | \n",
      "               |/        \n",
      "               |          \n",
      "               |          \n",
      "               |\n",
      "               |\n",
      "               |\n",
      "            \n"
     ]
    },
    {
     "ename": "KeyboardInterrupt",
     "evalue": "Interrupted by user",
     "output_type": "error",
     "traceback": [
      "\u001b[0;31m---------------------------------------------------------------------------\u001b[0m",
      "\u001b[0;31mKeyboardInterrupt\u001b[0m                         Traceback (most recent call last)",
      "Cell \u001b[0;32mIn [12], line 1\u001b[0m\n\u001b[0;32m----> 1\u001b[0m \u001b[43mplay\u001b[49m\u001b[43m(\u001b[49m\u001b[43mword_elements\u001b[49m\u001b[43m,\u001b[49m\u001b[43m \u001b[49m\u001b[43mlives\u001b[49m\u001b[43m,\u001b[49m\u001b[43m \u001b[49m\u001b[43mprogress_string_elements\u001b[49m\u001b[43m)\u001b[49m\n",
      "Cell \u001b[0;32mIn [10], line 22\u001b[0m, in \u001b[0;36mplay\u001b[0;34m(word_elements, lives, progress_string_elements)\u001b[0m\n\u001b[1;32m     18\u001b[0m         \u001b[38;5;28mprint\u001b[39m(\u001b[38;5;124m\"\u001b[39m\u001b[38;5;124mCongratulations! YOU WON!\u001b[39m\u001b[38;5;124m\"\u001b[39m)\n\u001b[1;32m     20\u001b[0m     \u001b[38;5;66;03m# Otherwise continue\u001b[39;00m\n\u001b[1;32m     21\u001b[0m     \u001b[38;5;28;01melse\u001b[39;00m:\n\u001b[0;32m---> 22\u001b[0m         \u001b[43mplay\u001b[49m\u001b[43m(\u001b[49m\u001b[43mword_elements\u001b[49m\u001b[43m,\u001b[49m\u001b[43m \u001b[49m\u001b[43mupdated_lives\u001b[49m\u001b[43m,\u001b[49m\u001b[43m \u001b[49m\u001b[43mupdated_progress_string_elements\u001b[49m\u001b[43m)\u001b[49m\n\u001b[1;32m     23\u001b[0m \u001b[38;5;28;01melse\u001b[39;00m:\n\u001b[1;32m     24\u001b[0m     \u001b[38;5;28mprint\u001b[39m(\u001b[38;5;124m\"\u001b[39m\u001b[38;5;124mGame over. You are hanged!\u001b[39m\u001b[38;5;124m\"\u001b[39m)\n",
      "Cell \u001b[0;32mIn [10], line 22\u001b[0m, in \u001b[0;36mplay\u001b[0;34m(word_elements, lives, progress_string_elements)\u001b[0m\n\u001b[1;32m     18\u001b[0m         \u001b[38;5;28mprint\u001b[39m(\u001b[38;5;124m\"\u001b[39m\u001b[38;5;124mCongratulations! YOU WON!\u001b[39m\u001b[38;5;124m\"\u001b[39m)\n\u001b[1;32m     20\u001b[0m     \u001b[38;5;66;03m# Otherwise continue\u001b[39;00m\n\u001b[1;32m     21\u001b[0m     \u001b[38;5;28;01melse\u001b[39;00m:\n\u001b[0;32m---> 22\u001b[0m         \u001b[43mplay\u001b[49m\u001b[43m(\u001b[49m\u001b[43mword_elements\u001b[49m\u001b[43m,\u001b[49m\u001b[43m \u001b[49m\u001b[43mupdated_lives\u001b[49m\u001b[43m,\u001b[49m\u001b[43m \u001b[49m\u001b[43mupdated_progress_string_elements\u001b[49m\u001b[43m)\u001b[49m\n\u001b[1;32m     23\u001b[0m \u001b[38;5;28;01melse\u001b[39;00m:\n\u001b[1;32m     24\u001b[0m     \u001b[38;5;28mprint\u001b[39m(\u001b[38;5;124m\"\u001b[39m\u001b[38;5;124mGame over. You are hanged!\u001b[39m\u001b[38;5;124m\"\u001b[39m)\n",
      "Cell \u001b[0;32mIn [10], line 5\u001b[0m, in \u001b[0;36mplay\u001b[0;34m(word_elements, lives, progress_string_elements)\u001b[0m\n\u001b[1;32m      3\u001b[0m word_elements \u001b[38;5;241m=\u001b[39m word_elements\n\u001b[1;32m      4\u001b[0m \u001b[38;5;66;03m# user guessed\u001b[39;00m\n\u001b[0;32m----> 5\u001b[0m usr_input \u001b[38;5;241m=\u001b[39m \u001b[43mguess\u001b[49m\u001b[43m(\u001b[49m\u001b[43m)\u001b[49m\n\u001b[1;32m      7\u001b[0m \u001b[38;5;66;03m# Game progress after a guess\u001b[39;00m\n\u001b[1;32m      8\u001b[0m game_progress \u001b[38;5;241m=\u001b[39m progress(usr_input, word_elements, lives, progress_string_elements)\n",
      "Cell \u001b[0;32mIn [8], line 7\u001b[0m, in \u001b[0;36mguess\u001b[0;34m()\u001b[0m\n\u001b[1;32m      6\u001b[0m \u001b[38;5;28;01mdef\u001b[39;00m \u001b[38;5;21mguess\u001b[39m():\n\u001b[0;32m----> 7\u001b[0m     guessed_char \u001b[38;5;241m=\u001b[39m \u001b[38;5;28mstr\u001b[39m(\u001b[38;5;28;43minput\u001b[39;49m\u001b[43m(\u001b[49m\u001b[38;5;124;43m\"\u001b[39;49m\u001b[38;5;124;43mPlease enter Your guess (A-Z):\u001b[39;49m\u001b[38;5;124;43m\"\u001b[39;49m\u001b[43m)\u001b[49m)\u001b[38;5;241m.\u001b[39mupper()\n\u001b[1;32m      9\u001b[0m     \u001b[38;5;66;03m# re.findall returns an empty list if not matched\u001b[39;00m\n\u001b[1;32m     10\u001b[0m     validity \u001b[38;5;241m=\u001b[39m re\u001b[38;5;241m.\u001b[39mfindall(\u001b[38;5;124m\"\u001b[39m\u001b[38;5;124m^[a-z]$\u001b[39m\u001b[38;5;124m\"\u001b[39m, guessed_char) \u001b[38;5;129;01mor\u001b[39;00m re\u001b[38;5;241m.\u001b[39mfindall(\n\u001b[1;32m     11\u001b[0m         \u001b[38;5;124m\"\u001b[39m\u001b[38;5;124m^[A-Z]$\u001b[39m\u001b[38;5;124m\"\u001b[39m, guessed_char\n\u001b[1;32m     12\u001b[0m     )\n",
      "File \u001b[0;32m~/miniconda3/envs/ml_intro/lib/python3.8/site-packages/ipykernel/kernelbase.py:1177\u001b[0m, in \u001b[0;36mKernel.raw_input\u001b[0;34m(self, prompt)\u001b[0m\n\u001b[1;32m   1173\u001b[0m \u001b[38;5;28;01mif\u001b[39;00m \u001b[38;5;129;01mnot\u001b[39;00m \u001b[38;5;28mself\u001b[39m\u001b[38;5;241m.\u001b[39m_allow_stdin:\n\u001b[1;32m   1174\u001b[0m     \u001b[38;5;28;01mraise\u001b[39;00m StdinNotImplementedError(\n\u001b[1;32m   1175\u001b[0m         \u001b[38;5;124m\"\u001b[39m\u001b[38;5;124mraw_input was called, but this frontend does not support input requests.\u001b[39m\u001b[38;5;124m\"\u001b[39m\n\u001b[1;32m   1176\u001b[0m     )\n\u001b[0;32m-> 1177\u001b[0m \u001b[38;5;28;01mreturn\u001b[39;00m \u001b[38;5;28;43mself\u001b[39;49m\u001b[38;5;241;43m.\u001b[39;49m\u001b[43m_input_request\u001b[49m\u001b[43m(\u001b[49m\n\u001b[1;32m   1178\u001b[0m \u001b[43m    \u001b[49m\u001b[38;5;28;43mstr\u001b[39;49m\u001b[43m(\u001b[49m\u001b[43mprompt\u001b[49m\u001b[43m)\u001b[49m\u001b[43m,\u001b[49m\n\u001b[1;32m   1179\u001b[0m \u001b[43m    \u001b[49m\u001b[38;5;28;43mself\u001b[39;49m\u001b[38;5;241;43m.\u001b[39;49m\u001b[43m_parent_ident\u001b[49m\u001b[43m[\u001b[49m\u001b[38;5;124;43m\"\u001b[39;49m\u001b[38;5;124;43mshell\u001b[39;49m\u001b[38;5;124;43m\"\u001b[39;49m\u001b[43m]\u001b[49m\u001b[43m,\u001b[49m\n\u001b[1;32m   1180\u001b[0m \u001b[43m    \u001b[49m\u001b[38;5;28;43mself\u001b[39;49m\u001b[38;5;241;43m.\u001b[39;49m\u001b[43mget_parent\u001b[49m\u001b[43m(\u001b[49m\u001b[38;5;124;43m\"\u001b[39;49m\u001b[38;5;124;43mshell\u001b[39;49m\u001b[38;5;124;43m\"\u001b[39;49m\u001b[43m)\u001b[49m\u001b[43m,\u001b[49m\n\u001b[1;32m   1181\u001b[0m \u001b[43m    \u001b[49m\u001b[43mpassword\u001b[49m\u001b[38;5;241;43m=\u001b[39;49m\u001b[38;5;28;43;01mFalse\u001b[39;49;00m\u001b[43m,\u001b[49m\n\u001b[1;32m   1182\u001b[0m \u001b[43m\u001b[49m\u001b[43m)\u001b[49m\n",
      "File \u001b[0;32m~/miniconda3/envs/ml_intro/lib/python3.8/site-packages/ipykernel/kernelbase.py:1219\u001b[0m, in \u001b[0;36mKernel._input_request\u001b[0;34m(self, prompt, ident, parent, password)\u001b[0m\n\u001b[1;32m   1216\u001b[0m             \u001b[38;5;28;01mbreak\u001b[39;00m\n\u001b[1;32m   1217\u001b[0m \u001b[38;5;28;01mexcept\u001b[39;00m \u001b[38;5;167;01mKeyboardInterrupt\u001b[39;00m:\n\u001b[1;32m   1218\u001b[0m     \u001b[38;5;66;03m# re-raise KeyboardInterrupt, to truncate traceback\u001b[39;00m\n\u001b[0;32m-> 1219\u001b[0m     \u001b[38;5;28;01mraise\u001b[39;00m \u001b[38;5;167;01mKeyboardInterrupt\u001b[39;00m(\u001b[38;5;124m\"\u001b[39m\u001b[38;5;124mInterrupted by user\u001b[39m\u001b[38;5;124m\"\u001b[39m) \u001b[38;5;28;01mfrom\u001b[39;00m \u001b[38;5;28mNone\u001b[39m\n\u001b[1;32m   1220\u001b[0m \u001b[38;5;28;01mexcept\u001b[39;00m \u001b[38;5;167;01mException\u001b[39;00m:\n\u001b[1;32m   1221\u001b[0m     \u001b[38;5;28mself\u001b[39m\u001b[38;5;241m.\u001b[39mlog\u001b[38;5;241m.\u001b[39mwarning(\u001b[38;5;124m\"\u001b[39m\u001b[38;5;124mInvalid Message:\u001b[39m\u001b[38;5;124m\"\u001b[39m, exc_info\u001b[38;5;241m=\u001b[39m\u001b[38;5;28;01mTrue\u001b[39;00m)\n",
      "\u001b[0;31mKeyboardInterrupt\u001b[0m: Interrupted by user"
     ]
    }
   ],
   "source": [
    "play(word_elements, lives, progress_string_elements)"
   ]
  },
  {
   "cell_type": "code",
   "execution_count": null,
   "id": "030fe13d-7f26-4cc2-bd1b-d03efc1749ff",
   "metadata": {},
   "outputs": [],
   "source": []
  }
 ],
 "metadata": {
  "kernelspec": {
   "display_name": "Python 3 (ipykernel)",
   "language": "python",
   "name": "python3"
  },
  "language_info": {
   "codemirror_mode": {
    "name": "ipython",
    "version": 3
   },
   "file_extension": ".py",
   "mimetype": "text/x-python",
   "name": "python",
   "nbconvert_exporter": "python",
   "pygments_lexer": "ipython3",
   "version": "3.8.13"
  }
 },
 "nbformat": 4,
 "nbformat_minor": 5
}
