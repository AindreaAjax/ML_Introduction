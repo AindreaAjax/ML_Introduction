{
 "cells": [
  {
   "cell_type": "markdown",
   "id": "7893f26e",
   "metadata": {},
   "source": [
    "**Table of contents**<a id='toc0_'></a>    \n",
    "- [Keywords](#toc1_)    \n",
    "- [Identifiers](#toc2_)    \n",
    "- [Code Formatting](#toc3_)    \n",
    "  - [Comments](#toc3_1_)    \n",
    "  - [Indentation](#toc3_2_)    \n",
    "- [Python Statements](#toc4_)    \n",
    "    - [Multi-line statement](#toc4_1_1_)    \n",
    "- [Variables](#toc5_)    \n",
    "    - [Storage locations](#toc5_1_1_)    \n",
    "  - [Python Scope](#toc5_2_)    \n",
    "    - [Local Scope](#toc5_2_1_)    \n",
    "    - [Global Scope](#toc5_2_2_)    \n",
    "    - [Scope (Variable resolution order) - what variables do i have access to? / who has access to whom?](#toc5_2_3_)    \n",
    "- [Standard Input and Output](#toc6_)    \n",
    "  - [Python Input](#toc6_1_)    \n",
    "  - [Python Output](#toc6_2_)    \n",
    "    - [Output Formatting](#toc6_2_1_)    \n",
    "- [Operators](#toc7_)    \n",
    "\n",
    "<!-- vscode-jupyter-toc-config\n",
    "\tnumbering=false\n",
    "\tanchor=true\n",
    "\tflat=false\n",
    "\tminLevel=2\n",
    "\tmaxLevel=4\n",
    "\t/vscode-jupyter-toc-config -->\n",
    "<!-- THIS CELL WILL BE REPLACED ON TOC UPDATE. DO NOT WRITE YOUR TEXT IN THIS CELL -->"
   ]
  },
  {
   "cell_type": "markdown",
   "metadata": {},
   "source": [
    "## <a id='toc1_'></a>[Keywords](#toc0_)"
   ]
  },
  {
   "attachments": {},
   "cell_type": "markdown",
   "id": "ideal-imagination",
   "metadata": {},
   "source": [
    "Keywords are predefined, reserved words. They have special meanings to the compiler. These can't be used as an identifier."
   ]
  },
  {
   "attachments": {},
   "cell_type": "markdown",
   "id": "located-campbell",
   "metadata": {},
   "source": [
    "In Python, the following words are reserved as keywords -"
   ]
  },
  {
   "cell_type": "code",
   "execution_count": 1,
   "id": "e9aa5e18",
   "metadata": {},
   "outputs": [
    {
     "name": "stdout",
     "output_type": "stream",
     "text": [
      "['False', 'None', 'True', 'and', 'as', 'assert', 'async', 'await', 'break', 'class', 'continue', 'def', 'del', 'elif', 'else', 'except', 'finally', 'for', 'from', 'global', 'if', 'import', 'in', 'is', 'lambda', 'nonlocal', 'not', 'or', 'pass', 'raise', 'return', 'try', 'while', 'with', 'yield']\n"
     ]
    }
   ],
   "source": [
    "import keyword\n",
    "\n",
    "print(keyword.kwlist)"
   ]
  },
  {
   "cell_type": "markdown",
   "metadata": {},
   "source": [
    "## <a id='toc2_'></a>[Identifiers](#toc0_)"
   ]
  },
  {
   "attachments": {},
   "cell_type": "markdown",
   "id": "elder-budget",
   "metadata": {},
   "source": [
    "An identifier is a name used to identify a variable, function, class, module or any other object. \n",
    "\n",
    "An identifier can start with,\n",
    "- a letter **(A to Z or, a to z)** or, an underscore **(_)** but not digits \n",
    "- and maybe followed by more letters, underscores and digits **(0 to 9)**."
   ]
  },
  {
   "attachments": {},
   "cell_type": "markdown",
   "id": "adolescent-blanket",
   "metadata": {},
   "source": [
    "Note that, \n",
    "- Python does not allow punctuation characters such as @, $, and % within identifiers.\n",
    "- Python is a case sensitive programming language."
   ]
  },
  {
   "cell_type": "markdown",
   "id": "4f1226a6",
   "metadata": {},
   "source": [
    "Commonly followed naming conventions for Python identifiers are as follows ---\n",
    "\n",
    "- **Variable** names should be descriptive e.g. **snake_case**.\n",
    "- **Constants** should be named in **CAPS**.\n",
    "- **Class** names should follow **CamelCase**.\n",
    "- Starting an identifier with a single leading underscore indicates that the identifier is private.\n",
    "- Starting an identifier with two leading underscores indicates a strongly private identifier.\n",
    "- If the identifier also ends with two trailing underscores, the identifier is a language-defined special name."
   ]
  },
  {
   "cell_type": "markdown",
   "id": "8223d07d",
   "metadata": {},
   "source": [
    "## <a id='toc3_'></a>[Code Formatting](#toc0_)"
   ]
  },
  {
   "cell_type": "markdown",
   "metadata": {},
   "source": [
    "### <a id='toc3_1_'></a>[Comments](#toc0_)"
   ]
  },
  {
   "attachments": {},
   "cell_type": "markdown",
   "id": "defined-married",
   "metadata": {},
   "source": [
    "A comment is a programmer-readable explanation or annotation in the source code of a computer program. \n",
    "\n",
    "They are added with the purpose of making the source code easier for others to understand, and are generally ignored by compilers and interpreters."
   ]
  },
  {
   "attachments": {},
   "cell_type": "markdown",
   "id": "prospective-reynolds",
   "metadata": {},
   "source": [
    "Comments in Python begins with a hash mark ( # ). For multiline comments use tripple quotes (i.e, either ''' or, \"\"\")."
   ]
  },
  {
   "cell_type": "code",
   "execution_count": 2,
   "id": "9c800d0f",
   "metadata": {},
   "outputs": [],
   "source": [
    "# Single line comment.\n",
    "\"\"\"\n",
    "This is an example\n",
    " of multiline commenting.\n",
    "\"\"\"\n",
    "# ; is used to suppress the output of a cell."
   ]
  },
  {
   "cell_type": "markdown",
   "metadata": {},
   "source": [
    "### <a id='toc3_2_'></a>[Indentation](#toc0_)"
   ]
  },
  {
   "attachments": {},
   "cell_type": "markdown",
   "id": "mineral-college",
   "metadata": {},
   "source": [
    "Most of the programming languages like C, C++, and Java uses braces { } to define a block of code. However, in Python we use indentation to mark a code block.\n",
    "\n",
    "A code block (body of a function, loop, etc.) starts with indentation and ends with the first unindented line. The amount of indentation to use is up to you, but it must be consistent throughout that block.\n",
    "\n",
    "Generally, four **whitespaces** are used for indentation and are **preferred over tabs.**"
   ]
  },
  {
   "cell_type": "code",
   "execution_count": 3,
   "id": "antique-montreal",
   "metadata": {},
   "outputs": [
    {
     "name": "stdout",
     "output_type": "stream",
     "text": [
      "1\n",
      "2\n"
     ]
    }
   ],
   "source": [
    "for i in range(1, 11):\n",
    "    print(i)\n",
    "    if i == 2:\n",
    "        break"
   ]
  },
  {
   "cell_type": "markdown",
   "id": "1d149458",
   "metadata": {},
   "source": [
    "The enforcement of indentation in Python makes the code look neat and clean. This results in Python programs that looks similar and consistent."
   ]
  },
  {
   "cell_type": "markdown",
   "metadata": {},
   "source": [
    "## <a id='toc4_'></a>[Python Statements](#toc0_)"
   ]
  },
  {
   "cell_type": "markdown",
   "id": "499c6523",
   "metadata": {},
   "source": [
    "Statements are instructions that a Python interpreter can execute. For example, a = 1 is an assignment statement."
   ]
  },
  {
   "cell_type": "markdown",
   "metadata": {},
   "source": [
    "#### <a id='toc4_1_1_'></a>[Multi-line statement](#toc0_)"
   ]
  },
  {
   "attachments": {},
   "cell_type": "markdown",
   "id": "empirical-leadership",
   "metadata": {},
   "source": [
    "In Python, the end of a statement is marked by a newline character. But we can make a statement extend over multiple lines with the line continuation character (\\\\). Line continuation is also implied inside parentheses ( )."
   ]
  },
  {
   "cell_type": "code",
   "execution_count": 4,
   "id": "declared-printing",
   "metadata": {},
   "outputs": [
    {
     "name": "stdout",
     "output_type": "stream",
     "text": [
      "28 \t 21\n"
     ]
    }
   ],
   "source": [
    "a = 1 + 2 + 3 + 4 + 5 + 6 + 7\n",
    "b = 1 + 2 + 3 + 4 + 5 + 6\n",
    "\n",
    "print(a, \"\\t\", b)"
   ]
  },
  {
   "cell_type": "markdown",
   "id": "320be77c",
   "metadata": {},
   "source": [
    "We can also put multiple statements in a single line using semicolons."
   ]
  },
  {
   "cell_type": "markdown",
   "metadata": {},
   "source": [
    "## <a id='toc5_'></a>[Variables](#toc0_)"
   ]
  },
  {
   "attachments": {},
   "cell_type": "markdown",
   "id": "historic-paragraph",
   "metadata": {},
   "source": [
    "Variables are nothing but reserved memory locations to store values. When you create a variable you just reserve some space in memory.\n",
    "\n",
    "Python variables do not need explicit declaration to reserve memory space. The declaration happens automatically when you assign a value to a variable. The assignment sign (=) is used to assign values to variables."
   ]
  },
  {
   "cell_type": "code",
   "execution_count": 6,
   "id": "increased-convertible",
   "metadata": {},
   "outputs": [
    {
     "name": "stdout",
     "output_type": "stream",
     "text": [
      "100\n",
      "1000.0\n",
      "Maidul\n"
     ]
    }
   ],
   "source": [
    "counter = 100  # An integer assignment\n",
    "miles = 1000.0  # A floating point number\n",
    "name = \"Maidul\"  # A string\n",
    "\n",
    "print(counter)\n",
    "print(miles)\n",
    "print(name)"
   ]
  },
  {
   "attachments": {},
   "cell_type": "markdown",
   "id": "loved-capitol",
   "metadata": {},
   "source": [
    "Python also allows you to assign a single value to several variables simultaneously. For example −"
   ]
  },
  {
   "cell_type": "code",
   "execution_count": 7,
   "id": "sporting-refund",
   "metadata": {},
   "outputs": [
    {
     "name": "stdout",
     "output_type": "stream",
     "text": [
      "1 \t 1 \t 1 \t\n"
     ]
    }
   ],
   "source": [
    "a = b = c = 1\n",
    "\n",
    "print(a, \"\\t\", b, \"\\t\", c, \"\\t\")"
   ]
  },
  {
   "attachments": {},
   "cell_type": "markdown",
   "id": "characteristic-henry",
   "metadata": {},
   "source": [
    "You can also assign multiple objects to multiple variables in a single line of code. For example −"
   ]
  },
  {
   "cell_type": "code",
   "execution_count": 8,
   "id": "0ee18bfd",
   "metadata": {},
   "outputs": [
    {
     "name": "stdout",
     "output_type": "stream",
     "text": [
      "1 \t 2.0 \t Maidul \t\n"
     ]
    }
   ],
   "source": [
    "a, b, c = 1, 2.0, \"Maidul\"\n",
    "\n",
    "print(a, \"\\t\", b, \"\\t\", c, \"\\t\")"
   ]
  },
  {
   "cell_type": "markdown",
   "metadata": {},
   "source": [
    "#### <a id='toc5_1_1_'></a>[Storage locations](#toc0_)"
   ]
  },
  {
   "attachments": {},
   "cell_type": "markdown",
   "id": "incident-switzerland",
   "metadata": {},
   "source": [
    "We can use the function **id(x)** to actually see the memory address of an object x."
   ]
  },
  {
   "cell_type": "code",
   "execution_count": 9,
   "id": "compliant-debut",
   "metadata": {},
   "outputs": [
    {
     "name": "stdout",
     "output_type": "stream",
     "text": [
      "139696776380720 139696776380720\n"
     ]
    }
   ],
   "source": [
    "x, y = 3, 3\n",
    "\n",
    "print(id(x), id(y))"
   ]
  },
  {
   "cell_type": "markdown",
   "id": "1cbbb28f",
   "metadata": {},
   "source": [
    "<i>As we can see, memory locations are allocated based on a particular value and not the variables. This proves that, variables are just pointers to a specific memory location for a specific value.</i>"
   ]
  },
  {
   "cell_type": "markdown",
   "metadata": {},
   "source": [
    "### <a id='toc5_2_'></a>[Python Scope](#toc0_)"
   ]
  },
  {
   "cell_type": "markdown",
   "id": "267777d6",
   "metadata": {},
   "source": [
    "The idea that a variable is only available inside the region i.e, the code block it was created in is called scope."
   ]
  },
  {
   "cell_type": "markdown",
   "id": "acd5204d",
   "metadata": {},
   "source": [
    "#### <a id='toc5_2_1_'></a>[Local Scope](#toc0_)\n",
    "A variable created inside a function belongs to the local scope of that function and can only be used inside that function. It is also available for any other function defined inside that function."
   ]
  },
  {
   "cell_type": "markdown",
   "id": "dc22d553",
   "metadata": {},
   "source": [
    "#### <a id='toc5_2_2_'></a>[Global Scope](#toc0_)\n",
    "\n",
    "A variable created in the main body of the Python code is a global variable and belongs to the global scope.\n",
    "Global variables are available from within any scope i.e., both global and local.\n",
    "\n",
    "To create a global variable inside a local scope, you can use the `global` keyword. The global keyword makes the variable avialable to the global scope."
   ]
  },
  {
   "cell_type": "markdown",
   "metadata": {},
   "source": [
    "#### <a id='toc5_2_3_'></a>[Scope (Variable resolution order) - what variables do i have access to? / who has access to whom?](#toc0_)"
   ]
  },
  {
   "attachments": {},
   "cell_type": "markdown",
   "id": "9c9e9e6f-ac01-4ec2-9076-74ed9b6ef85b",
   "metadata": {},
   "source": [
    "The idea of scope becomes important when you operate with the same variable names inside and outside of a function. This order of scope is also used whenever a class, function or variable accesses another class, function or variable."
   ]
  },
  {
   "cell_type": "markdown",
   "id": "c853c537",
   "metadata": {},
   "source": [
    "Order of Scope: \n",
    "    \n",
    "    1. start with local scope. (within the block)\n",
    "    2. parent local? (parent block)\n",
    "    3. Global?\n",
    "    4. python builtin functions?"
   ]
  },
  {
   "cell_type": "markdown",
   "id": "9a468cc8",
   "metadata": {},
   "source": [
    "## <a id='toc6_'></a>[Standard Input and Output](#toc0_)"
   ]
  },
  {
   "cell_type": "markdown",
   "metadata": {},
   "source": [
    "### <a id='toc6_1_'></a>[Python Input](#toc0_)"
   ]
  },
  {
   "attachments": {},
   "cell_type": "markdown",
   "id": "bacterial-craps",
   "metadata": {},
   "source": [
    "To take inputs the **input()** function is used."
   ]
  },
  {
   "cell_type": "code",
   "execution_count": 10,
   "id": "reported-header",
   "metadata": {},
   "outputs": [
    {
     "name": "stdout",
     "output_type": "stream",
     "text": [
      "Please enter values for a and b:  10\n"
     ]
    },
    {
     "name": "stdout",
     "output_type": "stream",
     "text": [
      "1 \t 0\n"
     ]
    }
   ],
   "source": [
    "a, b = input(\"Please enter values for a and b: \")\n",
    "print(a, \"\\t\", b)"
   ]
  },
  {
   "attachments": {},
   "cell_type": "markdown",
   "id": "floral-lunch",
   "metadata": {},
   "source": [
    "Well that's not what we expected to see. Why did we get a=1 and b=0 when we entered 10 as an input? Well, the thing is, when we enter a user defined value through the input() function it treats the **input as strings**. We can confirm this by using the **type()** function to check the data type of a and b."
   ]
  },
  {
   "cell_type": "code",
   "execution_count": 11,
   "id": "powered-carter",
   "metadata": {},
   "outputs": [
    {
     "name": "stdout",
     "output_type": "stream",
     "text": [
      "<class 'str'> \t <class 'str'>\n"
     ]
    }
   ],
   "source": [
    "print(type(a), \"\\t\", type(b))"
   ]
  },
  {
   "cell_type": "markdown",
   "id": "bfac8ee1",
   "metadata": {},
   "source": [
    "So, to handle this we can use the **int()** function to convert the input to an integer. This behaviour can be utilized inside **try-except** blocks to handle errors."
   ]
  },
  {
   "cell_type": "markdown",
   "metadata": {},
   "source": [
    "### <a id='toc6_2_'></a>[Python Output](#toc0_)"
   ]
  },
  {
   "attachments": {},
   "cell_type": "markdown",
   "id": "empty-organization",
   "metadata": {},
   "source": [
    "To provide output data to the standard output device we use the **print()** function."
   ]
  },
  {
   "cell_type": "code",
   "execution_count": 12,
   "id": "9c95bf9b",
   "metadata": {},
   "outputs": [
    {
     "name": "stdout",
     "output_type": "stream",
     "text": [
      "Hi this is Maidul Hasan speaking.\n"
     ]
    }
   ],
   "source": [
    "print(\"Hi this is Maidul Hasan speaking.\")"
   ]
  },
  {
   "cell_type": "markdown",
   "metadata": {},
   "source": [
    "#### <a id='toc6_2_1_'></a>[Output Formatting](#toc0_)"
   ]
  },
  {
   "cell_type": "code",
   "execution_count": 13,
   "id": "dirty-mitchell",
   "metadata": {},
   "outputs": [],
   "source": [
    "a = 10\n",
    "b = 20"
   ]
  },
  {
   "cell_type": "code",
   "execution_count": 14,
   "id": "herbal-statement",
   "metadata": {},
   "outputs": [
    {
     "name": "stdout",
     "output_type": "stream",
     "text": [
      "The value of a is 10 and the value of b is 20.\n"
     ]
    }
   ],
   "source": [
    "# Default output formatting\n",
    "print(\"The value of a is {} and the value of b is {}.\".format(a, b))"
   ]
  },
  {
   "cell_type": "code",
   "execution_count": 15,
   "id": "heavy-saturday",
   "metadata": {},
   "outputs": [
    {
     "name": "stdout",
     "output_type": "stream",
     "text": [
      "The value of b is 20 and the value of a is 10.\n"
     ]
    }
   ],
   "source": [
    "# Using Positional arguments\n",
    "print(\"The value of b is {1} and the value of a is {0}.\".format(a, b))"
   ]
  },
  {
   "cell_type": "code",
   "execution_count": 16,
   "id": "reserved-heating",
   "metadata": {},
   "outputs": [
    {
     "name": "stdout",
     "output_type": "stream",
     "text": [
      "Hi I'm Maidul Hasan and I'm 21 years old.\n"
     ]
    }
   ],
   "source": [
    "# Using Keyword arguments\n",
    "print(\"Hi I'm {name} and I'm {age} years old.\".format(name=\"Maidul Hasan\", age=\"21\"))"
   ]
  },
  {
   "cell_type": "code",
   "execution_count": 17,
   "id": "0ed0ed26",
   "metadata": {},
   "outputs": [
    {
     "name": "stdout",
     "output_type": "stream",
     "text": [
      "Hi I'm Maidul Hasan and I'm 21 years old.\n"
     ]
    }
   ],
   "source": [
    "# Using combination of Keyword and Positional arguments\n",
    "print(\"Hi I'm {name} and I'm {0} years old.\".format(21, name=\"Maidul Hasan\"))"
   ]
  },
  {
   "cell_type": "markdown",
   "metadata": {},
   "source": [
    "## <a id='toc7_'></a>[Operators](#toc0_)"
   ]
  },
  {
   "attachments": {},
   "cell_type": "markdown",
   "id": "dense-visibility",
   "metadata": {},
   "source": [
    "Operators are used to perform a variety of operations on variables and values."
   ]
  },
  {
   "attachments": {},
   "cell_type": "markdown",
   "id": "plastic-poster",
   "metadata": {},
   "source": [
    "- Arithmetic Operators: Arithmetic operators are used with numeric values to perform common mathematical operations."
   ]
  },
  {
   "attachments": {},
   "cell_type": "markdown",
   "id": "fluid-rocket",
   "metadata": {
    "id": "GzMry4JaIwbM"
   },
   "source": [
    "    + , -, *, /, %, //, **  are arithmetic operators"
   ]
  },
  {
   "attachments": {},
   "cell_type": "markdown",
   "id": "modular-street",
   "metadata": {
    "id": "0VZ0CRrQIwbP"
   },
   "source": [
    "- Comparison Operators: Comparison operators are used to compare values. It either returns True or False according to the condition."
   ]
  },
  {
   "attachments": {},
   "cell_type": "markdown",
   "id": "necessary-popularity",
   "metadata": {
    "id": "mC_cZK_sIwbR"
   },
   "source": [
    "    >, <, ==, !=, >=, <= are comparision operators"
   ]
  },
  {
   "attachments": {},
   "cell_type": "markdown",
   "id": "sitting-resistance",
   "metadata": {},
   "source": [
    "- Logical Operators: Logical operators are used to combine conditional statements."
   ]
  },
  {
   "attachments": {},
   "cell_type": "markdown",
   "id": "afraid-johnston",
   "metadata": {
    "id": "2Y_SzdwIIwbT"
   },
   "source": [
    "    'and' , 'or' , 'not' are logical operators"
   ]
  },
  {
   "attachments": {},
   "cell_type": "markdown",
   "id": "considerable-ivory",
   "metadata": {
    "id": "Cf0Sq7BNIwbV"
   },
   "source": [
    "- Bitwise Operators: Bitwise operators act on operands as if they were string of binary digits. It operates bit by bit"
   ]
  },
  {
   "attachments": {},
   "cell_type": "markdown",
   "id": "recovered-employer",
   "metadata": {
    "id": "evbzAWkgIwbV"
   },
   "source": [
    "    &,  |,  ~,  ^,  >>,  << are Bitwise operators"
   ]
  },
  {
   "attachments": {},
   "cell_type": "markdown",
   "id": "above-cause",
   "metadata": {
    "id": "NGGp6hJDIwbW"
   },
   "source": [
    "- Assignment Operators: Assignment operators are used in Python to assign values to variables."
   ]
  },
  {
   "attachments": {},
   "cell_type": "markdown",
   "id": "palestinian-money",
   "metadata": {
    "id": "3SHbnukkIwbX"
   },
   "source": [
    "    =,  +=,  -=,  *=,  /=,  %=,  //=,  **=, &=,  |=,  ^=,  >>=,  <<= are Assignment operators"
   ]
  },
  {
   "attachments": {},
   "cell_type": "markdown",
   "id": "coastal-island",
   "metadata": {
    "id": "BchWnKVBIwba"
   },
   "source": [
    "- Identity Operators: They are used to check if two values (or variables) are located on the same part of the memory."
   ]
  },
  {
   "attachments": {},
   "cell_type": "markdown",
   "id": "super-florist",
   "metadata": {},
   "source": [
    "    'is' and 'is not' are the Identity operators \n"
   ]
  },
  {
   "attachments": {},
   "cell_type": "markdown",
   "id": "demographic-apartment",
   "metadata": {
    "id": "5gs2UW0OIwbb"
   },
   "source": [
    "- Membership Operators: They are used to test whether a value or variable is found in a sequence (string, list, tuple, set and   dictionary)."
   ]
  },
  {
   "attachments": {},
   "cell_type": "markdown",
   "id": "sporting-consolidation",
   "metadata": {},
   "source": [
    "    'in' and 'not in' are the membership operators"
   ]
  },
  {
   "attachments": {},
   "cell_type": "markdown",
   "id": "6a38f951-0e05-468f-9001-fd05b6044bb3",
   "metadata": {},
   "source": [
    "For more information you can refer to (https://www.w3schools.com/python/python_operators.asp) or, read the official documentation."
   ]
  },
  {
   "cell_type": "code",
   "execution_count": null,
   "id": "bfa29485-a929-4963-a6aa-fc8700671479",
   "metadata": {},
   "outputs": [],
   "source": []
  }
 ],
 "metadata": {
  "kernelspec": {
   "display_name": "Python 3 (ipykernel)",
   "language": "python",
   "name": "python3"
  },
  "language_info": {
   "codemirror_mode": {
    "name": "ipython",
    "version": 3
   },
   "file_extension": ".py",
   "mimetype": "text/x-python",
   "name": "python",
   "nbconvert_exporter": "python",
   "pygments_lexer": "ipython3",
   "version": "3.8.16"
  }
 },
 "nbformat": 4,
 "nbformat_minor": 5
}
