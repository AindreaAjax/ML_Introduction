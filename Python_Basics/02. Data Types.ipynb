{
 "cells": [
  {
   "cell_type": "markdown",
   "id": "equal-uruguay",
   "metadata": {
    "tags": []
   },
   "source": [
    "# Data Types "
   ]
  },
  {
   "cell_type": "markdown",
   "id": "13251b3f-225b-4287-9974-69d02f684385",
   "metadata": {},
   "source": [
    "In programming, data type is an important concept. Variables can store data of different types, and different data types are used to do different things.\n",
    "\n",
    "Every value in Python has a datatype. Since everything is an **object** in Python we can think of data types as classes and variables as instances (objects) of these classes."
   ]
  },
  {
   "cell_type": "markdown",
   "id": "leading-premises",
   "metadata": {},
   "source": [
    "Built-in Python data type includes --\n",
    "\n",
    "    Text Type:\tstr\n",
    "    Numeric Types:\tint, float, complex\n",
    "    Sequence Types:\tlist, tuple, range\n",
    "    Mapping Type:\tdict\n",
    "    Set Types:\tset, frozenset\n",
    "    Boolean Type:\tbool\n",
    "    Binary Types:\tbytes, bytearray, memoryview"
   ]
  },
  {
   "cell_type": "markdown",
   "id": "southeast-basic",
   "metadata": {},
   "source": [
    "In Python, you don't have to declare the data type beforehand, the data type is set when you assign a value to a variable. If you want to specify a certain data type, you can use the **constructor functions** (i.e. str, dict, int) to do so. You can also use the constructor functions to convert between data types (Only if the value to be converted is supported in both the data types).\n",
    "    \n",
    "    Ex: num_text = str(20)."
   ]
  },
  {
   "cell_type": "markdown",
   "id": "capital-mills",
   "metadata": {},
   "source": [
    "We can see the data type of any object by using the `type()` function and using `isinstance()` can be used to check if an object belongs to a particular class."
   ]
  },
  {
   "cell_type": "markdown",
   "id": "b2f5bd25-9f7d-4f79-a5da-c7a2f894e324",
   "metadata": {
    "tags": []
   },
   "source": [
    "### Some key terms "
   ]
  },
  {
   "cell_type": "markdown",
   "id": "ideal-mozambique",
   "metadata": {},
   "source": [
    "#### Immutable objects"
   ]
  },
  {
   "cell_type": "markdown",
   "id": "headed-survival",
   "metadata": {},
   "source": [
    "Immutable Objects are objects that do not support index based assignment opperations. In Python **int, float, bool, string, unicode, tuple** are Immutable Objects."
   ]
  },
  {
   "cell_type": "markdown",
   "id": "25787638-9919-4dae-b4cb-5f9fcea42cab",
   "metadata": {},
   "source": [
    "#### Iterables "
   ]
  },
  {
   "cell_type": "markdown",
   "id": "761e261c-c651-44be-b348-604792dcdd62",
   "metadata": {},
   "source": [
    "An iterator is an object that can be iterated upon, meaning that you can traverse through all the values. Technically, in Python, an iterator is an object that implements the iterator protocol, which consist of the methods __iter__() and __next__().\n",
    "\n",
    "**Lists, tuples, dictionaries, and sets** are all iterable objects. They are iterable containers from which you can get an iterator. All these objects have an iter() method which is used to get an iterator."
   ]
  },
  {
   "cell_type": "code",
   "execution_count": 1,
   "id": "64218992-ab42-47c0-9d5a-5d358dfd8f7b",
   "metadata": {},
   "outputs": [
    {
     "name": "stdout",
     "output_type": "stream",
     "text": [
      "apple\n",
      "banana\n"
     ]
    }
   ],
   "source": [
    "fruits = (\"apple\", \"banana\", \"cherry\")\n",
    "fruit_iter = iter(fruits)\n",
    "\n",
    "print(next(fruit_iter))\n",
    "print(next(fruit_iter))"
   ]
  },
  {
   "cell_type": "markdown",
   "id": "57ea440d-a190-48a2-ba64-c42ba0366dbe",
   "metadata": {},
   "source": [
    "#### Indexing "
   ]
  },
  {
   "cell_type": "markdown",
   "id": "7c8effc5-fc14-4b7e-9dba-e99df70e2358",
   "metadata": {},
   "source": [
    "Indexing means referring to an element of an iterable by its position within that particular iterable. In python indexing **starts from 0**. Meaning, the first element of an iterable is indexed as 0 and the other elements are **indexed increamentaly** after that.\n",
    "\n",
    "But, in case of **negative indexing** it **starts at -1 from the back**."
   ]
  },
  {
   "cell_type": "markdown",
   "id": "1ada084e-3e09-43dc-b168-e3a26833edd3",
   "metadata": {},
   "source": [
    "#### Slicing "
   ]
  },
  {
   "cell_type": "markdown",
   "id": "cc636667-a57b-412e-b47a-b1df358fbb92",
   "metadata": {},
   "source": [
    "Slicing means getting a subset of elements from an iterable based on their indices."
   ]
  },
  {
   "cell_type": "markdown",
   "id": "85d2c6ee-b13b-4cbe-b35f-c5656a0a72d3",
   "metadata": {},
   "source": [
    " "
   ]
  },
  {
   "cell_type": "markdown",
   "id": "thrown-gambling",
   "metadata": {},
   "source": [
    "## Numbers"
   ]
  },
  {
   "cell_type": "markdown",
   "id": "403376dc-e815-46ce-9da6-e4c923c9a0ed",
   "metadata": {},
   "source": [
    "The 'Number' data type is not subscriptable i.e. it can't be accessed using indexes and it's also immutable."
   ]
  },
  {
   "cell_type": "markdown",
   "id": "fe4d1b34-786b-4fd6-a084-6e4ea2de9dd9",
   "metadata": {},
   "source": [
    "The Python \"Number\" data type includes Integers, Floats and Complex numbers. This data type can handle all four major types of number system i.e. Decimal, Binary, Octal and Hexadecimal. By default any number is treated as a decimal number. To use other types of number system use **0b, 0o, 0x** preceeding the number for binary, octal and hexadecimal numbers respectively."
   ]
  },
  {
   "cell_type": "code",
   "execution_count": 2,
   "id": "expanded-incentive",
   "metadata": {},
   "outputs": [
    {
     "name": "stdout",
     "output_type": "stream",
     "text": [
      "Integer equivalent of 0xFB: 251 \tOctal equivalent of binary 0b1101010: 0o152\n"
     ]
    }
   ],
   "source": [
    "# Number system conversion\n",
    "print(f\"Integer equivalent of 0xFB: {int('0xFB', 16)} \\tOctal equivalent of binary 0b1101010: {oct(0b1101010)}\")"
   ]
  },
  {
   "cell_type": "markdown",
   "id": "great-willow",
   "metadata": {},
   "source": [
    "## String"
   ]
  },
  {
   "cell_type": "markdown",
   "id": "33a860d6-3aac-478d-af27-49768a2365c5",
   "metadata": {},
   "source": [
    "Strings are sequences of character data.\n",
    "\n",
    "String literals may be delimited using either single or double quotes. All the characters between the opening delimiter and matching closing delimiter are part of the string. To represent a multi-line string you can use triple quotes (\"\"\".....\"\"\")."
   ]
  },
  {
   "cell_type": "markdown",
   "id": "67a8eed6-3d2d-4fbe-b188-95bcc537eec4",
   "metadata": {},
   "source": [
    "#### Escape Sequences in Strings\n",
    "\n",
    "Sometimes, you want Python to interpret a character or sequence of characters within a string differently. This may occur in one of two ways:\n",
    "\n",
    "- You may want to suppress the special interpretation that certain characters are usually given within a string. For example, to use quote signs in a string (\\\\') or to use the backslash (\\\\\\\\) sign in a string etc.\n",
    "- You may want to apply special interpretation to characters in a string which would normally be taken literally. For example, to enter a newline (\\n) or to use a tab in the string (\\t) etc.\n",
    "\n",
    "You can accomplish this using a backslash (\\\\) character. A backslash character in a string indicates that one or more characters that follow it should be treated specially. (This is referred to as an escape sequence, because the backslash causes the subsequent character sequence to “escape” its usual meaning.)"
   ]
  },
  {
   "cell_type": "markdown",
   "id": "2f136cac-0eb6-4e09-b40d-901d537bccfb",
   "metadata": {},
   "source": [
    "#### Raw String\n",
    "A raw string literal is preceded by r or R, which specifies that escape sequences in the associated string are not translated."
   ]
  },
  {
   "cell_type": "code",
   "execution_count": 3,
   "id": "6b721ac3-5b61-45fc-9c30-9d6a8c18620f",
   "metadata": {},
   "outputs": [
    {
     "name": "stdout",
     "output_type": "stream",
     "text": [
      "foo\\\\bar\n"
     ]
    }
   ],
   "source": [
    "print(r'foo\\\\bar')"
   ]
  },
  {
   "cell_type": "markdown",
   "id": "dbe3e623-0ed4-4ae5-bc73-622dc25317c5",
   "metadata": {},
   "source": [
    "#### Formatted String"
   ]
  },
  {
   "cell_type": "code",
   "execution_count": 4,
   "id": "231b6556-b226-49f1-b64c-94c655ecd93a",
   "metadata": {},
   "outputs": [
    {
     "name": "stdout",
     "output_type": "stream",
     "text": [
      "the result is 3.143\n"
     ]
    }
   ],
   "source": [
    "pi = 22 / 7\n",
    "print(\"the result is {r:.3f}\".format(r=pi))"
   ]
  },
  {
   "cell_type": "code",
   "execution_count": 5,
   "id": "verbal-restoration",
   "metadata": {},
   "outputs": [],
   "source": [
    "quote = \"to be or not to be\""
   ]
  },
  {
   "cell_type": "markdown",
   "id": "c8eb0d9f-5f73-4a10-8305-c08dc7130746",
   "metadata": {},
   "source": [
    "#### String Slicing"
   ]
  },
  {
   "cell_type": "markdown",
   "id": "16974ca8-4e65-4bde-b280-dba416b47490",
   "metadata": {},
   "source": [
    "Like many other popular programming languages, strings in Python are arrays of bytes representing unicode characters. Since strings are arrays, we can loop through the characters in a string, with a for loop or we can slice out a portion out of it using indices."
   ]
  },
  {
   "cell_type": "code",
   "execution_count": 6,
   "id": "496e1d77-9f26-479e-a324-800fb3cb9713",
   "metadata": {},
   "outputs": [
    {
     "data": {
      "text/plain": [
       "'eb ot ton ro eb ot'"
      ]
     },
     "execution_count": 6,
     "metadata": {},
     "output_type": "execute_result"
    }
   ],
   "source": [
    "quote[::-1]  # [start here:stop upon reaching here:step-over value]"
   ]
  },
  {
   "cell_type": "markdown",
   "id": "7fd46601-ba01-40d7-959e-99fdeef5cb0d",
   "metadata": {},
   "source": [
    "#### String Concatenation "
   ]
  },
  {
   "cell_type": "code",
   "execution_count": 7,
   "id": "4cef2bd5-68d0-4566-9af0-ef0954fb1687",
   "metadata": {},
   "outputs": [
    {
     "name": "stdout",
     "output_type": "stream",
     "text": [
      "Concatanted string\n",
      "repeated string repeated string \n"
     ]
    }
   ],
   "source": [
    "# Strings can be concataned with one another but not with other data types.\n",
    "string = \"string\"\n",
    "c_string = \"Concatanted\" + \" \" + string\n",
    "print(c_string)\n",
    "\n",
    "# The arithmatic multiplication operation on a string repeats the string\n",
    "r_string = \"repeated string \" * 2\n",
    "print(r_string)"
   ]
  },
  {
   "cell_type": "markdown",
   "id": "418b5aef-1e2a-41ab-b89f-1c70f1386e2b",
   "metadata": {},
   "source": [
    "#### Some useful string operations "
   ]
  },
  {
   "cell_type": "code",
   "execution_count": 8,
   "id": "4b492bff-8613-4884-bacc-ebeea9243646",
   "metadata": {},
   "outputs": [
    {
     "name": "stdout",
     "output_type": "stream",
     "text": [
      "True\n",
      "True\n"
     ]
    }
   ],
   "source": [
    "# To check if a certain phrase or character is present in a string,\n",
    "print(\"be\" in quote)\n",
    "# To check if a certain phrase or character is not present in a string,\n",
    "print(\"me\" not in quote)"
   ]
  },
  {
   "cell_type": "markdown",
   "id": "0f8140dc-3f47-47c9-8de6-ee4118acbb5f",
   "metadata": {},
   "source": [
    "#### Useful string methods"
   ]
  },
  {
   "cell_type": "code",
   "execution_count": 9,
   "id": "cf09bf7d-d9f2-4c8d-ac99-a5ce8a406ce5",
   "metadata": {},
   "outputs": [
    {
     "data": {
      "text/plain": [
       "'TO BE OR NOT TO BE'"
      ]
     },
     "execution_count": 9,
     "metadata": {},
     "output_type": "execute_result"
    }
   ],
   "source": [
    "quote.upper()"
   ]
  },
  {
   "cell_type": "code",
   "execution_count": 10,
   "id": "36a9fd06-f4bb-4602-b803-4ba5c459ab94",
   "metadata": {},
   "outputs": [
    {
     "data": {
      "text/plain": [
       "'to be or not to be'"
      ]
     },
     "execution_count": 10,
     "metadata": {},
     "output_type": "execute_result"
    }
   ],
   "source": [
    "quote.lower()"
   ]
  },
  {
   "cell_type": "code",
   "execution_count": 11,
   "id": "1e52c564-3e6b-4477-ad32-2ee07dd17023",
   "metadata": {},
   "outputs": [
    {
     "data": {
      "text/plain": [
       "'To be or not to be'"
      ]
     },
     "execution_count": 11,
     "metadata": {},
     "output_type": "execute_result"
    }
   ],
   "source": [
    "quote.capitalize()"
   ]
  },
  {
   "cell_type": "code",
   "execution_count": 12,
   "id": "1d769065-7273-4fc1-9bc2-d669c02a88fb",
   "metadata": {},
   "outputs": [
    {
     "data": {
      "text/plain": [
       "'to me or not to me'"
      ]
     },
     "execution_count": 12,
     "metadata": {},
     "output_type": "execute_result"
    }
   ],
   "source": [
    "quote.replace(\"be\", \"me\")"
   ]
  },
  {
   "cell_type": "code",
   "execution_count": 13,
   "id": "6479c230-fdf8-44fd-a7d0-4810b33a5fed",
   "metadata": {},
   "outputs": [
    {
     "data": {
      "text/plain": [
       "'hello!, hola'"
      ]
     },
     "execution_count": 13,
     "metadata": {},
     "output_type": "execute_result"
    }
   ],
   "source": [
    "\"    hello!, hola     \".strip()"
   ]
  },
  {
   "cell_type": "code",
   "execution_count": 14,
   "id": "f3b81432-c40f-4096-88a4-34a1f0b2281c",
   "metadata": {},
   "outputs": [
    {
     "data": {
      "text/plain": [
       "['to', 'be', 'or', 'not', 'to', 'be']"
      ]
     },
     "execution_count": 14,
     "metadata": {},
     "output_type": "execute_result"
    }
   ],
   "source": [
    "quote.split(\" \")"
   ]
  },
  {
   "cell_type": "code",
   "execution_count": 15,
   "id": "9b0b9547-f73c-4ca1-9406-541a5bca0544",
   "metadata": {},
   "outputs": [
    {
     "data": {
      "text/plain": [
       "('to be ', 'or', ' not to be')"
      ]
     },
     "execution_count": 15,
     "metadata": {},
     "output_type": "execute_result"
    }
   ],
   "source": [
    "quote.partition(\"or\")"
   ]
  },
  {
   "cell_type": "code",
   "execution_count": 16,
   "id": "ffbb6527-fc24-4a82-a597-b23f8d1608ae",
   "metadata": {},
   "outputs": [
    {
     "data": {
      "text/plain": [
       "'to be or not to be'"
      ]
     },
     "execution_count": 16,
     "metadata": {},
     "output_type": "execute_result"
    }
   ],
   "source": [
    "spl = quote.split(\" \")\n",
    "\" \".join(spl)"
   ]
  },
  {
   "cell_type": "code",
   "execution_count": 17,
   "id": "394cd11c-c80e-4c22-89cc-9e2181721329",
   "metadata": {},
   "outputs": [
    {
     "data": {
      "text/plain": [
       "True"
      ]
     },
     "execution_count": 17,
     "metadata": {},
     "output_type": "execute_result"
    }
   ],
   "source": [
    "quote.startswith(\"to\")"
   ]
  },
  {
   "cell_type": "code",
   "execution_count": 18,
   "id": "531b1883-9d81-49f6-8edd-091c64c26e5b",
   "metadata": {},
   "outputs": [
    {
     "data": {
      "text/plain": [
       "True"
      ]
     },
     "execution_count": 18,
     "metadata": {},
     "output_type": "execute_result"
    }
   ],
   "source": [
    "quote.endswith(\"be\")  # but theres no .contains method. Though 'in' may do the trick"
   ]
  },
  {
   "cell_type": "code",
   "execution_count": 19,
   "id": "f19c52f7-b8c7-4c72-b809-baf4d8ce3706",
   "metadata": {},
   "outputs": [
    {
     "data": {
      "text/plain": [
       "6"
      ]
     },
     "execution_count": 19,
     "metadata": {},
     "output_type": "execute_result"
    }
   ],
   "source": [
    "quote.find(\"or\")"
   ]
  },
  {
   "cell_type": "code",
   "execution_count": 20,
   "id": "db99679b-82df-40ad-8c4b-47077f868456",
   "metadata": {},
   "outputs": [
    {
     "data": {
      "text/plain": [
       "2"
      ]
     },
     "execution_count": 20,
     "metadata": {},
     "output_type": "execute_result"
    }
   ],
   "source": [
    "quote.count(\"be\")"
   ]
  },
  {
   "cell_type": "markdown",
   "id": "f7154cec-c308-4679-9e9e-1f3b64d69174",
   "metadata": {},
   "source": [
    "You can refer to (https://www.w3schools.com/python/python_strings_methods.asp) or read the official documentation for further reference."
   ]
  },
  {
   "cell_type": "markdown",
   "id": "33070fc5-c80f-4e17-8c75-3fcac19fcbe8",
   "metadata": {},
   "source": [
    " "
   ]
  },
  {
   "cell_type": "markdown",
   "id": "c1dfddd5-70d5-4ff7-8934-c7a1a7eebd07",
   "metadata": {},
   "source": [
    "## Boolean "
   ]
  },
  {
   "cell_type": "markdown",
   "id": "1eb6be12-8850-495f-a2ed-9ed398a942b5",
   "metadata": {},
   "source": [
    "Objects of Boolean type may have one of two values, True or False."
   ]
  },
  {
   "cell_type": "markdown",
   "id": "7fccf97d-703d-457f-bb68-7ecd01dd5121",
   "metadata": {},
   "source": [
    "Almost any value is evaluated to True if it has some sort of content. Any string is True, except empty strings. Any number is True, except 0. Any list, tuple, set, and dictionary are True, except empty ones.\n",
    "\n",
    "Some Values are False. In fact, there are not many values that evaluate to False, except empty values, such as ( ), [ ], { }, \" \", the number 0, and the value None. And of course the value False evaluates to False."
   ]
  },
  {
   "cell_type": "markdown",
   "id": "a26691be-ecdc-4e55-a374-f27195460305",
   "metadata": {},
   "source": [
    " "
   ]
  },
  {
   "cell_type": "markdown",
   "id": "military-publicity",
   "metadata": {},
   "source": [
    "## List "
   ]
  },
  {
   "cell_type": "markdown",
   "id": "08cd649c-0963-47c3-9b48-5d0bf8516878",
   "metadata": {
    "id": "HmvLG9uqjAjY"
   },
   "source": [
    "List is an ordered sequence of items. It is one of the most used datatype in Python and is very flexible. The items in a list need not to be of the same type. List also allows duplicate items.\n",
    "\n",
    "List is defined by values separated by comma inside brackets [\\-, \\-, \\-, \\-]."
   ]
  },
  {
   "cell_type": "markdown",
   "id": "53cb143c-a572-4c5d-a813-cb843de9db5e",
   "metadata": {
    "id": "RxDNwaW9jAjd"
   },
   "source": [
    "Lists are mutable, i.e., value of any certain element in a list can be changed."
   ]
  },
  {
   "cell_type": "markdown",
   "id": "126c6da3-6bc2-4b08-81cf-5ce4cdd6b74e",
   "metadata": {},
   "source": [
    "#### List Slicing "
   ]
  },
  {
   "cell_type": "markdown",
   "id": "68583e12-8099-402d-ac60-1b8f52b2d206",
   "metadata": {},
   "source": [
    "Lists can be accessed via indices and thus can be sliced in parts too."
   ]
  },
  {
   "cell_type": "code",
   "execution_count": 21,
   "id": "18a4a492-24a8-4f81-a1fa-27b123a229ec",
   "metadata": {},
   "outputs": [
    {
     "name": "stdout",
     "output_type": "stream",
     "text": [
      "['orange', 'kiwi', 'melon']\n"
     ]
    }
   ],
   "source": [
    "fruits = [\"apple\", \"banana\", \"cherry\", \"orange\", \"kiwi\", \"melon\", \"mango\"]\n",
    "print(fruits[-4:-1])"
   ]
  },
  {
   "cell_type": "markdown",
   "id": "9d8aeed5-aced-4df2-b4d3-c36e910bcde2",
   "metadata": {},
   "source": [
    "#### Useful list methods"
   ]
  },
  {
   "cell_type": "code",
   "execution_count": 22,
   "id": "da552257-5807-4ef8-a608-e2d8ab9b50ae",
   "metadata": {},
   "outputs": [],
   "source": [
    "# Add Items "
   ]
  },
  {
   "cell_type": "code",
   "execution_count": 23,
   "id": "1ddc3d58-e6bc-4d22-a8c9-0989f99389e9",
   "metadata": {},
   "outputs": [
    {
     "data": {
      "text/plain": [
       "['apple', 'banana', 'cherry', 'orange', 'kiwi', 'melon', 'mango', 'avocado']"
      ]
     },
     "execution_count": 23,
     "metadata": {},
     "output_type": "execute_result"
    }
   ],
   "source": [
    "fruits.append(\"avocado\")  # changes in place\n",
    "fruits"
   ]
  },
  {
   "cell_type": "code",
   "execution_count": 24,
   "id": "3c810518-197a-491f-a832-4fba602bbdd3",
   "metadata": {},
   "outputs": [
    {
     "data": {
      "text/plain": [
       "['apple',\n",
       " 'banana',\n",
       " 'cherry',\n",
       " 'orange',\n",
       " 'apple',\n",
       " 'kiwi',\n",
       " 'melon',\n",
       " 'mango',\n",
       " 'avocado']"
      ]
     },
     "execution_count": 24,
     "metadata": {},
     "output_type": "execute_result"
    }
   ],
   "source": [
    "fruits.insert(4, \"apple\")  # changes in place\n",
    "fruits"
   ]
  },
  {
   "cell_type": "code",
   "execution_count": 25,
   "id": "4f77a998-05fa-4ea0-9368-c0a543108c97",
   "metadata": {},
   "outputs": [
    {
     "data": {
      "text/plain": [
       "['apple',\n",
       " 'banana',\n",
       " 'cherry',\n",
       " 'orange',\n",
       " 'apple',\n",
       " 'kiwi',\n",
       " 'melon',\n",
       " 'mango',\n",
       " 'avocado',\n",
       " 'pineapple',\n",
       " 'papaya']"
      ]
     },
     "execution_count": 25,
     "metadata": {},
     "output_type": "execute_result"
    }
   ],
   "source": [
    "fruits.extend([\"pineapple\", \"papaya\"])  # changes in place # you can pass the items to be added in a tuple too.\n",
    "fruits"
   ]
  },
  {
   "cell_type": "code",
   "execution_count": 26,
   "id": "931f6488-017e-4248-a73b-0d4c05b882e9",
   "metadata": {},
   "outputs": [],
   "source": [
    "# Remove items"
   ]
  },
  {
   "cell_type": "code",
   "execution_count": 27,
   "id": "c25be820-aad3-4e6a-be19-a815791ecef7",
   "metadata": {},
   "outputs": [
    {
     "data": {
      "text/plain": [
       "'banana'"
      ]
     },
     "execution_count": 27,
     "metadata": {},
     "output_type": "execute_result"
    }
   ],
   "source": [
    "fruits.pop(1)"
   ]
  },
  {
   "cell_type": "code",
   "execution_count": 28,
   "id": "9f565b09-a0fd-4be5-a510-ccc216413cec",
   "metadata": {
    "tags": []
   },
   "outputs": [
    {
     "data": {
      "text/plain": [
       "['apple',\n",
       " 'orange',\n",
       " 'apple',\n",
       " 'kiwi',\n",
       " 'melon',\n",
       " 'mango',\n",
       " 'avocado',\n",
       " 'pineapple',\n",
       " 'papaya']"
      ]
     },
     "execution_count": 28,
     "metadata": {},
     "output_type": "execute_result"
    }
   ],
   "source": [
    "fruits.remove(\"cherry\")  # changes in place\n",
    "fruits"
   ]
  },
  {
   "cell_type": "code",
   "execution_count": 29,
   "id": "ae37844a-5363-4b57-a4a2-8f7c1ec53299",
   "metadata": {},
   "outputs": [],
   "source": [
    "# fruits.clear  # empties the list. The list still remains, but it has no content."
   ]
  },
  {
   "cell_type": "code",
   "execution_count": 30,
   "id": "feac7d18-cea1-42d5-8dc4-fe7896eb8225",
   "metadata": {},
   "outputs": [
    {
     "data": {
      "text/plain": [
       "2"
      ]
     },
     "execution_count": 30,
     "metadata": {},
     "output_type": "execute_result"
    }
   ],
   "source": [
    "fruits.count(\"apple\")"
   ]
  },
  {
   "cell_type": "code",
   "execution_count": 31,
   "id": "9cf35406-730b-48e0-8658-f02af64863f0",
   "metadata": {},
   "outputs": [
    {
     "data": {
      "text/plain": [
       "6"
      ]
     },
     "execution_count": 31,
     "metadata": {},
     "output_type": "execute_result"
    }
   ],
   "source": [
    "fruits.index(\"avocado\")"
   ]
  },
  {
   "cell_type": "code",
   "execution_count": 32,
   "id": "0f69c81b-1860-4c87-80eb-eda3f5006aa2",
   "metadata": {},
   "outputs": [
    {
     "data": {
      "text/plain": [
       "['apple',\n",
       " 'apple',\n",
       " 'avocado',\n",
       " 'kiwi',\n",
       " 'mango',\n",
       " 'melon',\n",
       " 'orange',\n",
       " 'papaya',\n",
       " 'pineapple']"
      ]
     },
     "execution_count": 32,
     "metadata": {},
     "output_type": "execute_result"
    }
   ],
   "source": [
    "fruits.sort() # changes in place\n",
    "fruits"
   ]
  },
  {
   "cell_type": "code",
   "execution_count": 33,
   "id": "e8f6d83a-f24e-4288-ac99-ba46cf294405",
   "metadata": {},
   "outputs": [
    {
     "data": {
      "text/plain": [
       "['pineapple',\n",
       " 'papaya',\n",
       " 'orange',\n",
       " 'melon',\n",
       " 'mango',\n",
       " 'kiwi',\n",
       " 'avocado',\n",
       " 'apple',\n",
       " 'apple']"
      ]
     },
     "execution_count": 33,
     "metadata": {},
     "output_type": "execute_result"
    }
   ],
   "source": [
    "fruits.reverse()  # changes in place\n",
    "fruits"
   ]
  },
  {
   "cell_type": "markdown",
   "id": "d5822d85-74b8-4570-8926-4ba9702b6aed",
   "metadata": {},
   "source": [
    "#### List unpacking"
   ]
  },
  {
   "cell_type": "code",
   "execution_count": 34,
   "id": "daf8629f-a08f-4e21-beda-2a0a7e32b45e",
   "metadata": {},
   "outputs": [
    {
     "name": "stdout",
     "output_type": "stream",
     "text": [
      "a = 1; b = 2; c = 3; d = [4, 5, 6, 7, 8, 9]; e = 10\n"
     ]
    }
   ],
   "source": [
    "a,b,c, *d,e = [1,2,3,4,5,6,7,8,9,10]\n",
    "print(f\"a = {a}; b = {b}; c = {c}; d = {d}; e = {e}\")"
   ]
  },
  {
   "cell_type": "markdown",
   "id": "48a69a3b-bb07-4d95-8fc0-f6ca30aa5e77",
   "metadata": {},
   "source": [
    "#### List Comprehension"
   ]
  },
  {
   "cell_type": "markdown",
   "id": "dc19b9bc-ce20-4327-a448-02ac278f0142",
   "metadata": {},
   "source": [
    "    syntax : [expression for item in iterable if conditional_statement]\n",
    "The expression is the current item in the iteration, but it is also the outcome, which you can manipulate before it ends up becoming an item in the new list."
   ]
  },
  {
   "cell_type": "code",
   "execution_count": 35,
   "id": "91fa644b-8a58-464f-b493-8672ff96715b",
   "metadata": {},
   "outputs": [
    {
     "data": {
      "text/plain": [
       "[0, 4, 16, 36, 64]"
      ]
     },
     "execution_count": 35,
     "metadata": {},
     "output_type": "execute_result"
    }
   ],
   "source": [
    "numbers_lst = [num ** 2 for num in range(0, 10) if num % 2 == 0]\n",
    "numbers_lst"
   ]
  },
  {
   "cell_type": "markdown",
   "id": "7531b557-38ee-4ef4-adc7-10141e554b26",
   "metadata": {},
   "source": [
    "The expression can also contain conditions, not like a filter rather, as a way to manipulate the outcome:"
   ]
  },
  {
   "cell_type": "code",
   "execution_count": 36,
   "id": "7efccc3f-4b84-47a1-a56e-8012d909d60d",
   "metadata": {},
   "outputs": [
    {
     "name": "stdout",
     "output_type": "stream",
     "text": [
      "['apple', 'orange', 'cherry', 'orange', 'kiwi', 'melon', 'mango']\n"
     ]
    }
   ],
   "source": [
    "fruits = [\"apple\", \"banana\", \"cherry\", \"orange\", \"kiwi\", \"melon\", \"mango\"]\n",
    "fruits_newlist = [x if x != \"banana\" else \"orange\" for x in fruits]\n",
    "\n",
    "print(fruits_newlist) "
   ]
  },
  {
   "cell_type": "markdown",
   "id": "643f13ae-e556-4247-9215-9a57519f5fb2",
   "metadata": {},
   "source": [
    "You can refer to (https://www.w3schools.com/python/python_lists_methods.asp) or, read the official documentation for further reference."
   ]
  },
  {
   "cell_type": "markdown",
   "id": "technical-distinction",
   "metadata": {},
   "source": [
    "## Tuples "
   ]
  },
  {
   "cell_type": "markdown",
   "id": "51923420-d8ef-49e2-95ff-5cab639aa3b2",
   "metadata": {},
   "source": [
    "A tuple is an immutable list. Instead of brackets [ ] , a tuple is enclosed within paranthesis (). Similar to lists, tuples are ordered collection of items and being such the items can be accessed using indexes."
   ]
  },
  {
   "cell_type": "markdown",
   "id": "dcc5d172-6125-4985-998f-139ad426235c",
   "metadata": {},
   "source": [
    "As tuples are indexed they can be accessed and sliced as like lists and strings but, since they are immutable you can not change the value of an item or, add items to it or, remove items from it once created."
   ]
  },
  {
   "cell_type": "markdown",
   "id": "29183648-a67a-45f6-ab46-7df2f6152102",
   "metadata": {},
   "source": [
    "#### Tuple unpacking "
   ]
  },
  {
   "cell_type": "code",
   "execution_count": 37,
   "id": "0ed4e8d8-2297-4815-903d-aaf0c8ae9853",
   "metadata": {},
   "outputs": [
    {
     "name": "stdout",
     "output_type": "stream",
     "text": [
      "a = 1; b = 2; c = 3; d = [4, 5, 6, 7, 8, 9]; e = 10\n"
     ]
    }
   ],
   "source": [
    "a,b,c, *d,e = (1,2,3,4,5,6,7,8,9,10)\n",
    "print(f\"a = {a}; b = {b}; c = {c}; d = {d}; e = {e}\")"
   ]
  },
  {
   "cell_type": "markdown",
   "id": "c8e2e71c-5c32-4a1b-b718-38e33a780c4d",
   "metadata": {},
   "source": [
    "#### Useful tuple methods "
   ]
  },
  {
   "cell_type": "code",
   "execution_count": 38,
   "id": "3e731ef4-5b60-4c4c-8721-273f1b1aa2e3",
   "metadata": {},
   "outputs": [],
   "source": [
    "quote_words = (\"to\", \"be\", \"or\", \"not\", \"to\", \"be\")"
   ]
  },
  {
   "cell_type": "code",
   "execution_count": 39,
   "id": "66d86855-9a0e-4258-97ee-f48d91af283d",
   "metadata": {},
   "outputs": [
    {
     "data": {
      "text/plain": [
       "2"
      ]
     },
     "execution_count": 39,
     "metadata": {},
     "output_type": "execute_result"
    }
   ],
   "source": [
    "quote_words.count(\"to\")"
   ]
  },
  {
   "cell_type": "code",
   "execution_count": 40,
   "id": "20dd0a2f-7731-44e4-b0d9-3c5d85543417",
   "metadata": {},
   "outputs": [
    {
     "data": {
      "text/plain": [
       "2"
      ]
     },
     "execution_count": 40,
     "metadata": {},
     "output_type": "execute_result"
    }
   ],
   "source": [
    "quote_words.index(\"or\")"
   ]
  },
  {
   "cell_type": "markdown",
   "id": "81bda44f-3b0b-4b07-8cf5-768e25acf68b",
   "metadata": {},
   "source": [
    " "
   ]
  },
  {
   "cell_type": "markdown",
   "id": "formal-puppy",
   "metadata": {},
   "source": [
    "## Set"
   ]
  },
  {
   "cell_type": "markdown",
   "id": "c98de94b-faf3-4af9-ad1e-5a7ad38b9a18",
   "metadata": {},
   "source": [
    "Set is a collection which is unordered and unindexed. It doesn't allow duplicate members. Set is defined by values separated by comma inside braces { }."
   ]
  },
  {
   "cell_type": "markdown",
   "id": "0addc994-2877-4f01-a7c1-054648fb9def",
   "metadata": {},
   "source": [
    "As sets are unordered and unindexed you can't access a set item but, you can search if an item exists in that set or not with the `in` function. Since you can't access set items, you can't change them. But you can add or remove items from it."
   ]
  },
  {
   "cell_type": "markdown",
   "id": "dc7bc38f-c8aa-4907-b12b-ca56e4abcc3e",
   "metadata": {},
   "source": [
    "#### Useful set methods "
   ]
  },
  {
   "cell_type": "code",
   "execution_count": 41,
   "id": "062657e5-3850-4c83-a280-9d7528467eb4",
   "metadata": {},
   "outputs": [],
   "source": [
    "fruits = {\"apple\", \"banana\", \"cherry\"}"
   ]
  },
  {
   "cell_type": "code",
   "execution_count": 42,
   "id": "f599d130-a9c4-4b00-8cb0-4041fbe5f57d",
   "metadata": {},
   "outputs": [],
   "source": [
    "# Adding new items"
   ]
  },
  {
   "cell_type": "code",
   "execution_count": 43,
   "id": "1ff3ec73-dff9-4415-88fa-0734fc8c885e",
   "metadata": {},
   "outputs": [
    {
     "data": {
      "text/plain": [
       "{'apple', 'banana', 'cherry', 'orange'}"
      ]
     },
     "execution_count": 43,
     "metadata": {},
     "output_type": "execute_result"
    }
   ],
   "source": [
    "fruits.add(\"orange\")  # changes in place\n",
    "fruits"
   ]
  },
  {
   "cell_type": "code",
   "execution_count": 44,
   "id": "3b31807b-89e8-4645-9f12-e0589bd98ee1",
   "metadata": {},
   "outputs": [
    {
     "data": {
      "text/plain": [
       "{'apple', 'banana', 'cherry', 'kiwi', 'mango', 'orange'}"
      ]
     },
     "execution_count": 44,
     "metadata": {},
     "output_type": "execute_result"
    }
   ],
   "source": [
    "fruits.update([\"kiwi\", \"mango\"])  # changes in place # adds the items of an iterable to a set\n",
    "fruits"
   ]
  },
  {
   "cell_type": "code",
   "execution_count": 45,
   "id": "5da92769-59bd-4a11-b724-2f989d46f287",
   "metadata": {},
   "outputs": [],
   "source": [
    "# Removing items"
   ]
  },
  {
   "cell_type": "code",
   "execution_count": 46,
   "id": "f23b87b6-b363-49d3-81fd-2956cc9c244d",
   "metadata": {},
   "outputs": [
    {
     "data": {
      "text/plain": [
       "{'apple', 'banana', 'cherry', 'mango', 'orange'}"
      ]
     },
     "execution_count": 46,
     "metadata": {},
     "output_type": "execute_result"
    }
   ],
   "source": [
    "fruits.remove(\"kiwi\")  # changes in place\n",
    "fruits"
   ]
  },
  {
   "cell_type": "code",
   "execution_count": 47,
   "id": "857b515d-b3d7-41d2-af0f-166a6cdadf4c",
   "metadata": {},
   "outputs": [],
   "source": [
    "fruits.discard(\"kiwi\")  # changes in place # If doesn't exist, discard() will NOT raise an error."
   ]
  },
  {
   "cell_type": "code",
   "execution_count": 48,
   "id": "52ec249a-c9a5-426c-9746-b931ae38f545",
   "metadata": {},
   "outputs": [],
   "source": [
    "# fruits.clear()  # empties the set"
   ]
  },
  {
   "cell_type": "markdown",
   "id": "c7e32217-8e96-4846-81e0-6d9d02126e0d",
   "metadata": {},
   "source": [
    "You can refer to (https://www.w3schools.com/python/python_sets_methods.asp) or read the official documentation for further reference."
   ]
  },
  {
   "cell_type": "markdown",
   "id": "ceb04e02-d763-430d-b4ff-1a61ee736b1d",
   "metadata": {},
   "source": [
    "#### Set comprehension"
   ]
  },
  {
   "cell_type": "markdown",
   "id": "0a69604e-8271-47d7-b67c-83c33ddb1949",
   "metadata": {},
   "source": [
    "    syntax : {expression for item in iterable if conditional_statement}\n",
    "The expression is the current item in the iteration, but it is also the outcome, which you can manipulate before it ends up becoming an item in the new set."
   ]
  },
  {
   "cell_type": "code",
   "execution_count": 49,
   "id": "3b3c19f0-03f9-4e31-9d81-81f8df519e7d",
   "metadata": {},
   "outputs": [
    {
     "name": "stdout",
     "output_type": "stream",
     "text": [
      "{'n', 'b'}\n"
     ]
    }
   ],
   "source": [
    "my_list = ['a', 'b', 'c', 'b', 'd', 'n', 'b', 'm', 'n']\n",
    "duplicates = {char for char in my_list if my_list.count(char)>1}\n",
    "print(duplicates)"
   ]
  },
  {
   "cell_type": "markdown",
   "id": "45264d48-60ba-4951-bb56-853bf016fe7a",
   "metadata": {},
   "source": [
    " "
   ]
  },
  {
   "cell_type": "markdown",
   "id": "variable-marketing",
   "metadata": {},
   "source": [
    "## Dictionary"
   ]
  },
  {
   "cell_type": "markdown",
   "id": "bc5f63ae-64b3-4280-9684-e7b50f94455d",
   "metadata": {},
   "source": [
    "Characteristics of dictionary objects: \n",
    "- dictionary is an ordered collection of **key: value** pairs.\n",
    "- a key must be unique and immutable i.e. number, string, tuple etc.\n",
    "- can't be accessed by indexes rather they are accessed by keys."
   ]
  },
  {
   "cell_type": "code",
   "execution_count": 50,
   "id": "ethical-stability",
   "metadata": {},
   "outputs": [],
   "source": [
    "user = {\n",
    "    'name': 'maidul',\n",
    "    'greet': 'welcome here',\n",
    "    'age': 20\n",
    "}"
   ]
  },
  {
   "cell_type": "markdown",
   "id": "b1ba49f1-da81-448d-be20-4214ded67242",
   "metadata": {},
   "source": [
    "#### Useful dictionary methods"
   ]
  },
  {
   "cell_type": "code",
   "execution_count": 51,
   "id": "74fe5556-9b18-45ab-a922-a2bcf9382447",
   "metadata": {},
   "outputs": [
    {
     "data": {
      "text/plain": [
       "20"
      ]
     },
     "execution_count": 51,
     "metadata": {},
     "output_type": "execute_result"
    }
   ],
   "source": [
    "user.get('age', 33)  # if age doesn't exists then it will set the value to 33."
   ]
  },
  {
   "cell_type": "code",
   "execution_count": 52,
   "id": "60350417-ef18-4c77-90dd-f0c2a765179b",
   "metadata": {},
   "outputs": [
    {
     "data": {
      "text/plain": [
       "dict_items([('name', 'maidul'), ('greet', 'welcome here'), ('age', 20)])"
      ]
     },
     "execution_count": 52,
     "metadata": {},
     "output_type": "execute_result"
    }
   ],
   "source": [
    "user.items()"
   ]
  },
  {
   "cell_type": "code",
   "execution_count": 53,
   "id": "1fb57243-a963-4167-add4-5a67b608ca5c",
   "metadata": {},
   "outputs": [
    {
     "data": {
      "text/plain": [
       "dict_keys(['name', 'greet', 'age'])"
      ]
     },
     "execution_count": 53,
     "metadata": {},
     "output_type": "execute_result"
    }
   ],
   "source": [
    "user.keys()"
   ]
  },
  {
   "cell_type": "code",
   "execution_count": 54,
   "id": "8149d04e-6b2a-411b-b4cd-35a616134de8",
   "metadata": {},
   "outputs": [
    {
     "data": {
      "text/plain": [
       "dict_values(['maidul', 'welcome here', 20])"
      ]
     },
     "execution_count": 54,
     "metadata": {},
     "output_type": "execute_result"
    }
   ],
   "source": [
    "user.values()"
   ]
  },
  {
   "cell_type": "code",
   "execution_count": 55,
   "id": "f8d9a8fd-954a-47e4-89b5-3d9356fd8d27",
   "metadata": {},
   "outputs": [],
   "source": [
    "user.update({'age': 30})"
   ]
  },
  {
   "cell_type": "code",
   "execution_count": 56,
   "id": "26e40d5c-debd-4c09-af76-6f5d9cd03528",
   "metadata": {},
   "outputs": [
    {
     "data": {
      "text/plain": [
       "'welcome here'"
      ]
     },
     "execution_count": 56,
     "metadata": {},
     "output_type": "execute_result"
    }
   ],
   "source": [
    "user.pop(\"greet\")  # changes in place"
   ]
  },
  {
   "cell_type": "code",
   "execution_count": 57,
   "id": "6b4e4afd-9da6-446c-b873-3340436bfc63",
   "metadata": {},
   "outputs": [],
   "source": [
    "# user.clear()  # empties the dictionary"
   ]
  },
  {
   "cell_type": "markdown",
   "id": "3aead1e3-adfa-469e-a054-71b916f4de30",
   "metadata": {},
   "source": [
    "You can refer to (https://www.w3schools.com/python/python_dictionaries_methods.asp) or read the official documentation for further reference."
   ]
  },
  {
   "cell_type": "markdown",
   "id": "e56058d2-f168-4c7e-b865-6b787ec2b37f",
   "metadata": {},
   "source": [
    "#### Dictionary comprehension"
   ]
  },
  {
   "cell_type": "markdown",
   "id": "119188f4-c226-43aa-9b2f-f58b356ff4ac",
   "metadata": {},
   "source": [
    "    syntax : {key: value for key, value in iterable if conditional_statement}"
   ]
  },
  {
   "cell_type": "code",
   "execution_count": 58,
   "id": "62f7a0c8-cf9f-4f7e-acd0-f54777c7ee1b",
   "metadata": {},
   "outputs": [
    {
     "name": "stdout",
     "output_type": "stream",
     "text": [
      "{'b': 4, 'd': 16}\n"
     ]
    }
   ],
   "source": [
    "sample_dict = {\n",
    "    'a': 1,\n",
    "    'b': 2,\n",
    "    'c': 3,\n",
    "    'd': 4\n",
    "}\n",
    "dict_comp = {key: value ** 2 for key, value in sample_dict.items() if value % 2 == 0}\n",
    "print(dict_comp)"
   ]
  },
  {
   "cell_type": "code",
   "execution_count": null,
   "id": "equal-trick",
   "metadata": {},
   "outputs": [],
   "source": []
  }
 ],
 "metadata": {
  "kernelspec": {
   "display_name": "Python 3 (ipykernel)",
   "language": "python",
   "name": "python3"
  },
  "language_info": {
   "codemirror_mode": {
    "name": "ipython",
    "version": 3
   },
   "file_extension": ".py",
   "mimetype": "text/x-python",
   "name": "python",
   "nbconvert_exporter": "python",
   "pygments_lexer": "ipython3",
   "version": "3.10.5"
  }
 },
 "nbformat": 4,
 "nbformat_minor": 5
}
