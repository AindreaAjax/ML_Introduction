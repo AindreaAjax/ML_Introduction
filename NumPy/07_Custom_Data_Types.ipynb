{
 "cells": [
  {
   "cell_type": "code",
   "execution_count": 1,
   "metadata": {},
   "outputs": [],
   "source": [
    "## Import statements\n",
    "import numpy as np"
   ]
  },
  {
   "cell_type": "markdown",
   "metadata": {},
   "source": [
    "## Custom Data Types ([Docs](https://numpy.org/doc/stable/reference/generated/numpy.dtype.html))"
   ]
  },
  {
   "cell_type": "markdown",
   "metadata": {},
   "source": [
    "Yes, you heard (or more like read) that right. Numpy offers the `np.dtype()` method that you can use to create your own data type. So you may be asking how is this useful? \n",
    "\n",
    "This is very useful if you are to work with **structured data** in Numpy. Regular NumPy arrays typically have a homogeneous data type, meaning that all elements within the array must have the same data type. This limitation can be restrictive when you're dealing with structured data that includes multiple types of information, such as strings, integers, and floats. This is where structured arrays with named fields come into play.\n",
    "\n",
    "Structured arrays, created using the np.dtype() method, provide a way to store data with different data types within the same array. Each field in the structured array can have its own data type, allowing you to create arrays that effectively represent structured data while still benefiting from NumPy's performance optimizations."
   ]
  },
  {
   "cell_type": "markdown",
   "metadata": {},
   "source": [
    "Also this can be helpful in various situations where the built-in data types provided by NumPy don't precisely meet your needs. Creating a new data type using np.dtype() can offer benefits like **memory optimization, improved data organization, and customized behavior** for your data. Below we discuss briefly about these benefits with examples."
   ]
  },
  {
   "cell_type": "markdown",
   "metadata": {},
   "source": [
    "### *Custom data types for data organization*"
   ]
  },
  {
   "cell_type": "markdown",
   "metadata": {},
   "source": [
    "You can define structured data types that contain multiple fields with different data types. This is particularly useful when you have structured data, like records with multiple attributes."
   ]
  },
  {
   "cell_type": "markdown",
   "metadata": {},
   "source": [
    "Suppose you have a dataset of products, each with attributes like name, price, and category. By defining a structured data type, you can organize your data easily and effectively."
   ]
  },
  {
   "cell_type": "code",
   "execution_count": 2,
   "metadata": {},
   "outputs": [],
   "source": [
    "# Define a structured data type for product information\n",
    "product_dtype = np.dtype(\n",
    "    [\n",
    "        (\"name\", \"U50\"),  # Name of the product (up to 50 characters)\n",
    "        (\"price\", \"float64\"),  # Price of the product\n",
    "        (\"category\", \"U20\"),  # Category of the product (up to 20 characters)\n",
    "    ]\n",
    ")\n",
    "\n",
    "# Create an array of products using the custom data type\n",
    "products = np.array(\n",
    "    [\n",
    "        (\"Laptop\", 1200.00, \"Electronics\"),\n",
    "        (\"T-shirt\", 25.00, \"Apparel\"),\n",
    "        (\"Coffee Maker\", 80.00, \"Appliances\"),\n",
    "        (\"Headphones\", 150.00, \"Electronics\"),\n",
    "    ],\n",
    "    dtype=product_dtype,\n",
    ")"
   ]
  },
  {
   "cell_type": "code",
   "execution_count": 3,
   "metadata": {},
   "outputs": [
    {
     "data": {
      "text/plain": [
       "array([('Laptop', 1200., 'Electronics'), ('T-shirt',   25., 'Apparel'),\n",
       "       ('Coffee Maker',   80., 'Appliances'),\n",
       "       ('Headphones',  150., 'Electronics')],\n",
       "      dtype=[('name', '<U50'), ('price', '<f8'), ('category', '<U20')])"
      ]
     },
     "execution_count": 3,
     "metadata": {},
     "output_type": "execute_result"
    }
   ],
   "source": [
    "products"
   ]
  },
  {
   "cell_type": "markdown",
   "metadata": {},
   "source": [
    "**This type of structured data structures allows you to access and manipulate data within the structured array using the field names as indices.** This allows you to filter, modify, and analyze data based on specific attributes."
   ]
  },
  {
   "cell_type": "code",
   "execution_count": 4,
   "metadata": {},
   "outputs": [
    {
     "data": {
      "text/plain": [
       "array(['Electronics', 'Apparel', 'Appliances', 'Electronics'],\n",
       "      dtype='<U20')"
      ]
     },
     "execution_count": 4,
     "metadata": {},
     "output_type": "execute_result"
    }
   ],
   "source": [
    "products[\"category\"]"
   ]
  },
  {
   "cell_type": "markdown",
   "metadata": {},
   "source": [
    "This ability to organize and access data by meaningful field names, improves code readability and maintainability. This allows us to perform operations and calculations on specific fields, providing fine-grained control over data manipulation."
   ]
  },
  {
   "cell_type": "code",
   "execution_count": 5,
   "metadata": {},
   "outputs": [
    {
     "name": "stdout",
     "output_type": "stream",
     "text": [
      "Electronics Products:\n",
      "[('Laptop', 1200., 'Electronics') ('Headphones',  150., 'Electronics')]\n",
      "\n",
      "Expensive Products:\n",
      "[('Laptop', 1200., 'Electronics') ('Headphones',  150., 'Electronics')]\n",
      "\n",
      "Average Electronics Price: 675.0\n"
     ]
    }
   ],
   "source": [
    "# Filter products based on category\n",
    "electronics_products = products[products[\"category\"] == \"Electronics\"]\n",
    "\n",
    "# Filter expensive products\n",
    "expensive_products = products[products[\"price\"] > 100.00]\n",
    "\n",
    "# Calculate the average price of electronics products\n",
    "average_electronics_price = np.mean(electronics_products[\"price\"])\n",
    "\n",
    "print(\"Electronics Products:\")\n",
    "print(electronics_products)\n",
    "print(\"\\nExpensive Products:\")\n",
    "print(expensive_products)\n",
    "print(\"\\nAverage Electronics Price:\", average_electronics_price)"
   ]
  },
  {
   "cell_type": "markdown",
   "metadata": {},
   "source": [
    "In this example, the structured data type `product_dtype` allows you to easily filter products based on their categories and prices. By accessing fields using their names (e.g., `products['category']`), you can perform queries and operations specifically on those fields.\n",
    "\n",
    "This feature enhances the usability and organization of your data, making it easier to work with and analyze complex datasets. It also helps you avoid manually iterating through arrays to extract relevant information, saving you time and effort."
   ]
  },
  {
   "cell_type": "markdown",
   "metadata": {},
   "source": [
    "#### **`Caution`**"
   ]
  },
  {
   "cell_type": "markdown",
   "metadata": {},
   "source": [
    "While both NumPy structured arrays and pandas DataFrames provide ways to work with structured data, they serve different purposes. NumPy structured arrays are more focused on efficient numerical computations and memory management, whereas pandas DataFrames offer a higher-level interface for data manipulation and analysis, making them more suitable for data exploration and complex operations. The choice between using NumPy structured arrays or pandas DataFrames depends on the specific requirements of your project and the level of data analysis and manipulation you need to perform. If you require more extensive data manipulation and analysis capabilities, a library like pandas might be a more suitable choice."
   ]
  },
  {
   "cell_type": "code",
   "execution_count": null,
   "metadata": {},
   "outputs": [],
   "source": []
  }
 ],
 "metadata": {
  "kernelspec": {
   "display_name": "ml_intro",
   "language": "python",
   "name": "python3"
  },
  "language_info": {
   "codemirror_mode": {
    "name": "ipython",
    "version": 3
   },
   "file_extension": ".py",
   "mimetype": "text/x-python",
   "name": "python",
   "nbconvert_exporter": "python",
   "pygments_lexer": "ipython3",
   "version": "3.11.4"
  },
  "orig_nbformat": 4
 },
 "nbformat": 4,
 "nbformat_minor": 2
}
