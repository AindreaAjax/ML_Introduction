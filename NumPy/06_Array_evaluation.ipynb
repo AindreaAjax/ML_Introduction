{
 "cells": [
  {
   "cell_type": "code",
   "execution_count": 1,
   "id": "f0207b78-afc9-493f-8dac-6116814fef52",
   "metadata": {},
   "outputs": [],
   "source": [
    "# Import statements\n",
    "import numpy as np"
   ]
  },
  {
   "cell_type": "markdown",
   "id": "c0400013-e845-40fc-9b5a-d0e6dff1eadd",
   "metadata": {},
   "source": [
    "# Logic functions and Array evaluation"
   ]
  },
  {
   "cell_type": "markdown",
   "id": "97c92808-9a35-419e-9f5d-0d060ec29575",
   "metadata": {},
   "source": [
    "Logic functions comes in really handy while slicing and/or, indexing arrays. This is also very useful while performing data transformations."
   ]
  },
  {
   "cell_type": "markdown",
   "id": "04ac56f7-5a5e-46ee-aaff-d14716aff7a9",
   "metadata": {},
   "source": [
    "##  Truth value evaluation (Boolean testing)"
   ]
  },
  {
   "cell_type": "markdown",
   "id": "0247b04c-1e6d-44d0-86dd-f770fc8630cd",
   "metadata": {},
   "source": [
    "Boolean testing refers to checking whether **all** or **some** elements of an array evaluates to true."
   ]
  },
  {
   "cell_type": "code",
   "execution_count": 2,
   "id": "cdf328fd-a031-4fbd-94c4-9c31bbbac339",
   "metadata": {},
   "outputs": [],
   "source": [
    "# example array\n",
    "ary_some = np.array([[False, 0, np.nan, 1], [0, np.nan, False, False]])\n",
    "ary_all = np.ones((3, 4))"
   ]
  },
  {
   "cell_type": "markdown",
   "id": "0594be88-3e12-4af9-b4d1-bc61f4a7ce77",
   "metadata": {},
   "source": [
    "- **Test whether all array elements along a given axis evaluate to True**"
   ]
  },
  {
   "cell_type": "code",
   "execution_count": 3,
   "id": "63e44222-0074-46c9-84fd-69bca286f88d",
   "metadata": {},
   "outputs": [
    {
     "data": {
      "text/plain": [
       "True"
      ]
     },
     "execution_count": 3,
     "metadata": {},
     "output_type": "execute_result"
    }
   ],
   "source": [
    "# check whether all elements of the array, ary_all is True\n",
    "ary_all.all()"
   ]
  },
  {
   "cell_type": "code",
   "execution_count": 4,
   "id": "1bc9c9e6-797f-4454-8532-c172a6d29092",
   "metadata": {},
   "outputs": [
    {
     "data": {
      "text/plain": [
       "False"
      ]
     },
     "execution_count": 4,
     "metadata": {},
     "output_type": "execute_result"
    }
   ],
   "source": [
    "# check whether all elements of the array, ary_some is True\n",
    "ary_some.all()"
   ]
  },
  {
   "cell_type": "markdown",
   "id": "2afbd89d-74df-4cd1-9ef7-587c181ae9d0",
   "metadata": {},
   "source": [
    "- **Test whether any array elements along a given axis evaluate to True**"
   ]
  },
  {
   "cell_type": "code",
   "execution_count": 5,
   "id": "dffa57b1-97e1-40fa-a746-b8320c845ad6",
   "metadata": {},
   "outputs": [
    {
     "data": {
      "text/plain": [
       "True"
      ]
     },
     "execution_count": 5,
     "metadata": {},
     "output_type": "execute_result"
    }
   ],
   "source": [
    "# check whether any elements of the array, ary_all is True\n",
    "ary_all.any()"
   ]
  },
  {
   "cell_type": "code",
   "execution_count": 6,
   "id": "6a4f539a-2397-4d21-9d5a-2fa5ac021d74",
   "metadata": {},
   "outputs": [
    {
     "data": {
      "text/plain": [
       "array([False,  True,  True,  True])"
      ]
     },
     "execution_count": 6,
     "metadata": {},
     "output_type": "execute_result"
    }
   ],
   "source": [
    "# check whether any elements of the array, ary_some is True along the columns i.e, axis=0\n",
    "ary_some.any(axis=0)"
   ]
  },
  {
   "cell_type": "markdown",
   "id": "54883549-fcf2-4e3e-90b0-304d0d50e161",
   "metadata": {},
   "source": [
    "## Array elements testing "
   ]
  },
  {
   "cell_type": "markdown",
   "id": "ff10c558-788c-4106-9289-0dd83c47c90c",
   "metadata": {},
   "source": [
    "The available testing methods are, `isfinite`, `isinf`, `isnan`, `isnat`, `isneginf`, `isposinf`. To learn in details see the documentation @ https://numpy.org/doc/stable/reference/routines.logic.html#array-contents . "
   ]
  },
  {
   "cell_type": "markdown",
   "id": "8fa0f97b-59b5-4b04-93b7-42f40bbac5a7",
   "metadata": {},
   "source": [
    "These functions will always test the array element wise and will return the result as a boolean array."
   ]
  },
  {
   "cell_type": "markdown",
   "id": "80987c3e-c351-4175-9bd8-f2aed4d094bf",
   "metadata": {},
   "source": [
    "These functions comes in very handy while cleaning the data and for debugging purposes."
   ]
  },
  {
   "cell_type": "code",
   "execution_count": 7,
   "id": "0b9d3634-4ed1-4de8-adc2-1c64545b9350",
   "metadata": {},
   "outputs": [
    {
     "data": {
      "text/plain": [
       "array([[False, False,  True, False],\n",
       "       [False,  True, False, False]])"
      ]
     },
     "execution_count": 7,
     "metadata": {},
     "output_type": "execute_result"
    }
   ],
   "source": [
    "# check not a number\n",
    "np.isnan(ary_some)"
   ]
  },
  {
   "cell_type": "markdown",
   "id": "5963b001-97d4-4cda-8add-dced27b9080a",
   "metadata": {},
   "source": [
    "## Array elements type testing "
   ]
  },
  {
   "cell_type": "markdown",
   "id": "694a71ee-51c5-4335-912d-2075927eac90",
   "metadata": {},
   "source": [
    "Some available methods are, `isreal`, `iscomplex`, `isscalar` etc. See all the available functions and their documentation @ https://numpy.org/doc/stable/reference/routines.logic.html#array-type-testing ."
   ]
  },
  {
   "cell_type": "code",
   "execution_count": 8,
   "id": "c4b40df5-bf65-451d-99fe-a70fa9ae0002",
   "metadata": {},
   "outputs": [],
   "source": [
    "# example array\n",
    "ary_cmplx = np.array([[3 + 2j, 2 - 3j, 0], [0 - 1j, 1 + 1j, 2 - 1j]])"
   ]
  },
  {
   "cell_type": "code",
   "execution_count": 9,
   "id": "ef288238-1439-4150-8679-dbeae49ab9c4",
   "metadata": {},
   "outputs": [
    {
     "data": {
      "text/plain": [
       "array([[False, False,  True],\n",
       "       [False, False, False]])"
      ]
     },
     "execution_count": 9,
     "metadata": {},
     "output_type": "execute_result"
    }
   ],
   "source": [
    "# check if array elements are real\n",
    "np.isreal(ary_cmplx)"
   ]
  },
  {
   "cell_type": "code",
   "execution_count": 10,
   "id": "7e2abf84-ec69-4677-93a6-92675ef06c4e",
   "metadata": {},
   "outputs": [
    {
     "data": {
      "text/plain": [
       "array([[ True,  True, False],\n",
       "       [ True,  True,  True]])"
      ]
     },
     "execution_count": 10,
     "metadata": {},
     "output_type": "execute_result"
    }
   ],
   "source": [
    "# check if array elements are complex\n",
    "np.iscomplex(ary_cmplx)"
   ]
  },
  {
   "cell_type": "markdown",
   "id": "0fd0bc74-e6c5-4e6e-839b-86cc83e481e7",
   "metadata": {},
   "source": [
    "## Logical operations"
   ]
  },
  {
   "cell_type": "markdown",
   "id": "af11b1e2-7042-4a75-ac58-3ecf28b69919",
   "metadata": {},
   "source": [
    "The available functions are, `logical_or`, `logical_and`, `logical_nor` and `logical_xor`. See the documentation @ https://numpy.org/doc/stable/reference/routines.logic.html#logical-operations . "
   ]
  },
  {
   "cell_type": "markdown",
   "id": "696cbdb6-23c4-482b-a9e8-e2e7b61e223a",
   "metadata": {},
   "source": [
    "All of these methods computes the truth value of (x1 logical_operation x2), element-wise."
   ]
  },
  {
   "cell_type": "markdown",
   "id": "da581f31-589f-49e5-865c-58c0f04b3d52",
   "metadata": {},
   "source": [
    "## Array comparison "
   ]
  },
  {
   "cell_type": "markdown",
   "id": "5df6fd06-b176-47e8-92b3-0110c1150508",
   "metadata": {},
   "source": [
    "Some available functions are, `allclose`, `isclose`, `array_equal`, `array_equiv`, `greater`, `less`, `equal` etc. See all the available functions and their documentation @ https://numpy.org/doc/stable/reference/routines.logic.html#comparison ."
   ]
  },
  {
   "cell_type": "code",
   "execution_count": 11,
   "id": "d015d2a3-b287-4dd4-afb1-1cc8205916b7",
   "metadata": {},
   "outputs": [],
   "source": [
    "# example arrays\n",
    "ary_a = [1e10, 1e-10, 1.00001e10, 1e-8, np.nan]\n",
    "ary_b = [1e11, 1e-8, 1.01e10, 1e-9, np.nan]\n",
    "ary_c = [1e10, 1e-8]\n",
    "ary_d = [1.00001e10, 1e-9]"
   ]
  },
  {
   "cell_type": "markdown",
   "id": "8bdbf338-0c65-49a6-b9ac-19c9a8359376",
   "metadata": {},
   "source": [
    "- **Check if two arrays are equal within a tolerance (element-wise) {return: True or, False}**"
   ]
  },
  {
   "cell_type": "code",
   "execution_count": 12,
   "id": "f7405290-97f7-4256-b9fb-eb25d99776e4",
   "metadata": {},
   "outputs": [
    {
     "data": {
      "text/plain": [
       "True"
      ]
     },
     "execution_count": 12,
     "metadata": {},
     "output_type": "execute_result"
    }
   ],
   "source": [
    "np.allclose(ary_c, ary_d)"
   ]
  },
  {
   "cell_type": "markdown",
   "id": "c902f73c-dd40-427d-a1a7-55b2d8e8cdda",
   "metadata": {},
   "source": [
    "- **Check if two arrays are equal within a tolerance (element-wise) {return: boolean array}**"
   ]
  },
  {
   "cell_type": "code",
   "execution_count": 13,
   "id": "182f2301-bfa5-4c0a-b74c-5e3e4b16c41d",
   "metadata": {},
   "outputs": [
    {
     "data": {
      "text/plain": [
       "array([False,  True, False,  True,  True])"
      ]
     },
     "execution_count": 13,
     "metadata": {},
     "output_type": "execute_result"
    }
   ],
   "source": [
    "np.isclose(ary_a, ary_b, equal_nan=True)"
   ]
  },
  {
   "cell_type": "code",
   "execution_count": null,
   "id": "0cbcfa76-7d3c-4b05-8d3e-ceb9c6c29f3d",
   "metadata": {},
   "outputs": [],
   "source": []
  }
 ],
 "metadata": {
  "kernelspec": {
   "display_name": "Python 3 (ipykernel)",
   "language": "python",
   "name": "python3"
  },
  "language_info": {
   "codemirror_mode": {
    "name": "ipython",
    "version": 3
   },
   "file_extension": ".py",
   "mimetype": "text/x-python",
   "name": "python",
   "nbconvert_exporter": "python",
   "pygments_lexer": "ipython3",
   "version": "3.8.15"
  }
 },
 "nbformat": 4,
 "nbformat_minor": 5
}
