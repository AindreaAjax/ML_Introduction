{
 "cells": [
  {
   "cell_type": "markdown",
   "id": "d0f0f208",
   "metadata": {},
   "source": [
    "**Table of contents**<a id='toc0_'></a>    \n",
    "- [What is NumPy?](#toc1_)    \n",
    "- [NumPy arrays](#toc2_)    \n",
    "  - [**The `array` constructor method can be used to define ndarray objects of different dimensions**](#toc2_1_)    \n",
    "  - [**Dimensions, shape and the size of an array**](#toc2_2_)    \n",
    "  - [**Data types**](#toc2_3_)    \n",
    "  - [**Some other useful methods and functions**](#toc2_4_)    \n",
    "\n",
    "<!-- vscode-jupyter-toc-config\n",
    "\tnumbering=false\n",
    "\tanchor=true\n",
    "\tflat=false\n",
    "\tminLevel=2\n",
    "\tmaxLevel=4\n",
    "\t/vscode-jupyter-toc-config -->\n",
    "<!-- THIS CELL WILL BE REPLACED ON TOC UPDATE. DO NOT WRITE YOUR TEXT IN THIS CELL -->"
   ]
  },
  {
   "cell_type": "markdown",
   "metadata": {},
   "source": [
    "## <a id='toc1_'></a>[What is NumPy?](#toc0_)"
   ]
  },
  {
   "cell_type": "markdown",
   "id": "870bb134",
   "metadata": {},
   "source": [
    "NumPy is at the core of the entire scientific computing Python ecosystem, both as a standalone package for numerical computation and as the engine behind most data science packages.\n",
    "\n",
    "NumPy provides a data structure to store the data and also a wide set of tools for manipulation and computation of Tensors.\n",
    "\n",
    "A tensor is a mathematical object which can be thought to be a space that holds data. \n",
    "\n",
    "A very common example would be a vector (i.e, list) which is a tensor of order 1. A scalar (i.e, single digit) is a tensor of order 0 and a matrix is a tensor of order 2. "
   ]
  },
  {
   "cell_type": "markdown",
   "id": "2f4221ac",
   "metadata": {},
   "source": [
    "**`Note:`** NumPy is so popular because of its fast computation time. It can even be 100 times faster than Python lists. The tradeoff is, in lists we can store elements with different data types, but, in NumPy all the elements must have the same data type."
   ]
  },
  {
   "cell_type": "markdown",
   "metadata": {},
   "source": [
    "## <a id='toc2_'></a>[NumPy arrays](#toc0_)"
   ]
  },
  {
   "cell_type": "markdown",
   "id": "38708d74",
   "metadata": {},
   "source": [
    "To work with different types of tensors, what NumPy uses as the data structure is called an array. And, it can be n-dimensional, that's why the name `ndarray`. In NumPy, dimensions are also called `axes`."
   ]
  },
  {
   "cell_type": "code",
   "execution_count": 1,
   "id": "bfeaddb9",
   "metadata": {},
   "outputs": [],
   "source": [
    "# Importing NumPy\n",
    "import numpy as np"
   ]
  },
  {
   "cell_type": "markdown",
   "metadata": {},
   "source": [
    "### <a id='toc2_1_'></a>[**The `array` constructor method can be used to define ndarray objects of different dimensions**](#toc0_)"
   ]
  },
  {
   "cell_type": "markdown",
   "id": "cb01b174",
   "metadata": {},
   "source": [
    "-> *1D array (i.e, a Vector)*"
   ]
  },
  {
   "cell_type": "code",
   "execution_count": 2,
   "id": "77567e33-2c19-40b5-8df3-de2a9bdd8009",
   "metadata": {},
   "outputs": [],
   "source": [
    "ary_1d = np.array([1, 2, 3])"
   ]
  },
  {
   "attachments": {},
   "cell_type": "markdown",
   "id": "0772f0b3-0197-4930-b92d-97c049219f21",
   "metadata": {},
   "source": [
    "-> *2D array (i.e, a matrix)*"
   ]
  },
  {
   "cell_type": "code",
   "execution_count": 3,
   "id": "db730371-d815-42ac-adbc-05c250183e7c",
   "metadata": {},
   "outputs": [],
   "source": [
    "ary_2d = np.array(\n",
    "    [[1, 2, 3], [4, 5, 6]]\n",
    ")  # [elements of first row, elements of second row]"
   ]
  },
  {
   "attachments": {},
   "cell_type": "markdown",
   "id": "a153ec9a-25cd-4c5c-9e8b-a44fc4833c9a",
   "metadata": {},
   "source": [
    "-> *3D array (i.e, elements in a 3 dimensional space such as a rack)*"
   ]
  },
  {
   "cell_type": "code",
   "execution_count": 4,
   "id": "fb542d44-6b90-430b-adfa-b296f2ace835",
   "metadata": {},
   "outputs": [],
   "source": [
    "ary_3d = np.array(\n",
    "    [[[1, 2, 3], [4, 5, 6]], [[3, 2, 1], [6, 5, 4]]]\n",
    ")  # [z0 2x3 array][z1 2x3 array]"
   ]
  },
  {
   "cell_type": "markdown",
   "id": "ab46578b",
   "metadata": {},
   "source": [
    "A 3D array of shape (2, 2, 3) can be thought as two different arrays of shape (2, 3) stacked together in the `z` axis."
   ]
  },
  {
   "cell_type": "markdown",
   "metadata": {},
   "source": [
    "### <a id='toc2_2_'></a>[**Dimensions, shape and the size of an array**](#toc0_)"
   ]
  },
  {
   "cell_type": "code",
   "execution_count": 5,
   "id": "0e4b0367",
   "metadata": {},
   "outputs": [],
   "source": [
    "# the dimension of an array can be confirmed by the `ndim` method"
   ]
  },
  {
   "cell_type": "code",
   "execution_count": 6,
   "id": "807fc047-08ce-4cd3-a718-80e88f490eb1",
   "metadata": {},
   "outputs": [
    {
     "data": {
      "text/plain": [
       "3"
      ]
     },
     "execution_count": 6,
     "metadata": {},
     "output_type": "execute_result"
    }
   ],
   "source": [
    "ary_3d.ndim"
   ]
  },
  {
   "cell_type": "code",
   "execution_count": 7,
   "id": "4c996bb0-c30e-4ecd-aaff-204f01d9f3b0",
   "metadata": {},
   "outputs": [
    {
     "data": {
      "text/plain": [
       "(2, 2, 3)"
      ]
     },
     "execution_count": 7,
     "metadata": {},
     "output_type": "execute_result"
    }
   ],
   "source": [
    "# the `shape` method gives a bit more information as to how the data is stored in those dimensions.\n",
    "# Length of the 'shape' tuple is the dimension of that array.\n",
    "ary_3d.shape"
   ]
  },
  {
   "attachments": {},
   "cell_type": "markdown",
   "id": "c0b831e6-e5a8-4c87-b597-a09adbbece55",
   "metadata": {},
   "source": [
    "<i>The (2, 2, 3) indicates 2 elements along the first axis (i.e, depth in the z axis), 2 elements along the second axis (i.e, 2 rows along the y axis), and 3 elements along the third axis (i.e, 3 columns along the length of x axis).</i>"
   ]
  },
  {
   "cell_type": "code",
   "execution_count": 8,
   "id": "2a776ad2",
   "metadata": {},
   "outputs": [
    {
     "data": {
      "text/plain": [
       "12"
      ]
     },
     "execution_count": 8,
     "metadata": {},
     "output_type": "execute_result"
    }
   ],
   "source": [
    "# the `size` method gives how many elements are stored in a particular array\n",
    "ary_3d.size"
   ]
  },
  {
   "cell_type": "markdown",
   "metadata": {},
   "source": [
    "### <a id='toc2_3_'></a>[**Data types**](#toc0_)"
   ]
  },
  {
   "cell_type": "markdown",
   "id": "391b7992",
   "metadata": {},
   "source": [
    "There are various different data types that the data elements can be stored in. For the full list see the documentation (https://numpy.org/doc/stable/user/basics.types.html)."
   ]
  },
  {
   "attachments": {},
   "cell_type": "markdown",
   "id": "4e04cc3a-67e6-4580-af4e-8b91559568b1",
   "metadata": {},
   "source": [
    "-> *To see the data type of an array we can use the `dtype` method*"
   ]
  },
  {
   "cell_type": "code",
   "execution_count": 9,
   "id": "236c7223-2677-4225-932e-27cf7460c0e3",
   "metadata": {},
   "outputs": [
    {
     "data": {
      "text/plain": [
       "dtype('int64')"
      ]
     },
     "execution_count": 9,
     "metadata": {},
     "output_type": "execute_result"
    }
   ],
   "source": [
    "ary_2d.dtype"
   ]
  },
  {
   "attachments": {},
   "cell_type": "markdown",
   "id": "31e88d84-804f-4d46-89ab-097f67ebd0ee",
   "metadata": {},
   "source": [
    "We can specify the data type when defining the array itself or can later convert to our desired data type. \n",
    "\n",
    "Data types with smaller memory assignment such as 16 or 32 bits should be used whenever possible as it will reduce momory consumption. But one thing to keep in mind is that, if the specified storage is not enough then overflow error occurs. Also, using float16 instead of float64 will affect the precision of floating points. **So, be careful**."
   ]
  },
  {
   "attachments": {},
   "cell_type": "markdown",
   "id": "2a8e86a1-000a-4c4b-a458-7818989e3afe",
   "metadata": {},
   "source": [
    "-> *To change the data type of an array we can use the `astype` method*"
   ]
  },
  {
   "cell_type": "code",
   "execution_count": 10,
   "id": "a252fac3-c538-469c-80e5-b5a3e3c30750",
   "metadata": {},
   "outputs": [
    {
     "data": {
      "text/plain": [
       "array([[1., 2., 3.],\n",
       "       [4., 5., 6.]])"
      ]
     },
     "execution_count": 10,
     "metadata": {},
     "output_type": "execute_result"
    }
   ],
   "source": [
    "# does not change in place\n",
    "ary_2d.astype(np.float64)"
   ]
  },
  {
   "cell_type": "code",
   "execution_count": 11,
   "id": "87e0ab2c",
   "metadata": {},
   "outputs": [
    {
     "data": {
      "text/plain": [
       "dtype('float16')"
      ]
     },
     "execution_count": 11,
     "metadata": {},
     "output_type": "execute_result"
    }
   ],
   "source": [
    "ary_2d = ary_2d.astype(np.float16)\n",
    "ary_2d.dtype"
   ]
  },
  {
   "cell_type": "markdown",
   "metadata": {},
   "source": [
    "### <a id='toc2_4_'></a>[**Some other useful methods and functions**](#toc0_)"
   ]
  },
  {
   "cell_type": "markdown",
   "id": "9db3b35c",
   "metadata": {},
   "source": [
    "-> *See how much memory an array is taking up with the `.nbytes` method*"
   ]
  },
  {
   "cell_type": "code",
   "execution_count": 14,
   "id": "63cce02c",
   "metadata": {},
   "outputs": [
    {
     "data": {
      "text/plain": [
       "96"
      ]
     },
     "execution_count": 14,
     "metadata": {},
     "output_type": "execute_result"
    }
   ],
   "source": [
    "ary_3d.nbytes"
   ]
  },
  {
   "cell_type": "markdown",
   "id": "6bcd2fcf",
   "metadata": {},
   "source": [
    "-> *To get the official documentation of a numpy function use `np.info(func_name)`*"
   ]
  },
  {
   "cell_type": "code",
   "execution_count": 15,
   "id": "d2188d81",
   "metadata": {},
   "outputs": [
    {
     "name": "stdout",
     "output_type": "stream",
     "text": [
      "add(x1, x2, /, out=None, *, where=True, casting='same_kind', order='K', dtype=None, subok=True[, signature, extobj])\n",
      "\n",
      "Add arguments element-wise.\n",
      "\n",
      "Parameters\n",
      "----------\n",
      "x1, x2 : array_like\n",
      "    The arrays to be added.\n",
      "    If ``x1.shape != x2.shape``, they must be broadcastable to a common\n",
      "    shape (which becomes the shape of the output).\n",
      "out : ndarray, None, or tuple of ndarray and None, optional\n",
      "    A location into which the result is stored. If provided, it must have\n",
      "    a shape that the inputs broadcast to. If not provided or None,\n",
      "    a freshly-allocated array is returned. A tuple (possible only as a\n",
      "    keyword argument) must have length equal to the number of outputs.\n",
      "where : array_like, optional\n",
      "    This condition is broadcast over the input. At locations where the\n",
      "    condition is True, the `out` array will be set to the ufunc result.\n",
      "    Elsewhere, the `out` array will retain its original value.\n",
      "    Note that if an uninitialized `out` array is created via the default\n",
      "    ``out=None``, locations within it where the condition is False will\n",
      "    remain uninitialized.\n",
      "**kwargs\n",
      "    For other keyword-only arguments, see the\n",
      "    :ref:`ufunc docs <ufuncs.kwargs>`.\n",
      "\n",
      "Returns\n",
      "-------\n",
      "add : ndarray or scalar\n",
      "    The sum of `x1` and `x2`, element-wise.\n",
      "    This is a scalar if both `x1` and `x2` are scalars.\n",
      "\n",
      "Notes\n",
      "-----\n",
      "Equivalent to `x1` + `x2` in terms of array broadcasting.\n",
      "\n",
      "Examples\n",
      "--------\n",
      ">>> np.add(1.0, 4.0)\n",
      "5.0\n",
      ">>> x1 = np.arange(9.0).reshape((3, 3))\n",
      ">>> x2 = np.arange(3.0)\n",
      ">>> np.add(x1, x2)\n",
      "array([[  0.,   2.,   4.],\n",
      "       [  3.,   5.,   7.],\n",
      "       [  6.,   8.,  10.]])\n",
      "\n",
      "The ``+`` operator can be used as a shorthand for ``np.add`` on ndarrays.\n",
      "\n",
      ">>> x1 = np.arange(9.0).reshape((3, 3))\n",
      ">>> x2 = np.arange(3.0)\n",
      ">>> x1 + x2\n",
      "array([[ 0.,  2.,  4.],\n",
      "       [ 3.,  5.,  7.],\n",
      "       [ 6.,  8., 10.]])\n"
     ]
    }
   ],
   "source": [
    "np.info(np.add)"
   ]
  },
  {
   "cell_type": "code",
   "execution_count": null,
   "id": "585eab4d",
   "metadata": {},
   "outputs": [],
   "source": []
  }
 ],
 "metadata": {
  "kernelspec": {
   "display_name": "Python 3 (ipykernel)",
   "language": "python",
   "name": "python3"
  },
  "language_info": {
   "codemirror_mode": {
    "name": "ipython",
    "version": 3
   },
   "file_extension": ".py",
   "mimetype": "text/x-python",
   "name": "python",
   "nbconvert_exporter": "python",
   "pygments_lexer": "ipython3",
   "version": "3.8.17"
  }
 },
 "nbformat": 4,
 "nbformat_minor": 5
}
