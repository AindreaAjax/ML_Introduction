{
 "cells": [
  {
   "cell_type": "markdown",
   "id": "203a6cd6-4280-4bb8-a308-b607f90b28c0",
   "metadata": {},
   "source": [
    "## What is NumPy? "
   ]
  },
  {
   "attachments": {},
   "cell_type": "markdown",
   "id": "d7bbe2b2-6bf9-4721-966e-35028217f934",
   "metadata": {},
   "source": [
    "NumPy is at the core of the entire scientific computing Python ecosystem, both as a standalone package for numerical computation and as the engine behind most data science packages.\n",
    "\n",
    "NumPy provides a data structure to store the data and also a wide set of tools for manipulation and computation of Tensors.\n",
    "\n",
    "A tensor is a mathematical object which can be thought to be a space that holds data. \n",
    "\n",
    "A very common example would be a vector (i.e, list) which is a tensor of order 1. A scalar (i.e, single digit) is a tensor of order 0 and a matrix is a tensor of order 2. "
   ]
  },
  {
   "cell_type": "markdown",
   "id": "5f8c6140-10f1-438f-a7e2-dccf33ce9b67",
   "metadata": {},
   "source": [
    "**`Note:`** NumPy is so popular because of its fast computation time. It can even be 100 times faster than Python lists. The tradeoff is, in lists we can store elements with different data types, but, in NumPy all the elements must have the same data type."
   ]
  },
  {
   "cell_type": "markdown",
   "id": "a80d3633-c7a5-485c-909b-241ebb07f311",
   "metadata": {},
   "source": [
    "## NumPy arrays "
   ]
  },
  {
   "cell_type": "markdown",
   "id": "d250275c-d892-4e9f-aaa8-2865a93001af",
   "metadata": {},
   "source": [
    "To work with different types of tensors, what NumPy uses as the data structure is called an array. And, it can be n-dimensional, that's why the name `ndarray`. In NumPy, dimensions are also called `axes`."
   ]
  },
  {
   "cell_type": "code",
   "execution_count": 1,
   "id": "673325d4-bef0-4459-9098-43d7729ad467",
   "metadata": {},
   "outputs": [],
   "source": [
    "# Importing NumPy\n",
    "import numpy as np"
   ]
  },
  {
   "cell_type": "markdown",
   "id": "5f7916e0-5059-44e2-8634-14ad5df028b6",
   "metadata": {
    "jp-MarkdownHeadingCollapsed": true,
    "tags": []
   },
   "source": [
    "- **The `array` constructor method can be used to define ndarray objects of different dimensions**"
   ]
  },
  {
   "attachments": {},
   "cell_type": "markdown",
   "id": "72ce16e7-35a2-43ea-bb98-8ad8d3dfd76f",
   "metadata": {},
   "source": [
    "-> *1D array (i.e, a Vector)*"
   ]
  },
  {
   "cell_type": "code",
   "execution_count": 2,
   "id": "77567e33-2c19-40b5-8df3-de2a9bdd8009",
   "metadata": {},
   "outputs": [],
   "source": [
    "ary_1d = np.array([1, 2, 3])"
   ]
  },
  {
   "attachments": {},
   "cell_type": "markdown",
   "id": "0772f0b3-0197-4930-b92d-97c049219f21",
   "metadata": {},
   "source": [
    "-> *2D array (i.e, a matrix)*"
   ]
  },
  {
   "cell_type": "code",
   "execution_count": 3,
   "id": "db730371-d815-42ac-adbc-05c250183e7c",
   "metadata": {},
   "outputs": [],
   "source": [
    "ary_2d = np.array(\n",
    "    [[1, 2, 3], [4, 5, 6]]\n",
    ")  # [elements of first row, elements of second row]"
   ]
  },
  {
   "attachments": {},
   "cell_type": "markdown",
   "id": "a153ec9a-25cd-4c5c-9e8b-a44fc4833c9a",
   "metadata": {},
   "source": [
    "-> *3D array (i.e, elements in a 3 dimensional space such as a rack)*"
   ]
  },
  {
   "cell_type": "code",
   "execution_count": 4,
   "id": "fb542d44-6b90-430b-adfa-b296f2ace835",
   "metadata": {},
   "outputs": [],
   "source": [
    "ary_3d = np.array(\n",
    "    [[[1, 2, 3], [4, 5, 6]], [[3, 2, 1], [6, 5, 4]]]\n",
    ")  # [z0 2x3 array][z1 2x3 array]"
   ]
  },
  {
   "cell_type": "markdown",
   "id": "a194b268",
   "metadata": {},
   "source": [
    "A 3D array of shape (2, 2, 3) can be thought as two different arrays of shape (2, 3) stacked together in the `z` axis."
   ]
  },
  {
   "cell_type": "markdown",
   "id": "05a9d617-cdc2-46a3-9080-cc2a13c2c93e",
   "metadata": {},
   "source": [
    "- **Dimensions, shape and the size of an array**"
   ]
  },
  {
   "cell_type": "code",
   "execution_count": 5,
   "id": "43571488-dd90-4b93-8d26-a0a0c508c75c",
   "metadata": {},
   "outputs": [],
   "source": [
    "# the dimension of an array can be confirmed by the `ndim` method"
   ]
  },
  {
   "cell_type": "code",
   "execution_count": 6,
   "id": "807fc047-08ce-4cd3-a718-80e88f490eb1",
   "metadata": {},
   "outputs": [
    {
     "data": {
      "text/plain": [
       "3"
      ]
     },
     "execution_count": 6,
     "metadata": {},
     "output_type": "execute_result"
    }
   ],
   "source": [
    "ary_3d.ndim"
   ]
  },
  {
   "cell_type": "code",
   "execution_count": 7,
   "id": "4c996bb0-c30e-4ecd-aaff-204f01d9f3b0",
   "metadata": {},
   "outputs": [
    {
     "data": {
      "text/plain": [
       "(2, 2, 3)"
      ]
     },
     "execution_count": 7,
     "metadata": {},
     "output_type": "execute_result"
    }
   ],
   "source": [
    "# the `shape` method gives a bit more information as to how the data is stored in those dimensions.\n",
    "# Length of the 'shape' tuple is the dimension of that array.\n",
    "ary_3d.shape"
   ]
  },
  {
   "cell_type": "markdown",
   "id": "c0b831e6-e5a8-4c87-b597-a09adbbece55",
   "metadata": {},
   "source": [
    "<i>The (2, 2, 3) indicates 2 elements along the first axis (i.e, depth in the z axis), 2 elements along the second axis (i.e, 2 rows along the y axis), and 3 elements along the third axis (i.e, 3 columns along the length of x axis).</i>"
   ]
  },
  {
   "cell_type": "code",
   "execution_count": 8,
   "id": "121c2a85-9951-4cc1-a7b1-9039d1fd1229",
   "metadata": {},
   "outputs": [
    {
     "data": {
      "text/plain": [
       "12"
      ]
     },
     "execution_count": 8,
     "metadata": {},
     "output_type": "execute_result"
    }
   ],
   "source": [
    "# the `size` method gives how many elements are stored in a particular array\n",
    "ary_3d.size"
   ]
  },
  {
   "cell_type": "markdown",
   "id": "0505ce0e-b7a6-400f-a25f-3791b169b89a",
   "metadata": {},
   "source": [
    "- **Data types**"
   ]
  },
  {
   "cell_type": "markdown",
   "id": "68b99e3c-e5c1-4b11-8586-6a8193ddd0fd",
   "metadata": {},
   "source": [
    "There are various different data types that the data elements can be stored in NumPy arrays. For the full list see the documentation (https://numpy.org/doc/stable/user/basics.types.html)."
   ]
  },
  {
   "attachments": {},
   "cell_type": "markdown",
   "id": "4e04cc3a-67e6-4580-af4e-8b91559568b1",
   "metadata": {},
   "source": [
    "-> *To see the data type of an array we can use the `dtype` method*"
   ]
  },
  {
   "cell_type": "code",
   "execution_count": 9,
   "id": "236c7223-2677-4225-932e-27cf7460c0e3",
   "metadata": {},
   "outputs": [
    {
     "data": {
      "text/plain": [
       "dtype('int64')"
      ]
     },
     "execution_count": 9,
     "metadata": {},
     "output_type": "execute_result"
    }
   ],
   "source": [
    "ary_2d.dtype"
   ]
  },
  {
   "attachments": {},
   "cell_type": "markdown",
   "id": "31e88d84-804f-4d46-89ab-097f67ebd0ee",
   "metadata": {},
   "source": [
    "We can specify the data type when defining the array itself or can later convert to our desired data type. \n",
    "\n",
    "Data types with smaller memory assignment such as 16 or 32 bits should be used whenever possible as it will reduce momory consumption. But one thing to keep in mind is that, if the specified storage is not enough then overflow error occurs. Also, using float16 instead of float64 will affect the precision of floating points. **So, be careful**."
   ]
  },
  {
   "attachments": {},
   "cell_type": "markdown",
   "id": "2a8e86a1-000a-4c4b-a458-7818989e3afe",
   "metadata": {},
   "source": [
    "-> *To change the data type of an array we can use the `astype` method*"
   ]
  },
  {
   "cell_type": "code",
   "execution_count": 13,
   "id": "a252fac3-c538-469c-80e5-b5a3e3c30750",
   "metadata": {},
   "outputs": [
    {
     "data": {
      "text/plain": [
       "array([[1., 2., 3.],\n",
       "       [4., 5., 6.]])"
      ]
     },
     "execution_count": 13,
     "metadata": {},
     "output_type": "execute_result"
    }
   ],
   "source": [
    "# does not change in place\n",
    "ary_2d.astype(np.float64)"
   ]
  },
  {
   "cell_type": "code",
   "execution_count": 14,
   "id": "2382fd0d-6838-4263-947a-2656dbcbaeb8",
   "metadata": {},
   "outputs": [
    {
     "data": {
      "text/plain": [
       "dtype('float16')"
      ]
     },
     "execution_count": 14,
     "metadata": {},
     "output_type": "execute_result"
    }
   ],
   "source": [
    "ary_2d = ary_2d.astype(np.float16)\n",
    "ary_2d.dtype"
   ]
  },
  {
   "cell_type": "code",
   "execution_count": null,
   "id": "cadb615a-ebd1-43e5-bf6d-d07ba6f52402",
   "metadata": {},
   "outputs": [],
   "source": []
  }
 ],
 "metadata": {
  "kernelspec": {
   "display_name": "Python 3 (ipykernel)",
   "language": "python",
   "name": "python3"
  },
  "language_info": {
   "codemirror_mode": {
    "name": "ipython",
    "version": 3
   },
   "file_extension": ".py",
   "mimetype": "text/x-python",
   "name": "python",
   "nbconvert_exporter": "python",
   "pygments_lexer": "ipython3",
   "version": "3.8.15"
  }
 },
 "nbformat": 4,
 "nbformat_minor": 5
}
