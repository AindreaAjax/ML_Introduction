{
 "cells": [
  {
   "cell_type": "markdown",
   "id": "2d5db6be",
   "metadata": {},
   "source": [
    "# Array Mathematics and Element wise operation"
   ]
  },
  {
   "cell_type": "markdown",
   "id": "7df37183",
   "metadata": {},
   "source": [
    "**Table of contents**<a id='toc0_'></a>    \n",
    "- [<u>NumPy math routines](#toc1_)    \n",
    "  - [Arithmetic Operations](#toc1_1_)    \n",
    "  - [Trigonometric and Hyperbolic functions](#toc1_2_)    \n",
    "  - [Rounding](#toc1_3_)    \n",
    "  - [Exponential and Logarithmic functions](#toc1_4_)    \n",
    "  - [Handling Complex numbers](#toc1_5_)    \n",
    "  - [Some other useful mathematical operations](#toc1_6_)    \n",
    "\n",
    "<!-- vscode-jupyter-toc-config\n",
    "\tnumbering=false\n",
    "\tanchor=true\n",
    "\tflat=false\n",
    "\tminLevel=2\n",
    "\tmaxLevel=4\n",
    "\t/vscode-jupyter-toc-config -->\n",
    "<!-- THIS CELL WILL BE REPLACED ON TOC UPDATE. DO NOT WRITE YOUR TEXT IN THIS CELL -->"
   ]
  },
  {
   "cell_type": "code",
   "execution_count": 2,
   "id": "09f40bad-ed27-4276-b487-18577587c2e1",
   "metadata": {},
   "outputs": [],
   "source": [
    "# import statements\n",
    "import numpy as np"
   ]
  },
  {
   "cell_type": "markdown",
   "id": "90094947",
   "metadata": {},
   "source": [
    "In NumPy, many array operations are element wise. `Element-wise` means, any operation or manipulation of the array affects all the elements of that array and the elements are manipulated separately but, simultaneously. This is where the idea of `Broadcasting` comes in."
   ]
  },
  {
   "cell_type": "markdown",
   "id": "2478a5df",
   "metadata": {},
   "source": [
    "## <a id='toc1_'></a>[<u>NumPy math routines](#toc0_)"
   ]
  },
  {
   "cell_type": "markdown",
   "id": "bff309a0",
   "metadata": {},
   "source": [
    "<b><i>To see all the available NumPy math routines and their usage see @  https://numpy.org/doc/stable/reference/routines.math.html </i></b>"
   ]
  },
  {
   "cell_type": "markdown",
   "id": "49859580",
   "metadata": {},
   "source": [
    "------------\n",
    "### <a id='toc1_1_'></a>[Arithmetic Operations](#toc0_)\n",
    "---------------"
   ]
  },
  {
   "attachments": {},
   "cell_type": "markdown",
   "id": "4c535a93-21ae-48fa-a5e4-94f207a5caa2",
   "metadata": {},
   "source": [
    "Array arithmetic operations are element-wise. For example, in case of adding two (3, 3) arrays, the top-left elements in each array are added together, the top-right elements of each array are added together, and so on. Subtraction, division, multiplication, exponentiation, logarithms, roots, and many other algebraic operations will be performed in the same manner."
   ]
  },
  {
   "cell_type": "code",
   "execution_count": 3,
   "id": "60f31795-a41f-4223-ac2b-76f0e2448576",
   "metadata": {},
   "outputs": [],
   "source": [
    "a = np.arange(1, 10).reshape(3, 3)\n",
    "b = np.arange(10, 19).reshape(3, 3)"
   ]
  },
  {
   "cell_type": "code",
   "execution_count": 4,
   "id": "f3e6c2af-f18a-43c5-9beb-a970e646311c",
   "metadata": {},
   "outputs": [
    {
     "data": {
      "text/plain": [
       "array([[11, 13, 15],\n",
       "       [17, 19, 21],\n",
       "       [23, 25, 27]])"
      ]
     },
     "execution_count": 4,
     "metadata": {},
     "output_type": "execute_result"
    }
   ],
   "source": [
    "# addition\n",
    "np.add(a, b)  # or, just (a + b)"
   ]
  },
  {
   "cell_type": "code",
   "execution_count": 5,
   "id": "ac9e1498-3f3d-432a-b150-7f9a741f10bc",
   "metadata": {},
   "outputs": [
    {
     "data": {
      "text/plain": [
       "array([[9, 9, 9],\n",
       "       [9, 9, 9],\n",
       "       [9, 9, 9]])"
      ]
     },
     "execution_count": 5,
     "metadata": {},
     "output_type": "execute_result"
    }
   ],
   "source": [
    "# subtraction\n",
    "np.subtract(b, a)  # or, just (b - a)"
   ]
  },
  {
   "cell_type": "code",
   "execution_count": 6,
   "id": "df64d782-9199-492a-a1ff-0a6e14284edc",
   "metadata": {},
   "outputs": [
    {
     "data": {
      "text/plain": [
       "array([[ 10,  22,  36],\n",
       "       [ 52,  70,  90],\n",
       "       [112, 136, 162]])"
      ]
     },
     "execution_count": 6,
     "metadata": {},
     "output_type": "execute_result"
    }
   ],
   "source": [
    "# multiplication\n",
    "np.multiply(a, b)  # or, just (a * b)"
   ]
  },
  {
   "cell_type": "code",
   "execution_count": 7,
   "id": "b6993845-4cd0-4514-a515-53f84af62b1d",
   "metadata": {},
   "outputs": [
    {
     "data": {
      "text/plain": [
       "array([[100, 121, 144],\n",
       "       [169, 196, 225],\n",
       "       [256, 289, 324]])"
      ]
     },
     "execution_count": 7,
     "metadata": {},
     "output_type": "execute_result"
    }
   ],
   "source": [
    "# power\n",
    "np.power(b, 2)  # or, just (b ** 2)"
   ]
  },
  {
   "cell_type": "code",
   "execution_count": 8,
   "id": "3631d72a-0196-49ec-9fc8-d103f3828c53",
   "metadata": {},
   "outputs": [
    {
     "data": {
      "text/plain": [
       "array([[10.        ,  5.5       ,  4.        ],\n",
       "       [ 3.25      ,  2.8       ,  2.5       ],\n",
       "       [ 2.28571429,  2.125     ,  2.        ]])"
      ]
     },
     "execution_count": 8,
     "metadata": {},
     "output_type": "execute_result"
    }
   ],
   "source": [
    "# division\n",
    "np.divide(b, a)  # or, just (b / a)"
   ]
  },
  {
   "cell_type": "code",
   "execution_count": 9,
   "id": "2128bab7-3e94-4215-8030-301f7d47823e",
   "metadata": {},
   "outputs": [
    {
     "data": {
      "text/plain": [
       "array([[10,  5,  4],\n",
       "       [ 3,  2,  2],\n",
       "       [ 2,  2,  2]])"
      ]
     },
     "execution_count": 9,
     "metadata": {},
     "output_type": "execute_result"
    }
   ],
   "source": [
    "# floor division\n",
    "np.floor_divide(b, a)  # or, just (b // a)"
   ]
  },
  {
   "cell_type": "code",
   "execution_count": 10,
   "id": "6e4297ce-eacd-466d-9fad-027577492939",
   "metadata": {},
   "outputs": [
    {
     "data": {
      "text/plain": [
       "array([[0, 1, 0],\n",
       "       [1, 4, 3],\n",
       "       [2, 1, 0]])"
      ]
     },
     "execution_count": 10,
     "metadata": {},
     "output_type": "execute_result"
    }
   ],
   "source": [
    "# remainder\n",
    "np.remainder(b, a)  # or, just (b % a)"
   ]
  },
  {
   "cell_type": "code",
   "execution_count": 11,
   "id": "834162c6-737f-4725-86a0-f722367e6f06",
   "metadata": {},
   "outputs": [
    {
     "data": {
      "text/plain": [
       "(array([[10,  5,  4],\n",
       "        [ 3,  2,  2],\n",
       "        [ 2,  2,  2]]),\n",
       " array([[0, 1, 0],\n",
       "        [1, 4, 3],\n",
       "        [2, 1, 0]]))"
      ]
     },
     "execution_count": 11,
     "metadata": {},
     "output_type": "execute_result"
    }
   ],
   "source": [
    "# divmod (Return element-wise quotient and remainder simultaneously.)\n",
    "np.divmod(b, a)  # np.divmod(x, y) is equivalent to (x // y, x % y) but faster"
   ]
  },
  {
   "cell_type": "markdown",
   "id": "c6a47ed4",
   "metadata": {},
   "source": [
    "**These operations can as easily be done on complex numbers.**"
   ]
  },
  {
   "cell_type": "markdown",
   "id": "35578314",
   "metadata": {},
   "source": [
    "---------------------\n",
    "### <a id='toc1_2_'></a>[Trigonometric and Hyperbolic functions](#toc0_)\n",
    "---------------------"
   ]
  },
  {
   "cell_type": "markdown",
   "id": "fa8d8e7f",
   "metadata": {},
   "source": [
    "<i><u>See the docs,\n",
    "\n",
    "Trigonometric functions @ https://numpy.org/doc/stable/reference/routines.math.html#trigonometric-functions\n",
    "\n",
    "Hyperbolic functions @ https://numpy.org/doc/stable/reference/routines.math.html#hyperbolic-functions"
   ]
  },
  {
   "cell_type": "markdown",
   "id": "ee83abe1",
   "metadata": {},
   "source": [
    "------------------\n",
    "### <a id='toc1_3_'></a>[Rounding](#toc0_)\n",
    "-------------------"
   ]
  },
  {
   "attachments": {},
   "cell_type": "markdown",
   "id": "3e0eac4e-d5f6-452d-adf7-b518d67f6e80",
   "metadata": {},
   "source": [
    "Rounding is very important in scientific computing as rounding errors, when compounded over large sequences of operations, can produce completely different results. This is a delicate matter since we have to decide between computing power and degree of accuracy of a calculation."
   ]
  },
  {
   "cell_type": "code",
   "execution_count": 12,
   "id": "d23fc23e-0d17-433f-8a7e-c719ae4829ae",
   "metadata": {},
   "outputs": [],
   "source": [
    "# Array of decimals\n",
    "ary_r = np.linspace(1, 10, 20).reshape(4, 5)"
   ]
  },
  {
   "cell_type": "code",
   "execution_count": 13,
   "id": "b584ed01-9406-4190-bae2-ef83ec970def",
   "metadata": {},
   "outputs": [
    {
     "data": {
      "text/plain": [
       "array([[ 1.        ,  1.47368421,  1.94736842,  2.42105263,  2.89473684],\n",
       "       [ 3.36842105,  3.84210526,  4.31578947,  4.78947368,  5.26315789],\n",
       "       [ 5.73684211,  6.21052632,  6.68421053,  7.15789474,  7.63157895],\n",
       "       [ 8.10526316,  8.57894737,  9.05263158,  9.52631579, 10.        ]])"
      ]
     },
     "execution_count": 13,
     "metadata": {},
     "output_type": "execute_result"
    }
   ],
   "source": [
    "ary_r"
   ]
  },
  {
   "cell_type": "code",
   "execution_count": 14,
   "id": "934aa22e-e2c3-4472-b88a-3f52091e0d44",
   "metadata": {},
   "outputs": [
    {
     "data": {
      "text/plain": [
       "array([[ 1.   ,  1.474,  1.947,  2.421,  2.895],\n",
       "       [ 3.368,  3.842,  4.316,  4.789,  5.263],\n",
       "       [ 5.737,  6.211,  6.684,  7.158,  7.632],\n",
       "       [ 8.105,  8.579,  9.053,  9.526, 10.   ]])"
      ]
     },
     "execution_count": 14,
     "metadata": {},
     "output_type": "execute_result"
    }
   ],
   "source": [
    "# round to the given number of decimals\n",
    "np.round(ary_r, 3)  # np.around() produces identical results"
   ]
  },
  {
   "cell_type": "code",
   "execution_count": 15,
   "id": "c941ee54-0364-472e-9b23-5221581cb031",
   "metadata": {},
   "outputs": [
    {
     "data": {
      "text/plain": [
       "array([[ 1.,  1.,  2.,  2.,  3.],\n",
       "       [ 3.,  4.,  4.,  5.,  5.],\n",
       "       [ 6.,  6.,  7.,  7.,  8.],\n",
       "       [ 8.,  9.,  9., 10., 10.]])"
      ]
     },
     "execution_count": 15,
     "metadata": {},
     "output_type": "execute_result"
    }
   ],
   "source": [
    "# round to the nearest integer\n",
    "np.rint(ary_r)"
   ]
  },
  {
   "cell_type": "code",
   "execution_count": 16,
   "id": "af6ac62a-dac7-4d19-9c69-7569f8306f0f",
   "metadata": {},
   "outputs": [
    {
     "data": {
      "text/plain": [
       "array([[ 1.,  1.,  1.,  2.,  2.],\n",
       "       [ 3.,  3.,  4.,  4.,  5.],\n",
       "       [ 5.,  6.,  6.,  7.,  7.],\n",
       "       [ 8.,  8.,  9.,  9., 10.]])"
      ]
     },
     "execution_count": 16,
     "metadata": {},
     "output_type": "execute_result"
    }
   ],
   "source": [
    "# round to the nearest integer towards zero\n",
    "np.fix(ary_r)"
   ]
  },
  {
   "cell_type": "code",
   "execution_count": 17,
   "id": "e7fa4d02-f6d2-4d98-9bef-04f7a929875b",
   "metadata": {},
   "outputs": [
    {
     "data": {
      "text/plain": [
       "array([[ 1.,  1.,  1.,  2.,  2.],\n",
       "       [ 3.,  3.,  4.,  4.,  5.],\n",
       "       [ 5.,  6.,  6.,  7.,  7.],\n",
       "       [ 8.,  8.,  9.,  9., 10.]])"
      ]
     },
     "execution_count": 17,
     "metadata": {},
     "output_type": "execute_result"
    }
   ],
   "source": [
    "# round to the floor of the input\n",
    "np.floor(ary_r)"
   ]
  },
  {
   "cell_type": "code",
   "execution_count": 18,
   "id": "df449413",
   "metadata": {},
   "outputs": [
    {
     "data": {
      "text/plain": [
       "array([[ 1.,  2.,  2.,  3.,  3.],\n",
       "       [ 4.,  4.,  5.,  5.,  6.],\n",
       "       [ 6.,  7.,  7.,  8.,  8.],\n",
       "       [ 9.,  9., 10., 10., 10.]])"
      ]
     },
     "execution_count": 18,
     "metadata": {},
     "output_type": "execute_result"
    }
   ],
   "source": [
    "# round to the ceiling of the input\n",
    "np.ceil(ary_r)"
   ]
  },
  {
   "cell_type": "markdown",
   "id": "493005a6",
   "metadata": {},
   "source": [
    "---------------------\n",
    "### <a id='toc1_4_'></a>[Exponential and Logarithmic functions](#toc0_)\n",
    "---------------------"
   ]
  },
  {
   "cell_type": "markdown",
   "id": "21b78991",
   "metadata": {},
   "source": [
    "<i>See the docs @ https://numpy.org/doc/stable/reference/routines.math.html#exponents-and-logarithms"
   ]
  },
  {
   "cell_type": "markdown",
   "id": "ac9ff212",
   "metadata": {},
   "source": [
    "--------------------------\n",
    "### <a id='toc1_5_'></a>[Handling Complex numbers](#toc0_)\n",
    "---------------------------"
   ]
  },
  {
   "cell_type": "code",
   "execution_count": 19,
   "id": "ce2be2cc-e411-41c1-878c-4391850e7502",
   "metadata": {},
   "outputs": [],
   "source": [
    "# array of complex numbers\n",
    "cmplx_ary = [[2 - 5j, 4 + 2j], [3 + 2j, 1 + 2j]]"
   ]
  },
  {
   "cell_type": "code",
   "execution_count": 20,
   "id": "bdca44a9-6ede-44b6-8247-484585b649d0",
   "metadata": {},
   "outputs": [
    {
     "data": {
      "text/plain": [
       "[[(2-5j), (4+2j)], [(3+2j), (1+2j)]]"
      ]
     },
     "execution_count": 20,
     "metadata": {},
     "output_type": "execute_result"
    }
   ],
   "source": [
    "cmplx_ary"
   ]
  },
  {
   "cell_type": "code",
   "execution_count": 21,
   "id": "4201c4bd-75a8-4312-82a4-7d87f92c9b91",
   "metadata": {},
   "outputs": [
    {
     "data": {
      "text/plain": [
       "array([[-1.19028995,  0.46364761],\n",
       "       [ 0.5880026 ,  1.10714872]])"
      ]
     },
     "execution_count": 21,
     "metadata": {},
     "output_type": "execute_result"
    }
   ],
   "source": [
    "# Angle of the complex argument (by default in, degree)\n",
    "np.angle(cmplx_ary)"
   ]
  },
  {
   "cell_type": "code",
   "execution_count": 22,
   "id": "02bcd23c-1c57-4f09-b37c-454059de70d7",
   "metadata": {},
   "outputs": [
    {
     "data": {
      "text/plain": [
       "array([[2., 4.],\n",
       "       [3., 1.]])"
      ]
     },
     "execution_count": 22,
     "metadata": {},
     "output_type": "execute_result"
    }
   ],
   "source": [
    "# The real part of a complex argument\n",
    "np.real(cmplx_ary)"
   ]
  },
  {
   "cell_type": "code",
   "execution_count": 23,
   "id": "1616cbf6-2f2e-4fdf-842c-693856eedaec",
   "metadata": {},
   "outputs": [
    {
     "data": {
      "text/plain": [
       "array([[-5.,  2.],\n",
       "       [ 2.,  2.]])"
      ]
     },
     "execution_count": 23,
     "metadata": {},
     "output_type": "execute_result"
    }
   ],
   "source": [
    "# The imaginary part of a complex argument\n",
    "np.imag(cmplx_ary)"
   ]
  },
  {
   "cell_type": "code",
   "execution_count": 24,
   "id": "06a7c72c",
   "metadata": {},
   "outputs": [
    {
     "data": {
      "text/plain": [
       "array([[2.+5.j, 4.-2.j],\n",
       "       [3.-2.j, 1.-2.j]])"
      ]
     },
     "execution_count": 24,
     "metadata": {},
     "output_type": "execute_result"
    }
   ],
   "source": [
    "# The complex conjugate\n",
    "np.conjugate(cmplx_ary)"
   ]
  },
  {
   "cell_type": "markdown",
   "id": "986ae2f0",
   "metadata": {},
   "source": [
    "-------------------------\n",
    "### <a id='toc1_6_'></a>[Some other useful mathematical operations](#toc0_)\n",
    "--------------"
   ]
  },
  {
   "cell_type": "code",
   "execution_count": 25,
   "id": "6eea440f-52e0-45c5-8565-e8eb4487f778",
   "metadata": {},
   "outputs": [
    {
     "data": {
      "text/plain": [
       "array([[1.92160933-1.30099285j, 2.05817103+0.48586827j],\n",
       "       [1.81735402+0.55025052j, 1.27201965+0.78615138j]])"
      ]
     },
     "execution_count": 25,
     "metadata": {},
     "output_type": "execute_result"
    }
   ],
   "source": [
    "# square root\n",
    "np.sqrt(cmplx_ary)"
   ]
  },
  {
   "cell_type": "code",
   "execution_count": 28,
   "id": "d0d2bc9c",
   "metadata": {},
   "outputs": [
    {
     "name": "stdout",
     "output_type": "stream",
     "text": [
      "a:\n",
      " [[1 2 3]\n",
      " [4 5 6]\n",
      " [7 8 9]]\n",
      "b:\n",
      " [[10 11 12]\n",
      " [13 14 15]\n",
      " [16 17 18]]\n"
     ]
    }
   ],
   "source": [
    "print(\"a:\\n\", a)\n",
    "print(\"b:\\n\", b)"
   ]
  },
  {
   "cell_type": "code",
   "execution_count": 28,
   "id": "bd71af66-bf56-41a7-bc17-cdb7fa6de25a",
   "metadata": {},
   "outputs": [
    {
     "data": {
      "text/plain": [
       "array([39, 42, 45])"
      ]
     },
     "execution_count": 28,
     "metadata": {},
     "output_type": "execute_result"
    }
   ],
   "source": [
    "# Sum of array elements over a given axis\n",
    "\n",
    "# If no axis is defined then this will return sum of all the elements in the array.\n",
    "np.sum(b, axis=0)  # sum along columns (axis=0: y axis; as, 2D array)"
   ]
  },
  {
   "cell_type": "code",
   "execution_count": 29,
   "id": "ff495e6e-fc7c-4286-9a9a-6a4907638cf9",
   "metadata": {},
   "outputs": [
    {
     "data": {
      "text/plain": [
       "array([ 28,  80, 162])"
      ]
     },
     "execution_count": 29,
     "metadata": {},
     "output_type": "execute_result"
    }
   ],
   "source": [
    "# Product of array elements over a given axis\n",
    "\n",
    "# If no axis is defined then this will return product of all the elements in the array.\n",
    "np.product(a, axis=0)  # product along rows (axis=1: x axis; as, 2D array)"
   ]
  },
  {
   "cell_type": "code",
   "execution_count": 30,
   "id": "e797c9f1-fcad-4437-b5a2-d5563f5af9f0",
   "metadata": {},
   "outputs": [
    {
     "data": {
      "text/plain": [
       "array([[9, 9, 9],\n",
       "       [9, 9, 9],\n",
       "       [9, 9, 9]])"
      ]
     },
     "execution_count": 30,
     "metadata": {},
     "output_type": "execute_result"
    }
   ],
   "source": [
    "# Absolute values (element wise)\n",
    "np.absolute(a - b)"
   ]
  },
  {
   "cell_type": "code",
   "execution_count": null,
   "id": "685b9216-94a1-4295-aac7-564e915db00e",
   "metadata": {},
   "outputs": [],
   "source": []
  }
 ],
 "metadata": {
  "kernelspec": {
   "display_name": "Python 3 (ipykernel)",
   "language": "python",
   "name": "python3"
  },
  "language_info": {
   "codemirror_mode": {
    "name": "ipython",
    "version": 3
   },
   "file_extension": ".py",
   "mimetype": "text/x-python",
   "name": "python",
   "nbconvert_exporter": "python",
   "pygments_lexer": "ipython3",
   "version": "3.11.6"
  }
 },
 "nbformat": 4,
 "nbformat_minor": 5
}
