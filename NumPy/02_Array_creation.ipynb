{
 "cells": [
  {
   "cell_type": "markdown",
   "id": "a10a0ee0",
   "metadata": {},
   "source": [
    "**Table of contents**<a id='toc0_'></a>    \n",
    "- [Array construction routines](#toc1_)    \n",
    "- [Random number generation and Sampling with NumPy](#toc2_)    \n",
    "  - [<u>Simple random sampling</u>](#toc2_1_)    \n",
    "  - [<u>Setting a <b>seed</b> for reproducibility</u>](#toc2_2_)    \n",
    "  - [<u>Sampling from particular distributions</u>](#toc2_3_)    \n",
    "\n",
    "<!-- vscode-jupyter-toc-config\n",
    "\tnumbering=false\n",
    "\tanchor=true\n",
    "\tflat=false\n",
    "\tminLevel=2\n",
    "\tmaxLevel=4\n",
    "\t/vscode-jupyter-toc-config -->\n",
    "<!-- THIS CELL WILL BE REPLACED ON TOC UPDATE. DO NOT WRITE YOUR TEXT IN THIS CELL -->"
   ]
  },
  {
   "attachments": {},
   "cell_type": "markdown",
   "id": "480f5685-d741-478e-8f42-3cc29e9d96c5",
   "metadata": {},
   "source": [
    "<u>Note:</u> to see the documentation of a function we can use, help(fun_name). Another interesting way to do this in a jupyter notebook is, using the `?` sign followed by the fun_name. "
   ]
  },
  {
   "cell_type": "code",
   "execution_count": 1,
   "id": "56147c68",
   "metadata": {},
   "outputs": [],
   "source": [
    "# Import statements\n",
    "import numpy as np"
   ]
  },
  {
   "cell_type": "markdown",
   "metadata": {},
   "source": [
    "## <a id='toc1_'></a>[Array construction routines](#toc0_)"
   ]
  },
  {
   "attachments": {},
   "cell_type": "markdown",
   "id": "f70e7779-b503-4365-a1a8-5c18007321f8",
   "metadata": {},
   "source": [
    "NumPy provides some simple built-in functions to initialize some of the most common arrays used in scientific computing."
   ]
  },
  {
   "attachments": {},
   "cell_type": "markdown",
   "id": "d2e21ffa-de55-4071-bbce-878a33fb3eb2",
   "metadata": {},
   "source": [
    "- **Array of zeros**"
   ]
  },
  {
   "cell_type": "code",
   "execution_count": 2,
   "id": "8d34c498-c692-454d-8486-eeb5b54f667c",
   "metadata": {},
   "outputs": [],
   "source": [
    "# np.zeros(ary_shape, dtype=float)\n",
    "zeros_ary = np.zeros((2, 3))"
   ]
  },
  {
   "cell_type": "code",
   "execution_count": 3,
   "id": "1f964dc2-bdf4-41d9-ab7c-ffae6e5a2878",
   "metadata": {},
   "outputs": [
    {
     "data": {
      "text/plain": [
       "array([[0., 0., 0.],\n",
       "       [0., 0., 0.]])"
      ]
     },
     "execution_count": 3,
     "metadata": {},
     "output_type": "execute_result"
    }
   ],
   "source": [
    "zeros_ary"
   ]
  },
  {
   "attachments": {},
   "cell_type": "markdown",
   "id": "6c141df2-ae0c-499e-b546-0a4d41da7b10",
   "metadata": {},
   "source": [
    "If we want to initialize an array that has the **same shape and dataype** as `a` we can use the `np.zeros_like(a, dtype=float)` function."
   ]
  },
  {
   "attachments": {},
   "cell_type": "markdown",
   "id": "0a272cc9-b20e-44a1-93fe-22c3d1aeb232",
   "metadata": {},
   "source": [
    "- **Array of ones**"
   ]
  },
  {
   "cell_type": "code",
   "execution_count": 4,
   "id": "cae2218e-6032-4f8a-bdb9-6d8bcd5dd758",
   "metadata": {},
   "outputs": [],
   "source": [
    "# np.ones(ary_shape, dtype=float)\n",
    "ones_ary = np.ones((2, 3))"
   ]
  },
  {
   "cell_type": "code",
   "execution_count": 5,
   "id": "5a349de4-e2c5-41ae-a38e-09dee61a744e",
   "metadata": {},
   "outputs": [
    {
     "data": {
      "text/plain": [
       "array([[1., 1., 1.],\n",
       "       [1., 1., 1.]])"
      ]
     },
     "execution_count": 5,
     "metadata": {},
     "output_type": "execute_result"
    }
   ],
   "source": [
    "ones_ary"
   ]
  },
  {
   "attachments": {},
   "cell_type": "markdown",
   "id": "56c01d6f-e7a5-488a-880c-5a4ba53fa9b3",
   "metadata": {},
   "source": [
    "A function `np.ones_like(a, dtype=float)` is available in case we want an array of the same shape and size as `a`."
   ]
  },
  {
   "attachments": {},
   "cell_type": "markdown",
   "id": "3f81bd96-2f8b-4e9d-b09e-0749ca5e971a",
   "metadata": {},
   "source": [
    "- **Array of X**s"
   ]
  },
  {
   "cell_type": "code",
   "execution_count": 6,
   "id": "489a5b63-77a0-4409-997a-d44677fe6c97",
   "metadata": {},
   "outputs": [],
   "source": [
    "# np.full(shape, fill_value, dtype=None)\n",
    "filled_ary = np.full((2, 3), 3)"
   ]
  },
  {
   "cell_type": "code",
   "execution_count": 7,
   "id": "0cf4f0f9-3e55-461e-880f-890aa64caad2",
   "metadata": {},
   "outputs": [
    {
     "data": {
      "text/plain": [
       "array([[3, 3, 3],\n",
       "       [3, 3, 3]])"
      ]
     },
     "execution_count": 7,
     "metadata": {},
     "output_type": "execute_result"
    }
   ],
   "source": [
    "filled_ary"
   ]
  },
  {
   "attachments": {},
   "cell_type": "markdown",
   "id": "35ffbe43-a264-4383-b1a4-404781f34d75",
   "metadata": {},
   "source": [
    "Function `np.full_like(a, fill_value, dtype=None)` will return a full array with the same shape and type as a given array, `a`."
   ]
  },
  {
   "attachments": {},
   "cell_type": "markdown",
   "id": "08794925-ee31-4e46-97fd-f58c34517ac2",
   "metadata": {},
   "source": [
    "- **The arange function**"
   ]
  },
  {
   "cell_type": "code",
   "execution_count": 8,
   "id": "fda5ac42-3487-4b89-a445-b5369696a18e",
   "metadata": {},
   "outputs": [],
   "source": [
    "# np.arange(start, stop, step, dtype=None)\n",
    "# stop is exclusive\n",
    "arange_ary = np.arange(1, 10)"
   ]
  },
  {
   "attachments": {},
   "cell_type": "markdown",
   "id": "aa3ddadd-583a-4ac9-a7c2-27d0e713efed",
   "metadata": {},
   "source": [
    "This will return an **one-dimensional** array populated with the numbers in the given range. Similar to python lists but it returns ndarray objects instead."
   ]
  },
  {
   "cell_type": "code",
   "execution_count": 9,
   "id": "019b56f9-d05f-4c42-833a-30f5b9acf453",
   "metadata": {},
   "outputs": [
    {
     "data": {
      "text/plain": [
       "array([1, 2, 3, 4, 5, 6, 7, 8, 9])"
      ]
     },
     "execution_count": 9,
     "metadata": {},
     "output_type": "execute_result"
    }
   ],
   "source": [
    "arange_ary"
   ]
  },
  {
   "attachments": {},
   "cell_type": "markdown",
   "id": "bbb23263-a216-4742-8f71-e809e21f63c3",
   "metadata": {},
   "source": [
    "- **The linspace function**"
   ]
  },
  {
   "cell_type": "code",
   "execution_count": 10,
   "id": "e9779372-fe7a-4555-a5a1-32c9e0c59644",
   "metadata": {},
   "outputs": [],
   "source": [
    "# np.linspace(start, stop, num=50, dtype=None)\n",
    "# stop is inclusive\n",
    "lin_ary = np.linspace(1, 10, 5, dtype=np.int16)"
   ]
  },
  {
   "attachments": {},
   "cell_type": "markdown",
   "id": "023b9e9b-8ee5-4d39-aad4-4d972965cd5e",
   "metadata": {},
   "source": [
    "This will return an **one-dimensional** array of size 'num' and the elements are linearly spaced within the given range."
   ]
  },
  {
   "cell_type": "code",
   "execution_count": 11,
   "id": "80e5da04-5bc1-4bac-a610-c8cd0168edaa",
   "metadata": {},
   "outputs": [
    {
     "data": {
      "text/plain": [
       "array([ 1,  3,  5,  7, 10], dtype=int16)"
      ]
     },
     "execution_count": 11,
     "metadata": {},
     "output_type": "execute_result"
    }
   ],
   "source": [
    "lin_ary"
   ]
  },
  {
   "attachments": {},
   "cell_type": "markdown",
   "id": "d85e9da0-90e5-4e53-ac9c-368e3382a996",
   "metadata": {},
   "source": [
    "- **Diagonal matrix** from array like structures"
   ]
  },
  {
   "attachments": {},
   "cell_type": "markdown",
   "id": "5f7b5697-a656-4d8d-b4eb-84bf3af67f54",
   "metadata": {},
   "source": [
    "A diagonal matrix is a square matrix in which the elements are all zero except the main diagonal entries."
   ]
  },
  {
   "cell_type": "code",
   "execution_count": 12,
   "id": "1d35724d-5f92-4f78-8dee-9907289ebb92",
   "metadata": {},
   "outputs": [],
   "source": [
    "# np.diag(array_like, k=0)\n",
    "# k : int, optional. Diagonal in question. The default is 0 i.e, the main diagonal.\n",
    "# Use `k>0` for diagonals above the main diagonal, and `k<0` for diagonals below the main diagonal.\n",
    "diag_ary = np.diag([1, 2, 3])"
   ]
  },
  {
   "cell_type": "code",
   "execution_count": 13,
   "id": "daece98b-39e8-4ced-a205-80514a81291f",
   "metadata": {},
   "outputs": [
    {
     "data": {
      "text/plain": [
       "array([[1, 0, 0],\n",
       "       [0, 2, 0],\n",
       "       [0, 0, 3]])"
      ]
     },
     "execution_count": 13,
     "metadata": {},
     "output_type": "execute_result"
    }
   ],
   "source": [
    "diag_ary"
   ]
  },
  {
   "attachments": {},
   "cell_type": "markdown",
   "id": "f82261e7-671b-4e54-a3b4-6752c24436d8",
   "metadata": {},
   "source": [
    "To extract the diagonal elements of a square matrix, the `np.diag(array, k=0)` fuction can be used."
   ]
  },
  {
   "cell_type": "code",
   "execution_count": 14,
   "id": "f5368eee-18ec-470f-af96-f520633b4ad0",
   "metadata": {},
   "outputs": [],
   "source": [
    "diag_elm = np.diag(diag_ary)"
   ]
  },
  {
   "cell_type": "code",
   "execution_count": 15,
   "id": "846518f3-f474-4964-82ef-0d3183a9b8e1",
   "metadata": {},
   "outputs": [
    {
     "data": {
      "text/plain": [
       "array([1, 2, 3])"
      ]
     },
     "execution_count": 15,
     "metadata": {},
     "output_type": "execute_result"
    }
   ],
   "source": [
    "diag_elm"
   ]
  },
  {
   "attachments": {},
   "cell_type": "markdown",
   "id": "f3b08270-e0eb-44dc-8842-52ccbbb00381",
   "metadata": {},
   "source": [
    "- **Diagonal matrix with 1s along the diagonal and 0s elsewhere**"
   ]
  },
  {
   "cell_type": "code",
   "execution_count": 16,
   "id": "f48adaa0-c864-41bd-b2c5-068f274fac06",
   "metadata": {},
   "outputs": [],
   "source": [
    "# np.eye(N, M=None, k=0)\n",
    "# N is the no of rows in the output matrix and M is the no columns. If, M=None it defaults to N\n",
    "eye_ary = np.eye(3, 4, k=-1)"
   ]
  },
  {
   "cell_type": "code",
   "execution_count": 17,
   "id": "2dc8060c-79ad-463b-8e38-91ad0807ab68",
   "metadata": {},
   "outputs": [
    {
     "data": {
      "text/plain": [
       "array([[0., 0., 0., 0.],\n",
       "       [1., 0., 0., 0.],\n",
       "       [0., 1., 0., 0.]])"
      ]
     },
     "execution_count": 17,
     "metadata": {},
     "output_type": "execute_result"
    }
   ],
   "source": [
    "eye_ary"
   ]
  },
  {
   "attachments": {},
   "cell_type": "markdown",
   "id": "118f2cf8-e4fa-4bca-8f8e-e08b207bec7f",
   "metadata": {},
   "source": [
    "- **Identity matrix**"
   ]
  },
  {
   "attachments": {},
   "cell_type": "markdown",
   "id": "22766e54-7e8a-4a2c-ae92-0d9b8b3e666a",
   "metadata": {},
   "source": [
    "The identity matrix is a square matrix with ones on the main diagonal and zeros elsewhere."
   ]
  },
  {
   "cell_type": "code",
   "execution_count": 18,
   "id": "bbe7923d-bc03-4ce6-b1e4-aeac7b0b0226",
   "metadata": {},
   "outputs": [],
   "source": [
    "# np.identity(n, dtype=None)\n",
    "iden_ary = np.identity(3)"
   ]
  },
  {
   "cell_type": "code",
   "execution_count": 19,
   "id": "b3a65694",
   "metadata": {},
   "outputs": [
    {
     "data": {
      "text/plain": [
       "array([[1., 0., 0.],\n",
       "       [0., 1., 0.],\n",
       "       [0., 0., 1.]])"
      ]
     },
     "execution_count": 19,
     "metadata": {},
     "output_type": "execute_result"
    }
   ],
   "source": [
    "iden_ary"
   ]
  },
  {
   "cell_type": "markdown",
   "metadata": {},
   "source": [
    "## <a id='toc2_'></a>[Random number generation and Sampling with NumPy](#toc0_)"
   ]
  },
  {
   "attachments": {},
   "cell_type": "markdown",
   "id": "08ff7923-ca6d-472a-bcc3-02850f475f82",
   "metadata": {},
   "source": [
    "In machine learning and deep learning we often need to generate arrays of random numbers. These types of random arrays can be easily generated with Numpy. Also, for statistical applications, we often need random samples of numbers from various types of statistical distributions. Numpy provides a convenient way to generate and sample data for a wide range of statistical distributions."
   ]
  },
  {
   "attachments": {},
   "cell_type": "markdown",
   "id": "ae2f97e2-b841-4b31-ae3b-6d5b6c8eba8f",
   "metadata": {},
   "source": [
    "Numpy actually generates pseudo-random numbers. But, for all practical purposes it is random enough to be considered truly random. "
   ]
  },
  {
   "attachments": {},
   "cell_type": "markdown",
   "id": "af4a7b2e-857c-4547-bd47-d72a5e88d65e",
   "metadata": {},
   "source": [
    "Numpy provides a subpackage named `random` for working with random numbers and distributions. Previously, `random.random` class was used. But, starting from V1.17.0 it recommends users to use the `Generator` approach. To learn more about this approach and available functions see - https://numpy.org/devdocs/reference/random/generator.html "
   ]
  },
  {
   "attachments": {},
   "cell_type": "markdown",
   "id": "19f2a62f-d9c7-4610-b01b-fef5e0885c76",
   "metadata": {},
   "source": [
    "- **Initializing the Random Generator object**"
   ]
  },
  {
   "cell_type": "code",
   "execution_count": 20,
   "id": "c4147290",
   "metadata": {},
   "outputs": [],
   "source": [
    "from numpy.random import default_rng\n",
    "\n",
    "rng = default_rng()"
   ]
  },
  {
   "cell_type": "markdown",
   "metadata": {},
   "source": [
    "### <a id='toc2_1_'></a>[<u>Simple random sampling</u>](#toc0_)"
   ]
  },
  {
   "attachments": {},
   "cell_type": "markdown",
   "id": "acded4f9-0b68-4d92-a793-d021d9bd8fef",
   "metadata": {},
   "source": [
    "- **An array of random integers**"
   ]
  },
  {
   "attachments": {},
   "cell_type": "markdown",
   "id": "96f53361-3780-4d08-87b6-5b3463911a13",
   "metadata": {},
   "source": [
    "`rng.integers(low, high=None, size=None, dtype=np.int64)` will return an array of specified shape populated with random integers from low (inclusive) to high (exclusive)."
   ]
  },
  {
   "cell_type": "code",
   "execution_count": 21,
   "id": "0438bf0e-d36a-4b5a-9d0e-86703fac75a3",
   "metadata": {},
   "outputs": [],
   "source": [
    "randint_ary = rng.integers(\n",
    "    [1, 4, 2], [10, 8, 7], size=(3, 3)\n",
    ")  # col1:(low=1, high=10), col2:(low=4, high=8);col3:(low=2, high=7)"
   ]
  },
  {
   "cell_type": "code",
   "execution_count": 22,
   "id": "18dac51f-4e45-4df0-b920-bf7094e83f1c",
   "metadata": {},
   "outputs": [
    {
     "data": {
      "text/plain": [
       "array([[2, 5, 3],\n",
       "       [5, 7, 4],\n",
       "       [9, 6, 3]])"
      ]
     },
     "execution_count": 22,
     "metadata": {},
     "output_type": "execute_result"
    }
   ],
   "source": [
    "randint_ary"
   ]
  },
  {
   "attachments": {},
   "cell_type": "markdown",
   "id": "72aa3a4a-0068-4044-868e-2997788b51b8",
   "metadata": {},
   "source": [
    "- **An array of random floats in the half-open interval [0.0, 1.0)**"
   ]
  },
  {
   "attachments": {},
   "cell_type": "markdown",
   "id": "b91df044-fce3-4c0e-b879-c4740b82ba62",
   "metadata": {},
   "source": [
    "`rng.random(size=None, dtype=np.float64, out=None)` will return an array of specified shape populated by random floats from the \"continuous uniform\" distribution over the stated interval."
   ]
  },
  {
   "cell_type": "code",
   "execution_count": 23,
   "id": "1c9fe2c9-f945-43a9-a1d1-65f36c90ee00",
   "metadata": {},
   "outputs": [],
   "source": [
    "rand_ary = rng.random(size=(2, 3, 3))"
   ]
  },
  {
   "cell_type": "code",
   "execution_count": 24,
   "id": "f65339ab-cedd-48e4-abb8-cb774faef5de",
   "metadata": {},
   "outputs": [
    {
     "data": {
      "text/plain": [
       "array([[[0.54262496, 0.97407784, 0.22273485],\n",
       "        [0.64211916, 0.34748703, 0.06535791],\n",
       "        [0.97039635, 0.22035921, 0.45719539]],\n",
       "\n",
       "       [[0.47590258, 0.64791843, 0.55870738],\n",
       "        [0.94452409, 0.96002789, 0.50087617],\n",
       "        [0.45096658, 0.94155353, 0.18163461]]])"
      ]
     },
     "execution_count": 24,
     "metadata": {},
     "output_type": "execute_result"
    }
   ],
   "source": [
    "rand_ary"
   ]
  },
  {
   "attachments": {},
   "cell_type": "markdown",
   "id": "ae1cfbcd-179c-4194-bad0-e4618cb8fae4",
   "metadata": {},
   "source": [
    "- **To generate a random sample from a given array**"
   ]
  },
  {
   "attachments": {},
   "cell_type": "markdown",
   "id": "1790e3a0-86d9-4f6b-8f8a-f6813f44ae89",
   "metadata": {},
   "source": [
    "`rng.choice(a, size=None, replace=True, p=None, axis=0, shuffle=True)` will generate a random sample of specified shape populated with the elements from a given array `a`"
   ]
  },
  {
   "cell_type": "code",
   "execution_count": 25,
   "id": "f475bbb1-878f-4f35-a9d5-788a3944c1e1",
   "metadata": {},
   "outputs": [],
   "source": [
    "rand_sample = rng.choice(randint_ary, size=(2, 2))"
   ]
  },
  {
   "cell_type": "code",
   "execution_count": 26,
   "id": "fde993a9",
   "metadata": {},
   "outputs": [
    {
     "data": {
      "text/plain": [
       "array([[[9, 6, 3],\n",
       "        [5, 7, 4]],\n",
       "\n",
       "       [[5, 7, 4],\n",
       "        [2, 5, 3]]])"
      ]
     },
     "execution_count": 26,
     "metadata": {},
     "output_type": "execute_result"
    }
   ],
   "source": [
    "rand_sample"
   ]
  },
  {
   "cell_type": "markdown",
   "metadata": {},
   "source": [
    "### <a id='toc2_2_'></a>[<u>Setting a <b>seed</b> for reproducibility</u>](#toc0_)"
   ]
  },
  {
   "cell_type": "code",
   "execution_count": 27,
   "id": "856ae4db-f7db-409e-834b-0dec20035f92",
   "metadata": {},
   "outputs": [],
   "source": [
    "# setting a seed and producing a random array"
   ]
  },
  {
   "cell_type": "code",
   "execution_count": 28,
   "id": "5b006598-4c7d-46f0-97b9-c8942ce2f7b0",
   "metadata": {},
   "outputs": [],
   "source": [
    "rng_seeded = default_rng(seed=285)\n",
    "\n",
    "rnd_sd_int = rng_seeded.integers(low=6, size=3)  # effectively: low=0, high=6"
   ]
  },
  {
   "cell_type": "code",
   "execution_count": 29,
   "id": "bd64ec04-d681-4b23-b7d9-2ace13976e68",
   "metadata": {},
   "outputs": [],
   "source": [
    "# see, if using the previously used seed produces the same output"
   ]
  },
  {
   "cell_type": "code",
   "execution_count": 30,
   "id": "32e3c37a-8323-433d-8be2-87b0091d822a",
   "metadata": {},
   "outputs": [],
   "source": [
    "rng_seeded_rpcd = default_rng(seed=285)\n",
    "\n",
    "rnd_sd_int_rpcd = rng_seeded_rpcd.integers(low=6, size=3)"
   ]
  },
  {
   "cell_type": "code",
   "execution_count": 31,
   "id": "a977673e",
   "metadata": {},
   "outputs": [
    {
     "name": "stdout",
     "output_type": "stream",
     "text": [
      "[ True  True  True]\n"
     ]
    }
   ],
   "source": [
    "print(rnd_sd_int == rnd_sd_int_rpcd)"
   ]
  },
  {
   "cell_type": "markdown",
   "metadata": {},
   "source": [
    "### <a id='toc2_3_'></a>[<u>Sampling from particular distributions</u>](#toc0_)"
   ]
  },
  {
   "attachments": {},
   "cell_type": "markdown",
   "id": "d82d6af4-69f6-4474-8dda-ce240f5dc716",
   "metadata": {},
   "source": [
    "See the docs @ https://numpy.org/doc/stable/reference/random/generator.html#distributions"
   ]
  },
  {
   "cell_type": "code",
   "execution_count": null,
   "id": "2fcccd9a-8bd0-4104-998e-f53bb3e3970d",
   "metadata": {},
   "outputs": [],
   "source": []
  }
 ],
 "metadata": {
  "kernelspec": {
   "display_name": "Python 3 (ipykernel)",
   "language": "python",
   "name": "python3"
  },
  "language_info": {
   "codemirror_mode": {
    "name": "ipython",
    "version": 3
   },
   "file_extension": ".py",
   "mimetype": "text/x-python",
   "name": "python",
   "nbconvert_exporter": "python",
   "pygments_lexer": "ipython3",
   "version": "3.8.15"
  }
 },
 "nbformat": 4,
 "nbformat_minor": 5
}
