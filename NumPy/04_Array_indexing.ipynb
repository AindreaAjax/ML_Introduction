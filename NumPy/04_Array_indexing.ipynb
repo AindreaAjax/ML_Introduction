{
 "cells": [
  {
   "cell_type": "markdown",
   "id": "6cfbcdc1",
   "metadata": {},
   "source": [
    "**Table of contents**<a id='toc0_'></a>    \n",
    "- [Array Indexing and Slicing](#toc1_)    \n",
    "  - [<u> Simple indexing and slicing </u>](#toc1_1_)    \n",
    "  - [<u>Boolean indexing or, Masking</u>](#toc1_2_)    \n",
    "  - [<u>Numpy Indexing Routines</u>](#toc1_3_)    \n",
    "- [Array Views (Shallow copies) and Deep copies](#toc2_)    \n",
    "\n",
    "<!-- vscode-jupyter-toc-config\n",
    "\tnumbering=false\n",
    "\tanchor=true\n",
    "\tflat=false\n",
    "\tminLevel=2\n",
    "\tmaxLevel=4\n",
    "\t/vscode-jupyter-toc-config -->\n",
    "<!-- THIS CELL WILL BE REPLACED ON TOC UPDATE. DO NOT WRITE YOUR TEXT IN THIS CELL -->"
   ]
  },
  {
   "cell_type": "markdown",
   "metadata": {},
   "source": [
    "## <a id='toc1_'></a>[Array Indexing and Slicing](#toc0_)"
   ]
  },
  {
   "cell_type": "code",
   "execution_count": 2,
   "id": "78f58535",
   "metadata": {},
   "outputs": [],
   "source": [
    "# Import statements\n",
    "import numpy as np"
   ]
  },
  {
   "cell_type": "markdown",
   "metadata": {},
   "source": [
    "### <a id='toc1_1_'></a>[<u> Simple indexing and slicing </u>](#toc0_)"
   ]
  },
  {
   "cell_type": "markdown",
   "id": "247c820e",
   "metadata": {},
   "source": [
    "Indices represents the position of a particular element in an array. Indexing and slicing in NumPy works similar to Python lists. "
   ]
  },
  {
   "attachments": {},
   "cell_type": "markdown",
   "id": "f4d73612-87da-45b2-8eb2-a74302b1de6e",
   "metadata": {},
   "source": [
    "To index arrays with multiple dimensions we need to reference each dimension/axis within a single pair of square brackets with each dimension/axis separated by commas [ , ]."
   ]
  },
  {
   "attachments": {},
   "cell_type": "markdown",
   "id": "0e333d8d-64d6-4600-865c-c731690f502a",
   "metadata": {},
   "source": [
    "Array slicing operation is also similar to that of Python Lists."
   ]
  },
  {
   "cell_type": "code",
   "execution_count": 3,
   "id": "6eb23d86-746b-45dd-8bd8-5b49b37b345b",
   "metadata": {},
   "outputs": [],
   "source": [
    "# creating a 3D array to demonstrate array indexing and slicing\n",
    "ref_3d = np.linspace(1, 30, 30).reshape(\n",
    "    (2, 3, 5)\n",
    ")  # 2 stacks in the z axis, 3 rows and 5 columns"
   ]
  },
  {
   "cell_type": "code",
   "execution_count": 4,
   "id": "0ebb7baa-afb9-4679-8ece-120f717bfeca",
   "metadata": {},
   "outputs": [
    {
     "data": {
      "text/plain": [
       "array([[[ 1.,  2.,  3.,  4.,  5.],\n",
       "        [ 6.,  7.,  8.,  9., 10.],\n",
       "        [11., 12., 13., 14., 15.]],\n",
       "\n",
       "       [[16., 17., 18., 19., 20.],\n",
       "        [21., 22., 23., 24., 25.],\n",
       "        [26., 27., 28., 29., 30.]]])"
      ]
     },
     "execution_count": 4,
     "metadata": {},
     "output_type": "execute_result"
    }
   ],
   "source": [
    "ref_3d"
   ]
  },
  {
   "cell_type": "code",
   "execution_count": 5,
   "id": "e624b2d6-2714-441c-b8c2-838157da8462",
   "metadata": {},
   "outputs": [],
   "source": [
    "# extracting the first 2D array from the 2 stacks along the z axis\n",
    "ref_2d_1 = ref_3d[0]  # same as ref_3d[0, :, :]\n",
    "# similarly,\n",
    "ref_2d_2 = ref_3d[1]"
   ]
  },
  {
   "cell_type": "code",
   "execution_count": 6,
   "id": "60c078e5-a600-4b54-b6be-433476ab4c4f",
   "metadata": {},
   "outputs": [
    {
     "data": {
      "text/plain": [
       "array([[ 1.,  2.,  3.,  4.,  5.],\n",
       "       [ 6.,  7.,  8.,  9., 10.],\n",
       "       [11., 12., 13., 14., 15.]])"
      ]
     },
     "execution_count": 6,
     "metadata": {},
     "output_type": "execute_result"
    }
   ],
   "source": [
    "ref_2d_1"
   ]
  },
  {
   "cell_type": "code",
   "execution_count": 7,
   "id": "a0db659b-db7e-4735-8e60-db0e15314551",
   "metadata": {},
   "outputs": [
    {
     "data": {
      "text/plain": [
       "array([[16., 17., 18., 19., 20.],\n",
       "       [21., 22., 23., 24., 25.],\n",
       "       [26., 27., 28., 29., 30.]])"
      ]
     },
     "execution_count": 7,
     "metadata": {},
     "output_type": "execute_result"
    }
   ],
   "source": [
    "ref_2d_2"
   ]
  },
  {
   "attachments": {},
   "cell_type": "markdown",
   "id": "93bafaf5-1ef0-45e0-9298-7137777728d5",
   "metadata": {},
   "source": [
    "<b> <i> Simmilarly, we can extract particular elements or full rows and columns or a specific portion of an array. We can also replace the value of a particular element or any portion of an array using assignment operator `=`. Inserting, deleting, and changing values is done with the same logic. </i> </b>"
   ]
  },
  {
   "cell_type": "code",
   "execution_count": 8,
   "id": "bb58c7ba-2dbf-4a42-9141-9a5a6f184cf7",
   "metadata": {},
   "outputs": [
    {
     "data": {
      "text/plain": [
       "array([[[ 1.,  2.,  3.,  4.,  5.],\n",
       "        [ 6.,  7.,  8.,  9., 10.],\n",
       "        [11., 12., 13., 14., 15.]],\n",
       "\n",
       "       [[16., 17., 18., 19., 20.],\n",
       "        [21., 22., 32., 24., 25.],\n",
       "        [26., 27., 28., 29., 30.]]])"
      ]
     },
     "execution_count": 8,
     "metadata": {},
     "output_type": "execute_result"
    }
   ],
   "source": [
    "# for example, changing 23 to 32 in the 3D array\n",
    "ref_3d[1, 1, 2] = 32  # z - 2nd stack; y - 2nd row; x - 3rd column\n",
    "ref_3d"
   ]
  },
  {
   "cell_type": "code",
   "execution_count": 9,
   "id": "53f035d4-bbdc-4b43-afce-7069d6bec610",
   "metadata": {},
   "outputs": [
    {
     "data": {
      "text/plain": [
       "array([[[ 1.,  2.],\n",
       "        [ 6.,  7.]],\n",
       "\n",
       "       [[16., 17.],\n",
       "        [21., 22.]]])"
      ]
     },
     "execution_count": 9,
     "metadata": {},
     "output_type": "execute_result"
    }
   ],
   "source": [
    "# a 3D array consisting of first 2 rows and 2 columns of the ref_3d array\n",
    "ref_3d[:, 0:2, 0:2]"
   ]
  },
  {
   "attachments": {},
   "cell_type": "markdown",
   "id": "1ebf1cf0-7ae8-41d7-ada3-d4d13d0ca0b3",
   "metadata": {},
   "source": [
    "-> *Append values at the end of an array*"
   ]
  },
  {
   "cell_type": "code",
   "execution_count": 10,
   "id": "e36ad784-132b-465d-ba53-eed6ce7c79ec",
   "metadata": {},
   "outputs": [
    {
     "data": {
      "text/plain": [
       "array([[[ 1.,  2.,  3.,  4.,  5.],\n",
       "        [ 6.,  7.,  8.,  9., 10.],\n",
       "        [11., 12., 13., 14., 15.]],\n",
       "\n",
       "       [[16., 17., 18., 19., 20.],\n",
       "        [21., 22., 32., 24., 25.],\n",
       "        [26., 27., 28., 29., 30.]],\n",
       "\n",
       "       [[31., 32., 33., 34., 35.],\n",
       "        [36., 37., 38., 39., 40.],\n",
       "        [41., 42., 43., 44., 45.]]])"
      ]
     },
     "execution_count": 10,
     "metadata": {},
     "output_type": "execute_result"
    }
   ],
   "source": [
    "# inserting a 3rd stack in the z axis\n",
    "z3_yx_1 = np.linspace(31, 45, 15).reshape(3, 5)\n",
    "np.append(ref_3d, [z3_yx_1], axis=0)"
   ]
  },
  {
   "cell_type": "code",
   "execution_count": 11,
   "id": "3f613876",
   "metadata": {},
   "outputs": [
    {
     "data": {
      "text/plain": [
       "array([[[ 1.,  2.,  3.,  4.,  5.],\n",
       "        [ 6.,  7.,  8.,  9., 10.],\n",
       "        [11., 12., 13., 14., 15.]],\n",
       "\n",
       "       [[16., 17., 18., 19., 20.],\n",
       "        [21., 22., 32., 24., 25.],\n",
       "        [26., 27., 28., 29., 30.]]])"
      ]
     },
     "execution_count": 11,
     "metadata": {},
     "output_type": "execute_result"
    }
   ],
   "source": [
    "ref_3d"
   ]
  },
  {
   "cell_type": "markdown",
   "metadata": {},
   "source": [
    "### <a id='toc1_2_'></a>[<u>Boolean indexing or, Masking</u>](#toc0_)"
   ]
  },
  {
   "cell_type": "markdown",
   "id": "9165b3fb",
   "metadata": {},
   "source": [
    "An array that has either True or, False as its array elements is known as a boolean array."
   ]
  },
  {
   "cell_type": "code",
   "execution_count": 12,
   "id": "7ed6e9b1-e862-4416-a16a-dc4471db1ed4",
   "metadata": {},
   "outputs": [],
   "source": [
    "# example boolean array\n",
    "bool_ary = np.array(\n",
    "    [\n",
    "        [[True, False, False], [True, True, True]],\n",
    "        [[False, True, True], [False, False, False]],\n",
    "    ]\n",
    ")"
   ]
  },
  {
   "cell_type": "code",
   "execution_count": 13,
   "id": "8768503f-4548-4c69-9f35-5a37eb3a5d3c",
   "metadata": {},
   "outputs": [
    {
     "data": {
      "text/plain": [
       "array([[[ True, False, False],\n",
       "        [ True,  True,  True]],\n",
       "\n",
       "       [[False,  True,  True],\n",
       "        [False, False, False]]])"
      ]
     },
     "execution_count": 13,
     "metadata": {},
     "output_type": "execute_result"
    }
   ],
   "source": [
    "bool_ary"
   ]
  },
  {
   "attachments": {},
   "cell_type": "markdown",
   "id": "f19ec73e-e511-424f-86d9-ef48e76f8ef8",
   "metadata": {},
   "source": [
    "Boolean arrays can be used for indexing. This type of indexing is called `masking`. When used, the Boolean array `maps` the elements of that other array corresponding to its `True positions` and `ignores` elements corresponding to the `False positions`."
   ]
  },
  {
   "attachments": {},
   "cell_type": "markdown",
   "id": "95c6ba0c-61d9-42c7-bb71-a2d1a7617dd1",
   "metadata": {},
   "source": [
    "The only criteria is that, array shapes need to match in at least one of the dimensions. <i>We can index an (n , n) array with an (n, n) mask, a (, n) mask, or an (n, ) mask.</i> Otherwise, it won’t work."
   ]
  },
  {
   "attachments": {},
   "cell_type": "markdown",
   "id": "6348c8a9-7995-4a8e-83e1-dfb0ee71963f",
   "metadata": {},
   "source": [
    "**This type of indexing comes in handy for conditional selection or modification of array elements.**"
   ]
  },
  {
   "attachments": {},
   "cell_type": "markdown",
   "id": "423740d5-be53-4203-a40f-0f49645d0d90",
   "metadata": {},
   "source": [
    "-> *To extract, only the even elements from ref_3d array --*"
   ]
  },
  {
   "cell_type": "code",
   "execution_count": 14,
   "id": "ba50d2b8-d1e8-4276-85a2-1cd1b0ee93c5",
   "metadata": {},
   "outputs": [],
   "source": [
    "# first creating the boolean array i.e, mask (to filter out only the even elements)\n",
    "mask_even = ref_3d % 2 == 0"
   ]
  },
  {
   "cell_type": "code",
   "execution_count": 15,
   "id": "3bb7814d-9b54-42a1-820d-fc0a4dfc660d",
   "metadata": {},
   "outputs": [
    {
     "data": {
      "text/plain": [
       "array([[[False,  True, False,  True, False],\n",
       "        [ True, False,  True, False,  True],\n",
       "        [False,  True, False,  True, False]],\n",
       "\n",
       "       [[ True, False,  True, False,  True],\n",
       "        [False,  True,  True,  True, False],\n",
       "        [ True, False,  True, False,  True]]])"
      ]
     },
     "execution_count": 15,
     "metadata": {},
     "output_type": "execute_result"
    }
   ],
   "source": [
    "mask_even"
   ]
  },
  {
   "cell_type": "code",
   "execution_count": 16,
   "id": "45bb387f-a243-43b4-a8f7-a7ddfcff93bc",
   "metadata": {},
   "outputs": [
    {
     "data": {
      "text/plain": [
       "True"
      ]
     },
     "execution_count": 16,
     "metadata": {},
     "output_type": "execute_result"
    }
   ],
   "source": [
    "mask_even.shape == ref_3d.shape"
   ]
  },
  {
   "cell_type": "code",
   "execution_count": 17,
   "id": "9366b263-3898-4f9a-aa76-90c3a0e9bcd7",
   "metadata": {},
   "outputs": [
    {
     "data": {
      "text/plain": [
       "array([ 2.,  4.,  6.,  8., 10., 12., 14., 16., 18., 20., 22., 32., 24.,\n",
       "       26., 28., 30.])"
      ]
     },
     "execution_count": 17,
     "metadata": {},
     "output_type": "execute_result"
    }
   ],
   "source": [
    "# Now filtering out, only the even elements from ref_3d array\n",
    "ref_3d[mask_even]"
   ]
  },
  {
   "attachments": {},
   "cell_type": "markdown",
   "id": "d1053b31-b4a7-4145-ae9e-d3fe8c7bd153",
   "metadata": {},
   "source": [
    "<i><b>We can combine multiple logic, comparison, and identity operators to create complex Boolean arrays.</b></i>"
   ]
  },
  {
   "attachments": {},
   "cell_type": "markdown",
   "id": "4037cee3-8356-44a1-8e87-9c4748f8bba3",
   "metadata": {},
   "source": [
    "-> *To Select elements, (divisible by 3 OR 5) AND (greater than 15) from the ref_3d array --*"
   ]
  },
  {
   "cell_type": "code",
   "execution_count": 18,
   "id": "db9e239b-2346-4f33-be67-e4f0c8a0e46a",
   "metadata": {},
   "outputs": [
    {
     "data": {
      "text/plain": [
       "array([18., 20., 21., 24., 25., 27., 30.])"
      ]
     },
     "execution_count": 18,
     "metadata": {},
     "output_type": "execute_result"
    }
   ],
   "source": [
    "mask_req = ((ref_3d % 3 == 0) | (ref_3d % 5 == 0)) & (ref_3d > 15)\n",
    "ref_3d[mask_req]"
   ]
  },
  {
   "attachments": {},
   "cell_type": "markdown",
   "id": "e2df7236-105c-4942-aa59-fb8d449375ab",
   "metadata": {},
   "source": [
    "-> *To change elements divisible by 3 or 5 to -1 --*"
   ]
  },
  {
   "cell_type": "code",
   "execution_count": 19,
   "id": "d7dd89b5-ceee-4b8c-8558-db128c4cfd8b",
   "metadata": {},
   "outputs": [],
   "source": [
    "# changes in place"
   ]
  },
  {
   "cell_type": "code",
   "execution_count": 20,
   "id": "93e8532d-07dc-417a-a2f6-b533ae9e96d5",
   "metadata": {},
   "outputs": [],
   "source": [
    "mask_assign = (ref_3d % 3 == 0) | (ref_3d % 5 == 0)\n",
    "ref_3d[mask_assign] = -1"
   ]
  },
  {
   "cell_type": "code",
   "execution_count": 21,
   "id": "2e1259b0",
   "metadata": {},
   "outputs": [
    {
     "data": {
      "text/plain": [
       "array([[[ 1.,  2., -1.,  4., -1.],\n",
       "        [-1.,  7.,  8., -1., -1.],\n",
       "        [11., -1., 13., 14., -1.]],\n",
       "\n",
       "       [[16., 17., -1., 19., -1.],\n",
       "        [-1., 22., 32., -1., -1.],\n",
       "        [26., -1., 28., 29., -1.]]])"
      ]
     },
     "execution_count": 21,
     "metadata": {},
     "output_type": "execute_result"
    }
   ],
   "source": [
    "ref_3d"
   ]
  },
  {
   "cell_type": "markdown",
   "metadata": {},
   "source": [
    "### <a id='toc1_3_'></a>[<u>Numpy Indexing Routines</u>](#toc0_) ([Docs](https://numpy.org/doc/stable/reference/arrays.indexing.html))"
   ]
  },
  {
   "cell_type": "markdown",
   "id": "5c12c623",
   "metadata": {},
   "source": [
    "Some other useful funcions for indexing arrays that are offered by the NumPy are, `numpy.take`, `numpy.select`, `numpy.choose` etc. For explanations and usage see the documentation.  "
   ]
  },
  {
   "cell_type": "markdown",
   "id": "67646941",
   "metadata": {},
   "source": [
    "#### *Find out the indices of the non-zero elements with `np.nonzero()` --*"
   ]
  },
  {
   "cell_type": "code",
   "execution_count": 22,
   "id": "3524c046",
   "metadata": {},
   "outputs": [],
   "source": [
    "ary = np.diag([2, 3, 1])"
   ]
  },
  {
   "cell_type": "code",
   "execution_count": 23,
   "id": "e56f9f18",
   "metadata": {},
   "outputs": [
    {
     "data": {
      "text/plain": [
       "array([[2, 0, 0],\n",
       "       [0, 3, 0],\n",
       "       [0, 0, 1]])"
      ]
     },
     "execution_count": 23,
     "metadata": {},
     "output_type": "execute_result"
    }
   ],
   "source": [
    "ary"
   ]
  },
  {
   "cell_type": "code",
   "execution_count": 24,
   "id": "1be54e1d",
   "metadata": {},
   "outputs": [
    {
     "data": {
      "text/plain": [
       "(array([0, 1, 2]), array([0, 1, 2]))"
      ]
     },
     "execution_count": 24,
     "metadata": {},
     "output_type": "execute_result"
    }
   ],
   "source": [
    "ary.nonzero()"
   ]
  },
  {
   "cell_type": "markdown",
   "id": "f2e5361d",
   "metadata": {},
   "source": [
    "A common use for nonzero is to find the indices of an array, where a condition is True. Given an array 'a', the condition a > 3 is a boolean array and since False is interpreted as 0, np.nonzero(a > 3) yields the indices of 'a' where the condition is true."
   ]
  },
  {
   "cell_type": "code",
   "execution_count": 25,
   "id": "9fc290c9",
   "metadata": {},
   "outputs": [
    {
     "data": {
      "text/plain": [
       "(array([2, 2, 2]), array([0, 1, 2]))"
      ]
     },
     "execution_count": 25,
     "metadata": {},
     "output_type": "execute_result"
    }
   ],
   "source": [
    "Z = np.arange(10, 19).reshape(3, 3)\n",
    "np.nonzero(Z>15)"
   ]
  },
  {
   "cell_type": "code",
   "execution_count": 26,
   "id": "6c2d9785",
   "metadata": {},
   "outputs": [
    {
     "data": {
      "text/plain": [
       "array([16, 17, 18])"
      ]
     },
     "execution_count": 26,
     "metadata": {},
     "output_type": "execute_result"
    }
   ],
   "source": [
    "Z[np.nonzero(Z>15)]"
   ]
  },
  {
   "cell_type": "code",
   "execution_count": 27,
   "id": "6a2ebc00",
   "metadata": {},
   "outputs": [
    {
     "data": {
      "text/plain": [
       "array([16, 17, 18])"
      ]
     },
     "execution_count": 27,
     "metadata": {},
     "output_type": "execute_result"
    }
   ],
   "source": [
    "# equivalent to (This is preffered instead of the previous approach but \n",
    "# if you need the indices specifically then use the previous approach)\n",
    "Z[Z>15]"
   ]
  },
  {
   "cell_type": "markdown",
   "id": "a204ad10",
   "metadata": {},
   "source": [
    "#### *`np.unravel_index(indices, shape)` converts a flat index or array of flat indices into a tuple of coordinate arrays*"
   ]
  },
  {
   "cell_type": "markdown",
   "id": "9e0022d0",
   "metadata": {},
   "source": [
    "- indices: array_like. An integer array whose elements are indices into the flattened version of an array of dimensions 'shape'.\n",
    "- shape: tuple of ints. The shape of the array to use for unraveling indices."
   ]
  },
  {
   "cell_type": "code",
   "execution_count": 28,
   "id": "ee31a446",
   "metadata": {},
   "outputs": [],
   "source": [
    "arr = np.linspace(0, 26, 27).reshape(3, 3, 3)"
   ]
  },
  {
   "cell_type": "code",
   "execution_count": 29,
   "id": "3df9edca",
   "metadata": {},
   "outputs": [
    {
     "data": {
      "text/plain": [
       "array([[[ 0.,  1.,  2.],\n",
       "        [ 3.,  4.,  5.],\n",
       "        [ 6.,  7.,  8.]],\n",
       "\n",
       "       [[ 9., 10., 11.],\n",
       "        [12., 13., 14.],\n",
       "        [15., 16., 17.]],\n",
       "\n",
       "       [[18., 19., 20.],\n",
       "        [21., 22., 23.],\n",
       "        [24., 25., 26.]]])"
      ]
     },
     "execution_count": 29,
     "metadata": {},
     "output_type": "execute_result"
    }
   ],
   "source": [
    "arr"
   ]
  },
  {
   "cell_type": "code",
   "execution_count": 30,
   "id": "6b2aec61",
   "metadata": {},
   "outputs": [],
   "source": [
    "mask = np.unravel_index([1, 3, 5], (3, 3, 3))"
   ]
  },
  {
   "cell_type": "code",
   "execution_count": 31,
   "id": "044f1836",
   "metadata": {},
   "outputs": [
    {
     "data": {
      "text/plain": [
       "(array([0, 0, 0]), array([0, 1, 1]), array([1, 0, 2]))"
      ]
     },
     "execution_count": 31,
     "metadata": {},
     "output_type": "execute_result"
    }
   ],
   "source": [
    "mask"
   ]
  },
  {
   "cell_type": "code",
   "execution_count": 32,
   "id": "02c89155",
   "metadata": {},
   "outputs": [
    {
     "data": {
      "text/plain": [
       "array([1., 3., 5.])"
      ]
     },
     "execution_count": 32,
     "metadata": {},
     "output_type": "execute_result"
    }
   ],
   "source": [
    "arr[mask]"
   ]
  },
  {
   "cell_type": "markdown",
   "id": "1ca1d98d",
   "metadata": {},
   "source": [
    "#### *Find out the indices to access the main diagonal of an array with arr.ndim >= 2 dimensions and shape (n, n, …, n) using `np.diag_indices(n, ndim=2)`*"
   ]
  },
  {
   "cell_type": "code",
   "execution_count": 33,
   "id": "f10e839e",
   "metadata": {},
   "outputs": [
    {
     "name": "stdout",
     "output_type": "stream",
     "text": [
      "[[[ 1.          1.82857143  2.65714286]\n",
      "  [ 3.48571429  4.31428571  5.14285714]\n",
      "  [ 5.97142857  6.8         7.62857143]]\n",
      "\n",
      " [[ 8.45714286  9.28571429 10.11428571]\n",
      "  [10.94285714 11.77142857 12.6       ]\n",
      "  [13.42857143 14.25714286 15.08571429]]\n",
      "\n",
      " [[15.91428571 16.74285714 17.57142857]\n",
      "  [18.4        19.22857143 20.05714286]\n",
      "  [20.88571429 21.71428571 22.54285714]]\n",
      "\n",
      " [[23.37142857 24.2        25.02857143]\n",
      "  [25.85714286 26.68571429 27.51428571]\n",
      "  [28.34285714 29.17142857 30.        ]]]\n"
     ]
    }
   ],
   "source": [
    "arr = np.linspace(1, 30, 36).reshape(4, 3, 3)\n",
    "print(arr)"
   ]
  },
  {
   "cell_type": "code",
   "execution_count": 34,
   "id": "a2c435d5",
   "metadata": {},
   "outputs": [],
   "source": [
    "di = np.diag_indices(3, 3)"
   ]
  },
  {
   "cell_type": "code",
   "execution_count": 35,
   "id": "9fdde725",
   "metadata": {},
   "outputs": [
    {
     "data": {
      "text/plain": [
       "array([ 1.        , 11.77142857, 22.54285714])"
      ]
     },
     "execution_count": 35,
     "metadata": {},
     "output_type": "execute_result"
    }
   ],
   "source": [
    "arr[di]"
   ]
  },
  {
   "cell_type": "markdown",
   "id": "5bbd16e7",
   "metadata": {},
   "source": [
    "#### *`np.select(condlist, choicelist, default)` returns an array drawn from elements in choicelist, depending on conditions*"
   ]
  },
  {
   "cell_type": "markdown",
   "id": "e2077a3e",
   "metadata": {},
   "source": [
    "<u> Function Parameters</u>\n",
    "\n",
    "- condlist: list of bool ndarrays. The list of conditions which determine from which array in choicelist the output elements are taken. When multiple conditions are satisfied, the first one encountered in condlist is used.\n",
    "- choicelist: list of ndarrays. The list of arrays from which the output elements are taken. It has to be of the same length as condlist.\n",
    "- default: scalar, optional. The element inserted in output when all conditions evaluate to False.\n",
    "\n",
    "Returns: ndarray. The output at position m is the m-th element of the array in choicelist where the m-th element of the corresponding array in condlist is True."
   ]
  },
  {
   "cell_type": "code",
   "execution_count": 36,
   "id": "cb3603b2",
   "metadata": {},
   "outputs": [],
   "source": [
    "ary = np.arange(1, 9).reshape(2, 4)"
   ]
  },
  {
   "cell_type": "code",
   "execution_count": 37,
   "id": "b32cc035",
   "metadata": {},
   "outputs": [
    {
     "data": {
      "text/plain": [
       "array([[1, 2, 3, 4],\n",
       "       [5, 6, 7, 8]])"
      ]
     },
     "execution_count": 37,
     "metadata": {},
     "output_type": "execute_result"
    }
   ],
   "source": [
    "ary"
   ]
  },
  {
   "cell_type": "code",
   "execution_count": 38,
   "id": "f8482d1a",
   "metadata": {},
   "outputs": [
    {
     "data": {
      "text/plain": [
       "array([[ 1,  2,  3,  4],\n",
       "       [ 5, 36, 49, 64]])"
      ]
     },
     "execution_count": 38,
     "metadata": {},
     "output_type": "execute_result"
    }
   ],
   "source": [
    "np.select([ary <=5, ary > 4], [ary, ary**2])"
   ]
  },
  {
   "cell_type": "markdown",
   "id": "94a35f0c",
   "metadata": {},
   "source": [
    "#### *`np.where(condition, x, y)` yields 'x' where the condition is True, otherwise yields 'y'*"
   ]
  },
  {
   "cell_type": "code",
   "execution_count": 39,
   "id": "f299aa18",
   "metadata": {},
   "outputs": [
    {
     "data": {
      "text/plain": [
       "array([[ 1,  2,  3,  4],\n",
       "       [ 5, 36, 49, 64]])"
      ]
     },
     "execution_count": 39,
     "metadata": {},
     "output_type": "execute_result"
    }
   ],
   "source": [
    "np.where(ary>5, ary**2, ary)"
   ]
  },
  {
   "cell_type": "markdown",
   "metadata": {},
   "source": [
    "## <a id='toc2_'></a>[Array Views (Shallow copies) and Deep copies](#toc0_)"
   ]
  },
  {
   "cell_type": "markdown",
   "id": "f454cbe6",
   "metadata": {},
   "source": [
    "`Views or, Shalow copies:` It is important to note that **previously, conventional indexing and slicing of arrays returned views (or, shallow copies) but this behaviour has changed in current versions.** \n",
    "\n",
    "When we use assignment operator (=) to create a copy of the original array a shallow copy is created. The original array and the array that we have copied are the same and also shares the same location in memory. \n",
    "\n",
    "This is desirable in some cases since it increases the computational speed and also reduces memory usage. But it also has its cons. Any change in the view array will actually result in changing the original array since both shares the same memory locations."
   ]
  },
  {
   "cell_type": "markdown",
   "id": "546bb7bb",
   "metadata": {},
   "source": [
    "`Deep Copies:` To truly copy an array i.e, its contents into another array, in different location on the memory than the original one, we should use either the **ndarray.copy()** or, **ndarray.deep_copy()** functions."
   ]
  },
  {
   "cell_type": "markdown",
   "id": "ddc36d99",
   "metadata": {},
   "source": [
    "- #### *Shallow copy (New label)*"
   ]
  },
  {
   "cell_type": "code",
   "execution_count": 22,
   "id": "177e33ad-5429-4372-b6d6-5414e2b9c711",
   "metadata": {},
   "outputs": [],
   "source": [
    "# example array\n",
    "ary_a = [1, 2, 3]"
   ]
  },
  {
   "cell_type": "code",
   "execution_count": 23,
   "id": "79720d1b-5a8c-4b19-b354-c2f9d901177b",
   "metadata": {},
   "outputs": [],
   "source": [
    "ary_b = ary_a"
   ]
  },
  {
   "cell_type": "code",
   "execution_count": 24,
   "id": "b0f35b49-7496-4947-9321-62eaa178810f",
   "metadata": {},
   "outputs": [
    {
     "name": "stdout",
     "output_type": "stream",
     "text": [
      "Check whether ary_a and ary_b has the same elements:  True\n",
      "Check whether ary_a and ary_b shares the same memory location:  True\n"
     ]
    }
   ],
   "source": [
    "print(\"Check whether ary_a and ary_b has the same elements: \", ary_b is ary_a)\n",
    "print(\n",
    "    \"Check whether ary_a and ary_b shares the same memory location: \",\n",
    "    id(ary_a) == id(ary_b),\n",
    ")"
   ]
  },
  {
   "cell_type": "code",
   "execution_count": 25,
   "id": "0ce3e890-ec22-4bc4-8dd0-0f646e9055d0",
   "metadata": {},
   "outputs": [
    {
     "data": {
      "text/plain": [
       "[99, 2, 3]"
      ]
     },
     "execution_count": 25,
     "metadata": {},
     "output_type": "execute_result"
    }
   ],
   "source": [
    "# modify ary_b\n",
    "ary_b[0] = 99\n",
    "ary_b"
   ]
  },
  {
   "cell_type": "code",
   "execution_count": 26,
   "id": "e7d524ac",
   "metadata": {},
   "outputs": [
    {
     "data": {
      "text/plain": [
       "[99, 2, 3]"
      ]
     },
     "execution_count": 26,
     "metadata": {},
     "output_type": "execute_result"
    }
   ],
   "source": [
    "# see whether ary_a has also been modified\n",
    "ary_a"
   ]
  },
  {
   "cell_type": "markdown",
   "id": "17c1028e",
   "metadata": {},
   "source": [
    "- #### *Slices no longer returns views*"
   ]
  },
  {
   "cell_type": "code",
   "execution_count": 27,
   "id": "4505b8a3-531e-4584-8575-04da09de0baa",
   "metadata": {},
   "outputs": [
    {
     "data": {
      "text/plain": [
       "[99, 2]"
      ]
     },
     "execution_count": 27,
     "metadata": {},
     "output_type": "execute_result"
    }
   ],
   "source": [
    "ary_c = ary_a[0:2]\n",
    "ary_c"
   ]
  },
  {
   "cell_type": "code",
   "execution_count": 28,
   "id": "b63ff25c-45bd-4cfa-bc9f-6333cc1ba13d",
   "metadata": {},
   "outputs": [
    {
     "name": "stdout",
     "output_type": "stream",
     "text": [
      "Check whether ary_a and ary_c has the same elements:  False\n",
      "Check whether ary_a and ary_c shares the same memory location:  False\n"
     ]
    }
   ],
   "source": [
    "print(\"Check whether ary_a and ary_c has the same elements: \", ary_c is ary_a)\n",
    "print(\n",
    "    \"Check whether ary_a and ary_c shares the same memory location: \",\n",
    "    id(ary_a) == id(ary_c),\n",
    ")"
   ]
  },
  {
   "cell_type": "code",
   "execution_count": 29,
   "id": "3dabd945-0203-45e5-bdeb-fa364f3dfee3",
   "metadata": {},
   "outputs": [
    {
     "data": {
      "text/plain": [
       "[20, 2]"
      ]
     },
     "execution_count": 29,
     "metadata": {},
     "output_type": "execute_result"
    }
   ],
   "source": [
    "# modify ary_c\n",
    "ary_c[0] = 20\n",
    "ary_c"
   ]
  },
  {
   "cell_type": "code",
   "execution_count": 30,
   "id": "5c01cecc",
   "metadata": {},
   "outputs": [
    {
     "data": {
      "text/plain": [
       "[99, 2, 3]"
      ]
     },
     "execution_count": 30,
     "metadata": {},
     "output_type": "execute_result"
    }
   ],
   "source": [
    "# see whether ary_a has also been modified\n",
    "ary_a"
   ]
  },
  {
   "cell_type": "markdown",
   "id": "e86fc5bf",
   "metadata": {},
   "source": [
    "- #### *Deep copy*"
   ]
  },
  {
   "cell_type": "code",
   "execution_count": 31,
   "id": "91424212-3ba5-4033-8f4e-b5d13aaa4225",
   "metadata": {},
   "outputs": [],
   "source": [
    "ary_d = ary_c.copy()"
   ]
  },
  {
   "cell_type": "code",
   "execution_count": 32,
   "id": "9d722543-3d29-4c40-b5e7-3b6aba82ed61",
   "metadata": {},
   "outputs": [
    {
     "data": {
      "text/plain": [
       "[20, 2]"
      ]
     },
     "execution_count": 32,
     "metadata": {},
     "output_type": "execute_result"
    }
   ],
   "source": [
    "ary_d"
   ]
  },
  {
   "cell_type": "code",
   "execution_count": 33,
   "id": "999d731a-b68b-4b54-9fda-613dd8b91fa4",
   "metadata": {},
   "outputs": [
    {
     "data": {
      "text/plain": [
       "[20, 18]"
      ]
     },
     "execution_count": 33,
     "metadata": {},
     "output_type": "execute_result"
    }
   ],
   "source": [
    "# modifying ary_d\n",
    "ary_d[-1] = 18\n",
    "ary_d"
   ]
  },
  {
   "cell_type": "code",
   "execution_count": 34,
   "id": "5b4cbfc4-6b1c-4f41-9a9b-48eee8c2176a",
   "metadata": {},
   "outputs": [
    {
     "data": {
      "text/plain": [
       "[20, 2]"
      ]
     },
     "execution_count": 34,
     "metadata": {},
     "output_type": "execute_result"
    }
   ],
   "source": [
    "# see whether ary_c has also been modified\n",
    "ary_c"
   ]
  },
  {
   "cell_type": "code",
   "execution_count": null,
   "id": "c6496b07-bb43-40ac-8176-f36de76406ab",
   "metadata": {},
   "outputs": [],
   "source": []
  }
 ],
 "metadata": {
  "kernelspec": {
   "display_name": "Python 3 (ipykernel)",
   "language": "python",
   "name": "python3"
  },
  "language_info": {
   "codemirror_mode": {
    "name": "ipython",
    "version": 3
   },
   "file_extension": ".py",
   "mimetype": "text/x-python",
   "name": "python",
   "nbconvert_exporter": "python",
   "pygments_lexer": "ipython3",
   "version": "3.11.4"
  }
 },
 "nbformat": 4,
 "nbformat_minor": 5
}
