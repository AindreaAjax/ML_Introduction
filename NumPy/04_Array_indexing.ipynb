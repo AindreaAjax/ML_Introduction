{
 "cells": [
  {
   "cell_type": "markdown",
   "id": "9a7b016b",
   "metadata": {},
   "source": [
    "# Array Indexing and Slicing"
   ]
  },
  {
   "cell_type": "markdown",
   "id": "9e09ba42",
   "metadata": {},
   "source": [
    "**Table of contents**<a id='toc0_'></a>    \n",
    "- [<u> Simple indexing and slicing </u>](#toc1_)    \n",
    "- [<u>Boolean indexing or, Masking</u>](#toc2_)    \n",
    "- [<u>Numpy Indexing Routines</u>](#toc3_)    \n",
    "    - [Shallow copy (New label)](#toc3_1_1_)    \n",
    "    - [Slices no longer returns views](#toc3_1_2_)    \n",
    "    - [Deep copy](#toc3_1_3_)    \n",
    "\n",
    "<!-- vscode-jupyter-toc-config\n",
    "\tnumbering=false\n",
    "\tanchor=true\n",
    "\tflat=false\n",
    "\tminLevel=2\n",
    "\tmaxLevel=4\n",
    "\t/vscode-jupyter-toc-config -->\n",
    "<!-- THIS CELL WILL BE REPLACED ON TOC UPDATE. DO NOT WRITE YOUR TEXT IN THIS CELL -->"
   ]
  },
  {
   "cell_type": "code",
   "execution_count": 1,
   "id": "a9505c6b",
   "metadata": {},
   "outputs": [],
   "source": [
    "# Import statements\n",
    "import numpy as np"
   ]
  },
  {
   "cell_type": "markdown",
   "metadata": {},
   "source": [
    "## <a id='toc1_'></a>[<u> Simple indexing and slicing </u>](#toc0_)"
   ]
  },
  {
   "attachments": {},
   "cell_type": "markdown",
   "id": "61c1cd51-3f65-44a9-9868-9c24fc985720",
   "metadata": {},
   "source": [
    "Indices represents the position of a particular element in an array. Indexing and slicing in NumPy works similar to Python lists. "
   ]
  },
  {
   "attachments": {},
   "cell_type": "markdown",
   "id": "f4d73612-87da-45b2-8eb2-a74302b1de6e",
   "metadata": {},
   "source": [
    "To index arrays with multiple dimensions we need to reference each dimension/axis within a single pair of square brackets with each dimension/axis separated by commas [ , ]."
   ]
  },
  {
   "attachments": {},
   "cell_type": "markdown",
   "id": "0e333d8d-64d6-4600-865c-c731690f502a",
   "metadata": {},
   "source": [
    "Array slicing operation is also similar to that of Python Lists."
   ]
  },
  {
   "cell_type": "code",
   "execution_count": 2,
   "id": "6eb23d86-746b-45dd-8bd8-5b49b37b345b",
   "metadata": {},
   "outputs": [],
   "source": [
    "# creating a 3D array to demonstrate array indexing and slicing\n",
    "ref_3d = np.linspace(1, 30, 30).reshape(\n",
    "    (2, 3, 5)\n",
    ")  # 2 stacks in the z axis, 3 rows and 5 columns"
   ]
  },
  {
   "cell_type": "code",
   "execution_count": 3,
   "id": "0ebb7baa-afb9-4679-8ece-120f717bfeca",
   "metadata": {},
   "outputs": [
    {
     "data": {
      "text/plain": [
       "array([[[ 1.,  2.,  3.,  4.,  5.],\n",
       "        [ 6.,  7.,  8.,  9., 10.],\n",
       "        [11., 12., 13., 14., 15.]],\n",
       "\n",
       "       [[16., 17., 18., 19., 20.],\n",
       "        [21., 22., 23., 24., 25.],\n",
       "        [26., 27., 28., 29., 30.]]])"
      ]
     },
     "execution_count": 3,
     "metadata": {},
     "output_type": "execute_result"
    }
   ],
   "source": [
    "ref_3d"
   ]
  },
  {
   "cell_type": "code",
   "execution_count": 4,
   "id": "e624b2d6-2714-441c-b8c2-838157da8462",
   "metadata": {},
   "outputs": [],
   "source": [
    "# extracting the first 2D array from the 2 stacks along the z axis\n",
    "ref_2d_1 = ref_3d[0]  # same as ref_3d[0, :, :]\n",
    "# similarly,\n",
    "ref_2d_2 = ref_3d[1]"
   ]
  },
  {
   "cell_type": "code",
   "execution_count": 5,
   "id": "60c078e5-a600-4b54-b6be-433476ab4c4f",
   "metadata": {},
   "outputs": [
    {
     "data": {
      "text/plain": [
       "array([[ 1.,  2.,  3.,  4.,  5.],\n",
       "       [ 6.,  7.,  8.,  9., 10.],\n",
       "       [11., 12., 13., 14., 15.]])"
      ]
     },
     "execution_count": 5,
     "metadata": {},
     "output_type": "execute_result"
    }
   ],
   "source": [
    "ref_2d_1"
   ]
  },
  {
   "cell_type": "code",
   "execution_count": 6,
   "id": "a0db659b-db7e-4735-8e60-db0e15314551",
   "metadata": {},
   "outputs": [
    {
     "data": {
      "text/plain": [
       "array([[16., 17., 18., 19., 20.],\n",
       "       [21., 22., 23., 24., 25.],\n",
       "       [26., 27., 28., 29., 30.]])"
      ]
     },
     "execution_count": 6,
     "metadata": {},
     "output_type": "execute_result"
    }
   ],
   "source": [
    "ref_2d_2"
   ]
  },
  {
   "attachments": {},
   "cell_type": "markdown",
   "id": "93bafaf5-1ef0-45e0-9298-7137777728d5",
   "metadata": {},
   "source": [
    "<b> <i> Simmilarly, we can extract particular elements or full rows and columns or a specific portion of an array. We can also replace the value of a particular element or any portion of an array using assignment operator `=`. Inserting, deleting, and changing values is done with the same logic. </i> </b>"
   ]
  },
  {
   "cell_type": "code",
   "execution_count": 7,
   "id": "bb58c7ba-2dbf-4a42-9141-9a5a6f184cf7",
   "metadata": {},
   "outputs": [
    {
     "data": {
      "text/plain": [
       "array([[[ 1.,  2.,  3.,  4.,  5.],\n",
       "        [ 6.,  7.,  8.,  9., 10.],\n",
       "        [11., 12., 13., 14., 15.]],\n",
       "\n",
       "       [[16., 17., 18., 19., 20.],\n",
       "        [21., 22., 32., 24., 25.],\n",
       "        [26., 27., 28., 29., 30.]]])"
      ]
     },
     "execution_count": 7,
     "metadata": {},
     "output_type": "execute_result"
    }
   ],
   "source": [
    "# for example, changing 23 to 32 in the 3D array\n",
    "ref_3d[1, 1, 2] = 32  # z - 2nd stack; y - 2nd row; x - 3rd column\n",
    "ref_3d"
   ]
  },
  {
   "cell_type": "code",
   "execution_count": 8,
   "id": "53f035d4-bbdc-4b43-afce-7069d6bec610",
   "metadata": {},
   "outputs": [
    {
     "data": {
      "text/plain": [
       "array([[[ 1.,  2.],\n",
       "        [ 6.,  7.]],\n",
       "\n",
       "       [[16., 17.],\n",
       "        [21., 22.]]])"
      ]
     },
     "execution_count": 8,
     "metadata": {},
     "output_type": "execute_result"
    }
   ],
   "source": [
    "# a 3D array consisting of first 2 rows and 2 columns of the ref_3d array\n",
    "ref_3d[:, 0:2, 0:2]"
   ]
  },
  {
   "attachments": {},
   "cell_type": "markdown",
   "id": "1ebf1cf0-7ae8-41d7-ada3-d4d13d0ca0b3",
   "metadata": {},
   "source": [
    "- **Append values at the end of an array**"
   ]
  },
  {
   "cell_type": "code",
   "execution_count": 9,
   "id": "45dcb771-d0c2-42f8-8b9d-bec94441307e",
   "metadata": {},
   "outputs": [],
   "source": [
    "# numpy.append(arr, values, axis=None)\n",
    "# doesn't change in place"
   ]
  },
  {
   "cell_type": "code",
   "execution_count": 10,
   "id": "e36ad784-132b-465d-ba53-eed6ce7c79ec",
   "metadata": {},
   "outputs": [
    {
     "data": {
      "text/plain": [
       "array([[[ 1.,  2.,  3.,  4.,  5.],\n",
       "        [ 6.,  7.,  8.,  9., 10.],\n",
       "        [11., 12., 13., 14., 15.]],\n",
       "\n",
       "       [[16., 17., 18., 19., 20.],\n",
       "        [21., 22., 32., 24., 25.],\n",
       "        [26., 27., 28., 29., 30.]],\n",
       "\n",
       "       [[31., 32., 33., 34., 35.],\n",
       "        [36., 37., 38., 39., 40.],\n",
       "        [41., 42., 43., 44., 45.]]])"
      ]
     },
     "execution_count": 10,
     "metadata": {},
     "output_type": "execute_result"
    }
   ],
   "source": [
    "# inserting a 3rd stack in the z axis\n",
    "z3_yx_1 = np.linspace(31, 45, 15).reshape(3, 5)\n",
    "np.append(ref_3d, [z3_yx_1], axis=0)"
   ]
  },
  {
   "cell_type": "code",
   "execution_count": 11,
   "id": "1d39fa05",
   "metadata": {},
   "outputs": [
    {
     "data": {
      "text/plain": [
       "array([[[ 1.,  2.,  3.,  4.,  5.],\n",
       "        [ 6.,  7.,  8.,  9., 10.],\n",
       "        [11., 12., 13., 14., 15.]],\n",
       "\n",
       "       [[16., 17., 18., 19., 20.],\n",
       "        [21., 22., 32., 24., 25.],\n",
       "        [26., 27., 28., 29., 30.]]])"
      ]
     },
     "execution_count": 11,
     "metadata": {},
     "output_type": "execute_result"
    }
   ],
   "source": [
    "ref_3d"
   ]
  },
  {
   "cell_type": "markdown",
   "metadata": {},
   "source": [
    "## <a id='toc2_'></a>[<u>Boolean indexing or, Masking</u>](#toc0_)"
   ]
  },
  {
   "attachments": {},
   "cell_type": "markdown",
   "id": "f9013f52-6565-4f10-bfad-161ded3e6967",
   "metadata": {},
   "source": [
    "An array that has either True or, False as its array elements is known as a boolean array."
   ]
  },
  {
   "cell_type": "code",
   "execution_count": 12,
   "id": "7ed6e9b1-e862-4416-a16a-dc4471db1ed4",
   "metadata": {},
   "outputs": [],
   "source": [
    "# example boolean array\n",
    "bool_ary = np.array(\n",
    "    [\n",
    "        [[True, False, False], [True, True, True]],\n",
    "        [[False, True, True], [False, False, False]],\n",
    "    ]\n",
    ")"
   ]
  },
  {
   "cell_type": "code",
   "execution_count": 13,
   "id": "8768503f-4548-4c69-9f35-5a37eb3a5d3c",
   "metadata": {},
   "outputs": [
    {
     "data": {
      "text/plain": [
       "array([[[ True, False, False],\n",
       "        [ True,  True,  True]],\n",
       "\n",
       "       [[False,  True,  True],\n",
       "        [False, False, False]]])"
      ]
     },
     "execution_count": 13,
     "metadata": {},
     "output_type": "execute_result"
    }
   ],
   "source": [
    "bool_ary"
   ]
  },
  {
   "attachments": {},
   "cell_type": "markdown",
   "id": "f19ec73e-e511-424f-86d9-ef48e76f8ef8",
   "metadata": {},
   "source": [
    "Boolean arrays can be used for indexing. This type of indexing is called `masking`. When used, the Boolean array `maps` the elements of that other array corresponding to its `True positions` and `ignores` elements corresponding to the `False positions`."
   ]
  },
  {
   "attachments": {},
   "cell_type": "markdown",
   "id": "95c6ba0c-61d9-42c7-bb71-a2d1a7617dd1",
   "metadata": {},
   "source": [
    "The only criteria is that, array shapes need to match in at least one of the dimensions. <i>We can index an (n , n) array with an (n, n) mask, a (, n) mask, or an (n, ) mask.</i> Otherwise, it won’t work."
   ]
  },
  {
   "attachments": {},
   "cell_type": "markdown",
   "id": "6348c8a9-7995-4a8e-83e1-dfb0ee71963f",
   "metadata": {},
   "source": [
    "**This type of indexing comes in handy for conditional selection or modification of array elements.**"
   ]
  },
  {
   "attachments": {},
   "cell_type": "markdown",
   "id": "423740d5-be53-4203-a40f-0f49645d0d90",
   "metadata": {},
   "source": [
    "    - To extract, only the even elements from ref_3d array:"
   ]
  },
  {
   "cell_type": "code",
   "execution_count": 14,
   "id": "ba50d2b8-d1e8-4276-85a2-1cd1b0ee93c5",
   "metadata": {},
   "outputs": [],
   "source": [
    "# first creating the boolean array i.e, mask (to filter out only the even elements)\n",
    "mask_even = ref_3d % 2 == 0"
   ]
  },
  {
   "cell_type": "code",
   "execution_count": 15,
   "id": "3bb7814d-9b54-42a1-820d-fc0a4dfc660d",
   "metadata": {},
   "outputs": [
    {
     "data": {
      "text/plain": [
       "array([[[False,  True, False,  True, False],\n",
       "        [ True, False,  True, False,  True],\n",
       "        [False,  True, False,  True, False]],\n",
       "\n",
       "       [[ True, False,  True, False,  True],\n",
       "        [False,  True,  True,  True, False],\n",
       "        [ True, False,  True, False,  True]]])"
      ]
     },
     "execution_count": 15,
     "metadata": {},
     "output_type": "execute_result"
    }
   ],
   "source": [
    "mask_even"
   ]
  },
  {
   "cell_type": "code",
   "execution_count": 16,
   "id": "45bb387f-a243-43b4-a8f7-a7ddfcff93bc",
   "metadata": {},
   "outputs": [
    {
     "data": {
      "text/plain": [
       "True"
      ]
     },
     "execution_count": 16,
     "metadata": {},
     "output_type": "execute_result"
    }
   ],
   "source": [
    "mask_even.shape == ref_3d.shape"
   ]
  },
  {
   "cell_type": "code",
   "execution_count": 17,
   "id": "9366b263-3898-4f9a-aa76-90c3a0e9bcd7",
   "metadata": {},
   "outputs": [
    {
     "data": {
      "text/plain": [
       "array([ 2.,  4.,  6.,  8., 10., 12., 14., 16., 18., 20., 22., 32., 24.,\n",
       "       26., 28., 30.])"
      ]
     },
     "execution_count": 17,
     "metadata": {},
     "output_type": "execute_result"
    }
   ],
   "source": [
    "# Now filtering out, only the even elements from ref_3d array\n",
    "ref_3d[mask_even]"
   ]
  },
  {
   "attachments": {},
   "cell_type": "markdown",
   "id": "d1053b31-b4a7-4145-ae9e-d3fe8c7bd153",
   "metadata": {},
   "source": [
    "<i><b>We can combine multiple logic, comparison, and identity operators to create complex Boolean arrays.</b></i>"
   ]
  },
  {
   "attachments": {},
   "cell_type": "markdown",
   "id": "4037cee3-8356-44a1-8e87-9c4748f8bba3",
   "metadata": {},
   "source": [
    "    - To Select elements, (divisible by 3 OR 5) AND (greater than 15) from the ref_3d array:"
   ]
  },
  {
   "cell_type": "code",
   "execution_count": 18,
   "id": "db9e239b-2346-4f33-be67-e4f0c8a0e46a",
   "metadata": {},
   "outputs": [
    {
     "data": {
      "text/plain": [
       "array([18., 20., 21., 24., 25., 27., 30.])"
      ]
     },
     "execution_count": 18,
     "metadata": {},
     "output_type": "execute_result"
    }
   ],
   "source": [
    "mask_req = ((ref_3d % 3 == 0) | (ref_3d % 5 == 0)) & (ref_3d > 15)\n",
    "ref_3d[mask_req]"
   ]
  },
  {
   "attachments": {},
   "cell_type": "markdown",
   "id": "e2df7236-105c-4942-aa59-fb8d449375ab",
   "metadata": {},
   "source": [
    "    - To Change elements divisible by 3 or 5 to -1:"
   ]
  },
  {
   "cell_type": "code",
   "execution_count": 19,
   "id": "d7dd89b5-ceee-4b8c-8558-db128c4cfd8b",
   "metadata": {},
   "outputs": [],
   "source": [
    "# changes in place"
   ]
  },
  {
   "cell_type": "code",
   "execution_count": 20,
   "id": "93e8532d-07dc-417a-a2f6-b533ae9e96d5",
   "metadata": {},
   "outputs": [],
   "source": [
    "mask_assign = (ref_3d % 3 == 0) | (ref_3d % 5 == 0)\n",
    "ref_3d[mask_assign] = -1"
   ]
  },
  {
   "cell_type": "code",
   "execution_count": 21,
   "id": "a60bd44b",
   "metadata": {},
   "outputs": [
    {
     "data": {
      "text/plain": [
       "array([[[ 1.,  2., -1.,  4., -1.],\n",
       "        [-1.,  7.,  8., -1., -1.],\n",
       "        [11., -1., 13., 14., -1.]],\n",
       "\n",
       "       [[16., 17., -1., 19., -1.],\n",
       "        [-1., 22., 32., -1., -1.],\n",
       "        [26., -1., 28., 29., -1.]]])"
      ]
     },
     "execution_count": 21,
     "metadata": {},
     "output_type": "execute_result"
    }
   ],
   "source": [
    "ref_3d"
   ]
  },
  {
   "cell_type": "markdown",
   "metadata": {},
   "source": [
    "## <a id='toc3_'></a>[<u>Numpy Indexing Routines</u>](#toc0_)"
   ]
  },
  {
   "cell_type": "markdown",
   "id": "c697feb3",
   "metadata": {},
   "source": [
    "Some other useful funcions for indexing arrays that are offered by the NumPy are, `numpy.take`, `numpy.select`, `numpy.choose` etc. For explanations and usage see the documentation @ https://numpy.org/doc/stable/reference/arrays.indexing.html  "
   ]
  },
  {
   "cell_type": "markdown",
   "metadata": {},
   "source": [
    "# Array Views (Shallow copies) and Deep copies"
   ]
  },
  {
   "attachments": {},
   "cell_type": "markdown",
   "id": "736901c2-4b1b-4fa2-b45a-839d17f1e1b6",
   "metadata": {},
   "source": [
    "`Views or, Shalow copies:` It is important to note that, **previously conventional indexing and slicing of arrays returned views (or, shallow copies) but this behaviour has changed in current versions.** \n",
    "\n",
    "The way a shallow copy is created is when we use assignment operator (=) to create a copy of the original array. The original array and the array that we have copied are the same and also shares the same location in memory. As a result the copy array just indicates to the memory location of the main array.  This is desirable in some cases since it increases the computational speed and also reduces memory usage. But it also has its cons. Namely, any change in the view array will actually result in changing the original array since both shares the same memory locations."
   ]
  },
  {
   "cell_type": "markdown",
   "id": "546bb7bb",
   "metadata": {},
   "source": [
    "`Deep Copies:` To truly copy an array i.e, its contents into another array, in different locations on the memory than the original one, we should use either the **ndarray.copy()** or, **ndarray.deep_copy()** functions."
   ]
  },
  {
   "cell_type": "markdown",
   "metadata": {},
   "source": [
    "#### <a id='toc3_1_1_'></a>[Shallow copy (New label)](#toc0_)"
   ]
  },
  {
   "cell_type": "code",
   "execution_count": 22,
   "id": "177e33ad-5429-4372-b6d6-5414e2b9c711",
   "metadata": {},
   "outputs": [],
   "source": [
    "# example array\n",
    "ary_a = [1, 2, 3]"
   ]
  },
  {
   "cell_type": "code",
   "execution_count": 23,
   "id": "79720d1b-5a8c-4b19-b354-c2f9d901177b",
   "metadata": {},
   "outputs": [],
   "source": [
    "ary_b = ary_a"
   ]
  },
  {
   "cell_type": "code",
   "execution_count": 24,
   "id": "b0f35b49-7496-4947-9321-62eaa178810f",
   "metadata": {},
   "outputs": [
    {
     "name": "stdout",
     "output_type": "stream",
     "text": [
      "Check whether ary_a and ary_b has the same elements:  True\n",
      "Check whether ary_a and ary_b shares the same memory location:  True\n"
     ]
    }
   ],
   "source": [
    "print(\"Check whether ary_a and ary_b has the same elements: \", ary_b is ary_a)\n",
    "print(\n",
    "    \"Check whether ary_a and ary_b shares the same memory location: \",\n",
    "    id(ary_a) == id(ary_b),\n",
    ")"
   ]
  },
  {
   "cell_type": "code",
   "execution_count": 25,
   "id": "0ce3e890-ec22-4bc4-8dd0-0f646e9055d0",
   "metadata": {},
   "outputs": [
    {
     "data": {
      "text/plain": [
       "[99, 2, 3]"
      ]
     },
     "execution_count": 25,
     "metadata": {},
     "output_type": "execute_result"
    }
   ],
   "source": [
    "# modify ary_b\n",
    "ary_b[0] = 99\n",
    "ary_b"
   ]
  },
  {
   "cell_type": "code",
   "execution_count": 26,
   "id": "e7d524ac",
   "metadata": {},
   "outputs": [
    {
     "data": {
      "text/plain": [
       "[99, 2, 3]"
      ]
     },
     "execution_count": 26,
     "metadata": {},
     "output_type": "execute_result"
    }
   ],
   "source": [
    "# see whether ary_a has also been modified\n",
    "ary_a"
   ]
  },
  {
   "cell_type": "markdown",
   "metadata": {},
   "source": [
    "#### <a id='toc3_1_2_'></a>[Slices no longer returns views](#toc0_)"
   ]
  },
  {
   "cell_type": "code",
   "execution_count": 27,
   "id": "4505b8a3-531e-4584-8575-04da09de0baa",
   "metadata": {},
   "outputs": [
    {
     "data": {
      "text/plain": [
       "[99, 2]"
      ]
     },
     "execution_count": 27,
     "metadata": {},
     "output_type": "execute_result"
    }
   ],
   "source": [
    "ary_c = ary_a[0:2]\n",
    "ary_c"
   ]
  },
  {
   "cell_type": "code",
   "execution_count": 28,
   "id": "b63ff25c-45bd-4cfa-bc9f-6333cc1ba13d",
   "metadata": {},
   "outputs": [
    {
     "name": "stdout",
     "output_type": "stream",
     "text": [
      "Check whether ary_a and ary_c has the same elements:  False\n",
      "Check whether ary_a and ary_c shares the same memory location:  False\n"
     ]
    }
   ],
   "source": [
    "print(\"Check whether ary_a and ary_c has the same elements: \", ary_c is ary_a)\n",
    "print(\n",
    "    \"Check whether ary_a and ary_c shares the same memory location: \",\n",
    "    id(ary_a) == id(ary_c),\n",
    ")"
   ]
  },
  {
   "cell_type": "code",
   "execution_count": 29,
   "id": "3dabd945-0203-45e5-bdeb-fa364f3dfee3",
   "metadata": {},
   "outputs": [
    {
     "data": {
      "text/plain": [
       "[20, 2]"
      ]
     },
     "execution_count": 29,
     "metadata": {},
     "output_type": "execute_result"
    }
   ],
   "source": [
    "# modify ary_c\n",
    "ary_c[0] = 20\n",
    "ary_c"
   ]
  },
  {
   "cell_type": "code",
   "execution_count": 30,
   "id": "5c01cecc",
   "metadata": {},
   "outputs": [
    {
     "data": {
      "text/plain": [
       "[99, 2, 3]"
      ]
     },
     "execution_count": 30,
     "metadata": {},
     "output_type": "execute_result"
    }
   ],
   "source": [
    "# see whether ary_a has also been modified\n",
    "ary_a"
   ]
  },
  {
   "cell_type": "markdown",
   "metadata": {},
   "source": [
    "#### <a id='toc3_1_3_'></a>[Deep copy](#toc0_)"
   ]
  },
  {
   "cell_type": "code",
   "execution_count": 31,
   "id": "91424212-3ba5-4033-8f4e-b5d13aaa4225",
   "metadata": {},
   "outputs": [],
   "source": [
    "ary_d = ary_c.copy()"
   ]
  },
  {
   "cell_type": "code",
   "execution_count": 32,
   "id": "9d722543-3d29-4c40-b5e7-3b6aba82ed61",
   "metadata": {},
   "outputs": [
    {
     "data": {
      "text/plain": [
       "[20, 2]"
      ]
     },
     "execution_count": 32,
     "metadata": {},
     "output_type": "execute_result"
    }
   ],
   "source": [
    "ary_d"
   ]
  },
  {
   "cell_type": "code",
   "execution_count": 33,
   "id": "999d731a-b68b-4b54-9fda-613dd8b91fa4",
   "metadata": {},
   "outputs": [
    {
     "data": {
      "text/plain": [
       "[20, 18]"
      ]
     },
     "execution_count": 33,
     "metadata": {},
     "output_type": "execute_result"
    }
   ],
   "source": [
    "# modifying ary_d\n",
    "ary_d[-1] = 18\n",
    "ary_d"
   ]
  },
  {
   "cell_type": "code",
   "execution_count": 34,
   "id": "5b4cbfc4-6b1c-4f41-9a9b-48eee8c2176a",
   "metadata": {},
   "outputs": [
    {
     "data": {
      "text/plain": [
       "[20, 2]"
      ]
     },
     "execution_count": 34,
     "metadata": {},
     "output_type": "execute_result"
    }
   ],
   "source": [
    "# see whether ary_c has also been modified\n",
    "ary_c"
   ]
  },
  {
   "cell_type": "code",
   "execution_count": null,
   "id": "c6496b07-bb43-40ac-8176-f36de76406ab",
   "metadata": {},
   "outputs": [],
   "source": []
  }
 ],
 "metadata": {
  "kernelspec": {
   "display_name": "Python 3 (ipykernel)",
   "language": "python",
   "name": "python3"
  },
  "language_info": {
   "codemirror_mode": {
    "name": "ipython",
    "version": 3
   },
   "file_extension": ".py",
   "mimetype": "text/x-python",
   "name": "python",
   "nbconvert_exporter": "python",
   "pygments_lexer": "ipython3",
   "version": "3.10.12"
  }
 },
 "nbformat": 4,
 "nbformat_minor": 5
}
