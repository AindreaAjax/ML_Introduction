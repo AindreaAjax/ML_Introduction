{
 "cells": [
  {
   "cell_type": "code",
   "execution_count": 1,
   "id": "7b4a513b-ae6e-4102-9262-baae2882d265",
   "metadata": {},
   "outputs": [],
   "source": [
    "# import statements\n",
    "import numpy as np\n",
    "from numpy.random import default_rng"
   ]
  },
  {
   "cell_type": "code",
   "execution_count": 2,
   "id": "89949090-7f03-41d1-b7ae-bf582f179443",
   "metadata": {},
   "outputs": [],
   "source": [
    "# random example array\n",
    "rng = default_rng()\n",
    "ary = rng.integers(low=5, high=20, size=(4, 3))"
   ]
  },
  {
   "cell_type": "markdown",
   "id": "e8392944-052a-4523-bf99-fcc56db96234",
   "metadata": {
    "tags": []
   },
   "source": [
    "# Array Manipulation "
   ]
  },
  {
   "cell_type": "markdown",
   "id": "cb1323e7-3695-4e8d-84c4-3db99c17cd77",
   "metadata": {},
   "source": [
    "## <u>Shape manipulation "
   ]
  },
  {
   "cell_type": "markdown",
   "id": "49d7382d-4006-4220-82aa-2f5910a211e4",
   "metadata": {},
   "source": [
    "### Reshaping an Array"
   ]
  },
  {
   "cell_type": "code",
   "execution_count": 3,
   "id": "2aa22e66-4d26-4779-a185-69b556363884",
   "metadata": {},
   "outputs": [
    {
     "data": {
      "text/plain": [
       "array([[17, 15,  9, 12, 14,  6],\n",
       "       [19, 15, 11, 19, 11,  8]])"
      ]
     },
     "execution_count": 3,
     "metadata": {},
     "output_type": "execute_result"
    }
   ],
   "source": [
    "# np.reshape(a, newshape)\n",
    "# Gives a new shape to the array \"a\" without changing its data.\n",
    "# doesn't change in-place\n",
    "np.reshape(ary, (2, 6))"
   ]
  },
  {
   "cell_type": "code",
   "execution_count": 4,
   "id": "c4030c5a-d90d-4344-839d-e6e5909d2413",
   "metadata": {},
   "outputs": [
    {
     "data": {
      "text/plain": [
       "array([[17, 15,  9],\n",
       "       [12, 14,  6],\n",
       "       [19, 15, 11],\n",
       "       [19, 11,  8]])"
      ]
     },
     "execution_count": 4,
     "metadata": {},
     "output_type": "execute_result"
    }
   ],
   "source": [
    "ary"
   ]
  },
  {
   "cell_type": "markdown",
   "id": "4c0cc36d-54d1-4ab6-8e5b-38ed0cf99c27",
   "metadata": {},
   "source": [
    "### Flattening an array"
   ]
  },
  {
   "cell_type": "code",
   "execution_count": 5,
   "id": "14b22f4d-3374-445f-a2ae-91795655880a",
   "metadata": {},
   "outputs": [
    {
     "data": {
      "text/plain": [
       "array([17, 15,  9, 12, 14,  6, 19, 15, 11, 19, 11,  8])"
      ]
     },
     "execution_count": 5,
     "metadata": {},
     "output_type": "execute_result"
    }
   ],
   "source": [
    "# flatten() will return a copy of the original array\n",
    "ary.flatten()"
   ]
  },
  {
   "cell_type": "code",
   "execution_count": 6,
   "id": "4aab9875-4696-4ae3-9b06-1f840351f5f7",
   "metadata": {},
   "outputs": [
    {
     "data": {
      "text/plain": [
       "array([17, 15,  9, 12, 14,  6, 19, 15, 11, 19, 11,  8])"
      ]
     },
     "execution_count": 6,
     "metadata": {},
     "output_type": "execute_result"
    }
   ],
   "source": [
    "# ravel() will show only a manipulated view\n",
    "ary.ravel()"
   ]
  },
  {
   "cell_type": "markdown",
   "id": "91060b76-a92f-455e-a5a7-531590a0d7f8",
   "metadata": {
    "tags": []
   },
   "source": [
    "## <u>Transpose of an Array"
   ]
  },
  {
   "cell_type": "markdown",
   "id": "c20d75d1-fb78-4561-8d54-69c42a707bcf",
   "metadata": {},
   "source": [
    "`-->` If an 'n' dimensional array has a shape of <i><b>(i[0], i[1], ... i[n-2], i[n-1])</b></i> , its transpose will have the shape of <i><b>(i[n-1], i[n-2], ... i[1], i[0])</b>. \n",
    "\n",
    "- For a 1-D array this has no effect, as a transposed vector is simply the same vector. \n",
    "- For a 2-D array, this is a standard matrix transpose.\n"
   ]
  },
  {
   "cell_type": "markdown",
   "id": "4f1fbc7b-d116-4311-a7f7-3ece8aab553c",
   "metadata": {},
   "source": [
    "`-->` To find the transpose of an array we can use the <i>`numpy.transpose(a, axes=None)`</i>. This will Return a view of the array with axes transposed.\n",
    "\n",
    "- axes=None: reverses the order of the axes\n",
    "\n",
    "- axes=tuple of ints: a tuple of (i, j) means that, the i-th axis of 'a' will become the j-th axis of the transpose array"
   ]
  },
  {
   "cell_type": "code",
   "execution_count": 7,
   "id": "3903f8ce-4ad6-451b-aea5-88febe3c8019",
   "metadata": {},
   "outputs": [
    {
     "data": {
      "text/plain": [
       "array([[17, 15,  9],\n",
       "       [12, 14,  6],\n",
       "       [19, 15, 11],\n",
       "       [19, 11,  8]])"
      ]
     },
     "execution_count": 7,
     "metadata": {},
     "output_type": "execute_result"
    }
   ],
   "source": [
    "ary"
   ]
  },
  {
   "cell_type": "code",
   "execution_count": 8,
   "id": "749c0f59-7f28-4aae-9a6d-f70e16c05347",
   "metadata": {},
   "outputs": [
    {
     "data": {
      "text/plain": [
       "array([[17, 12, 19, 19],\n",
       "       [15, 14, 15, 11],\n",
       "       [ 9,  6, 11,  8]])"
      ]
     },
     "execution_count": 8,
     "metadata": {},
     "output_type": "execute_result"
    }
   ],
   "source": [
    "np.transpose(ary)  # or simply, ary.transpose()"
   ]
  },
  {
   "cell_type": "markdown",
   "id": "82c6a2aa-86d5-4d56-8c93-64b64a9b6466",
   "metadata": {},
   "source": [
    "## <u>Working with array dimensions "
   ]
  },
  {
   "cell_type": "markdown",
   "id": "7f9808ae-8441-45e4-8bfa-4cf394e9de2b",
   "metadata": {},
   "source": [
    "Some array operations such as, combining or joining two or more arrays or, mathematical operations, sometimes will not work at all or will work in an unexpected way in case of dimesion mismatch. This is why manipulating array dimensions is a very important operation. "
   ]
  },
  {
   "cell_type": "code",
   "execution_count": 9,
   "id": "2bc66c42-2398-4d4d-aca0-4502191cf026",
   "metadata": {},
   "outputs": [],
   "source": [
    "# example array\n",
    "a = np.arange(1, 10).reshape(3, 3)"
   ]
  },
  {
   "cell_type": "markdown",
   "id": "77bf9086-5464-4824-8165-b2551f46b1b4",
   "metadata": {},
   "source": [
    "### Expanding"
   ]
  },
  {
   "cell_type": "code",
   "execution_count": 10,
   "id": "318bbe6f-a190-4bf7-b89e-3de8f4b2af17",
   "metadata": {},
   "outputs": [],
   "source": [
    "# Expand the shape of an array by inserting a new axis that will appear at the `axis` position in the expanded array shape.\n",
    "exp_a = np.expand_dims(a, axis=1)"
   ]
  },
  {
   "cell_type": "code",
   "execution_count": 11,
   "id": "2021da79-6a1d-4b7a-b2d9-c21675e0971f",
   "metadata": {},
   "outputs": [
    {
     "data": {
      "text/plain": [
       "array([[[1, 2, 3]],\n",
       "\n",
       "       [[4, 5, 6]],\n",
       "\n",
       "       [[7, 8, 9]]])"
      ]
     },
     "execution_count": 11,
     "metadata": {},
     "output_type": "execute_result"
    }
   ],
   "source": [
    "exp_a"
   ]
  },
  {
   "cell_type": "code",
   "execution_count": 12,
   "id": "337812d7-ac9a-446d-8bb2-a7e54f22041f",
   "metadata": {},
   "outputs": [
    {
     "data": {
      "text/plain": [
       "(3, 1, 3)"
      ]
     },
     "execution_count": 12,
     "metadata": {},
     "output_type": "execute_result"
    }
   ],
   "source": [
    "exp_a.shape"
   ]
  },
  {
   "cell_type": "markdown",
   "id": "36704a3a-0644-4efe-b210-b8e06f51115a",
   "metadata": {},
   "source": [
    "### Squeezing"
   ]
  },
  {
   "cell_type": "code",
   "execution_count": 13,
   "id": "9215c0dc-bf3d-4d1c-b9d1-40ab199ed59f",
   "metadata": {},
   "outputs": [
    {
     "data": {
      "text/plain": [
       "array([[1, 2, 3],\n",
       "       [4, 5, 6],\n",
       "       [7, 8, 9]])"
      ]
     },
     "execution_count": 13,
     "metadata": {},
     "output_type": "execute_result"
    }
   ],
   "source": [
    "# np.squeeze(x, axis=None)\n",
    "# the opposite of expanding\n",
    "# Removes all the axes of length one from `a`\n",
    "# axis=x will remove only that particular axis but, it must have a length of 1\n",
    "np.squeeze(exp_a, axis=1)"
   ]
  },
  {
   "cell_type": "markdown",
   "id": "2d85d0bc-7c4d-41d5-9d9e-fe552118a907",
   "metadata": {},
   "source": [
    "## <u>Broadcasting "
   ]
  },
  {
   "cell_type": "markdown",
   "id": "c67acaef-4faa-4522-95ad-92c8d01c6d32",
   "metadata": {},
   "source": [
    "Broadcasting is a mechanism that automatically matches arrays with different shapes (by temporarily converting one to match the other). This is done mainly for element-wise operations. Broadcasting usually improves speed by means of vectorizing operations."
   ]
  },
  {
   "cell_type": "markdown",
   "id": "4264a96e-a030-4218-aaa2-faf86415e889",
   "metadata": {},
   "source": [
    "Not all arrays can be broadcast. They must meet certain conditions, the “Broadcasting rule” states: “In order to broadcast, the size of the trailing axes for both arrays in an operation must either be the same size or one of them must be one.”"
   ]
  },
  {
   "cell_type": "code",
   "execution_count": 14,
   "id": "298768fd-5467-46b5-85ae-bd2913303e90",
   "metadata": {},
   "outputs": [],
   "source": [
    "a = np.arange(1, 5).reshape(2, 2)\n",
    "c = 5\n",
    "b = np.arange(6, 9).reshape(3, 1)"
   ]
  },
  {
   "cell_type": "markdown",
   "id": "99d0a589-da0d-487f-b452-59344776ce51",
   "metadata": {},
   "source": [
    "- Example of Valid broadcasting"
   ]
  },
  {
   "cell_type": "code",
   "execution_count": 15,
   "id": "b75cf163-5f0d-495d-8e22-c9e50b99ec5f",
   "metadata": {},
   "outputs": [
    {
     "data": {
      "text/plain": [
       "array([[6, 7],\n",
       "       [8, 9]])"
      ]
     },
     "execution_count": 15,
     "metadata": {},
     "output_type": "execute_result"
    }
   ],
   "source": [
    "a + c"
   ]
  },
  {
   "cell_type": "markdown",
   "id": "41eb879a-1146-4045-8403-43fb516550f8",
   "metadata": {},
   "source": [
    "- Example of Invalid broadcasting"
   ]
  },
  {
   "cell_type": "code",
   "execution_count": 16,
   "id": "833e0956-2c7a-4c0c-aa0f-4733c4217905",
   "metadata": {},
   "outputs": [
    {
     "name": "stdout",
     "output_type": "stream",
     "text": [
      "operands could not be broadcast together with shapes (2,2) (3,1) \n"
     ]
    }
   ],
   "source": [
    "try:\n",
    "    a + b\n",
    "except ValueError as err_msg:\n",
    "    print(err_msg)"
   ]
  }
 ],
 "metadata": {
  "kernelspec": {
   "display_name": "Python 3 (ipykernel)",
   "language": "python",
   "name": "python3"
  },
  "language_info": {
   "codemirror_mode": {
    "name": "ipython",
    "version": 3
   },
   "file_extension": ".py",
   "mimetype": "text/x-python",
   "name": "python",
   "nbconvert_exporter": "python",
   "pygments_lexer": "ipython3",
   "version": "3.8.13"
  }
 },
 "nbformat": 4,
 "nbformat_minor": 5
}
