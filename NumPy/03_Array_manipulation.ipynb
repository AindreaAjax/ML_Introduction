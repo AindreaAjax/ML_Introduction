{
 "cells": [
  {
   "cell_type": "code",
   "execution_count": 1,
   "id": "7b4a513b-ae6e-4102-9262-baae2882d265",
   "metadata": {},
   "outputs": [],
   "source": [
    "# import statements\n",
    "import numpy as np\n",
    "from numpy.random import default_rng"
   ]
  },
  {
   "cell_type": "code",
   "execution_count": 2,
   "id": "89949090-7f03-41d1-b7ae-bf582f179443",
   "metadata": {},
   "outputs": [],
   "source": [
    "# random example array\n",
    "rng = default_rng()\n",
    "ary = rng.integers(low=5, high=20, size=(4, 3))"
   ]
  },
  {
   "cell_type": "markdown",
   "id": "e8392944-052a-4523-bf99-fcc56db96234",
   "metadata": {
    "tags": []
   },
   "source": [
    "# Array Manipulation "
   ]
  },
  {
   "cell_type": "markdown",
   "id": "cb1323e7-3695-4e8d-84c4-3db99c17cd77",
   "metadata": {},
   "source": [
    "## <u>Shape manipulation "
   ]
  },
  {
   "cell_type": "markdown",
   "id": "49d7382d-4006-4220-82aa-2f5910a211e4",
   "metadata": {},
   "source": [
    "### Reshaping an Array"
   ]
  },
  {
   "cell_type": "code",
   "execution_count": 3,
   "id": "2aa22e66-4d26-4779-a185-69b556363884",
   "metadata": {},
   "outputs": [
    {
     "data": {
      "text/plain": [
       "array([[ 9,  8, 17,  6, 15, 12],\n",
       "       [17, 16, 13, 10,  9, 13]])"
      ]
     },
     "execution_count": 3,
     "metadata": {},
     "output_type": "execute_result"
    }
   ],
   "source": [
    "# np.reshape(a, newshape)\n",
    "# Gives a new shape to the array \"a\" without changing its data.\n",
    "# doesn't change in-place\n",
    "np.reshape(ary, (2, 6))"
   ]
  },
  {
   "cell_type": "code",
   "execution_count": 4,
   "id": "c4030c5a-d90d-4344-839d-e6e5909d2413",
   "metadata": {},
   "outputs": [
    {
     "data": {
      "text/plain": [
       "array([[ 9,  8, 17],\n",
       "       [ 6, 15, 12],\n",
       "       [17, 16, 13],\n",
       "       [10,  9, 13]])"
      ]
     },
     "execution_count": 4,
     "metadata": {},
     "output_type": "execute_result"
    }
   ],
   "source": [
    "ary"
   ]
  },
  {
   "cell_type": "markdown",
   "id": "4c0cc36d-54d1-4ab6-8e5b-38ed0cf99c27",
   "metadata": {},
   "source": [
    "### Flattening an array"
   ]
  },
  {
   "cell_type": "code",
   "execution_count": 5,
   "id": "14b22f4d-3374-445f-a2ae-91795655880a",
   "metadata": {},
   "outputs": [
    {
     "data": {
      "text/plain": [
       "array([ 9,  8, 17,  6, 15, 12, 17, 16, 13, 10,  9, 13])"
      ]
     },
     "execution_count": 5,
     "metadata": {},
     "output_type": "execute_result"
    }
   ],
   "source": [
    "# flatten() will return a copy of the original array\n",
    "ary.flatten()"
   ]
  },
  {
   "cell_type": "code",
   "execution_count": 6,
   "id": "4aab9875-4696-4ae3-9b06-1f840351f5f7",
   "metadata": {},
   "outputs": [
    {
     "data": {
      "text/plain": [
       "array([ 9,  8, 17,  6, 15, 12, 17, 16, 13, 10,  9, 13])"
      ]
     },
     "execution_count": 6,
     "metadata": {},
     "output_type": "execute_result"
    }
   ],
   "source": [
    "# ravel() will show only a manipulated view\n",
    "ary.ravel()"
   ]
  },
  {
   "cell_type": "markdown",
   "id": "91060b76-a92f-455e-a5a7-531590a0d7f8",
   "metadata": {
    "tags": []
   },
   "source": [
    "## <u>Transpose of an Array"
   ]
  },
  {
   "cell_type": "markdown",
   "id": "c20d75d1-fb78-4561-8d54-69c42a707bcf",
   "metadata": {},
   "source": [
    "`-->` If an 'n' dimensional array has a shape of <i><b>(i[0], i[1], ... i[n-2], i[n-1])</b></i> , its transpose will have the shape of <i><b>(i[n-1], i[n-2], ... i[1], i[0])</b>. \n",
    "\n",
    "- For a 1-D array this has no effect, as a transposed vector is simply the same vector. \n",
    "- For a 2-D array, this is a standard matrix transpose.\n"
   ]
  },
  {
   "cell_type": "markdown",
   "id": "4f1fbc7b-d116-4311-a7f7-3ece8aab553c",
   "metadata": {},
   "source": [
    "`-->` To find the transpose of an array we can use the <i>`numpy.transpose(a, axes=None)`</i>. This will Return a view of the array with axes transposed.\n",
    "\n",
    "- axes=None: reverses the order of the axes\n",
    "\n",
    "- axes=tuple of ints: a tuple of (i, j) means that, the i-th axis of 'a' will become the j-th axis of the transpose array"
   ]
  },
  {
   "cell_type": "code",
   "execution_count": 7,
   "id": "3903f8ce-4ad6-451b-aea5-88febe3c8019",
   "metadata": {},
   "outputs": [
    {
     "data": {
      "text/plain": [
       "array([[ 9,  8, 17],\n",
       "       [ 6, 15, 12],\n",
       "       [17, 16, 13],\n",
       "       [10,  9, 13]])"
      ]
     },
     "execution_count": 7,
     "metadata": {},
     "output_type": "execute_result"
    }
   ],
   "source": [
    "ary"
   ]
  },
  {
   "cell_type": "code",
   "execution_count": 8,
   "id": "749c0f59-7f28-4aae-9a6d-f70e16c05347",
   "metadata": {},
   "outputs": [
    {
     "data": {
      "text/plain": [
       "array([[ 9,  6, 17, 10],\n",
       "       [ 8, 15, 16,  9],\n",
       "       [17, 12, 13, 13]])"
      ]
     },
     "execution_count": 8,
     "metadata": {},
     "output_type": "execute_result"
    }
   ],
   "source": [
    "np.transpose(ary)  # or simply, ary.transpose()"
   ]
  },
  {
   "cell_type": "markdown",
   "id": "82c6a2aa-86d5-4d56-8c93-64b64a9b6466",
   "metadata": {},
   "source": [
    "## <u>Working with array dimensions "
   ]
  },
  {
   "cell_type": "markdown",
   "id": "7f9808ae-8441-45e4-8bfa-4cf394e9de2b",
   "metadata": {},
   "source": [
    "Some array operations such as, combining or joining two or more arrays or, mathematical operations, sometimes will not work at all or will work in an unexpected way in case of dimesion mismatch. This is why manipulating array dimensions is a very important operation. "
   ]
  },
  {
   "cell_type": "code",
   "execution_count": 9,
   "id": "2bc66c42-2398-4d4d-aca0-4502191cf026",
   "metadata": {},
   "outputs": [],
   "source": [
    "# example array\n",
    "a = np.arange(1, 10).reshape(3, 3)"
   ]
  },
  {
   "cell_type": "markdown",
   "id": "77bf9086-5464-4824-8165-b2551f46b1b4",
   "metadata": {},
   "source": [
    "### Expanding"
   ]
  },
  {
   "cell_type": "code",
   "execution_count": 10,
   "id": "318bbe6f-a190-4bf7-b89e-3de8f4b2af17",
   "metadata": {},
   "outputs": [],
   "source": [
    "# Expand the shape of an array by inserting a new axis that will appear at the `axis` position in the expanded array shape.\n",
    "exp_a = np.expand_dims(a, axis=1)"
   ]
  },
  {
   "cell_type": "code",
   "execution_count": 11,
   "id": "2021da79-6a1d-4b7a-b2d9-c21675e0971f",
   "metadata": {},
   "outputs": [
    {
     "data": {
      "text/plain": [
       "array([[[1, 2, 3]],\n",
       "\n",
       "       [[4, 5, 6]],\n",
       "\n",
       "       [[7, 8, 9]]])"
      ]
     },
     "execution_count": 11,
     "metadata": {},
     "output_type": "execute_result"
    }
   ],
   "source": [
    "exp_a"
   ]
  },
  {
   "cell_type": "code",
   "execution_count": 12,
   "id": "337812d7-ac9a-446d-8bb2-a7e54f22041f",
   "metadata": {},
   "outputs": [
    {
     "data": {
      "text/plain": [
       "(3, 1, 3)"
      ]
     },
     "execution_count": 12,
     "metadata": {},
     "output_type": "execute_result"
    }
   ],
   "source": [
    "exp_a.shape"
   ]
  },
  {
   "cell_type": "markdown",
   "id": "36704a3a-0644-4efe-b210-b8e06f51115a",
   "metadata": {},
   "source": [
    "### Squeezing"
   ]
  },
  {
   "cell_type": "code",
   "execution_count": 13,
   "id": "9215c0dc-bf3d-4d1c-b9d1-40ab199ed59f",
   "metadata": {},
   "outputs": [
    {
     "data": {
      "text/plain": [
       "array([[1, 2, 3],\n",
       "       [4, 5, 6],\n",
       "       [7, 8, 9]])"
      ]
     },
     "execution_count": 13,
     "metadata": {},
     "output_type": "execute_result"
    }
   ],
   "source": [
    "# np.squeeze(x, axis=None)\n",
    "# the opposite of expanding\n",
    "# Removes all the axes of length one from `a`\n",
    "# axis=x will remove only that particular axis but, it must have a length of 1\n",
    "np.squeeze(exp_a, axis=1)"
   ]
  },
  {
   "cell_type": "markdown",
   "id": "2d85d0bc-7c4d-41d5-9d9e-fe552118a907",
   "metadata": {},
   "source": [
    "## <u>Broadcasting "
   ]
  },
  {
   "cell_type": "markdown",
   "id": "c67acaef-4faa-4522-95ad-92c8d01c6d32",
   "metadata": {},
   "source": [
    "Broadcasting is a mechanism that automatically matches arrays with different shapes (by temporarily converting one to match the other). This is done mainly for element-wise operations. Broadcasting usually improves speed by means of vectorizing operations."
   ]
  },
  {
   "cell_type": "markdown",
   "id": "4264a96e-a030-4218-aaa2-faf86415e889",
   "metadata": {},
   "source": [
    "Not all arrays can be broadcast. They must meet certain conditions, the “Broadcasting rule” states: “In order to broadcast, the size of the trailing axes for both arrays in an operation must either be the same size or one of them must be one.”"
   ]
  },
  {
   "cell_type": "code",
   "execution_count": 14,
   "id": "298768fd-5467-46b5-85ae-bd2913303e90",
   "metadata": {},
   "outputs": [],
   "source": [
    "a = np.arange(1, 5).reshape(2, 2)\n",
    "c = 5\n",
    "b = np.arange(6, 9).reshape(3, 1)"
   ]
  },
  {
   "cell_type": "markdown",
   "id": "99d0a589-da0d-487f-b452-59344776ce51",
   "metadata": {},
   "source": [
    "- **Example of Valid broadcasting**"
   ]
  },
  {
   "cell_type": "code",
   "execution_count": 15,
   "id": "b75cf163-5f0d-495d-8e22-c9e50b99ec5f",
   "metadata": {},
   "outputs": [
    {
     "data": {
      "text/plain": [
       "array([[6, 7],\n",
       "       [8, 9]])"
      ]
     },
     "execution_count": 15,
     "metadata": {},
     "output_type": "execute_result"
    }
   ],
   "source": [
    "a + c"
   ]
  },
  {
   "cell_type": "markdown",
   "id": "41eb879a-1146-4045-8403-43fb516550f8",
   "metadata": {},
   "source": [
    "- **Example of Invalid broadcasting**"
   ]
  },
  {
   "cell_type": "code",
   "execution_count": 16,
   "id": "833e0956-2c7a-4c0c-aa0f-4733c4217905",
   "metadata": {},
   "outputs": [
    {
     "name": "stdout",
     "output_type": "stream",
     "text": [
      "operands could not be broadcast together with shapes (2,2) (3,1) \n"
     ]
    }
   ],
   "source": [
    "try:\n",
    "    a + b\n",
    "except ValueError as err_msg:\n",
    "    print(err_msg)"
   ]
  },
  {
   "cell_type": "markdown",
   "id": "a4b99a7b-3683-46f8-b994-75f707861ac4",
   "metadata": {},
   "source": [
    "## <u> Joining Arrays "
   ]
  },
  {
   "cell_type": "markdown",
   "id": "f678ad55-0fdd-4790-b413-77cd2423d8e7",
   "metadata": {},
   "source": [
    "### Concatenation "
   ]
  },
  {
   "cell_type": "markdown",
   "id": "3c4fe826-2041-4be2-ac6e-8eff77195e18",
   "metadata": {},
   "source": [
    "To concatenate, the arrays must have equal length along the axis of concatenation."
   ]
  },
  {
   "cell_type": "code",
   "execution_count": 17,
   "id": "bee6ec84-f69d-43ce-a99c-d660a37ead2d",
   "metadata": {},
   "outputs": [],
   "source": [
    "# example arrays\n",
    "con_ary1 = np.linspace(1, 9, 9).reshape(3, 3)\n",
    "con_ary2 = np.linspace(10, 12, 3).reshape(1, 3)"
   ]
  },
  {
   "cell_type": "markdown",
   "id": "aca5bb56-fcdb-4646-8750-bb7564065c26",
   "metadata": {},
   "source": [
    "`np.concatenate((a1, a2, ...), axis=0, out=None, dtype=None, casting=\"same_kind\")`"
   ]
  },
  {
   "cell_type": "code",
   "execution_count": 18,
   "id": "818675b0-5fe6-4130-8c17-1146edf4ea20",
   "metadata": {},
   "outputs": [
    {
     "data": {
      "text/plain": [
       "array([[ 1.,  2.,  3.],\n",
       "       [ 4.,  5.,  6.],\n",
       "       [ 7.,  8.,  9.],\n",
       "       [10., 11., 12.]])"
      ]
     },
     "execution_count": 18,
     "metadata": {},
     "output_type": "execute_result"
    }
   ],
   "source": [
    "# Row wise concatenation (to concatenate along axis=0, axix=1 must be equal in all of the arrays to be concatenated)\n",
    "np.concatenate((con_ary1, con_ary2), axis=0)"
   ]
  },
  {
   "cell_type": "code",
   "execution_count": 19,
   "id": "541c15e1-b87d-4812-a70c-47237358e9da",
   "metadata": {},
   "outputs": [
    {
     "data": {
      "text/plain": [
       "array([[ 1.,  2.,  3., 10.],\n",
       "       [ 4.,  5.,  6., 11.],\n",
       "       [ 7.,  8.,  9., 12.]])"
      ]
     },
     "execution_count": 19,
     "metadata": {},
     "output_type": "execute_result"
    }
   ],
   "source": [
    "# Column wise concatenation (to concatenate along axis=1, axis=0 must be equal in all of the arrays to be concatenated)\n",
    "np.concatenate((con_ary1, con_ary2.T), axis=1)"
   ]
  },
  {
   "cell_type": "markdown",
   "id": "d5d4813f-ad7c-486a-93ab-8de8c2c05da2",
   "metadata": {
    "tags": []
   },
   "source": [
    "### Stacking "
   ]
  },
  {
   "cell_type": "markdown",
   "id": "854d673d-621e-4f7b-82ad-2a0972cffc3f",
   "metadata": {},
   "source": [
    "To stack arrays together, all the arrays must have the same dimensions. And this will add a new dimension to the stacked array. \n",
    "\n",
    "We use the `numpy.stack((tuple of arrays), axis=0)` function to perform the stacking operation. The axis parameter specifies the index of the new axis in the dimensions of the result."
   ]
  },
  {
   "cell_type": "code",
   "execution_count": 20,
   "id": "ace86f70-c87a-40da-8ee1-ceb0c1d3579f",
   "metadata": {},
   "outputs": [],
   "source": [
    "stk_ary1 = np.linspace(1, 9, 9).reshape(1, 3, 3)\n",
    "stk_ary2 = np.linspace(10, 19, 9).reshape(1, 3, 3)"
   ]
  },
  {
   "cell_type": "code",
   "execution_count": 21,
   "id": "90da42e9-11b4-488a-9b13-a2d19b201185",
   "metadata": {},
   "outputs": [
    {
     "data": {
      "text/plain": [
       "(1, 3, 2, 3)"
      ]
     },
     "execution_count": 21,
     "metadata": {},
     "output_type": "execute_result"
    }
   ],
   "source": [
    "np.stack((stk_ary1, stk_ary2), axis=2).shape"
   ]
  },
  {
   "cell_type": "markdown",
   "id": "4ab9e08e-5950-4fb1-9e67-803517ae7ba3",
   "metadata": {
    "tags": []
   },
   "source": [
    "### Horizontal (column-wise) stacking "
   ]
  },
  {
   "cell_type": "markdown",
   "id": "0b20effc-ecc4-4569-92de-44b0081ff57c",
   "metadata": {},
   "source": [
    "This works differently than simple stacking. `np.hstack()` will add the arrays in a column wise fashion i.e, similar to concatenating along axis=1."
   ]
  },
  {
   "cell_type": "code",
   "execution_count": 22,
   "id": "558b2f1a-641a-42d0-bbf8-a7cc728a0c14",
   "metadata": {},
   "outputs": [],
   "source": [
    "# example arrays\n",
    "hstk_ary1 = np.linspace(1, 9, 9).reshape(3, 3)\n",
    "hstk_ary2 = np.linspace(10, 12, 3).reshape(1, 3)"
   ]
  },
  {
   "cell_type": "code",
   "execution_count": 23,
   "id": "5a19def4-63a9-4e3c-add5-f13dda25e309",
   "metadata": {},
   "outputs": [
    {
     "data": {
      "text/plain": [
       "array([[ 1.,  2.,  3., 10.],\n",
       "       [ 4.,  5.,  6., 11.],\n",
       "       [ 7.,  8.,  9., 12.]])"
      ]
     },
     "execution_count": 23,
     "metadata": {},
     "output_type": "execute_result"
    }
   ],
   "source": [
    "np.hstack((hstk_ary1, hstk_ary2.T))"
   ]
  },
  {
   "cell_type": "markdown",
   "id": "cf4d0699-0ff6-4083-9d86-a5c98feb7be2",
   "metadata": {},
   "source": [
    "### Vertical (row-wise) stacking "
   ]
  },
  {
   "cell_type": "markdown",
   "id": "0e3a516b-efe2-426a-bca8-605f3c58c1b1",
   "metadata": {},
   "source": [
    "`np.vstack()` will add the arrays in a row wise fashion i.e, similar to concatenating along axis=0."
   ]
  },
  {
   "cell_type": "code",
   "execution_count": 24,
   "id": "a45b19cb-c098-4fa8-b3e3-0ac82ae326b4",
   "metadata": {},
   "outputs": [],
   "source": [
    "# example arrays\n",
    "vstk_ary1 = np.linspace(1, 9, 9).reshape(3, 3)\n",
    "vstk_ary2 = np.linspace(10, 12, 3).reshape(1, 3)"
   ]
  },
  {
   "cell_type": "code",
   "execution_count": 25,
   "id": "ada7aa85-02ac-4abc-9d89-161599812673",
   "metadata": {},
   "outputs": [
    {
     "data": {
      "text/plain": [
       "array([[ 1.,  2.,  3.],\n",
       "       [ 4.,  5.,  6.],\n",
       "       [ 7.,  8.,  9.],\n",
       "       [10., 11., 12.]])"
      ]
     },
     "execution_count": 25,
     "metadata": {},
     "output_type": "execute_result"
    }
   ],
   "source": [
    "np.vstack((vstk_ary1, vstk_ary2))"
   ]
  },
  {
   "cell_type": "markdown",
   "id": "bae9d092-6397-4549-b5ac-88eefc3e5524",
   "metadata": {},
   "source": [
    "## <u> Splitting Arrays"
   ]
  },
  {
   "cell_type": "code",
   "execution_count": 26,
   "id": "e250b369-d53c-4906-a52d-7cc22c249ebe",
   "metadata": {},
   "outputs": [],
   "source": [
    "# example array\n",
    "sp_ary = np.linspace(0, 30, 12).reshape(4, 3)"
   ]
  },
  {
   "cell_type": "markdown",
   "id": "ddfa263b-1b38-410a-b7a0-839ee465e462",
   "metadata": {},
   "source": [
    "### Splitting an array into multiple sub-arrays of equal length"
   ]
  },
  {
   "cell_type": "markdown",
   "id": "6211ef6e-e838-4503-9491-e3405ec1635a",
   "metadata": {},
   "source": [
    "- **numpy.split(ary, sections, axis=0)**"
   ]
  },
  {
   "cell_type": "markdown",
   "id": "1c824f24-e650-428f-b802-8038f9c0e782",
   "metadata": {},
   "source": [
    "If the size of the array along the specified axis is not divisible by the number of sections specified, it will throw an error."
   ]
  },
  {
   "cell_type": "code",
   "execution_count": 27,
   "id": "bcac5bb5-26c0-4e7f-87ed-942ab2b1852d",
   "metadata": {},
   "outputs": [
    {
     "data": {
      "text/plain": [
       "[array([[ 0.        ,  2.72727273,  5.45454545],\n",
       "        [ 8.18181818, 10.90909091, 13.63636364]]),\n",
       " array([[16.36363636, 19.09090909, 21.81818182],\n",
       "        [24.54545455, 27.27272727, 30.        ]])]"
      ]
     },
     "execution_count": 27,
     "metadata": {},
     "output_type": "execute_result"
    }
   ],
   "source": [
    "np.split(sp_ary, 2)"
   ]
  },
  {
   "cell_type": "markdown",
   "id": "bf7641be-cf48-4395-8bef-bf31c16bc4e2",
   "metadata": {},
   "source": [
    "- **numpy.split_array(ary, sections, axis=0)**\n",
    "\n",
    "    - If there are more elements in the array along the defined axis after splitting then, extra elements will be discarded.\n",
    "    - If there are not enough elements in the array along the defined axis then, an empty axis will be generated in some of the splitted arrays."
   ]
  },
  {
   "cell_type": "code",
   "execution_count": 28,
   "id": "d034fee2-b411-4a0e-9700-89bbe9f960eb",
   "metadata": {},
   "outputs": [
    {
     "data": {
      "text/plain": [
       "[array([[ 0.        ],\n",
       "        [ 8.18181818],\n",
       "        [16.36363636],\n",
       "        [24.54545455]]),\n",
       " array([[ 2.72727273],\n",
       "        [10.90909091],\n",
       "        [19.09090909],\n",
       "        [27.27272727]]),\n",
       " array([[ 5.45454545],\n",
       "        [13.63636364],\n",
       "        [21.81818182],\n",
       "        [30.        ]]),\n",
       " array([], shape=(4, 0), dtype=float64)]"
      ]
     },
     "execution_count": 28,
     "metadata": {},
     "output_type": "execute_result"
    }
   ],
   "source": [
    "np.array_split(sp_ary, 4, axis=1)"
   ]
  },
  {
   "cell_type": "markdown",
   "id": "01354508-bd96-4d9e-a227-7ba328d407d5",
   "metadata": {},
   "source": [
    "### Horizontal (column-wise) splitting "
   ]
  },
  {
   "cell_type": "markdown",
   "id": "86a1b6c2-842b-4746-b858-753f0f3cc60d",
   "metadata": {},
   "source": [
    "**Note:** It is a must that, No of sections == No of columns"
   ]
  },
  {
   "cell_type": "code",
   "execution_count": 29,
   "id": "e3f763b8-6197-4bb5-9a81-1a571932f0bc",
   "metadata": {},
   "outputs": [
    {
     "data": {
      "text/plain": [
       "[array([[ 0.        ],\n",
       "        [ 8.18181818],\n",
       "        [16.36363636],\n",
       "        [24.54545455]]),\n",
       " array([[ 2.72727273],\n",
       "        [10.90909091],\n",
       "        [19.09090909],\n",
       "        [27.27272727]]),\n",
       " array([[ 5.45454545],\n",
       "        [13.63636364],\n",
       "        [21.81818182],\n",
       "        [30.        ]])]"
      ]
     },
     "execution_count": 29,
     "metadata": {},
     "output_type": "execute_result"
    }
   ],
   "source": [
    "# numpy.hsplit(ary, sections)\n",
    "np.hsplit(sp_ary, 3)"
   ]
  },
  {
   "cell_type": "markdown",
   "id": "27f89a7d-a504-47cb-b354-d397fff5dbbf",
   "metadata": {},
   "source": [
    "### Vertical (row-wise) splitting  "
   ]
  },
  {
   "cell_type": "markdown",
   "id": "3dd1241a-4d42-4576-9d3b-6509e33d6605",
   "metadata": {},
   "source": [
    "**Note:** It is a must that, No of sections == No of rows"
   ]
  },
  {
   "cell_type": "code",
   "execution_count": 30,
   "id": "f5eca7c0-9214-42d7-8af9-5721fd82099d",
   "metadata": {},
   "outputs": [
    {
     "data": {
      "text/plain": [
       "[array([[0.        , 2.72727273, 5.45454545]]),\n",
       " array([[ 8.18181818, 10.90909091, 13.63636364]]),\n",
       " array([[16.36363636, 19.09090909, 21.81818182]]),\n",
       " array([[24.54545455, 27.27272727, 30.        ]])]"
      ]
     },
     "execution_count": 30,
     "metadata": {},
     "output_type": "execute_result"
    }
   ],
   "source": [
    "# numpy.vsplit(ary, sections)\n",
    "np.vsplit(sp_ary, 4)"
   ]
  },
  {
   "cell_type": "markdown",
   "id": "d7483334-76ea-485f-a303-4085ab3b8238",
   "metadata": {},
   "source": [
    "## <u> Array repetition "
   ]
  },
  {
   "cell_type": "code",
   "execution_count": 31,
   "id": "17f4e43c-78df-4c33-a57e-4611e5555645",
   "metadata": {},
   "outputs": [],
   "source": [
    "# example array\n",
    "rp_ary = np.linspace(1, 9, 9).reshape(3, 3)"
   ]
  },
  {
   "cell_type": "markdown",
   "id": "49517cc5-36c1-4015-b1a0-9a8fd06750f5",
   "metadata": {},
   "source": [
    "### Repeat an Array a given number of times"
   ]
  },
  {
   "cell_type": "code",
   "execution_count": 32,
   "id": "80d9a47a-49ca-4efc-9565-3f378b7bf7dc",
   "metadata": {},
   "outputs": [
    {
     "data": {
      "text/plain": [
       "array([[1., 2., 3., 1., 2., 3.],\n",
       "       [4., 5., 6., 4., 5., 6.],\n",
       "       [7., 8., 9., 7., 8., 9.]])"
      ]
     },
     "execution_count": 32,
     "metadata": {},
     "output_type": "execute_result"
    }
   ],
   "source": [
    "# numpy.tile(ary, reps)\n",
    "np.tile(rp_ary, 2)"
   ]
  },
  {
   "cell_type": "markdown",
   "id": "d34e251d-ceb8-4f32-aa3a-af3194585cb1",
   "metadata": {},
   "source": [
    "### Repeat elements of an array "
   ]
  },
  {
   "cell_type": "code",
   "execution_count": 33,
   "id": "e3451231-999a-4d46-96b7-8f28d70d0bb2",
   "metadata": {},
   "outputs": [
    {
     "data": {
      "text/plain": [
       "array([[1., 2., 3.],\n",
       "       [1., 2., 3.],\n",
       "       [4., 5., 6.],\n",
       "       [4., 5., 6.],\n",
       "       [7., 8., 9.],\n",
       "       [7., 8., 9.]])"
      ]
     },
     "execution_count": 33,
     "metadata": {},
     "output_type": "execute_result"
    }
   ],
   "source": [
    "# numpy.repeat(ary, reps, axis=None)\n",
    "# axis=None will repeat the array elements in a flattened version of the array\n",
    "np.repeat(rp_ary, 2, axis=0)"
   ]
  },
  {
   "cell_type": "markdown",
   "id": "34e0e130-1afd-403d-83dc-b278fce5bf0a",
   "metadata": {},
   "source": [
    "## <u> Adding and removing elements "
   ]
  },
  {
   "cell_type": "code",
   "execution_count": 34,
   "id": "11f83f1c-3172-4346-b1b1-334270d27418",
   "metadata": {},
   "outputs": [],
   "source": [
    "ary = np.linspace(0, 11, 12).reshape(4, 3)"
   ]
  },
  {
   "cell_type": "code",
   "execution_count": 35,
   "id": "f326ccbc-44d6-4df8-99c4-463284624b73",
   "metadata": {},
   "outputs": [
    {
     "data": {
      "text/plain": [
       "array([[ 0.,  1.,  2.],\n",
       "       [ 3.,  4.,  5.],\n",
       "       [ 6.,  7.,  8.],\n",
       "       [ 9., 10., 11.]])"
      ]
     },
     "execution_count": 35,
     "metadata": {},
     "output_type": "execute_result"
    }
   ],
   "source": [
    "ary"
   ]
  },
  {
   "cell_type": "markdown",
   "id": "66374118-cd0d-498a-bdbe-a8d0a243f926",
   "metadata": {},
   "source": [
    "### Remove elements"
   ]
  },
  {
   "cell_type": "code",
   "execution_count": 36,
   "id": "ec12a85e-a35b-4b7e-bdf7-ae39c4fb8f79",
   "metadata": {},
   "outputs": [
    {
     "data": {
      "text/plain": [
       "array([[ 6.,  7.,  8.],\n",
       "       [ 9., 10., 11.]])"
      ]
     },
     "execution_count": 36,
     "metadata": {},
     "output_type": "execute_result"
    }
   ],
   "source": [
    "# numpy.delete(ary, indices, axis=None)\n",
    "# indices: object that defines indices of sub-arrays to remove along the specified axis\n",
    "# axis=None: flattened\n",
    "# removing first 2 rows\n",
    "np.delete(ary, range(0, 2), axis=0)  # doesn't change in place."
   ]
  },
  {
   "cell_type": "markdown",
   "id": "3499e4b8-da6d-4240-b7f7-f89f560f6cfe",
   "metadata": {},
   "source": [
    "### Insert elements"
   ]
  },
  {
   "cell_type": "code",
   "execution_count": 37,
   "id": "86ecbfad-55ca-457a-8c12-fa4d44165f40",
   "metadata": {},
   "outputs": [
    {
     "data": {
      "text/plain": [
       "array([[10.,  0., 20.,  1.,  2., 30.],\n",
       "       [10.,  3., 20.,  4.,  5., 30.],\n",
       "       [10.,  6., 20.,  7.,  8., 30.],\n",
       "       [10.,  9., 20., 10., 11., 30.]])"
      ]
     },
     "execution_count": 37,
     "metadata": {},
     "output_type": "execute_result"
    }
   ],
   "source": [
    "# numpy.insert(ary, obj_indices, values, axis=None)\n",
    "# obj_indices: object that defines the index or indices before which values is inserted\n",
    "# axis=None: array is flattened\n",
    "# adding three new columns of values [10, 20, 30] at indexes of [0, 1, 3] respectively\n",
    "np.insert(ary, [0, 1, 3], [10, 20, 30], axis=1)"
   ]
  },
  {
   "cell_type": "code",
   "execution_count": null,
   "id": "6f929ce1-c451-4ac9-8efe-0c68dc695178",
   "metadata": {},
   "outputs": [],
   "source": []
  }
 ],
 "metadata": {
  "kernelspec": {
   "display_name": "Python 3 (ipykernel)",
   "language": "python",
   "name": "python3"
  },
  "language_info": {
   "codemirror_mode": {
    "name": "ipython",
    "version": 3
   },
   "file_extension": ".py",
   "mimetype": "text/x-python",
   "name": "python",
   "nbconvert_exporter": "python",
   "pygments_lexer": "ipython3",
   "version": "3.8.13"
  }
 },
 "nbformat": 4,
 "nbformat_minor": 5
}
