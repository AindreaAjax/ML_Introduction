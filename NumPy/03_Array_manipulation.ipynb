{
 "cells": [
  {
   "cell_type": "code",
   "execution_count": 55,
   "id": "7b4a513b-ae6e-4102-9262-baae2882d265",
   "metadata": {},
   "outputs": [],
   "source": [
    "# import statements\n",
    "import numpy as np\n",
    "from numpy.random import default_rng"
   ]
  },
  {
   "attachments": {},
   "cell_type": "markdown",
   "id": "e8392944-052a-4523-bf99-fcc56db96234",
   "metadata": {
    "tags": []
   },
   "source": [
    "# Array Manipulation "
   ]
  },
  {
   "attachments": {},
   "cell_type": "markdown",
   "id": "cb1323e7-3695-4e8d-84c4-3db99c17cd77",
   "metadata": {},
   "source": [
    "## <u>Shape manipulation "
   ]
  },
  {
   "attachments": {},
   "cell_type": "markdown",
   "id": "e0828350",
   "metadata": {},
   "source": [
    "Some array operations such as, combining or joining two or more arrays or, mathematical operations, sometimes will not work at all or will work in an unexpected way in case of dimesion mismatch. This is why manipulating array dimensions is a very important operation. "
   ]
  },
  {
   "cell_type": "code",
   "execution_count": 56,
   "id": "17d61494",
   "metadata": {},
   "outputs": [],
   "source": [
    "# random example array\n",
    "rng = default_rng()\n",
    "ary = rng.integers(low=5, high=20, size=(4, 3))"
   ]
  },
  {
   "cell_type": "code",
   "execution_count": 57,
   "id": "e47d2d3f",
   "metadata": {},
   "outputs": [
    {
     "data": {
      "text/plain": [
       "array([[ 9, 15, 14],\n",
       "       [ 8,  5, 15],\n",
       "       [19, 19,  5],\n",
       "       [17, 14, 13]])"
      ]
     },
     "execution_count": 57,
     "metadata": {},
     "output_type": "execute_result"
    }
   ],
   "source": [
    "ary"
   ]
  },
  {
   "attachments": {},
   "cell_type": "markdown",
   "id": "2ec1abd7",
   "metadata": {},
   "source": [
    "### Transpose of an array"
   ]
  },
  {
   "attachments": {},
   "cell_type": "markdown",
   "id": "5151c0ef",
   "metadata": {},
   "source": [
    "`-->` If an 'n' dimensional array has a shape of <i><b>(i[0], i[1], ... i[n-2], i[n-1])</b></i> , its transpose will have the shape of <i><b>(i[n-1], i[n-2], ... i[1], i[0])</b>. \n",
    "\n",
    "- For a 1-D array this has no effect, as a transposed vector is simply the same vector. \n",
    "- For a 2-D array, this is a standard matrix transpose.\n"
   ]
  },
  {
   "attachments": {},
   "cell_type": "markdown",
   "id": "4dbfdfb7",
   "metadata": {},
   "source": [
    "`-->` To find the transpose of an array we can use the <i>`numpy.transpose(a, axes=None)`</i>. This will Return a view of the array with axes transposed.\n",
    "\n",
    "- axes=None: reverses the order of the axes\n",
    "\n",
    "- axes=tuple of ints: a tuple of (i, j) means that, the i-th axis of 'a' will become the j-th axis of the transpose array"
   ]
  },
  {
   "cell_type": "code",
   "execution_count": 58,
   "id": "891f0c0c",
   "metadata": {},
   "outputs": [
    {
     "data": {
      "text/plain": [
       "array([[ 9,  8, 19, 17],\n",
       "       [15,  5, 19, 14],\n",
       "       [14, 15,  5, 13]])"
      ]
     },
     "execution_count": 58,
     "metadata": {},
     "output_type": "execute_result"
    }
   ],
   "source": [
    "np.transpose(ary)  # or simply, ary.transpose()"
   ]
  },
  {
   "attachments": {},
   "cell_type": "markdown",
   "id": "49d7382d-4006-4220-82aa-2f5910a211e4",
   "metadata": {},
   "source": [
    "### Reshaping"
   ]
  },
  {
   "cell_type": "code",
   "execution_count": 59,
   "id": "2aa22e66-4d26-4779-a185-69b556363884",
   "metadata": {},
   "outputs": [
    {
     "data": {
      "text/plain": [
       "array([[ 9, 15, 14,  8,  5, 15],\n",
       "       [19, 19,  5, 17, 14, 13]])"
      ]
     },
     "execution_count": 59,
     "metadata": {},
     "output_type": "execute_result"
    }
   ],
   "source": [
    "# np.reshape(a, newshape)\n",
    "# Gives a new shape to the array \"a\" without changing its data.\n",
    "# doesn't change in-place\n",
    "np.reshape(ary, (2, 6))"
   ]
  },
  {
   "attachments": {},
   "cell_type": "markdown",
   "id": "4c0cc36d-54d1-4ab6-8e5b-38ed0cf99c27",
   "metadata": {},
   "source": [
    "### Flattening"
   ]
  },
  {
   "cell_type": "code",
   "execution_count": 60,
   "id": "14b22f4d-3374-445f-a2ae-91795655880a",
   "metadata": {},
   "outputs": [
    {
     "data": {
      "text/plain": [
       "array([ 9, 15, 14,  8,  5, 15, 19, 19,  5, 17, 14, 13])"
      ]
     },
     "execution_count": 60,
     "metadata": {},
     "output_type": "execute_result"
    }
   ],
   "source": [
    "# .flatten() will return a copy of the original array\n",
    "ary.flatten()"
   ]
  },
  {
   "cell_type": "code",
   "execution_count": 61,
   "id": "4aab9875-4696-4ae3-9b06-1f840351f5f7",
   "metadata": {},
   "outputs": [
    {
     "data": {
      "text/plain": [
       "array([ 9, 15, 14,  8,  5, 15, 19, 19,  5, 17, 14, 13])"
      ]
     },
     "execution_count": 61,
     "metadata": {},
     "output_type": "execute_result"
    }
   ],
   "source": [
    "# .ravel() will show only a manipulated view\n",
    "ary.ravel()"
   ]
  },
  {
   "attachments": {},
   "cell_type": "markdown",
   "id": "77bf9086-5464-4824-8165-b2551f46b1b4",
   "metadata": {},
   "source": [
    "### Expanding"
   ]
  },
  {
   "cell_type": "code",
   "execution_count": 62,
   "id": "26c0628e",
   "metadata": {},
   "outputs": [],
   "source": [
    "# example array\n",
    "a = np.arange(1, 10).reshape(3, 3)"
   ]
  },
  {
   "cell_type": "code",
   "execution_count": 63,
   "id": "29e5ee95",
   "metadata": {},
   "outputs": [
    {
     "data": {
      "text/plain": [
       "array([[1, 2, 3],\n",
       "       [4, 5, 6],\n",
       "       [7, 8, 9]])"
      ]
     },
     "execution_count": 63,
     "metadata": {},
     "output_type": "execute_result"
    }
   ],
   "source": [
    "a"
   ]
  },
  {
   "cell_type": "code",
   "execution_count": 64,
   "id": "318bbe6f-a190-4bf7-b89e-3de8f4b2af17",
   "metadata": {},
   "outputs": [],
   "source": [
    "# Expand the shape of an array by inserting a new axis that will appear at the `axis` position in the expanded array shape.\n",
    "exp_a = np.expand_dims(a, axis=1)"
   ]
  },
  {
   "cell_type": "code",
   "execution_count": 65,
   "id": "2021da79-6a1d-4b7a-b2d9-c21675e0971f",
   "metadata": {},
   "outputs": [
    {
     "data": {
      "text/plain": [
       "array([[[1, 2, 3]],\n",
       "\n",
       "       [[4, 5, 6]],\n",
       "\n",
       "       [[7, 8, 9]]])"
      ]
     },
     "execution_count": 65,
     "metadata": {},
     "output_type": "execute_result"
    }
   ],
   "source": [
    "exp_a"
   ]
  },
  {
   "cell_type": "code",
   "execution_count": 66,
   "id": "337812d7-ac9a-446d-8bb2-a7e54f22041f",
   "metadata": {},
   "outputs": [
    {
     "data": {
      "text/plain": [
       "(3, 1, 3)"
      ]
     },
     "execution_count": 66,
     "metadata": {},
     "output_type": "execute_result"
    }
   ],
   "source": [
    "exp_a.shape"
   ]
  },
  {
   "attachments": {},
   "cell_type": "markdown",
   "id": "36704a3a-0644-4efe-b210-b8e06f51115a",
   "metadata": {},
   "source": [
    "### Squeezing"
   ]
  },
  {
   "cell_type": "code",
   "execution_count": 67,
   "id": "9215c0dc-bf3d-4d1c-b9d1-40ab199ed59f",
   "metadata": {},
   "outputs": [
    {
     "data": {
      "text/plain": [
       "array([[1, 2, 3],\n",
       "       [4, 5, 6],\n",
       "       [7, 8, 9]])"
      ]
     },
     "execution_count": 67,
     "metadata": {},
     "output_type": "execute_result"
    }
   ],
   "source": [
    "# np.squeeze(x, axis=None)\n",
    "# the opposite of expanding\n",
    "# Removes all the axes of length one from `a`\n",
    "# axis=x will remove only that particular axis but, it must have a length of 1\n",
    "np.squeeze(exp_a, axis=1)"
   ]
  },
  {
   "attachments": {},
   "cell_type": "markdown",
   "id": "90b8a610",
   "metadata": {},
   "source": [
    "## <u> Array repetition "
   ]
  },
  {
   "cell_type": "code",
   "execution_count": 68,
   "id": "c3e584f8",
   "metadata": {},
   "outputs": [],
   "source": [
    "# example array\n",
    "rp_ary = np.linspace(1, 9, 9).reshape(3, 3)"
   ]
  },
  {
   "cell_type": "code",
   "execution_count": 69,
   "id": "9b8b1897",
   "metadata": {},
   "outputs": [
    {
     "data": {
      "text/plain": [
       "array([[1., 2., 3.],\n",
       "       [4., 5., 6.],\n",
       "       [7., 8., 9.]])"
      ]
     },
     "execution_count": 69,
     "metadata": {},
     "output_type": "execute_result"
    }
   ],
   "source": [
    "rp_ary"
   ]
  },
  {
   "attachments": {},
   "cell_type": "markdown",
   "id": "cdd3abd1",
   "metadata": {},
   "source": [
    "### Repeat an Array a given number of times"
   ]
  },
  {
   "cell_type": "code",
   "execution_count": 70,
   "id": "179cc113",
   "metadata": {},
   "outputs": [
    {
     "data": {
      "text/plain": [
       "array([[1., 2., 3., 1., 2., 3.],\n",
       "       [4., 5., 6., 4., 5., 6.],\n",
       "       [7., 8., 9., 7., 8., 9.],\n",
       "       [1., 2., 3., 1., 2., 3.],\n",
       "       [4., 5., 6., 4., 5., 6.],\n",
       "       [7., 8., 9., 7., 8., 9.]])"
      ]
     },
     "execution_count": 70,
     "metadata": {},
     "output_type": "execute_result"
    }
   ],
   "source": [
    "# numpy.tile(ary, reps)\n",
    "# for reps, if we pass in a tuple, for example (4, 1) will result in repeating the array\n",
    "# 4 times along the y axix and only once along the x axis (essentially no repetition)\n",
    "np.tile(rp_ary, (2, 2))"
   ]
  },
  {
   "attachments": {},
   "cell_type": "markdown",
   "id": "0bc9337d",
   "metadata": {},
   "source": [
    "### Repeat elements of an array "
   ]
  },
  {
   "cell_type": "code",
   "execution_count": 71,
   "id": "cbda9860",
   "metadata": {},
   "outputs": [
    {
     "data": {
      "text/plain": [
       "array([[1., 2., 3.],\n",
       "       [1., 2., 3.],\n",
       "       [4., 5., 6.],\n",
       "       [4., 5., 6.],\n",
       "       [7., 8., 9.],\n",
       "       [7., 8., 9.]])"
      ]
     },
     "execution_count": 71,
     "metadata": {},
     "output_type": "execute_result"
    }
   ],
   "source": [
    "# numpy.repeat(ary, reps, axis=None)\n",
    "# axis=None will repeat the array elements in a flattened version of the array\n",
    "np.repeat(rp_ary, 2, axis=0)"
   ]
  },
  {
   "attachments": {},
   "cell_type": "markdown",
   "id": "61a9e89d",
   "metadata": {},
   "source": [
    "## <u>Broadcasting "
   ]
  },
  {
   "attachments": {},
   "cell_type": "markdown",
   "id": "82ff110a",
   "metadata": {},
   "source": [
    "Broadcasting is a mechanism that automatically matches arrays with different shapes (by temporarily converting shape of one to match the other) for element-wise operations."
   ]
  },
  {
   "attachments": {},
   "cell_type": "markdown",
   "id": "3ec253c7",
   "metadata": {},
   "source": [
    "Subject to certain constraints, the smaller array is “broadcast” across the larger array so that they have compatible shapes. Broadcasting provides a means of vectorizing array operations thus increasing the speed of execution."
   ]
  },
  {
   "attachments": {},
   "cell_type": "markdown",
   "id": "590b257c",
   "metadata": {},
   "source": [
    "Not all arrays can be broadcast. They must meet certain conditions.\n",
    "\n",
    "When operating on two arrays, NumPy compares their shapes element-wise. It starts with the trailing (i.e. rightmost) dimension and works its way left. Two dimensions are compatible when,\n",
    "- they are equal, or\n",
    "- one of them is 1.\n",
    "\n",
    "If these conditions are not met, a ValueError: operands could not be broadcast together exception is thrown, indicating that the arrays have incompatible shapes."
   ]
  },
  {
   "attachments": {},
   "cell_type": "markdown",
   "id": "f0ff2f67",
   "metadata": {},
   "source": [
    "A set of arrays is called “broadcastable” to the same shape if the above rules produce a valid result. For example, the following is a valid broadcasting operation. <img src=Broadcasting.png>"
   ]
  },
  {
   "cell_type": "code",
   "execution_count": 72,
   "id": "1ac45616",
   "metadata": {},
   "outputs": [],
   "source": [
    "a = np.arange(1, 5).reshape(2, 2)\n",
    "b = np.arange(6, 9).reshape(3, 1)\n",
    "c = 5"
   ]
  },
  {
   "attachments": {},
   "cell_type": "markdown",
   "id": "9c05642f",
   "metadata": {},
   "source": [
    "- **Example of Valid broadcasting**"
   ]
  },
  {
   "cell_type": "code",
   "execution_count": 73,
   "id": "39b5b0e9",
   "metadata": {},
   "outputs": [
    {
     "data": {
      "text/plain": [
       "array([[6, 7],\n",
       "       [8, 9]])"
      ]
     },
     "execution_count": 73,
     "metadata": {},
     "output_type": "execute_result"
    }
   ],
   "source": [
    "a + c"
   ]
  },
  {
   "attachments": {},
   "cell_type": "markdown",
   "id": "92af06cf",
   "metadata": {},
   "source": [
    "- **Example of Invalid broadcasting**"
   ]
  },
  {
   "cell_type": "code",
   "execution_count": 74,
   "id": "579b0bd5",
   "metadata": {},
   "outputs": [
    {
     "name": "stdout",
     "output_type": "stream",
     "text": [
      "operands could not be broadcast together with shapes (2,2) (3,1) \n"
     ]
    }
   ],
   "source": [
    "try:\n",
    "    a + b\n",
    "except ValueError as err_msg:\n",
    "    print(err_msg)"
   ]
  },
  {
   "attachments": {},
   "cell_type": "markdown",
   "id": "9515c640",
   "metadata": {},
   "source": [
    "**Note:** Operations such as repeating or tiling can be used to make two arrays compatible for element wise operation but it's not recommended unless absolutely necessary."
   ]
  },
  {
   "attachments": {},
   "cell_type": "markdown",
   "id": "a4b99a7b-3683-46f8-b994-75f707861ac4",
   "metadata": {},
   "source": [
    "## <u> Joining Arrays "
   ]
  },
  {
   "attachments": {},
   "cell_type": "markdown",
   "id": "f678ad55-0fdd-4790-b413-77cd2423d8e7",
   "metadata": {},
   "source": [
    "### Concatenation "
   ]
  },
  {
   "attachments": {},
   "cell_type": "markdown",
   "id": "aca5bb56-fcdb-4646-8750-bb7564065c26",
   "metadata": {},
   "source": [
    "`np.concatenate((a1, a2, ...), axis=0, out=None, dtype=None, casting=\"same_kind\")`"
   ]
  },
  {
   "cell_type": "code",
   "execution_count": 75,
   "id": "bee6ec84-f69d-43ce-a99c-d660a37ead2d",
   "metadata": {},
   "outputs": [],
   "source": [
    "# example arrays\n",
    "con_ary1 = np.linspace(1, 9, 9).reshape(3, 3)\n",
    "con_ary2 = np.linspace(10, 12, 3).reshape(1, 3)"
   ]
  },
  {
   "attachments": {},
   "cell_type": "markdown",
   "id": "818675b0-5fe6-4130-8c17-1146edf4ea20",
   "metadata": {},
   "source": [
    "- Row wise concatenation (to concatenate along axis=0, axix=1 must be equal in all of the arrays to be concatenated)"
   ]
  },
  {
   "cell_type": "code",
   "execution_count": 76,
   "id": "6db78c45",
   "metadata": {},
   "outputs": [
    {
     "data": {
      "text/plain": [
       "array([[ 1.,  2.,  3.],\n",
       "       [ 4.,  5.,  6.],\n",
       "       [ 7.,  8.,  9.],\n",
       "       [10., 11., 12.]])"
      ]
     },
     "execution_count": 76,
     "metadata": {},
     "output_type": "execute_result"
    }
   ],
   "source": [
    "np.concatenate((con_ary1, con_ary2), axis=0)"
   ]
  },
  {
   "attachments": {},
   "cell_type": "markdown",
   "id": "541c15e1-b87d-4812-a70c-47237358e9da",
   "metadata": {},
   "source": [
    "- Column wise concatenation (to concatenate along axis=1, axis=0 must be equal in all of the arrays to be concatenated)"
   ]
  },
  {
   "cell_type": "code",
   "execution_count": 77,
   "id": "2c7d3650",
   "metadata": {},
   "outputs": [
    {
     "data": {
      "text/plain": [
       "array([[ 1.,  2.,  3., 10.],\n",
       "       [ 4.,  5.,  6., 11.],\n",
       "       [ 7.,  8.,  9., 12.]])"
      ]
     },
     "execution_count": 77,
     "metadata": {},
     "output_type": "execute_result"
    }
   ],
   "source": [
    "np.concatenate((con_ary1, con_ary2.T), axis=1)"
   ]
  },
  {
   "attachments": {},
   "cell_type": "markdown",
   "id": "d5d4813f-ad7c-486a-93ab-8de8c2c05da2",
   "metadata": {
    "tags": []
   },
   "source": [
    "### Stacking "
   ]
  },
  {
   "attachments": {},
   "cell_type": "markdown",
   "id": "854d673d-621e-4f7b-82ad-2a0972cffc3f",
   "metadata": {},
   "source": [
    "To stack arrays together, all the arrays must have the same dimensions. And note that, this will add a new dimension to the stacked array. \n",
    "\n",
    "We use the `numpy.stack((tuple of arrays), axis=0)` function to perform the stacking operation. The axis parameter specifies the index of the new axis in the dimensions of the result."
   ]
  },
  {
   "cell_type": "code",
   "execution_count": 78,
   "id": "ace86f70-c87a-40da-8ee1-ceb0c1d3579f",
   "metadata": {},
   "outputs": [],
   "source": [
    "stk_ary1 = np.linspace(1, 9, 9).reshape(3, 3)\n",
    "stk_ary2 = np.linspace(10, 18, 9).reshape(3, 3)"
   ]
  },
  {
   "cell_type": "code",
   "execution_count": 79,
   "id": "90da42e9-11b4-488a-9b13-a2d19b201185",
   "metadata": {},
   "outputs": [
    {
     "data": {
      "text/plain": [
       "array([[[ 1.,  2.,  3.],\n",
       "        [10., 11., 12.]],\n",
       "\n",
       "       [[ 4.,  5.,  6.],\n",
       "        [13., 14., 15.]],\n",
       "\n",
       "       [[ 7.,  8.,  9.],\n",
       "        [16., 17., 18.]]])"
      ]
     },
     "execution_count": 79,
     "metadata": {},
     "output_type": "execute_result"
    }
   ],
   "source": [
    "np.stack((stk_ary1, stk_ary2), axis=1)"
   ]
  },
  {
   "cell_type": "code",
   "execution_count": 80,
   "id": "477e7aa6",
   "metadata": {},
   "outputs": [
    {
     "data": {
      "text/plain": [
       "(3, 2, 3)"
      ]
     },
     "execution_count": 80,
     "metadata": {},
     "output_type": "execute_result"
    }
   ],
   "source": [
    "np.stack((stk_ary1, stk_ary2), axis=1).shape"
   ]
  },
  {
   "attachments": {},
   "cell_type": "markdown",
   "id": "4ab9e08e-5950-4fb1-9e67-803517ae7ba3",
   "metadata": {
    "tags": []
   },
   "source": [
    "### Horizontal (column-wise) stacking "
   ]
  },
  {
   "attachments": {},
   "cell_type": "markdown",
   "id": "0b20effc-ecc4-4569-92de-44b0081ff57c",
   "metadata": {},
   "source": [
    "This works differently than simple stacking.\n",
    "\n",
    "`np.hstack()` will add the arrays in a column wise fashion i.e, similar to **concatenating along axis=1**."
   ]
  },
  {
   "cell_type": "code",
   "execution_count": 81,
   "id": "558b2f1a-641a-42d0-bbf8-a7cc728a0c14",
   "metadata": {},
   "outputs": [],
   "source": [
    "# example arrays\n",
    "hstk_ary1 = np.linspace(1, 9, 9).reshape(3, 3)\n",
    "hstk_ary2 = np.linspace(10, 12, 3).reshape(1, 3)"
   ]
  },
  {
   "cell_type": "code",
   "execution_count": 82,
   "id": "5a19def4-63a9-4e3c-add5-f13dda25e309",
   "metadata": {},
   "outputs": [
    {
     "data": {
      "text/plain": [
       "array([[ 1.,  2.,  3., 10.],\n",
       "       [ 4.,  5.,  6., 11.],\n",
       "       [ 7.,  8.,  9., 12.]])"
      ]
     },
     "execution_count": 82,
     "metadata": {},
     "output_type": "execute_result"
    }
   ],
   "source": [
    "np.hstack((hstk_ary1, hstk_ary2.T))"
   ]
  },
  {
   "attachments": {},
   "cell_type": "markdown",
   "id": "cf4d0699-0ff6-4083-9d86-a5c98feb7be2",
   "metadata": {},
   "source": [
    "### Vertical (row-wise) stacking "
   ]
  },
  {
   "attachments": {},
   "cell_type": "markdown",
   "id": "0e3a516b-efe2-426a-bca8-605f3c58c1b1",
   "metadata": {},
   "source": [
    "`np.vstack()` will add the arrays in a row wise fashion i.e, similar to concatenating along axis=0."
   ]
  },
  {
   "cell_type": "code",
   "execution_count": 83,
   "id": "a45b19cb-c098-4fa8-b3e3-0ac82ae326b4",
   "metadata": {},
   "outputs": [],
   "source": [
    "# example arrays\n",
    "vstk_ary1 = np.linspace(1, 9, 9).reshape(3, 3)\n",
    "vstk_ary2 = np.linspace(10, 12, 3).reshape(1, 3)"
   ]
  },
  {
   "cell_type": "code",
   "execution_count": 84,
   "id": "ada7aa85-02ac-4abc-9d89-161599812673",
   "metadata": {},
   "outputs": [
    {
     "data": {
      "text/plain": [
       "array([[ 1.,  2.,  3.],\n",
       "       [ 4.,  5.,  6.],\n",
       "       [ 7.,  8.,  9.],\n",
       "       [10., 11., 12.]])"
      ]
     },
     "execution_count": 84,
     "metadata": {},
     "output_type": "execute_result"
    }
   ],
   "source": [
    "np.vstack((vstk_ary1, vstk_ary2))"
   ]
  },
  {
   "attachments": {},
   "cell_type": "markdown",
   "id": "bae9d092-6397-4549-b5ac-88eefc3e5524",
   "metadata": {},
   "source": [
    "## <u> Splitting Arrays"
   ]
  },
  {
   "cell_type": "code",
   "execution_count": 85,
   "id": "e250b369-d53c-4906-a52d-7cc22c249ebe",
   "metadata": {},
   "outputs": [],
   "source": [
    "# example array\n",
    "sp_ary = np.linspace(0, 30, 12).reshape(4, 3)"
   ]
  },
  {
   "attachments": {},
   "cell_type": "markdown",
   "id": "ddfa263b-1b38-410a-b7a0-839ee465e462",
   "metadata": {},
   "source": [
    "### Splitting an array into multiple sub-arrays of equal length"
   ]
  },
  {
   "attachments": {},
   "cell_type": "markdown",
   "id": "6211ef6e-e838-4503-9491-e3405ec1635a",
   "metadata": {},
   "source": [
    "- **numpy.split(ary, sections, axis=0)**"
   ]
  },
  {
   "attachments": {},
   "cell_type": "markdown",
   "id": "1c824f24-e650-428f-b802-8038f9c0e782",
   "metadata": {},
   "source": [
    "If the size of the array along the specified axis is not divisible by the number of sections specified, it will throw an error."
   ]
  },
  {
   "cell_type": "code",
   "execution_count": 86,
   "id": "bcac5bb5-26c0-4e7f-87ed-942ab2b1852d",
   "metadata": {},
   "outputs": [
    {
     "data": {
      "text/plain": [
       "[array([[ 0.        ,  2.72727273,  5.45454545],\n",
       "        [ 8.18181818, 10.90909091, 13.63636364]]),\n",
       " array([[16.36363636, 19.09090909, 21.81818182],\n",
       "        [24.54545455, 27.27272727, 30.        ]])]"
      ]
     },
     "execution_count": 86,
     "metadata": {},
     "output_type": "execute_result"
    }
   ],
   "source": [
    "np.split(sp_ary, 2)"
   ]
  },
  {
   "attachments": {},
   "cell_type": "markdown",
   "id": "bf7641be-cf48-4395-8bef-bf31c16bc4e2",
   "metadata": {},
   "source": [
    "- **numpy.split_array(ary, sections, axis=0)**\n",
    "\n",
    "    - If there are more elements in the array along the defined axis after splitting then, extra elements will be discarded.\n",
    "    - If there are not enough elements in the array along the defined axis then, an empty axis will be generated in some of the splitted arrays."
   ]
  },
  {
   "cell_type": "code",
   "execution_count": 87,
   "id": "d034fee2-b411-4a0e-9700-89bbe9f960eb",
   "metadata": {},
   "outputs": [
    {
     "data": {
      "text/plain": [
       "[array([[ 0.        ],\n",
       "        [ 8.18181818],\n",
       "        [16.36363636],\n",
       "        [24.54545455]]),\n",
       " array([[ 2.72727273],\n",
       "        [10.90909091],\n",
       "        [19.09090909],\n",
       "        [27.27272727]]),\n",
       " array([[ 5.45454545],\n",
       "        [13.63636364],\n",
       "        [21.81818182],\n",
       "        [30.        ]]),\n",
       " array([], shape=(4, 0), dtype=float64)]"
      ]
     },
     "execution_count": 87,
     "metadata": {},
     "output_type": "execute_result"
    }
   ],
   "source": [
    "np.array_split(sp_ary, 4, axis=1)"
   ]
  },
  {
   "attachments": {},
   "cell_type": "markdown",
   "id": "01354508-bd96-4d9e-a227-7ba328d407d5",
   "metadata": {},
   "source": [
    "### Horizontal (column-wise) splitting "
   ]
  },
  {
   "attachments": {},
   "cell_type": "markdown",
   "id": "86a1b6c2-842b-4746-b858-753f0f3cc60d",
   "metadata": {},
   "source": [
    "**Note:** It is a must that, No of sections == No of columns"
   ]
  },
  {
   "cell_type": "code",
   "execution_count": 88,
   "id": "e3f763b8-6197-4bb5-9a81-1a571932f0bc",
   "metadata": {},
   "outputs": [
    {
     "data": {
      "text/plain": [
       "[array([[ 0.        ],\n",
       "        [ 8.18181818],\n",
       "        [16.36363636],\n",
       "        [24.54545455]]),\n",
       " array([[ 2.72727273],\n",
       "        [10.90909091],\n",
       "        [19.09090909],\n",
       "        [27.27272727]]),\n",
       " array([[ 5.45454545],\n",
       "        [13.63636364],\n",
       "        [21.81818182],\n",
       "        [30.        ]])]"
      ]
     },
     "execution_count": 88,
     "metadata": {},
     "output_type": "execute_result"
    }
   ],
   "source": [
    "# numpy.hsplit(ary, sections)\n",
    "np.hsplit(sp_ary, 3)"
   ]
  },
  {
   "attachments": {},
   "cell_type": "markdown",
   "id": "27f89a7d-a504-47cb-b354-d397fff5dbbf",
   "metadata": {},
   "source": [
    "### Vertical (row-wise) splitting  "
   ]
  },
  {
   "attachments": {},
   "cell_type": "markdown",
   "id": "3dd1241a-4d42-4576-9d3b-6509e33d6605",
   "metadata": {},
   "source": [
    "**Note:** It is a must that, No of sections == No of rows"
   ]
  },
  {
   "cell_type": "code",
   "execution_count": 89,
   "id": "f5eca7c0-9214-42d7-8af9-5721fd82099d",
   "metadata": {},
   "outputs": [
    {
     "data": {
      "text/plain": [
       "[array([[0.        , 2.72727273, 5.45454545]]),\n",
       " array([[ 8.18181818, 10.90909091, 13.63636364]]),\n",
       " array([[16.36363636, 19.09090909, 21.81818182]]),\n",
       " array([[24.54545455, 27.27272727, 30.        ]])]"
      ]
     },
     "execution_count": 89,
     "metadata": {},
     "output_type": "execute_result"
    }
   ],
   "source": [
    "# numpy.vsplit(ary, sections)\n",
    "np.vsplit(sp_ary, 4)"
   ]
  },
  {
   "attachments": {},
   "cell_type": "markdown",
   "id": "34e0e130-1afd-403d-83dc-b278fce5bf0a",
   "metadata": {},
   "source": [
    "## <u> Adding and removing elements "
   ]
  },
  {
   "cell_type": "code",
   "execution_count": 90,
   "id": "11f83f1c-3172-4346-b1b1-334270d27418",
   "metadata": {},
   "outputs": [],
   "source": [
    "ary = np.linspace(0, 11, 12).reshape(4, 3)"
   ]
  },
  {
   "cell_type": "code",
   "execution_count": 91,
   "id": "f326ccbc-44d6-4df8-99c4-463284624b73",
   "metadata": {},
   "outputs": [
    {
     "data": {
      "text/plain": [
       "array([[ 0.,  1.,  2.],\n",
       "       [ 3.,  4.,  5.],\n",
       "       [ 6.,  7.,  8.],\n",
       "       [ 9., 10., 11.]])"
      ]
     },
     "execution_count": 91,
     "metadata": {},
     "output_type": "execute_result"
    }
   ],
   "source": [
    "ary"
   ]
  },
  {
   "attachments": {},
   "cell_type": "markdown",
   "id": "66374118-cd0d-498a-bdbe-a8d0a243f926",
   "metadata": {},
   "source": [
    "### Remove elements"
   ]
  },
  {
   "cell_type": "code",
   "execution_count": 92,
   "id": "ec12a85e-a35b-4b7e-bdf7-ae39c4fb8f79",
   "metadata": {},
   "outputs": [
    {
     "data": {
      "text/plain": [
       "array([[ 6.,  7.,  8.],\n",
       "       [ 9., 10., 11.]])"
      ]
     },
     "execution_count": 92,
     "metadata": {},
     "output_type": "execute_result"
    }
   ],
   "source": [
    "# numpy.delete(ary, indices, axis=None)\n",
    "# indices: object that defines indices of sub-arrays to remove along the specified axis\n",
    "# axis=None: flattened\n",
    "# removing first 2 rows\n",
    "np.delete(ary, range(0, 2), axis=0)  # doesn't change in place."
   ]
  },
  {
   "attachments": {},
   "cell_type": "markdown",
   "id": "3499e4b8-da6d-4240-b7f7-f89f560f6cfe",
   "metadata": {},
   "source": [
    "### Insert elements"
   ]
  },
  {
   "cell_type": "code",
   "execution_count": 93,
   "id": "86ecbfad-55ca-457a-8c12-fa4d44165f40",
   "metadata": {},
   "outputs": [
    {
     "data": {
      "text/plain": [
       "array([[10.,  0., 20.,  1.,  2., 30.],\n",
       "       [10.,  3., 20.,  4.,  5., 30.],\n",
       "       [10.,  6., 20.,  7.,  8., 30.],\n",
       "       [10.,  9., 20., 10., 11., 30.]])"
      ]
     },
     "execution_count": 93,
     "metadata": {},
     "output_type": "execute_result"
    }
   ],
   "source": [
    "# numpy.insert(ary, obj_indices, values, axis=None)\n",
    "# obj_indices: object that defines the index or indices before which values is inserted\n",
    "# axis=None: array is flattened\n",
    "# adding three new columns of values [10, 20, 30] at indexes of [0, 1, 3] respectively\n",
    "np.insert(ary, [0, 1, 3], [10, 20, 30], axis=1)"
   ]
  },
  {
   "cell_type": "code",
   "execution_count": null,
   "id": "6f929ce1-c451-4ac9-8efe-0c68dc695178",
   "metadata": {},
   "outputs": [],
   "source": []
  }
 ],
 "metadata": {
  "kernelspec": {
   "display_name": "Python 3 (ipykernel)",
   "language": "python",
   "name": "python3"
  },
  "language_info": {
   "codemirror_mode": {
    "name": "ipython",
    "version": 3
   },
   "file_extension": ".py",
   "mimetype": "text/x-python",
   "name": "python",
   "nbconvert_exporter": "python",
   "pygments_lexer": "ipython3",
   "version": "3.8.16"
  }
 },
 "nbformat": 4,
 "nbformat_minor": 5
}
