{
 "cells": [
  {
   "cell_type": "markdown",
   "id": "b7bc4c07",
   "metadata": {},
   "source": [
    "# Array Manipulation"
   ]
  },
  {
   "cell_type": "markdown",
   "id": "80b4e1f2",
   "metadata": {},
   "source": [
    "**Table of contents**<a id='toc0_'></a>    \n",
    "- [<u>Shape manipulation](#toc1_)    \n",
    "  - [Transpose of an array](#toc1_1_)    \n",
    "  - [Reshaping](#toc1_2_)    \n",
    "  - [Flattening](#toc1_3_)    \n",
    "  - [Expanding](#toc1_4_)    \n",
    "  - [Squeezing](#toc1_5_)    \n",
    "- [<u> Array repetition](#toc2_)    \n",
    "  - [Repeat an Array a given number of times](#toc2_1_)    \n",
    "  - [Repeat elements of an array](#toc2_2_)    \n",
    "- [<u>Broadcasting](#toc3_)    \n",
    "- [<u> Joining Arrays](#toc4_)    \n",
    "  - [Concatenation](#toc4_1_)    \n",
    "  - [Stacking](#toc4_2_)    \n",
    "  - [Horizontal (column-wise) stacking](#toc4_3_)    \n",
    "  - [Vertical (row-wise) stacking](#toc4_4_)    \n",
    "- [<u> Splitting Arrays](#toc5_)    \n",
    "  - [Splitting an array into multiple sub-arrays of equal length](#toc5_1_)    \n",
    "  - [Horizontal (column-wise) splitting](#toc5_2_)    \n",
    "  - [Vertical (row-wise) splitting](#toc5_3_)    \n",
    "\n",
    "<!-- vscode-jupyter-toc-config\n",
    "\tnumbering=false\n",
    "\tanchor=true\n",
    "\tflat=false\n",
    "\tminLevel=2\n",
    "\tmaxLevel=4\n",
    "\t/vscode-jupyter-toc-config -->\n",
    "<!-- THIS CELL WILL BE REPLACED ON TOC UPDATE. DO NOT WRITE YOUR TEXT IN THIS CELL -->"
   ]
  },
  {
   "cell_type": "code",
   "execution_count": 3,
   "id": "85ad0b0d",
   "metadata": {},
   "outputs": [],
   "source": [
    "# import statements\n",
    "import numpy as np\n",
    "from numpy.random import default_rng"
   ]
  },
  {
   "cell_type": "markdown",
   "id": "cec0f072",
   "metadata": {},
   "source": [
    "**`Note:`** To make an array immutable i.e, read-only we can use, `arr.flags.writeable = False`."
   ]
  },
  {
   "cell_type": "markdown",
   "id": "864fa671",
   "metadata": {},
   "source": [
    "## <a id='toc1_'></a>[<u>Shape manipulation](#toc0_)"
   ]
  },
  {
   "attachments": {},
   "cell_type": "markdown",
   "id": "e0828350",
   "metadata": {},
   "source": [
    "Some array operations such as, combining or joining two or more arrays or, mathematical operations, sometimes will not work at all or will work in an unexpected way in case of dimesion mismatch. This is why manipulating array dimensions is a very important operation. "
   ]
  },
  {
   "cell_type": "code",
   "execution_count": 4,
   "id": "17d61494",
   "metadata": {},
   "outputs": [],
   "source": [
    "# random example array\n",
    "rng = default_rng()\n",
    "ary = rng.integers(low=5, high=20, size=(4, 3))"
   ]
  },
  {
   "cell_type": "code",
   "execution_count": 5,
   "id": "56c2a905",
   "metadata": {},
   "outputs": [
    {
     "data": {
      "text/plain": [
       "array([[15, 16,  9],\n",
       "       [ 9,  5,  9],\n",
       "       [18, 12, 12],\n",
       "       [12,  9, 14]])"
      ]
     },
     "execution_count": 5,
     "metadata": {},
     "output_type": "execute_result"
    }
   ],
   "source": [
    "ary"
   ]
  },
  {
   "cell_type": "markdown",
   "id": "3c919ec1",
   "metadata": {},
   "source": [
    "### <a id='toc1_1_'></a>[Transpose of an array](#toc0_)"
   ]
  },
  {
   "attachments": {},
   "cell_type": "markdown",
   "id": "5151c0ef",
   "metadata": {},
   "source": [
    "`-->` If an 'n' dimensional array has a shape of <i><b>(i[0], i[1], ... i[n-2], i[n-1])</b></i> , its transpose will have the shape of <i><b>(i[n-1], i[n-2], ... i[1], i[0])</b>. \n",
    "\n",
    "- For a 1-D array this has no effect, as a transposed vector is simply the same vector. \n",
    "- For a 2-D array, this is a standard matrix transpose.\n"
   ]
  },
  {
   "attachments": {},
   "cell_type": "markdown",
   "id": "4dbfdfb7",
   "metadata": {},
   "source": [
    "`-->` To find the transpose of an array we can use the <i>`numpy.transpose(a, axes=None)`</i>. This will Return a view of the array with axes transposed.\n",
    "\n",
    "- axes=None: reverses the order of the axes\n",
    "\n",
    "- axes=tuple of ints: a tuple of (i, j) means that, the i-th axis of 'a' will become the j-th axis of the transpose array"
   ]
  },
  {
   "cell_type": "code",
   "execution_count": 6,
   "id": "4fd236cd",
   "metadata": {},
   "outputs": [
    {
     "data": {
      "text/plain": [
       "array([[15,  9, 18, 12],\n",
       "       [16,  5, 12,  9],\n",
       "       [ 9,  9, 12, 14]])"
      ]
     },
     "execution_count": 6,
     "metadata": {},
     "output_type": "execute_result"
    }
   ],
   "source": [
    "np.transpose(ary)  # or simply, ary.transpose()"
   ]
  },
  {
   "cell_type": "markdown",
   "id": "23d1cda9",
   "metadata": {},
   "source": [
    "### <a id='toc1_2_'></a>[Reshaping](#toc0_)"
   ]
  },
  {
   "cell_type": "code",
   "execution_count": 7,
   "id": "10f9c1bf",
   "metadata": {},
   "outputs": [
    {
     "data": {
      "text/plain": [
       "array([[15, 16,  9,  9,  5,  9],\n",
       "       [18, 12, 12, 12,  9, 14]])"
      ]
     },
     "execution_count": 7,
     "metadata": {},
     "output_type": "execute_result"
    }
   ],
   "source": [
    "# np.reshape(a, newshape)\n",
    "# Gives a new shape to the array \"a\" without changing its data.\n",
    "# doesn't change in-place\n",
    "np.reshape(ary, (2, 6))"
   ]
  },
  {
   "cell_type": "markdown",
   "id": "b0fe93c3",
   "metadata": {},
   "source": [
    "### <a id='toc1_3_'></a>[Flattening](#toc0_)"
   ]
  },
  {
   "cell_type": "code",
   "execution_count": 8,
   "id": "14b22f4d-3374-445f-a2ae-91795655880a",
   "metadata": {},
   "outputs": [
    {
     "data": {
      "text/plain": [
       "array([15, 16,  9,  9,  5,  9, 18, 12, 12, 12,  9, 14])"
      ]
     },
     "execution_count": 8,
     "metadata": {},
     "output_type": "execute_result"
    }
   ],
   "source": [
    "# .flatten() will return a copy of the original array\n",
    "ary.flatten()"
   ]
  },
  {
   "cell_type": "code",
   "execution_count": 9,
   "id": "8245aeac",
   "metadata": {},
   "outputs": [
    {
     "data": {
      "text/plain": [
       "array([15, 16,  9,  9,  5,  9, 18, 12, 12, 12,  9, 14])"
      ]
     },
     "execution_count": 9,
     "metadata": {},
     "output_type": "execute_result"
    }
   ],
   "source": [
    "# .ravel() will show only a manipulated view\n",
    "ary.ravel()"
   ]
  },
  {
   "cell_type": "markdown",
   "id": "1e54c234",
   "metadata": {},
   "source": [
    "### <a id='toc1_4_'></a>[Expanding](#toc0_)"
   ]
  },
  {
   "cell_type": "code",
   "execution_count": 10,
   "id": "26c0628e",
   "metadata": {},
   "outputs": [],
   "source": [
    "# example array\n",
    "a = np.arange(1, 10).reshape(3, 3)"
   ]
  },
  {
   "cell_type": "code",
   "execution_count": 11,
   "id": "29e5ee95",
   "metadata": {},
   "outputs": [
    {
     "data": {
      "text/plain": [
       "array([[1, 2, 3],\n",
       "       [4, 5, 6],\n",
       "       [7, 8, 9]])"
      ]
     },
     "execution_count": 11,
     "metadata": {},
     "output_type": "execute_result"
    }
   ],
   "source": [
    "a"
   ]
  },
  {
   "cell_type": "code",
   "execution_count": 12,
   "id": "318bbe6f-a190-4bf7-b89e-3de8f4b2af17",
   "metadata": {},
   "outputs": [],
   "source": [
    "# Expand the shape of an array by inserting a new axis that will appear at the `axis` position \n",
    "# in the expanded array shape.\n",
    "exp_a = np.expand_dims(a, axis=1)"
   ]
  },
  {
   "cell_type": "code",
   "execution_count": 13,
   "id": "2021da79-6a1d-4b7a-b2d9-c21675e0971f",
   "metadata": {},
   "outputs": [
    {
     "data": {
      "text/plain": [
       "array([[[1, 2, 3]],\n",
       "\n",
       "       [[4, 5, 6]],\n",
       "\n",
       "       [[7, 8, 9]]])"
      ]
     },
     "execution_count": 13,
     "metadata": {},
     "output_type": "execute_result"
    }
   ],
   "source": [
    "exp_a"
   ]
  },
  {
   "cell_type": "code",
   "execution_count": 14,
   "id": "1868ae0c",
   "metadata": {},
   "outputs": [
    {
     "data": {
      "text/plain": [
       "(3, 1, 3)"
      ]
     },
     "execution_count": 14,
     "metadata": {},
     "output_type": "execute_result"
    }
   ],
   "source": [
    "exp_a.shape"
   ]
  },
  {
   "cell_type": "markdown",
   "id": "12a43b29",
   "metadata": {},
   "source": [
    "### <a id='toc1_5_'></a>[Squeezing](#toc0_)"
   ]
  },
  {
   "cell_type": "code",
   "execution_count": 15,
   "id": "0602118b",
   "metadata": {},
   "outputs": [
    {
     "data": {
      "text/plain": [
       "array([[1, 2, 3],\n",
       "       [4, 5, 6],\n",
       "       [7, 8, 9]])"
      ]
     },
     "execution_count": 15,
     "metadata": {},
     "output_type": "execute_result"
    }
   ],
   "source": [
    "# np.squeeze(x, axis=None)\n",
    "# the opposite of expanding\n",
    "# Removes all the axes of length one from `a`\n",
    "# axis=x will remove only that particular axis but, it must have a length of 1\n",
    "np.squeeze(exp_a, axis=1)"
   ]
  },
  {
   "cell_type": "markdown",
   "id": "d2eb4d41",
   "metadata": {},
   "source": [
    "## <a id='toc2_'></a>[<u> Array repetition](#toc0_)"
   ]
  },
  {
   "cell_type": "code",
   "execution_count": 16,
   "id": "c3e584f8",
   "metadata": {},
   "outputs": [],
   "source": [
    "# example array\n",
    "rp_ary = np.linspace(1, 9, 9).reshape(3, 3)"
   ]
  },
  {
   "cell_type": "code",
   "execution_count": 17,
   "id": "61eff7ab",
   "metadata": {},
   "outputs": [
    {
     "data": {
      "text/plain": [
       "array([[1., 2., 3.],\n",
       "       [4., 5., 6.],\n",
       "       [7., 8., 9.]])"
      ]
     },
     "execution_count": 17,
     "metadata": {},
     "output_type": "execute_result"
    }
   ],
   "source": [
    "rp_ary"
   ]
  },
  {
   "cell_type": "markdown",
   "id": "58636fc0",
   "metadata": {},
   "source": [
    "### <a id='toc2_1_'></a>[Repeat an Array a given number of times](#toc0_)"
   ]
  },
  {
   "cell_type": "code",
   "execution_count": 18,
   "id": "fccda306",
   "metadata": {},
   "outputs": [
    {
     "data": {
      "text/plain": [
       "array([[1., 2., 3., 1., 2., 3.],\n",
       "       [4., 5., 6., 4., 5., 6.],\n",
       "       [7., 8., 9., 7., 8., 9.],\n",
       "       [1., 2., 3., 1., 2., 3.],\n",
       "       [4., 5., 6., 4., 5., 6.],\n",
       "       [7., 8., 9., 7., 8., 9.]])"
      ]
     },
     "execution_count": 18,
     "metadata": {},
     "output_type": "execute_result"
    }
   ],
   "source": [
    "# numpy.tile(ary, reps)\n",
    "# for reps, if we pass in a tuple, for example (4, 1) will result in repeating the array\n",
    "# 4 times along the y axix and only once along the x axis (essentially no repetition)\n",
    "np.tile(rp_ary, (2, 2))"
   ]
  },
  {
   "cell_type": "markdown",
   "id": "12987762",
   "metadata": {},
   "source": [
    "### <a id='toc2_2_'></a>[Repeat elements of an array](#toc0_)"
   ]
  },
  {
   "cell_type": "code",
   "execution_count": 19,
   "id": "beaabd57",
   "metadata": {},
   "outputs": [
    {
     "data": {
      "text/plain": [
       "array([[1., 2., 3.],\n",
       "       [1., 2., 3.],\n",
       "       [4., 5., 6.],\n",
       "       [4., 5., 6.],\n",
       "       [7., 8., 9.],\n",
       "       [7., 8., 9.]])"
      ]
     },
     "execution_count": 19,
     "metadata": {},
     "output_type": "execute_result"
    }
   ],
   "source": [
    "# numpy.repeat(ary, reps, axis=None)\n",
    "# axis=None will repeat the array elements in a flattened version of the array\n",
    "np.repeat(rp_ary, 2, axis=0)"
   ]
  },
  {
   "cell_type": "markdown",
   "id": "d36c908f",
   "metadata": {},
   "source": [
    "## <a id='toc3_'></a>[<u>Broadcasting](#toc0_)"
   ]
  },
  {
   "attachments": {},
   "cell_type": "markdown",
   "id": "82ff110a",
   "metadata": {},
   "source": [
    "Broadcasting is a mechanism that automatically matches arrays with different shapes (by temporarily converting shape of one to match the other) for element-wise operations."
   ]
  },
  {
   "attachments": {},
   "cell_type": "markdown",
   "id": "3ec253c7",
   "metadata": {},
   "source": [
    "Subject to certain constraints, the smaller array is “broadcasted” across the larger array so that they have compatible shapes. Broadcasting provides a means of vectorizing array operations thus increasing the speed of execution."
   ]
  },
  {
   "attachments": {},
   "cell_type": "markdown",
   "id": "590b257c",
   "metadata": {},
   "source": [
    "`Note:` Not all arrays can be broadcasted. They must meet certain conditions.\n",
    "\n",
    "When operating on two arrays, NumPy compares their shapes element-wise. It starts with the trailing (i.e. rightmost) dimension and works its way left. Two dimensions are compatible when,\n",
    "- they are equal, or\n",
    "- one of them is 1.\n",
    "\n",
    "If these conditions are not met, a ValueError: operands could not be broadcast together exception is thrown, indicating that the arrays have incompatible shapes."
   ]
  },
  {
   "attachments": {},
   "cell_type": "markdown",
   "id": "f0ff2f67",
   "metadata": {},
   "source": [
    "A set of arrays is called “broadcastable” to the same shape if the above rules produce a valid result. For example, the following is a valid broadcasting operation. \n",
    "\n",
    "<img src=broadcasting.png>"
   ]
  },
  {
   "cell_type": "code",
   "execution_count": 20,
   "id": "1ac45616",
   "metadata": {},
   "outputs": [],
   "source": [
    "a = np.arange(1, 5).reshape(2, 2)\n",
    "b = np.arange(6, 9).reshape(3, 1)\n",
    "c = 5"
   ]
  },
  {
   "attachments": {},
   "cell_type": "markdown",
   "id": "9c05642f",
   "metadata": {},
   "source": [
    "- **Example of Valid broadcasting**"
   ]
  },
  {
   "cell_type": "code",
   "execution_count": 21,
   "id": "39b5b0e9",
   "metadata": {},
   "outputs": [
    {
     "data": {
      "text/plain": [
       "array([[6, 7],\n",
       "       [8, 9]])"
      ]
     },
     "execution_count": 21,
     "metadata": {},
     "output_type": "execute_result"
    }
   ],
   "source": [
    "a + c"
   ]
  },
  {
   "attachments": {},
   "cell_type": "markdown",
   "id": "92af06cf",
   "metadata": {},
   "source": [
    "- **Example of Invalid broadcasting**"
   ]
  },
  {
   "cell_type": "code",
   "execution_count": 22,
   "id": "579b0bd5",
   "metadata": {},
   "outputs": [
    {
     "name": "stdout",
     "output_type": "stream",
     "text": [
      "operands could not be broadcast together with shapes (2,2) (3,1) \n"
     ]
    }
   ],
   "source": [
    "try:\n",
    "    a + b\n",
    "except ValueError as err_msg:\n",
    "    print(err_msg)"
   ]
  },
  {
   "cell_type": "markdown",
   "id": "afa2f4b1",
   "metadata": {},
   "source": [
    "**Note:** Operations such as repeating or tiling can be used to make two arrays compatible for element wise operation but it's not recommended unless absolutely necessary."
   ]
  },
  {
   "cell_type": "markdown",
   "id": "703f5b53",
   "metadata": {},
   "source": [
    "## <a id='toc4_'></a>[<u> Joining Arrays](#toc0_)"
   ]
  },
  {
   "cell_type": "markdown",
   "id": "63a492c7",
   "metadata": {},
   "source": [
    "### <a id='toc4_1_'></a>[Concatenation](#toc0_)"
   ]
  },
  {
   "attachments": {},
   "cell_type": "markdown",
   "id": "aca5bb56-fcdb-4646-8750-bb7564065c26",
   "metadata": {},
   "source": [
    "`np.concatenate((a1, a2, ...), axis=0, out=None, dtype=None, casting=\"same_kind\")`"
   ]
  },
  {
   "cell_type": "code",
   "execution_count": 23,
   "id": "bee6ec84-f69d-43ce-a99c-d660a37ead2d",
   "metadata": {},
   "outputs": [],
   "source": [
    "# example arrays\n",
    "con_ary1 = np.linspace(1, 9, 9).reshape(3, 3)\n",
    "con_ary2 = np.linspace(10, 12, 3).reshape(1, 3)"
   ]
  },
  {
   "attachments": {},
   "cell_type": "markdown",
   "id": "818675b0-5fe6-4130-8c17-1146edf4ea20",
   "metadata": {},
   "source": [
    "- Row wise concatenation (to concatenate along axis=0, number of elements along axis=1 must be equal in all of the arrays to be concatenated)"
   ]
  },
  {
   "cell_type": "code",
   "execution_count": 24,
   "id": "6db78c45",
   "metadata": {},
   "outputs": [
    {
     "data": {
      "text/plain": [
       "array([[ 1.,  2.,  3.],\n",
       "       [ 4.,  5.,  6.],\n",
       "       [ 7.,  8.,  9.],\n",
       "       [10., 11., 12.]])"
      ]
     },
     "execution_count": 24,
     "metadata": {},
     "output_type": "execute_result"
    }
   ],
   "source": [
    "np.concatenate((con_ary1, con_ary2), axis=0)"
   ]
  },
  {
   "attachments": {},
   "cell_type": "markdown",
   "id": "541c15e1-b87d-4812-a70c-47237358e9da",
   "metadata": {},
   "source": [
    "- Column wise concatenation (to concatenate along axis=1, number of elements along axis=0 must be equal in all of the arrays to be concatenated)"
   ]
  },
  {
   "cell_type": "code",
   "execution_count": 25,
   "id": "ec6a5efb",
   "metadata": {},
   "outputs": [
    {
     "data": {
      "text/plain": [
       "array([[ 1.,  2.,  3., 10.],\n",
       "       [ 4.,  5.,  6., 11.],\n",
       "       [ 7.,  8.,  9., 12.]])"
      ]
     },
     "execution_count": 25,
     "metadata": {},
     "output_type": "execute_result"
    }
   ],
   "source": [
    "np.concatenate((con_ary1, con_ary2.T), axis=1)"
   ]
  },
  {
   "cell_type": "markdown",
   "id": "374d11f2",
   "metadata": {},
   "source": [
    "### <a id='toc4_2_'></a>[Stacking](#toc0_)"
   ]
  },
  {
   "attachments": {},
   "cell_type": "markdown",
   "id": "854d673d-621e-4f7b-82ad-2a0972cffc3f",
   "metadata": {},
   "source": [
    "To stack arrays together, all the arrays must have the same dimensions. And note that, this will add a new dimension to the stacked array. \n",
    "\n",
    "We use the `numpy.stack((tuple of arrays), axis=0)` function to perform the stacking operation. The axis parameter specifies the index of the new axis in the dimensions of the result."
   ]
  },
  {
   "cell_type": "code",
   "execution_count": 26,
   "id": "ace86f70-c87a-40da-8ee1-ceb0c1d3579f",
   "metadata": {},
   "outputs": [],
   "source": [
    "stk_ary1 = np.linspace(1, 9, 9).reshape(3, 3)\n",
    "stk_ary2 = np.linspace(10, 18, 9).reshape(3, 3)"
   ]
  },
  {
   "cell_type": "code",
   "execution_count": 32,
   "id": "305c9d57",
   "metadata": {},
   "outputs": [
    {
     "data": {
      "text/plain": [
       "(array([[1., 2., 3.],\n",
       "        [4., 5., 6.],\n",
       "        [7., 8., 9.]]),\n",
       " array([[10., 11., 12.],\n",
       "        [13., 14., 15.],\n",
       "        [16., 17., 18.]]))"
      ]
     },
     "execution_count": 32,
     "metadata": {},
     "output_type": "execute_result"
    }
   ],
   "source": [
    "stk_ary1, stk_ary2"
   ]
  },
  {
   "cell_type": "code",
   "execution_count": 36,
   "id": "90da42e9-11b4-488a-9b13-a2d19b201185",
   "metadata": {},
   "outputs": [],
   "source": [
    "stacked = np.stack((stk_ary1, stk_ary2), axis=1)"
   ]
  },
  {
   "cell_type": "code",
   "execution_count": 37,
   "id": "3bf52b88",
   "metadata": {},
   "outputs": [
    {
     "data": {
      "text/plain": [
       "array([[[ 1.,  2.,  3.],\n",
       "        [10., 11., 12.]],\n",
       "\n",
       "       [[ 4.,  5.,  6.],\n",
       "        [13., 14., 15.]],\n",
       "\n",
       "       [[ 7.,  8.,  9.],\n",
       "        [16., 17., 18.]]])"
      ]
     },
     "execution_count": 37,
     "metadata": {},
     "output_type": "execute_result"
    }
   ],
   "source": [
    "stacked"
   ]
  },
  {
   "cell_type": "code",
   "execution_count": 38,
   "id": "ceb6ab52",
   "metadata": {},
   "outputs": [
    {
     "data": {
      "text/plain": [
       "(3, 2, 3)"
      ]
     },
     "execution_count": 38,
     "metadata": {},
     "output_type": "execute_result"
    }
   ],
   "source": [
    "stacked.shape"
   ]
  },
  {
   "cell_type": "markdown",
   "id": "441d9009",
   "metadata": {},
   "source": [
    "### <a id='toc4_3_'></a>[Horizontal (column-wise) stacking](#toc0_)"
   ]
  },
  {
   "attachments": {},
   "cell_type": "markdown",
   "id": "0b20effc-ecc4-4569-92de-44b0081ff57c",
   "metadata": {},
   "source": [
    "This works differently than simple stacking.\n",
    "\n",
    "`np.hstack()` will add the arrays in a column wise fashion i.e, similar to **concatenating along axis=1**."
   ]
  },
  {
   "cell_type": "code",
   "execution_count": 27,
   "id": "558b2f1a-641a-42d0-bbf8-a7cc728a0c14",
   "metadata": {},
   "outputs": [],
   "source": [
    "# example arrays\n",
    "hstk_ary1 = np.linspace(1, 9, 9).reshape(3, 3)\n",
    "hstk_ary2 = np.linspace(10, 12, 3).reshape(1, 3)"
   ]
  },
  {
   "cell_type": "code",
   "execution_count": 28,
   "id": "e2ec4d23",
   "metadata": {},
   "outputs": [
    {
     "data": {
      "text/plain": [
       "array([[ 1.,  2.,  3., 10.],\n",
       "       [ 4.,  5.,  6., 11.],\n",
       "       [ 7.,  8.,  9., 12.]])"
      ]
     },
     "execution_count": 28,
     "metadata": {},
     "output_type": "execute_result"
    }
   ],
   "source": [
    "np.hstack((hstk_ary1, hstk_ary2.T))"
   ]
  },
  {
   "cell_type": "markdown",
   "id": "224a107f",
   "metadata": {},
   "source": [
    "### <a id='toc4_4_'></a>[Vertical (row-wise) stacking](#toc0_)"
   ]
  },
  {
   "attachments": {},
   "cell_type": "markdown",
   "id": "0e3a516b-efe2-426a-bca8-605f3c58c1b1",
   "metadata": {},
   "source": [
    "`np.vstack()` will add the arrays in a row wise fashion i.e, similar to concatenating along axis=0."
   ]
  },
  {
   "cell_type": "code",
   "execution_count": 29,
   "id": "a45b19cb-c098-4fa8-b3e3-0ac82ae326b4",
   "metadata": {},
   "outputs": [],
   "source": [
    "# example arrays\n",
    "vstk_ary1 = np.linspace(1, 9, 9).reshape(3, 3)\n",
    "vstk_ary2 = np.linspace(10, 12, 3).reshape(1, 3)"
   ]
  },
  {
   "cell_type": "code",
   "execution_count": 30,
   "id": "220d50f6",
   "metadata": {},
   "outputs": [
    {
     "data": {
      "text/plain": [
       "array([[ 1.,  2.,  3.],\n",
       "       [ 4.,  5.,  6.],\n",
       "       [ 7.,  8.,  9.],\n",
       "       [10., 11., 12.]])"
      ]
     },
     "execution_count": 30,
     "metadata": {},
     "output_type": "execute_result"
    }
   ],
   "source": [
    "np.vstack((vstk_ary1, vstk_ary2))"
   ]
  },
  {
   "cell_type": "markdown",
   "id": "62e23ddc",
   "metadata": {},
   "source": [
    "## <a id='toc5_'></a>[<u> Splitting Arrays](#toc0_)"
   ]
  },
  {
   "cell_type": "code",
   "execution_count": 31,
   "id": "d30825f8",
   "metadata": {},
   "outputs": [],
   "source": [
    "# example array\n",
    "sp_ary = np.linspace(0, 30, 12).reshape(4, 3)"
   ]
  },
  {
   "cell_type": "markdown",
   "id": "42de4111",
   "metadata": {},
   "source": [
    "### <a id='toc5_1_'></a>[Splitting an array into multiple sub-arrays of equal length](#toc0_)"
   ]
  },
  {
   "attachments": {},
   "cell_type": "markdown",
   "id": "6211ef6e-e838-4503-9491-e3405ec1635a",
   "metadata": {},
   "source": [
    "- **numpy.split(ary, sections, axis=0)**"
   ]
  },
  {
   "attachments": {},
   "cell_type": "markdown",
   "id": "1c824f24-e650-428f-b802-8038f9c0e782",
   "metadata": {},
   "source": [
    "If the size of the array along the specified axis is not divisible by the number of sections specified, it will throw an error."
   ]
  },
  {
   "cell_type": "code",
   "execution_count": 32,
   "id": "bcac5bb5-26c0-4e7f-87ed-942ab2b1852d",
   "metadata": {},
   "outputs": [
    {
     "data": {
      "text/plain": [
       "[array([[ 0.        ,  2.72727273,  5.45454545],\n",
       "        [ 8.18181818, 10.90909091, 13.63636364]]),\n",
       " array([[16.36363636, 19.09090909, 21.81818182],\n",
       "        [24.54545455, 27.27272727, 30.        ]])]"
      ]
     },
     "execution_count": 32,
     "metadata": {},
     "output_type": "execute_result"
    }
   ],
   "source": [
    "np.split(sp_ary, 2)"
   ]
  },
  {
   "attachments": {},
   "cell_type": "markdown",
   "id": "bf7641be-cf48-4395-8bef-bf31c16bc4e2",
   "metadata": {},
   "source": [
    "- **numpy.split_array(ary, sections, axis=0)**\n",
    "\n",
    "    - If there are more elements in the array along the defined axis after splitting then, extra elements will be discarded.\n",
    "    - If there are not enough elements in the array along the defined axis then, an empty axis will be generated in some of the splitted arrays."
   ]
  },
  {
   "cell_type": "code",
   "execution_count": 33,
   "id": "61b335ae",
   "metadata": {},
   "outputs": [
    {
     "data": {
      "text/plain": [
       "[array([[ 0.        ],\n",
       "        [ 8.18181818],\n",
       "        [16.36363636],\n",
       "        [24.54545455]]),\n",
       " array([[ 2.72727273],\n",
       "        [10.90909091],\n",
       "        [19.09090909],\n",
       "        [27.27272727]]),\n",
       " array([[ 5.45454545],\n",
       "        [13.63636364],\n",
       "        [21.81818182],\n",
       "        [30.        ]]),\n",
       " array([], shape=(4, 0), dtype=float64)]"
      ]
     },
     "execution_count": 33,
     "metadata": {},
     "output_type": "execute_result"
    }
   ],
   "source": [
    "np.array_split(sp_ary, 4, axis=1)"
   ]
  },
  {
   "cell_type": "markdown",
   "id": "c680acae",
   "metadata": {},
   "source": [
    "### <a id='toc5_2_'></a>[Horizontal (column-wise) splitting](#toc0_)"
   ]
  },
  {
   "attachments": {},
   "cell_type": "markdown",
   "id": "86a1b6c2-842b-4746-b858-753f0f3cc60d",
   "metadata": {},
   "source": [
    "**Note:** It is a must that, No of sections == No of columns"
   ]
  },
  {
   "cell_type": "code",
   "execution_count": 34,
   "id": "f7c87819",
   "metadata": {},
   "outputs": [
    {
     "data": {
      "text/plain": [
       "[array([[ 0.        ],\n",
       "        [ 8.18181818],\n",
       "        [16.36363636],\n",
       "        [24.54545455]]),\n",
       " array([[ 2.72727273],\n",
       "        [10.90909091],\n",
       "        [19.09090909],\n",
       "        [27.27272727]]),\n",
       " array([[ 5.45454545],\n",
       "        [13.63636364],\n",
       "        [21.81818182],\n",
       "        [30.        ]])]"
      ]
     },
     "execution_count": 34,
     "metadata": {},
     "output_type": "execute_result"
    }
   ],
   "source": [
    "# numpy.hsplit(ary, sections)\n",
    "np.hsplit(sp_ary, 3)"
   ]
  },
  {
   "cell_type": "markdown",
   "id": "75ebbe99",
   "metadata": {},
   "source": [
    "### <a id='toc5_3_'></a>[Vertical (row-wise) splitting](#toc0_)"
   ]
  },
  {
   "attachments": {},
   "cell_type": "markdown",
   "id": "3dd1241a-4d42-4576-9d3b-6509e33d6605",
   "metadata": {},
   "source": [
    "**Note:** It is a must that, No of sections == No of rows"
   ]
  },
  {
   "cell_type": "code",
   "execution_count": 35,
   "id": "41577e08",
   "metadata": {},
   "outputs": [
    {
     "data": {
      "text/plain": [
       "[array([[0.        , 2.72727273, 5.45454545]]),\n",
       " array([[ 8.18181818, 10.90909091, 13.63636364]]),\n",
       " array([[16.36363636, 19.09090909, 21.81818182]]),\n",
       " array([[24.54545455, 27.27272727, 30.        ]])]"
      ]
     },
     "execution_count": 35,
     "metadata": {},
     "output_type": "execute_result"
    }
   ],
   "source": [
    "# numpy.vsplit(ary, sections)\n",
    "np.vsplit(sp_ary, 4)"
   ]
  },
  {
   "cell_type": "code",
   "execution_count": null,
   "id": "ce00b987",
   "metadata": {},
   "outputs": [],
   "source": []
  }
 ],
 "metadata": {
  "kernelspec": {
   "display_name": "Python 3 (ipykernel)",
   "language": "python",
   "name": "python3"
  },
  "language_info": {
   "codemirror_mode": {
    "name": "ipython",
    "version": 3
   },
   "file_extension": ".py",
   "mimetype": "text/x-python",
   "name": "python",
   "nbconvert_exporter": "python",
   "pygments_lexer": "ipython3",
   "version": "3.11.4"
  }
 },
 "nbformat": 4,
 "nbformat_minor": 5
}
